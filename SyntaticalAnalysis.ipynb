{
 "cells": [
  {
   "cell_type": "code",
   "execution_count": 4,
   "id": "7027a820-e77f-43c7-b08a-eaa87c3e64ee",
   "metadata": {},
   "outputs": [
    {
     "name": "stderr",
     "output_type": "stream",
     "text": [
      "[nltk_data] Downloading package punkt to\n",
      "[nltk_data]     C:\\Users\\user\\AppData\\Roaming\\nltk_data...\n",
      "[nltk_data]   Package punkt is already up-to-date!\n",
      "[nltk_data] Downloading package punkt_tab to\n",
      "[nltk_data]     C:\\Users\\user\\AppData\\Roaming\\nltk_data...\n",
      "[nltk_data]   Package punkt_tab is already up-to-date!\n"
     ]
    },
    {
     "data": {
      "text/plain": [
       "True"
      ]
     },
     "execution_count": 4,
     "metadata": {},
     "output_type": "execute_result"
    }
   ],
   "source": [
    "import nltk\n",
    "nltk.download('punkt')\n",
    "nltk.download('punkt_tab')"
   ]
  },
  {
   "cell_type": "code",
   "execution_count": 5,
   "id": "8dbbf54c-56d0-4692-9205-89878a62dd6a",
   "metadata": {},
   "outputs": [],
   "source": [
    "sentence=\"Learning tokenization for the first time\""
   ]
  },
  {
   "cell_type": "markdown",
   "id": "c0ec75a0-f7d9-4fd2-84ba-397ea94900ee",
   "metadata": {},
   "source": [
    "### TOKENIZATION"
   ]
  },
  {
   "cell_type": "code",
   "execution_count": 6,
   "id": "a275c0f8-797b-4c85-99b7-d28e868b1598",
   "metadata": {},
   "outputs": [
    {
     "name": "stdout",
     "output_type": "stream",
     "text": [
      "Sentence in tokens:  ['Learning', 'tokenization', 'for', 'the', 'first', 'time']\n"
     ]
    }
   ],
   "source": [
    "tokens=nltk.word_tokenize(sentence)\n",
    "print(\"Sentence in tokens: \",tokens)"
   ]
  },
  {
   "cell_type": "code",
   "execution_count": 7,
   "id": "39249059-c446-49bc-9862-4fa2697559ee",
   "metadata": {},
   "outputs": [],
   "source": [
    "paragraph=\"You're a backend developer primarily working with **Node.js**, and you're currently learning **NLP** using **NLTK**. You recently started with **syntactic processing** and have now moved to **semantics and tokenization**. You're also working on **sentiment analysis and emotion detection** using **LSTMs, Transformers, and VADER**. Besides NLP, you're interested in **cloud technologies**, **problem-solving with DSA**, and **hands-on JavaScript & React**. You’re also involved in **cybersecurity**, having received a **Cisco CyberOps scholarship**. Additionally, you're applying for various opportunities like the **Airbnb Engineering Apprenticeship** and a **Sankhyana data science internship** while writing your **attachment report**. 🚀\""
   ]
  },
  {
   "cell_type": "code",
   "execution_count": 8,
   "id": "0047762a-5011-49fc-bf8a-c1d517d44529",
   "metadata": {},
   "outputs": [
    {
     "name": "stdout",
     "output_type": "stream",
     "text": [
      "Requirement already satisfied: contractions in d:\\annaconda\\lib\\site-packages (0.1.73)\n",
      "Requirement already satisfied: textsearch>=0.0.21 in d:\\annaconda\\lib\\site-packages (from contractions) (0.0.24)\n",
      "Requirement already satisfied: anyascii in d:\\annaconda\\lib\\site-packages (from textsearch>=0.0.21->contractions) (0.3.2)\n",
      "Requirement already satisfied: pyahocorasick in d:\\annaconda\\lib\\site-packages (from textsearch>=0.0.21->contractions) (2.1.0)\n"
     ]
    },
    {
     "name": "stderr",
     "output_type": "stream",
     "text": [
      "\n",
      "[notice] A new release of pip is available: 24.2 -> 25.0.1\n",
      "[notice] To update, run: python.exe -m pip install --upgrade pip\n"
     ]
    }
   ],
   "source": [
    "!pip install contractions\n"
   ]
  },
  {
   "cell_type": "code",
   "execution_count": 9,
   "id": "418f2eca-2fb7-4727-b50e-f2bb9c895ed3",
   "metadata": {},
   "outputs": [],
   "source": [
    "import contractions"
   ]
  },
  {
   "cell_type": "code",
   "execution_count": 10,
   "id": "37fbeea6-7966-41e2-91d3-dbb1382cfd54",
   "metadata": {},
   "outputs": [
    {
     "name": "stdout",
     "output_type": "stream",
     "text": [
      "You are a backend developer primarily working with **Node.js**, and you are currently learning **NLP** using **NLTK**. You recently started with **syntactic processing** and have now moved to **semantics and tokenization**. You are also working on **sentiment analysis and emotion detection** using **LSTMs, Transformers, and VADER**. Besides NLP, you are interested in **cloud technologies**, **problem-solving with DSA**, and **hands-on JavaScript & React**. You are also involved in **cybersecurity**, having received a **Cisco CyberOps scholarship**. Additionally, you are applying for various opportunities like the **Airbnb Engineering Apprenticeship** and a **Sankhyana data science internship** while writing your **attachment report**. 🚀\n"
     ]
    }
   ],
   "source": [
    "expanded_paragraph = contractions.fix(paragraph)\n",
    "print(expanded_paragraph)"
   ]
  },
  {
   "cell_type": "code",
   "execution_count": 11,
   "id": "2067aced-ff8c-4dc0-9434-831efd5377a3",
   "metadata": {},
   "outputs": [
    {
     "name": "stdout",
     "output_type": "stream",
     "text": [
      "Paragraph tokens:  ['You', 'are', 'a', 'backend', 'developer', 'primarily', 'working', 'with', '*', '*', 'Node.js', '*', '*', ',', 'and', 'you', 'are', 'currently', 'learning', '*', '*', 'NLP', '*', '*', 'using', '*', '*', 'NLTK', '*', '*', '.', 'You', 'recently', 'started', 'with', '*', '*', 'syntactic', 'processing', '*', '*', 'and', 'have', 'now', 'moved', 'to', '*', '*', 'semantics', 'and', 'tokenization', '*', '*', '.', 'You', 'are', 'also', 'working', 'on', '*', '*', 'sentiment', 'analysis', 'and', 'emotion', 'detection', '*', '*', 'using', '*', '*', 'LSTMs', ',', 'Transformers', ',', 'and', 'VADER', '*', '*', '.', 'Besides', 'NLP', ',', 'you', 'are', 'interested', 'in', '*', '*', 'cloud', 'technologies', '*', '*', ',', '*', '*', 'problem-solving', 'with', 'DSA', '*', '*', ',', 'and', '*', '*', 'hands-on', 'JavaScript', '&', 'React', '*', '*', '.', 'You', 'are', 'also', 'involved', 'in', '*', '*', 'cybersecurity', '*', '*', ',', 'having', 'received', 'a', '*', '*', 'Cisco', 'CyberOps', 'scholarship', '*', '*', '.', 'Additionally', ',', 'you', 'are', 'applying', 'for', 'various', 'opportunities', 'like', 'the', '*', '*', 'Airbnb', 'Engineering', 'Apprenticeship', '*', '*', 'and', 'a', '*', '*', 'Sankhyana', 'data', 'science', 'internship', '*', '*', 'while', 'writing', 'your', '*', '*', 'attachment', 'report', '*', '*', '.', '🚀']\n"
     ]
    }
   ],
   "source": [
    "pgTokens=nltk.word_tokenize(expanded_paragraph)\n",
    "print('Paragraph tokens: ',pgTokens)"
   ]
  },
  {
   "cell_type": "code",
   "execution_count": 44,
   "id": "eb356984-923f-44a1-89db-26a04f965325",
   "metadata": {},
   "outputs": [],
   "source": [
    "clean_tokens = [word for word in pgTokens if word not in [\"*\", \",\", \".\"]]\n"
   ]
  },
  {
   "cell_type": "code",
   "execution_count": 45,
   "id": "be41c921-9d88-4473-b330-3c1130b51a81",
   "metadata": {},
   "outputs": [
    {
     "name": "stdout",
     "output_type": "stream",
     "text": [
      "['You', 'are', 'a', 'backend', 'developer', 'primarily', 'working', 'with', 'Node.js', 'and', 'you', 'are', 'currently', 'learning', 'NLP', 'using', 'NLTK', 'You', 'recently', 'started', 'with', 'syntactic', 'processing', 'and', 'have', 'now', 'moved', 'to', 'semantics', 'and', 'tokenization', 'You', 'are', 'also', 'working', 'on', 'sentiment', 'analysis', 'and', 'emotion', 'detection', 'using', 'LSTMs', 'Transformers', 'and', 'VADER', 'Besides', 'NLP', 'you', 'are', 'interested', 'in', 'cloud', 'technologies', 'problem-solving', 'with', 'DSA', 'and', 'hands-on', 'JavaScript', '&', 'React', 'You', 'are', 'also', 'involved', 'in', 'cybersecurity', 'having', 'received', 'a', 'Cisco', 'CyberOps', 'scholarship', 'Additionally', 'you', 'are', 'applying', 'for', 'various', 'opportunities', 'like', 'the', 'Airbnb', 'Engineering', 'Apprenticeship', 'and', 'a', 'Sankhyana', 'data', 'science', 'internship', 'while', 'writing', 'your', 'attachment', 'report', '🚀']\n"
     ]
    }
   ],
   "source": [
    "print(clean_tokens)"
   ]
  },
  {
   "cell_type": "markdown",
   "id": "e4b51002-dfdf-4fc1-894a-e6a99a209499",
   "metadata": {},
   "source": [
    "### REMOVING STOPWORDS"
   ]
  },
  {
   "cell_type": "code",
   "execution_count": 12,
   "id": "3daa5c2d-36ef-4fee-a79e-07f1c23c3bc8",
   "metadata": {},
   "outputs": [],
   "source": [
    "from nltk.corpus import stopwords"
   ]
  },
  {
   "cell_type": "code",
   "execution_count": 13,
   "id": "7c3b897e-723a-4bbe-9f21-6a3d7b5c4a5c",
   "metadata": {},
   "outputs": [
    {
     "name": "stderr",
     "output_type": "stream",
     "text": [
      "[nltk_data] Downloading package stopwords to\n",
      "[nltk_data]     C:\\Users\\user\\AppData\\Roaming\\nltk_data...\n",
      "[nltk_data]   Package stopwords is already up-to-date!\n"
     ]
    },
    {
     "data": {
      "text/plain": [
       "True"
      ]
     },
     "execution_count": 13,
     "metadata": {},
     "output_type": "execute_result"
    }
   ],
   "source": [
    "nltk.download('stopwords')\n"
   ]
  },
  {
   "cell_type": "code",
   "execution_count": 14,
   "id": "4d15f75a-0737-4016-89ab-33069b072b11",
   "metadata": {},
   "outputs": [],
   "source": [
    "filteredsentTokens=[word for word in tokens if word.lower() not in stopwords.words('english')]"
   ]
  },
  {
   "cell_type": "code",
   "execution_count": 15,
   "id": "a3ed4909-8d50-4ef4-ba36-e0875e42ca87",
   "metadata": {},
   "outputs": [
    {
     "name": "stdout",
     "output_type": "stream",
     "text": [
      "Sentence without stopwords: ['Learning', 'tokenization', 'first', 'time']\n"
     ]
    }
   ],
   "source": [
    "print(\"Sentence without stopwords:\",filteredsentTokens)"
   ]
  },
  {
   "cell_type": "code",
   "execution_count": 46,
   "id": "6d0bd3fb-811d-4c92-b042-cc4309546392",
   "metadata": {},
   "outputs": [
    {
     "name": "stdout",
     "output_type": "stream",
     "text": [
      "Paragraph without stopwords:  ['backend', 'developer', 'primarily', 'working', 'Node.js', 'currently', 'learning', 'NLP', 'using', 'NLTK', 'recently', 'started', 'syntactic', 'processing', 'moved', 'semantics', 'tokenization', 'also', 'working', 'sentiment', 'analysis', 'emotion', 'detection', 'using', 'LSTMs', 'Transformers', 'VADER', 'Besides', 'NLP', 'interested', 'cloud', 'technologies', 'problem-solving', 'DSA', 'hands-on', 'JavaScript', '&', 'React', 'also', 'involved', 'cybersecurity', 'received', 'Cisco', 'CyberOps', 'scholarship', 'Additionally', 'applying', 'various', 'opportunities', 'like', 'Airbnb', 'Engineering', 'Apprenticeship', 'Sankhyana', 'data', 'science', 'internship', 'writing', 'attachment', 'report', '🚀']\n"
     ]
    }
   ],
   "source": [
    "pgFilteredTokens=[word for word in clean_tokens if word.lower() not in stopwords.words('english')]\n",
    "print(\"Paragraph without stopwords: \",pgFilteredTokens)"
   ]
  },
  {
   "cell_type": "markdown",
   "id": "87a618a2-f1f3-431f-a89a-e6e34a2ac257",
   "metadata": {},
   "source": [
    "#### ALL AVAILABLE STOPWORDS"
   ]
  },
  {
   "cell_type": "code",
   "execution_count": 17,
   "id": "b9a99f4f-f6fc-43ab-a1d9-465bb8cf8c32",
   "metadata": {},
   "outputs": [
    {
     "name": "stdout",
     "output_type": "stream",
     "text": [
      "['a', 'about', 'above', 'after', 'again', 'against', 'ain', 'all', 'am', 'an', 'and', 'any', 'are', 'aren', \"aren't\", 'as', 'at', 'be', 'because', 'been', 'before', 'being', 'below', 'between', 'both', 'but', 'by', 'can', 'couldn', \"couldn't\", 'd', 'did', 'didn', \"didn't\", 'do', 'does', 'doesn', \"doesn't\", 'doing', 'don', \"don't\", 'down', 'during', 'each', 'few', 'for', 'from', 'further', 'had', 'hadn', \"hadn't\", 'has', 'hasn', \"hasn't\", 'have', 'haven', \"haven't\", 'having', 'he', \"he'd\", \"he'll\", 'her', 'here', 'hers', 'herself', \"he's\", 'him', 'himself', 'his', 'how', 'i', \"i'd\", 'if', \"i'll\", \"i'm\", 'in', 'into', 'is', 'isn', \"isn't\", 'it', \"it'd\", \"it'll\", \"it's\", 'its', 'itself', \"i've\", 'just', 'll', 'm', 'ma', 'me', 'mightn', \"mightn't\", 'more', 'most', 'mustn', \"mustn't\", 'my', 'myself', 'needn', \"needn't\", 'no', 'nor', 'not', 'now', 'o', 'of', 'off', 'on', 'once', 'only', 'or', 'other', 'our', 'ours', 'ourselves', 'out', 'over', 'own', 're', 's', 'same', 'shan', \"shan't\", 'she', \"she'd\", \"she'll\", \"she's\", 'should', 'shouldn', \"shouldn't\", \"should've\", 'so', 'some', 'such', 't', 'than', 'that', \"that'll\", 'the', 'their', 'theirs', 'them', 'themselves', 'then', 'there', 'these', 'they', \"they'd\", \"they'll\", \"they're\", \"they've\", 'this', 'those', 'through', 'to', 'too', 'under', 'until', 'up', 've', 'very', 'was', 'wasn', \"wasn't\", 'we', \"we'd\", \"we'll\", \"we're\", 'were', 'weren', \"weren't\", \"we've\", 'what', 'when', 'where', 'which', 'while', 'who', 'whom', 'why', 'will', 'with', 'won', \"won't\", 'wouldn', \"wouldn't\", 'y', 'you', \"you'd\", \"you'll\", 'your', \"you're\", 'yours', 'yourself', 'yourselves', \"you've\"]\n"
     ]
    }
   ],
   "source": [
    "print(stopwords.words('english'))"
   ]
  },
  {
   "cell_type": "markdown",
   "id": "1516ee87-b508-4884-9d60-210baa610ab9",
   "metadata": {},
   "source": [
    "### LEMMATIZATION"
   ]
  },
  {
   "cell_type": "code",
   "execution_count": 18,
   "id": "9502b393-7e04-49da-bdac-2414298e980c",
   "metadata": {},
   "outputs": [],
   "source": [
    "from nltk.stem import WordNetLemmatizer\n",
    "from nltk.corpus import wordnet"
   ]
  },
  {
   "cell_type": "code",
   "execution_count": 19,
   "id": "16e53923-1ccd-471f-aaf8-db4ae2ccaeb2",
   "metadata": {},
   "outputs": [],
   "source": [
    "lemmatizer=WordNetLemmatizer()"
   ]
  },
  {
   "cell_type": "code",
   "execution_count": 20,
   "id": "41c5f36e-5641-47b6-9b23-35f94176b21b",
   "metadata": {},
   "outputs": [
    {
     "name": "stderr",
     "output_type": "stream",
     "text": [
      "[nltk_data] Downloading package averaged_perceptron_tagger to\n",
      "[nltk_data]     C:\\Users\\user\\AppData\\Roaming\\nltk_data...\n",
      "[nltk_data]   Package averaged_perceptron_tagger is already up-to-\n",
      "[nltk_data]       date!\n"
     ]
    },
    {
     "data": {
      "text/plain": [
       "True"
      ]
     },
     "execution_count": 20,
     "metadata": {},
     "output_type": "execute_result"
    }
   ],
   "source": [
    "nltk.download('averaged_perceptron_tagger')"
   ]
  },
  {
   "cell_type": "code",
   "execution_count": 22,
   "id": "b0065b4c-a212-4fb2-9dd3-d10260c905a9",
   "metadata": {},
   "outputs": [
    {
     "name": "stderr",
     "output_type": "stream",
     "text": [
      "[nltk_data] Downloading package averaged_perceptron_tagger_eng to\n",
      "[nltk_data]     C:\\Users\\user\\AppData\\Roaming\\nltk_data...\n",
      "[nltk_data]   Unzipping taggers\\averaged_perceptron_tagger_eng.zip.\n"
     ]
    },
    {
     "data": {
      "text/plain": [
       "True"
      ]
     },
     "execution_count": 22,
     "metadata": {},
     "output_type": "execute_result"
    }
   ],
   "source": [
    "nltk.download('averaged_perceptron_tagger_eng')"
   ]
  },
  {
   "cell_type": "code",
   "execution_count": 25,
   "id": "089baacc-a7f0-43cb-be2d-9b3a2c905f55",
   "metadata": {},
   "outputs": [
    {
     "name": "stderr",
     "output_type": "stream",
     "text": [
      "[nltk_data] Downloading package wordnet to\n",
      "[nltk_data]     C:\\Users\\user\\AppData\\Roaming\\nltk_data...\n"
     ]
    },
    {
     "data": {
      "text/plain": [
       "True"
      ]
     },
     "execution_count": 25,
     "metadata": {},
     "output_type": "execute_result"
    }
   ],
   "source": [
    "nltk.download('wordnet')"
   ]
  },
  {
   "cell_type": "code",
   "execution_count": 32,
   "id": "89cec3fe-485e-47a4-9e13-d42d4209e570",
   "metadata": {},
   "outputs": [
    {
     "name": "stderr",
     "output_type": "stream",
     "text": [
      "[nltk_data] Downloading package omw-1.4 to\n",
      "[nltk_data]     C:\\Users\\user\\AppData\\Roaming\\nltk_data...\n"
     ]
    },
    {
     "data": {
      "text/plain": [
       "True"
      ]
     },
     "execution_count": 32,
     "metadata": {},
     "output_type": "execute_result"
    }
   ],
   "source": [
    "nltk.download('omw-1.4')"
   ]
  },
  {
   "cell_type": "code",
   "execution_count": 23,
   "id": "0017b250-c615-4667-b78f-730b85d8c06f",
   "metadata": {},
   "outputs": [
    {
     "name": "stdout",
     "output_type": "stream",
     "text": [
      "[('Learning', 'VBG'), ('tokenization', 'NN'), ('for', 'IN'), ('the', 'DT'), ('first', 'JJ'), ('time', 'NN')]\n"
     ]
    }
   ],
   "source": [
    "posTags=nltk.pos_tag(tokens)\n",
    "print(posTags)"
   ]
  },
  {
   "cell_type": "code",
   "execution_count": 47,
   "id": "430ea784-3981-47b2-9201-5d3418d7a3a2",
   "metadata": {},
   "outputs": [
    {
     "name": "stdout",
     "output_type": "stream",
     "text": [
      "[('backend', 'NN'), ('developer', 'NN'), ('primarily', 'RB'), ('working', 'VBG'), ('Node.js', 'NNP'), ('currently', 'RB'), ('learning', 'VBG'), ('NLP', 'NNP'), ('using', 'VBG'), ('NLTK', 'NNP'), ('recently', 'RB'), ('started', 'VBD'), ('syntactic', 'JJ'), ('processing', 'NN'), ('moved', 'VBD'), ('semantics', 'NNS'), ('tokenization', 'NN'), ('also', 'RB'), ('working', 'VBG'), ('sentiment', 'NN'), ('analysis', 'NN'), ('emotion', 'NN'), ('detection', 'NN'), ('using', 'VBG'), ('LSTMs', 'NNP'), ('Transformers', 'NNP'), ('VADER', 'NNP'), ('Besides', 'NNP'), ('NLP', 'NNP'), ('interested', 'JJ'), ('cloud', 'NN'), ('technologies', 'NNS'), ('problem-solving', 'JJ'), ('DSA', 'NNP'), ('hands-on', 'NN'), ('JavaScript', 'NNP'), ('&', 'CC'), ('React', 'NNP'), ('also', 'RB'), ('involved', 'VBD'), ('cybersecurity', 'NN'), ('received', 'VBN'), ('Cisco', 'NNP'), ('CyberOps', 'NNP'), ('scholarship', 'NN'), ('Additionally', 'NNP'), ('applying', 'VBG'), ('various', 'JJ'), ('opportunities', 'NNS'), ('like', 'IN'), ('Airbnb', 'NNP'), ('Engineering', 'NNP'), ('Apprenticeship', 'NNP'), ('Sankhyana', 'NNP'), ('data', 'NNS'), ('science', 'NN'), ('internship', 'NN'), ('writing', 'VBG'), ('attachment', 'JJ'), ('report', 'NN'), ('🚀', 'NN')]\n"
     ]
    }
   ],
   "source": [
    "pgTags=nltk.pos_tag(pgFilteredTokens)\n",
    "print(pgTags)"
   ]
  },
  {
   "cell_type": "code",
   "execution_count": 48,
   "id": "a31b0d65-7973-4763-964a-6bbfdddb0269",
   "metadata": {},
   "outputs": [],
   "source": [
    "def get_wordnet_pos(tag):\n",
    "    if tag.startswith('J'):\n",
    "        return wordnet.ADJ  # Adjective\n",
    "    elif tag.startswith('V'):\n",
    "        return wordnet.VERB  # Verb\n",
    "    elif tag.startswith('N'):\n",
    "        return wordnet.NOUN  # Noun\n",
    "    elif tag.startswith('R'):\n",
    "        return wordnet.ADV  # Adverb\n",
    "    else:\n",
    "        return wordnet.NOUN  # Default to noun"
   ]
  },
  {
   "cell_type": "code",
   "execution_count": 34,
   "id": "d8a331e8-742e-4386-8f63-9673340233fd",
   "metadata": {},
   "outputs": [
    {
     "name": "stdout",
     "output_type": "stream",
     "text": [
      "Lemmatized Sentence: ['Learning', 'tokenization', 'for', 'the', 'first', 'time']\n"
     ]
    }
   ],
   "source": [
    "lemmatized_tokens = [lemmatizer.lemmatize(word, get_wordnet_pos(pos)) for word, pos in posTags]\n",
    "\n",
    "print(\"Lemmatized Sentence:\", (lemmatized_tokens))"
   ]
  },
  {
   "cell_type": "code",
   "execution_count": 49,
   "id": "d78d25db-ffbe-465e-9032-19b765dbc97d",
   "metadata": {},
   "outputs": [
    {
     "name": "stdout",
     "output_type": "stream",
     "text": [
      "Lemmatized Paragraph:  ['backend', 'developer', 'primarily', 'work', 'Node.js', 'currently', 'learn', 'NLP', 'use', 'NLTK', 'recently', 'start', 'syntactic', 'processing', 'move', 'semantics', 'tokenization', 'also', 'work', 'sentiment', 'analysis', 'emotion', 'detection', 'use', 'LSTMs', 'Transformers', 'VADER', 'Besides', 'NLP', 'interested', 'cloud', 'technology', 'problem-solving', 'DSA', 'hands-on', 'JavaScript', '&', 'React', 'also', 'involve', 'cybersecurity', 'receive', 'Cisco', 'CyberOps', 'scholarship', 'Additionally', 'apply', 'various', 'opportunity', 'like', 'Airbnb', 'Engineering', 'Apprenticeship', 'Sankhyana', 'data', 'science', 'internship', 'write', 'attachment', 'report', '🚀']\n"
     ]
    }
   ],
   "source": [
    "pgLemmatized=[lemmatizer.lemmatize(word,get_wordnet_pos(pos)) for word, pos in pgTags]\n",
    "print(\"Lemmatized Paragraph: \", pgLemmatized)"
   ]
  },
  {
   "cell_type": "markdown",
   "id": "f4e1e437-e017-4ed7-a39d-3eb82c967ce1",
   "metadata": {},
   "source": [
    "### NAMED ENTITY RECOGNITION"
   ]
  },
  {
   "cell_type": "code",
   "execution_count": 37,
   "id": "77ada932-ef28-49ca-a96f-1bd791e26970",
   "metadata": {},
   "outputs": [],
   "source": [
    "from nltk import ne_chunk"
   ]
  },
  {
   "cell_type": "code",
   "execution_count": 39,
   "id": "884c1e3d-df07-4b90-8332-34a610693c2d",
   "metadata": {},
   "outputs": [
    {
     "name": "stderr",
     "output_type": "stream",
     "text": [
      "[nltk_data] Downloading package maxent_ne_chunker to\n",
      "[nltk_data]     C:\\Users\\user\\AppData\\Roaming\\nltk_data...\n",
      "[nltk_data]   Unzipping chunkers\\maxent_ne_chunker.zip.\n",
      "[nltk_data] Downloading package words to\n",
      "[nltk_data]     C:\\Users\\user\\AppData\\Roaming\\nltk_data...\n",
      "[nltk_data]   Unzipping corpora\\words.zip.\n"
     ]
    },
    {
     "data": {
      "text/plain": [
       "True"
      ]
     },
     "execution_count": 39,
     "metadata": {},
     "output_type": "execute_result"
    }
   ],
   "source": [
    "nltk.download('maxent_ne_chunker')\n",
    "nltk.download('words')"
   ]
  },
  {
   "cell_type": "code",
   "execution_count": 41,
   "id": "c61fc008-af4a-42b0-bda8-a3b8d2c46bcc",
   "metadata": {},
   "outputs": [
    {
     "name": "stderr",
     "output_type": "stream",
     "text": [
      "[nltk_data] Downloading package maxent_ne_chunker_tab to\n",
      "[nltk_data]     C:\\Users\\user\\AppData\\Roaming\\nltk_data...\n",
      "[nltk_data]   Unzipping chunkers\\maxent_ne_chunker_tab.zip.\n"
     ]
    },
    {
     "data": {
      "text/plain": [
       "True"
      ]
     },
     "execution_count": 41,
     "metadata": {},
     "output_type": "execute_result"
    }
   ],
   "source": [
    " nltk.download('maxent_ne_chunker_tab')"
   ]
  },
  {
   "cell_type": "code",
   "execution_count": 42,
   "id": "3d2beede-7c27-4d3c-8915-ee20b5ccf256",
   "metadata": {},
   "outputs": [
    {
     "name": "stdout",
     "output_type": "stream",
     "text": [
      "(S Learning/VBG tokenization/NN for/IN the/DT first/JJ time/NN)\n"
     ]
    }
   ],
   "source": [
    "nerTree=ne_chunk(posTags)\n",
    "print(nerTree)"
   ]
  },
  {
   "cell_type": "code",
   "execution_count": 50,
   "id": "7b714b6a-5340-49fd-937e-e02d6eec1e74",
   "metadata": {},
   "outputs": [
    {
     "name": "stdout",
     "output_type": "stream",
     "text": [
      "(S\n",
      "  backend/NN\n",
      "  developer/NN\n",
      "  primarily/RB\n",
      "  working/VBG\n",
      "  Node.js/NNP\n",
      "  currently/RB\n",
      "  learning/VBG\n",
      "  (ORGANIZATION NLP/NNP)\n",
      "  using/VBG\n",
      "  (ORGANIZATION NLTK/NNP)\n",
      "  recently/RB\n",
      "  started/VBD\n",
      "  syntactic/JJ\n",
      "  processing/NN\n",
      "  moved/VBD\n",
      "  semantics/NNS\n",
      "  tokenization/NN\n",
      "  also/RB\n",
      "  working/VBG\n",
      "  sentiment/NN\n",
      "  analysis/NN\n",
      "  emotion/NN\n",
      "  detection/NN\n",
      "  using/VBG\n",
      "  (ORGANIZATION LSTMs/NNP Transformers/NNP)\n",
      "  VADER/NNP\n",
      "  Besides/NNP\n",
      "  NLP/NNP\n",
      "  interested/JJ\n",
      "  cloud/NN\n",
      "  technologies/NNS\n",
      "  problem-solving/JJ\n",
      "  (ORGANIZATION DSA/NNP)\n",
      "  hands-on/NN\n",
      "  (ORGANIZATION JavaScript/NNP)\n",
      "  &/CC\n",
      "  (PERSON React/NNP)\n",
      "  also/RB\n",
      "  involved/VBD\n",
      "  cybersecurity/NN\n",
      "  received/VBN\n",
      "  (PERSON Cisco/NNP CyberOps/NNP)\n",
      "  scholarship/NN\n",
      "  Additionally/NNP\n",
      "  applying/VBG\n",
      "  various/JJ\n",
      "  opportunities/NNS\n",
      "  like/IN\n",
      "  (PERSON\n",
      "    Airbnb/NNP\n",
      "    Engineering/NNP\n",
      "    Apprenticeship/NNP\n",
      "    Sankhyana/NNP)\n",
      "  data/NNS\n",
      "  science/NN\n",
      "  internship/NN\n",
      "  writing/VBG\n",
      "  attachment/JJ\n",
      "  report/NN\n",
      "  🚀/NN)\n"
     ]
    }
   ],
   "source": [
    "nerpgTree=ne_chunk(pgTags)\n",
    "print(nerpgTree)"
   ]
  },
  {
   "cell_type": "code",
   "execution_count": null,
   "id": "81f26bc0-cf80-4c01-8543-16289d38c5cf",
   "metadata": {},
   "outputs": [],
   "source": []
  }
 ],
 "metadata": {
  "kernelspec": {
   "display_name": "Python 3 (ipykernel)",
   "language": "python",
   "name": "python3"
  },
  "language_info": {
   "codemirror_mode": {
    "name": "ipython",
    "version": 3
   },
   "file_extension": ".py",
   "mimetype": "text/x-python",
   "name": "python",
   "nbconvert_exporter": "python",
   "pygments_lexer": "ipython3",
   "version": "3.12.7"
  }
 },
 "nbformat": 4,
 "nbformat_minor": 5
}
