{
 "cells": [
  {
   "cell_type": "code",
   "execution_count": 1,
   "id": "e33c7ff5",
   "metadata": {
    "_cell_guid": "b1076dfc-b9ad-4769-8c92-a6c4dae69d19",
    "_uuid": "8f2839f25d086af736a60e9eeb907d3b93b6e0e5",
    "execution": {
     "iopub.execute_input": "2025-03-07T08:51:51.629943Z",
     "iopub.status.busy": "2025-03-07T08:51:51.629443Z",
     "iopub.status.idle": "2025-03-07T08:51:52.655541Z",
     "shell.execute_reply": "2025-03-07T08:51:52.654242Z"
    },
    "papermill": {
     "duration": 1.035509,
     "end_time": "2025-03-07T08:51:52.657565",
     "exception": false,
     "start_time": "2025-03-07T08:51:51.622056",
     "status": "completed"
    },
    "tags": []
   },
   "outputs": [
    {
     "name": "stdout",
     "output_type": "stream",
     "text": [
      "/kaggle/input/amazon-fine-food-reviews/hashes.txt\n",
      "/kaggle/input/amazon-fine-food-reviews/Reviews.csv\n",
      "/kaggle/input/amazon-fine-food-reviews/database.sqlite\n",
      "/kaggle/input/glove-6b-100-d/glove.6B.100d.txt\n"
     ]
    }
   ],
   "source": [
    "# This Python 3 environment comes with many helpful analytics libraries installed\n",
    "# It is defined by the kaggle/python Docker image: https://github.com/kaggle/docker-python\n",
    "# For example, here's several helpful packages to load\n",
    "\n",
    "import numpy as np # linear algebra\n",
    "import pandas as pd # data processing, CSV file I/O (e.g. pd.read_csv)\n",
    "\n",
    "# Input data files are available in the read-only \"../input/\" directory\n",
    "# For example, running this (by clicking run or pressing Shift+Enter) will list all files under the input directory\n",
    "\n",
    "import os\n",
    "for dirname, _, filenames in os.walk('/kaggle/input'):\n",
    "    for filename in filenames:\n",
    "        print(os.path.join(dirname, filename))\n",
    "\n",
    "# You can write up to 20GB to the current directory (/kaggle/working/) that gets preserved as output when you create a version using \"Save & Run All\" \n",
    "# You can also write temporary files to /kaggle/temp/, but they won't be saved outside of the current session"
   ]
  },
  {
   "cell_type": "code",
   "execution_count": 2,
   "id": "362ba907",
   "metadata": {
    "execution": {
     "iopub.execute_input": "2025-03-07T08:51:52.670406Z",
     "iopub.status.busy": "2025-03-07T08:51:52.669911Z",
     "iopub.status.idle": "2025-03-07T08:51:52.674598Z",
     "shell.execute_reply": "2025-03-07T08:51:52.673505Z"
    },
    "papermill": {
     "duration": 0.013078,
     "end_time": "2025-03-07T08:51:52.676425",
     "exception": false,
     "start_time": "2025-03-07T08:51:52.663347",
     "status": "completed"
    },
    "tags": []
   },
   "outputs": [],
   "source": [
    "import pandas as pd"
   ]
  },
  {
   "cell_type": "code",
   "execution_count": 3,
   "id": "4acb83d5",
   "metadata": {
    "execution": {
     "iopub.execute_input": "2025-03-07T08:51:52.688721Z",
     "iopub.status.busy": "2025-03-07T08:51:52.688353Z",
     "iopub.status.idle": "2025-03-07T08:52:00.824368Z",
     "shell.execute_reply": "2025-03-07T08:52:00.823320Z"
    },
    "papermill": {
     "duration": 8.144485,
     "end_time": "2025-03-07T08:52:00.826344",
     "exception": false,
     "start_time": "2025-03-07T08:51:52.681859",
     "status": "completed"
    },
    "tags": []
   },
   "outputs": [],
   "source": [
    "dataset=pd.read_csv(r\"/kaggle/input/amazon-fine-food-reviews/Reviews.csv\")"
   ]
  },
  {
   "cell_type": "code",
   "execution_count": 4,
   "id": "b32398d6",
   "metadata": {
    "execution": {
     "iopub.execute_input": "2025-03-07T08:52:00.838358Z",
     "iopub.status.busy": "2025-03-07T08:52:00.838012Z",
     "iopub.status.idle": "2025-03-07T08:52:01.058064Z",
     "shell.execute_reply": "2025-03-07T08:52:01.056778Z"
    },
    "papermill": {
     "duration": 0.228059,
     "end_time": "2025-03-07T08:52:01.059976",
     "exception": false,
     "start_time": "2025-03-07T08:52:00.831917",
     "status": "completed"
    },
    "tags": []
   },
   "outputs": [
    {
     "name": "stdout",
     "output_type": "stream",
     "text": [
      "<class 'pandas.core.frame.DataFrame'>\n",
      "RangeIndex: 568454 entries, 0 to 568453\n",
      "Data columns (total 10 columns):\n",
      " #   Column                  Non-Null Count   Dtype \n",
      "---  ------                  --------------   ----- \n",
      " 0   Id                      568454 non-null  int64 \n",
      " 1   ProductId               568454 non-null  object\n",
      " 2   UserId                  568454 non-null  object\n",
      " 3   ProfileName             568428 non-null  object\n",
      " 4   HelpfulnessNumerator    568454 non-null  int64 \n",
      " 5   HelpfulnessDenominator  568454 non-null  int64 \n",
      " 6   Score                   568454 non-null  int64 \n",
      " 7   Time                    568454 non-null  int64 \n",
      " 8   Summary                 568427 non-null  object\n",
      " 9   Text                    568454 non-null  object\n",
      "dtypes: int64(5), object(5)\n",
      "memory usage: 43.4+ MB\n"
     ]
    }
   ],
   "source": [
    "dataset.info()"
   ]
  },
  {
   "cell_type": "code",
   "execution_count": 5,
   "id": "0907ffa2",
   "metadata": {
    "execution": {
     "iopub.execute_input": "2025-03-07T08:52:01.072190Z",
     "iopub.status.busy": "2025-03-07T08:52:01.071845Z",
     "iopub.status.idle": "2025-03-07T08:52:01.096547Z",
     "shell.execute_reply": "2025-03-07T08:52:01.095446Z"
    },
    "papermill": {
     "duration": 0.032873,
     "end_time": "2025-03-07T08:52:01.098411",
     "exception": false,
     "start_time": "2025-03-07T08:52:01.065538",
     "status": "completed"
    },
    "tags": []
   },
   "outputs": [
    {
     "data": {
      "text/html": [
       "<div>\n",
       "<style scoped>\n",
       "    .dataframe tbody tr th:only-of-type {\n",
       "        vertical-align: middle;\n",
       "    }\n",
       "\n",
       "    .dataframe tbody tr th {\n",
       "        vertical-align: top;\n",
       "    }\n",
       "\n",
       "    .dataframe thead th {\n",
       "        text-align: right;\n",
       "    }\n",
       "</style>\n",
       "<table border=\"1\" class=\"dataframe\">\n",
       "  <thead>\n",
       "    <tr style=\"text-align: right;\">\n",
       "      <th></th>\n",
       "      <th>Id</th>\n",
       "      <th>ProductId</th>\n",
       "      <th>UserId</th>\n",
       "      <th>ProfileName</th>\n",
       "      <th>HelpfulnessNumerator</th>\n",
       "      <th>HelpfulnessDenominator</th>\n",
       "      <th>Score</th>\n",
       "      <th>Time</th>\n",
       "      <th>Summary</th>\n",
       "      <th>Text</th>\n",
       "    </tr>\n",
       "  </thead>\n",
       "  <tbody>\n",
       "    <tr>\n",
       "      <th>0</th>\n",
       "      <td>1</td>\n",
       "      <td>B001E4KFG0</td>\n",
       "      <td>A3SGXH7AUHU8GW</td>\n",
       "      <td>delmartian</td>\n",
       "      <td>1</td>\n",
       "      <td>1</td>\n",
       "      <td>5</td>\n",
       "      <td>1303862400</td>\n",
       "      <td>Good Quality Dog Food</td>\n",
       "      <td>I have bought several of the Vitality canned d...</td>\n",
       "    </tr>\n",
       "    <tr>\n",
       "      <th>1</th>\n",
       "      <td>2</td>\n",
       "      <td>B00813GRG4</td>\n",
       "      <td>A1D87F6ZCVE5NK</td>\n",
       "      <td>dll pa</td>\n",
       "      <td>0</td>\n",
       "      <td>0</td>\n",
       "      <td>1</td>\n",
       "      <td>1346976000</td>\n",
       "      <td>Not as Advertised</td>\n",
       "      <td>Product arrived labeled as Jumbo Salted Peanut...</td>\n",
       "    </tr>\n",
       "    <tr>\n",
       "      <th>2</th>\n",
       "      <td>3</td>\n",
       "      <td>B000LQOCH0</td>\n",
       "      <td>ABXLMWJIXXAIN</td>\n",
       "      <td>Natalia Corres \"Natalia Corres\"</td>\n",
       "      <td>1</td>\n",
       "      <td>1</td>\n",
       "      <td>4</td>\n",
       "      <td>1219017600</td>\n",
       "      <td>\"Delight\" says it all</td>\n",
       "      <td>This is a confection that has been around a fe...</td>\n",
       "    </tr>\n",
       "    <tr>\n",
       "      <th>3</th>\n",
       "      <td>4</td>\n",
       "      <td>B000UA0QIQ</td>\n",
       "      <td>A395BORC6FGVXV</td>\n",
       "      <td>Karl</td>\n",
       "      <td>3</td>\n",
       "      <td>3</td>\n",
       "      <td>2</td>\n",
       "      <td>1307923200</td>\n",
       "      <td>Cough Medicine</td>\n",
       "      <td>If you are looking for the secret ingredient i...</td>\n",
       "    </tr>\n",
       "    <tr>\n",
       "      <th>4</th>\n",
       "      <td>5</td>\n",
       "      <td>B006K2ZZ7K</td>\n",
       "      <td>A1UQRSCLF8GW1T</td>\n",
       "      <td>Michael D. Bigham \"M. Wassir\"</td>\n",
       "      <td>0</td>\n",
       "      <td>0</td>\n",
       "      <td>5</td>\n",
       "      <td>1350777600</td>\n",
       "      <td>Great taffy</td>\n",
       "      <td>Great taffy at a great price.  There was a wid...</td>\n",
       "    </tr>\n",
       "  </tbody>\n",
       "</table>\n",
       "</div>"
      ],
      "text/plain": [
       "   Id   ProductId          UserId                      ProfileName  \\\n",
       "0   1  B001E4KFG0  A3SGXH7AUHU8GW                       delmartian   \n",
       "1   2  B00813GRG4  A1D87F6ZCVE5NK                           dll pa   \n",
       "2   3  B000LQOCH0   ABXLMWJIXXAIN  Natalia Corres \"Natalia Corres\"   \n",
       "3   4  B000UA0QIQ  A395BORC6FGVXV                             Karl   \n",
       "4   5  B006K2ZZ7K  A1UQRSCLF8GW1T    Michael D. Bigham \"M. Wassir\"   \n",
       "\n",
       "   HelpfulnessNumerator  HelpfulnessDenominator  Score        Time  \\\n",
       "0                     1                       1      5  1303862400   \n",
       "1                     0                       0      1  1346976000   \n",
       "2                     1                       1      4  1219017600   \n",
       "3                     3                       3      2  1307923200   \n",
       "4                     0                       0      5  1350777600   \n",
       "\n",
       "                 Summary                                               Text  \n",
       "0  Good Quality Dog Food  I have bought several of the Vitality canned d...  \n",
       "1      Not as Advertised  Product arrived labeled as Jumbo Salted Peanut...  \n",
       "2  \"Delight\" says it all  This is a confection that has been around a fe...  \n",
       "3         Cough Medicine  If you are looking for the secret ingredient i...  \n",
       "4            Great taffy  Great taffy at a great price.  There was a wid...  "
      ]
     },
     "execution_count": 5,
     "metadata": {},
     "output_type": "execute_result"
    }
   ],
   "source": [
    "dataset.head(5)"
   ]
  },
  {
   "cell_type": "code",
   "execution_count": 6,
   "id": "fbba0863",
   "metadata": {
    "execution": {
     "iopub.execute_input": "2025-03-07T08:52:01.110787Z",
     "iopub.status.busy": "2025-03-07T08:52:01.110405Z",
     "iopub.status.idle": "2025-03-07T08:52:01.141959Z",
     "shell.execute_reply": "2025-03-07T08:52:01.140608Z"
    },
    "papermill": {
     "duration": 0.039788,
     "end_time": "2025-03-07T08:52:01.143821",
     "exception": false,
     "start_time": "2025-03-07T08:52:01.104033",
     "status": "completed"
    },
    "tags": []
   },
   "outputs": [
    {
     "name": "stdout",
     "output_type": "stream",
     "text": [
      "   Score                                               Text\n",
      "0      5  I have bought several of the Vitality canned d...\n",
      "1      1  Product arrived labeled as Jumbo Salted Peanut...\n",
      "2      4  This is a confection that has been around a fe...\n",
      "3      2  If you are looking for the secret ingredient i...\n",
      "4      5  Great taffy at a great price.  There was a wid...\n"
     ]
    }
   ],
   "source": [
    "print(dataset[['Score','Text']].head(5))"
   ]
  },
  {
   "cell_type": "code",
   "execution_count": 7,
   "id": "929f27a3",
   "metadata": {
    "execution": {
     "iopub.execute_input": "2025-03-07T08:52:01.156632Z",
     "iopub.status.busy": "2025-03-07T08:52:01.156305Z",
     "iopub.status.idle": "2025-03-07T08:52:01.348917Z",
     "shell.execute_reply": "2025-03-07T08:52:01.347788Z"
    },
    "papermill": {
     "duration": 0.201058,
     "end_time": "2025-03-07T08:52:01.350781",
     "exception": false,
     "start_time": "2025-03-07T08:52:01.149723",
     "status": "completed"
    },
    "tags": []
   },
   "outputs": [
    {
     "name": "stdout",
     "output_type": "stream",
     "text": [
      "Id                         0\n",
      "ProductId                  0\n",
      "UserId                     0\n",
      "ProfileName               26\n",
      "HelpfulnessNumerator       0\n",
      "HelpfulnessDenominator     0\n",
      "Score                      0\n",
      "Time                       0\n",
      "Summary                   27\n",
      "Text                       0\n",
      "dtype: int64\n"
     ]
    }
   ],
   "source": [
    "print(dataset.isna().sum())"
   ]
  },
  {
   "cell_type": "code",
   "execution_count": 8,
   "id": "f142bb69",
   "metadata": {
    "execution": {
     "iopub.execute_input": "2025-03-07T08:52:01.363515Z",
     "iopub.status.busy": "2025-03-07T08:52:01.363190Z",
     "iopub.status.idle": "2025-03-07T08:52:01.423647Z",
     "shell.execute_reply": "2025-03-07T08:52:01.422228Z"
    },
    "papermill": {
     "duration": 0.068742,
     "end_time": "2025-03-07T08:52:01.425375",
     "exception": false,
     "start_time": "2025-03-07T08:52:01.356633",
     "status": "completed"
    },
    "tags": []
   },
   "outputs": [
    {
     "name": "stdout",
     "output_type": "stream",
     "text": [
      "                                                     Text  \\\n",
      "433940  I am a big fan of both Frosted Mini-Wheats and...   \n",
      "141051  I have 3 cats (all brothers) and my daughter a...   \n",
      "76158   I had this wonderful couscous at an upscale re...   \n",
      "458080  I am a big tea drinker and this is by far the ...   \n",
      "265500  Great combination of nuts and raisins. Just th...   \n",
      "...                                                   ...   \n",
      "294046  Not sure if it is a placebo effect but my join...   \n",
      "333229  I drink both tea a coffee every day but the ba...   \n",
      "257686  I am really impressed with this cutting board....   \n",
      "215480  The Clementine flavor of this soda offered by ...   \n",
      "166497  Cracked olives should not result in small bits...   \n",
      "\n",
      "                                   Summary  Score  \n",
      "433940                         Mushy Bites      3  \n",
      "141051        Our cats devour this catfood      5  \n",
      "76158         Wonderful, delicous couscous      5  \n",
      "458080                            LOVE IT!      5  \n",
      "265500         Excellent Pick You Up Snack      5  \n",
      "...                                    ...    ...  \n",
      "294046                   Comfort of joints      5  \n",
      "333229       Good for you and taste GREAT!      5  \n",
      "257686                Great cutting board!      5  \n",
      "215480  Another fantastic flavor from Izze      5  \n",
      "166497                       It's the Pits      1  \n",
      "\n",
      "[1000 rows x 3 columns]\n"
     ]
    }
   ],
   "source": [
    "lmtpData=dataset[['Text','Summary','Score']].sample(n=1000)\n",
    "print(lmtpData)"
   ]
  },
  {
   "cell_type": "markdown",
   "id": "b3381a41",
   "metadata": {
    "papermill": {
     "duration": 0.005471,
     "end_time": "2025-03-07T08:52:01.436796",
     "exception": false,
     "start_time": "2025-03-07T08:52:01.431325",
     "status": "completed"
    },
    "tags": []
   },
   "source": [
    "### ADDING SENTIMENT COLUMN"
   ]
  },
  {
   "cell_type": "code",
   "execution_count": 9,
   "id": "e7206e16",
   "metadata": {
    "execution": {
     "iopub.execute_input": "2025-03-07T08:52:01.449905Z",
     "iopub.status.busy": "2025-03-07T08:52:01.449507Z",
     "iopub.status.idle": "2025-03-07T08:52:01.461799Z",
     "shell.execute_reply": "2025-03-07T08:52:01.460811Z"
    },
    "papermill": {
     "duration": 0.020619,
     "end_time": "2025-03-07T08:52:01.463553",
     "exception": false,
     "start_time": "2025-03-07T08:52:01.442934",
     "status": "completed"
    },
    "tags": []
   },
   "outputs": [
    {
     "data": {
      "text/html": [
       "<div>\n",
       "<style scoped>\n",
       "    .dataframe tbody tr th:only-of-type {\n",
       "        vertical-align: middle;\n",
       "    }\n",
       "\n",
       "    .dataframe tbody tr th {\n",
       "        vertical-align: top;\n",
       "    }\n",
       "\n",
       "    .dataframe thead th {\n",
       "        text-align: right;\n",
       "    }\n",
       "</style>\n",
       "<table border=\"1\" class=\"dataframe\">\n",
       "  <thead>\n",
       "    <tr style=\"text-align: right;\">\n",
       "      <th></th>\n",
       "      <th>Text</th>\n",
       "      <th>Summary</th>\n",
       "      <th>Score</th>\n",
       "      <th>Sentiment</th>\n",
       "    </tr>\n",
       "  </thead>\n",
       "  <tbody>\n",
       "    <tr>\n",
       "      <th>433940</th>\n",
       "      <td>I am a big fan of both Frosted Mini-Wheats and...</td>\n",
       "      <td>Mushy Bites</td>\n",
       "      <td>3</td>\n",
       "      <td>2</td>\n",
       "    </tr>\n",
       "    <tr>\n",
       "      <th>141051</th>\n",
       "      <td>I have 3 cats (all brothers) and my daughter a...</td>\n",
       "      <td>Our cats devour this catfood</td>\n",
       "      <td>5</td>\n",
       "      <td>1</td>\n",
       "    </tr>\n",
       "    <tr>\n",
       "      <th>76158</th>\n",
       "      <td>I had this wonderful couscous at an upscale re...</td>\n",
       "      <td>Wonderful, delicous couscous</td>\n",
       "      <td>5</td>\n",
       "      <td>1</td>\n",
       "    </tr>\n",
       "    <tr>\n",
       "      <th>458080</th>\n",
       "      <td>I am a big tea drinker and this is by far the ...</td>\n",
       "      <td>LOVE IT!</td>\n",
       "      <td>5</td>\n",
       "      <td>1</td>\n",
       "    </tr>\n",
       "    <tr>\n",
       "      <th>265500</th>\n",
       "      <td>Great combination of nuts and raisins. Just th...</td>\n",
       "      <td>Excellent Pick You Up Snack</td>\n",
       "      <td>5</td>\n",
       "      <td>1</td>\n",
       "    </tr>\n",
       "  </tbody>\n",
       "</table>\n",
       "</div>"
      ],
      "text/plain": [
       "                                                     Text  \\\n",
       "433940  I am a big fan of both Frosted Mini-Wheats and...   \n",
       "141051  I have 3 cats (all brothers) and my daughter a...   \n",
       "76158   I had this wonderful couscous at an upscale re...   \n",
       "458080  I am a big tea drinker and this is by far the ...   \n",
       "265500  Great combination of nuts and raisins. Just th...   \n",
       "\n",
       "                             Summary  Score  Sentiment  \n",
       "433940                   Mushy Bites      3          2  \n",
       "141051  Our cats devour this catfood      5          1  \n",
       "76158   Wonderful, delicous couscous      5          1  \n",
       "458080                      LOVE IT!      5          1  \n",
       "265500   Excellent Pick You Up Snack      5          1  "
      ]
     },
     "execution_count": 9,
     "metadata": {},
     "output_type": "execute_result"
    }
   ],
   "source": [
    "#0-negative, 1-positive\n",
    "def lblScore(score):\n",
    "    if score<=2:\n",
    "        return 0\n",
    "    elif score>=4:\n",
    "        return 1\n",
    "    else:\n",
    "        return 2\n",
    "lmtpData['Sentiment']=lmtpData['Score'].apply(lblScore)\n",
    "lmtpData.head(5)"
   ]
  },
  {
   "cell_type": "code",
   "execution_count": 10,
   "id": "0e2071aa",
   "metadata": {
    "execution": {
     "iopub.execute_input": "2025-03-07T08:52:01.477262Z",
     "iopub.status.busy": "2025-03-07T08:52:01.476915Z",
     "iopub.status.idle": "2025-03-07T08:52:01.485426Z",
     "shell.execute_reply": "2025-03-07T08:52:01.484577Z"
    },
    "papermill": {
     "duration": 0.016972,
     "end_time": "2025-03-07T08:52:01.487011",
     "exception": false,
     "start_time": "2025-03-07T08:52:01.470039",
     "status": "completed"
    },
    "tags": []
   },
   "outputs": [
    {
     "data": {
      "text/plain": [
       "Sentiment\n",
       "1    789\n",
       "0    141\n",
       "2     70\n",
       "Name: count, dtype: int64"
      ]
     },
     "execution_count": 10,
     "metadata": {},
     "output_type": "execute_result"
    }
   ],
   "source": [
    "lmtpData['Sentiment'].value_counts()"
   ]
  },
  {
   "cell_type": "markdown",
   "id": "d1eff0fc",
   "metadata": {
    "execution": {
     "iopub.execute_input": "2025-03-06T12:31:15.045476Z",
     "iopub.status.busy": "2025-03-06T12:31:15.045080Z",
     "iopub.status.idle": "2025-03-06T12:31:15.049290Z",
     "shell.execute_reply": "2025-03-06T12:31:15.048323Z",
     "shell.execute_reply.started": "2025-03-06T12:31:15.045438Z"
    },
    "papermill": {
     "duration": 0.005618,
     "end_time": "2025-03-07T08:52:01.498787",
     "exception": false,
     "start_time": "2025-03-07T08:52:01.493169",
     "status": "completed"
    },
    "tags": []
   },
   "source": [
    "#### VECTORS"
   ]
  },
  {
   "cell_type": "code",
   "execution_count": 11,
   "id": "e3fa87e2",
   "metadata": {
    "execution": {
     "iopub.execute_input": "2025-03-07T08:52:01.512163Z",
     "iopub.status.busy": "2025-03-07T08:52:01.511772Z",
     "iopub.status.idle": "2025-03-07T08:52:13.815745Z",
     "shell.execute_reply": "2025-03-07T08:52:13.814566Z"
    },
    "papermill": {
     "duration": 12.312753,
     "end_time": "2025-03-07T08:52:13.817589",
     "exception": false,
     "start_time": "2025-03-07T08:52:01.504836",
     "status": "completed"
    },
    "tags": []
   },
   "outputs": [
    {
     "name": "stdout",
     "output_type": "stream",
     "text": [
      "Loaded 400000 word vectors.\n"
     ]
    }
   ],
   "source": [
    "import numpy as np\n",
    "\n",
    "glove_path = \"/kaggle/input/glove-6b-100-d/glove.6B.100d.txt\"\n",
    "\n",
    "def loadGloveEmbeddings(filePath, embedding_dim=100):\n",
    "    embeddingsIndex = {}\n",
    "    with open(filePath, encoding=\"utf8\") as f:\n",
    "        for line in f:\n",
    "            values = line.split()\n",
    "            word = values[0]\n",
    "            coefs = np.asarray(values[1:], dtype='float32')\n",
    "            embeddingsIndex[word] = coefs\n",
    "    return embeddingsIndex\n",
    "\n",
    "gloveEmbeddings = loadGloveEmbeddings(glove_path)\n",
    "print(\"Loaded {} word vectors.\".format(len(gloveEmbeddings)))\n",
    "\n",
    "\n",
    "        "
   ]
  },
  {
   "cell_type": "markdown",
   "id": "72f0631b",
   "metadata": {
    "papermill": {
     "duration": 0.005725,
     "end_time": "2025-03-07T08:52:13.829709",
     "exception": false,
     "start_time": "2025-03-07T08:52:13.823984",
     "status": "completed"
    },
    "tags": []
   },
   "source": [
    "#### CREATING EMBEDDING MATRIX"
   ]
  },
  {
   "cell_type": "code",
   "execution_count": 12,
   "id": "212e04e3",
   "metadata": {
    "execution": {
     "iopub.execute_input": "2025-03-07T08:52:13.843133Z",
     "iopub.status.busy": "2025-03-07T08:52:13.842727Z",
     "iopub.status.idle": "2025-03-07T08:52:13.850146Z",
     "shell.execute_reply": "2025-03-07T08:52:13.849168Z"
    },
    "papermill": {
     "duration": 0.016144,
     "end_time": "2025-03-07T08:52:13.851881",
     "exception": false,
     "start_time": "2025-03-07T08:52:13.835737",
     "status": "completed"
    },
    "tags": []
   },
   "outputs": [],
   "source": [
    "lmtpData['Summary']=lmtpData['Summary'].fillna(\"\")\n",
    "lmtpData['CombinedText']=lmtpData['Summary'] + \" \" + lmtpData['Text']\n"
   ]
  },
  {
   "cell_type": "code",
   "execution_count": 13,
   "id": "2ba26740",
   "metadata": {
    "execution": {
     "iopub.execute_input": "2025-03-07T08:52:13.865540Z",
     "iopub.status.busy": "2025-03-07T08:52:13.865216Z",
     "iopub.status.idle": "2025-03-07T08:52:30.043991Z",
     "shell.execute_reply": "2025-03-07T08:52:30.042651Z"
    },
    "papermill": {
     "duration": 16.187734,
     "end_time": "2025-03-07T08:52:30.045946",
     "exception": false,
     "start_time": "2025-03-07T08:52:13.858212",
     "status": "completed"
    },
    "tags": []
   },
   "outputs": [],
   "source": [
    "#tokenizing\n",
    "from tensorflow.keras.preprocessing.text import Tokenizer\n",
    "from tensorflow.keras.preprocessing.sequence import pad_sequences\n",
    "\n",
    "tokenizer=Tokenizer()\n",
    "tokenizer.fit_on_texts(lmtpData['CombinedText'])\n",
    "sequences=tokenizer.texts_to_sequences(lmtpData['CombinedText'])\n",
    "\n",
    "maxLen=100\n",
    "padded_sequences=pad_sequences(sequences,maxlen=maxLen,padding='post')"
   ]
  },
  {
   "cell_type": "code",
   "execution_count": 14,
   "id": "dab6a546",
   "metadata": {
    "execution": {
     "iopub.execute_input": "2025-03-07T08:52:30.060123Z",
     "iopub.status.busy": "2025-03-07T08:52:30.059442Z",
     "iopub.status.idle": "2025-03-07T08:52:30.076884Z",
     "shell.execute_reply": "2025-03-07T08:52:30.075832Z"
    },
    "papermill": {
     "duration": 0.026643,
     "end_time": "2025-03-07T08:52:30.078888",
     "exception": false,
     "start_time": "2025-03-07T08:52:30.052245",
     "status": "completed"
    },
    "tags": []
   },
   "outputs": [],
   "source": [
    "embedding_dim=100\n",
    "vocabSize=len(tokenizer.word_index) + 1\n",
    "\n",
    "embeddingMatrix=np.zeros((vocabSize,embedding_dim))\n",
    "\n",
    "for word,i in tokenizer.word_index.items():\n",
    "    embeddingVector=gloveEmbeddings.get(word)\n",
    "    if embeddingVector is not None:\n",
    "        embeddingMatrix[i]=embeddingVector"
   ]
  },
  {
   "cell_type": "code",
   "execution_count": 15,
   "id": "8d4a2d7e",
   "metadata": {
    "execution": {
     "iopub.execute_input": "2025-03-07T08:52:30.092473Z",
     "iopub.status.busy": "2025-03-07T08:52:30.092081Z",
     "iopub.status.idle": "2025-03-07T08:52:30.097393Z",
     "shell.execute_reply": "2025-03-07T08:52:30.096106Z"
    },
    "papermill": {
     "duration": 0.014147,
     "end_time": "2025-03-07T08:52:30.099281",
     "exception": false,
     "start_time": "2025-03-07T08:52:30.085134",
     "status": "completed"
    },
    "tags": []
   },
   "outputs": [
    {
     "name": "stdout",
     "output_type": "stream",
     "text": [
      "Embedding matrix shape: (6970, 100)\n"
     ]
    }
   ],
   "source": [
    "print(\"Embedding matrix shape:\", embeddingMatrix.shape)\n"
   ]
  },
  {
   "cell_type": "markdown",
   "id": "7f249c11",
   "metadata": {
    "papermill": {
     "duration": 0.006419,
     "end_time": "2025-03-07T08:52:30.112041",
     "exception": false,
     "start_time": "2025-03-07T08:52:30.105622",
     "status": "completed"
    },
    "tags": []
   },
   "source": [
    "### MAKING THE MODEL"
   ]
  },
  {
   "cell_type": "code",
   "execution_count": 16,
   "id": "f2ab5c32",
   "metadata": {
    "execution": {
     "iopub.execute_input": "2025-03-07T08:52:30.126991Z",
     "iopub.status.busy": "2025-03-07T08:52:30.126538Z",
     "iopub.status.idle": "2025-03-07T08:52:30.331778Z",
     "shell.execute_reply": "2025-03-07T08:52:30.329610Z"
    },
    "papermill": {
     "duration": 0.215852,
     "end_time": "2025-03-07T08:52:30.334099",
     "exception": false,
     "start_time": "2025-03-07T08:52:30.118247",
     "status": "completed"
    },
    "tags": []
   },
   "outputs": [
    {
     "name": "stdout",
     "output_type": "stream",
     "text": [
      "Padded shape: (1000, 100)\n",
      "Labels shape: (1000,)\n"
     ]
    },
    {
     "data": {
      "text/html": [
       "<pre style=\"white-space:pre;overflow-x:auto;line-height:normal;font-family:Menlo,'DejaVu Sans Mono',consolas,'Courier New',monospace\"><span style=\"font-weight: bold\">Model: \"sequential\"</span>\n",
       "</pre>\n"
      ],
      "text/plain": [
       "\u001b[1mModel: \"sequential\"\u001b[0m\n"
      ]
     },
     "metadata": {},
     "output_type": "display_data"
    },
    {
     "data": {
      "text/html": [
       "<pre style=\"white-space:pre;overflow-x:auto;line-height:normal;font-family:Menlo,'DejaVu Sans Mono',consolas,'Courier New',monospace\">┏━━━━━━━━━━━━━━━━━━━━━━━━━━━━━━━━━━━━━━┳━━━━━━━━━━━━━━━━━━━━━━━━━━━━━┳━━━━━━━━━━━━━━━━━┓\n",
       "┃<span style=\"font-weight: bold\"> Layer (type)                         </span>┃<span style=\"font-weight: bold\"> Output Shape                </span>┃<span style=\"font-weight: bold\">         Param # </span>┃\n",
       "┡━━━━━━━━━━━━━━━━━━━━━━━━━━━━━━━━━━━━━━╇━━━━━━━━━━━━━━━━━━━━━━━━━━━━━╇━━━━━━━━━━━━━━━━━┩\n",
       "│ embedding (<span style=\"color: #0087ff; text-decoration-color: #0087ff\">Embedding</span>)                │ (<span style=\"color: #00d7ff; text-decoration-color: #00d7ff\">None</span>, <span style=\"color: #00af00; text-decoration-color: #00af00\">100</span>, <span style=\"color: #00af00; text-decoration-color: #00af00\">100</span>)            │         <span style=\"color: #00af00; text-decoration-color: #00af00\">697,000</span> │\n",
       "├──────────────────────────────────────┼─────────────────────────────┼─────────────────┤\n",
       "│ lstm (<span style=\"color: #0087ff; text-decoration-color: #0087ff\">LSTM</span>)                          │ (<span style=\"color: #00d7ff; text-decoration-color: #00d7ff\">None</span>, <span style=\"color: #00af00; text-decoration-color: #00af00\">100</span>, <span style=\"color: #00af00; text-decoration-color: #00af00\">128</span>)            │         <span style=\"color: #00af00; text-decoration-color: #00af00\">117,248</span> │\n",
       "├──────────────────────────────────────┼─────────────────────────────┼─────────────────┤\n",
       "│ lstm_1 (<span style=\"color: #0087ff; text-decoration-color: #0087ff\">LSTM</span>)                        │ (<span style=\"color: #00d7ff; text-decoration-color: #00d7ff\">None</span>, <span style=\"color: #00af00; text-decoration-color: #00af00\">64</span>)                  │          <span style=\"color: #00af00; text-decoration-color: #00af00\">49,408</span> │\n",
       "├──────────────────────────────────────┼─────────────────────────────┼─────────────────┤\n",
       "│ dropout (<span style=\"color: #0087ff; text-decoration-color: #0087ff\">Dropout</span>)                    │ (<span style=\"color: #00d7ff; text-decoration-color: #00d7ff\">None</span>, <span style=\"color: #00af00; text-decoration-color: #00af00\">64</span>)                  │               <span style=\"color: #00af00; text-decoration-color: #00af00\">0</span> │\n",
       "├──────────────────────────────────────┼─────────────────────────────┼─────────────────┤\n",
       "│ dense (<span style=\"color: #0087ff; text-decoration-color: #0087ff\">Dense</span>)                        │ (<span style=\"color: #00d7ff; text-decoration-color: #00d7ff\">None</span>, <span style=\"color: #00af00; text-decoration-color: #00af00\">3</span>)                   │             <span style=\"color: #00af00; text-decoration-color: #00af00\">195</span> │\n",
       "└──────────────────────────────────────┴─────────────────────────────┴─────────────────┘\n",
       "</pre>\n"
      ],
      "text/plain": [
       "┏━━━━━━━━━━━━━━━━━━━━━━━━━━━━━━━━━━━━━━┳━━━━━━━━━━━━━━━━━━━━━━━━━━━━━┳━━━━━━━━━━━━━━━━━┓\n",
       "┃\u001b[1m \u001b[0m\u001b[1mLayer (type)                        \u001b[0m\u001b[1m \u001b[0m┃\u001b[1m \u001b[0m\u001b[1mOutput Shape               \u001b[0m\u001b[1m \u001b[0m┃\u001b[1m \u001b[0m\u001b[1m        Param #\u001b[0m\u001b[1m \u001b[0m┃\n",
       "┡━━━━━━━━━━━━━━━━━━━━━━━━━━━━━━━━━━━━━━╇━━━━━━━━━━━━━━━━━━━━━━━━━━━━━╇━━━━━━━━━━━━━━━━━┩\n",
       "│ embedding (\u001b[38;5;33mEmbedding\u001b[0m)                │ (\u001b[38;5;45mNone\u001b[0m, \u001b[38;5;34m100\u001b[0m, \u001b[38;5;34m100\u001b[0m)            │         \u001b[38;5;34m697,000\u001b[0m │\n",
       "├──────────────────────────────────────┼─────────────────────────────┼─────────────────┤\n",
       "│ lstm (\u001b[38;5;33mLSTM\u001b[0m)                          │ (\u001b[38;5;45mNone\u001b[0m, \u001b[38;5;34m100\u001b[0m, \u001b[38;5;34m128\u001b[0m)            │         \u001b[38;5;34m117,248\u001b[0m │\n",
       "├──────────────────────────────────────┼─────────────────────────────┼─────────────────┤\n",
       "│ lstm_1 (\u001b[38;5;33mLSTM\u001b[0m)                        │ (\u001b[38;5;45mNone\u001b[0m, \u001b[38;5;34m64\u001b[0m)                  │          \u001b[38;5;34m49,408\u001b[0m │\n",
       "├──────────────────────────────────────┼─────────────────────────────┼─────────────────┤\n",
       "│ dropout (\u001b[38;5;33mDropout\u001b[0m)                    │ (\u001b[38;5;45mNone\u001b[0m, \u001b[38;5;34m64\u001b[0m)                  │               \u001b[38;5;34m0\u001b[0m │\n",
       "├──────────────────────────────────────┼─────────────────────────────┼─────────────────┤\n",
       "│ dense (\u001b[38;5;33mDense\u001b[0m)                        │ (\u001b[38;5;45mNone\u001b[0m, \u001b[38;5;34m3\u001b[0m)                   │             \u001b[38;5;34m195\u001b[0m │\n",
       "└──────────────────────────────────────┴─────────────────────────────┴─────────────────┘\n"
      ]
     },
     "metadata": {},
     "output_type": "display_data"
    },
    {
     "data": {
      "text/html": [
       "<pre style=\"white-space:pre;overflow-x:auto;line-height:normal;font-family:Menlo,'DejaVu Sans Mono',consolas,'Courier New',monospace\"><span style=\"font-weight: bold\"> Total params: </span><span style=\"color: #00af00; text-decoration-color: #00af00\">863,851</span> (3.30 MB)\n",
       "</pre>\n"
      ],
      "text/plain": [
       "\u001b[1m Total params: \u001b[0m\u001b[38;5;34m863,851\u001b[0m (3.30 MB)\n"
      ]
     },
     "metadata": {},
     "output_type": "display_data"
    },
    {
     "data": {
      "text/html": [
       "<pre style=\"white-space:pre;overflow-x:auto;line-height:normal;font-family:Menlo,'DejaVu Sans Mono',consolas,'Courier New',monospace\"><span style=\"font-weight: bold\"> Trainable params: </span><span style=\"color: #00af00; text-decoration-color: #00af00\">166,851</span> (651.76 KB)\n",
       "</pre>\n"
      ],
      "text/plain": [
       "\u001b[1m Trainable params: \u001b[0m\u001b[38;5;34m166,851\u001b[0m (651.76 KB)\n"
      ]
     },
     "metadata": {},
     "output_type": "display_data"
    },
    {
     "data": {
      "text/html": [
       "<pre style=\"white-space:pre;overflow-x:auto;line-height:normal;font-family:Menlo,'DejaVu Sans Mono',consolas,'Courier New',monospace\"><span style=\"font-weight: bold\"> Non-trainable params: </span><span style=\"color: #00af00; text-decoration-color: #00af00\">697,000</span> (2.66 MB)\n",
       "</pre>\n"
      ],
      "text/plain": [
       "\u001b[1m Non-trainable params: \u001b[0m\u001b[38;5;34m697,000\u001b[0m (2.66 MB)\n"
      ]
     },
     "metadata": {},
     "output_type": "display_data"
    }
   ],
   "source": [
    "from tensorflow.keras.models import Sequential\n",
    "from tensorflow.keras.layers import Embedding, LSTM, Dense, Dropout,Input\n",
    "maxLen=100\n",
    "X_train = padded_sequences \n",
    "y_train = lmtpData[\"Sentiment\"].values  \n",
    "\n",
    "print(\"Padded shape:\", X_train.shape)  \n",
    "print(\"Labels shape:\", y_train.shape) \n",
    "\n",
    "model = Sequential([\n",
    "    Input(shape=(maxLen,)),\n",
    "    Embedding(input_dim=vocabSize,  \n",
    "              output_dim=embedding_dim, \n",
    "              weights=embeddingMatrix, \n",
    "             \n",
    "              trainable=False), \n",
    "    LSTM(128, return_sequences=True),\n",
    "    LSTM(64),\n",
    "    Dropout(0.3),\n",
    "    Dense(3, activation='softmax') \n",
    "])\n",
    "\n",
    "\n",
    "model.compile(loss='sparse_categorical_crossentropy', optimizer='adam', metrics=['accuracy'])\n",
    "\n",
    "model.summary()\n"
   ]
  },
  {
   "cell_type": "code",
   "execution_count": 17,
   "id": "afba845b",
   "metadata": {
    "execution": {
     "iopub.execute_input": "2025-03-07T08:52:30.350234Z",
     "iopub.status.busy": "2025-03-07T08:52:30.349813Z",
     "iopub.status.idle": "2025-03-07T08:53:09.077599Z",
     "shell.execute_reply": "2025-03-07T08:53:09.076624Z"
    },
    "papermill": {
     "duration": 38.737857,
     "end_time": "2025-03-07T08:53:09.079506",
     "exception": false,
     "start_time": "2025-03-07T08:52:30.341649",
     "status": "completed"
    },
    "tags": []
   },
   "outputs": [
    {
     "name": "stdout",
     "output_type": "stream",
     "text": [
      "Epoch 1/10\n",
      "\u001b[1m25/25\u001b[0m \u001b[32m━━━━━━━━━━━━━━━━━━━━\u001b[0m\u001b[37m\u001b[0m \u001b[1m7s\u001b[0m 160ms/step - accuracy: 0.7138 - loss: 0.8812 - val_accuracy: 0.7850 - val_loss: 0.6530\n",
      "Epoch 2/10\n",
      "\u001b[1m25/25\u001b[0m \u001b[32m━━━━━━━━━━━━━━━━━━━━\u001b[0m\u001b[37m\u001b[0m \u001b[1m3s\u001b[0m 137ms/step - accuracy: 0.7974 - loss: 0.6544 - val_accuracy: 0.7850 - val_loss: 0.6522\n",
      "Epoch 3/10\n",
      "\u001b[1m25/25\u001b[0m \u001b[32m━━━━━━━━━━━━━━━━━━━━\u001b[0m\u001b[37m\u001b[0m \u001b[1m4s\u001b[0m 142ms/step - accuracy: 0.7897 - loss: 0.6766 - val_accuracy: 0.7850 - val_loss: 0.6478\n",
      "Epoch 4/10\n",
      "\u001b[1m25/25\u001b[0m \u001b[32m━━━━━━━━━━━━━━━━━━━━\u001b[0m\u001b[37m\u001b[0m \u001b[1m4s\u001b[0m 140ms/step - accuracy: 0.7736 - loss: 0.6947 - val_accuracy: 0.7850 - val_loss: 0.6485\n",
      "Epoch 5/10\n",
      "\u001b[1m25/25\u001b[0m \u001b[32m━━━━━━━━━━━━━━━━━━━━\u001b[0m\u001b[37m\u001b[0m \u001b[1m3s\u001b[0m 139ms/step - accuracy: 0.8048 - loss: 0.6277 - val_accuracy: 0.7850 - val_loss: 0.6480\n",
      "Epoch 6/10\n",
      "\u001b[1m25/25\u001b[0m \u001b[32m━━━━━━━━━━━━━━━━━━━━\u001b[0m\u001b[37m\u001b[0m \u001b[1m4s\u001b[0m 145ms/step - accuracy: 0.7973 - loss: 0.6458 - val_accuracy: 0.7850 - val_loss: 0.6481\n",
      "Epoch 7/10\n",
      "\u001b[1m25/25\u001b[0m \u001b[32m━━━━━━━━━━━━━━━━━━━━\u001b[0m\u001b[37m\u001b[0m \u001b[1m4s\u001b[0m 147ms/step - accuracy: 0.7862 - loss: 0.6495 - val_accuracy: 0.7850 - val_loss: 0.6514\n",
      "Epoch 8/10\n",
      "\u001b[1m25/25\u001b[0m \u001b[32m━━━━━━━━━━━━━━━━━━━━\u001b[0m\u001b[37m\u001b[0m \u001b[1m3s\u001b[0m 139ms/step - accuracy: 0.7907 - loss: 0.6503 - val_accuracy: 0.7850 - val_loss: 0.6456\n",
      "Epoch 9/10\n",
      "\u001b[1m25/25\u001b[0m \u001b[32m━━━━━━━━━━━━━━━━━━━━\u001b[0m\u001b[37m\u001b[0m \u001b[1m3s\u001b[0m 139ms/step - accuracy: 0.7841 - loss: 0.6514 - val_accuracy: 0.7850 - val_loss: 0.6487\n",
      "Epoch 10/10\n",
      "\u001b[1m25/25\u001b[0m \u001b[32m━━━━━━━━━━━━━━━━━━━━\u001b[0m\u001b[37m\u001b[0m \u001b[1m4s\u001b[0m 142ms/step - accuracy: 0.7767 - loss: 0.6699 - val_accuracy: 0.7850 - val_loss: 0.6514\n"
     ]
    }
   ],
   "source": [
    "\n",
    "history=model.fit(padded_sequences, y_train, epochs=10, batch_size=32, validation_split=0.2)\n",
    "\n"
   ]
  },
  {
   "cell_type": "markdown",
   "id": "e5013168",
   "metadata": {
    "papermill": {
     "duration": 0.021248,
     "end_time": "2025-03-07T08:53:09.122963",
     "exception": false,
     "start_time": "2025-03-07T08:53:09.101715",
     "status": "completed"
    },
    "tags": []
   },
   "source": [
    "#### PLOTTING AND ACCURACY AND LOSS CURVES"
   ]
  },
  {
   "cell_type": "code",
   "execution_count": 18,
   "id": "ef117c14",
   "metadata": {
    "execution": {
     "iopub.execute_input": "2025-03-07T08:53:09.167357Z",
     "iopub.status.busy": "2025-03-07T08:53:09.166982Z",
     "iopub.status.idle": "2025-03-07T08:53:09.172382Z",
     "shell.execute_reply": "2025-03-07T08:53:09.171242Z"
    },
    "papermill": {
     "duration": 0.029922,
     "end_time": "2025-03-07T08:53:09.174192",
     "exception": false,
     "start_time": "2025-03-07T08:53:09.144270",
     "status": "completed"
    },
    "tags": []
   },
   "outputs": [],
   "source": [
    "import matplotlib.pyplot as plt\n",
    "accuracy=history.history['accuracy']\n",
    "valAccuracy=history.history['val_accuracy']\n",
    "loss = history.history['loss']\n",
    "valLoss = history.history['val_loss']\n",
    "epochs_range = range(1, len(accuracy) + 1)"
   ]
  },
  {
   "cell_type": "code",
   "execution_count": 19,
   "id": "eecabdd8",
   "metadata": {
    "execution": {
     "iopub.execute_input": "2025-03-07T08:53:09.218307Z",
     "iopub.status.busy": "2025-03-07T08:53:09.217944Z",
     "iopub.status.idle": "2025-03-07T08:53:09.546178Z",
     "shell.execute_reply": "2025-03-07T08:53:09.545072Z"
    },
    "papermill": {
     "duration": 0.352262,
     "end_time": "2025-03-07T08:53:09.547923",
     "exception": false,
     "start_time": "2025-03-07T08:53:09.195661",
     "status": "completed"
    },
    "tags": []
   },
   "outputs": [
    {
     "data": {
      "text/plain": [
       "Text(0.5, 1.0, 'Training & Validation Accuracy')"
      ]
     },
     "execution_count": 19,
     "metadata": {},
     "output_type": "execute_result"
    },
    {
     "data": {
      "image/png": "[encoded data removed]",
      "text/plain": [
       "<Figure size 1200x500 with 1 Axes>"
      ]
     },
     "metadata": {},
     "output_type": "display_data"
    }
   ],
   "source": [
    "plt.figure(figsize=(12, 5))\n",
    "plt.subplot(1, 2, 1)\n",
    "plt.plot(epochs_range, accuracy, label='Training Accuracy', marker='o')\n",
    "plt.plot(epochs_range, valAccuracy, label='Validation Accuracy', marker='o')\n",
    "plt.legend(loc='lower right')\n",
    "plt.xlabel('Epochs')\n",
    "plt.ylabel('Accuracy')\n",
    "plt.title('Training & Validation Accuracy')"
   ]
  },
  {
   "cell_type": "code",
   "execution_count": 20,
   "id": "3c0b2287",
   "metadata": {
    "execution": {
     "iopub.execute_input": "2025-03-07T08:53:09.593771Z",
     "iopub.status.busy": "2025-03-07T08:53:09.593377Z",
     "iopub.status.idle": "2025-03-07T08:53:09.848753Z",
     "shell.execute_reply": "2025-03-07T08:53:09.847624Z"
    },
    "papermill": {
     "duration": 0.280331,
     "end_time": "2025-03-07T08:53:09.850581",
     "exception": false,
     "start_time": "2025-03-07T08:53:09.570250",
     "status": "completed"
    },
    "tags": []
   },
   "outputs": [
    {
     "data": {
      "text/plain": [
       "Text(0.5, 1.0, 'Training & Validation Loss')"
      ]
     },
     "execution_count": 20,
     "metadata": {},
     "output_type": "execute_result"
    },
    {
     "data": {
      "image/png": "[encoded data removed]",
      "text/plain": [
       "<Figure size 1200x500 with 1 Axes>"
      ]
     },
     "metadata": {},
     "output_type": "display_data"
    }
   ],
   "source": [
    "plt.figure(figsize=(12, 5))\n",
    "plt.subplot(1, 2, 2)\n",
    "plt.plot(epochs_range, loss, label='Training Loss', marker='o')\n",
    "plt.plot(epochs_range, valLoss, label='Validation Loss', marker='o')\n",
    "plt.legend(loc='upper right')\n",
    "plt.xlabel('Epochs')\n",
    "plt.ylabel('Loss')\n",
    "plt.title('Training & Validation Loss')"
   ]
  },
  {
   "cell_type": "markdown",
   "id": "c05e0e6b",
   "metadata": {
    "papermill": {
     "duration": 0.023745,
     "end_time": "2025-03-07T08:53:09.897377",
     "exception": false,
     "start_time": "2025-03-07T08:53:09.873632",
     "status": "completed"
    },
    "tags": []
   },
   "source": [
    "##### overfitting"
   ]
  }
 ],
 "metadata": {
  "kaggle": {
   "accelerator": "none",
   "dataSources": [
    {
     "datasetId": 18,
     "sourceId": 2157,
     "sourceType": "datasetVersion"
    },
    {
     "datasetId": 4167194,
     "sourceId": 7203508,
     "sourceType": "datasetVersion"
    }
   ],
   "dockerImageVersionId": 30918,
   "isGpuEnabled": false,
   "isInternetEnabled": true,
   "language": "python",
   "sourceType": "notebook"
  },
  "kernelspec": {
   "display_name": "Python 3",
   "language": "python",
   "name": "python3"
  },
  "language_info": {
   "codemirror_mode": {
    "name": "ipython",
    "version": 3
   },
   "file_extension": ".py",
   "mimetype": "text/x-python",
   "name": "python",
   "nbconvert_exporter": "python",
   "pygments_lexer": "ipython3",
   "version": "3.10.12"
  },
  "papermill": {
   "default_parameters": {},
   "duration": 83.246452,
   "end_time": "2025-03-07T08:53:11.947008",
   "environment_variables": {},
   "exception": null,
   "input_path": "__notebook__.ipynb",
   "output_path": "__notebook__.ipynb",
   "parameters": {},
   "start_time": "2025-03-07T08:51:48.700556",
   "version": "2.6.0"
  }
 },
 "nbformat": 4,
 "nbformat_minor": 5
}
