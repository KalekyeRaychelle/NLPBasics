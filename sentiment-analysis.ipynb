{
 "cells": [
  {
   "cell_type": "code",
   "execution_count": 1,
   "id": "d1924903",
   "metadata": {
    "_cell_guid": "b1076dfc-b9ad-4769-8c92-a6c4dae69d19",
    "_uuid": "8f2839f25d086af736a60e9eeb907d3b93b6e0e5",
    "execution": {
     "iopub.execute_input": "2025-03-07T13:23:20.607092Z",
     "iopub.status.busy": "2025-03-07T13:23:20.606604Z",
     "iopub.status.idle": "2025-03-07T13:23:21.804796Z",
     "shell.execute_reply": "2025-03-07T13:23:21.803534Z"
    },
    "papermill": {
     "duration": 1.211031,
     "end_time": "2025-03-07T13:23:21.806526",
     "exception": false,
     "start_time": "2025-03-07T13:23:20.595495",
     "status": "completed"
    },
    "tags": []
   },
   "outputs": [
    {
     "name": "stdout",
     "output_type": "stream",
     "text": [
      "/kaggle/input/amazon-fine-food-reviews/hashes.txt\n",
      "/kaggle/input/amazon-fine-food-reviews/Reviews.csv\n",
      "/kaggle/input/amazon-fine-food-reviews/database.sqlite\n",
      "/kaggle/input/glove-6b-100-d/glove.6B.100d.txt\n"
     ]
    }
   ],
   "source": [
    "# This Python 3 environment comes with many helpful analytics libraries installed\n",
    "# It is defined by the kaggle/python Docker image: https://github.com/kaggle/docker-python\n",
    "# For example, here's several helpful packages to load\n",
    "\n",
    "import numpy as np # linear algebra\n",
    "import pandas as pd # data processing, CSV file I/O (e.g. pd.read_csv)\n",
    "\n",
    "# Input data files are available in the read-only \"../input/\" directory\n",
    "# For example, running this (by clicking run or pressing Shift+Enter) will list all files under the input directory\n",
    "\n",
    "import os\n",
    "for dirname, _, filenames in os.walk('/kaggle/input'):\n",
    "    for filename in filenames:\n",
    "        print(os.path.join(dirname, filename))\n",
    "\n",
    "# You can write up to 20GB to the current directory (/kaggle/working/) that gets preserved as output when you create a version using \"Save & Run All\" \n",
    "# You can also write temporary files to /kaggle/temp/, but they won't be saved outside of the current session"
   ]
  },
  {
   "cell_type": "code",
   "execution_count": 2,
   "id": "7a4a923a",
   "metadata": {
    "execution": {
     "iopub.execute_input": "2025-03-07T13:23:21.826505Z",
     "iopub.status.busy": "2025-03-07T13:23:21.826022Z",
     "iopub.status.idle": "2025-03-07T13:23:21.830199Z",
     "shell.execute_reply": "2025-03-07T13:23:21.829273Z"
    },
    "papermill": {
     "duration": 0.015621,
     "end_time": "2025-03-07T13:23:21.831786",
     "exception": false,
     "start_time": "2025-03-07T13:23:21.816165",
     "status": "completed"
    },
    "tags": []
   },
   "outputs": [],
   "source": [
    "import pandas as pd"
   ]
  },
  {
   "cell_type": "code",
   "execution_count": 3,
   "id": "a4e26e8f",
   "metadata": {
    "execution": {
     "iopub.execute_input": "2025-03-07T13:23:21.850834Z",
     "iopub.status.busy": "2025-03-07T13:23:21.850512Z",
     "iopub.status.idle": "2025-03-07T13:23:29.378704Z",
     "shell.execute_reply": "2025-03-07T13:23:29.377642Z"
    },
    "papermill": {
     "duration": 7.539865,
     "end_time": "2025-03-07T13:23:29.380705",
     "exception": false,
     "start_time": "2025-03-07T13:23:21.840840",
     "status": "completed"
    },
    "tags": []
   },
   "outputs": [],
   "source": [
    "dataset=pd.read_csv(r\"/kaggle/input/amazon-fine-food-reviews/Reviews.csv\")"
   ]
  },
  {
   "cell_type": "code",
   "execution_count": 4,
   "id": "8632d673",
   "metadata": {
    "execution": {
     "iopub.execute_input": "2025-03-07T13:23:29.400362Z",
     "iopub.status.busy": "2025-03-07T13:23:29.399995Z",
     "iopub.status.idle": "2025-03-07T13:23:29.617204Z",
     "shell.execute_reply": "2025-03-07T13:23:29.615950Z"
    },
    "papermill": {
     "duration": 0.228848,
     "end_time": "2025-03-07T13:23:29.618866",
     "exception": false,
     "start_time": "2025-03-07T13:23:29.390018",
     "status": "completed"
    },
    "tags": []
   },
   "outputs": [
    {
     "name": "stdout",
     "output_type": "stream",
     "text": [
      "<class 'pandas.core.frame.DataFrame'>\n",
      "RangeIndex: 568454 entries, 0 to 568453\n",
      "Data columns (total 10 columns):\n",
      " #   Column                  Non-Null Count   Dtype \n",
      "---  ------                  --------------   ----- \n",
      " 0   Id                      568454 non-null  int64 \n",
      " 1   ProductId               568454 non-null  object\n",
      " 2   UserId                  568454 non-null  object\n",
      " 3   ProfileName             568428 non-null  object\n",
      " 4   HelpfulnessNumerator    568454 non-null  int64 \n",
      " 5   HelpfulnessDenominator  568454 non-null  int64 \n",
      " 6   Score                   568454 non-null  int64 \n",
      " 7   Time                    568454 non-null  int64 \n",
      " 8   Summary                 568427 non-null  object\n",
      " 9   Text                    568454 non-null  object\n",
      "dtypes: int64(5), object(5)\n",
      "memory usage: 43.4+ MB\n"
     ]
    }
   ],
   "source": [
    "dataset.info()"
   ]
  },
  {
   "cell_type": "code",
   "execution_count": 5,
   "id": "ea59abf3",
   "metadata": {
    "execution": {
     "iopub.execute_input": "2025-03-07T13:23:29.638445Z",
     "iopub.status.busy": "2025-03-07T13:23:29.638050Z",
     "iopub.status.idle": "2025-03-07T13:23:29.661382Z",
     "shell.execute_reply": "2025-03-07T13:23:29.660421Z"
    },
    "papermill": {
     "duration": 0.034814,
     "end_time": "2025-03-07T13:23:29.662932",
     "exception": false,
     "start_time": "2025-03-07T13:23:29.628118",
     "status": "completed"
    },
    "tags": []
   },
   "outputs": [
    {
     "data": {
      "text/html": [
       "<div>\n",
       "<style scoped>\n",
       "    .dataframe tbody tr th:only-of-type {\n",
       "        vertical-align: middle;\n",
       "    }\n",
       "\n",
       "    .dataframe tbody tr th {\n",
       "        vertical-align: top;\n",
       "    }\n",
       "\n",
       "    .dataframe thead th {\n",
       "        text-align: right;\n",
       "    }\n",
       "</style>\n",
       "<table border=\"1\" class=\"dataframe\">\n",
       "  <thead>\n",
       "    <tr style=\"text-align: right;\">\n",
       "      <th></th>\n",
       "      <th>Id</th>\n",
       "      <th>ProductId</th>\n",
       "      <th>UserId</th>\n",
       "      <th>ProfileName</th>\n",
       "      <th>HelpfulnessNumerator</th>\n",
       "      <th>HelpfulnessDenominator</th>\n",
       "      <th>Score</th>\n",
       "      <th>Time</th>\n",
       "      <th>Summary</th>\n",
       "      <th>Text</th>\n",
       "    </tr>\n",
       "  </thead>\n",
       "  <tbody>\n",
       "    <tr>\n",
       "      <th>0</th>\n",
       "      <td>1</td>\n",
       "      <td>B001E4KFG0</td>\n",
       "      <td>A3SGXH7AUHU8GW</td>\n",
       "      <td>delmartian</td>\n",
       "      <td>1</td>\n",
       "      <td>1</td>\n",
       "      <td>5</td>\n",
       "      <td>1303862400</td>\n",
       "      <td>Good Quality Dog Food</td>\n",
       "      <td>I have bought several of the Vitality canned d...</td>\n",
       "    </tr>\n",
       "    <tr>\n",
       "      <th>1</th>\n",
       "      <td>2</td>\n",
       "      <td>B00813GRG4</td>\n",
       "      <td>A1D87F6ZCVE5NK</td>\n",
       "      <td>dll pa</td>\n",
       "      <td>0</td>\n",
       "      <td>0</td>\n",
       "      <td>1</td>\n",
       "      <td>1346976000</td>\n",
       "      <td>Not as Advertised</td>\n",
       "      <td>Product arrived labeled as Jumbo Salted Peanut...</td>\n",
       "    </tr>\n",
       "    <tr>\n",
       "      <th>2</th>\n",
       "      <td>3</td>\n",
       "      <td>B000LQOCH0</td>\n",
       "      <td>ABXLMWJIXXAIN</td>\n",
       "      <td>Natalia Corres \"Natalia Corres\"</td>\n",
       "      <td>1</td>\n",
       "      <td>1</td>\n",
       "      <td>4</td>\n",
       "      <td>1219017600</td>\n",
       "      <td>\"Delight\" says it all</td>\n",
       "      <td>This is a confection that has been around a fe...</td>\n",
       "    </tr>\n",
       "    <tr>\n",
       "      <th>3</th>\n",
       "      <td>4</td>\n",
       "      <td>B000UA0QIQ</td>\n",
       "      <td>A395BORC6FGVXV</td>\n",
       "      <td>Karl</td>\n",
       "      <td>3</td>\n",
       "      <td>3</td>\n",
       "      <td>2</td>\n",
       "      <td>1307923200</td>\n",
       "      <td>Cough Medicine</td>\n",
       "      <td>If you are looking for the secret ingredient i...</td>\n",
       "    </tr>\n",
       "    <tr>\n",
       "      <th>4</th>\n",
       "      <td>5</td>\n",
       "      <td>B006K2ZZ7K</td>\n",
       "      <td>A1UQRSCLF8GW1T</td>\n",
       "      <td>Michael D. Bigham \"M. Wassir\"</td>\n",
       "      <td>0</td>\n",
       "      <td>0</td>\n",
       "      <td>5</td>\n",
       "      <td>1350777600</td>\n",
       "      <td>Great taffy</td>\n",
       "      <td>Great taffy at a great price.  There was a wid...</td>\n",
       "    </tr>\n",
       "  </tbody>\n",
       "</table>\n",
       "</div>"
      ],
      "text/plain": [
       "   Id   ProductId          UserId                      ProfileName  \\\n",
       "0   1  B001E4KFG0  A3SGXH7AUHU8GW                       delmartian   \n",
       "1   2  B00813GRG4  A1D87F6ZCVE5NK                           dll pa   \n",
       "2   3  B000LQOCH0   ABXLMWJIXXAIN  Natalia Corres \"Natalia Corres\"   \n",
       "3   4  B000UA0QIQ  A395BORC6FGVXV                             Karl   \n",
       "4   5  B006K2ZZ7K  A1UQRSCLF8GW1T    Michael D. Bigham \"M. Wassir\"   \n",
       "\n",
       "   HelpfulnessNumerator  HelpfulnessDenominator  Score        Time  \\\n",
       "0                     1                       1      5  1303862400   \n",
       "1                     0                       0      1  1346976000   \n",
       "2                     1                       1      4  1219017600   \n",
       "3                     3                       3      2  1307923200   \n",
       "4                     0                       0      5  1350777600   \n",
       "\n",
       "                 Summary                                               Text  \n",
       "0  Good Quality Dog Food  I have bought several of the Vitality canned d...  \n",
       "1      Not as Advertised  Product arrived labeled as Jumbo Salted Peanut...  \n",
       "2  \"Delight\" says it all  This is a confection that has been around a fe...  \n",
       "3         Cough Medicine  If you are looking for the secret ingredient i...  \n",
       "4            Great taffy  Great taffy at a great price.  There was a wid...  "
      ]
     },
     "execution_count": 5,
     "metadata": {},
     "output_type": "execute_result"
    }
   ],
   "source": [
    "dataset.head(5)"
   ]
  },
  {
   "cell_type": "code",
   "execution_count": 6,
   "id": "33441292",
   "metadata": {
    "execution": {
     "iopub.execute_input": "2025-03-07T13:23:29.682904Z",
     "iopub.status.busy": "2025-03-07T13:23:29.682541Z",
     "iopub.status.idle": "2025-03-07T13:23:29.711959Z",
     "shell.execute_reply": "2025-03-07T13:23:29.710669Z"
    },
    "papermill": {
     "duration": 0.041139,
     "end_time": "2025-03-07T13:23:29.713626",
     "exception": false,
     "start_time": "2025-03-07T13:23:29.672487",
     "status": "completed"
    },
    "tags": []
   },
   "outputs": [
    {
     "name": "stdout",
     "output_type": "stream",
     "text": [
      "   Score                                               Text\n",
      "0      5  I have bought several of the Vitality canned d...\n",
      "1      1  Product arrived labeled as Jumbo Salted Peanut...\n",
      "2      4  This is a confection that has been around a fe...\n",
      "3      2  If you are looking for the secret ingredient i...\n",
      "4      5  Great taffy at a great price.  There was a wid...\n"
     ]
    }
   ],
   "source": [
    "print(dataset[['Score','Text']].head(5))"
   ]
  },
  {
   "cell_type": "code",
   "execution_count": 7,
   "id": "698cbada",
   "metadata": {
    "execution": {
     "iopub.execute_input": "2025-03-07T13:23:29.733298Z",
     "iopub.status.busy": "2025-03-07T13:23:29.732930Z",
     "iopub.status.idle": "2025-03-07T13:23:29.916597Z",
     "shell.execute_reply": "2025-03-07T13:23:29.915522Z"
    },
    "papermill": {
     "duration": 0.195372,
     "end_time": "2025-03-07T13:23:29.918366",
     "exception": false,
     "start_time": "2025-03-07T13:23:29.722994",
     "status": "completed"
    },
    "tags": []
   },
   "outputs": [
    {
     "name": "stdout",
     "output_type": "stream",
     "text": [
      "Id                         0\n",
      "ProductId                  0\n",
      "UserId                     0\n",
      "ProfileName               26\n",
      "HelpfulnessNumerator       0\n",
      "HelpfulnessDenominator     0\n",
      "Score                      0\n",
      "Time                       0\n",
      "Summary                   27\n",
      "Text                       0\n",
      "dtype: int64\n"
     ]
    }
   ],
   "source": [
    "print(dataset.isna().sum())"
   ]
  },
  {
   "cell_type": "code",
   "execution_count": 8,
   "id": "46768a70",
   "metadata": {
    "execution": {
     "iopub.execute_input": "2025-03-07T13:23:29.939252Z",
     "iopub.status.busy": "2025-03-07T13:23:29.938868Z",
     "iopub.status.idle": "2025-03-07T13:23:29.996915Z",
     "shell.execute_reply": "2025-03-07T13:23:29.995575Z"
    },
    "papermill": {
     "duration": 0.070479,
     "end_time": "2025-03-07T13:23:29.998810",
     "exception": false,
     "start_time": "2025-03-07T13:23:29.928331",
     "status": "completed"
    },
    "tags": []
   },
   "outputs": [
    {
     "name": "stdout",
     "output_type": "stream",
     "text": [
      "                                                     Text  \\\n",
      "348641  Great taste, crunch and my kids enjoy it. It d...   \n",
      "440075  I like the flavor of this brand. It has taken ...   \n",
      "189500  I used the coconut oil to moisturize my skin a...   \n",
      "215092  My son loves his Happy Baby pouches, and I lik...   \n",
      "41745   The product has served the purpose for which i...   \n",
      "...                                                   ...   \n",
      "39439   Many of these exploded making a huge mess with...   \n",
      "248222  One of the finest coffees I've ever drank. Ful...   \n",
      "528304  These are surprisingly good considering how mu...   \n",
      "410714  Todays SPAM is not the SPAM of years ago.  The...   \n",
      "22379   These pretzels are just the best! The whole gr...   \n",
      "\n",
      "                                 Summary  Score  \n",
      "348641                   Healthier Snack      4  \n",
      "440075                     I like these!      4  \n",
      "189500                       Coconut Oil      4  \n",
      "215092          Delicious for Moms, too!      5  \n",
      "41745                       pill pockets      5  \n",
      "...                                  ...    ...  \n",
      "39439   Pods explode making a huge mess!      1  \n",
      "248222                   Excellent buy !      5  \n",
      "528304                 Cheaper elsewhere      4  \n",
      "410714    Great price and multiple uses.      5  \n",
      "22379                   Best Snack Ever!      5  \n",
      "\n",
      "[1000 rows x 3 columns]\n"
     ]
    }
   ],
   "source": [
    "lmtpData=dataset[['Text','Summary','Score']].sample(n=1000)\n",
    "print(lmtpData)"
   ]
  },
  {
   "cell_type": "markdown",
   "id": "cd058c2a",
   "metadata": {
    "papermill": {
     "duration": 0.009376,
     "end_time": "2025-03-07T13:23:30.018505",
     "exception": false,
     "start_time": "2025-03-07T13:23:30.009129",
     "status": "completed"
    },
    "tags": []
   },
   "source": [
    "### ADDING SENTIMENT COLUMN"
   ]
  },
  {
   "cell_type": "code",
   "execution_count": 9,
   "id": "45db4a83",
   "metadata": {
    "execution": {
     "iopub.execute_input": "2025-03-07T13:23:30.038998Z",
     "iopub.status.busy": "2025-03-07T13:23:30.038683Z",
     "iopub.status.idle": "2025-03-07T13:23:30.050022Z",
     "shell.execute_reply": "2025-03-07T13:23:30.049147Z"
    },
    "papermill": {
     "duration": 0.023391,
     "end_time": "2025-03-07T13:23:30.051631",
     "exception": false,
     "start_time": "2025-03-07T13:23:30.028240",
     "status": "completed"
    },
    "tags": []
   },
   "outputs": [
    {
     "data": {
      "text/html": [
       "<div>\n",
       "<style scoped>\n",
       "    .dataframe tbody tr th:only-of-type {\n",
       "        vertical-align: middle;\n",
       "    }\n",
       "\n",
       "    .dataframe tbody tr th {\n",
       "        vertical-align: top;\n",
       "    }\n",
       "\n",
       "    .dataframe thead th {\n",
       "        text-align: right;\n",
       "    }\n",
       "</style>\n",
       "<table border=\"1\" class=\"dataframe\">\n",
       "  <thead>\n",
       "    <tr style=\"text-align: right;\">\n",
       "      <th></th>\n",
       "      <th>Text</th>\n",
       "      <th>Summary</th>\n",
       "      <th>Score</th>\n",
       "      <th>Sentiment</th>\n",
       "    </tr>\n",
       "  </thead>\n",
       "  <tbody>\n",
       "    <tr>\n",
       "      <th>348641</th>\n",
       "      <td>Great taste, crunch and my kids enjoy it. It d...</td>\n",
       "      <td>Healthier Snack</td>\n",
       "      <td>4</td>\n",
       "      <td>1</td>\n",
       "    </tr>\n",
       "    <tr>\n",
       "      <th>440075</th>\n",
       "      <td>I like the flavor of this brand. It has taken ...</td>\n",
       "      <td>I like these!</td>\n",
       "      <td>4</td>\n",
       "      <td>1</td>\n",
       "    </tr>\n",
       "    <tr>\n",
       "      <th>189500</th>\n",
       "      <td>I used the coconut oil to moisturize my skin a...</td>\n",
       "      <td>Coconut Oil</td>\n",
       "      <td>4</td>\n",
       "      <td>1</td>\n",
       "    </tr>\n",
       "    <tr>\n",
       "      <th>215092</th>\n",
       "      <td>My son loves his Happy Baby pouches, and I lik...</td>\n",
       "      <td>Delicious for Moms, too!</td>\n",
       "      <td>5</td>\n",
       "      <td>1</td>\n",
       "    </tr>\n",
       "    <tr>\n",
       "      <th>41745</th>\n",
       "      <td>The product has served the purpose for which i...</td>\n",
       "      <td>pill pockets</td>\n",
       "      <td>5</td>\n",
       "      <td>1</td>\n",
       "    </tr>\n",
       "  </tbody>\n",
       "</table>\n",
       "</div>"
      ],
      "text/plain": [
       "                                                     Text  \\\n",
       "348641  Great taste, crunch and my kids enjoy it. It d...   \n",
       "440075  I like the flavor of this brand. It has taken ...   \n",
       "189500  I used the coconut oil to moisturize my skin a...   \n",
       "215092  My son loves his Happy Baby pouches, and I lik...   \n",
       "41745   The product has served the purpose for which i...   \n",
       "\n",
       "                         Summary  Score  Sentiment  \n",
       "348641           Healthier Snack      4          1  \n",
       "440075             I like these!      4          1  \n",
       "189500               Coconut Oil      4          1  \n",
       "215092  Delicious for Moms, too!      5          1  \n",
       "41745               pill pockets      5          1  "
      ]
     },
     "execution_count": 9,
     "metadata": {},
     "output_type": "execute_result"
    }
   ],
   "source": [
    "#0-negative, 1-positive\n",
    "def lblScore(score):\n",
    "    if score<=2:\n",
    "        return 0\n",
    "    elif score>=4:\n",
    "        return 1\n",
    "    else:\n",
    "        return 2\n",
    "lmtpData['Sentiment']=lmtpData['Score'].apply(lblScore)\n",
    "lmtpData.head(5)"
   ]
  },
  {
   "cell_type": "code",
   "execution_count": 10,
   "id": "a4a8af99",
   "metadata": {
    "execution": {
     "iopub.execute_input": "2025-03-07T13:23:30.072422Z",
     "iopub.status.busy": "2025-03-07T13:23:30.072064Z",
     "iopub.status.idle": "2025-03-07T13:23:30.081047Z",
     "shell.execute_reply": "2025-03-07T13:23:30.080195Z"
    },
    "papermill": {
     "duration": 0.020932,
     "end_time": "2025-03-07T13:23:30.082499",
     "exception": false,
     "start_time": "2025-03-07T13:23:30.061567",
     "status": "completed"
    },
    "tags": []
   },
   "outputs": [
    {
     "data": {
      "text/plain": [
       "Sentiment\n",
       "1    767\n",
       "0    151\n",
       "2     82\n",
       "Name: count, dtype: int64"
      ]
     },
     "execution_count": 10,
     "metadata": {},
     "output_type": "execute_result"
    }
   ],
   "source": [
    "lmtpData['Sentiment'].value_counts()"
   ]
  },
  {
   "cell_type": "markdown",
   "id": "647a7ea3",
   "metadata": {
    "execution": {
     "iopub.execute_input": "2025-03-06T12:31:15.045476Z",
     "iopub.status.busy": "2025-03-06T12:31:15.045080Z",
     "iopub.status.idle": "2025-03-06T12:31:15.049290Z",
     "shell.execute_reply": "2025-03-06T12:31:15.048323Z",
     "shell.execute_reply.started": "2025-03-06T12:31:15.045438Z"
    },
    "papermill": {
     "duration": 0.009508,
     "end_time": "2025-03-07T13:23:30.101880",
     "exception": false,
     "start_time": "2025-03-07T13:23:30.092372",
     "status": "completed"
    },
    "tags": []
   },
   "source": [
    "#### VECTORS"
   ]
  },
  {
   "cell_type": "code",
   "execution_count": 11,
   "id": "b226557f",
   "metadata": {
    "execution": {
     "iopub.execute_input": "2025-03-07T13:23:30.122806Z",
     "iopub.status.busy": "2025-03-07T13:23:30.122460Z",
     "iopub.status.idle": "2025-03-07T13:23:40.460876Z",
     "shell.execute_reply": "2025-03-07T13:23:40.459850Z"
    },
    "papermill": {
     "duration": 10.350752,
     "end_time": "2025-03-07T13:23:40.462376",
     "exception": false,
     "start_time": "2025-03-07T13:23:30.111624",
     "status": "completed"
    },
    "tags": []
   },
   "outputs": [
    {
     "name": "stdout",
     "output_type": "stream",
     "text": [
      "Loaded 400000 word vectors.\n"
     ]
    }
   ],
   "source": [
    "import numpy as np\n",
    "\n",
    "glove_path = \"/kaggle/input/glove-6b-100-d/glove.6B.100d.txt\"\n",
    "\n",
    "def loadGloveEmbeddings(filePath, embedding_dim=100):\n",
    "    embeddingsIndex = {}\n",
    "    with open(filePath, encoding=\"utf8\") as f:\n",
    "        for line in f:\n",
    "            values = line.split()\n",
    "            word = values[0]\n",
    "            coefs = np.asarray(values[1:], dtype='float32')\n",
    "            embeddingsIndex[word] = coefs\n",
    "    return embeddingsIndex\n",
    "\n",
    "gloveEmbeddings = loadGloveEmbeddings(glove_path)\n",
    "print(\"Loaded {} word vectors.\".format(len(gloveEmbeddings)))\n",
    "\n",
    "\n",
    "        "
   ]
  },
  {
   "cell_type": "markdown",
   "id": "8e0c4b5b",
   "metadata": {
    "papermill": {
     "duration": 0.009423,
     "end_time": "2025-03-07T13:23:40.482081",
     "exception": false,
     "start_time": "2025-03-07T13:23:40.472658",
     "status": "completed"
    },
    "tags": []
   },
   "source": [
    "#### CREATING EMBEDDING MATRIX"
   ]
  },
  {
   "cell_type": "code",
   "execution_count": 12,
   "id": "f5719ccf",
   "metadata": {
    "execution": {
     "iopub.execute_input": "2025-03-07T13:23:40.502686Z",
     "iopub.status.busy": "2025-03-07T13:23:40.502374Z",
     "iopub.status.idle": "2025-03-07T13:23:40.509443Z",
     "shell.execute_reply": "2025-03-07T13:23:40.508566Z"
    },
    "papermill": {
     "duration": 0.019185,
     "end_time": "2025-03-07T13:23:40.510977",
     "exception": false,
     "start_time": "2025-03-07T13:23:40.491792",
     "status": "completed"
    },
    "tags": []
   },
   "outputs": [],
   "source": [
    "lmtpData['Summary']=lmtpData['Summary'].fillna(\"\")\n",
    "lmtpData['CombinedText']=lmtpData['Summary'] + \" \" + lmtpData['Text']\n"
   ]
  },
  {
   "cell_type": "code",
   "execution_count": 13,
   "id": "4da68648",
   "metadata": {
    "execution": {
     "iopub.execute_input": "2025-03-07T13:23:40.532453Z",
     "iopub.status.busy": "2025-03-07T13:23:40.532092Z",
     "iopub.status.idle": "2025-03-07T13:23:58.479088Z",
     "shell.execute_reply": "2025-03-07T13:23:58.477791Z"
    },
    "papermill": {
     "duration": 17.959596,
     "end_time": "2025-03-07T13:23:58.481029",
     "exception": false,
     "start_time": "2025-03-07T13:23:40.521433",
     "status": "completed"
    },
    "tags": []
   },
   "outputs": [],
   "source": [
    "#tokenizing\n",
    "from tensorflow.keras.preprocessing.text import Tokenizer\n",
    "from tensorflow.keras.preprocessing.sequence import pad_sequences\n",
    "\n",
    "tokenizer=Tokenizer()\n",
    "tokenizer.fit_on_texts(lmtpData['CombinedText'])\n",
    "sequences=tokenizer.texts_to_sequences(lmtpData['CombinedText'])\n",
    "\n",
    "maxLen=100\n",
    "padded_sequences=pad_sequences(sequences,maxlen=maxLen,padding='post')"
   ]
  },
  {
   "cell_type": "code",
   "execution_count": 14,
   "id": "5aabfd94",
   "metadata": {
    "execution": {
     "iopub.execute_input": "2025-03-07T13:23:58.502597Z",
     "iopub.status.busy": "2025-03-07T13:23:58.501959Z",
     "iopub.status.idle": "2025-03-07T13:23:58.519073Z",
     "shell.execute_reply": "2025-03-07T13:23:58.518241Z"
    },
    "papermill": {
     "duration": 0.029505,
     "end_time": "2025-03-07T13:23:58.520840",
     "exception": false,
     "start_time": "2025-03-07T13:23:58.491335",
     "status": "completed"
    },
    "tags": []
   },
   "outputs": [],
   "source": [
    "embedding_dim=100\n",
    "vocabSize=len(tokenizer.word_index) + 1\n",
    "\n",
    "embeddingMatrix=np.zeros((vocabSize,embedding_dim))\n",
    "\n",
    "for word,i in tokenizer.word_index.items():\n",
    "    embeddingVector=gloveEmbeddings.get(word)\n",
    "    if embeddingVector is not None:\n",
    "        embeddingMatrix[i]=embeddingVector"
   ]
  },
  {
   "cell_type": "code",
   "execution_count": 15,
   "id": "be7f2165",
   "metadata": {
    "execution": {
     "iopub.execute_input": "2025-03-07T13:23:58.541685Z",
     "iopub.status.busy": "2025-03-07T13:23:58.541368Z",
     "iopub.status.idle": "2025-03-07T13:23:58.546127Z",
     "shell.execute_reply": "2025-03-07T13:23:58.544986Z"
    },
    "papermill": {
     "duration": 0.016739,
     "end_time": "2025-03-07T13:23:58.547548",
     "exception": false,
     "start_time": "2025-03-07T13:23:58.530809",
     "status": "completed"
    },
    "tags": []
   },
   "outputs": [
    {
     "name": "stdout",
     "output_type": "stream",
     "text": [
      "Embedding matrix shape: (7089, 100)\n"
     ]
    }
   ],
   "source": [
    "print(\"Embedding matrix shape:\", embeddingMatrix.shape)\n"
   ]
  },
  {
   "cell_type": "markdown",
   "id": "49494d48",
   "metadata": {
    "papermill": {
     "duration": 0.009304,
     "end_time": "2025-03-07T13:23:58.566711",
     "exception": false,
     "start_time": "2025-03-07T13:23:58.557407",
     "status": "completed"
    },
    "tags": []
   },
   "source": [
    "### MAKING THE MODEL"
   ]
  },
  {
   "cell_type": "code",
   "execution_count": 16,
   "id": "dc1d37f1",
   "metadata": {
    "execution": {
     "iopub.execute_input": "2025-03-07T13:23:58.587272Z",
     "iopub.status.busy": "2025-03-07T13:23:58.586897Z",
     "iopub.status.idle": "2025-03-07T13:23:58.764480Z",
     "shell.execute_reply": "2025-03-07T13:23:58.763624Z"
    },
    "papermill": {
     "duration": 0.189599,
     "end_time": "2025-03-07T13:23:58.765986",
     "exception": false,
     "start_time": "2025-03-07T13:23:58.576387",
     "status": "completed"
    },
    "tags": []
   },
   "outputs": [
    {
     "name": "stdout",
     "output_type": "stream",
     "text": [
      "Padded shape: (1000, 100)\n",
      "Labels shape: (1000,)\n"
     ]
    },
    {
     "data": {
      "text/html": [
       "<pre style=\"white-space:pre;overflow-x:auto;line-height:normal;font-family:Menlo,'DejaVu Sans Mono',consolas,'Courier New',monospace\"><span style=\"font-weight: bold\">Model: \"sequential\"</span>\n",
       "</pre>\n"
      ],
      "text/plain": [
       "\u001b[1mModel: \"sequential\"\u001b[0m\n"
      ]
     },
     "metadata": {},
     "output_type": "display_data"
    },
    {
     "data": {
      "text/html": [
       "<pre style=\"white-space:pre;overflow-x:auto;line-height:normal;font-family:Menlo,'DejaVu Sans Mono',consolas,'Courier New',monospace\">┏━━━━━━━━━━━━━━━━━━━━━━━━━━━━━━━━━━━━━━┳━━━━━━━━━━━━━━━━━━━━━━━━━━━━━┳━━━━━━━━━━━━━━━━━┓\n",
       "┃<span style=\"font-weight: bold\"> Layer (type)                         </span>┃<span style=\"font-weight: bold\"> Output Shape                </span>┃<span style=\"font-weight: bold\">         Param # </span>┃\n",
       "┡━━━━━━━━━━━━━━━━━━━━━━━━━━━━━━━━━━━━━━╇━━━━━━━━━━━━━━━━━━━━━━━━━━━━━╇━━━━━━━━━━━━━━━━━┩\n",
       "│ embedding (<span style=\"color: #0087ff; text-decoration-color: #0087ff\">Embedding</span>)                │ (<span style=\"color: #00d7ff; text-decoration-color: #00d7ff\">None</span>, <span style=\"color: #00af00; text-decoration-color: #00af00\">100</span>, <span style=\"color: #00af00; text-decoration-color: #00af00\">100</span>)            │         <span style=\"color: #00af00; text-decoration-color: #00af00\">708,900</span> │\n",
       "├──────────────────────────────────────┼─────────────────────────────┼─────────────────┤\n",
       "│ lstm (<span style=\"color: #0087ff; text-decoration-color: #0087ff\">LSTM</span>)                          │ (<span style=\"color: #00d7ff; text-decoration-color: #00d7ff\">None</span>, <span style=\"color: #00af00; text-decoration-color: #00af00\">100</span>, <span style=\"color: #00af00; text-decoration-color: #00af00\">128</span>)            │         <span style=\"color: #00af00; text-decoration-color: #00af00\">117,248</span> │\n",
       "├──────────────────────────────────────┼─────────────────────────────┼─────────────────┤\n",
       "│ lstm_1 (<span style=\"color: #0087ff; text-decoration-color: #0087ff\">LSTM</span>)                        │ (<span style=\"color: #00d7ff; text-decoration-color: #00d7ff\">None</span>, <span style=\"color: #00af00; text-decoration-color: #00af00\">64</span>)                  │          <span style=\"color: #00af00; text-decoration-color: #00af00\">49,408</span> │\n",
       "├──────────────────────────────────────┼─────────────────────────────┼─────────────────┤\n",
       "│ dropout (<span style=\"color: #0087ff; text-decoration-color: #0087ff\">Dropout</span>)                    │ (<span style=\"color: #00d7ff; text-decoration-color: #00d7ff\">None</span>, <span style=\"color: #00af00; text-decoration-color: #00af00\">64</span>)                  │               <span style=\"color: #00af00; text-decoration-color: #00af00\">0</span> │\n",
       "├──────────────────────────────────────┼─────────────────────────────┼─────────────────┤\n",
       "│ dense (<span style=\"color: #0087ff; text-decoration-color: #0087ff\">Dense</span>)                        │ (<span style=\"color: #00d7ff; text-decoration-color: #00d7ff\">None</span>, <span style=\"color: #00af00; text-decoration-color: #00af00\">3</span>)                   │             <span style=\"color: #00af00; text-decoration-color: #00af00\">195</span> │\n",
       "└──────────────────────────────────────┴─────────────────────────────┴─────────────────┘\n",
       "</pre>\n"
      ],
      "text/plain": [
       "┏━━━━━━━━━━━━━━━━━━━━━━━━━━━━━━━━━━━━━━┳━━━━━━━━━━━━━━━━━━━━━━━━━━━━━┳━━━━━━━━━━━━━━━━━┓\n",
       "┃\u001b[1m \u001b[0m\u001b[1mLayer (type)                        \u001b[0m\u001b[1m \u001b[0m┃\u001b[1m \u001b[0m\u001b[1mOutput Shape               \u001b[0m\u001b[1m \u001b[0m┃\u001b[1m \u001b[0m\u001b[1m        Param #\u001b[0m\u001b[1m \u001b[0m┃\n",
       "┡━━━━━━━━━━━━━━━━━━━━━━━━━━━━━━━━━━━━━━╇━━━━━━━━━━━━━━━━━━━━━━━━━━━━━╇━━━━━━━━━━━━━━━━━┩\n",
       "│ embedding (\u001b[38;5;33mEmbedding\u001b[0m)                │ (\u001b[38;5;45mNone\u001b[0m, \u001b[38;5;34m100\u001b[0m, \u001b[38;5;34m100\u001b[0m)            │         \u001b[38;5;34m708,900\u001b[0m │\n",
       "├──────────────────────────────────────┼─────────────────────────────┼─────────────────┤\n",
       "│ lstm (\u001b[38;5;33mLSTM\u001b[0m)                          │ (\u001b[38;5;45mNone\u001b[0m, \u001b[38;5;34m100\u001b[0m, \u001b[38;5;34m128\u001b[0m)            │         \u001b[38;5;34m117,248\u001b[0m │\n",
       "├──────────────────────────────────────┼─────────────────────────────┼─────────────────┤\n",
       "│ lstm_1 (\u001b[38;5;33mLSTM\u001b[0m)                        │ (\u001b[38;5;45mNone\u001b[0m, \u001b[38;5;34m64\u001b[0m)                  │          \u001b[38;5;34m49,408\u001b[0m │\n",
       "├──────────────────────────────────────┼─────────────────────────────┼─────────────────┤\n",
       "│ dropout (\u001b[38;5;33mDropout\u001b[0m)                    │ (\u001b[38;5;45mNone\u001b[0m, \u001b[38;5;34m64\u001b[0m)                  │               \u001b[38;5;34m0\u001b[0m │\n",
       "├──────────────────────────────────────┼─────────────────────────────┼─────────────────┤\n",
       "│ dense (\u001b[38;5;33mDense\u001b[0m)                        │ (\u001b[38;5;45mNone\u001b[0m, \u001b[38;5;34m3\u001b[0m)                   │             \u001b[38;5;34m195\u001b[0m │\n",
       "└──────────────────────────────────────┴─────────────────────────────┴─────────────────┘\n"
      ]
     },
     "metadata": {},
     "output_type": "display_data"
    },
    {
     "data": {
      "text/html": [
       "<pre style=\"white-space:pre;overflow-x:auto;line-height:normal;font-family:Menlo,'DejaVu Sans Mono',consolas,'Courier New',monospace\"><span style=\"font-weight: bold\"> Total params: </span><span style=\"color: #00af00; text-decoration-color: #00af00\">875,751</span> (3.34 MB)\n",
       "</pre>\n"
      ],
      "text/plain": [
       "\u001b[1m Total params: \u001b[0m\u001b[38;5;34m875,751\u001b[0m (3.34 MB)\n"
      ]
     },
     "metadata": {},
     "output_type": "display_data"
    },
    {
     "data": {
      "text/html": [
       "<pre style=\"white-space:pre;overflow-x:auto;line-height:normal;font-family:Menlo,'DejaVu Sans Mono',consolas,'Courier New',monospace\"><span style=\"font-weight: bold\"> Trainable params: </span><span style=\"color: #00af00; text-decoration-color: #00af00\">166,851</span> (651.76 KB)\n",
       "</pre>\n"
      ],
      "text/plain": [
       "\u001b[1m Trainable params: \u001b[0m\u001b[38;5;34m166,851\u001b[0m (651.76 KB)\n"
      ]
     },
     "metadata": {},
     "output_type": "display_data"
    },
    {
     "data": {
      "text/html": [
       "<pre style=\"white-space:pre;overflow-x:auto;line-height:normal;font-family:Menlo,'DejaVu Sans Mono',consolas,'Courier New',monospace\"><span style=\"font-weight: bold\"> Non-trainable params: </span><span style=\"color: #00af00; text-decoration-color: #00af00\">708,900</span> (2.70 MB)\n",
       "</pre>\n"
      ],
      "text/plain": [
       "\u001b[1m Non-trainable params: \u001b[0m\u001b[38;5;34m708,900\u001b[0m (2.70 MB)\n"
      ]
     },
     "metadata": {},
     "output_type": "display_data"
    }
   ],
   "source": [
    "from tensorflow.keras.models import Sequential\n",
    "from tensorflow.keras.layers import Embedding, LSTM, Dense, Dropout,Input\n",
    "maxLen=100\n",
    "X_train = padded_sequences \n",
    "y_train = lmtpData[\"Sentiment\"].values  \n",
    "\n",
    "print(\"Padded shape:\", X_train.shape)  \n",
    "print(\"Labels shape:\", y_train.shape) \n",
    "\n",
    "model = Sequential([\n",
    "    Input(shape=(maxLen,)),\n",
    "    Embedding(input_dim=vocabSize,  \n",
    "              output_dim=embedding_dim, \n",
    "              weights=embeddingMatrix, \n",
    "             \n",
    "              trainable=False), \n",
    "    LSTM(128, return_sequences=True),\n",
    "    LSTM(64),\n",
    "    Dropout(0.3),\n",
    "    Dense(3, activation='softmax') \n",
    "])\n",
    "\n",
    "\n",
    "model.compile(loss='sparse_categorical_crossentropy', optimizer='adam', metrics=['accuracy'])\n",
    "\n",
    "model.summary()\n"
   ]
  },
  {
   "cell_type": "code",
   "execution_count": 17,
   "id": "418c677a",
   "metadata": {
    "execution": {
     "iopub.execute_input": "2025-03-07T13:23:58.788592Z",
     "iopub.status.busy": "2025-03-07T13:23:58.788241Z",
     "iopub.status.idle": "2025-03-07T13:24:32.390292Z",
     "shell.execute_reply": "2025-03-07T13:24:32.389246Z"
    },
    "papermill": {
     "duration": 33.615287,
     "end_time": "2025-03-07T13:24:32.392044",
     "exception": false,
     "start_time": "2025-03-07T13:23:58.776757",
     "status": "completed"
    },
    "tags": []
   },
   "outputs": [
    {
     "name": "stdout",
     "output_type": "stream",
     "text": [
      "Epoch 1/10\n",
      "\u001b[1m22/22\u001b[0m \u001b[32m━━━━━━━━━━━━━━━━━━━━\u001b[0m\u001b[37m\u001b[0m \u001b[1m6s\u001b[0m 153ms/step - accuracy: 0.6950 - loss: 0.9186 - val_accuracy: 0.7800 - val_loss: 0.6753\n",
      "Epoch 2/10\n",
      "\u001b[1m22/22\u001b[0m \u001b[32m━━━━━━━━━━━━━━━━━━━━\u001b[0m\u001b[37m\u001b[0m \u001b[1m3s\u001b[0m 137ms/step - accuracy: 0.7571 - loss: 0.7143 - val_accuracy: 0.7800 - val_loss: 0.6836\n",
      "Epoch 3/10\n",
      "\u001b[1m22/22\u001b[0m \u001b[32m━━━━━━━━━━━━━━━━━━━━\u001b[0m\u001b[37m\u001b[0m \u001b[1m3s\u001b[0m 143ms/step - accuracy: 0.7619 - loss: 0.7127 - val_accuracy: 0.7800 - val_loss: 0.6755\n",
      "Epoch 4/10\n",
      "\u001b[1m22/22\u001b[0m \u001b[32m━━━━━━━━━━━━━━━━━━━━\u001b[0m\u001b[37m\u001b[0m \u001b[1m3s\u001b[0m 138ms/step - accuracy: 0.7675 - loss: 0.7102 - val_accuracy: 0.7800 - val_loss: 0.6761\n",
      "Epoch 5/10\n",
      "\u001b[1m22/22\u001b[0m \u001b[32m━━━━━━━━━━━━━━━━━━━━\u001b[0m\u001b[37m\u001b[0m \u001b[1m3s\u001b[0m 137ms/step - accuracy: 0.7752 - loss: 0.6837 - val_accuracy: 0.7800 - val_loss: 0.6771\n",
      "Epoch 6/10\n",
      "\u001b[1m22/22\u001b[0m \u001b[32m━━━━━━━━━━━━━━━━━━━━\u001b[0m\u001b[37m\u001b[0m \u001b[1m3s\u001b[0m 134ms/step - accuracy: 0.7754 - loss: 0.6849 - val_accuracy: 0.7800 - val_loss: 0.6784\n",
      "Epoch 7/10\n",
      "\u001b[1m22/22\u001b[0m \u001b[32m━━━━━━━━━━━━━━━━━━━━\u001b[0m\u001b[37m\u001b[0m \u001b[1m3s\u001b[0m 135ms/step - accuracy: 0.7640 - loss: 0.6758 - val_accuracy: 0.7800 - val_loss: 0.6756\n",
      "Epoch 8/10\n",
      "\u001b[1m22/22\u001b[0m \u001b[32m━━━━━━━━━━━━━━━━━━━━\u001b[0m\u001b[37m\u001b[0m \u001b[1m3s\u001b[0m 137ms/step - accuracy: 0.7511 - loss: 0.7062 - val_accuracy: 0.7800 - val_loss: 0.6803\n",
      "Epoch 9/10\n",
      "\u001b[1m22/22\u001b[0m \u001b[32m━━━━━━━━━━━━━━━━━━━━\u001b[0m\u001b[37m\u001b[0m \u001b[1m3s\u001b[0m 135ms/step - accuracy: 0.7756 - loss: 0.6547 - val_accuracy: 0.7367 - val_loss: 0.7233\n",
      "Epoch 10/10\n",
      "\u001b[1m22/22\u001b[0m \u001b[32m━━━━━━━━━━━━━━━━━━━━\u001b[0m\u001b[37m\u001b[0m \u001b[1m3s\u001b[0m 135ms/step - accuracy: 0.7768 - loss: 0.6463 - val_accuracy: 0.7633 - val_loss: 0.6759\n"
     ]
    }
   ],
   "source": [
    "\n",
    "history=model.fit(X_train, y_train, epochs=10, batch_size=32, validation_split=0.3)\n",
    "\n"
   ]
  },
  {
   "cell_type": "markdown",
   "id": "8401b5cc",
   "metadata": {
    "papermill": {
     "duration": 0.02254,
     "end_time": "2025-03-07T13:24:32.437867",
     "exception": false,
     "start_time": "2025-03-07T13:24:32.415327",
     "status": "completed"
    },
    "tags": []
   },
   "source": [
    "#### PLOTTING AND ACCURACY AND LOSS CURVES"
   ]
  },
  {
   "cell_type": "code",
   "execution_count": 18,
   "id": "38346534",
   "metadata": {
    "execution": {
     "iopub.execute_input": "2025-03-07T13:24:32.484640Z",
     "iopub.status.busy": "2025-03-07T13:24:32.484283Z",
     "iopub.status.idle": "2025-03-07T13:24:32.489407Z",
     "shell.execute_reply": "2025-03-07T13:24:32.488374Z"
    },
    "papermill": {
     "duration": 0.030284,
     "end_time": "2025-03-07T13:24:32.490794",
     "exception": false,
     "start_time": "2025-03-07T13:24:32.460510",
     "status": "completed"
    },
    "tags": []
   },
   "outputs": [],
   "source": [
    "import matplotlib.pyplot as plt\n",
    "accuracy=history.history['accuracy']\n",
    "valAccuracy=history.history['val_accuracy']\n",
    "loss = history.history['loss']\n",
    "valLoss = history.history['val_loss']\n",
    "epochs_range = range(1, len(accuracy) + 1)"
   ]
  },
  {
   "cell_type": "code",
   "execution_count": 19,
   "id": "cf998adb",
   "metadata": {
    "execution": {
     "iopub.execute_input": "2025-03-07T13:24:32.538140Z",
     "iopub.status.busy": "2025-03-07T13:24:32.537765Z",
     "iopub.status.idle": "2025-03-07T13:24:32.883285Z",
     "shell.execute_reply": "2025-03-07T13:24:32.882270Z"
    },
    "papermill": {
     "duration": 0.370856,
     "end_time": "2025-03-07T13:24:32.884956",
     "exception": false,
     "start_time": "2025-03-07T13:24:32.514100",
     "status": "completed"
    },
    "tags": []
   },
   "outputs": [
    {
     "data": {
      "text/plain": [
       "Text(0.5, 1.0, 'Training & Validation Accuracy')"
      ]
     },
     "execution_count": 19,
     "metadata": {},
     "output_type": "execute_result"
    },
    {
     "data": {
      "image/png": "[encoded data removed]",
      "text/plain": [
       "<Figure size 1200x500 with 1 Axes>"
      ]
     },
     "metadata": {},
     "output_type": "display_data"
    }
   ],
   "source": [
    "plt.figure(figsize=(12, 5))\n",
    "plt.subplot(1, 2, 1)\n",
    "plt.plot(epochs_range, accuracy, label='Training Accuracy', marker='o')\n",
    "plt.plot(epochs_range, valAccuracy, label='Validation Accuracy', marker='o')\n",
    "plt.legend(loc='lower right')\n",
    "plt.xlabel('Epochs')\n",
    "plt.ylabel('Accuracy')\n",
    "plt.title('Training & Validation Accuracy')"
   ]
  },
  {
   "cell_type": "code",
   "execution_count": 20,
   "id": "29f6dee2",
   "metadata": {
    "execution": {
     "iopub.execute_input": "2025-03-07T13:24:32.933953Z",
     "iopub.status.busy": "2025-03-07T13:24:32.933593Z",
     "iopub.status.idle": "2025-03-07T13:24:33.186145Z",
     "shell.execute_reply": "2025-03-07T13:24:33.185081Z"
    },
    "papermill": {
     "duration": 0.278956,
     "end_time": "2025-03-07T13:24:33.187836",
     "exception": false,
     "start_time": "2025-03-07T13:24:32.908880",
     "status": "completed"
    },
    "tags": []
   },
   "outputs": [
    {
     "data": {
      "text/plain": [
       "Text(0.5, 1.0, 'Training & Validation Loss')"
      ]
     },
     "execution_count": 20,
     "metadata": {},
     "output_type": "execute_result"
    },
    {
     "data": {
      "image/png": "[encoded data removed]",
      "text/plain": [
       "<Figure size 1200x500 with 1 Axes>"
      ]
     },
     "metadata": {},
     "output_type": "display_data"
    }
   ],
   "source": [
    "plt.figure(figsize=(12, 5))\n",
    "plt.subplot(1, 2, 2)\n",
    "plt.plot(epochs_range, loss, label='Training Loss', marker='o')\n",
    "plt.plot(epochs_range, valLoss, label='Validation Loss', marker='o')\n",
    "plt.legend(loc='upper right')\n",
    "plt.xlabel('Epochs')\n",
    "plt.ylabel('Loss')\n",
    "plt.title('Training & Validation Loss')"
   ]
  },
  {
   "cell_type": "markdown",
   "id": "2b7c655c",
   "metadata": {
    "papermill": {
     "duration": 0.024891,
     "end_time": "2025-03-07T13:24:33.238053",
     "exception": false,
     "start_time": "2025-03-07T13:24:33.213162",
     "status": "completed"
    },
    "tags": []
   },
   "source": [
    "##### overfitting"
   ]
  },
  {
   "cell_type": "markdown",
   "id": "8be4010b",
   "metadata": {
    "papermill": {
     "duration": 0.024599,
     "end_time": "2025-03-07T13:24:33.287860",
     "exception": false,
     "start_time": "2025-03-07T13:24:33.263261",
     "status": "completed"
    },
    "tags": []
   },
   "source": [
    "### OUTPUT VS PREDICTED OUTPUT\n"
   ]
  },
  {
   "cell_type": "code",
   "execution_count": 21,
   "id": "8ef242fc",
   "metadata": {
    "execution": {
     "iopub.execute_input": "2025-03-07T13:24:33.339149Z",
     "iopub.status.busy": "2025-03-07T13:24:33.338761Z",
     "iopub.status.idle": "2025-03-07T13:24:35.356249Z",
     "shell.execute_reply": "2025-03-07T13:24:35.355112Z"
    },
    "papermill": {
     "duration": 2.045396,
     "end_time": "2025-03-07T13:24:35.358051",
     "exception": false,
     "start_time": "2025-03-07T13:24:33.312655",
     "status": "completed"
    },
    "tags": []
   },
   "outputs": [
    {
     "name": "stdout",
     "output_type": "stream",
     "text": [
      "\u001b[1m32/32\u001b[0m \u001b[32m━━━━━━━━━━━━━━━━━━━━\u001b[0m\u001b[37m\u001b[0m \u001b[1m2s\u001b[0m 53ms/step\n"
     ]
    }
   ],
   "source": [
    "predictions=model.predict(padded_sequences)\n",
    "predictedClasses=np.argmax(predictions,axis=1)"
   ]
  },
  {
   "cell_type": "code",
   "execution_count": 22,
   "id": "397cd445",
   "metadata": {
    "execution": {
     "iopub.execute_input": "2025-03-07T13:24:35.411004Z",
     "iopub.status.busy": "2025-03-07T13:24:35.410589Z",
     "iopub.status.idle": "2025-03-07T13:24:35.421265Z",
     "shell.execute_reply": "2025-03-07T13:24:35.420286Z"
    },
    "papermill": {
     "duration": 0.038373,
     "end_time": "2025-03-07T13:24:35.422710",
     "exception": false,
     "start_time": "2025-03-07T13:24:35.384337",
     "status": "completed"
    },
    "tags": []
   },
   "outputs": [
    {
     "data": {
      "text/html": [
       "<div>\n",
       "<style scoped>\n",
       "    .dataframe tbody tr th:only-of-type {\n",
       "        vertical-align: middle;\n",
       "    }\n",
       "\n",
       "    .dataframe tbody tr th {\n",
       "        vertical-align: top;\n",
       "    }\n",
       "\n",
       "    .dataframe thead th {\n",
       "        text-align: right;\n",
       "    }\n",
       "</style>\n",
       "<table border=\"1\" class=\"dataframe\">\n",
       "  <thead>\n",
       "    <tr style=\"text-align: right;\">\n",
       "      <th></th>\n",
       "      <th>Text</th>\n",
       "      <th>Actual Sentiment</th>\n",
       "      <th>Predicted Sentiment</th>\n",
       "    </tr>\n",
       "  </thead>\n",
       "  <tbody>\n",
       "    <tr>\n",
       "      <th>348641</th>\n",
       "      <td>Healthier Snack Great taste, crunch and my kid...</td>\n",
       "      <td>1</td>\n",
       "      <td>1</td>\n",
       "    </tr>\n",
       "    <tr>\n",
       "      <th>440075</th>\n",
       "      <td>I like these! I like the flavor of this brand....</td>\n",
       "      <td>1</td>\n",
       "      <td>1</td>\n",
       "    </tr>\n",
       "    <tr>\n",
       "      <th>189500</th>\n",
       "      <td>Coconut Oil I used the coconut oil to moisturi...</td>\n",
       "      <td>1</td>\n",
       "      <td>1</td>\n",
       "    </tr>\n",
       "    <tr>\n",
       "      <th>215092</th>\n",
       "      <td>Delicious for Moms, too! My son loves his Happ...</td>\n",
       "      <td>1</td>\n",
       "      <td>1</td>\n",
       "    </tr>\n",
       "    <tr>\n",
       "      <th>41745</th>\n",
       "      <td>pill pockets The product has served the purpos...</td>\n",
       "      <td>1</td>\n",
       "      <td>1</td>\n",
       "    </tr>\n",
       "    <tr>\n",
       "      <th>184135</th>\n",
       "      <td>Guaranteed yum! I've purchased both the Pro-Tr...</td>\n",
       "      <td>1</td>\n",
       "      <td>1</td>\n",
       "    </tr>\n",
       "    <tr>\n",
       "      <th>288126</th>\n",
       "      <td>yummy &amp; a great price This tomato paste is del...</td>\n",
       "      <td>1</td>\n",
       "      <td>1</td>\n",
       "    </tr>\n",
       "    <tr>\n",
       "      <th>199508</th>\n",
       "      <td>Yay! Flake Bars on Amazon! I was SO happy to s...</td>\n",
       "      <td>1</td>\n",
       "      <td>1</td>\n",
       "    </tr>\n",
       "    <tr>\n",
       "      <th>494955</th>\n",
       "      <td>DELICIOUS Great maple syrup for the maple syru...</td>\n",
       "      <td>1</td>\n",
       "      <td>1</td>\n",
       "    </tr>\n",
       "    <tr>\n",
       "      <th>514305</th>\n",
       "      <td>My cats love this stuff My cats seem to love a...</td>\n",
       "      <td>1</td>\n",
       "      <td>1</td>\n",
       "    </tr>\n",
       "  </tbody>\n",
       "</table>\n",
       "</div>"
      ],
      "text/plain": [
       "                                                     Text  Actual Sentiment  \\\n",
       "348641  Healthier Snack Great taste, crunch and my kid...                 1   \n",
       "440075  I like these! I like the flavor of this brand....                 1   \n",
       "189500  Coconut Oil I used the coconut oil to moisturi...                 1   \n",
       "215092  Delicious for Moms, too! My son loves his Happ...                 1   \n",
       "41745   pill pockets The product has served the purpos...                 1   \n",
       "184135  Guaranteed yum! I've purchased both the Pro-Tr...                 1   \n",
       "288126  yummy & a great price This tomato paste is del...                 1   \n",
       "199508  Yay! Flake Bars on Amazon! I was SO happy to s...                 1   \n",
       "494955  DELICIOUS Great maple syrup for the maple syru...                 1   \n",
       "514305  My cats love this stuff My cats seem to love a...                 1   \n",
       "\n",
       "        Predicted Sentiment  \n",
       "348641                    1  \n",
       "440075                    1  \n",
       "189500                    1  \n",
       "215092                    1  \n",
       "41745                     1  \n",
       "184135                    1  \n",
       "288126                    1  \n",
       "199508                    1  \n",
       "494955                    1  \n",
       "514305                    1  "
      ]
     },
     "execution_count": 22,
     "metadata": {},
     "output_type": "execute_result"
    }
   ],
   "source": [
    "comparisonData=pd.DataFrame({\n",
    "    \"Text\":lmtpData[\"CombinedText\"],\n",
    "    \"Actual Sentiment\":lmtpData[\"Sentiment\"].values,\n",
    "    \"Predicted Sentiment\":predictedClasses\n",
    "})\n",
    "comparisonData.head(10)"
   ]
  },
  {
   "cell_type": "code",
   "execution_count": 23,
   "id": "7e8f454d",
   "metadata": {
    "execution": {
     "iopub.execute_input": "2025-03-07T13:24:35.475767Z",
     "iopub.status.busy": "2025-03-07T13:24:35.475425Z",
     "iopub.status.idle": "2025-03-07T13:24:35.485125Z",
     "shell.execute_reply": "2025-03-07T13:24:35.484112Z"
    },
    "papermill": {
     "duration": 0.037979,
     "end_time": "2025-03-07T13:24:35.486645",
     "exception": false,
     "start_time": "2025-03-07T13:24:35.448666",
     "status": "completed"
    },
    "tags": []
   },
   "outputs": [
    {
     "data": {
      "text/html": [
       "<div>\n",
       "<style scoped>\n",
       "    .dataframe tbody tr th:only-of-type {\n",
       "        vertical-align: middle;\n",
       "    }\n",
       "\n",
       "    .dataframe tbody tr th {\n",
       "        vertical-align: top;\n",
       "    }\n",
       "\n",
       "    .dataframe thead th {\n",
       "        text-align: right;\n",
       "    }\n",
       "</style>\n",
       "<table border=\"1\" class=\"dataframe\">\n",
       "  <thead>\n",
       "    <tr style=\"text-align: right;\">\n",
       "      <th></th>\n",
       "      <th>Text</th>\n",
       "      <th>Actual Sentiment</th>\n",
       "      <th>Predicted Sentiment</th>\n",
       "    </tr>\n",
       "  </thead>\n",
       "  <tbody>\n",
       "    <tr>\n",
       "      <th>348641</th>\n",
       "      <td>Healthier Snack Great taste, crunch and my kid...</td>\n",
       "      <td>1</td>\n",
       "      <td>1</td>\n",
       "    </tr>\n",
       "    <tr>\n",
       "      <th>440075</th>\n",
       "      <td>I like these! I like the flavor of this brand....</td>\n",
       "      <td>1</td>\n",
       "      <td>1</td>\n",
       "    </tr>\n",
       "    <tr>\n",
       "      <th>189500</th>\n",
       "      <td>Coconut Oil I used the coconut oil to moisturi...</td>\n",
       "      <td>1</td>\n",
       "      <td>1</td>\n",
       "    </tr>\n",
       "    <tr>\n",
       "      <th>215092</th>\n",
       "      <td>Delicious for Moms, too! My son loves his Happ...</td>\n",
       "      <td>1</td>\n",
       "      <td>1</td>\n",
       "    </tr>\n",
       "    <tr>\n",
       "      <th>41745</th>\n",
       "      <td>pill pockets The product has served the purpos...</td>\n",
       "      <td>1</td>\n",
       "      <td>1</td>\n",
       "    </tr>\n",
       "    <tr>\n",
       "      <th>184135</th>\n",
       "      <td>Guaranteed yum! I've purchased both the Pro-Tr...</td>\n",
       "      <td>1</td>\n",
       "      <td>1</td>\n",
       "    </tr>\n",
       "    <tr>\n",
       "      <th>288126</th>\n",
       "      <td>yummy &amp; a great price This tomato paste is del...</td>\n",
       "      <td>1</td>\n",
       "      <td>1</td>\n",
       "    </tr>\n",
       "    <tr>\n",
       "      <th>199508</th>\n",
       "      <td>Yay! Flake Bars on Amazon! I was SO happy to s...</td>\n",
       "      <td>1</td>\n",
       "      <td>1</td>\n",
       "    </tr>\n",
       "    <tr>\n",
       "      <th>494955</th>\n",
       "      <td>DELICIOUS Great maple syrup for the maple syru...</td>\n",
       "      <td>1</td>\n",
       "      <td>1</td>\n",
       "    </tr>\n",
       "    <tr>\n",
       "      <th>514305</th>\n",
       "      <td>My cats love this stuff My cats seem to love a...</td>\n",
       "      <td>1</td>\n",
       "      <td>1</td>\n",
       "    </tr>\n",
       "    <tr>\n",
       "      <th>347627</th>\n",
       "      <td>Soothing peppermint, caffeine free I've tried ...</td>\n",
       "      <td>1</td>\n",
       "      <td>1</td>\n",
       "    </tr>\n",
       "    <tr>\n",
       "      <th>132677</th>\n",
       "      <td>No Taste of Passion Fruit! If you want black t...</td>\n",
       "      <td>0</td>\n",
       "      <td>1</td>\n",
       "    </tr>\n",
       "    <tr>\n",
       "      <th>230181</th>\n",
       "      <td>Wake Me Up! I love it! I have a Keurig, and I ...</td>\n",
       "      <td>1</td>\n",
       "      <td>1</td>\n",
       "    </tr>\n",
       "    <tr>\n",
       "      <th>376035</th>\n",
       "      <td>Savior for my Furniture My cat loves this.  Sh...</td>\n",
       "      <td>1</td>\n",
       "      <td>1</td>\n",
       "    </tr>\n",
       "    <tr>\n",
       "      <th>251389</th>\n",
       "      <td>Horrible Not real K-cups. They are horrible an...</td>\n",
       "      <td>0</td>\n",
       "      <td>1</td>\n",
       "    </tr>\n",
       "    <tr>\n",
       "      <th>115188</th>\n",
       "      <td>Vegetarian \"Sloppy Joe\" from Bombay A long tim...</td>\n",
       "      <td>1</td>\n",
       "      <td>1</td>\n",
       "    </tr>\n",
       "    <tr>\n",
       "      <th>352292</th>\n",
       "      <td>Our favorite! We've tried many different K-Cup...</td>\n",
       "      <td>1</td>\n",
       "      <td>1</td>\n",
       "    </tr>\n",
       "    <tr>\n",
       "      <th>559998</th>\n",
       "      <td>I am addicted! Although not for everyone, blue...</td>\n",
       "      <td>1</td>\n",
       "      <td>1</td>\n",
       "    </tr>\n",
       "    <tr>\n",
       "      <th>279694</th>\n",
       "      <td>A wonderful oil I purchased this item through ...</td>\n",
       "      <td>1</td>\n",
       "      <td>1</td>\n",
       "    </tr>\n",
       "    <tr>\n",
       "      <th>351571</th>\n",
       "      <td>Great tater, great price This is my go to tea,...</td>\n",
       "      <td>1</td>\n",
       "      <td>1</td>\n",
       "    </tr>\n",
       "  </tbody>\n",
       "</table>\n",
       "</div>"
      ],
      "text/plain": [
       "                                                     Text  Actual Sentiment  \\\n",
       "348641  Healthier Snack Great taste, crunch and my kid...                 1   \n",
       "440075  I like these! I like the flavor of this brand....                 1   \n",
       "189500  Coconut Oil I used the coconut oil to moisturi...                 1   \n",
       "215092  Delicious for Moms, too! My son loves his Happ...                 1   \n",
       "41745   pill pockets The product has served the purpos...                 1   \n",
       "184135  Guaranteed yum! I've purchased both the Pro-Tr...                 1   \n",
       "288126  yummy & a great price This tomato paste is del...                 1   \n",
       "199508  Yay! Flake Bars on Amazon! I was SO happy to s...                 1   \n",
       "494955  DELICIOUS Great maple syrup for the maple syru...                 1   \n",
       "514305  My cats love this stuff My cats seem to love a...                 1   \n",
       "347627  Soothing peppermint, caffeine free I've tried ...                 1   \n",
       "132677  No Taste of Passion Fruit! If you want black t...                 0   \n",
       "230181  Wake Me Up! I love it! I have a Keurig, and I ...                 1   \n",
       "376035  Savior for my Furniture My cat loves this.  Sh...                 1   \n",
       "251389  Horrible Not real K-cups. They are horrible an...                 0   \n",
       "115188  Vegetarian \"Sloppy Joe\" from Bombay A long tim...                 1   \n",
       "352292  Our favorite! We've tried many different K-Cup...                 1   \n",
       "559998  I am addicted! Although not for everyone, blue...                 1   \n",
       "279694  A wonderful oil I purchased this item through ...                 1   \n",
       "351571  Great tater, great price This is my go to tea,...                 1   \n",
       "\n",
       "        Predicted Sentiment  \n",
       "348641                    1  \n",
       "440075                    1  \n",
       "189500                    1  \n",
       "215092                    1  \n",
       "41745                     1  \n",
       "184135                    1  \n",
       "288126                    1  \n",
       "199508                    1  \n",
       "494955                    1  \n",
       "514305                    1  \n",
       "347627                    1  \n",
       "132677                    1  \n",
       "230181                    1  \n",
       "376035                    1  \n",
       "251389                    1  \n",
       "115188                    1  \n",
       "352292                    1  \n",
       "559998                    1  \n",
       "279694                    1  \n",
       "351571                    1  "
      ]
     },
     "execution_count": 23,
     "metadata": {},
     "output_type": "execute_result"
    }
   ],
   "source": [
    "comparisonData.head(20)"
   ]
  },
  {
   "cell_type": "code",
   "execution_count": null,
   "id": "4b30f5af",
   "metadata": {
    "papermill": {
     "duration": 0.079503,
     "end_time": "2025-03-07T13:24:35.593627",
     "exception": false,
     "start_time": "2025-03-07T13:24:35.514124",
     "status": "completed"
    },
    "tags": []
   },
   "outputs": [],
   "source": []
  },
  {
   "cell_type": "markdown",
   "id": "61a59d45",
   "metadata": {
    "papermill": {
     "duration": 0.026545,
     "end_time": "2025-03-07T13:24:35.650803",
     "exception": false,
     "start_time": "2025-03-07T13:24:35.624258",
     "status": "completed"
    },
    "tags": []
   },
   "source": [
    "## TRAINING USING NEW SAMPLE DATASET"
   ]
  },
  {
   "cell_type": "code",
   "execution_count": 24,
   "id": "0ee56d50",
   "metadata": {
    "execution": {
     "iopub.execute_input": "2025-03-07T13:24:35.704808Z",
     "iopub.status.busy": "2025-03-07T13:24:35.704413Z",
     "iopub.status.idle": "2025-03-07T13:24:35.844343Z",
     "shell.execute_reply": "2025-03-07T13:24:35.843303Z"
    },
    "papermill": {
     "duration": 0.168967,
     "end_time": "2025-03-07T13:24:35.846013",
     "exception": false,
     "start_time": "2025-03-07T13:24:35.677046",
     "status": "completed"
    },
    "tags": []
   },
   "outputs": [
    {
     "data": {
      "text/html": [
       "<div>\n",
       "<style scoped>\n",
       "    .dataframe tbody tr th:only-of-type {\n",
       "        vertical-align: middle;\n",
       "    }\n",
       "\n",
       "    .dataframe tbody tr th {\n",
       "        vertical-align: top;\n",
       "    }\n",
       "\n",
       "    .dataframe thead th {\n",
       "        text-align: right;\n",
       "    }\n",
       "</style>\n",
       "<table border=\"1\" class=\"dataframe\">\n",
       "  <thead>\n",
       "    <tr style=\"text-align: right;\">\n",
       "      <th></th>\n",
       "      <th>Id</th>\n",
       "      <th>ProductId</th>\n",
       "      <th>UserId</th>\n",
       "      <th>ProfileName</th>\n",
       "      <th>HelpfulnessNumerator</th>\n",
       "      <th>HelpfulnessDenominator</th>\n",
       "      <th>Score</th>\n",
       "      <th>Time</th>\n",
       "      <th>Summary</th>\n",
       "      <th>Text</th>\n",
       "    </tr>\n",
       "  </thead>\n",
       "  <tbody>\n",
       "    <tr>\n",
       "      <th>150198</th>\n",
       "      <td>150199</td>\n",
       "      <td>B001SB3WZU</td>\n",
       "      <td>A1P2XYD265YE21</td>\n",
       "      <td>Andrea \"Readaholic\"</td>\n",
       "      <td>6</td>\n",
       "      <td>6</td>\n",
       "      <td>5</td>\n",
       "      <td>1243641600</td>\n",
       "      <td>Amazing Cherry Pie</td>\n",
       "      <td>Before I sing the praises for this wonderful p...</td>\n",
       "    </tr>\n",
       "    <tr>\n",
       "      <th>541147</th>\n",
       "      <td>541148</td>\n",
       "      <td>B000FMTJJQ</td>\n",
       "      <td>A2OEZOQZLR76X5</td>\n",
       "      <td>Sarah</td>\n",
       "      <td>0</td>\n",
       "      <td>2</td>\n",
       "      <td>5</td>\n",
       "      <td>1184284800</td>\n",
       "      <td>delicious!</td>\n",
       "      <td>Madhava Agave Nectar has a suprisingly mild fl...</td>\n",
       "    </tr>\n",
       "    <tr>\n",
       "      <th>480347</th>\n",
       "      <td>480348</td>\n",
       "      <td>B000DZDJ0K</td>\n",
       "      <td>A132ETQPMHQ585</td>\n",
       "      <td>Donna's Reviews \"I Love Shopping on Amazon!\"</td>\n",
       "      <td>0</td>\n",
       "      <td>0</td>\n",
       "      <td>5</td>\n",
       "      <td>1324252800</td>\n",
       "      <td>Love this stuff........</td>\n",
       "      <td>Love this stuff........Pamela's Products Ultim...</td>\n",
       "    </tr>\n",
       "    <tr>\n",
       "      <th>363030</th>\n",
       "      <td>363031</td>\n",
       "      <td>B0049WV8S8</td>\n",
       "      <td>A1YGZKEUNNJB6C</td>\n",
       "      <td>karenk</td>\n",
       "      <td>1</td>\n",
       "      <td>1</td>\n",
       "      <td>5</td>\n",
       "      <td>1335312000</td>\n",
       "      <td>So wonderful that I bought a second one!</td>\n",
       "      <td>Perfect, perfect, perfect.  What a little gem ...</td>\n",
       "    </tr>\n",
       "    <tr>\n",
       "      <th>555895</th>\n",
       "      <td>555896</td>\n",
       "      <td>B004E7A33E</td>\n",
       "      <td>A1OXWH79Y58DB5</td>\n",
       "      <td>flipflop</td>\n",
       "      <td>2</td>\n",
       "      <td>4</td>\n",
       "      <td>2</td>\n",
       "      <td>1320796800</td>\n",
       "      <td>Main ingredient says natural blueberry flavor</td>\n",
       "      <td>I love Olive Nation's Strawberry extract; howe...</td>\n",
       "    </tr>\n",
       "  </tbody>\n",
       "</table>\n",
       "</div>"
      ],
      "text/plain": [
       "            Id   ProductId          UserId  \\\n",
       "150198  150199  B001SB3WZU  A1P2XYD265YE21   \n",
       "541147  541148  B000FMTJJQ  A2OEZOQZLR76X5   \n",
       "480347  480348  B000DZDJ0K  A132ETQPMHQ585   \n",
       "363030  363031  B0049WV8S8  A1YGZKEUNNJB6C   \n",
       "555895  555896  B004E7A33E  A1OXWH79Y58DB5   \n",
       "\n",
       "                                         ProfileName  HelpfulnessNumerator  \\\n",
       "150198                           Andrea \"Readaholic\"                     6   \n",
       "541147                                         Sarah                     0   \n",
       "480347  Donna's Reviews \"I Love Shopping on Amazon!\"                     0   \n",
       "363030                                        karenk                     1   \n",
       "555895                                      flipflop                     2   \n",
       "\n",
       "        HelpfulnessDenominator  Score        Time  \\\n",
       "150198                       6      5  1243641600   \n",
       "541147                       2      5  1184284800   \n",
       "480347                       0      5  1324252800   \n",
       "363030                       1      5  1335312000   \n",
       "555895                       4      2  1320796800   \n",
       "\n",
       "                                              Summary  \\\n",
       "150198                             Amazing Cherry Pie   \n",
       "541147                                     delicious!   \n",
       "480347                        Love this stuff........   \n",
       "363030       So wonderful that I bought a second one!   \n",
       "555895  Main ingredient says natural blueberry flavor   \n",
       "\n",
       "                                                     Text  \n",
       "150198  Before I sing the praises for this wonderful p...  \n",
       "541147  Madhava Agave Nectar has a suprisingly mild fl...  \n",
       "480347  Love this stuff........Pamela's Products Ultim...  \n",
       "363030  Perfect, perfect, perfect.  What a little gem ...  \n",
       "555895  I love Olive Nation's Strawberry extract; howe...  "
      ]
     },
     "execution_count": 24,
     "metadata": {},
     "output_type": "execute_result"
    }
   ],
   "source": [
    "droppedData=dataset.drop(lmtpData.index)\n",
    "dataset2=droppedData.sample(1000,random_state=43)\n",
    "dataset2.head()"
   ]
  },
  {
   "cell_type": "code",
   "execution_count": 25,
   "id": "2ebc433f",
   "metadata": {
    "execution": {
     "iopub.execute_input": "2025-03-07T13:24:35.902020Z",
     "iopub.status.busy": "2025-03-07T13:24:35.901670Z",
     "iopub.status.idle": "2025-03-07T13:24:35.911705Z",
     "shell.execute_reply": "2025-03-07T13:24:35.910684Z"
    },
    "papermill": {
     "duration": 0.039346,
     "end_time": "2025-03-07T13:24:35.913646",
     "exception": false,
     "start_time": "2025-03-07T13:24:35.874300",
     "status": "completed"
    },
    "tags": []
   },
   "outputs": [
    {
     "data": {
      "text/html": [
       "<div>\n",
       "<style scoped>\n",
       "    .dataframe tbody tr th:only-of-type {\n",
       "        vertical-align: middle;\n",
       "    }\n",
       "\n",
       "    .dataframe tbody tr th {\n",
       "        vertical-align: top;\n",
       "    }\n",
       "\n",
       "    .dataframe thead th {\n",
       "        text-align: right;\n",
       "    }\n",
       "</style>\n",
       "<table border=\"1\" class=\"dataframe\">\n",
       "  <thead>\n",
       "    <tr style=\"text-align: right;\">\n",
       "      <th></th>\n",
       "      <th>Score</th>\n",
       "      <th>Summary</th>\n",
       "      <th>Text</th>\n",
       "    </tr>\n",
       "  </thead>\n",
       "  <tbody>\n",
       "    <tr>\n",
       "      <th>150198</th>\n",
       "      <td>5</td>\n",
       "      <td>Amazing Cherry Pie</td>\n",
       "      <td>Before I sing the praises for this wonderful p...</td>\n",
       "    </tr>\n",
       "    <tr>\n",
       "      <th>541147</th>\n",
       "      <td>5</td>\n",
       "      <td>delicious!</td>\n",
       "      <td>Madhava Agave Nectar has a suprisingly mild fl...</td>\n",
       "    </tr>\n",
       "    <tr>\n",
       "      <th>480347</th>\n",
       "      <td>5</td>\n",
       "      <td>Love this stuff........</td>\n",
       "      <td>Love this stuff........Pamela's Products Ultim...</td>\n",
       "    </tr>\n",
       "    <tr>\n",
       "      <th>363030</th>\n",
       "      <td>5</td>\n",
       "      <td>So wonderful that I bought a second one!</td>\n",
       "      <td>Perfect, perfect, perfect.  What a little gem ...</td>\n",
       "    </tr>\n",
       "    <tr>\n",
       "      <th>555895</th>\n",
       "      <td>2</td>\n",
       "      <td>Main ingredient says natural blueberry flavor</td>\n",
       "      <td>I love Olive Nation's Strawberry extract; howe...</td>\n",
       "    </tr>\n",
       "  </tbody>\n",
       "</table>\n",
       "</div>"
      ],
      "text/plain": [
       "        Score                                        Summary  \\\n",
       "150198      5                             Amazing Cherry Pie   \n",
       "541147      5                                     delicious!   \n",
       "480347      5                        Love this stuff........   \n",
       "363030      5       So wonderful that I bought a second one!   \n",
       "555895      2  Main ingredient says natural blueberry flavor   \n",
       "\n",
       "                                                     Text  \n",
       "150198  Before I sing the praises for this wonderful p...  \n",
       "541147  Madhava Agave Nectar has a suprisingly mild fl...  \n",
       "480347  Love this stuff........Pamela's Products Ultim...  \n",
       "363030  Perfect, perfect, perfect.  What a little gem ...  \n",
       "555895  I love Olive Nation's Strawberry extract; howe...  "
      ]
     },
     "execution_count": 25,
     "metadata": {},
     "output_type": "execute_result"
    }
   ],
   "source": [
    "lmtpData2=dataset2[['Score','Summary','Text']]\n",
    "lmtpData2.head()"
   ]
  },
  {
   "cell_type": "code",
   "execution_count": 26,
   "id": "b136aea4",
   "metadata": {
    "execution": {
     "iopub.execute_input": "2025-03-07T13:24:35.968961Z",
     "iopub.status.busy": "2025-03-07T13:24:35.968621Z",
     "iopub.status.idle": "2025-03-07T13:24:35.975922Z",
     "shell.execute_reply": "2025-03-07T13:24:35.975119Z"
    },
    "papermill": {
     "duration": 0.036462,
     "end_time": "2025-03-07T13:24:35.977510",
     "exception": false,
     "start_time": "2025-03-07T13:24:35.941048",
     "status": "completed"
    },
    "tags": []
   },
   "outputs": [],
   "source": [
    "lmtpData2 = lmtpData2.copy()\n",
    "lmtpData2['Summary'] = lmtpData2['Summary'].fillna(\"\")\n",
    "lmtpData2['CombinedText'] = lmtpData2['Summary'] + \" \" + lmtpData2['Text']\n"
   ]
  },
  {
   "cell_type": "code",
   "execution_count": 27,
   "id": "9973eedb",
   "metadata": {
    "execution": {
     "iopub.execute_input": "2025-03-07T13:24:36.033600Z",
     "iopub.status.busy": "2025-03-07T13:24:36.033288Z",
     "iopub.status.idle": "2025-03-07T13:24:36.043445Z",
     "shell.execute_reply": "2025-03-07T13:24:36.042365Z"
    },
    "papermill": {
     "duration": 0.040135,
     "end_time": "2025-03-07T13:24:36.045071",
     "exception": false,
     "start_time": "2025-03-07T13:24:36.004936",
     "status": "completed"
    },
    "tags": []
   },
   "outputs": [
    {
     "name": "stdout",
     "output_type": "stream",
     "text": [
      "<class 'pandas.core.frame.DataFrame'>\n",
      "Index: 1000 entries, 150198 to 28985\n",
      "Data columns (total 4 columns):\n",
      " #   Column        Non-Null Count  Dtype \n",
      "---  ------        --------------  ----- \n",
      " 0   Score         1000 non-null   int64 \n",
      " 1   Summary       1000 non-null   object\n",
      " 2   Text          1000 non-null   object\n",
      " 3   CombinedText  1000 non-null   object\n",
      "dtypes: int64(1), object(3)\n",
      "memory usage: 39.1+ KB\n"
     ]
    }
   ],
   "source": [
    "lmtpData2.info()"
   ]
  },
  {
   "cell_type": "markdown",
   "id": "305b75f1",
   "metadata": {
    "papermill": {
     "duration": 0.026395,
     "end_time": "2025-03-07T13:24:36.098420",
     "exception": false,
     "start_time": "2025-03-07T13:24:36.072025",
     "status": "completed"
    },
    "tags": []
   },
   "source": []
  },
  {
   "cell_type": "code",
   "execution_count": 28,
   "id": "ac7de9dc",
   "metadata": {
    "execution": {
     "iopub.execute_input": "2025-03-07T13:24:36.153849Z",
     "iopub.status.busy": "2025-03-07T13:24:36.153499Z",
     "iopub.status.idle": "2025-03-07T13:24:36.164525Z",
     "shell.execute_reply": "2025-03-07T13:24:36.163566Z"
    },
    "papermill": {
     "duration": 0.040642,
     "end_time": "2025-03-07T13:24:36.166138",
     "exception": false,
     "start_time": "2025-03-07T13:24:36.125496",
     "status": "completed"
    },
    "tags": []
   },
   "outputs": [
    {
     "data": {
      "text/html": [
       "<div>\n",
       "<style scoped>\n",
       "    .dataframe tbody tr th:only-of-type {\n",
       "        vertical-align: middle;\n",
       "    }\n",
       "\n",
       "    .dataframe tbody tr th {\n",
       "        vertical-align: top;\n",
       "    }\n",
       "\n",
       "    .dataframe thead th {\n",
       "        text-align: right;\n",
       "    }\n",
       "</style>\n",
       "<table border=\"1\" class=\"dataframe\">\n",
       "  <thead>\n",
       "    <tr style=\"text-align: right;\">\n",
       "      <th></th>\n",
       "      <th>Score</th>\n",
       "      <th>Summary</th>\n",
       "      <th>Text</th>\n",
       "      <th>CombinedText</th>\n",
       "      <th>Sentiment</th>\n",
       "    </tr>\n",
       "  </thead>\n",
       "  <tbody>\n",
       "    <tr>\n",
       "      <th>150198</th>\n",
       "      <td>5</td>\n",
       "      <td>Amazing Cherry Pie</td>\n",
       "      <td>Before I sing the praises for this wonderful p...</td>\n",
       "      <td>Amazing Cherry Pie Before I sing the praises f...</td>\n",
       "      <td>1</td>\n",
       "    </tr>\n",
       "    <tr>\n",
       "      <th>541147</th>\n",
       "      <td>5</td>\n",
       "      <td>delicious!</td>\n",
       "      <td>Madhava Agave Nectar has a suprisingly mild fl...</td>\n",
       "      <td>delicious! Madhava Agave Nectar has a suprisin...</td>\n",
       "      <td>1</td>\n",
       "    </tr>\n",
       "    <tr>\n",
       "      <th>480347</th>\n",
       "      <td>5</td>\n",
       "      <td>Love this stuff........</td>\n",
       "      <td>Love this stuff........Pamela's Products Ultim...</td>\n",
       "      <td>Love this stuff........ Love this stuff..........</td>\n",
       "      <td>1</td>\n",
       "    </tr>\n",
       "    <tr>\n",
       "      <th>363030</th>\n",
       "      <td>5</td>\n",
       "      <td>So wonderful that I bought a second one!</td>\n",
       "      <td>Perfect, perfect, perfect.  What a little gem ...</td>\n",
       "      <td>So wonderful that I bought a second one! Perfe...</td>\n",
       "      <td>1</td>\n",
       "    </tr>\n",
       "    <tr>\n",
       "      <th>555895</th>\n",
       "      <td>2</td>\n",
       "      <td>Main ingredient says natural blueberry flavor</td>\n",
       "      <td>I love Olive Nation's Strawberry extract; howe...</td>\n",
       "      <td>Main ingredient says natural blueberry flavor ...</td>\n",
       "      <td>0</td>\n",
       "    </tr>\n",
       "  </tbody>\n",
       "</table>\n",
       "</div>"
      ],
      "text/plain": [
       "        Score                                        Summary  \\\n",
       "150198      5                             Amazing Cherry Pie   \n",
       "541147      5                                     delicious!   \n",
       "480347      5                        Love this stuff........   \n",
       "363030      5       So wonderful that I bought a second one!   \n",
       "555895      2  Main ingredient says natural blueberry flavor   \n",
       "\n",
       "                                                     Text  \\\n",
       "150198  Before I sing the praises for this wonderful p...   \n",
       "541147  Madhava Agave Nectar has a suprisingly mild fl...   \n",
       "480347  Love this stuff........Pamela's Products Ultim...   \n",
       "363030  Perfect, perfect, perfect.  What a little gem ...   \n",
       "555895  I love Olive Nation's Strawberry extract; howe...   \n",
       "\n",
       "                                             CombinedText  Sentiment  \n",
       "150198  Amazing Cherry Pie Before I sing the praises f...          1  \n",
       "541147  delicious! Madhava Agave Nectar has a suprisin...          1  \n",
       "480347  Love this stuff........ Love this stuff..........          1  \n",
       "363030  So wonderful that I bought a second one! Perfe...          1  \n",
       "555895  Main ingredient says natural blueberry flavor ...          0  "
      ]
     },
     "execution_count": 28,
     "metadata": {},
     "output_type": "execute_result"
    }
   ],
   "source": [
    "\n",
    "lmtpData2['Sentiment']=lmtpData2['Score'].apply(lblScore)\n",
    "lmtpData2.head(5)"
   ]
  },
  {
   "cell_type": "code",
   "execution_count": 29,
   "id": "ebdf5d3e",
   "metadata": {
    "execution": {
     "iopub.execute_input": "2025-03-07T13:24:36.221387Z",
     "iopub.status.busy": "2025-03-07T13:24:36.221043Z",
     "iopub.status.idle": "2025-03-07T13:24:36.374372Z",
     "shell.execute_reply": "2025-03-07T13:24:36.373138Z"
    },
    "papermill": {
     "duration": 0.183425,
     "end_time": "2025-03-07T13:24:36.376556",
     "exception": false,
     "start_time": "2025-03-07T13:24:36.193131",
     "status": "completed"
    },
    "tags": []
   },
   "outputs": [],
   "source": [
    "tokenizer.fit_on_texts(lmtpData2['CombinedText'])\n",
    "sequences=tokenizer.texts_to_sequences(lmtpData2['CombinedText'])\n",
    "\n",
    "maxLen=100\n",
    "paddedData=pad_sequences(sequences,maxlen=maxLen,padding='post')\n",
    "embedding_dim=100\n",
    "vocabSize=len(tokenizer.word_index) + 1\n",
    "\n",
    "embeddingMatrix2=np.zeros((vocabSize,embedding_dim))\n",
    "\n",
    "for word,i in tokenizer.word_index.items():\n",
    "    embeddingVector2=gloveEmbeddings.get(word)\n",
    "    if embeddingVector2 is not None:\n",
    "        embeddingMatrix2[i]=embeddingVector2"
   ]
  },
  {
   "cell_type": "markdown",
   "id": "6a5cd7dd",
   "metadata": {
    "papermill": {
     "duration": 0.02684,
     "end_time": "2025-03-07T13:24:36.430774",
     "exception": false,
     "start_time": "2025-03-07T13:24:36.403934",
     "status": "completed"
    },
    "tags": []
   },
   "source": [
    "### BALANCING THE CLASSES"
   ]
  },
  {
   "cell_type": "code",
   "execution_count": 30,
   "id": "5427b6b5",
   "metadata": {
    "execution": {
     "iopub.execute_input": "2025-03-07T13:24:36.486934Z",
     "iopub.status.busy": "2025-03-07T13:24:36.486616Z",
     "iopub.status.idle": "2025-03-07T13:24:38.915447Z",
     "shell.execute_reply": "2025-03-07T13:24:38.914517Z"
    },
    "papermill": {
     "duration": 2.458982,
     "end_time": "2025-03-07T13:24:38.917352",
     "exception": false,
     "start_time": "2025-03-07T13:24:36.458370",
     "status": "completed"
    },
    "tags": []
   },
   "outputs": [],
   "source": [
    "from imblearn.over_sampling import SMOTE\n",
    "\n",
    "\n",
    "y2 = lmtpData2['Sentiment'].values\n",
    "\n",
    "\n",
    "smote = SMOTE(random_state=42)\n",
    "X_resampled, Y_resampled = smote.fit_resample(paddedData, y2)\n"
   ]
  },
  {
   "cell_type": "markdown",
   "id": "decc803a",
   "metadata": {
    "papermill": {
     "duration": 0.028418,
     "end_time": "2025-03-07T13:24:38.973172",
     "exception": false,
     "start_time": "2025-03-07T13:24:38.944754",
     "status": "completed"
    },
    "tags": []
   },
   "source": []
  },
  {
   "cell_type": "code",
   "execution_count": 31,
   "id": "0090f79f",
   "metadata": {
    "execution": {
     "iopub.execute_input": "2025-03-07T13:24:39.032592Z",
     "iopub.status.busy": "2025-03-07T13:24:39.031741Z",
     "iopub.status.idle": "2025-03-07T13:24:39.126237Z",
     "shell.execute_reply": "2025-03-07T13:24:39.125222Z"
    },
    "papermill": {
     "duration": 0.125769,
     "end_time": "2025-03-07T13:24:39.127815",
     "exception": false,
     "start_time": "2025-03-07T13:24:39.002046",
     "status": "completed"
    },
    "tags": []
   },
   "outputs": [
    {
     "data": {
      "text/html": [
       "<pre style=\"white-space:pre;overflow-x:auto;line-height:normal;font-family:Menlo,'DejaVu Sans Mono',consolas,'Courier New',monospace\"><span style=\"font-weight: bold\">Model: \"sequential_1\"</span>\n",
       "</pre>\n"
      ],
      "text/plain": [
       "\u001b[1mModel: \"sequential_1\"\u001b[0m\n"
      ]
     },
     "metadata": {},
     "output_type": "display_data"
    },
    {
     "data": {
      "text/html": [
       "<pre style=\"white-space:pre;overflow-x:auto;line-height:normal;font-family:Menlo,'DejaVu Sans Mono',consolas,'Courier New',monospace\">┏━━━━━━━━━━━━━━━━━━━━━━━━━━━━━━━━━━━━━━┳━━━━━━━━━━━━━━━━━━━━━━━━━━━━━┳━━━━━━━━━━━━━━━━━┓\n",
       "┃<span style=\"font-weight: bold\"> Layer (type)                         </span>┃<span style=\"font-weight: bold\"> Output Shape                </span>┃<span style=\"font-weight: bold\">         Param # </span>┃\n",
       "┡━━━━━━━━━━━━━━━━━━━━━━━━━━━━━━━━━━━━━━╇━━━━━━━━━━━━━━━━━━━━━━━━━━━━━╇━━━━━━━━━━━━━━━━━┩\n",
       "│ embedding_1 (<span style=\"color: #0087ff; text-decoration-color: #0087ff\">Embedding</span>)              │ (<span style=\"color: #00d7ff; text-decoration-color: #00d7ff\">None</span>, <span style=\"color: #00af00; text-decoration-color: #00af00\">100</span>, <span style=\"color: #00af00; text-decoration-color: #00af00\">100</span>)            │       <span style=\"color: #00af00; text-decoration-color: #00af00\">1,021,900</span> │\n",
       "├──────────────────────────────────────┼─────────────────────────────┼─────────────────┤\n",
       "│ lstm_2 (<span style=\"color: #0087ff; text-decoration-color: #0087ff\">LSTM</span>)                        │ (<span style=\"color: #00d7ff; text-decoration-color: #00d7ff\">None</span>, <span style=\"color: #00af00; text-decoration-color: #00af00\">100</span>, <span style=\"color: #00af00; text-decoration-color: #00af00\">128</span>)            │         <span style=\"color: #00af00; text-decoration-color: #00af00\">117,248</span> │\n",
       "├──────────────────────────────────────┼─────────────────────────────┼─────────────────┤\n",
       "│ lstm_3 (<span style=\"color: #0087ff; text-decoration-color: #0087ff\">LSTM</span>)                        │ (<span style=\"color: #00d7ff; text-decoration-color: #00d7ff\">None</span>, <span style=\"color: #00af00; text-decoration-color: #00af00\">64</span>)                  │          <span style=\"color: #00af00; text-decoration-color: #00af00\">49,408</span> │\n",
       "├──────────────────────────────────────┼─────────────────────────────┼─────────────────┤\n",
       "│ dropout_1 (<span style=\"color: #0087ff; text-decoration-color: #0087ff\">Dropout</span>)                  │ (<span style=\"color: #00d7ff; text-decoration-color: #00d7ff\">None</span>, <span style=\"color: #00af00; text-decoration-color: #00af00\">64</span>)                  │               <span style=\"color: #00af00; text-decoration-color: #00af00\">0</span> │\n",
       "├──────────────────────────────────────┼─────────────────────────────┼─────────────────┤\n",
       "│ dense_1 (<span style=\"color: #0087ff; text-decoration-color: #0087ff\">Dense</span>)                      │ (<span style=\"color: #00d7ff; text-decoration-color: #00d7ff\">None</span>, <span style=\"color: #00af00; text-decoration-color: #00af00\">3</span>)                   │             <span style=\"color: #00af00; text-decoration-color: #00af00\">195</span> │\n",
       "└──────────────────────────────────────┴─────────────────────────────┴─────────────────┘\n",
       "</pre>\n"
      ],
      "text/plain": [
       "┏━━━━━━━━━━━━━━━━━━━━━━━━━━━━━━━━━━━━━━┳━━━━━━━━━━━━━━━━━━━━━━━━━━━━━┳━━━━━━━━━━━━━━━━━┓\n",
       "┃\u001b[1m \u001b[0m\u001b[1mLayer (type)                        \u001b[0m\u001b[1m \u001b[0m┃\u001b[1m \u001b[0m\u001b[1mOutput Shape               \u001b[0m\u001b[1m \u001b[0m┃\u001b[1m \u001b[0m\u001b[1m        Param #\u001b[0m\u001b[1m \u001b[0m┃\n",
       "┡━━━━━━━━━━━━━━━━━━━━━━━━━━━━━━━━━━━━━━╇━━━━━━━━━━━━━━━━━━━━━━━━━━━━━╇━━━━━━━━━━━━━━━━━┩\n",
       "│ embedding_1 (\u001b[38;5;33mEmbedding\u001b[0m)              │ (\u001b[38;5;45mNone\u001b[0m, \u001b[38;5;34m100\u001b[0m, \u001b[38;5;34m100\u001b[0m)            │       \u001b[38;5;34m1,021,900\u001b[0m │\n",
       "├──────────────────────────────────────┼─────────────────────────────┼─────────────────┤\n",
       "│ lstm_2 (\u001b[38;5;33mLSTM\u001b[0m)                        │ (\u001b[38;5;45mNone\u001b[0m, \u001b[38;5;34m100\u001b[0m, \u001b[38;5;34m128\u001b[0m)            │         \u001b[38;5;34m117,248\u001b[0m │\n",
       "├──────────────────────────────────────┼─────────────────────────────┼─────────────────┤\n",
       "│ lstm_3 (\u001b[38;5;33mLSTM\u001b[0m)                        │ (\u001b[38;5;45mNone\u001b[0m, \u001b[38;5;34m64\u001b[0m)                  │          \u001b[38;5;34m49,408\u001b[0m │\n",
       "├──────────────────────────────────────┼─────────────────────────────┼─────────────────┤\n",
       "│ dropout_1 (\u001b[38;5;33mDropout\u001b[0m)                  │ (\u001b[38;5;45mNone\u001b[0m, \u001b[38;5;34m64\u001b[0m)                  │               \u001b[38;5;34m0\u001b[0m │\n",
       "├──────────────────────────────────────┼─────────────────────────────┼─────────────────┤\n",
       "│ dense_1 (\u001b[38;5;33mDense\u001b[0m)                      │ (\u001b[38;5;45mNone\u001b[0m, \u001b[38;5;34m3\u001b[0m)                   │             \u001b[38;5;34m195\u001b[0m │\n",
       "└──────────────────────────────────────┴─────────────────────────────┴─────────────────┘\n"
      ]
     },
     "metadata": {},
     "output_type": "display_data"
    },
    {
     "data": {
      "text/html": [
       "<pre style=\"white-space:pre;overflow-x:auto;line-height:normal;font-family:Menlo,'DejaVu Sans Mono',consolas,'Courier New',monospace\"><span style=\"font-weight: bold\"> Total params: </span><span style=\"color: #00af00; text-decoration-color: #00af00\">1,188,751</span> (4.53 MB)\n",
       "</pre>\n"
      ],
      "text/plain": [
       "\u001b[1m Total params: \u001b[0m\u001b[38;5;34m1,188,751\u001b[0m (4.53 MB)\n"
      ]
     },
     "metadata": {},
     "output_type": "display_data"
    },
    {
     "data": {
      "text/html": [
       "<pre style=\"white-space:pre;overflow-x:auto;line-height:normal;font-family:Menlo,'DejaVu Sans Mono',consolas,'Courier New',monospace\"><span style=\"font-weight: bold\"> Trainable params: </span><span style=\"color: #00af00; text-decoration-color: #00af00\">166,851</span> (651.76 KB)\n",
       "</pre>\n"
      ],
      "text/plain": [
       "\u001b[1m Trainable params: \u001b[0m\u001b[38;5;34m166,851\u001b[0m (651.76 KB)\n"
      ]
     },
     "metadata": {},
     "output_type": "display_data"
    },
    {
     "data": {
      "text/html": [
       "<pre style=\"white-space:pre;overflow-x:auto;line-height:normal;font-family:Menlo,'DejaVu Sans Mono',consolas,'Courier New',monospace\"><span style=\"font-weight: bold\"> Non-trainable params: </span><span style=\"color: #00af00; text-decoration-color: #00af00\">1,021,900</span> (3.90 MB)\n",
       "</pre>\n"
      ],
      "text/plain": [
       "\u001b[1m Non-trainable params: \u001b[0m\u001b[38;5;34m1,021,900\u001b[0m (3.90 MB)\n"
      ]
     },
     "metadata": {},
     "output_type": "display_data"
    }
   ],
   "source": [
    "maxLen=100\n",
    "model = Sequential([\n",
    "    Input(shape=(maxLen,)),\n",
    "    Embedding(input_dim=vocabSize,  \n",
    "              output_dim=embedding_dim, \n",
    "              weights=embeddingMatrix2, \n",
    "             \n",
    "              trainable=False), \n",
    "    LSTM(128, return_sequences=True),\n",
    "    LSTM(64),\n",
    "    Dropout(0.6),\n",
    "    Dense(3, activation='softmax') \n",
    "])\n",
    "\n",
    "\n",
    "model.compile(loss='sparse_categorical_crossentropy', optimizer='adam', metrics=['accuracy'])\n",
    "\n",
    "model.summary()\n"
   ]
  },
  {
   "cell_type": "code",
   "execution_count": 32,
   "id": "58375bfd",
   "metadata": {
    "execution": {
     "iopub.execute_input": "2025-03-07T13:24:39.184026Z",
     "iopub.status.busy": "2025-03-07T13:24:39.183621Z",
     "iopub.status.idle": "2025-03-07T13:25:26.959087Z",
     "shell.execute_reply": "2025-03-07T13:25:26.957907Z"
    },
    "papermill": {
     "duration": 47.805134,
     "end_time": "2025-03-07T13:25:26.960784",
     "exception": false,
     "start_time": "2025-03-07T13:24:39.155650",
     "status": "completed"
    },
    "tags": []
   },
   "outputs": [
    {
     "name": "stdout",
     "output_type": "stream",
     "text": [
      "Epoch 1/6\n",
      "\u001b[1m50/50\u001b[0m \u001b[32m━━━━━━━━━━━━━━━━━━━━\u001b[0m\u001b[37m\u001b[0m \u001b[1m10s\u001b[0m 149ms/step - accuracy: 0.4590 - loss: 0.9985 - val_accuracy: 0.0088 - val_loss: 2.6649\n",
      "Epoch 2/6\n",
      "\u001b[1m50/50\u001b[0m \u001b[32m━━━━━━━━━━━━━━━━━━━━\u001b[0m\u001b[37m\u001b[0m \u001b[1m7s\u001b[0m 136ms/step - accuracy: 0.4741 - loss: 0.8985 - val_accuracy: 0.0044 - val_loss: 2.8289\n",
      "Epoch 3/6\n",
      "\u001b[1m50/50\u001b[0m \u001b[32m━━━━━━━━━━━━━━━━━━━━\u001b[0m\u001b[37m\u001b[0m \u001b[1m7s\u001b[0m 135ms/step - accuracy: 0.5118 - loss: 0.8618 - val_accuracy: 0.0073 - val_loss: 2.0317\n",
      "Epoch 4/6\n",
      "\u001b[1m50/50\u001b[0m \u001b[32m━━━━━━━━━━━━━━━━━━━━\u001b[0m\u001b[37m\u001b[0m \u001b[1m10s\u001b[0m 133ms/step - accuracy: 0.5276 - loss: 0.8616 - val_accuracy: 0.0044 - val_loss: 3.0940\n",
      "Epoch 5/6\n",
      "\u001b[1m50/50\u001b[0m \u001b[32m━━━━━━━━━━━━━━━━━━━━\u001b[0m\u001b[37m\u001b[0m \u001b[1m7s\u001b[0m 140ms/step - accuracy: 0.5456 - loss: 0.8566 - val_accuracy: 0.0073 - val_loss: 3.1555\n",
      "Epoch 6/6\n",
      "\u001b[1m50/50\u001b[0m \u001b[32m━━━━━━━━━━━━━━━━━━━━\u001b[0m\u001b[37m\u001b[0m \u001b[1m7s\u001b[0m 135ms/step - accuracy: 0.5435 - loss: 0.8362 - val_accuracy: 0.0044 - val_loss: 2.9230\n"
     ]
    },
    {
     "data": {
      "text/plain": [
       "<keras.src.callbacks.history.History at 0x7dd199c54280>"
      ]
     },
     "execution_count": 32,
     "metadata": {},
     "output_type": "execute_result"
    }
   ],
   "source": [
    "model.fit(X_resampled, Y_resampled, epochs=6, batch_size=32, validation_split=0.3)"
   ]
  },
  {
   "cell_type": "code",
   "execution_count": 33,
   "id": "a7d52177",
   "metadata": {
    "execution": {
     "iopub.execute_input": "2025-03-07T13:25:27.052897Z",
     "iopub.status.busy": "2025-03-07T13:25:27.052543Z",
     "iopub.status.idle": "2025-03-07T13:27:05.519002Z",
     "shell.execute_reply": "2025-03-07T13:27:05.517981Z"
    },
    "papermill": {
     "duration": 98.514377,
     "end_time": "2025-03-07T13:27:05.520757",
     "exception": false,
     "start_time": "2025-03-07T13:25:27.006380",
     "status": "completed"
    },
    "tags": []
   },
   "outputs": [
    {
     "name": "stdout",
     "output_type": "stream",
     "text": [
      "Epoch 1/15\n",
      "\u001b[1m43/43\u001b[0m \u001b[32m━━━━━━━━━━━━━━━━━━━━\u001b[0m\u001b[37m\u001b[0m \u001b[1m6s\u001b[0m 145ms/step - accuracy: 0.6076 - loss: 0.8223 - val_accuracy: 0.1462 - val_loss: 2.2105\n",
      "Epoch 2/15\n",
      "\u001b[1m43/43\u001b[0m \u001b[32m━━━━━━━━━━━━━━━━━━━━\u001b[0m\u001b[37m\u001b[0m \u001b[1m6s\u001b[0m 145ms/step - accuracy: 0.6011 - loss: 0.8254 - val_accuracy: 0.0659 - val_loss: 2.3350\n",
      "Epoch 3/15\n",
      "\u001b[1m43/43\u001b[0m \u001b[32m━━━━━━━━━━━━━━━━━━━━\u001b[0m\u001b[37m\u001b[0m \u001b[1m11s\u001b[0m 153ms/step - accuracy: 0.6203 - loss: 0.8036 - val_accuracy: 0.1560 - val_loss: 2.0955\n",
      "Epoch 4/15\n",
      "\u001b[1m43/43\u001b[0m \u001b[32m━━━━━━━━━━━━━━━━━━━━\u001b[0m\u001b[37m\u001b[0m \u001b[1m6s\u001b[0m 146ms/step - accuracy: 0.7014 - loss: 0.7115 - val_accuracy: 0.1681 - val_loss: 2.5099\n",
      "Epoch 5/15\n",
      "\u001b[1m43/43\u001b[0m \u001b[32m━━━━━━━━━━━━━━━━━━━━\u001b[0m\u001b[37m\u001b[0m \u001b[1m6s\u001b[0m 145ms/step - accuracy: 0.7290 - loss: 0.6705 - val_accuracy: 0.1044 - val_loss: 2.7242\n",
      "Epoch 6/15\n",
      "\u001b[1m43/43\u001b[0m \u001b[32m━━━━━━━━━━━━━━━━━━━━\u001b[0m\u001b[37m\u001b[0m \u001b[1m6s\u001b[0m 144ms/step - accuracy: 0.7213 - loss: 0.6703 - val_accuracy: 0.1495 - val_loss: 2.6459\n",
      "Epoch 7/15\n",
      "\u001b[1m43/43\u001b[0m \u001b[32m━━━━━━━━━━━━━━━━━━━━\u001b[0m\u001b[37m\u001b[0m \u001b[1m6s\u001b[0m 143ms/step - accuracy: 0.7190 - loss: 0.6843 - val_accuracy: 0.0264 - val_loss: 2.0993\n",
      "Epoch 8/15\n",
      "\u001b[1m43/43\u001b[0m \u001b[32m━━━━━━━━━━━━━━━━━━━━\u001b[0m\u001b[37m\u001b[0m \u001b[1m6s\u001b[0m 147ms/step - accuracy: 0.5582 - loss: 0.8241 - val_accuracy: 0.0088 - val_loss: 2.8338\n",
      "Epoch 9/15\n",
      "\u001b[1m43/43\u001b[0m \u001b[32m━━━━━━━━━━━━━━━━━━━━\u001b[0m\u001b[37m\u001b[0m \u001b[1m6s\u001b[0m 150ms/step - accuracy: 0.5756 - loss: 0.8189 - val_accuracy: 0.0736 - val_loss: 2.7528\n",
      "Epoch 10/15\n",
      "\u001b[1m43/43\u001b[0m \u001b[32m━━━━━━━━━━━━━━━━━━━━\u001b[0m\u001b[37m\u001b[0m \u001b[1m6s\u001b[0m 146ms/step - accuracy: 0.6019 - loss: 0.7547 - val_accuracy: 0.1022 - val_loss: 2.6826\n",
      "Epoch 11/15\n",
      "\u001b[1m43/43\u001b[0m \u001b[32m━━━━━━━━━━━━━━━━━━━━\u001b[0m\u001b[37m\u001b[0m \u001b[1m6s\u001b[0m 146ms/step - accuracy: 0.7042 - loss: 0.6803 - val_accuracy: 0.2165 - val_loss: 2.7838\n",
      "Epoch 12/15\n",
      "\u001b[1m43/43\u001b[0m \u001b[32m━━━━━━━━━━━━━━━━━━━━\u001b[0m\u001b[37m\u001b[0m \u001b[1m6s\u001b[0m 146ms/step - accuracy: 0.7382 - loss: 0.6206 - val_accuracy: 0.1264 - val_loss: 2.7661\n",
      "Epoch 13/15\n",
      "\u001b[1m43/43\u001b[0m \u001b[32m━━━━━━━━━━━━━━━━━━━━\u001b[0m\u001b[37m\u001b[0m \u001b[1m6s\u001b[0m 144ms/step - accuracy: 0.7035 - loss: 0.6926 - val_accuracy: 0.2703 - val_loss: 2.5179\n",
      "Epoch 14/15\n",
      "\u001b[1m43/43\u001b[0m \u001b[32m━━━━━━━━━━━━━━━━━━━━\u001b[0m\u001b[37m\u001b[0m \u001b[1m7s\u001b[0m 152ms/step - accuracy: 0.7946 - loss: 0.5307 - val_accuracy: 0.2297 - val_loss: 2.9340\n",
      "Epoch 15/15\n",
      "\u001b[1m43/43\u001b[0m \u001b[32m━━━━━━━━━━━━━━━━━━━━\u001b[0m\u001b[37m\u001b[0m \u001b[1m6s\u001b[0m 144ms/step - accuracy: 0.8280 - loss: 0.4862 - val_accuracy: 0.1857 - val_loss: 2.7163\n"
     ]
    },
    {
     "data": {
      "text/plain": [
       "<keras.src.callbacks.history.History at 0x7dd199c89420>"
      ]
     },
     "execution_count": 33,
     "metadata": {},
     "output_type": "execute_result"
    }
   ],
   "source": [
    "model.fit(X_resampled, Y_resampled, epochs=15, batch_size=32, validation_split=0.4)"
   ]
  },
  {
   "cell_type": "code",
   "execution_count": 34,
   "id": "9617425f",
   "metadata": {
    "execution": {
     "iopub.execute_input": "2025-03-07T13:27:05.687038Z",
     "iopub.status.busy": "2025-03-07T13:27:05.686707Z",
     "iopub.status.idle": "2025-03-07T13:29:35.627585Z",
     "shell.execute_reply": "2025-03-07T13:29:35.626675Z"
    },
    "papermill": {
     "duration": 150.02822,
     "end_time": "2025-03-07T13:29:35.629157",
     "exception": false,
     "start_time": "2025-03-07T13:27:05.600937",
     "status": "completed"
    },
    "tags": []
   },
   "outputs": [
    {
     "name": "stdout",
     "output_type": "stream",
     "text": [
      "Epoch 1/20\n",
      "\u001b[1m57/57\u001b[0m \u001b[32m━━━━━━━━━━━━━━━━━━━━\u001b[0m\u001b[37m\u001b[0m \u001b[1m7s\u001b[0m 126ms/step - accuracy: 0.7394 - loss: 0.7417 - val_accuracy: 0.0593 - val_loss: 1.6415\n",
      "Epoch 2/20\n",
      "\u001b[1m57/57\u001b[0m \u001b[32m━━━━━━━━━━━━━━━━━━━━\u001b[0m\u001b[37m\u001b[0m \u001b[1m7s\u001b[0m 125ms/step - accuracy: 0.7656 - loss: 0.6002 - val_accuracy: 0.0176 - val_loss: 1.6851\n",
      "Epoch 3/20\n",
      "\u001b[1m57/57\u001b[0m \u001b[32m━━━━━━━━━━━━━━━━━━━━\u001b[0m\u001b[37m\u001b[0m \u001b[1m7s\u001b[0m 130ms/step - accuracy: 0.7721 - loss: 0.5496 - val_accuracy: 0.0769 - val_loss: 1.6059\n",
      "Epoch 4/20\n",
      "\u001b[1m57/57\u001b[0m \u001b[32m━━━━━━━━━━━━━━━━━━━━\u001b[0m\u001b[37m\u001b[0m \u001b[1m7s\u001b[0m 125ms/step - accuracy: 0.8014 - loss: 0.5155 - val_accuracy: 0.0901 - val_loss: 1.5691\n",
      "Epoch 5/20\n",
      "\u001b[1m57/57\u001b[0m \u001b[32m━━━━━━━━━━━━━━━━━━━━\u001b[0m\u001b[37m\u001b[0m \u001b[1m7s\u001b[0m 127ms/step - accuracy: 0.8164 - loss: 0.4789 - val_accuracy: 0.2352 - val_loss: 1.2254\n",
      "Epoch 6/20\n",
      "\u001b[1m57/57\u001b[0m \u001b[32m━━━━━━━━━━━━━━━━━━━━\u001b[0m\u001b[37m\u001b[0m \u001b[1m7s\u001b[0m 131ms/step - accuracy: 0.8204 - loss: 0.4755 - val_accuracy: 0.1033 - val_loss: 1.6568\n",
      "Epoch 7/20\n",
      "\u001b[1m57/57\u001b[0m \u001b[32m━━━━━━━━━━━━━━━━━━━━\u001b[0m\u001b[37m\u001b[0m \u001b[1m7s\u001b[0m 129ms/step - accuracy: 0.8354 - loss: 0.4508 - val_accuracy: 0.2110 - val_loss: 1.4687\n",
      "Epoch 8/20\n",
      "\u001b[1m57/57\u001b[0m \u001b[32m━━━━━━━━━━━━━━━━━━━━\u001b[0m\u001b[37m\u001b[0m \u001b[1m8s\u001b[0m 133ms/step - accuracy: 0.8334 - loss: 0.4300 - val_accuracy: 0.1824 - val_loss: 1.3533\n",
      "Epoch 9/20\n",
      "\u001b[1m57/57\u001b[0m \u001b[32m━━━━━━━━━━━━━━━━━━━━\u001b[0m\u001b[37m\u001b[0m \u001b[1m7s\u001b[0m 128ms/step - accuracy: 0.8613 - loss: 0.3697 - val_accuracy: 0.1099 - val_loss: 1.6870\n",
      "Epoch 10/20\n",
      "\u001b[1m57/57\u001b[0m \u001b[32m━━━━━━━━━━━━━━━━━━━━\u001b[0m\u001b[37m\u001b[0m \u001b[1m7s\u001b[0m 127ms/step - accuracy: 0.8704 - loss: 0.3256 - val_accuracy: 0.0791 - val_loss: 1.6307\n",
      "Epoch 11/20\n",
      "\u001b[1m57/57\u001b[0m \u001b[32m━━━━━━━━━━━━━━━━━━━━\u001b[0m\u001b[37m\u001b[0m \u001b[1m7s\u001b[0m 128ms/step - accuracy: 0.8718 - loss: 0.3316 - val_accuracy: 0.2549 - val_loss: 1.4251\n",
      "Epoch 12/20\n",
      "\u001b[1m57/57\u001b[0m \u001b[32m━━━━━━━━━━━━━━━━━━━━\u001b[0m\u001b[37m\u001b[0m \u001b[1m8s\u001b[0m 132ms/step - accuracy: 0.8752 - loss: 0.3129 - val_accuracy: 0.2615 - val_loss: 1.4853\n",
      "Epoch 13/20\n",
      "\u001b[1m57/57\u001b[0m \u001b[32m━━━━━━━━━━━━━━━━━━━━\u001b[0m\u001b[37m\u001b[0m \u001b[1m7s\u001b[0m 128ms/step - accuracy: 0.9006 - loss: 0.2931 - val_accuracy: 0.2110 - val_loss: 1.4988\n",
      "Epoch 14/20\n",
      "\u001b[1m57/57\u001b[0m \u001b[32m━━━━━━━━━━━━━━━━━━━━\u001b[0m\u001b[37m\u001b[0m \u001b[1m7s\u001b[0m 128ms/step - accuracy: 0.9000 - loss: 0.2984 - val_accuracy: 0.2967 - val_loss: 1.3159\n",
      "Epoch 15/20\n",
      "\u001b[1m57/57\u001b[0m \u001b[32m━━━━━━━━━━━━━━━━━━━━\u001b[0m\u001b[37m\u001b[0m \u001b[1m7s\u001b[0m 126ms/step - accuracy: 0.8735 - loss: 0.3214 - val_accuracy: 0.2286 - val_loss: 1.8118\n",
      "Epoch 16/20\n",
      "\u001b[1m57/57\u001b[0m \u001b[32m━━━━━━━━━━━━━━━━━━━━\u001b[0m\u001b[37m\u001b[0m \u001b[1m11s\u001b[0m 134ms/step - accuracy: 0.8990 - loss: 0.2600 - val_accuracy: 0.2505 - val_loss: 1.8542\n",
      "Epoch 17/20\n",
      "\u001b[1m57/57\u001b[0m \u001b[32m━━━━━━━━━━━━━━━━━━━━\u001b[0m\u001b[37m\u001b[0m \u001b[1m7s\u001b[0m 128ms/step - accuracy: 0.9188 - loss: 0.2168 - val_accuracy: 0.2132 - val_loss: 1.8184\n",
      "Epoch 18/20\n",
      "\u001b[1m57/57\u001b[0m \u001b[32m━━━━━━━━━━━━━━━━━━━━\u001b[0m\u001b[37m\u001b[0m \u001b[1m7s\u001b[0m 128ms/step - accuracy: 0.9300 - loss: 0.2234 - val_accuracy: 0.2637 - val_loss: 1.8441\n",
      "Epoch 19/20\n",
      "\u001b[1m57/57\u001b[0m \u001b[32m━━━━━━━━━━━━━━━━━━━━\u001b[0m\u001b[37m\u001b[0m \u001b[1m7s\u001b[0m 129ms/step - accuracy: 0.9374 - loss: 0.1923 - val_accuracy: 0.1560 - val_loss: 2.0321\n",
      "Epoch 20/20\n",
      "\u001b[1m57/57\u001b[0m \u001b[32m━━━━━━━━━━━━━━━━━━━━\u001b[0m\u001b[37m\u001b[0m \u001b[1m7s\u001b[0m 130ms/step - accuracy: 0.9367 - loss: 0.1856 - val_accuracy: 0.2396 - val_loss: 2.2317\n"
     ]
    },
    {
     "data": {
      "text/plain": [
       "<keras.src.callbacks.history.History at 0x7dd1983a5060>"
      ]
     },
     "execution_count": 34,
     "metadata": {},
     "output_type": "execute_result"
    }
   ],
   "source": [
    "model.fit(X_resampled, Y_resampled, epochs=20, batch_size=32, validation_split=0.2)"
   ]
  },
  {
   "cell_type": "markdown",
   "id": "6c1202b0",
   "metadata": {
    "papermill": {
     "duration": 0.152077,
     "end_time": "2025-03-07T13:29:35.940389",
     "exception": false,
     "start_time": "2025-03-07T13:29:35.788312",
     "status": "completed"
    },
    "tags": []
   },
   "source": [
    "### WITHOUT SMOTE"
   ]
  },
  {
   "cell_type": "code",
   "execution_count": 35,
   "id": "9f95365c",
   "metadata": {
    "execution": {
     "iopub.execute_input": "2025-03-07T13:29:36.244694Z",
     "iopub.status.busy": "2025-03-07T13:29:36.244258Z",
     "iopub.status.idle": "2025-03-07T13:30:22.325919Z",
     "shell.execute_reply": "2025-03-07T13:30:22.324713Z"
    },
    "papermill": {
     "duration": 46.242168,
     "end_time": "2025-03-07T13:30:22.327727",
     "exception": false,
     "start_time": "2025-03-07T13:29:36.085559",
     "status": "completed"
    },
    "tags": []
   },
   "outputs": [
    {
     "name": "stdout",
     "output_type": "stream",
     "text": [
      "Epoch 1/15\n",
      "\u001b[1m22/22\u001b[0m \u001b[32m━━━━━━━━━━━━━━━━━━━━\u001b[0m\u001b[37m\u001b[0m \u001b[1m3s\u001b[0m 151ms/step - accuracy: 0.9514 - loss: 0.1323 - val_accuracy: 0.9400 - val_loss: 0.1022\n",
      "Epoch 2/15\n",
      "\u001b[1m22/22\u001b[0m \u001b[32m━━━━━━━━━━━━━━━━━━━━\u001b[0m\u001b[37m\u001b[0m \u001b[1m3s\u001b[0m 137ms/step - accuracy: 0.9306 - loss: 0.1584 - val_accuracy: 0.9733 - val_loss: 0.0815\n",
      "Epoch 3/15\n",
      "\u001b[1m22/22\u001b[0m \u001b[32m━━━━━━━━━━━━━━━━━━━━\u001b[0m\u001b[37m\u001b[0m \u001b[1m3s\u001b[0m 138ms/step - accuracy: 0.9616 - loss: 0.0836 - val_accuracy: 0.9767 - val_loss: 0.0670\n",
      "Epoch 4/15\n",
      "\u001b[1m22/22\u001b[0m \u001b[32m━━━━━━━━━━━━━━━━━━━━\u001b[0m\u001b[37m\u001b[0m \u001b[1m3s\u001b[0m 138ms/step - accuracy: 0.9832 - loss: 0.0650 - val_accuracy: 0.9667 - val_loss: 0.0688\n",
      "Epoch 5/15\n",
      "\u001b[1m22/22\u001b[0m \u001b[32m━━━━━━━━━━━━━━━━━━━━\u001b[0m\u001b[37m\u001b[0m \u001b[1m3s\u001b[0m 138ms/step - accuracy: 0.9909 - loss: 0.0358 - val_accuracy: 0.9433 - val_loss: 0.1281\n",
      "Epoch 6/15\n",
      "\u001b[1m22/22\u001b[0m \u001b[32m━━━━━━━━━━━━━━━━━━━━\u001b[0m\u001b[37m\u001b[0m \u001b[1m3s\u001b[0m 137ms/step - accuracy: 0.9891 - loss: 0.0347 - val_accuracy: 0.9467 - val_loss: 0.1227\n",
      "Epoch 7/15\n",
      "\u001b[1m22/22\u001b[0m \u001b[32m━━━━━━━━━━━━━━━━━━━━\u001b[0m\u001b[37m\u001b[0m \u001b[1m3s\u001b[0m 139ms/step - accuracy: 0.9906 - loss: 0.0361 - val_accuracy: 0.9667 - val_loss: 0.0930\n",
      "Epoch 8/15\n",
      "\u001b[1m22/22\u001b[0m \u001b[32m━━━━━━━━━━━━━━━━━━━━\u001b[0m\u001b[37m\u001b[0m \u001b[1m3s\u001b[0m 137ms/step - accuracy: 0.9704 - loss: 0.0990 - val_accuracy: 0.9700 - val_loss: 0.0855\n",
      "Epoch 9/15\n",
      "\u001b[1m22/22\u001b[0m \u001b[32m━━━━━━━━━━━━━━━━━━━━\u001b[0m\u001b[37m\u001b[0m \u001b[1m3s\u001b[0m 136ms/step - accuracy: 0.9633 - loss: 0.0753 - val_accuracy: 0.9567 - val_loss: 0.0900\n",
      "Epoch 10/15\n",
      "\u001b[1m22/22\u001b[0m \u001b[32m━━━━━━━━━━━━━━━━━━━━\u001b[0m\u001b[37m\u001b[0m \u001b[1m3s\u001b[0m 140ms/step - accuracy: 0.9849 - loss: 0.0705 - val_accuracy: 0.9600 - val_loss: 0.0841\n",
      "Epoch 11/15\n",
      "\u001b[1m22/22\u001b[0m \u001b[32m━━━━━━━━━━━━━━━━━━━━\u001b[0m\u001b[37m\u001b[0m \u001b[1m3s\u001b[0m 146ms/step - accuracy: 0.9943 - loss: 0.0297 - val_accuracy: 0.9667 - val_loss: 0.0858\n",
      "Epoch 12/15\n",
      "\u001b[1m22/22\u001b[0m \u001b[32m━━━━━━━━━━━━━━━━━━━━\u001b[0m\u001b[37m\u001b[0m \u001b[1m3s\u001b[0m 140ms/step - accuracy: 0.9974 - loss: 0.0213 - val_accuracy: 0.9467 - val_loss: 0.1208\n",
      "Epoch 13/15\n",
      "\u001b[1m22/22\u001b[0m \u001b[32m━━━━━━━━━━━━━━━━━━━━\u001b[0m\u001b[37m\u001b[0m \u001b[1m3s\u001b[0m 138ms/step - accuracy: 0.9975 - loss: 0.0161 - val_accuracy: 0.9500 - val_loss: 0.1663\n",
      "Epoch 14/15\n",
      "\u001b[1m22/22\u001b[0m \u001b[32m━━━━━━━━━━━━━━━━━━━━\u001b[0m\u001b[37m\u001b[0m \u001b[1m3s\u001b[0m 137ms/step - accuracy: 0.9774 - loss: 0.0761 - val_accuracy: 0.9267 - val_loss: 0.1848\n",
      "Epoch 15/15\n",
      "\u001b[1m22/22\u001b[0m \u001b[32m━━━━━━━━━━━━━━━━━━━━\u001b[0m\u001b[37m\u001b[0m \u001b[1m3s\u001b[0m 137ms/step - accuracy: 0.9770 - loss: 0.0797 - val_accuracy: 0.9733 - val_loss: 0.0708\n"
     ]
    },
    {
     "data": {
      "text/plain": [
       "<keras.src.callbacks.history.History at 0x7dd1982862f0>"
      ]
     },
     "execution_count": 35,
     "metadata": {},
     "output_type": "execute_result"
    }
   ],
   "source": [
    "model.fit(paddedData,y2, epochs=15, batch_size=32, validation_split=0.3)"
   ]
  },
  {
   "cell_type": "markdown",
   "id": "49b0e9f6",
   "metadata": {
    "papermill": {
     "duration": 0.224543,
     "end_time": "2025-03-07T13:30:22.717959",
     "exception": false,
     "start_time": "2025-03-07T13:30:22.493416",
     "status": "completed"
    },
    "tags": []
   },
   "source": [
    "#### PREDICTING DATA\n"
   ]
  },
  {
   "cell_type": "code",
   "execution_count": 36,
   "id": "1f83585b",
   "metadata": {
    "execution": {
     "iopub.execute_input": "2025-03-07T13:30:23.048682Z",
     "iopub.status.busy": "2025-03-07T13:30:23.048327Z",
     "iopub.status.idle": "2025-03-07T13:30:25.091813Z",
     "shell.execute_reply": "2025-03-07T13:30:25.090871Z"
    },
    "papermill": {
     "duration": 2.211178,
     "end_time": "2025-03-07T13:30:25.093643",
     "exception": false,
     "start_time": "2025-03-07T13:30:22.882465",
     "status": "completed"
    },
    "tags": []
   },
   "outputs": [
    {
     "name": "stdout",
     "output_type": "stream",
     "text": [
      "\u001b[1m32/32\u001b[0m \u001b[32m━━━━━━━━━━━━━━━━━━━━\u001b[0m\u001b[37m\u001b[0m \u001b[1m2s\u001b[0m 54ms/step\n"
     ]
    }
   ],
   "source": [
    "predictedData=model.predict(paddedData)\n",
    "predClasses=np.argmax(predictedData,axis=1)"
   ]
  },
  {
   "cell_type": "code",
   "execution_count": 37,
   "id": "8da8d1b7",
   "metadata": {
    "execution": {
     "iopub.execute_input": "2025-03-07T13:30:25.421537Z",
     "iopub.status.busy": "2025-03-07T13:30:25.421162Z",
     "iopub.status.idle": "2025-03-07T13:30:25.432135Z",
     "shell.execute_reply": "2025-03-07T13:30:25.431228Z"
    },
    "papermill": {
     "duration": 0.176852,
     "end_time": "2025-03-07T13:30:25.433782",
     "exception": false,
     "start_time": "2025-03-07T13:30:25.256930",
     "status": "completed"
    },
    "tags": []
   },
   "outputs": [
    {
     "data": {
      "text/html": [
       "<div>\n",
       "<style scoped>\n",
       "    .dataframe tbody tr th:only-of-type {\n",
       "        vertical-align: middle;\n",
       "    }\n",
       "\n",
       "    .dataframe tbody tr th {\n",
       "        vertical-align: top;\n",
       "    }\n",
       "\n",
       "    .dataframe thead th {\n",
       "        text-align: right;\n",
       "    }\n",
       "</style>\n",
       "<table border=\"1\" class=\"dataframe\">\n",
       "  <thead>\n",
       "    <tr style=\"text-align: right;\">\n",
       "      <th></th>\n",
       "      <th>Text</th>\n",
       "      <th>Actual Sentiment</th>\n",
       "      <th>Predicted Sentiment</th>\n",
       "    </tr>\n",
       "  </thead>\n",
       "  <tbody>\n",
       "    <tr>\n",
       "      <th>348641</th>\n",
       "      <td>Healthier Snack Great taste, crunch and my kid...</td>\n",
       "      <td>1</td>\n",
       "      <td>1</td>\n",
       "    </tr>\n",
       "    <tr>\n",
       "      <th>440075</th>\n",
       "      <td>I like these! I like the flavor of this brand....</td>\n",
       "      <td>1</td>\n",
       "      <td>1</td>\n",
       "    </tr>\n",
       "    <tr>\n",
       "      <th>189500</th>\n",
       "      <td>Coconut Oil I used the coconut oil to moisturi...</td>\n",
       "      <td>1</td>\n",
       "      <td>1</td>\n",
       "    </tr>\n",
       "    <tr>\n",
       "      <th>215092</th>\n",
       "      <td>Delicious for Moms, too! My son loves his Happ...</td>\n",
       "      <td>1</td>\n",
       "      <td>1</td>\n",
       "    </tr>\n",
       "    <tr>\n",
       "      <th>41745</th>\n",
       "      <td>pill pockets The product has served the purpos...</td>\n",
       "      <td>1</td>\n",
       "      <td>0</td>\n",
       "    </tr>\n",
       "    <tr>\n",
       "      <th>184135</th>\n",
       "      <td>Guaranteed yum! I've purchased both the Pro-Tr...</td>\n",
       "      <td>1</td>\n",
       "      <td>1</td>\n",
       "    </tr>\n",
       "    <tr>\n",
       "      <th>288126</th>\n",
       "      <td>yummy &amp; a great price This tomato paste is del...</td>\n",
       "      <td>1</td>\n",
       "      <td>0</td>\n",
       "    </tr>\n",
       "    <tr>\n",
       "      <th>199508</th>\n",
       "      <td>Yay! Flake Bars on Amazon! I was SO happy to s...</td>\n",
       "      <td>1</td>\n",
       "      <td>1</td>\n",
       "    </tr>\n",
       "    <tr>\n",
       "      <th>494955</th>\n",
       "      <td>DELICIOUS Great maple syrup for the maple syru...</td>\n",
       "      <td>1</td>\n",
       "      <td>1</td>\n",
       "    </tr>\n",
       "    <tr>\n",
       "      <th>514305</th>\n",
       "      <td>My cats love this stuff My cats seem to love a...</td>\n",
       "      <td>1</td>\n",
       "      <td>1</td>\n",
       "    </tr>\n",
       "  </tbody>\n",
       "</table>\n",
       "</div>"
      ],
      "text/plain": [
       "                                                     Text  Actual Sentiment  \\\n",
       "348641  Healthier Snack Great taste, crunch and my kid...                 1   \n",
       "440075  I like these! I like the flavor of this brand....                 1   \n",
       "189500  Coconut Oil I used the coconut oil to moisturi...                 1   \n",
       "215092  Delicious for Moms, too! My son loves his Happ...                 1   \n",
       "41745   pill pockets The product has served the purpos...                 1   \n",
       "184135  Guaranteed yum! I've purchased both the Pro-Tr...                 1   \n",
       "288126  yummy & a great price This tomato paste is del...                 1   \n",
       "199508  Yay! Flake Bars on Amazon! I was SO happy to s...                 1   \n",
       "494955  DELICIOUS Great maple syrup for the maple syru...                 1   \n",
       "514305  My cats love this stuff My cats seem to love a...                 1   \n",
       "\n",
       "        Predicted Sentiment  \n",
       "348641                    1  \n",
       "440075                    1  \n",
       "189500                    1  \n",
       "215092                    1  \n",
       "41745                     0  \n",
       "184135                    1  \n",
       "288126                    0  \n",
       "199508                    1  \n",
       "494955                    1  \n",
       "514305                    1  "
      ]
     },
     "execution_count": 37,
     "metadata": {},
     "output_type": "execute_result"
    }
   ],
   "source": [
    "comparisonData2=pd.DataFrame({\n",
    "    \"Text\":lmtpData[\"CombinedText\"],\n",
    "    \"Actual Sentiment\":lmtpData[\"Sentiment\"].values,\n",
    "    \"Predicted Sentiment\":predClasses\n",
    "})\n",
    "comparisonData2.head(10)"
   ]
  },
  {
   "cell_type": "code",
   "execution_count": 38,
   "id": "0cf62493",
   "metadata": {
    "execution": {
     "iopub.execute_input": "2025-03-07T13:30:25.795395Z",
     "iopub.status.busy": "2025-03-07T13:30:25.794882Z",
     "iopub.status.idle": "2025-03-07T13:30:25.808691Z",
     "shell.execute_reply": "2025-03-07T13:30:25.807550Z"
    },
    "papermill": {
     "duration": 0.210683,
     "end_time": "2025-03-07T13:30:25.810636",
     "exception": false,
     "start_time": "2025-03-07T13:30:25.599953",
     "status": "completed"
    },
    "tags": []
   },
   "outputs": [
    {
     "data": {
      "text/html": [
       "<div>\n",
       "<style scoped>\n",
       "    .dataframe tbody tr th:only-of-type {\n",
       "        vertical-align: middle;\n",
       "    }\n",
       "\n",
       "    .dataframe tbody tr th {\n",
       "        vertical-align: top;\n",
       "    }\n",
       "\n",
       "    .dataframe thead th {\n",
       "        text-align: right;\n",
       "    }\n",
       "</style>\n",
       "<table border=\"1\" class=\"dataframe\">\n",
       "  <thead>\n",
       "    <tr style=\"text-align: right;\">\n",
       "      <th></th>\n",
       "      <th>Text</th>\n",
       "      <th>Actual Sentiment</th>\n",
       "      <th>Predicted Sentiment</th>\n",
       "    </tr>\n",
       "  </thead>\n",
       "  <tbody>\n",
       "    <tr>\n",
       "      <th>507727</th>\n",
       "      <td>Delicious beef jerky This is my favorite beef ...</td>\n",
       "      <td>1</td>\n",
       "      <td>1</td>\n",
       "    </tr>\n",
       "    <tr>\n",
       "      <th>481359</th>\n",
       "      <td>Be careful, they are addicting. If you like po...</td>\n",
       "      <td>1</td>\n",
       "      <td>1</td>\n",
       "    </tr>\n",
       "    <tr>\n",
       "      <th>124470</th>\n",
       "      <td>MASTERPIECE CHOCOLATE In my search for vegan c...</td>\n",
       "      <td>1</td>\n",
       "      <td>1</td>\n",
       "    </tr>\n",
       "    <tr>\n",
       "      <th>193366</th>\n",
       "      <td>Most delicious jasmine tea ever!!! I had this ...</td>\n",
       "      <td>1</td>\n",
       "      <td>0</td>\n",
       "    </tr>\n",
       "    <tr>\n",
       "      <th>166359</th>\n",
       "      <td>Good coffee! Caribou Coffee is definitely some...</td>\n",
       "      <td>1</td>\n",
       "      <td>1</td>\n",
       "    </tr>\n",
       "    <tr>\n",
       "      <th>39439</th>\n",
       "      <td>Pods explode making a huge mess! Many of these...</td>\n",
       "      <td>0</td>\n",
       "      <td>1</td>\n",
       "    </tr>\n",
       "    <tr>\n",
       "      <th>248222</th>\n",
       "      <td>Excellent buy ! One of the finest coffees I've...</td>\n",
       "      <td>1</td>\n",
       "      <td>1</td>\n",
       "    </tr>\n",
       "    <tr>\n",
       "      <th>528304</th>\n",
       "      <td>Cheaper elsewhere These are surprisingly good ...</td>\n",
       "      <td>1</td>\n",
       "      <td>1</td>\n",
       "    </tr>\n",
       "    <tr>\n",
       "      <th>410714</th>\n",
       "      <td>Great price and multiple uses. Todays SPAM is ...</td>\n",
       "      <td>1</td>\n",
       "      <td>2</td>\n",
       "    </tr>\n",
       "    <tr>\n",
       "      <th>22379</th>\n",
       "      <td>Best Snack Ever! These pretzels are just the b...</td>\n",
       "      <td>1</td>\n",
       "      <td>1</td>\n",
       "    </tr>\n",
       "  </tbody>\n",
       "</table>\n",
       "</div>"
      ],
      "text/plain": [
       "                                                     Text  Actual Sentiment  \\\n",
       "507727  Delicious beef jerky This is my favorite beef ...                 1   \n",
       "481359  Be careful, they are addicting. If you like po...                 1   \n",
       "124470  MASTERPIECE CHOCOLATE In my search for vegan c...                 1   \n",
       "193366  Most delicious jasmine tea ever!!! I had this ...                 1   \n",
       "166359  Good coffee! Caribou Coffee is definitely some...                 1   \n",
       "39439   Pods explode making a huge mess! Many of these...                 0   \n",
       "248222  Excellent buy ! One of the finest coffees I've...                 1   \n",
       "528304  Cheaper elsewhere These are surprisingly good ...                 1   \n",
       "410714  Great price and multiple uses. Todays SPAM is ...                 1   \n",
       "22379   Best Snack Ever! These pretzels are just the b...                 1   \n",
       "\n",
       "        Predicted Sentiment  \n",
       "507727                    1  \n",
       "481359                    1  \n",
       "124470                    1  \n",
       "193366                    0  \n",
       "166359                    1  \n",
       "39439                     1  \n",
       "248222                    1  \n",
       "528304                    1  \n",
       "410714                    2  \n",
       "22379                     1  "
      ]
     },
     "execution_count": 38,
     "metadata": {},
     "output_type": "execute_result"
    }
   ],
   "source": [
    "comparisonData2.tail(10)"
   ]
  },
  {
   "cell_type": "markdown",
   "id": "1a452722",
   "metadata": {
    "papermill": {
     "duration": 0.165578,
     "end_time": "2025-03-07T13:30:26.141238",
     "exception": false,
     "start_time": "2025-03-07T13:30:25.975660",
     "status": "completed"
    },
    "tags": []
   },
   "source": [
    "#### USING A SPECIFIC REVIEW"
   ]
  },
  {
   "cell_type": "code",
   "execution_count": 39,
   "id": "73fa2ba6",
   "metadata": {
    "execution": {
     "iopub.execute_input": "2025-03-07T13:30:26.470671Z",
     "iopub.status.busy": "2025-03-07T13:30:26.470301Z",
     "iopub.status.idle": "2025-03-07T13:30:26.561357Z",
     "shell.execute_reply": "2025-03-07T13:30:26.560226Z"
    },
    "papermill": {
     "duration": 0.257577,
     "end_time": "2025-03-07T13:30:26.562981",
     "exception": false,
     "start_time": "2025-03-07T13:30:26.305404",
     "status": "completed"
    },
    "tags": []
   },
   "outputs": [
    {
     "name": "stdout",
     "output_type": "stream",
     "text": [
      "\u001b[1m1/1\u001b[0m \u001b[32m━━━━━━━━━━━━━━━━━━━━\u001b[0m\u001b[37m\u001b[0m \u001b[1m0s\u001b[0m 37ms/step\n",
      "Predicted Class:  [1]\n"
     ]
    }
   ],
   "source": [
    "\n",
    "new_review = \"I love this product, it's amazing!\"\n",
    "\n",
    "\n",
    "new_review_tokens = tokenizer.texts_to_sequences([new_review])\n",
    "new_review_padded = pad_sequences(new_review_tokens, maxlen=maxLen)\n",
    "\n",
    "predictions = model.predict(new_review_padded)\n",
    "\n",
    "\n",
    "predicted_class = np.argmax(predictions, axis=1)\n",
    "\n",
    "print(\"Predicted Class: \", predicted_class)\n"
   ]
  },
  {
   "cell_type": "code",
   "execution_count": 40,
   "id": "f103e593",
   "metadata": {
    "execution": {
     "iopub.execute_input": "2025-03-07T13:30:26.954642Z",
     "iopub.status.busy": "2025-03-07T13:30:26.954300Z",
     "iopub.status.idle": "2025-03-07T13:30:27.042457Z",
     "shell.execute_reply": "2025-03-07T13:30:27.041397Z"
    },
    "papermill": {
     "duration": 0.312548,
     "end_time": "2025-03-07T13:30:27.043928",
     "exception": false,
     "start_time": "2025-03-07T13:30:26.731380",
     "status": "completed"
    },
    "tags": []
   },
   "outputs": [
    {
     "name": "stdout",
     "output_type": "stream",
     "text": [
      "\u001b[1m1/1\u001b[0m \u001b[32m━━━━━━━━━━━━━━━━━━━━\u001b[0m\u001b[37m\u001b[0m \u001b[1m0s\u001b[0m 34ms/step\n",
      "[1]\n"
     ]
    }
   ],
   "source": [
    "import numpy as np\n",
    "from tensorflow.keras.preprocessing.sequence import pad_sequences\n",
    "\n",
    "new_review2 = \"This is so terrible.It literally melted my skin\"\n",
    "\n",
    "\n",
    "new_review_tokens2 = tokenizer.texts_to_sequences([new_review2])\n",
    "new_review_padded2 = pad_sequences(new_review_tokens2, maxlen=maxLen)\n",
    "\n",
    "\n",
    "predictions = model.predict(new_review_padded2)\n",
    "\n",
    "\n",
    "predicted_class2 = np.argmax(predictions, axis=1)\n",
    "\n",
    "print(predicted_class2)"
   ]
  },
  {
   "cell_type": "markdown",
   "id": "da341e49",
   "metadata": {
    "papermill": {
     "duration": 0.163712,
     "end_time": "2025-03-07T13:30:27.373512",
     "exception": false,
     "start_time": "2025-03-07T13:30:27.209800",
     "status": "completed"
    },
    "tags": []
   },
   "source": []
  }
 ],
 "metadata": {
  "kaggle": {
   "accelerator": "none",
   "dataSources": [
    {
     "datasetId": 18,
     "sourceId": 2157,
     "sourceType": "datasetVersion"
    },
    {
     "datasetId": 4167194,
     "sourceId": 7203508,
     "sourceType": "datasetVersion"
    }
   ],
   "dockerImageVersionId": 30918,
   "isGpuEnabled": false,
   "isInternetEnabled": true,
   "language": "python",
   "sourceType": "notebook"
  },
  "kernelspec": {
   "display_name": "Python 3",
   "language": "python",
   "name": "python3"
  },
  "language_info": {
   "codemirror_mode": {
    "name": "ipython",
    "version": 3
   },
   "file_extension": ".py",
   "mimetype": "text/x-python",
   "name": "python",
   "nbconvert_exporter": "python",
   "pygments_lexer": "ipython3",
   "version": "3.10.12"
  },
  "papermill": {
   "default_parameters": {},
   "duration": 432.976677,
   "end_time": "2025-03-07T13:30:30.595023",
   "environment_variables": {},
   "exception": null,
   "input_path": "__notebook__.ipynb",
   "output_path": "__notebook__.ipynb",
   "parameters": {},
   "start_time": "2025-03-07T13:23:17.618346",
   "version": "2.6.0"
  }
 },
 "nbformat": 4,
 "nbformat_minor": 5
}
