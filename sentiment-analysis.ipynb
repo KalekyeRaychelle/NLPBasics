{
 "cells": [
  {
   "cell_type": "code",
   "execution_count": 1,
   "id": "3bfe845c",
   "metadata": {
    "_cell_guid": "b1076dfc-b9ad-4769-8c92-a6c4dae69d19",
    "_uuid": "8f2839f25d086af736a60e9eeb907d3b93b6e0e5",
    "execution": {
     "iopub.execute_input": "2025-03-08T05:41:58.366025Z",
     "iopub.status.busy": "2025-03-08T05:41:58.365584Z",
     "iopub.status.idle": "2025-03-08T05:41:59.389426Z",
     "shell.execute_reply": "2025-03-08T05:41:59.387889Z"
    },
    "papermill": {
     "duration": 1.038329,
     "end_time": "2025-03-08T05:41:59.391527",
     "exception": false,
     "start_time": "2025-03-08T05:41:58.353198",
     "status": "completed"
    },
    "tags": []
   },
   "outputs": [
    {
     "name": "stdout",
     "output_type": "stream",
     "text": [
      "/kaggle/input/glove-6b-100-d/glove.6B.100d.txt\n",
      "/kaggle/input/amazon-fine-food-reviews/hashes.txt\n",
      "/kaggle/input/amazon-fine-food-reviews/Reviews.csv\n",
      "/kaggle/input/amazon-fine-food-reviews/database.sqlite\n"
     ]
    }
   ],
   "source": [
    "# This Python 3 environment comes with many helpful analytics libraries installed\n",
    "# It is defined by the kaggle/python Docker image: https://github.com/kaggle/docker-python\n",
    "# For example, here's several helpful packages to load\n",
    "\n",
    "import numpy as np # linear algebra\n",
    "import pandas as pd # data processing, CSV file I/O (e.g. pd.read_csv)\n",
    "\n",
    "# Input data files are available in the read-only \"../input/\" directory\n",
    "# For example, running this (by clicking run or pressing Shift+Enter) will list all files under the input directory\n",
    "\n",
    "import os\n",
    "for dirname, _, filenames in os.walk('/kaggle/input'):\n",
    "    for filename in filenames:\n",
    "        print(os.path.join(dirname, filename))\n",
    "\n",
    "# You can write up to 20GB to the current directory (/kaggle/working/) that gets preserved as output when you create a version using \"Save & Run All\" \n",
    "# You can also write temporary files to /kaggle/temp/, but they won't be saved outside of the current session"
   ]
  },
  {
   "cell_type": "code",
   "execution_count": 2,
   "id": "795cab1a",
   "metadata": {
    "execution": {
     "iopub.execute_input": "2025-03-08T05:41:59.413145Z",
     "iopub.status.busy": "2025-03-08T05:41:59.412532Z",
     "iopub.status.idle": "2025-03-08T05:41:59.417610Z",
     "shell.execute_reply": "2025-03-08T05:41:59.416400Z"
    },
    "papermill": {
     "duration": 0.017654,
     "end_time": "2025-03-08T05:41:59.419539",
     "exception": false,
     "start_time": "2025-03-08T05:41:59.401885",
     "status": "completed"
    },
    "tags": []
   },
   "outputs": [],
   "source": [
    "import pandas as pd"
   ]
  },
  {
   "cell_type": "code",
   "execution_count": 3,
   "id": "d27cf45f",
   "metadata": {
    "execution": {
     "iopub.execute_input": "2025-03-08T05:41:59.439901Z",
     "iopub.status.busy": "2025-03-08T05:41:59.439499Z",
     "iopub.status.idle": "2025-03-08T05:42:08.120771Z",
     "shell.execute_reply": "2025-03-08T05:42:08.119592Z"
    },
    "papermill": {
     "duration": 8.694101,
     "end_time": "2025-03-08T05:42:08.123302",
     "exception": false,
     "start_time": "2025-03-08T05:41:59.429201",
     "status": "completed"
    },
    "tags": []
   },
   "outputs": [],
   "source": [
    "dataset=pd.read_csv(r\"/kaggle/input/amazon-fine-food-reviews/Reviews.csv\")"
   ]
  },
  {
   "cell_type": "code",
   "execution_count": 4,
   "id": "04b61bd3",
   "metadata": {
    "execution": {
     "iopub.execute_input": "2025-03-08T05:42:08.145835Z",
     "iopub.status.busy": "2025-03-08T05:42:08.145375Z",
     "iopub.status.idle": "2025-03-08T05:42:08.406982Z",
     "shell.execute_reply": "2025-03-08T05:42:08.405563Z"
    },
    "papermill": {
     "duration": 0.275259,
     "end_time": "2025-03-08T05:42:08.409317",
     "exception": false,
     "start_time": "2025-03-08T05:42:08.134058",
     "status": "completed"
    },
    "tags": []
   },
   "outputs": [
    {
     "name": "stdout",
     "output_type": "stream",
     "text": [
      "<class 'pandas.core.frame.DataFrame'>\n",
      "RangeIndex: 568454 entries, 0 to 568453\n",
      "Data columns (total 10 columns):\n",
      " #   Column                  Non-Null Count   Dtype \n",
      "---  ------                  --------------   ----- \n",
      " 0   Id                      568454 non-null  int64 \n",
      " 1   ProductId               568454 non-null  object\n",
      " 2   UserId                  568454 non-null  object\n",
      " 3   ProfileName             568428 non-null  object\n",
      " 4   HelpfulnessNumerator    568454 non-null  int64 \n",
      " 5   HelpfulnessDenominator  568454 non-null  int64 \n",
      " 6   Score                   568454 non-null  int64 \n",
      " 7   Time                    568454 non-null  int64 \n",
      " 8   Summary                 568427 non-null  object\n",
      " 9   Text                    568454 non-null  object\n",
      "dtypes: int64(5), object(5)\n",
      "memory usage: 43.4+ MB\n"
     ]
    }
   ],
   "source": [
    "dataset.info()"
   ]
  },
  {
   "cell_type": "code",
   "execution_count": 5,
   "id": "6fda48f7",
   "metadata": {
    "execution": {
     "iopub.execute_input": "2025-03-08T05:42:08.431337Z",
     "iopub.status.busy": "2025-03-08T05:42:08.430923Z",
     "iopub.status.idle": "2025-03-08T05:42:08.455759Z",
     "shell.execute_reply": "2025-03-08T05:42:08.454662Z"
    },
    "papermill": {
     "duration": 0.037842,
     "end_time": "2025-03-08T05:42:08.457620",
     "exception": false,
     "start_time": "2025-03-08T05:42:08.419778",
     "status": "completed"
    },
    "tags": []
   },
   "outputs": [
    {
     "data": {
      "text/html": [
       "<div>\n",
       "<style scoped>\n",
       "    .dataframe tbody tr th:only-of-type {\n",
       "        vertical-align: middle;\n",
       "    }\n",
       "\n",
       "    .dataframe tbody tr th {\n",
       "        vertical-align: top;\n",
       "    }\n",
       "\n",
       "    .dataframe thead th {\n",
       "        text-align: right;\n",
       "    }\n",
       "</style>\n",
       "<table border=\"1\" class=\"dataframe\">\n",
       "  <thead>\n",
       "    <tr style=\"text-align: right;\">\n",
       "      <th></th>\n",
       "      <th>Id</th>\n",
       "      <th>ProductId</th>\n",
       "      <th>UserId</th>\n",
       "      <th>ProfileName</th>\n",
       "      <th>HelpfulnessNumerator</th>\n",
       "      <th>HelpfulnessDenominator</th>\n",
       "      <th>Score</th>\n",
       "      <th>Time</th>\n",
       "      <th>Summary</th>\n",
       "      <th>Text</th>\n",
       "    </tr>\n",
       "  </thead>\n",
       "  <tbody>\n",
       "    <tr>\n",
       "      <th>0</th>\n",
       "      <td>1</td>\n",
       "      <td>B001E4KFG0</td>\n",
       "      <td>A3SGXH7AUHU8GW</td>\n",
       "      <td>delmartian</td>\n",
       "      <td>1</td>\n",
       "      <td>1</td>\n",
       "      <td>5</td>\n",
       "      <td>1303862400</td>\n",
       "      <td>Good Quality Dog Food</td>\n",
       "      <td>I have bought several of the Vitality canned d...</td>\n",
       "    </tr>\n",
       "    <tr>\n",
       "      <th>1</th>\n",
       "      <td>2</td>\n",
       "      <td>B00813GRG4</td>\n",
       "      <td>A1D87F6ZCVE5NK</td>\n",
       "      <td>dll pa</td>\n",
       "      <td>0</td>\n",
       "      <td>0</td>\n",
       "      <td>1</td>\n",
       "      <td>1346976000</td>\n",
       "      <td>Not as Advertised</td>\n",
       "      <td>Product arrived labeled as Jumbo Salted Peanut...</td>\n",
       "    </tr>\n",
       "    <tr>\n",
       "      <th>2</th>\n",
       "      <td>3</td>\n",
       "      <td>B000LQOCH0</td>\n",
       "      <td>ABXLMWJIXXAIN</td>\n",
       "      <td>Natalia Corres \"Natalia Corres\"</td>\n",
       "      <td>1</td>\n",
       "      <td>1</td>\n",
       "      <td>4</td>\n",
       "      <td>1219017600</td>\n",
       "      <td>\"Delight\" says it all</td>\n",
       "      <td>This is a confection that has been around a fe...</td>\n",
       "    </tr>\n",
       "    <tr>\n",
       "      <th>3</th>\n",
       "      <td>4</td>\n",
       "      <td>B000UA0QIQ</td>\n",
       "      <td>A395BORC6FGVXV</td>\n",
       "      <td>Karl</td>\n",
       "      <td>3</td>\n",
       "      <td>3</td>\n",
       "      <td>2</td>\n",
       "      <td>1307923200</td>\n",
       "      <td>Cough Medicine</td>\n",
       "      <td>If you are looking for the secret ingredient i...</td>\n",
       "    </tr>\n",
       "    <tr>\n",
       "      <th>4</th>\n",
       "      <td>5</td>\n",
       "      <td>B006K2ZZ7K</td>\n",
       "      <td>A1UQRSCLF8GW1T</td>\n",
       "      <td>Michael D. Bigham \"M. Wassir\"</td>\n",
       "      <td>0</td>\n",
       "      <td>0</td>\n",
       "      <td>5</td>\n",
       "      <td>1350777600</td>\n",
       "      <td>Great taffy</td>\n",
       "      <td>Great taffy at a great price.  There was a wid...</td>\n",
       "    </tr>\n",
       "  </tbody>\n",
       "</table>\n",
       "</div>"
      ],
      "text/plain": [
       "   Id   ProductId          UserId                      ProfileName  \\\n",
       "0   1  B001E4KFG0  A3SGXH7AUHU8GW                       delmartian   \n",
       "1   2  B00813GRG4  A1D87F6ZCVE5NK                           dll pa   \n",
       "2   3  B000LQOCH0   ABXLMWJIXXAIN  Natalia Corres \"Natalia Corres\"   \n",
       "3   4  B000UA0QIQ  A395BORC6FGVXV                             Karl   \n",
       "4   5  B006K2ZZ7K  A1UQRSCLF8GW1T    Michael D. Bigham \"M. Wassir\"   \n",
       "\n",
       "   HelpfulnessNumerator  HelpfulnessDenominator  Score        Time  \\\n",
       "0                     1                       1      5  1303862400   \n",
       "1                     0                       0      1  1346976000   \n",
       "2                     1                       1      4  1219017600   \n",
       "3                     3                       3      2  1307923200   \n",
       "4                     0                       0      5  1350777600   \n",
       "\n",
       "                 Summary                                               Text  \n",
       "0  Good Quality Dog Food  I have bought several of the Vitality canned d...  \n",
       "1      Not as Advertised  Product arrived labeled as Jumbo Salted Peanut...  \n",
       "2  \"Delight\" says it all  This is a confection that has been around a fe...  \n",
       "3         Cough Medicine  If you are looking for the secret ingredient i...  \n",
       "4            Great taffy  Great taffy at a great price.  There was a wid...  "
      ]
     },
     "execution_count": 5,
     "metadata": {},
     "output_type": "execute_result"
    }
   ],
   "source": [
    "dataset.head(5)"
   ]
  },
  {
   "cell_type": "code",
   "execution_count": 6,
   "id": "34b46b8d",
   "metadata": {
    "execution": {
     "iopub.execute_input": "2025-03-08T05:42:08.480621Z",
     "iopub.status.busy": "2025-03-08T05:42:08.480204Z",
     "iopub.status.idle": "2025-03-08T05:42:08.511942Z",
     "shell.execute_reply": "2025-03-08T05:42:08.510862Z"
    },
    "papermill": {
     "duration": 0.045895,
     "end_time": "2025-03-08T05:42:08.514234",
     "exception": false,
     "start_time": "2025-03-08T05:42:08.468339",
     "status": "completed"
    },
    "tags": []
   },
   "outputs": [
    {
     "name": "stdout",
     "output_type": "stream",
     "text": [
      "   Score                                               Text\n",
      "0      5  I have bought several of the Vitality canned d...\n",
      "1      1  Product arrived labeled as Jumbo Salted Peanut...\n",
      "2      4  This is a confection that has been around a fe...\n",
      "3      2  If you are looking for the secret ingredient i...\n",
      "4      5  Great taffy at a great price.  There was a wid...\n"
     ]
    }
   ],
   "source": [
    "print(dataset[['Score','Text']].head(5))"
   ]
  },
  {
   "cell_type": "code",
   "execution_count": 7,
   "id": "00da4a20",
   "metadata": {
    "execution": {
     "iopub.execute_input": "2025-03-08T05:42:08.536736Z",
     "iopub.status.busy": "2025-03-08T05:42:08.536341Z",
     "iopub.status.idle": "2025-03-08T05:42:08.750006Z",
     "shell.execute_reply": "2025-03-08T05:42:08.748412Z"
    },
    "papermill": {
     "duration": 0.226911,
     "end_time": "2025-03-08T05:42:08.751876",
     "exception": false,
     "start_time": "2025-03-08T05:42:08.524965",
     "status": "completed"
    },
    "tags": []
   },
   "outputs": [
    {
     "name": "stdout",
     "output_type": "stream",
     "text": [
      "Id                         0\n",
      "ProductId                  0\n",
      "UserId                     0\n",
      "ProfileName               26\n",
      "HelpfulnessNumerator       0\n",
      "HelpfulnessDenominator     0\n",
      "Score                      0\n",
      "Time                       0\n",
      "Summary                   27\n",
      "Text                       0\n",
      "dtype: int64\n"
     ]
    }
   ],
   "source": [
    "print(dataset.isna().sum())"
   ]
  },
  {
   "cell_type": "code",
   "execution_count": 8,
   "id": "897ba5d4",
   "metadata": {
    "execution": {
     "iopub.execute_input": "2025-03-08T05:42:08.774468Z",
     "iopub.status.busy": "2025-03-08T05:42:08.773894Z",
     "iopub.status.idle": "2025-03-08T05:42:08.855207Z",
     "shell.execute_reply": "2025-03-08T05:42:08.853623Z"
    },
    "papermill": {
     "duration": 0.095297,
     "end_time": "2025-03-08T05:42:08.857420",
     "exception": false,
     "start_time": "2025-03-08T05:42:08.762123",
     "status": "completed"
    },
    "tags": []
   },
   "outputs": [
    {
     "name": "stdout",
     "output_type": "stream",
     "text": [
      "                                                     Text  \\\n",
      "237845  I've tried several goji berries on Amazon and ...   \n",
      "154346  it's like the red nyquil.  yuck. I bake a lot ...   \n",
      "11855   Good solid product.  Saves room when storing y...   \n",
      "366452  This is a great decaf green tea. I decided to ...   \n",
      "353445  These are the best vanilla protein bars that I...   \n",
      "...                                                   ...   \n",
      "202092  I had recently tried the regular cheddar bunni...   \n",
      "96973   These Mini Marshmallows are great for my produ...   \n",
      "110628  Once a diehard bean-grinder, I'm now a convert...   \n",
      "291288  I have Arthritis  and sometimes it's very hard...   \n",
      "510737  Really great bold flavour, my favourite out of...   \n",
      "\n",
      "                                   Summary  Score  \n",
      "237845                          Very good!      5  \n",
      "154346                     tastes terrible      1  \n",
      "11855                               cescob      5  \n",
      "366452  Great Green Tea and Great Company!      5  \n",
      "353445           power crunch protein bars      5  \n",
      "...                                    ...    ...  \n",
      "202092     Pretty good, could be cheesier!      4  \n",
      "96973         Mini Dehydrated Marshmallows      5  \n",
      "110628       I can't believe it's instant!      5  \n",
      "291288                           Arthritis      5  \n",
      "510737                       Lovely coffee      5  \n",
      "\n",
      "[1000 rows x 3 columns]\n"
     ]
    }
   ],
   "source": [
    "lmtpData=dataset[['Text','Summary','Score']].sample(n=1000)\n",
    "print(lmtpData)"
   ]
  },
  {
   "cell_type": "markdown",
   "id": "87f1d1ad",
   "metadata": {
    "papermill": {
     "duration": 0.010104,
     "end_time": "2025-03-08T05:42:08.878356",
     "exception": false,
     "start_time": "2025-03-08T05:42:08.868252",
     "status": "completed"
    },
    "tags": []
   },
   "source": [
    "### ADDING SENTIMENT COLUMN"
   ]
  },
  {
   "cell_type": "code",
   "execution_count": 9,
   "id": "8dcd5ace",
   "metadata": {
    "execution": {
     "iopub.execute_input": "2025-03-08T05:42:08.900753Z",
     "iopub.status.busy": "2025-03-08T05:42:08.900343Z",
     "iopub.status.idle": "2025-03-08T05:42:08.913300Z",
     "shell.execute_reply": "2025-03-08T05:42:08.912035Z"
    },
    "papermill": {
     "duration": 0.026181,
     "end_time": "2025-03-08T05:42:08.915066",
     "exception": false,
     "start_time": "2025-03-08T05:42:08.888885",
     "status": "completed"
    },
    "tags": []
   },
   "outputs": [
    {
     "data": {
      "text/html": [
       "<div>\n",
       "<style scoped>\n",
       "    .dataframe tbody tr th:only-of-type {\n",
       "        vertical-align: middle;\n",
       "    }\n",
       "\n",
       "    .dataframe tbody tr th {\n",
       "        vertical-align: top;\n",
       "    }\n",
       "\n",
       "    .dataframe thead th {\n",
       "        text-align: right;\n",
       "    }\n",
       "</style>\n",
       "<table border=\"1\" class=\"dataframe\">\n",
       "  <thead>\n",
       "    <tr style=\"text-align: right;\">\n",
       "      <th></th>\n",
       "      <th>Text</th>\n",
       "      <th>Summary</th>\n",
       "      <th>Score</th>\n",
       "      <th>Sentiment</th>\n",
       "    </tr>\n",
       "  </thead>\n",
       "  <tbody>\n",
       "    <tr>\n",
       "      <th>237845</th>\n",
       "      <td>I've tried several goji berries on Amazon and ...</td>\n",
       "      <td>Very good!</td>\n",
       "      <td>5</td>\n",
       "      <td>1</td>\n",
       "    </tr>\n",
       "    <tr>\n",
       "      <th>154346</th>\n",
       "      <td>it's like the red nyquil.  yuck. I bake a lot ...</td>\n",
       "      <td>tastes terrible</td>\n",
       "      <td>1</td>\n",
       "      <td>0</td>\n",
       "    </tr>\n",
       "    <tr>\n",
       "      <th>11855</th>\n",
       "      <td>Good solid product.  Saves room when storing y...</td>\n",
       "      <td>cescob</td>\n",
       "      <td>5</td>\n",
       "      <td>1</td>\n",
       "    </tr>\n",
       "    <tr>\n",
       "      <th>366452</th>\n",
       "      <td>This is a great decaf green tea. I decided to ...</td>\n",
       "      <td>Great Green Tea and Great Company!</td>\n",
       "      <td>5</td>\n",
       "      <td>1</td>\n",
       "    </tr>\n",
       "    <tr>\n",
       "      <th>353445</th>\n",
       "      <td>These are the best vanilla protein bars that I...</td>\n",
       "      <td>power crunch protein bars</td>\n",
       "      <td>5</td>\n",
       "      <td>1</td>\n",
       "    </tr>\n",
       "  </tbody>\n",
       "</table>\n",
       "</div>"
      ],
      "text/plain": [
       "                                                     Text  \\\n",
       "237845  I've tried several goji berries on Amazon and ...   \n",
       "154346  it's like the red nyquil.  yuck. I bake a lot ...   \n",
       "11855   Good solid product.  Saves room when storing y...   \n",
       "366452  This is a great decaf green tea. I decided to ...   \n",
       "353445  These are the best vanilla protein bars that I...   \n",
       "\n",
       "                                   Summary  Score  Sentiment  \n",
       "237845                          Very good!      5          1  \n",
       "154346                     tastes terrible      1          0  \n",
       "11855                               cescob      5          1  \n",
       "366452  Great Green Tea and Great Company!      5          1  \n",
       "353445           power crunch protein bars      5          1  "
      ]
     },
     "execution_count": 9,
     "metadata": {},
     "output_type": "execute_result"
    }
   ],
   "source": [
    "#0-negative, 1-positive\n",
    "def lblScore(score):\n",
    "    if score<=2:\n",
    "        return 0\n",
    "    elif score>=4:\n",
    "        return 1\n",
    "    else:\n",
    "        return 2\n",
    "lmtpData['Sentiment']=lmtpData['Score'].apply(lblScore)\n",
    "lmtpData.head(5)"
   ]
  },
  {
   "cell_type": "code",
   "execution_count": 10,
   "id": "7030fd92",
   "metadata": {
    "execution": {
     "iopub.execute_input": "2025-03-08T05:42:08.937320Z",
     "iopub.status.busy": "2025-03-08T05:42:08.936964Z",
     "iopub.status.idle": "2025-03-08T05:42:08.946322Z",
     "shell.execute_reply": "2025-03-08T05:42:08.945318Z"
    },
    "papermill": {
     "duration": 0.022725,
     "end_time": "2025-03-08T05:42:08.948230",
     "exception": false,
     "start_time": "2025-03-08T05:42:08.925505",
     "status": "completed"
    },
    "tags": []
   },
   "outputs": [
    {
     "data": {
      "text/plain": [
       "Sentiment\n",
       "1    771\n",
       "0    154\n",
       "2     75\n",
       "Name: count, dtype: int64"
      ]
     },
     "execution_count": 10,
     "metadata": {},
     "output_type": "execute_result"
    }
   ],
   "source": [
    "lmtpData['Sentiment'].value_counts()"
   ]
  },
  {
   "cell_type": "markdown",
   "id": "cf7fc423",
   "metadata": {
    "execution": {
     "iopub.execute_input": "2025-03-06T12:31:15.045476Z",
     "iopub.status.busy": "2025-03-06T12:31:15.045080Z",
     "iopub.status.idle": "2025-03-06T12:31:15.049290Z",
     "shell.execute_reply": "2025-03-06T12:31:15.048323Z",
     "shell.execute_reply.started": "2025-03-06T12:31:15.045438Z"
    },
    "papermill": {
     "duration": 0.010595,
     "end_time": "2025-03-08T05:42:08.969836",
     "exception": false,
     "start_time": "2025-03-08T05:42:08.959241",
     "status": "completed"
    },
    "tags": []
   },
   "source": [
    "#### VECTORS"
   ]
  },
  {
   "cell_type": "code",
   "execution_count": 11,
   "id": "6311b353",
   "metadata": {
    "execution": {
     "iopub.execute_input": "2025-03-08T05:42:08.992499Z",
     "iopub.status.busy": "2025-03-08T05:42:08.992124Z",
     "iopub.status.idle": "2025-03-08T05:42:20.669710Z",
     "shell.execute_reply": "2025-03-08T05:42:20.668327Z"
    },
    "papermill": {
     "duration": 11.691309,
     "end_time": "2025-03-08T05:42:20.671687",
     "exception": false,
     "start_time": "2025-03-08T05:42:08.980378",
     "status": "completed"
    },
    "tags": []
   },
   "outputs": [
    {
     "name": "stdout",
     "output_type": "stream",
     "text": [
      "Loaded 400000 word vectors.\n"
     ]
    }
   ],
   "source": [
    "import numpy as np\n",
    "\n",
    "glove_path = \"/kaggle/input/glove-6b-100-d/glove.6B.100d.txt\"\n",
    "\n",
    "def loadGloveEmbeddings(filePath, embedding_dim=100):\n",
    "    embeddingsIndex = {}\n",
    "    with open(filePath, encoding=\"utf8\") as f:\n",
    "        for line in f:\n",
    "            values = line.split()\n",
    "            word = values[0]\n",
    "            coefs = np.asarray(values[1:], dtype='float32')\n",
    "            embeddingsIndex[word] = coefs\n",
    "    return embeddingsIndex\n",
    "\n",
    "gloveEmbeddings = loadGloveEmbeddings(glove_path)\n",
    "print(\"Loaded {} word vectors.\".format(len(gloveEmbeddings)))\n",
    "\n",
    "\n",
    "        "
   ]
  },
  {
   "cell_type": "markdown",
   "id": "43535813",
   "metadata": {
    "papermill": {
     "duration": 0.010013,
     "end_time": "2025-03-08T05:42:20.692581",
     "exception": false,
     "start_time": "2025-03-08T05:42:20.682568",
     "status": "completed"
    },
    "tags": []
   },
   "source": [
    "#### CREATING EMBEDDING MATRIX"
   ]
  },
  {
   "cell_type": "code",
   "execution_count": 12,
   "id": "50a257ed",
   "metadata": {
    "execution": {
     "iopub.execute_input": "2025-03-08T05:42:20.714420Z",
     "iopub.status.busy": "2025-03-08T05:42:20.714089Z",
     "iopub.status.idle": "2025-03-08T05:42:20.722331Z",
     "shell.execute_reply": "2025-03-08T05:42:20.721381Z"
    },
    "papermill": {
     "duration": 0.021498,
     "end_time": "2025-03-08T05:42:20.724245",
     "exception": false,
     "start_time": "2025-03-08T05:42:20.702747",
     "status": "completed"
    },
    "tags": []
   },
   "outputs": [],
   "source": [
    "lmtpData['Summary']=lmtpData['Summary'].fillna(\"\")\n",
    "lmtpData['CombinedText']=lmtpData['Summary'] + \" \" + lmtpData['Text']\n"
   ]
  },
  {
   "cell_type": "code",
   "execution_count": 13,
   "id": "f2d0f572",
   "metadata": {
    "execution": {
     "iopub.execute_input": "2025-03-08T05:42:20.746479Z",
     "iopub.status.busy": "2025-03-08T05:42:20.746042Z",
     "iopub.status.idle": "2025-03-08T05:42:37.303185Z",
     "shell.execute_reply": "2025-03-08T05:42:37.301908Z"
    },
    "papermill": {
     "duration": 16.570641,
     "end_time": "2025-03-08T05:42:37.305256",
     "exception": false,
     "start_time": "2025-03-08T05:42:20.734615",
     "status": "completed"
    },
    "tags": []
   },
   "outputs": [],
   "source": [
    "#tokenizing\n",
    "from tensorflow.keras.preprocessing.text import Tokenizer\n",
    "from tensorflow.keras.preprocessing.sequence import pad_sequences\n",
    "\n",
    "tokenizer=Tokenizer()\n",
    "tokenizer.fit_on_texts(lmtpData['CombinedText'])\n",
    "sequences=tokenizer.texts_to_sequences(lmtpData['CombinedText'])\n",
    "\n",
    "maxLen=100\n",
    "padded_sequences=pad_sequences(sequences,maxlen=maxLen,padding='post')"
   ]
  },
  {
   "cell_type": "code",
   "execution_count": 14,
   "id": "5651e238",
   "metadata": {
    "execution": {
     "iopub.execute_input": "2025-03-08T05:42:37.327963Z",
     "iopub.status.busy": "2025-03-08T05:42:37.327116Z",
     "iopub.status.idle": "2025-03-08T05:42:37.350031Z",
     "shell.execute_reply": "2025-03-08T05:42:37.348677Z"
    },
    "papermill": {
     "duration": 0.036469,
     "end_time": "2025-03-08T05:42:37.352035",
     "exception": false,
     "start_time": "2025-03-08T05:42:37.315566",
     "status": "completed"
    },
    "tags": []
   },
   "outputs": [],
   "source": [
    "embedding_dim=100\n",
    "vocabSize=len(tokenizer.word_index) + 1\n",
    "\n",
    "embeddingMatrix=np.zeros((vocabSize,embedding_dim))\n",
    "\n",
    "for word,i in tokenizer.word_index.items():\n",
    "    embeddingVector=gloveEmbeddings.get(word)\n",
    "    if embeddingVector is not None:\n",
    "        embeddingMatrix[i]=embeddingVector"
   ]
  },
  {
   "cell_type": "code",
   "execution_count": 15,
   "id": "85f864e9",
   "metadata": {
    "execution": {
     "iopub.execute_input": "2025-03-08T05:42:37.374311Z",
     "iopub.status.busy": "2025-03-08T05:42:37.373948Z",
     "iopub.status.idle": "2025-03-08T05:42:37.380096Z",
     "shell.execute_reply": "2025-03-08T05:42:37.378585Z"
    },
    "papermill": {
     "duration": 0.019766,
     "end_time": "2025-03-08T05:42:37.382239",
     "exception": false,
     "start_time": "2025-03-08T05:42:37.362473",
     "status": "completed"
    },
    "tags": []
   },
   "outputs": [
    {
     "name": "stdout",
     "output_type": "stream",
     "text": [
      "Embedding matrix shape: (7107, 100)\n"
     ]
    }
   ],
   "source": [
    "print(\"Embedding matrix shape:\", embeddingMatrix.shape)\n"
   ]
  },
  {
   "cell_type": "markdown",
   "id": "9b3e65af",
   "metadata": {
    "papermill": {
     "duration": 0.010444,
     "end_time": "2025-03-08T05:42:37.403686",
     "exception": false,
     "start_time": "2025-03-08T05:42:37.393242",
     "status": "completed"
    },
    "tags": []
   },
   "source": [
    "### MAKING THE MODEL"
   ]
  },
  {
   "cell_type": "code",
   "execution_count": 16,
   "id": "3374159f",
   "metadata": {
    "execution": {
     "iopub.execute_input": "2025-03-08T05:42:37.426816Z",
     "iopub.status.busy": "2025-03-08T05:42:37.426365Z",
     "iopub.status.idle": "2025-03-08T05:42:37.629766Z",
     "shell.execute_reply": "2025-03-08T05:42:37.628670Z"
    },
    "papermill": {
     "duration": 0.216816,
     "end_time": "2025-03-08T05:42:37.631496",
     "exception": false,
     "start_time": "2025-03-08T05:42:37.414680",
     "status": "completed"
    },
    "tags": []
   },
   "outputs": [
    {
     "name": "stdout",
     "output_type": "stream",
     "text": [
      "Padded shape: (1000, 100)\n",
      "Labels shape: (1000,)\n"
     ]
    },
    {
     "data": {
      "text/html": [
       "<pre style=\"white-space:pre;overflow-x:auto;line-height:normal;font-family:Menlo,'DejaVu Sans Mono',consolas,'Courier New',monospace\"><span style=\"font-weight: bold\">Model: \"sequential\"</span>\n",
       "</pre>\n"
      ],
      "text/plain": [
       "\u001b[1mModel: \"sequential\"\u001b[0m\n"
      ]
     },
     "metadata": {},
     "output_type": "display_data"
    },
    {
     "data": {
      "text/html": [
       "<pre style=\"white-space:pre;overflow-x:auto;line-height:normal;font-family:Menlo,'DejaVu Sans Mono',consolas,'Courier New',monospace\">┏━━━━━━━━━━━━━━━━━━━━━━━━━━━━━━━━━━━━━━┳━━━━━━━━━━━━━━━━━━━━━━━━━━━━━┳━━━━━━━━━━━━━━━━━┓\n",
       "┃<span style=\"font-weight: bold\"> Layer (type)                         </span>┃<span style=\"font-weight: bold\"> Output Shape                </span>┃<span style=\"font-weight: bold\">         Param # </span>┃\n",
       "┡━━━━━━━━━━━━━━━━━━━━━━━━━━━━━━━━━━━━━━╇━━━━━━━━━━━━━━━━━━━━━━━━━━━━━╇━━━━━━━━━━━━━━━━━┩\n",
       "│ embedding (<span style=\"color: #0087ff; text-decoration-color: #0087ff\">Embedding</span>)                │ (<span style=\"color: #00d7ff; text-decoration-color: #00d7ff\">None</span>, <span style=\"color: #00af00; text-decoration-color: #00af00\">100</span>, <span style=\"color: #00af00; text-decoration-color: #00af00\">100</span>)            │         <span style=\"color: #00af00; text-decoration-color: #00af00\">710,700</span> │\n",
       "├──────────────────────────────────────┼─────────────────────────────┼─────────────────┤\n",
       "│ lstm (<span style=\"color: #0087ff; text-decoration-color: #0087ff\">LSTM</span>)                          │ (<span style=\"color: #00d7ff; text-decoration-color: #00d7ff\">None</span>, <span style=\"color: #00af00; text-decoration-color: #00af00\">100</span>, <span style=\"color: #00af00; text-decoration-color: #00af00\">128</span>)            │         <span style=\"color: #00af00; text-decoration-color: #00af00\">117,248</span> │\n",
       "├──────────────────────────────────────┼─────────────────────────────┼─────────────────┤\n",
       "│ lstm_1 (<span style=\"color: #0087ff; text-decoration-color: #0087ff\">LSTM</span>)                        │ (<span style=\"color: #00d7ff; text-decoration-color: #00d7ff\">None</span>, <span style=\"color: #00af00; text-decoration-color: #00af00\">64</span>)                  │          <span style=\"color: #00af00; text-decoration-color: #00af00\">49,408</span> │\n",
       "├──────────────────────────────────────┼─────────────────────────────┼─────────────────┤\n",
       "│ dropout (<span style=\"color: #0087ff; text-decoration-color: #0087ff\">Dropout</span>)                    │ (<span style=\"color: #00d7ff; text-decoration-color: #00d7ff\">None</span>, <span style=\"color: #00af00; text-decoration-color: #00af00\">64</span>)                  │               <span style=\"color: #00af00; text-decoration-color: #00af00\">0</span> │\n",
       "├──────────────────────────────────────┼─────────────────────────────┼─────────────────┤\n",
       "│ dense (<span style=\"color: #0087ff; text-decoration-color: #0087ff\">Dense</span>)                        │ (<span style=\"color: #00d7ff; text-decoration-color: #00d7ff\">None</span>, <span style=\"color: #00af00; text-decoration-color: #00af00\">3</span>)                   │             <span style=\"color: #00af00; text-decoration-color: #00af00\">195</span> │\n",
       "└──────────────────────────────────────┴─────────────────────────────┴─────────────────┘\n",
       "</pre>\n"
      ],
      "text/plain": [
       "┏━━━━━━━━━━━━━━━━━━━━━━━━━━━━━━━━━━━━━━┳━━━━━━━━━━━━━━━━━━━━━━━━━━━━━┳━━━━━━━━━━━━━━━━━┓\n",
       "┃\u001b[1m \u001b[0m\u001b[1mLayer (type)                        \u001b[0m\u001b[1m \u001b[0m┃\u001b[1m \u001b[0m\u001b[1mOutput Shape               \u001b[0m\u001b[1m \u001b[0m┃\u001b[1m \u001b[0m\u001b[1m        Param #\u001b[0m\u001b[1m \u001b[0m┃\n",
       "┡━━━━━━━━━━━━━━━━━━━━━━━━━━━━━━━━━━━━━━╇━━━━━━━━━━━━━━━━━━━━━━━━━━━━━╇━━━━━━━━━━━━━━━━━┩\n",
       "│ embedding (\u001b[38;5;33mEmbedding\u001b[0m)                │ (\u001b[38;5;45mNone\u001b[0m, \u001b[38;5;34m100\u001b[0m, \u001b[38;5;34m100\u001b[0m)            │         \u001b[38;5;34m710,700\u001b[0m │\n",
       "├──────────────────────────────────────┼─────────────────────────────┼─────────────────┤\n",
       "│ lstm (\u001b[38;5;33mLSTM\u001b[0m)                          │ (\u001b[38;5;45mNone\u001b[0m, \u001b[38;5;34m100\u001b[0m, \u001b[38;5;34m128\u001b[0m)            │         \u001b[38;5;34m117,248\u001b[0m │\n",
       "├──────────────────────────────────────┼─────────────────────────────┼─────────────────┤\n",
       "│ lstm_1 (\u001b[38;5;33mLSTM\u001b[0m)                        │ (\u001b[38;5;45mNone\u001b[0m, \u001b[38;5;34m64\u001b[0m)                  │          \u001b[38;5;34m49,408\u001b[0m │\n",
       "├──────────────────────────────────────┼─────────────────────────────┼─────────────────┤\n",
       "│ dropout (\u001b[38;5;33mDropout\u001b[0m)                    │ (\u001b[38;5;45mNone\u001b[0m, \u001b[38;5;34m64\u001b[0m)                  │               \u001b[38;5;34m0\u001b[0m │\n",
       "├──────────────────────────────────────┼─────────────────────────────┼─────────────────┤\n",
       "│ dense (\u001b[38;5;33mDense\u001b[0m)                        │ (\u001b[38;5;45mNone\u001b[0m, \u001b[38;5;34m3\u001b[0m)                   │             \u001b[38;5;34m195\u001b[0m │\n",
       "└──────────────────────────────────────┴─────────────────────────────┴─────────────────┘\n"
      ]
     },
     "metadata": {},
     "output_type": "display_data"
    },
    {
     "data": {
      "text/html": [
       "<pre style=\"white-space:pre;overflow-x:auto;line-height:normal;font-family:Menlo,'DejaVu Sans Mono',consolas,'Courier New',monospace\"><span style=\"font-weight: bold\"> Total params: </span><span style=\"color: #00af00; text-decoration-color: #00af00\">877,551</span> (3.35 MB)\n",
       "</pre>\n"
      ],
      "text/plain": [
       "\u001b[1m Total params: \u001b[0m\u001b[38;5;34m877,551\u001b[0m (3.35 MB)\n"
      ]
     },
     "metadata": {},
     "output_type": "display_data"
    },
    {
     "data": {
      "text/html": [
       "<pre style=\"white-space:pre;overflow-x:auto;line-height:normal;font-family:Menlo,'DejaVu Sans Mono',consolas,'Courier New',monospace\"><span style=\"font-weight: bold\"> Trainable params: </span><span style=\"color: #00af00; text-decoration-color: #00af00\">166,851</span> (651.76 KB)\n",
       "</pre>\n"
      ],
      "text/plain": [
       "\u001b[1m Trainable params: \u001b[0m\u001b[38;5;34m166,851\u001b[0m (651.76 KB)\n"
      ]
     },
     "metadata": {},
     "output_type": "display_data"
    },
    {
     "data": {
      "text/html": [
       "<pre style=\"white-space:pre;overflow-x:auto;line-height:normal;font-family:Menlo,'DejaVu Sans Mono',consolas,'Courier New',monospace\"><span style=\"font-weight: bold\"> Non-trainable params: </span><span style=\"color: #00af00; text-decoration-color: #00af00\">710,700</span> (2.71 MB)\n",
       "</pre>\n"
      ],
      "text/plain": [
       "\u001b[1m Non-trainable params: \u001b[0m\u001b[38;5;34m710,700\u001b[0m (2.71 MB)\n"
      ]
     },
     "metadata": {},
     "output_type": "display_data"
    }
   ],
   "source": [
    "from tensorflow.keras.models import Sequential\n",
    "from tensorflow.keras.layers import Embedding, LSTM, Dense, Dropout,Input\n",
    "maxLen=100\n",
    "X_train = padded_sequences \n",
    "y_train = lmtpData[\"Sentiment\"].values  \n",
    "\n",
    "print(\"Padded shape:\", X_train.shape)  \n",
    "print(\"Labels shape:\", y_train.shape) \n",
    "\n",
    "model = Sequential([\n",
    "    Input(shape=(maxLen,)),\n",
    "    Embedding(input_dim=vocabSize,  \n",
    "              output_dim=embedding_dim, \n",
    "              weights=embeddingMatrix, \n",
    "             \n",
    "              trainable=False), \n",
    "    LSTM(128, return_sequences=True),\n",
    "    LSTM(64),\n",
    "    Dropout(0.3),\n",
    "    Dense(3, activation='softmax') \n",
    "])\n",
    "\n",
    "\n",
    "model.compile(loss='sparse_categorical_crossentropy', optimizer='adam', metrics=['accuracy'])\n",
    "\n",
    "model.summary()\n"
   ]
  },
  {
   "cell_type": "code",
   "execution_count": 17,
   "id": "bba8b00f",
   "metadata": {
    "execution": {
     "iopub.execute_input": "2025-03-08T05:42:37.656540Z",
     "iopub.status.busy": "2025-03-08T05:42:37.656173Z",
     "iopub.status.idle": "2025-03-08T05:43:25.479062Z",
     "shell.execute_reply": "2025-03-08T05:43:25.477891Z"
    },
    "papermill": {
     "duration": 47.837492,
     "end_time": "2025-03-08T05:43:25.481284",
     "exception": false,
     "start_time": "2025-03-08T05:42:37.643792",
     "status": "completed"
    },
    "tags": []
   },
   "outputs": [
    {
     "name": "stdout",
     "output_type": "stream",
     "text": [
      "Epoch 1/10\n",
      "\u001b[1m22/22\u001b[0m \u001b[32m━━━━━━━━━━━━━━━━━━━━\u001b[0m\u001b[37m\u001b[0m \u001b[1m8s\u001b[0m 223ms/step - accuracy: 0.6883 - loss: 0.9824 - val_accuracy: 0.7933 - val_loss: 0.6389\n",
      "Epoch 2/10\n",
      "\u001b[1m22/22\u001b[0m \u001b[32m━━━━━━━━━━━━━━━━━━━━\u001b[0m\u001b[37m\u001b[0m \u001b[1m4s\u001b[0m 202ms/step - accuracy: 0.7565 - loss: 0.7178 - val_accuracy: 0.7933 - val_loss: 0.6346\n",
      "Epoch 3/10\n",
      "\u001b[1m22/22\u001b[0m \u001b[32m━━━━━━━━━━━━━━━━━━━━\u001b[0m\u001b[37m\u001b[0m \u001b[1m4s\u001b[0m 200ms/step - accuracy: 0.7831 - loss: 0.6549 - val_accuracy: 0.7933 - val_loss: 0.6407\n",
      "Epoch 4/10\n",
      "\u001b[1m22/22\u001b[0m \u001b[32m━━━━━━━━━━━━━━━━━━━━\u001b[0m\u001b[37m\u001b[0m \u001b[1m4s\u001b[0m 199ms/step - accuracy: 0.7681 - loss: 0.6951 - val_accuracy: 0.7933 - val_loss: 0.6391\n",
      "Epoch 5/10\n",
      "\u001b[1m22/22\u001b[0m \u001b[32m━━━━━━━━━━━━━━━━━━━━\u001b[0m\u001b[37m\u001b[0m \u001b[1m4s\u001b[0m 200ms/step - accuracy: 0.7811 - loss: 0.6743 - val_accuracy: 0.7933 - val_loss: 0.6399\n",
      "Epoch 6/10\n",
      "\u001b[1m22/22\u001b[0m \u001b[32m━━━━━━━━━━━━━━━━━━━━\u001b[0m\u001b[37m\u001b[0m \u001b[1m4s\u001b[0m 199ms/step - accuracy: 0.7722 - loss: 0.6629 - val_accuracy: 0.7933 - val_loss: 0.6437\n",
      "Epoch 7/10\n",
      "\u001b[1m22/22\u001b[0m \u001b[32m━━━━━━━━━━━━━━━━━━━━\u001b[0m\u001b[37m\u001b[0m \u001b[1m4s\u001b[0m 195ms/step - accuracy: 0.7600 - loss: 0.6907 - val_accuracy: 0.7933 - val_loss: 0.6332\n",
      "Epoch 8/10\n",
      "\u001b[1m22/22\u001b[0m \u001b[32m━━━━━━━━━━━━━━━━━━━━\u001b[0m\u001b[37m\u001b[0m \u001b[1m4s\u001b[0m 198ms/step - accuracy: 0.7736 - loss: 0.6894 - val_accuracy: 0.7967 - val_loss: 0.6578\n",
      "Epoch 9/10\n",
      "\u001b[1m22/22\u001b[0m \u001b[32m━━━━━━━━━━━━━━━━━━━━\u001b[0m\u001b[37m\u001b[0m \u001b[1m5s\u001b[0m 210ms/step - accuracy: 0.7608 - loss: 0.6899 - val_accuracy: 0.7967 - val_loss: 0.6345\n",
      "Epoch 10/10\n",
      "\u001b[1m22/22\u001b[0m \u001b[32m━━━━━━━━━━━━━━━━━━━━\u001b[0m\u001b[37m\u001b[0m \u001b[1m4s\u001b[0m 198ms/step - accuracy: 0.7892 - loss: 0.6346 - val_accuracy: 0.7933 - val_loss: 0.6394\n"
     ]
    }
   ],
   "source": [
    "\n",
    "history=model.fit(X_train, y_train, epochs=10, batch_size=32, validation_split=0.3)\n",
    "\n"
   ]
  },
  {
   "cell_type": "markdown",
   "id": "cfaddb49",
   "metadata": {
    "papermill": {
     "duration": 0.024874,
     "end_time": "2025-03-08T05:43:25.532163",
     "exception": false,
     "start_time": "2025-03-08T05:43:25.507289",
     "status": "completed"
    },
    "tags": []
   },
   "source": [
    "#### PLOTTING AND ACCURACY AND LOSS CURVES"
   ]
  },
  {
   "cell_type": "code",
   "execution_count": 18,
   "id": "99bd40d4",
   "metadata": {
    "execution": {
     "iopub.execute_input": "2025-03-08T05:43:25.586326Z",
     "iopub.status.busy": "2025-03-08T05:43:25.585947Z",
     "iopub.status.idle": "2025-03-08T05:43:25.591604Z",
     "shell.execute_reply": "2025-03-08T05:43:25.590377Z"
    },
    "papermill": {
     "duration": 0.034934,
     "end_time": "2025-03-08T05:43:25.593579",
     "exception": false,
     "start_time": "2025-03-08T05:43:25.558645",
     "status": "completed"
    },
    "tags": []
   },
   "outputs": [],
   "source": [
    "import matplotlib.pyplot as plt\n",
    "accuracy=history.history['accuracy']\n",
    "valAccuracy=history.history['val_accuracy']\n",
    "loss = history.history['loss']\n",
    "valLoss = history.history['val_loss']\n",
    "epochs_range = range(1, len(accuracy) + 1)"
   ]
  },
  {
   "cell_type": "code",
   "execution_count": 19,
   "id": "6c786600",
   "metadata": {
    "execution": {
     "iopub.execute_input": "2025-03-08T05:43:25.644060Z",
     "iopub.status.busy": "2025-03-08T05:43:25.643706Z",
     "iopub.status.idle": "2025-03-08T05:43:25.972923Z",
     "shell.execute_reply": "2025-03-08T05:43:25.971580Z"
    },
    "papermill": {
     "duration": 0.356765,
     "end_time": "2025-03-08T05:43:25.974942",
     "exception": false,
     "start_time": "2025-03-08T05:43:25.618177",
     "status": "completed"
    },
    "tags": []
   },
   "outputs": [
    {
     "data": {
      "text/plain": [
       "Text(0.5, 1.0, 'Training & Validation Accuracy')"
      ]
     },
     "execution_count": 19,
     "metadata": {},
     "output_type": "execute_result"
    },
    {
     "data": {
      "image/png": "[encoded data removed]",
      "text/plain": [
       "<Figure size 1200x500 with 1 Axes>"
      ]
     },
     "metadata": {},
     "output_type": "display_data"
    }
   ],
   "source": [
    "plt.figure(figsize=(12, 5))\n",
    "plt.subplot(1, 2, 1)\n",
    "plt.plot(epochs_range, accuracy, label='Training Accuracy', marker='o')\n",
    "plt.plot(epochs_range, valAccuracy, label='Validation Accuracy', marker='o')\n",
    "plt.legend(loc='lower right')\n",
    "plt.xlabel('Epochs')\n",
    "plt.ylabel('Accuracy')\n",
    "plt.title('Training & Validation Accuracy')"
   ]
  },
  {
   "cell_type": "code",
   "execution_count": 20,
   "id": "143a5ed4",
   "metadata": {
    "execution": {
     "iopub.execute_input": "2025-03-08T05:43:26.032152Z",
     "iopub.status.busy": "2025-03-08T05:43:26.031789Z",
     "iopub.status.idle": "2025-03-08T05:43:26.273168Z",
     "shell.execute_reply": "2025-03-08T05:43:26.271855Z"
    },
    "papermill": {
     "duration": 0.272254,
     "end_time": "2025-03-08T05:43:26.275116",
     "exception": false,
     "start_time": "2025-03-08T05:43:26.002862",
     "status": "completed"
    },
    "tags": []
   },
   "outputs": [
    {
     "data": {
      "text/plain": [
       "Text(0.5, 1.0, 'Training & Validation Loss')"
      ]
     },
     "execution_count": 20,
     "metadata": {},
     "output_type": "execute_result"
    },
    {
     "data": {
      "image/png": "[encoded data removed]",
      "text/plain": [
       "<Figure size 1200x500 with 1 Axes>"
      ]
     },
     "metadata": {},
     "output_type": "display_data"
    }
   ],
   "source": [
    "plt.figure(figsize=(12, 5))\n",
    "plt.subplot(1, 2, 2)\n",
    "plt.plot(epochs_range, loss, label='Training Loss', marker='o')\n",
    "plt.plot(epochs_range, valLoss, label='Validation Loss', marker='o')\n",
    "plt.legend(loc='upper right')\n",
    "plt.xlabel('Epochs')\n",
    "plt.ylabel('Loss')\n",
    "plt.title('Training & Validation Loss')"
   ]
  },
  {
   "cell_type": "markdown",
   "id": "c690b6d2",
   "metadata": {
    "papermill": {
     "duration": 0.026895,
     "end_time": "2025-03-08T05:43:26.329220",
     "exception": false,
     "start_time": "2025-03-08T05:43:26.302325",
     "status": "completed"
    },
    "tags": []
   },
   "source": [
    "##### overfitting"
   ]
  },
  {
   "cell_type": "markdown",
   "id": "cd94f956",
   "metadata": {
    "papermill": {
     "duration": 0.027076,
     "end_time": "2025-03-08T05:43:26.383491",
     "exception": false,
     "start_time": "2025-03-08T05:43:26.356415",
     "status": "completed"
    },
    "tags": []
   },
   "source": [
    "### OUTPUT VS PREDICTED OUTPUT\n"
   ]
  },
  {
   "cell_type": "code",
   "execution_count": 21,
   "id": "395a6140",
   "metadata": {
    "execution": {
     "iopub.execute_input": "2025-03-08T05:43:26.529234Z",
     "iopub.status.busy": "2025-03-08T05:43:26.528829Z",
     "iopub.status.idle": "2025-03-08T05:43:29.273958Z",
     "shell.execute_reply": "2025-03-08T05:43:29.272777Z"
    },
    "papermill": {
     "duration": 2.865668,
     "end_time": "2025-03-08T05:43:29.276055",
     "exception": false,
     "start_time": "2025-03-08T05:43:26.410387",
     "status": "completed"
    },
    "tags": []
   },
   "outputs": [
    {
     "name": "stdout",
     "output_type": "stream",
     "text": [
      "\u001b[1m32/32\u001b[0m \u001b[32m━━━━━━━━━━━━━━━━━━━━\u001b[0m\u001b[37m\u001b[0m \u001b[1m3s\u001b[0m 75ms/step\n"
     ]
    }
   ],
   "source": [
    "predictions=model.predict(padded_sequences)\n",
    "predictedClasses=np.argmax(predictions,axis=1)"
   ]
  },
  {
   "cell_type": "code",
   "execution_count": 22,
   "id": "f7b9eb58",
   "metadata": {
    "execution": {
     "iopub.execute_input": "2025-03-08T05:43:29.333500Z",
     "iopub.status.busy": "2025-03-08T05:43:29.333047Z",
     "iopub.status.idle": "2025-03-08T05:43:29.345908Z",
     "shell.execute_reply": "2025-03-08T05:43:29.344530Z"
    },
    "papermill": {
     "duration": 0.043634,
     "end_time": "2025-03-08T05:43:29.347856",
     "exception": false,
     "start_time": "2025-03-08T05:43:29.304222",
     "status": "completed"
    },
    "tags": []
   },
   "outputs": [
    {
     "data": {
      "text/html": [
       "<div>\n",
       "<style scoped>\n",
       "    .dataframe tbody tr th:only-of-type {\n",
       "        vertical-align: middle;\n",
       "    }\n",
       "\n",
       "    .dataframe tbody tr th {\n",
       "        vertical-align: top;\n",
       "    }\n",
       "\n",
       "    .dataframe thead th {\n",
       "        text-align: right;\n",
       "    }\n",
       "</style>\n",
       "<table border=\"1\" class=\"dataframe\">\n",
       "  <thead>\n",
       "    <tr style=\"text-align: right;\">\n",
       "      <th></th>\n",
       "      <th>Text</th>\n",
       "      <th>Actual Sentiment</th>\n",
       "      <th>Predicted Sentiment</th>\n",
       "    </tr>\n",
       "  </thead>\n",
       "  <tbody>\n",
       "    <tr>\n",
       "      <th>237845</th>\n",
       "      <td>Very good! I've tried several goji berries on ...</td>\n",
       "      <td>1</td>\n",
       "      <td>1</td>\n",
       "    </tr>\n",
       "    <tr>\n",
       "      <th>154346</th>\n",
       "      <td>tastes terrible it's like the red nyquil.  yuc...</td>\n",
       "      <td>0</td>\n",
       "      <td>1</td>\n",
       "    </tr>\n",
       "    <tr>\n",
       "      <th>11855</th>\n",
       "      <td>cescob Good solid product.  Saves room when st...</td>\n",
       "      <td>1</td>\n",
       "      <td>1</td>\n",
       "    </tr>\n",
       "    <tr>\n",
       "      <th>366452</th>\n",
       "      <td>Great Green Tea and Great Company! This is a g...</td>\n",
       "      <td>1</td>\n",
       "      <td>1</td>\n",
       "    </tr>\n",
       "    <tr>\n",
       "      <th>353445</th>\n",
       "      <td>power crunch protein bars These are the best v...</td>\n",
       "      <td>1</td>\n",
       "      <td>1</td>\n",
       "    </tr>\n",
       "    <tr>\n",
       "      <th>56486</th>\n",
       "      <td>Good Quality Wild Rice... Good quality wild ri...</td>\n",
       "      <td>2</td>\n",
       "      <td>1</td>\n",
       "    </tr>\n",
       "    <tr>\n",
       "      <th>331173</th>\n",
       "      <td>One of the best K Cups, but buy elsewhere! If ...</td>\n",
       "      <td>1</td>\n",
       "      <td>1</td>\n",
       "    </tr>\n",
       "    <tr>\n",
       "      <th>458895</th>\n",
       "      <td>Delicious! A MUST re-order!  Fresh, and delish...</td>\n",
       "      <td>1</td>\n",
       "      <td>1</td>\n",
       "    </tr>\n",
       "    <tr>\n",
       "      <th>43042</th>\n",
       "      <td>Kenya AA - yawn :-O Kenyan is one of my favori...</td>\n",
       "      <td>2</td>\n",
       "      <td>1</td>\n",
       "    </tr>\n",
       "    <tr>\n",
       "      <th>501647</th>\n",
       "      <td>I'm noticing a trend here... EVERY candy I hav...</td>\n",
       "      <td>1</td>\n",
       "      <td>1</td>\n",
       "    </tr>\n",
       "  </tbody>\n",
       "</table>\n",
       "</div>"
      ],
      "text/plain": [
       "                                                     Text  Actual Sentiment  \\\n",
       "237845  Very good! I've tried several goji berries on ...                 1   \n",
       "154346  tastes terrible it's like the red nyquil.  yuc...                 0   \n",
       "11855   cescob Good solid product.  Saves room when st...                 1   \n",
       "366452  Great Green Tea and Great Company! This is a g...                 1   \n",
       "353445  power crunch protein bars These are the best v...                 1   \n",
       "56486   Good Quality Wild Rice... Good quality wild ri...                 2   \n",
       "331173  One of the best K Cups, but buy elsewhere! If ...                 1   \n",
       "458895  Delicious! A MUST re-order!  Fresh, and delish...                 1   \n",
       "43042   Kenya AA - yawn :-O Kenyan is one of my favori...                 2   \n",
       "501647  I'm noticing a trend here... EVERY candy I hav...                 1   \n",
       "\n",
       "        Predicted Sentiment  \n",
       "237845                    1  \n",
       "154346                    1  \n",
       "11855                     1  \n",
       "366452                    1  \n",
       "353445                    1  \n",
       "56486                     1  \n",
       "331173                    1  \n",
       "458895                    1  \n",
       "43042                     1  \n",
       "501647                    1  "
      ]
     },
     "execution_count": 22,
     "metadata": {},
     "output_type": "execute_result"
    }
   ],
   "source": [
    "comparisonData=pd.DataFrame({\n",
    "    \"Text\":lmtpData[\"CombinedText\"],\n",
    "    \"Actual Sentiment\":lmtpData[\"Sentiment\"].values,\n",
    "    \"Predicted Sentiment\":predictedClasses\n",
    "})\n",
    "comparisonData.head(10)"
   ]
  },
  {
   "cell_type": "code",
   "execution_count": 23,
   "id": "0fc5debf",
   "metadata": {
    "execution": {
     "iopub.execute_input": "2025-03-08T05:43:29.407943Z",
     "iopub.status.busy": "2025-03-08T05:43:29.407392Z",
     "iopub.status.idle": "2025-03-08T05:43:29.419901Z",
     "shell.execute_reply": "2025-03-08T05:43:29.418754Z"
    },
    "papermill": {
     "duration": 0.044868,
     "end_time": "2025-03-08T05:43:29.421824",
     "exception": false,
     "start_time": "2025-03-08T05:43:29.376956",
     "status": "completed"
    },
    "tags": []
   },
   "outputs": [
    {
     "data": {
      "text/html": [
       "<div>\n",
       "<style scoped>\n",
       "    .dataframe tbody tr th:only-of-type {\n",
       "        vertical-align: middle;\n",
       "    }\n",
       "\n",
       "    .dataframe tbody tr th {\n",
       "        vertical-align: top;\n",
       "    }\n",
       "\n",
       "    .dataframe thead th {\n",
       "        text-align: right;\n",
       "    }\n",
       "</style>\n",
       "<table border=\"1\" class=\"dataframe\">\n",
       "  <thead>\n",
       "    <tr style=\"text-align: right;\">\n",
       "      <th></th>\n",
       "      <th>Text</th>\n",
       "      <th>Actual Sentiment</th>\n",
       "      <th>Predicted Sentiment</th>\n",
       "    </tr>\n",
       "  </thead>\n",
       "  <tbody>\n",
       "    <tr>\n",
       "      <th>237845</th>\n",
       "      <td>Very good! I've tried several goji berries on ...</td>\n",
       "      <td>1</td>\n",
       "      <td>1</td>\n",
       "    </tr>\n",
       "    <tr>\n",
       "      <th>154346</th>\n",
       "      <td>tastes terrible it's like the red nyquil.  yuc...</td>\n",
       "      <td>0</td>\n",
       "      <td>1</td>\n",
       "    </tr>\n",
       "    <tr>\n",
       "      <th>11855</th>\n",
       "      <td>cescob Good solid product.  Saves room when st...</td>\n",
       "      <td>1</td>\n",
       "      <td>1</td>\n",
       "    </tr>\n",
       "    <tr>\n",
       "      <th>366452</th>\n",
       "      <td>Great Green Tea and Great Company! This is a g...</td>\n",
       "      <td>1</td>\n",
       "      <td>1</td>\n",
       "    </tr>\n",
       "    <tr>\n",
       "      <th>353445</th>\n",
       "      <td>power crunch protein bars These are the best v...</td>\n",
       "      <td>1</td>\n",
       "      <td>1</td>\n",
       "    </tr>\n",
       "    <tr>\n",
       "      <th>56486</th>\n",
       "      <td>Good Quality Wild Rice... Good quality wild ri...</td>\n",
       "      <td>2</td>\n",
       "      <td>1</td>\n",
       "    </tr>\n",
       "    <tr>\n",
       "      <th>331173</th>\n",
       "      <td>One of the best K Cups, but buy elsewhere! If ...</td>\n",
       "      <td>1</td>\n",
       "      <td>1</td>\n",
       "    </tr>\n",
       "    <tr>\n",
       "      <th>458895</th>\n",
       "      <td>Delicious! A MUST re-order!  Fresh, and delish...</td>\n",
       "      <td>1</td>\n",
       "      <td>1</td>\n",
       "    </tr>\n",
       "    <tr>\n",
       "      <th>43042</th>\n",
       "      <td>Kenya AA - yawn :-O Kenyan is one of my favori...</td>\n",
       "      <td>2</td>\n",
       "      <td>1</td>\n",
       "    </tr>\n",
       "    <tr>\n",
       "      <th>501647</th>\n",
       "      <td>I'm noticing a trend here... EVERY candy I hav...</td>\n",
       "      <td>1</td>\n",
       "      <td>1</td>\n",
       "    </tr>\n",
       "    <tr>\n",
       "      <th>75579</th>\n",
       "      <td>Packaging is insufficient; can breaks during s...</td>\n",
       "      <td>0</td>\n",
       "      <td>1</td>\n",
       "    </tr>\n",
       "    <tr>\n",
       "      <th>358833</th>\n",
       "      <td>Chocolate Zico ! Sinful ! I am a regular drink...</td>\n",
       "      <td>1</td>\n",
       "      <td>1</td>\n",
       "    </tr>\n",
       "    <tr>\n",
       "      <th>413416</th>\n",
       "      <td>Absolutely Delicious Carnation Chocolate Malt ...</td>\n",
       "      <td>1</td>\n",
       "      <td>1</td>\n",
       "    </tr>\n",
       "    <tr>\n",
       "      <th>516294</th>\n",
       "      <td>Favorite Treat My dog loves Zuke's and so do I...</td>\n",
       "      <td>1</td>\n",
       "      <td>1</td>\n",
       "    </tr>\n",
       "    <tr>\n",
       "      <th>170514</th>\n",
       "      <td>No taste The mushrooms I received had absolute...</td>\n",
       "      <td>0</td>\n",
       "      <td>1</td>\n",
       "    </tr>\n",
       "    <tr>\n",
       "      <th>428778</th>\n",
       "      <td>A Low-Caffeine, Hand-Rolled Fine Green Tea ***...</td>\n",
       "      <td>1</td>\n",
       "      <td>1</td>\n",
       "    </tr>\n",
       "    <tr>\n",
       "      <th>360101</th>\n",
       "      <td>Great taste n healthy to boot My son loves it....</td>\n",
       "      <td>1</td>\n",
       "      <td>1</td>\n",
       "    </tr>\n",
       "    <tr>\n",
       "      <th>519233</th>\n",
       "      <td>US GROWN, CRUNCHY &amp; FRESH, NO SALT ADDED...CAN...</td>\n",
       "      <td>1</td>\n",
       "      <td>1</td>\n",
       "    </tr>\n",
       "    <tr>\n",
       "      <th>116022</th>\n",
       "      <td>Best tasting... My three year old son has a \"s...</td>\n",
       "      <td>1</td>\n",
       "      <td>1</td>\n",
       "    </tr>\n",
       "    <tr>\n",
       "      <th>176073</th>\n",
       "      <td>Good substitute for Puffed Wheat I'm a big fan...</td>\n",
       "      <td>1</td>\n",
       "      <td>1</td>\n",
       "    </tr>\n",
       "  </tbody>\n",
       "</table>\n",
       "</div>"
      ],
      "text/plain": [
       "                                                     Text  Actual Sentiment  \\\n",
       "237845  Very good! I've tried several goji berries on ...                 1   \n",
       "154346  tastes terrible it's like the red nyquil.  yuc...                 0   \n",
       "11855   cescob Good solid product.  Saves room when st...                 1   \n",
       "366452  Great Green Tea and Great Company! This is a g...                 1   \n",
       "353445  power crunch protein bars These are the best v...                 1   \n",
       "56486   Good Quality Wild Rice... Good quality wild ri...                 2   \n",
       "331173  One of the best K Cups, but buy elsewhere! If ...                 1   \n",
       "458895  Delicious! A MUST re-order!  Fresh, and delish...                 1   \n",
       "43042   Kenya AA - yawn :-O Kenyan is one of my favori...                 2   \n",
       "501647  I'm noticing a trend here... EVERY candy I hav...                 1   \n",
       "75579   Packaging is insufficient; can breaks during s...                 0   \n",
       "358833  Chocolate Zico ! Sinful ! I am a regular drink...                 1   \n",
       "413416  Absolutely Delicious Carnation Chocolate Malt ...                 1   \n",
       "516294  Favorite Treat My dog loves Zuke's and so do I...                 1   \n",
       "170514  No taste The mushrooms I received had absolute...                 0   \n",
       "428778  A Low-Caffeine, Hand-Rolled Fine Green Tea ***...                 1   \n",
       "360101  Great taste n healthy to boot My son loves it....                 1   \n",
       "519233  US GROWN, CRUNCHY & FRESH, NO SALT ADDED...CAN...                 1   \n",
       "116022  Best tasting... My three year old son has a \"s...                 1   \n",
       "176073  Good substitute for Puffed Wheat I'm a big fan...                 1   \n",
       "\n",
       "        Predicted Sentiment  \n",
       "237845                    1  \n",
       "154346                    1  \n",
       "11855                     1  \n",
       "366452                    1  \n",
       "353445                    1  \n",
       "56486                     1  \n",
       "331173                    1  \n",
       "458895                    1  \n",
       "43042                     1  \n",
       "501647                    1  \n",
       "75579                     1  \n",
       "358833                    1  \n",
       "413416                    1  \n",
       "516294                    1  \n",
       "170514                    1  \n",
       "428778                    1  \n",
       "360101                    1  \n",
       "519233                    1  \n",
       "116022                    1  \n",
       "176073                    1  "
      ]
     },
     "execution_count": 23,
     "metadata": {},
     "output_type": "execute_result"
    }
   ],
   "source": [
    "comparisonData.head(20)"
   ]
  },
  {
   "cell_type": "code",
   "execution_count": 24,
   "id": "162680d4",
   "metadata": {
    "execution": {
     "iopub.execute_input": "2025-03-08T05:43:29.482662Z",
     "iopub.status.busy": "2025-03-08T05:43:29.482210Z",
     "iopub.status.idle": "2025-03-08T05:43:29.506755Z",
     "shell.execute_reply": "2025-03-08T05:43:29.505463Z"
    },
    "papermill": {
     "duration": 0.057273,
     "end_time": "2025-03-08T05:43:29.508837",
     "exception": false,
     "start_time": "2025-03-08T05:43:29.451564",
     "status": "completed"
    },
    "tags": []
   },
   "outputs": [],
   "source": [
    "comparisonData.to_csv(\"PredictedSample1.csv\", index=False)\n"
   ]
  },
  {
   "cell_type": "markdown",
   "id": "42f03515",
   "metadata": {
    "papermill": {
     "duration": 0.027933,
     "end_time": "2025-03-08T05:43:29.565569",
     "exception": false,
     "start_time": "2025-03-08T05:43:29.537636",
     "status": "completed"
    },
    "tags": []
   },
   "source": [
    "## TRAINING USING NEW SAMPLE DATASET"
   ]
  },
  {
   "cell_type": "code",
   "execution_count": 25,
   "id": "8835604c",
   "metadata": {
    "execution": {
     "iopub.execute_input": "2025-03-08T05:43:29.623651Z",
     "iopub.status.busy": "2025-03-08T05:43:29.623127Z",
     "iopub.status.idle": "2025-03-08T05:43:29.794735Z",
     "shell.execute_reply": "2025-03-08T05:43:29.793406Z"
    },
    "papermill": {
     "duration": 0.202914,
     "end_time": "2025-03-08T05:43:29.796635",
     "exception": false,
     "start_time": "2025-03-08T05:43:29.593721",
     "status": "completed"
    },
    "tags": []
   },
   "outputs": [
    {
     "data": {
      "text/html": [
       "<div>\n",
       "<style scoped>\n",
       "    .dataframe tbody tr th:only-of-type {\n",
       "        vertical-align: middle;\n",
       "    }\n",
       "\n",
       "    .dataframe tbody tr th {\n",
       "        vertical-align: top;\n",
       "    }\n",
       "\n",
       "    .dataframe thead th {\n",
       "        text-align: right;\n",
       "    }\n",
       "</style>\n",
       "<table border=\"1\" class=\"dataframe\">\n",
       "  <thead>\n",
       "    <tr style=\"text-align: right;\">\n",
       "      <th></th>\n",
       "      <th>Id</th>\n",
       "      <th>ProductId</th>\n",
       "      <th>UserId</th>\n",
       "      <th>ProfileName</th>\n",
       "      <th>HelpfulnessNumerator</th>\n",
       "      <th>HelpfulnessDenominator</th>\n",
       "      <th>Score</th>\n",
       "      <th>Time</th>\n",
       "      <th>Summary</th>\n",
       "      <th>Text</th>\n",
       "    </tr>\n",
       "  </thead>\n",
       "  <tbody>\n",
       "    <tr>\n",
       "      <th>150195</th>\n",
       "      <td>150196</td>\n",
       "      <td>B006YJW6TO</td>\n",
       "      <td>A33D8UR5GTR7TV</td>\n",
       "      <td>J. Karpf \"smart guy\"</td>\n",
       "      <td>1</td>\n",
       "      <td>1</td>\n",
       "      <td>5</td>\n",
       "      <td>1336694400</td>\n",
       "      <td>Who knew?</td>\n",
       "      <td>Who knew these two flavors would blend togethe...</td>\n",
       "    </tr>\n",
       "    <tr>\n",
       "      <th>541137</th>\n",
       "      <td>541138</td>\n",
       "      <td>B000FMTJJQ</td>\n",
       "      <td>A27WPNZY7T8ZG8</td>\n",
       "      <td>Blindy \"blindy53\"</td>\n",
       "      <td>0</td>\n",
       "      <td>0</td>\n",
       "      <td>5</td>\n",
       "      <td>1194048000</td>\n",
       "      <td>Sweet Nectar</td>\n",
       "      <td>Excellent sweetener for those that want to sta...</td>\n",
       "    </tr>\n",
       "    <tr>\n",
       "      <th>480355</th>\n",
       "      <td>480356</td>\n",
       "      <td>B000DZDJ0K</td>\n",
       "      <td>AU4SGJS71ZV55</td>\n",
       "      <td>Charlotta HIbbs</td>\n",
       "      <td>0</td>\n",
       "      <td>0</td>\n",
       "      <td>5</td>\n",
       "      <td>1304380800</td>\n",
       "      <td>Great waffles...</td>\n",
       "      <td>This gluten-free flour mix is great for waffle...</td>\n",
       "    </tr>\n",
       "    <tr>\n",
       "      <th>363038</th>\n",
       "      <td>363039</td>\n",
       "      <td>B0049WV8S8</td>\n",
       "      <td>A167UHMJNSOHFN</td>\n",
       "      <td>Joe Donahou</td>\n",
       "      <td>0</td>\n",
       "      <td>0</td>\n",
       "      <td>5</td>\n",
       "      <td>1346803200</td>\n",
       "      <td>Fry'en Bacon</td>\n",
       "      <td>I bought this microwave bacon tray after my fr...</td>\n",
       "    </tr>\n",
       "    <tr>\n",
       "      <th>555895</th>\n",
       "      <td>555896</td>\n",
       "      <td>B004E7A33E</td>\n",
       "      <td>A1OXWH79Y58DB5</td>\n",
       "      <td>flipflop</td>\n",
       "      <td>2</td>\n",
       "      <td>4</td>\n",
       "      <td>2</td>\n",
       "      <td>1320796800</td>\n",
       "      <td>Main ingredient says natural blueberry flavor</td>\n",
       "      <td>I love Olive Nation's Strawberry extract; howe...</td>\n",
       "    </tr>\n",
       "  </tbody>\n",
       "</table>\n",
       "</div>"
      ],
      "text/plain": [
       "            Id   ProductId          UserId           ProfileName  \\\n",
       "150195  150196  B006YJW6TO  A33D8UR5GTR7TV  J. Karpf \"smart guy\"   \n",
       "541137  541138  B000FMTJJQ  A27WPNZY7T8ZG8     Blindy \"blindy53\"   \n",
       "480355  480356  B000DZDJ0K   AU4SGJS71ZV55       Charlotta HIbbs   \n",
       "363038  363039  B0049WV8S8  A167UHMJNSOHFN           Joe Donahou   \n",
       "555895  555896  B004E7A33E  A1OXWH79Y58DB5              flipflop   \n",
       "\n",
       "        HelpfulnessNumerator  HelpfulnessDenominator  Score        Time  \\\n",
       "150195                     1                       1      5  1336694400   \n",
       "541137                     0                       0      5  1194048000   \n",
       "480355                     0                       0      5  1304380800   \n",
       "363038                     0                       0      5  1346803200   \n",
       "555895                     2                       4      2  1320796800   \n",
       "\n",
       "                                              Summary  \\\n",
       "150195                                      Who knew?   \n",
       "541137                                   Sweet Nectar   \n",
       "480355                               Great waffles...   \n",
       "363038                                   Fry'en Bacon   \n",
       "555895  Main ingredient says natural blueberry flavor   \n",
       "\n",
       "                                                     Text  \n",
       "150195  Who knew these two flavors would blend togethe...  \n",
       "541137  Excellent sweetener for those that want to sta...  \n",
       "480355  This gluten-free flour mix is great for waffle...  \n",
       "363038  I bought this microwave bacon tray after my fr...  \n",
       "555895  I love Olive Nation's Strawberry extract; howe...  "
      ]
     },
     "execution_count": 25,
     "metadata": {},
     "output_type": "execute_result"
    }
   ],
   "source": [
    "droppedData=dataset.drop(lmtpData.index)\n",
    "dataset2=droppedData.sample(1000,random_state=43)\n",
    "dataset2.head()"
   ]
  },
  {
   "cell_type": "code",
   "execution_count": 26,
   "id": "d6f3bc13",
   "metadata": {
    "execution": {
     "iopub.execute_input": "2025-03-08T05:43:29.855488Z",
     "iopub.status.busy": "2025-03-08T05:43:29.855081Z",
     "iopub.status.idle": "2025-03-08T05:43:29.866810Z",
     "shell.execute_reply": "2025-03-08T05:43:29.865650Z"
    },
    "papermill": {
     "duration": 0.043201,
     "end_time": "2025-03-08T05:43:29.868648",
     "exception": false,
     "start_time": "2025-03-08T05:43:29.825447",
     "status": "completed"
    },
    "tags": []
   },
   "outputs": [
    {
     "data": {
      "text/html": [
       "<div>\n",
       "<style scoped>\n",
       "    .dataframe tbody tr th:only-of-type {\n",
       "        vertical-align: middle;\n",
       "    }\n",
       "\n",
       "    .dataframe tbody tr th {\n",
       "        vertical-align: top;\n",
       "    }\n",
       "\n",
       "    .dataframe thead th {\n",
       "        text-align: right;\n",
       "    }\n",
       "</style>\n",
       "<table border=\"1\" class=\"dataframe\">\n",
       "  <thead>\n",
       "    <tr style=\"text-align: right;\">\n",
       "      <th></th>\n",
       "      <th>Score</th>\n",
       "      <th>Summary</th>\n",
       "      <th>Text</th>\n",
       "    </tr>\n",
       "  </thead>\n",
       "  <tbody>\n",
       "    <tr>\n",
       "      <th>150195</th>\n",
       "      <td>5</td>\n",
       "      <td>Who knew?</td>\n",
       "      <td>Who knew these two flavors would blend togethe...</td>\n",
       "    </tr>\n",
       "    <tr>\n",
       "      <th>541137</th>\n",
       "      <td>5</td>\n",
       "      <td>Sweet Nectar</td>\n",
       "      <td>Excellent sweetener for those that want to sta...</td>\n",
       "    </tr>\n",
       "    <tr>\n",
       "      <th>480355</th>\n",
       "      <td>5</td>\n",
       "      <td>Great waffles...</td>\n",
       "      <td>This gluten-free flour mix is great for waffle...</td>\n",
       "    </tr>\n",
       "    <tr>\n",
       "      <th>363038</th>\n",
       "      <td>5</td>\n",
       "      <td>Fry'en Bacon</td>\n",
       "      <td>I bought this microwave bacon tray after my fr...</td>\n",
       "    </tr>\n",
       "    <tr>\n",
       "      <th>555895</th>\n",
       "      <td>2</td>\n",
       "      <td>Main ingredient says natural blueberry flavor</td>\n",
       "      <td>I love Olive Nation's Strawberry extract; howe...</td>\n",
       "    </tr>\n",
       "  </tbody>\n",
       "</table>\n",
       "</div>"
      ],
      "text/plain": [
       "        Score                                        Summary  \\\n",
       "150195      5                                      Who knew?   \n",
       "541137      5                                   Sweet Nectar   \n",
       "480355      5                               Great waffles...   \n",
       "363038      5                                   Fry'en Bacon   \n",
       "555895      2  Main ingredient says natural blueberry flavor   \n",
       "\n",
       "                                                     Text  \n",
       "150195  Who knew these two flavors would blend togethe...  \n",
       "541137  Excellent sweetener for those that want to sta...  \n",
       "480355  This gluten-free flour mix is great for waffle...  \n",
       "363038  I bought this microwave bacon tray after my fr...  \n",
       "555895  I love Olive Nation's Strawberry extract; howe...  "
      ]
     },
     "execution_count": 26,
     "metadata": {},
     "output_type": "execute_result"
    }
   ],
   "source": [
    "lmtpData2=dataset2[['Score','Summary','Text']]\n",
    "lmtpData2.head()"
   ]
  },
  {
   "cell_type": "code",
   "execution_count": 27,
   "id": "74dba095",
   "metadata": {
    "execution": {
     "iopub.execute_input": "2025-03-08T05:43:29.928313Z",
     "iopub.status.busy": "2025-03-08T05:43:29.927902Z",
     "iopub.status.idle": "2025-03-08T05:43:29.936758Z",
     "shell.execute_reply": "2025-03-08T05:43:29.935655Z"
    },
    "papermill": {
     "duration": 0.040741,
     "end_time": "2025-03-08T05:43:29.938351",
     "exception": false,
     "start_time": "2025-03-08T05:43:29.897610",
     "status": "completed"
    },
    "tags": []
   },
   "outputs": [],
   "source": [
    "lmtpData2 = lmtpData2.copy()\n",
    "lmtpData2['Summary'] = lmtpData2['Summary'].fillna(\"\")\n",
    "lmtpData2['CombinedText'] = lmtpData2['Summary'] + \" \" + lmtpData2['Text']\n"
   ]
  },
  {
   "cell_type": "code",
   "execution_count": 28,
   "id": "86b6b9b2",
   "metadata": {
    "execution": {
     "iopub.execute_input": "2025-03-08T05:43:29.996999Z",
     "iopub.status.busy": "2025-03-08T05:43:29.996489Z",
     "iopub.status.idle": "2025-03-08T05:43:30.011203Z",
     "shell.execute_reply": "2025-03-08T05:43:30.009758Z"
    },
    "papermill": {
     "duration": 0.046094,
     "end_time": "2025-03-08T05:43:30.012862",
     "exception": false,
     "start_time": "2025-03-08T05:43:29.966768",
     "status": "completed"
    },
    "tags": []
   },
   "outputs": [
    {
     "name": "stdout",
     "output_type": "stream",
     "text": [
      "<class 'pandas.core.frame.DataFrame'>\n",
      "Index: 1000 entries, 150195 to 28993\n",
      "Data columns (total 4 columns):\n",
      " #   Column        Non-Null Count  Dtype \n",
      "---  ------        --------------  ----- \n",
      " 0   Score         1000 non-null   int64 \n",
      " 1   Summary       1000 non-null   object\n",
      " 2   Text          1000 non-null   object\n",
      " 3   CombinedText  1000 non-null   object\n",
      "dtypes: int64(1), object(3)\n",
      "memory usage: 39.1+ KB\n"
     ]
    }
   ],
   "source": [
    "lmtpData2.info()"
   ]
  },
  {
   "cell_type": "markdown",
   "id": "593752f7",
   "metadata": {
    "papermill": {
     "duration": 0.028931,
     "end_time": "2025-03-08T05:43:30.070435",
     "exception": false,
     "start_time": "2025-03-08T05:43:30.041504",
     "status": "completed"
    },
    "tags": []
   },
   "source": []
  },
  {
   "cell_type": "code",
   "execution_count": 29,
   "id": "b73e61b0",
   "metadata": {
    "execution": {
     "iopub.execute_input": "2025-03-08T05:43:30.131151Z",
     "iopub.status.busy": "2025-03-08T05:43:30.130712Z",
     "iopub.status.idle": "2025-03-08T05:43:30.144421Z",
     "shell.execute_reply": "2025-03-08T05:43:30.143304Z"
    },
    "papermill": {
     "duration": 0.045368,
     "end_time": "2025-03-08T05:43:30.146111",
     "exception": false,
     "start_time": "2025-03-08T05:43:30.100743",
     "status": "completed"
    },
    "tags": []
   },
   "outputs": [
    {
     "data": {
      "text/html": [
       "<div>\n",
       "<style scoped>\n",
       "    .dataframe tbody tr th:only-of-type {\n",
       "        vertical-align: middle;\n",
       "    }\n",
       "\n",
       "    .dataframe tbody tr th {\n",
       "        vertical-align: top;\n",
       "    }\n",
       "\n",
       "    .dataframe thead th {\n",
       "        text-align: right;\n",
       "    }\n",
       "</style>\n",
       "<table border=\"1\" class=\"dataframe\">\n",
       "  <thead>\n",
       "    <tr style=\"text-align: right;\">\n",
       "      <th></th>\n",
       "      <th>Score</th>\n",
       "      <th>Summary</th>\n",
       "      <th>Text</th>\n",
       "      <th>CombinedText</th>\n",
       "      <th>Sentiment</th>\n",
       "    </tr>\n",
       "  </thead>\n",
       "  <tbody>\n",
       "    <tr>\n",
       "      <th>150195</th>\n",
       "      <td>5</td>\n",
       "      <td>Who knew?</td>\n",
       "      <td>Who knew these two flavors would blend togethe...</td>\n",
       "      <td>Who knew? Who knew these two flavors would ble...</td>\n",
       "      <td>1</td>\n",
       "    </tr>\n",
       "    <tr>\n",
       "      <th>541137</th>\n",
       "      <td>5</td>\n",
       "      <td>Sweet Nectar</td>\n",
       "      <td>Excellent sweetener for those that want to sta...</td>\n",
       "      <td>Sweet Nectar Excellent sweetener for those tha...</td>\n",
       "      <td>1</td>\n",
       "    </tr>\n",
       "    <tr>\n",
       "      <th>480355</th>\n",
       "      <td>5</td>\n",
       "      <td>Great waffles...</td>\n",
       "      <td>This gluten-free flour mix is great for waffle...</td>\n",
       "      <td>Great waffles... This gluten-free flour mix is...</td>\n",
       "      <td>1</td>\n",
       "    </tr>\n",
       "    <tr>\n",
       "      <th>363038</th>\n",
       "      <td>5</td>\n",
       "      <td>Fry'en Bacon</td>\n",
       "      <td>I bought this microwave bacon tray after my fr...</td>\n",
       "      <td>Fry'en Bacon I bought this microwave bacon tra...</td>\n",
       "      <td>1</td>\n",
       "    </tr>\n",
       "    <tr>\n",
       "      <th>555895</th>\n",
       "      <td>2</td>\n",
       "      <td>Main ingredient says natural blueberry flavor</td>\n",
       "      <td>I love Olive Nation's Strawberry extract; howe...</td>\n",
       "      <td>Main ingredient says natural blueberry flavor ...</td>\n",
       "      <td>0</td>\n",
       "    </tr>\n",
       "  </tbody>\n",
       "</table>\n",
       "</div>"
      ],
      "text/plain": [
       "        Score                                        Summary  \\\n",
       "150195      5                                      Who knew?   \n",
       "541137      5                                   Sweet Nectar   \n",
       "480355      5                               Great waffles...   \n",
       "363038      5                                   Fry'en Bacon   \n",
       "555895      2  Main ingredient says natural blueberry flavor   \n",
       "\n",
       "                                                     Text  \\\n",
       "150195  Who knew these two flavors would blend togethe...   \n",
       "541137  Excellent sweetener for those that want to sta...   \n",
       "480355  This gluten-free flour mix is great for waffle...   \n",
       "363038  I bought this microwave bacon tray after my fr...   \n",
       "555895  I love Olive Nation's Strawberry extract; howe...   \n",
       "\n",
       "                                             CombinedText  Sentiment  \n",
       "150195  Who knew? Who knew these two flavors would ble...          1  \n",
       "541137  Sweet Nectar Excellent sweetener for those tha...          1  \n",
       "480355  Great waffles... This gluten-free flour mix is...          1  \n",
       "363038  Fry'en Bacon I bought this microwave bacon tra...          1  \n",
       "555895  Main ingredient says natural blueberry flavor ...          0  "
      ]
     },
     "execution_count": 29,
     "metadata": {},
     "output_type": "execute_result"
    }
   ],
   "source": [
    "\n",
    "lmtpData2['Sentiment']=lmtpData2['Score'].apply(lblScore)\n",
    "lmtpData2.head(5)"
   ]
  },
  {
   "cell_type": "code",
   "execution_count": 30,
   "id": "ff684763",
   "metadata": {
    "execution": {
     "iopub.execute_input": "2025-03-08T05:43:30.209652Z",
     "iopub.status.busy": "2025-03-08T05:43:30.209185Z",
     "iopub.status.idle": "2025-03-08T05:43:30.376974Z",
     "shell.execute_reply": "2025-03-08T05:43:30.375708Z"
    },
    "papermill": {
     "duration": 0.20112,
     "end_time": "2025-03-08T05:43:30.379065",
     "exception": false,
     "start_time": "2025-03-08T05:43:30.177945",
     "status": "completed"
    },
    "tags": []
   },
   "outputs": [],
   "source": [
    "tokenizer.fit_on_texts(lmtpData2['CombinedText'])\n",
    "sequences=tokenizer.texts_to_sequences(lmtpData2['CombinedText'])\n",
    "\n",
    "maxLen=100\n",
    "paddedData=pad_sequences(sequences,maxlen=maxLen,padding='post')\n",
    "embedding_dim=100\n",
    "vocabSize=len(tokenizer.word_index) + 1\n",
    "\n",
    "embeddingMatrix2=np.zeros((vocabSize,embedding_dim))\n",
    "\n",
    "for word,i in tokenizer.word_index.items():\n",
    "    embeddingVector2=gloveEmbeddings.get(word)\n",
    "    if embeddingVector2 is not None:\n",
    "        embeddingMatrix2[i]=embeddingVector2"
   ]
  },
  {
   "cell_type": "markdown",
   "id": "268c0451",
   "metadata": {
    "papermill": {
     "duration": 0.028867,
     "end_time": "2025-03-08T05:43:30.437388",
     "exception": false,
     "start_time": "2025-03-08T05:43:30.408521",
     "status": "completed"
    },
    "tags": []
   },
   "source": [
    "### BALANCING THE CLASSES"
   ]
  },
  {
   "cell_type": "code",
   "execution_count": 31,
   "id": "05088b0f",
   "metadata": {
    "execution": {
     "iopub.execute_input": "2025-03-08T05:43:30.498940Z",
     "iopub.status.busy": "2025-03-08T05:43:30.498462Z",
     "iopub.status.idle": "2025-03-08T05:43:32.805710Z",
     "shell.execute_reply": "2025-03-08T05:43:32.804331Z"
    },
    "papermill": {
     "duration": 2.340889,
     "end_time": "2025-03-08T05:43:32.808068",
     "exception": false,
     "start_time": "2025-03-08T05:43:30.467179",
     "status": "completed"
    },
    "tags": []
   },
   "outputs": [],
   "source": [
    "from imblearn.over_sampling import SMOTE\n",
    "\n",
    "\n",
    "y2 = lmtpData2['Sentiment'].values\n",
    "\n",
    "\n",
    "smote = SMOTE(random_state=42)\n",
    "X_resampled, Y_resampled = smote.fit_resample(paddedData, y2)\n"
   ]
  },
  {
   "cell_type": "markdown",
   "id": "0c0f3f28",
   "metadata": {
    "papermill": {
     "duration": 0.029522,
     "end_time": "2025-03-08T05:43:32.868216",
     "exception": false,
     "start_time": "2025-03-08T05:43:32.838694",
     "status": "completed"
    },
    "tags": []
   },
   "source": []
  },
  {
   "cell_type": "code",
   "execution_count": 32,
   "id": "f10f368d",
   "metadata": {
    "execution": {
     "iopub.execute_input": "2025-03-08T05:43:32.948868Z",
     "iopub.status.busy": "2025-03-08T05:43:32.947106Z",
     "iopub.status.idle": "2025-03-08T05:43:33.077973Z",
     "shell.execute_reply": "2025-03-08T05:43:33.076933Z"
    },
    "papermill": {
     "duration": 0.177108,
     "end_time": "2025-03-08T05:43:33.079738",
     "exception": false,
     "start_time": "2025-03-08T05:43:32.902630",
     "status": "completed"
    },
    "tags": []
   },
   "outputs": [
    {
     "data": {
      "text/html": [
       "<pre style=\"white-space:pre;overflow-x:auto;line-height:normal;font-family:Menlo,'DejaVu Sans Mono',consolas,'Courier New',monospace\"><span style=\"font-weight: bold\">Model: \"sequential_1\"</span>\n",
       "</pre>\n"
      ],
      "text/plain": [
       "\u001b[1mModel: \"sequential_1\"\u001b[0m\n"
      ]
     },
     "metadata": {},
     "output_type": "display_data"
    },
    {
     "data": {
      "text/html": [
       "<pre style=\"white-space:pre;overflow-x:auto;line-height:normal;font-family:Menlo,'DejaVu Sans Mono',consolas,'Courier New',monospace\">┏━━━━━━━━━━━━━━━━━━━━━━━━━━━━━━━━━━━━━━┳━━━━━━━━━━━━━━━━━━━━━━━━━━━━━┳━━━━━━━━━━━━━━━━━┓\n",
       "┃<span style=\"font-weight: bold\"> Layer (type)                         </span>┃<span style=\"font-weight: bold\"> Output Shape                </span>┃<span style=\"font-weight: bold\">         Param # </span>┃\n",
       "┡━━━━━━━━━━━━━━━━━━━━━━━━━━━━━━━━━━━━━━╇━━━━━━━━━━━━━━━━━━━━━━━━━━━━━╇━━━━━━━━━━━━━━━━━┩\n",
       "│ embedding_1 (<span style=\"color: #0087ff; text-decoration-color: #0087ff\">Embedding</span>)              │ (<span style=\"color: #00d7ff; text-decoration-color: #00d7ff\">None</span>, <span style=\"color: #00af00; text-decoration-color: #00af00\">100</span>, <span style=\"color: #00af00; text-decoration-color: #00af00\">100</span>)            │         <span style=\"color: #00af00; text-decoration-color: #00af00\">997,800</span> │\n",
       "├──────────────────────────────────────┼─────────────────────────────┼─────────────────┤\n",
       "│ lstm_2 (<span style=\"color: #0087ff; text-decoration-color: #0087ff\">LSTM</span>)                        │ (<span style=\"color: #00d7ff; text-decoration-color: #00d7ff\">None</span>, <span style=\"color: #00af00; text-decoration-color: #00af00\">100</span>, <span style=\"color: #00af00; text-decoration-color: #00af00\">128</span>)            │         <span style=\"color: #00af00; text-decoration-color: #00af00\">117,248</span> │\n",
       "├──────────────────────────────────────┼─────────────────────────────┼─────────────────┤\n",
       "│ lstm_3 (<span style=\"color: #0087ff; text-decoration-color: #0087ff\">LSTM</span>)                        │ (<span style=\"color: #00d7ff; text-decoration-color: #00d7ff\">None</span>, <span style=\"color: #00af00; text-decoration-color: #00af00\">64</span>)                  │          <span style=\"color: #00af00; text-decoration-color: #00af00\">49,408</span> │\n",
       "├──────────────────────────────────────┼─────────────────────────────┼─────────────────┤\n",
       "│ dropout_1 (<span style=\"color: #0087ff; text-decoration-color: #0087ff\">Dropout</span>)                  │ (<span style=\"color: #00d7ff; text-decoration-color: #00d7ff\">None</span>, <span style=\"color: #00af00; text-decoration-color: #00af00\">64</span>)                  │               <span style=\"color: #00af00; text-decoration-color: #00af00\">0</span> │\n",
       "├──────────────────────────────────────┼─────────────────────────────┼─────────────────┤\n",
       "│ dense_1 (<span style=\"color: #0087ff; text-decoration-color: #0087ff\">Dense</span>)                      │ (<span style=\"color: #00d7ff; text-decoration-color: #00d7ff\">None</span>, <span style=\"color: #00af00; text-decoration-color: #00af00\">3</span>)                   │             <span style=\"color: #00af00; text-decoration-color: #00af00\">195</span> │\n",
       "└──────────────────────────────────────┴─────────────────────────────┴─────────────────┘\n",
       "</pre>\n"
      ],
      "text/plain": [
       "┏━━━━━━━━━━━━━━━━━━━━━━━━━━━━━━━━━━━━━━┳━━━━━━━━━━━━━━━━━━━━━━━━━━━━━┳━━━━━━━━━━━━━━━━━┓\n",
       "┃\u001b[1m \u001b[0m\u001b[1mLayer (type)                        \u001b[0m\u001b[1m \u001b[0m┃\u001b[1m \u001b[0m\u001b[1mOutput Shape               \u001b[0m\u001b[1m \u001b[0m┃\u001b[1m \u001b[0m\u001b[1m        Param #\u001b[0m\u001b[1m \u001b[0m┃\n",
       "┡━━━━━━━━━━━━━━━━━━━━━━━━━━━━━━━━━━━━━━╇━━━━━━━━━━━━━━━━━━━━━━━━━━━━━╇━━━━━━━━━━━━━━━━━┩\n",
       "│ embedding_1 (\u001b[38;5;33mEmbedding\u001b[0m)              │ (\u001b[38;5;45mNone\u001b[0m, \u001b[38;5;34m100\u001b[0m, \u001b[38;5;34m100\u001b[0m)            │         \u001b[38;5;34m997,800\u001b[0m │\n",
       "├──────────────────────────────────────┼─────────────────────────────┼─────────────────┤\n",
       "│ lstm_2 (\u001b[38;5;33mLSTM\u001b[0m)                        │ (\u001b[38;5;45mNone\u001b[0m, \u001b[38;5;34m100\u001b[0m, \u001b[38;5;34m128\u001b[0m)            │         \u001b[38;5;34m117,248\u001b[0m │\n",
       "├──────────────────────────────────────┼─────────────────────────────┼─────────────────┤\n",
       "│ lstm_3 (\u001b[38;5;33mLSTM\u001b[0m)                        │ (\u001b[38;5;45mNone\u001b[0m, \u001b[38;5;34m64\u001b[0m)                  │          \u001b[38;5;34m49,408\u001b[0m │\n",
       "├──────────────────────────────────────┼─────────────────────────────┼─────────────────┤\n",
       "│ dropout_1 (\u001b[38;5;33mDropout\u001b[0m)                  │ (\u001b[38;5;45mNone\u001b[0m, \u001b[38;5;34m64\u001b[0m)                  │               \u001b[38;5;34m0\u001b[0m │\n",
       "├──────────────────────────────────────┼─────────────────────────────┼─────────────────┤\n",
       "│ dense_1 (\u001b[38;5;33mDense\u001b[0m)                      │ (\u001b[38;5;45mNone\u001b[0m, \u001b[38;5;34m3\u001b[0m)                   │             \u001b[38;5;34m195\u001b[0m │\n",
       "└──────────────────────────────────────┴─────────────────────────────┴─────────────────┘\n"
      ]
     },
     "metadata": {},
     "output_type": "display_data"
    },
    {
     "data": {
      "text/html": [
       "<pre style=\"white-space:pre;overflow-x:auto;line-height:normal;font-family:Menlo,'DejaVu Sans Mono',consolas,'Courier New',monospace\"><span style=\"font-weight: bold\"> Total params: </span><span style=\"color: #00af00; text-decoration-color: #00af00\">1,164,651</span> (4.44 MB)\n",
       "</pre>\n"
      ],
      "text/plain": [
       "\u001b[1m Total params: \u001b[0m\u001b[38;5;34m1,164,651\u001b[0m (4.44 MB)\n"
      ]
     },
     "metadata": {},
     "output_type": "display_data"
    },
    {
     "data": {
      "text/html": [
       "<pre style=\"white-space:pre;overflow-x:auto;line-height:normal;font-family:Menlo,'DejaVu Sans Mono',consolas,'Courier New',monospace\"><span style=\"font-weight: bold\"> Trainable params: </span><span style=\"color: #00af00; text-decoration-color: #00af00\">166,851</span> (651.76 KB)\n",
       "</pre>\n"
      ],
      "text/plain": [
       "\u001b[1m Trainable params: \u001b[0m\u001b[38;5;34m166,851\u001b[0m (651.76 KB)\n"
      ]
     },
     "metadata": {},
     "output_type": "display_data"
    },
    {
     "data": {
      "text/html": [
       "<pre style=\"white-space:pre;overflow-x:auto;line-height:normal;font-family:Menlo,'DejaVu Sans Mono',consolas,'Courier New',monospace\"><span style=\"font-weight: bold\"> Non-trainable params: </span><span style=\"color: #00af00; text-decoration-color: #00af00\">997,800</span> (3.81 MB)\n",
       "</pre>\n"
      ],
      "text/plain": [
       "\u001b[1m Non-trainable params: \u001b[0m\u001b[38;5;34m997,800\u001b[0m (3.81 MB)\n"
      ]
     },
     "metadata": {},
     "output_type": "display_data"
    }
   ],
   "source": [
    "maxLen=100\n",
    "model = Sequential([\n",
    "    Input(shape=(maxLen,)),\n",
    "    Embedding(input_dim=vocabSize,  \n",
    "              output_dim=embedding_dim, \n",
    "              weights=embeddingMatrix2, \n",
    "             \n",
    "              trainable=False), \n",
    "    LSTM(128, return_sequences=True),\n",
    "    LSTM(64),\n",
    "    Dropout(0.6),\n",
    "    Dense(3, activation='softmax') \n",
    "])\n",
    "\n",
    "\n",
    "model.compile(loss='sparse_categorical_crossentropy', optimizer='adam', metrics=['accuracy'])\n",
    "\n",
    "model.summary()\n"
   ]
  },
  {
   "cell_type": "code",
   "execution_count": 33,
   "id": "7f5b4e42",
   "metadata": {
    "execution": {
     "iopub.execute_input": "2025-03-08T05:43:33.144876Z",
     "iopub.status.busy": "2025-03-08T05:43:33.144479Z",
     "iopub.status.idle": "2025-03-08T05:44:39.624315Z",
     "shell.execute_reply": "2025-03-08T05:44:39.622865Z"
    },
    "papermill": {
     "duration": 66.513342,
     "end_time": "2025-03-08T05:44:39.626323",
     "exception": false,
     "start_time": "2025-03-08T05:43:33.112981",
     "status": "completed"
    },
    "tags": []
   },
   "outputs": [
    {
     "name": "stdout",
     "output_type": "stream",
     "text": [
      "Epoch 1/6\n",
      "\u001b[1m53/53\u001b[0m \u001b[32m━━━━━━━━━━━━━━━━━━━━\u001b[0m\u001b[37m\u001b[0m \u001b[1m14s\u001b[0m 205ms/step - accuracy: 0.4874 - loss: 0.9640 - val_accuracy: 0.0000e+00 - val_loss: 2.7862\n",
      "Epoch 2/6\n",
      "\u001b[1m53/53\u001b[0m \u001b[32m━━━━━━━━━━━━━━━━━━━━\u001b[0m\u001b[37m\u001b[0m \u001b[1m11s\u001b[0m 203ms/step - accuracy: 0.4751 - loss: 0.8932 - val_accuracy: 0.0000e+00 - val_loss: 2.7973\n",
      "Epoch 3/6\n",
      "\u001b[1m53/53\u001b[0m \u001b[32m━━━━━━━━━━━━━━━━━━━━\u001b[0m\u001b[37m\u001b[0m \u001b[1m10s\u001b[0m 196ms/step - accuracy: 0.5118 - loss: 0.8530 - val_accuracy: 0.0000e+00 - val_loss: 2.6851\n",
      "Epoch 4/6\n",
      "\u001b[1m53/53\u001b[0m \u001b[32m━━━━━━━━━━━━━━━━━━━━\u001b[0m\u001b[37m\u001b[0m \u001b[1m10s\u001b[0m 196ms/step - accuracy: 0.5117 - loss: 0.8641 - val_accuracy: 0.0000e+00 - val_loss: 2.8968\n",
      "Epoch 5/6\n",
      "\u001b[1m53/53\u001b[0m \u001b[32m━━━━━━━━━━━━━━━━━━━━\u001b[0m\u001b[37m\u001b[0m \u001b[1m11s\u001b[0m 201ms/step - accuracy: 0.5283 - loss: 0.8320 - val_accuracy: 0.0000e+00 - val_loss: 2.9085\n",
      "Epoch 6/6\n",
      "\u001b[1m53/53\u001b[0m \u001b[32m━━━━━━━━━━━━━━━━━━━━\u001b[0m\u001b[37m\u001b[0m \u001b[1m10s\u001b[0m 195ms/step - accuracy: 0.5050 - loss: 0.8415 - val_accuracy: 0.0000e+00 - val_loss: 2.8518\n"
     ]
    },
    {
     "data": {
      "text/plain": [
       "<keras.src.callbacks.history.History at 0x7f8b4a311720>"
      ]
     },
     "execution_count": 33,
     "metadata": {},
     "output_type": "execute_result"
    }
   ],
   "source": [
    "model.fit(X_resampled, Y_resampled, epochs=6, batch_size=32, validation_split=0.3)"
   ]
  },
  {
   "cell_type": "code",
   "execution_count": 34,
   "id": "15461d2e",
   "metadata": {
    "execution": {
     "iopub.execute_input": "2025-03-08T05:44:39.727608Z",
     "iopub.status.busy": "2025-03-08T05:44:39.727160Z",
     "iopub.status.idle": "2025-03-08T05:47:05.009181Z",
     "shell.execute_reply": "2025-03-08T05:47:05.007835Z"
    },
    "papermill": {
     "duration": 145.334643,
     "end_time": "2025-03-08T05:47:05.011093",
     "exception": false,
     "start_time": "2025-03-08T05:44:39.676450",
     "status": "completed"
    },
    "tags": []
   },
   "outputs": [
    {
     "name": "stdout",
     "output_type": "stream",
     "text": [
      "Epoch 1/15\n",
      "\u001b[1m45/45\u001b[0m \u001b[32m━━━━━━━━━━━━━━━━━━━━\u001b[0m\u001b[37m\u001b[0m \u001b[1m10s\u001b[0m 215ms/step - accuracy: 0.5825 - loss: 0.8315 - val_accuracy: 0.0700 - val_loss: 2.2205\n",
      "Epoch 2/15\n",
      "\u001b[1m45/45\u001b[0m \u001b[32m━━━━━━━━━━━━━━━━━━━━\u001b[0m\u001b[37m\u001b[0m \u001b[1m10s\u001b[0m 221ms/step - accuracy: 0.5884 - loss: 0.8214 - val_accuracy: 0.0481 - val_loss: 2.3620\n",
      "Epoch 3/15\n",
      "\u001b[1m45/45\u001b[0m \u001b[32m━━━━━━━━━━━━━━━━━━━━\u001b[0m\u001b[37m\u001b[0m \u001b[1m10s\u001b[0m 215ms/step - accuracy: 0.6253 - loss: 0.8207 - val_accuracy: 0.0742 - val_loss: 2.3477\n",
      "Epoch 4/15\n",
      "\u001b[1m45/45\u001b[0m \u001b[32m━━━━━━━━━━━━━━━━━━━━\u001b[0m\u001b[37m\u001b[0m \u001b[1m10s\u001b[0m 215ms/step - accuracy: 0.6267 - loss: 0.7778 - val_accuracy: 0.0543 - val_loss: 2.2851\n",
      "Epoch 5/15\n",
      "\u001b[1m45/45\u001b[0m \u001b[32m━━━━━━━━━━━━━━━━━━━━\u001b[0m\u001b[37m\u001b[0m \u001b[1m10s\u001b[0m 215ms/step - accuracy: 0.6350 - loss: 0.7896 - val_accuracy: 0.1181 - val_loss: 2.5853\n",
      "Epoch 6/15\n",
      "\u001b[1m45/45\u001b[0m \u001b[32m━━━━━━━━━━━━━━━━━━━━\u001b[0m\u001b[37m\u001b[0m \u001b[1m10s\u001b[0m 216ms/step - accuracy: 0.6694 - loss: 0.7221 - val_accuracy: 0.0564 - val_loss: 2.5364\n",
      "Epoch 7/15\n",
      "\u001b[1m45/45\u001b[0m \u001b[32m━━━━━━━━━━━━━━━━━━━━\u001b[0m\u001b[37m\u001b[0m \u001b[1m10s\u001b[0m 214ms/step - accuracy: 0.6504 - loss: 0.7569 - val_accuracy: 0.0000e+00 - val_loss: 2.3614\n",
      "Epoch 8/15\n",
      "\u001b[1m45/45\u001b[0m \u001b[32m━━━━━━━━━━━━━━━━━━━━\u001b[0m\u001b[37m\u001b[0m \u001b[1m10s\u001b[0m 214ms/step - accuracy: 0.5499 - loss: 0.8664 - val_accuracy: 0.0345 - val_loss: 2.2738\n",
      "Epoch 9/15\n",
      "\u001b[1m45/45\u001b[0m \u001b[32m━━━━━━━━━━━━━━━━━━━━\u001b[0m\u001b[37m\u001b[0m \u001b[1m10s\u001b[0m 221ms/step - accuracy: 0.6082 - loss: 0.8332 - val_accuracy: 0.0554 - val_loss: 2.4576\n",
      "Epoch 10/15\n",
      "\u001b[1m45/45\u001b[0m \u001b[32m━━━━━━━━━━━━━━━━━━━━\u001b[0m\u001b[37m\u001b[0m \u001b[1m10s\u001b[0m 212ms/step - accuracy: 0.5905 - loss: 0.8391 - val_accuracy: 0.0533 - val_loss: 2.5593\n",
      "Epoch 11/15\n",
      "\u001b[1m45/45\u001b[0m \u001b[32m━━━━━━━━━━━━━━━━━━━━\u001b[0m\u001b[37m\u001b[0m \u001b[1m10s\u001b[0m 213ms/step - accuracy: 0.6148 - loss: 0.7925 - val_accuracy: 0.0700 - val_loss: 2.6800\n",
      "Epoch 12/15\n",
      "\u001b[1m45/45\u001b[0m \u001b[32m━━━━━━━━━━━━━━━━━━━━\u001b[0m\u001b[37m\u001b[0m \u001b[1m10s\u001b[0m 218ms/step - accuracy: 0.6612 - loss: 0.7529 - val_accuracy: 0.1452 - val_loss: 2.8753\n",
      "Epoch 13/15\n",
      "\u001b[1m45/45\u001b[0m \u001b[32m━━━━━━━━━━━━━━━━━━━━\u001b[0m\u001b[37m\u001b[0m \u001b[1m10s\u001b[0m 214ms/step - accuracy: 0.6988 - loss: 0.6823 - val_accuracy: 0.0481 - val_loss: 2.7280\n",
      "Epoch 14/15\n",
      "\u001b[1m45/45\u001b[0m \u001b[32m━━━━━━━━━━━━━━━━━━━━\u001b[0m\u001b[37m\u001b[0m \u001b[1m10s\u001b[0m 214ms/step - accuracy: 0.7024 - loss: 0.7073 - val_accuracy: 0.0940 - val_loss: 2.8786\n",
      "Epoch 15/15\n",
      "\u001b[1m45/45\u001b[0m \u001b[32m━━━━━━━━━━━━━━━━━━━━\u001b[0m\u001b[37m\u001b[0m \u001b[1m10s\u001b[0m 214ms/step - accuracy: 0.6531 - loss: 0.7163 - val_accuracy: 0.1181 - val_loss: 3.0027\n"
     ]
    },
    {
     "data": {
      "text/plain": [
       "<keras.src.callbacks.history.History at 0x7f8b483a2b90>"
      ]
     },
     "execution_count": 34,
     "metadata": {},
     "output_type": "execute_result"
    }
   ],
   "source": [
    "model.fit(X_resampled, Y_resampled, epochs=15, batch_size=32, validation_split=0.4)"
   ]
  },
  {
   "cell_type": "code",
   "execution_count": 35,
   "id": "92630173",
   "metadata": {
    "execution": {
     "iopub.execute_input": "2025-03-08T05:47:05.195764Z",
     "iopub.status.busy": "2025-03-08T05:47:05.195344Z",
     "iopub.status.idle": "2025-03-08T05:51:02.155428Z",
     "shell.execute_reply": "2025-03-08T05:51:02.154002Z"
    },
    "papermill": {
     "duration": 237.054337,
     "end_time": "2025-03-08T05:51:02.157702",
     "exception": false,
     "start_time": "2025-03-08T05:47:05.103365",
     "status": "completed"
    },
    "tags": []
   },
   "outputs": [
    {
     "name": "stdout",
     "output_type": "stream",
     "text": [
      "Epoch 1/20\n",
      "\u001b[1m60/60\u001b[0m \u001b[32m━━━━━━━━━━━━━━━━━━━━\u001b[0m\u001b[37m\u001b[0m \u001b[1m11s\u001b[0m 190ms/step - accuracy: 0.6107 - loss: 0.8935 - val_accuracy: 0.0021 - val_loss: 1.6795\n",
      "Epoch 2/20\n",
      "\u001b[1m60/60\u001b[0m \u001b[32m━━━━━━━━━━━━━━━━━━━━\u001b[0m\u001b[37m\u001b[0m \u001b[1m11s\u001b[0m 185ms/step - accuracy: 0.5483 - loss: 0.8949 - val_accuracy: 0.0125 - val_loss: 1.6961\n",
      "Epoch 3/20\n",
      "\u001b[1m60/60\u001b[0m \u001b[32m━━━━━━━━━━━━━━━━━━━━\u001b[0m\u001b[37m\u001b[0m \u001b[1m11s\u001b[0m 188ms/step - accuracy: 0.6569 - loss: 0.8176 - val_accuracy: 0.0021 - val_loss: 1.7322\n",
      "Epoch 4/20\n",
      "\u001b[1m60/60\u001b[0m \u001b[32m━━━━━━━━━━━━━━━━━━━━\u001b[0m\u001b[37m\u001b[0m \u001b[1m11s\u001b[0m 190ms/step - accuracy: 0.6417 - loss: 0.8607 - val_accuracy: 0.0063 - val_loss: 1.4343\n",
      "Epoch 5/20\n",
      "\u001b[1m60/60\u001b[0m \u001b[32m━━━━━━━━━━━━━━━━━━━━\u001b[0m\u001b[37m\u001b[0m \u001b[1m20s\u001b[0m 190ms/step - accuracy: 0.6616 - loss: 0.7452 - val_accuracy: 0.0084 - val_loss: 1.7604\n",
      "Epoch 6/20\n",
      "\u001b[1m60/60\u001b[0m \u001b[32m━━━━━━━━━━━━━━━━━━━━\u001b[0m\u001b[37m\u001b[0m \u001b[1m12s\u001b[0m 192ms/step - accuracy: 0.7132 - loss: 0.7030 - val_accuracy: 0.0063 - val_loss: 1.6229\n",
      "Epoch 7/20\n",
      "\u001b[1m60/60\u001b[0m \u001b[32m━━━━━━━━━━━━━━━━━━━━\u001b[0m\u001b[37m\u001b[0m \u001b[1m11s\u001b[0m 188ms/step - accuracy: 0.7090 - loss: 0.6849 - val_accuracy: 0.0084 - val_loss: 1.5902\n",
      "Epoch 8/20\n",
      "\u001b[1m60/60\u001b[0m \u001b[32m━━━━━━━━━━━━━━━━━━━━\u001b[0m\u001b[37m\u001b[0m \u001b[1m11s\u001b[0m 191ms/step - accuracy: 0.7371 - loss: 0.6486 - val_accuracy: 0.0063 - val_loss: 1.4903\n",
      "Epoch 9/20\n",
      "\u001b[1m60/60\u001b[0m \u001b[32m━━━━━━━━━━━━━━━━━━━━\u001b[0m\u001b[37m\u001b[0m \u001b[1m11s\u001b[0m 188ms/step - accuracy: 0.7846 - loss: 0.5793 - val_accuracy: 0.0000e+00 - val_loss: 1.4685\n",
      "Epoch 10/20\n",
      "\u001b[1m60/60\u001b[0m \u001b[32m━━━━━━━━━━━━━━━━━━━━\u001b[0m\u001b[37m\u001b[0m \u001b[1m11s\u001b[0m 188ms/step - accuracy: 0.8018 - loss: 0.5296 - val_accuracy: 0.0125 - val_loss: 1.7253\n",
      "Epoch 11/20\n",
      "\u001b[1m60/60\u001b[0m \u001b[32m━━━━━━━━━━━━━━━━━━━━\u001b[0m\u001b[37m\u001b[0m \u001b[1m12s\u001b[0m 193ms/step - accuracy: 0.7600 - loss: 0.5922 - val_accuracy: 0.0397 - val_loss: 1.2310\n",
      "Epoch 12/20\n",
      "\u001b[1m60/60\u001b[0m \u001b[32m━━━━━━━━━━━━━━━━━━━━\u001b[0m\u001b[37m\u001b[0m \u001b[1m11s\u001b[0m 187ms/step - accuracy: 0.7835 - loss: 0.5445 - val_accuracy: 0.0063 - val_loss: 1.5414\n",
      "Epoch 13/20\n",
      "\u001b[1m60/60\u001b[0m \u001b[32m━━━━━━━━━━━━━━━━━━━━\u001b[0m\u001b[37m\u001b[0m \u001b[1m11s\u001b[0m 189ms/step - accuracy: 0.8062 - loss: 0.4875 - val_accuracy: 0.0313 - val_loss: 1.5776\n",
      "Epoch 14/20\n",
      "\u001b[1m60/60\u001b[0m \u001b[32m━━━━━━━━━━━━━━━━━━━━\u001b[0m\u001b[37m\u001b[0m \u001b[1m12s\u001b[0m 194ms/step - accuracy: 0.8221 - loss: 0.4719 - val_accuracy: 0.0605 - val_loss: 1.3574\n",
      "Epoch 15/20\n",
      "\u001b[1m60/60\u001b[0m \u001b[32m━━━━━━━━━━━━━━━━━━━━\u001b[0m\u001b[37m\u001b[0m \u001b[1m11s\u001b[0m 188ms/step - accuracy: 0.8083 - loss: 0.4713 - val_accuracy: 0.0522 - val_loss: 1.4899\n",
      "Epoch 16/20\n",
      "\u001b[1m60/60\u001b[0m \u001b[32m━━━━━━━━━━━━━━━━━━━━\u001b[0m\u001b[37m\u001b[0m \u001b[1m11s\u001b[0m 190ms/step - accuracy: 0.8333 - loss: 0.4146 - val_accuracy: 0.0376 - val_loss: 1.5568\n",
      "Epoch 17/20\n",
      "\u001b[1m60/60\u001b[0m \u001b[32m━━━━━━━━━━━━━━━━━━━━\u001b[0m\u001b[37m\u001b[0m \u001b[1m12s\u001b[0m 193ms/step - accuracy: 0.8163 - loss: 0.4481 - val_accuracy: 0.0459 - val_loss: 1.5869\n",
      "Epoch 18/20\n",
      "\u001b[1m60/60\u001b[0m \u001b[32m━━━━━━━━━━━━━━━━━━━━\u001b[0m\u001b[37m\u001b[0m \u001b[1m11s\u001b[0m 189ms/step - accuracy: 0.8525 - loss: 0.4014 - val_accuracy: 0.0668 - val_loss: 1.5987\n",
      "Epoch 19/20\n",
      "\u001b[1m60/60\u001b[0m \u001b[32m━━━━━━━━━━━━━━━━━━━━\u001b[0m\u001b[37m\u001b[0m \u001b[1m11s\u001b[0m 189ms/step - accuracy: 0.8363 - loss: 0.4069 - val_accuracy: 0.0564 - val_loss: 1.6146\n",
      "Epoch 20/20\n",
      "\u001b[1m60/60\u001b[0m \u001b[32m━━━━━━━━━━━━━━━━━━━━\u001b[0m\u001b[37m\u001b[0m \u001b[1m12s\u001b[0m 193ms/step - accuracy: 0.8362 - loss: 0.4385 - val_accuracy: 0.0689 - val_loss: 1.4476\n"
     ]
    },
    {
     "data": {
      "text/plain": [
       "<keras.src.callbacks.history.History at 0x7f8b483a2e00>"
      ]
     },
     "execution_count": 35,
     "metadata": {},
     "output_type": "execute_result"
    }
   ],
   "source": [
    "model.fit(X_resampled, Y_resampled, epochs=20, batch_size=32, validation_split=0.2)"
   ]
  },
  {
   "cell_type": "markdown",
   "id": "6adc4805",
   "metadata": {
    "papermill": {
     "duration": 0.160263,
     "end_time": "2025-03-08T05:51:02.479205",
     "exception": false,
     "start_time": "2025-03-08T05:51:02.318942",
     "status": "completed"
    },
    "tags": []
   },
   "source": [
    "### WITHOUT SMOTE"
   ]
  },
  {
   "cell_type": "code",
   "execution_count": 36,
   "id": "0903b337",
   "metadata": {
    "execution": {
     "iopub.execute_input": "2025-03-08T05:51:02.879429Z",
     "iopub.status.busy": "2025-03-08T05:51:02.878981Z",
     "iopub.status.idle": "2025-03-08T05:52:11.191865Z",
     "shell.execute_reply": "2025-03-08T05:52:11.190130Z"
    },
    "papermill": {
     "duration": 68.481717,
     "end_time": "2025-03-08T05:52:11.193874",
     "exception": false,
     "start_time": "2025-03-08T05:51:02.712157",
     "status": "completed"
    },
    "tags": []
   },
   "outputs": [
    {
     "name": "stdout",
     "output_type": "stream",
     "text": [
      "Epoch 1/15\n",
      "\u001b[1m22/22\u001b[0m \u001b[32m━━━━━━━━━━━━━━━━━━━━\u001b[0m\u001b[37m\u001b[0m \u001b[1m5s\u001b[0m 206ms/step - accuracy: 0.9071 - loss: 0.3212 - val_accuracy: 0.9167 - val_loss: 0.2499\n",
      "Epoch 2/15\n",
      "\u001b[1m22/22\u001b[0m \u001b[32m━━━━━━━━━━━━━━━━━━━━\u001b[0m\u001b[37m\u001b[0m \u001b[1m4s\u001b[0m 202ms/step - accuracy: 0.9385 - loss: 0.2309 - val_accuracy: 0.9267 - val_loss: 0.2340\n",
      "Epoch 3/15\n",
      "\u001b[1m22/22\u001b[0m \u001b[32m━━━━━━━━━━━━━━━━━━━━\u001b[0m\u001b[37m\u001b[0m \u001b[1m5s\u001b[0m 207ms/step - accuracy: 0.9371 - loss: 0.2176 - val_accuracy: 0.9333 - val_loss: 0.2129\n",
      "Epoch 4/15\n",
      "\u001b[1m22/22\u001b[0m \u001b[32m━━━━━━━━━━━━━━━━━━━━\u001b[0m\u001b[37m\u001b[0m \u001b[1m5s\u001b[0m 203ms/step - accuracy: 0.9538 - loss: 0.1553 - val_accuracy: 0.9167 - val_loss: 0.2554\n",
      "Epoch 5/15\n",
      "\u001b[1m22/22\u001b[0m \u001b[32m━━━━━━━━━━━━━━━━━━━━\u001b[0m\u001b[37m\u001b[0m \u001b[1m4s\u001b[0m 203ms/step - accuracy: 0.9659 - loss: 0.1405 - val_accuracy: 0.9367 - val_loss: 0.2215\n",
      "Epoch 6/15\n",
      "\u001b[1m22/22\u001b[0m \u001b[32m━━━━━━━━━━━━━━━━━━━━\u001b[0m\u001b[37m\u001b[0m \u001b[1m5s\u001b[0m 219ms/step - accuracy: 0.9514 - loss: 0.1693 - val_accuracy: 0.9233 - val_loss: 0.2335\n",
      "Epoch 7/15\n",
      "\u001b[1m22/22\u001b[0m \u001b[32m━━━━━━━━━━━━━━━━━━━━\u001b[0m\u001b[37m\u001b[0m \u001b[1m5s\u001b[0m 206ms/step - accuracy: 0.9460 - loss: 0.1800 - val_accuracy: 0.9200 - val_loss: 0.2425\n",
      "Epoch 8/15\n",
      "\u001b[1m22/22\u001b[0m \u001b[32m━━━━━━━━━━━━━━━━━━━━\u001b[0m\u001b[37m\u001b[0m \u001b[1m4s\u001b[0m 200ms/step - accuracy: 0.9595 - loss: 0.1425 - val_accuracy: 0.9167 - val_loss: 0.2384\n",
      "Epoch 9/15\n",
      "\u001b[1m22/22\u001b[0m \u001b[32m━━━━━━━━━━━━━━━━━━━━\u001b[0m\u001b[37m\u001b[0m \u001b[1m4s\u001b[0m 203ms/step - accuracy: 0.9504 - loss: 0.1656 - val_accuracy: 0.9133 - val_loss: 0.2686\n",
      "Epoch 10/15\n",
      "\u001b[1m22/22\u001b[0m \u001b[32m━━━━━━━━━━━━━━━━━━━━\u001b[0m\u001b[37m\u001b[0m \u001b[1m4s\u001b[0m 204ms/step - accuracy: 0.9555 - loss: 0.1501 - val_accuracy: 0.9267 - val_loss: 0.2381\n",
      "Epoch 11/15\n",
      "\u001b[1m22/22\u001b[0m \u001b[32m━━━━━━━━━━━━━━━━━━━━\u001b[0m\u001b[37m\u001b[0m \u001b[1m4s\u001b[0m 201ms/step - accuracy: 0.9669 - loss: 0.1177 - val_accuracy: 0.9200 - val_loss: 0.2678\n",
      "Epoch 12/15\n",
      "\u001b[1m22/22\u001b[0m \u001b[32m━━━━━━━━━━━━━━━━━━━━\u001b[0m\u001b[37m\u001b[0m \u001b[1m4s\u001b[0m 201ms/step - accuracy: 0.9477 - loss: 0.1462 - val_accuracy: 0.8900 - val_loss: 0.3621\n",
      "Epoch 13/15\n",
      "\u001b[1m22/22\u001b[0m \u001b[32m━━━━━━━━━━━━━━━━━━━━\u001b[0m\u001b[37m\u001b[0m \u001b[1m5s\u001b[0m 215ms/step - accuracy: 0.9109 - loss: 0.2728 - val_accuracy: 0.8800 - val_loss: 0.3336\n",
      "Epoch 14/15\n",
      "\u001b[1m22/22\u001b[0m \u001b[32m━━━━━━━━━━━━━━━━━━━━\u001b[0m\u001b[37m\u001b[0m \u001b[1m5s\u001b[0m 208ms/step - accuracy: 0.9198 - loss: 0.2361 - val_accuracy: 0.9233 - val_loss: 0.2822\n",
      "Epoch 15/15\n",
      "\u001b[1m22/22\u001b[0m \u001b[32m━━━━━━━━━━━━━━━━━━━━\u001b[0m\u001b[37m\u001b[0m \u001b[1m4s\u001b[0m 201ms/step - accuracy: 0.9507 - loss: 0.1935 - val_accuracy: 0.9167 - val_loss: 0.2688\n"
     ]
    },
    {
     "data": {
      "text/plain": [
       "<keras.src.callbacks.history.History at 0x7f8b483d5db0>"
      ]
     },
     "execution_count": 36,
     "metadata": {},
     "output_type": "execute_result"
    }
   ],
   "source": [
    "model.fit(paddedData,y2, epochs=15, batch_size=32, validation_split=0.3)"
   ]
  },
  {
   "cell_type": "markdown",
   "id": "72d6d866",
   "metadata": {
    "papermill": {
     "duration": 0.176295,
     "end_time": "2025-03-08T05:52:11.554457",
     "exception": false,
     "start_time": "2025-03-08T05:52:11.378162",
     "status": "completed"
    },
    "tags": []
   },
   "source": [
    "#### PREDICTING DATA\n"
   ]
  },
  {
   "cell_type": "code",
   "execution_count": 37,
   "id": "6ada2539",
   "metadata": {
    "execution": {
     "iopub.execute_input": "2025-03-08T05:52:11.911875Z",
     "iopub.status.busy": "2025-03-08T05:52:11.911460Z",
     "iopub.status.idle": "2025-03-08T05:52:14.732888Z",
     "shell.execute_reply": "2025-03-08T05:52:14.731685Z"
    },
    "papermill": {
     "duration": 3.003648,
     "end_time": "2025-03-08T05:52:14.735144",
     "exception": false,
     "start_time": "2025-03-08T05:52:11.731496",
     "status": "completed"
    },
    "tags": []
   },
   "outputs": [
    {
     "name": "stdout",
     "output_type": "stream",
     "text": [
      "\u001b[1m32/32\u001b[0m \u001b[32m━━━━━━━━━━━━━━━━━━━━\u001b[0m\u001b[37m\u001b[0m \u001b[1m3s\u001b[0m 77ms/step\n"
     ]
    }
   ],
   "source": [
    "predictedData=model.predict(paddedData)\n",
    "predClasses=np.argmax(predictedData,axis=1)"
   ]
  },
  {
   "cell_type": "code",
   "execution_count": 38,
   "id": "98c76146",
   "metadata": {
    "execution": {
     "iopub.execute_input": "2025-03-08T05:52:15.167961Z",
     "iopub.status.busy": "2025-03-08T05:52:15.167526Z",
     "iopub.status.idle": "2025-03-08T05:52:15.179514Z",
     "shell.execute_reply": "2025-03-08T05:52:15.178259Z"
    },
    "papermill": {
     "duration": 0.256553,
     "end_time": "2025-03-08T05:52:15.181406",
     "exception": false,
     "start_time": "2025-03-08T05:52:14.924853",
     "status": "completed"
    },
    "tags": []
   },
   "outputs": [
    {
     "data": {
      "text/html": [
       "<div>\n",
       "<style scoped>\n",
       "    .dataframe tbody tr th:only-of-type {\n",
       "        vertical-align: middle;\n",
       "    }\n",
       "\n",
       "    .dataframe tbody tr th {\n",
       "        vertical-align: top;\n",
       "    }\n",
       "\n",
       "    .dataframe thead th {\n",
       "        text-align: right;\n",
       "    }\n",
       "</style>\n",
       "<table border=\"1\" class=\"dataframe\">\n",
       "  <thead>\n",
       "    <tr style=\"text-align: right;\">\n",
       "      <th></th>\n",
       "      <th>Text</th>\n",
       "      <th>Actual Sentiment</th>\n",
       "      <th>Predicted Sentiment</th>\n",
       "    </tr>\n",
       "  </thead>\n",
       "  <tbody>\n",
       "    <tr>\n",
       "      <th>237845</th>\n",
       "      <td>Very good! I've tried several goji berries on ...</td>\n",
       "      <td>1</td>\n",
       "      <td>1</td>\n",
       "    </tr>\n",
       "    <tr>\n",
       "      <th>154346</th>\n",
       "      <td>tastes terrible it's like the red nyquil.  yuc...</td>\n",
       "      <td>0</td>\n",
       "      <td>1</td>\n",
       "    </tr>\n",
       "    <tr>\n",
       "      <th>11855</th>\n",
       "      <td>cescob Good solid product.  Saves room when st...</td>\n",
       "      <td>1</td>\n",
       "      <td>1</td>\n",
       "    </tr>\n",
       "    <tr>\n",
       "      <th>366452</th>\n",
       "      <td>Great Green Tea and Great Company! This is a g...</td>\n",
       "      <td>1</td>\n",
       "      <td>1</td>\n",
       "    </tr>\n",
       "    <tr>\n",
       "      <th>353445</th>\n",
       "      <td>power crunch protein bars These are the best v...</td>\n",
       "      <td>1</td>\n",
       "      <td>0</td>\n",
       "    </tr>\n",
       "    <tr>\n",
       "      <th>56486</th>\n",
       "      <td>Good Quality Wild Rice... Good quality wild ri...</td>\n",
       "      <td>2</td>\n",
       "      <td>1</td>\n",
       "    </tr>\n",
       "    <tr>\n",
       "      <th>331173</th>\n",
       "      <td>One of the best K Cups, but buy elsewhere! If ...</td>\n",
       "      <td>1</td>\n",
       "      <td>1</td>\n",
       "    </tr>\n",
       "    <tr>\n",
       "      <th>458895</th>\n",
       "      <td>Delicious! A MUST re-order!  Fresh, and delish...</td>\n",
       "      <td>1</td>\n",
       "      <td>1</td>\n",
       "    </tr>\n",
       "    <tr>\n",
       "      <th>43042</th>\n",
       "      <td>Kenya AA - yawn :-O Kenyan is one of my favori...</td>\n",
       "      <td>2</td>\n",
       "      <td>1</td>\n",
       "    </tr>\n",
       "    <tr>\n",
       "      <th>501647</th>\n",
       "      <td>I'm noticing a trend here... EVERY candy I hav...</td>\n",
       "      <td>1</td>\n",
       "      <td>1</td>\n",
       "    </tr>\n",
       "  </tbody>\n",
       "</table>\n",
       "</div>"
      ],
      "text/plain": [
       "                                                     Text  Actual Sentiment  \\\n",
       "237845  Very good! I've tried several goji berries on ...                 1   \n",
       "154346  tastes terrible it's like the red nyquil.  yuc...                 0   \n",
       "11855   cescob Good solid product.  Saves room when st...                 1   \n",
       "366452  Great Green Tea and Great Company! This is a g...                 1   \n",
       "353445  power crunch protein bars These are the best v...                 1   \n",
       "56486   Good Quality Wild Rice... Good quality wild ri...                 2   \n",
       "331173  One of the best K Cups, but buy elsewhere! If ...                 1   \n",
       "458895  Delicious! A MUST re-order!  Fresh, and delish...                 1   \n",
       "43042   Kenya AA - yawn :-O Kenyan is one of my favori...                 2   \n",
       "501647  I'm noticing a trend here... EVERY candy I hav...                 1   \n",
       "\n",
       "        Predicted Sentiment  \n",
       "237845                    1  \n",
       "154346                    1  \n",
       "11855                     1  \n",
       "366452                    1  \n",
       "353445                    0  \n",
       "56486                     1  \n",
       "331173                    1  \n",
       "458895                    1  \n",
       "43042                     1  \n",
       "501647                    1  "
      ]
     },
     "execution_count": 38,
     "metadata": {},
     "output_type": "execute_result"
    }
   ],
   "source": [
    "comparisonData2=pd.DataFrame({\n",
    "    \"Text\":lmtpData[\"CombinedText\"],\n",
    "    \"Actual Sentiment\":lmtpData[\"Sentiment\"].values,\n",
    "    \"Predicted Sentiment\":predClasses\n",
    "})\n",
    "comparisonData2.head(10)"
   ]
  },
  {
   "cell_type": "code",
   "execution_count": 39,
   "id": "1e5dbf2a",
   "metadata": {
    "execution": {
     "iopub.execute_input": "2025-03-08T05:52:15.564304Z",
     "iopub.status.busy": "2025-03-08T05:52:15.563908Z",
     "iopub.status.idle": "2025-03-08T05:52:15.574132Z",
     "shell.execute_reply": "2025-03-08T05:52:15.572969Z"
    },
    "papermill": {
     "duration": 0.20481,
     "end_time": "2025-03-08T05:52:15.576177",
     "exception": false,
     "start_time": "2025-03-08T05:52:15.371367",
     "status": "completed"
    },
    "tags": []
   },
   "outputs": [
    {
     "data": {
      "text/html": [
       "<div>\n",
       "<style scoped>\n",
       "    .dataframe tbody tr th:only-of-type {\n",
       "        vertical-align: middle;\n",
       "    }\n",
       "\n",
       "    .dataframe tbody tr th {\n",
       "        vertical-align: top;\n",
       "    }\n",
       "\n",
       "    .dataframe thead th {\n",
       "        text-align: right;\n",
       "    }\n",
       "</style>\n",
       "<table border=\"1\" class=\"dataframe\">\n",
       "  <thead>\n",
       "    <tr style=\"text-align: right;\">\n",
       "      <th></th>\n",
       "      <th>Text</th>\n",
       "      <th>Actual Sentiment</th>\n",
       "      <th>Predicted Sentiment</th>\n",
       "    </tr>\n",
       "  </thead>\n",
       "  <tbody>\n",
       "    <tr>\n",
       "      <th>155821</th>\n",
       "      <td>love them hey these are great but whoa you are...</td>\n",
       "      <td>1</td>\n",
       "      <td>1</td>\n",
       "    </tr>\n",
       "    <tr>\n",
       "      <th>277223</th>\n",
       "      <td>Weight Watcher Friendly Chips These chips are ...</td>\n",
       "      <td>1</td>\n",
       "      <td>2</td>\n",
       "    </tr>\n",
       "    <tr>\n",
       "      <th>417367</th>\n",
       "      <td>Not terrible... but not good either These figs...</td>\n",
       "      <td>0</td>\n",
       "      <td>1</td>\n",
       "    </tr>\n",
       "    <tr>\n",
       "      <th>151027</th>\n",
       "      <td>Better buy a few extra cans... My child, in a ...</td>\n",
       "      <td>1</td>\n",
       "      <td>1</td>\n",
       "    </tr>\n",
       "    <tr>\n",
       "      <th>300481</th>\n",
       "      <td>Excellent but very sweet This is far above the...</td>\n",
       "      <td>1</td>\n",
       "      <td>0</td>\n",
       "    </tr>\n",
       "    <tr>\n",
       "      <th>202092</th>\n",
       "      <td>Pretty good, could be cheesier! I had recently...</td>\n",
       "      <td>1</td>\n",
       "      <td>1</td>\n",
       "    </tr>\n",
       "    <tr>\n",
       "      <th>96973</th>\n",
       "      <td>Mini Dehydrated Marshmallows These Mini Marshm...</td>\n",
       "      <td>1</td>\n",
       "      <td>1</td>\n",
       "    </tr>\n",
       "    <tr>\n",
       "      <th>110628</th>\n",
       "      <td>I can't believe it's instant! Once a diehard b...</td>\n",
       "      <td>1</td>\n",
       "      <td>1</td>\n",
       "    </tr>\n",
       "    <tr>\n",
       "      <th>291288</th>\n",
       "      <td>Arthritis I have Arthritis  and sometimes it's...</td>\n",
       "      <td>1</td>\n",
       "      <td>1</td>\n",
       "    </tr>\n",
       "    <tr>\n",
       "      <th>510737</th>\n",
       "      <td>Lovely coffee Really great bold flavour, my fa...</td>\n",
       "      <td>1</td>\n",
       "      <td>1</td>\n",
       "    </tr>\n",
       "  </tbody>\n",
       "</table>\n",
       "</div>"
      ],
      "text/plain": [
       "                                                     Text  Actual Sentiment  \\\n",
       "155821  love them hey these are great but whoa you are...                 1   \n",
       "277223  Weight Watcher Friendly Chips These chips are ...                 1   \n",
       "417367  Not terrible... but not good either These figs...                 0   \n",
       "151027  Better buy a few extra cans... My child, in a ...                 1   \n",
       "300481  Excellent but very sweet This is far above the...                 1   \n",
       "202092  Pretty good, could be cheesier! I had recently...                 1   \n",
       "96973   Mini Dehydrated Marshmallows These Mini Marshm...                 1   \n",
       "110628  I can't believe it's instant! Once a diehard b...                 1   \n",
       "291288  Arthritis I have Arthritis  and sometimes it's...                 1   \n",
       "510737  Lovely coffee Really great bold flavour, my fa...                 1   \n",
       "\n",
       "        Predicted Sentiment  \n",
       "155821                    1  \n",
       "277223                    2  \n",
       "417367                    1  \n",
       "151027                    1  \n",
       "300481                    0  \n",
       "202092                    1  \n",
       "96973                     1  \n",
       "110628                    1  \n",
       "291288                    1  \n",
       "510737                    1  "
      ]
     },
     "execution_count": 39,
     "metadata": {},
     "output_type": "execute_result"
    }
   ],
   "source": [
    "comparisonData2.tail(10)"
   ]
  },
  {
   "cell_type": "code",
   "execution_count": 40,
   "id": "db75deec",
   "metadata": {
    "execution": {
     "iopub.execute_input": "2025-03-08T05:52:15.944359Z",
     "iopub.status.busy": "2025-03-08T05:52:15.943941Z",
     "iopub.status.idle": "2025-03-08T05:52:15.963219Z",
     "shell.execute_reply": "2025-03-08T05:52:15.961874Z"
    },
    "papermill": {
     "duration": 0.205497,
     "end_time": "2025-03-08T05:52:15.965680",
     "exception": false,
     "start_time": "2025-03-08T05:52:15.760183",
     "status": "completed"
    },
    "tags": []
   },
   "outputs": [],
   "source": [
    "comparisonData2.to_csv('PredictedSample2.csv')"
   ]
  },
  {
   "cell_type": "markdown",
   "id": "452814a6",
   "metadata": {
    "papermill": {
     "duration": 0.18973,
     "end_time": "2025-03-08T05:52:16.344957",
     "exception": false,
     "start_time": "2025-03-08T05:52:16.155227",
     "status": "completed"
    },
    "tags": []
   },
   "source": [
    "#### USING A SPECIFIC REVIEW"
   ]
  },
  {
   "cell_type": "code",
   "execution_count": 41,
   "id": "335eeeb9",
   "metadata": {
    "execution": {
     "iopub.execute_input": "2025-03-08T05:52:16.828744Z",
     "iopub.status.busy": "2025-03-08T05:52:16.828254Z",
     "iopub.status.idle": "2025-03-08T05:52:16.931326Z",
     "shell.execute_reply": "2025-03-08T05:52:16.930095Z"
    },
    "papermill": {
     "duration": 0.395522,
     "end_time": "2025-03-08T05:52:16.933232",
     "exception": false,
     "start_time": "2025-03-08T05:52:16.537710",
     "status": "completed"
    },
    "tags": []
   },
   "outputs": [
    {
     "name": "stdout",
     "output_type": "stream",
     "text": [
      "\u001b[1m1/1\u001b[0m \u001b[32m━━━━━━━━━━━━━━━━━━━━\u001b[0m\u001b[37m\u001b[0m \u001b[1m0s\u001b[0m 47ms/step\n",
      "Predicted Class:  [1]\n"
     ]
    }
   ],
   "source": [
    "\n",
    "new_review = \"I love this product, it's amazing!\"\n",
    "\n",
    "\n",
    "new_review_tokens = tokenizer.texts_to_sequences([new_review])\n",
    "new_review_padded = pad_sequences(new_review_tokens, maxlen=maxLen)\n",
    "\n",
    "predictions = model.predict(new_review_padded)\n",
    "\n",
    "\n",
    "predicted_class = np.argmax(predictions, axis=1)\n",
    "\n",
    "print(\"Predicted Class: \", predicted_class)\n"
   ]
  },
  {
   "cell_type": "code",
   "execution_count": 42,
   "id": "3f529f47",
   "metadata": {
    "execution": {
     "iopub.execute_input": "2025-03-08T05:52:17.292467Z",
     "iopub.status.busy": "2025-03-08T05:52:17.292128Z",
     "iopub.status.idle": "2025-03-08T05:52:17.392633Z",
     "shell.execute_reply": "2025-03-08T05:52:17.391124Z"
    },
    "papermill": {
     "duration": 0.282404,
     "end_time": "2025-03-08T05:52:17.394808",
     "exception": false,
     "start_time": "2025-03-08T05:52:17.112404",
     "status": "completed"
    },
    "tags": []
   },
   "outputs": [
    {
     "name": "stdout",
     "output_type": "stream",
     "text": [
      "\u001b[1m1/1\u001b[0m \u001b[32m━━━━━━━━━━━━━━━━━━━━\u001b[0m\u001b[37m\u001b[0m \u001b[1m0s\u001b[0m 43ms/step\n",
      "[1]\n"
     ]
    }
   ],
   "source": [
    "import numpy as np\n",
    "from tensorflow.keras.preprocessing.sequence import pad_sequences\n",
    "\n",
    "new_review2 = \"This is so terrible.It literally melted my skin\"\n",
    "\n",
    "\n",
    "new_review_tokens2 = tokenizer.texts_to_sequences([new_review2])\n",
    "new_review_padded2 = pad_sequences(new_review_tokens2, maxlen=maxLen)\n",
    "\n",
    "\n",
    "predictions = model.predict(new_review_padded2)\n",
    "\n",
    "\n",
    "predicted_class2 = np.argmax(predictions, axis=1)\n",
    "\n",
    "print(predicted_class2)"
   ]
  },
  {
   "cell_type": "markdown",
   "id": "b6a0f90e",
   "metadata": {
    "papermill": {
     "duration": 0.185327,
     "end_time": "2025-03-08T05:52:17.769925",
     "exception": false,
     "start_time": "2025-03-08T05:52:17.584598",
     "status": "completed"
    },
    "tags": []
   },
   "source": []
  }
 ],
 "metadata": {
  "kaggle": {
   "accelerator": "none",
   "dataSources": [
    {
     "datasetId": 18,
     "sourceId": 2157,
     "sourceType": "datasetVersion"
    },
    {
     "datasetId": 4167194,
     "sourceId": 7203508,
     "sourceType": "datasetVersion"
    }
   ],
   "dockerImageVersionId": 30918,
   "isGpuEnabled": false,
   "isInternetEnabled": true,
   "language": "python",
   "sourceType": "notebook"
  },
  "kernelspec": {
   "display_name": "Python 3",
   "language": "python",
   "name": "python3"
  },
  "language_info": {
   "codemirror_mode": {
    "name": "ipython",
    "version": 3
   },
   "file_extension": ".py",
   "mimetype": "text/x-python",
   "name": "python",
   "nbconvert_exporter": "python",
   "pygments_lexer": "ipython3",
   "version": "3.10.12"
  },
  "papermill": {
   "default_parameters": {},
   "duration": 625.251054,
   "end_time": "2025-03-08T05:52:20.679272",
   "environment_variables": {},
   "exception": null,
   "input_path": "__notebook__.ipynb",
   "output_path": "__notebook__.ipynb",
   "parameters": {},
   "start_time": "2025-03-08T05:41:55.428218",
   "version": "2.6.0"
  }
 },
 "nbformat": 4,
 "nbformat_minor": 5
}
