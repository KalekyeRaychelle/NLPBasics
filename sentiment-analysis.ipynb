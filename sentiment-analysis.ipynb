{
 "cells": [
  {
   "cell_type": "code",
   "execution_count": 1,
   "id": "4f3994dd",
   "metadata": {
    "_cell_guid": "b1076dfc-b9ad-4769-8c92-a6c4dae69d19",
    "_uuid": "8f2839f25d086af736a60e9eeb907d3b93b6e0e5",
    "execution": {
     "iopub.execute_input": "2025-03-07T13:31:56.944151Z",
     "iopub.status.busy": "2025-03-07T13:31:56.943699Z",
     "iopub.status.idle": "2025-03-07T13:31:58.047423Z",
     "shell.execute_reply": "2025-03-07T13:31:58.045844Z"
    },
    "papermill": {
     "duration": 1.117685,
     "end_time": "2025-03-07T13:31:58.049738",
     "exception": false,
     "start_time": "2025-03-07T13:31:56.932053",
     "status": "completed"
    },
    "tags": []
   },
   "outputs": [
    {
     "name": "stdout",
     "output_type": "stream",
     "text": [
      "/kaggle/input/amazon-fine-food-reviews/hashes.txt\n",
      "/kaggle/input/amazon-fine-food-reviews/Reviews.csv\n",
      "/kaggle/input/amazon-fine-food-reviews/database.sqlite\n",
      "/kaggle/input/glove-6b-100-d/glove.6B.100d.txt\n"
     ]
    }
   ],
   "source": [
    "# This Python 3 environment comes with many helpful analytics libraries installed\n",
    "# It is defined by the kaggle/python Docker image: https://github.com/kaggle/docker-python\n",
    "# For example, here's several helpful packages to load\n",
    "\n",
    "import numpy as np # linear algebra\n",
    "import pandas as pd # data processing, CSV file I/O (e.g. pd.read_csv)\n",
    "\n",
    "# Input data files are available in the read-only \"../input/\" directory\n",
    "# For example, running this (by clicking run or pressing Shift+Enter) will list all files under the input directory\n",
    "\n",
    "import os\n",
    "for dirname, _, filenames in os.walk('/kaggle/input'):\n",
    "    for filename in filenames:\n",
    "        print(os.path.join(dirname, filename))\n",
    "\n",
    "# You can write up to 20GB to the current directory (/kaggle/working/) that gets preserved as output when you create a version using \"Save & Run All\" \n",
    "# You can also write temporary files to /kaggle/temp/, but they won't be saved outside of the current session"
   ]
  },
  {
   "cell_type": "code",
   "execution_count": 2,
   "id": "0883c232",
   "metadata": {
    "execution": {
     "iopub.execute_input": "2025-03-07T13:31:58.070591Z",
     "iopub.status.busy": "2025-03-07T13:31:58.070051Z",
     "iopub.status.idle": "2025-03-07T13:31:58.074931Z",
     "shell.execute_reply": "2025-03-07T13:31:58.073824Z"
    },
    "papermill": {
     "duration": 0.017067,
     "end_time": "2025-03-07T13:31:58.076754",
     "exception": false,
     "start_time": "2025-03-07T13:31:58.059687",
     "status": "completed"
    },
    "tags": []
   },
   "outputs": [],
   "source": [
    "import pandas as pd"
   ]
  },
  {
   "cell_type": "code",
   "execution_count": 3,
   "id": "5fd72bf0",
   "metadata": {
    "execution": {
     "iopub.execute_input": "2025-03-07T13:31:58.096912Z",
     "iopub.status.busy": "2025-03-07T13:31:58.096602Z",
     "iopub.status.idle": "2025-03-07T13:32:07.081805Z",
     "shell.execute_reply": "2025-03-07T13:32:07.080444Z"
    },
    "papermill": {
     "duration": 8.997757,
     "end_time": "2025-03-07T13:32:07.084044",
     "exception": false,
     "start_time": "2025-03-07T13:31:58.086287",
     "status": "completed"
    },
    "tags": []
   },
   "outputs": [],
   "source": [
    "dataset=pd.read_csv(r\"/kaggle/input/amazon-fine-food-reviews/Reviews.csv\")"
   ]
  },
  {
   "cell_type": "code",
   "execution_count": 4,
   "id": "d37ce81e",
   "metadata": {
    "execution": {
     "iopub.execute_input": "2025-03-07T13:32:07.105161Z",
     "iopub.status.busy": "2025-03-07T13:32:07.104820Z",
     "iopub.status.idle": "2025-03-07T13:32:07.324224Z",
     "shell.execute_reply": "2025-03-07T13:32:07.322750Z"
    },
    "papermill": {
     "duration": 0.232359,
     "end_time": "2025-03-07T13:32:07.326366",
     "exception": false,
     "start_time": "2025-03-07T13:32:07.094007",
     "status": "completed"
    },
    "tags": []
   },
   "outputs": [
    {
     "name": "stdout",
     "output_type": "stream",
     "text": [
      "<class 'pandas.core.frame.DataFrame'>\n",
      "RangeIndex: 568454 entries, 0 to 568453\n",
      "Data columns (total 10 columns):\n",
      " #   Column                  Non-Null Count   Dtype \n",
      "---  ------                  --------------   ----- \n",
      " 0   Id                      568454 non-null  int64 \n",
      " 1   ProductId               568454 non-null  object\n",
      " 2   UserId                  568454 non-null  object\n",
      " 3   ProfileName             568428 non-null  object\n",
      " 4   HelpfulnessNumerator    568454 non-null  int64 \n",
      " 5   HelpfulnessDenominator  568454 non-null  int64 \n",
      " 6   Score                   568454 non-null  int64 \n",
      " 7   Time                    568454 non-null  int64 \n",
      " 8   Summary                 568427 non-null  object\n",
      " 9   Text                    568454 non-null  object\n",
      "dtypes: int64(5), object(5)\n",
      "memory usage: 43.4+ MB\n"
     ]
    }
   ],
   "source": [
    "dataset.info()"
   ]
  },
  {
   "cell_type": "code",
   "execution_count": 5,
   "id": "0089bfef",
   "metadata": {
    "execution": {
     "iopub.execute_input": "2025-03-07T13:32:07.346898Z",
     "iopub.status.busy": "2025-03-07T13:32:07.346449Z",
     "iopub.status.idle": "2025-03-07T13:32:07.373532Z",
     "shell.execute_reply": "2025-03-07T13:32:07.372318Z"
    },
    "papermill": {
     "duration": 0.039186,
     "end_time": "2025-03-07T13:32:07.375243",
     "exception": false,
     "start_time": "2025-03-07T13:32:07.336057",
     "status": "completed"
    },
    "tags": []
   },
   "outputs": [
    {
     "data": {
      "text/html": [
       "<div>\n",
       "<style scoped>\n",
       "    .dataframe tbody tr th:only-of-type {\n",
       "        vertical-align: middle;\n",
       "    }\n",
       "\n",
       "    .dataframe tbody tr th {\n",
       "        vertical-align: top;\n",
       "    }\n",
       "\n",
       "    .dataframe thead th {\n",
       "        text-align: right;\n",
       "    }\n",
       "</style>\n",
       "<table border=\"1\" class=\"dataframe\">\n",
       "  <thead>\n",
       "    <tr style=\"text-align: right;\">\n",
       "      <th></th>\n",
       "      <th>Id</th>\n",
       "      <th>ProductId</th>\n",
       "      <th>UserId</th>\n",
       "      <th>ProfileName</th>\n",
       "      <th>HelpfulnessNumerator</th>\n",
       "      <th>HelpfulnessDenominator</th>\n",
       "      <th>Score</th>\n",
       "      <th>Time</th>\n",
       "      <th>Summary</th>\n",
       "      <th>Text</th>\n",
       "    </tr>\n",
       "  </thead>\n",
       "  <tbody>\n",
       "    <tr>\n",
       "      <th>0</th>\n",
       "      <td>1</td>\n",
       "      <td>B001E4KFG0</td>\n",
       "      <td>A3SGXH7AUHU8GW</td>\n",
       "      <td>delmartian</td>\n",
       "      <td>1</td>\n",
       "      <td>1</td>\n",
       "      <td>5</td>\n",
       "      <td>1303862400</td>\n",
       "      <td>Good Quality Dog Food</td>\n",
       "      <td>I have bought several of the Vitality canned d...</td>\n",
       "    </tr>\n",
       "    <tr>\n",
       "      <th>1</th>\n",
       "      <td>2</td>\n",
       "      <td>B00813GRG4</td>\n",
       "      <td>A1D87F6ZCVE5NK</td>\n",
       "      <td>dll pa</td>\n",
       "      <td>0</td>\n",
       "      <td>0</td>\n",
       "      <td>1</td>\n",
       "      <td>1346976000</td>\n",
       "      <td>Not as Advertised</td>\n",
       "      <td>Product arrived labeled as Jumbo Salted Peanut...</td>\n",
       "    </tr>\n",
       "    <tr>\n",
       "      <th>2</th>\n",
       "      <td>3</td>\n",
       "      <td>B000LQOCH0</td>\n",
       "      <td>ABXLMWJIXXAIN</td>\n",
       "      <td>Natalia Corres \"Natalia Corres\"</td>\n",
       "      <td>1</td>\n",
       "      <td>1</td>\n",
       "      <td>4</td>\n",
       "      <td>1219017600</td>\n",
       "      <td>\"Delight\" says it all</td>\n",
       "      <td>This is a confection that has been around a fe...</td>\n",
       "    </tr>\n",
       "    <tr>\n",
       "      <th>3</th>\n",
       "      <td>4</td>\n",
       "      <td>B000UA0QIQ</td>\n",
       "      <td>A395BORC6FGVXV</td>\n",
       "      <td>Karl</td>\n",
       "      <td>3</td>\n",
       "      <td>3</td>\n",
       "      <td>2</td>\n",
       "      <td>1307923200</td>\n",
       "      <td>Cough Medicine</td>\n",
       "      <td>If you are looking for the secret ingredient i...</td>\n",
       "    </tr>\n",
       "    <tr>\n",
       "      <th>4</th>\n",
       "      <td>5</td>\n",
       "      <td>B006K2ZZ7K</td>\n",
       "      <td>A1UQRSCLF8GW1T</td>\n",
       "      <td>Michael D. Bigham \"M. Wassir\"</td>\n",
       "      <td>0</td>\n",
       "      <td>0</td>\n",
       "      <td>5</td>\n",
       "      <td>1350777600</td>\n",
       "      <td>Great taffy</td>\n",
       "      <td>Great taffy at a great price.  There was a wid...</td>\n",
       "    </tr>\n",
       "  </tbody>\n",
       "</table>\n",
       "</div>"
      ],
      "text/plain": [
       "   Id   ProductId          UserId                      ProfileName  \\\n",
       "0   1  B001E4KFG0  A3SGXH7AUHU8GW                       delmartian   \n",
       "1   2  B00813GRG4  A1D87F6ZCVE5NK                           dll pa   \n",
       "2   3  B000LQOCH0   ABXLMWJIXXAIN  Natalia Corres \"Natalia Corres\"   \n",
       "3   4  B000UA0QIQ  A395BORC6FGVXV                             Karl   \n",
       "4   5  B006K2ZZ7K  A1UQRSCLF8GW1T    Michael D. Bigham \"M. Wassir\"   \n",
       "\n",
       "   HelpfulnessNumerator  HelpfulnessDenominator  Score        Time  \\\n",
       "0                     1                       1      5  1303862400   \n",
       "1                     0                       0      1  1346976000   \n",
       "2                     1                       1      4  1219017600   \n",
       "3                     3                       3      2  1307923200   \n",
       "4                     0                       0      5  1350777600   \n",
       "\n",
       "                 Summary                                               Text  \n",
       "0  Good Quality Dog Food  I have bought several of the Vitality canned d...  \n",
       "1      Not as Advertised  Product arrived labeled as Jumbo Salted Peanut...  \n",
       "2  \"Delight\" says it all  This is a confection that has been around a fe...  \n",
       "3         Cough Medicine  If you are looking for the secret ingredient i...  \n",
       "4            Great taffy  Great taffy at a great price.  There was a wid...  "
      ]
     },
     "execution_count": 5,
     "metadata": {},
     "output_type": "execute_result"
    }
   ],
   "source": [
    "dataset.head(5)"
   ]
  },
  {
   "cell_type": "code",
   "execution_count": 6,
   "id": "2f8aa328",
   "metadata": {
    "execution": {
     "iopub.execute_input": "2025-03-07T13:32:07.398077Z",
     "iopub.status.busy": "2025-03-07T13:32:07.397678Z",
     "iopub.status.idle": "2025-03-07T13:32:07.437401Z",
     "shell.execute_reply": "2025-03-07T13:32:07.435904Z"
    },
    "papermill": {
     "duration": 0.054524,
     "end_time": "2025-03-07T13:32:07.439746",
     "exception": false,
     "start_time": "2025-03-07T13:32:07.385222",
     "status": "completed"
    },
    "tags": []
   },
   "outputs": [
    {
     "name": "stdout",
     "output_type": "stream",
     "text": [
      "   Score                                               Text\n",
      "0      5  I have bought several of the Vitality canned d...\n",
      "1      1  Product arrived labeled as Jumbo Salted Peanut...\n",
      "2      4  This is a confection that has been around a fe...\n",
      "3      2  If you are looking for the secret ingredient i...\n",
      "4      5  Great taffy at a great price.  There was a wid...\n"
     ]
    }
   ],
   "source": [
    "print(dataset[['Score','Text']].head(5))"
   ]
  },
  {
   "cell_type": "code",
   "execution_count": 7,
   "id": "d75c117c",
   "metadata": {
    "execution": {
     "iopub.execute_input": "2025-03-07T13:32:07.462395Z",
     "iopub.status.busy": "2025-03-07T13:32:07.462014Z",
     "iopub.status.idle": "2025-03-07T13:32:07.659526Z",
     "shell.execute_reply": "2025-03-07T13:32:07.658129Z"
    },
    "papermill": {
     "duration": 0.210943,
     "end_time": "2025-03-07T13:32:07.661501",
     "exception": false,
     "start_time": "2025-03-07T13:32:07.450558",
     "status": "completed"
    },
    "tags": []
   },
   "outputs": [
    {
     "name": "stdout",
     "output_type": "stream",
     "text": [
      "Id                         0\n",
      "ProductId                  0\n",
      "UserId                     0\n",
      "ProfileName               26\n",
      "HelpfulnessNumerator       0\n",
      "HelpfulnessDenominator     0\n",
      "Score                      0\n",
      "Time                       0\n",
      "Summary                   27\n",
      "Text                       0\n",
      "dtype: int64\n"
     ]
    }
   ],
   "source": [
    "print(dataset.isna().sum())"
   ]
  },
  {
   "cell_type": "code",
   "execution_count": 8,
   "id": "e123730b",
   "metadata": {
    "execution": {
     "iopub.execute_input": "2025-03-07T13:32:07.683117Z",
     "iopub.status.busy": "2025-03-07T13:32:07.682746Z",
     "iopub.status.idle": "2025-03-07T13:32:07.759908Z",
     "shell.execute_reply": "2025-03-07T13:32:07.758543Z"
    },
    "papermill": {
     "duration": 0.090222,
     "end_time": "2025-03-07T13:32:07.761906",
     "exception": false,
     "start_time": "2025-03-07T13:32:07.671684",
     "status": "completed"
    },
    "tags": []
   },
   "outputs": [
    {
     "name": "stdout",
     "output_type": "stream",
     "text": [
      "                                                     Text  \\\n",
      "329374  This soup is in a class by itself.  The ingred...   \n",
      "484157  Excellent product- has a great taste and a gre...   \n",
      "115845  First off, I'll let it be known that I'm Engli...   \n",
      "540486  I have tried many strengths of coffee.  The Ti...   \n",
      "536330  When I first found my dog at a shelter I start...   \n",
      "...                                                   ...   \n",
      "564392  I have very small dogs (5 and 7 lbs) and it do...   \n",
      "83187   I love this brand. If you go to their website,...   \n",
      "112400  This bar is unbelievably good. The flavor and ...   \n",
      "326690  I used to have the decaf Carribu coffee - but ...   \n",
      "401509  These fruit snacks come in individual wrappers...   \n",
      "\n",
      "                                    Summary  Score  \n",
      "329374                       Best Soup Ever      5  \n",
      "484157              Absolutely delicious!!!      5  \n",
      "115845  Best Cuppa English Tea (In My Book)      5  \n",
      "540486                     Delicious coffee      5  \n",
      "536330          best dog food on the market      5  \n",
      "...                                     ...    ...  \n",
      "564392                    Two dogs love it!      5  \n",
      "83187                   DOOMHAMMER approved      5  \n",
      "112400           Excellent chocolate bar...      5  \n",
      "326690          The one decaf I always have      5  \n",
      "401509    Fruity and easy to take along :-)      4  \n",
      "\n",
      "[1000 rows x 3 columns]\n"
     ]
    }
   ],
   "source": [
    "lmtpData=dataset[['Text','Summary','Score']].sample(n=1000)\n",
    "print(lmtpData)"
   ]
  },
  {
   "cell_type": "markdown",
   "id": "964cd7de",
   "metadata": {
    "papermill": {
     "duration": 0.009887,
     "end_time": "2025-03-07T13:32:07.781985",
     "exception": false,
     "start_time": "2025-03-07T13:32:07.772098",
     "status": "completed"
    },
    "tags": []
   },
   "source": [
    "### ADDING SENTIMENT COLUMN"
   ]
  },
  {
   "cell_type": "code",
   "execution_count": 9,
   "id": "9656c2be",
   "metadata": {
    "execution": {
     "iopub.execute_input": "2025-03-07T13:32:07.803691Z",
     "iopub.status.busy": "2025-03-07T13:32:07.803283Z",
     "iopub.status.idle": "2025-03-07T13:32:07.815921Z",
     "shell.execute_reply": "2025-03-07T13:32:07.814897Z"
    },
    "papermill": {
     "duration": 0.025362,
     "end_time": "2025-03-07T13:32:07.817445",
     "exception": false,
     "start_time": "2025-03-07T13:32:07.792083",
     "status": "completed"
    },
    "tags": []
   },
   "outputs": [
    {
     "data": {
      "text/html": [
       "<div>\n",
       "<style scoped>\n",
       "    .dataframe tbody tr th:only-of-type {\n",
       "        vertical-align: middle;\n",
       "    }\n",
       "\n",
       "    .dataframe tbody tr th {\n",
       "        vertical-align: top;\n",
       "    }\n",
       "\n",
       "    .dataframe thead th {\n",
       "        text-align: right;\n",
       "    }\n",
       "</style>\n",
       "<table border=\"1\" class=\"dataframe\">\n",
       "  <thead>\n",
       "    <tr style=\"text-align: right;\">\n",
       "      <th></th>\n",
       "      <th>Text</th>\n",
       "      <th>Summary</th>\n",
       "      <th>Score</th>\n",
       "      <th>Sentiment</th>\n",
       "    </tr>\n",
       "  </thead>\n",
       "  <tbody>\n",
       "    <tr>\n",
       "      <th>329374</th>\n",
       "      <td>This soup is in a class by itself.  The ingred...</td>\n",
       "      <td>Best Soup Ever</td>\n",
       "      <td>5</td>\n",
       "      <td>1</td>\n",
       "    </tr>\n",
       "    <tr>\n",
       "      <th>484157</th>\n",
       "      <td>Excellent product- has a great taste and a gre...</td>\n",
       "      <td>Absolutely delicious!!!</td>\n",
       "      <td>5</td>\n",
       "      <td>1</td>\n",
       "    </tr>\n",
       "    <tr>\n",
       "      <th>115845</th>\n",
       "      <td>First off, I'll let it be known that I'm Engli...</td>\n",
       "      <td>Best Cuppa English Tea (In My Book)</td>\n",
       "      <td>5</td>\n",
       "      <td>1</td>\n",
       "    </tr>\n",
       "    <tr>\n",
       "      <th>540486</th>\n",
       "      <td>I have tried many strengths of coffee.  The Ti...</td>\n",
       "      <td>Delicious coffee</td>\n",
       "      <td>5</td>\n",
       "      <td>1</td>\n",
       "    </tr>\n",
       "    <tr>\n",
       "      <th>536330</th>\n",
       "      <td>When I first found my dog at a shelter I start...</td>\n",
       "      <td>best dog food on the market</td>\n",
       "      <td>5</td>\n",
       "      <td>1</td>\n",
       "    </tr>\n",
       "  </tbody>\n",
       "</table>\n",
       "</div>"
      ],
      "text/plain": [
       "                                                     Text  \\\n",
       "329374  This soup is in a class by itself.  The ingred...   \n",
       "484157  Excellent product- has a great taste and a gre...   \n",
       "115845  First off, I'll let it be known that I'm Engli...   \n",
       "540486  I have tried many strengths of coffee.  The Ti...   \n",
       "536330  When I first found my dog at a shelter I start...   \n",
       "\n",
       "                                    Summary  Score  Sentiment  \n",
       "329374                       Best Soup Ever      5          1  \n",
       "484157              Absolutely delicious!!!      5          1  \n",
       "115845  Best Cuppa English Tea (In My Book)      5          1  \n",
       "540486                     Delicious coffee      5          1  \n",
       "536330          best dog food on the market      5          1  "
      ]
     },
     "execution_count": 9,
     "metadata": {},
     "output_type": "execute_result"
    }
   ],
   "source": [
    "#0-negative, 1-positive\n",
    "def lblScore(score):\n",
    "    if score<=2:\n",
    "        return 0\n",
    "    elif score>=4:\n",
    "        return 1\n",
    "    else:\n",
    "        return 2\n",
    "lmtpData['Sentiment']=lmtpData['Score'].apply(lblScore)\n",
    "lmtpData.head(5)"
   ]
  },
  {
   "cell_type": "code",
   "execution_count": 10,
   "id": "ea01b3f6",
   "metadata": {
    "execution": {
     "iopub.execute_input": "2025-03-07T13:32:07.839358Z",
     "iopub.status.busy": "2025-03-07T13:32:07.839028Z",
     "iopub.status.idle": "2025-03-07T13:32:07.847797Z",
     "shell.execute_reply": "2025-03-07T13:32:07.846662Z"
    },
    "papermill": {
     "duration": 0.021755,
     "end_time": "2025-03-07T13:32:07.849582",
     "exception": false,
     "start_time": "2025-03-07T13:32:07.827827",
     "status": "completed"
    },
    "tags": []
   },
   "outputs": [
    {
     "data": {
      "text/plain": [
       "Sentiment\n",
       "1    775\n",
       "0    131\n",
       "2     94\n",
       "Name: count, dtype: int64"
      ]
     },
     "execution_count": 10,
     "metadata": {},
     "output_type": "execute_result"
    }
   ],
   "source": [
    "lmtpData['Sentiment'].value_counts()"
   ]
  },
  {
   "cell_type": "markdown",
   "id": "a40c66e7",
   "metadata": {
    "execution": {
     "iopub.execute_input": "2025-03-06T12:31:15.045476Z",
     "iopub.status.busy": "2025-03-06T12:31:15.045080Z",
     "iopub.status.idle": "2025-03-06T12:31:15.049290Z",
     "shell.execute_reply": "2025-03-06T12:31:15.048323Z",
     "shell.execute_reply.started": "2025-03-06T12:31:15.045438Z"
    },
    "papermill": {
     "duration": 0.00969,
     "end_time": "2025-03-07T13:32:07.869614",
     "exception": false,
     "start_time": "2025-03-07T13:32:07.859924",
     "status": "completed"
    },
    "tags": []
   },
   "source": [
    "#### VECTORS"
   ]
  },
  {
   "cell_type": "code",
   "execution_count": 11,
   "id": "ea7629f9",
   "metadata": {
    "execution": {
     "iopub.execute_input": "2025-03-07T13:32:07.891139Z",
     "iopub.status.busy": "2025-03-07T13:32:07.890723Z",
     "iopub.status.idle": "2025-03-07T13:32:18.746031Z",
     "shell.execute_reply": "2025-03-07T13:32:18.744643Z"
    },
    "papermill": {
     "duration": 10.868381,
     "end_time": "2025-03-07T13:32:18.748016",
     "exception": false,
     "start_time": "2025-03-07T13:32:07.879635",
     "status": "completed"
    },
    "tags": []
   },
   "outputs": [
    {
     "name": "stdout",
     "output_type": "stream",
     "text": [
      "Loaded 400000 word vectors.\n"
     ]
    }
   ],
   "source": [
    "import numpy as np\n",
    "\n",
    "glove_path = \"/kaggle/input/glove-6b-100-d/glove.6B.100d.txt\"\n",
    "\n",
    "def loadGloveEmbeddings(filePath, embedding_dim=100):\n",
    "    embeddingsIndex = {}\n",
    "    with open(filePath, encoding=\"utf8\") as f:\n",
    "        for line in f:\n",
    "            values = line.split()\n",
    "            word = values[0]\n",
    "            coefs = np.asarray(values[1:], dtype='float32')\n",
    "            embeddingsIndex[word] = coefs\n",
    "    return embeddingsIndex\n",
    "\n",
    "gloveEmbeddings = loadGloveEmbeddings(glove_path)\n",
    "print(\"Loaded {} word vectors.\".format(len(gloveEmbeddings)))\n",
    "\n",
    "\n",
    "        "
   ]
  },
  {
   "cell_type": "markdown",
   "id": "cec0611c",
   "metadata": {
    "papermill": {
     "duration": 0.009749,
     "end_time": "2025-03-07T13:32:18.767956",
     "exception": false,
     "start_time": "2025-03-07T13:32:18.758207",
     "status": "completed"
    },
    "tags": []
   },
   "source": [
    "#### CREATING EMBEDDING MATRIX"
   ]
  },
  {
   "cell_type": "code",
   "execution_count": 12,
   "id": "d4cf8f84",
   "metadata": {
    "execution": {
     "iopub.execute_input": "2025-03-07T13:32:18.789073Z",
     "iopub.status.busy": "2025-03-07T13:32:18.788744Z",
     "iopub.status.idle": "2025-03-07T13:32:18.796565Z",
     "shell.execute_reply": "2025-03-07T13:32:18.795567Z"
    },
    "papermill": {
     "duration": 0.020479,
     "end_time": "2025-03-07T13:32:18.798286",
     "exception": false,
     "start_time": "2025-03-07T13:32:18.777807",
     "status": "completed"
    },
    "tags": []
   },
   "outputs": [],
   "source": [
    "lmtpData['Summary']=lmtpData['Summary'].fillna(\"\")\n",
    "lmtpData['CombinedText']=lmtpData['Summary'] + \" \" + lmtpData['Text']\n"
   ]
  },
  {
   "cell_type": "code",
   "execution_count": 13,
   "id": "9a930866",
   "metadata": {
    "execution": {
     "iopub.execute_input": "2025-03-07T13:32:18.820310Z",
     "iopub.status.busy": "2025-03-07T13:32:18.819979Z",
     "iopub.status.idle": "2025-03-07T13:32:35.330515Z",
     "shell.execute_reply": "2025-03-07T13:32:35.329144Z"
    },
    "papermill": {
     "duration": 16.523989,
     "end_time": "2025-03-07T13:32:35.332834",
     "exception": false,
     "start_time": "2025-03-07T13:32:18.808845",
     "status": "completed"
    },
    "tags": []
   },
   "outputs": [],
   "source": [
    "#tokenizing\n",
    "from tensorflow.keras.preprocessing.text import Tokenizer\n",
    "from tensorflow.keras.preprocessing.sequence import pad_sequences\n",
    "\n",
    "tokenizer=Tokenizer()\n",
    "tokenizer.fit_on_texts(lmtpData['CombinedText'])\n",
    "sequences=tokenizer.texts_to_sequences(lmtpData['CombinedText'])\n",
    "\n",
    "maxLen=100\n",
    "padded_sequences=pad_sequences(sequences,maxlen=maxLen,padding='post')"
   ]
  },
  {
   "cell_type": "code",
   "execution_count": 14,
   "id": "39b8484d",
   "metadata": {
    "execution": {
     "iopub.execute_input": "2025-03-07T13:32:35.356342Z",
     "iopub.status.busy": "2025-03-07T13:32:35.355565Z",
     "iopub.status.idle": "2025-03-07T13:32:35.377737Z",
     "shell.execute_reply": "2025-03-07T13:32:35.376400Z"
    },
    "papermill": {
     "duration": 0.036265,
     "end_time": "2025-03-07T13:32:35.379989",
     "exception": false,
     "start_time": "2025-03-07T13:32:35.343724",
     "status": "completed"
    },
    "tags": []
   },
   "outputs": [],
   "source": [
    "embedding_dim=100\n",
    "vocabSize=len(tokenizer.word_index) + 1\n",
    "\n",
    "embeddingMatrix=np.zeros((vocabSize,embedding_dim))\n",
    "\n",
    "for word,i in tokenizer.word_index.items():\n",
    "    embeddingVector=gloveEmbeddings.get(word)\n",
    "    if embeddingVector is not None:\n",
    "        embeddingMatrix[i]=embeddingVector"
   ]
  },
  {
   "cell_type": "code",
   "execution_count": 15,
   "id": "36f8e3cd",
   "metadata": {
    "execution": {
     "iopub.execute_input": "2025-03-07T13:32:35.402231Z",
     "iopub.status.busy": "2025-03-07T13:32:35.401846Z",
     "iopub.status.idle": "2025-03-07T13:32:35.407658Z",
     "shell.execute_reply": "2025-03-07T13:32:35.406172Z"
    },
    "papermill": {
     "duration": 0.019133,
     "end_time": "2025-03-07T13:32:35.409578",
     "exception": false,
     "start_time": "2025-03-07T13:32:35.390445",
     "status": "completed"
    },
    "tags": []
   },
   "outputs": [
    {
     "name": "stdout",
     "output_type": "stream",
     "text": [
      "Embedding matrix shape: (6844, 100)\n"
     ]
    }
   ],
   "source": [
    "print(\"Embedding matrix shape:\", embeddingMatrix.shape)\n"
   ]
  },
  {
   "cell_type": "markdown",
   "id": "cae4faec",
   "metadata": {
    "papermill": {
     "duration": 0.009814,
     "end_time": "2025-03-07T13:32:35.429637",
     "exception": false,
     "start_time": "2025-03-07T13:32:35.419823",
     "status": "completed"
    },
    "tags": []
   },
   "source": [
    "### MAKING THE MODEL"
   ]
  },
  {
   "cell_type": "code",
   "execution_count": 16,
   "id": "8f9ecdec",
   "metadata": {
    "execution": {
     "iopub.execute_input": "2025-03-07T13:32:35.451171Z",
     "iopub.status.busy": "2025-03-07T13:32:35.450768Z",
     "iopub.status.idle": "2025-03-07T13:32:35.672837Z",
     "shell.execute_reply": "2025-03-07T13:32:35.671637Z"
    },
    "papermill": {
     "duration": 0.234902,
     "end_time": "2025-03-07T13:32:35.674525",
     "exception": false,
     "start_time": "2025-03-07T13:32:35.439623",
     "status": "completed"
    },
    "tags": []
   },
   "outputs": [
    {
     "name": "stdout",
     "output_type": "stream",
     "text": [
      "Padded shape: (1000, 100)\n",
      "Labels shape: (1000,)\n"
     ]
    },
    {
     "data": {
      "text/html": [
       "<pre style=\"white-space:pre;overflow-x:auto;line-height:normal;font-family:Menlo,'DejaVu Sans Mono',consolas,'Courier New',monospace\"><span style=\"font-weight: bold\">Model: \"sequential\"</span>\n",
       "</pre>\n"
      ],
      "text/plain": [
       "\u001b[1mModel: \"sequential\"\u001b[0m\n"
      ]
     },
     "metadata": {},
     "output_type": "display_data"
    },
    {
     "data": {
      "text/html": [
       "<pre style=\"white-space:pre;overflow-x:auto;line-height:normal;font-family:Menlo,'DejaVu Sans Mono',consolas,'Courier New',monospace\">┏━━━━━━━━━━━━━━━━━━━━━━━━━━━━━━━━━━━━━━┳━━━━━━━━━━━━━━━━━━━━━━━━━━━━━┳━━━━━━━━━━━━━━━━━┓\n",
       "┃<span style=\"font-weight: bold\"> Layer (type)                         </span>┃<span style=\"font-weight: bold\"> Output Shape                </span>┃<span style=\"font-weight: bold\">         Param # </span>┃\n",
       "┡━━━━━━━━━━━━━━━━━━━━━━━━━━━━━━━━━━━━━━╇━━━━━━━━━━━━━━━━━━━━━━━━━━━━━╇━━━━━━━━━━━━━━━━━┩\n",
       "│ embedding (<span style=\"color: #0087ff; text-decoration-color: #0087ff\">Embedding</span>)                │ (<span style=\"color: #00d7ff; text-decoration-color: #00d7ff\">None</span>, <span style=\"color: #00af00; text-decoration-color: #00af00\">100</span>, <span style=\"color: #00af00; text-decoration-color: #00af00\">100</span>)            │         <span style=\"color: #00af00; text-decoration-color: #00af00\">684,400</span> │\n",
       "├──────────────────────────────────────┼─────────────────────────────┼─────────────────┤\n",
       "│ lstm (<span style=\"color: #0087ff; text-decoration-color: #0087ff\">LSTM</span>)                          │ (<span style=\"color: #00d7ff; text-decoration-color: #00d7ff\">None</span>, <span style=\"color: #00af00; text-decoration-color: #00af00\">100</span>, <span style=\"color: #00af00; text-decoration-color: #00af00\">128</span>)            │         <span style=\"color: #00af00; text-decoration-color: #00af00\">117,248</span> │\n",
       "├──────────────────────────────────────┼─────────────────────────────┼─────────────────┤\n",
       "│ lstm_1 (<span style=\"color: #0087ff; text-decoration-color: #0087ff\">LSTM</span>)                        │ (<span style=\"color: #00d7ff; text-decoration-color: #00d7ff\">None</span>, <span style=\"color: #00af00; text-decoration-color: #00af00\">64</span>)                  │          <span style=\"color: #00af00; text-decoration-color: #00af00\">49,408</span> │\n",
       "├──────────────────────────────────────┼─────────────────────────────┼─────────────────┤\n",
       "│ dropout (<span style=\"color: #0087ff; text-decoration-color: #0087ff\">Dropout</span>)                    │ (<span style=\"color: #00d7ff; text-decoration-color: #00d7ff\">None</span>, <span style=\"color: #00af00; text-decoration-color: #00af00\">64</span>)                  │               <span style=\"color: #00af00; text-decoration-color: #00af00\">0</span> │\n",
       "├──────────────────────────────────────┼─────────────────────────────┼─────────────────┤\n",
       "│ dense (<span style=\"color: #0087ff; text-decoration-color: #0087ff\">Dense</span>)                        │ (<span style=\"color: #00d7ff; text-decoration-color: #00d7ff\">None</span>, <span style=\"color: #00af00; text-decoration-color: #00af00\">3</span>)                   │             <span style=\"color: #00af00; text-decoration-color: #00af00\">195</span> │\n",
       "└──────────────────────────────────────┴─────────────────────────────┴─────────────────┘\n",
       "</pre>\n"
      ],
      "text/plain": [
       "┏━━━━━━━━━━━━━━━━━━━━━━━━━━━━━━━━━━━━━━┳━━━━━━━━━━━━━━━━━━━━━━━━━━━━━┳━━━━━━━━━━━━━━━━━┓\n",
       "┃\u001b[1m \u001b[0m\u001b[1mLayer (type)                        \u001b[0m\u001b[1m \u001b[0m┃\u001b[1m \u001b[0m\u001b[1mOutput Shape               \u001b[0m\u001b[1m \u001b[0m┃\u001b[1m \u001b[0m\u001b[1m        Param #\u001b[0m\u001b[1m \u001b[0m┃\n",
       "┡━━━━━━━━━━━━━━━━━━━━━━━━━━━━━━━━━━━━━━╇━━━━━━━━━━━━━━━━━━━━━━━━━━━━━╇━━━━━━━━━━━━━━━━━┩\n",
       "│ embedding (\u001b[38;5;33mEmbedding\u001b[0m)                │ (\u001b[38;5;45mNone\u001b[0m, \u001b[38;5;34m100\u001b[0m, \u001b[38;5;34m100\u001b[0m)            │         \u001b[38;5;34m684,400\u001b[0m │\n",
       "├──────────────────────────────────────┼─────────────────────────────┼─────────────────┤\n",
       "│ lstm (\u001b[38;5;33mLSTM\u001b[0m)                          │ (\u001b[38;5;45mNone\u001b[0m, \u001b[38;5;34m100\u001b[0m, \u001b[38;5;34m128\u001b[0m)            │         \u001b[38;5;34m117,248\u001b[0m │\n",
       "├──────────────────────────────────────┼─────────────────────────────┼─────────────────┤\n",
       "│ lstm_1 (\u001b[38;5;33mLSTM\u001b[0m)                        │ (\u001b[38;5;45mNone\u001b[0m, \u001b[38;5;34m64\u001b[0m)                  │          \u001b[38;5;34m49,408\u001b[0m │\n",
       "├──────────────────────────────────────┼─────────────────────────────┼─────────────────┤\n",
       "│ dropout (\u001b[38;5;33mDropout\u001b[0m)                    │ (\u001b[38;5;45mNone\u001b[0m, \u001b[38;5;34m64\u001b[0m)                  │               \u001b[38;5;34m0\u001b[0m │\n",
       "├──────────────────────────────────────┼─────────────────────────────┼─────────────────┤\n",
       "│ dense (\u001b[38;5;33mDense\u001b[0m)                        │ (\u001b[38;5;45mNone\u001b[0m, \u001b[38;5;34m3\u001b[0m)                   │             \u001b[38;5;34m195\u001b[0m │\n",
       "└──────────────────────────────────────┴─────────────────────────────┴─────────────────┘\n"
      ]
     },
     "metadata": {},
     "output_type": "display_data"
    },
    {
     "data": {
      "text/html": [
       "<pre style=\"white-space:pre;overflow-x:auto;line-height:normal;font-family:Menlo,'DejaVu Sans Mono',consolas,'Courier New',monospace\"><span style=\"font-weight: bold\"> Total params: </span><span style=\"color: #00af00; text-decoration-color: #00af00\">851,251</span> (3.25 MB)\n",
       "</pre>\n"
      ],
      "text/plain": [
       "\u001b[1m Total params: \u001b[0m\u001b[38;5;34m851,251\u001b[0m (3.25 MB)\n"
      ]
     },
     "metadata": {},
     "output_type": "display_data"
    },
    {
     "data": {
      "text/html": [
       "<pre style=\"white-space:pre;overflow-x:auto;line-height:normal;font-family:Menlo,'DejaVu Sans Mono',consolas,'Courier New',monospace\"><span style=\"font-weight: bold\"> Trainable params: </span><span style=\"color: #00af00; text-decoration-color: #00af00\">166,851</span> (651.76 KB)\n",
       "</pre>\n"
      ],
      "text/plain": [
       "\u001b[1m Trainable params: \u001b[0m\u001b[38;5;34m166,851\u001b[0m (651.76 KB)\n"
      ]
     },
     "metadata": {},
     "output_type": "display_data"
    },
    {
     "data": {
      "text/html": [
       "<pre style=\"white-space:pre;overflow-x:auto;line-height:normal;font-family:Menlo,'DejaVu Sans Mono',consolas,'Courier New',monospace\"><span style=\"font-weight: bold\"> Non-trainable params: </span><span style=\"color: #00af00; text-decoration-color: #00af00\">684,400</span> (2.61 MB)\n",
       "</pre>\n"
      ],
      "text/plain": [
       "\u001b[1m Non-trainable params: \u001b[0m\u001b[38;5;34m684,400\u001b[0m (2.61 MB)\n"
      ]
     },
     "metadata": {},
     "output_type": "display_data"
    }
   ],
   "source": [
    "from tensorflow.keras.models import Sequential\n",
    "from tensorflow.keras.layers import Embedding, LSTM, Dense, Dropout,Input\n",
    "maxLen=100\n",
    "X_train = padded_sequences \n",
    "y_train = lmtpData[\"Sentiment\"].values  \n",
    "\n",
    "print(\"Padded shape:\", X_train.shape)  \n",
    "print(\"Labels shape:\", y_train.shape) \n",
    "\n",
    "model = Sequential([\n",
    "    Input(shape=(maxLen,)),\n",
    "    Embedding(input_dim=vocabSize,  \n",
    "              output_dim=embedding_dim, \n",
    "              weights=embeddingMatrix, \n",
    "             \n",
    "              trainable=False), \n",
    "    LSTM(128, return_sequences=True),\n",
    "    LSTM(64),\n",
    "    Dropout(0.3),\n",
    "    Dense(3, activation='softmax') \n",
    "])\n",
    "\n",
    "\n",
    "model.compile(loss='sparse_categorical_crossentropy', optimizer='adam', metrics=['accuracy'])\n",
    "\n",
    "model.summary()\n"
   ]
  },
  {
   "cell_type": "code",
   "execution_count": 17,
   "id": "aca9b75e",
   "metadata": {
    "execution": {
     "iopub.execute_input": "2025-03-07T13:32:35.698752Z",
     "iopub.status.busy": "2025-03-07T13:32:35.698341Z",
     "iopub.status.idle": "2025-03-07T13:33:22.609833Z",
     "shell.execute_reply": "2025-03-07T13:33:22.608462Z"
    },
    "papermill": {
     "duration": 46.925893,
     "end_time": "2025-03-07T13:33:22.611977",
     "exception": false,
     "start_time": "2025-03-07T13:32:35.686084",
     "status": "completed"
    },
    "tags": []
   },
   "outputs": [
    {
     "name": "stdout",
     "output_type": "stream",
     "text": [
      "Epoch 1/10\n",
      "\u001b[1m22/22\u001b[0m \u001b[32m━━━━━━━━━━━━━━━━━━━━\u001b[0m\u001b[37m\u001b[0m \u001b[1m8s\u001b[0m 215ms/step - accuracy: 0.7137 - loss: 0.9303 - val_accuracy: 0.7700 - val_loss: 0.6775\n",
      "Epoch 2/10\n",
      "\u001b[1m22/22\u001b[0m \u001b[32m━━━━━━━━━━━━━━━━━━━━\u001b[0m\u001b[37m\u001b[0m \u001b[1m4s\u001b[0m 193ms/step - accuracy: 0.7871 - loss: 0.6839 - val_accuracy: 0.7700 - val_loss: 0.7004\n",
      "Epoch 3/10\n",
      "\u001b[1m22/22\u001b[0m \u001b[32m━━━━━━━━━━━━━━━━━━━━\u001b[0m\u001b[37m\u001b[0m \u001b[1m4s\u001b[0m 196ms/step - accuracy: 0.7806 - loss: 0.7079 - val_accuracy: 0.7700 - val_loss: 0.7113\n",
      "Epoch 4/10\n",
      "\u001b[1m22/22\u001b[0m \u001b[32m━━━━━━━━━━━━━━━━━━━━\u001b[0m\u001b[37m\u001b[0m \u001b[1m4s\u001b[0m 195ms/step - accuracy: 0.7772 - loss: 0.7016 - val_accuracy: 0.7700 - val_loss: 0.6908\n",
      "Epoch 5/10\n",
      "\u001b[1m22/22\u001b[0m \u001b[32m━━━━━━━━━━━━━━━━━━━━\u001b[0m\u001b[37m\u001b[0m \u001b[1m4s\u001b[0m 197ms/step - accuracy: 0.7546 - loss: 0.7556 - val_accuracy: 0.7700 - val_loss: 0.7031\n",
      "Epoch 6/10\n",
      "\u001b[1m22/22\u001b[0m \u001b[32m━━━━━━━━━━━━━━━━━━━━\u001b[0m\u001b[37m\u001b[0m \u001b[1m5s\u001b[0m 208ms/step - accuracy: 0.7740 - loss: 0.7034 - val_accuracy: 0.7700 - val_loss: 0.6865\n",
      "Epoch 7/10\n",
      "\u001b[1m22/22\u001b[0m \u001b[32m━━━━━━━━━━━━━━━━━━━━\u001b[0m\u001b[37m\u001b[0m \u001b[1m4s\u001b[0m 195ms/step - accuracy: 0.7796 - loss: 0.6845 - val_accuracy: 0.7700 - val_loss: 0.6921\n",
      "Epoch 8/10\n",
      "\u001b[1m22/22\u001b[0m \u001b[32m━━━━━━━━━━━━━━━━━━━━\u001b[0m\u001b[37m\u001b[0m \u001b[1m4s\u001b[0m 198ms/step - accuracy: 0.7755 - loss: 0.6836 - val_accuracy: 0.7700 - val_loss: 0.7035\n",
      "Epoch 9/10\n",
      "\u001b[1m22/22\u001b[0m \u001b[32m━━━━━━━━━━━━━━━━━━━━\u001b[0m\u001b[37m\u001b[0m \u001b[1m4s\u001b[0m 194ms/step - accuracy: 0.7869 - loss: 0.6588 - val_accuracy: 0.7700 - val_loss: 0.7060\n",
      "Epoch 10/10\n",
      "\u001b[1m22/22\u001b[0m \u001b[32m━━━━━━━━━━━━━━━━━━━━\u001b[0m\u001b[37m\u001b[0m \u001b[1m4s\u001b[0m 198ms/step - accuracy: 0.7645 - loss: 0.7068 - val_accuracy: 0.7700 - val_loss: 0.7051\n"
     ]
    }
   ],
   "source": [
    "\n",
    "history=model.fit(X_train, y_train, epochs=10, batch_size=32, validation_split=0.3)\n",
    "\n"
   ]
  },
  {
   "cell_type": "markdown",
   "id": "de4760bb",
   "metadata": {
    "papermill": {
     "duration": 0.024082,
     "end_time": "2025-03-07T13:33:22.662946",
     "exception": false,
     "start_time": "2025-03-07T13:33:22.638864",
     "status": "completed"
    },
    "tags": []
   },
   "source": [
    "#### PLOTTING AND ACCURACY AND LOSS CURVES"
   ]
  },
  {
   "cell_type": "code",
   "execution_count": 18,
   "id": "f433b9e2",
   "metadata": {
    "execution": {
     "iopub.execute_input": "2025-03-07T13:33:22.716596Z",
     "iopub.status.busy": "2025-03-07T13:33:22.716142Z",
     "iopub.status.idle": "2025-03-07T13:33:22.721628Z",
     "shell.execute_reply": "2025-03-07T13:33:22.720571Z"
    },
    "papermill": {
     "duration": 0.034069,
     "end_time": "2025-03-07T13:33:22.723151",
     "exception": false,
     "start_time": "2025-03-07T13:33:22.689082",
     "status": "completed"
    },
    "tags": []
   },
   "outputs": [],
   "source": [
    "import matplotlib.pyplot as plt\n",
    "accuracy=history.history['accuracy']\n",
    "valAccuracy=history.history['val_accuracy']\n",
    "loss = history.history['loss']\n",
    "valLoss = history.history['val_loss']\n",
    "epochs_range = range(1, len(accuracy) + 1)"
   ]
  },
  {
   "cell_type": "code",
   "execution_count": 19,
   "id": "ef83ead8",
   "metadata": {
    "execution": {
     "iopub.execute_input": "2025-03-07T13:33:22.772996Z",
     "iopub.status.busy": "2025-03-07T13:33:22.772577Z",
     "iopub.status.idle": "2025-03-07T13:33:23.144717Z",
     "shell.execute_reply": "2025-03-07T13:33:23.143235Z"
    },
    "papermill": {
     "duration": 0.399259,
     "end_time": "2025-03-07T13:33:23.146379",
     "exception": false,
     "start_time": "2025-03-07T13:33:22.747120",
     "status": "completed"
    },
    "tags": []
   },
   "outputs": [
    {
     "data": {
      "text/plain": [
       "Text(0.5, 1.0, 'Training & Validation Accuracy')"
      ]
     },
     "execution_count": 19,
     "metadata": {},
     "output_type": "execute_result"
    },
    {
     "data": {
      "image/png": "[encoded data removed]",
      "text/plain": [
       "<Figure size 1200x500 with 1 Axes>"
      ]
     },
     "metadata": {},
     "output_type": "display_data"
    }
   ],
   "source": [
    "plt.figure(figsize=(12, 5))\n",
    "plt.subplot(1, 2, 1)\n",
    "plt.plot(epochs_range, accuracy, label='Training Accuracy', marker='o')\n",
    "plt.plot(epochs_range, valAccuracy, label='Validation Accuracy', marker='o')\n",
    "plt.legend(loc='lower right')\n",
    "plt.xlabel('Epochs')\n",
    "plt.ylabel('Accuracy')\n",
    "plt.title('Training & Validation Accuracy')"
   ]
  },
  {
   "cell_type": "code",
   "execution_count": 20,
   "id": "8b6004b3",
   "metadata": {
    "execution": {
     "iopub.execute_input": "2025-03-07T13:33:23.197994Z",
     "iopub.status.busy": "2025-03-07T13:33:23.197556Z",
     "iopub.status.idle": "2025-03-07T13:33:23.460872Z",
     "shell.execute_reply": "2025-03-07T13:33:23.459339Z"
    },
    "papermill": {
     "duration": 0.291263,
     "end_time": "2025-03-07T13:33:23.462773",
     "exception": false,
     "start_time": "2025-03-07T13:33:23.171510",
     "status": "completed"
    },
    "tags": []
   },
   "outputs": [
    {
     "data": {
      "text/plain": [
       "Text(0.5, 1.0, 'Training & Validation Loss')"
      ]
     },
     "execution_count": 20,
     "metadata": {},
     "output_type": "execute_result"
    },
    {
     "data": {
      "image/png": "[encoded data removed]",
      "text/plain": [
       "<Figure size 1200x500 with 1 Axes>"
      ]
     },
     "metadata": {},
     "output_type": "display_data"
    }
   ],
   "source": [
    "plt.figure(figsize=(12, 5))\n",
    "plt.subplot(1, 2, 2)\n",
    "plt.plot(epochs_range, loss, label='Training Loss', marker='o')\n",
    "plt.plot(epochs_range, valLoss, label='Validation Loss', marker='o')\n",
    "plt.legend(loc='upper right')\n",
    "plt.xlabel('Epochs')\n",
    "plt.ylabel('Loss')\n",
    "plt.title('Training & Validation Loss')"
   ]
  },
  {
   "cell_type": "markdown",
   "id": "4893c095",
   "metadata": {
    "papermill": {
     "duration": 0.025481,
     "end_time": "2025-03-07T13:33:23.514844",
     "exception": false,
     "start_time": "2025-03-07T13:33:23.489363",
     "status": "completed"
    },
    "tags": []
   },
   "source": [
    "##### overfitting"
   ]
  },
  {
   "cell_type": "markdown",
   "id": "25f6621e",
   "metadata": {
    "papermill": {
     "duration": 0.025323,
     "end_time": "2025-03-07T13:33:23.566468",
     "exception": false,
     "start_time": "2025-03-07T13:33:23.541145",
     "status": "completed"
    },
    "tags": []
   },
   "source": [
    "### OUTPUT VS PREDICTED OUTPUT\n"
   ]
  },
  {
   "cell_type": "code",
   "execution_count": 21,
   "id": "07dbcd77",
   "metadata": {
    "execution": {
     "iopub.execute_input": "2025-03-07T13:33:23.619839Z",
     "iopub.status.busy": "2025-03-07T13:33:23.619378Z",
     "iopub.status.idle": "2025-03-07T13:33:26.368445Z",
     "shell.execute_reply": "2025-03-07T13:33:26.366977Z"
    },
    "papermill": {
     "duration": 2.778436,
     "end_time": "2025-03-07T13:33:26.370616",
     "exception": false,
     "start_time": "2025-03-07T13:33:23.592180",
     "status": "completed"
    },
    "tags": []
   },
   "outputs": [
    {
     "name": "stdout",
     "output_type": "stream",
     "text": [
      "\u001b[1m32/32\u001b[0m \u001b[32m━━━━━━━━━━━━━━━━━━━━\u001b[0m\u001b[37m\u001b[0m \u001b[1m3s\u001b[0m 74ms/step\n"
     ]
    }
   ],
   "source": [
    "predictions=model.predict(padded_sequences)\n",
    "predictedClasses=np.argmax(predictions,axis=1)"
   ]
  },
  {
   "cell_type": "code",
   "execution_count": 22,
   "id": "db2bd8ac",
   "metadata": {
    "execution": {
     "iopub.execute_input": "2025-03-07T13:33:26.486058Z",
     "iopub.status.busy": "2025-03-07T13:33:26.485615Z",
     "iopub.status.idle": "2025-03-07T13:33:26.498396Z",
     "shell.execute_reply": "2025-03-07T13:33:26.496962Z"
    },
    "papermill": {
     "duration": 0.044973,
     "end_time": "2025-03-07T13:33:26.500593",
     "exception": false,
     "start_time": "2025-03-07T13:33:26.455620",
     "status": "completed"
    },
    "tags": []
   },
   "outputs": [
    {
     "data": {
      "text/html": [
       "<div>\n",
       "<style scoped>\n",
       "    .dataframe tbody tr th:only-of-type {\n",
       "        vertical-align: middle;\n",
       "    }\n",
       "\n",
       "    .dataframe tbody tr th {\n",
       "        vertical-align: top;\n",
       "    }\n",
       "\n",
       "    .dataframe thead th {\n",
       "        text-align: right;\n",
       "    }\n",
       "</style>\n",
       "<table border=\"1\" class=\"dataframe\">\n",
       "  <thead>\n",
       "    <tr style=\"text-align: right;\">\n",
       "      <th></th>\n",
       "      <th>Text</th>\n",
       "      <th>Actual Sentiment</th>\n",
       "      <th>Predicted Sentiment</th>\n",
       "    </tr>\n",
       "  </thead>\n",
       "  <tbody>\n",
       "    <tr>\n",
       "      <th>329374</th>\n",
       "      <td>Best Soup Ever This soup is in a class by itse...</td>\n",
       "      <td>1</td>\n",
       "      <td>1</td>\n",
       "    </tr>\n",
       "    <tr>\n",
       "      <th>484157</th>\n",
       "      <td>Absolutely delicious!!! Excellent product- has...</td>\n",
       "      <td>1</td>\n",
       "      <td>1</td>\n",
       "    </tr>\n",
       "    <tr>\n",
       "      <th>115845</th>\n",
       "      <td>Best Cuppa English Tea (In My Book) First off,...</td>\n",
       "      <td>1</td>\n",
       "      <td>1</td>\n",
       "    </tr>\n",
       "    <tr>\n",
       "      <th>540486</th>\n",
       "      <td>Delicious coffee I have tried many strengths o...</td>\n",
       "      <td>1</td>\n",
       "      <td>1</td>\n",
       "    </tr>\n",
       "    <tr>\n",
       "      <th>536330</th>\n",
       "      <td>best dog food on the market When I first found...</td>\n",
       "      <td>1</td>\n",
       "      <td>1</td>\n",
       "    </tr>\n",
       "    <tr>\n",
       "      <th>49178</th>\n",
       "      <td>Yummiest!! Oh, garibaldi biscuits, how I have ...</td>\n",
       "      <td>1</td>\n",
       "      <td>1</td>\n",
       "    </tr>\n",
       "    <tr>\n",
       "      <th>241486</th>\n",
       "      <td>Blah!!! If you like the taste of cardboard, yo...</td>\n",
       "      <td>0</td>\n",
       "      <td>1</td>\n",
       "    </tr>\n",
       "    <tr>\n",
       "      <th>189229</th>\n",
       "      <td>Just okay...not exactly what I hoped for I hav...</td>\n",
       "      <td>2</td>\n",
       "      <td>1</td>\n",
       "    </tr>\n",
       "    <tr>\n",
       "      <th>261384</th>\n",
       "      <td>excellent nonfat dessert this is a great optio...</td>\n",
       "      <td>1</td>\n",
       "      <td>1</td>\n",
       "    </tr>\n",
       "    <tr>\n",
       "      <th>339998</th>\n",
       "      <td>Fruit Stripe Gum Tastes just like it did when ...</td>\n",
       "      <td>1</td>\n",
       "      <td>1</td>\n",
       "    </tr>\n",
       "  </tbody>\n",
       "</table>\n",
       "</div>"
      ],
      "text/plain": [
       "                                                     Text  Actual Sentiment  \\\n",
       "329374  Best Soup Ever This soup is in a class by itse...                 1   \n",
       "484157  Absolutely delicious!!! Excellent product- has...                 1   \n",
       "115845  Best Cuppa English Tea (In My Book) First off,...                 1   \n",
       "540486  Delicious coffee I have tried many strengths o...                 1   \n",
       "536330  best dog food on the market When I first found...                 1   \n",
       "49178   Yummiest!! Oh, garibaldi biscuits, how I have ...                 1   \n",
       "241486  Blah!!! If you like the taste of cardboard, yo...                 0   \n",
       "189229  Just okay...not exactly what I hoped for I hav...                 2   \n",
       "261384  excellent nonfat dessert this is a great optio...                 1   \n",
       "339998  Fruit Stripe Gum Tastes just like it did when ...                 1   \n",
       "\n",
       "        Predicted Sentiment  \n",
       "329374                    1  \n",
       "484157                    1  \n",
       "115845                    1  \n",
       "540486                    1  \n",
       "536330                    1  \n",
       "49178                     1  \n",
       "241486                    1  \n",
       "189229                    1  \n",
       "261384                    1  \n",
       "339998                    1  "
      ]
     },
     "execution_count": 22,
     "metadata": {},
     "output_type": "execute_result"
    }
   ],
   "source": [
    "comparisonData=pd.DataFrame({\n",
    "    \"Text\":lmtpData[\"CombinedText\"],\n",
    "    \"Actual Sentiment\":lmtpData[\"Sentiment\"].values,\n",
    "    \"Predicted Sentiment\":predictedClasses\n",
    "})\n",
    "comparisonData.head(10)"
   ]
  },
  {
   "cell_type": "code",
   "execution_count": 23,
   "id": "eb834179",
   "metadata": {
    "execution": {
     "iopub.execute_input": "2025-03-07T13:33:26.561916Z",
     "iopub.status.busy": "2025-03-07T13:33:26.561543Z",
     "iopub.status.idle": "2025-03-07T13:33:26.572751Z",
     "shell.execute_reply": "2025-03-07T13:33:26.571677Z"
    },
    "papermill": {
     "duration": 0.043764,
     "end_time": "2025-03-07T13:33:26.574443",
     "exception": false,
     "start_time": "2025-03-07T13:33:26.530679",
     "status": "completed"
    },
    "tags": []
   },
   "outputs": [
    {
     "data": {
      "text/html": [
       "<div>\n",
       "<style scoped>\n",
       "    .dataframe tbody tr th:only-of-type {\n",
       "        vertical-align: middle;\n",
       "    }\n",
       "\n",
       "    .dataframe tbody tr th {\n",
       "        vertical-align: top;\n",
       "    }\n",
       "\n",
       "    .dataframe thead th {\n",
       "        text-align: right;\n",
       "    }\n",
       "</style>\n",
       "<table border=\"1\" class=\"dataframe\">\n",
       "  <thead>\n",
       "    <tr style=\"text-align: right;\">\n",
       "      <th></th>\n",
       "      <th>Text</th>\n",
       "      <th>Actual Sentiment</th>\n",
       "      <th>Predicted Sentiment</th>\n",
       "    </tr>\n",
       "  </thead>\n",
       "  <tbody>\n",
       "    <tr>\n",
       "      <th>329374</th>\n",
       "      <td>Best Soup Ever This soup is in a class by itse...</td>\n",
       "      <td>1</td>\n",
       "      <td>1</td>\n",
       "    </tr>\n",
       "    <tr>\n",
       "      <th>484157</th>\n",
       "      <td>Absolutely delicious!!! Excellent product- has...</td>\n",
       "      <td>1</td>\n",
       "      <td>1</td>\n",
       "    </tr>\n",
       "    <tr>\n",
       "      <th>115845</th>\n",
       "      <td>Best Cuppa English Tea (In My Book) First off,...</td>\n",
       "      <td>1</td>\n",
       "      <td>1</td>\n",
       "    </tr>\n",
       "    <tr>\n",
       "      <th>540486</th>\n",
       "      <td>Delicious coffee I have tried many strengths o...</td>\n",
       "      <td>1</td>\n",
       "      <td>1</td>\n",
       "    </tr>\n",
       "    <tr>\n",
       "      <th>536330</th>\n",
       "      <td>best dog food on the market When I first found...</td>\n",
       "      <td>1</td>\n",
       "      <td>1</td>\n",
       "    </tr>\n",
       "    <tr>\n",
       "      <th>49178</th>\n",
       "      <td>Yummiest!! Oh, garibaldi biscuits, how I have ...</td>\n",
       "      <td>1</td>\n",
       "      <td>1</td>\n",
       "    </tr>\n",
       "    <tr>\n",
       "      <th>241486</th>\n",
       "      <td>Blah!!! If you like the taste of cardboard, yo...</td>\n",
       "      <td>0</td>\n",
       "      <td>1</td>\n",
       "    </tr>\n",
       "    <tr>\n",
       "      <th>189229</th>\n",
       "      <td>Just okay...not exactly what I hoped for I hav...</td>\n",
       "      <td>2</td>\n",
       "      <td>1</td>\n",
       "    </tr>\n",
       "    <tr>\n",
       "      <th>261384</th>\n",
       "      <td>excellent nonfat dessert this is a great optio...</td>\n",
       "      <td>1</td>\n",
       "      <td>1</td>\n",
       "    </tr>\n",
       "    <tr>\n",
       "      <th>339998</th>\n",
       "      <td>Fruit Stripe Gum Tastes just like it did when ...</td>\n",
       "      <td>1</td>\n",
       "      <td>1</td>\n",
       "    </tr>\n",
       "    <tr>\n",
       "      <th>339723</th>\n",
       "      <td>Okay I dislike the taste of this product I can...</td>\n",
       "      <td>0</td>\n",
       "      <td>1</td>\n",
       "    </tr>\n",
       "    <tr>\n",
       "      <th>151008</th>\n",
       "      <td>good flavor, perfect crunchy texture My 10 mon...</td>\n",
       "      <td>1</td>\n",
       "      <td>1</td>\n",
       "    </tr>\n",
       "    <tr>\n",
       "      <th>428306</th>\n",
       "      <td>Great chai product The product had a great tas...</td>\n",
       "      <td>1</td>\n",
       "      <td>1</td>\n",
       "    </tr>\n",
       "    <tr>\n",
       "      <th>566848</th>\n",
       "      <td>Great addition to hot sauce collection. This h...</td>\n",
       "      <td>1</td>\n",
       "      <td>1</td>\n",
       "    </tr>\n",
       "    <tr>\n",
       "      <th>344052</th>\n",
       "      <td>Old timey Great tasting if you have the time t...</td>\n",
       "      <td>2</td>\n",
       "      <td>1</td>\n",
       "    </tr>\n",
       "    <tr>\n",
       "      <th>134389</th>\n",
       "      <td>Problem solved Love this product. I was having...</td>\n",
       "      <td>1</td>\n",
       "      <td>1</td>\n",
       "    </tr>\n",
       "    <tr>\n",
       "      <th>534098</th>\n",
       "      <td>Great healthy dog food I'm very pleased with t...</td>\n",
       "      <td>1</td>\n",
       "      <td>1</td>\n",
       "    </tr>\n",
       "    <tr>\n",
       "      <th>533249</th>\n",
       "      <td>Heavenly Saw these online thought something di...</td>\n",
       "      <td>1</td>\n",
       "      <td>1</td>\n",
       "    </tr>\n",
       "    <tr>\n",
       "      <th>192069</th>\n",
       "      <td>Gak! I am not a finicky eater, and I love most...</td>\n",
       "      <td>0</td>\n",
       "      <td>1</td>\n",
       "    </tr>\n",
       "    <tr>\n",
       "      <th>347407</th>\n",
       "      <td>Can't live without them! My husband is vegetar...</td>\n",
       "      <td>1</td>\n",
       "      <td>1</td>\n",
       "    </tr>\n",
       "  </tbody>\n",
       "</table>\n",
       "</div>"
      ],
      "text/plain": [
       "                                                     Text  Actual Sentiment  \\\n",
       "329374  Best Soup Ever This soup is in a class by itse...                 1   \n",
       "484157  Absolutely delicious!!! Excellent product- has...                 1   \n",
       "115845  Best Cuppa English Tea (In My Book) First off,...                 1   \n",
       "540486  Delicious coffee I have tried many strengths o...                 1   \n",
       "536330  best dog food on the market When I first found...                 1   \n",
       "49178   Yummiest!! Oh, garibaldi biscuits, how I have ...                 1   \n",
       "241486  Blah!!! If you like the taste of cardboard, yo...                 0   \n",
       "189229  Just okay...not exactly what I hoped for I hav...                 2   \n",
       "261384  excellent nonfat dessert this is a great optio...                 1   \n",
       "339998  Fruit Stripe Gum Tastes just like it did when ...                 1   \n",
       "339723  Okay I dislike the taste of this product I can...                 0   \n",
       "151008  good flavor, perfect crunchy texture My 10 mon...                 1   \n",
       "428306  Great chai product The product had a great tas...                 1   \n",
       "566848  Great addition to hot sauce collection. This h...                 1   \n",
       "344052  Old timey Great tasting if you have the time t...                 2   \n",
       "134389  Problem solved Love this product. I was having...                 1   \n",
       "534098  Great healthy dog food I'm very pleased with t...                 1   \n",
       "533249  Heavenly Saw these online thought something di...                 1   \n",
       "192069  Gak! I am not a finicky eater, and I love most...                 0   \n",
       "347407  Can't live without them! My husband is vegetar...                 1   \n",
       "\n",
       "        Predicted Sentiment  \n",
       "329374                    1  \n",
       "484157                    1  \n",
       "115845                    1  \n",
       "540486                    1  \n",
       "536330                    1  \n",
       "49178                     1  \n",
       "241486                    1  \n",
       "189229                    1  \n",
       "261384                    1  \n",
       "339998                    1  \n",
       "339723                    1  \n",
       "151008                    1  \n",
       "428306                    1  \n",
       "566848                    1  \n",
       "344052                    1  \n",
       "134389                    1  \n",
       "534098                    1  \n",
       "533249                    1  \n",
       "192069                    1  \n",
       "347407                    1  "
      ]
     },
     "execution_count": 23,
     "metadata": {},
     "output_type": "execute_result"
    }
   ],
   "source": [
    "comparisonData.head(20)"
   ]
  },
  {
   "cell_type": "code",
   "execution_count": null,
   "id": "d87e7e57",
   "metadata": {
    "papermill": {
     "duration": 0.029121,
     "end_time": "2025-03-07T13:33:26.633111",
     "exception": false,
     "start_time": "2025-03-07T13:33:26.603990",
     "status": "completed"
    },
    "tags": []
   },
   "outputs": [],
   "source": []
  },
  {
   "cell_type": "markdown",
   "id": "b32515f7",
   "metadata": {
    "papermill": {
     "duration": 0.029961,
     "end_time": "2025-03-07T13:33:26.692205",
     "exception": false,
     "start_time": "2025-03-07T13:33:26.662244",
     "status": "completed"
    },
    "tags": []
   },
   "source": [
    "## TRAINING USING NEW SAMPLE DATASET"
   ]
  },
  {
   "cell_type": "code",
   "execution_count": 24,
   "id": "6e780e5f",
   "metadata": {
    "execution": {
     "iopub.execute_input": "2025-03-07T13:33:26.752840Z",
     "iopub.status.busy": "2025-03-07T13:33:26.752421Z",
     "iopub.status.idle": "2025-03-07T13:33:26.880689Z",
     "shell.execute_reply": "2025-03-07T13:33:26.879410Z"
    },
    "papermill": {
     "duration": 0.160045,
     "end_time": "2025-03-07T13:33:26.882762",
     "exception": false,
     "start_time": "2025-03-07T13:33:26.722717",
     "status": "completed"
    },
    "tags": []
   },
   "outputs": [
    {
     "data": {
      "text/html": [
       "<div>\n",
       "<style scoped>\n",
       "    .dataframe tbody tr th:only-of-type {\n",
       "        vertical-align: middle;\n",
       "    }\n",
       "\n",
       "    .dataframe tbody tr th {\n",
       "        vertical-align: top;\n",
       "    }\n",
       "\n",
       "    .dataframe thead th {\n",
       "        text-align: right;\n",
       "    }\n",
       "</style>\n",
       "<table border=\"1\" class=\"dataframe\">\n",
       "  <thead>\n",
       "    <tr style=\"text-align: right;\">\n",
       "      <th></th>\n",
       "      <th>Id</th>\n",
       "      <th>ProductId</th>\n",
       "      <th>UserId</th>\n",
       "      <th>ProfileName</th>\n",
       "      <th>HelpfulnessNumerator</th>\n",
       "      <th>HelpfulnessDenominator</th>\n",
       "      <th>Score</th>\n",
       "      <th>Time</th>\n",
       "      <th>Summary</th>\n",
       "      <th>Text</th>\n",
       "    </tr>\n",
       "  </thead>\n",
       "  <tbody>\n",
       "    <tr>\n",
       "      <th>150208</th>\n",
       "      <td>150209</td>\n",
       "      <td>B0029JHHO2</td>\n",
       "      <td>A1XINNG3IMIBSR</td>\n",
       "      <td>Jim</td>\n",
       "      <td>0</td>\n",
       "      <td>0</td>\n",
       "      <td>4</td>\n",
       "      <td>1339977600</td>\n",
       "      <td>The artificial taste grew on me</td>\n",
       "      <td>My wife picked these up for my 4 year old, sin...</td>\n",
       "    </tr>\n",
       "    <tr>\n",
       "      <th>541135</th>\n",
       "      <td>541136</td>\n",
       "      <td>B000FMTJJQ</td>\n",
       "      <td>A1CZZFK4TG9L44</td>\n",
       "      <td>Brent Shellhorse</td>\n",
       "      <td>0</td>\n",
       "      <td>0</td>\n",
       "      <td>5</td>\n",
       "      <td>1197936000</td>\n",
       "      <td>great tasting good for kids</td>\n",
       "      <td>We have started using this instead of sugar an...</td>\n",
       "    </tr>\n",
       "    <tr>\n",
       "      <th>480355</th>\n",
       "      <td>480356</td>\n",
       "      <td>B000DZDJ0K</td>\n",
       "      <td>AU4SGJS71ZV55</td>\n",
       "      <td>Charlotta HIbbs</td>\n",
       "      <td>0</td>\n",
       "      <td>0</td>\n",
       "      <td>5</td>\n",
       "      <td>1304380800</td>\n",
       "      <td>Great waffles...</td>\n",
       "      <td>This gluten-free flour mix is great for waffle...</td>\n",
       "    </tr>\n",
       "    <tr>\n",
       "      <th>363032</th>\n",
       "      <td>363033</td>\n",
       "      <td>B0049WV8S8</td>\n",
       "      <td>A3BYK09E8ARIFB</td>\n",
       "      <td>RMB \"pensman\"</td>\n",
       "      <td>0</td>\n",
       "      <td>0</td>\n",
       "      <td>5</td>\n",
       "      <td>1350432000</td>\n",
       "      <td>Easier than pan frying</td>\n",
       "      <td>I place a paper towel on the grilling plate an...</td>\n",
       "    </tr>\n",
       "    <tr>\n",
       "      <th>555884</th>\n",
       "      <td>555885</td>\n",
       "      <td>B001TLY7BM</td>\n",
       "      <td>A188O75EI73BUH</td>\n",
       "      <td>Molly and Charlie</td>\n",
       "      <td>9</td>\n",
       "      <td>13</td>\n",
       "      <td>1</td>\n",
       "      <td>1324512000</td>\n",
       "      <td>made in the USA and made in Thailand, do they ...</td>\n",
       "      <td>I have two cats that are very picky eaters, so...</td>\n",
       "    </tr>\n",
       "  </tbody>\n",
       "</table>\n",
       "</div>"
      ],
      "text/plain": [
       "            Id   ProductId          UserId        ProfileName  \\\n",
       "150208  150209  B0029JHHO2  A1XINNG3IMIBSR                Jim   \n",
       "541135  541136  B000FMTJJQ  A1CZZFK4TG9L44   Brent Shellhorse   \n",
       "480355  480356  B000DZDJ0K   AU4SGJS71ZV55    Charlotta HIbbs   \n",
       "363032  363033  B0049WV8S8  A3BYK09E8ARIFB      RMB \"pensman\"   \n",
       "555884  555885  B001TLY7BM  A188O75EI73BUH  Molly and Charlie   \n",
       "\n",
       "        HelpfulnessNumerator  HelpfulnessDenominator  Score        Time  \\\n",
       "150208                     0                       0      4  1339977600   \n",
       "541135                     0                       0      5  1197936000   \n",
       "480355                     0                       0      5  1304380800   \n",
       "363032                     0                       0      5  1350432000   \n",
       "555884                     9                      13      1  1324512000   \n",
       "\n",
       "                                                  Summary  \\\n",
       "150208                    The artificial taste grew on me   \n",
       "541135                        great tasting good for kids   \n",
       "480355                                   Great waffles...   \n",
       "363032                             Easier than pan frying   \n",
       "555884  made in the USA and made in Thailand, do they ...   \n",
       "\n",
       "                                                     Text  \n",
       "150208  My wife picked these up for my 4 year old, sin...  \n",
       "541135  We have started using this instead of sugar an...  \n",
       "480355  This gluten-free flour mix is great for waffle...  \n",
       "363032  I place a paper towel on the grilling plate an...  \n",
       "555884  I have two cats that are very picky eaters, so...  "
      ]
     },
     "execution_count": 24,
     "metadata": {},
     "output_type": "execute_result"
    }
   ],
   "source": [
    "droppedData=dataset.drop(lmtpData.index)\n",
    "dataset2=droppedData.sample(1000,random_state=43)\n",
    "dataset2.head()"
   ]
  },
  {
   "cell_type": "code",
   "execution_count": 25,
   "id": "166d6492",
   "metadata": {
    "execution": {
     "iopub.execute_input": "2025-03-07T13:33:26.940996Z",
     "iopub.status.busy": "2025-03-07T13:33:26.940564Z",
     "iopub.status.idle": "2025-03-07T13:33:26.952759Z",
     "shell.execute_reply": "2025-03-07T13:33:26.951598Z"
    },
    "papermill": {
     "duration": 0.043336,
     "end_time": "2025-03-07T13:33:26.954660",
     "exception": false,
     "start_time": "2025-03-07T13:33:26.911324",
     "status": "completed"
    },
    "tags": []
   },
   "outputs": [
    {
     "data": {
      "text/html": [
       "<div>\n",
       "<style scoped>\n",
       "    .dataframe tbody tr th:only-of-type {\n",
       "        vertical-align: middle;\n",
       "    }\n",
       "\n",
       "    .dataframe tbody tr th {\n",
       "        vertical-align: top;\n",
       "    }\n",
       "\n",
       "    .dataframe thead th {\n",
       "        text-align: right;\n",
       "    }\n",
       "</style>\n",
       "<table border=\"1\" class=\"dataframe\">\n",
       "  <thead>\n",
       "    <tr style=\"text-align: right;\">\n",
       "      <th></th>\n",
       "      <th>Score</th>\n",
       "      <th>Summary</th>\n",
       "      <th>Text</th>\n",
       "    </tr>\n",
       "  </thead>\n",
       "  <tbody>\n",
       "    <tr>\n",
       "      <th>150208</th>\n",
       "      <td>4</td>\n",
       "      <td>The artificial taste grew on me</td>\n",
       "      <td>My wife picked these up for my 4 year old, sin...</td>\n",
       "    </tr>\n",
       "    <tr>\n",
       "      <th>541135</th>\n",
       "      <td>5</td>\n",
       "      <td>great tasting good for kids</td>\n",
       "      <td>We have started using this instead of sugar an...</td>\n",
       "    </tr>\n",
       "    <tr>\n",
       "      <th>480355</th>\n",
       "      <td>5</td>\n",
       "      <td>Great waffles...</td>\n",
       "      <td>This gluten-free flour mix is great for waffle...</td>\n",
       "    </tr>\n",
       "    <tr>\n",
       "      <th>363032</th>\n",
       "      <td>5</td>\n",
       "      <td>Easier than pan frying</td>\n",
       "      <td>I place a paper towel on the grilling plate an...</td>\n",
       "    </tr>\n",
       "    <tr>\n",
       "      <th>555884</th>\n",
       "      <td>1</td>\n",
       "      <td>made in the USA and made in Thailand, do they ...</td>\n",
       "      <td>I have two cats that are very picky eaters, so...</td>\n",
       "    </tr>\n",
       "  </tbody>\n",
       "</table>\n",
       "</div>"
      ],
      "text/plain": [
       "        Score                                            Summary  \\\n",
       "150208      4                    The artificial taste grew on me   \n",
       "541135      5                        great tasting good for kids   \n",
       "480355      5                                   Great waffles...   \n",
       "363032      5                             Easier than pan frying   \n",
       "555884      1  made in the USA and made in Thailand, do they ...   \n",
       "\n",
       "                                                     Text  \n",
       "150208  My wife picked these up for my 4 year old, sin...  \n",
       "541135  We have started using this instead of sugar an...  \n",
       "480355  This gluten-free flour mix is great for waffle...  \n",
       "363032  I place a paper towel on the grilling plate an...  \n",
       "555884  I have two cats that are very picky eaters, so...  "
      ]
     },
     "execution_count": 25,
     "metadata": {},
     "output_type": "execute_result"
    }
   ],
   "source": [
    "lmtpData2=dataset2[['Score','Summary','Text']]\n",
    "lmtpData2.head()"
   ]
  },
  {
   "cell_type": "code",
   "execution_count": 26,
   "id": "2d8ed170",
   "metadata": {
    "execution": {
     "iopub.execute_input": "2025-03-07T13:33:27.017519Z",
     "iopub.status.busy": "2025-03-07T13:33:27.017088Z",
     "iopub.status.idle": "2025-03-07T13:33:27.026499Z",
     "shell.execute_reply": "2025-03-07T13:33:27.025122Z"
    },
    "papermill": {
     "duration": 0.043043,
     "end_time": "2025-03-07T13:33:27.028646",
     "exception": false,
     "start_time": "2025-03-07T13:33:26.985603",
     "status": "completed"
    },
    "tags": []
   },
   "outputs": [],
   "source": [
    "lmtpData2 = lmtpData2.copy()\n",
    "lmtpData2['Summary'] = lmtpData2['Summary'].fillna(\"\")\n",
    "lmtpData2['CombinedText'] = lmtpData2['Summary'] + \" \" + lmtpData2['Text']\n"
   ]
  },
  {
   "cell_type": "code",
   "execution_count": 27,
   "id": "7786a9ed",
   "metadata": {
    "execution": {
     "iopub.execute_input": "2025-03-07T13:33:27.090595Z",
     "iopub.status.busy": "2025-03-07T13:33:27.090152Z",
     "iopub.status.idle": "2025-03-07T13:33:27.103055Z",
     "shell.execute_reply": "2025-03-07T13:33:27.101952Z"
    },
    "papermill": {
     "duration": 0.045879,
     "end_time": "2025-03-07T13:33:27.105009",
     "exception": false,
     "start_time": "2025-03-07T13:33:27.059130",
     "status": "completed"
    },
    "tags": []
   },
   "outputs": [
    {
     "name": "stdout",
     "output_type": "stream",
     "text": [
      "<class 'pandas.core.frame.DataFrame'>\n",
      "Index: 1000 entries, 150208 to 28993\n",
      "Data columns (total 4 columns):\n",
      " #   Column        Non-Null Count  Dtype \n",
      "---  ------        --------------  ----- \n",
      " 0   Score         1000 non-null   int64 \n",
      " 1   Summary       1000 non-null   object\n",
      " 2   Text          1000 non-null   object\n",
      " 3   CombinedText  1000 non-null   object\n",
      "dtypes: int64(1), object(3)\n",
      "memory usage: 39.1+ KB\n"
     ]
    }
   ],
   "source": [
    "lmtpData2.info()"
   ]
  },
  {
   "cell_type": "markdown",
   "id": "86c9cbc5",
   "metadata": {
    "papermill": {
     "duration": 0.029754,
     "end_time": "2025-03-07T13:33:27.164819",
     "exception": false,
     "start_time": "2025-03-07T13:33:27.135065",
     "status": "completed"
    },
    "tags": []
   },
   "source": []
  },
  {
   "cell_type": "code",
   "execution_count": 28,
   "id": "2cdbedbe",
   "metadata": {
    "execution": {
     "iopub.execute_input": "2025-03-07T13:33:27.225727Z",
     "iopub.status.busy": "2025-03-07T13:33:27.225266Z",
     "iopub.status.idle": "2025-03-07T13:33:27.238945Z",
     "shell.execute_reply": "2025-03-07T13:33:27.237805Z"
    },
    "papermill": {
     "duration": 0.046397,
     "end_time": "2025-03-07T13:33:27.240843",
     "exception": false,
     "start_time": "2025-03-07T13:33:27.194446",
     "status": "completed"
    },
    "tags": []
   },
   "outputs": [
    {
     "data": {
      "text/html": [
       "<div>\n",
       "<style scoped>\n",
       "    .dataframe tbody tr th:only-of-type {\n",
       "        vertical-align: middle;\n",
       "    }\n",
       "\n",
       "    .dataframe tbody tr th {\n",
       "        vertical-align: top;\n",
       "    }\n",
       "\n",
       "    .dataframe thead th {\n",
       "        text-align: right;\n",
       "    }\n",
       "</style>\n",
       "<table border=\"1\" class=\"dataframe\">\n",
       "  <thead>\n",
       "    <tr style=\"text-align: right;\">\n",
       "      <th></th>\n",
       "      <th>Score</th>\n",
       "      <th>Summary</th>\n",
       "      <th>Text</th>\n",
       "      <th>CombinedText</th>\n",
       "      <th>Sentiment</th>\n",
       "    </tr>\n",
       "  </thead>\n",
       "  <tbody>\n",
       "    <tr>\n",
       "      <th>150208</th>\n",
       "      <td>4</td>\n",
       "      <td>The artificial taste grew on me</td>\n",
       "      <td>My wife picked these up for my 4 year old, sin...</td>\n",
       "      <td>The artificial taste grew on me My wife picked...</td>\n",
       "      <td>1</td>\n",
       "    </tr>\n",
       "    <tr>\n",
       "      <th>541135</th>\n",
       "      <td>5</td>\n",
       "      <td>great tasting good for kids</td>\n",
       "      <td>We have started using this instead of sugar an...</td>\n",
       "      <td>great tasting good for kids We have started us...</td>\n",
       "      <td>1</td>\n",
       "    </tr>\n",
       "    <tr>\n",
       "      <th>480355</th>\n",
       "      <td>5</td>\n",
       "      <td>Great waffles...</td>\n",
       "      <td>This gluten-free flour mix is great for waffle...</td>\n",
       "      <td>Great waffles... This gluten-free flour mix is...</td>\n",
       "      <td>1</td>\n",
       "    </tr>\n",
       "    <tr>\n",
       "      <th>363032</th>\n",
       "      <td>5</td>\n",
       "      <td>Easier than pan frying</td>\n",
       "      <td>I place a paper towel on the grilling plate an...</td>\n",
       "      <td>Easier than pan frying I place a paper towel o...</td>\n",
       "      <td>1</td>\n",
       "    </tr>\n",
       "    <tr>\n",
       "      <th>555884</th>\n",
       "      <td>1</td>\n",
       "      <td>made in the USA and made in Thailand, do they ...</td>\n",
       "      <td>I have two cats that are very picky eaters, so...</td>\n",
       "      <td>made in the USA and made in Thailand, do they ...</td>\n",
       "      <td>0</td>\n",
       "    </tr>\n",
       "  </tbody>\n",
       "</table>\n",
       "</div>"
      ],
      "text/plain": [
       "        Score                                            Summary  \\\n",
       "150208      4                    The artificial taste grew on me   \n",
       "541135      5                        great tasting good for kids   \n",
       "480355      5                                   Great waffles...   \n",
       "363032      5                             Easier than pan frying   \n",
       "555884      1  made in the USA and made in Thailand, do they ...   \n",
       "\n",
       "                                                     Text  \\\n",
       "150208  My wife picked these up for my 4 year old, sin...   \n",
       "541135  We have started using this instead of sugar an...   \n",
       "480355  This gluten-free flour mix is great for waffle...   \n",
       "363032  I place a paper towel on the grilling plate an...   \n",
       "555884  I have two cats that are very picky eaters, so...   \n",
       "\n",
       "                                             CombinedText  Sentiment  \n",
       "150208  The artificial taste grew on me My wife picked...          1  \n",
       "541135  great tasting good for kids We have started us...          1  \n",
       "480355  Great waffles... This gluten-free flour mix is...          1  \n",
       "363032  Easier than pan frying I place a paper towel o...          1  \n",
       "555884  made in the USA and made in Thailand, do they ...          0  "
      ]
     },
     "execution_count": 28,
     "metadata": {},
     "output_type": "execute_result"
    }
   ],
   "source": [
    "\n",
    "lmtpData2['Sentiment']=lmtpData2['Score'].apply(lblScore)\n",
    "lmtpData2.head(5)"
   ]
  },
  {
   "cell_type": "code",
   "execution_count": 29,
   "id": "abc6a2dc",
   "metadata": {
    "execution": {
     "iopub.execute_input": "2025-03-07T13:33:27.305521Z",
     "iopub.status.busy": "2025-03-07T13:33:27.305072Z",
     "iopub.status.idle": "2025-03-07T13:33:27.471189Z",
     "shell.execute_reply": "2025-03-07T13:33:27.470047Z"
    },
    "papermill": {
     "duration": 0.201634,
     "end_time": "2025-03-07T13:33:27.473314",
     "exception": false,
     "start_time": "2025-03-07T13:33:27.271680",
     "status": "completed"
    },
    "tags": []
   },
   "outputs": [],
   "source": [
    "tokenizer.fit_on_texts(lmtpData2['CombinedText'])\n",
    "sequences=tokenizer.texts_to_sequences(lmtpData2['CombinedText'])\n",
    "\n",
    "maxLen=100\n",
    "paddedData=pad_sequences(sequences,maxlen=maxLen,padding='post')\n",
    "embedding_dim=100\n",
    "vocabSize=len(tokenizer.word_index) + 1\n",
    "\n",
    "embeddingMatrix2=np.zeros((vocabSize,embedding_dim))\n",
    "\n",
    "for word,i in tokenizer.word_index.items():\n",
    "    embeddingVector2=gloveEmbeddings.get(word)\n",
    "    if embeddingVector2 is not None:\n",
    "        embeddingMatrix2[i]=embeddingVector2"
   ]
  },
  {
   "cell_type": "markdown",
   "id": "90f3189d",
   "metadata": {
    "papermill": {
     "duration": 0.028635,
     "end_time": "2025-03-07T13:33:27.531602",
     "exception": false,
     "start_time": "2025-03-07T13:33:27.502967",
     "status": "completed"
    },
    "tags": []
   },
   "source": [
    "### BALANCING THE CLASSES"
   ]
  },
  {
   "cell_type": "code",
   "execution_count": 30,
   "id": "b1b03a88",
   "metadata": {
    "execution": {
     "iopub.execute_input": "2025-03-07T13:33:27.591105Z",
     "iopub.status.busy": "2025-03-07T13:33:27.590731Z",
     "iopub.status.idle": "2025-03-07T13:33:29.597608Z",
     "shell.execute_reply": "2025-03-07T13:33:29.596471Z"
    },
    "papermill": {
     "duration": 2.039253,
     "end_time": "2025-03-07T13:33:29.599574",
     "exception": false,
     "start_time": "2025-03-07T13:33:27.560321",
     "status": "completed"
    },
    "tags": []
   },
   "outputs": [],
   "source": [
    "from imblearn.over_sampling import SMOTE\n",
    "\n",
    "\n",
    "y2 = lmtpData2['Sentiment'].values\n",
    "\n",
    "\n",
    "smote = SMOTE(random_state=42)\n",
    "X_resampled, Y_resampled = smote.fit_resample(paddedData, y2)\n"
   ]
  },
  {
   "cell_type": "markdown",
   "id": "cd1a110a",
   "metadata": {
    "papermill": {
     "duration": 0.028237,
     "end_time": "2025-03-07T13:33:29.656589",
     "exception": false,
     "start_time": "2025-03-07T13:33:29.628352",
     "status": "completed"
    },
    "tags": []
   },
   "source": []
  },
  {
   "cell_type": "code",
   "execution_count": 31,
   "id": "5cb79cc9",
   "metadata": {
    "execution": {
     "iopub.execute_input": "2025-03-07T13:33:29.718405Z",
     "iopub.status.busy": "2025-03-07T13:33:29.717261Z",
     "iopub.status.idle": "2025-03-07T13:33:29.827512Z",
     "shell.execute_reply": "2025-03-07T13:33:29.826336Z"
    },
    "papermill": {
     "duration": 0.143987,
     "end_time": "2025-03-07T13:33:29.829299",
     "exception": false,
     "start_time": "2025-03-07T13:33:29.685312",
     "status": "completed"
    },
    "tags": []
   },
   "outputs": [
    {
     "data": {
      "text/html": [
       "<pre style=\"white-space:pre;overflow-x:auto;line-height:normal;font-family:Menlo,'DejaVu Sans Mono',consolas,'Courier New',monospace\"><span style=\"font-weight: bold\">Model: \"sequential_1\"</span>\n",
       "</pre>\n"
      ],
      "text/plain": [
       "\u001b[1mModel: \"sequential_1\"\u001b[0m\n"
      ]
     },
     "metadata": {},
     "output_type": "display_data"
    },
    {
     "data": {
      "text/html": [
       "<pre style=\"white-space:pre;overflow-x:auto;line-height:normal;font-family:Menlo,'DejaVu Sans Mono',consolas,'Courier New',monospace\">┏━━━━━━━━━━━━━━━━━━━━━━━━━━━━━━━━━━━━━━┳━━━━━━━━━━━━━━━━━━━━━━━━━━━━━┳━━━━━━━━━━━━━━━━━┓\n",
       "┃<span style=\"font-weight: bold\"> Layer (type)                         </span>┃<span style=\"font-weight: bold\"> Output Shape                </span>┃<span style=\"font-weight: bold\">         Param # </span>┃\n",
       "┡━━━━━━━━━━━━━━━━━━━━━━━━━━━━━━━━━━━━━━╇━━━━━━━━━━━━━━━━━━━━━━━━━━━━━╇━━━━━━━━━━━━━━━━━┩\n",
       "│ embedding_1 (<span style=\"color: #0087ff; text-decoration-color: #0087ff\">Embedding</span>)              │ (<span style=\"color: #00d7ff; text-decoration-color: #00d7ff\">None</span>, <span style=\"color: #00af00; text-decoration-color: #00af00\">100</span>, <span style=\"color: #00af00; text-decoration-color: #00af00\">100</span>)            │         <span style=\"color: #00af00; text-decoration-color: #00af00\">976,000</span> │\n",
       "├──────────────────────────────────────┼─────────────────────────────┼─────────────────┤\n",
       "│ lstm_2 (<span style=\"color: #0087ff; text-decoration-color: #0087ff\">LSTM</span>)                        │ (<span style=\"color: #00d7ff; text-decoration-color: #00d7ff\">None</span>, <span style=\"color: #00af00; text-decoration-color: #00af00\">100</span>, <span style=\"color: #00af00; text-decoration-color: #00af00\">128</span>)            │         <span style=\"color: #00af00; text-decoration-color: #00af00\">117,248</span> │\n",
       "├──────────────────────────────────────┼─────────────────────────────┼─────────────────┤\n",
       "│ lstm_3 (<span style=\"color: #0087ff; text-decoration-color: #0087ff\">LSTM</span>)                        │ (<span style=\"color: #00d7ff; text-decoration-color: #00d7ff\">None</span>, <span style=\"color: #00af00; text-decoration-color: #00af00\">64</span>)                  │          <span style=\"color: #00af00; text-decoration-color: #00af00\">49,408</span> │\n",
       "├──────────────────────────────────────┼─────────────────────────────┼─────────────────┤\n",
       "│ dropout_1 (<span style=\"color: #0087ff; text-decoration-color: #0087ff\">Dropout</span>)                  │ (<span style=\"color: #00d7ff; text-decoration-color: #00d7ff\">None</span>, <span style=\"color: #00af00; text-decoration-color: #00af00\">64</span>)                  │               <span style=\"color: #00af00; text-decoration-color: #00af00\">0</span> │\n",
       "├──────────────────────────────────────┼─────────────────────────────┼─────────────────┤\n",
       "│ dense_1 (<span style=\"color: #0087ff; text-decoration-color: #0087ff\">Dense</span>)                      │ (<span style=\"color: #00d7ff; text-decoration-color: #00d7ff\">None</span>, <span style=\"color: #00af00; text-decoration-color: #00af00\">3</span>)                   │             <span style=\"color: #00af00; text-decoration-color: #00af00\">195</span> │\n",
       "└──────────────────────────────────────┴─────────────────────────────┴─────────────────┘\n",
       "</pre>\n"
      ],
      "text/plain": [
       "┏━━━━━━━━━━━━━━━━━━━━━━━━━━━━━━━━━━━━━━┳━━━━━━━━━━━━━━━━━━━━━━━━━━━━━┳━━━━━━━━━━━━━━━━━┓\n",
       "┃\u001b[1m \u001b[0m\u001b[1mLayer (type)                        \u001b[0m\u001b[1m \u001b[0m┃\u001b[1m \u001b[0m\u001b[1mOutput Shape               \u001b[0m\u001b[1m \u001b[0m┃\u001b[1m \u001b[0m\u001b[1m        Param #\u001b[0m\u001b[1m \u001b[0m┃\n",
       "┡━━━━━━━━━━━━━━━━━━━━━━━━━━━━━━━━━━━━━━╇━━━━━━━━━━━━━━━━━━━━━━━━━━━━━╇━━━━━━━━━━━━━━━━━┩\n",
       "│ embedding_1 (\u001b[38;5;33mEmbedding\u001b[0m)              │ (\u001b[38;5;45mNone\u001b[0m, \u001b[38;5;34m100\u001b[0m, \u001b[38;5;34m100\u001b[0m)            │         \u001b[38;5;34m976,000\u001b[0m │\n",
       "├──────────────────────────────────────┼─────────────────────────────┼─────────────────┤\n",
       "│ lstm_2 (\u001b[38;5;33mLSTM\u001b[0m)                        │ (\u001b[38;5;45mNone\u001b[0m, \u001b[38;5;34m100\u001b[0m, \u001b[38;5;34m128\u001b[0m)            │         \u001b[38;5;34m117,248\u001b[0m │\n",
       "├──────────────────────────────────────┼─────────────────────────────┼─────────────────┤\n",
       "│ lstm_3 (\u001b[38;5;33mLSTM\u001b[0m)                        │ (\u001b[38;5;45mNone\u001b[0m, \u001b[38;5;34m64\u001b[0m)                  │          \u001b[38;5;34m49,408\u001b[0m │\n",
       "├──────────────────────────────────────┼─────────────────────────────┼─────────────────┤\n",
       "│ dropout_1 (\u001b[38;5;33mDropout\u001b[0m)                  │ (\u001b[38;5;45mNone\u001b[0m, \u001b[38;5;34m64\u001b[0m)                  │               \u001b[38;5;34m0\u001b[0m │\n",
       "├──────────────────────────────────────┼─────────────────────────────┼─────────────────┤\n",
       "│ dense_1 (\u001b[38;5;33mDense\u001b[0m)                      │ (\u001b[38;5;45mNone\u001b[0m, \u001b[38;5;34m3\u001b[0m)                   │             \u001b[38;5;34m195\u001b[0m │\n",
       "└──────────────────────────────────────┴─────────────────────────────┴─────────────────┘\n"
      ]
     },
     "metadata": {},
     "output_type": "display_data"
    },
    {
     "data": {
      "text/html": [
       "<pre style=\"white-space:pre;overflow-x:auto;line-height:normal;font-family:Menlo,'DejaVu Sans Mono',consolas,'Courier New',monospace\"><span style=\"font-weight: bold\"> Total params: </span><span style=\"color: #00af00; text-decoration-color: #00af00\">1,142,851</span> (4.36 MB)\n",
       "</pre>\n"
      ],
      "text/plain": [
       "\u001b[1m Total params: \u001b[0m\u001b[38;5;34m1,142,851\u001b[0m (4.36 MB)\n"
      ]
     },
     "metadata": {},
     "output_type": "display_data"
    },
    {
     "data": {
      "text/html": [
       "<pre style=\"white-space:pre;overflow-x:auto;line-height:normal;font-family:Menlo,'DejaVu Sans Mono',consolas,'Courier New',monospace\"><span style=\"font-weight: bold\"> Trainable params: </span><span style=\"color: #00af00; text-decoration-color: #00af00\">166,851</span> (651.76 KB)\n",
       "</pre>\n"
      ],
      "text/plain": [
       "\u001b[1m Trainable params: \u001b[0m\u001b[38;5;34m166,851\u001b[0m (651.76 KB)\n"
      ]
     },
     "metadata": {},
     "output_type": "display_data"
    },
    {
     "data": {
      "text/html": [
       "<pre style=\"white-space:pre;overflow-x:auto;line-height:normal;font-family:Menlo,'DejaVu Sans Mono',consolas,'Courier New',monospace\"><span style=\"font-weight: bold\"> Non-trainable params: </span><span style=\"color: #00af00; text-decoration-color: #00af00\">976,000</span> (3.72 MB)\n",
       "</pre>\n"
      ],
      "text/plain": [
       "\u001b[1m Non-trainable params: \u001b[0m\u001b[38;5;34m976,000\u001b[0m (3.72 MB)\n"
      ]
     },
     "metadata": {},
     "output_type": "display_data"
    }
   ],
   "source": [
    "maxLen=100\n",
    "model = Sequential([\n",
    "    Input(shape=(maxLen,)),\n",
    "    Embedding(input_dim=vocabSize,  \n",
    "              output_dim=embedding_dim, \n",
    "              weights=embeddingMatrix2, \n",
    "             \n",
    "              trainable=False), \n",
    "    LSTM(128, return_sequences=True),\n",
    "    LSTM(64),\n",
    "    Dropout(0.6),\n",
    "    Dense(3, activation='softmax') \n",
    "])\n",
    "\n",
    "\n",
    "model.compile(loss='sparse_categorical_crossentropy', optimizer='adam', metrics=['accuracy'])\n",
    "\n",
    "model.summary()\n"
   ]
  },
  {
   "cell_type": "code",
   "execution_count": 32,
   "id": "2b3bb015",
   "metadata": {
    "execution": {
     "iopub.execute_input": "2025-03-07T13:33:29.889975Z",
     "iopub.status.busy": "2025-03-07T13:33:29.889351Z",
     "iopub.status.idle": "2025-03-07T13:34:33.152173Z",
     "shell.execute_reply": "2025-03-07T13:34:33.150883Z"
    },
    "papermill": {
     "duration": 63.294842,
     "end_time": "2025-03-07T13:34:33.153887",
     "exception": false,
     "start_time": "2025-03-07T13:33:29.859045",
     "status": "completed"
    },
    "tags": []
   },
   "outputs": [
    {
     "name": "stdout",
     "output_type": "stream",
     "text": [
      "Epoch 1/6\n",
      "\u001b[1m51/51\u001b[0m \u001b[32m━━━━━━━━━━━━━━━━━━━━\u001b[0m\u001b[37m\u001b[0m \u001b[1m14s\u001b[0m 207ms/step - accuracy: 0.4697 - loss: 0.9773 - val_accuracy: 0.0043 - val_loss: 2.4082\n",
      "Epoch 2/6\n",
      "\u001b[1m51/51\u001b[0m \u001b[32m━━━━━━━━━━━━━━━━━━━━\u001b[0m\u001b[37m\u001b[0m \u001b[1m10s\u001b[0m 194ms/step - accuracy: 0.5139 - loss: 0.8840 - val_accuracy: 0.0043 - val_loss: 2.8451\n",
      "Epoch 3/6\n",
      "\u001b[1m51/51\u001b[0m \u001b[32m━━━━━━━━━━━━━━━━━━━━\u001b[0m\u001b[37m\u001b[0m \u001b[1m10s\u001b[0m 194ms/step - accuracy: 0.4698 - loss: 0.8716 - val_accuracy: 0.0043 - val_loss: 2.5942\n",
      "Epoch 4/6\n",
      "\u001b[1m51/51\u001b[0m \u001b[32m━━━━━━━━━━━━━━━━━━━━\u001b[0m\u001b[37m\u001b[0m \u001b[1m10s\u001b[0m 199ms/step - accuracy: 0.5124 - loss: 0.8630 - val_accuracy: 0.0058 - val_loss: 3.1311\n",
      "Epoch 5/6\n",
      "\u001b[1m51/51\u001b[0m \u001b[32m━━━━━━━━━━━━━━━━━━━━\u001b[0m\u001b[37m\u001b[0m \u001b[1m10s\u001b[0m 193ms/step - accuracy: 0.5564 - loss: 0.8234 - val_accuracy: 0.0101 - val_loss: 2.8197\n",
      "Epoch 6/6\n",
      "\u001b[1m51/51\u001b[0m \u001b[32m━━━━━━━━━━━━━━━━━━━━\u001b[0m\u001b[37m\u001b[0m \u001b[1m10s\u001b[0m 193ms/step - accuracy: 0.5506 - loss: 0.8322 - val_accuracy: 0.0058 - val_loss: 2.8509\n"
     ]
    },
    {
     "data": {
      "text/plain": [
       "<keras.src.callbacks.history.History at 0x7a5318c823b0>"
      ]
     },
     "execution_count": 32,
     "metadata": {},
     "output_type": "execute_result"
    }
   ],
   "source": [
    "model.fit(X_resampled, Y_resampled, epochs=6, batch_size=32, validation_split=0.3)"
   ]
  },
  {
   "cell_type": "code",
   "execution_count": 33,
   "id": "7e16490f",
   "metadata": {
    "execution": {
     "iopub.execute_input": "2025-03-07T13:34:33.249423Z",
     "iopub.status.busy": "2025-03-07T13:34:33.249009Z",
     "iopub.status.idle": "2025-03-07T13:36:52.481890Z",
     "shell.execute_reply": "2025-03-07T13:36:52.480656Z"
    },
    "papermill": {
     "duration": 139.282547,
     "end_time": "2025-03-07T13:36:52.483815",
     "exception": false,
     "start_time": "2025-03-07T13:34:33.201268",
     "status": "completed"
    },
    "tags": []
   },
   "outputs": [
    {
     "name": "stdout",
     "output_type": "stream",
     "text": [
      "Epoch 1/15\n",
      "\u001b[1m44/44\u001b[0m \u001b[32m━━━━━━━━━━━━━━━━━━━━\u001b[0m\u001b[37m\u001b[0m \u001b[1m9s\u001b[0m 216ms/step - accuracy: 0.5738 - loss: 0.8482 - val_accuracy: 0.1130 - val_loss: 2.3129\n",
      "Epoch 2/15\n",
      "\u001b[1m44/44\u001b[0m \u001b[32m━━━━━━━━━━━━━━━━━━━━\u001b[0m\u001b[37m\u001b[0m \u001b[1m9s\u001b[0m 209ms/step - accuracy: 0.6115 - loss: 0.7935 - val_accuracy: 0.0946 - val_loss: 2.0661\n",
      "Epoch 3/15\n",
      "\u001b[1m44/44\u001b[0m \u001b[32m━━━━━━━━━━━━━━━━━━━━\u001b[0m\u001b[37m\u001b[0m \u001b[1m9s\u001b[0m 209ms/step - accuracy: 0.6447 - loss: 0.7687 - val_accuracy: 0.0337 - val_loss: 2.5646\n",
      "Epoch 4/15\n",
      "\u001b[1m44/44\u001b[0m \u001b[32m━━━━━━━━━━━━━━━━━━━━\u001b[0m\u001b[37m\u001b[0m \u001b[1m9s\u001b[0m 210ms/step - accuracy: 0.6591 - loss: 0.7473 - val_accuracy: 0.2424 - val_loss: 2.3554\n",
      "Epoch 5/15\n",
      "\u001b[1m44/44\u001b[0m \u001b[32m━━━━━━━━━━━━━━━━━━━━\u001b[0m\u001b[37m\u001b[0m \u001b[1m9s\u001b[0m 217ms/step - accuracy: 0.6906 - loss: 0.7168 - val_accuracy: 0.2283 - val_loss: 2.1629\n",
      "Epoch 6/15\n",
      "\u001b[1m44/44\u001b[0m \u001b[32m━━━━━━━━━━━━━━━━━━━━\u001b[0m\u001b[37m\u001b[0m \u001b[1m9s\u001b[0m 207ms/step - accuracy: 0.7116 - loss: 0.6990 - val_accuracy: 0.1185 - val_loss: 2.4099\n",
      "Epoch 7/15\n",
      "\u001b[1m44/44\u001b[0m \u001b[32m━━━━━━━━━━━━━━━━━━━━\u001b[0m\u001b[37m\u001b[0m \u001b[1m9s\u001b[0m 208ms/step - accuracy: 0.7205 - loss: 0.6692 - val_accuracy: 0.2348 - val_loss: 2.7780\n",
      "Epoch 8/15\n",
      "\u001b[1m44/44\u001b[0m \u001b[32m━━━━━━━━━━━━━━━━━━━━\u001b[0m\u001b[37m\u001b[0m \u001b[1m10s\u001b[0m 217ms/step - accuracy: 0.7917 - loss: 0.5622 - val_accuracy: 0.2467 - val_loss: 2.5050\n",
      "Epoch 9/15\n",
      "\u001b[1m44/44\u001b[0m \u001b[32m━━━━━━━━━━━━━━━━━━━━\u001b[0m\u001b[37m\u001b[0m \u001b[1m9s\u001b[0m 210ms/step - accuracy: 0.7228 - loss: 0.6389 - val_accuracy: 0.2033 - val_loss: 2.6451\n",
      "Epoch 10/15\n",
      "\u001b[1m44/44\u001b[0m \u001b[32m━━━━━━━━━━━━━━━━━━━━\u001b[0m\u001b[37m\u001b[0m \u001b[1m9s\u001b[0m 210ms/step - accuracy: 0.8065 - loss: 0.5201 - val_accuracy: 0.2543 - val_loss: 3.0139\n",
      "Epoch 11/15\n",
      "\u001b[1m44/44\u001b[0m \u001b[32m━━━━━━━━━━━━━━━━━━━━\u001b[0m\u001b[37m\u001b[0m \u001b[1m9s\u001b[0m 209ms/step - accuracy: 0.8723 - loss: 0.4450 - val_accuracy: 0.2228 - val_loss: 2.7421\n",
      "Epoch 12/15\n",
      "\u001b[1m44/44\u001b[0m \u001b[32m━━━━━━━━━━━━━━━━━━━━\u001b[0m\u001b[37m\u001b[0m \u001b[1m9s\u001b[0m 215ms/step - accuracy: 0.8481 - loss: 0.4404 - val_accuracy: 0.2478 - val_loss: 3.3304\n",
      "Epoch 13/15\n",
      "\u001b[1m44/44\u001b[0m \u001b[32m━━━━━━━━━━━━━━━━━━━━\u001b[0m\u001b[37m\u001b[0m \u001b[1m9s\u001b[0m 210ms/step - accuracy: 0.8736 - loss: 0.3951 - val_accuracy: 0.2500 - val_loss: 2.9574\n",
      "Epoch 14/15\n",
      "\u001b[1m44/44\u001b[0m \u001b[32m━━━━━━━━━━━━━━━━━━━━\u001b[0m\u001b[37m\u001b[0m \u001b[1m9s\u001b[0m 209ms/step - accuracy: 0.9056 - loss: 0.3060 - val_accuracy: 0.2337 - val_loss: 2.7722\n",
      "Epoch 15/15\n",
      "\u001b[1m44/44\u001b[0m \u001b[32m━━━━━━━━━━━━━━━━━━━━\u001b[0m\u001b[37m\u001b[0m \u001b[1m9s\u001b[0m 214ms/step - accuracy: 0.9041 - loss: 0.3331 - val_accuracy: 0.2576 - val_loss: 3.0286\n"
     ]
    },
    {
     "data": {
      "text/plain": [
       "<keras.src.callbacks.history.History at 0x7a52fbc7a4d0>"
      ]
     },
     "execution_count": 33,
     "metadata": {},
     "output_type": "execute_result"
    }
   ],
   "source": [
    "model.fit(X_resampled, Y_resampled, epochs=15, batch_size=32, validation_split=0.4)"
   ]
  },
  {
   "cell_type": "code",
   "execution_count": 34,
   "id": "33676660",
   "metadata": {
    "execution": {
     "iopub.execute_input": "2025-03-07T13:36:52.667813Z",
     "iopub.status.busy": "2025-03-07T13:36:52.667387Z",
     "iopub.status.idle": "2025-03-07T13:40:27.320151Z",
     "shell.execute_reply": "2025-03-07T13:40:27.318942Z"
    },
    "papermill": {
     "duration": 214.747105,
     "end_time": "2025-03-07T13:40:27.322308",
     "exception": false,
     "start_time": "2025-03-07T13:36:52.575203",
     "status": "completed"
    },
    "tags": []
   },
   "outputs": [
    {
     "name": "stdout",
     "output_type": "stream",
     "text": [
      "Epoch 1/20\n",
      "\u001b[1m58/58\u001b[0m \u001b[32m━━━━━━━━━━━━━━━━━━━━\u001b[0m\u001b[37m\u001b[0m \u001b[1m11s\u001b[0m 184ms/step - accuracy: 0.6388 - loss: 0.9222 - val_accuracy: 0.0478 - val_loss: 1.3495\n",
      "Epoch 2/20\n",
      "\u001b[1m58/58\u001b[0m \u001b[32m━━━━━━━━━━━━━━━━━━━━\u001b[0m\u001b[37m\u001b[0m \u001b[1m11s\u001b[0m 183ms/step - accuracy: 0.7994 - loss: 0.5483 - val_accuracy: 0.0261 - val_loss: 1.6137\n",
      "Epoch 3/20\n",
      "\u001b[1m58/58\u001b[0m \u001b[32m━━━━━━━━━━━━━━━━━━━━\u001b[0m\u001b[37m\u001b[0m \u001b[1m11s\u001b[0m 189ms/step - accuracy: 0.8225 - loss: 0.4660 - val_accuracy: 0.0630 - val_loss: 1.5614\n",
      "Epoch 4/20\n",
      "\u001b[1m58/58\u001b[0m \u001b[32m━━━━━━━━━━━━━━━━━━━━\u001b[0m\u001b[37m\u001b[0m \u001b[1m11s\u001b[0m 183ms/step - accuracy: 0.8323 - loss: 0.4792 - val_accuracy: 0.0326 - val_loss: 1.4888\n",
      "Epoch 5/20\n",
      "\u001b[1m58/58\u001b[0m \u001b[32m━━━━━━━━━━━━━━━━━━━━\u001b[0m\u001b[37m\u001b[0m \u001b[1m11s\u001b[0m 182ms/step - accuracy: 0.8410 - loss: 0.4491 - val_accuracy: 0.0652 - val_loss: 1.6255\n",
      "Epoch 6/20\n",
      "\u001b[1m58/58\u001b[0m \u001b[32m━━━━━━━━━━━━━━━━━━━━\u001b[0m\u001b[37m\u001b[0m \u001b[1m11s\u001b[0m 189ms/step - accuracy: 0.8373 - loss: 0.4412 - val_accuracy: 0.0500 - val_loss: 1.5811\n",
      "Epoch 7/20\n",
      "\u001b[1m58/58\u001b[0m \u001b[32m━━━━━━━━━━━━━━━━━━━━\u001b[0m\u001b[37m\u001b[0m \u001b[1m11s\u001b[0m 183ms/step - accuracy: 0.8463 - loss: 0.4213 - val_accuracy: 0.1109 - val_loss: 1.3228\n",
      "Epoch 8/20\n",
      "\u001b[1m58/58\u001b[0m \u001b[32m━━━━━━━━━━━━━━━━━━━━\u001b[0m\u001b[37m\u001b[0m \u001b[1m11s\u001b[0m 182ms/step - accuracy: 0.8545 - loss: 0.3747 - val_accuracy: 0.0457 - val_loss: 1.6901\n",
      "Epoch 9/20\n",
      "\u001b[1m58/58\u001b[0m \u001b[32m━━━━━━━━━━━━━━━━━━━━\u001b[0m\u001b[37m\u001b[0m \u001b[1m11s\u001b[0m 190ms/step - accuracy: 0.8606 - loss: 0.3580 - val_accuracy: 0.1196 - val_loss: 1.3233\n",
      "Epoch 10/20\n",
      "\u001b[1m58/58\u001b[0m \u001b[32m━━━━━━━━━━━━━━━━━━━━\u001b[0m\u001b[37m\u001b[0m \u001b[1m11s\u001b[0m 183ms/step - accuracy: 0.8660 - loss: 0.3638 - val_accuracy: 0.1913 - val_loss: 1.3449\n",
      "Epoch 11/20\n",
      "\u001b[1m58/58\u001b[0m \u001b[32m━━━━━━━━━━━━━━━━━━━━\u001b[0m\u001b[37m\u001b[0m \u001b[1m11s\u001b[0m 184ms/step - accuracy: 0.8838 - loss: 0.3080 - val_accuracy: 0.1587 - val_loss: 1.7562\n",
      "Epoch 12/20\n",
      "\u001b[1m58/58\u001b[0m \u001b[32m━━━━━━━━━━━━━━━━━━━━\u001b[0m\u001b[37m\u001b[0m \u001b[1m11s\u001b[0m 189ms/step - accuracy: 0.8613 - loss: 0.3945 - val_accuracy: 0.2435 - val_loss: 1.2314\n",
      "Epoch 13/20\n",
      "\u001b[1m58/58\u001b[0m \u001b[32m━━━━━━━━━━━━━━━━━━━━\u001b[0m\u001b[37m\u001b[0m \u001b[1m11s\u001b[0m 183ms/step - accuracy: 0.8816 - loss: 0.3146 - val_accuracy: 0.1391 - val_loss: 1.6643\n",
      "Epoch 14/20\n",
      "\u001b[1m58/58\u001b[0m \u001b[32m━━━━━━━━━━━━━━━━━━━━\u001b[0m\u001b[37m\u001b[0m \u001b[1m11s\u001b[0m 183ms/step - accuracy: 0.8964 - loss: 0.2709 - val_accuracy: 0.1891 - val_loss: 1.9050\n",
      "Epoch 15/20\n",
      "\u001b[1m58/58\u001b[0m \u001b[32m━━━━━━━━━━━━━━━━━━━━\u001b[0m\u001b[37m\u001b[0m \u001b[1m11s\u001b[0m 188ms/step - accuracy: 0.9009 - loss: 0.2915 - val_accuracy: 0.2978 - val_loss: 1.5112\n",
      "Epoch 16/20\n",
      "\u001b[1m58/58\u001b[0m \u001b[32m━━━━━━━━━━━━━━━━━━━━\u001b[0m\u001b[37m\u001b[0m \u001b[1m11s\u001b[0m 182ms/step - accuracy: 0.9208 - loss: 0.2552 - val_accuracy: 0.1413 - val_loss: 1.7412\n",
      "Epoch 17/20\n",
      "\u001b[1m58/58\u001b[0m \u001b[32m━━━━━━━━━━━━━━━━━━━━\u001b[0m\u001b[37m\u001b[0m \u001b[1m11s\u001b[0m 184ms/step - accuracy: 0.8900 - loss: 0.3138 - val_accuracy: 0.2978 - val_loss: 1.4952\n",
      "Epoch 18/20\n",
      "\u001b[1m58/58\u001b[0m \u001b[32m━━━━━━━━━━━━━━━━━━━━\u001b[0m\u001b[37m\u001b[0m \u001b[1m11s\u001b[0m 189ms/step - accuracy: 0.9336 - loss: 0.2194 - val_accuracy: 0.2978 - val_loss: 1.8641\n",
      "Epoch 19/20\n",
      "\u001b[1m58/58\u001b[0m \u001b[32m━━━━━━━━━━━━━━━━━━━━\u001b[0m\u001b[37m\u001b[0m \u001b[1m11s\u001b[0m 183ms/step - accuracy: 0.9177 - loss: 0.2286 - val_accuracy: 0.1587 - val_loss: 2.2426\n",
      "Epoch 20/20\n",
      "\u001b[1m58/58\u001b[0m \u001b[32m━━━━━━━━━━━━━━━━━━━━\u001b[0m\u001b[37m\u001b[0m \u001b[1m11s\u001b[0m 183ms/step - accuracy: 0.8965 - loss: 0.3685 - val_accuracy: 0.3848 - val_loss: 1.6329\n"
     ]
    },
    {
     "data": {
      "text/plain": [
       "<keras.src.callbacks.history.History at 0x7a52fbc7b190>"
      ]
     },
     "execution_count": 34,
     "metadata": {},
     "output_type": "execute_result"
    }
   ],
   "source": [
    "model.fit(X_resampled, Y_resampled, epochs=20, batch_size=32, validation_split=0.2)"
   ]
  },
  {
   "cell_type": "markdown",
   "id": "a91f96d7",
   "metadata": {
    "papermill": {
     "duration": 0.162685,
     "end_time": "2025-03-07T13:40:27.650072",
     "exception": false,
     "start_time": "2025-03-07T13:40:27.487387",
     "status": "completed"
    },
    "tags": []
   },
   "source": [
    "### WITHOUT SMOTE"
   ]
  },
  {
   "cell_type": "code",
   "execution_count": 35,
   "id": "f99b7bad",
   "metadata": {
    "execution": {
     "iopub.execute_input": "2025-03-07T13:40:28.059876Z",
     "iopub.status.busy": "2025-03-07T13:40:28.059464Z",
     "iopub.status.idle": "2025-03-07T13:41:33.858853Z",
     "shell.execute_reply": "2025-03-07T13:41:33.857696Z"
    },
    "papermill": {
     "duration": 65.958811,
     "end_time": "2025-03-07T13:41:33.860709",
     "exception": false,
     "start_time": "2025-03-07T13:40:27.901898",
     "status": "completed"
    },
    "tags": []
   },
   "outputs": [
    {
     "name": "stdout",
     "output_type": "stream",
     "text": [
      "Epoch 1/15\n",
      "\u001b[1m22/22\u001b[0m \u001b[32m━━━━━━━━━━━━━━━━━━━━\u001b[0m\u001b[37m\u001b[0m \u001b[1m4s\u001b[0m 201ms/step - accuracy: 0.9564 - loss: 0.1268 - val_accuracy: 0.9567 - val_loss: 0.2092\n",
      "Epoch 2/15\n",
      "\u001b[1m22/22\u001b[0m \u001b[32m━━━━━━━━━━━━━━━━━━━━\u001b[0m\u001b[37m\u001b[0m \u001b[1m5s\u001b[0m 205ms/step - accuracy: 0.9729 - loss: 0.1254 - val_accuracy: 0.9500 - val_loss: 0.1588\n",
      "Epoch 3/15\n",
      "\u001b[1m22/22\u001b[0m \u001b[32m━━━━━━━━━━━━━━━━━━━━\u001b[0m\u001b[37m\u001b[0m \u001b[1m4s\u001b[0m 199ms/step - accuracy: 0.9659 - loss: 0.0896 - val_accuracy: 0.9500 - val_loss: 0.2205\n",
      "Epoch 4/15\n",
      "\u001b[1m22/22\u001b[0m \u001b[32m━━━━━━━━━━━━━━━━━━━━\u001b[0m\u001b[37m\u001b[0m \u001b[1m4s\u001b[0m 197ms/step - accuracy: 0.9745 - loss: 0.0922 - val_accuracy: 0.9733 - val_loss: 0.1639\n",
      "Epoch 5/15\n",
      "\u001b[1m22/22\u001b[0m \u001b[32m━━━━━━━━━━━━━━━━━━━━\u001b[0m\u001b[37m\u001b[0m \u001b[1m4s\u001b[0m 195ms/step - accuracy: 0.9742 - loss: 0.0887 - val_accuracy: 0.9667 - val_loss: 0.1457\n",
      "Epoch 6/15\n",
      "\u001b[1m22/22\u001b[0m \u001b[32m━━━━━━━━━━━━━━━━━━━━\u001b[0m\u001b[37m\u001b[0m \u001b[1m4s\u001b[0m 196ms/step - accuracy: 0.9797 - loss: 0.0657 - val_accuracy: 0.9600 - val_loss: 0.1829\n",
      "Epoch 7/15\n",
      "\u001b[1m22/22\u001b[0m \u001b[32m━━━━━━━━━━━━━━━━━━━━\u001b[0m\u001b[37m\u001b[0m \u001b[1m4s\u001b[0m 196ms/step - accuracy: 0.9701 - loss: 0.1511 - val_accuracy: 0.9567 - val_loss: 0.1765\n",
      "Epoch 8/15\n",
      "\u001b[1m22/22\u001b[0m \u001b[32m━━━━━━━━━━━━━━━━━━━━\u001b[0m\u001b[37m\u001b[0m \u001b[1m4s\u001b[0m 200ms/step - accuracy: 0.9809 - loss: 0.0808 - val_accuracy: 0.9567 - val_loss: 0.1842\n",
      "Epoch 9/15\n",
      "\u001b[1m22/22\u001b[0m \u001b[32m━━━━━━━━━━━━━━━━━━━━\u001b[0m\u001b[37m\u001b[0m \u001b[1m4s\u001b[0m 196ms/step - accuracy: 0.9675 - loss: 0.0924 - val_accuracy: 0.9533 - val_loss: 0.1556\n",
      "Epoch 10/15\n",
      "\u001b[1m22/22\u001b[0m \u001b[32m━━━━━━━━━━━━━━━━━━━━\u001b[0m\u001b[37m\u001b[0m \u001b[1m5s\u001b[0m 213ms/step - accuracy: 0.9613 - loss: 0.0934 - val_accuracy: 0.9667 - val_loss: 0.1760\n",
      "Epoch 11/15\n",
      "\u001b[1m22/22\u001b[0m \u001b[32m━━━━━━━━━━━━━━━━━━━━\u001b[0m\u001b[37m\u001b[0m \u001b[1m4s\u001b[0m 197ms/step - accuracy: 0.9857 - loss: 0.0719 - val_accuracy: 0.9600 - val_loss: 0.1848\n",
      "Epoch 12/15\n",
      "\u001b[1m22/22\u001b[0m \u001b[32m━━━━━━━━━━━━━━━━━━━━\u001b[0m\u001b[37m\u001b[0m \u001b[1m4s\u001b[0m 196ms/step - accuracy: 0.9728 - loss: 0.0785 - val_accuracy: 0.9200 - val_loss: 0.3836\n",
      "Epoch 13/15\n",
      "\u001b[1m22/22\u001b[0m \u001b[32m━━━━━━━━━━━━━━━━━━━━\u001b[0m\u001b[37m\u001b[0m \u001b[1m4s\u001b[0m 199ms/step - accuracy: 0.9286 - loss: 0.2079 - val_accuracy: 0.9300 - val_loss: 0.2405\n",
      "Epoch 14/15\n",
      "\u001b[1m22/22\u001b[0m \u001b[32m━━━━━━━━━━━━━━━━━━━━\u001b[0m\u001b[37m\u001b[0m \u001b[1m4s\u001b[0m 197ms/step - accuracy: 0.9512 - loss: 0.1852 - val_accuracy: 0.9300 - val_loss: 0.2587\n",
      "Epoch 15/15\n",
      "\u001b[1m22/22\u001b[0m \u001b[32m━━━━━━━━━━━━━━━━━━━━\u001b[0m\u001b[37m\u001b[0m \u001b[1m4s\u001b[0m 199ms/step - accuracy: 0.9757 - loss: 0.0895 - val_accuracy: 0.9533 - val_loss: 0.2112\n"
     ]
    },
    {
     "data": {
      "text/plain": [
       "<keras.src.callbacks.history.History at 0x7a5318c81bd0>"
      ]
     },
     "execution_count": 35,
     "metadata": {},
     "output_type": "execute_result"
    }
   ],
   "source": [
    "model.fit(paddedData,y2, epochs=15, batch_size=32, validation_split=0.3)"
   ]
  },
  {
   "cell_type": "markdown",
   "id": "e49d4260",
   "metadata": {
    "papermill": {
     "duration": 0.172713,
     "end_time": "2025-03-07T13:41:34.208811",
     "exception": false,
     "start_time": "2025-03-07T13:41:34.036098",
     "status": "completed"
    },
    "tags": []
   },
   "source": [
    "#### PREDICTING DATA\n"
   ]
  },
  {
   "cell_type": "code",
   "execution_count": 36,
   "id": "8302e33e",
   "metadata": {
    "execution": {
     "iopub.execute_input": "2025-03-07T13:41:34.554185Z",
     "iopub.status.busy": "2025-03-07T13:41:34.553835Z",
     "iopub.status.idle": "2025-03-07T13:41:37.274942Z",
     "shell.execute_reply": "2025-03-07T13:41:37.273847Z"
    },
    "papermill": {
     "duration": 2.896754,
     "end_time": "2025-03-07T13:41:37.277094",
     "exception": false,
     "start_time": "2025-03-07T13:41:34.380340",
     "status": "completed"
    },
    "tags": []
   },
   "outputs": [
    {
     "name": "stdout",
     "output_type": "stream",
     "text": [
      "\u001b[1m32/32\u001b[0m \u001b[32m━━━━━━━━━━━━━━━━━━━━\u001b[0m\u001b[37m\u001b[0m \u001b[1m3s\u001b[0m 75ms/step\n"
     ]
    }
   ],
   "source": [
    "predictedData=model.predict(paddedData)\n",
    "predClasses=np.argmax(predictedData,axis=1)"
   ]
  },
  {
   "cell_type": "code",
   "execution_count": 37,
   "id": "e7e150b7",
   "metadata": {
    "execution": {
     "iopub.execute_input": "2025-03-07T13:41:37.737551Z",
     "iopub.status.busy": "2025-03-07T13:41:37.737119Z",
     "iopub.status.idle": "2025-03-07T13:41:37.750689Z",
     "shell.execute_reply": "2025-03-07T13:41:37.749412Z"
    },
    "papermill": {
     "duration": 0.292431,
     "end_time": "2025-03-07T13:41:37.752612",
     "exception": false,
     "start_time": "2025-03-07T13:41:37.460181",
     "status": "completed"
    },
    "tags": []
   },
   "outputs": [
    {
     "data": {
      "text/html": [
       "<div>\n",
       "<style scoped>\n",
       "    .dataframe tbody tr th:only-of-type {\n",
       "        vertical-align: middle;\n",
       "    }\n",
       "\n",
       "    .dataframe tbody tr th {\n",
       "        vertical-align: top;\n",
       "    }\n",
       "\n",
       "    .dataframe thead th {\n",
       "        text-align: right;\n",
       "    }\n",
       "</style>\n",
       "<table border=\"1\" class=\"dataframe\">\n",
       "  <thead>\n",
       "    <tr style=\"text-align: right;\">\n",
       "      <th></th>\n",
       "      <th>Text</th>\n",
       "      <th>Actual Sentiment</th>\n",
       "      <th>Predicted Sentiment</th>\n",
       "    </tr>\n",
       "  </thead>\n",
       "  <tbody>\n",
       "    <tr>\n",
       "      <th>329374</th>\n",
       "      <td>Best Soup Ever This soup is in a class by itse...</td>\n",
       "      <td>1</td>\n",
       "      <td>1</td>\n",
       "    </tr>\n",
       "    <tr>\n",
       "      <th>484157</th>\n",
       "      <td>Absolutely delicious!!! Excellent product- has...</td>\n",
       "      <td>1</td>\n",
       "      <td>1</td>\n",
       "    </tr>\n",
       "    <tr>\n",
       "      <th>115845</th>\n",
       "      <td>Best Cuppa English Tea (In My Book) First off,...</td>\n",
       "      <td>1</td>\n",
       "      <td>1</td>\n",
       "    </tr>\n",
       "    <tr>\n",
       "      <th>540486</th>\n",
       "      <td>Delicious coffee I have tried many strengths o...</td>\n",
       "      <td>1</td>\n",
       "      <td>1</td>\n",
       "    </tr>\n",
       "    <tr>\n",
       "      <th>536330</th>\n",
       "      <td>best dog food on the market When I first found...</td>\n",
       "      <td>1</td>\n",
       "      <td>0</td>\n",
       "    </tr>\n",
       "    <tr>\n",
       "      <th>49178</th>\n",
       "      <td>Yummiest!! Oh, garibaldi biscuits, how I have ...</td>\n",
       "      <td>1</td>\n",
       "      <td>1</td>\n",
       "    </tr>\n",
       "    <tr>\n",
       "      <th>241486</th>\n",
       "      <td>Blah!!! If you like the taste of cardboard, yo...</td>\n",
       "      <td>0</td>\n",
       "      <td>0</td>\n",
       "    </tr>\n",
       "    <tr>\n",
       "      <th>189229</th>\n",
       "      <td>Just okay...not exactly what I hoped for I hav...</td>\n",
       "      <td>2</td>\n",
       "      <td>1</td>\n",
       "    </tr>\n",
       "    <tr>\n",
       "      <th>261384</th>\n",
       "      <td>excellent nonfat dessert this is a great optio...</td>\n",
       "      <td>1</td>\n",
       "      <td>0</td>\n",
       "    </tr>\n",
       "    <tr>\n",
       "      <th>339998</th>\n",
       "      <td>Fruit Stripe Gum Tastes just like it did when ...</td>\n",
       "      <td>1</td>\n",
       "      <td>2</td>\n",
       "    </tr>\n",
       "  </tbody>\n",
       "</table>\n",
       "</div>"
      ],
      "text/plain": [
       "                                                     Text  Actual Sentiment  \\\n",
       "329374  Best Soup Ever This soup is in a class by itse...                 1   \n",
       "484157  Absolutely delicious!!! Excellent product- has...                 1   \n",
       "115845  Best Cuppa English Tea (In My Book) First off,...                 1   \n",
       "540486  Delicious coffee I have tried many strengths o...                 1   \n",
       "536330  best dog food on the market When I first found...                 1   \n",
       "49178   Yummiest!! Oh, garibaldi biscuits, how I have ...                 1   \n",
       "241486  Blah!!! If you like the taste of cardboard, yo...                 0   \n",
       "189229  Just okay...not exactly what I hoped for I hav...                 2   \n",
       "261384  excellent nonfat dessert this is a great optio...                 1   \n",
       "339998  Fruit Stripe Gum Tastes just like it did when ...                 1   \n",
       "\n",
       "        Predicted Sentiment  \n",
       "329374                    1  \n",
       "484157                    1  \n",
       "115845                    1  \n",
       "540486                    1  \n",
       "536330                    0  \n",
       "49178                     1  \n",
       "241486                    0  \n",
       "189229                    1  \n",
       "261384                    0  \n",
       "339998                    2  "
      ]
     },
     "execution_count": 37,
     "metadata": {},
     "output_type": "execute_result"
    }
   ],
   "source": [
    "comparisonData2=pd.DataFrame({\n",
    "    \"Text\":lmtpData[\"CombinedText\"],\n",
    "    \"Actual Sentiment\":lmtpData[\"Sentiment\"].values,\n",
    "    \"Predicted Sentiment\":predClasses\n",
    "})\n",
    "comparisonData2.head(10)"
   ]
  },
  {
   "cell_type": "code",
   "execution_count": 38,
   "id": "a64d6954",
   "metadata": {
    "execution": {
     "iopub.execute_input": "2025-03-07T13:41:38.115635Z",
     "iopub.status.busy": "2025-03-07T13:41:38.115252Z",
     "iopub.status.idle": "2025-03-07T13:41:38.125068Z",
     "shell.execute_reply": "2025-03-07T13:41:38.123971Z"
    },
    "papermill": {
     "duration": 0.193737,
     "end_time": "2025-03-07T13:41:38.127039",
     "exception": false,
     "start_time": "2025-03-07T13:41:37.933302",
     "status": "completed"
    },
    "tags": []
   },
   "outputs": [
    {
     "data": {
      "text/html": [
       "<div>\n",
       "<style scoped>\n",
       "    .dataframe tbody tr th:only-of-type {\n",
       "        vertical-align: middle;\n",
       "    }\n",
       "\n",
       "    .dataframe tbody tr th {\n",
       "        vertical-align: top;\n",
       "    }\n",
       "\n",
       "    .dataframe thead th {\n",
       "        text-align: right;\n",
       "    }\n",
       "</style>\n",
       "<table border=\"1\" class=\"dataframe\">\n",
       "  <thead>\n",
       "    <tr style=\"text-align: right;\">\n",
       "      <th></th>\n",
       "      <th>Text</th>\n",
       "      <th>Actual Sentiment</th>\n",
       "      <th>Predicted Sentiment</th>\n",
       "    </tr>\n",
       "  </thead>\n",
       "  <tbody>\n",
       "    <tr>\n",
       "      <th>173635</th>\n",
       "      <td>Skippy Dipping! I love SKIPPY Peanut Butter, e...</td>\n",
       "      <td>1</td>\n",
       "      <td>1</td>\n",
       "    </tr>\n",
       "    <tr>\n",
       "      <th>425577</th>\n",
       "      <td>just the right mix Kind fruit and nut bars are...</td>\n",
       "      <td>1</td>\n",
       "      <td>2</td>\n",
       "    </tr>\n",
       "    <tr>\n",
       "      <th>526717</th>\n",
       "      <td>Unique and flavorful Someone brought these to ...</td>\n",
       "      <td>1</td>\n",
       "      <td>1</td>\n",
       "    </tr>\n",
       "    <tr>\n",
       "      <th>66638</th>\n",
       "      <td>Yummy, but use quickly The bag is large so mak...</td>\n",
       "      <td>1</td>\n",
       "      <td>1</td>\n",
       "    </tr>\n",
       "    <tr>\n",
       "      <th>435630</th>\n",
       "      <td>YUP, most of cans are dented. yes, most of the...</td>\n",
       "      <td>1</td>\n",
       "      <td>0</td>\n",
       "    </tr>\n",
       "    <tr>\n",
       "      <th>564392</th>\n",
       "      <td>Two dogs love it! I have very small dogs (5 an...</td>\n",
       "      <td>1</td>\n",
       "      <td>1</td>\n",
       "    </tr>\n",
       "    <tr>\n",
       "      <th>83187</th>\n",
       "      <td>DOOMHAMMER approved I love this brand. If you ...</td>\n",
       "      <td>1</td>\n",
       "      <td>1</td>\n",
       "    </tr>\n",
       "    <tr>\n",
       "      <th>112400</th>\n",
       "      <td>Excellent chocolate bar... This bar is unbelie...</td>\n",
       "      <td>1</td>\n",
       "      <td>0</td>\n",
       "    </tr>\n",
       "    <tr>\n",
       "      <th>326690</th>\n",
       "      <td>The one decaf I always have I used to have the...</td>\n",
       "      <td>1</td>\n",
       "      <td>0</td>\n",
       "    </tr>\n",
       "    <tr>\n",
       "      <th>401509</th>\n",
       "      <td>Fruity and easy to take along :-) These fruit ...</td>\n",
       "      <td>1</td>\n",
       "      <td>1</td>\n",
       "    </tr>\n",
       "  </tbody>\n",
       "</table>\n",
       "</div>"
      ],
      "text/plain": [
       "                                                     Text  Actual Sentiment  \\\n",
       "173635  Skippy Dipping! I love SKIPPY Peanut Butter, e...                 1   \n",
       "425577  just the right mix Kind fruit and nut bars are...                 1   \n",
       "526717  Unique and flavorful Someone brought these to ...                 1   \n",
       "66638   Yummy, but use quickly The bag is large so mak...                 1   \n",
       "435630  YUP, most of cans are dented. yes, most of the...                 1   \n",
       "564392  Two dogs love it! I have very small dogs (5 an...                 1   \n",
       "83187   DOOMHAMMER approved I love this brand. If you ...                 1   \n",
       "112400  Excellent chocolate bar... This bar is unbelie...                 1   \n",
       "326690  The one decaf I always have I used to have the...                 1   \n",
       "401509  Fruity and easy to take along :-) These fruit ...                 1   \n",
       "\n",
       "        Predicted Sentiment  \n",
       "173635                    1  \n",
       "425577                    2  \n",
       "526717                    1  \n",
       "66638                     1  \n",
       "435630                    0  \n",
       "564392                    1  \n",
       "83187                     1  \n",
       "112400                    0  \n",
       "326690                    0  \n",
       "401509                    1  "
      ]
     },
     "execution_count": 38,
     "metadata": {},
     "output_type": "execute_result"
    }
   ],
   "source": [
    "comparisonData2.tail(10)"
   ]
  },
  {
   "cell_type": "markdown",
   "id": "c86c8cdb",
   "metadata": {
    "papermill": {
     "duration": 0.182043,
     "end_time": "2025-03-07T13:41:38.493858",
     "exception": false,
     "start_time": "2025-03-07T13:41:38.311815",
     "status": "completed"
    },
    "tags": []
   },
   "source": [
    "#### USING A SPECIFIC REVIEW"
   ]
  },
  {
   "cell_type": "code",
   "execution_count": 39,
   "id": "ddd7cf0e",
   "metadata": {
    "execution": {
     "iopub.execute_input": "2025-03-07T13:41:38.850435Z",
     "iopub.status.busy": "2025-03-07T13:41:38.849977Z",
     "iopub.status.idle": "2025-03-07T13:41:38.962945Z",
     "shell.execute_reply": "2025-03-07T13:41:38.961628Z"
    },
    "papermill": {
     "duration": 0.293218,
     "end_time": "2025-03-07T13:41:38.964936",
     "exception": false,
     "start_time": "2025-03-07T13:41:38.671718",
     "status": "completed"
    },
    "tags": []
   },
   "outputs": [
    {
     "name": "stdout",
     "output_type": "stream",
     "text": [
      "\u001b[1m1/1\u001b[0m \u001b[32m━━━━━━━━━━━━━━━━━━━━\u001b[0m\u001b[37m\u001b[0m \u001b[1m0s\u001b[0m 49ms/step\n",
      "Predicted Class:  [2]\n"
     ]
    }
   ],
   "source": [
    "\n",
    "new_review = \"I love this product, it's amazing!\"\n",
    "\n",
    "\n",
    "new_review_tokens = tokenizer.texts_to_sequences([new_review])\n",
    "new_review_padded = pad_sequences(new_review_tokens, maxlen=maxLen)\n",
    "\n",
    "predictions = model.predict(new_review_padded)\n",
    "\n",
    "\n",
    "predicted_class = np.argmax(predictions, axis=1)\n",
    "\n",
    "print(\"Predicted Class: \", predicted_class)\n"
   ]
  },
  {
   "cell_type": "code",
   "execution_count": 40,
   "id": "7768d39d",
   "metadata": {
    "execution": {
     "iopub.execute_input": "2025-03-07T13:41:39.314068Z",
     "iopub.status.busy": "2025-03-07T13:41:39.313696Z",
     "iopub.status.idle": "2025-03-07T13:41:39.415801Z",
     "shell.execute_reply": "2025-03-07T13:41:39.414469Z"
    },
    "papermill": {
     "duration": 0.279782,
     "end_time": "2025-03-07T13:41:39.417709",
     "exception": false,
     "start_time": "2025-03-07T13:41:39.137927",
     "status": "completed"
    },
    "tags": []
   },
   "outputs": [
    {
     "name": "stdout",
     "output_type": "stream",
     "text": [
      "\u001b[1m1/1\u001b[0m \u001b[32m━━━━━━━━━━━━━━━━━━━━\u001b[0m\u001b[37m\u001b[0m \u001b[1m0s\u001b[0m 46ms/step\n",
      "[2]\n"
     ]
    }
   ],
   "source": [
    "import numpy as np\n",
    "from tensorflow.keras.preprocessing.sequence import pad_sequences\n",
    "\n",
    "new_review2 = \"This is so terrible.It literally melted my skin\"\n",
    "\n",
    "\n",
    "new_review_tokens2 = tokenizer.texts_to_sequences([new_review2])\n",
    "new_review_padded2 = pad_sequences(new_review_tokens2, maxlen=maxLen)\n",
    "\n",
    "\n",
    "predictions = model.predict(new_review_padded2)\n",
    "\n",
    "\n",
    "predicted_class2 = np.argmax(predictions, axis=1)\n",
    "\n",
    "print(predicted_class2)"
   ]
  },
  {
   "cell_type": "markdown",
   "id": "8b46c3f3",
   "metadata": {
    "papermill": {
     "duration": 0.177702,
     "end_time": "2025-03-07T13:41:39.775223",
     "exception": false,
     "start_time": "2025-03-07T13:41:39.597521",
     "status": "completed"
    },
    "tags": []
   },
   "source": []
  }
 ],
 "metadata": {
  "kaggle": {
   "accelerator": "none",
   "dataSources": [
    {
     "datasetId": 18,
     "sourceId": 2157,
     "sourceType": "datasetVersion"
    },
    {
     "datasetId": 4167194,
     "sourceId": 7203508,
     "sourceType": "datasetVersion"
    }
   ],
   "dockerImageVersionId": 30918,
   "isGpuEnabled": false,
   "isInternetEnabled": true,
   "language": "python",
   "sourceType": "notebook"
  },
  "kernelspec": {
   "display_name": "Python 3",
   "language": "python",
   "name": "python3"
  },
  "language_info": {
   "codemirror_mode": {
    "name": "ipython",
    "version": 3
   },
   "file_extension": ".py",
   "mimetype": "text/x-python",
   "name": "python",
   "nbconvert_exporter": "python",
   "pygments_lexer": "ipython3",
   "version": "3.10.12"
  },
  "papermill": {
   "default_parameters": {},
   "duration": 589.177995,
   "end_time": "2025-03-07T13:41:43.211055",
   "environment_variables": {},
   "exception": null,
   "input_path": "__notebook__.ipynb",
   "output_path": "__notebook__.ipynb",
   "parameters": {},
   "start_time": "2025-03-07T13:31:54.033060",
   "version": "2.6.0"
  }
 },
 "nbformat": 4,
 "nbformat_minor": 5
}
