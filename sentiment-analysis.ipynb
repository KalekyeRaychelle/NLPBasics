{
 "cells": [
  {
   "cell_type": "code",
   "execution_count": 1,
   "id": "4f21c89a",
   "metadata": {
    "_cell_guid": "b1076dfc-b9ad-4769-8c92-a6c4dae69d19",
    "_uuid": "8f2839f25d086af736a60e9eeb907d3b93b6e0e5",
    "execution": {
     "iopub.execute_input": "2025-03-10T12:38:33.979985Z",
     "iopub.status.busy": "2025-03-10T12:38:33.979476Z",
     "iopub.status.idle": "2025-03-10T12:38:35.039881Z",
     "shell.execute_reply": "2025-03-10T12:38:35.038598Z"
    },
    "papermill": {
     "duration": 1.080863,
     "end_time": "2025-03-10T12:38:35.041904",
     "exception": false,
     "start_time": "2025-03-10T12:38:33.961041",
     "status": "completed"
    },
    "tags": []
   },
   "outputs": [
    {
     "name": "stdout",
     "output_type": "stream",
     "text": [
      "/kaggle/input/amazon-fine-food-reviews/hashes.txt\n",
      "/kaggle/input/amazon-fine-food-reviews/Reviews.csv\n",
      "/kaggle/input/amazon-fine-food-reviews/database.sqlite\n",
      "/kaggle/input/glove-6b-100-d/glove.6B.100d.txt\n"
     ]
    }
   ],
   "source": [
    "# This Python 3 environment comes with many helpful analytics libraries installed\n",
    "# It is defined by the kaggle/python Docker image: https://github.com/kaggle/docker-python\n",
    "# For example, here's several helpful packages to load\n",
    "\n",
    "import numpy as np # linear algebra\n",
    "import pandas as pd # data processing, CSV file I/O (e.g. pd.read_csv)\n",
    "\n",
    "# Input data files are available in the read-only \"../input/\" directory\n",
    "# For example, running this (by clicking run or pressing Shift+Enter) will list all files under the input directory\n",
    "\n",
    "import os\n",
    "for dirname, _, filenames in os.walk('/kaggle/input'):\n",
    "    for filename in filenames:\n",
    "        print(os.path.join(dirname, filename))\n",
    "\n",
    "# You can write up to 20GB to the current directory (/kaggle/working/) that gets preserved as output when you create a version using \"Save & Run All\" \n",
    "# You can also write temporary files to /kaggle/temp/, but they won't be saved outside of the current session"
   ]
  },
  {
   "cell_type": "code",
   "execution_count": 2,
   "id": "8fa9ab28",
   "metadata": {
    "execution": {
     "iopub.execute_input": "2025-03-10T12:38:35.071461Z",
     "iopub.status.busy": "2025-03-10T12:38:35.070462Z",
     "iopub.status.idle": "2025-03-10T12:38:35.076750Z",
     "shell.execute_reply": "2025-03-10T12:38:35.075542Z"
    },
    "papermill": {
     "duration": 0.022706,
     "end_time": "2025-03-10T12:38:35.078972",
     "exception": false,
     "start_time": "2025-03-10T12:38:35.056266",
     "status": "completed"
    },
    "tags": []
   },
   "outputs": [],
   "source": [
    "import pandas as pd"
   ]
  },
  {
   "cell_type": "code",
   "execution_count": 3,
   "id": "210460c8",
   "metadata": {
    "execution": {
     "iopub.execute_input": "2025-03-10T12:38:35.107274Z",
     "iopub.status.busy": "2025-03-10T12:38:35.106888Z",
     "iopub.status.idle": "2025-03-10T12:38:43.632917Z",
     "shell.execute_reply": "2025-03-10T12:38:43.631304Z"
    },
    "papermill": {
     "duration": 8.542551,
     "end_time": "2025-03-10T12:38:43.634992",
     "exception": false,
     "start_time": "2025-03-10T12:38:35.092441",
     "status": "completed"
    },
    "tags": []
   },
   "outputs": [],
   "source": [
    "dataset=pd.read_csv(r\"/kaggle/input/amazon-fine-food-reviews/Reviews.csv\")"
   ]
  },
  {
   "cell_type": "code",
   "execution_count": 4,
   "id": "c61fe466",
   "metadata": {
    "execution": {
     "iopub.execute_input": "2025-03-10T12:38:43.662593Z",
     "iopub.status.busy": "2025-03-10T12:38:43.662238Z",
     "iopub.status.idle": "2025-03-10T12:38:43.667029Z",
     "shell.execute_reply": "2025-03-10T12:38:43.665566Z"
    },
    "papermill": {
     "duration": 0.020687,
     "end_time": "2025-03-10T12:38:43.669031",
     "exception": false,
     "start_time": "2025-03-10T12:38:43.648344",
     "status": "completed"
    },
    "tags": []
   },
   "outputs": [],
   "source": [
    "pd.set_option('display.max_colwidth', None)\n"
   ]
  },
  {
   "cell_type": "code",
   "execution_count": 5,
   "id": "91be0bde",
   "metadata": {
    "execution": {
     "iopub.execute_input": "2025-03-10T12:38:43.698857Z",
     "iopub.status.busy": "2025-03-10T12:38:43.698440Z",
     "iopub.status.idle": "2025-03-10T12:38:43.923696Z",
     "shell.execute_reply": "2025-03-10T12:38:43.922278Z"
    },
    "papermill": {
     "duration": 0.242315,
     "end_time": "2025-03-10T12:38:43.925479",
     "exception": false,
     "start_time": "2025-03-10T12:38:43.683164",
     "status": "completed"
    },
    "tags": []
   },
   "outputs": [
    {
     "name": "stdout",
     "output_type": "stream",
     "text": [
      "<class 'pandas.core.frame.DataFrame'>\n",
      "RangeIndex: 568454 entries, 0 to 568453\n",
      "Data columns (total 10 columns):\n",
      " #   Column                  Non-Null Count   Dtype \n",
      "---  ------                  --------------   ----- \n",
      " 0   Id                      568454 non-null  int64 \n",
      " 1   ProductId               568454 non-null  object\n",
      " 2   UserId                  568454 non-null  object\n",
      " 3   ProfileName             568428 non-null  object\n",
      " 4   HelpfulnessNumerator    568454 non-null  int64 \n",
      " 5   HelpfulnessDenominator  568454 non-null  int64 \n",
      " 6   Score                   568454 non-null  int64 \n",
      " 7   Time                    568454 non-null  int64 \n",
      " 8   Summary                 568427 non-null  object\n",
      " 9   Text                    568454 non-null  object\n",
      "dtypes: int64(5), object(5)\n",
      "memory usage: 43.4+ MB\n"
     ]
    }
   ],
   "source": [
    "dataset.info()"
   ]
  },
  {
   "cell_type": "code",
   "execution_count": 6,
   "id": "5367c1e1",
   "metadata": {
    "execution": {
     "iopub.execute_input": "2025-03-10T12:38:43.953867Z",
     "iopub.status.busy": "2025-03-10T12:38:43.953455Z",
     "iopub.status.idle": "2025-03-10T12:38:43.978970Z",
     "shell.execute_reply": "2025-03-10T12:38:43.977833Z"
    },
    "papermill": {
     "duration": 0.041395,
     "end_time": "2025-03-10T12:38:43.980960",
     "exception": false,
     "start_time": "2025-03-10T12:38:43.939565",
     "status": "completed"
    },
    "tags": []
   },
   "outputs": [
    {
     "data": {
      "text/html": [
       "<div>\n",
       "<style scoped>\n",
       "    .dataframe tbody tr th:only-of-type {\n",
       "        vertical-align: middle;\n",
       "    }\n",
       "\n",
       "    .dataframe tbody tr th {\n",
       "        vertical-align: top;\n",
       "    }\n",
       "\n",
       "    .dataframe thead th {\n",
       "        text-align: right;\n",
       "    }\n",
       "</style>\n",
       "<table border=\"1\" class=\"dataframe\">\n",
       "  <thead>\n",
       "    <tr style=\"text-align: right;\">\n",
       "      <th></th>\n",
       "      <th>Id</th>\n",
       "      <th>ProductId</th>\n",
       "      <th>UserId</th>\n",
       "      <th>ProfileName</th>\n",
       "      <th>HelpfulnessNumerator</th>\n",
       "      <th>HelpfulnessDenominator</th>\n",
       "      <th>Score</th>\n",
       "      <th>Time</th>\n",
       "      <th>Summary</th>\n",
       "      <th>Text</th>\n",
       "    </tr>\n",
       "  </thead>\n",
       "  <tbody>\n",
       "    <tr>\n",
       "      <th>0</th>\n",
       "      <td>1</td>\n",
       "      <td>B001E4KFG0</td>\n",
       "      <td>A3SGXH7AUHU8GW</td>\n",
       "      <td>delmartian</td>\n",
       "      <td>1</td>\n",
       "      <td>1</td>\n",
       "      <td>5</td>\n",
       "      <td>1303862400</td>\n",
       "      <td>Good Quality Dog Food</td>\n",
       "      <td>I have bought several of the Vitality canned dog food products and have found them all to be of good quality. The product looks more like a stew than a processed meat and it smells better. My Labrador is finicky and she appreciates this product better than  most.</td>\n",
       "    </tr>\n",
       "    <tr>\n",
       "      <th>1</th>\n",
       "      <td>2</td>\n",
       "      <td>B00813GRG4</td>\n",
       "      <td>A1D87F6ZCVE5NK</td>\n",
       "      <td>dll pa</td>\n",
       "      <td>0</td>\n",
       "      <td>0</td>\n",
       "      <td>1</td>\n",
       "      <td>1346976000</td>\n",
       "      <td>Not as Advertised</td>\n",
       "      <td>Product arrived labeled as Jumbo Salted Peanuts...the peanuts were actually small sized unsalted. Not sure if this was an error or if the vendor intended to represent the product as \"Jumbo\".</td>\n",
       "    </tr>\n",
       "    <tr>\n",
       "      <th>2</th>\n",
       "      <td>3</td>\n",
       "      <td>B000LQOCH0</td>\n",
       "      <td>ABXLMWJIXXAIN</td>\n",
       "      <td>Natalia Corres \"Natalia Corres\"</td>\n",
       "      <td>1</td>\n",
       "      <td>1</td>\n",
       "      <td>4</td>\n",
       "      <td>1219017600</td>\n",
       "      <td>\"Delight\" says it all</td>\n",
       "      <td>This is a confection that has been around a few centuries.  It is a light, pillowy citrus gelatin with nuts - in this case Filberts. And it is cut into tiny squares and then liberally coated with powdered sugar.  And it is a tiny mouthful of heaven.  Not too chewy, and very flavorful.  I highly recommend this yummy treat.  If you are familiar with the story of C.S. Lewis' \"The Lion, The Witch, and The Wardrobe\" - this is the treat that seduces Edmund into selling out his Brother and Sisters to the Witch.</td>\n",
       "    </tr>\n",
       "    <tr>\n",
       "      <th>3</th>\n",
       "      <td>4</td>\n",
       "      <td>B000UA0QIQ</td>\n",
       "      <td>A395BORC6FGVXV</td>\n",
       "      <td>Karl</td>\n",
       "      <td>3</td>\n",
       "      <td>3</td>\n",
       "      <td>2</td>\n",
       "      <td>1307923200</td>\n",
       "      <td>Cough Medicine</td>\n",
       "      <td>If you are looking for the secret ingredient in Robitussin I believe I have found it.  I got this in addition to the Root Beer Extract I ordered (which was good) and made some cherry soda.  The flavor is very medicinal.</td>\n",
       "    </tr>\n",
       "    <tr>\n",
       "      <th>4</th>\n",
       "      <td>5</td>\n",
       "      <td>B006K2ZZ7K</td>\n",
       "      <td>A1UQRSCLF8GW1T</td>\n",
       "      <td>Michael D. Bigham \"M. Wassir\"</td>\n",
       "      <td>0</td>\n",
       "      <td>0</td>\n",
       "      <td>5</td>\n",
       "      <td>1350777600</td>\n",
       "      <td>Great taffy</td>\n",
       "      <td>Great taffy at a great price.  There was a wide assortment of yummy taffy.  Delivery was very quick.  If your a taffy lover, this is a deal.</td>\n",
       "    </tr>\n",
       "  </tbody>\n",
       "</table>\n",
       "</div>"
      ],
      "text/plain": [
       "   Id   ProductId          UserId                      ProfileName  \\\n",
       "0   1  B001E4KFG0  A3SGXH7AUHU8GW                       delmartian   \n",
       "1   2  B00813GRG4  A1D87F6ZCVE5NK                           dll pa   \n",
       "2   3  B000LQOCH0   ABXLMWJIXXAIN  Natalia Corres \"Natalia Corres\"   \n",
       "3   4  B000UA0QIQ  A395BORC6FGVXV                             Karl   \n",
       "4   5  B006K2ZZ7K  A1UQRSCLF8GW1T    Michael D. Bigham \"M. Wassir\"   \n",
       "\n",
       "   HelpfulnessNumerator  HelpfulnessDenominator  Score        Time  \\\n",
       "0                     1                       1      5  1303862400   \n",
       "1                     0                       0      1  1346976000   \n",
       "2                     1                       1      4  1219017600   \n",
       "3                     3                       3      2  1307923200   \n",
       "4                     0                       0      5  1350777600   \n",
       "\n",
       "                 Summary  \\\n",
       "0  Good Quality Dog Food   \n",
       "1      Not as Advertised   \n",
       "2  \"Delight\" says it all   \n",
       "3         Cough Medicine   \n",
       "4            Great taffy   \n",
       "\n",
       "                                                                                                                                                                                                                                                                                                                                                                                                                                                                                                                            Text  \n",
       "0                                                                                                                                                                                                                                                        I have bought several of the Vitality canned dog food products and have found them all to be of good quality. The product looks more like a stew than a processed meat and it smells better. My Labrador is finicky and she appreciates this product better than  most.  \n",
       "1                                                                                                                                                                                                                                                                                                                                 Product arrived labeled as Jumbo Salted Peanuts...the peanuts were actually small sized unsalted. Not sure if this was an error or if the vendor intended to represent the product as \"Jumbo\".  \n",
       "2  This is a confection that has been around a few centuries.  It is a light, pillowy citrus gelatin with nuts - in this case Filberts. And it is cut into tiny squares and then liberally coated with powdered sugar.  And it is a tiny mouthful of heaven.  Not too chewy, and very flavorful.  I highly recommend this yummy treat.  If you are familiar with the story of C.S. Lewis' \"The Lion, The Witch, and The Wardrobe\" - this is the treat that seduces Edmund into selling out his Brother and Sisters to the Witch.  \n",
       "3                                                                                                                                                                                                                                                                                                    If you are looking for the secret ingredient in Robitussin I believe I have found it.  I got this in addition to the Root Beer Extract I ordered (which was good) and made some cherry soda.  The flavor is very medicinal.  \n",
       "4                                                                                                                                                                                                                                                                                                                                                                                   Great taffy at a great price.  There was a wide assortment of yummy taffy.  Delivery was very quick.  If your a taffy lover, this is a deal.  "
      ]
     },
     "execution_count": 6,
     "metadata": {},
     "output_type": "execute_result"
    }
   ],
   "source": [
    "dataset.head(5)"
   ]
  },
  {
   "cell_type": "code",
   "execution_count": 7,
   "id": "2e7ac071",
   "metadata": {
    "execution": {
     "iopub.execute_input": "2025-03-10T12:38:44.012177Z",
     "iopub.status.busy": "2025-03-10T12:38:44.011808Z",
     "iopub.status.idle": "2025-03-10T12:38:44.042569Z",
     "shell.execute_reply": "2025-03-10T12:38:44.041379Z"
    },
    "papermill": {
     "duration": 0.048978,
     "end_time": "2025-03-10T12:38:44.044359",
     "exception": false,
     "start_time": "2025-03-10T12:38:43.995381",
     "status": "completed"
    },
    "tags": []
   },
   "outputs": [
    {
     "name": "stdout",
     "output_type": "stream",
     "text": [
      "   Score  \\\n",
      "0      5   \n",
      "1      1   \n",
      "2      4   \n",
      "3      2   \n",
      "4      5   \n",
      "\n",
      "                                                                                                                                                                                                                                                                                                                                                                                                                                                                                                                            Text  \n",
      "0                                                                                                                                                                                                                                                        I have bought several of the Vitality canned dog food products and have found them all to be of good quality. The product looks more like a stew than a processed meat and it smells better. My Labrador is finicky and she appreciates this product better than  most.  \n",
      "1                                                                                                                                                                                                                                                                                                                                 Product arrived labeled as Jumbo Salted Peanuts...the peanuts were actually small sized unsalted. Not sure if this was an error or if the vendor intended to represent the product as \"Jumbo\".  \n",
      "2  This is a confection that has been around a few centuries.  It is a light, pillowy citrus gelatin with nuts - in this case Filberts. And it is cut into tiny squares and then liberally coated with powdered sugar.  And it is a tiny mouthful of heaven.  Not too chewy, and very flavorful.  I highly recommend this yummy treat.  If you are familiar with the story of C.S. Lewis' \"The Lion, The Witch, and The Wardrobe\" - this is the treat that seduces Edmund into selling out his Brother and Sisters to the Witch.  \n",
      "3                                                                                                                                                                                                                                                                                                    If you are looking for the secret ingredient in Robitussin I believe I have found it.  I got this in addition to the Root Beer Extract I ordered (which was good) and made some cherry soda.  The flavor is very medicinal.  \n",
      "4                                                                                                                                                                                                                                                                                                                                                                                   Great taffy at a great price.  There was a wide assortment of yummy taffy.  Delivery was very quick.  If your a taffy lover, this is a deal.  \n"
     ]
    }
   ],
   "source": [
    "print(dataset[['Score','Text']].head(5))"
   ]
  },
  {
   "cell_type": "code",
   "execution_count": 8,
   "id": "de14eb1c",
   "metadata": {
    "execution": {
     "iopub.execute_input": "2025-03-10T12:38:44.072744Z",
     "iopub.status.busy": "2025-03-10T12:38:44.072356Z",
     "iopub.status.idle": "2025-03-10T12:38:44.265047Z",
     "shell.execute_reply": "2025-03-10T12:38:44.263748Z"
    },
    "papermill": {
     "duration": 0.208844,
     "end_time": "2025-03-10T12:38:44.266861",
     "exception": false,
     "start_time": "2025-03-10T12:38:44.058017",
     "status": "completed"
    },
    "tags": []
   },
   "outputs": [
    {
     "name": "stdout",
     "output_type": "stream",
     "text": [
      "Id                         0\n",
      "ProductId                  0\n",
      "UserId                     0\n",
      "ProfileName               26\n",
      "HelpfulnessNumerator       0\n",
      "HelpfulnessDenominator     0\n",
      "Score                      0\n",
      "Time                       0\n",
      "Summary                   27\n",
      "Text                       0\n",
      "dtype: int64\n"
     ]
    }
   ],
   "source": [
    "print(dataset.isna().sum())"
   ]
  },
  {
   "cell_type": "code",
   "execution_count": 9,
   "id": "cbd3a142",
   "metadata": {
    "execution": {
     "iopub.execute_input": "2025-03-10T12:38:44.296378Z",
     "iopub.status.busy": "2025-03-10T12:38:44.295995Z",
     "iopub.status.idle": "2025-03-10T12:38:44.359570Z",
     "shell.execute_reply": "2025-03-10T12:38:44.358323Z"
    },
    "papermill": {
     "duration": 0.080483,
     "end_time": "2025-03-10T12:38:44.361397",
     "exception": false,
     "start_time": "2025-03-10T12:38:44.280914",
     "status": "completed"
    },
    "tags": []
   },
   "outputs": [
    {
     "name": "stdout",
     "output_type": "stream",
     "text": [
      "                                                                                                                                                                                                                                                                                                                                                                                                                                                                                                                                                                                                                                                                                                                                                                                                                                                                                                                                                                                                                      Text  \\\n",
      "382267                                                                                                                                                                                                                                                                                                                                                                                                                                                                                                                                                                                                                                                                                                                                                                                                                                                     I have used this coffee in the past, so I knew in advance that it was a good product. In fact, it was originally given to me as a gift by a friend from Turkey.   \n",
      "533500                                                                                                                                                                                                                                                                                                                                                                                                                                                                                                                                                                                                                                                                                                                                                                                                                                                                    I love PG tips tea.  It makes a great cup of tea and does not get bitter if left in the water.  Product came when expected and was a good price.   \n",
      "162433  I purchased this cereal because it appeared to be very healthy and promising. But once I received it and after smelling and tasting it i knew something was wrong. I know a rancid smell when i smell it. I would not feed this to my baby. I tasted and it left a terrible after taste. I called the company and read other reviews on this defect. The company says since there is less fat in this specific product, a smell has resulted but it does not affect the overall product and is safe to eat. I was sent another container but this had the same smell, so I would conclude that the recently made containers are all like this. The expiration date was in 2013. Sorry, but anything that smells like this I would never give to my baby. However the oat and rice cereals do not have a rancid smell and I give those to my baby every day and do not see a problem with them. I still need to research more into the extraction method of DHA which may also have something to do with the smell.   \n",
      "258153                                                                                                                                                                                                                                                                                                                                                                                                                                                                                                                                                                                                                                                                                                                                                                                                                                                                                 It's Grrrreat, according to Hilda! She constantly brings each of her Kongs (5 of 'em) trying to get me to Stuff'N Liver Paste them.   \n",
      "352961                                                                                                                                                                                                                                                                                                                                                                                                                                                                                                                                                           Quick, easy to make. Gluten free. Good. It doesn't take as long to cook as the directions say. Just watch it until you think it is done. It can be eaten with a variety of things added - raisins, brown sugar, & cinnamon; maple syrup, etc. The price is not good (Unusual for Amazon). Walmart carries it for about $1.50+ less per box ($9.00+ less per 6). Ouch! When they get a better price and put it on Subscribe & Save I'll buy it here again.   \n",
      "...                                                                                                                                                                                                                                                                                                                                                                                                                                                                                                                                                                                                                                                                                                                                                                                                                                                                                                                                                                                                                    ...   \n",
      "549112                                                                                                                                                                                                                                                                                                                                                                                                                                                                                                                                                                                                                                                                                                                                                                                                               This stuff is delicious!  I can't walk past the jar without getting a spoonful.  It has a peanut butter consistency but it tastes like coconut!  Actually it's so sweet it tastes like coconut candy!   \n",
      "529903                                                                                                                                                                                                                                                                                                                                                                                                                                                                                                                                                                                                                                                                                                                                                                               It's the cat's opinion that counts here and he loves this stuff.  It arrived fresh and well packaged.  I knocked off 1 star because it's pretty expensive compared to come other brands.  I'd give it a 4.5 if I could do half stars.   \n",
      "524724                                                                                                                                                                                                                                                                                                                                                                                                                                                                                                                                                                                                                                                                                                                                                                                                                                              the sardines are sort of bland in taste. I had to mix them with hot sauce to give them some flavor. Even better with jalapenos. Did like the fact there were no bones.   \n",
      "222206                                                                                                                                                                                                                                                                                                                                                                                                                                                                                                                                                                                    I can't speak for the kids, but as an adult, these rice bars make a perfect snack.  The peanuts provide protein while the rice and chocolate provide carbs.  These bars would be great for anyone with a busy lifestyle.  They're not messy, which makes them an ideal snack while working on the computer.  They're surprisingly tasty and flavorful.  The consistency is very appealing - soft yet crispy.  I buy these a lot.   \n",
      "502406                                                                                                                                                                                                                                                                                                                                                                                                                                                                                                                                                                                                                            The description clearly states, \"This variety sampler includes only flavored caffeinated coffee.\" but it was not 24 samples of coffee.  Several of the K-cups were ciders and there was a hot chocolate.  That would be fine if the seller disclosed that in the description but to say you're sending 24 COFFEE samples, then send something other than coffee is just plain deceitful.   \n",
      "\n",
      "                                    Summary  Score  \n",
      "382267                         Good Coffee!      5  \n",
      "533500                          Great deal.      5  \n",
      "162433               Rancid Smell and Taste      1  \n",
      "258153                      Hilda Loves It!      5  \n",
      "352961                  Quick, easy to make      5  \n",
      "...                                     ...    ...  \n",
      "549112  Holy Moly this is awesome in a jar!      5  \n",
      "529903                     The cat loves it      4  \n",
      "524724                     Reese's Sardines      2  \n",
      "222206               Really Good Snack Bars      5  \n",
      "502406                     Not as described      1  \n",
      "\n",
      "[1000 rows x 3 columns]\n"
     ]
    }
   ],
   "source": [
    "lmtpData=dataset[['Text','Summary','Score']].sample(n=1000)\n",
    "print(lmtpData)"
   ]
  },
  {
   "cell_type": "markdown",
   "id": "a35f2c33",
   "metadata": {
    "papermill": {
     "duration": 0.013621,
     "end_time": "2025-03-10T12:38:44.389566",
     "exception": false,
     "start_time": "2025-03-10T12:38:44.375945",
     "status": "completed"
    },
    "tags": []
   },
   "source": [
    "### ADDING SENTIMENT COLUMN"
   ]
  },
  {
   "cell_type": "code",
   "execution_count": 10,
   "id": "2e325c4a",
   "metadata": {
    "execution": {
     "iopub.execute_input": "2025-03-10T12:38:44.419855Z",
     "iopub.status.busy": "2025-03-10T12:38:44.419468Z",
     "iopub.status.idle": "2025-03-10T12:38:44.431832Z",
     "shell.execute_reply": "2025-03-10T12:38:44.430704Z"
    },
    "papermill": {
     "duration": 0.029594,
     "end_time": "2025-03-10T12:38:44.433498",
     "exception": false,
     "start_time": "2025-03-10T12:38:44.403904",
     "status": "completed"
    },
    "tags": []
   },
   "outputs": [
    {
     "data": {
      "text/html": [
       "<div>\n",
       "<style scoped>\n",
       "    .dataframe tbody tr th:only-of-type {\n",
       "        vertical-align: middle;\n",
       "    }\n",
       "\n",
       "    .dataframe tbody tr th {\n",
       "        vertical-align: top;\n",
       "    }\n",
       "\n",
       "    .dataframe thead th {\n",
       "        text-align: right;\n",
       "    }\n",
       "</style>\n",
       "<table border=\"1\" class=\"dataframe\">\n",
       "  <thead>\n",
       "    <tr style=\"text-align: right;\">\n",
       "      <th></th>\n",
       "      <th>Text</th>\n",
       "      <th>Summary</th>\n",
       "      <th>Score</th>\n",
       "      <th>Sentiment</th>\n",
       "    </tr>\n",
       "  </thead>\n",
       "  <tbody>\n",
       "    <tr>\n",
       "      <th>382267</th>\n",
       "      <td>I have used this coffee in the past, so I knew in advance that it was a good product. In fact, it was originally given to me as a gift by a friend from Turkey.</td>\n",
       "      <td>Good Coffee!</td>\n",
       "      <td>5</td>\n",
       "      <td>1</td>\n",
       "    </tr>\n",
       "    <tr>\n",
       "      <th>533500</th>\n",
       "      <td>I love PG tips tea.  It makes a great cup of tea and does not get bitter if left in the water.  Product came when expected and was a good price.</td>\n",
       "      <td>Great deal.</td>\n",
       "      <td>5</td>\n",
       "      <td>1</td>\n",
       "    </tr>\n",
       "    <tr>\n",
       "      <th>162433</th>\n",
       "      <td>I purchased this cereal because it appeared to be very healthy and promising. But once I received it and after smelling and tasting it i knew something was wrong. I know a rancid smell when i smell it. I would not feed this to my baby. I tasted and it left a terrible after taste. I called the company and read other reviews on this defect. The company says since there is less fat in this specific product, a smell has resulted but it does not affect the overall product and is safe to eat. I was sent another container but this had the same smell, so I would conclude that the recently made containers are all like this. The expiration date was in 2013. Sorry, but anything that smells like this I would never give to my baby. However the oat and rice cereals do not have a rancid smell and I give those to my baby every day and do not see a problem with them. I still need to research more into the extraction method of DHA which may also have something to do with the smell.</td>\n",
       "      <td>Rancid Smell and Taste</td>\n",
       "      <td>1</td>\n",
       "      <td>0</td>\n",
       "    </tr>\n",
       "    <tr>\n",
       "      <th>258153</th>\n",
       "      <td>It's Grrrreat, according to Hilda! She constantly brings each of her Kongs (5 of 'em) trying to get me to Stuff'N Liver Paste them.</td>\n",
       "      <td>Hilda Loves It!</td>\n",
       "      <td>5</td>\n",
       "      <td>1</td>\n",
       "    </tr>\n",
       "    <tr>\n",
       "      <th>352961</th>\n",
       "      <td>Quick, easy to make. Gluten free. Good. It doesn't take as long to cook as the directions say. Just watch it until you think it is done. It can be eaten with a variety of things added - raisins, brown sugar, &amp; cinnamon; maple syrup, etc. The price is not good (Unusual for Amazon). Walmart carries it for about $1.50+ less per box ($9.00+ less per 6). Ouch! When they get a better price and put it on Subscribe &amp; Save I'll buy it here again.</td>\n",
       "      <td>Quick, easy to make</td>\n",
       "      <td>5</td>\n",
       "      <td>1</td>\n",
       "    </tr>\n",
       "  </tbody>\n",
       "</table>\n",
       "</div>"
      ],
      "text/plain": [
       "                                                                                                                                                                                                                                                                                                                                                                                                                                                                                                                                                                                                                                                                                                                                                                                                                                                                                                                                                                                                                      Text  \\\n",
       "382267                                                                                                                                                                                                                                                                                                                                                                                                                                                                                                                                                                                                                                                                                                                                                                                                                                                     I have used this coffee in the past, so I knew in advance that it was a good product. In fact, it was originally given to me as a gift by a friend from Turkey.   \n",
       "533500                                                                                                                                                                                                                                                                                                                                                                                                                                                                                                                                                                                                                                                                                                                                                                                                                                                                    I love PG tips tea.  It makes a great cup of tea and does not get bitter if left in the water.  Product came when expected and was a good price.   \n",
       "162433  I purchased this cereal because it appeared to be very healthy and promising. But once I received it and after smelling and tasting it i knew something was wrong. I know a rancid smell when i smell it. I would not feed this to my baby. I tasted and it left a terrible after taste. I called the company and read other reviews on this defect. The company says since there is less fat in this specific product, a smell has resulted but it does not affect the overall product and is safe to eat. I was sent another container but this had the same smell, so I would conclude that the recently made containers are all like this. The expiration date was in 2013. Sorry, but anything that smells like this I would never give to my baby. However the oat and rice cereals do not have a rancid smell and I give those to my baby every day and do not see a problem with them. I still need to research more into the extraction method of DHA which may also have something to do with the smell.   \n",
       "258153                                                                                                                                                                                                                                                                                                                                                                                                                                                                                                                                                                                                                                                                                                                                                                                                                                                                                 It's Grrrreat, according to Hilda! She constantly brings each of her Kongs (5 of 'em) trying to get me to Stuff'N Liver Paste them.   \n",
       "352961                                                                                                                                                                                                                                                                                                                                                                                                                                                                                                                                                           Quick, easy to make. Gluten free. Good. It doesn't take as long to cook as the directions say. Just watch it until you think it is done. It can be eaten with a variety of things added - raisins, brown sugar, & cinnamon; maple syrup, etc. The price is not good (Unusual for Amazon). Walmart carries it for about $1.50+ less per box ($9.00+ less per 6). Ouch! When they get a better price and put it on Subscribe & Save I'll buy it here again.   \n",
       "\n",
       "                       Summary  Score  Sentiment  \n",
       "382267            Good Coffee!      5          1  \n",
       "533500             Great deal.      5          1  \n",
       "162433  Rancid Smell and Taste      1          0  \n",
       "258153         Hilda Loves It!      5          1  \n",
       "352961     Quick, easy to make      5          1  "
      ]
     },
     "execution_count": 10,
     "metadata": {},
     "output_type": "execute_result"
    }
   ],
   "source": [
    "#0-negative, 1-positive\n",
    "def lblScore(score):\n",
    "    if score<=2:\n",
    "        return 0\n",
    "    elif score>=4:\n",
    "        return 1\n",
    "    else:\n",
    "        return 2\n",
    "lmtpData['Sentiment']=lmtpData['Score'].apply(lblScore)\n",
    "lmtpData.head(5)"
   ]
  },
  {
   "cell_type": "code",
   "execution_count": 11,
   "id": "2c8fbf35",
   "metadata": {
    "execution": {
     "iopub.execute_input": "2025-03-10T12:38:44.463079Z",
     "iopub.status.busy": "2025-03-10T12:38:44.462663Z",
     "iopub.status.idle": "2025-03-10T12:38:44.472049Z",
     "shell.execute_reply": "2025-03-10T12:38:44.470954Z"
    },
    "papermill": {
     "duration": 0.026162,
     "end_time": "2025-03-10T12:38:44.473802",
     "exception": false,
     "start_time": "2025-03-10T12:38:44.447640",
     "status": "completed"
    },
    "tags": []
   },
   "outputs": [
    {
     "data": {
      "text/plain": [
       "Sentiment\n",
       "1    768\n",
       "0    151\n",
       "2     81\n",
       "Name: count, dtype: int64"
      ]
     },
     "execution_count": 11,
     "metadata": {},
     "output_type": "execute_result"
    }
   ],
   "source": [
    "lmtpData['Sentiment'].value_counts()"
   ]
  },
  {
   "cell_type": "markdown",
   "id": "6827c451",
   "metadata": {
    "execution": {
     "iopub.execute_input": "2025-03-06T12:31:15.045476Z",
     "iopub.status.busy": "2025-03-06T12:31:15.045080Z",
     "iopub.status.idle": "2025-03-06T12:31:15.049290Z",
     "shell.execute_reply": "2025-03-06T12:31:15.048323Z",
     "shell.execute_reply.started": "2025-03-06T12:31:15.045438Z"
    },
    "papermill": {
     "duration": 0.013855,
     "end_time": "2025-03-10T12:38:44.502023",
     "exception": false,
     "start_time": "2025-03-10T12:38:44.488168",
     "status": "completed"
    },
    "tags": []
   },
   "source": [
    "#### VECTORS"
   ]
  },
  {
   "cell_type": "code",
   "execution_count": 12,
   "id": "35c692c6",
   "metadata": {
    "execution": {
     "iopub.execute_input": "2025-03-10T12:38:44.533200Z",
     "iopub.status.busy": "2025-03-10T12:38:44.532846Z",
     "iopub.status.idle": "2025-03-10T12:38:56.824942Z",
     "shell.execute_reply": "2025-03-10T12:38:56.823588Z"
    },
    "papermill": {
     "duration": 12.30944,
     "end_time": "2025-03-10T12:38:56.826802",
     "exception": false,
     "start_time": "2025-03-10T12:38:44.517362",
     "status": "completed"
    },
    "tags": []
   },
   "outputs": [
    {
     "name": "stdout",
     "output_type": "stream",
     "text": [
      "Loaded 400000 word vectors.\n"
     ]
    }
   ],
   "source": [
    "import numpy as np\n",
    "\n",
    "glove_path = \"/kaggle/input/glove-6b-100-d/glove.6B.100d.txt\"\n",
    "\n",
    "def loadGloveEmbeddings(filePath, embedding_dim=100):\n",
    "    embeddingsIndex = {}\n",
    "    with open(filePath, encoding=\"utf8\") as f:\n",
    "        for line in f:\n",
    "            values = line.split()\n",
    "            word = values[0]\n",
    "            coefs = np.asarray(values[1:], dtype='float32')\n",
    "            embeddingsIndex[word] = coefs\n",
    "    return embeddingsIndex\n",
    "\n",
    "gloveEmbeddings = loadGloveEmbeddings(glove_path)\n",
    "print(\"Loaded {} word vectors.\".format(len(gloveEmbeddings)))\n",
    "\n",
    "\n",
    "        "
   ]
  },
  {
   "cell_type": "markdown",
   "id": "7411941d",
   "metadata": {
    "papermill": {
     "duration": 0.014756,
     "end_time": "2025-03-10T12:38:56.856205",
     "exception": false,
     "start_time": "2025-03-10T12:38:56.841449",
     "status": "completed"
    },
    "tags": []
   },
   "source": [
    "#### CREATING EMBEDDING MATRIX"
   ]
  },
  {
   "cell_type": "code",
   "execution_count": 13,
   "id": "3368b111",
   "metadata": {
    "execution": {
     "iopub.execute_input": "2025-03-10T12:38:56.886836Z",
     "iopub.status.busy": "2025-03-10T12:38:56.886434Z",
     "iopub.status.idle": "2025-03-10T12:38:56.894169Z",
     "shell.execute_reply": "2025-03-10T12:38:56.893024Z"
    },
    "papermill": {
     "duration": 0.024613,
     "end_time": "2025-03-10T12:38:56.895873",
     "exception": false,
     "start_time": "2025-03-10T12:38:56.871260",
     "status": "completed"
    },
    "tags": []
   },
   "outputs": [],
   "source": [
    "lmtpData['Summary']=lmtpData['Summary'].fillna(\"\")\n",
    "lmtpData['CombinedText']=lmtpData['Summary'] + \" \" + lmtpData['Text']\n"
   ]
  },
  {
   "cell_type": "code",
   "execution_count": 14,
   "id": "5136f5fd",
   "metadata": {
    "execution": {
     "iopub.execute_input": "2025-03-10T12:38:56.926305Z",
     "iopub.status.busy": "2025-03-10T12:38:56.925878Z",
     "iopub.status.idle": "2025-03-10T12:39:13.302585Z",
     "shell.execute_reply": "2025-03-10T12:39:13.301312Z"
    },
    "papermill": {
     "duration": 16.394228,
     "end_time": "2025-03-10T12:39:13.305161",
     "exception": false,
     "start_time": "2025-03-10T12:38:56.910933",
     "status": "completed"
    },
    "tags": []
   },
   "outputs": [],
   "source": [
    "#tokenizing\n",
    "from tensorflow.keras.preprocessing.text import Tokenizer\n",
    "from tensorflow.keras.preprocessing.sequence import pad_sequences\n",
    "\n",
    "tokenizer=Tokenizer()\n",
    "tokenizer.fit_on_texts(lmtpData['CombinedText'])\n",
    "sequences=tokenizer.texts_to_sequences(lmtpData['CombinedText'])\n",
    "\n",
    "maxLen=100\n",
    "padded_sequences=pad_sequences(sequences,maxlen=maxLen,padding='post')"
   ]
  },
  {
   "cell_type": "code",
   "execution_count": 15,
   "id": "9035f9ee",
   "metadata": {
    "execution": {
     "iopub.execute_input": "2025-03-10T12:39:13.335146Z",
     "iopub.status.busy": "2025-03-10T12:39:13.334472Z",
     "iopub.status.idle": "2025-03-10T12:39:13.352077Z",
     "shell.execute_reply": "2025-03-10T12:39:13.350713Z"
    },
    "papermill": {
     "duration": 0.034587,
     "end_time": "2025-03-10T12:39:13.354035",
     "exception": false,
     "start_time": "2025-03-10T12:39:13.319448",
     "status": "completed"
    },
    "tags": []
   },
   "outputs": [],
   "source": [
    "embedding_dim=100\n",
    "vocabSize=len(tokenizer.word_index) + 1\n",
    "\n",
    "embeddingMatrix=np.zeros((vocabSize,embedding_dim))\n",
    "\n",
    "for word,i in tokenizer.word_index.items():\n",
    "    embeddingVector=gloveEmbeddings.get(word)\n",
    "    if embeddingVector is not None:\n",
    "        embeddingMatrix[i]=embeddingVector"
   ]
  },
  {
   "cell_type": "code",
   "execution_count": 16,
   "id": "deb899be",
   "metadata": {
    "execution": {
     "iopub.execute_input": "2025-03-10T12:39:13.384661Z",
     "iopub.status.busy": "2025-03-10T12:39:13.384276Z",
     "iopub.status.idle": "2025-03-10T12:39:13.389628Z",
     "shell.execute_reply": "2025-03-10T12:39:13.388380Z"
    },
    "papermill": {
     "duration": 0.022198,
     "end_time": "2025-03-10T12:39:13.391212",
     "exception": false,
     "start_time": "2025-03-10T12:39:13.369014",
     "status": "completed"
    },
    "tags": []
   },
   "outputs": [
    {
     "name": "stdout",
     "output_type": "stream",
     "text": [
      "Embedding matrix shape: (6795, 100)\n"
     ]
    }
   ],
   "source": [
    "print(\"Embedding matrix shape:\", embeddingMatrix.shape)\n"
   ]
  },
  {
   "cell_type": "markdown",
   "id": "dbaa7f82",
   "metadata": {
    "papermill": {
     "duration": 0.014749,
     "end_time": "2025-03-10T12:39:13.421063",
     "exception": false,
     "start_time": "2025-03-10T12:39:13.406314",
     "status": "completed"
    },
    "tags": []
   },
   "source": [
    "### MAKING THE MODEL"
   ]
  },
  {
   "cell_type": "code",
   "execution_count": 17,
   "id": "d39dca65",
   "metadata": {
    "execution": {
     "iopub.execute_input": "2025-03-10T12:39:13.452571Z",
     "iopub.status.busy": "2025-03-10T12:39:13.452177Z",
     "iopub.status.idle": "2025-03-10T12:39:13.652305Z",
     "shell.execute_reply": "2025-03-10T12:39:13.651191Z"
    },
    "papermill": {
     "duration": 0.217637,
     "end_time": "2025-03-10T12:39:13.654209",
     "exception": false,
     "start_time": "2025-03-10T12:39:13.436572",
     "status": "completed"
    },
    "tags": []
   },
   "outputs": [
    {
     "name": "stdout",
     "output_type": "stream",
     "text": [
      "Padded shape: (1000, 100)\n",
      "Labels shape: (1000,)\n"
     ]
    },
    {
     "data": {
      "text/html": [
       "<pre style=\"white-space:pre;overflow-x:auto;line-height:normal;font-family:Menlo,'DejaVu Sans Mono',consolas,'Courier New',monospace\"><span style=\"font-weight: bold\">Model: \"sequential\"</span>\n",
       "</pre>\n"
      ],
      "text/plain": [
       "\u001b[1mModel: \"sequential\"\u001b[0m\n"
      ]
     },
     "metadata": {},
     "output_type": "display_data"
    },
    {
     "data": {
      "text/html": [
       "<pre style=\"white-space:pre;overflow-x:auto;line-height:normal;font-family:Menlo,'DejaVu Sans Mono',consolas,'Courier New',monospace\">┏━━━━━━━━━━━━━━━━━━━━━━━━━━━━━━━━━━━━━━┳━━━━━━━━━━━━━━━━━━━━━━━━━━━━━┳━━━━━━━━━━━━━━━━━┓\n",
       "┃<span style=\"font-weight: bold\"> Layer (type)                         </span>┃<span style=\"font-weight: bold\"> Output Shape                </span>┃<span style=\"font-weight: bold\">         Param # </span>┃\n",
       "┡━━━━━━━━━━━━━━━━━━━━━━━━━━━━━━━━━━━━━━╇━━━━━━━━━━━━━━━━━━━━━━━━━━━━━╇━━━━━━━━━━━━━━━━━┩\n",
       "│ embedding (<span style=\"color: #0087ff; text-decoration-color: #0087ff\">Embedding</span>)                │ (<span style=\"color: #00d7ff; text-decoration-color: #00d7ff\">None</span>, <span style=\"color: #00af00; text-decoration-color: #00af00\">100</span>, <span style=\"color: #00af00; text-decoration-color: #00af00\">100</span>)            │         <span style=\"color: #00af00; text-decoration-color: #00af00\">679,500</span> │\n",
       "├──────────────────────────────────────┼─────────────────────────────┼─────────────────┤\n",
       "│ lstm (<span style=\"color: #0087ff; text-decoration-color: #0087ff\">LSTM</span>)                          │ (<span style=\"color: #00d7ff; text-decoration-color: #00d7ff\">None</span>, <span style=\"color: #00af00; text-decoration-color: #00af00\">100</span>, <span style=\"color: #00af00; text-decoration-color: #00af00\">128</span>)            │         <span style=\"color: #00af00; text-decoration-color: #00af00\">117,248</span> │\n",
       "├──────────────────────────────────────┼─────────────────────────────┼─────────────────┤\n",
       "│ lstm_1 (<span style=\"color: #0087ff; text-decoration-color: #0087ff\">LSTM</span>)                        │ (<span style=\"color: #00d7ff; text-decoration-color: #00d7ff\">None</span>, <span style=\"color: #00af00; text-decoration-color: #00af00\">64</span>)                  │          <span style=\"color: #00af00; text-decoration-color: #00af00\">49,408</span> │\n",
       "├──────────────────────────────────────┼─────────────────────────────┼─────────────────┤\n",
       "│ dropout (<span style=\"color: #0087ff; text-decoration-color: #0087ff\">Dropout</span>)                    │ (<span style=\"color: #00d7ff; text-decoration-color: #00d7ff\">None</span>, <span style=\"color: #00af00; text-decoration-color: #00af00\">64</span>)                  │               <span style=\"color: #00af00; text-decoration-color: #00af00\">0</span> │\n",
       "├──────────────────────────────────────┼─────────────────────────────┼─────────────────┤\n",
       "│ dense (<span style=\"color: #0087ff; text-decoration-color: #0087ff\">Dense</span>)                        │ (<span style=\"color: #00d7ff; text-decoration-color: #00d7ff\">None</span>, <span style=\"color: #00af00; text-decoration-color: #00af00\">3</span>)                   │             <span style=\"color: #00af00; text-decoration-color: #00af00\">195</span> │\n",
       "└──────────────────────────────────────┴─────────────────────────────┴─────────────────┘\n",
       "</pre>\n"
      ],
      "text/plain": [
       "┏━━━━━━━━━━━━━━━━━━━━━━━━━━━━━━━━━━━━━━┳━━━━━━━━━━━━━━━━━━━━━━━━━━━━━┳━━━━━━━━━━━━━━━━━┓\n",
       "┃\u001b[1m \u001b[0m\u001b[1mLayer (type)                        \u001b[0m\u001b[1m \u001b[0m┃\u001b[1m \u001b[0m\u001b[1mOutput Shape               \u001b[0m\u001b[1m \u001b[0m┃\u001b[1m \u001b[0m\u001b[1m        Param #\u001b[0m\u001b[1m \u001b[0m┃\n",
       "┡━━━━━━━━━━━━━━━━━━━━━━━━━━━━━━━━━━━━━━╇━━━━━━━━━━━━━━━━━━━━━━━━━━━━━╇━━━━━━━━━━━━━━━━━┩\n",
       "│ embedding (\u001b[38;5;33mEmbedding\u001b[0m)                │ (\u001b[38;5;45mNone\u001b[0m, \u001b[38;5;34m100\u001b[0m, \u001b[38;5;34m100\u001b[0m)            │         \u001b[38;5;34m679,500\u001b[0m │\n",
       "├──────────────────────────────────────┼─────────────────────────────┼─────────────────┤\n",
       "│ lstm (\u001b[38;5;33mLSTM\u001b[0m)                          │ (\u001b[38;5;45mNone\u001b[0m, \u001b[38;5;34m100\u001b[0m, \u001b[38;5;34m128\u001b[0m)            │         \u001b[38;5;34m117,248\u001b[0m │\n",
       "├──────────────────────────────────────┼─────────────────────────────┼─────────────────┤\n",
       "│ lstm_1 (\u001b[38;5;33mLSTM\u001b[0m)                        │ (\u001b[38;5;45mNone\u001b[0m, \u001b[38;5;34m64\u001b[0m)                  │          \u001b[38;5;34m49,408\u001b[0m │\n",
       "├──────────────────────────────────────┼─────────────────────────────┼─────────────────┤\n",
       "│ dropout (\u001b[38;5;33mDropout\u001b[0m)                    │ (\u001b[38;5;45mNone\u001b[0m, \u001b[38;5;34m64\u001b[0m)                  │               \u001b[38;5;34m0\u001b[0m │\n",
       "├──────────────────────────────────────┼─────────────────────────────┼─────────────────┤\n",
       "│ dense (\u001b[38;5;33mDense\u001b[0m)                        │ (\u001b[38;5;45mNone\u001b[0m, \u001b[38;5;34m3\u001b[0m)                   │             \u001b[38;5;34m195\u001b[0m │\n",
       "└──────────────────────────────────────┴─────────────────────────────┴─────────────────┘\n"
      ]
     },
     "metadata": {},
     "output_type": "display_data"
    },
    {
     "data": {
      "text/html": [
       "<pre style=\"white-space:pre;overflow-x:auto;line-height:normal;font-family:Menlo,'DejaVu Sans Mono',consolas,'Courier New',monospace\"><span style=\"font-weight: bold\"> Total params: </span><span style=\"color: #00af00; text-decoration-color: #00af00\">846,351</span> (3.23 MB)\n",
       "</pre>\n"
      ],
      "text/plain": [
       "\u001b[1m Total params: \u001b[0m\u001b[38;5;34m846,351\u001b[0m (3.23 MB)\n"
      ]
     },
     "metadata": {},
     "output_type": "display_data"
    },
    {
     "data": {
      "text/html": [
       "<pre style=\"white-space:pre;overflow-x:auto;line-height:normal;font-family:Menlo,'DejaVu Sans Mono',consolas,'Courier New',monospace\"><span style=\"font-weight: bold\"> Trainable params: </span><span style=\"color: #00af00; text-decoration-color: #00af00\">166,851</span> (651.76 KB)\n",
       "</pre>\n"
      ],
      "text/plain": [
       "\u001b[1m Trainable params: \u001b[0m\u001b[38;5;34m166,851\u001b[0m (651.76 KB)\n"
      ]
     },
     "metadata": {},
     "output_type": "display_data"
    },
    {
     "data": {
      "text/html": [
       "<pre style=\"white-space:pre;overflow-x:auto;line-height:normal;font-family:Menlo,'DejaVu Sans Mono',consolas,'Courier New',monospace\"><span style=\"font-weight: bold\"> Non-trainable params: </span><span style=\"color: #00af00; text-decoration-color: #00af00\">679,500</span> (2.59 MB)\n",
       "</pre>\n"
      ],
      "text/plain": [
       "\u001b[1m Non-trainable params: \u001b[0m\u001b[38;5;34m679,500\u001b[0m (2.59 MB)\n"
      ]
     },
     "metadata": {},
     "output_type": "display_data"
    }
   ],
   "source": [
    "from tensorflow.keras.models import Sequential\n",
    "from tensorflow.keras.layers import Embedding, LSTM, Dense, Dropout,Input\n",
    "maxLen=100\n",
    "X_train = padded_sequences \n",
    "y_train = lmtpData[\"Sentiment\"].values  \n",
    "\n",
    "print(\"Padded shape:\", X_train.shape)  \n",
    "print(\"Labels shape:\", y_train.shape) \n",
    "\n",
    "model = Sequential([\n",
    "    Input(shape=(maxLen,)),\n",
    "    Embedding(input_dim=vocabSize,  \n",
    "              output_dim=embedding_dim, \n",
    "              weights=embeddingMatrix, \n",
    "             \n",
    "              trainable=False), \n",
    "    LSTM(128, return_sequences=True),\n",
    "    LSTM(64),\n",
    "    Dropout(0.3),\n",
    "    Dense(3, activation='softmax') \n",
    "])\n",
    "\n",
    "\n",
    "model.compile(loss='sparse_categorical_crossentropy', optimizer='adam', metrics=['accuracy'])\n",
    "\n",
    "model.summary()\n"
   ]
  },
  {
   "cell_type": "code",
   "execution_count": 18,
   "id": "7fa17078",
   "metadata": {
    "execution": {
     "iopub.execute_input": "2025-03-10T12:39:13.685551Z",
     "iopub.status.busy": "2025-03-10T12:39:13.685197Z",
     "iopub.status.idle": "2025-03-10T12:39:55.508434Z",
     "shell.execute_reply": "2025-03-10T12:39:55.506573Z"
    },
    "papermill": {
     "duration": 41.842009,
     "end_time": "2025-03-10T12:39:55.511491",
     "exception": false,
     "start_time": "2025-03-10T12:39:13.669482",
     "status": "completed"
    },
    "tags": []
   },
   "outputs": [
    {
     "name": "stdout",
     "output_type": "stream",
     "text": [
      "Epoch 1/10\n",
      "\u001b[1m22/22\u001b[0m \u001b[32m━━━━━━━━━━━━━━━━━━━━\u001b[0m\u001b[37m\u001b[0m \u001b[1m7s\u001b[0m 172ms/step - accuracy: 0.7214 - loss: 0.9602 - val_accuracy: 0.7700 - val_loss: 0.6967\n",
      "Epoch 2/10\n",
      "\u001b[1m22/22\u001b[0m \u001b[32m━━━━━━━━━━━━━━━━━━━━\u001b[0m\u001b[37m\u001b[0m \u001b[1m3s\u001b[0m 159ms/step - accuracy: 0.7894 - loss: 0.6875 - val_accuracy: 0.7700 - val_loss: 0.6816\n",
      "Epoch 3/10\n",
      "\u001b[1m22/22\u001b[0m \u001b[32m━━━━━━━━━━━━━━━━━━━━\u001b[0m\u001b[37m\u001b[0m \u001b[1m3s\u001b[0m 152ms/step - accuracy: 0.7808 - loss: 0.6702 - val_accuracy: 0.7700 - val_loss: 0.6984\n",
      "Epoch 4/10\n",
      "\u001b[1m22/22\u001b[0m \u001b[32m━━━━━━━━━━━━━━━━━━━━\u001b[0m\u001b[37m\u001b[0m \u001b[1m3s\u001b[0m 150ms/step - accuracy: 0.7519 - loss: 0.7453 - val_accuracy: 0.7700 - val_loss: 0.6776\n",
      "Epoch 5/10\n",
      "\u001b[1m22/22\u001b[0m \u001b[32m━━━━━━━━━━━━━━━━━━━━\u001b[0m\u001b[37m\u001b[0m \u001b[1m4s\u001b[0m 172ms/step - accuracy: 0.7601 - loss: 0.7148 - val_accuracy: 0.7700 - val_loss: 0.6774\n",
      "Epoch 6/10\n",
      "\u001b[1m22/22\u001b[0m \u001b[32m━━━━━━━━━━━━━━━━━━━━\u001b[0m\u001b[37m\u001b[0m \u001b[1m4s\u001b[0m 167ms/step - accuracy: 0.7774 - loss: 0.6761 - val_accuracy: 0.7700 - val_loss: 0.6781\n",
      "Epoch 7/10\n",
      "\u001b[1m22/22\u001b[0m \u001b[32m━━━━━━━━━━━━━━━━━━━━\u001b[0m\u001b[37m\u001b[0m \u001b[1m5s\u001b[0m 152ms/step - accuracy: 0.7809 - loss: 0.6542 - val_accuracy: 0.7700 - val_loss: 0.6713\n",
      "Epoch 8/10\n",
      "\u001b[1m22/22\u001b[0m \u001b[32m━━━━━━━━━━━━━━━━━━━━\u001b[0m\u001b[37m\u001b[0m \u001b[1m5s\u001b[0m 163ms/step - accuracy: 0.7475 - loss: 0.7282 - val_accuracy: 0.7700 - val_loss: 0.6890\n",
      "Epoch 9/10\n",
      "\u001b[1m22/22\u001b[0m \u001b[32m━━━━━━━━━━━━━━━━━━━━\u001b[0m\u001b[37m\u001b[0m \u001b[1m3s\u001b[0m 157ms/step - accuracy: 0.7709 - loss: 0.6742 - val_accuracy: 0.7700 - val_loss: 0.6752\n",
      "Epoch 10/10\n",
      "\u001b[1m22/22\u001b[0m \u001b[32m━━━━━━━━━━━━━━━━━━━━\u001b[0m\u001b[37m\u001b[0m \u001b[1m3s\u001b[0m 154ms/step - accuracy: 0.7656 - loss: 0.6908 - val_accuracy: 0.7700 - val_loss: 0.6816\n"
     ]
    }
   ],
   "source": [
    "\n",
    "history=model.fit(X_train, y_train, epochs=10, batch_size=32, validation_split=0.3)\n",
    "\n"
   ]
  },
  {
   "cell_type": "markdown",
   "id": "e33bd5fc",
   "metadata": {
    "papermill": {
     "duration": 0.030269,
     "end_time": "2025-03-10T12:39:55.574816",
     "exception": false,
     "start_time": "2025-03-10T12:39:55.544547",
     "status": "completed"
    },
    "tags": []
   },
   "source": [
    "#### PLOTTING AND ACCURACY AND LOSS CURVES"
   ]
  },
  {
   "cell_type": "code",
   "execution_count": 19,
   "id": "3c2eac80",
   "metadata": {
    "execution": {
     "iopub.execute_input": "2025-03-10T12:39:55.637955Z",
     "iopub.status.busy": "2025-03-10T12:39:55.637537Z",
     "iopub.status.idle": "2025-03-10T12:39:55.643818Z",
     "shell.execute_reply": "2025-03-10T12:39:55.641755Z"
    },
    "papermill": {
     "duration": 0.040817,
     "end_time": "2025-03-10T12:39:55.646021",
     "exception": false,
     "start_time": "2025-03-10T12:39:55.605204",
     "status": "completed"
    },
    "tags": []
   },
   "outputs": [],
   "source": [
    "import matplotlib.pyplot as plt\n",
    "accuracy=history.history['accuracy']\n",
    "valAccuracy=history.history['val_accuracy']\n",
    "loss = history.history['loss']\n",
    "valLoss = history.history['val_loss']\n",
    "epochs_range = range(1, len(accuracy) + 1)"
   ]
  },
  {
   "cell_type": "code",
   "execution_count": 20,
   "id": "3b1d67c4",
   "metadata": {
    "execution": {
     "iopub.execute_input": "2025-03-10T12:39:55.709586Z",
     "iopub.status.busy": "2025-03-10T12:39:55.708914Z",
     "iopub.status.idle": "2025-03-10T12:39:56.101094Z",
     "shell.execute_reply": "2025-03-10T12:39:56.099857Z"
    },
    "papermill": {
     "duration": 0.427528,
     "end_time": "2025-03-10T12:39:56.102977",
     "exception": false,
     "start_time": "2025-03-10T12:39:55.675449",
     "status": "completed"
    },
    "tags": []
   },
   "outputs": [
    {
     "data": {
      "text/plain": [
       "Text(0.5, 1.0, 'Training & Validation Accuracy')"
      ]
     },
     "execution_count": 20,
     "metadata": {},
     "output_type": "execute_result"
    },
    {
     "data": {
      "image/png": "[encoded data removed]",
      "text/plain": [
       "<Figure size 1200x500 with 1 Axes>"
      ]
     },
     "metadata": {},
     "output_type": "display_data"
    }
   ],
   "source": [
    "plt.figure(figsize=(12, 5))\n",
    "plt.subplot(1, 2, 1)\n",
    "plt.plot(epochs_range, accuracy, label='Training Accuracy', marker='o')\n",
    "plt.plot(epochs_range, valAccuracy, label='Validation Accuracy', marker='o')\n",
    "plt.legend(loc='lower right')\n",
    "plt.xlabel('Epochs')\n",
    "plt.ylabel('Accuracy')\n",
    "plt.title('Training & Validation Accuracy')"
   ]
  },
  {
   "cell_type": "code",
   "execution_count": 21,
   "id": "0d4e24f6",
   "metadata": {
    "execution": {
     "iopub.execute_input": "2025-03-10T12:39:56.168187Z",
     "iopub.status.busy": "2025-03-10T12:39:56.167795Z",
     "iopub.status.idle": "2025-03-10T12:39:56.466325Z",
     "shell.execute_reply": "2025-03-10T12:39:56.465222Z"
    },
    "papermill": {
     "duration": 0.333934,
     "end_time": "2025-03-10T12:39:56.468652",
     "exception": false,
     "start_time": "2025-03-10T12:39:56.134718",
     "status": "completed"
    },
    "tags": []
   },
   "outputs": [
    {
     "data": {
      "text/plain": [
       "Text(0.5, 1.0, 'Training & Validation Loss')"
      ]
     },
     "execution_count": 21,
     "metadata": {},
     "output_type": "execute_result"
    },
    {
     "data": {
      "image/png": "[encoded data removed]",
      "text/plain": [
       "<Figure size 1200x500 with 1 Axes>"
      ]
     },
     "metadata": {},
     "output_type": "display_data"
    }
   ],
   "source": [
    "plt.figure(figsize=(12, 5))\n",
    "plt.subplot(1, 2, 2)\n",
    "plt.plot(epochs_range, loss, label='Training Loss', marker='o')\n",
    "plt.plot(epochs_range, valLoss, label='Validation Loss', marker='o')\n",
    "plt.legend(loc='upper right')\n",
    "plt.xlabel('Epochs')\n",
    "plt.ylabel('Loss')\n",
    "plt.title('Training & Validation Loss')"
   ]
  },
  {
   "cell_type": "markdown",
   "id": "61f69dee",
   "metadata": {
    "papermill": {
     "duration": 0.02986,
     "end_time": "2025-03-10T12:39:56.530526",
     "exception": false,
     "start_time": "2025-03-10T12:39:56.500666",
     "status": "completed"
    },
    "tags": []
   },
   "source": [
    "##### overfitting"
   ]
  },
  {
   "cell_type": "markdown",
   "id": "95a0e6c4",
   "metadata": {
    "papermill": {
     "duration": 0.030562,
     "end_time": "2025-03-10T12:39:56.656046",
     "exception": false,
     "start_time": "2025-03-10T12:39:56.625484",
     "status": "completed"
    },
    "tags": []
   },
   "source": [
    "### OUTPUT VS PREDICTED OUTPUT\n"
   ]
  },
  {
   "cell_type": "code",
   "execution_count": 22,
   "id": "4eb11be2",
   "metadata": {
    "execution": {
     "iopub.execute_input": "2025-03-10T12:39:56.721662Z",
     "iopub.status.busy": "2025-03-10T12:39:56.721260Z",
     "iopub.status.idle": "2025-03-10T12:39:59.187161Z",
     "shell.execute_reply": "2025-03-10T12:39:59.185735Z"
    },
    "papermill": {
     "duration": 2.503289,
     "end_time": "2025-03-10T12:39:59.190201",
     "exception": false,
     "start_time": "2025-03-10T12:39:56.686912",
     "status": "completed"
    },
    "tags": []
   },
   "outputs": [
    {
     "name": "stdout",
     "output_type": "stream",
     "text": [
      "\u001b[1m32/32\u001b[0m \u001b[32m━━━━━━━━━━━━━━━━━━━━\u001b[0m\u001b[37m\u001b[0m \u001b[1m2s\u001b[0m 65ms/step\n"
     ]
    }
   ],
   "source": [
    "predictions = model.predict(padded_sequences)\n",
    "corrected_classes = np.argmax(predictions, axis=1)\n",
    "mapping = {0: 1, 1: 2, 2: 0}\n",
    "predictedClasses = np.array([mapping[i] for i in corrected_classes])\n"
   ]
  },
  {
   "cell_type": "code",
   "execution_count": 23,
   "id": "45002d23",
   "metadata": {
    "execution": {
     "iopub.execute_input": "2025-03-10T12:39:59.265515Z",
     "iopub.status.busy": "2025-03-10T12:39:59.265104Z",
     "iopub.status.idle": "2025-03-10T12:39:59.270940Z",
     "shell.execute_reply": "2025-03-10T12:39:59.269457Z"
    },
    "papermill": {
     "duration": 0.043616,
     "end_time": "2025-03-10T12:39:59.272973",
     "exception": false,
     "start_time": "2025-03-10T12:39:59.229357",
     "status": "completed"
    },
    "tags": []
   },
   "outputs": [
    {
     "name": "stdout",
     "output_type": "stream",
     "text": [
      "[[0.12741937 0.80216247 0.07041813]\n",
      " [0.1274194  0.8021624  0.07041807]\n",
      " [0.2254517  0.69129777 0.08325049]\n",
      " [0.12741944 0.80216247 0.07041805]\n",
      " [0.12653416 0.80256724 0.07089853]]\n"
     ]
    }
   ],
   "source": [
    "\n",
    "print(predictions[:5])\n"
   ]
  },
  {
   "cell_type": "code",
   "execution_count": 24,
   "id": "b8bbfbac",
   "metadata": {
    "execution": {
     "iopub.execute_input": "2025-03-10T12:39:59.339887Z",
     "iopub.status.busy": "2025-03-10T12:39:59.339479Z",
     "iopub.status.idle": "2025-03-10T12:39:59.346943Z",
     "shell.execute_reply": "2025-03-10T12:39:59.345615Z"
    },
    "papermill": {
     "duration": 0.042922,
     "end_time": "2025-03-10T12:39:59.348636",
     "exception": false,
     "start_time": "2025-03-10T12:39:59.305714",
     "status": "completed"
    },
    "tags": []
   },
   "outputs": [
    {
     "name": "stdout",
     "output_type": "stream",
     "text": [
      "Any NaNs in predictions? False\n",
      "Any infinities in predictions? False\n"
     ]
    }
   ],
   "source": [
    "\n",
    "print(\"Any NaNs in predictions?\", np.isnan(predictions).any())\n",
    "print(\"Any infinities in predictions?\", np.isinf(predictions).any())\n"
   ]
  },
  {
   "cell_type": "code",
   "execution_count": 25,
   "id": "8c1ddf44",
   "metadata": {
    "execution": {
     "iopub.execute_input": "2025-03-10T12:39:59.415147Z",
     "iopub.status.busy": "2025-03-10T12:39:59.414757Z",
     "iopub.status.idle": "2025-03-10T12:39:59.421186Z",
     "shell.execute_reply": "2025-03-10T12:39:59.419523Z"
    },
    "papermill": {
     "duration": 0.041769,
     "end_time": "2025-03-10T12:39:59.423088",
     "exception": false,
     "start_time": "2025-03-10T12:39:59.381319",
     "status": "completed"
    },
    "tags": []
   },
   "outputs": [],
   "source": [
    "comparisonData=pd.DataFrame({\n",
    "    \"Text\":lmtpData[\"CombinedText\"],\n",
    "    \"Actual Sentiment\":lmtpData[\"Sentiment\"].values,\n",
    "    \"Predicted Sentiment\":predictedClasses\n",
    "})\n"
   ]
  },
  {
   "cell_type": "code",
   "execution_count": 26,
   "id": "af1f44be",
   "metadata": {
    "execution": {
     "iopub.execute_input": "2025-03-10T12:39:59.489030Z",
     "iopub.status.busy": "2025-03-10T12:39:59.488620Z",
     "iopub.status.idle": "2025-03-10T12:39:59.493877Z",
     "shell.execute_reply": "2025-03-10T12:39:59.492745Z"
    },
    "papermill": {
     "duration": 0.040561,
     "end_time": "2025-03-10T12:39:59.495801",
     "exception": false,
     "start_time": "2025-03-10T12:39:59.455240",
     "status": "completed"
    },
    "tags": []
   },
   "outputs": [],
   "source": [
    "comparisonData = comparisonData.iloc[:1000]\n"
   ]
  },
  {
   "cell_type": "code",
   "execution_count": 27,
   "id": "395873bc",
   "metadata": {
    "execution": {
     "iopub.execute_input": "2025-03-10T12:39:59.562915Z",
     "iopub.status.busy": "2025-03-10T12:39:59.562522Z",
     "iopub.status.idle": "2025-03-10T12:39:59.569725Z",
     "shell.execute_reply": "2025-03-10T12:39:59.568155Z"
    },
    "papermill": {
     "duration": 0.041829,
     "end_time": "2025-03-10T12:39:59.571570",
     "exception": false,
     "start_time": "2025-03-10T12:39:59.529741",
     "status": "completed"
    },
    "tags": []
   },
   "outputs": [],
   "source": [
    "comparisonData = comparisonData.copy()\n",
    "\n",
    "comparisonData[\"Positive\"] = predictions[:, 0] \n",
    "comparisonData[\"Neutral\"] = predictions[:, 1]  \n",
    "comparisonData[\"Negative\"] = predictions[:, 2]\n",
    "\n"
   ]
  },
  {
   "cell_type": "code",
   "execution_count": 28,
   "id": "cff0976e",
   "metadata": {
    "execution": {
     "iopub.execute_input": "2025-03-10T12:39:59.638601Z",
     "iopub.status.busy": "2025-03-10T12:39:59.638125Z",
     "iopub.status.idle": "2025-03-10T12:39:59.665178Z",
     "shell.execute_reply": "2025-03-10T12:39:59.663803Z"
    },
    "papermill": {
     "duration": 0.063612,
     "end_time": "2025-03-10T12:39:59.668227",
     "exception": false,
     "start_time": "2025-03-10T12:39:59.604615",
     "status": "completed"
    },
    "tags": []
   },
   "outputs": [
    {
     "name": "stdout",
     "output_type": "stream",
     "text": [
      "       Actual Sentiment  Predicted Sentiment     Positive      Neutral  \\\n",
      "count       1000.000000          1000.000000  1000.000000  1000.000000   \n",
      "mean           0.930000             1.998000     0.129182     0.797973   \n",
      "std            0.476789             0.063246     0.019112     0.035086   \n",
      "min            0.000000             0.000000     0.075561     0.278933   \n",
      "25%            1.000000             2.000000     0.127381     0.802160   \n",
      "50%            1.000000             2.000000     0.127419     0.802162   \n",
      "75%            1.000000             2.000000     0.127420     0.802163   \n",
      "max            2.000000             2.000000     0.268758     0.885966   \n",
      "\n",
      "          Negative  \n",
      "count  1000.000000  \n",
      "mean      0.072845  \n",
      "std       0.023436  \n",
      "min       0.038474  \n",
      "25%       0.070418  \n",
      "50%       0.070418  \n",
      "75%       0.070452  \n",
      "max       0.594092  \n",
      "Text                    object\n",
      "Actual Sentiment         int64\n",
      "Predicted Sentiment      int64\n",
      "Positive               float32\n",
      "Neutral                float32\n",
      "Negative               float32\n",
      "dtype: object\n"
     ]
    }
   ],
   "source": [
    "print(comparisonData.describe())\n",
    "print(comparisonData.dtypes)\n"
   ]
  },
  {
   "cell_type": "code",
   "execution_count": 29,
   "id": "d885b7ea",
   "metadata": {
    "execution": {
     "iopub.execute_input": "2025-03-10T12:39:59.740353Z",
     "iopub.status.busy": "2025-03-10T12:39:59.739275Z",
     "iopub.status.idle": "2025-03-10T12:39:59.754132Z",
     "shell.execute_reply": "2025-03-10T12:39:59.752726Z"
    },
    "papermill": {
     "duration": 0.051843,
     "end_time": "2025-03-10T12:39:59.756268",
     "exception": false,
     "start_time": "2025-03-10T12:39:59.704425",
     "status": "completed"
    },
    "tags": []
   },
   "outputs": [
    {
     "data": {
      "text/html": [
       "<div>\n",
       "<style scoped>\n",
       "    .dataframe tbody tr th:only-of-type {\n",
       "        vertical-align: middle;\n",
       "    }\n",
       "\n",
       "    .dataframe tbody tr th {\n",
       "        vertical-align: top;\n",
       "    }\n",
       "\n",
       "    .dataframe thead th {\n",
       "        text-align: right;\n",
       "    }\n",
       "</style>\n",
       "<table border=\"1\" class=\"dataframe\">\n",
       "  <thead>\n",
       "    <tr style=\"text-align: right;\">\n",
       "      <th></th>\n",
       "      <th>Text</th>\n",
       "      <th>Actual Sentiment</th>\n",
       "      <th>Predicted Sentiment</th>\n",
       "      <th>Positive</th>\n",
       "      <th>Neutral</th>\n",
       "      <th>Negative</th>\n",
       "    </tr>\n",
       "  </thead>\n",
       "  <tbody>\n",
       "    <tr>\n",
       "      <th>382267</th>\n",
       "      <td>Good Coffee! I have used this coffee in the past, so I knew in advance that it was a good product. In fact, it was originally given to me as a gift by a friend from Turkey.</td>\n",
       "      <td>1</td>\n",
       "      <td>2</td>\n",
       "      <td>0.127419</td>\n",
       "      <td>0.802162</td>\n",
       "      <td>0.070418</td>\n",
       "    </tr>\n",
       "    <tr>\n",
       "      <th>533500</th>\n",
       "      <td>Great deal. I love PG tips tea.  It makes a great cup of tea and does not get bitter if left in the water.  Product came when expected and was a good price.</td>\n",
       "      <td>1</td>\n",
       "      <td>2</td>\n",
       "      <td>0.127419</td>\n",
       "      <td>0.802162</td>\n",
       "      <td>0.070418</td>\n",
       "    </tr>\n",
       "    <tr>\n",
       "      <th>162433</th>\n",
       "      <td>Rancid Smell and Taste I purchased this cereal because it appeared to be very healthy and promising. But once I received it and after smelling and tasting it i knew something was wrong. I know a rancid smell when i smell it. I would not feed this to my baby. I tasted and it left a terrible after taste. I called the company and read other reviews on this defect. The company says since there is less fat in this specific product, a smell has resulted but it does not affect the overall product and is safe to eat. I was sent another container but this had the same smell, so I would conclude that the recently made containers are all like this. The expiration date was in 2013. Sorry, but anything that smells like this I would never give to my baby. However the oat and rice cereals do not have a rancid smell and I give those to my baby every day and do not see a problem with them. I still need to research more into the extraction method of DHA which may also have something to do with the smell.</td>\n",
       "      <td>0</td>\n",
       "      <td>2</td>\n",
       "      <td>0.225452</td>\n",
       "      <td>0.691298</td>\n",
       "      <td>0.083250</td>\n",
       "    </tr>\n",
       "    <tr>\n",
       "      <th>258153</th>\n",
       "      <td>Hilda Loves It! It's Grrrreat, according to Hilda! She constantly brings each of her Kongs (5 of 'em) trying to get me to Stuff'N Liver Paste them.</td>\n",
       "      <td>1</td>\n",
       "      <td>2</td>\n",
       "      <td>0.127419</td>\n",
       "      <td>0.802162</td>\n",
       "      <td>0.070418</td>\n",
       "    </tr>\n",
       "    <tr>\n",
       "      <th>352961</th>\n",
       "      <td>Quick, easy to make Quick, easy to make. Gluten free. Good. It doesn't take as long to cook as the directions say. Just watch it until you think it is done. It can be eaten with a variety of things added - raisins, brown sugar, &amp; cinnamon; maple syrup, etc. The price is not good (Unusual for Amazon). Walmart carries it for about $1.50+ less per box ($9.00+ less per 6). Ouch! When they get a better price and put it on Subscribe &amp; Save I'll buy it here again.</td>\n",
       "      <td>1</td>\n",
       "      <td>2</td>\n",
       "      <td>0.126534</td>\n",
       "      <td>0.802567</td>\n",
       "      <td>0.070899</td>\n",
       "    </tr>\n",
       "    <tr>\n",
       "      <th>491807</th>\n",
       "      <td>Uh whoops I used the wrong review for the last item. If you want to see my review for tender bits you will need to go to the Loma Linda Vegie Burger.  Now I'm reviewing the vegie burger and it's great too.  Use just like any ground meat.</td>\n",
       "      <td>1</td>\n",
       "      <td>2</td>\n",
       "      <td>0.127420</td>\n",
       "      <td>0.802163</td>\n",
       "      <td>0.070417</td>\n",
       "    </tr>\n",
       "    <tr>\n",
       "      <th>437855</th>\n",
       "      <td>I never have to buy cat food at the supermarket again I love buying cat food on subscribe and save. I began using the service when I had surgery and couldn't lift it. Then I discovered it was more economical this way. I never have to lug cat food again. However, to find out how to use subscribe and save is very difficult.</td>\n",
       "      <td>1</td>\n",
       "      <td>2</td>\n",
       "      <td>0.127410</td>\n",
       "      <td>0.802158</td>\n",
       "      <td>0.070431</td>\n",
       "    </tr>\n",
       "    <tr>\n",
       "      <th>223185</th>\n",
       "      <td>Made her smile This was a gift for a deployed friend who hadn't had them in years since she is also stationed overseas. They brought a smile to her face and she loved them before so she loved them then. I didn't like the way they were packaged to her, they were just in a box, so I feared that they would get crushed in shipment but she said they were fine and that didn't matter. Thanks Amazon!!</td>\n",
       "      <td>1</td>\n",
       "      <td>2</td>\n",
       "      <td>0.127217</td>\n",
       "      <td>0.802159</td>\n",
       "      <td>0.070624</td>\n",
       "    </tr>\n",
       "    <tr>\n",
       "      <th>97708</th>\n",
       "      <td>Tastes exactly like blueberry muffins! So good.  If you like Blueberry Muffins, you'll love this!  These snack packs taste great and make you want to eat them all up.</td>\n",
       "      <td>1</td>\n",
       "      <td>2</td>\n",
       "      <td>0.127420</td>\n",
       "      <td>0.802163</td>\n",
       "      <td>0.070418</td>\n",
       "    </tr>\n",
       "    <tr>\n",
       "      <th>89770</th>\n",
       "      <td>My dogs love it, but the ingredient list gives me paws...ahem, pause Chef Michael might be a fictional character in the same vein as Aunt Jemima and the Keebler Elves, but that doesn't excuse him from putting some truly nasty ingredients into his Grilled Sirloin Dry Dog Food. So many other reviewers have pointed out the list of dubious ingredients that it doesn't pay to duplicate them again, but I urge you to take a long, hard look at that list before you commit to purchasing this item.&lt;br /&gt;&lt;br /&gt;Nutrition aside, this is a very tasty food item based on my dogs' response to finding it in their bowl. Frankly, they went bonkers over Chef Michael's Grilled Sirloin Dry Dog Food. I'm probably not going to make this part of their regular diet, but I will continue using it as a treat.</td>\n",
       "      <td>0</td>\n",
       "      <td>2</td>\n",
       "      <td>0.184311</td>\n",
       "      <td>0.739862</td>\n",
       "      <td>0.075827</td>\n",
       "    </tr>\n",
       "  </tbody>\n",
       "</table>\n",
       "</div>"
      ],
      "text/plain": [
       "                                                                                                                                                                                                                                                                                                                                                                                                                                                                                                                                                                                                                                                                                                                                                                                                                                                                                                                                                                                                                                             Text  \\\n",
       "382267                                                                                                                                                                                                                                                                                                                                                                                                                                                                                                                                                                                                                                                                                                                                                                                                                                                               Good Coffee! I have used this coffee in the past, so I knew in advance that it was a good product. In fact, it was originally given to me as a gift by a friend from Turkey.   \n",
       "533500                                                                                                                                                                                                                                                                                                                                                                                                                                                                                                                                                                                                                                                                                                                                                                                                                                                                               Great deal. I love PG tips tea.  It makes a great cup of tea and does not get bitter if left in the water.  Product came when expected and was a good price.   \n",
       "162433  Rancid Smell and Taste I purchased this cereal because it appeared to be very healthy and promising. But once I received it and after smelling and tasting it i knew something was wrong. I know a rancid smell when i smell it. I would not feed this to my baby. I tasted and it left a terrible after taste. I called the company and read other reviews on this defect. The company says since there is less fat in this specific product, a smell has resulted but it does not affect the overall product and is safe to eat. I was sent another container but this had the same smell, so I would conclude that the recently made containers are all like this. The expiration date was in 2013. Sorry, but anything that smells like this I would never give to my baby. However the oat and rice cereals do not have a rancid smell and I give those to my baby every day and do not see a problem with them. I still need to research more into the extraction method of DHA which may also have something to do with the smell.   \n",
       "258153                                                                                                                                                                                                                                                                                                                                                                                                                                                                                                                                                                                                                                                                                                                                                                                                                                                                                        Hilda Loves It! It's Grrrreat, according to Hilda! She constantly brings each of her Kongs (5 of 'em) trying to get me to Stuff'N Liver Paste them.   \n",
       "352961                                                                                                                                                                                                                                                                                                                                                                                                                                                                                                                                                              Quick, easy to make Quick, easy to make. Gluten free. Good. It doesn't take as long to cook as the directions say. Just watch it until you think it is done. It can be eaten with a variety of things added - raisins, brown sugar, & cinnamon; maple syrup, etc. The price is not good (Unusual for Amazon). Walmart carries it for about $1.50+ less per box ($9.00+ less per 6). Ouch! When they get a better price and put it on Subscribe & Save I'll buy it here again.   \n",
       "491807                                                                                                                                                                                                                                                                                                                                                                                                                                                                                                                                                                                                                                                                                                                                                                                              Uh whoops I used the wrong review for the last item. If you want to see my review for tender bits you will need to go to the Loma Linda Vegie Burger.  Now I'm reviewing the vegie burger and it's great too.  Use just like any ground meat.   \n",
       "437855                                                                                                                                                                                                                                                                                                                                                                                                                                                                                                                                                                                                                                                                                                        I never have to buy cat food at the supermarket again I love buying cat food on subscribe and save. I began using the service when I had surgery and couldn't lift it. Then I discovered it was more economical this way. I never have to lug cat food again. However, to find out how to use subscribe and save is very difficult.   \n",
       "223185                                                                                                                                                                                                                                                                                                                                                                                                                                                                                                                                                                                                                               Made her smile This was a gift for a deployed friend who hadn't had them in years since she is also stationed overseas. They brought a smile to her face and she loved them before so she loved them then. I didn't like the way they were packaged to her, they were just in a box, so I feared that they would get crushed in shipment but she said they were fine and that didn't matter. Thanks Amazon!!   \n",
       "97708                                                                                                                                                                                                                                                                                                                                                                                                                                                                                                                                                                                                                                                                                                                                                                                                                                                                      Tastes exactly like blueberry muffins! So good.  If you like Blueberry Muffins, you'll love this!  These snack packs taste great and make you want to eat them all up.   \n",
       "89770                                                                                                                                                                                                                        My dogs love it, but the ingredient list gives me paws...ahem, pause Chef Michael might be a fictional character in the same vein as Aunt Jemima and the Keebler Elves, but that doesn't excuse him from putting some truly nasty ingredients into his Grilled Sirloin Dry Dog Food. So many other reviewers have pointed out the list of dubious ingredients that it doesn't pay to duplicate them again, but I urge you to take a long, hard look at that list before you commit to purchasing this item.<br /><br />Nutrition aside, this is a very tasty food item based on my dogs' response to finding it in their bowl. Frankly, they went bonkers over Chef Michael's Grilled Sirloin Dry Dog Food. I'm probably not going to make this part of their regular diet, but I will continue using it as a treat.   \n",
       "\n",
       "        Actual Sentiment  Predicted Sentiment  Positive   Neutral  Negative  \n",
       "382267                 1                    2  0.127419  0.802162  0.070418  \n",
       "533500                 1                    2  0.127419  0.802162  0.070418  \n",
       "162433                 0                    2  0.225452  0.691298  0.083250  \n",
       "258153                 1                    2  0.127419  0.802162  0.070418  \n",
       "352961                 1                    2  0.126534  0.802567  0.070899  \n",
       "491807                 1                    2  0.127420  0.802163  0.070417  \n",
       "437855                 1                    2  0.127410  0.802158  0.070431  \n",
       "223185                 1                    2  0.127217  0.802159  0.070624  \n",
       "97708                  1                    2  0.127420  0.802163  0.070418  \n",
       "89770                  0                    2  0.184311  0.739862  0.075827  "
      ]
     },
     "execution_count": 29,
     "metadata": {},
     "output_type": "execute_result"
    }
   ],
   "source": [
    "comparisonData.head(10)"
   ]
  },
  {
   "cell_type": "code",
   "execution_count": 30,
   "id": "8d14d6b6",
   "metadata": {
    "execution": {
     "iopub.execute_input": "2025-03-10T12:39:59.826977Z",
     "iopub.status.busy": "2025-03-10T12:39:59.826549Z",
     "iopub.status.idle": "2025-03-10T12:40:00.597085Z",
     "shell.execute_reply": "2025-03-10T12:40:00.595851Z"
    },
    "papermill": {
     "duration": 0.807197,
     "end_time": "2025-03-10T12:40:00.599072",
     "exception": false,
     "start_time": "2025-03-10T12:39:59.791875",
     "status": "completed"
    },
    "tags": []
   },
   "outputs": [],
   "source": [
    "comparisonData.to_excel(\"PredictedSample1.xlsx\", index=False)\n"
   ]
  },
  {
   "cell_type": "markdown",
   "id": "5cc60749",
   "metadata": {
    "papermill": {
     "duration": 0.034381,
     "end_time": "2025-03-10T12:40:00.667536",
     "exception": false,
     "start_time": "2025-03-10T12:40:00.633155",
     "status": "completed"
    },
    "tags": []
   },
   "source": [
    "## TRAINING USING NEW SAMPLE DATASET"
   ]
  },
  {
   "cell_type": "code",
   "execution_count": 31,
   "id": "c57bb5d4",
   "metadata": {
    "execution": {
     "iopub.execute_input": "2025-03-10T12:40:00.736632Z",
     "iopub.status.busy": "2025-03-10T12:40:00.735950Z",
     "iopub.status.idle": "2025-03-10T12:40:00.873722Z",
     "shell.execute_reply": "2025-03-10T12:40:00.872398Z"
    },
    "papermill": {
     "duration": 0.176384,
     "end_time": "2025-03-10T12:40:00.876910",
     "exception": false,
     "start_time": "2025-03-10T12:40:00.700526",
     "status": "completed"
    },
    "tags": []
   },
   "outputs": [
    {
     "data": {
      "text/html": [
       "<div>\n",
       "<style scoped>\n",
       "    .dataframe tbody tr th:only-of-type {\n",
       "        vertical-align: middle;\n",
       "    }\n",
       "\n",
       "    .dataframe tbody tr th {\n",
       "        vertical-align: top;\n",
       "    }\n",
       "\n",
       "    .dataframe thead th {\n",
       "        text-align: right;\n",
       "    }\n",
       "</style>\n",
       "<table border=\"1\" class=\"dataframe\">\n",
       "  <thead>\n",
       "    <tr style=\"text-align: right;\">\n",
       "      <th></th>\n",
       "      <th>Id</th>\n",
       "      <th>ProductId</th>\n",
       "      <th>UserId</th>\n",
       "      <th>ProfileName</th>\n",
       "      <th>HelpfulnessNumerator</th>\n",
       "      <th>HelpfulnessDenominator</th>\n",
       "      <th>Score</th>\n",
       "      <th>Time</th>\n",
       "      <th>Summary</th>\n",
       "      <th>Text</th>\n",
       "    </tr>\n",
       "  </thead>\n",
       "  <tbody>\n",
       "    <tr>\n",
       "      <th>150223</th>\n",
       "      <td>150224</td>\n",
       "      <td>B000HQO2E2</td>\n",
       "      <td>A2COVNEIISS65B</td>\n",
       "      <td>Christopher Debraine</td>\n",
       "      <td>0</td>\n",
       "      <td>0</td>\n",
       "      <td>5</td>\n",
       "      <td>1237939200</td>\n",
       "      <td>as expected.</td>\n",
       "      <td>these are top-quality mint toothpicks.  keep in mind they are infused with peppermint oil, so they are really quite strong.  as soon as i opened the mail bag they came in, the scent of peppermint filled the room.  i prefer peppermint to spearmint, so i'm really happy with the purchase.&lt;br /&gt;&lt;br /&gt;one final note:  as pictured, these are round one-pointed toothpicks, the other end being flat with some minor shaping.</td>\n",
       "    </tr>\n",
       "    <tr>\n",
       "      <th>541140</th>\n",
       "      <td>541141</td>\n",
       "      <td>B000FMTJJQ</td>\n",
       "      <td>A3KLPMF6GT7UFR</td>\n",
       "      <td>Allison Pugh</td>\n",
       "      <td>0</td>\n",
       "      <td>0</td>\n",
       "      <td>5</td>\n",
       "      <td>1176249600</td>\n",
       "      <td>Madhave Agave Nectar</td>\n",
       "      <td>This is a great product at a great price.  The light, amber colored nectar reminds me of butterscotch and the darker variety is more like maple syrup.  Both blend easily in liquids and taste great on cream of rice cereal.  It's low on the glycemic  index and doesn't require much.</td>\n",
       "    </tr>\n",
       "    <tr>\n",
       "      <th>480347</th>\n",
       "      <td>480348</td>\n",
       "      <td>B000DZDJ0K</td>\n",
       "      <td>A132ETQPMHQ585</td>\n",
       "      <td>Donna's Reviews \"I Love Shopping on Amazon!\"</td>\n",
       "      <td>0</td>\n",
       "      <td>0</td>\n",
       "      <td>5</td>\n",
       "      <td>1324252800</td>\n",
       "      <td>Love this stuff........</td>\n",
       "      <td>Love this stuff........Pamela's Products Ultimate Baking &amp; Pancake Mix, 24-Ounce Packages (Pack of 6)......This makes Great waffles in my waffle maker....</td>\n",
       "    </tr>\n",
       "    <tr>\n",
       "      <th>363040</th>\n",
       "      <td>363041</td>\n",
       "      <td>B0049WV8S8</td>\n",
       "      <td>A1BNOLUOK3C1KA</td>\n",
       "      <td>Cruiser</td>\n",
       "      <td>0</td>\n",
       "      <td>0</td>\n",
       "      <td>5</td>\n",
       "      <td>1343865600</td>\n",
       "      <td>Fast turkey bacon maker.</td>\n",
       "      <td>Since I bought this item its been taken camping and home use many many times so far.  Will be buying another so one will stay in the camper at all times.</td>\n",
       "    </tr>\n",
       "    <tr>\n",
       "      <th>555895</th>\n",
       "      <td>555896</td>\n",
       "      <td>B004E7A33E</td>\n",
       "      <td>A1OXWH79Y58DB5</td>\n",
       "      <td>flipflop</td>\n",
       "      <td>2</td>\n",
       "      <td>4</td>\n",
       "      <td>2</td>\n",
       "      <td>1320796800</td>\n",
       "      <td>Main ingredient says natural blueberry flavor</td>\n",
       "      <td>I love Olive Nation's Strawberry extract; however, the only ingredient I can taste in the Blueberry extract is the alcohol.&lt;br /&gt;&lt;br /&gt;In addition, I would love the option of a plastic bottle rather than glass.</td>\n",
       "    </tr>\n",
       "  </tbody>\n",
       "</table>\n",
       "</div>"
      ],
      "text/plain": [
       "            Id   ProductId          UserId  \\\n",
       "150223  150224  B000HQO2E2  A2COVNEIISS65B   \n",
       "541140  541141  B000FMTJJQ  A3KLPMF6GT7UFR   \n",
       "480347  480348  B000DZDJ0K  A132ETQPMHQ585   \n",
       "363040  363041  B0049WV8S8  A1BNOLUOK3C1KA   \n",
       "555895  555896  B004E7A33E  A1OXWH79Y58DB5   \n",
       "\n",
       "                                         ProfileName  HelpfulnessNumerator  \\\n",
       "150223                          Christopher Debraine                     0   \n",
       "541140                                  Allison Pugh                     0   \n",
       "480347  Donna's Reviews \"I Love Shopping on Amazon!\"                     0   \n",
       "363040                                       Cruiser                     0   \n",
       "555895                                      flipflop                     2   \n",
       "\n",
       "        HelpfulnessDenominator  Score        Time  \\\n",
       "150223                       0      5  1237939200   \n",
       "541140                       0      5  1176249600   \n",
       "480347                       0      5  1324252800   \n",
       "363040                       0      5  1343865600   \n",
       "555895                       4      2  1320796800   \n",
       "\n",
       "                                              Summary  \\\n",
       "150223                                   as expected.   \n",
       "541140                           Madhave Agave Nectar   \n",
       "480347                        Love this stuff........   \n",
       "363040                       Fast turkey bacon maker.   \n",
       "555895  Main ingredient says natural blueberry flavor   \n",
       "\n",
       "                                                                                                                                                                                                                                                                                                                                                                                                                                     Text  \n",
       "150223  these are top-quality mint toothpicks.  keep in mind they are infused with peppermint oil, so they are really quite strong.  as soon as i opened the mail bag they came in, the scent of peppermint filled the room.  i prefer peppermint to spearmint, so i'm really happy with the purchase.<br /><br />one final note:  as pictured, these are round one-pointed toothpicks, the other end being flat with some minor shaping.  \n",
       "541140                                                                                                                                           This is a great product at a great price.  The light, amber colored nectar reminds me of butterscotch and the darker variety is more like maple syrup.  Both blend easily in liquids and taste great on cream of rice cereal.  It's low on the glycemic  index and doesn't require much.  \n",
       "480347                                                                                                                                                                                                                                                                         Love this stuff........Pamela's Products Ultimate Baking & Pancake Mix, 24-Ounce Packages (Pack of 6)......This makes Great waffles in my waffle maker....  \n",
       "363040                                                                                                                                                                                                                                                                          Since I bought this item its been taken camping and home use many many times so far.  Will be buying another so one will stay in the camper at all times.  \n",
       "555895                                                                                                                                                                                                                 I love Olive Nation's Strawberry extract; however, the only ingredient I can taste in the Blueberry extract is the alcohol.<br /><br />In addition, I would love the option of a plastic bottle rather than glass.  "
      ]
     },
     "execution_count": 31,
     "metadata": {},
     "output_type": "execute_result"
    }
   ],
   "source": [
    "droppedData=dataset.drop(lmtpData.index)\n",
    "dataset2=droppedData.sample(1000,random_state=43)\n",
    "dataset2.head()"
   ]
  },
  {
   "cell_type": "code",
   "execution_count": 32,
   "id": "21b19ec8",
   "metadata": {
    "execution": {
     "iopub.execute_input": "2025-03-10T12:40:00.944916Z",
     "iopub.status.busy": "2025-03-10T12:40:00.944521Z",
     "iopub.status.idle": "2025-03-10T12:40:00.955226Z",
     "shell.execute_reply": "2025-03-10T12:40:00.954130Z"
    },
    "papermill": {
     "duration": 0.046296,
     "end_time": "2025-03-10T12:40:00.956989",
     "exception": false,
     "start_time": "2025-03-10T12:40:00.910693",
     "status": "completed"
    },
    "tags": []
   },
   "outputs": [
    {
     "data": {
      "text/html": [
       "<div>\n",
       "<style scoped>\n",
       "    .dataframe tbody tr th:only-of-type {\n",
       "        vertical-align: middle;\n",
       "    }\n",
       "\n",
       "    .dataframe tbody tr th {\n",
       "        vertical-align: top;\n",
       "    }\n",
       "\n",
       "    .dataframe thead th {\n",
       "        text-align: right;\n",
       "    }\n",
       "</style>\n",
       "<table border=\"1\" class=\"dataframe\">\n",
       "  <thead>\n",
       "    <tr style=\"text-align: right;\">\n",
       "      <th></th>\n",
       "      <th>Score</th>\n",
       "      <th>Summary</th>\n",
       "      <th>Text</th>\n",
       "    </tr>\n",
       "  </thead>\n",
       "  <tbody>\n",
       "    <tr>\n",
       "      <th>150223</th>\n",
       "      <td>5</td>\n",
       "      <td>as expected.</td>\n",
       "      <td>these are top-quality mint toothpicks.  keep in mind they are infused with peppermint oil, so they are really quite strong.  as soon as i opened the mail bag they came in, the scent of peppermint filled the room.  i prefer peppermint to spearmint, so i'm really happy with the purchase.&lt;br /&gt;&lt;br /&gt;one final note:  as pictured, these are round one-pointed toothpicks, the other end being flat with some minor shaping.</td>\n",
       "    </tr>\n",
       "    <tr>\n",
       "      <th>541140</th>\n",
       "      <td>5</td>\n",
       "      <td>Madhave Agave Nectar</td>\n",
       "      <td>This is a great product at a great price.  The light, amber colored nectar reminds me of butterscotch and the darker variety is more like maple syrup.  Both blend easily in liquids and taste great on cream of rice cereal.  It's low on the glycemic  index and doesn't require much.</td>\n",
       "    </tr>\n",
       "    <tr>\n",
       "      <th>480347</th>\n",
       "      <td>5</td>\n",
       "      <td>Love this stuff........</td>\n",
       "      <td>Love this stuff........Pamela's Products Ultimate Baking &amp; Pancake Mix, 24-Ounce Packages (Pack of 6)......This makes Great waffles in my waffle maker....</td>\n",
       "    </tr>\n",
       "    <tr>\n",
       "      <th>363040</th>\n",
       "      <td>5</td>\n",
       "      <td>Fast turkey bacon maker.</td>\n",
       "      <td>Since I bought this item its been taken camping and home use many many times so far.  Will be buying another so one will stay in the camper at all times.</td>\n",
       "    </tr>\n",
       "    <tr>\n",
       "      <th>555895</th>\n",
       "      <td>2</td>\n",
       "      <td>Main ingredient says natural blueberry flavor</td>\n",
       "      <td>I love Olive Nation's Strawberry extract; however, the only ingredient I can taste in the Blueberry extract is the alcohol.&lt;br /&gt;&lt;br /&gt;In addition, I would love the option of a plastic bottle rather than glass.</td>\n",
       "    </tr>\n",
       "  </tbody>\n",
       "</table>\n",
       "</div>"
      ],
      "text/plain": [
       "        Score                                        Summary  \\\n",
       "150223      5                                   as expected.   \n",
       "541140      5                           Madhave Agave Nectar   \n",
       "480347      5                        Love this stuff........   \n",
       "363040      5                       Fast turkey bacon maker.   \n",
       "555895      2  Main ingredient says natural blueberry flavor   \n",
       "\n",
       "                                                                                                                                                                                                                                                                                                                                                                                                                                     Text  \n",
       "150223  these are top-quality mint toothpicks.  keep in mind they are infused with peppermint oil, so they are really quite strong.  as soon as i opened the mail bag they came in, the scent of peppermint filled the room.  i prefer peppermint to spearmint, so i'm really happy with the purchase.<br /><br />one final note:  as pictured, these are round one-pointed toothpicks, the other end being flat with some minor shaping.  \n",
       "541140                                                                                                                                           This is a great product at a great price.  The light, amber colored nectar reminds me of butterscotch and the darker variety is more like maple syrup.  Both blend easily in liquids and taste great on cream of rice cereal.  It's low on the glycemic  index and doesn't require much.  \n",
       "480347                                                                                                                                                                                                                                                                         Love this stuff........Pamela's Products Ultimate Baking & Pancake Mix, 24-Ounce Packages (Pack of 6)......This makes Great waffles in my waffle maker....  \n",
       "363040                                                                                                                                                                                                                                                                          Since I bought this item its been taken camping and home use many many times so far.  Will be buying another so one will stay in the camper at all times.  \n",
       "555895                                                                                                                                                                                                                 I love Olive Nation's Strawberry extract; however, the only ingredient I can taste in the Blueberry extract is the alcohol.<br /><br />In addition, I would love the option of a plastic bottle rather than glass.  "
      ]
     },
     "execution_count": 32,
     "metadata": {},
     "output_type": "execute_result"
    }
   ],
   "source": [
    "lmtpData2=dataset2[['Score','Summary','Text']]\n",
    "lmtpData2.head()"
   ]
  },
  {
   "cell_type": "code",
   "execution_count": 33,
   "id": "7baf791f",
   "metadata": {
    "execution": {
     "iopub.execute_input": "2025-03-10T12:40:01.030464Z",
     "iopub.status.busy": "2025-03-10T12:40:01.030101Z",
     "iopub.status.idle": "2025-03-10T12:40:01.037709Z",
     "shell.execute_reply": "2025-03-10T12:40:01.036605Z"
    },
    "papermill": {
     "duration": 0.046173,
     "end_time": "2025-03-10T12:40:01.039758",
     "exception": false,
     "start_time": "2025-03-10T12:40:00.993585",
     "status": "completed"
    },
    "tags": []
   },
   "outputs": [],
   "source": [
    "lmtpData2 = lmtpData2.copy()\n",
    "lmtpData2['Summary'] = lmtpData2['Summary'].fillna(\"\")\n",
    "lmtpData2['CombinedText'] = lmtpData2['Summary'] + \" \" + lmtpData2['Text']\n"
   ]
  },
  {
   "cell_type": "code",
   "execution_count": 34,
   "id": "df31cefc",
   "metadata": {
    "execution": {
     "iopub.execute_input": "2025-03-10T12:40:01.106781Z",
     "iopub.status.busy": "2025-03-10T12:40:01.106340Z",
     "iopub.status.idle": "2025-03-10T12:40:01.119918Z",
     "shell.execute_reply": "2025-03-10T12:40:01.118658Z"
    },
    "papermill": {
     "duration": 0.049023,
     "end_time": "2025-03-10T12:40:01.121820",
     "exception": false,
     "start_time": "2025-03-10T12:40:01.072797",
     "status": "completed"
    },
    "tags": []
   },
   "outputs": [
    {
     "name": "stdout",
     "output_type": "stream",
     "text": [
      "<class 'pandas.core.frame.DataFrame'>\n",
      "Index: 1000 entries, 150223 to 28998\n",
      "Data columns (total 4 columns):\n",
      " #   Column        Non-Null Count  Dtype \n",
      "---  ------        --------------  ----- \n",
      " 0   Score         1000 non-null   int64 \n",
      " 1   Summary       1000 non-null   object\n",
      " 2   Text          1000 non-null   object\n",
      " 3   CombinedText  1000 non-null   object\n",
      "dtypes: int64(1), object(3)\n",
      "memory usage: 39.1+ KB\n"
     ]
    }
   ],
   "source": [
    "lmtpData2.info()"
   ]
  },
  {
   "cell_type": "code",
   "execution_count": 35,
   "id": "7adeecb4",
   "metadata": {
    "execution": {
     "iopub.execute_input": "2025-03-10T12:40:01.190818Z",
     "iopub.status.busy": "2025-03-10T12:40:01.190394Z",
     "iopub.status.idle": "2025-03-10T12:40:01.202927Z",
     "shell.execute_reply": "2025-03-10T12:40:01.201905Z"
    },
    "papermill": {
     "duration": 0.04952,
     "end_time": "2025-03-10T12:40:01.204584",
     "exception": false,
     "start_time": "2025-03-10T12:40:01.155064",
     "status": "completed"
    },
    "tags": []
   },
   "outputs": [
    {
     "data": {
      "text/html": [
       "<div>\n",
       "<style scoped>\n",
       "    .dataframe tbody tr th:only-of-type {\n",
       "        vertical-align: middle;\n",
       "    }\n",
       "\n",
       "    .dataframe tbody tr th {\n",
       "        vertical-align: top;\n",
       "    }\n",
       "\n",
       "    .dataframe thead th {\n",
       "        text-align: right;\n",
       "    }\n",
       "</style>\n",
       "<table border=\"1\" class=\"dataframe\">\n",
       "  <thead>\n",
       "    <tr style=\"text-align: right;\">\n",
       "      <th></th>\n",
       "      <th>Score</th>\n",
       "      <th>Summary</th>\n",
       "      <th>Text</th>\n",
       "      <th>CombinedText</th>\n",
       "      <th>Sentiment</th>\n",
       "    </tr>\n",
       "  </thead>\n",
       "  <tbody>\n",
       "    <tr>\n",
       "      <th>150223</th>\n",
       "      <td>5</td>\n",
       "      <td>as expected.</td>\n",
       "      <td>these are top-quality mint toothpicks.  keep in mind they are infused with peppermint oil, so they are really quite strong.  as soon as i opened the mail bag they came in, the scent of peppermint filled the room.  i prefer peppermint to spearmint, so i'm really happy with the purchase.&lt;br /&gt;&lt;br /&gt;one final note:  as pictured, these are round one-pointed toothpicks, the other end being flat with some minor shaping.</td>\n",
       "      <td>as expected. these are top-quality mint toothpicks.  keep in mind they are infused with peppermint oil, so they are really quite strong.  as soon as i opened the mail bag they came in, the scent of peppermint filled the room.  i prefer peppermint to spearmint, so i'm really happy with the purchase.&lt;br /&gt;&lt;br /&gt;one final note:  as pictured, these are round one-pointed toothpicks, the other end being flat with some minor shaping.</td>\n",
       "      <td>1</td>\n",
       "    </tr>\n",
       "    <tr>\n",
       "      <th>541140</th>\n",
       "      <td>5</td>\n",
       "      <td>Madhave Agave Nectar</td>\n",
       "      <td>This is a great product at a great price.  The light, amber colored nectar reminds me of butterscotch and the darker variety is more like maple syrup.  Both blend easily in liquids and taste great on cream of rice cereal.  It's low on the glycemic  index and doesn't require much.</td>\n",
       "      <td>Madhave Agave Nectar This is a great product at a great price.  The light, amber colored nectar reminds me of butterscotch and the darker variety is more like maple syrup.  Both blend easily in liquids and taste great on cream of rice cereal.  It's low on the glycemic  index and doesn't require much.</td>\n",
       "      <td>1</td>\n",
       "    </tr>\n",
       "    <tr>\n",
       "      <th>480347</th>\n",
       "      <td>5</td>\n",
       "      <td>Love this stuff........</td>\n",
       "      <td>Love this stuff........Pamela's Products Ultimate Baking &amp; Pancake Mix, 24-Ounce Packages (Pack of 6)......This makes Great waffles in my waffle maker....</td>\n",
       "      <td>Love this stuff........ Love this stuff........Pamela's Products Ultimate Baking &amp; Pancake Mix, 24-Ounce Packages (Pack of 6)......This makes Great waffles in my waffle maker....</td>\n",
       "      <td>1</td>\n",
       "    </tr>\n",
       "    <tr>\n",
       "      <th>363040</th>\n",
       "      <td>5</td>\n",
       "      <td>Fast turkey bacon maker.</td>\n",
       "      <td>Since I bought this item its been taken camping and home use many many times so far.  Will be buying another so one will stay in the camper at all times.</td>\n",
       "      <td>Fast turkey bacon maker. Since I bought this item its been taken camping and home use many many times so far.  Will be buying another so one will stay in the camper at all times.</td>\n",
       "      <td>1</td>\n",
       "    </tr>\n",
       "    <tr>\n",
       "      <th>555895</th>\n",
       "      <td>2</td>\n",
       "      <td>Main ingredient says natural blueberry flavor</td>\n",
       "      <td>I love Olive Nation's Strawberry extract; however, the only ingredient I can taste in the Blueberry extract is the alcohol.&lt;br /&gt;&lt;br /&gt;In addition, I would love the option of a plastic bottle rather than glass.</td>\n",
       "      <td>Main ingredient says natural blueberry flavor I love Olive Nation's Strawberry extract; however, the only ingredient I can taste in the Blueberry extract is the alcohol.&lt;br /&gt;&lt;br /&gt;In addition, I would love the option of a plastic bottle rather than glass.</td>\n",
       "      <td>0</td>\n",
       "    </tr>\n",
       "  </tbody>\n",
       "</table>\n",
       "</div>"
      ],
      "text/plain": [
       "        Score                                        Summary  \\\n",
       "150223      5                                   as expected.   \n",
       "541140      5                           Madhave Agave Nectar   \n",
       "480347      5                        Love this stuff........   \n",
       "363040      5                       Fast turkey bacon maker.   \n",
       "555895      2  Main ingredient says natural blueberry flavor   \n",
       "\n",
       "                                                                                                                                                                                                                                                                                                                                                                                                                                     Text  \\\n",
       "150223  these are top-quality mint toothpicks.  keep in mind they are infused with peppermint oil, so they are really quite strong.  as soon as i opened the mail bag they came in, the scent of peppermint filled the room.  i prefer peppermint to spearmint, so i'm really happy with the purchase.<br /><br />one final note:  as pictured, these are round one-pointed toothpicks, the other end being flat with some minor shaping.   \n",
       "541140                                                                                                                                           This is a great product at a great price.  The light, amber colored nectar reminds me of butterscotch and the darker variety is more like maple syrup.  Both blend easily in liquids and taste great on cream of rice cereal.  It's low on the glycemic  index and doesn't require much.   \n",
       "480347                                                                                                                                                                                                                                                                         Love this stuff........Pamela's Products Ultimate Baking & Pancake Mix, 24-Ounce Packages (Pack of 6)......This makes Great waffles in my waffle maker....   \n",
       "363040                                                                                                                                                                                                                                                                          Since I bought this item its been taken camping and home use many many times so far.  Will be buying another so one will stay in the camper at all times.   \n",
       "555895                                                                                                                                                                                                                 I love Olive Nation's Strawberry extract; however, the only ingredient I can taste in the Blueberry extract is the alcohol.<br /><br />In addition, I would love the option of a plastic bottle rather than glass.   \n",
       "\n",
       "                                                                                                                                                                                                                                                                                                                                                                                                                                          CombinedText  \\\n",
       "150223  as expected. these are top-quality mint toothpicks.  keep in mind they are infused with peppermint oil, so they are really quite strong.  as soon as i opened the mail bag they came in, the scent of peppermint filled the room.  i prefer peppermint to spearmint, so i'm really happy with the purchase.<br /><br />one final note:  as pictured, these are round one-pointed toothpicks, the other end being flat with some minor shaping.   \n",
       "541140                                                                                                                                   Madhave Agave Nectar This is a great product at a great price.  The light, amber colored nectar reminds me of butterscotch and the darker variety is more like maple syrup.  Both blend easily in liquids and taste great on cream of rice cereal.  It's low on the glycemic  index and doesn't require much.   \n",
       "480347                                                                                                                                                                                                                                                              Love this stuff........ Love this stuff........Pamela's Products Ultimate Baking & Pancake Mix, 24-Ounce Packages (Pack of 6)......This makes Great waffles in my waffle maker....   \n",
       "363040                                                                                                                                                                                                                                                              Fast turkey bacon maker. Since I bought this item its been taken camping and home use many many times so far.  Will be buying another so one will stay in the camper at all times.   \n",
       "555895                                                                                                                                                                                Main ingredient says natural blueberry flavor I love Olive Nation's Strawberry extract; however, the only ingredient I can taste in the Blueberry extract is the alcohol.<br /><br />In addition, I would love the option of a plastic bottle rather than glass.   \n",
       "\n",
       "        Sentiment  \n",
       "150223          1  \n",
       "541140          1  \n",
       "480347          1  \n",
       "363040          1  \n",
       "555895          0  "
      ]
     },
     "execution_count": 35,
     "metadata": {},
     "output_type": "execute_result"
    }
   ],
   "source": [
    "\n",
    "lmtpData2['Sentiment']=lmtpData2['Score'].apply(lblScore)\n",
    "lmtpData2.head(5)"
   ]
  },
  {
   "cell_type": "code",
   "execution_count": 36,
   "id": "ff3224c1",
   "metadata": {
    "execution": {
     "iopub.execute_input": "2025-03-10T12:40:01.274657Z",
     "iopub.status.busy": "2025-03-10T12:40:01.274277Z",
     "iopub.status.idle": "2025-03-10T12:40:01.435243Z",
     "shell.execute_reply": "2025-03-10T12:40:01.434043Z"
    },
    "papermill": {
     "duration": 0.198854,
     "end_time": "2025-03-10T12:40:01.437396",
     "exception": false,
     "start_time": "2025-03-10T12:40:01.238542",
     "status": "completed"
    },
    "tags": []
   },
   "outputs": [],
   "source": [
    "tokenizer.fit_on_texts(lmtpData2['CombinedText'])\n",
    "sequences=tokenizer.texts_to_sequences(lmtpData2['CombinedText'])\n",
    "\n",
    "maxLen=100\n",
    "paddedData=pad_sequences(sequences,maxlen=maxLen,padding='post')\n",
    "embedding_dim=100\n",
    "vocabSize=len(tokenizer.word_index) + 1\n",
    "\n",
    "embeddingMatrix2=np.zeros((vocabSize,embedding_dim))\n",
    "\n",
    "for word,i in tokenizer.word_index.items():\n",
    "    embeddingVector2=gloveEmbeddings.get(word)\n",
    "    if embeddingVector2 is not None:\n",
    "        embeddingMatrix2[i]=embeddingVector2"
   ]
  },
  {
   "cell_type": "markdown",
   "id": "d512633e",
   "metadata": {
    "papermill": {
     "duration": 0.032724,
     "end_time": "2025-03-10T12:40:01.503291",
     "exception": false,
     "start_time": "2025-03-10T12:40:01.470567",
     "status": "completed"
    },
    "tags": []
   },
   "source": [
    "### BALANCING THE CLASSES"
   ]
  },
  {
   "cell_type": "code",
   "execution_count": 37,
   "id": "f0e4be3d",
   "metadata": {
    "execution": {
     "iopub.execute_input": "2025-03-10T12:40:01.572438Z",
     "iopub.status.busy": "2025-03-10T12:40:01.572070Z",
     "iopub.status.idle": "2025-03-10T12:40:03.815513Z",
     "shell.execute_reply": "2025-03-10T12:40:03.814347Z"
    },
    "papermill": {
     "duration": 2.280432,
     "end_time": "2025-03-10T12:40:03.817556",
     "exception": false,
     "start_time": "2025-03-10T12:40:01.537124",
     "status": "completed"
    },
    "tags": []
   },
   "outputs": [],
   "source": [
    "from imblearn.over_sampling import SMOTE\n",
    "\n",
    "\n",
    "y2 = lmtpData2['Sentiment'].values\n",
    "\n",
    "\n",
    "smote = SMOTE(random_state=42)\n",
    "X_resampled, Y_resampled = smote.fit_resample(paddedData, y2)\n"
   ]
  },
  {
   "cell_type": "code",
   "execution_count": 38,
   "id": "e7d836c9",
   "metadata": {
    "execution": {
     "iopub.execute_input": "2025-03-10T12:40:03.891871Z",
     "iopub.status.busy": "2025-03-10T12:40:03.890989Z",
     "iopub.status.idle": "2025-03-10T12:40:04.027790Z",
     "shell.execute_reply": "2025-03-10T12:40:04.026539Z"
    },
    "papermill": {
     "duration": 0.176494,
     "end_time": "2025-03-10T12:40:04.029832",
     "exception": false,
     "start_time": "2025-03-10T12:40:03.853338",
     "status": "completed"
    },
    "tags": []
   },
   "outputs": [
    {
     "data": {
      "text/html": [
       "<pre style=\"white-space:pre;overflow-x:auto;line-height:normal;font-family:Menlo,'DejaVu Sans Mono',consolas,'Courier New',monospace\"><span style=\"font-weight: bold\">Model: \"sequential_1\"</span>\n",
       "</pre>\n"
      ],
      "text/plain": [
       "\u001b[1mModel: \"sequential_1\"\u001b[0m\n"
      ]
     },
     "metadata": {},
     "output_type": "display_data"
    },
    {
     "data": {
      "text/html": [
       "<pre style=\"white-space:pre;overflow-x:auto;line-height:normal;font-family:Menlo,'DejaVu Sans Mono',consolas,'Courier New',monospace\">┏━━━━━━━━━━━━━━━━━━━━━━━━━━━━━━━━━━━━━━┳━━━━━━━━━━━━━━━━━━━━━━━━━━━━━┳━━━━━━━━━━━━━━━━━┓\n",
       "┃<span style=\"font-weight: bold\"> Layer (type)                         </span>┃<span style=\"font-weight: bold\"> Output Shape                </span>┃<span style=\"font-weight: bold\">         Param # </span>┃\n",
       "┡━━━━━━━━━━━━━━━━━━━━━━━━━━━━━━━━━━━━━━╇━━━━━━━━━━━━━━━━━━━━━━━━━━━━━╇━━━━━━━━━━━━━━━━━┩\n",
       "│ embedding_1 (<span style=\"color: #0087ff; text-decoration-color: #0087ff\">Embedding</span>)              │ (<span style=\"color: #00d7ff; text-decoration-color: #00d7ff\">None</span>, <span style=\"color: #00af00; text-decoration-color: #00af00\">100</span>, <span style=\"color: #00af00; text-decoration-color: #00af00\">100</span>)            │         <span style=\"color: #00af00; text-decoration-color: #00af00\">982,400</span> │\n",
       "├──────────────────────────────────────┼─────────────────────────────┼─────────────────┤\n",
       "│ lstm_2 (<span style=\"color: #0087ff; text-decoration-color: #0087ff\">LSTM</span>)                        │ (<span style=\"color: #00d7ff; text-decoration-color: #00d7ff\">None</span>, <span style=\"color: #00af00; text-decoration-color: #00af00\">100</span>, <span style=\"color: #00af00; text-decoration-color: #00af00\">128</span>)            │         <span style=\"color: #00af00; text-decoration-color: #00af00\">117,248</span> │\n",
       "├──────────────────────────────────────┼─────────────────────────────┼─────────────────┤\n",
       "│ lstm_3 (<span style=\"color: #0087ff; text-decoration-color: #0087ff\">LSTM</span>)                        │ (<span style=\"color: #00d7ff; text-decoration-color: #00d7ff\">None</span>, <span style=\"color: #00af00; text-decoration-color: #00af00\">64</span>)                  │          <span style=\"color: #00af00; text-decoration-color: #00af00\">49,408</span> │\n",
       "├──────────────────────────────────────┼─────────────────────────────┼─────────────────┤\n",
       "│ dropout_1 (<span style=\"color: #0087ff; text-decoration-color: #0087ff\">Dropout</span>)                  │ (<span style=\"color: #00d7ff; text-decoration-color: #00d7ff\">None</span>, <span style=\"color: #00af00; text-decoration-color: #00af00\">64</span>)                  │               <span style=\"color: #00af00; text-decoration-color: #00af00\">0</span> │\n",
       "├──────────────────────────────────────┼─────────────────────────────┼─────────────────┤\n",
       "│ dense_1 (<span style=\"color: #0087ff; text-decoration-color: #0087ff\">Dense</span>)                      │ (<span style=\"color: #00d7ff; text-decoration-color: #00d7ff\">None</span>, <span style=\"color: #00af00; text-decoration-color: #00af00\">3</span>)                   │             <span style=\"color: #00af00; text-decoration-color: #00af00\">195</span> │\n",
       "└──────────────────────────────────────┴─────────────────────────────┴─────────────────┘\n",
       "</pre>\n"
      ],
      "text/plain": [
       "┏━━━━━━━━━━━━━━━━━━━━━━━━━━━━━━━━━━━━━━┳━━━━━━━━━━━━━━━━━━━━━━━━━━━━━┳━━━━━━━━━━━━━━━━━┓\n",
       "┃\u001b[1m \u001b[0m\u001b[1mLayer (type)                        \u001b[0m\u001b[1m \u001b[0m┃\u001b[1m \u001b[0m\u001b[1mOutput Shape               \u001b[0m\u001b[1m \u001b[0m┃\u001b[1m \u001b[0m\u001b[1m        Param #\u001b[0m\u001b[1m \u001b[0m┃\n",
       "┡━━━━━━━━━━━━━━━━━━━━━━━━━━━━━━━━━━━━━━╇━━━━━━━━━━━━━━━━━━━━━━━━━━━━━╇━━━━━━━━━━━━━━━━━┩\n",
       "│ embedding_1 (\u001b[38;5;33mEmbedding\u001b[0m)              │ (\u001b[38;5;45mNone\u001b[0m, \u001b[38;5;34m100\u001b[0m, \u001b[38;5;34m100\u001b[0m)            │         \u001b[38;5;34m982,400\u001b[0m │\n",
       "├──────────────────────────────────────┼─────────────────────────────┼─────────────────┤\n",
       "│ lstm_2 (\u001b[38;5;33mLSTM\u001b[0m)                        │ (\u001b[38;5;45mNone\u001b[0m, \u001b[38;5;34m100\u001b[0m, \u001b[38;5;34m128\u001b[0m)            │         \u001b[38;5;34m117,248\u001b[0m │\n",
       "├──────────────────────────────────────┼─────────────────────────────┼─────────────────┤\n",
       "│ lstm_3 (\u001b[38;5;33mLSTM\u001b[0m)                        │ (\u001b[38;5;45mNone\u001b[0m, \u001b[38;5;34m64\u001b[0m)                  │          \u001b[38;5;34m49,408\u001b[0m │\n",
       "├──────────────────────────────────────┼─────────────────────────────┼─────────────────┤\n",
       "│ dropout_1 (\u001b[38;5;33mDropout\u001b[0m)                  │ (\u001b[38;5;45mNone\u001b[0m, \u001b[38;5;34m64\u001b[0m)                  │               \u001b[38;5;34m0\u001b[0m │\n",
       "├──────────────────────────────────────┼─────────────────────────────┼─────────────────┤\n",
       "│ dense_1 (\u001b[38;5;33mDense\u001b[0m)                      │ (\u001b[38;5;45mNone\u001b[0m, \u001b[38;5;34m3\u001b[0m)                   │             \u001b[38;5;34m195\u001b[0m │\n",
       "└──────────────────────────────────────┴─────────────────────────────┴─────────────────┘\n"
      ]
     },
     "metadata": {},
     "output_type": "display_data"
    },
    {
     "data": {
      "text/html": [
       "<pre style=\"white-space:pre;overflow-x:auto;line-height:normal;font-family:Menlo,'DejaVu Sans Mono',consolas,'Courier New',monospace\"><span style=\"font-weight: bold\"> Total params: </span><span style=\"color: #00af00; text-decoration-color: #00af00\">1,149,251</span> (4.38 MB)\n",
       "</pre>\n"
      ],
      "text/plain": [
       "\u001b[1m Total params: \u001b[0m\u001b[38;5;34m1,149,251\u001b[0m (4.38 MB)\n"
      ]
     },
     "metadata": {},
     "output_type": "display_data"
    },
    {
     "data": {
      "text/html": [
       "<pre style=\"white-space:pre;overflow-x:auto;line-height:normal;font-family:Menlo,'DejaVu Sans Mono',consolas,'Courier New',monospace\"><span style=\"font-weight: bold\"> Trainable params: </span><span style=\"color: #00af00; text-decoration-color: #00af00\">166,851</span> (651.76 KB)\n",
       "</pre>\n"
      ],
      "text/plain": [
       "\u001b[1m Trainable params: \u001b[0m\u001b[38;5;34m166,851\u001b[0m (651.76 KB)\n"
      ]
     },
     "metadata": {},
     "output_type": "display_data"
    },
    {
     "data": {
      "text/html": [
       "<pre style=\"white-space:pre;overflow-x:auto;line-height:normal;font-family:Menlo,'DejaVu Sans Mono',consolas,'Courier New',monospace\"><span style=\"font-weight: bold\"> Non-trainable params: </span><span style=\"color: #00af00; text-decoration-color: #00af00\">982,400</span> (3.75 MB)\n",
       "</pre>\n"
      ],
      "text/plain": [
       "\u001b[1m Non-trainable params: \u001b[0m\u001b[38;5;34m982,400\u001b[0m (3.75 MB)\n"
      ]
     },
     "metadata": {},
     "output_type": "display_data"
    }
   ],
   "source": [
    "maxLen=100\n",
    "model = Sequential([\n",
    "    Input(shape=(maxLen,)),\n",
    "    Embedding(input_dim=vocabSize,  \n",
    "              output_dim=embedding_dim, \n",
    "              weights=embeddingMatrix2, \n",
    "             \n",
    "              trainable=False), \n",
    "    LSTM(128, return_sequences=True),\n",
    "    LSTM(64),\n",
    "    Dropout(0.6),\n",
    "    Dense(3, activation='softmax') \n",
    "])\n",
    "\n",
    "\n",
    "model.compile(loss='sparse_categorical_crossentropy', optimizer='adam', metrics=['accuracy'])\n",
    "\n",
    "model.summary()\n"
   ]
  },
  {
   "cell_type": "code",
   "execution_count": 39,
   "id": "c61e7a0a",
   "metadata": {
    "execution": {
     "iopub.execute_input": "2025-03-10T12:40:04.110549Z",
     "iopub.status.busy": "2025-03-10T12:40:04.110164Z",
     "iopub.status.idle": "2025-03-10T12:40:59.588585Z",
     "shell.execute_reply": "2025-03-10T12:40:59.587373Z"
    },
    "papermill": {
     "duration": 55.517146,
     "end_time": "2025-03-10T12:40:59.590484",
     "exception": false,
     "start_time": "2025-03-10T12:40:04.073338",
     "status": "completed"
    },
    "tags": []
   },
   "outputs": [
    {
     "name": "stdout",
     "output_type": "stream",
     "text": [
      "Epoch 1/6\n",
      "\u001b[1m50/50\u001b[0m \u001b[32m━━━━━━━━━━━━━━━━━━━━\u001b[0m\u001b[37m\u001b[0m \u001b[1m12s\u001b[0m 165ms/step - accuracy: 0.4619 - loss: 0.9808 - val_accuracy: 0.0103 - val_loss: 2.8759\n",
      "Epoch 2/6\n",
      "\u001b[1m50/50\u001b[0m \u001b[32m━━━━━━━━━━━━━━━━━━━━\u001b[0m\u001b[37m\u001b[0m \u001b[1m10s\u001b[0m 170ms/step - accuracy: 0.5178 - loss: 0.8944 - val_accuracy: 0.0029 - val_loss: 2.8184\n",
      "Epoch 3/6\n",
      "\u001b[1m50/50\u001b[0m \u001b[32m━━━━━━━━━━━━━━━━━━━━\u001b[0m\u001b[37m\u001b[0m \u001b[1m8s\u001b[0m 164ms/step - accuracy: 0.5236 - loss: 0.8647 - val_accuracy: 0.0176 - val_loss: 2.9072\n",
      "Epoch 4/6\n",
      "\u001b[1m50/50\u001b[0m \u001b[32m━━━━━━━━━━━━━━━━━━━━\u001b[0m\u001b[37m\u001b[0m \u001b[1m9s\u001b[0m 172ms/step - accuracy: 0.5232 - loss: 0.8863 - val_accuracy: 0.0088 - val_loss: 2.7571\n",
      "Epoch 5/6\n",
      "\u001b[1m50/50\u001b[0m \u001b[32m━━━━━━━━━━━━━━━━━━━━\u001b[0m\u001b[37m\u001b[0m \u001b[1m9s\u001b[0m 171ms/step - accuracy: 0.5665 - loss: 0.8623 - val_accuracy: 0.0103 - val_loss: 3.1325\n",
      "Epoch 6/6\n",
      "\u001b[1m50/50\u001b[0m \u001b[32m━━━━━━━━━━━━━━━━━━━━\u001b[0m\u001b[37m\u001b[0m \u001b[1m8s\u001b[0m 155ms/step - accuracy: 0.5830 - loss: 0.8198 - val_accuracy: 0.0132 - val_loss: 3.0952\n"
     ]
    },
    {
     "data": {
      "text/plain": [
       "<keras.src.callbacks.history.History at 0x7db5da6e55d0>"
      ]
     },
     "execution_count": 39,
     "metadata": {},
     "output_type": "execute_result"
    }
   ],
   "source": [
    "model.fit(X_resampled, Y_resampled, epochs=6, batch_size=32, validation_split=0.3)"
   ]
  },
  {
   "cell_type": "code",
   "execution_count": 40,
   "id": "4a9ac990",
   "metadata": {
    "execution": {
     "iopub.execute_input": "2025-03-10T12:40:59.701351Z",
     "iopub.status.busy": "2025-03-10T12:40:59.700892Z",
     "iopub.status.idle": "2025-03-10T12:42:52.335411Z",
     "shell.execute_reply": "2025-03-10T12:42:52.334133Z"
    },
    "papermill": {
     "duration": 112.692848,
     "end_time": "2025-03-10T12:42:52.337614",
     "exception": false,
     "start_time": "2025-03-10T12:40:59.644766",
     "status": "completed"
    },
    "tags": []
   },
   "outputs": [
    {
     "name": "stdout",
     "output_type": "stream",
     "text": [
      "Epoch 1/15\n",
      "\u001b[1m43/43\u001b[0m \u001b[32m━━━━━━━━━━━━━━━━━━━━\u001b[0m\u001b[37m\u001b[0m \u001b[1m8s\u001b[0m 183ms/step - accuracy: 0.6123 - loss: 0.8181 - val_accuracy: 0.1225 - val_loss: 2.3488\n",
      "Epoch 2/15\n",
      "\u001b[1m43/43\u001b[0m \u001b[32m━━━━━━━━━━━━━━━━━━━━\u001b[0m\u001b[37m\u001b[0m \u001b[1m8s\u001b[0m 183ms/step - accuracy: 0.6402 - loss: 0.7973 - val_accuracy: 0.2141 - val_loss: 2.5870\n",
      "Epoch 3/15\n",
      "\u001b[1m43/43\u001b[0m \u001b[32m━━━━━━━━━━━━━━━━━━━━\u001b[0m\u001b[37m\u001b[0m \u001b[1m7s\u001b[0m 163ms/step - accuracy: 0.7003 - loss: 0.7484 - val_accuracy: 0.2130 - val_loss: 2.3315\n",
      "Epoch 4/15\n",
      "\u001b[1m43/43\u001b[0m \u001b[32m━━━━━━━━━━━━━━━━━━━━\u001b[0m\u001b[37m\u001b[0m \u001b[1m7s\u001b[0m 169ms/step - accuracy: 0.6898 - loss: 0.7190 - val_accuracy: 0.1777 - val_loss: 2.6217\n",
      "Epoch 5/15\n",
      "\u001b[1m43/43\u001b[0m \u001b[32m━━━━━━━━━━━━━━━━━━━━\u001b[0m\u001b[37m\u001b[0m \u001b[1m7s\u001b[0m 173ms/step - accuracy: 0.7537 - loss: 0.6353 - val_accuracy: 0.0828 - val_loss: 2.2485\n",
      "Epoch 6/15\n",
      "\u001b[1m43/43\u001b[0m \u001b[32m━━━━━━━━━━━━━━━━━━━━\u001b[0m\u001b[37m\u001b[0m \u001b[1m7s\u001b[0m 173ms/step - accuracy: 0.7286 - loss: 0.6607 - val_accuracy: 0.2141 - val_loss: 2.8968\n",
      "Epoch 7/15\n",
      "\u001b[1m43/43\u001b[0m \u001b[32m━━━━━━━━━━━━━━━━━━━━\u001b[0m\u001b[37m\u001b[0m \u001b[1m7s\u001b[0m 167ms/step - accuracy: 0.7737 - loss: 0.5932 - val_accuracy: 0.2428 - val_loss: 3.2266\n",
      "Epoch 8/15\n",
      "\u001b[1m43/43\u001b[0m \u001b[32m━━━━━━━━━━━━━━━━━━━━\u001b[0m\u001b[37m\u001b[0m \u001b[1m7s\u001b[0m 171ms/step - accuracy: 0.8450 - loss: 0.4623 - val_accuracy: 0.2219 - val_loss: 3.0331\n",
      "Epoch 9/15\n",
      "\u001b[1m43/43\u001b[0m \u001b[32m━━━━━━━━━━━━━━━━━━━━\u001b[0m\u001b[37m\u001b[0m \u001b[1m7s\u001b[0m 170ms/step - accuracy: 0.8457 - loss: 0.4618 - val_accuracy: 0.2439 - val_loss: 3.2015\n",
      "Epoch 10/15\n",
      "\u001b[1m43/43\u001b[0m \u001b[32m━━━━━━━━━━━━━━━━━━━━\u001b[0m\u001b[37m\u001b[0m \u001b[1m7s\u001b[0m 169ms/step - accuracy: 0.8786 - loss: 0.3912 - val_accuracy: 0.2594 - val_loss: 2.9152\n",
      "Epoch 11/15\n",
      "\u001b[1m43/43\u001b[0m \u001b[32m━━━━━━━━━━━━━━━━━━━━\u001b[0m\u001b[37m\u001b[0m \u001b[1m8s\u001b[0m 178ms/step - accuracy: 0.8670 - loss: 0.4099 - val_accuracy: 0.2461 - val_loss: 3.2736\n",
      "Epoch 12/15\n",
      "\u001b[1m43/43\u001b[0m \u001b[32m━━━━━━━━━━━━━━━━━━━━\u001b[0m\u001b[37m\u001b[0m \u001b[1m7s\u001b[0m 173ms/step - accuracy: 0.8993 - loss: 0.3588 - val_accuracy: 0.2417 - val_loss: 2.9338\n",
      "Epoch 13/15\n",
      "\u001b[1m43/43\u001b[0m \u001b[32m━━━━━━━━━━━━━━━━━━━━\u001b[0m\u001b[37m\u001b[0m \u001b[1m8s\u001b[0m 179ms/step - accuracy: 0.9212 - loss: 0.2939 - val_accuracy: 0.2395 - val_loss: 3.1429\n",
      "Epoch 14/15\n",
      "\u001b[1m43/43\u001b[0m \u001b[32m━━━━━━━━━━━━━━━━━━━━\u001b[0m\u001b[37m\u001b[0m \u001b[1m8s\u001b[0m 178ms/step - accuracy: 0.9206 - loss: 0.2566 - val_accuracy: 0.2550 - val_loss: 4.3907\n",
      "Epoch 15/15\n",
      "\u001b[1m43/43\u001b[0m \u001b[32m━━━━━━━━━━━━━━━━━━━━\u001b[0m\u001b[37m\u001b[0m \u001b[1m8s\u001b[0m 190ms/step - accuracy: 0.7935 - loss: 0.5447 - val_accuracy: 0.2528 - val_loss: 2.3818\n"
     ]
    },
    {
     "data": {
      "text/plain": [
       "<keras.src.callbacks.history.History at 0x7db5da6e7a30>"
      ]
     },
     "execution_count": 40,
     "metadata": {},
     "output_type": "execute_result"
    }
   ],
   "source": [
    "model.fit(X_resampled, Y_resampled, epochs=15, batch_size=32, validation_split=0.4)"
   ]
  },
  {
   "cell_type": "code",
   "execution_count": 41,
   "id": "9abe58ba",
   "metadata": {
    "execution": {
     "iopub.execute_input": "2025-03-10T12:42:52.523811Z",
     "iopub.status.busy": "2025-03-10T12:42:52.523371Z",
     "iopub.status.idle": "2025-03-10T12:45:44.649225Z",
     "shell.execute_reply": "2025-03-10T12:45:44.647992Z"
    },
    "papermill": {
     "duration": 172.218134,
     "end_time": "2025-03-10T12:45:44.651223",
     "exception": false,
     "start_time": "2025-03-10T12:42:52.433089",
     "status": "completed"
    },
    "tags": []
   },
   "outputs": [
    {
     "name": "stdout",
     "output_type": "stream",
     "text": [
      "Epoch 1/20\n",
      "\u001b[1m57/57\u001b[0m \u001b[32m━━━━━━━━━━━━━━━━━━━━\u001b[0m\u001b[37m\u001b[0m \u001b[1m9s\u001b[0m 160ms/step - accuracy: 0.7348 - loss: 0.7375 - val_accuracy: 0.0132 - val_loss: 1.7593\n",
      "Epoch 2/20\n",
      "\u001b[1m57/57\u001b[0m \u001b[32m━━━━━━━━━━━━━━━━━━━━\u001b[0m\u001b[37m\u001b[0m \u001b[1m9s\u001b[0m 155ms/step - accuracy: 0.8122 - loss: 0.5303 - val_accuracy: 0.0132 - val_loss: 1.4714\n",
      "Epoch 3/20\n",
      "\u001b[1m57/57\u001b[0m \u001b[32m━━━━━━━━━━━━━━━━━━━━\u001b[0m\u001b[37m\u001b[0m \u001b[1m9s\u001b[0m 151ms/step - accuracy: 0.8118 - loss: 0.4738 - val_accuracy: 0.0088 - val_loss: 1.5995\n",
      "Epoch 4/20\n",
      "\u001b[1m57/57\u001b[0m \u001b[32m━━━━━━━━━━━━━━━━━━━━\u001b[0m\u001b[37m\u001b[0m \u001b[1m8s\u001b[0m 148ms/step - accuracy: 0.8478 - loss: 0.4029 - val_accuracy: 0.0066 - val_loss: 1.8657\n",
      "Epoch 5/20\n",
      "\u001b[1m57/57\u001b[0m \u001b[32m━━━━━━━━━━━━━━━━━━━━\u001b[0m\u001b[37m\u001b[0m \u001b[1m8s\u001b[0m 147ms/step - accuracy: 0.8286 - loss: 0.4479 - val_accuracy: 0.0265 - val_loss: 1.4738\n",
      "Epoch 6/20\n",
      "\u001b[1m57/57\u001b[0m \u001b[32m━━━━━━━━━━━━━━━━━━━━\u001b[0m\u001b[37m\u001b[0m \u001b[1m8s\u001b[0m 142ms/step - accuracy: 0.8353 - loss: 0.4729 - val_accuracy: 0.0530 - val_loss: 1.4650\n",
      "Epoch 7/20\n",
      "\u001b[1m57/57\u001b[0m \u001b[32m━━━━━━━━━━━━━━━━━━━━\u001b[0m\u001b[37m\u001b[0m \u001b[1m9s\u001b[0m 151ms/step - accuracy: 0.8530 - loss: 0.3796 - val_accuracy: 0.0265 - val_loss: 1.5225\n",
      "Epoch 8/20\n",
      "\u001b[1m57/57\u001b[0m \u001b[32m━━━━━━━━━━━━━━━━━━━━\u001b[0m\u001b[37m\u001b[0m \u001b[1m8s\u001b[0m 143ms/step - accuracy: 0.8660 - loss: 0.3651 - val_accuracy: 0.1501 - val_loss: 1.4409\n",
      "Epoch 9/20\n",
      "\u001b[1m57/57\u001b[0m \u001b[32m━━━━━━━━━━━━━━━━━━━━\u001b[0m\u001b[37m\u001b[0m \u001b[1m9s\u001b[0m 150ms/step - accuracy: 0.8726 - loss: 0.3679 - val_accuracy: 0.0066 - val_loss: 1.6035\n",
      "Epoch 10/20\n",
      "\u001b[1m57/57\u001b[0m \u001b[32m━━━━━━━━━━━━━━━━━━━━\u001b[0m\u001b[37m\u001b[0m \u001b[1m8s\u001b[0m 144ms/step - accuracy: 0.8214 - loss: 0.4899 - val_accuracy: 0.0243 - val_loss: 1.9618\n",
      "Epoch 11/20\n",
      "\u001b[1m57/57\u001b[0m \u001b[32m━━━━━━━━━━━━━━━━━━━━\u001b[0m\u001b[37m\u001b[0m \u001b[1m9s\u001b[0m 155ms/step - accuracy: 0.8665 - loss: 0.3427 - val_accuracy: 0.0265 - val_loss: 2.2070\n",
      "Epoch 12/20\n",
      "\u001b[1m57/57\u001b[0m \u001b[32m━━━━━━━━━━━━━━━━━━━━\u001b[0m\u001b[37m\u001b[0m \u001b[1m9s\u001b[0m 153ms/step - accuracy: 0.8827 - loss: 0.3008 - val_accuracy: 0.1921 - val_loss: 1.5326\n",
      "Epoch 13/20\n",
      "\u001b[1m57/57\u001b[0m \u001b[32m━━━━━━━━━━━━━━━━━━━━\u001b[0m\u001b[37m\u001b[0m \u001b[1m9s\u001b[0m 149ms/step - accuracy: 0.8814 - loss: 0.3031 - val_accuracy: 0.0684 - val_loss: 2.0169\n",
      "Epoch 14/20\n",
      "\u001b[1m57/57\u001b[0m \u001b[32m━━━━━━━━━━━━━━━━━━━━\u001b[0m\u001b[37m\u001b[0m \u001b[1m9s\u001b[0m 149ms/step - accuracy: 0.8875 - loss: 0.2932 - val_accuracy: 0.1280 - val_loss: 1.6756\n",
      "Epoch 15/20\n",
      "\u001b[1m57/57\u001b[0m \u001b[32m━━━━━━━━━━━━━━━━━━━━\u001b[0m\u001b[37m\u001b[0m \u001b[1m10s\u001b[0m 153ms/step - accuracy: 0.8994 - loss: 0.2649 - val_accuracy: 0.1369 - val_loss: 1.8310\n",
      "Epoch 16/20\n",
      "\u001b[1m57/57\u001b[0m \u001b[32m━━━━━━━━━━━━━━━━━━━━\u001b[0m\u001b[37m\u001b[0m \u001b[1m8s\u001b[0m 148ms/step - accuracy: 0.9131 - loss: 0.2467 - val_accuracy: 0.0949 - val_loss: 2.3490\n",
      "Epoch 17/20\n",
      "\u001b[1m57/57\u001b[0m \u001b[32m━━━━━━━━━━━━━━━━━━━━\u001b[0m\u001b[37m\u001b[0m \u001b[1m8s\u001b[0m 147ms/step - accuracy: 0.8984 - loss: 0.2721 - val_accuracy: 0.1810 - val_loss: 1.8267\n",
      "Epoch 18/20\n",
      "\u001b[1m57/57\u001b[0m \u001b[32m━━━━━━━━━━━━━━━━━━━━\u001b[0m\u001b[37m\u001b[0m \u001b[1m8s\u001b[0m 147ms/step - accuracy: 0.9247 - loss: 0.2131 - val_accuracy: 0.3775 - val_loss: 1.4268\n",
      "Epoch 19/20\n",
      "\u001b[1m57/57\u001b[0m \u001b[32m━━━━━━━━━━━━━━━━━━━━\u001b[0m\u001b[37m\u001b[0m \u001b[1m8s\u001b[0m 148ms/step - accuracy: 0.8357 - loss: 0.4083 - val_accuracy: 0.1302 - val_loss: 1.8855\n",
      "Epoch 20/20\n",
      "\u001b[1m57/57\u001b[0m \u001b[32m━━━━━━━━━━━━━━━━━━━━\u001b[0m\u001b[37m\u001b[0m \u001b[1m8s\u001b[0m 143ms/step - accuracy: 0.8786 - loss: 0.3020 - val_accuracy: 0.1060 - val_loss: 2.8211\n"
     ]
    },
    {
     "data": {
      "text/plain": [
       "<keras.src.callbacks.history.History at 0x7db5d8bc5c00>"
      ]
     },
     "execution_count": 41,
     "metadata": {},
     "output_type": "execute_result"
    }
   ],
   "source": [
    "model.fit(X_resampled, Y_resampled, epochs=20, batch_size=32, validation_split=0.2)"
   ]
  },
  {
   "cell_type": "markdown",
   "id": "d1116ffd",
   "metadata": {
    "papermill": {
     "duration": 0.159485,
     "end_time": "2025-03-10T12:45:44.970112",
     "exception": false,
     "start_time": "2025-03-10T12:45:44.810627",
     "status": "completed"
    },
    "tags": []
   },
   "source": [
    "### WITHOUT SMOTE"
   ]
  },
  {
   "cell_type": "code",
   "execution_count": 42,
   "id": "3b00331a",
   "metadata": {
    "execution": {
     "iopub.execute_input": "2025-03-10T12:45:45.360212Z",
     "iopub.status.busy": "2025-03-10T12:45:45.359822Z",
     "iopub.status.idle": "2025-03-10T12:46:40.671357Z",
     "shell.execute_reply": "2025-03-10T12:46:40.670241Z"
    },
    "papermill": {
     "duration": 55.543746,
     "end_time": "2025-03-10T12:46:40.673113",
     "exception": false,
     "start_time": "2025-03-10T12:45:45.129367",
     "status": "completed"
    },
    "tags": []
   },
   "outputs": [
    {
     "name": "stdout",
     "output_type": "stream",
     "text": [
      "Epoch 1/15\n",
      "\u001b[1m22/22\u001b[0m \u001b[32m━━━━━━━━━━━━━━━━━━━━\u001b[0m\u001b[37m\u001b[0m \u001b[1m3s\u001b[0m 153ms/step - accuracy: 0.9464 - loss: 0.1562 - val_accuracy: 0.9433 - val_loss: 0.1650\n",
      "Epoch 2/15\n",
      "\u001b[1m22/22\u001b[0m \u001b[32m━━━━━━━━━━━━━━━━━━━━\u001b[0m\u001b[37m\u001b[0m \u001b[1m3s\u001b[0m 156ms/step - accuracy: 0.9391 - loss: 0.1683 - val_accuracy: 0.9533 - val_loss: 0.1137\n",
      "Epoch 3/15\n",
      "\u001b[1m22/22\u001b[0m \u001b[32m━━━━━━━━━━━━━━━━━━━━\u001b[0m\u001b[37m\u001b[0m \u001b[1m3s\u001b[0m 154ms/step - accuracy: 0.9715 - loss: 0.1061 - val_accuracy: 0.9767 - val_loss: 0.1058\n",
      "Epoch 4/15\n",
      "\u001b[1m22/22\u001b[0m \u001b[32m━━━━━━━━━━━━━━━━━━━━\u001b[0m\u001b[37m\u001b[0m \u001b[1m3s\u001b[0m 151ms/step - accuracy: 0.9763 - loss: 0.0911 - val_accuracy: 0.9633 - val_loss: 0.1230\n",
      "Epoch 5/15\n",
      "\u001b[1m22/22\u001b[0m \u001b[32m━━━━━━━━━━━━━━━━━━━━\u001b[0m\u001b[37m\u001b[0m \u001b[1m4s\u001b[0m 168ms/step - accuracy: 0.9853 - loss: 0.0754 - val_accuracy: 0.9667 - val_loss: 0.0996\n",
      "Epoch 6/15\n",
      "\u001b[1m22/22\u001b[0m \u001b[32m━━━━━━━━━━━━━━━━━━━━\u001b[0m\u001b[37m\u001b[0m \u001b[1m4s\u001b[0m 170ms/step - accuracy: 0.9727 - loss: 0.1043 - val_accuracy: 0.9600 - val_loss: 0.1205\n",
      "Epoch 7/15\n",
      "\u001b[1m22/22\u001b[0m \u001b[32m━━━━━━━━━━━━━━━━━━━━\u001b[0m\u001b[37m\u001b[0m \u001b[1m3s\u001b[0m 158ms/step - accuracy: 0.9585 - loss: 0.1234 - val_accuracy: 0.9633 - val_loss: 0.1140\n",
      "Epoch 8/15\n",
      "\u001b[1m22/22\u001b[0m \u001b[32m━━━━━━━━━━━━━━━━━━━━\u001b[0m\u001b[37m\u001b[0m \u001b[1m3s\u001b[0m 154ms/step - accuracy: 0.9354 - loss: 0.1808 - val_accuracy: 0.9533 - val_loss: 0.1801\n",
      "Epoch 9/15\n",
      "\u001b[1m22/22\u001b[0m \u001b[32m━━━━━━━━━━━━━━━━━━━━\u001b[0m\u001b[37m\u001b[0m \u001b[1m4s\u001b[0m 169ms/step - accuracy: 0.9577 - loss: 0.1316 - val_accuracy: 0.9533 - val_loss: 0.1464\n",
      "Epoch 10/15\n",
      "\u001b[1m22/22\u001b[0m \u001b[32m━━━━━━━━━━━━━━━━━━━━\u001b[0m\u001b[37m\u001b[0m \u001b[1m4s\u001b[0m 175ms/step - accuracy: 0.9543 - loss: 0.1125 - val_accuracy: 0.9600 - val_loss: 0.1378\n",
      "Epoch 11/15\n",
      "\u001b[1m22/22\u001b[0m \u001b[32m━━━━━━━━━━━━━━━━━━━━\u001b[0m\u001b[37m\u001b[0m \u001b[1m4s\u001b[0m 163ms/step - accuracy: 0.9599 - loss: 0.1351 - val_accuracy: 0.9667 - val_loss: 0.1239\n",
      "Epoch 12/15\n",
      "\u001b[1m22/22\u001b[0m \u001b[32m━━━━━━━━━━━━━━━━━━━━\u001b[0m\u001b[37m\u001b[0m \u001b[1m4s\u001b[0m 189ms/step - accuracy: 0.9769 - loss: 0.0764 - val_accuracy: 0.9333 - val_loss: 0.2025\n",
      "Epoch 13/15\n",
      "\u001b[1m22/22\u001b[0m \u001b[32m━━━━━━━━━━━━━━━━━━━━\u001b[0m\u001b[37m\u001b[0m \u001b[1m4s\u001b[0m 186ms/step - accuracy: 0.9166 - loss: 0.2143 - val_accuracy: 0.9467 - val_loss: 0.1483\n",
      "Epoch 14/15\n",
      "\u001b[1m22/22\u001b[0m \u001b[32m━━━━━━━━━━━━━━━━━━━━\u001b[0m\u001b[37m\u001b[0m \u001b[1m5s\u001b[0m 209ms/step - accuracy: 0.9593 - loss: 0.1109 - val_accuracy: 0.9500 - val_loss: 0.1409\n",
      "Epoch 15/15\n",
      "\u001b[1m22/22\u001b[0m \u001b[32m━━━━━━━━━━━━━━━━━━━━\u001b[0m\u001b[37m\u001b[0m \u001b[1m3s\u001b[0m 156ms/step - accuracy: 0.9815 - loss: 0.0797 - val_accuracy: 0.9667 - val_loss: 0.1337\n"
     ]
    },
    {
     "data": {
      "text/plain": [
       "<keras.src.callbacks.history.History at 0x7db5d8294c70>"
      ]
     },
     "execution_count": 42,
     "metadata": {},
     "output_type": "execute_result"
    }
   ],
   "source": [
    "model.fit(paddedData,y2, epochs=15, batch_size=32, validation_split=0.3)"
   ]
  },
  {
   "cell_type": "markdown",
   "id": "7a8bb198",
   "metadata": {
    "papermill": {
     "duration": 0.17777,
     "end_time": "2025-03-10T12:46:41.032414",
     "exception": false,
     "start_time": "2025-03-10T12:46:40.854644",
     "status": "completed"
    },
    "tags": []
   },
   "source": [
    "#### PREDICTING DATA\n"
   ]
  },
  {
   "cell_type": "code",
   "execution_count": 43,
   "id": "8e75a60c",
   "metadata": {
    "execution": {
     "iopub.execute_input": "2025-03-10T12:46:41.394881Z",
     "iopub.status.busy": "2025-03-10T12:46:41.394471Z",
     "iopub.status.idle": "2025-03-10T12:46:43.709366Z",
     "shell.execute_reply": "2025-03-10T12:46:43.708223Z"
    },
    "papermill": {
     "duration": 2.498475,
     "end_time": "2025-03-10T12:46:43.711348",
     "exception": false,
     "start_time": "2025-03-10T12:46:41.212873",
     "status": "completed"
    },
    "tags": []
   },
   "outputs": [
    {
     "name": "stdout",
     "output_type": "stream",
     "text": [
      "\u001b[1m32/32\u001b[0m \u001b[32m━━━━━━━━━━━━━━━━━━━━\u001b[0m\u001b[37m\u001b[0m \u001b[1m2s\u001b[0m 61ms/step\n"
     ]
    }
   ],
   "source": [
    "predictedData=model.predict(paddedData)\n",
    "\n",
    "corrected_classes2 = np.argmax(predictedData, axis=1)\n",
    "mapping = {0: 1, 1: 2, 2: 0}\n",
    "predClasses= np.array([mapping[i] for i in corrected_classes2])"
   ]
  },
  {
   "cell_type": "code",
   "execution_count": 44,
   "id": "6cb5a93a",
   "metadata": {
    "execution": {
     "iopub.execute_input": "2025-03-10T12:46:44.082828Z",
     "iopub.status.busy": "2025-03-10T12:46:44.082452Z",
     "iopub.status.idle": "2025-03-10T12:46:44.089436Z",
     "shell.execute_reply": "2025-03-10T12:46:44.088523Z"
    },
    "papermill": {
     "duration": 0.195539,
     "end_time": "2025-03-10T12:46:44.091153",
     "exception": false,
     "start_time": "2025-03-10T12:46:43.895614",
     "status": "completed"
    },
    "tags": []
   },
   "outputs": [],
   "source": [
    "comparisonData2=pd.DataFrame({\n",
    "    \"Text\":lmtpData[\"CombinedText\"],\n",
    "    \"Actual Sentiment\":lmtpData[\"Sentiment\"].values,\n",
    "    \"Predicted Sentiment\":predClasses\n",
    "})\n",
    "\n",
    "\n",
    "comparisonData2[\"Positive\"] = predictedData[:, 0] \n",
    "comparisonData2[\"Neutral\"] = predictedData[:, 1]  \n",
    "comparisonData2[\"Negative\"] = predictedData[:, 2]"
   ]
  },
  {
   "cell_type": "code",
   "execution_count": 45,
   "id": "b25bfeab",
   "metadata": {
    "execution": {
     "iopub.execute_input": "2025-03-10T12:46:44.519167Z",
     "iopub.status.busy": "2025-03-10T12:46:44.518792Z",
     "iopub.status.idle": "2025-03-10T12:46:44.533289Z",
     "shell.execute_reply": "2025-03-10T12:46:44.532180Z"
    },
    "papermill": {
     "duration": 0.202014,
     "end_time": "2025-03-10T12:46:44.535458",
     "exception": false,
     "start_time": "2025-03-10T12:46:44.333444",
     "status": "completed"
    },
    "tags": []
   },
   "outputs": [
    {
     "data": {
      "text/html": [
       "<div>\n",
       "<style scoped>\n",
       "    .dataframe tbody tr th:only-of-type {\n",
       "        vertical-align: middle;\n",
       "    }\n",
       "\n",
       "    .dataframe tbody tr th {\n",
       "        vertical-align: top;\n",
       "    }\n",
       "\n",
       "    .dataframe thead th {\n",
       "        text-align: right;\n",
       "    }\n",
       "</style>\n",
       "<table border=\"1\" class=\"dataframe\">\n",
       "  <thead>\n",
       "    <tr style=\"text-align: right;\">\n",
       "      <th></th>\n",
       "      <th>Text</th>\n",
       "      <th>Actual Sentiment</th>\n",
       "      <th>Predicted Sentiment</th>\n",
       "      <th>Positive</th>\n",
       "      <th>Neutral</th>\n",
       "      <th>Negative</th>\n",
       "    </tr>\n",
       "  </thead>\n",
       "  <tbody>\n",
       "    <tr>\n",
       "      <th>2571</th>\n",
       "      <td>Tastes great but pkg says \"Made in China\" so I won't buy it again Given the recent issues with products made in China I have decided to not buy any food products from there so I won't be buying anymore of this snack.  If they ever switch to made in the U.S. I'll buy it again as I did like it.</td>\n",
       "      <td>0</td>\n",
       "      <td>2</td>\n",
       "      <td>0.000071</td>\n",
       "      <td>0.998679</td>\n",
       "      <td>0.001250</td>\n",
       "    </tr>\n",
       "    <tr>\n",
       "      <th>182648</th>\n",
       "      <td>Feeding Costs and Guidelines Orijen seems to be what experts want us to feed to our dogs.  It smells nasty so we keep it sealed and the dog loves it more than Newman's Own (N.O.) Organic dry (no bad smell, dog doesn't like it).  We've always mixed N.O. with some (decidedly stinky) wet food.  Anyway, I've read that some dogs have intestinal upset with the Orijen food due to high protein content.  Others quote the high price of the food.  I agreed, but changed my mind when I read the feeding guidelines.  Here is a big tip from the Orijen people. \"We recommend that you feed twice daily. Simply divide the amount suggested on the feeding guide into two meals, spaced eight to twelve hours apart. You may need to adjust portions as you learn your dog's ideal daily \"maintenance\" amount, always keeping in mind that a lean dog is a healthy dog!&lt;br /&gt;&lt;br /&gt;TRANSITIONING FOODS&lt;br /&gt;\"Dogs are often fed the same food, which means a sudden food change makes it difficult for their digestive systems to adapt. That's why it's important to introduce the new food gradually. Going slowly will give your dog or cat time to adjust to their new food and will also reduce the chances of digestive upset.&lt;br /&gt;&lt;br /&gt;\"Start by mixing 25% new food with 75% old food. Slowly change the proportions over the next three to five days by gradually increasing the amount of ORIJEN and decreasing the amount of old food. At the end of this transitioning process, you should be feeding 100% ORIJEN.\" ~Quoted from the website of the Orijen dog food.&lt;br /&gt;&lt;br /&gt;COST PER SERVING&lt;br /&gt;We plan to continue the small amount of Orijen and see how our 30 pound Border mix rescue handles eating about 1/2 cup of food twice a day instead of the 1 and-a-half cups of N.O. that sits all day until she decides to eat it.  So far, the transition period is going very well.  She does a pretty nice job picking out the Orijen kibble and leaving the N.O..  So, for 1c. per day, if a 1/2 c. measure of kibble weighs approximately 1 oz on my non-scientific kitchen scale, then 30 pounds of food for 63 dollars is about 16 servings per pound or 480 servings per bag - which is 63/480... about 13 cents per serving @ 2 per day = 26 cents per day?  N.O. is (subscribe&amp;save .11 cents per ounce, but my dog needs (but won't eat unless mixed with wet) needs 3 times the amount (1 and-a-half cups per serving which is 6 oz. on my kitchen scale \"20-40 pound dog 1-1/3 to 2-1/4 cup) per serving or per day, I don't know, but we feed her 1.5 cups twice a day (6 oz. x .11 cents per oz.= 66 cents x 2 = $1.32 N.O. per day) is still more costly than Orijen at .26 cents per day. So for us, at least, the transition is cost-effective.&lt;br /&gt;&lt;br /&gt;Given that a half cup of food per serving is so little food, I'll probably supplement her meals with something else. Should I let go of the N.O. kibble just yet?</td>\n",
       "      <td>1</td>\n",
       "      <td>0</td>\n",
       "      <td>0.471147</td>\n",
       "      <td>0.025042</td>\n",
       "      <td>0.503811</td>\n",
       "    </tr>\n",
       "    <tr>\n",
       "      <th>366078</th>\n",
       "      <td>Honey Heaven! I initially bought these for the sore throats that start when you have to turn on the heat for the winter months.  Well, they are quite addictive!!  I now eat them like candy.  Great honey-flavor with a liquid honey center.  If you order them using Auto Delivery, you will get a discount and free shipping.  Get ready for a new favorite!</td>\n",
       "      <td>1</td>\n",
       "      <td>0</td>\n",
       "      <td>0.000544</td>\n",
       "      <td>0.000906</td>\n",
       "      <td>0.998551</td>\n",
       "    </tr>\n",
       "    <tr>\n",
       "      <th>145208</th>\n",
       "      <td>My favorite tea My Keurig is one of the best purchases I have ever made.  I don't drink soda, I drink tea instead and Mint Medley is my favorite.  Bigelow has done a great job of getting enough tea in the K-cup.</td>\n",
       "      <td>1</td>\n",
       "      <td>2</td>\n",
       "      <td>0.001653</td>\n",
       "      <td>0.989841</td>\n",
       "      <td>0.008506</td>\n",
       "    </tr>\n",
       "    <tr>\n",
       "      <th>515288</th>\n",
       "      <td>Anyone will love this tea! If you like tea as I do, you will really like this tea. This is not flavored or blended. Sure, I know it is \"bag\" tea and not \"loose\", and I know all about all the other things like the flush (harvest), the cut and such, but you don't have to be a tea \"snob\" to like this tea. I find that if I brew it with less than boiling water -around 190-200 degrees (just boil and wait a minute after pouring the water in the cup before adding the bag) and steep for 3 minutes, it comes out perfect. If I do want to sweeten it, I use orange blossom honey and it is great! Best of all, I didn't break the bank to get tea that I could enjoy. You can spend more, a lot more, and get \"better\", but I am perfectly happy with this because it is good tea, and at the rate I drink it, it is saving me a bunch of money. To me, that makes it taste even better!</td>\n",
       "      <td>1</td>\n",
       "      <td>2</td>\n",
       "      <td>0.000074</td>\n",
       "      <td>0.998616</td>\n",
       "      <td>0.001310</td>\n",
       "    </tr>\n",
       "    <tr>\n",
       "      <th>549112</th>\n",
       "      <td>Holy Moly this is awesome in a jar! This stuff is delicious!  I can't walk past the jar without getting a spoonful.  It has a peanut butter consistency but it tastes like coconut!  Actually it's so sweet it tastes like coconut candy!</td>\n",
       "      <td>1</td>\n",
       "      <td>2</td>\n",
       "      <td>0.000074</td>\n",
       "      <td>0.998612</td>\n",
       "      <td>0.001313</td>\n",
       "    </tr>\n",
       "    <tr>\n",
       "      <th>529903</th>\n",
       "      <td>The cat loves it It's the cat's opinion that counts here and he loves this stuff.  It arrived fresh and well packaged.  I knocked off 1 star because it's pretty expensive compared to come other brands.  I'd give it a 4.5 if I could do half stars.</td>\n",
       "      <td>1</td>\n",
       "      <td>2</td>\n",
       "      <td>0.000074</td>\n",
       "      <td>0.998623</td>\n",
       "      <td>0.001303</td>\n",
       "    </tr>\n",
       "    <tr>\n",
       "      <th>524724</th>\n",
       "      <td>Reese's Sardines the sardines are sort of bland in taste. I had to mix them with hot sauce to give them some flavor. Even better with jalapenos. Did like the fact there were no bones.</td>\n",
       "      <td>0</td>\n",
       "      <td>1</td>\n",
       "      <td>0.676226</td>\n",
       "      <td>0.312689</td>\n",
       "      <td>0.011085</td>\n",
       "    </tr>\n",
       "    <tr>\n",
       "      <th>222206</th>\n",
       "      <td>Really Good Snack Bars I can't speak for the kids, but as an adult, these rice bars make a perfect snack.  The peanuts provide protein while the rice and chocolate provide carbs.  These bars would be great for anyone with a busy lifestyle.  They're not messy, which makes them an ideal snack while working on the computer.  They're surprisingly tasty and flavorful.  The consistency is very appealing - soft yet crispy.  I buy these a lot.</td>\n",
       "      <td>1</td>\n",
       "      <td>2</td>\n",
       "      <td>0.000074</td>\n",
       "      <td>0.998617</td>\n",
       "      <td>0.001308</td>\n",
       "    </tr>\n",
       "    <tr>\n",
       "      <th>502406</th>\n",
       "      <td>Not as described The description clearly states, \"This variety sampler includes only flavored caffeinated coffee.\" but it was not 24 samples of coffee.  Several of the K-cups were ciders and there was a hot chocolate.  That would be fine if the seller disclosed that in the description but to say you're sending 24 COFFEE samples, then send something other than coffee is just plain deceitful.</td>\n",
       "      <td>0</td>\n",
       "      <td>1</td>\n",
       "      <td>0.996638</td>\n",
       "      <td>0.000392</td>\n",
       "      <td>0.002970</td>\n",
       "    </tr>\n",
       "  </tbody>\n",
       "</table>\n",
       "</div>"
      ],
      "text/plain": [
       "                                                                                                                                                                                                                                                                                                                                                                                                                                                                                                                                                                                                                                                                                                                                                                                                                                                                                                                                                                                                                                                                                                                                                                                                                                                                                                                                                                                                                                                                                                                                                                                                                                                                                                                                                                                                                                                                                                                                                                                                                                                                                                                                                                                                                                                                                                                                                                                                                                                                                                                                                                                                                                                                                                                                                                                                                                                                                                                                                                            Text  \\\n",
       "2571                                                                                                                                                                                                                                                                                                                                                                                                                                                                                                                                                                                                                                                                                                                                                                                                                                                                                                                                                                                                                                                                                                                                                                                                                                                                                                                                                                                                                                                                                                                                                                                                                                                                                                                                                                                                                                                                                                                                                                                                                                                                                                                                                                                                                                                                                                                                                                                                                                                                                                                                                                                                                                                                       Tastes great but pkg says \"Made in China\" so I won't buy it again Given the recent issues with products made in China I have decided to not buy any food products from there so I won't be buying anymore of this snack.  If they ever switch to made in the U.S. I'll buy it again as I did like it.   \n",
       "182648  Feeding Costs and Guidelines Orijen seems to be what experts want us to feed to our dogs.  It smells nasty so we keep it sealed and the dog loves it more than Newman's Own (N.O.) Organic dry (no bad smell, dog doesn't like it).  We've always mixed N.O. with some (decidedly stinky) wet food.  Anyway, I've read that some dogs have intestinal upset with the Orijen food due to high protein content.  Others quote the high price of the food.  I agreed, but changed my mind when I read the feeding guidelines.  Here is a big tip from the Orijen people. \"We recommend that you feed twice daily. Simply divide the amount suggested on the feeding guide into two meals, spaced eight to twelve hours apart. You may need to adjust portions as you learn your dog's ideal daily \"maintenance\" amount, always keeping in mind that a lean dog is a healthy dog!<br /><br />TRANSITIONING FOODS<br />\"Dogs are often fed the same food, which means a sudden food change makes it difficult for their digestive systems to adapt. That's why it's important to introduce the new food gradually. Going slowly will give your dog or cat time to adjust to their new food and will also reduce the chances of digestive upset.<br /><br />\"Start by mixing 25% new food with 75% old food. Slowly change the proportions over the next three to five days by gradually increasing the amount of ORIJEN and decreasing the amount of old food. At the end of this transitioning process, you should be feeding 100% ORIJEN.\" ~Quoted from the website of the Orijen dog food.<br /><br />COST PER SERVING<br />We plan to continue the small amount of Orijen and see how our 30 pound Border mix rescue handles eating about 1/2 cup of food twice a day instead of the 1 and-a-half cups of N.O. that sits all day until she decides to eat it.  So far, the transition period is going very well.  She does a pretty nice job picking out the Orijen kibble and leaving the N.O..  So, for 1c. per day, if a 1/2 c. measure of kibble weighs approximately 1 oz on my non-scientific kitchen scale, then 30 pounds of food for 63 dollars is about 16 servings per pound or 480 servings per bag - which is 63/480... about 13 cents per serving @ 2 per day = 26 cents per day?  N.O. is (subscribe&save .11 cents per ounce, but my dog needs (but won't eat unless mixed with wet) needs 3 times the amount (1 and-a-half cups per serving which is 6 oz. on my kitchen scale \"20-40 pound dog 1-1/3 to 2-1/4 cup) per serving or per day, I don't know, but we feed her 1.5 cups twice a day (6 oz. x .11 cents per oz.= 66 cents x 2 = $1.32 N.O. per day) is still more costly than Orijen at .26 cents per day. So for us, at least, the transition is cost-effective.<br /><br />Given that a half cup of food per serving is so little food, I'll probably supplement her meals with something else. Should I let go of the N.O. kibble just yet?   \n",
       "366078                                                                                                                                                                                                                                                                                                                                                                                                                                                                                                                                                                                                                                                                                                                                                                                                                                                                                                                                                                                                                                                                                                                                                                                                                                                                                                                                                                                                                                                                                                                                                                                                                                                                                                                                                                                                                                                                                                                                                                                                                                                                                                                                                                                                                                                                                                                                                                                                                                                                                                                                                                                                           Honey Heaven! I initially bought these for the sore throats that start when you have to turn on the heat for the winter months.  Well, they are quite addictive!!  I now eat them like candy.  Great honey-flavor with a liquid honey center.  If you order them using Auto Delivery, you will get a discount and free shipping.  Get ready for a new favorite!   \n",
       "145208                                                                                                                                                                                                                                                                                                                                                                                                                                                                                                                                                                                                                                                                                                                                                                                                                                                                                                                                                                                                                                                                                                                                                                                                                                                                                                                                                                                                                                                                                                                                                                                                                                                                                                                                                                                                                                                                                                                                                                                                                                                                                                                                                                                                                                                                                                                                                                                                                                                                                                                                                                                                                                                                                                                                                       My favorite tea My Keurig is one of the best purchases I have ever made.  I don't drink soda, I drink tea instead and Mint Medley is my favorite.  Bigelow has done a great job of getting enough tea in the K-cup.   \n",
       "515288                                                                                                                                                                                                                                                                                                                                                                                                                                                                                                                                                                                                                                                                                                                                                                                                                                                                                                                                                                                                                                                                                                                                                                                                                                                                                                                                                                                                                                                                                                                                                                                                                                                                                                                                                                                                                                                                                                                                                                                                                                                                        Anyone will love this tea! If you like tea as I do, you will really like this tea. This is not flavored or blended. Sure, I know it is \"bag\" tea and not \"loose\", and I know all about all the other things like the flush (harvest), the cut and such, but you don't have to be a tea \"snob\" to like this tea. I find that if I brew it with less than boiling water -around 190-200 degrees (just boil and wait a minute after pouring the water in the cup before adding the bag) and steep for 3 minutes, it comes out perfect. If I do want to sweeten it, I use orange blossom honey and it is great! Best of all, I didn't break the bank to get tea that I could enjoy. You can spend more, a lot more, and get \"better\", but I am perfectly happy with this because it is good tea, and at the rate I drink it, it is saving me a bunch of money. To me, that makes it taste even better!   \n",
       "549112                                                                                                                                                                                                                                                                                                                                                                                                                                                                                                                                                                                                                                                                                                                                                                                                                                                                                                                                                                                                                                                                                                                                                                                                                                                                                                                                                                                                                                                                                                                                                                                                                                                                                                                                                                                                                                                                                                                                                                                                                                                                                                                                                                                                                                                                                                                                                                                                                                                                                                                                                                                                                                                                                                                                 Holy Moly this is awesome in a jar! This stuff is delicious!  I can't walk past the jar without getting a spoonful.  It has a peanut butter consistency but it tastes like coconut!  Actually it's so sweet it tastes like coconut candy!   \n",
       "529903                                                                                                                                                                                                                                                                                                                                                                                                                                                                                                                                                                                                                                                                                                                                                                                                                                                                                                                                                                                                                                                                                                                                                                                                                                                                                                                                                                                                                                                                                                                                                                                                                                                                                                                                                                                                                                                                                                                                                                                                                                                                                                                                                                                                                                                                                                                                                                                                                                                                                                                                                                                                                                                                                                                    The cat loves it It's the cat's opinion that counts here and he loves this stuff.  It arrived fresh and well packaged.  I knocked off 1 star because it's pretty expensive compared to come other brands.  I'd give it a 4.5 if I could do half stars.   \n",
       "524724                                                                                                                                                                                                                                                                                                                                                                                                                                                                                                                                                                                                                                                                                                                                                                                                                                                                                                                                                                                                                                                                                                                                                                                                                                                                                                                                                                                                                                                                                                                                                                                                                                                                                                                                                                                                                                                                                                                                                                                                                                                                                                                                                                                                                                                                                                                                                                                                                                                                                                                                                                                                                                                                                                                                                                                   Reese's Sardines the sardines are sort of bland in taste. I had to mix them with hot sauce to give them some flavor. Even better with jalapenos. Did like the fact there were no bones.   \n",
       "222206                                                                                                                                                                                                                                                                                                                                                                                                                                                                                                                                                                                                                                                                                                                                                                                                                                                                                                                                                                                                                                                                                                                                                                                                                                                                                                                                                                                                                                                                                                                                                                                                                                                                                                                                                                                                                                                                                                                                                                                                                                                                                                                                                                                                                                                                                                                                                                                                                                                                                                                   Really Good Snack Bars I can't speak for the kids, but as an adult, these rice bars make a perfect snack.  The peanuts provide protein while the rice and chocolate provide carbs.  These bars would be great for anyone with a busy lifestyle.  They're not messy, which makes them an ideal snack while working on the computer.  They're surprisingly tasty and flavorful.  The consistency is very appealing - soft yet crispy.  I buy these a lot.   \n",
       "502406                                                                                                                                                                                                                                                                                                                                                                                                                                                                                                                                                                                                                                                                                                                                                                                                                                                                                                                                                                                                                                                                                                                                                                                                                                                                                                                                                                                                                                                                                                                                                                                                                                                                                                                                                                                                                                                                                                                                                                                                                                                                                                                                                                                                                                                                                                                                                                                                                                                                                                                                                                 Not as described The description clearly states, \"This variety sampler includes only flavored caffeinated coffee.\" but it was not 24 samples of coffee.  Several of the K-cups were ciders and there was a hot chocolate.  That would be fine if the seller disclosed that in the description but to say you're sending 24 COFFEE samples, then send something other than coffee is just plain deceitful.   \n",
       "\n",
       "        Actual Sentiment  Predicted Sentiment  Positive   Neutral  Negative  \n",
       "2571                   0                    2  0.000071  0.998679  0.001250  \n",
       "182648                 1                    0  0.471147  0.025042  0.503811  \n",
       "366078                 1                    0  0.000544  0.000906  0.998551  \n",
       "145208                 1                    2  0.001653  0.989841  0.008506  \n",
       "515288                 1                    2  0.000074  0.998616  0.001310  \n",
       "549112                 1                    2  0.000074  0.998612  0.001313  \n",
       "529903                 1                    2  0.000074  0.998623  0.001303  \n",
       "524724                 0                    1  0.676226  0.312689  0.011085  \n",
       "222206                 1                    2  0.000074  0.998617  0.001308  \n",
       "502406                 0                    1  0.996638  0.000392  0.002970  "
      ]
     },
     "execution_count": 45,
     "metadata": {},
     "output_type": "execute_result"
    }
   ],
   "source": [
    "comparisonData2.tail(10)"
   ]
  },
  {
   "cell_type": "code",
   "execution_count": 46,
   "id": "36c379f9",
   "metadata": {
    "execution": {
     "iopub.execute_input": "2025-03-10T12:46:44.914727Z",
     "iopub.status.busy": "2025-03-10T12:46:44.914116Z",
     "iopub.status.idle": "2025-03-10T12:46:45.135322Z",
     "shell.execute_reply": "2025-03-10T12:46:45.133719Z"
    },
    "papermill": {
     "duration": 0.416673,
     "end_time": "2025-03-10T12:46:45.137158",
     "exception": false,
     "start_time": "2025-03-10T12:46:44.720485",
     "status": "completed"
    },
    "tags": []
   },
   "outputs": [],
   "source": [
    "comparisonData2.to_excel('PredictedSample2.xlsx')"
   ]
  },
  {
   "cell_type": "markdown",
   "id": "ce3f56e5",
   "metadata": {
    "papermill": {
     "duration": 0.185161,
     "end_time": "2025-03-10T12:46:45.507400",
     "exception": false,
     "start_time": "2025-03-10T12:46:45.322239",
     "status": "completed"
    },
    "tags": []
   },
   "source": [
    "#### USING A SPECIFIC REVIEW"
   ]
  },
  {
   "cell_type": "code",
   "execution_count": 47,
   "id": "d8f4d1ac",
   "metadata": {
    "execution": {
     "iopub.execute_input": "2025-03-10T12:46:45.904839Z",
     "iopub.status.busy": "2025-03-10T12:46:45.904275Z",
     "iopub.status.idle": "2025-03-10T12:46:46.024336Z",
     "shell.execute_reply": "2025-03-10T12:46:46.022739Z"
    },
    "papermill": {
     "duration": 0.327234,
     "end_time": "2025-03-10T12:46:46.026232",
     "exception": false,
     "start_time": "2025-03-10T12:46:45.698998",
     "status": "completed"
    },
    "tags": []
   },
   "outputs": [
    {
     "name": "stdout",
     "output_type": "stream",
     "text": [
      "\u001b[1m1/1\u001b[0m \u001b[32m━━━━━━━━━━━━━━━━━━━━\u001b[0m\u001b[37m\u001b[0m \u001b[1m0s\u001b[0m 46ms/step\n",
      "Predicted Class:  [0]\n"
     ]
    }
   ],
   "source": [
    "\n",
    "new_review = \"I love this product, it's amazing!\"\n",
    "\n",
    "\n",
    "new_review_tokens = tokenizer.texts_to_sequences([new_review])\n",
    "new_review_padded = pad_sequences(new_review_tokens, maxlen=maxLen)\n",
    "\n",
    "predictions = model.predict(new_review_padded)\n",
    "\n",
    "\n",
    "predicted_class = np.argmax(predictions, axis=1)\n",
    "\n",
    "print(\"Predicted Class: \", predicted_class)\n"
   ]
  },
  {
   "cell_type": "markdown",
   "id": "3bca26af",
   "metadata": {
    "papermill": {
     "duration": 0.202072,
     "end_time": "2025-03-10T12:46:46.426614",
     "exception": false,
     "start_time": "2025-03-10T12:46:46.224542",
     "status": "completed"
    },
    "tags": []
   },
   "source": [
    "## PREDICTING SPECIFIC REVIEWS"
   ]
  },
  {
   "cell_type": "code",
   "execution_count": 48,
   "id": "1ee063fd",
   "metadata": {
    "execution": {
     "iopub.execute_input": "2025-03-10T12:46:46.899382Z",
     "iopub.status.busy": "2025-03-10T12:46:46.898938Z",
     "iopub.status.idle": "2025-03-10T12:46:47.020238Z",
     "shell.execute_reply": "2025-03-10T12:46:47.018842Z"
    },
    "papermill": {
     "duration": 0.396628,
     "end_time": "2025-03-10T12:46:47.022662",
     "exception": false,
     "start_time": "2025-03-10T12:46:46.626034",
     "status": "completed"
    },
    "tags": []
   },
   "outputs": [
    {
     "name": "stdout",
     "output_type": "stream",
     "text": [
      "\u001b[1m1/1\u001b[0m \u001b[32m━━━━━━━━━━━━━━━━━━━━\u001b[0m\u001b[37m\u001b[0m \u001b[1m0s\u001b[0m 49ms/step\n",
      "{'Review': \"I had high hopes for this product after reading multiple positive reviews, but unfortunately, my experience was quite mixed. The packaging was impressive, giving it a premium feel, but upon opening, I noticed an overpowering artificial scent that was quite off-putting. I decided to give it a fair chance, so I followed the instructions to the letter, hoping the actual performance would overshadow my initial doubts. The first few uses were promising—it seemed to deliver on its claims, and I started thinking I had found my new go-to. However, after consistent use over a couple of weeks, the drawbacks became painfully apparent. The quality didn’t hold up, and instead of improving my experience, I felt it became more of a hassle. The texture was inconsistent, and I found myself frustrated more often than satisfied. Another issue I encountered was the durability—what was advertised as long-lasting started showing signs of wear way too soon. While I can appreciate the effort put into making this product appealing, the reality just didn’t match the hype. I wouldn't go as far as to say it's completely useless—it has its moments—but I certainly wouldn’t repurchase at this price point. If you're someone who values longevity and consistent performance, you might want to look elsewhere. For me, it's a disappointing experience that didn’t live up to the expectations.\", 'Probabilities': {'Negative': 0.16382353, 'Neutral': 0.040264364, 'Positive': 0.7959121}, 'Predicted Sentiment': 'Positive'}\n"
     ]
    }
   ],
   "source": [
    "def predictReviewSentiment(review,tokenizer,model,mapping,maxLength=100):\n",
    "    revSequence=tokenizer.texts_to_sequences([review])\n",
    "    paddedReviews=pad_sequences(revSequence,maxlen=maxLength,padding='post')\n",
    "    revPredictions=model.predict(paddedReviews)\n",
    "    negative_prob, neutral_prob, positive_prob = revPredictions[0]\n",
    "    predicted_class = np.argmax(revPredictions, axis=1)[0]  \n",
    "    sentiment = mapping[predicted_class]\n",
    "    return {\n",
    "        \"Review\": review,\n",
    "        \"Probabilities\": {\n",
    "            \"Negative\": negative_prob,\n",
    "            \"Neutral\": neutral_prob,\n",
    "            \"Positive\": positive_prob\n",
    "        },\n",
    "        \"Predicted Sentiment\": sentiment\n",
    "    }\n",
    "mapping = {0: \"Negative\", 1: \"Neutral\", 2: \"Positive\"} \n",
    "text=\"I had high hopes for this product after reading multiple positive reviews, but unfortunately, my experience was quite mixed. The packaging was impressive, giving it a premium feel, but upon opening, I noticed an overpowering artificial scent that was quite off-putting. I decided to give it a fair chance, so I followed the instructions to the letter, hoping the actual performance would overshadow my initial doubts. The first few uses were promising—it seemed to deliver on its claims, and I started thinking I had found my new go-to. However, after consistent use over a couple of weeks, the drawbacks became painfully apparent. The quality didn’t hold up, and instead of improving my experience, I felt it became more of a hassle. The texture was inconsistent, and I found myself frustrated more often than satisfied. Another issue I encountered was the durability—what was advertised as long-lasting started showing signs of wear way too soon. While I can appreciate the effort put into making this product appealing, the reality just didn’t match the hype. I wouldn't go as far as to say it's completely useless—it has its moments—but I certainly wouldn’t repurchase at this price point. If you're someone who values longevity and consistent performance, you might want to look elsewhere. For me, it's a disappointing experience that didn’t live up to the expectations.\"\n",
    "result = predictReviewSentiment(text, tokenizer, model, mapping)\n",
    "print (result)"
   ]
  },
  {
   "cell_type": "code",
   "execution_count": 49,
   "id": "8396c5b9",
   "metadata": {
    "execution": {
     "iopub.execute_input": "2025-03-10T12:46:47.429500Z",
     "iopub.status.busy": "2025-03-10T12:46:47.429127Z",
     "iopub.status.idle": "2025-03-10T12:46:47.532445Z",
     "shell.execute_reply": "2025-03-10T12:46:47.531332Z"
    },
    "papermill": {
     "duration": 0.3086,
     "end_time": "2025-03-10T12:46:47.535145",
     "exception": false,
     "start_time": "2025-03-10T12:46:47.226545",
     "status": "completed"
    },
    "tags": []
   },
   "outputs": [
    {
     "name": "stdout",
     "output_type": "stream",
     "text": [
      "\u001b[1m1/1\u001b[0m \u001b[32m━━━━━━━━━━━━━━━━━━━━\u001b[0m\u001b[37m\u001b[0m \u001b[1m0s\u001b[0m 41ms/step\n",
      "{'Review': 'I purchased this product a few weeks ago, and honestly, I have mixed feelings about it. \\nIt does what it’s supposed to do, but there’s nothing particularly special about it. \\nThe design is pretty standard, and while it functions well most of the time, \\nI wouldn’t say it exceeds expectations. It’s neither the best nor the worst I’ve used—it just gets the job done. \\n\\nThe build quality seems decent, though I do wonder about its long-term durability. \\nIt’s not flimsy, but it doesn’t feel premium either. The setup process was straightforward, \\nthough I did have to check the instructions a couple of times to clarify a few things. \\n\\nPerformance-wise, I’d say it’s reliable, but there are occasional inconsistencies. \\nSometimes it works perfectly, other times it takes a bit of effort to get it going. \\nNothing major, but enough to notice. \\n\\nWould I buy it again? Maybe, if I didn’t find a better alternative. \\nIt’s not a bad purchase, but it’s also not something I would enthusiastically recommend. \\nIf you need something that works and aren’t too picky about minor inconveniences, this should be fine.', 'Probabilities': {'Negative': 0.97930235, 'Neutral': 0.004518337, 'Positive': 0.016179297}, 'Predicted Sentiment': 'Negative'}\n"
     ]
    }
   ],
   "source": [
    "review3 = \"\"\"I purchased this product a few weeks ago, and honestly, I have mixed feelings about it. \n",
    "It does what it’s supposed to do, but there’s nothing particularly special about it. \n",
    "The design is pretty standard, and while it functions well most of the time, \n",
    "I wouldn’t say it exceeds expectations. It’s neither the best nor the worst I’ve used—it just gets the job done. \n",
    "\n",
    "The build quality seems decent, though I do wonder about its long-term durability. \n",
    "It’s not flimsy, but it doesn’t feel premium either. The setup process was straightforward, \n",
    "though I did have to check the instructions a couple of times to clarify a few things. \n",
    "\n",
    "Performance-wise, I’d say it’s reliable, but there are occasional inconsistencies. \n",
    "Sometimes it works perfectly, other times it takes a bit of effort to get it going. \n",
    "Nothing major, but enough to notice. \n",
    "\n",
    "Would I buy it again? Maybe, if I didn’t find a better alternative. \n",
    "It’s not a bad purchase, but it’s also not something I would enthusiastically recommend. \n",
    "If you need something that works and aren’t too picky about minor inconveniences, this should be fine.\"\"\"\n",
    "\n",
    "result3 = predictReviewSentiment(review3, tokenizer, model, mapping)\n",
    "print(result3)\n"
   ]
  },
  {
   "cell_type": "code",
   "execution_count": 50,
   "id": "8af1fdd3",
   "metadata": {
    "execution": {
     "iopub.execute_input": "2025-03-10T12:46:47.936758Z",
     "iopub.status.busy": "2025-03-10T12:46:47.936246Z",
     "iopub.status.idle": "2025-03-10T12:46:48.044526Z",
     "shell.execute_reply": "2025-03-10T12:46:48.042885Z"
    },
    "papermill": {
     "duration": 0.313639,
     "end_time": "2025-03-10T12:46:48.046758",
     "exception": false,
     "start_time": "2025-03-10T12:46:47.733119",
     "status": "completed"
    },
    "tags": []
   },
   "outputs": [
    {
     "name": "stdout",
     "output_type": "stream",
     "text": [
      "\u001b[1m1/1\u001b[0m \u001b[32m━━━━━━━━━━━━━━━━━━━━\u001b[0m\u001b[37m\u001b[0m \u001b[1m0s\u001b[0m 42ms/step\n",
      "{'Review': \"This is by far one of the worst purchases I have ever made. From the moment I opened the box, I knew I had made a mistake. The product feels cheap, poorly made, and looks nothing like what was advertised.\\n\\nIt barely functions as intended—half the time, it doesn't even turn on, and when it does, it either malfunctions or stops working within minutes. The materials used are flimsy, and I honestly wouldn’t be surprised if it breaks completely within a few weeks.\\n\\nThe worst part is the customer service. I tried to reach out for support, but all I got were generic, unhelpful responses that didn’t even address my issue. They refused to offer a refund, and after several emails, they just stopped responding altogether.\\n\\nI wouldn’t recommend this to anyone. Save your money and buy something from a reputable brand instead. If I could rate this zero stars, I would.\", 'Probabilities': {'Negative': 0.5005109, 'Neutral': 0.0075386968, 'Positive': 0.49195048}, 'Predicted Sentiment': 'Negative'}\n"
     ]
    }
   ],
   "source": [
    "review4 = \"\"\"This is by far one of the worst purchases I have ever made. From the moment I opened the box, I knew I had made a mistake. The product feels cheap, poorly made, and looks nothing like what was advertised.\n",
    "\n",
    "It barely functions as intended—half the time, it doesn't even turn on, and when it does, it either malfunctions or stops working within minutes. The materials used are flimsy, and I honestly wouldn’t be surprised if it breaks completely within a few weeks.\n",
    "\n",
    "The worst part is the customer service. I tried to reach out for support, but all I got were generic, unhelpful responses that didn’t even address my issue. They refused to offer a refund, and after several emails, they just stopped responding altogether.\n",
    "\n",
    "I wouldn’t recommend this to anyone. Save your money and buy something from a reputable brand instead. If I could rate this zero stars, I would.\"\"\"\n",
    "\n",
    "result4 = predictReviewSentiment(review4, tokenizer, model, mapping)\n",
    "print(result4)"
   ]
  },
  {
   "cell_type": "markdown",
   "id": "9b883ec4",
   "metadata": {
    "papermill": {
     "duration": 0.206657,
     "end_time": "2025-03-10T12:46:48.447908",
     "exception": false,
     "start_time": "2025-03-10T12:46:48.241251",
     "status": "completed"
    },
    "tags": []
   },
   "source": [
    "#### TOKENIZER"
   ]
  },
  {
   "cell_type": "code",
   "execution_count": 51,
   "id": "feda3771",
   "metadata": {
    "execution": {
     "iopub.execute_input": "2025-03-10T12:46:48.858745Z",
     "iopub.status.busy": "2025-03-10T12:46:48.858015Z",
     "iopub.status.idle": "2025-03-10T12:46:48.875136Z",
     "shell.execute_reply": "2025-03-10T12:46:48.867838Z"
    },
    "papermill": {
     "duration": 0.235535,
     "end_time": "2025-03-10T12:46:48.885830",
     "exception": false,
     "start_time": "2025-03-10T12:46:48.650295",
     "status": "completed"
    },
    "tags": []
   },
   "outputs": [
    {
     "name": "stdout",
     "output_type": "stream",
     "text": [
      "{'the': 1, 'i': 2, 'a': 3, 'and': 4, 'to': 5, 'it': 6, 'of': 7, 'is': 8, 'this': 9, 'for': 10, 'in': 11, 'br': 12, 'my': 13, 'that': 14, 'but': 15, 'with': 16, 'have': 17, 'not': 18, 'you': 19, 'are': 20, 'was': 21, 'as': 22, 'they': 23, 'on': 24, 'so': 25, 'great': 26, 'these': 27, 'good': 28, 'like': 29, 'them': 30, 'be': 31, 'at': 32, 'tea': 33, 'taste': 34, 'one': 35, 'product': 36, 'coffee': 37, 'or': 38, 'just': 39, 'very': 40, 'if': 41, 'flavor': 42, 'all': 43, 'love': 44, 'from': 45, 'food': 46, 'more': 47, 'me': 48, 'can': 49, 'when': 50, \"it's\": 51, 'we': 52, 'will': 53, 'has': 54, 'had': 55, 'than': 56, 'would': 57, 'no': 58, 'other': 59, 'best': 60, 'out': 61, 'up': 62, 'get': 63, 'too': 64, 'about': 65, 'only': 66, 'much': 67, 'some': 68, 'amazon': 69, \"don't\": 70, 'price': 71, 'really': 72, 'there': 73, 'dog': 74, 'were': 75, 'little': 76, 'your': 77, 'because': 78, 'time': 79, 'find': 80, 'an': 81, 'better': 82, 'what': 83, 'even': 84, 'after': 85, 'also': 86, 'use': 87, 'do': 88, 'which': 89, 'been': 90, \"i've\": 91, 'am': 92, 'buy': 93, 'well': 94, 'eat': 95, 'any': 96, 'cup': 97, \"i'm\": 98, 'tried': 99, 'make': 100, 'chocolate': 101, 'by': 102, 'sugar': 103, 'she': 104, 'their': 105, 'he': 106, 'try': 107, 'again': 108, '2': 109, 'now': 110, 'our': 111, 'way': 112, 'water': 113, 'sweet': 114, 'first': 115, 'made': 116, 'delicious': 117, 'drink': 118, 'bag': 119, 'her': 120, '1': 121, 'tastes': 122, 'found': 123, 'still': 124, 'favorite': 125, 'since': 126, 'go': 127, 'bought': 128, 'used': 129, 'free': 130, 'two': 131, 'then': 132, 'think': 133, 'dogs': 134, 'who': 135, 'did': 136, 'never': 137, 'know': 138, 'loves': 139, 'perfect': 140, 'give': 141, 'strong': 142, 'want': 143, '3': 144, 'recommend': 145, 'box': 146, 'many': 147, 'could': 148, 'before': 149, 'snack': 150, 'does': 151, 'treat': 152, 'day': 153, '5': 154, 'how': 155, 'over': 156, 'stuff': 157, 'ever': 158, 'into': 159, 'most': 160, 'store': 161, 'flavors': 162, 'quality': 163, 'chips': 164, 'salt': 165, 'nice': 166, 'mix': 167, 'bit': 168, \"didn't\": 169, 'k': 170, 'ordered': 171, 'brand': 172, 'something': 173, 'same': 174, 'order': 175, 'less': 176, 'always': 177, 'add': 178, 'makes': 179, 'long': 180, 'got': 181, 'without': 182, \"doesn't\": 183, 'however': 184, 'tasty': 185, \"can't\": 186, 'hot': 187, 'different': 188, 'cat': 189, 'years': 190, 'fresh': 191, 'high': 192, 'healthy': 193, 'right': 194, '4': 195, 'keep': 196, 'every': 197, 'enough': 198, 'old': 199, 'small': 200, 'milk': 201, 'hard': 202, 'treats': 203, 'ingredients': 204, 'its': 205, 'wonderful': 206, 'though': 207, 'excellent': 208, 'happy': 209, 'need': 210, 'cups': 211, 'natural': 212, 'few': 213, 'bad': 214, 'say': 215, 'green': 216, 'pack': 217, 'lot': 218, 'tasting': 219, 'while': 220, 'put': 221, 'whole': 222, 'here': 223, 'another': 224, 'diet': 225, 'candy': 226, 'eating': 227, 'butter': 228, 'being': 229, 'using': 230, 'people': 231, 'looking': 232, 'easy': 233, 'definitely': 234, 'his': 235, 'cookies': 236, 'enjoy': 237, 'organic': 238, 'buying': 239, 'see': 240, 'new': 241, 'pretty': 242, 'big': 243, 'low': 244, 'work': 245, 'real': 246, 'oil': 247, 'dark': 248, 'take': 249, 'off': 250, 'thing': 251, 'feel': 252, 'foods': 253, 'rice': 254, 'should': 255, 'having': 256, 'each': 257, 'both': 258, 'back': 259, 'size': 260, 'black': 261, 'products': 262, 'cats': 263, 'chicken': 264, 'actually': 265, 'vanilla': 266, 'per': 267, 'texture': 268, 'may': 269, 'him': 270, 'bags': 271, 'worth': 272, 'shipping': 273, 'brands': 274, 'far': 275, 'through': 276, 'anything': 277, 'last': 278, 'thought': 279, 'package': 280, 'own': 281, 'almost': 282, 'sure': 283, 'flavored': 284, 'expensive': 285, 'kind': 286, 'us': 287, 'came': 288, 'regular': 289, 'away': 290, 'quite': 291, 'around': 292, 'coconut': 293, 'amount': 294, 'tasted': 295, 'down': 296, 'purchase': 297, 'going': 298, 'bars': 299, 'half': 300, 'year': 301, 'home': 302, 'received': 303, 'several': 304, 'stores': 305, 'top': 306, 'local': 307, 'fat': 308, 'those': 309, 'purchased': 310, 'trying': 311, '6': 312, 'sauce': 313, \"won't\": 314, 'family': 315, 'until': 316, 'usually': 317, 'company': 318, 'getting': 319, 'bar': 320, 'blend': 321, 'yummy': 322, 'com': 323, 'bottle': 324, 'stars': 325, 'problem': 326, \"isn't\": 327, 'available': 328, 'comes': 329, 'full': 330, 'grocery': 331, 'peanut': 332, 'smell': 333, 'gluten': 334, 'morning': 335, \"they're\": 336, 'fruit': 337, 'calories': 338, 'protein': 339, 'disappointed': 340, 'once': 341, 'things': 342, 'loved': 343, 'dry': 344, 'probably': 345, 'where': 346, 'case': 347, 'highly': 348, 'roast': 349, 'others': 350, 'reviews': 351, 'bitter': 352, 'variety': 353, 'packaging': 354, 'cereal': 355, \"i'd\": 356, 'honey': 357, \"i'll\": 358, 'said': 359, 'look': 360, 'days': 361, 'absolutely': 362, 'item': 363, 'drinking': 364, 'wanted': 365, 'seems': 366, 'maybe': 367, 'added': 368, 'works': 369, 'instead': 370, 'read': 371, 'why': 372, '10': 373, 'awesome': 374, 'money': 375, \"that's\": 376, 'popcorn': 377, 'deal': 378, 'boxes': 379, 'come': 380, 'serving': 381, \"you're\": 382, '12': 383, 'review': 384, 'large': 385, 'light': 386, 'fact': 387, 'breakfast': 388, 'quickly': 389, 'nothing': 390, 'months': 391, 'energy': 392, 'three': 393, 'ones': 394, 'says': 395, 'started': 396, 'able': 397, 'such': 398, 'prefer': 399, 'lemon': 400, 'arrived': 401, 'fine': 402, 'minutes': 403, 'cocoa': 404, 'rich': 405, 'corn': 406, 'decided': 407, 'cheaper': 408, 'seem': 409, 'leaves': 410, 'let': 411, 'took': 412, 'especially': 413, '100': 414, 'quick': 415, 'least': 416, 'difference': 417, 'teas': 418, 'french': 419, 'liked': 420, 'juice': 421, 'gave': 422, 'etc': 423, 'health': 424, 'soft': 425, 'salty': 426, 'http': 427, 'www': 428, 'wish': 429, 'plus': 430, 'times': 431, 'thanks': 432, 'might': 433, 'ginger': 434, 'ordering': 435, 'making': 436, 'else': 437, \"couldn't\": 438, 'cream': 439, 'gp': 440, 'ok': 441, 'either': 442, 'iced': 443, 'brown': 444, 'syrup': 445, 'version': 446, 'second': 447, 'href': 448, 'amazing': 449, 'everything': 450, 'value': 451, 'wrong': 452, 'save': 453, 'opened': 454, 'couple': 455, 'rather': 456, 'cost': 457, 'dried': 458, 'beans': 459, '8': 460, 'kids': 461, 'feed': 462, 'container': 463, \"wasn't\": 464, 'ago': 465, 'anyone': 466, 'baby': 467, 'cheese': 468, 'extra': 469, 'oz': 470, 'open': 471, 'keurig': 472, 'ounce': 473, 'overall': 474, 'cinnamon': 475, 'pieces': 476, 'fan': 477, 'color': 478, 'gets': 479, 'aroma': 480, 'decaf': 481, 'line': 482, 'smooth': 483, 'cookie': 484, 'fast': 485, 'snacks': 486, 'chew': 487, 'bold': 488, 'sometimes': 489, 'friends': 490, 'yet': 491, 'slightly': 492, 'husband': 493, 'soup': 494, 'must': 495, 'side': 496, 'potato': 497, 'life': 498, 'white': 499, 'next': 500, 'giving': 501, 'longer': 502, 'crunchy': 503, 'canned': 504, 'went': 505, 'market': 506, 'cold': 507, 'end': 508, 'mixed': 509, 'although': 510, 'cans': 511, 'everyone': 512, 'gift': 513, 'meat': 514, 'list': 515, 'reason': 516, 'recommended': 517, 'problems': 518, 'powder': 519, 'bread': 520, 'cut': 521, 'glad': 522, 'super': 523, 'experience': 524, \"wouldn't\": 525, 'meal': 526, 'expected': 527, 'daily': 528, 'night': 529, 'coffees': 530, 'single': 531, 'weight': 532, '24': 533, 'service': 534, 'teeth': 535, 'nuts': 536, 'mouth': 537, 'finally': 538, 'myself': 539, 'plastic': 540, 'pet': 541, 'pods': 542, 'house': 543, 'contains': 544, 'beef': 545, 'spicy': 546, 'mild': 547, 'mind': 548, 'simply': 549, 'flavorful': 550, 'medium': 551, 'chip': 552, 'yum': 553, 'noticed': 554, 'calorie': 555, 'soda': 556, '50': 557, 'pepper': 558, 'almonds': 559, 'close': 560, 'itself': 561, 'smaller': 562, 'larger': 563, 'month': 564, 'four': 565, 'between': 566, 'particular': 567, 'fantastic': 568, 'daughter': 569, 'likes': 570, 'yes': 571, 'hand': 572, 'special': 573, 'crackers': 574, 'thank': 575, 'course': 576, 'help': 577, 'please': 578, 'original': 579, 'ice': 580, 'ingredient': 581, 'part': 582, 'goes': 583, 'pasta': 584, 'due': 585, 'pick': 586, 'red': 587, 'star': 588, 'similar': 589, 'hint': 590, 'place': 591, 'formula': 592, 'plant': 593, 'wow': 594, 'often': 595, 'given': 596, 'left': 597, '9': 598, 'packs': 599, 'gives': 600, 'continue': 601, 'surprised': 602, 'crunch': 603, 'wheat': 604, 'raw': 605, 'jar': 606, 'description': 607, 'delivered': 608, 'taking': 609, 'picky': 610, '15': 611, 'along': 612, 'alternative': 613, 'aftertaste': 614, 'smells': 615, 'ground': 616, 'exactly': 617, \"you'll\": 618, 'sweetness': 619, 'pleased': 620, 'consistency': 621, 'believe': 622, 'weeks': 623, 'gone': 624, 'blue': 625, 'five': 626, 'helps': 627, 'son': 628, 'pound': 629, 'sent': 630, 'stash': 631, 'looked': 632, 'lots': 633, 'needed': 634, 'results': 635, 'expect': 636, 'plain': 637, 'seeds': 638, 'unfortunately': 639, 'oatmeal': 640, 'week': 641, 'raspberry': 642, 'stale': 643, 'looks': 644, 'name': 645, 'grain': 646, 'enjoyed': 647, 'non': 648, 'compared': 649, 'cannot': 650, 'apple': 651, 'loose': 652, 'live': 653, 'packet': 654, 'bottom': 655, 'cooking': 656, 'guess': 657, '20': 658, 'drinks': 659, 'certainly': 660, 'artificial': 661, 'choice': 662, 'online': 663, 'cake': 664, 'recipe': 665, \"haven't\": 666, 'delivery': 667, 'sea': 668, 'caffeine': 669, 'puppy': 670, 'stomach': 671, 'oh': 672, 'start': 673, 'point': 674, 'adding': 675, 'wait': 676, 'already': 677, 'easily': 678, 'hope': 679, 'normally': 680, 'yogurt': 681, 'orange': 682, 'pay': 683, 'ate': 684, 'rest': 685, 'sodium': 686, 'heat': 687, 'during': 688, 'espresso': 689, 'bite': 690, 'type': 691, '7': 692, 'instant': 693, 'issues': 694, 'leave': 695, 'maker': 696, 'vinegar': 697, 'care': 698, 'starbucks': 699, 'run': 700, 'toy': 701, 'past': 702, 'recently': 703, 'date': 704, 'difficult': 705, 'packaged': 706, 'truly': 707, 'brew': 708, 'easier': 709, \"there's\": 710, 'warm': 711, 'change': 712, 'huge': 713, 'baking': 714, 'bottles': 715, 'body': 716, 'wellness': 717, 'inside': 718, 'tell': 719, 'clean': 720, 'picture': 721, 'spice': 722, '30': 723, 'dinner': 724, 'mint': 725, 'vet': 726, 'noodles': 727, 'friend': 728, 'subscribe': 729, 'disappointing': 730, 'packages': 731, 'under': 732, 'pop': 733, 'wife': 734, 'sold': 735, 'needs': 736, 'shipped': 737, 'chewy': 738, 'nut': 739, '99': 740, 'takes': 741, 'twice': 742, 'addition': 743, 'batch': 744, 'jerky': 745, 'okay': 746, 'sensitive': 747, 'lunch': 748, 'knew': 749, 'done': 750, 'bowl': 751, 'fiber': 752, 'roasted': 753, 'within': 754, 'bulk': 755, 'fish': 756, 'crazy': 757, 'normal': 758, 'saw': 759, 'stop': 760, 'anywhere': 761, 'nutritional': 762, 'content': 763, 'christmas': 764, 'decent': 765, 'seller': 766, 'heavy': 767, 'eaten': 768, 'matter': 769, 'purchasing': 770, 'based': 771, 's': 772, 'sweetened': 773, 'opinion': 774, 'count': 775, 'wet': 776, 'selling': 777, 'convenient': 778, 'feeding': 779, 'favorites': 780, 'peanuts': 781, 'air': 782, 'hair': 783, \"we've\": 784, 'door': 785, 'hit': 786, 'strawberry': 787, 'extremely': 788, 'research': 789, '00': 790, 'bits': 791, 'blueberry': 792, 'nutrition': 793, 'creamy': 794, 'baked': 795, 'pod': 796, 'earl': 797, 'substitute': 798, 'doing': 799, 'beat': 800, 'note': 801, 'allergies': 802, 'liquid': 803, 'combination': 804, 'granola': 805, 'craving': 806, 'greenies': 807, 'b': 808, 'scent': 809, 'glass': 810, 'weak': 811, 'keeps': 812, 'stay': 813, 'reviewer': 814, 'anyway': 815, 'china': 816, 'licorice': 817, 'putting': 818, 'later': 819, 'mountain': 820, 'grey': 821, 'uses': 822, 'totally': 823, 'premium': 824, 'eats': 825, 'oats': 826, 'refreshing': 827, 'entire': 828, 'filling': 829, 'switched': 830, 'simple': 831, 'balance': 832, 'someone': 833, 'seasoning': 834, 'kitchen': 835, 'six': 836, 'straight': 837, 'area': 838, 'label': 839, 'issue': 840, 'vitamin': 841, 'maple': 842, 'bones': 843, 'otherwise': 844, 'meals': 845, 'jars': 846, 'whatever': 847, 'average': 848, 'mostly': 849, 'broken': 850, 'mine': 851, 'touch': 852, 'priced': 853, 'completely': 854, 'n': 855, 'freeze': 856, 'microwave': 857, 'means': 858, 'control': 859, 'standard': 860, 'stick': 861, 'kick': 862, 'skin': 863, 'offered': 864, 'style': 865, 'extract': 866, 'upon': 867, 'sit': 868, 'true': 869, '25': 870, 'pure': 871, 'various': 872, 'terrible': 873, 'none': 874, 'chai': 875, 'bland': 876, 'almond': 877, 'notice': 878, 'listed': 879, 'quantity': 880, 'machine': 881, 'customer': 882, 'office': 883, 'candies': 884, 'condition': 885, 'become': 886, 'pizza': 887, 'fairly': 888, 'paper': 889, 'carry': 890, 'hours': 891, 'website': 892, 'yourself': 893, 'flour': 894, 'worst': 895, 'grams': 896, 'slight': 897, 'reading': 898, 'acid': 899, 'stock': 900, \"aren't\": 901, \"we're\": 902, 'lab': 903, 'ready': 904, 'stronger': 905, 'seed': 906, 'cooked': 907, 'beware': 908, 'chews': 909, 'set': 910, 'filled': 911, 'mixing': 912, 'idea': 913, 'turned': 914, 'remember': 915, 'satisfied': 916, 'varieties': 917, 'fair': 918, 'break': 919, 'everyday': 920, 'seemed': 921, 'english': 922, 'early': 923, 'major': 924, 'bring': 925, 'drinker': 926, 'cheap': 927, 'today': 928, 'told': 929, 'gum': 930, 'sized': 931, \"she's\": 932, 'veggies': 933, 'future': 934, 'cents': 935, 'bigger': 936, 'movie': 937, 'turkey': 938, 'called': 939, 'finding': 940, 'items': 941, 'lower': 942, \"newman's\": 943, 'unique': 944, 'felt': 945, 'rate': 946, 'wonder': 947, 'impressed': 948, 'banana': 949, 'throw': 950, 'growing': 951, 'waste': 952, 'stand': 953, 'soon': 954, 'healthier': 955, 'finish': 956, 'near': 957, 'unless': 958, 'biscuits': 959, 'person': 960, 'sell': 961, 'outside': 962, 'blood': 963, 'together': 964, 'plan': 965, 'contain': 966, 'seen': 967, 'thick': 968, 'sealed': 969, 'running': 970, 'via': 971, 'packets': 972, 'opening': 973, 'offer': 974, 'tuna': 975, 'bitterness': 976, 'call': 977, 'supermarket': 978, 'discovered': 979, 'pricey': 980, 'powdered': 981, 'brewing': 982, 'pleasant': 983, 'including': 984, 'worse': 985, 'somewhat': 986, 'pill': 987, 'sale': 988, 'training': 989, 'recipes': 990, 'costco': 991, 'worked': 992, 'option': 993, 'italian': 994, 'refund': 995, 'grew': 996, 'nearly': 997, 'traditional': 998, 'sitting': 999, 'feeling': 1000, 'kinds': 1001, 'mention': 1002, 'consider': 1003, 'convenience': 1004, 'portion': 1005, 'cause': 1006, 'salmon': 1007, 'dr': 1008, 'potatoes': 1009, 'peach': 1010, 'oils': 1011, 'flavoring': 1012, 'alone': 1013, 'types': 1014, 'lb': 1015, 'supposed': 1016, 'changed': 1017, 'poor': 1018, '0': 1019, 'matcha': 1020, 'clear': 1021, \"amazon's\": 1022, 'whether': 1023, 'forward': 1024, 'pounds': 1025, 'check': 1026, 'return': 1027, 'addictive': 1028, 'pumpkin': 1029, 'olive': 1030, 'paste': 1031, 'cook': 1032, 'directions': 1033, 'nasty': 1034, 'tiny': 1035, 'nicely': 1036, 'except': 1037, 'important': 1038, 'shake': 1039, 'satisfying': 1040, 'jalapeno': 1041, 'diamond': 1042, 'bone': 1043, 'sample': 1044, 'minute': 1045, 'excited': 1046, 'clearly': 1047, 'crispy': 1048, 'moist': 1049, 'chance': 1050, 'gallon': 1051, 'ask': 1052, 'picked': 1053, 'higher': 1054, 'hooked': 1055, 'double': 1056, 'hazelnut': 1057, '16': 1058, 'c': 1059, 'usual': 1060, 'front': 1061, 'kettle': 1062, 'horrible': 1063, 'pot': 1064, 'awful': 1065, 'starter': 1066, 'chili': 1067, 'dont': 1068, 'weird': 1069, 'power': 1070, 'grade': 1071, 'lime': 1072, 'avoid': 1073, 'containers': 1074, 'watch': 1075, 'described': 1076, 'tablespoon': 1077, 'job': 1078, 'bodied': 1079, 'soy': 1080, 'unlike': 1081, 'plenty': 1082, 'hold': 1083, 'themselves': 1084, 'piece': 1085, 'positive': 1086, 'actual': 1087, 'pork': 1088, 'digestive': 1089, 'provide': 1090, 'directly': 1091, 'pantry': 1092, 'carbs': 1093, 'addicted': 1094, 'leaf': 1095, 'short': 1096, 'school': 1097, 'advertised': 1098, 'boost': 1099, 'e': 1100, 'immediately': 1101, 'cases': 1102, 'vegetables': 1103, 'hoping': 1104, 'world': 1105, 'salad': 1106, 'pre': 1107, 'effect': 1108, 'helped': 1109, 'crumbs': 1110, 'tin': 1111, 'tend': 1112, 'figured': 1113, 'stevia': 1114, 'afternoon': 1115, 'paid': 1116, 'hate': 1117, 'boy': 1118, 'switch': 1119, 'lemonade': 1120, 'purina': 1121, 'stopped': 1122, 'cider': 1123, 'canidae': 1124, 'personal': 1125, 'business': 1126, 'chestnuts': 1127, 'expiration': 1128, 'shipment': 1129, 'benefits': 1130, 'kid': 1131, 'gross': 1132, 'crisp': 1133, 'spices': 1134, 'effects': 1135, 'elsewhere': 1136, 'diarrhea': 1137, 'vitamins': 1138, 'share': 1139, 'folks': 1140, 'main': 1141, 'individual': 1142, 'grounds': 1143, 'perhaps': 1144, 'adds': 1145, 'complaint': 1146, 'increase': 1147, 'heard': 1148, 'basil': 1149, 'carb': 1150, 'across': 1151, 'tomato': 1152, 'melt': 1153, 'aware': 1154, 'subtle': 1155, 'delight': 1156, 'turn': 1157, 'everywhere': 1158, 'paying': 1159, 'locally': 1160, 'cakes': 1161, 'salsa': 1162, 'scoop': 1163, 'sleep': 1164, 'counter': 1165, 'u': 1166, 'ship': 1167, 'human': 1168, 'late': 1169, 'ways': 1170, 'loaded': 1171, 'gas': 1172, 'sort': 1173, 'usa': 1174, 'supply': 1175, 'bbq': 1176, 'sausage': 1177, 'fridge': 1178, 'drops': 1179, \"he's\": 1180, 'squeeze': 1181, 'gourmet': 1182, 'wild': 1183, 'typical': 1184, 're': 1185, 'tart': 1186, 'pink': 1187, 'prepare': 1188, 'lost': 1189, 'grass': 1190, 'spot': 1191, 'thrilled': 1192, 'finicky': 1193, 'blends': 1194, 'servings': 1195, 'send': 1196, 'mom': 1197, 'winner': 1198, 'tongue': 1199, 'breath': 1200, 'dollars': 1201, 'bed': 1202, 'affordable': 1203, 'sticks': 1204, 'stuck': 1205, 'sick': 1206, 'upset': 1207, 'mistake': 1208, 'overly': 1209, 'properly': 1210, 'tomatoes': 1211, 'mini': 1212, 'pleasantly': 1213, '40': 1214, 'generally': 1215, 'pour': 1216, 'freezer': 1217, 'strange': 1218, 'mentioned': 1219, 'packed': 1220, 'concerned': 1221, 'o': 1222, 'effective': 1223, 'total': 1224, 'fruity': 1225, 'edge': 1226, 'choose': 1227, 'vegetable': 1228, 'kibble': 1229, 'anymore': 1230, 'grains': 1231, 'served': 1232, 'stir': 1233, 'center': 1234, 'kept': 1235, 'cib': 1236, 'originally': 1237, 'method': 1238, 'grind': 1239, 'basis': 1240, 'hour': 1241, 'overpriced': 1242, 'goodness': 1243, 'particularly': 1244, 'compare': 1245, 'thinking': 1246, 'dish': 1247, 'nutty': 1248, 'rock': 1249, 'alot': 1250, 'fun': 1251, 'suggested': 1252, 'mg': 1253, 'sells': 1254, 'thin': 1255, 'process': 1256, 'apparently': 1257, 'zico': 1258, 'lover': 1259, 'serve': 1260, 'mess': 1261, 'mixes': 1262, 'wrapped': 1263, 'costs': 1264, 'likely': 1265, 'seasonings': 1266, 'expecting': 1267, 'cardboard': 1268, 'slowly': 1269, 'bean': 1270, 'subscription': 1271, 'became': 1272, 'improved': 1273, 'basically': 1274, 'science': 1275, 'celiac': 1276, 'lovely': 1277, 'overpowering': 1278, 'number': 1279, 'states': 1280, 'summer': 1281, 'child': 1282, 'chinese': 1283, 'medicine': 1284, 'sodastream': 1285, 'syrups': 1286, 'discount': 1287, 'lived': 1288, 'chocolates': 1289, 'coco': 1290, 'gravy': 1291, 'carrying': 1292, 'shop': 1293, 'win': 1294, 'shelf': 1295, 'pecans': 1296, 'specific': 1297, 'sorry': 1298, 'walmart': 1299, 'brought': 1300, 'system': 1301, 'cleaning': 1302, 'mango': 1303, 'winter': 1304, 'equal': 1305, 'replacement': 1306, 'satisfy': 1307, 'pb': 1308, 'general': 1309, 'delicate': 1310, 'jelly': 1311, 'mean': 1312, 'hoped': 1313, 'miss': 1314, 'enjoying': 1315, 'truffle': 1316, 'diabetic': 1317, 'adjust': 1318, 'prime': 1319, 'risk': 1320, 'shot': 1321, 'rating': 1322, 'sour': 1323, 'nutritious': 1324, 'mid': 1325, 'caramel': 1326, 'party': 1327, 'frozen': 1328, 'prepared': 1329, 'imagine': 1330, 'loss': 1331, 'tough': 1332, 'vegan': 1333, 'dessert': 1334, 'popped': 1335, 'aerogarden': 1336, 'perfectly': 1337, 'above': 1338, 'harder': 1339, 'describe': 1340, 'herbal': 1341, 'worried': 1342, 'solid': 1343, 'fix': 1344, 'worry': 1345, 'buds': 1346, 'berry': 1347, 'surprise': 1348, 'feels': 1349, 'nor': 1350, 'preservatives': 1351, 'stools': 1352, \"you've\": 1353, 'cherry': 1354, 'tree': 1355, 'strawberries': 1356, 'town': 1357, 'filter': 1358, 'jet': 1359, 'root': 1360, 'careful': 1361, 'fabulous': 1362, 'sesame': 1363, 'lighter': 1364, 'whenever': 1365, 'messy': 1366, 'expectations': 1367, 'yellow': 1368, 'common': 1369, 'honestly': 1370, 'flowers': 1371, 'tablespoons': 1372, 'cereals': 1373, 'face': 1374, 'muffins': 1375, 'co': 1376, 'solution': 1377, 'chunks': 1378, 'intense': 1379, 'fit': 1380, 'possible': 1381, 'gotten': 1382, 'restaurant': 1383, 'setting': 1384, 'fruits': 1385, 'prices': 1386, 'reminds': 1387, '80': 1388, 'saying': 1389, 'runs': 1390, 'smelled': 1391, 'sweetener': 1392, 'fill': 1393, 'interesting': 1394, 'neither': 1395, 'van': 1396, 'houtte': 1397, 'table': 1398, 'pops': 1399, 'against': 1400, 'appears': 1401, 'therefore': 1402, 'pressure': 1403, 'pouch': 1404, 'shakes': 1405, 'shows': 1406, 'kashi': 1407, 'site': 1408, 'south': 1409, 'smokehouse': 1410, 'recent': 1411, 'source': 1412, \"weren't\": 1413, 'beautiful': 1414, 'calm': 1415, 'taken': 1416, 'bran': 1417, 'sister': 1418, 'creamer': 1419, 'evening': 1420, 'level': 1421, 'pancakes': 1422, 'separate': 1423, 'chewing': 1424, 'fillers': 1425, 'lose': 1426, 'litter': 1427, 'awhile': 1428, '18': 1429, 'happen': 1430, 'peppermint': 1431, 'guy': 1432, 'dressing': 1433, 'watery': 1434, 'sandwich': 1435, 'american': 1436, 'orijen': 1437, 'starting': 1438, 'sugary': 1439, 'coat': 1440, 'show': 1441, 'cane': 1442, 'lamb': 1443, 'typically': 1444, 'known': 1445, 'babies': 1446, 'brewed': 1447, 'senseo': 1448, 'storage': 1449, 'lbs': 1450, 'tazo': 1451, 'anytime': 1452, 'dip': 1453, 'ounces': 1454, 'cappuccino': 1455, 'jam': 1456, 'twenty': 1457, 'asian': 1458, 'yeast': 1459, 'theater': 1460, 'transmitter': 1461, 'safe': 1462, 'tender': 1463, 'fell': 1464, 'noted': 1465, 'king': 1466, 'searching': 1467, 'burnt': 1468, 'cashews': 1469, 'pros': 1470, 'outstanding': 1471, 'internet': 1472, 'onion': 1473, 'cover': 1474, 'ended': 1475, 'realized': 1476, 'unpleasant': 1477, 'splenda': 1478, 'enjoys': 1479, 'obviously': 1480, 'holds': 1481, 'boiling': 1482, 'carefully': 1483, 'hands': 1484, 'suggest': 1485, \"dog's\": 1486, 'pricing': 1487, 'chemical': 1488, 'third': 1489, 'fancy': 1490, 'lacking': 1491, 'jasmine': 1492, 'ran': 1493, 'mixture': 1494, 'happened': 1495, 'information': 1496, 'middle': 1497, 'surprising': 1498, 'disappointment': 1499, 'mail': 1500, \"earth's\": 1501, 'cool': 1502, 'appreciate': 1503, 'birthday': 1504, 'coming': 1505, 'beyond': 1506, 'form': 1507, 'challenge': 1508, 'icing': 1509, 'thirst': 1510, 'sweeteners': 1511, 'hardly': 1512, 'quinoa': 1513, 'crust': 1514, 'willing': 1515, \"what's\": 1516, 'border': 1517, 'classic': 1518, 'malt': 1519, 'dollar': 1520, 'lipton': 1521, 'sticky': 1522, 'pass': 1523, 'weather': 1524, 'colors': 1525, 'places': 1526, 'supplement': 1527, 'deep': 1528, 'lol': 1529, 'diagnosed': 1530, 'current': 1531, 'checked': 1532, 'receive': 1533, 'allow': 1534, 'older': 1535, 'mocha': 1536, 'liking': 1537, 'travel': 1538, 'grown': 1539, 'finished': 1540, 'room': 1541, 'teaspoon': 1542, 'junk': 1543, 'drawer': 1544, 'figure': 1545, 'lovers': 1546, 'receiving': 1547, 'multiple': 1548, 'disgusting': 1549, 'cal': 1550, \"timothy's\": 1551, 'buffalo': 1552, 'peas': 1553, 'systems': 1554, 'popchips': 1555, 'state': 1556, 'flax': 1557, 'firm': 1558, 'update': 1559, 'becomes': 1560, 'behind': 1561, 'grinding': 1562, 'berries': 1563, 'realize': 1564, 'tahini': 1565, 'guilt': 1566, 'attention': 1567, 'personally': 1568, 'japan': 1569, 'wine': 1570, 'snacking': 1571, 'fuel': 1572, 'working': 1573, 'lid': 1574, 'ramen': 1575, 'grape': 1576, 'kona': 1577, 'mug': 1578, 'thier': 1579, 'according': 1580, 'liver': 1581, 'hear': 1582, \"tully's\": 1583, 'fully': 1584, 'fragrance': 1585, 'considered': 1586, 'cons': 1587, 'apart': 1588, 'test': 1589, 'play': 1590, 'fresher': 1591, 'requires': 1592, 'wanting': 1593, 'boil': 1594, 'inch': 1595, 'seriously': 1596, 'purse': 1597, 'sad': 1598, 'blended': 1599, 'contacted': 1600, 'eventually': 1601, 'packing': 1602, 'info': 1603, 'rip': 1604, 'melted': 1605, 'crack': 1606, 'reasonable': 1607, 'noticeable': 1608, 'cute': 1609, 'greasy': 1610, 'program': 1611, 'children': 1612, 'asked': 1613, 'match': 1614, 'smoothies': 1615, 'cancer': 1616, 'bother': 1617, 'guests': 1618, 'trade': 1619, 'arrive': 1620, 'nutrients': 1621, 'cheddar': 1622, 'allergy': 1623, 'fans': 1624, 'lightly': 1625, 'bake': 1626, 'contents': 1627, 'harvest': 1628, 'mints': 1629, 'impossible': 1630, 'soups': 1631, 'occasional': 1632, 'yeah': 1633, 'magnesium': 1634, 'search': 1635, 'holiday': 1636, 'flakes': 1637, 'reach': 1638, 'trips': 1639, 'harsh': 1640, 'closest': 1641, 'mother': 1642, 'grow': 1643, 'threw': 1644, 'cuisine': 1645, 'road': 1646, 'understand': 1647, 'effort': 1648, 'amounts': 1649, 'dates': 1650, 'floor': 1651, 'serious': 1652, 'soothing': 1653, 'eaters': 1654, 'enjoyable': 1655, 'empty': 1656, '13': 1657, 'regularly': 1658, 'ranch': 1659, 'beneficial': 1660, 'agave': 1661, 'pets': 1662, 'pain': 1663, 'concentrate': 1664, 'pineapple': 1665, 'bunch': 1666, 'toast': 1667, 'vita': 1668, 'homemade': 1669, 'reasonably': 1670, 'duck': 1671, 'bacon': 1672, 'zero': 1673, 'trip': 1674, 'chopped': 1675, 'biggest': 1676, 'sardines': 1677, 'authentic': 1678, 'keeping': 1679, 'click': 1680, 'vs': 1681, 'previously': 1682, 'odd': 1683, 'smart': 1684, 'dented': 1685, 'pulp': 1686, 'skeptical': 1687, 'olives': 1688, 'german': 1689, 'individually': 1690, 'tins': 1691, 'marinade': 1692, '75': 1693, 'car': 1694, 'rose': 1695, 'edible': 1696, 'roasts': 1697, 'beverages': 1698, 'beverage': 1699, 'lake': 1700, 'nutella': 1701, 'pg': 1702, 'tips': 1703, 'rancid': 1704, \"'em\": 1705, 'began': 1706, 'greens': 1707, 'basket': 1708, 'man': 1709, 'tooth': 1710, 'cracker': 1711, 'sandwiches': 1712, 'sturdy': 1713, 'balls': 1714, 'walnuts': 1715, 'words': 1716, 'grinder': 1717, 'aid': 1718, 'train': 1719, 'buckwheat': 1720, 'turns': 1721, 'rolled': 1722, 'switching': 1723, 'word': 1724, 'reorder': 1725, 'juices': 1726, 'seal': 1727, \"let's\": 1728, 'missed': 1729, 'mark': 1730, 'topping': 1731, '32': 1732, 'incredibly': 1733, 'sweeter': 1734, 'brewer': 1735, 'snap': 1736, 'lollipops': 1737, 'odor': 1738, '200': 1739, 'tends': 1740, 'remove': 1741, 'answer': 1742, 'steep': 1743, 'luck': 1744, 'spend': 1745, 'girl': 1746, 'included': 1747, 'dairy': 1748, 'warning': 1749, 'limit': 1750, 'indian': 1751, 'acidic': 1752, 'follow': 1753, 'result': 1754, 'versions': 1755, 'mood': 1756, 'ratio': 1757, 'post': 1758, 'disease': 1759, 'alternatives': 1760, 'awake': 1761, 'replaced': 1762, 'spent': 1763, 'learned': 1764, 'wholesome': 1765, 'toward': 1766, 'terribly': 1767, 'interest': 1768, 'processed': 1769, 'drank': 1770, 'twist': 1771, 'learn': 1772, 'bucks': 1773, 'coloring': 1774, 'childhood': 1775, 'shared': 1776, 'petite': 1777, 'tangy': 1778, 'doubt': 1779, 'peppers': 1780, 'claim': 1781, 'throwing': 1782, 'broth': 1783, 'funny': 1784, 'potassium': 1785, 'returned': 1786, 'beer': 1787, 'cola': 1788, 'exception': 1789, 'garbage': 1790, 'drip': 1791, 'yorkie': 1792, 'agree': 1793, 'tight': 1794, 'notes': 1795, '60': 1796, 'colored': 1797, 'instructions': 1798, 'tired': 1799, 'purpose': 1800, 'offering': 1801, 'suspect': 1802, 'msg': 1803, 'wise': 1804, 'freshness': 1805, '45': 1806, 'salts': 1807, 'germany': 1808, 'charge': 1809, 'space': 1810, 'kitty': 1811, 'waiting': 1812, 'magic': 1813, 'claims': 1814, 'false': 1815, 'honest': 1816, 'superior': 1817, 'twists': 1818, 'stocked': 1819, 'salads': 1820, 'hunger': 1821, 'pretzels': 1822, 'helpful': 1823, 'chunky': 1824, 'pocket': 1825, 'delivers': 1826, 'sweetner': 1827, 'pinch': 1828, 'additional': 1829, 'performance': 1830, 'buyer': 1831, 'bright': 1832, 'eater': 1833, 'cubes': 1834, 'mainly': 1835, 'puffs': 1836, 'whey': 1837, 'oat': 1838, 'grilled': 1839, 'swallow': 1840, 'dozen': 1841, 'chose': 1842, 'heart': 1843, 'spinach': 1844, 'terrific': 1845, 'disappoint': 1846, 'markets': 1847, 'bakery': 1848, 'covered': 1849, 't': 1850, 'tarts': 1851, 'improvement': 1852, 'granted': 1853, 'profits': 1854, 'ball': 1855, 'miso': 1856, 'japanese': 1857, 'base': 1858, 'missing': 1859, 'boring': 1860, 'complaints': 1861, 'speak': 1862, \"one's\": 1863, 'eight': 1864, 'sunflower': 1865, 'birds': 1866, 'dishes': 1867, 'heavenly': 1868, '95': 1869, 'vendor': 1870, 'timely': 1871, 'gifts': 1872, 'distinct': 1873, 'gummy': 1874, 'limited': 1875, 'jug': 1876, 'quart': 1877, 'bottled': 1878, '36': 1879, 'specifically': 1880, 'dissolve': 1881, \"annie's\": 1882, 'self': 1883, 'sugars': 1884, 'spoiled': 1885, 'causes': 1886, 'mornings': 1887, 'barely': 1888, '3rd': 1889, 'addicting': 1890, 'visit': 1891, 'latte': 1892, 'among': 1893, 'damaged': 1894, 'dirt': 1895, 'kcups': 1896, 'tolerate': 1897, 'selection': 1898, 'sampler': 1899, 'currently': 1900, 'gym': 1901, 'mexican': 1902, 'twinings': 1903, 'ears': 1904, 'ton': 1905, 'owners': 1906, 'talking': 1907, 'thirsty': 1908, 'carbonated': 1909, 'trouble': 1910, 'allergic': 1911, 'pan': 1912, 'beautifully': 1913, 'surprisingly': 1914, 'admit': 1915, 'downside': 1916, 'earth': 1917, 'saver': 1918, 'produced': 1919, 'guys': 1920, 'includes': 1921, 'eggs': 1922, 'assam': 1923, 'strength': 1924, 'kit': 1925, 'plants': 1926, 'target': 1927, 'law': 1928, 'mill': 1929, 'tartar': 1930, 'stated': 1931, 'lasts': 1932, 'writing': 1933, 'gums': 1934, 'miracle': 1935, 'comments': 1936, \"here's\": 1937, 'cafe': 1938, 'international': 1939, 'lately': 1940, 'pleasure': 1941, 'promptly': 1942, 'terrier': 1943, 'kidding': 1944, 'google': 1945, 'fed': 1946, 'initially': 1947, 'shelves': 1948, 'pouches': 1949, 'handy': 1950, 'fault': 1951, 'changes': 1952, 'adults': 1953, 'rush': 1954, 'ideal': 1955, '11': 1956, 'valley': 1957, 'carried': 1958, 'pie': 1959, 'sweetners': 1960, 'sharp': 1961, 'basic': 1962, 'ours': 1963, 'fussy': 1964, 'garden': 1965, 'kraft': 1966, 'bites': 1967, 'crumbly': 1968, 'comparison': 1969, 'tsp': 1970, 'sellers': 1971, 'cranberry': 1972, 'fried': 1973, 'prompt': 1974, 'forget': 1975, 'mold': 1976, 'greenie': 1977, 'benefit': 1978, 'ends': 1979, 'freshly': 1980, 'fructose': 1981, 'molasses': 1982, 'hole': 1983, 'shape': 1984, 'ups': 1985, 'stool': 1986, 'appetite': 1987, \"we'd\": 1988, 'pull': 1989, 'complete': 1990, 'analysis': 1991, 'brewers': 1992, 'seconds': 1993, 'handle': 1994, 'measure': 1995, 'write': 1996, 'stinky': 1997, 'wants': 1998, 'heaven': 1999, 'xylitol': 2000, 'incredible': 2001, 'absolute': 2002, 'liter': 2003, 'drinkers': 2004, 'orders': 2005, 'hempseeds': 2006, \"shouldn't\": 2007, 'flat': 2008, 'frequently': 2009, 'hemp': 2010, 'move': 2011, 'onto': 2012, 'rinds': 2013, 'choices': 2014, 'kobe': 2015, 'email': 2016, 'walk': 2017, 'gotta': 2018, 'palate': 2019, 'staple': 2020, 'key': 2021, 'yuck': 2022, 'toss': 2023, 'slow': 2024, 'relatively': 2025, 'apples': 2026, 'finger': 2027, 'sucralose': 2028, 'additives': 2029, 'kool': 2030, 'moved': 2031, 'temperature': 2032, 'leaving': 2033, 'necessary': 2034, 'aromatic': 2035, 'load': 2036, 'biscuit': 2037, 'collar': 2038, 'steak': 2039, 'adult': 2040, 'peppercorns': 2041, 'lock': 2042, 'cheesecake': 2043, 'race': 2044, 'eboost': 2045, 'rockstar': 2046, 'kitten': 2047, 'gnats': 2048, 'constantly': 2049, 'economical': 2050, 'crushed': 2051, 'reviewers': 2052, 'aside': 2053, 'peace': 2054, 'royal': 2055, 'ten': 2056, 'pleasing': 2057, 'bargain': 2058, 'gevalia': 2059, 'definite': 2060, 'earthy': 2061, 'cashew': 2062, 'begin': 2063, 'preferred': 2064, 'pockets': 2065, 'smoked': 2066, 'collection': 2067, 'overwhelming': 2068, 'inexpensive': 2069, 'breads': 2070, 'steel': 2071, 'mushy': 2072, 'closer': 2073, 'letting': 2074, 'pregnant': 2075, 'stocking': 2076, 'member': 2077, 'placed': 2078, 'digest': 2079, 'shots': 2080, 'feast': 2081, 'purposes': 2082, 'sticking': 2083, 'poured': 2084, 'defective': 2085, 'refused': 2086, 'shame': 2087, 'previous': 2088, 'symptoms': 2089, 'needless': 2090, 'bowls': 2091, 'counts': 2092, 'certain': 2093, 'hungry': 2094, 'flavour': 2095, 'moment': 2096, 'sweets': 2097, 'acidity': 2098, 'lasting': 2099, 'warehouse': 2100, 'gummi': 2101, 'dense': 2102, 'wash': 2103, 'knowing': 2104, 'correct': 2105, 'familiar': 2106, 'calcium': 2107, 'complex': 2108, 'irish': 2109, 'curry': 2110, 'book': 2111, 'garlic': 2112, 'holidays': 2113, 'allowed': 2114, 'round': 2115, 'metal': 2116, 'mashed': 2117, 'trick': 2118, 'master': 2119, 'primarily': 2120, 'caffe': 2121, '19': 2122, 'buzz': 2123, 'habit': 2124, 'sauces': 2125, 'attempt': 2126, 'toys': 2127, 'busy': 2128, 'rum': 2129, 'y': 2130, 'fire': 2131, 'herbs': 2132, 'example': 2133, 'happier': 2134, 'consume': 2135, 'america': 2136, 'factor': 2137, 'section': 2138, \"she'll\": 2139, 'appear': 2140, 'sooner': 2141, 'pills': 2142, 'neighborhood': 2143, 'toxic': 2144, 'coffe': 2145, 'meats': 2146, 'pup': 2147, 'grab': 2148, '35': 2149, 'iron': 2150, 'complain': 2151, 'thus': 2152, 'prior': 2153, 'charged': 2154, 'pups': 2155, 'automatic': 2156, 'beloved': 2157, 'pouring': 2158, 'sweeten': 2159, 'halloween': 2160, '26': 2161, 'vary': 2162, 'watermelon': 2163, 'practice': 2164, 'monthly': 2165, 'samples': 2166, 'active': 2167, 'versus': 2168, 'lack': 2169, 'bonus': 2170, 'dump': 2171, 'runny': 2172, 'gray': 2173, 'met': 2174, 'occasionally': 2175, 'throat': 2176, 'consumer': 2177, 'buys': 2178, 'marvelous': 2179, 'lean': 2180, 'depending': 2181, 'closed': 2182, 'concept': 2183, 'spoonful': 2184, 'scratching': 2185, 'hills': 2186, 'diets': 2187, 'intolerant': 2188, 'tasteless': 2189, 'sampled': 2190, 'pete': 2191, 'omg': 2192, 'sat': 2193, 'maintain': 2194, 'spread': 2195, 'following': 2196, 'delightful': 2197, 'pate': 2198, 'cleanse': 2199, 'omega': 2200, 'mart': 2201, 'spoon': 2202, 'palatable': 2203, 'resealable': 2204, 'sizes': 2205, 'quantities': 2206, 'poop': 2207, 'wolfgang': 2208, 'puck': 2209, 'folgers': 2210, 'bully': 2211, 'period': 2212, 'tbs': 2213, 'kinda': 2214, 'knock': 2215, 'press': 2216, 'wont': 2217, 'british': 2218, 'provided': 2219, \"he'd\": 2220, 'policy': 2221, 'cytomax': 2222, 'useful': 2223, 'cupcakes': 2224, 'finely': 2225, 'als': 2226, 'hide': 2227, 'floral': 2228, 'refined': 2229, 'despite': 2230, 'popular': 2231, 'saved': 2232, 'essence': 2233, 'gooey': 2234, 'degrees': 2235, 'rid': 2236, 'city': 2237, 'present': 2238, 'chronic': 2239, 'soil': 2240, 'hummus': 2241, 'alcohol': 2242, 'initial': 2243, 'club': 2244, 'accidentally': 2245, 'doctor': 2246, 'appealing': 2247, 'caribou': 2248, 'thats': 2249, 'chilled': 2250, 'saturated': 2251, 'cholesterol': 2252, 'himalayan': 2253, 'sources': 2254, 'stating': 2255, 'knows': 2256, 'handling': 2257, 'trader': 2258, 'considering': 2259, 'followed': 2260, 'below': 2261, 'shampoo': 2262, 'planters': 2263, 'tells': 2264, 'manna': 2265, 'hated': 2266, 'steeped': 2267, 'shiny': 2268, 'cabinet': 2269, 'ya': 2270, 'guilty': 2271, 'desk': 2272, 'cranberries': 2273, 'hydrogenated': 2274, 'tummy': 2275, 'promise': 2276, 'sending': 2277, 'wakes': 2278, 'yuk': 2279, 'teriyaki': 2280, 'reaction': 2281, 'replace': 2282, 'dose': 2283, 'gloria': 2284, 'naturally': 2285, 'flower': 2286, 'spring': 2287, 'hulls': 2288, 'indeed': 2289, 'require': 2290, 'rated': 2291, 'cheesy': 2292, 'p': 2293, 'dirty': 2294, 'yogourmet': 2295, 'carrots': 2296, 'inferior': 2297, 'manage': 2298, 'm': 2299, 'developed': 2300, 'gold': 2301, 'meaty': 2302, 'gained': 2303, 'ordinary': 2304, 'punch': 2305, 'puppies': 2306, 'nature': 2307, 'tub': 2308, 'amazed': 2309, 'oldest': 2310, 'quarts': 2311, 'corgi': 2312, 'allows': 2313, 'pump': 2314, 'cracked': 2315, 'kibbles': 2316, 'cesar': 2317, 'lotus': 2318, 'kong': 2319, 'advance': 2320, 'brings': 2321, 'raisins': 2322, 'chef': 2323, 'prince': 2324, 'appreciated': 2325, 'joy': 2326, 'ginseng': 2327, 'whim': 2328, '23': 2329, 'scottish': 2330, 'sprinkle': 2331, 'cant': 2332, 'emerald': 2333, 'trust': 2334, 'acceptable': 2335, 'land': 2336, 'portions': 2337, 'oven': 2338, 'curious': 2339, 'sudden': 2340, 'mush': 2341, 'mushrooms': 2342, 'inedible': 2343, 'stove': 2344, 'combine': 2345, 'desired': 2346, 'wonderfully': 2347, 'consumers': 2348, 'died': 2349, 'potential': 2350, 'choking': 2351, 'slices': 2352, 'thicker': 2353, 'burns': 2354, 'em': 2355, 'crystal': 2356, '48': 2357, 'airtight': 2358, 'coffeemaker': 2359, 'manufactured': 2360, 'dad': 2361, 'introduced': 2362, 'combined': 2363, 'exceptional': 2364, 'organics': 2365, 'range': 2366, 'prefers': 2367, 'fingers': 2368, 'young': 2369, 'goods': 2370, 'held': 2371, 'misleading': 2372, 'haribo': 2373, 'applied': 2374, 'spanish': 2375, 'smoke': 2376, 'shih': 2377, 'immune': 2378, 'holy': 2379, 'herb': 2380, 'approved': 2381, 'split': 2382, 'taco': 2383, 'robust': 2384, 'fav': 2385, 'stella': 2386, 'animal': 2387, 'options': 2388, 'remind': 2389, 'grateful': 2390, 'carbonation': 2391, 'mins': 2392, 'fills': 2393, 'obvious': 2394, 'eyes': 2395, 'head': 2396, 'kernels': 2397, 'blame': 2398, 'thru': 2399, 'meh': 2400, 'malty': 2401, 'named': 2402, 'waters': 2403, 'suggestion': 2404, 'kits': 2405, 'besides': 2406, 'marzipan': 2407, 'teabag': 2408, 'teabags': 2409, 'sounded': 2410, 'supplements': 2411, 'minerals': 2412, 'increased': 2413, 'extreme': 2414, 'suppose': 2415, 'agreed': 2416, 'panko': 2417, 'comment': 2418, 'stuffer': 2419, 'makers': 2420, 'donuts': 2421, 'consideration': 2422, 'playing': 2423, 'animals': 2424, 'lasted': 2425, 'breast': 2426, 'success': 2427, 'happily': 2428, 'mrs': 2429, 'shopping': 2430, 'equally': 2431, 'wherever': 2432, 'bubble': 2433, 'belly': 2434, 'gonna': 2435, 'nose': 2436, 'squeezed': 2437, 'bath': 2438, 'strongly': 2439, 'girls': 2440, 'appearance': 2441, 'starch': 2442, 'sounds': 2443, 'dingo': 2444, 'spending': 2445, 'deliver': 2446, 'design': 2447, 'spout': 2448, 'causing': 2449, 'purple': 2450, 'softer': 2451, 'lives': 2452, 'meets': 2453, 'thankfully': 2454, 'cheerios': 2455, 'advertising': 2456, 'sense': 2457, 'tidy': 2458, 'exposed': 2459, 'treated': 2460, 'practically': 2461, 'splash': 2462, 'aspartame': 2463, \"emeril's\": 2464, 'emerils': 2465, 'represent': 2466, 'gain': 2467, 'gusto': 2468, 'ale': 2469, 'highest': 2470, 'healthiest': 2471, 'veggie': 2472, 'notch': 2473, 'intake': 2474, 'intact': 2475, '49': 2476, 'lattes': 2477, 'loaf': 2478, 'question': 2479, 'beefeaters': 2480, 'vegetarian': 2481, 'ravioli': 2482, 'ziplock': 2483, 'favor': 2484, 'bet': 2485, 'colombian': 2486, '4th': 2487, 'further': 2488, 'dust': 2489, 'wide': 2490, 'volume': 2491, 'thumbs': 2492, 'gobbles': 2493, 'father': 2494, 'drying': 2495, 'receipt': 2496, 'fraction': 2497, 'cloying': 2498, 'desserts': 2499, \"hasn't\": 2500, 'tbsp': 2501, 'dangerous': 2502, 'reported': 2503, 'experienced': 2504, 'concern': 2505, 'suit': 2506, 'cupboard': 2507, 'yuban': 2508, 'italy': 2509, 'levels': 2510, 'darker': 2511, 'finest': 2512, 'handful': 2513, 'california': 2514, 'rolls': 2515, 'mixer': 2516, 'samu': 2517, 'convinced': 2518, 'traveling': 2519, 'sports': 2520, 'leaked': 2521, 'coating': 2522, 'workers': 2523, 'required': 2524, 'liquor': 2525, 'yr': 2526, 'spiced': 2527, 'sip': 2528, 'trans': 2529, 'descriptions': 2530, 'nutiva': 2531, 'buyers': 2532, 'story': 2533, 'buttermilk': 2534, 'household': 2535, 'literally': 2536, 'companies': 2537, 'gently': 2538, 'drive': 2539, 'raved': 2540, 'optional': 2541, 'produce': 2542, 'farms': 2543, 'blender': 2544, 'applesauce': 2545, 'hunt': 2546, 'definately': 2547, 'formulas': 2548, 'cuts': 2549, 'dislike': 2550, 'hassle': 2551, 'explain': 2552, 'jack': 2553, 'ticks': 2554, 'designed': 2555, '72': 2556, 'fashioned': 2557, 'title': 2558, 'hawaii': 2559, 'grainy': 2560, 'starts': 2561, 'decide': 2562, 'tops': 2563, 'earlier': 2564, 'dehydrated': 2565, 'brownie': 2566, 'approach': 2567, 'ive': 2568, 'caused': 2569, '14': 2570, 'game': 2571, 'supermarkets': 2572, 'reasons': 2573, 'outer': 2574, 'contained': 2575, 'whipped': 2576, 'plum': 2577, 'cube': 2578, 'comfort': 2579, 'cheapest': 2580, 'cent': 2581, 'donut': 2582, 'sen': 2583, 'bill': 2584, 'hawaiian': 2585, 'oranges': 2586, 'toddler': 2587, 'biscotti': 2588, 'shocked': 2589, 'fence': 2590, 'street': 2591, 'spray': 2592, 'contact': 2593, 'wrap': 2594, 'delighted': 2595, '2nd': 2596, 'hearty': 2597, 'gumballs': 2598, 'sumatran': 2599, 'artifical': 2600, 'frosting': 2601, 'weighs': 2602, 'waffles': 2603, 'nursing': 2604, \"bob's\": 2605, 'tubes': 2606, 'fats': 2607, 'grandkids': 2608, 'scale': 2609, 'noodle': 2610, 'medicinal': 2611, 'tad': 2612, 'monkey': 2613, 'bonsai': 2614, 'tip': 2615, 'auto': 2616, 'pancake': 2617, 'tofu': 2618, 'marley': 2619, 'sign': 2620, 'lavazza': 2621, 'miles': 2622, 'munch': 2623, 'budget': 2624, 'zip': 2625, 'competitive': 2626, 'caught': 2627, 'seaweed': 2628, 'onions': 2629, 'refrigerator': 2630, 'pacifiers': 2631, 'wafer': 2632, 'schnauzer': 2633, 'pretzel': 2634, 'intended': 2635, 'gigi': 2636, 'preparing': 2637, 'hong': 2638, 'slides': 2639, '2013': 2640, 'unusual': 2641, 'carries': 2642, 'reviewing': 2643, 'lift': 2644, 'smile': 2645, 'paws': 2646, 'pointed': 2647, \"dogs'\": 2648, 'decades': 2649, 'breeds': 2650, 'commercial': 2651, 'meaning': 2652, 'pea': 2653, 'throughout': 2654, 'buttery': 2655, 'shoppe': 2656, 'silky': 2657, 'stands': 2658, 'satisfies': 2659, 'graham': 2660, 'substantial': 2661, 'gel': 2662, 'hates': 2663, 'faint': 2664, 'alas': 2665, 'intend': 2666, 'transition': 2667, 'mushroom': 2668, 'filler': 2669, 'sliced': 2670, 'sprouting': 2671, 'sprout': 2672, 'determined': 2673, 'delightfully': 2674, 'egg': 2675, 'hits': 2676, 'nowhere': 2677, 'expense': 2678, 'loving': 2679, 'massive': 2680, 'thinner': 2681, 'bomb': 2682, 'hey': 2683, 'savings': 2684, 'france': 2685, 'finer': 2686, 'jolly': 2687, 'july': 2688, '2011': 2689, 'coupon': 2690, 'inspected': 2691, 'cerelac': 2692, 'hi': 2693, 'wrote': 2694, 'select': 2695, 'smoother': 2696, 'semi': 2697, 'boxed': 2698, 'numerous': 2699, 'ad': 2700, 'roll': 2701, 'bears': 2702, 'washing': 2703, 'residue': 2704, 'kcup': 2705, 'asking': 2706, 'distinctive': 2707, 'regarding': 2708, 'stress': 2709, 'negative': 2710, 'lucky': 2711, 'dead': 2712, 'g': 2713, 'unavailable': 2714, 'ostrim': 2715, 'leading': 2716, 'patties': 2717, 'koolaid': 2718, 'sparkling': 2719, 'production': 2720, \"you'd\": 2721, 'barley': 2722, 'corner': 2723, 'nj': 2724, 'advice': 2725, 'shaking': 2726, 'oily': 2727, 'overcooked': 2728, 'insert': 2729, 'friendly': 2730, 'dedicated': 2731, 'darn': 2732, 'minimal': 2733, 'manner': 2734, 'traditionally': 2735, 'sausages': 2736, 'ideally': 2737, 'photo': 2738, 'forced': 2739, 'access': 2740, 'antlers': 2741, '22': 2742, 'stew': 2743, 'melitta': 2744, 'fits': 2745, 'parent': 2746, 'quarter': 2747, 'mills': 2748, 'powerful': 2749, 'failed': 2750, 'pals': 2751, 'solved': 2752, 'consistant': 2753, 'caribbean': 2754, 'vine': 2755, 'roasting': 2756, 'falls': 2757, 'gun': 2758, 'pudding': 2759, 'ill': 2760, 'minor': 2761, 'message': 2762, 'crash': 2763, 'august': 2764, 'mate': 2765, 'golden': 2766, 'sadly': 2767, 'england': 2768, 'seltzer': 2769, 'stirred': 2770, 'salami': 2771, 'broccoli': 2772, 'coke': 2773, 'slamming': 2774, 'annoying': 2775, 'crave': 2776, 'wafers': 2777, 'planning': 2778, 'readily': 2779, 'meant': 2780, 'camping': 2781, 'consumption': 2782, 'grove': 2783, 'square': 2784, 'shipments': 2785, 'watching': 2786, 'signed': 2787, 'burst': 2788, 'suddenly': 2789, \"they've\": 2790, 'partially': 2791, 'containing': 2792, 'x': 2793, 'assorted': 2794, 'include': 2795, 'catch': 2796, 'leg': 2797, 'zinger': 2798, 'facts': 2799, 'lifestyle': 2800, 'oreo': 2801, 'featured': 2802, 'heating': 2803, 'brain': 2804, 'support': 2805, 'beg': 2806, 'pig': 2807, 'seeing': 2808, 'venison': 2809, 'hidden': 2810, 'versatile': 2811, 'trash': 2812, 'dunkin': 2813, 'shaker': 2814, 'f': 2815, 'burning': 2816, 'failure': 2817, 'remaining': 2818, 'proper': 2819, 'z': 2820, 'create': 2821, 'hence': 2822, 'assuming': 2823, 'teething': 2824, 'appropriate': 2825, 'durable': 2826, 'conveniently': 2827, 'flimsy': 2828, 'country': 2829, 'plays': 2830, 'act': 2831, 'crumbled': 2832, 'toaster': 2833, 'rescue': 2834, 'push': 2835, 'walked': 2836, 'waking': 2837, 'slim': 2838, '96': 2839, 'java': 2840, 'chemicals': 2841, 'amazons': 2842, 'suppliers': 2843, 'direct': 2844, 'lacks': 2845, 'diabetes': 2846, 'cooler': 2847, 'weruva': 2848, 'standards': 2849, 'praise': 2850, 'experiment': 2851, 'citrus': 2852, 'relaxing': 2853, 'lavender': 2854, 'breeder': 2855, 'eacute': 2856, 'warmed': 2857, 'northern': 2858, 'regardless': 2859, 'mildly': 2860, 'sooo': 2861, 'detox': 2862, 'emergency': 2863, 'bagels': 2864, 'lite': 2865, 'core': 2866, 'iams': 2867, 'discounted': 2868, 'loyal': 2869, 'reserve': 2870, 'decaffeinated': 2871, 'astringent': 2872, 'fooled': 2873, 'claiming': 2874, 'stupid': 2875, 'identical': 2876, 'rave': 2877, 'collie': 2878, 'marinara': 2879, 'pasty': 2880, 'donate': 2881, 'melts': 2882, 'severe': 2883, 'ring': 2884, 'dogswell': 2885, 'la': 2886, \"sam's\": 2887, 'ages': 2888, 'blueberries': 2889, 'college': 2890, 'pb2': 2891, 'coats': 2892, 'posted': 2893, 'eye': 2894, 'manufacturer': 2895, 'interested': 2896, 'doggie': 2897, 'bergamot': 2898, 'multi': 2899, 'burned': 2900, 'shade': 2901, 'strikes': 2902, 'narrow': 2903, 'carton': 2904, 'sucks': 2905, 'decadent': 2906, 'layer': 2907, 'foil': 2908, 'inconvenience': 2909, 'boston': 2910, 'pesticides': 2911, 'speed': 2912, 'ekobrew': 2913, 'pickle': 2914, 'sprinkled': 2915, 'vodka': 2916, 'manages': 2917, 'ass': 2918, 'yogi': 2919, 'stink': 2920, 'tissue': 2921, '120': 2922, 'floating': 2923, 'pom': 2924, 'rasberry': 2925, 'age': 2926, 'penny': 2927, 'neat': 2928, 'reads': 2929, 'carbohydrates': 2930, 'significant': 2931, 'comparing': 2932, 'exact': 2933, 'news': 2934, 'truth': 2935, 'discover': 2936, 'jello': 2937, 'fall': 2938, 'shells': 2939, 'telling': 2940, 'mmmmm': 2941, 'dough': 2942, 'afford': 2943, 'sides': 2944, 'smoothie': 2945, 'guaranteed': 2946, 'aging': 2947, 'fortunately': 2948, 'yard': 2949, 'tall': 2950, 'refrigerated': 2951, 'portable': 2952, 'rub': 2953, 'conditioner': 2954, 'batches': 2955, 'min': 2956, 'voila': 2957, 'blow': 2958, 'breed': 2959, 'consumed': 2960, 'dinners': 2961, 'greatest': 2962, 'clothes': 2963, 'term': 2964, 'station': 2965, 'saving': 2966, 'associated': 2967, 'provides': 2968, 'aluminum': 2969, 'assume': 2970, 'parents': 2971, 'heck': 2972, 'dropping': 2973, 'chipotle': 2974, '180': 2975, 'tested': 2976, 'tho': 2977, 'clusters': 2978, 'mighty': 2979, 'quaker': 2980, 'enormous': 2981, 'unrefined': 2982, 'instantly': 2983, 'lu': 2984, 'offerings': 2985, 'bull': 2986, 'force': 2987, 'somehow': 2988, 'sigh': 2989, 'jalepeno': 2990, 'september': 2991, 'drop': 2992, 'class': 2993, 'antibiotics': 2994, 'powdery': 2995, 'unit': 2996, 'crude': 2997, 'moisture': 2998, 'nausea': 2999, 'torani': 3000, 'advertise': 3001, 'hopefully': 3002, \"it'll\": 3003, 'overboard': 3004, \"jean's\": 3005, 'toffee': 3006, 'bouquet': 3007, 'ez': 3008, 'meet': 3009, 'cylinder': 3010, 'canister': 3011, 'angry': 3012, 'tolerable': 3013, 'page': 3014, 'dropped': 3015, 'laxative': 3016, 'squares': 3017, 'indicated': 3018, 'hamburger': 3019, 'postage': 3020, 'memorable': 3021, 'damage': 3022, 'shelter': 3023, 'betty': 3024, 'sun': 3025, \"pamela's\": 3026, 'thins': 3027, 'sugarfree': 3028, 'camper': 3029, 'bladder': 3030, 'generous': 3031, 'shock': 3032, 'happens': 3033, 'stays': 3034, 'san': 3035, 'propylene': 3036, 'glycol': 3037, 'weaker': 3038, 'kittens': 3039, 'nectar': 3040, 'ahead': 3041, 'snow': 3042, 'rocks': 3043, 'plate': 3044, 'silk': 3045, 'suck': 3046, 'flea': 3047, 'walks': 3048, 'mortar': 3049, 'location': 3050, 'watered': 3051, 'heavily': 3052, 'bank': 3053, 'canine': 3054, 'sips': 3055, 'falling': 3056, 'ham': 3057, 'balsamic': 3058, 'sourced': 3059, 'devoured': 3060, 'reseal': 3061, 'beginning': 3062, 'sheltie': 3063, 'citric': 3064, \"zuke's\": 3065, 'naturals': 3066, 'seitan': 3067, 'mio': 3068, 'badly': 3069, 'wake': 3070, 'moments': 3071, 'proteins': 3072, 'tortilla': 3073, 'workout': 3074, 'mac': 3075, 'bpa': 3076, 'greatly': 3077, 'expert': 3078, \"mccann's\": 3079, 'nonetheless': 3080, 'electrolytes': 3081, 'coombs': 3082, 'hurt': 3083, 'river': 3084, 'hershey': 3085, 'whoppers': 3086, 'precooked': 3087, 'dunking': 3088, 'labels': 3089, 'reflect': 3090, 'challenging': 3091, 'cherries': 3092, 'showed': 3093, 'colic': 3094, 'humans': 3095, 'lundberg': 3096, 'acai': 3097, 'ridiculous': 3098, 'drinkable': 3099, 'adopted': 3100, 'tb': 3101, 'legs': 3102, 'chemically': 3103, 'qualities': 3104, 'unable': 3105, 'buck': 3106, 'peets': 3107, 'antler': 3108, 'caff': 3109, 'tube': 3110, 'whatsoever': 3111, 'gizmo': 3112, 'purebites': 3113, 'secret': 3114, 'combinations': 3115, 'straw': 3116, 'pear': 3117, 'canisters': 3118, 'grill': 3119, 'duke': 3120, 'brownies': 3121, 'bob': 3122, 'tannins': 3123, 'brookstone': 3124, 'decaff': 3125, 'smelling': 3126, 'resulted': 3127, 'affect': 3128, 'vegie': 3129, 'burger': 3130, 'surgery': 3131, 'lug': 3132, \"hadn't\": 3133, 'overseas': 3134, 'michael': 3135, 'sirloin': 3136, 'response': 3137, 'nylon': 3138, 'encountered': 3139, 'bear': 3140, 'pictured': 3141, 'talk': 3142, 'fyi': 3143, 'risotto': 3144, 'chilly': 3145, '2012': 3146, 'incidentally': 3147, 'smokey': 3148, 'ahoy': 3149, 'seasoned': 3150, \"they'd\": 3151, 'unhealthy': 3152, 'dipped': 3153, 'broke': 3154, 'origin': 3155, 'preparation': 3156, 'infusion': 3157, 'stems': 3158, 'butters': 3159, 'stinks': 3160, 'charges': 3161, 'lead': 3162, 'enhance': 3163, 'typing': 3164, 'afraid': 3165, 'feedback': 3166, 'gustafs': 3167, 'capsule': 3168, 'tassimo': 3169, 'comparable': 3170, 'scrumptious': 3171, 'steaks': 3172, 'category': 3173, 'soaking': 3174, 'groats': 3175, 'toasted': 3176, 'measuring': 3177, 'meatloaf': 3178, 'altogether': 3179, 'user': 3180, 'outrageous': 3181, 'advantage': 3182, '33': 3183, 'favourite': 3184, 'rawhide': 3185, 'rain': 3186, 'passing': 3187, 'bananas': 3188, 'spat': 3189, 'digging': 3190, 'drawback': 3191, 'synthetic': 3192, 'wary': 3193, 'mojito': 3194, 'series': 3195, 'appletini': 3196, 'tap': 3197, 'evenly': 3198, 'introduce': 3199, 'explained': 3200, 'disgust': 3201, 'europe': 3202, 'spain': 3203, 'headaches': 3204, 'bisquick': 3205, 'mellow': 3206, 'repeat': 3207, 'surely': 3208, 'god': 3209, 'nantucket': 3210, 'restaurants': 3211, 'vermont': 3212, 'heavier': 3213, 'melting': 3214, 'smoothness': 3215, 'wrapper': 3216, 'group': 3217, \"daughter's\": 3218, 'definetly': 3219, 'miniature': 3220, 'sites': 3221, 'sorbets': 3222, 'overwhelmed': 3223, 'wished': 3224, 'dent': 3225, \"'n\": 3226, 'manufactures': 3227, 'dusty': 3228, 'dove': 3229, 'soap': 3230, 'successfully': 3231, 'beauty': 3232, 'sweat': 3233, 'conclusion': 3234, 'fallen': 3235, 'public': 3236, 'creme': 3237, 'brulee': 3238, 'tzu': 3239, 'scared': 3240, 'choke': 3241, 'tulsi': 3242, 'improves': 3243, 'toxins': 3244, 'lick': 3245, 'produces': 3246, 'watering': 3247, 'divide': 3248, 'retail': 3249, 'block': 3250, 'mediocre': 3251, 'invest': 3252, 'extracts': 3253, 'dents': 3254, 'record': 3255, 'adventure': 3256, 'producing': 3257, 'born': 3258, 'parmesan': 3259, 'mozzarella': 3260, 'lined': 3261, 'fond': 3262, 'thai': 3263, 'fold': 3264, \"brother's\": 3265, 'equipment': 3266, 'fear': 3267, 'reactions': 3268, 'niece': 3269, 'popper': 3270, 'popping': 3271, 'discovery': 3272, 'cals': 3273, 'indulge': 3274, 'finishing': 3275, 'cancelling': 3276, 'soupy': 3277, 'halo': 3278, 'creation': 3279, 'acquired': 3280, 'famous': 3281, '2007': 3282, 'sprouted': 3283, 'disappointingly': 3284, 'alaska': 3285, 'cuppa': 3286, 'aussie': 3287, 'spots': 3288, 'uniquely': 3289, 'peppery': 3290, 'sorts': 3291, 'locate': 3292, 'brief': 3293, 'niederegger': 3294, 'hefty': 3295, 'prominent': 3296, 'clove': 3297, 'puzzle': 3298, 'relaxed': 3299, 'ability': 3300, 'raisin': 3301, \"mother's\": 3302, 'crunching': 3303, 'greek': 3304, 'chamomile': 3305, 'relax': 3306, 'marshmallows': 3307, 'temptations': 3308, 'sleeping': 3309, 'holding': 3310, 'doesnt': 3311, 'occasions': 3312, 'blending': 3313, 'petit': 3314, 'lines': 3315, 'rubber': 3316, 'chewer': 3317, 'lips': 3318, 'begs': 3319, 'history': 3320, 'expenses': 3321, 'snob': 3322, 'address': 3323, 'useless': 3324, 'remembered': 3325, 'reservation': 3326, 'kuerig': 3327, 'breasts': 3328, 'heated': 3329, 'rare': 3330, 'diabetics': 3331, 'tracks': 3332, '21oz': 3333, 'placebo': 3334, 'variations': 3335, 'users': 3336, 'gatorade': 3337, 'necessarily': 3338, 'routine': 3339, 'folded': 3340, 'thermos': 3341, 'w': 3342, 'leftovers': 3343, 'suitable': 3344, 'drowsiness': 3345, 'sound': 3346, 'thoroughly': 3347, 'celestial': 3348, 'im': 3349, 'dispenser': 3350, 'concerning': 3351, 'sometime': 3352, '98': 3353, 'ct': 3354, 'nom': 3355, 'unsweetened': 3356, 'dextrin': 3357, 'gmo': 3358, 'erythritol': 3359, 'primary': 3360, 'survivors': 3361, 'chewed': 3362, 'dingos': 3363, 'beagle': 3364, 'meow': 3365, \"cat's\": 3366, 'spike': 3367, 'heaping': 3368, 'forever': 3369, 'mineral': 3370, 'band': 3371, 'ii': 3372, 'material': 3373, 'november': 3374, 'nutrisystem': 3375, 'raised': 3376, 'frost': 3377, 'experiencing': 3378, 'closing': 3379, 'hydroponics': 3380, 'lettuce': 3381, 'living': 3382, 'replacing': 3383, 'supplied': 3384, 'trees': 3385, 'competitor': 3386, 'welcome': 3387, 'daughters': 3388, 'stayed': 3389, \"baby's\": 3390, 'straightforward': 3391, 'encourage': 3392, 'creative': 3393, 'towards': 3394, 'snaps': 3395, 'champagne': 3396, 'flavorless': 3397, 'unimpressive': 3398, 'searched': 3399, 'remains': 3400, 'pastries': 3401, 'steps': 3402, 'ear': 3403, 'licking': 3404, 'blah': 3405, 'slept': 3406, 'lactose': 3407, 'creamers': 3408, 'lumps': 3409, 'vit': 3410, 'jazzed': 3411, 'scissors': 3412, 'luxury': 3413, 'western': 3414, 'saturday': 3415, 'fur': 3416, 'apprehensive': 3417, 'footed': 3418, 'critics': 3419, 'peachy': 3420, 'tarrazu': 3421, 'conscious': 3422, '250': 3423, 'avid': 3424, 'basics': 3425, 'tonight': 3426, 'gf': 3427, 'measured': 3428, 'harmful': 3429, 'aggressive': 3430, 'chewers': 3431, 'watched': 3432, 'boyardee': 3433, 'wal': 3434, 'shredded': 3435, 'spit': 3436, 'slightest': 3437, 'whom': 3438, 'ryvita': 3439, 'chihuahuas': 3440, 'dissapointed': 3441, 'survive': 3442, 'reduced': 3443, 'link': 3444, 'salon': 3445, \"everyone's\": 3446, 'selections': 3447, '69': 3448, 'headache': 3449, 'tradition': 3450, 'thanksgiving': 3451, 'expressed': 3452, 'dyes': 3453, 'widely': 3454, 'talked': 3455, 'possibly': 3456, 'dietary': 3457, 'clumps': 3458, 'regret': 3459, 'substituting': 3460, 'counting': 3461, 'matters': 3462, 'oolong': 3463, 'hopes': 3464, 'charging': 3465, 'arm': 3466, 'season': 3467, 'artificially': 3468, 'spearmint': 3469, 'wedding': 3470, 'holistic': 3471, 'soak': 3472, 'overnight': 3473, 'inclined': 3474, 'decision': 3475, 'warn': 3476, 'aka': 3477, 'flare': 3478, \"pet's\": 3479, 'final': 3480, 'exotic': 3481, 'savor': 3482, 'brilliant': 3483, 'lord': 3484, 'mandarin': 3485, 'potion': 3486, 'sensation': 3487, 'heads': 3488, 'fudgey': 3489, 'passed': 3490, 'catechin': 3491, 'dragonwell': 3492, 'superb': 3493, 'steeping': 3494, 'leftover': 3495, 'roughly': 3496, 'infused': 3497, 'ingest': 3498, 'lunches': 3499, 'shell': 3500, 'processor': 3501, 'thickness': 3502, 'halvah': 3503, 'attest': 3504, 'crinkle': 3505, 'explode': 3506, 'coconuts': 3507, 'marketing': 3508, 'whiskey': 3509, 'mask': 3510, 'casual': 3511, '16oz': 3512, 'creates': 3513, 'boneless': 3514, 'milder': 3515, 'morsels': 3516, 'passion': 3517, 'gingerbread': 3518, 'cran': 3519, 'customers': 3520, 'pronounce': 3521, 'continued': 3522, 'clumped': 3523, 'hubby': 3524, 'completed': 3525, 'unusable': 3526, 'columbian': 3527, 'leaking': 3528, 'anchovie': 3529, 'opens': 3530, 'stuffed': 3531, 'celiacs': 3532, 'tubs': 3533, 'husks': 3534, 'mustard': 3535, 'matches': 3536, 'tastier': 3537, 'carbonara': 3538, \"joe's\": 3539, 'wins': 3540, 'preface': 3541, 'kitties': 3542, 'relatives': 3543, 'swear': 3544, 'offers': 3545, 'marked': 3546, 'benzene': 3547, 'par': 3548, 'impression': 3549, 'grapefruit': 3550, 'directed': 3551, 'pyramid': 3552, 'chives': 3553, 'attractive': 3554, 'impressions': 3555, '220': 3556, '110': 3557, \"nature's\": 3558, 'ibd': 3559, 'wonders': 3560, 'cow': 3561, 'wondered': 3562, 'indicates': 3563, \"kellogg's\": 3564, 'colon': 3565, 'constipation': 3566, 'accurate': 3567, 'swiss': 3568, 'mehmet': 3569, 'efendi': 3570, 'hitting': 3571, 'tropical': 3572, 'germ': 3573, 'spoil': 3574, 'exciting': 3575, 'sipped': 3576, 'preserve': 3577, 'reliable': 3578, 'peaches': 3579, 'bagged': 3580, 'easiest': 3581, 'drunk': 3582, 'disappeared': 3583, 'stored': 3584, 'turning': 3585, 'caps': 3586, 'branch': 3587, 'assortment': 3588, 'rotting': 3589, 'weekend': 3590, 'paul': 3591, 'laden': 3592, 'solofil': 3593, 'mouthful': 3594, 'stream': 3595, 'instruction': 3596, 'marinades': 3597, 'pulled': 3598, 'critter': 3599, 'activity': 3600, \"stephen's\": 3601, 'wasting': 3602, \"anyone's\": 3603, 'spicier': 3604, 'wondering': 3605, 'cheetos': 3606, 'tightly': 3607, 'tulleys': 3608, 'faster': 3609, 'vacation': 3610, 'grandson': 3611, 'antioxidant': 3612, 'storing': 3613, 'raise': 3614, 'sinuses': 3615, 'shepherd': 3616, 'cleaned': 3617, \"we'll\": 3618, 'crumble': 3619, 'video': 3620, 'nearby': 3621, 'kirkland': 3622, 'knocked': 3623, 'pastas': 3624, 'marathon': 3625, 'everybody': 3626, 'department': 3627, 'forms': 3628, 'scalp': 3629, 'falcon': 3630, 'uk': 3631, 'card': 3632, 'recommendations': 3633, 'flow': 3634, 'disk': 3635, 'rim': 3636, 'lids': 3637, 'passable': 3638, 'barilla': 3639, 'mezze': 3640, 'penne': 3641, 'teenage': 3642, 'peel': 3643, 'increasing': 3644, 'amongst': 3645, 'graphic': 3646, 'sushi': 3647, 'poorly': 3648, 'cuisinart': 3649, 'stainless': 3650, '8oz': 3651, 'cutting': 3652, 'grandmother': 3653, 'fields': 3654, 'elusive': 3655, 'prescription': 3656, 'extended': 3657, 'ps': 3658, 'stretch': 3659, 'caffienated': 3660, 'caffiene': 3661, 'fanatic': 3662, 'spiciness': 3663, 'equivalent': 3664, 'fake': 3665, 'zevia': 3666, 'donated': 3667, 'tremendous': 3668, 'chipmunks': 3669, 'spectacular': 3670, 'truck': 3671, 'crocker': 3672, 'underwhelmed': 3673, 'detect': 3674, 'speedy': 3675, 'indoor': 3676, 'voice': 3677, 'sooooo': 3678, 'ambrosoli': 3679, 'indicate': 3680, 'anti': 3681, 'mousse': 3682, 'hospital': 3683, \"son's\": 3684, 'bunny': 3685, 'warranty': 3686, 'vienna': 3687, 'connoisseur': 3688, 'vacuum': 3689, 'ultimate': 3690, \"rocky's\": 3691, 'shaped': 3692, 'diaper': 3693, 'bowels': 3694, 'bathroom': 3695, 'event': 3696, 'coarse': 3697, 'processing': 3698, 'labrador': 3699, 'owner': 3700, 'rooibos': 3701, 'humor': 3702, 'amaretto': 3703, '190': 3704, 'flip': 3705, 'dye': 3706, 'soften': 3707, 'situation': 3708, 'dressings': 3709, 'approaching': 3710, 'fizzy': 3711, 'trigger': 3712, 'rainbow': 3713, '70': 3714, 'joes': 3715, 'bowel': 3716, 'prevent': 3717, 'shortbread': 3718, 'dissolves': 3719, 'west': 3720, 'unhappy': 3721, 'concerns': 3722, \"starbucks'\": 3723, 'steaming': 3724, 'guidelines': 3725, 'meds': 3726, 'importantly': 3727, 'pains': 3728, 'allowing': 3729, 'carpet': 3730, 'artisan': 3731, 'zing': 3732, 'milky': 3733, 'oddly': 3734, 'values': 3735, 'navitas': 3736, 'becoming': 3737, 'cacao': 3738, 'dumped': 3739, 'toothpicks': 3740, 'twelve': 3741, 'transitioning': 3742, 'gradually': 3743, '63': 3744, 'blossom': 3745, \"reese's\": 3746, 'waffle': 3747, 'fennel': 3748, 'enhanced': 3749, \"justin's\": 3750, 'closely': 3751, 'kneading': 3752, 'pecan': 3753, 'happybaby': 3754, 'nutmeg': 3755, 'calls': 3756, 'devour': 3757, 'virginia': 3758, 'specialty': 3759, 'mad': 3760, 'links': 3761, 'nuggets': 3762, 'maltodextrin': 3763, 'complaining': 3764, 'appealed': 3765, 'fifteen': 3766, 'pond': 3767, 'length': 3768, 'hanging': 3769, 'float': 3770, 'muddy': 3771, 'multigrain': 3772, 'visible': 3773, 'pace': 3774, 'batter': 3775, 'ph': 3776, 'balanced': 3777, 'urine': 3778, 'crystals': 3779, 'moroccan': 3780, 'amazingly': 3781, 'designs': 3782, 'canin': 3783, 'assumed': 3784, 'blk': 3785, 'casings': 3786, 'brats': 3787, 'report': 3788, 'married': 3789, 'female': 3790, 'thailand': 3791, 'fatty': 3792, 'curiosity': 3793, 'cadbury': 3794, 'society': 3795, 'golean': 3796, 'lumpy': 3797, 'flexible': 3798, 'chestnut': 3799, 'kill': 3800, 'moderate': 3801, 'ziwipeak': 3802, 'spam': 3803, 'dill': 3804, 'adore': 3805, 'consuming': 3806, 'stains': 3807, 'suffers': 3808, 'h': 3809, 'fastest': 3810, 'cure': 3811, 'hotter': 3812, 'returns': 3813, 'similac': 3814, 'patiently': 3815, 'breaking': 3816, 'stix': 3817, 'walnut': 3818, 'tastiest': 3819, 'powered': 3820, 'accept': 3821, 'plaque': 3822, 'unscrew': 3823, 'reluctant': 3824, 'pepsi': 3825, 'pro': 3826, 'con': 3827, 'existent': 3828, 'mounting': 3829, 'suffering': 3830, 'anticipated': 3831, 'island': 3832, 'generic': 3833, 'sojos': 3834, 'kidney': 3835, 'shedding': 3836, 'significantly': 3837, 'nibble': 3838, 'sue': 3839, 'dealt': 3840, 'flint': 3841, 'diameter': 3842, 'distributor': 3843, 'worker': 3844, 'pedigree': 3845, 'protien': 3846, 'recieved': 3847, 'hears': 3848, 'brick': 3849, 'remainder': 3850, 'sophie': 3851, 'utterly': 3852, 'herself': 3853, 'wasted': 3854, 'beet': 3855, 'feta': 3856, 'toddlers': 3857, 'jumped': 3858, 'letter': 3859, 'elements': 3860, 'fishy': 3861, 'tiger': 3862, 'overwhelms': 3863, \"mcdougall's\": 3864, 'soggy': 3865, 'skinny': 3866, 'catnip': 3867, 'coax': 3868, 'catchup': 3869, 'couldnt': 3870, 'buttercup': 3871, \"friend's\": 3872, 'lentils': 3873, 'beaba': 3874, 'goji': 3875, 'unopened': 3876, 'imported': 3877, 'wysong': 3878, 'project': 3879, 'hanover': 3880, 'richer': 3881, 'exclusively': 3882, 'pepperoni': 3883, 'holes': 3884, 'fondant': 3885, 'tonic': 3886, 'soooo': 3887, 'lingers': 3888, 'hullless': 3889, 'safer': 3890, 'saf': 3891, 'webstore': 3892, 'halal': 3893, 'recycle': 3894, 'manuka': 3895, 'ovaltine': 3896, 'salba': 3897, 'entirely': 3898, 'appeared': 3899, 'promising': 3900, 'dha': 3901, 'hilda': 3902, 'ouch': 3903, 'uh': 3904, 'feared': 3905, 'character': 3906, 'aunt': 3907, 'urge': 3908, 'frankly': 3909, 'bonkers': 3910, 'destroy': 3911, 'frog': 3912, \"winter's\": 3913, 'mmmm': 3914, 'discs': 3915, 'recalled': 3916, 'ample': 3917, 'cravings': 3918, 'stopping': 3919, 'itching': 3920, 'remarked': 3921, 'lathers': 3922, 'garnish': 3923, \"chachere's\": 3924, 'fiance': 3925, 'unfrosted': 3926, 'saves': 3927, 'complementary': 3928, 'lousy': 3929, 'cannister': 3930, 'enhancing': 3931, \"planter's\": 3932, 'protected': 3933, 'maynards': 3934, 'wrapping': 3935, 'swallows': 3936, 'skip': 3937, \"o'lakes\": 3938, 'loin': 3939, 'omaha': 3940, 'reccomend': 3941, 'retain': 3942, 'considerable': 3943, 'nine': 3944, 'papillon': 3945, 'truffles': 3946, 'mfg': 3947, 'altering': 3948, 'families': 3949, 'pies': 3950, 'hull': 3951, 'upside': 3952, 'slimy': 3953, '1200': 3954, 'labeled': 3955, 'microwaving': 3956, 'firmness': 3957, 'brittle': 3958, 'accordingly': 3959, 'lasagne': 3960, 'goat': 3961, 'roni': 3962, 'discontinuing': 3963, 'constant': 3964, 'doubled': 3965, 'iherb': 3966, '97': 3967, 'aloe': 3968, 'brushing': 3969, 'bizarre': 3970, 'doggy': 3971, 'shower': 3972, 'monster': 3973, 'shrimp': 3974, 'practical': 3975, 'wasabi': 3976, 'gummies': 3977, 'worthless': 3978, 'opposite': 3979, 'mocktails': 3980, 'rancher': 3981, 'pitcher': 3982, 'spilled': 3983, 'credit': 3984, 'crappy': 3985, 'tossed': 3986, 'failing': 3987, 'memory': 3988, 'reappear': 3989, 'hrs': 3990, 'dosage': 3991, 'blaoting': 3992, 'blackberry': 3993, 'basmati': 3994, 'advised': 3995, 'refuses': 3996, 'horrific': 3997, 'dilute': 3998, 'loooooove': 3999, \"parent's\": 4000, 'refuse': 4001, 'scores': 4002, 'cocao': 4003, 'lecithin': 4004, 'liqueur': 4005, 'chocolatiers': 4006, 'lollipop': 4007, 'tone': 4008, 'sorbet': 4009, 'llama': 4010, 'national': 4011, 'grease': 4012, 'rough': 4013, 'planet': 4014, 'confident': 4015, 'cleaner': 4016, 'experiences': 4017, 'douwe': 4018, '85': 4019, 'truthful': 4020, 'related': 4021, 'pekinese': 4022, 'tzus': 4023, 'native': 4024, 'india': 4025, 'influence': 4026, 'prove': 4027, 'environmental': 4028, 'petgrass': 4029, 'appropriately': 4030, 'splurge': 4031, 'usage': 4032, 'rainforest': 4033, 'expresso': 4034, 'properties': 4035, 'novelty': 4036, 'ostrich': 4037, 'teenager': 4038, 'stunned': 4039, 'mash': 4040, 'separated': 4041, 'mis': 4042, \"evanger's\": 4043, 'autumn': 4044, 'mothers': 4045, 'stiff': 4046, 'vegans': 4047, 'derived': 4048, 'mysterious': 4049, \"'herbal'\": 4050, 'quenches': 4051, 'chill': 4052, 'nectarine': 4053, 'padding': 4054, 'varied': 4055, 'ranks': 4056, 'purchaed': 4057, 'flours': 4058, 'amaranth': 4059, 'toppings': 4060, 'figs': 4061, 'uniform': 4062, 'somewhere': 4063, 'contamination': 4064, 'brother': 4065, 'jiffy': 4066, 'proportion': 4067, 'pricy': 4068, 'marketed': 4069, 'houses': 4070, 'proceeded': 4071, 'culinary': 4072, 'percentage': 4073, 'complements': 4074, 'likewise': 4075, 'areas': 4076, 'maintains': 4077, '39': 4078, 'thankful': 4079, 'walmarts': 4080, \"company's\": 4081, 'excessively': 4082, 'hers': 4083, 'hesitant': 4084, 'frustrated': 4085, 'visiting': 4086, 'haha': 4087, 'managed': 4088, 'enhances': 4089, 'entertained': 4090, 'forgot': 4091, 'islands': 4092, 'grows': 4093, 'exchange': 4094, 'rolling': 4095, 'removing': 4096, 'muir': 4097, 'glen': 4098, 'bins': 4099, 'built': 4100, 'refill': 4101, 'ginkgo': 4102, 'impact': 4103, 'cured': 4104, 'muscle': 4105, 'cramping': 4106, 'digestion': 4107, 'settled': 4108, 'ca': 4109, '800': 4110, 'wishing': 4111, 'addiction': 4112, 'francais': 4113, 'yo': 4114, 'pitbull': 4115, 'upper': 4116, 'yerba': 4117, 'treasure': 4118, 'sans': 4119, 'specially': 4120, 'dozens': 4121, 'discontinued': 4122, 'fry': 4123, 'pestle': 4124, 'emblem': 4125, 'military': 4126, 'constructed': 4127, 'reuse': 4128, 'chamomiles': 4129, 'conch': 4130, 'petrodex': 4131, 'maltese': 4132, 'priority': 4133, 'cramps': 4134, 'refusing': 4135, '31': 4136, 'rely': 4137, 'floors': 4138, 'wood': 4139, 'dream': 4140, 'jolt': 4141, 'frustrating': 4142, 'spouse': 4143, 'canning': 4144, 'plainly': 4145, 'gastrointestinal': 4146, 'discomfort': 4147, 'orignial': 4148, '18oz': 4149, 'refunded': 4150, 'exist': 4151, 'whoever': 4152, 'mays': 4153, 'disclosure': 4154, 'explosion': 4155, \"seattle's\": 4156, 'sweetleaf': 4157, 'backpacking': 4158, 'smallest': 4159, 'consistently': 4160, 'forming': 4161, 'sickly': 4162, 'steer': 4163, 'buttered': 4164, 'finals': 4165, 'nighttime': 4166, 'dragon': 4167, 'cactus': 4168, 'fruiting': 4169, 'shoots': 4170, 'medley': 4171, 'storefront': 4172, 'l': 4173, 'distributed': 4174, 'mechanism': 4175, 'tries': 4176, 'motivated': 4177, 'phrase': 4178, 'membership': 4179, 'snickers': 4180, 'coupons': 4181, '17': 4182, 'oreos': 4183, 'reminiscent': 4184, 'david': 4185, 'goody': 4186, 'promoting': 4187, 'impressive': 4188, \"lily's\": 4189, 'inulin': 4190, 'association': 4191, 'lily': 4192, 'honor': 4193, 'precisely': 4194, 'realy': 4195, 'ourselves': 4196, 'additive': 4197, 'condiment': 4198, 'chocolaty': 4199, 'nougat': 4200, 'nestle': 4201, 'satisfactory': 4202, 'fewer': 4203, 'neutral': 4204, 'suites': 4205, 'shops': 4206, 'bye': 4207, 'suger': 4208, 'tempted': 4209, 'milks': 4210, 'amp': 4211, 'iii': 4212, 'carrot': 4213, 'necessity': 4214, 'humorous': 4215, '90s': 4216, 'organically': 4217, 'approximately': 4218, 'extensive': 4219, 'mutt': 4220, 'loosely': 4221, 'formed': 4222, 'icebreakers': 4223, 'gadget': 4224, 'chin': 4225, 'refrigeration': 4226, 'germinate': 4227, 'cucumber': 4228, 'dimensions': 4229, 'okra': 4230, 'seattle': 4231, 'placing': 4232, 'models': 4233, 'souper': 4234, 'soo': 4235, 'staying': 4236, 'patience': 4237, 'thoughts': 4238, 'poking': 4239, 'developing': 4240, 'articles': 4241, 'throats': 4242, 'shattering': 4243, \"store's\": 4244, 'recomended': 4245, 'bored': 4246, 'chewys': 4247, 'flaky': 4248, \"chewy's\": 4249, 'secondly': 4250, 'plans': 4251, 'confidence': 4252, 'object': 4253, 'africa': 4254, \"herr's\": 4255, 'presents': 4256, 'maine': 4257, 'infections': 4258, 'damn': 4259, '7lb': 4260, 'horribly': 4261, 'obese': 4262, 'ot': 4263, 'hell': 4264, 'joke': 4265, 'cotton': 4266, 'pronounced': 4267, 'jim': 4268, '16g': 4269, 'ascorbic': 4270, '45mg': 4271, 'gee': 4272, 'kefir': 4273, 'alive': 4274, 'doggies': 4275, 'twentyfour': 4276, 'rubbed': 4277, 'freight': 4278, 'medical': 4279, 'appeal': 4280, 'pizazz': 4281, 'tear': 4282, 'fountain': 4283, 'changing': 4284, 'afterwards': 4285, 'seldom': 4286, 'upsets': 4287, 'marmalades': 4288, 'kelly': 4289, 'swordfish': 4290, 'hunting': 4291, 'delectable': 4292, 'wednesday': 4293, 'styrofoam': 4294, 'munching': 4295, 'bff': 4296, 'reddish': 4297, 'twosome': 4298, 'mouthfuls': 4299, 'cooker': 4300, 'jr': 4301, 'specialties': 4302, 'cr': 4303, 'costa': 4304, 'rica': 4305, 'sand': 4306, 'tast': 4307, 'expired': 4308, 'rarely': 4309, \"starbuck's\": 4310, 'ideas': 4311, 'machines': 4312, 'dieting': 4313, 'chihuahua': 4314, 'zukes': 4315, 'invigorating': 4316, 'younger': 4317, 'raviolis': 4318, '88': 4319, 'fave': 4320, 'tvp': 4321, 'neighbors': 4322, 'vitality': 4323, 'yorkies': 4324, 'crispbread': 4325, 'cocker': 4326, 'yummiest': 4327, \"wont'\": 4328, 'afternoons': 4329, 'allot': 4330, 'perfume': 4331, 'beats': 4332, \"month's\": 4333, 'rainy': 4334, 'papery': 4335, 'brazil': 4336, 'edges': 4337, 'claxton': 4338, 'fruitcakes': 4339, 'consisted': 4340, 'emailed': 4341, 'emails': 4342, \"1980's\": 4343, 'correctly': 4344, 'informed': 4345, '55': 4346, \"stash's\": 4347, 'clumping': 4348, 'disposal': 4349, 'flush': 4350, 'ultra': 4351, 'pearls': 4352, 'foot': 4353, 'idiot': 4354, 'boot': 4355, 'generation': 4356, 'responsible': 4357, 'raspberries': 4358, 'organix': 4359, 'mario': 4360, 'stocks': 4361, 'bloody': 4362, 'shards': 4363, 'hydrated': 4364, 'acne': 4365, 'flatulence': 4366, 'prescribed': 4367, 'tolerance': 4368, 'patient': 4369, 'expectation': 4370, 'accelerade': 4371, 'spoons': 4372, 'depot': 4373, 'nephew': 4374, 'endless': 4375, \"'new'\": 4376, 'diarreha': 4377, 'vomitting': 4378, 'panels': 4379, 'rule': 4380, 'russian': 4381, 'homework': 4382, \"'educated'\": 4383, 'visitors': 4384, 'faced': 4385, 'position': 4386, 'substantially': 4387, 'members': 4388, 'splitting': 4389, 'muscovado': 4390, 'pressed': 4391, 'concentrated': 4392, 'healthful': 4393, 'sunday': 4394, 'supposedly': 4395, 'scented': 4396, 'drowning': 4397, 'men': 4398, 'sought': 4399, 'southern': 4400, 'occasion': 4401, 'iodine': 4402, 'bons': 4403, 'linger': 4404, 'clue': 4405, 'inner': 4406, 'coated': 4407, 'uv': 4408, 'clogged': 4409, 'sencha': 4410, 'dull': 4411, 'hardy': 4412, 'energizing': 4413, 'noon': 4414, 'lazy': 4415, '79': 4416, 'chick': 4417, 'drained': 4418, 'reserved': 4419, 'tahina': 4420, 'east': 4421, 'al': 4422, 'solofill': 4423, 'growers': 4424, 'species': 4425, 'homes': 4426, 'warned': 4427, 'caution': 4428, 'saltiness': 4429, 'asthma': 4430, 'subscribed': 4431, 'pasteurization': 4432, 'alcoholic': 4433, 'blues': 4434, 'yep': 4435, 'salsas': 4436, 'picking': 4437, '32oz': 4438, 'tang': 4439, 'mistaken': 4440, 'seasons': 4441, 'lemony': 4442, 'alternate': 4443, 'grabbed': 4444, 'gassy': 4445, 'beneful': 4446, 'torn': 4447, 'smelly': 4448, 'sipping': 4449, 'quench': 4450, 'attack': 4451, 'assure': 4452, 'urinating': 4453, 'exceeded': 4454, 'regretted': 4455, 'sneak': 4456, '10oz': 4457, '66': 4458, 'pitted': 4459, 'rye': 4460, 'retaining': 4461, 'denver': 4462, 'googled': 4463, 'freshest': 4464, 'cancelled': 4465, 'frustration': 4466, 'dismay': 4467, 'zoe': 4468, 'bothered': 4469, 'pregnancy': 4470, 'arabica': 4471, 'cellulose': 4472, 'citrate': 4473, 'paprika': 4474, 'nuclear': 4475, 'fukushima': 4476, 'pacific': 4477, 'unaware': 4478, 'television': 4479, 'stations': 4480, 'government': 4481, 'covers': 4482, 'doctors': 4483, 'dumping': 4484, 'anchovies': 4485, 'martini': 4486, 'embarrassing': 4487, 'wtf': 4488, 'poodle': 4489, 'mesquite': 4490, 'jell': 4491, 'evidently': 4492, 'hearts': 4493, 'severely': 4494, \"tony's\": 4495, 'essentially': 4496, 'transaction': 4497, 'cheez': 4498, 'crap': 4499, 'labor': 4500, 'refried': 4501, 'pinto': 4502, \"wagner's\": 4503, 'jamaica': 4504, 'thousands': 4505, 'tapered': 4506, 'addict': 4507, 'cocktail': 4508, 'arrives': 4509, 'hairball': 4510, 'poultry': 4511, 'tow': 4512, '42': 4513, '46': 4514, '59': 4515, 'nurses': 4516, 'storm': 4517, 'rural': 4518, 'temps': 4519, 'freezing': 4520, 'radio': 4521, 'till': 4522, 'mcmeal': 4523, 'nap': 4524, 'breakfasts': 4525, 'maryland': 4526, 'bike': 4527, 'nope': 4528, 'decrease': 4529, 'cancers': 4530, \"n'\": 4531, 'unexpectedly': 4532, 'orville': 4533, 'reddenbacher': 4534, 'paragon': 4535, 'wabash': 4536, 'doorstep': 4537, 'largely': 4538, 'accompany': 4539, 'saucepan': 4540, 'steam': 4541, 'minds': 4542, 'unimpressed': 4543, 'chicago': 4544, 'sucker': 4545, 'standing': 4546, 'triple': 4547, 'requirement': 4548, 'united': 4549, 'wagyu': 4550, 'quit': 4551, 'losing': 4552, 'net': 4553, 'identify': 4554, 'rinse': 4555, 'notified': 4556, 'responded': 4557, 'struggling': 4558, 'metamucil': 4559, 'path': 4560, \"johnny's\": 4561, 'backed': 4562, 'brainer': 4563, 'jittery': 4564, 'liquors': 4565, 'bazaar': 4566, 'crowd': 4567, 'crush': 4568, 'suitcase': 4569, 'rubbery': 4570, 'attracted': 4571, 'swirl': 4572, 'leak': 4573, 'relaxation': 4574, 'helping': 4575, \"o'\": 4576, 'crammed': 4577, 'teaspoons': 4578, 'sacks': 4579, 'pics': 4580, 'havent': 4581, 'puts': 4582, 'reduce': 4583, 'escapes': 4584, 'surface': 4585, 'safeway': 4586, 'promised': 4587, 'sore': 4588, 'absorbed': 4589, 'mainstream': 4590, 'butt': 4591, 'teapot': 4592, 'brews': 4593, 'parties': 4594, 'desperate': 4595, 'fortune': 4596, 'lighten': 4597, 'apartment': 4598, 'madness': 4599, 'hurts': 4600, 'unsalted': 4601, 'grabbing': 4602, 'definitly': 4603, 'fluff': 4604, 'minimum': 4605, 'mature': 4606, 'stilton': 4607, 'stuffers': 4608, 'gaining': 4609, 'reducing': 4610, 'brag': 4611, 'frying': 4612, 'secure': 4613, 'louie': 4614, 'spectrums': 4615, 'pulling': 4616, 'moisturizer': 4617, 'eh': 4618, 'enter': 4619, 'sawdust': 4620, 'disintegrates': 4621, 'healing': 4622, 'wanna': 4623, 'committing': 4624, 'trial': 4625, 'vial': 4626, 'sprite': 4627, \"barq's\": 4628, 'dew': 4629, 'pair': 4630, \"pete's\": 4631, 'relieve': 4632, 'hello': 4633, 'atkins': 4634, 'pests': 4635, 'gaps': 4636, 'brush': 4637, '1st': 4638, 'milkshake': 4639, 'describing': 4640, 'differently': 4641, 'slice': 4642, 'nacho': 4643, 'musty': 4644, 'palette': 4645, 'habanero': 4646, 'temporarily': 4647, 'learning': 4648, 'cooled': 4649, 'popchip': 4650, 'pastry': 4651, 'traded': 4652, 'def': 4653, 'quicker': 4654, 'grossed': 4655, 'apricots': 4656, 'shortly': 4657, 'ruining': 4658, 'cabinets': 4659, 'tricky': 4660, 'joint': 4661, 'tendency': 4662, 'bird': 4663, 'goal': 4664, 'regimen': 4665, 'gary': 4666, 'peterson': 4667, 'starchy': 4668, 'cloudy': 4669, 'fashion': 4670, 'improve': 4671, 'dentyne': 4672, 'cheeze': 4673, 'curb': 4674, 'decadence': 4675, 'resources': 4676, 'mudslide': 4677, 'dryer': 4678, 'official': 4679, 'nourishment': 4680, 'applying': 4681, 'roots': 4682, 'sented': 4683, 'token': 4684, \"reviewer's\": 4685, 'spilling': 4686, 'perk': 4687, 'tint': 4688, 'marginally': 4689, 'fuller': 4690, 'scooped': 4691, 'twins': 4692, 'dramatic': 4693, 'relative': 4694, 'pencil': 4695, 'yup': 4696, 'bms': 4697, 'theses': 4698, 'mum': 4699, 'delights': 4700, 'ads': 4701, 'games': 4702, 'discounts': 4703, 'reusable': 4704, 'albeit': 4705, 'filters': 4706, 'ga': 4707, 'intestinal': 4708, 'soapy': 4709, 'draw': 4710, 'wowbutter': 4711, 'madagascar': 4712, 'lava': 4713, \"'real'\": 4714, \"'real\": 4715, \"'green\": 4716, 'hooray': 4717, 'leap': 4718, 'frosted': 4719, 'casting': 4720, 'alec': 4721, 'insulin': 4722, 'starve': 4723, 'death': 4724, 'researching': 4725, 'acts': 4726, \"coffee's\": 4727, 'leary': 4728, 'whirl': 4729, 'tastey': 4730, 'headed': 4731, 'sodas': 4732, 'squirrels': 4733, 'property': 4734, 'ridder': 4735, 'worries': 4736, 'explains': 4737, 'flavorings': 4738, 'glaze': 4739, 'posts': 4740, 'manufacturers': 4741, 'pug': 4742, 'wraps': 4743, 'honeesenergy': 4744, 'b6': 4745, 'b12': 4746, 'dutch': 4747, 'pkg': 4748, 'gi': 4749, 'overpower': 4750, 'longest': 4751, 'vinta': 4752, 'economy': 4753, 'loaves': 4754, 'funky': 4755, 'intriguing': 4756, 'filet': 4757, 'libbys': 4758, 'author': 4759, 'finisher': 4760, 'stood': 4761, 'grits': 4762, 'stray': 4763, 'planned': 4764, 'rabbit': 4765, 'die': 4766, 'prepped': 4767, 'tacos': 4768, 'strips': 4769, 'softest': 4770, 'formulations': 4771, 'lends': 4772, 'pee': 4773, 'beside': 4774, 'authorized': 4775, 'heady': 4776, 'indulgence': 4777, 'crop': 4778, 'alpen': 4779, 'opposed': 4780, 'dexter': 4781, 'sage': 4782, 'brine': 4783, '28': 4784, 'softener': 4785, 'collace': 4786, 'contrast': 4787, 'worthwhile': 4788, 'chaff': 4789, 'removed': 4790, 'retriever': 4791, 'fare': 4792, 'frontier': 4793, 'apricot': 4794, 'abundant': 4795, 'chewiness': 4796, 'evaporated': 4797, 'compressed': 4798, 'desire': 4799, 'fragrant': 4800, 'compromise': 4801, 'beach': 4802, 'gmos': 4803, 'natures': 4804, 'wasnt': 4805, 'suffer': 4806, 'v': 4807, 'professional': 4808, '140': 4809, 'smoky': 4810, 'chicory': 4811, 'hangover': 4812, 'heading': 4813, 'murray': 4814, 'hurry': 4815, 'shaved': 4816, 'flatbread': 4817, 'dutched': 4818, 'bittersweet': 4819, 'berger': 4820, 'affortable': 4821, 'reused': 4822, 'francisco': 4823, \"latte's\": 4824, 'cincinnatti': 4825, 'skyline': 4826, 'prairie': 4827, 'returning': 4828, 'cartons': 4829, \"'nuff\": 4830, 'bringing': 4831, 'undrinkable': 4832, 'eager': 4833, 'purchases': 4834, 'porcelain': 4835, 'sixth': 4836, 'caffeinated': 4837, 'syrupy': 4838, 'cough': 4839, 'cultures': 4840, 'acting': 4841, 'relief': 4842, \"claey's\": 4843, 'adams': 4844, 'tick': 4845, 'maggie': 4846, 'surrounding': 4847, 'woods': 4848, 'infested': 4849, 'miami': 4850, 'florida': 4851, 'ruined': 4852, 'cleanly': 4853, 'stack': 4854, 'detached': 4855, \"'directions'\": 4856, \"'reviews'\": 4857, 'returnable': 4858, 'compact': 4859, 'girlfriend': 4860, 'portugal': 4861, 'crumbles': 4862, 'deserts': 4863, 'cayenne': 4864, 'frosty': 4865, 'valid': 4866, 'faded': 4867, 'proof': 4868, 'louisiane': 4869, 'repurchase': 4870, 'farts': 4871, \"valentine's\": 4872, 'experts': 4873, 'sits': 4874, 'decides': 4875, '480': 4876, 'bigelow': 4877, 'moly': 4878, 'disclosed': 4879, 'shout': 4880, \"barcelona's\": 4881, 'mole': 4882, 'separately': 4883, 'casing': 4884, \"farmer's\": 4885, 'tag': 4886, 'reviewed': 4887, 'roller': 4888, \"french's\": 4889, 'possibilities': 4890, 'autolyzed': 4891, 'enhancer': 4892, '11g': 4893, 'furry': 4894, 'absorb': 4895, 'queen': 4896, 'won': 4897, 'anybody': 4898, 'supplier': 4899, 'gelatinous': 4900, 'styles': 4901, 'jitters': 4902, '65': 4903, 'signs': 4904, 'fog': 4905, 'sons': 4906, 'cooks': 4907, 'petco': 4908, 'seep': 4909, 'cools': 4910, 'rotel': 4911, 'shreds': 4912, 'chickens': 4913, 'farm': 4914, 'neatly': 4915, 'pefect': 4916, 'accepted': 4917, 'fool': 4918, 'sf': 4919, 'repackaged': 4920, 'grate': 4921, 'fox': 4922, \"jack's\": 4923, 'percent': 4924, 'deceived': 4925, 'wording': 4926, 'pledge': 4927, 'develop': 4928, 'scattered': 4929, 'lil': 4930, 'goldfish': 4931, 'covering': 4932, 'walking': 4933, 'reader': 4934, 'fritos': 4935, 'americolor': 4936, 'airbrush': 4937, '5g': 4938, 'victoria': 4939, 'lesser': 4940, 'pristine': 4941, 'macaroni': 4942, 'neon': 4943, 'ins': 4944, 'avoiding': 4945, 'abundance': 4946, 'rishi': 4947, 'gentle': 4948, 'reverse': 4949, 'dissolved': 4950, 'fudgy': 4951, 'watchers': 4952, 'seemingly': 4953, 'flu': 4954, 'sees': 4955, 'alright': 4956, 'annie': 4957, 'girlie': 4958, 'daddy': 4959, 'mam': 4960, 'nuk': 4961, 'masculine': 4962, 'supporting': 4963, 'sales': 4964, 'chest': 4965, 'whiff': 4966, 'rolo': 4967, 'sniffs': 4968, 'conditions': 4969, 'crock': 4970, 'medicinals': 4971, 'aniseed': 4972, 'teacup': 4973, 'caveat': 4974, '2lbs': 4975, 'blew': 4976, 'superfood': 4977, 'mystery': 4978, 'stage': 4979, 'nabisco': 4980, 'stressful': 4981, 'blast': 4982, 'component': 4983, 'fulvic': 4984, 'soaked': 4985, 'leafs': 4986, 'honesty': 4987, 'painfully': 4988, 'oxidized': 4989, 'jeans': 4990, \"gj's\": 4991, 'hiding': 4992, 'euro': 4993, 'jakobs': 4994, 'fedex': 4995, 'vendors': 4996, 'hcg': 4997, 'incubator': 4998, 'culture': 4999, 'breaks': 5000, 'tartness': 5001, 'maximum': 5002, 'laws': 5003, 'puff': 5004, 'acids': 5005, 'waxy': 5006, 'humane': 5007, 'twigs': 5008, \"hershey's\": 5009, 'dissolving': 5010, 'discussion': 5011, 'prepackaged': 5012, 'debate': 5013, 'prepacked': 5014, 'realistic': 5015, 'trucks': 5016, 'j': 5017, 'orangina': 5018, \"where's\": 5019, 'crema': 5020, 'tractor': 5021, 'parsley': 5022, 'thyme': 5023, 'fairness': 5024, 'silver': 5025, 'european': 5026, 'foul': 5027, 'ny': 5028, 'wc': 5029, 'grandchildren': 5030, 'difficulty': 5031, 'worrisome': 5032, 'teens': 5033, 'ohio': 5034, '15g': 5035, \"wife's\": 5036, 'tots': 5037, 'groceries': 5038, 'damson': 5039, '2oz': 5040, 'disagree': 5041, \"fromm's\": 5042, 'evo': 5043, 'woof': 5044, 'shiraz': 5045, 'seriousness': 5046, 'mochi': 5047, 'btw': 5048, 'remain': 5049, 'incase': 5050, 'curls': 5051, 'everlasting': 5052, 'schedule': 5053, 'resulting': 5054, 'cart': 5055, 'excessive': 5056, 'bay': 5057, 'bumps': 5058, 'pesto': 5059, 'mile': 5060, 'trained': 5061, 'slowed': 5062, \"father's\": 5063, 'stuffing': 5064, 'shriveled': 5065, 'forcing': 5066, 'yucky': 5067, 'upcoming': 5068, 'pomegranate': 5069, 'alertness': 5070, 'effectiveness': 5071, 'alka': 5072, 'energized': 5073, 'factors': 5074, 'twin': 5075, 'cries': 5076, 'gingivitis': 5077, 'considerably': 5078, 'plato': 5079, 'purrs': 5080, 'hesitate': 5081, 'stops': 5082, 'swedish': 5083, 'cao': 5084, 'ey': 5085, 'lackluster': 5086, 'tribute': 5087, 'underlying': 5088, 'puffy': 5089, 'isnt': 5090, 'remote': 5091, 'accommodate': 5092, 'ekobrews': 5093, 'bedtime': 5094, 'underweight': 5095, 'hundreds': 5096, 'flys': 5097, 'handfuls': 5098, 'barbeque': 5099, 'shy': 5100, 'azz': 5101, 'gag': 5102, 'didnt': 5103, 'perky': 5104, 'male': 5105, 'sniff': 5106, 'weston': 5107, 'brushed': 5108, 'elderly': 5109, 'numbers': 5110, 'longevity': 5111, 'actively': 5112, 'breakdown': 5113, 'formulae': 5114, 'frothy': 5115, 'enticing': 5116, 'tannic': 5117, 'bam': 5118, 'image': 5119, 'gnaw': 5120, 'winding': 5121, 'safety': 5122, 'complained': 5123, 'treasured': 5124, 'unnatural': 5125, 'stomachs': 5126, 'manhattan': 5127, 'petshop': 5128, 'hollistic': 5129, 'begins': 5130, 'diarhia': 5131, 'higly': 5132, 'chimp': 5133, 'abuse': 5134, 'giant': 5135, 'dram': 5136, 'matzo': 5137, 'cap': 5138, 'heritage': 5139, 'runnier': 5140, 'figuring': 5141, \"gigi's\": 5142, 'tempt': 5143, 'pât': 5144, 'prickly': 5145, 'snuggle': 5146, 'mama': 5147, 'crunched': 5148, 'stepped': 5149, 'smoothest': 5150, 'brooklyn': 5151, 'preschoolers': 5152, 'gulps': 5153, 'theese': 5154, 'senior': 5155, 'sniffed': 5156, 'names': 5157, 'hips': 5158, 'romantic': 5159, 'forest': 5160, 'horrified': 5161, 'clam': 5162, 'team': 5163, 'compost': 5164, 'citrusy': 5165, 'bin': 5166, 'vegetation': 5167, 'sprayed': 5168, 'brazilian': 5169, 'thicken': 5170, 'jalape': 5171, 'ntilde': 5172, 'whirley': 5173, 'bloom': 5174, 'weakness': 5175, 'mommy': 5176, 'crispies': 5177, 'snake': 5178, 'settle': 5179, 'dishwasher': 5180, 'inches': 5181, 'freak': 5182, 'jane': 5183, 'parker': 5184, 'tiramisu': 5185, 'hotel': 5186, 'li': 5187, 'hing': 5188, 'mui': 5189, 'spitz': 5190, 'wayyyy': 5191, 'chewie': 5192, 'denna': 5193, 'laying': 5194, 'paw': 5195, 'shatter': 5196, 'handed': 5197, 'releasing': 5198, 'bakes': 5199, 'cookbook': 5200, '350': 5201, 'consistent': 5202, 'shocking': 5203, 'flor': 5204, 'lingering': 5205, 'zealand': 5206, 'cares': 5207, 'wierd': 5208, 'droste': 5209, 'brownee': 5210, 'helper': 5211, 'nissin': 5212, 'optimal': 5213, \"bff's\": 5214, 'valentine': 5215, \"weruva's\": 5216, 'amara': 5217, 'recovery': 5218, 'streusel': 5219, 'comical': 5220, 'removes': 5221, 'centers': 5222, 'bleu': 5223, 'community': 5224, 'awsome': 5225, 'snyders': 5226, 'deals': 5227, '29': 5228, 'marrakesh': 5229, 'sub': 5230, 'receives': 5231, 'oilier': 5232, 'view': 5233, 'porcini': 5234, 'recall': 5235, 'marco': 5236, 'giannini': 5237, 'catswell': 5238, 'itchmoforums': 5239, 'corned': 5240, 'trim': 5241, \"lipton's\": 5242, 'direction': 5243, 'released': 5244, 'hy': 5245, 'drawers': 5246, 'column': 5247, 'jammed': 5248, 'slide': 5249, 'stuffy': 5250, 'manicardi': 5251, 'owned': 5252, 'trail': 5253, 'asks': 5254, 'sap': 5255, 'philippines': 5256, 'seven': 5257, 'cautious': 5258, 'espressione': 5259, '150': 5260, \"ol'\": 5261, 'trend': 5262, 'dan': 5263, 'kups': 5264, 'uncomfortable': 5265, 'slap': 5266, 'tangerine': 5267, 'display': 5268, 'coma': 5269, \"season's\": 5270, 'spaniel': 5271, 'howling': 5272, 'safely': 5273, 'release': 5274, 'vomiting': 5275, 'fluoride': 5276, 'halves': 5277, 'demaged': 5278, 'orgran': 5279, 'sink': 5280, \"em'\": 5281, 'texmati': 5282, 'oysters': 5283, 'bugs': 5284, 'gro': 5285, 'fungus': 5286, 'rot': 5287, 'damp': 5288, 'postum': 5289, 'pero': 5290, \"kohl's\": 5291, 'gastritis': 5292, 'endoscopy': 5293, 'pylori': 5294, 'wedderspoon': 5295, 'r': 5296, 'boogers': 5297, 'adapter': 5298, 'inflamed': 5299, 'consists': 5300, 'blotting': 5301, 'observed': 5302, \"nonni's\": 5303, 'flaw': 5304, 'vitaminlife': 5305, 'carne': 5306, 'seca': 5307, 'muscular': 5308, 'hydrating': 5309, 'desperately': 5310, 'basting': 5311, 'bry': 5312, '2009': 5313, 'coolers': 5314, 'tentative': 5315, 'proceed': 5316, 'colitis': 5317, 'defect': 5318, 'conclude': 5319, 'extraction': 5320, 'grrrreat': 5321, 'kongs': 5322, \"stuff'n\": 5323, 'whoops': 5324, 'loma': 5325, 'linda': 5326, 'deployed': 5327, 'stationed': 5328, 'ahem': 5329, 'pause': 5330, 'fictional': 5331, 'vein': 5332, 'jemima': 5333, 'keebler': 5334, 'elves': 5335, 'excuse': 5336, 'dubious': 5337, 'duplicate': 5338, 'commit': 5339, \"michael's\": 5340, 'passes': 5341, 'gnawers': 5342, 'nylabones': 5343, \"'bite'\": 5344, 'mikey': 5345, 'charming': 5346, 'teddy': 5347, 'recipient': 5348, 'ron': 5349, 'roland': 5350, 'crystallized': 5351, 'compote': 5352, 'manaufactured': 5353, 'dongwon': 5354, 'korean': 5355, 'bigalow': 5356, 'gnosses': 5357, 'dk': 5358, 'mmmost': 5359, 'genmai': 5360, 'cha': 5361, 'sandra': 5362, 'wa': 5363, 'unsweet': 5364, 'reverend': 5365, 'sylvester': 5366, \"graham's\": 5367, 'vision': 5368, 'suppress': 5369, 'carnal': 5370, 'urges': 5371, 'b000lkvr3s': 5372, 'presentation': 5373, 'identified': 5374, 'region': 5375, 'fittingly': 5376, 'unadulterated': 5377, 'hay': 5378, 'infuse': 5379, \"i'v\": 5380, 'unpasturized': 5381, 'psoriasis': 5382, 'lotion': 5383, 'gramas': 5384, \"emerald's\": 5385, 'smother': 5386, 'ergonomic': 5387, 'garnishment': 5388, 'enhancement': 5389, 'synomymous': 5390, 'ghirardelli': 5391, 'malted': 5392, 'thermally': 5393, 'frequented': 5394, 'weed': 5395, 'soya': 5396, 'bum': 5397, 'circle': 5398, 'perfectionist': 5399, 'rattle': 5400, 'moldable': 5401, 'doh': 5402, \"'subscribe\": 5403, \"save'\": 5404, \"henry's\": 5405, 'ribs': 5406, 'succulent': 5407, 'convection': 5408, 'leans': 5409, \"say's\": 5410, 'crunchiness': 5411, 'scaled': 5412, 'overwhelm': 5413, 'skyrocketing': 5414, 'uncle': 5415, 'startled': 5416, 'compacts': 5417, 'sprouter': 5418, 'clearer': 5419, 'hulled': 5420, \"'kasha'\": 5421, 'pat': 5422, '1100': 5423, 'watt': 5424, 'wattage': 5425, \"owner's\": 5426, 'manual': 5427, 'intervals': 5428, 'pyrex': 5429, 'exclaim': 5430, 'asap': 5431, '38': 5432, 'yoki': 5433, 'attempting': 5434, 'interned': 5435, '68': 5436, 'googling': 5437, 'monitor': 5438, 'antiseptic': 5439, 'enzymes': 5440, 'mason': 5441, 'bridal': 5442, 'fantastically': 5443, 'delious': 5444, 'iv': 5445, 'redbull': 5446, 'throws': 5447, 'da': 5448, 'seekers': 5449, 'lozenge': 5450, 'arguable': 5451, 'chuggle': 5452, 'puggle': 5453, 'colleagues': 5454, 'swayed': 5455, 'seeming': 5456, 'albanese': 5457, 'touted': 5458, 'respected': 5459, 'nutritionist': 5460, 'yamamotoyama': 5461, 'wholefoods': 5462, 'margarita': 5463, 'bitlike': 5464, 'pours': 5465, \"what'd\": 5466, 'rude': 5467, 'condescending': 5468, 'unhelpful': 5469, 'account': 5470, 'despoiling': 5471, 'vegetarians': 5472, 'chair': 5473, 'calculation': 5474, 'blackberries': 5475, 'cobbler': 5476, 'bombay': 5477, 'environmentally': 5478, 'huh': 5479, \"'tricky'\": 5480, 'labeling': 5481, 'expressing': 5482, 'repsonse': 5483, 'welleness': 5484, 'horrid': 5485, 'nauseating': 5486, 'mo': 5487, 'invigorates': 5488, 'eb': 5489, 'morell': 5490, 'pricewhys': 5491, '41': 5492, 'toasty': 5493, 'enthused': 5494, 'earty': 5495, 'involves': 5496, 'tootsie': 5497, 'gourmand': 5498, 'strangely': 5499, \"lay's\": 5500, \"'if'\": 5501, 'surveys': 5502, 'comparisons': 5503, 'bottls': 5504, 'detraction': 5505, 'controlled': 5506, 'filth': 5507, 'lathery': 5508, 'agitate': 5509, 'lather': 5510, 'parts': 5511, 'odors': 5512, 'aids': 5513, 'fromt': 5514, 'reimbursed': 5515, 'accompanies': 5516, 'survey': 5517, 'request': 5518, 'incorrect': 5519, 'egbert': 5520, 'establishments': 5521, 'resell': 5522, 'deeming': 5523, 'hearted': 5524, 'brave': 5525, 'reliever': 5526, 'resistance': 5527, 'normalizing': 5528, 'imbalances': 5529, 'tincture': 5530, 'prophyllactic': 5531, 'richly': 5532, 'endowed': 5533, 'bioavailable': 5534, 'antioxidants': 5535, 'bg': 5536, 'minus': 5537, 'snip': 5538, 'rinsing': 5539, 'carrousel': 5540, 'spiffy': 5541, 'shoot': 5542, 'midday': 5543, 'b001cu0n36': 5544, 'clumpy': 5545, 'compacted': 5546, 'fork': 5547, 'infusers': 5548, 'verity': 5549, 'flaver': 5550, 'lobe': 5551, \"jerky's\": 5552, 'saffron': 5553, 'pheasant': 5554, 'shiba': 5555, 'inu': 5556, 'requesting': 5557, 'scraps': 5558, \"chewey's\": 5559, 'cak': 5560, 'er': 5561, 'tm': 5562, 'essences': 5563, 'groups': 5564, 'loops': 5565, 'spills': 5566, 'motto': 5567, 'becuase': 5568, 'parchment': 5569, 'sicilian': 5570, 'margherita': 5571, 'chebe': 5572, 'trainer': 5573, 'regiment': 5574, 'pleasingly': 5575, 'providing': 5576, \"'fresh'\": 5577, 'attacks': 5578, 'essential': 5579, 'bergin': 5580, 'maypo': 5581, 'atleast': 5582, 'russet': 5583, 'b000g6q4gm': 5584, 'overpowered': 5585, 'york': 5586, 'allstate': 5587, 'cherrybrook': 5588, 'cross': 5589, \"nephew's\": 5590, 'crank': 5591, 'church': 5592, 'judged': 5593, 'condenses': 5594, 'lifetime': 5595, 'poo': 5596, 'unrecognizable': 5597, 'salted': 5598, 'scotsman': 5599, '19th': 5600, 'century': 5601, 'edinburgh': 5602, 'drysdale': 5603, \"drysdale's\": 5604, 'appropriated': 5605, 'fitting': 5606, 'scots': 5607, 'potent': 5608, 'amplified': 5609, 'distinctly': 5610, 'caledonian': 5611, 'haggis': 5612, \"scotland's\": 5613, 'whiskies': 5614, 'uisgue': 5615, 'beatha': 5616, 'flowing': 5617, 'horse': 5618, 'sibling': 5619, 'b001eq4qjk': 5620, 'romaine': 5621, 'lettuces': 5622, 'domes': 5623, 'planted': 5624, 'nibbles': 5625, 'denser': 5626, 'destructive': 5627, 'beast': 5628, 'sanora': 5629, 'questioning': 5630, '43': 5631, 'halos': 5632, 'juan': 5633, 'valdez': 5634, 'conversation': 5635, \"jane's\": 5636, 'krazy': 5637, 'conflicted': 5638, 'strengthens': 5639, 'gravies': 5640, 'attempts': 5641, 'altoid': 5642, 'goopy': 5643, 'mayonaisey': 5644, 'entertain': 5645, 'distractions': 5646, 'hyper': 5647, 'ashtray': 5648, 'b000gjq5c2': 5649, 'tortuga': 5650, 'grasses': 5651, 'closet': 5652, 'planting': 5653, 'lit': 5654, 'higgins': 5655, 'burke': 5656, 'cardomom': 5657, 'cloves': 5658, 'backwards': 5659, 'tomotoes': 5660, 'scooper': 5661, 'glue': 5662, 'astounded': 5663, 'marshmallow': 5664, 'medline': 5665, 'junkie': 5666, 'miraculous': 5667, 'substance': 5668, 'dramatically': 5669, 'insomnia': 5670, 'restful': 5671, 'spectacularly': 5672, 'crisis': 5673, 'situations': 5674, 'decreased': 5675, 'soreness': 5676, 'transit': 5677, 'americans': 5678, 'margaret': 5679, 'seelig': 5680, 'carolyn': 5681, 'dean': 5682, 'immediate': 5683, 'kinnickinnick': 5684, 'facility': 5685, 'hug': 5686, 'nutri': 5687, 'limits': 5688, 'pliable': 5689, 'designer': 5690, 'elegant': 5691, \"numi's\": 5692, 'puerh': 5693, \"tazo's\": 5694, \"bija's\": 5695, \"rainforest's\": 5696, 'shipo': 5697, 'muddiness': 5698, 'bless': 5699, 'sincerely': 5700, 'ms': 5701, 'esquivel': 5702, 'crunchies': 5703, 'froze': 5704, 'thawing': 5705, 'smoker': 5706, 'alder': 5707, 'represented': 5708, 'wp': 5709, 'botter': 5710, 'morter': 5711, 'jobs': 5712, 'marble': 5713, 'yankee': 5714, 'undeniably': 5715, 'interlocking': 5716, 'paperclips': 5717, 'elderflower': 5718, 'cordial': 5719, 'sweden': 5720, \"'weedy'\": 5721, 'stovetop': 5722, 'suspension': 5723, 'sugariness': 5724, 'clump': 5725, 'worthy': 5726, 'fritters': 5727, 'claws': 5728, 'literary': 5729, 'roam': 5730, '2liter': 5731, 'soured': 5732, 'moderation': 5733, 'rope': 5734, 'busier': 5735, 'hardwood': 5736, \"luke's\": 5737, 'adored': 5738, 'airedale': 5739, 'smacks': 5740, 'politely': 5741, 'luke': 5742, 'respond': 5743, 'vivani': 5744, 'kimtufford': 5745, 'oki': 5746, 'fpo': 5747, 'ap': 5748, 'additcted': 5749, '299': 5750, \"bigelow's\": 5751, \"twinings'\": 5752, 'sprig': 5753, 'horsetail': 5754, 'bas': 5755, 'supplementally': 5756, 'subject': 5757, 'termed': 5758, 'industry': 5759, 'criticism': 5760, 'comforting': 5761, 'sangria': 5762, \"'hard\": 5763, 'repetition': 5764, 'pallet': 5765, 'eggnog': 5766, 'dial': 5767, 'creaminess': 5768, 'cinamaon': 5769, \"ralph's\": 5770, \"mom's\": 5771, 'satisfaction': 5772, 'availability': 5773, 'matts': 5774, 'cheat': 5775, 'apportion': 5776, 'scam': 5777, 'contesting': 5778, 'lifted': 5779, 'deliveries': 5780, 'automatically': 5781, 'detail': 5782, 'allthetime': 5783, 'spreading': 5784, \"klein's\": 5785, 'flimsly': 5786, 'cinnabon': 5787, 'flights': 5788, 'airline': 5789, 'scramble': 5790, 'blaming': 5791, 'creating': 5792, 'blind': 5793, 'rotating': 5794, 'rotation': 5795, 'appetizer': 5796, 'picker': 5797, 'lighty': 5798, 'bellies': 5799, 'treaters': 5800, 'b000ikdiwy': 5801, 'exams': 5802, 'fatigue': 5803, 'advise': 5804, 'overcome': 5805, 'lessen': 5806, \"money's\": 5807, 'connecticut': 5808, 'rapidly': 5809, 'strings': 5810, 'annoyance': 5811, 'deeply': 5812, 'font': 5813, 'usda': 5814, 'haveing': 5815, 'clever': 5816, 'tug': 5817, 'intelligence': 5818, 'occupy': 5819, 'dispensing': 5820, 'stealing': 5821, 'qualified': 5822, 'remark': 5823, 'nov': 5824, 'explore': 5825, \"costco's\": 5826, 'surcharge': 5827, 'tax': 5828, 'divine': 5829, 'scouts': 5830, 'reliably': 5831, \"liebovitz's\": 5832, 'verified': 5833, 'overheard': 5834, 'approached': 5835, 'invited': 5836, 'smiled': 5837, 'nodded': 5838, 'glasses': 5839, 'milkfat': 5840, 'extending': 5841, 'pyrotechnics': 5842, 'firecrackers': 5843, 'sexy': 5844, 'associate': 5845, 'namesake': 5846, 'founder': 5847, 'chuck': 5848, \"genuardi's\": 5849, 'battled': 5850, 'credible': 5851, 'implying': 5852, 'fuzzy': 5853, 'promoted': 5854, 'exercising': 5855, \"do'sn't\": 5856, 'neet': 5857, 'sporl': 5858, 'flavourable': 5859, 'dipping': 5860, 'coleslaw': 5861, 'dumplings': 5862, 'definitive': 5863, 'highlights': 5864, 'cascading': 5865, 'bargained': 5866, 'apparent': 5867, 'rhyme': 5868, 'neighbours': 5869, 'consensus': 5870, 'enjoyment': 5871, 'fluffy': 5872, 'sugarless': 5873, 'scarf': 5874, 'lap': 5875, 'angrily': 5876, 'viable': 5877, 'refridgerator': 5878, 'hellooooo': 5879, 'overflowing': 5880, \"'cause\": 5881, 'ahhhh': 5882, 'ubstitute': 5883, 'confectionary': 5884, \"eventho'\": 5885, 'excelent': 5886, 'concentration': 5887, 'seawater': 5888, 'varies': 5889, 'gentile': 5890, 'cellar': 5891, 'cvb': 5892, 'loaned': 5893, 'cassette': 5894, 'revolutionary': 5895, 'sweetheart': 5896, 'catalog': 5897, 'lp': 5898, 'titled': 5899, 'album': 5900, 'cd': 5901, 'cigarettes': 5902, 'rabid': 5903, 'cds': 5904, 'rushed': 5905, '5th': 5906, 'lone': 5907, 'highlight': 5908, 'forgetable': 5909, 'election': 5910, 'eclectic': 5911, '1980s': 5912, 'waaaaaaaaaaaaay': 5913, 'contributes': 5914, 'charities': 5915, '900': 5916, 'choosing': 5917, 'consumersearch': 5918, 'pomegranet': 5919, \"'will\": 5920, 'offensive': 5921, 'wolfs': 5922, 'transitioned': 5923, \"google'd\": 5924, 'alarming': 5925, 'awakening': 5926, 'urban': 5927, 'gardening': 5928, '5000': 5929, 'shares': 5930, 'aerogrow': 5931, 'yanked': 5932, 'adequately': 5933, 'gherkins': 5934, 'tomatillos': 5935, 'experiments': 5936, 'eggplant': 5937, 'maturity': 5938, 'acquire': 5939, 'gigantic': 5940, 'sponges': 5941, 'ronco': 5942, 'knowledge': 5943, 'setup': 5944, 'prepara': 5945, 'construction': 5946, 'lighting': 5947, 'fixture': 5948, 'bulbs': 5949, 'daylight': 5950, 'brightens': 5951, 'north': 5952, 'esp': 5953, 'noise': 5954, 'operate': 5955, 'principle': 5956, 'model': 5957, 'whisper': 5958, 'quiet': 5959, 'lobby': 5960, 'aquarium': 5961, 'kwik': 5962, 'asia': 5963, 'origami': 5964, 'obiously': 5965, 'alaka': 5966, 'recieve': 5967, 'approval': 5968, 'signifies': 5969, 'teach': 5970, 'techniques': 5971, 'sweetie': 5972, 'likened': 5973, 'interpret': 5974, 'toughest': 5975, 'unpronouncable': 5976, 'tie': 5977, 'occupation': 5978, \"daddy's\": 5979, \"child's\": 5980, 'trickery': 5981, 'disguising': 5982, 'entertaining': 5983, 'ordinarily': 5984, 'solve': 5985, 'newly': 5986, 'sucked': 5987, 'rendering': 5988, 'hazard': 5989, 'competitors': 5990, 'forsee': 5991, 'stepping': 5992, 'recyclable': 5993, 'grated': 5994, 'distracted': 5995, 'medallions': 5996, 'instinct': 5997, 'disks': 5998, 'fenugreek': 5999, 'bearable': 6000, 'unfinished': 6001, 'controlling': 6002, 'leibkins': 6003, 'poptarts': 6004, 'torties': 6005, 'friskies': 6006, 'scienc': 6007, 'adulthood': 6008, 'reluctantly': 6009, '4oz': 6010, 'tortie': 6011, 'waddled': 6012, 'staritng': 6013, 'shine': 6014, 'swaying': 6015, 'flabby': 6016, '7oz': 6017, 'latest': 6018, 'ingested': 6019, 'formulation': 6020, \"would've\": 6021, 'unsuitable': 6022, 'granolas': 6023, '115mg': 6024, '299mg': 6025, '172': 6026, '425mg': 6027, '20g': 6028, '210': 6029, 'misprinted': 6030, 'multiples': 6031, 'rabbits': 6032, 'feedings': 6033, 'ralph': 6034, 'rivera': 6035, 'mesa': 6036, 'az': 6037, 'dashchund': 6038, 'minpin': 6039, '27': 6040, 'decafs': 6041, 'sellars': 6042, 'haste': 6043, 'odered': 6044, 'fee': 6045, 'kuerigs': 6046, 'precipitated': 6047, 'producers': 6048, 'artistic': 6049, 'grinds': 6050, 'forgettable': 6051, 'ethiopian': 6052, 'b001kyt6cs': 6053, 'opinions': 6054, 'cfh': 6055, 'awe': 6056, 'eligible': 6057, 'stank': 6058, 'rotten': 6059, 'handled': 6060, 'pitched': 6061, 'super5mix': 6062, 'schnauzers': 6063, 'ships': 6064, 'exercise': 6065, 'jams': 6066, 'pannetone': 6067, 'st': 6068, 'dalfour': 6069, 'sorrell': 6070, 'ridge': 6071, 'prohibitively': 6072, 'celebrate': 6073, \"danielle's\": 6074, 'magazines': 6075, 'll': 6076, 'chilli': 6077, 'indigo': 6078, 'moon': 6079, 'tiki': 6080, 'consequence': 6081, 'glossy': 6082, 'confess': 6083, 'shallow': 6084, 'react': 6085, 'backs': 6086, \"needn't\": 6087, 'wolfing': 6088, 'scuffle': 6089, 'presweetened': 6090, 'wannabe': 6091, 'hopeless': 6092, 'funds': 6093, 'lady': 6094, 'stroganoff': 6095, 'aweful': 6096, 'defiantely': 6097, 'egrave': 6098, 'brul': 6099, 'crapy': 6100, 'giraffes': 6101, 'snackimals': 6102, 'inspired': 6103, 'influenster': 6104, 'instances': 6105, \"'normally'\": 6106, 'gulp': 6107, 'theatre': 6108, 'purchsed': 6109, 'march': 6110, 'suprised': 6111, 'festive': 6112, \"'celiac'\": 6113, 'journey': 6114, \"pro's\": 6115, \"'maiden\": 6116, \"voyage'\": 6117, 'rise': 6118, 'craisins': 6119, 'brimming': 6120, 'height': 6121, 'experiece': 6122, 'cease': 6123, 'digestible': 6124, 'canada': 6125, 'magnificent': 6126, 'supercritical': 6127, 'chapter': 6128, 'dandelion': 6129, 'gut': 6130, 'eve': 6131, 'bs': 6132, 'balk': 6133, 'inserting': 6134, 'poster': 6135, 'jerkey': 6136, 'ferrets': 6137, 'nicknamed': 6138, 'porkie': 6139, 'tubby': 6140, 'slouch': 6141, 'nortorious': 6142, 'teenie': 6143, 'lites': 6144, 'b001e0qe1y': 6145, 'crispbreads': 6146, 'stairs': 6147, 'marriott': 6148, 'hotels': 6149, 'parfait': 6150, 'layering': 6151, 'crumby': 6152, 'thirds': 6153, 'compliments': 6154, 'acrid': 6155, 'smokier': 6156, 'glitterati': 6157, \"teavana's\": 6158, 'waft': 6159, 'harriods': 6160, 'london': 6161, 'principles': 6162, 'couponing': 6163, 'budgeting': 6164, 'phase': 6165, 'chowder': 6166, \"dresser's\": 6167, 'folders': 6168, 'owns': 6169, 'assessment': 6170, 'lively': 6171, 'chefs': 6172, 'ali': 6173, 'julia': 6174, \"viszla's\": 6175, 'tendons': 6176, 'fruitcake': 6177, \"1950's\": 6178, 'counterfeit': 6179, 'forth': 6180, 'assured': 6181, \"1970's\": 6182, 'attitude': 6183, 'observing': 6184, 'replacements': 6185, 'grieving': 6186, 'loooove': 6187, 'additionally': 6188, 'overloaded': 6189, '6yo': 6190, 'flaws': 6191, 'tracking': 6192, 'irritating': 6193, 'scooping': 6194, 'toilet': 6195, 'clog': 6196, 'trap': 6197, 'b0035m36bk': 6198, '60gal': 6199, 'homedepot': 6200, 'lowes': 6201, 'oval': 6202, 'capacity': 6203, 'costing': 6204, 'diy': 6205, 'b0002zs20i': 6206, 'clevercat': 6207, 'entry': 6208, 'litterbox': 6209, 'guidance': 6210, '2tbs': 6211, 'measurements': 6212, 'weigh': 6213, 'affects': 6214, '2c': 6215, 'strengths': 6216, 'britain': 6217, 'wishy': 6218, 'washy': 6219, 'belgium': 6220, 'selecting': 6221, 'imagination': 6222, 'characters': 6223, 'makeup': 6224, 'elementary': 6225, 'recommendation': 6226, 'merrick': 6227, 'organixs': 6228, 'woo': 6229, 'hoo': 6230, 'amy': 6231, 'carring': 6232, 'spoonfulls': 6233, 'batali': 6234, 'waited': 6235, 'garlicky': 6236, 'lets': 6237, 'plumb': 6238, \"'ole\": 6239, 'advancement': 6240, 'mary': 6241, 'network': 6242, 'magazine': 6243, \"'everything'\": 6244, 'peeled': 6245, 'fared': 6246, 'thorough': 6247, 'cancel': 6248, 'magically': 6249, 'gnawhide': 6250, 'occupied': 6251, 'petshops': 6252, 'calif': 6253, 'ministrone': 6254, 'tests': 6255, 'reduces': 6256, 'grapes': 6257, 'frig': 6258, 'focused': 6259, 'ants': 6260, 'established': 6261, 'barrier': 6262, 'afghanistan': 6263, 'apo': 6264, 'shakeology': 6265, '12oz': 6266, \"get's\": 6267, 'senso': 6268, 'thrived': 6269, 'afer': 6270, 'explosive': 6271, 'lethargy': 6272, 'varying': 6273, 'pedigrees': 6274, 'bottomline': 6275, 'declined': 6276, 'recovering': 6277, 'las': 6278, 'vegas': 6279, 'roulette': 6280, 'heartache': 6281, 'formuals': 6282, 'recovered': 6283, 'fenceline': 6284, 'greeting': 6285, 'lethergic': 6286, 'crew': 6287, 'websites': 6288, \"'flag\": 6289, \"wavers'\": 6290, 'vindications': 6291, 'personnal': 6292, 'illnesses': 6293, \"'pack'\": 6294, 'recover': 6295, \"'beloved\": 6296, \"members'\": 6297, 'undergo': 6298, 'bias': 6299, 'recommending': 6300, 'caveate': 6301, \"'however\": 6302, 'dfa': 6303, 'risen': 6304, \"'\": 6305, \"'four\": 6306, \"furry'\": 6307, 'steered': 6308, 'astoundingly': 6309, 'ethiopia': 6310, 'yiragacheffe': 6311, 'compile': 6312, 'naked': 6313, 'calling': 6314, 'bummer': 6315, 'glucose': 6316, 'fr': 6317, 'sprightly': 6318, 'created': 6319, 'legend': 6320, 'presented': 6321, 'whose': 6322, \"grey's\": 6323, 'jacksons': 6324, 'piccadilly': 6325, 'commercially': 6326, 'expertise': 6327, 'utilized': 6328, 'worlds': 6329, 'elevation': 6330, 'gardens': 6331, 'nuwara': 6332, 'eliya': 6333, 'uva': 6334, 'dimbula': 6335, 'sri': 6336, 'lanka': 6337, 'northeast': 6338, 'complement': 6339, 'powerfully': 6340, 'woodsy': 6341, 'splendid': 6342, 'perfumed': 6343, 'sensual': 6344, 'hight': 6345, 'picnic': 6346, 'flows': 6347, 'freely': 6348, \"'pocket\": 6349, \"coffees'\": 6350, 'downgrade': 6351, 'microwaved': 6352, 'disintegrated': 6353, 'structurally': 6354, 'replaces': 6355, 'ranging': 6356, 'peerless': 6357, 'bon': 6358, 'reality': 6359, 'sheets': 6360, 'bubbles': 6361, \"cola's\": 6362, 'oxidizing': 6363, 'rays': 6364, 'accounts': 6365, 'infuser': 6366, 'fermentation': 6367, 'oxidation': 6368, 'catechins': 6369, 'degraded': 6370, 'hyperbole': 6371, 'rounded': 6372, 'infusions': 6373, 'armpits': 6374, 'lymph': 6375, 'nodes': 6376, 'fertilize': 6377, 'mulch': 6378, 'respectably': 6379, 'wilt': 6380, 'shed': 6381, 'survived': 6382, 'bathtub': 6383, 'contaminated': 6384, 'metals': 6385, 'toxin': 6386, \"kids'\": 6387, 'oak': 6388, 'warms': 6389, 'pita': 6390, 'chop': 6391, 'mince': 6392, 'cummin': 6393, 'debis': 6394, 'b001e5e2cw': 6395, 'wadi': 6396, 'breastfeeding': 6397, 'restoring': 6398, 'breastmilk': 6399, 'landfill': 6400, 'forests': 6401, 'song': 6402, 'habitat': 6403, 'shopped': 6404, 'kosher': 6405, 'dining': 6406, 'attributes': 6407, 'deny': 6408, 'parachute': 6409, 'rebuy': 6410, 'cloie': 6411, 'lays': 6412, \"cup's\": 6413, 'marshmallowy': 6414, 'bourbon': 6415, 'scotch': 6416, \"rum's\": 6417, 'hots': 6418, 'labelled': 6419, 'sunbuttter': 6420, 'sunbutter': 6421, '14ct': 6422, 'pkgs': 6423, 'develops': 6424, 'icy': 6425, 'cutest': 6426, 'donkey': 6427, 'funniest': 6428, 'skinless': 6429, 'branded': 6430, 'ish': 6431, 'rosy': 6432, 'shelby': 6433, 'sealable': 6434, 'karen': 6435, 'spinal': 6436, 'exaggeration': 6437, 'pulpy': 6438, 'chantea': 6439, 'vera': 6440, 'disconcerting': 6441, 'swig': 6442, 'detracts': 6443, 'bitten': 6444, 'guzzle': 6445, 'bakey': 6446, 'absoloutly': 6447, 'intaking': 6448, 'transparent': 6449, 'details': 6450, 'grandpa': 6451, 'cairbou': 6452, 'captured': 6453, 'argument': 6454, 'exists': 6455, '11oz': 6456, 'merits': 6457, 'ziploc': 6458, 'b000kjrf40': 6459, 'purshase': 6460, 'aldi': 6461, 'mestemacher': 6462, 'freezes': 6463, 'anna': 6464, 'yuuummmmmmmmmy': 6465, 'converted': 6466, 'deliciously': 6467, 'coworkers': 6468, 'patak': 6469, 'undercook': 6470, 'simmer': 6471, 'colorado': 6472, 'snowy': 6473, 'snapea': 6474, 'crisps': 6475, 'caesar': 6476, 'pots': 6477, 'b0060jnae8': 6478, 'virgin': 6479, 'inform': 6480, 'hearing': 6481, 'exploding': 6482, 'bicarbonate': 6483, 'carrageenan': 6484, 'coca': 6485, 'license': 6486, 'ilko': 6487, 'denmark': 6488, 'granulated': 6489, 'nervous': 6490, 'fluke': 6491, \"wolfe's\": 6492, 'longevitywarehouse': 6493, 'radiation': 6494, 'ocean': 6495, 'broadcasting': 6496, 'incriminate': 6497, 'youtube': 6498, 'happening': 6499, 'boycotting': 6500, 'media': 6501, 'enenews': 6502, 'university': 6503, 'professors': 6504, 'harvested': 6505, 'risky': 6506, 'himalayas': 6507, \"fukushima's\": 6508, 'thoughtful': 6509, \"boss's\": 6510, 'excitedly': 6511, 'tienda': 6512, 'orginally': 6513, 'churpichew': 6514, 'lov684': 6515, 'shelled': 6516, 'upload': 6517, 'repugnant': 6518, 'kiss': 6519, 'reminded': 6520, 'deter': 6521, 'pooshon': 6522, 'inverts': 6523, 'strainer': 6524, 'nestles': 6525, 'contender': 6526, 'b00161dvfs': 6527, 'tony': 6528, 'creole': 6529, 'christel': 6530, 'transformed': 6531, 'greedily': 6532, 'shoveled': 6533, 'shovel': 6534, 'detracted': 6535, 'deterred': 6536, 'swift': 6537, 'completion': 6538, 'appointed': 6539, 'task': 6540, 'notices': 6541, 'advertsed': 6542, 'seamstress': 6543, 'lt': 6544, 'materials': 6545, 'justify': 6546, 'furthermore': 6547, 'friction': 6548, 'clasp': 6549, 'seamed': 6550, 'markup': 6551, 'paint': 6552, 'strainig': 6553, 'thinned': 6554, 'truffel': 6555, \"'plantin'\": 6556, 'resembles': 6557, 'wienie': 6558, 'glazed': 6559, 'choochoo': 6560, 'incomplete': 6561, 'responding': 6562, 'paypal': 6563, 'strung': 6564, 'expose': 6565, 'smidge': 6566, \"pe's\": 6567, \"tow's\": 6568, \"purina's\": 6569, 'obligate': 6570, 'carnivores': 6571, 'pe': 6572, '34': 6573, 'bullet': 6574, 'brood': 6575, 'carnation': 6576, 'grief': 6577, 'nurse': 6578, 'knocking': 6579, 'telephone': 6580, 'cellular': 6581, 'landed': 6582, 'limbs': 6583, 'driveway': 6584, 'blocking': 6585, 'exit': 6586, 'flashlights': 6587, 'batteries': 6588, 'candles': 6589, 'physical': 6590, 'lunchtime': 6591, \"mcdonald's\": 6592, 'alert': 6593, 'apologized': 6594, 'grrrr': 6595, 'unknown': 6596, 'inviting': 6597, 'collapse': 6598, 'mmmmmmmmm': 6599, 'ss': 6600, \"herrs'\": 6601, 'ketchup': 6602, 'canadian': 6603, 'records': 6604, 'shift': 6605, 'brakes': 6606, 'seat': 6607, 'cells': 6608, 'depression': 6609, 'generalized': 6610, 'leukemia': 6611, 'portland': 6612, 'resource': 6613, 'whirly': 6614, 'trumping': 6615, 'ruby': 6616, 'devised': 6617, 'immersion': 6618, 'breeze': 6619, 'equals': 6620, 'ease': 6621, \"'''\": 6622, 'hmmm': 6623, 'angle': 6624, 'dig': 6625, 'statement': 6626, 'drenched': 6627, '7g': 6628, 'whopping': 6629, '230': 6630, 'chimed': 6631, 'dampened': 6632, 'overabundance': 6633, 'b001bz5fks': 6634, 'illegal': 6635, 'strictly': 6636, 'regulated': 6637, 'cows': 6638, 'travels': 6639, 'eatin': 6640, 'greasier': 6641, 'resection': 6642, 'diverticulitis': 6643, 'separates': 6644, 'inaccurate': 6645, 'enthusiastically': 6646, 'vastly': 6647, 'nothhing': 6648, 'offset': 6649, 'hike': 6650, 'ride': 6651, 'unlucky': 6652, 'spectatular': 6653, 'nebraska': 6654, 'behold': 6655, 'dock': 6656, 'tacoma': 6657, 'washington': 6658, 'dispensed': 6659, 'needle': 6660, 'cocoas': 6661, 'fuss': 6662, 'gear': 6663, \"zatarain's\": 6664, \"box's\": 6665, 'cubed': 6666, 'cajun': 6667, 'qualm': 6668, 'curly': 6669, 'daniels': 6670, 'streets': 6671, 'storefronts': 6672, 'amidst': 6673, \"istanbul's\": 6674, 'bosporus': 6675, 'window': 6676, \"turkey's\": 6677, 'illy': 6678, 'turks': 6679, 'scents': 6680, 'istanbul': 6681, 'cars': 6682, 'fingertips': 6683, 'himilaynan': 6684, 'yrs': 6685, 'd': 6686, 'amoretti': 6687, 'olde': 6688, 'cappiccino': 6689, 'cycle': 6690, 'lefted': 6691, 'looong': 6692, 'reckon': 6693, 'debris': 6694, 'emptied': 6695, 'scandals': 6696, 'melamine': 6697, 'poisoning': 6698, 'assistance': 6699, 'tocopherols': 6700, 'produts': 6701, 'commonly': 6702, '2000': 6703, \"'greasy'\": 6704, 'orijin': 6705, 'sloppy': 6706, \"'eye\": 6707, \"goop'\": 6708, \"'itchies'\": 6709, 'oct': 6710, \"sea's\": 6711, 'punching': 6712, 'punched': 6713, 'edited': 6714, 'encountering': 6715, 'commenting': 6716, 'quickest': 6717, 'bunn': 6718, '35400': 6719, '0003': 6720, 'pourover': 6721, 'nepal': 6722, 'memories': 6723, 'safflower': 6724, 'linoleic': 6725, 'muscles': 6726, 'sauted': 6727, 'vagetables': 6728, 'reward': 6729, 'wines': 6730, 'stout': 6731, 'mouse': 6732, 'trot': 6733, 'swim': 6734, 'undergoes': 6735, 'metamorphosis': 6736, 'harshness': 6737, 'detected': 6738, \"twining's\": 6739, 'kicking': 6740, 'preserving': 6741, 'pairs': 6742, 'frightening': 6743, 'shopper': 6744, 'obscure': 6745, 'disappearing': 6746, 'duh': 6747, 'overeat': 6748, 'finds': 6749, 'parcel': 6750, 'carriers': 6751, 'lemoney': 6752, 'pigging': 6753, 'greal': 6754, 'bunnell': 6755, 'wimpy': 6756, 'bare': 6757, 'ballooned': 6758, 'vibrant': 6759, 'bt': 6760, 'nothingness': 6761, '4c': 6762, '3c': 6763, 'corrected': 6764, \"haribo's\": 6765, \"charlene's\": 6766, \"club's\": 6767, 'thursday': 6768, 'delonghi': 6769, 'ec155': 6770, 'keys': 6771, 'proficiency': 6772, 'variables': 6773, 'tamping': 6774, 'proficient': 6775, 'expertly': 6776, 'pemican': 6777, 'taters': 6778, 'welllllllllll': 6779, 'thot': 6780, 'uniformly': 6781, 'heh': 6782, 'scalloped': 6783, 'disabled': 6784, 'arsenal': 6785, 'liberal': 6786, 'chobani': 6787, 'raves': 6788, 'bugaboos': 6789, 'hardcore': 6790, 'hfcs': 6791, 'plastics': 6792, 'striving': 6793, 'qo': 6794, 'lengthy': 6795, 'agreeable': 6796, 'crowns': 6797, 'prosthetic': 6798, 'octane': 6799, 'bio': 6800, 'discern': 6801, 'burner': 6802, 'venture': 6803, 'ah': 6804, 'mazing': 6805, 'strongest': 6806, 'cocunut': 6807, 'boys': 6808, 'exzema': 6809, 'deoderant': 6810, 'mana': 6811, 'potions': 6812, 'educational': 6813, 'teaches': 6814, 'poke': 6815, 'molotovs': 6816, 'focus': 6817, 'kudos': 6818, 'theirs': 6819, 'mist': 6820, 'impracticable': 6821, 'mr': 6822, 'pibb': 6823, 'solely': 6824, 'purist': 6825, 'korea': 6826, 'marmite': 6827, 'futures': 6828, 'ymu': 6829, 'capable': 6830, 'retard': 6831, 'crystallite': 6832, 'deduct': 6833, 'notification': 6834, 'translated': 6835, 'strategy': 6836, 'repellents': 6837, 'indicator': 6838, 'targeted': 6839, 'fences': 6840, 'openings': 6841, 'unfriendly': 6842, 'overrun': 6843, 'edit': 6844, 'pepped': 6845, 'filets': 6846, 'soymilk': 6847, 'qualify': 6848, 'globbed': 6849, '6lbs': 6850, 'chedder': 6851, 'subsides': 6852, 'deadens': 6853, 'enhancers': 6854, 'disability': 6855, 'midwest': 6856, 'thur': 6857, 'affiliates': 6858, '54': 6859, 'chocoholics': 6860, 'cockapoo': 6861, 'probiotics': 6862, 'milled': 6863, 'topped': 6864, 'cassoulet': 6865, 'unbleached': 6866, 'arose': 6867, 'elated': 6868, 'mmmmmm': 6869, 'aeropress': 6870, 'eco': 6871, 'numero': 6872, 'uno': 6873, 'tenderness': 6874, 'sinew': 6875, 'updating': 6876, 'gristle': 6877, 'pity': 6878, 'earths': 6879, 'rash': 6880, 'b00317es2a': 6881, 'fiberplus': 6882, 'drizzled': 6883, 'unsatisfying': 6884, 'overhead': 6885, 'unclogs': 6886, 'unclog': 6887, 'uncloging': 6888, \"joyva's\": 6889, 'movement': 6890, 'hip': 6891, 'appointment': 6892, 'motivators': 6893, 'session': 6894, 'pants': 6895, 'justice': 6896, 'rottweiler': 6897, 'bisquit': 6898, 'pickled': 6899, 'dynasty': 6900, 'suits': 6901, 'semolina': 6902, 'godsend': 6903, 'reflux': 6904, 'screams': 6905, 'poops': 6906, 'tummies': 6907, 'nutramigen': 6908, 'elecare': 6909, 'arrowhead': 6910, 'conceivably': 6911, 'roped': 6912, 'procduct': 6913, 'dedvlivery': 6914, 'cheezy': 6915, 'cheezeits': 6916, 'skyrocketed': 6917, 'pin': 6918, 'neven': 6919, 'hispanic': 6920, 'shea': 6921, 'regain': 6922, 'hormonal': 6923, 'shifts': 6924, 'showered': 6925, 'winning': 6926, 'simpler': 6927, 'clicks': 6928, 'implicity': 6929, 'destination': 6930, 'impecibly': 6931, 'field': 6932, 'arrangement': 6933, 'colours': 6934, 'frightened': 6935, '£': 6936, 'jelous': 6937, 'honeset': 6938, 'ecofriendly': 6939, 'wok': 6940, 'device': 6941, 'experimented': 6942, 'wound': 6943, 'protruding': 6944, 'strengthen': 6945, 'tamps': 6946, 'bloating': 6947, 'sealing': 6948, 'angelfood': 6949, 'yield': 6950, 'microwaveable': 6951, 'finesse': 6952, 'cleanses': 6953, 'ergonomically': 6954, 'spreads': 6955, 'combing': 6956, 'application': 6957, 'itchiness': 6958, 'stickiness': 6959, 'overstatement': 6960, 'bullysticks': 6961, 'suffice': 6962, 'suction': 6963, 'cupped': 6964, 'anticipation': 6965, \"product's\": 6966, 'innards': 6967, 'fries': 6968, 'eukanuba': 6969, 'cocohydro': 6970, 'incidents': 6971, 'goo': 6972, 'tale': 6973, 'rusks': 6974, 'bcs': 6975, 'buster': 6976, 'finnska': 6977, 'explicitly': 6978, 'cappucinos': 6979, 'listing': 6980, 'appeals': 6981, 'senses': 6982, 'sooooooo': 6983, 'maladies': 6984, 'spicing': 6985, 'b002lloe8k': 6986, 'sp': 6987, 'rechargeable': 6988, 'hellfire': 6989, 'brimstone': 6990, 'blackbird': 6991, 'favourites': 6992, 'encased': 6993, 'cellophane': 6994, 'shrink': 6995, 'blurbs': 6996, 'arrival': 6997, 'reassembled': 6998, 'ultimately': 6999, \"cook's\": 7000, 'b004qqa4kk': 7001, 'ref': 7002, 'cm': 7003, 'rev': 7004, 'prod': 7005, 'missouri': 7006, 'maids': 7007, 'tuff': 7008, 'asiago': 7009, 'bargains': 7010, 'igourmet': 7011, 'relationship': 7012, 'nephews': 7013, 'ticket': 7014, '360': 7015, 'tedious': 7016, 'tiresome': 7017, 'newfoundland': 7018, 'adversely': 7019, 'electing': 7020, 'disposacups': 7021, 'similarly': 7022, 'calming': 7023, 'irritant': 7024, 'uncandy': 7025, 'freshener': 7026, 'iris': 7027, 'perfumey': 7028, 'initiates': 7029, 'esb': 7030, 'beers': 7031, 'nicer': 7032, \"sen's\": 7033, 'acquiring': 7034, 'sworn': 7035, 'exaggerated': 7036, 'gushing': 7037, 'incorrectly': 7038, 'jiff': 7039, 'reacted': 7040, 'negatively': 7041, 'undecided': 7042, 'discouraging': 7043, 'flowed': 7044, 'ramekins': 7045, \"'everyday'\": 7046, 'differing': 7047, \"'safe'\": 7048, \"tea'\": 7049, 'desert': 7050, \"'less\": 7051, \"sugar'\": 7052, \"flavor'\": 7053, 'familiarize': 7054, \"chai'\": 7055, 'tmi': 7056, 'hometown': 7057, \"terry's\": 7058, 'subjected': 7059, 'resolidified': 7060, 'misshapen': 7061, 'credited': 7062, 'submitting': 7063, 'debbie': 7064, 'lee': 7065, 'wesserman': 7066, \"baldwin's\": 7067, 'nonsense': 7068, 'unmitigated': 7069, 'disaster': 7070, 'sole': 7071, 'baldwin': 7072, 'salvage': 7073, 'film': 7074, 'sleepy': 7075, 'inaccuracy': 7076, 'predominately': 7077, 'inflict': 7078, 'monitoring': 7079, 'diagnosis': 7080, 'realizing': 7081, 'cheerfully': 7082, 'downright': 7083, 'battle': 7084, 'slumpy': 7085, 'suppliments': 7086, 'foreign': 7087, \"tea's\": 7088, 'miserable': 7089, 'masterfully': 7090, 'dare': 7091, 'wee': 7092, 'fearing': 7093, 'trimester': 7094, 'combo': 7095, \"'crackers'\": 7096, 'reordered': 7097, 'surcalose': 7098, 'someones': 7099, 'siamese': 7100, 'rescure': 7101, 'milo': 7102, 'singapore': 7103, 'restocked': 7104, \"chipmunk's\": 7105, 'begone': 7106, 'invisible': 7107, 'tunneling': 7108, 'underfoot': 7109, 'repels': 7110, 'guarenteed': 7111, 'tucson': 7112, 'temperatures': 7113, 'sprays': 7114, 'neighbor': 7115, 'zest': 7116, 'disinterested': 7117, \"yogourmet's\": 7118, 'clarification': 7119, 'clarify': 7120, 'skimmed': 7121, 'hairballs': 7122, 'temptation': 7123, 'mariani': 7124, \"other's\": 7125, 'faux': 7126, 'retracted': 7127, 'ringing': 7128, 'endorsement': 7129, 'subpar': 7130, 'insulting': 7131, 'rawhides': 7132, 'painted': 7133, 'crossed': 7134, 'trio': 7135, 'spreadable': 7136, 'ratings': 7137, 'tricks': 7138, 'jullienne': 7139, \"udi's\": 7140, 'pizzeria': 7141, 'silly': 7142, 'putty': 7143, \"gustaf's\": 7144, 'licorich': 7145, 'differnt': 7146, 'colorox': 7147, 'catahoula': 7148, 'leopard': 7149, 'invariably': 7150, 'hdp': 7151, 'humongous': 7152, 'pigs': 7153, 'smoking': 7154, 'wrigley': 7155, 'sting': 7156, 'boyfriend': 7157, 'lebanon': 7158, 'lizano': 7159, 'b00213iauq': 7160, \"lucy's\": 7161, 'cakey': 7162, 'unexpected': 7163, \"faerie's\": 7164, 'refillable': 7165, 'drifts': 7166, 'incorporated': 7167, 'turkish': 7168, 'smoothed': 7169, 'mignon': 7170, 'perfection': 7171, 'heavens': 7172, 'serendipitous': 7173, 'ought': 7174, 'calms': 7175, '00pm': 7176, 'camomile': 7177, 'promotes': 7178, 'boomer': 7179, 'nerves': 7180, 'lambert': 7181, 'klein': 7182, 'b004bsgy8y': 7183, 'boomers': 7184, 'sugarfull': 7185, 'urg': 7186, 'snag': 7187, 'arent': 7188, 'copiously': 7189, 'aforementioned': 7190, 'winners': 7191, \"canfield's\": 7192, 'koenig': 7193, 'dosings': 7194, 'separation': 7195, 'anxiety': 7196, 'technician': 7197, 'referred': 7198, 'remembers': 7199, 'obtained': 7200, 'menthol': 7201, 'babyfood': 7202, 'diapers': 7203, 'pelt': 7204, 'whiskers': 7205, 'eyeballs': 7206, 'ebay': 7207, 'pile': 7208, 'fluid': 7209, 'cardboardy': 7210, \"me'h\": 7211, 'popocorn': 7212, 'nauseous': 7213, 'quest': 7214, \"p's\": 7215, 'tucking': 7216, 'buddy': 7217, 'hempseed': 7218, 'refridgeration': 7219, 'absorbs': 7220, 'lotions': 7221, 'slender': 7222, 'sugarfee': 7223, 'flushing': 7224, 'bootleg': 7225, 'void': 7226, 'pirated': 7227, 'inspection': 7228, 'contracts': 7229, 'lakes': 7230, 'armoma': 7231, 'escape': 7232, 'hiss': 7233, 'subsequent': 7234, 'lurking': 7235, 'shadows': 7236, 'reveal': 7237, 'nuance': 7238, 'unremarkable': 7239, 'stylish': 7240, 'glowing': 7241, 'impress': 7242, 'countless': 7243, 'wings': 7244, 'reccomended': 7245, \"tomato's\": 7246, 'tablet': 7247, 'thinks': 7248, 'uuuuuuummmmmmmmm': 7249, 'clif': 7250, 'goop': 7251, 'navigate': 7252, 'dome': 7253, 'bind': 7254, 'resort': 7255, 'laxatives': 7256, 'bloated': 7257, 'upped': 7258, 'teaspons': 7259, 'fixed': 7260, 'traumatizing': 7261, 'gumxylitol': 7262, 'innocuous': 7263, 'substitutes': 7264, 'cavity': 7265, 'bacterial': 7266, 'nicky': 7267, 'muai': 7268, 'roasters': 7269, 'burr': 7270, 'deg': 7271, 'blowing': 7272, '82': 7273, \"i'\": 7274, 'causious': 7275, 'regulator': 7276, 'kodiak': 7277, 'inimitable': 7278, 'lazzaroni': 7279, 'imbue': 7280, 'viewing': 7281, 'b00180ipr6': 7282, 'ladies': 7283, 'decorative': 7284, 'unbroken': 7285, 'wafts': 7286, 'chasing': 7287, 'sickness': 7288, 'officially': 7289, 'medal': 7290, 'macadamia': 7291, 'cloyingly': 7292, 'bump': 7293, 'lookout': 7294, 'mountian': 7295, 'priorities': 7296, 'depends': 7297, 'slimey': 7298, 'chosen': 7299, 'discontinue': 7300, 'suggestions': 7301, 'sisters': 7302, 'xxxtra': 7303, 'publix': 7304, 'struggle': 7305, 'satisified': 7306, 'sled': 7307, 'prefect': 7308, \"lizzie's\": 7309, 'straws': 7310, 'blown': 7311, \"it'd\": 7312, 'doberman': 7313, 'intestines': 7314, 'agony': 7315, 'imodium': 7316, 'wilton': 7317, 'buttercream': 7318, 'transfers': 7319, 'decorate': 7320, 'tied': 7321, 'marzano': 7322, 'concentrates': 7323, 'migraines': 7324, 'v8': 7325, 'fusion': 7326, 'sacrificing': 7327, 'mcness': 7328, 'fizzing': 7329, 'cartridge': 7330, 'refills': 7331, 'discolor': 7332, 'decoration': 7333, 'selects': 7334, 'connoisseurs': 7335, 'dissapoint': 7336, 'evaporates': 7337, 'clogs': 7338, 'transfered': 7339, 'b000algnhi': 7340, 'kaviar': 7341, 'lox': 7342, 'sweetens': 7343, 'gravitated': 7344, 'inspectors': 7345, 'recognize': 7346, 'wholesaler': 7347, 'buyt': 7348, 'drunks': 7349, 'pediatrician': 7350, 'ofcourse': 7351, 'golf': 7352, 'flagging': 7353, '14th': 7354, 'resuse': 7355, 'shave': 7356, 'cones': 7357, 'b0011mtyf8': 7358, 'cone': 7359, 'kracker': 7360, 'protective': 7361, 'corrugated': 7362, 'crinkled': 7363, 'protection': 7364, 'pamela': 7365, 'balances': 7366, 'advantages': 7367, 'neutralized': 7368, 'incorporation': 7369, 'smoothly': 7370, 'b000ospgj8': 7371, 'scharffen': 7372, 'scharffenberger': 7373, 'puddings': 7374, 'reacting': 7375, 'whisked': 7376, \"bay's\": 7377, 'hic': 7378, 'frother': 7379, 'chile': 7380, 'chiles': 7381, 'parlors': 7382, 'submitted': 7383, 'nuttzo': 7384, 'heather': 7385, 'grainier': 7386, 'peoe': 7387, 'drain': 7388, 'slime': 7389, 'currrent': 7390, 'masal': 7391, 'dabba': 7392, 'stopper': 7393, 'seeps': 7394, 'capps': 7395, 'tricked': 7396, 'implies': 7397, 'whereas': 7398, 'confused': 7399, 'trademark': 7400, 'bingo': 7401, 'ghost': 7402, 'caffeinate': 7403, 'praised': 7404, \"'fessed\": 7405, 'lingered': 7406, 'mugs': 7407, \"tube's\": 7408, 'predetermined': 7409, 'plunk': 7410, 'cash': 7411, 'agreeing': 7412, 'ymmmm': 7413, 'emergencies': 7414, 'riding': 7415, 'convienant': 7416, 'concluded': 7417, 'quell': 7418, 'eases': 7419, 'sucking': 7420, 'markings': 7421, 'responsive': 7422, 'macho': 7423, 'dippings': 7424, \"grandson's\": 7425, 'plagued': 7426, 'scratches': 7427, 'itch': 7428, 'advantix': 7429, 'shall': 7430, 'preventic': 7431, 'eskimo': 7432, 'perimeter': 7433, 'fleas': 7434, 'mcvities': 7435, 'safeguard': 7436, 'cementing': 7437, 'knife': 7438, 'layers': 7439, 'tower': 7440, 'implement': 7441, 'cloud': 7442, 'surroundings': 7443, 'uggg': 7444, 'industrious': 7445, 'remelt': 7446, 'painstakingly': 7447, \"'monkey\": 7448, \"king'\": 7449, 'numi': 7450, 'op': 7451, 'prussian': 7452, 'mexico': 7453, 'diversity': 7454, '30pm': 7455, 'dying': 7456, 'proflowers': 7457, 'million': 7458, 'massage': 7459, 'yams': 7460, 'massaging': 7461, 'kale': 7462, 'tamari': 7463, 'amused': 7464, 'shapes': 7465, 'questioned': 7466, 'greenish': 7467, 'pale': 7468, 'hue': 7469, 'strays': 7470, 'alpha': 7471, 'lakewood': 7472, 'nibs': 7473, '10lb': 7474, \"'gouged'\": 7475, '1lb': 7476, 'myy': 7477, 'louizianne': 7478, 'sky': 7479, 'highed': 7480, 'stle': 7481, 'connunity': 7482, 'purcgased': 7483, \"could't\": 7484, 'punds': 7485, '76': 7486, 'feral': 7487, 'economize': 7488, 'fartiness': 7489, 'syndrome': 7490, 'skewered': 7491, 'mtn': 7492, 'columbia': 7493, 'decidedly': 7494, 'quote': 7495, 'guide': 7496, 'spaced': 7497, 'maintenance': 7498, 'adapt': 7499, 'chances': 7500, 'proportions': 7501, 'decreasing': 7502, 'quoted': 7503, 'handles': 7504, '1c': 7505, 'scientific': 7506, 'costly': 7507, 'jalapenos': 7508, 'computer': 7509, 'ciders': 7510, 'deceitful': 7511, 'shaping': 7512, 'madhave': 7513, 'amber': 7514, 'butterscotch': 7515, 'liquids': 7516, 'glycemic': 7517, 'index': 7518, \"nation's\": 7519, 'distract': 7520, 'putrified': 7521, 'harm': 7522, 'seasame': 7523, 'triangles': 7524, 'bragging': 7525, '89': 7526, 'scientist': 7527, 'alter': 7528, 'dna': 7529, 'diabetis': 7530, 'reports': 7531, 'engine': 7532, 'predictable': 7533, 'unsuccessfully': 7534, \"chai's\": 7535, 'froth': 7536, \"kudo's\": 7537, 'mccormick': 7538, 'yay': 7539, 'positives': 7540, 'thie': 7541, 'optomistic': 7542, 'shouldnt': 7543, 'skype': 7544, 'b0014cveh6': 7545, 'joe': 7546, 'swishing': 7547, 'ethipian': 7548, 'yirgacheffe': 7549, 'reputable': 7550, 'dripping': 7551, 'drips': 7552, '67': 7553, 'setups': 7554, 'roundabout': 7555, 'disapointed': 7556, 'browsing': 7557, 'bananna': 7558, 'ripoff': 7559, '73': 7560, \"din't\": 7561, 'doublem': 7562, 'muzzle': 7563, 'antiperspirant': 7564, 'cooperate': 7565, 'laundry': 7566, 'pyrenees': 7567, 'margo': 7568, 'steffan': 7569, 'szechuan': 7570, 'mazetti': 7571, 'commercials': 7572, 'verge': 7573, 'asleep': 7574, 'couscous': 7575, 'accpetable': 7576, \"d'vita\": 7577, 'sounding': 7578, 'superstore': 7579, 'teen': 7580, 'telltale': 7581, 'adverse': 7582, 'grilling': 7583, 'exhibit': 7584, 'chewier': 7585, 'lou': 7586, 'marks': 7587, 'cofee': 7588, \"nana's\": 7589, 'pancreas': 7590, 'steadily': 7591, 'prednisolone': 7592, 'inflammation': 7593, 'spure': 7594, 'drama': 7595, 'willingness': 7596, 'hydration': 7597, 'moka': 7598, 'preservation': 7599, 'mccanns': 7600, \"hills'\": 7601, 'refrigerating': 7602, 'solidifies': 7603, 'refrigerate': 7604, 'permeate': 7605, 'wrath': 7606, 'mountains': 7607, 'dews': 7608, 'b0024nu466': 7609, \"colony's\": 7610, 'petits': 7611, 'fours': 7612, 'cousin': 7613, 'sandies': 7614, 'coworker': 7615, 'pretended': 7616, 'lamp': 7617, 'seedlings': 7618, 'portioned': 7619, 'chaser': 7620, 'diner': 7621, 'pleaser': 7622, 'haphazardly': 7623, 'envelopes': 7624, 'ceramic': 7625, 'expand': 7626, 'b000e63lqu': 7627, 'b000e65oii': 7628, 'partial': 7629, 'lend': 7630, 'instance': 7631, 'pizzazz': 7632, 'ceylon': 7633, 'oragge': 7634, 'pekoe': 7635, 'untrue': 7636, 'inventory': 7637, 'asianfoodgrocer': 7638, 'theoworld': 7639, 'stews': 7640, 'tomatos': 7641, 'proclaims': 7642, 'fifth': 7643, 'salinated': 7644, 'reduction': 7645, 'seek': 7646, 'erasers': 7647, \"that'll\": 7648, 'bahlsen': 7649, 'waffeletten': 7650, 'selected': 7651, 'variaty': 7652, 'ho': 7653, 'hum': 7654, 'styrafoam': 7655, \"halo's\": 7656, 'tread': 7657, 'pulverized': 7658, 'mealy': 7659, 'deceiving': 7660, 'sheds': 7661, 'tsa': 7662, 'meetings': 7663, 'sweeeeet': 7664, 'proclaimed': 7665, 'nation': 7666, 'keeper': 7667, 'dippin': 7668, 'thirty': 7669, \"lemon'\": 7670, 'zeb': 7671, 'kantrowitz': 7672, 'skim': 7673, 'blenderize': 7674, 'frappachino': 7675, 'chees': 7676, 'b002l8xkew': 7677, \"maddy's\": 7678, 'bursts': 7679, 'dalmatian': 7680, 'classy': 7681, 'slowing': 7682, 'moving': 7683, 'blossoms': 7684, 'sublte': 7685, 'tweek': 7686, \"arent'\": 7687, 'hurried': 7688, 'nuggetts': 7689, 'formal': 7690, 'apology': 7691, 'twister': 7692, 'harken': 7693, 'matinee': 7694, 'skepticism': 7695, 'harsher': 7696, 'anice': 7697, 'deducted': 7698, 'scrutinized': 7699, 'misdirection': 7700, 'rodelle': 7701, 'solids': 7702, 'laced': 7703, \"reviewers'\": 7704, 'pedestrian': 7705, 'cardamom': 7706, 'tabasco': 7707, 'variant': 7708, 'gm': 7709, 'joins': 7710, 'fourty': 7711, \"'popping\": 7712, \"topping'\": 7713, \"'oil'\": 7714, 'snuck': 7715, 'amtrack': 7716, 'earns': 7717, 'temporary': 7718, 'bodum': 7719, 'devil': 7720, 'comfortable': 7721, 'crushing': 7722, 'retains': 7723, 'blech': 7724, 'vague': 7725, 'squirt': 7726, 'critters': 7727, 'supplimental': 7728, 'ponds': 7729, 'dug': 7730, 'feeders': 7731, 'sunning': 7732, 'pellets': 7733, 'opportunity': 7734, 'sinks': 7735, 'crowds': 7736, '8am': 7737, 'econ': 7738, 'ritz': 7739, 'resturants': 7740, 'reno': 7741, 'waiters': 7742, 'woke': 7743, 'bb': 7744, 'perused': 7745, 'wall': 7746, 'foodshouldtastegood': 7747, 'specify': 7748, 'soluble': 7749, 'insoluble': 7750, 'hues': 7751, 'hunter': 7752, 'shook': 7753, 'pigments': 7754, 'puddle': 7755, 'kopykake': 7756, 'projector': 7757, 'chefmaster': 7758, 'fluids': 7759, 'heathier': 7760, 'swears': 7761, 'alterna': 7762, 'naaaaasty': 7763, 'evils': 7764, \"satan's\": 7765, 'ingrown': 7766, 'toenail': 7767, 'mucilage': 7768, 'deathly': 7769, 'defines': 7770, 'loading': 7771, 'shoppers': 7772, 'seals': 7773, 'compromised': 7774, 'borderline': 7775, 'scuffs': 7776, 'cosmetic': 7777, 'osbo': 7778, 'disclose': 7779, 'dinged': 7780, 'lickety': 7781, 'stik': 7782, 'interaction': 7783, 'licks': 7784, 'innovative': 7785, \"cow's\": 7786, 'elbow': 7787, 'grating': 7788, 'commisary': 7789, 'appetizing': 7790, 'oraganic': 7791, 'admittedly': 7792, 'elbows': 7793, 'brocolli': 7794, 'childs': 7795, 'anetto': 7796, 'bark': 7797, 'colorant': 7798, 'familar': 7799, 'reheat': 7800, 'carbers': 7801, 'somebody': 7802, 'carbing': 7803, 'powering': 7804, 'roof': 7805, 'dab': 7806, \"'candy'\": 7807, 'b00142fp5i': 7808, 'fl': 7809, 'ml': 7810, 'waxed': 7811, 'harden': 7812, 'spa': 7813, 'desribe': 7814, 'osmosis': 7815, 'dasani': 7816, 'preference': 7817, 'medjool': 7818, \"nestle's\": 7819, 'defeats': 7820, 'nitrogen': 7821, 'escaped': 7822, 'atmosphere': 7823, \"'seep'\": 7824, 'cutter': 7825, 'constituted': 7826, 'dippable': 7827, 'vending': 7828, 'interstate': 7829, '11s': 7830, 'bode': 7831, 'random': 7832, 'associating': 7833, 'inexplicably': 7834, 'buywell': 7835, 'guatemala': 7836, 'fuego': 7837, 'hints': 7838, 'arranged': 7839, 'rows': 7840, 'squashed': 7841, 'crumpled': 7842, 'mangled': 7843, 'gasy': 7844, 'fart': 7845, 'busters': 7846, 'coast': 7847, 'aged': 7848, 'sporadically': 7849, 'heb': 7850, 'randalls': 7851, \"chun's\": 7852, 'discovering': 7853, 'attributed': 7854, 'urgency': 7855, 'puroast': 7856, 'proud': 7857, 'drawbacks': 7858, 'choked': 7859, 'charm': 7860, \"'wonderful'\": 7861, 'merely': 7862, 'abosultely': 7863, 'soothies': 7864, 'rotate': 7865, 'newmans': 7866, 'ceasar': 7867, 'milans': 7868, \"eat's\": 7869, 'newman': 7870, 'charity': 7871, 'friday': 7872, 'reusing': 7873, \"bachelor's\": 7874, 'crappified': 7875, 'appreciates': 7876, 'panic': 7877, 'olivenation': 7878, 'toothtick': 7879, 'mcdonalds': 7880, 'mcflurrey': 7881, 'jumping': 7882, 'ceiling': 7883, 'fainted': 7884, 'nighty': 7885, 'medications': 7886, 'promises': 7887, 'lesson': 7888, 'patio': 7889, 'answered': 7890, 'avail': 7891, 'merchandise': 7892, 'deserves': 7893, 'saliva': 7894, 'moms': 7895, 'relies': 7896, 'coriander': 7897, 'believed': 7898, 'pharmacopoeial': 7899, 'boiled': 7900, 'investing': 7901, 'coaster': 7902, 'saucer': 7903, 'uncovered': 7904, 'eastern': 7905, 'supports': 7906, 'menstruating': 7907, 'cave': 7908, 'illness': 7909, 'decongestant': 7910, 'fails': 7911, 'nirvana': 7912, '5lb': 7913, 'detroit': 7914, 'blan': 7915, 'jims': 7916, 'jig': 7917, 'yummmmmm': 7918, 'hydrosol': 7919, 'wasa': 7920, 'textures': 7921, \"'maple'\": 7922, \"'d\": 7923, 'hampshire': 7924, 'prides': 7925, 'renew': 7926, 'bills': 7927, 'scare': 7928, \"vet's\": 7929, 'permission': 7930, 'avocado': 7931, 'umpqua': 7932, 'sunny': 7933, 'odering': 7934, 'hackensack': 7935, 'scrape': 7936, 'resealed': 7937, 'oxidize': 7938, 'posting': 7939, 'misfortune': 7940, 'encounter': 7941, 'theo': 7942, 'fv': 7943, 'complexity': 7944, 'vh': 7945, 'binding': 7946, 'agent': 7947, 'cinnimon': 7948, 'consistancy': 7949, 'atthach': 7950, 'thiers': 7951, 'hog': 7952, 'burgers': 7953, 'nd': 7954, 'tonfew': 7955, 'nc': 7956, 'usps': 7957, 'violated': 7958, 'financially': 7959, 'favour': 7960, 'kg': 7961, 'inordinately': 7962, 'dispatched': 7963, 'lear': 7964, 'breadsticks': 7965, 'starters': 7966, 'casei': 7967, 'bifidus': 7968, 'acidophilus': 7969, 'probiotic': 7970, '185': 7971, 'kills': 7972, 'bacteria': 7973, 'insuring': 7974, '112': 7975, 'incubate': 7976, 'reached': 7977, 'sophistication': 7978, 'depth': 7979, 'microscopic': 7980, 'embarrassed': 7981, 'moisten': 7982, '15th': 7983, 'scares': 7984, 'strict': 7985, 'caloric': 7986, 'payload': 7987, 'respectable': 7988, '3g': 7989, 'mere': 7990, '2g': 7991, 'comparatively': 7992, 'speaking': 7993, 'preferable': 7994, 'tapioca': 7995, 'associates': 7996, \"raven's\": 7997, 'legal': 7998, \"deadman's\": 7999, 'upholds': 8000, 'slower': 8001, 'replicated': 8002, 'mike': 8003, 'ingrediants': 8004, 'enthusiastic': 8005, \"cereal's\": 8006, 'mailed': 8007, 'deformed': 8008, 'wrappers': 8009, 'sumac': 8010, 'courser': 8011, \"'nugget'\": 8012, 'fig': 8013, 'hodgson': 8014, 'redmill': 8015, 'woah': 8016, 'solestra': 8017, \"'brick\": 8018, \"mortar'\": 8019, 'stellar': 8020, 'fist': 8021, 'melon': 8022, \"extract's\": 8023, 'superlative': 8024, 'rhetorical': 8025, 'refrig': 8026, 'quietly': 8027, 'rustling': 8028, 'convient': 8029, 'rig': 8030, 'paris': 8031, 'flowery': 8032, 'davidson': 8033, 'doubts': 8034, 'corny': 8035, 'tinting': 8036, 'tracked': 8037, 'espressos': 8038, 'pienaroma': 8039, 'grand': 8040, 'sharing': 8041, 'dealing': 8042, '4health': 8043, 'turkery': 8044, 'cupboards': 8045, 'reccommend': 8046, 'hormel': 8047, 'purchsing': 8048, 'genovese': 8049, 'oregano': 8050, 'global': 8051, 'substition': 8052, 'substitions': 8053, 'expressly': 8054, 'detour': 8055, 'rx': 8056, 'quanity': 8057, 'crisper': 8058, 'spaghetti': 8059, 'disapoint': 8060, 'pei': 8061, \"wei's\": 8062, 'blazing': 8063, 'oyster': 8064, 'transporting': 8065, 'receptacle': 8066, 'touching': 8067, \"ken's\": 8068, 'expanding': 8069, 'picks': 8070, 'fulfills': 8071, 'monterey': 8072, 'starbuck': 8073, 'foertunate': 8074, 'travelling': 8075, 'egberts': 8076, 'espresson': 8077, 'sufficiently': 8078, 'brothers': 8079, 'operating': 8080, 'repackage': 8081, 'orchards': 8082, 'backyard': 8083, 'driven': 8084, 'facilities': 8085, 'questionable': 8086, 'decaffeinate': 8087, 'dreadful': 8088, 'lightweight': 8089, 'pbj': 8090, 'sandwhiches': 8091, 'wcpb': 8092, 'easter': 8093, 'mallows': 8094, 'cleanser': 8095, 'refresher': 8096, 'parameters': 8097, 'accomplished': 8098, 'begged': 8099, 'notably': 8100, 'evidence': 8101, 'incongruous': 8102, 'chemist': 8103, 'avoided': 8104, 'unpronounceable': 8105, 'deciferable': 8106, 'stuffs': 8107, 'track': 8108, 'hiking': 8109, 'bizzare': 8110, 'nw': 8111, \"com's\": 8112, 'kombucha': 8113, 'onhand': 8114, 'drizzle': 8115, 'diehards': 8116, \"lot's\": 8117, 'beegeezus': 8118, 'vender': 8119, 'leaks': 8120, 'irritates': 8121, \"vitamin's\": 8122, 'verily': 8123, 'squeezes': 8124, 'buzzed': 8125, 'stained': 8126, 'b005vooqka': 8127, '62': 8128, 'emulsify': 8129, 'beads': 8130, 'atop': 8131, 'concoction': 8132, 'shaken': 8133, 'objective': 8134, 'compensate': 8135, 'outcome': 8136, 'yummo': 8137, 'dissapointing': 8138, 'collegue': 8139, \"her's\": 8140, 'noticably': 8141, 'jusice': 8142, 'bavaria': 8143, 'landjagers': 8144, \"fan's\": 8145, 'hams': 8146, 'perishability': 8147, 'liverwurst': 8148, 'scroll': 8149, 'article': 8150, 'fred': 8151, 'meyer': 8152, 'marischino': 8153, 'hooh': 8154, 'weee': 8155, \"y'all\": 8156, 'delicacy': 8157, 'latin': 8158, 'carribean': 8159, \"ain't\": 8160, \"eatin'\": 8161, 'coal': 8162, 'miner': 8163, 'june': 8164, 'emanating': 8165, \"cracklin'\": 8166, 'gals': 8167, 'innovation': 8168, 'tater': 8169, 'shown': 8170, 'incredients': 8171, 'timey': 8172, 'amish': 8173, 'lowest': 8174, '5gms': 8175, 'manf': 8176, 'plz': 8177, 'keurigs': 8178, 'gripe': 8179, 'cvs': 8180, 'hiccups': 8181, 'bubbly': 8182, 'colicky': 8183, 'fussiness': 8184, 'potful': 8185, 'surf': 8186, 'turf': 8187, 'fromm': 8188, 'smartbones': 8189, 'dogss': 8190, 'dachushunds': 8191, 'vino': 8192, 'italiano': 8193, 'rates': 8194, 'sucess': 8195, 'unimaginable': 8196, 'technically': 8197, 'dg': 8198, 'accustomed': 8199, 'traditionl': 8200, 'pleh': 8201, 'orzata': 8202, 'hastily': 8203, 'thrown': 8204, 'tbl': 8205, \"lowrey'\": 8206, 'curbing': 8207, 'unnecessary': 8208, 'nyc': 8209, 'tribeca': 8210, 'notable': 8211, 'disposable': 8212, 'mod': 8213, 'vacationing': 8214, 'dc': 8215, 'poodles': 8216, 'glo': 8217, 'dress': 8218, 'manhandle': 8219, 'vehicle': 8220, 'multitude': 8221, 'equating': 8222, 'purchasedit': 8223, 'arena': 8224, 'unflavored': 8225, 'tinkyada': 8226, 'douse': 8227, 'flames': 8228, '25oz': 8229, 'underwhelming': 8230, 'characteristic': 8231, 'brandy': 8232, 'hungrier': 8233, 'fiddle': 8234, 'faddle': 8235, 'captain': 8236, 'picard': 8237, 'approve': 8238, 'plump': 8239, 'dogfood': 8240, 'bulldog': 8241, 'unbeknownst': 8242, 'manifested': 8243, 'ailments': 8244, 'insides': 8245, 'possessed': 8246, 'engaged': 8247, 'advanced': 8248, 'decay': 8249, 'intents': 8250, 'climate': 8251, 'qualitys': 8252, 'wich': 8253, 'deliverd': 8254, 'pitbulls': 8255, 'recommends': 8256, 'adhd': 8257, 'function': 8258, 'argue': 8259, 'capital': 8260, 'oodles': 8261, 'patients': 8262, 'poison': 8263, 'mercury': 8264, 'segment': 8265, 'waistline': 8266, 'updated': 8267, 'backup': 8268, 'whipping': 8269, 'de': 8270, 'licious': 8271, 'artichoke': 8272, 'condiments': 8273, 'slanted': 8274, 'screwed': 8275, 'moisturising': 8276, 'honeymoon': 8277, 'converts': 8278, 'sponsoring': 8279, 'struck': 8280, 'hilly': 8281, 'terrain': 8282, 'pinching': 8283, 'buttocks': 8284, 'sprint': 8285, 'hang': 8286, 'hardship': 8287, 'toilets': 8288, 'devastating': 8289, 'gluttonous': 8290, 'maximus': 8291, 'racing': 8292, 'aback': 8293, 'scarfed': 8294, 'accompanying': 8295, 'zap': 8296, 'irradiated': 8297, 'varities': 8298, 'diced': 8299, 'honeyville': 8300, 'uniformity': 8301, 'knobby': 8302, 'former': 8303, 'refunding': 8304, 'disappears': 8305, 'nutrient': 8306, 'carnival': 8307, 'tore': 8308, 'frieling': 8309, 'boosters': 8310, 'possibility': 8311, 'mega': 8312, 'doses': 8313, 'uncertain': 8314, 'verdict': 8315, 'desireable': 8316, 'terms': 8317, 'nightmares': 8318, 'mouths': 8319, 'posters': 8320, 'checking': 8321, 'recalling': 8322, 'blotto': 8323, 'acclimate': 8324, 'gumline': 8325, 'mindlessly': 8326, 'biloba': 8327, 'staring': 8328, 'whimpering': 8329, 'jedi': 8330, 'keyboard': 8331, 'voraciously': 8332, 'chow': 8333, 'nabbing': 8334, 'unfamiliar': 8335, 'lapping': 8336, 'shin': 8337, 'alike': 8338, 'peppered': 8339, 'sampling': 8340, 'saut': 8341, 'ed': 8342, 'attempted': 8343, 'step': 8344, 'glutton': 8345, 'bothering': 8346, '230mg': 8347, 'nutritionally': 8348, 'bloats': 8349, 'complicated': 8350, 'grandparents': 8351, 'sank': 8352, 'thickened': 8353, 'dari': 8354, 'stunning': 8355, 'bagging': 8356, 'sparkly': 8357, 'tulle': 8358, 'ribbons': 8359, 'securely': 8360, 'gems': 8361, 'restricted': 8362, 'whats': 8363, 'gitters': 8364, 'artificials': 8365, 'goodlife': 8366, 'mangos': 8367, 'anyt': 8368, 'sulfur': 8369, 'reaching': 8370, 'vegies': 8371, 'approaches': 8372, 'closes': 8373, 'resistant': 8374, 'shorts': 8375, 'transmitters': 8376, 'battery': 8377, 'winds': 8378, 'strapping': 8379, 'tape': 8380, 'solves': 8381, 'dual': 8382, 'buckle': 8383, 'attachment': 8384, 'polarity': 8385, 'preceding': 8386, 'paragraphs': 8387, 'foster': 8388, 'wilderness': 8389, 'dishonest': 8390, 'reuseable': 8391, 'signature': 8392, 'discribed': 8393, 'requested': 8394, 'estimated': 8395, 'wanka': 8396, 'gobstoppers': 8397, 'waits': 8398, 'notoriously': 8399, 'examined': 8400, 'overbite': 8401, 'preventing': 8402, 'ninety': 8403, 'favorful': 8404, 'b66': 8405, 'outtastes': 8406, 'catches': 8407, 'basement': 8408, 'moth': 8409, 'yummmmmmm': 8410, 'compliment': 8411, 'boulder': 8412, 'realllly': 8413, \"boulder's\": 8414, 'popcorners': 8415, 'mars': 8416, 'nowadays': 8417, 'approx': 8418, \"tooth's\": 8419, 'deeee': 8420, 'lish': 8421, 'backpack': 8422, 'recycled': 8423, 'booze': 8424, 'libation': 8425, 'clears': 8426, 'cocktails': 8427, 'tellya': 8428, 'shabby': 8429, 'bested': 8430, 'wedge': 8431, 'ymmv': 8432, 'oxymoron': 8433, 'gram': 8434, 'rushing': 8435, 'spill': 8436, 'math': 8437, 'namaste': 8438, 'gluton': 8439, 'inconvenient': 8440, 'popularity': 8441, 'franchise': 8442, 'tail': 8443, 'counteracts': 8444, 'potentially': 8445, 'adjunct': 8446, 'nutrasweet': 8447, 'pruchased': 8448, \"'pro\": 8449, \"puppy'\": 8450, 'tile': 8451, 'squeaker': 8452, \"'play'\": 8453, 'dentabones': 8454, 'lung': 8455, 'movements': 8456, 'continuing': 8457, 'successful': 8458, 'exercises': 8459, \"veterinarian's\": 8460, 'exam': 8461, 'physically': 8462, 'tech': 8463, \"tzu's\": 8464, 'outdoor': 8465, 'excursions': 8466, \"he'll\": 8467, 'lunge': 8468, 'devices': 8469, \"60's\": 8470, \"70's\": 8471, 'alpo': 8472, 'drippings': 8473, 'occurrance': 8474, 'thighs': 8475, 'browned': 8476, \"'missing\": 8477, \"link'\": 8478, 'groomed': 8479, 'droppings': 8480, 'neutered': 8481, \"'flavors'\": 8482, 'erin': 8483, \"baker's\": 8484, 'veg': 8485, 'stressed': 8486, 'stages': 8487, 'warrant': 8488, 'phosphorus': 8489, 'nibblers': 8490, '21': 8491, 'females': 8492, 'visits': 8493, 'lessening': 8494, 'furminator': 8495, 'dandruff': 8496, 'nobody': 8497, 'worsened': 8498, 'disgusted': 8499, 'fooling': 8500, 'researched': 8501, 'renal': 8502, 'charts': 8503, 'detailing': 8504, 'components': 8505, 'tenth': 8506, 'innova': 8507, 'staples': 8508, 'someday': 8509, 'bistro': 8510, 'mwh': 8511, 'compares': 8512, 'confessions': 8513, 'beings': 8514, 'dwelling': 8515, 'ugh': 8516, 'poached': 8517, 'grudgingly': 8518, 'fishie': 8519, 'misleads': 8520, 'filtered': 8521, 'articficial': 8522, 'benzyl': 8523, 'ethanol': 8524, 'dextrose': 8525, 'arabic': 8526, 'xanthan': 8527, 'ester': 8528, 'glyceryl': 8529, 'abletate': 8530, 'phosporic': 8531, 'tartaric': 8532, 'malic': 8533, 'sorbate': 8534, 'tartrazine': 8535, 'triacentin': 8536, 'gha': 8537, 'composed': 8538, 'occuring': 8539, 'compounds': 8540, \"'kcup'\": 8541, 'adjusted': 8542, 'kicks': 8543, 'regulat': 8544, 'lemme': 8545, 'inhales': 8546, 'breakage': 8547, 'fail': 8548, 'variation': 8549, \"does't\": 8550, 'tine': 8551, 'beam': 8552, 'fracture': 8553, 'weathered': 8554, 'cracks': 8555, 'useable': 8556, 'initiate': 8557, 'anticipate': 8558, 'nonrefundable': 8559, 'summary': 8560, 'jumbo': 8561, 'chilis': 8562, 'hardware': 8563, 'precautions': 8564, 'prevents': 8565, 'sponge': 8566, \"'fan'\": 8567, 'blades': 8568, 'takeover': 8569, 'phone': 8570, 'representative': 8571, 'noises': 8572, 'yuumy': 8573, 'delciousness': 8574, 'passover': 8575, 'altho': 8576, 'thereafter': 8577, 'joyya': 8578, 'sublime': 8579, 'demigods': 8580, 'lovlngly': 8581, 'rigid': 8582, 'moreover': 8583, 'petsmart': 8584, 'varietys': 8585, 'firmer': 8586, 'casserole': 8587, '5yr': 8588, 'afforable': 8589, 'proccess': 8590, 'pediagree': 8591, 'effecting': 8592, 'unharmed': 8593, 'bent': 8594, 'biggy': 8595, 'income': 8596, '80s': 8597, 'declared': 8598, 'shelters': 8599, 'handhold': 8600, 'moulding': 8601, 'popings': 8602, 'divided': 8603, 'corners': 8604, 'sparingly': 8605, 'social': 8606, 'responsibility': 8607, 'gripes': 8608, 'certified': 8609, 'misrepresent': 8610, 'blatantly': 8611, 'misrepresenting': 8612, 'claimed': 8613, 'teenies': 8614, 'rewards': 8615, 'kennel': 8616, 'beds': 8617, 'nightly': 8618, 'schnauser': 8619, 'disclipline': 8620, 'leery': 8621, \"husband's\": 8622, \"jim's\": 8623, 'traverse': 8624, 'nieces': 8625, 'b001eppd84': 8626, 'lorann': 8627, 'pizzas': 8628, 'matzos': 8629, 'introducing': 8630, 'rising': 8631, 'stacks': 8632, 'darkness': 8633, 'b00271opvu': 8634, 'sweetest': 8635, 'thickest': 8636, 'b003enhsc8': 8637, 'specifications': 8638, 'b00248e980': 8639, 'seap': 8640, 'itchy': 8641, 'dainty': 8642, 'firecely': 8643, 'independent': 8644, 'fierce': 8645, 'disturbed': 8646, 'dachshund': 8647, 'bouncy': 8648, 'spends': 8649, 'tbd': 8650, 'starving': 8651, 'deigning': 8652, 'b0012kh02i': 8653, 'moldy': 8654, 'sohpie': 8655, 'b002cjf62y': 8656, 'sustained': 8657, 'distaste': 8658, 'snarf': 8659, 'congenital': 8660, 'wiser': 8661, 'fourteen': 8662, 'blessed': 8663, 'feisty': 8664, 'loner': 8665, 'snuggled': 8666, 'sizable': 8667, 'tidbit': 8668, 'standardized': 8669, 'sum': 8670, 'labradors': 8671, 'nah': 8672, 'channel': 8673, 'confirmed': 8674, 'bros': 8675, 'gluing': 8676, 'shut': 8677, 'lunchbox': 8678, 'sandwhich': 8679, 'hikes': 8680, 'outings': 8681, 'preschool': 8682, 'purified': 8683, 'encouter': 8684, 'youngest': 8685, 'lovethese': 8686, 'imitators': 8687, 'carnivore': 8688, 'jump': 8689, \"2'\": 8690, 'crease': 8691, 'brak': 8692, 'laptop': 8693, 'stared': 8694, 'command': 8695, 'oops': 8696, 'libre': 8697, 'sensitivity': 8698, \"they'll\": 8699, 'filterbags': 8700, 'lemongrass': 8701, 'safflowers': 8702, 'hibiscus': 8703, 'petals': 8704, 'crinkly': 8705, 'protecting': 8706, 'precious': 8707, 'stories': 8708, 'playful': 8709, 'rebecca': 8710, 'excellant': 8711, 'proves': 8712, 'eleven': 8713, 'cairn': 8714, 'showing': 8715, 'reccommendation': 8716, 'spunky': 8717, 'cairns': 8718, 'movies': 8719, \"squeeze's\": 8720, 'metalic': 8721, 'goodies': 8722, 'shortbreads': 8723, 'baskets': 8724, 'grayish': 8725, 'fleshy': 8726, 'weedy': 8727, 'baseball': 8728, 'classrooms': 8729, 'teams': 8730, 'vines': 8731, 'purched': 8732, 'building': 8733, 'management': 8734, 'format': 8735, 'preferences': 8736, 'tended': 8737, 'envelops': 8738, 'sludgy': 8739, 'profile': 8740, 'pau': 8741, \"d'arco\": 8742, 'alkaline': 8743, 'captivating': 8744, 'b003vxfl1q': 8745, 'b001chfudc': 8746, 'revise': 8747, 'forthright': 8748, 'barista': 8749, 'origins': 8750, 'mass': 8751, 'chalky': 8752, 'seasonal': 8753, 'killer': 8754, 'sapling': 8755, 'feet': 8756, 'deck': 8757, 'killed': 8758, 'yikes': 8759, 'adjustments': 8760, 'b000ffiel2': 8761, \"soup's\": 8762, \"addt'l\": 8763, 'meld': 8764, 'flavours': 8765, 'b005jw622y': 8766, \"ya'all\": 8767, 'boat': 8768, 'glows': 8769, 'os': 8770, 'hulless': 8771, \"redenbacher's\": 8772, 'plop': 8773, 'powedered': 8774, 'abt': 8775, 'faults': 8776, 'compensated': 8777, 'luscious': 8778, 'cousins': 8779, 'stirring': 8780, 'overhyped': 8781, 'metallic': 8782, 'taints': 8783, 'nettle': 8784, 'intensive': 8785, 'conditioners': 8786, 'greendog': 8787, 'motion': 8788, 'supppose': 8789, 'tantamount': 8790, 'bang': 8791, 'directs': 8792, 'loses': 8793, 'euphoric': 8794, 'restless': 8795, 'housecats': 8796, 'regards': 8797, 'professionally': 8798, 'closure': 8799, '3oz': 8800, 'erroneously': 8801, 'misadvertises': 8802, 'beforehand': 8803, 'pad': 8804, 'disinterest': 8805, 'offends': 8806, 'rescued': 8807, 'siblings': 8808, 'boundaries': 8809, 'trapped': 8810, 'indoors': 8811, '6yr': 8812, 'dunno': 8813, 'dangers': 8814, 'manageable': 8815, 'b005ch0dt4': 8816, 'scivation': 8817, 'xtend': 8818, 'intra': 8819, 'catalyst': 8820, '375': 8821, 'sydney': 8822, 'catsup': 8823, 'brooks': 8824, 'downing': 8825, 'marginal': 8826, 'individuals': 8827, 'willpower': 8828, 'needing': 8829, 'crunches': 8830, 'gravel': 8831, 'krispie': 8832, 'floated': 8833, 'toothsome': 8834, 'choc': 8835, 'copper': 8836, 'weimaraner': 8837, 'schoko': 8838, \"'powdery'\": 8839, 'strangest': 8840, \"'texture\": 8841, \"issues'\": 8842, 'redeeming': 8843, 'insult': 8844, 'comparability': 8845, 'drumstick': 8846, 'fran': 8847, 'fogchaser': 8848, 'otc': 8849, 'ditalia': 8850, 'inhaling': 8851, \"'butter'\": 8852, 'seeking': 8853, 'greater': 8854, 'krispies': 8855, 'carolina': 8856, 'addicts': 8857, 'anonymous': 8858, 'doult': 8859, \"spitz's\": 8860, '6oz': 8861, 'recliner': 8862, 'num': 8863, 'struggled': 8864, 'lists': 8865, \"denna's\": 8866, 'utah': 8867, 'chewies': 8868, 'suspiciously': 8869, \"else's\": 8870, 'digested': 8871, \"everybody's\": 8872, 'mislead': 8873, 'spicey': 8874, 'retails': 8875, 'thumb': 8876, 'meowing': 8877, 'jumps': 8878, 'chops': 8879, 'diedrich': 8880, 'columibia': 8881, '38237': 8882, 'paces': 8883, 'polish': 8884, 'precise': 8885, 'exiting': 8886, 'tool': 8887, 'gage': 8888, 'tupperware': 8889, 'operated': 8890, 'pressing': 8891, 'precision': 8892, 'disassemble': 8893, 'apparatus': 8894, 'extruded': 8895, 'sparse': 8896, \"competitor's\": 8897, 'narrower': 8898, \"gun's\": 8899, 'conclusions': 8900, 'eastman': 8901, 'outdoors': 8902, 'accessories': 8903, 'mechanical': 8904, 'moqueca': 8905, 'rises': 8906, 'rugelach': 8907, 'buns': 8908, 'biscoff': 8909, 'flash': 8910, 'fusions': 8911, 'subjective': 8912, 'intrigued': 8913, 'assumption': 8914, 'defense': 8915, 'blatant': 8916, 'advertisement': 8917, 'thickener': 8918, 'evened': 8919, 'code': 8920, 'squash': 8921, 'favortite': 8922, 'discriminating': 8923, 'healthily': 8924, 'burn': 8925, 'enjoeyed': 8926, 'overwhelmingly': 8927, 'caf': 8928, 'flaten': 8929, 'steroids': 8930, 'bleed': 8931, 'joking': 8932, 'acquaintances': 8933, 'booster': 8934, 'wipe': 8935, 'features': 8936, 'misrepresentation': 8937, 'wrinkle': 8938, 'looove': 8939, 'slobber': 8940, 'palates': 8941, 'sizeable': 8942, 'consisting': 8943, 'prostate': 8944, 'babycook': 8945, 'tanzania': 8946, 'peaberry': 8947, 'aberrant': 8948, 'yummmm': 8949, 'singles': 8950, 'firstly': 8951, 'anxious': 8952, 'ridiculously': 8953, 'ceremonial': 8954, 'sifted': 8955, 'entrant': 8956, 'transports': 8957, 'dispense': 8958, 'dropper': 8959, '9pm': 8960, 'text': 8961, '10pm': 8962, 'bolder': 8963, 'tortes': 8964, 'screw': 8965, 'monin': 8966, 'tase': 8967, 'b001chizxe': 8968, 'designing': 8969, 'burritos': 8970, 'mexi': 8971, 'confusing': 8972, 'myriad': 8973, 'piggy': 8974, 'portly': 8975, \"friends'\": 8976, 'le': 8977, 'beurre': 8978, 'accompanyment': 8979, 'retrievers': 8980, 'suffered': 8981, 'tonkotsu': 8982, 'peru': 8983, 'tonkostsu': 8984, 'nanani': 8985, 'togarashi': 8986, 'uhmmm': 8987, 'exquisitely': 8988, 'fudge': 8989, 'mouthwatering': 8990, 'unsurpassed': 8991, 'dissuade': 8992, \"lickin'\": 8993, 'foodstuffs': 8994, 'improvise': 8995, 'festival': 8996, 'quarters': 8997, 'cod': 8998, 'gal': 8999, 'pumped': 9000, 'spelt': 9001, 'vitacost': 9002, 'jacked': 9003, 'yahoo': 9004, 'fees': 9005, 'iam': 9006, 'patricia': 9007, 'tubb': 9008, 'ouf': 9009, 'minny': 9010, \"she'd\": 9011, 'bagel': 9012, 'slather': 9013, 'ahhh': 9014, 'lightening': 9015, 'achieve': 9016, 'chocolat': 9017, 'recommand': 9018, 'velveeta': 9019, 'skillets': 9020, 'tastebuds': 9021, 'plentiful': 9022, 'serves': 9023, 'satiation': 9024, 'substituted': 9025, 'licensed': 9026, 'exported': 9027, 'pringles': 9028, 'prangels': 9029, 'differ': 9030, 'mercedes': 9031, 'benz': 9032, 'misrepresented': 9033, 'untruth': 9034, 'unforgivable': 9035, 'hk': 9036, 'demae': 9037, 'iccho': 9038, 'phantom': 9039, 'xlr': 9040, 'mic': 9041, 'recording': 9042, 'cop': 9043, 'altered': 9044, 'theaters': 9045, 'killing': 9046, 'trinidad': 9047, 'park': 9048, 'pickup': 9049, 'parked': 9050, 'stumbled': 9051, 'jackpot': 9052, 'allergerys': 9053, 'michigan': 9054, 'slots': 9055, 'program\\x99': 9056, '748': 9057, '0188': 9058, \"wysong's\": 9059, 'crabmeat': 9060, 'crabcakes': 9061, 'melita': 9062, 'b001tm70o2': 9063, 'mediterranean': 9064, 'snarfed': 9065, 'lo': 9066, 'belief': 9067, 'woman': 9068, 'hostess': 9069, 'casually': 9070, 'balking': 9071, 'dusted': 9072, 'landing': 9073, 'tougue': 9074, 'sophisticatingly': 9075, 'warmth': 9076, 'streaked': 9077, 'juxtaposing': 9078, 'sneaks': 9079, 'slew': 9080, 'errands': 9081, 'pears': 9082, 'predominant': 9083, 'tons': 9084, 'deterring': 9085, '3s': 9086, 'discoverd': 9087, 'cucumbers': 9088, 'grocers': 9089, 'cities': 9090, 'environment': 9091, 'saler': 9092, 'flakey': 9093, 'countertop': 9094, 'unpopped': 9095, 'teethy': 9096, 'ue': 9097, 'gobbling': 9098, 'washed': 9099, 'noting': 9100, 'proposition': 9101, 'goldilocks': 9102, \"snyder's\": 9103, 'pennsylvania': 9104, 'fulfilled': 9105, 'tic': 9106, 'tac': 9107, 'toe': 9108, 'nights': 9109, 'sporting': 9110, 'events': 9111, 'doxies': 9112, 'fruitables': 9113, 'spinning': 9114, 'disc': 9115, 'vibrance': 9116, 'tighter': 9117, '40s': 9118, 'unbleivable': 9119, 'errday': 9120, '44': 9121, 'degular': 9122, 'whatsup': 9123, 'hyped': 9124, 'labotory': 9125, 'rememberd': 9126, 'jay': 9127, 'rob': 9128, 'indiana': 9129, 'jones': 9130, 'trading': 9131, 'b000g72384': 9132, 'cytosport': 9133, 'excercise': 9134, \"bittman's\": 9135, 'knead': 9136, 'reflects': 9137, 'sensible': 9138, 'presentable': 9139, 'uploaded': 9140, 'commented': 9141, 'catfood': 9142, 'suplying': 9143, 'slighlty': 9144, 'softness': 9145, 'softened': 9146, 'remotely': 9147, 'resemble': 9148, 'pail': 9149, 'delish': 9150, 'hormone': 9151, 'teenagers': 9152, 'vanilly': 9153, 'repacked': 9154, 'discrepancy': 9155, '400': 9156, 'fortunes': 9157, 'printed': 9158, 'written': 9159, 'pronunciation': 9160, 'softees': 9161, 'favors': 9162, 'pricier': 9163, 'taster': 9164, 'slicer': 9165, 'bridgford': 9166, '64': 9167, 'hardest': 9168, 'subscribing': 9169, 'murrays': 9170, 'pairing': 9171, '5oz': 9172, 'dime': 9173, 'rodent': 9174, 'fired': 9175, 'martin': 9176, 'julienne': 9177, 'ripe': 9178, 'gracious': 9179, 'communications': 9180, \"santa's\": 9181, 'aftertastes': 9182, 'fleeting': 9183, 'alfredo': 9184, 'arthur': 9185, '144': 9186, 'looooves': 9187, 'scary': 9188, 'starred': 9189, 'bashing': 9190, 'bc': 9191, 'affected': 9192, 'ceo': 9193, 'data': 9194, 'fe': 9195, 'file': 9196, 'pdf': 9197, 'defending': 9198, 'profiles': 9199, 'u1427': 9200, 'html': 9201, 'sa': 9202, 'showposts': 9203, 'mcfrugals': 9204, 'graduated': 9205, 'palmetto': 9206, 'jeff': 9207, 'bezos': 9208, 'brisket': 9209, 'horrendously': 9210, 'faith': 9211, 'flap': 9212, 'transport': 9213, 'chooses': 9214, 'error': 9215, 'testing': 9216, 'gallons': 9217, 'reconstituted': 9218, '09': 9219, 'brightly': 9220, 'fondants': 9221, 'slips': 9222, 'b70': 9223, 'lining': 9224, 'rod': 9225, 'bend': 9226, 'columns': 9227, 'ruin': 9228, 'snagged': 9229, 'mat': 9230, 'bursting': 9231, 'unprompted': 9232, 'gluey': 9233, 'akin': 9234, 'scone': 9235, 'dryness': 9236, 'bat': 9237, 'medication': 9238, 'coping': 9239, 'mullein': 9240, 'remedy': 9241, 'combat': 9242, 'mucus': 9243, 'schlepped': 9244, 'genuine': 9245, 'savored': 9246, 'lucianno': 9247, \"pavarotti's\": 9248, 'piccatina': 9249, 'veal': 9250, 'jewel': 9251, 'tense': 9252, 'proved': 9253, 'enlighten': 9254, \"'sorry\": 9255, \"receipt'\": 9256, 'copy': 9257, 'thermometer': 9258, 'crapped': 9259, 'gentleman': 9260, 'forgotten': 9261, 'loosing': 9262, \"pantry's\": 9263, 'bom': 9264, 'maui': 9265, 'secluded': 9266, 'husbands': 9267, \"chantal's\": 9268, \"tasted'\": 9269, 'alway': 9270, \"tortilla's\": 9271, 'belgian': 9272, 'sharffen': 9273, 'kisses': 9274, 'pickles': 9275, 'fattening': 9276, 'plane': 9277, 'happiness': 9278, 'tasttes': 9279, 'lamps': 9280, 'sunlight': 9281, 'pattern': 9282, 'te': 9283, 'recomend': 9284, 'noticeble': 9285, 'inprove': 9286, 'premiere': 9287, 'quantum': 9288, 'labs': 9289, 'butterrum': 9290, 'lifesavers': 9291, 'sanitary': 9292, 'acknowledged': 9293, 'inappropriate': 9294, 'cleans': 9295, 'freshens': 9296, 'argentina': 9297, 'yesterday': 9298, 'kroger': 9299, 'braces': 9300, 'briel': 9301, 'chamonix': 9302, 'tab': 9303, 'stamped': 9304, 'fight': 9305, 'dole': 9306, 'trendy': 9307, 'tragic': 9308, 'compel': 9309, 'indulgent': 9310, 'pellegrino': 9311, 'aranciata': 9312, 'izze': 9313, 'proven': 9314, 'driving': 9315, 'hateful': 9316, 'sneezing': 9317, 'sniffling': 9318, \"night's\": 9319, 'homestyle': 9320, 'russell': 9321, 'stover': 9322, 'frees': 9323, '130': 9324, 'points': 9325, 'commended': 9326, 'kkups': 9327, 'yorkshires': 9328, 'modify': 9329, 'contribute': 9330, 'longterm': 9331, 'observation': 9332, 'listening': 9333, 'vamp': 9334, 'grillin': 9335, '04oz': 9336, '190mg': 9337, 'popcorns': 9338, 'painful': 9339, 'disguise': 9340, 'caper': 9341, 'bellyache': 9342, 'inducing': 9343, 'injections': 9344, 'caramelier': 9345, 'whohoo': 9346, 'valerie': 9347, 'sykes': 9348, '3mil': 9349, 'bucket': 9350, 'slippery': 9351, 'hexagons': 9352, 'dominant': 9353, 'quibble': 9354, 'performing': 9355, 'sorcery': 9356, 'airy': 9357, 'december': 9358, '05': 9359, 'zoomies': 9360, 'powerbar': 9361, 'elevates': 9362, \"'s\": 9363, 'shi': 9364, '20th': 9365, 'wf': 9366, 'mates': 9367, 'cheesey': 9368, 'professes': 9369, 'chemo': 9370, 'sessions': 9371, 'lapses': 9372, 'baggie': 9373, 'springer': 9374, 'loudly': 9375, 'cry': 9376, 'occurrence': 9377, 'aprox': 9378, 'duper': 9379, \"family's\": 9380, 'rewarded': 9381, 'omlettes': 9382, 'enfamil': 9383, 'constipated': 9384, 'healthfood': 9385, 'preserves': 9386, 'intensely': 9387, 'kikkoman': 9388, 'ole': 9389, 'communication': 9390, 'everytime': 9391, 'deserve': 9392, 'detectable': 9393, 'dachshunds': 9394, 'phenomenal': 9395, 'disposed': 9396, 'truckload': 9397, 'slapped': 9398, 'resides': 9399, 'pounder': 9400, 'curl': 9401, 'watchng': 9402, 'tv': 9403, 'perform': 9404, 'believing': 9405, 'horror': 9406, 'nightmare': 9407, 'colour': 9408, 'vomit': 9409, 'greyish': 9410, 'connective': 9411, 'replied': 9412, 'expiry': 9413, '2014': 9414, 'morton': 9415, 'mined': 9416, 'pakistan': 9417, 'b0012ivzxu': 9418, '108': 9419, 'tx': 9420, 'napkin': 9421, '290': 9422, 'cautions': 9423, 'papaya': 9424, 'suggests': 9425, 'shredding': 9426, 'som': 9427, 'tom': 9428, 'visibly': 9429, \"3's\": 9430, \"o's\": 9431, 'billy': 9432, 'evokes': 9433, 'confectionery': 9434, 'imbues': 9435, 'cubicle': 9436, 'vents': 9437, 'attracting': 9438, 'droopy': 9439, 'eyed': 9440, 'departed': 9441, 'b0039556k2': 9442, \"keurig's\": 9443, 'settings': 9444, '24k': 9445, 'tobasco': 9446, 'dunk': 9447, 'borrow': 9448, 'sh': 9449, \"'great'\": 9450, \"'will'\": 9451, 'krinkle': 9452, 'greasiness': 9453, 'judge': 9454, 'merchants': 9455, 'protect': 9456, 'b005seadj6': 9457, 'contrac': 9458, 'blox': 9459, '4x': 9460, '4lbs': 9461, 'rat': 9462, 'baits': 9463, 'relieved': 9464, 'chowed': 9465, 'tamale': 9466, 'descrption': 9467, 'detracting': 9468, 'gingery': 9469, 'nutshell': 9470, 'coincided': 9471, 'symptom': 9472, 'documented': 9473, 'psychological': 9474, 'triumphs': 9475, 'campbells': 9476, 'powders': 9477, 'peculiar': 9478, 'undertone': 9479, 'pinky': 9480, 'cottonseed': 9481, 'masked': 9482, 'oystery': 9483, 'countries': 9484, 'scouring': 9485, 'hickory': 9486, 'universe': 9487, 'capitalize': 9488, 'hysteria': 9489, 'tia': 9490, 'located': 9491, 'palm': 9492, 'doors': 9493, 'potting': 9494, 'houseplants': 9495, 'prevention': 9496, 'irrigation': 9497, 'tubing': 9498, 'beneath': 9499, 'upwards': 9500, 'overwater': 9501, 'walls': 9502, 'infestation': 9503, 'lowering': 9504, 'frequency': 9505, 'waterings': 9506, 'soils': 9507, \"scott's\": 9508, 'terriers': 9509, 'weekly': 9510, 'quencher': 9511, 'acidify': 9512, 'alkalizing': 9513, 'advocate': 9514, 'hippocrates': 9515, 'bragg': 9516, 'concord': 9517, 'toes': 9518, 'counteract': 9519, 'overpowers': 9520, 'recycling': 9521, 'sender': 9522, 'maltose': 9523, 'coatings': 9524, 'cafix': 9525, 'endangered': 9526, 'wirehaired': 9527, 'pointer': 9528, 'ripped': 9529, '71': 9530, 'velvety': 9531, 'reminding': 9532, \"'ice\": 9533, \"cube'\": 9534, 'lysine': 9535, 'obtain': 9536, 'web': 9537, 'sweating': 9538, 'coolest': 9539, 'demise': 9540, 'paleo': 9541, 'stringent': 9542, 'demand': 9543, 'fizz': 9544, '7up': 9545, 'unfortunatally': 9546, 'citymade': 9547, 'rocker': 9548, 'weiners': 9549, 'expecially': 9550, 'suisse': 9551, 'entree': 9552, 'distant': 9553, 'nondairy': 9554, 'fiasco': 9555, 'capped': 9556, 'astounding': 9557, 'hunk': 9558, 'lightning': 9559, 'wits': 9560, \"doctor's\": 9561, 'specialist': 9562, \"ppi's\": 9563, 'proton': 9564, 'inhibitors': 9565, 'candida': 9566, 'retailed': 9567, 'degree': 9568, 'ointments': 9569, 'gnawing': 9570, 'pit': 9571, 'teaspoonful': 9572, 'optimistic': 9573, 'healed': 9574, 'evoo': 9575, 'remarkable': 9576, 'fitted': 9577, 'inserts': 9578, 'suspended': 9579, 'awkward': 9580, 'dribbled': 9581, 'trivial': 9582, 'creamiest': 9583, 'larabars': 9584, 'crumpling': 9585, 'drys': 9586, 'infact': 9587, 'contrary': 9588, 'nutro': 9589, 'fluctuate': 9590, 'wiping': 9591, 'allergen': 9592, 'mmmmmmmm': 9593, \"'whoppers'\": 9594, \"'malted\": 9595, \"milkshake'\": 9596, 'comparably': 9597, 'treatment': 9598, 'ray': 9599, 'joan': 9600, 'taz': 9601, 'identifying': 9602, 'microfiber': 9603, 'cloths': 9604, 'unusually': 9605, 'honeys': 9606, 'subtly': 9607, 'containes': 9608, 'apprx': 9609, '90': 9610, 'hooves': 9611, 'tempting': 9612, '06': 9613, 'cs': 9614, 'doubtable': 9615, 'tblsp': 9616, 'reordering': 9617, 'bilberry': 9618, 'spelling': 9619, 'straightly': 9620, 'simplistic': 9621, 'universal': 9622, 'identification': 9623, 'bilberrys': 9624, 'anthocyanins': 9625, 'fads': 9626, 'hammering': 9627, 'confection': 9628, 'deli': 9629, 'milka': 9630, 'jogurette': 9631, 'raining': 9632, 'expedite': 9633, 'expedited': 9634, 'visited': 9635, 'subscriber': 9636, 'sickeningly': 9637, 'audience': 9638, 'cabbage': 9639, 'cared': 9640, 'malfunctions': 9641, 'wire': 9642, '12g': 9643, 'scoopful': 9644, 'frappe': 9645, 'spell': 9646, 'private': 9647, 'meijer': 9648, 'lactic': 9649, 'esters': 9650, 'mono': 9651, 'diglycerides': 9652, 'improvements': 9653, 'privileges': 9654, 'couch': 9655, 'yawn': 9656, 'smelt': 9657, 'kitteh': 9658, 'limbered': 9659, 'squeezing': 9660, '10th': 9661, 'doritos': 9662, 'aficionado': 9663, 'tomorrow': 9664, \"brands'\": 9665, 'tot': 9666, 'partners': 9667, 'organization': 9668, 'malawi': 9669, 'russle': 9670, 'k9': 9671, 'mobility': 9672, 'combos': 9673, 'flame': 9674, 'covets': 9675, 'signing': 9676, 'recurring': 9677, 'patella': 9678, 'limping': 9679, 'envelope': 9680, 'peices': 9681, 'quintessential': 9682, 'b000f3ws7k': 9683, 'mcvitie': 9684, 'disappear': 9685, 'dunker': 9686, 'readers': 9687, 'frowned': 9688, 'undertaken': 9689, 'peasant': 9690, 'classes': 9691, 'indulged': 9692, 'privacy': 9693, 'danger': 9694, 'servants': 9695, 'fragile': 9696, \"mcvitie's\": 9697, 'despair': 9698, 'exquisite': 9699, 'cioccolati': 9700, 'courseness': 9701, 'um': 9702, 'tantalizing': 9703, 'destroys': 9704, 'unused': 9705, 'carousel': 9706, 'diminished': 9707, '30lbs': 9708, 'invoice': 9709, 'lentil': 9710, 'purees': 9711, 'labradoodle': 9712, 'sheen': 9713, 'cloth': 9714, 'somekind': 9715, 'explanation': 9716, 'socks': 9717, \"''made\": 9718, 'cappucino': 9719, 'employees': 9720, 'impressively': 9721, 'puree': 9722, 'messing': 9723, 'chocolatey': 9724, 'burpee': 9725, \"advisor's\": 9726, \"jalapeno's\": 9727, 'locked': 9728, 'shelfs': 9729, 'toledo': 9730, 'fort': 9731, 'texas': 9732, 'breadcrumbs': 9733, 'adequate': 9734, 'flavorjunkie': 9735, 'flabbergasted': 9736, 'shoved': 9737, 'interrupt': 9738, 'chemistry': 9739, 'tray': 9740, 'foodmaker': 9741, 'mermaid': 9742, 'wholesale': 9743, 'retailers': 9744, 'conserve': 9745, 'averaging': 9746, 'jokingly': 9747, 'refer': 9748, 'negril': 9749, 'john': 9750, 'budda': 9751, 'minty': 9752, 'lucy': 9753, 'bony': 9754, 'angular': 9755, 'b00139tt72': 9756, 'stave': 9757, 'pangs': 9758, 'loads': 9759, 'deserved': 9760, 'specialities': 9761, 'permanently': 9762, 'menu': 9763, 'catalogue': 9764, 'mahogany': 9765, 'frist': 9766, 'potatos': 9767, 'addiciting': 9768, 'dating': 9769, 'gathering': 9770, 'prilosec': 9771, 'ware': 9772, 'stuffings': 9773, 'yallmart': 9774, 'equates': 9775, 'profit': 9776, 'domain': 9777, 'creep': 9778, 'sacrificed': 9779, 'troubles': 9780, 'chubby': 9781, 'geriatric': 9782, 'hawk': 9783, 'squish': 9784, 'similiar': 9785, 'maxwell': 9786, 'vizsla': 9787, 'noteable': 9788, 'embarrasing': 9789, 'biodegradable': 9790, 'print': 9791, 'centimeter': 9792, 'veterinarian': 9793, 'supplementing': 9794, 'undamaged': 9795, 'gobble': 9796, 'licked': 9797, 'satisfactorily': 9798, 'smack': 9799, 'niagara': 9800, 'currant': 9801, 'poochies': 9802, 'morkie': 9803, 'faces': 9804, 'goodluck': 9805, 'valentina': 9806, 'picante': 9807, 'wander': 9808, 'soul': 9809, 'hurricane': 9810, 'diluted': 9811, 'garnishing': 9812, 'extras': 9813, 'quenched': 9814, 'valuable': 9815, 'babanas': 9816, 'b001vdxo3k': 9817, 'soothe': 9818, 'dives': 9819, 'feline': 9820, 'bonito': 9821, 'tan': 9822, 'eden': 9823}\n"
     ]
    }
   ],
   "source": [
    "word_index = tokenizer.word_index  \n",
    "print(word_index)"
   ]
  },
  {
   "cell_type": "code",
   "execution_count": 52,
   "id": "4abe8abe",
   "metadata": {
    "execution": {
     "iopub.execute_input": "2025-03-10T12:46:49.339166Z",
     "iopub.status.busy": "2025-03-10T12:46:49.338784Z",
     "iopub.status.idle": "2025-03-10T12:46:49.346832Z",
     "shell.execute_reply": "2025-03-10T12:46:49.345146Z"
    },
    "papermill": {
     "duration": 0.25321,
     "end_time": "2025-03-10T12:46:49.348866",
     "exception": false,
     "start_time": "2025-03-10T12:46:49.095656",
     "status": "completed"
    },
    "tags": []
   },
   "outputs": [
    {
     "name": "stdout",
     "output_type": "stream",
     "text": [
      "[[1, 103, 8, 64, 67, 6, 21, 25, 873]]\n"
     ]
    }
   ],
   "source": [
    "sentence = [\"The sugar is too much.It was so terrible\"]\n",
    "sequence = tokenizer.texts_to_sequences(sentence)\n",
    "print(sequence)  \n",
    "from tensorflow.keras.preprocessing.sequence import pad_sequences\n",
    "\n"
   ]
  },
  {
   "cell_type": "code",
   "execution_count": 53,
   "id": "07b7891e",
   "metadata": {
    "execution": {
     "iopub.execute_input": "2025-03-10T12:46:49.754499Z",
     "iopub.status.busy": "2025-03-10T12:46:49.753936Z",
     "iopub.status.idle": "2025-03-10T12:46:49.764351Z",
     "shell.execute_reply": "2025-03-10T12:46:49.762263Z"
    },
    "papermill": {
     "duration": 0.217129,
     "end_time": "2025-03-10T12:46:49.766632",
     "exception": false,
     "start_time": "2025-03-10T12:46:49.549503",
     "status": "completed"
    },
    "tags": []
   },
   "outputs": [
    {
     "name": "stdout",
     "output_type": "stream",
     "text": [
      "[[[  1 103   8  64  67   6  21  25 873]\n",
      "  [  0   0   0   0   0   0   0   0   0]\n",
      "  [  0   0   0   0   0   0   0   0   0]\n",
      "  [  0   0   0   0   0   0   0   0   0]\n",
      "  [  0   0   0   0   0   0   0   0   0]\n",
      "  [  0   0   0   0   0   0   0   0   0]\n",
      "  [  0   0   0   0   0   0   0   0   0]\n",
      "  [  0   0   0   0   0   0   0   0   0]\n",
      "  [  0   0   0   0   0   0   0   0   0]\n",
      "  [  0   0   0   0   0   0   0   0   0]\n",
      "  [  0   0   0   0   0   0   0   0   0]\n",
      "  [  0   0   0   0   0   0   0   0   0]\n",
      "  [  0   0   0   0   0   0   0   0   0]\n",
      "  [  0   0   0   0   0   0   0   0   0]\n",
      "  [  0   0   0   0   0   0   0   0   0]\n",
      "  [  0   0   0   0   0   0   0   0   0]\n",
      "  [  0   0   0   0   0   0   0   0   0]\n",
      "  [  0   0   0   0   0   0   0   0   0]\n",
      "  [  0   0   0   0   0   0   0   0   0]\n",
      "  [  0   0   0   0   0   0   0   0   0]\n",
      "  [  0   0   0   0   0   0   0   0   0]\n",
      "  [  0   0   0   0   0   0   0   0   0]\n",
      "  [  0   0   0   0   0   0   0   0   0]\n",
      "  [  0   0   0   0   0   0   0   0   0]\n",
      "  [  0   0   0   0   0   0   0   0   0]\n",
      "  [  0   0   0   0   0   0   0   0   0]\n",
      "  [  0   0   0   0   0   0   0   0   0]\n",
      "  [  0   0   0   0   0   0   0   0   0]\n",
      "  [  0   0   0   0   0   0   0   0   0]\n",
      "  [  0   0   0   0   0   0   0   0   0]\n",
      "  [  0   0   0   0   0   0   0   0   0]\n",
      "  [  0   0   0   0   0   0   0   0   0]\n",
      "  [  0   0   0   0   0   0   0   0   0]\n",
      "  [  0   0   0   0   0   0   0   0   0]\n",
      "  [  0   0   0   0   0   0   0   0   0]\n",
      "  [  0   0   0   0   0   0   0   0   0]\n",
      "  [  0   0   0   0   0   0   0   0   0]\n",
      "  [  0   0   0   0   0   0   0   0   0]\n",
      "  [  0   0   0   0   0   0   0   0   0]\n",
      "  [  0   0   0   0   0   0   0   0   0]\n",
      "  [  0   0   0   0   0   0   0   0   0]\n",
      "  [  0   0   0   0   0   0   0   0   0]\n",
      "  [  0   0   0   0   0   0   0   0   0]\n",
      "  [  0   0   0   0   0   0   0   0   0]\n",
      "  [  0   0   0   0   0   0   0   0   0]\n",
      "  [  0   0   0   0   0   0   0   0   0]\n",
      "  [  0   0   0   0   0   0   0   0   0]\n",
      "  [  0   0   0   0   0   0   0   0   0]\n",
      "  [  0   0   0   0   0   0   0   0   0]\n",
      "  [  0   0   0   0   0   0   0   0   0]\n",
      "  [  0   0   0   0   0   0   0   0   0]\n",
      "  [  0   0   0   0   0   0   0   0   0]\n",
      "  [  0   0   0   0   0   0   0   0   0]\n",
      "  [  0   0   0   0   0   0   0   0   0]\n",
      "  [  0   0   0   0   0   0   0   0   0]\n",
      "  [  0   0   0   0   0   0   0   0   0]\n",
      "  [  0   0   0   0   0   0   0   0   0]\n",
      "  [  0   0   0   0   0   0   0   0   0]\n",
      "  [  0   0   0   0   0   0   0   0   0]\n",
      "  [  0   0   0   0   0   0   0   0   0]\n",
      "  [  0   0   0   0   0   0   0   0   0]\n",
      "  [  0   0   0   0   0   0   0   0   0]\n",
      "  [  0   0   0   0   0   0   0   0   0]\n",
      "  [  0   0   0   0   0   0   0   0   0]\n",
      "  [  0   0   0   0   0   0   0   0   0]\n",
      "  [  0   0   0   0   0   0   0   0   0]\n",
      "  [  0   0   0   0   0   0   0   0   0]\n",
      "  [  0   0   0   0   0   0   0   0   0]\n",
      "  [  0   0   0   0   0   0   0   0   0]\n",
      "  [  0   0   0   0   0   0   0   0   0]\n",
      "  [  0   0   0   0   0   0   0   0   0]\n",
      "  [  0   0   0   0   0   0   0   0   0]\n",
      "  [  0   0   0   0   0   0   0   0   0]\n",
      "  [  0   0   0   0   0   0   0   0   0]\n",
      "  [  0   0   0   0   0   0   0   0   0]\n",
      "  [  0   0   0   0   0   0   0   0   0]\n",
      "  [  0   0   0   0   0   0   0   0   0]\n",
      "  [  0   0   0   0   0   0   0   0   0]\n",
      "  [  0   0   0   0   0   0   0   0   0]\n",
      "  [  0   0   0   0   0   0   0   0   0]\n",
      "  [  0   0   0   0   0   0   0   0   0]\n",
      "  [  0   0   0   0   0   0   0   0   0]\n",
      "  [  0   0   0   0   0   0   0   0   0]\n",
      "  [  0   0   0   0   0   0   0   0   0]\n",
      "  [  0   0   0   0   0   0   0   0   0]\n",
      "  [  0   0   0   0   0   0   0   0   0]\n",
      "  [  0   0   0   0   0   0   0   0   0]\n",
      "  [  0   0   0   0   0   0   0   0   0]\n",
      "  [  0   0   0   0   0   0   0   0   0]\n",
      "  [  0   0   0   0   0   0   0   0   0]\n",
      "  [  0   0   0   0   0   0   0   0   0]\n",
      "  [  0   0   0   0   0   0   0   0   0]\n",
      "  [  0   0   0   0   0   0   0   0   0]\n",
      "  [  0   0   0   0   0   0   0   0   0]\n",
      "  [  0   0   0   0   0   0   0   0   0]\n",
      "  [  0   0   0   0   0   0   0   0   0]\n",
      "  [  0   0   0   0   0   0   0   0   0]\n",
      "  [  0   0   0   0   0   0   0   0   0]\n",
      "  [  0   0   0   0   0   0   0   0   0]\n",
      "  [  0   0   0   0   0   0   0   0   0]]]\n"
     ]
    }
   ],
   "source": [
    "\n",
    "padSequence = pad_sequences([sequence], maxlen=100, padding='post')\n",
    "print(padSequence)"
   ]
  },
  {
   "cell_type": "code",
   "execution_count": 54,
   "id": "7b503bbf",
   "metadata": {
    "execution": {
     "iopub.execute_input": "2025-03-10T12:46:50.230877Z",
     "iopub.status.busy": "2025-03-10T12:46:50.230170Z",
     "iopub.status.idle": "2025-03-10T12:46:50.237934Z",
     "shell.execute_reply": "2025-03-10T12:46:50.236599Z"
    },
    "papermill": {
     "duration": 0.203659,
     "end_time": "2025-03-10T12:46:50.239575",
     "exception": false,
     "start_time": "2025-03-10T12:46:50.035916",
     "status": "completed"
    },
    "tags": []
   },
   "outputs": [
    {
     "name": "stdout",
     "output_type": "stream",
     "text": [
      "Embedding for 'sugar':\n",
      "[-0.50102    0.47693   -0.23094    0.09815   -0.47729   -0.54223\n",
      "  0.19187    0.36668   -0.26447   -0.44727   -0.21512   -0.84391\n",
      " -0.45054    0.69984   -0.26606   -0.24881    0.33414   -0.05652\n",
      "  0.40768   -0.11274   -0.099327   0.42851    0.65168    0.0055395\n",
      " -0.52028    1.3586    -0.14236   -1.1546    -0.36393    0.49567\n",
      "  0.25667    0.51449    0.10041   -0.46008   -0.6317     0.23392\n",
      "  0.37104    1.023      0.0097355 -0.59805   -0.24065   -1.6984\n",
      " -0.37061   -1.0264     0.83776   -0.053104  -0.66479    0.10912\n",
      " -0.14153   -0.86754   -0.92637   -0.10687    0.10497    1.0619\n",
      " -0.19815   -0.71592   -1.3721    -0.012372   1.0085    -0.34587\n",
      "  0.16928   -0.18378   -0.26609   -0.72865    0.49342   -0.79251\n",
      "  0.44063   -0.025357   0.60194   -1.0359    -0.14034    0.13473\n",
      "  0.30057    1.1319     0.41484    0.11245   -0.021234  -0.79753\n",
      " -0.21025    1.0682     0.26589   -0.57706   -0.79301    0.91439\n",
      " -0.603     -0.20592    0.2189    -0.25648   -0.013136   0.2554\n",
      " -0.328      0.013645  -1.6106    -0.21453   -1.3448    -1.1468\n",
      "  0.24619   -0.35302    0.62473   -0.31267  ]\n"
     ]
    }
   ],
   "source": [
    "word_to_check = \"sugar\"\n",
    "\n",
    "if word_to_check in gloveEmbeddings:\n",
    "    print(f\"Embedding for '{word_to_check}':\\n{gloveEmbeddings[word_to_check]}\")\n",
    "else:\n",
    "    print(f\"'{word_to_check}' not found in GloVe embeddings.\")\n"
   ]
  },
  {
   "cell_type": "code",
   "execution_count": 55,
   "id": "9574bb3d",
   "metadata": {
    "execution": {
     "iopub.execute_input": "2025-03-10T12:46:50.617007Z",
     "iopub.status.busy": "2025-03-10T12:46:50.616589Z",
     "iopub.status.idle": "2025-03-10T12:46:50.623182Z",
     "shell.execute_reply": "2025-03-10T12:46:50.621964Z"
    },
    "papermill": {
     "duration": 0.194864,
     "end_time": "2025-03-10T12:46:50.624808",
     "exception": false,
     "start_time": "2025-03-10T12:46:50.429944",
     "status": "completed"
    },
    "tags": []
   },
   "outputs": [
    {
     "name": "stdout",
     "output_type": "stream",
     "text": [
      "Embedding for 'is':\n",
      "[-0.54264    0.41476    1.0322    -0.40244    0.46691    0.21816\n",
      " -0.074864   0.47332    0.080996  -0.22079   -0.12808   -0.1144\n",
      "  0.50891    0.11568    0.028211  -0.3628     0.43823    0.047511\n",
      "  0.20282    0.49857   -0.10068    0.13269    0.16972    0.11653\n",
      "  0.31355    0.25713    0.092783  -0.56826   -0.52975   -0.051456\n",
      " -0.67326    0.92533    0.2693     0.22734    0.66365    0.26221\n",
      "  0.19719    0.2609     0.18774   -0.3454    -0.42635    0.13975\n",
      "  0.56338   -0.56907    0.12398   -0.12894    0.72484   -0.26105\n",
      " -0.26314   -0.43605    0.078908  -0.84146    0.51595    1.3997\n",
      " -0.7646    -3.1453    -0.29202   -0.31247    1.5129     0.52435\n",
      "  0.21456    0.42452   -0.088411  -0.17805    1.1876     0.10579\n",
      "  0.76571    0.21914    0.35824   -0.11636    0.093261  -0.62483\n",
      " -0.21898    0.21796    0.74056   -0.43735    0.14343    0.14719\n",
      " -1.1605    -0.050508   0.12677   -0.014395  -0.98676   -0.091297\n",
      " -1.2054    -0.11974    0.047847  -0.54001    0.52457   -0.70963\n",
      " -0.32528   -0.1346    -0.41314    0.33435   -0.0072412  0.32253\n",
      " -0.044219  -1.2969     0.76217    0.46349  ]\n"
     ]
    }
   ],
   "source": [
    "word2 = \"is\"\n",
    "\n",
    "if word2 in gloveEmbeddings:\n",
    "    print(f\"Embedding for '{word2}':\\n{gloveEmbeddings[word2]}\")\n",
    "else:\n",
    "    print(f\"'{word2}' not found in GloVe embeddings.\")"
   ]
  },
  {
   "cell_type": "code",
   "execution_count": 56,
   "id": "87b59765",
   "metadata": {
    "execution": {
     "iopub.execute_input": "2025-03-10T12:46:51.007284Z",
     "iopub.status.busy": "2025-03-10T12:46:51.006913Z",
     "iopub.status.idle": "2025-03-10T12:46:51.013803Z",
     "shell.execute_reply": "2025-03-10T12:46:51.012575Z"
    },
    "papermill": {
     "duration": 0.201658,
     "end_time": "2025-03-10T12:46:51.015435",
     "exception": false,
     "start_time": "2025-03-10T12:46:50.813777",
     "status": "completed"
    },
    "tags": []
   },
   "outputs": [
    {
     "name": "stdout",
     "output_type": "stream",
     "text": [
      "Embedding for 'the':\n",
      "[-0.038194 -0.24487   0.72812  -0.39961   0.083172  0.043953 -0.39141\n",
      "  0.3344   -0.57545   0.087459  0.28787  -0.06731   0.30906  -0.26384\n",
      " -0.13231  -0.20757   0.33395  -0.33848  -0.31743  -0.48336   0.1464\n",
      " -0.37304   0.34577   0.052041  0.44946  -0.46971   0.02628  -0.54155\n",
      " -0.15518  -0.14107  -0.039722  0.28277   0.14393   0.23464  -0.31021\n",
      "  0.086173  0.20397   0.52624   0.17164  -0.082378 -0.71787  -0.41531\n",
      "  0.20335  -0.12763   0.41367   0.55187   0.57908  -0.33477  -0.36559\n",
      " -0.54857  -0.062892  0.26584   0.30205   0.99775  -0.80481  -3.0243\n",
      "  0.01254  -0.36942   2.2167    0.72201  -0.24978   0.92136   0.034514\n",
      "  0.46745   1.1079   -0.19358  -0.074575  0.23353  -0.052062 -0.22044\n",
      "  0.057162 -0.15806  -0.30798  -0.41625   0.37972   0.15006  -0.53212\n",
      " -0.2055   -1.2526    0.071624  0.70565   0.49744  -0.42063   0.26148\n",
      " -1.538    -0.30223  -0.073438 -0.28312   0.37104  -0.25217   0.016215\n",
      " -0.017099 -0.38984   0.87424  -0.72569  -0.51058  -0.52028  -0.1459\n",
      "  0.8278    0.27062 ]\n"
     ]
    }
   ],
   "source": [
    "word3 = \"the\"\n",
    "\n",
    "if word3 in gloveEmbeddings:\n",
    "    print(f\"Embedding for '{word3}':\\n{gloveEmbeddings[word3]}\")\n",
    "else:\n",
    "    print(f\"'{word3}' not found in GloVe embeddings.\")"
   ]
  },
  {
   "cell_type": "code",
   "execution_count": 57,
   "id": "bc122de1",
   "metadata": {
    "execution": {
     "iopub.execute_input": "2025-03-10T12:46:51.477141Z",
     "iopub.status.busy": "2025-03-10T12:46:51.476753Z",
     "iopub.status.idle": "2025-03-10T12:46:51.482983Z",
     "shell.execute_reply": "2025-03-10T12:46:51.481812Z"
    },
    "papermill": {
     "duration": 0.265917,
     "end_time": "2025-03-10T12:46:51.484703",
     "exception": false,
     "start_time": "2025-03-10T12:46:51.218786",
     "status": "completed"
    },
    "tags": []
   },
   "outputs": [
    {
     "name": "stdout",
     "output_type": "stream",
     "text": [
      "Embedding for 'too':\n",
      "[-6.1040e-01  2.8971e-01  6.2573e-01 -6.5753e-01 -5.9586e-01  7.6895e-02\n",
      " -6.0556e-01  1.0634e-02  3.4783e-01 -4.3325e-01  1.3869e-01  2.2622e-01\n",
      " -8.0813e-02 -2.4775e-01 -1.0613e-01 -5.5539e-01 -5.8195e-01  2.1491e-01\n",
      "  2.8707e-02  5.4337e-01  5.3498e-01  8.0320e-01  2.7518e-01 -2.8186e-01\n",
      " -7.0555e-02  3.5080e-01 -1.0586e+00 -1.0073e+00 -1.7399e-02  1.0048e-01\n",
      "  6.8697e-02  4.5259e-01 -2.3724e-01 -3.5439e-01  2.2933e-01  5.2986e-01\n",
      " -8.8526e-02  1.7798e-01 -3.6976e-01 -4.7994e-02 -1.3154e-01 -2.5357e-01\n",
      " -1.7017e-01 -4.8352e-01 -3.6778e-01 -5.5602e-01  5.8723e-01  4.0939e-01\n",
      "  3.4807e-01 -8.4191e-01  2.1293e-01 -4.0240e-01  6.3245e-02  1.2009e+00\n",
      " -3.1677e-01 -2.4433e+00  3.6761e-01  9.1433e-02  1.5495e+00  1.1378e-02\n",
      "  5.8241e-02  1.3236e+00 -4.8752e-01  1.7317e-01  6.7283e-01 -2.3639e-01\n",
      "  8.8461e-01  1.5139e-01 -1.2190e-01 -1.5251e-01 -1.9425e-01 -6.2059e-01\n",
      "  5.4896e-02  1.7419e-03  3.9242e-01 -2.7105e-01 -4.6918e-01 -6.7190e-02\n",
      " -5.2223e-01  2.0321e-02  8.1756e-01 -2.7581e-01 -6.5014e-01 -1.5146e-01\n",
      " -2.0179e+00 -5.1833e-01 -5.5365e-02  1.5961e-01 -9.3043e-01 -4.8969e-01\n",
      " -3.3129e-02 -1.0458e-01 -1.8781e-01 -1.0454e-02 -4.2382e-01 -2.7874e-01\n",
      " -4.5546e-01 -3.5054e-01  5.2370e-02  3.4214e-01]\n"
     ]
    }
   ],
   "source": [
    "word4 = \"too\"\n",
    "\n",
    "if word4 in gloveEmbeddings:\n",
    "    print(f\"Embedding for '{word4}':\\n{gloveEmbeddings[word4]}\")\n",
    "else:\n",
    "    print(f\"'{word4}' not found in GloVe embeddings.\")"
   ]
  },
  {
   "cell_type": "code",
   "execution_count": 58,
   "id": "d794e866",
   "metadata": {
    "execution": {
     "iopub.execute_input": "2025-03-10T12:46:51.861839Z",
     "iopub.status.busy": "2025-03-10T12:46:51.861435Z",
     "iopub.status.idle": "2025-03-10T12:46:51.868820Z",
     "shell.execute_reply": "2025-03-10T12:46:51.867444Z"
    },
    "papermill": {
     "duration": 0.201976,
     "end_time": "2025-03-10T12:46:51.871326",
     "exception": false,
     "start_time": "2025-03-10T12:46:51.669350",
     "status": "completed"
    },
    "tags": []
   },
   "outputs": [
    {
     "name": "stdout",
     "output_type": "stream",
     "text": [
      "Embedding for 'much':\n",
      "[-0.3384    0.6032    0.61412  -0.05686  -0.37309  -0.061981 -0.40583\n",
      " -0.11304   0.018956 -0.086392 -0.19767   0.30401  -0.17332  -0.58002\n",
      "  0.25126  -0.83477  -0.34257   0.18994   0.093403  0.68556   0.41599\n",
      "  0.44229  -0.080242 -0.29032   0.026182 -0.066266 -0.29265  -0.61917\n",
      " -0.003058 -0.30887   0.046545  0.29265  -0.11817  -0.099073 -0.12231\n",
      "  0.44359   0.037724  0.34108  -0.31529   0.22834  -0.23893  -0.53311\n",
      "  0.09226  -0.26013  -0.345    -0.079983  0.80432  -0.34395   0.42991\n",
      " -1.2454    0.22909  -0.031585  0.14377   1.1435   -0.29506  -2.7798\n",
      " -0.083334 -0.50714   1.5535    0.25629   0.43922   1.3835   -0.65789\n",
      "  0.23549   0.66741  -0.084843  0.83077   0.18837   0.49648   0.076237\n",
      "  0.082209 -0.38204   0.12748   0.10687   0.19172  -0.092941 -0.31443\n",
      " -0.35409  -1.0228    0.452     0.53832   0.089991 -0.67326   0.18871\n",
      " -1.5292    0.083864  0.016029 -0.11863  -0.40369  -0.49117   0.36135\n",
      " -0.25832  -0.24702  -0.18608  -0.48393  -0.48878  -0.30166  -0.37964\n",
      "  0.59431   0.61286 ]\n"
     ]
    }
   ],
   "source": [
    "word5 = \"much\"\n",
    "\n",
    "if word5 in gloveEmbeddings:\n",
    "    print(f\"Embedding for '{word5}':\\n{gloveEmbeddings[word5]}\")\n",
    "else:\n",
    "    print(f\"'{word5}' not found in GloVe embeddings.\")"
   ]
  },
  {
   "cell_type": "code",
   "execution_count": 59,
   "id": "9324f3f8",
   "metadata": {
    "execution": {
     "iopub.execute_input": "2025-03-10T12:46:52.252812Z",
     "iopub.status.busy": "2025-03-10T12:46:52.252399Z",
     "iopub.status.idle": "2025-03-10T12:46:52.259990Z",
     "shell.execute_reply": "2025-03-10T12:46:52.257796Z"
    },
    "papermill": {
     "duration": 0.200506,
     "end_time": "2025-03-10T12:46:52.262321",
     "exception": false,
     "start_time": "2025-03-10T12:46:52.061815",
     "status": "completed"
    },
    "tags": []
   },
   "outputs": [
    {
     "name": "stdout",
     "output_type": "stream",
     "text": [
      "Embedding for 'it':\n",
      "[-3.0664e-01  1.6821e-01  9.8511e-01 -3.3606e-01 -2.4160e-01  1.6186e-01\n",
      " -5.3496e-02  4.3010e-01  5.7342e-01 -7.1569e-02  3.6101e-01  2.6729e-01\n",
      "  2.7789e-01 -7.2268e-02  1.3838e-01 -2.6714e-01  1.2999e-01  2.2949e-01\n",
      " -1.8311e-01  5.0163e-01  4.4921e-01 -2.0821e-02  4.2642e-01 -6.8762e-02\n",
      "  4.0337e-01  9.5198e-02 -3.1944e-01 -5.4651e-01 -1.3345e-01 -5.6511e-01\n",
      " -2.0975e-01  1.1592e+00 -1.9400e-01  1.9828e-01 -1.1924e-01  4.1781e-01\n",
      "  6.8383e-03 -2.0537e-01 -5.3375e-01 -5.2225e-01 -3.8227e-01 -6.5833e-03\n",
      "  1.4265e-01 -4.2502e-01 -3.1150e-01  2.7352e-03  7.5093e-01 -4.8218e-01\n",
      " -1.8595e-01 -7.7104e-01 -4.6406e-02 -6.9140e-02  4.1688e-01  1.3235e+00\n",
      " -8.1742e-01 -3.3998e+00 -1.1307e-01 -3.4123e-01  2.0775e+00  6.1369e-01\n",
      "  1.4792e-01  9.3753e-01 -1.0138e-01  2.8426e-01  9.7899e-01 -3.2335e-01\n",
      "  6.3697e-01  5.8308e-01  2.2820e-01 -3.1696e-01  2.1061e-01 -6.5060e-01\n",
      "  2.1653e-01 -2.4347e-01  5.5519e-01 -3.4351e-01 -9.5093e-02 -1.4715e-01\n",
      " -1.2876e+00  3.9310e-01  3.0163e-01 -2.1767e-01 -1.1146e+00  5.1349e-01\n",
      " -1.3410e+00 -3.0381e-01  3.2499e-01 -4.5236e-01 -1.7743e-01 -4.8504e-02\n",
      " -1.2178e-01 -4.2108e-01 -4.0327e-01  3.8452e-02 -3.6084e-01  3.7738e-02\n",
      " -2.1885e-01 -3.8775e-01  3.6916e-01  5.4521e-01]\n"
     ]
    }
   ],
   "source": [
    "word6 = \"it\"\n",
    "\n",
    "if word6 in gloveEmbeddings:\n",
    "    print(f\"Embedding for '{word6}':\\n{gloveEmbeddings[word6]}\")\n",
    "else:\n",
    "    print(f\"'{word6}' not found in GloVe embeddings.\")"
   ]
  },
  {
   "cell_type": "code",
   "execution_count": 60,
   "id": "c40a655a",
   "metadata": {
    "execution": {
     "iopub.execute_input": "2025-03-10T12:46:52.658877Z",
     "iopub.status.busy": "2025-03-10T12:46:52.658476Z",
     "iopub.status.idle": "2025-03-10T12:46:52.666027Z",
     "shell.execute_reply": "2025-03-10T12:46:52.664491Z"
    },
    "papermill": {
     "duration": 0.206091,
     "end_time": "2025-03-10T12:46:52.668546",
     "exception": false,
     "start_time": "2025-03-10T12:46:52.462455",
     "status": "completed"
    },
    "tags": []
   },
   "outputs": [
    {
     "name": "stdout",
     "output_type": "stream",
     "text": [
      "Embedding for 'was':\n",
      "[ 1.3717e-01 -5.4287e-01  1.9419e-01 -2.9953e-01  1.7545e-01  8.4672e-02\n",
      "  6.7752e-01  9.8295e-02 -3.5611e-02  2.1334e-01  5.1663e-01  2.0687e-01\n",
      "  4.4082e-01 -3.3655e-01  5.6025e-01 -6.8790e-01  5.1957e-01 -2.1258e-01\n",
      " -5.2708e-01 -1.2249e-01  3.3099e-01  2.6448e-02  5.9007e-01  6.5469e-03\n",
      "  4.5405e-01 -3.3884e-01 -2.8261e-01 -2.4633e-01  1.0847e-01  3.1640e-01\n",
      " -1.5368e-01  7.3503e-01  1.1858e-01  7.0842e-01  7.5081e-02  2.9738e-01\n",
      " -1.1395e-01  4.0807e-01 -4.2531e-02 -2.1301e-01 -7.9849e-01 -1.2703e-01\n",
      "  7.5200e-01 -4.1746e-01  4.6615e-01 -3.9097e-02  6.5961e-01 -3.2336e-01\n",
      "  4.4200e-01 -9.4137e-01 -2.3125e-01 -3.0604e-01  7.9912e-01  1.4581e+00\n",
      " -8.8199e-01 -3.0041e+00 -7.5243e-01 -2.0503e-01  1.1998e+00  9.4881e-01\n",
      "  3.0649e-01  4.8411e-01 -7.5720e-01  6.5856e-01  7.0107e-01 -9.3141e-01\n",
      "  5.2928e-01  2.3323e-01  1.8857e-01  3.8691e-01  1.1489e-02 -3.1937e-01\n",
      "  1.1858e-02  2.2944e-01  1.7764e-01  1.6868e-01  1.4003e-01  5.8647e-01\n",
      " -1.5447e+00 -6.4425e-02 -6.4711e-04  1.3606e-01 -3.2695e-01  1.0043e-01\n",
      " -1.5460e+00 -5.4760e-01  2.1027e-01 -6.7195e-01 -1.5970e-01 -6.8271e-01\n",
      " -2.2043e-01 -8.7088e-01 -1.6248e-01  8.3086e-01 -2.3045e-01  1.9864e-01\n",
      " -5.1892e-02 -5.2057e-01  2.5434e-01 -2.3759e-01]\n"
     ]
    }
   ],
   "source": [
    "word7 = \"was\"\n",
    "\n",
    "if word7 in gloveEmbeddings:\n",
    "    print(f\"Embedding for '{word7}':\\n{gloveEmbeddings[word7]}\")\n",
    "else:\n",
    "    print(f\"'{word7}' not found in GloVe embeddings.\")"
   ]
  },
  {
   "cell_type": "code",
   "execution_count": 61,
   "id": "66c09d9c",
   "metadata": {
    "execution": {
     "iopub.execute_input": "2025-03-10T12:46:53.126529Z",
     "iopub.status.busy": "2025-03-10T12:46:53.125599Z",
     "iopub.status.idle": "2025-03-10T12:46:53.133203Z",
     "shell.execute_reply": "2025-03-10T12:46:53.131992Z"
    },
    "papermill": {
     "duration": 0.273245,
     "end_time": "2025-03-10T12:46:53.135096",
     "exception": false,
     "start_time": "2025-03-10T12:46:52.861851",
     "status": "completed"
    },
    "tags": []
   },
   "outputs": [
    {
     "name": "stdout",
     "output_type": "stream",
     "text": [
      "Embedding for 'so':\n",
      "[-3.9551e-01  5.4660e-01  5.0315e-01 -6.3682e-01 -4.5470e-01  3.0889e-01\n",
      " -4.9240e-02  2.7191e-01  3.1562e-01 -3.2879e-01  2.5089e-01  1.4508e-01\n",
      "  3.5136e-01 -2.2793e-01 -1.5894e-01 -5.1527e-01 -2.7978e-01  3.6470e-01\n",
      " -3.9425e-01  3.3299e-01  4.3051e-01  1.8300e-01  2.5095e-01 -1.8547e-01\n",
      "  3.4698e-01  5.5137e-02 -4.5979e-01 -8.2963e-01 -1.8523e-02 -3.6772e-01\n",
      "  4.5566e-02  7.1052e-01 -2.2782e-02 -8.0889e-02  2.0685e-01  4.9855e-01\n",
      " -5.9794e-02 -8.0048e-03 -2.3823e-01 -3.3759e-01 -2.4201e-01 -2.3788e-01\n",
      " -1.1362e-03 -4.0395e-01 -4.4859e-01 -3.2189e-01  4.8405e-01 -2.7999e-02\n",
      "  1.0148e-01 -9.3585e-01 -8.7522e-02 -3.9959e-01  3.6545e-01  1.3726e+00\n",
      " -3.0713e-01 -2.5940e+00  2.2431e-01 -4.1168e-02  1.7765e+00  4.0010e-01\n",
      " -1.0996e-01  1.4178e+00 -2.6154e-01  1.8617e-01  7.9328e-01 -1.1709e-01\n",
      "  8.7541e-01  4.3911e-01  3.4711e-01 -2.8515e-01  7.6269e-02 -6.3038e-01\n",
      "  1.6408e-01 -3.7053e-01  5.8485e-01 -1.5472e-01 -2.6382e-01 -1.8590e-01\n",
      " -7.5228e-01 -1.5752e-01  7.8539e-01 -1.8846e-02 -8.0130e-01  1.5561e-01\n",
      " -1.8624e+00 -1.6969e-01  1.9419e-01 -3.0683e-01 -7.8067e-01 -4.9689e-01\n",
      " -1.8256e-01 -4.2016e-02 -2.6290e-01  5.8531e-02 -4.4664e-01 -9.9765e-02\n",
      " -4.3050e-01 -2.3693e-01 -1.4519e-02  3.1981e-01]\n"
     ]
    }
   ],
   "source": [
    "word8 = \"so\"\n",
    "\n",
    "if word8 in gloveEmbeddings:\n",
    "    print(f\"Embedding for '{word8}':\\n{gloveEmbeddings[word8]}\")\n",
    "else:\n",
    "    print(f\"'{word8}' not found in GloVe embeddings.\")"
   ]
  },
  {
   "cell_type": "code",
   "execution_count": 62,
   "id": "a74df6f4",
   "metadata": {
    "execution": {
     "iopub.execute_input": "2025-03-10T12:46:53.528095Z",
     "iopub.status.busy": "2025-03-10T12:46:53.527565Z",
     "iopub.status.idle": "2025-03-10T12:46:53.535699Z",
     "shell.execute_reply": "2025-03-10T12:46:53.533759Z"
    },
    "papermill": {
     "duration": 0.205638,
     "end_time": "2025-03-10T12:46:53.537881",
     "exception": false,
     "start_time": "2025-03-10T12:46:53.332243",
     "status": "completed"
    },
    "tags": []
   },
   "outputs": [
    {
     "name": "stdout",
     "output_type": "stream",
     "text": [
      "Embedding for 'terrible':\n",
      "[ 0.23329   0.010617  0.42689  -0.32641  -1.0809    0.25532  -0.4322\n",
      "  0.15733   0.15852  -0.26616   0.030956  0.21665  -0.21391  -0.061479\n",
      " -0.054855  0.50001  -0.77447   0.089656 -0.73531   0.61803   0.118\n",
      "  0.18501  -0.073202 -0.21066   0.15761   0.22562  -0.3406    0.47012\n",
      "  0.47449  -0.61687   0.25747  -0.24729   0.012812 -0.16493  -0.8882\n",
      " -0.47489  -0.52072  -0.12297   0.77504  -0.089192 -0.18547   0.83209\n",
      "  0.15041  -0.47365   0.1489    0.48985   1.0188    0.20297  -0.56428\n",
      " -0.67022   0.2263   -0.060194  0.20877   0.63827   0.098412 -1.6901\n",
      "  0.70448   0.79248   0.45988   0.085941 -0.11283   0.80774  -1.3575\n",
      " -1.0195    0.49793  -0.24394   0.46319  -0.33754  -0.54731  -0.47561\n",
      " -0.25493  -0.35981   0.19464   0.66821   1.0873    0.55029  -0.14909\n",
      "  0.24495  -0.37286   1.0092    0.74697   0.49547  -0.06678   0.69373\n",
      " -1.3526   -0.22684  -0.56067  -0.70837  -0.87754  -0.77609   0.15096\n",
      " -0.059991  0.18824   0.47238   0.033939 -0.053981  0.028484 -0.32052\n",
      " -0.19139  -0.08567 ]\n"
     ]
    }
   ],
   "source": [
    "word9 = \"terrible\"\n",
    "\n",
    "if word9 in gloveEmbeddings:\n",
    "    print(f\"Embedding for '{word9}':\\n{gloveEmbeddings[word9]}\")\n",
    "else:\n",
    "    print(f\"'{word9}' not found in GloVe embeddings.\")"
   ]
  }
 ],
 "metadata": {
  "kaggle": {
   "accelerator": "none",
   "dataSources": [
    {
     "datasetId": 18,
     "sourceId": 2157,
     "sourceType": "datasetVersion"
    },
    {
     "datasetId": 4167194,
     "sourceId": 7203508,
     "sourceType": "datasetVersion"
    }
   ],
   "dockerImageVersionId": 30918,
   "isGpuEnabled": false,
   "isInternetEnabled": true,
   "language": "python",
   "sourceType": "notebook"
  },
  "kernelspec": {
   "display_name": "Python 3",
   "language": "python",
   "name": "python3"
  },
  "language_info": {
   "codemirror_mode": {
    "name": "ipython",
    "version": 3
   },
   "file_extension": ".py",
   "mimetype": "text/x-python",
   "name": "python",
   "nbconvert_exporter": "python",
   "pygments_lexer": "ipython3",
   "version": "3.10.12"
  },
  "papermill": {
   "default_parameters": {},
   "duration": 506.22155,
   "end_time": "2025-03-10T12:46:57.225730",
   "environment_variables": {},
   "exception": null,
   "input_path": "__notebook__.ipynb",
   "output_path": "__notebook__.ipynb",
   "parameters": {},
   "start_time": "2025-03-10T12:38:31.004180",
   "version": "2.6.0"
  }
 },
 "nbformat": 4,
 "nbformat_minor": 5
}
