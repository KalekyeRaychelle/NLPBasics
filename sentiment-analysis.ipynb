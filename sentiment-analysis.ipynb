{
 "cells": [
  {
   "cell_type": "code",
   "execution_count": 1,
   "id": "d09e6e3e",
   "metadata": {
    "_cell_guid": "b1076dfc-b9ad-4769-8c92-a6c4dae69d19",
    "_uuid": "8f2839f25d086af736a60e9eeb907d3b93b6e0e5",
    "execution": {
     "iopub.execute_input": "2025-03-07T09:02:43.374307Z",
     "iopub.status.busy": "2025-03-07T09:02:43.373742Z",
     "iopub.status.idle": "2025-03-07T09:02:44.394822Z",
     "shell.execute_reply": "2025-03-07T09:02:44.393237Z"
    },
    "papermill": {
     "duration": 1.031693,
     "end_time": "2025-03-07T09:02:44.396917",
     "exception": false,
     "start_time": "2025-03-07T09:02:43.365224",
     "status": "completed"
    },
    "tags": []
   },
   "outputs": [
    {
     "name": "stdout",
     "output_type": "stream",
     "text": [
      "/kaggle/input/amazon-fine-food-reviews/hashes.txt\n",
      "/kaggle/input/amazon-fine-food-reviews/Reviews.csv\n",
      "/kaggle/input/amazon-fine-food-reviews/database.sqlite\n",
      "/kaggle/input/glove-6b-100-d/glove.6B.100d.txt\n"
     ]
    }
   ],
   "source": [
    "# This Python 3 environment comes with many helpful analytics libraries installed\n",
    "# It is defined by the kaggle/python Docker image: https://github.com/kaggle/docker-python\n",
    "# For example, here's several helpful packages to load\n",
    "\n",
    "import numpy as np # linear algebra\n",
    "import pandas as pd # data processing, CSV file I/O (e.g. pd.read_csv)\n",
    "\n",
    "# Input data files are available in the read-only \"../input/\" directory\n",
    "# For example, running this (by clicking run or pressing Shift+Enter) will list all files under the input directory\n",
    "\n",
    "import os\n",
    "for dirname, _, filenames in os.walk('/kaggle/input'):\n",
    "    for filename in filenames:\n",
    "        print(os.path.join(dirname, filename))\n",
    "\n",
    "# You can write up to 20GB to the current directory (/kaggle/working/) that gets preserved as output when you create a version using \"Save & Run All\" \n",
    "# You can also write temporary files to /kaggle/temp/, but they won't be saved outside of the current session"
   ]
  },
  {
   "cell_type": "code",
   "execution_count": 2,
   "id": "0cc0f261",
   "metadata": {
    "execution": {
     "iopub.execute_input": "2025-03-07T09:02:44.412244Z",
     "iopub.status.busy": "2025-03-07T09:02:44.411625Z",
     "iopub.status.idle": "2025-03-07T09:02:44.416800Z",
     "shell.execute_reply": "2025-03-07T09:02:44.415495Z"
    },
    "papermill": {
     "duration": 0.014888,
     "end_time": "2025-03-07T09:02:44.418831",
     "exception": false,
     "start_time": "2025-03-07T09:02:44.403943",
     "status": "completed"
    },
    "tags": []
   },
   "outputs": [],
   "source": [
    "import pandas as pd"
   ]
  },
  {
   "cell_type": "code",
   "execution_count": 3,
   "id": "baf15191",
   "metadata": {
    "execution": {
     "iopub.execute_input": "2025-03-07T09:02:44.432966Z",
     "iopub.status.busy": "2025-03-07T09:02:44.432598Z",
     "iopub.status.idle": "2025-03-07T09:02:53.073529Z",
     "shell.execute_reply": "2025-03-07T09:02:53.072324Z"
    },
    "papermill": {
     "duration": 8.650622,
     "end_time": "2025-03-07T09:02:53.075785",
     "exception": false,
     "start_time": "2025-03-07T09:02:44.425163",
     "status": "completed"
    },
    "tags": []
   },
   "outputs": [],
   "source": [
    "dataset=pd.read_csv(r\"/kaggle/input/amazon-fine-food-reviews/Reviews.csv\")"
   ]
  },
  {
   "cell_type": "code",
   "execution_count": 4,
   "id": "d27ec35c",
   "metadata": {
    "execution": {
     "iopub.execute_input": "2025-03-07T09:02:53.089117Z",
     "iopub.status.busy": "2025-03-07T09:02:53.088742Z",
     "iopub.status.idle": "2025-03-07T09:02:53.314235Z",
     "shell.execute_reply": "2025-03-07T09:02:53.312630Z"
    },
    "papermill": {
     "duration": 0.234441,
     "end_time": "2025-03-07T09:02:53.316338",
     "exception": false,
     "start_time": "2025-03-07T09:02:53.081897",
     "status": "completed"
    },
    "tags": []
   },
   "outputs": [
    {
     "name": "stdout",
     "output_type": "stream",
     "text": [
      "<class 'pandas.core.frame.DataFrame'>\n",
      "RangeIndex: 568454 entries, 0 to 568453\n",
      "Data columns (total 10 columns):\n",
      " #   Column                  Non-Null Count   Dtype \n",
      "---  ------                  --------------   ----- \n",
      " 0   Id                      568454 non-null  int64 \n",
      " 1   ProductId               568454 non-null  object\n",
      " 2   UserId                  568454 non-null  object\n",
      " 3   ProfileName             568428 non-null  object\n",
      " 4   HelpfulnessNumerator    568454 non-null  int64 \n",
      " 5   HelpfulnessDenominator  568454 non-null  int64 \n",
      " 6   Score                   568454 non-null  int64 \n",
      " 7   Time                    568454 non-null  int64 \n",
      " 8   Summary                 568427 non-null  object\n",
      " 9   Text                    568454 non-null  object\n",
      "dtypes: int64(5), object(5)\n",
      "memory usage: 43.4+ MB\n"
     ]
    }
   ],
   "source": [
    "dataset.info()"
   ]
  },
  {
   "cell_type": "code",
   "execution_count": 5,
   "id": "d66d4295",
   "metadata": {
    "execution": {
     "iopub.execute_input": "2025-03-07T09:02:53.332964Z",
     "iopub.status.busy": "2025-03-07T09:02:53.332591Z",
     "iopub.status.idle": "2025-03-07T09:02:53.359689Z",
     "shell.execute_reply": "2025-03-07T09:02:53.358292Z"
    },
    "papermill": {
     "duration": 0.03915,
     "end_time": "2025-03-07T09:02:53.362030",
     "exception": false,
     "start_time": "2025-03-07T09:02:53.322880",
     "status": "completed"
    },
    "tags": []
   },
   "outputs": [
    {
     "data": {
      "text/html": [
       "<div>\n",
       "<style scoped>\n",
       "    .dataframe tbody tr th:only-of-type {\n",
       "        vertical-align: middle;\n",
       "    }\n",
       "\n",
       "    .dataframe tbody tr th {\n",
       "        vertical-align: top;\n",
       "    }\n",
       "\n",
       "    .dataframe thead th {\n",
       "        text-align: right;\n",
       "    }\n",
       "</style>\n",
       "<table border=\"1\" class=\"dataframe\">\n",
       "  <thead>\n",
       "    <tr style=\"text-align: right;\">\n",
       "      <th></th>\n",
       "      <th>Id</th>\n",
       "      <th>ProductId</th>\n",
       "      <th>UserId</th>\n",
       "      <th>ProfileName</th>\n",
       "      <th>HelpfulnessNumerator</th>\n",
       "      <th>HelpfulnessDenominator</th>\n",
       "      <th>Score</th>\n",
       "      <th>Time</th>\n",
       "      <th>Summary</th>\n",
       "      <th>Text</th>\n",
       "    </tr>\n",
       "  </thead>\n",
       "  <tbody>\n",
       "    <tr>\n",
       "      <th>0</th>\n",
       "      <td>1</td>\n",
       "      <td>B001E4KFG0</td>\n",
       "      <td>A3SGXH7AUHU8GW</td>\n",
       "      <td>delmartian</td>\n",
       "      <td>1</td>\n",
       "      <td>1</td>\n",
       "      <td>5</td>\n",
       "      <td>1303862400</td>\n",
       "      <td>Good Quality Dog Food</td>\n",
       "      <td>I have bought several of the Vitality canned d...</td>\n",
       "    </tr>\n",
       "    <tr>\n",
       "      <th>1</th>\n",
       "      <td>2</td>\n",
       "      <td>B00813GRG4</td>\n",
       "      <td>A1D87F6ZCVE5NK</td>\n",
       "      <td>dll pa</td>\n",
       "      <td>0</td>\n",
       "      <td>0</td>\n",
       "      <td>1</td>\n",
       "      <td>1346976000</td>\n",
       "      <td>Not as Advertised</td>\n",
       "      <td>Product arrived labeled as Jumbo Salted Peanut...</td>\n",
       "    </tr>\n",
       "    <tr>\n",
       "      <th>2</th>\n",
       "      <td>3</td>\n",
       "      <td>B000LQOCH0</td>\n",
       "      <td>ABXLMWJIXXAIN</td>\n",
       "      <td>Natalia Corres \"Natalia Corres\"</td>\n",
       "      <td>1</td>\n",
       "      <td>1</td>\n",
       "      <td>4</td>\n",
       "      <td>1219017600</td>\n",
       "      <td>\"Delight\" says it all</td>\n",
       "      <td>This is a confection that has been around a fe...</td>\n",
       "    </tr>\n",
       "    <tr>\n",
       "      <th>3</th>\n",
       "      <td>4</td>\n",
       "      <td>B000UA0QIQ</td>\n",
       "      <td>A395BORC6FGVXV</td>\n",
       "      <td>Karl</td>\n",
       "      <td>3</td>\n",
       "      <td>3</td>\n",
       "      <td>2</td>\n",
       "      <td>1307923200</td>\n",
       "      <td>Cough Medicine</td>\n",
       "      <td>If you are looking for the secret ingredient i...</td>\n",
       "    </tr>\n",
       "    <tr>\n",
       "      <th>4</th>\n",
       "      <td>5</td>\n",
       "      <td>B006K2ZZ7K</td>\n",
       "      <td>A1UQRSCLF8GW1T</td>\n",
       "      <td>Michael D. Bigham \"M. Wassir\"</td>\n",
       "      <td>0</td>\n",
       "      <td>0</td>\n",
       "      <td>5</td>\n",
       "      <td>1350777600</td>\n",
       "      <td>Great taffy</td>\n",
       "      <td>Great taffy at a great price.  There was a wid...</td>\n",
       "    </tr>\n",
       "  </tbody>\n",
       "</table>\n",
       "</div>"
      ],
      "text/plain": [
       "   Id   ProductId          UserId                      ProfileName  \\\n",
       "0   1  B001E4KFG0  A3SGXH7AUHU8GW                       delmartian   \n",
       "1   2  B00813GRG4  A1D87F6ZCVE5NK                           dll pa   \n",
       "2   3  B000LQOCH0   ABXLMWJIXXAIN  Natalia Corres \"Natalia Corres\"   \n",
       "3   4  B000UA0QIQ  A395BORC6FGVXV                             Karl   \n",
       "4   5  B006K2ZZ7K  A1UQRSCLF8GW1T    Michael D. Bigham \"M. Wassir\"   \n",
       "\n",
       "   HelpfulnessNumerator  HelpfulnessDenominator  Score        Time  \\\n",
       "0                     1                       1      5  1303862400   \n",
       "1                     0                       0      1  1346976000   \n",
       "2                     1                       1      4  1219017600   \n",
       "3                     3                       3      2  1307923200   \n",
       "4                     0                       0      5  1350777600   \n",
       "\n",
       "                 Summary                                               Text  \n",
       "0  Good Quality Dog Food  I have bought several of the Vitality canned d...  \n",
       "1      Not as Advertised  Product arrived labeled as Jumbo Salted Peanut...  \n",
       "2  \"Delight\" says it all  This is a confection that has been around a fe...  \n",
       "3         Cough Medicine  If you are looking for the secret ingredient i...  \n",
       "4            Great taffy  Great taffy at a great price.  There was a wid...  "
      ]
     },
     "execution_count": 5,
     "metadata": {},
     "output_type": "execute_result"
    }
   ],
   "source": [
    "dataset.head(5)"
   ]
  },
  {
   "cell_type": "code",
   "execution_count": 6,
   "id": "43b7d0c4",
   "metadata": {
    "execution": {
     "iopub.execute_input": "2025-03-07T09:02:53.377132Z",
     "iopub.status.busy": "2025-03-07T09:02:53.376746Z",
     "iopub.status.idle": "2025-03-07T09:02:53.408649Z",
     "shell.execute_reply": "2025-03-07T09:02:53.407479Z"
    },
    "papermill": {
     "duration": 0.040871,
     "end_time": "2025-03-07T09:02:53.410634",
     "exception": false,
     "start_time": "2025-03-07T09:02:53.369763",
     "status": "completed"
    },
    "tags": []
   },
   "outputs": [
    {
     "name": "stdout",
     "output_type": "stream",
     "text": [
      "   Score                                               Text\n",
      "0      5  I have bought several of the Vitality canned d...\n",
      "1      1  Product arrived labeled as Jumbo Salted Peanut...\n",
      "2      4  This is a confection that has been around a fe...\n",
      "3      2  If you are looking for the secret ingredient i...\n",
      "4      5  Great taffy at a great price.  There was a wid...\n"
     ]
    }
   ],
   "source": [
    "print(dataset[['Score','Text']].head(5))"
   ]
  },
  {
   "cell_type": "code",
   "execution_count": 7,
   "id": "757e43c8",
   "metadata": {
    "execution": {
     "iopub.execute_input": "2025-03-07T09:02:53.425208Z",
     "iopub.status.busy": "2025-03-07T09:02:53.424825Z",
     "iopub.status.idle": "2025-03-07T09:02:53.637592Z",
     "shell.execute_reply": "2025-03-07T09:02:53.636063Z"
    },
    "papermill": {
     "duration": 0.223157,
     "end_time": "2025-03-07T09:02:53.640265",
     "exception": false,
     "start_time": "2025-03-07T09:02:53.417108",
     "status": "completed"
    },
    "tags": []
   },
   "outputs": [
    {
     "name": "stdout",
     "output_type": "stream",
     "text": [
      "Id                         0\n",
      "ProductId                  0\n",
      "UserId                     0\n",
      "ProfileName               26\n",
      "HelpfulnessNumerator       0\n",
      "HelpfulnessDenominator     0\n",
      "Score                      0\n",
      "Time                       0\n",
      "Summary                   27\n",
      "Text                       0\n",
      "dtype: int64\n"
     ]
    }
   ],
   "source": [
    "print(dataset.isna().sum())"
   ]
  },
  {
   "cell_type": "code",
   "execution_count": 8,
   "id": "d9ace76f",
   "metadata": {
    "execution": {
     "iopub.execute_input": "2025-03-07T09:02:53.661881Z",
     "iopub.status.busy": "2025-03-07T09:02:53.661561Z",
     "iopub.status.idle": "2025-03-07T09:02:53.727879Z",
     "shell.execute_reply": "2025-03-07T09:02:53.726271Z"
    },
    "papermill": {
     "duration": 0.077431,
     "end_time": "2025-03-07T09:02:53.729919",
     "exception": false,
     "start_time": "2025-03-07T09:02:53.652488",
     "status": "completed"
    },
    "tags": []
   },
   "outputs": [
    {
     "name": "stdout",
     "output_type": "stream",
     "text": [
      "                                                     Text  \\\n",
      "524901  What a find.  For those persons who need no (o...   \n",
      "18666   My dogs love these! It's a great treat to give...   \n",
      "337754  The quality was very good, but I ordered 2 pac...   \n",
      "366415  These soft treats are great for old dogs who h...   \n",
      "45936   I love ginger and enjoy the flavor in a variet...   \n",
      "...                                                   ...   \n",
      "455140  Chipotle has made a great impact in such a sho...   \n",
      "74793   I have a 10 month old puppy. She is a mix betw...   \n",
      "424558  Purchased two boxes in the past. Latest order ...   \n",
      "191716  I bought a 3 bag pack, all 3 bags were sour ta...   \n",
      "234746  I was initially surprised how big the toy was ...   \n",
      "\n",
      "                                                  Summary  Score  \n",
      "524901                 Great Tasting, heart healthy chips      5  \n",
      "18666                                               Zukes      5  \n",
      "337754                                      Not odor free      1  \n",
      "366415                       Blue Dog Bakery rocks again!      5  \n",
      "45936                                           I like it      4  \n",
      "...                                                   ...    ...  \n",
      "455140                              Dave's chipotle sauce      5  \n",
      "74793                       love them and will buy again!      5  \n",
      "424558  Won't buy again. Product of China, went bad be...      1  \n",
      "191716                                               Sour      1  \n",
      "234746      Dog loved it, but it broke after only 1 week!      3  \n",
      "\n",
      "[1000 rows x 3 columns]\n"
     ]
    }
   ],
   "source": [
    "lmtpData=dataset[['Text','Summary','Score']].sample(n=1000)\n",
    "print(lmtpData)"
   ]
  },
  {
   "cell_type": "markdown",
   "id": "519910b8",
   "metadata": {
    "papermill": {
     "duration": 0.005889,
     "end_time": "2025-03-07T09:02:53.742256",
     "exception": false,
     "start_time": "2025-03-07T09:02:53.736367",
     "status": "completed"
    },
    "tags": []
   },
   "source": [
    "### ADDING SENTIMENT COLUMN"
   ]
  },
  {
   "cell_type": "code",
   "execution_count": 9,
   "id": "fad35c8b",
   "metadata": {
    "execution": {
     "iopub.execute_input": "2025-03-07T09:02:53.764401Z",
     "iopub.status.busy": "2025-03-07T09:02:53.763826Z",
     "iopub.status.idle": "2025-03-07T09:02:53.779600Z",
     "shell.execute_reply": "2025-03-07T09:02:53.778184Z"
    },
    "papermill": {
     "duration": 0.02965,
     "end_time": "2025-03-07T09:02:53.781757",
     "exception": false,
     "start_time": "2025-03-07T09:02:53.752107",
     "status": "completed"
    },
    "tags": []
   },
   "outputs": [
    {
     "data": {
      "text/html": [
       "<div>\n",
       "<style scoped>\n",
       "    .dataframe tbody tr th:only-of-type {\n",
       "        vertical-align: middle;\n",
       "    }\n",
       "\n",
       "    .dataframe tbody tr th {\n",
       "        vertical-align: top;\n",
       "    }\n",
       "\n",
       "    .dataframe thead th {\n",
       "        text-align: right;\n",
       "    }\n",
       "</style>\n",
       "<table border=\"1\" class=\"dataframe\">\n",
       "  <thead>\n",
       "    <tr style=\"text-align: right;\">\n",
       "      <th></th>\n",
       "      <th>Text</th>\n",
       "      <th>Summary</th>\n",
       "      <th>Score</th>\n",
       "      <th>Sentiment</th>\n",
       "    </tr>\n",
       "  </thead>\n",
       "  <tbody>\n",
       "    <tr>\n",
       "      <th>524901</th>\n",
       "      <td>What a find.  For those persons who need no (o...</td>\n",
       "      <td>Great Tasting, heart healthy chips</td>\n",
       "      <td>5</td>\n",
       "      <td>1</td>\n",
       "    </tr>\n",
       "    <tr>\n",
       "      <th>18666</th>\n",
       "      <td>My dogs love these! It's a great treat to give...</td>\n",
       "      <td>Zukes</td>\n",
       "      <td>5</td>\n",
       "      <td>1</td>\n",
       "    </tr>\n",
       "    <tr>\n",
       "      <th>337754</th>\n",
       "      <td>The quality was very good, but I ordered 2 pac...</td>\n",
       "      <td>Not odor free</td>\n",
       "      <td>1</td>\n",
       "      <td>0</td>\n",
       "    </tr>\n",
       "    <tr>\n",
       "      <th>366415</th>\n",
       "      <td>These soft treats are great for old dogs who h...</td>\n",
       "      <td>Blue Dog Bakery rocks again!</td>\n",
       "      <td>5</td>\n",
       "      <td>1</td>\n",
       "    </tr>\n",
       "    <tr>\n",
       "      <th>45936</th>\n",
       "      <td>I love ginger and enjoy the flavor in a variet...</td>\n",
       "      <td>I like it</td>\n",
       "      <td>4</td>\n",
       "      <td>1</td>\n",
       "    </tr>\n",
       "  </tbody>\n",
       "</table>\n",
       "</div>"
      ],
      "text/plain": [
       "                                                     Text  \\\n",
       "524901  What a find.  For those persons who need no (o...   \n",
       "18666   My dogs love these! It's a great treat to give...   \n",
       "337754  The quality was very good, but I ordered 2 pac...   \n",
       "366415  These soft treats are great for old dogs who h...   \n",
       "45936   I love ginger and enjoy the flavor in a variet...   \n",
       "\n",
       "                                   Summary  Score  Sentiment  \n",
       "524901  Great Tasting, heart healthy chips      5          1  \n",
       "18666                                Zukes      5          1  \n",
       "337754                       Not odor free      1          0  \n",
       "366415        Blue Dog Bakery rocks again!      5          1  \n",
       "45936                            I like it      4          1  "
      ]
     },
     "execution_count": 9,
     "metadata": {},
     "output_type": "execute_result"
    }
   ],
   "source": [
    "#0-negative, 1-positive\n",
    "def lblScore(score):\n",
    "    if score<=2:\n",
    "        return 0\n",
    "    elif score>=4:\n",
    "        return 1\n",
    "    else:\n",
    "        return 2\n",
    "lmtpData['Sentiment']=lmtpData['Score'].apply(lblScore)\n",
    "lmtpData.head(5)"
   ]
  },
  {
   "cell_type": "code",
   "execution_count": 10,
   "id": "14e204cc",
   "metadata": {
    "execution": {
     "iopub.execute_input": "2025-03-07T09:02:53.807573Z",
     "iopub.status.busy": "2025-03-07T09:02:53.807179Z",
     "iopub.status.idle": "2025-03-07T09:02:53.816800Z",
     "shell.execute_reply": "2025-03-07T09:02:53.815680Z"
    },
    "papermill": {
     "duration": 0.024559,
     "end_time": "2025-03-07T09:02:53.818868",
     "exception": false,
     "start_time": "2025-03-07T09:02:53.794309",
     "status": "completed"
    },
    "tags": []
   },
   "outputs": [
    {
     "data": {
      "text/plain": [
       "Sentiment\n",
       "1    772\n",
       "0    161\n",
       "2     67\n",
       "Name: count, dtype: int64"
      ]
     },
     "execution_count": 10,
     "metadata": {},
     "output_type": "execute_result"
    }
   ],
   "source": [
    "lmtpData['Sentiment'].value_counts()"
   ]
  },
  {
   "cell_type": "markdown",
   "id": "a4240d22",
   "metadata": {
    "execution": {
     "iopub.execute_input": "2025-03-06T12:31:15.045476Z",
     "iopub.status.busy": "2025-03-06T12:31:15.045080Z",
     "iopub.status.idle": "2025-03-06T12:31:15.049290Z",
     "shell.execute_reply": "2025-03-06T12:31:15.048323Z",
     "shell.execute_reply.started": "2025-03-06T12:31:15.045438Z"
    },
    "papermill": {
     "duration": 0.01248,
     "end_time": "2025-03-07T09:02:53.844652",
     "exception": false,
     "start_time": "2025-03-07T09:02:53.832172",
     "status": "completed"
    },
    "tags": []
   },
   "source": [
    "#### VECTORS"
   ]
  },
  {
   "cell_type": "code",
   "execution_count": 11,
   "id": "ca92f5bc",
   "metadata": {
    "execution": {
     "iopub.execute_input": "2025-03-07T09:02:53.867391Z",
     "iopub.status.busy": "2025-03-07T09:02:53.866975Z",
     "iopub.status.idle": "2025-03-07T09:03:05.168556Z",
     "shell.execute_reply": "2025-03-07T09:03:05.167245Z"
    },
    "papermill": {
     "duration": 11.314007,
     "end_time": "2025-03-07T09:03:05.170837",
     "exception": false,
     "start_time": "2025-03-07T09:02:53.856830",
     "status": "completed"
    },
    "tags": []
   },
   "outputs": [
    {
     "name": "stdout",
     "output_type": "stream",
     "text": [
      "Loaded 400000 word vectors.\n"
     ]
    }
   ],
   "source": [
    "import numpy as np\n",
    "\n",
    "glove_path = \"/kaggle/input/glove-6b-100-d/glove.6B.100d.txt\"\n",
    "\n",
    "def loadGloveEmbeddings(filePath, embedding_dim=100):\n",
    "    embeddingsIndex = {}\n",
    "    with open(filePath, encoding=\"utf8\") as f:\n",
    "        for line in f:\n",
    "            values = line.split()\n",
    "            word = values[0]\n",
    "            coefs = np.asarray(values[1:], dtype='float32')\n",
    "            embeddingsIndex[word] = coefs\n",
    "    return embeddingsIndex\n",
    "\n",
    "gloveEmbeddings = loadGloveEmbeddings(glove_path)\n",
    "print(\"Loaded {} word vectors.\".format(len(gloveEmbeddings)))\n",
    "\n",
    "\n",
    "        "
   ]
  },
  {
   "cell_type": "markdown",
   "id": "ff28d860",
   "metadata": {
    "papermill": {
     "duration": 0.006396,
     "end_time": "2025-03-07T09:03:05.184024",
     "exception": false,
     "start_time": "2025-03-07T09:03:05.177628",
     "status": "completed"
    },
    "tags": []
   },
   "source": [
    "#### CREATING EMBEDDING MATRIX"
   ]
  },
  {
   "cell_type": "code",
   "execution_count": 12,
   "id": "f29cda3b",
   "metadata": {
    "execution": {
     "iopub.execute_input": "2025-03-07T09:03:05.198540Z",
     "iopub.status.busy": "2025-03-07T09:03:05.198126Z",
     "iopub.status.idle": "2025-03-07T09:03:05.207811Z",
     "shell.execute_reply": "2025-03-07T09:03:05.206724Z"
    },
    "papermill": {
     "duration": 0.019121,
     "end_time": "2025-03-07T09:03:05.209686",
     "exception": false,
     "start_time": "2025-03-07T09:03:05.190565",
     "status": "completed"
    },
    "tags": []
   },
   "outputs": [],
   "source": [
    "lmtpData['Summary']=lmtpData['Summary'].fillna(\"\")\n",
    "lmtpData['CombinedText']=lmtpData['Summary'] + \" \" + lmtpData['Text']\n"
   ]
  },
  {
   "cell_type": "code",
   "execution_count": 13,
   "id": "649120bf",
   "metadata": {
    "execution": {
     "iopub.execute_input": "2025-03-07T09:03:05.225327Z",
     "iopub.status.busy": "2025-03-07T09:03:05.224886Z",
     "iopub.status.idle": "2025-03-07T09:03:22.387728Z",
     "shell.execute_reply": "2025-03-07T09:03:22.386391Z"
    },
    "papermill": {
     "duration": 17.173064,
     "end_time": "2025-03-07T09:03:22.389869",
     "exception": false,
     "start_time": "2025-03-07T09:03:05.216805",
     "status": "completed"
    },
    "tags": []
   },
   "outputs": [],
   "source": [
    "#tokenizing\n",
    "from tensorflow.keras.preprocessing.text import Tokenizer\n",
    "from tensorflow.keras.preprocessing.sequence import pad_sequences\n",
    "\n",
    "tokenizer=Tokenizer()\n",
    "tokenizer.fit_on_texts(lmtpData['CombinedText'])\n",
    "sequences=tokenizer.texts_to_sequences(lmtpData['CombinedText'])\n",
    "\n",
    "maxLen=100\n",
    "padded_sequences=pad_sequences(sequences,maxlen=maxLen,padding='post')"
   ]
  },
  {
   "cell_type": "code",
   "execution_count": 14,
   "id": "f49b7731",
   "metadata": {
    "execution": {
     "iopub.execute_input": "2025-03-07T09:03:22.405129Z",
     "iopub.status.busy": "2025-03-07T09:03:22.404267Z",
     "iopub.status.idle": "2025-03-07T09:03:22.427658Z",
     "shell.execute_reply": "2025-03-07T09:03:22.426204Z"
    },
    "papermill": {
     "duration": 0.033177,
     "end_time": "2025-03-07T09:03:22.429747",
     "exception": false,
     "start_time": "2025-03-07T09:03:22.396570",
     "status": "completed"
    },
    "tags": []
   },
   "outputs": [],
   "source": [
    "embedding_dim=100\n",
    "vocabSize=len(tokenizer.word_index) + 1\n",
    "\n",
    "embeddingMatrix=np.zeros((vocabSize,embedding_dim))\n",
    "\n",
    "for word,i in tokenizer.word_index.items():\n",
    "    embeddingVector=gloveEmbeddings.get(word)\n",
    "    if embeddingVector is not None:\n",
    "        embeddingMatrix[i]=embeddingVector"
   ]
  },
  {
   "cell_type": "code",
   "execution_count": 15,
   "id": "2317e8bc",
   "metadata": {
    "execution": {
     "iopub.execute_input": "2025-03-07T09:03:22.445192Z",
     "iopub.status.busy": "2025-03-07T09:03:22.444710Z",
     "iopub.status.idle": "2025-03-07T09:03:22.451352Z",
     "shell.execute_reply": "2025-03-07T09:03:22.449931Z"
    },
    "papermill": {
     "duration": 0.016739,
     "end_time": "2025-03-07T09:03:22.453376",
     "exception": false,
     "start_time": "2025-03-07T09:03:22.436637",
     "status": "completed"
    },
    "tags": []
   },
   "outputs": [
    {
     "name": "stdout",
     "output_type": "stream",
     "text": [
      "Embedding matrix shape: (7121, 100)\n"
     ]
    }
   ],
   "source": [
    "print(\"Embedding matrix shape:\", embeddingMatrix.shape)\n"
   ]
  },
  {
   "cell_type": "markdown",
   "id": "7188c422",
   "metadata": {
    "papermill": {
     "duration": 0.006541,
     "end_time": "2025-03-07T09:03:22.466500",
     "exception": false,
     "start_time": "2025-03-07T09:03:22.459959",
     "status": "completed"
    },
    "tags": []
   },
   "source": [
    "### MAKING THE MODEL"
   ]
  },
  {
   "cell_type": "code",
   "execution_count": 16,
   "id": "299ecf24",
   "metadata": {
    "execution": {
     "iopub.execute_input": "2025-03-07T09:03:22.481366Z",
     "iopub.status.busy": "2025-03-07T09:03:22.480893Z",
     "iopub.status.idle": "2025-03-07T09:03:22.690307Z",
     "shell.execute_reply": "2025-03-07T09:03:22.689185Z"
    },
    "papermill": {
     "duration": 0.219054,
     "end_time": "2025-03-07T09:03:22.692112",
     "exception": false,
     "start_time": "2025-03-07T09:03:22.473058",
     "status": "completed"
    },
    "tags": []
   },
   "outputs": [
    {
     "name": "stdout",
     "output_type": "stream",
     "text": [
      "Padded shape: (1000, 100)\n",
      "Labels shape: (1000,)\n"
     ]
    },
    {
     "data": {
      "text/html": [
       "<pre style=\"white-space:pre;overflow-x:auto;line-height:normal;font-family:Menlo,'DejaVu Sans Mono',consolas,'Courier New',monospace\"><span style=\"font-weight: bold\">Model: \"sequential\"</span>\n",
       "</pre>\n"
      ],
      "text/plain": [
       "\u001b[1mModel: \"sequential\"\u001b[0m\n"
      ]
     },
     "metadata": {},
     "output_type": "display_data"
    },
    {
     "data": {
      "text/html": [
       "<pre style=\"white-space:pre;overflow-x:auto;line-height:normal;font-family:Menlo,'DejaVu Sans Mono',consolas,'Courier New',monospace\">┏━━━━━━━━━━━━━━━━━━━━━━━━━━━━━━━━━━━━━━┳━━━━━━━━━━━━━━━━━━━━━━━━━━━━━┳━━━━━━━━━━━━━━━━━┓\n",
       "┃<span style=\"font-weight: bold\"> Layer (type)                         </span>┃<span style=\"font-weight: bold\"> Output Shape                </span>┃<span style=\"font-weight: bold\">         Param # </span>┃\n",
       "┡━━━━━━━━━━━━━━━━━━━━━━━━━━━━━━━━━━━━━━╇━━━━━━━━━━━━━━━━━━━━━━━━━━━━━╇━━━━━━━━━━━━━━━━━┩\n",
       "│ embedding (<span style=\"color: #0087ff; text-decoration-color: #0087ff\">Embedding</span>)                │ (<span style=\"color: #00d7ff; text-decoration-color: #00d7ff\">None</span>, <span style=\"color: #00af00; text-decoration-color: #00af00\">100</span>, <span style=\"color: #00af00; text-decoration-color: #00af00\">100</span>)            │         <span style=\"color: #00af00; text-decoration-color: #00af00\">712,100</span> │\n",
       "├──────────────────────────────────────┼─────────────────────────────┼─────────────────┤\n",
       "│ lstm (<span style=\"color: #0087ff; text-decoration-color: #0087ff\">LSTM</span>)                          │ (<span style=\"color: #00d7ff; text-decoration-color: #00d7ff\">None</span>, <span style=\"color: #00af00; text-decoration-color: #00af00\">100</span>, <span style=\"color: #00af00; text-decoration-color: #00af00\">128</span>)            │         <span style=\"color: #00af00; text-decoration-color: #00af00\">117,248</span> │\n",
       "├──────────────────────────────────────┼─────────────────────────────┼─────────────────┤\n",
       "│ lstm_1 (<span style=\"color: #0087ff; text-decoration-color: #0087ff\">LSTM</span>)                        │ (<span style=\"color: #00d7ff; text-decoration-color: #00d7ff\">None</span>, <span style=\"color: #00af00; text-decoration-color: #00af00\">64</span>)                  │          <span style=\"color: #00af00; text-decoration-color: #00af00\">49,408</span> │\n",
       "├──────────────────────────────────────┼─────────────────────────────┼─────────────────┤\n",
       "│ dropout (<span style=\"color: #0087ff; text-decoration-color: #0087ff\">Dropout</span>)                    │ (<span style=\"color: #00d7ff; text-decoration-color: #00d7ff\">None</span>, <span style=\"color: #00af00; text-decoration-color: #00af00\">64</span>)                  │               <span style=\"color: #00af00; text-decoration-color: #00af00\">0</span> │\n",
       "├──────────────────────────────────────┼─────────────────────────────┼─────────────────┤\n",
       "│ dense (<span style=\"color: #0087ff; text-decoration-color: #0087ff\">Dense</span>)                        │ (<span style=\"color: #00d7ff; text-decoration-color: #00d7ff\">None</span>, <span style=\"color: #00af00; text-decoration-color: #00af00\">3</span>)                   │             <span style=\"color: #00af00; text-decoration-color: #00af00\">195</span> │\n",
       "└──────────────────────────────────────┴─────────────────────────────┴─────────────────┘\n",
       "</pre>\n"
      ],
      "text/plain": [
       "┏━━━━━━━━━━━━━━━━━━━━━━━━━━━━━━━━━━━━━━┳━━━━━━━━━━━━━━━━━━━━━━━━━━━━━┳━━━━━━━━━━━━━━━━━┓\n",
       "┃\u001b[1m \u001b[0m\u001b[1mLayer (type)                        \u001b[0m\u001b[1m \u001b[0m┃\u001b[1m \u001b[0m\u001b[1mOutput Shape               \u001b[0m\u001b[1m \u001b[0m┃\u001b[1m \u001b[0m\u001b[1m        Param #\u001b[0m\u001b[1m \u001b[0m┃\n",
       "┡━━━━━━━━━━━━━━━━━━━━━━━━━━━━━━━━━━━━━━╇━━━━━━━━━━━━━━━━━━━━━━━━━━━━━╇━━━━━━━━━━━━━━━━━┩\n",
       "│ embedding (\u001b[38;5;33mEmbedding\u001b[0m)                │ (\u001b[38;5;45mNone\u001b[0m, \u001b[38;5;34m100\u001b[0m, \u001b[38;5;34m100\u001b[0m)            │         \u001b[38;5;34m712,100\u001b[0m │\n",
       "├──────────────────────────────────────┼─────────────────────────────┼─────────────────┤\n",
       "│ lstm (\u001b[38;5;33mLSTM\u001b[0m)                          │ (\u001b[38;5;45mNone\u001b[0m, \u001b[38;5;34m100\u001b[0m, \u001b[38;5;34m128\u001b[0m)            │         \u001b[38;5;34m117,248\u001b[0m │\n",
       "├──────────────────────────────────────┼─────────────────────────────┼─────────────────┤\n",
       "│ lstm_1 (\u001b[38;5;33mLSTM\u001b[0m)                        │ (\u001b[38;5;45mNone\u001b[0m, \u001b[38;5;34m64\u001b[0m)                  │          \u001b[38;5;34m49,408\u001b[0m │\n",
       "├──────────────────────────────────────┼─────────────────────────────┼─────────────────┤\n",
       "│ dropout (\u001b[38;5;33mDropout\u001b[0m)                    │ (\u001b[38;5;45mNone\u001b[0m, \u001b[38;5;34m64\u001b[0m)                  │               \u001b[38;5;34m0\u001b[0m │\n",
       "├──────────────────────────────────────┼─────────────────────────────┼─────────────────┤\n",
       "│ dense (\u001b[38;5;33mDense\u001b[0m)                        │ (\u001b[38;5;45mNone\u001b[0m, \u001b[38;5;34m3\u001b[0m)                   │             \u001b[38;5;34m195\u001b[0m │\n",
       "└──────────────────────────────────────┴─────────────────────────────┴─────────────────┘\n"
      ]
     },
     "metadata": {},
     "output_type": "display_data"
    },
    {
     "data": {
      "text/html": [
       "<pre style=\"white-space:pre;overflow-x:auto;line-height:normal;font-family:Menlo,'DejaVu Sans Mono',consolas,'Courier New',monospace\"><span style=\"font-weight: bold\"> Total params: </span><span style=\"color: #00af00; text-decoration-color: #00af00\">878,951</span> (3.35 MB)\n",
       "</pre>\n"
      ],
      "text/plain": [
       "\u001b[1m Total params: \u001b[0m\u001b[38;5;34m878,951\u001b[0m (3.35 MB)\n"
      ]
     },
     "metadata": {},
     "output_type": "display_data"
    },
    {
     "data": {
      "text/html": [
       "<pre style=\"white-space:pre;overflow-x:auto;line-height:normal;font-family:Menlo,'DejaVu Sans Mono',consolas,'Courier New',monospace\"><span style=\"font-weight: bold\"> Trainable params: </span><span style=\"color: #00af00; text-decoration-color: #00af00\">166,851</span> (651.76 KB)\n",
       "</pre>\n"
      ],
      "text/plain": [
       "\u001b[1m Trainable params: \u001b[0m\u001b[38;5;34m166,851\u001b[0m (651.76 KB)\n"
      ]
     },
     "metadata": {},
     "output_type": "display_data"
    },
    {
     "data": {
      "text/html": [
       "<pre style=\"white-space:pre;overflow-x:auto;line-height:normal;font-family:Menlo,'DejaVu Sans Mono',consolas,'Courier New',monospace\"><span style=\"font-weight: bold\"> Non-trainable params: </span><span style=\"color: #00af00; text-decoration-color: #00af00\">712,100</span> (2.72 MB)\n",
       "</pre>\n"
      ],
      "text/plain": [
       "\u001b[1m Non-trainable params: \u001b[0m\u001b[38;5;34m712,100\u001b[0m (2.72 MB)\n"
      ]
     },
     "metadata": {},
     "output_type": "display_data"
    }
   ],
   "source": [
    "from tensorflow.keras.models import Sequential\n",
    "from tensorflow.keras.layers import Embedding, LSTM, Dense, Dropout,Input\n",
    "maxLen=100\n",
    "X_train = padded_sequences \n",
    "y_train = lmtpData[\"Sentiment\"].values  \n",
    "\n",
    "print(\"Padded shape:\", X_train.shape)  \n",
    "print(\"Labels shape:\", y_train.shape) \n",
    "\n",
    "model = Sequential([\n",
    "    Input(shape=(maxLen,)),\n",
    "    Embedding(input_dim=vocabSize,  \n",
    "              output_dim=embedding_dim, \n",
    "              weights=embeddingMatrix, \n",
    "             \n",
    "              trainable=False), \n",
    "    LSTM(128, return_sequences=True),\n",
    "    LSTM(64),\n",
    "    Dropout(0.3),\n",
    "    Dense(3, activation='softmax') \n",
    "])\n",
    "\n",
    "\n",
    "model.compile(loss='sparse_categorical_crossentropy', optimizer='adam', metrics=['accuracy'])\n",
    "\n",
    "model.summary()\n"
   ]
  },
  {
   "cell_type": "code",
   "execution_count": 17,
   "id": "f06bf32c",
   "metadata": {
    "execution": {
     "iopub.execute_input": "2025-03-07T09:03:22.708626Z",
     "iopub.status.busy": "2025-03-07T09:03:22.708193Z",
     "iopub.status.idle": "2025-03-07T09:04:09.524841Z",
     "shell.execute_reply": "2025-03-07T09:04:09.523703Z"
    },
    "papermill": {
     "duration": 46.827168,
     "end_time": "2025-03-07T09:04:09.526908",
     "exception": false,
     "start_time": "2025-03-07T09:03:22.699740",
     "status": "completed"
    },
    "tags": []
   },
   "outputs": [
    {
     "name": "stdout",
     "output_type": "stream",
     "text": [
      "Epoch 1/10\n",
      "\u001b[1m25/25\u001b[0m \u001b[32m━━━━━━━━━━━━━━━━━━━━\u001b[0m\u001b[37m\u001b[0m \u001b[1m8s\u001b[0m 196ms/step - accuracy: 0.7445 - loss: 0.9362 - val_accuracy: 0.8000 - val_loss: 0.6224\n",
      "Epoch 2/10\n",
      "\u001b[1m25/25\u001b[0m \u001b[32m━━━━━━━━━━━━━━━━━━━━\u001b[0m\u001b[37m\u001b[0m \u001b[1m4s\u001b[0m 172ms/step - accuracy: 0.7517 - loss: 0.7545 - val_accuracy: 0.8000 - val_loss: 0.6189\n",
      "Epoch 3/10\n",
      "\u001b[1m25/25\u001b[0m \u001b[32m━━━━━━━━━━━━━━━━━━━━\u001b[0m\u001b[37m\u001b[0m \u001b[1m4s\u001b[0m 173ms/step - accuracy: 0.7664 - loss: 0.6949 - val_accuracy: 0.8000 - val_loss: 0.6162\n",
      "Epoch 4/10\n",
      "\u001b[1m25/25\u001b[0m \u001b[32m━━━━━━━━━━━━━━━━━━━━\u001b[0m\u001b[37m\u001b[0m \u001b[1m4s\u001b[0m 168ms/step - accuracy: 0.7733 - loss: 0.6644 - val_accuracy: 0.8000 - val_loss: 0.6198\n",
      "Epoch 5/10\n",
      "\u001b[1m25/25\u001b[0m \u001b[32m━━━━━━━━━━━━━━━━━━━━\u001b[0m\u001b[37m\u001b[0m \u001b[1m4s\u001b[0m 169ms/step - accuracy: 0.7749 - loss: 0.6763 - val_accuracy: 0.8000 - val_loss: 0.6289\n",
      "Epoch 6/10\n",
      "\u001b[1m25/25\u001b[0m \u001b[32m━━━━━━━━━━━━━━━━━━━━\u001b[0m\u001b[37m\u001b[0m \u001b[1m4s\u001b[0m 170ms/step - accuracy: 0.7676 - loss: 0.6725 - val_accuracy: 0.8000 - val_loss: 0.6176\n",
      "Epoch 7/10\n",
      "\u001b[1m25/25\u001b[0m \u001b[32m━━━━━━━━━━━━━━━━━━━━\u001b[0m\u001b[37m\u001b[0m \u001b[1m4s\u001b[0m 169ms/step - accuracy: 0.7758 - loss: 0.6703 - val_accuracy: 0.8000 - val_loss: 0.6142\n",
      "Epoch 8/10\n",
      "\u001b[1m25/25\u001b[0m \u001b[32m━━━━━━━━━━━━━━━━━━━━\u001b[0m\u001b[37m\u001b[0m \u001b[1m5s\u001b[0m 183ms/step - accuracy: 0.7507 - loss: 0.6786 - val_accuracy: 0.8000 - val_loss: 0.6199\n",
      "Epoch 9/10\n",
      "\u001b[1m25/25\u001b[0m \u001b[32m━━━━━━━━━━━━━━━━━━━━\u001b[0m\u001b[37m\u001b[0m \u001b[1m4s\u001b[0m 172ms/step - accuracy: 0.7860 - loss: 0.6273 - val_accuracy: 0.8000 - val_loss: 0.6102\n",
      "Epoch 10/10\n",
      "\u001b[1m25/25\u001b[0m \u001b[32m━━━━━━━━━━━━━━━━━━━━\u001b[0m\u001b[37m\u001b[0m \u001b[1m4s\u001b[0m 175ms/step - accuracy: 0.7593 - loss: 0.6478 - val_accuracy: 0.8050 - val_loss: 0.6087\n"
     ]
    }
   ],
   "source": [
    "\n",
    "history=model.fit(padded_sequences, y_train, epochs=10, batch_size=32, validation_split=0.2)\n",
    "\n"
   ]
  },
  {
   "cell_type": "markdown",
   "id": "3c5a0e72",
   "metadata": {
    "papermill": {
     "duration": 0.021929,
     "end_time": "2025-03-07T09:04:09.571841",
     "exception": false,
     "start_time": "2025-03-07T09:04:09.549912",
     "status": "completed"
    },
    "tags": []
   },
   "source": [
    "#### PLOTTING AND ACCURACY AND LOSS CURVES"
   ]
  },
  {
   "cell_type": "code",
   "execution_count": 18,
   "id": "a0a1ef8b",
   "metadata": {
    "execution": {
     "iopub.execute_input": "2025-03-07T09:04:09.618420Z",
     "iopub.status.busy": "2025-03-07T09:04:09.617951Z",
     "iopub.status.idle": "2025-03-07T09:04:09.623778Z",
     "shell.execute_reply": "2025-03-07T09:04:09.622264Z"
    },
    "papermill": {
     "duration": 0.031866,
     "end_time": "2025-03-07T09:04:09.625798",
     "exception": false,
     "start_time": "2025-03-07T09:04:09.593932",
     "status": "completed"
    },
    "tags": []
   },
   "outputs": [],
   "source": [
    "import matplotlib.pyplot as plt\n",
    "accuracy=history.history['accuracy']\n",
    "valAccuracy=history.history['val_accuracy']\n",
    "loss = history.history['loss']\n",
    "valLoss = history.history['val_loss']\n",
    "epochs_range = range(1, len(accuracy) + 1)"
   ]
  },
  {
   "cell_type": "code",
   "execution_count": 19,
   "id": "a7b52a9a",
   "metadata": {
    "execution": {
     "iopub.execute_input": "2025-03-07T09:04:09.673300Z",
     "iopub.status.busy": "2025-03-07T09:04:09.672849Z",
     "iopub.status.idle": "2025-03-07T09:04:10.018126Z",
     "shell.execute_reply": "2025-03-07T09:04:10.016657Z"
    },
    "papermill": {
     "duration": 0.371212,
     "end_time": "2025-03-07T09:04:10.020247",
     "exception": false,
     "start_time": "2025-03-07T09:04:09.649035",
     "status": "completed"
    },
    "tags": []
   },
   "outputs": [
    {
     "data": {
      "text/plain": [
       "Text(0.5, 1.0, 'Training & Validation Accuracy')"
      ]
     },
     "execution_count": 19,
     "metadata": {},
     "output_type": "execute_result"
    },
    {
     "data": {
      "image/png": "[encoded data removed]",
      "text/plain": [
       "<Figure size 1200x500 with 1 Axes>"
      ]
     },
     "metadata": {},
     "output_type": "display_data"
    }
   ],
   "source": [
    "plt.figure(figsize=(12, 5))\n",
    "plt.subplot(1, 2, 1)\n",
    "plt.plot(epochs_range, accuracy, label='Training Accuracy', marker='o')\n",
    "plt.plot(epochs_range, valAccuracy, label='Validation Accuracy', marker='o')\n",
    "plt.legend(loc='lower right')\n",
    "plt.xlabel('Epochs')\n",
    "plt.ylabel('Accuracy')\n",
    "plt.title('Training & Validation Accuracy')"
   ]
  },
  {
   "cell_type": "code",
   "execution_count": 20,
   "id": "50423992",
   "metadata": {
    "execution": {
     "iopub.execute_input": "2025-03-07T09:04:10.072840Z",
     "iopub.status.busy": "2025-03-07T09:04:10.072419Z",
     "iopub.status.idle": "2025-03-07T09:04:10.324933Z",
     "shell.execute_reply": "2025-03-07T09:04:10.323514Z"
    },
    "papermill": {
     "duration": 0.27983,
     "end_time": "2025-03-07T09:04:10.326869",
     "exception": false,
     "start_time": "2025-03-07T09:04:10.047039",
     "status": "completed"
    },
    "tags": []
   },
   "outputs": [
    {
     "data": {
      "text/plain": [
       "Text(0.5, 1.0, 'Training & Validation Loss')"
      ]
     },
     "execution_count": 20,
     "metadata": {},
     "output_type": "execute_result"
    },
    {
     "data": {
      "image/png": "[encoded data removed]",
      "text/plain": [
       "<Figure size 1200x500 with 1 Axes>"
      ]
     },
     "metadata": {},
     "output_type": "display_data"
    }
   ],
   "source": [
    "plt.figure(figsize=(12, 5))\n",
    "plt.subplot(1, 2, 2)\n",
    "plt.plot(epochs_range, loss, label='Training Loss', marker='o')\n",
    "plt.plot(epochs_range, valLoss, label='Validation Loss', marker='o')\n",
    "plt.legend(loc='upper right')\n",
    "plt.xlabel('Epochs')\n",
    "plt.ylabel('Loss')\n",
    "plt.title('Training & Validation Loss')"
   ]
  },
  {
   "cell_type": "markdown",
   "id": "512b46f7",
   "metadata": {
    "papermill": {
     "duration": 0.023439,
     "end_time": "2025-03-07T09:04:10.374795",
     "exception": false,
     "start_time": "2025-03-07T09:04:10.351356",
     "status": "completed"
    },
    "tags": []
   },
   "source": [
    "##### overfitting"
   ]
  },
  {
   "cell_type": "markdown",
   "id": "67107ba4",
   "metadata": {
    "papermill": {
     "duration": 0.023635,
     "end_time": "2025-03-07T09:04:10.422793",
     "exception": false,
     "start_time": "2025-03-07T09:04:10.399158",
     "status": "completed"
    },
    "tags": []
   },
   "source": [
    "## TRAINING USING NEW SAMPLE DATASET"
   ]
  },
  {
   "cell_type": "code",
   "execution_count": 21,
   "id": "53d901ca",
   "metadata": {
    "execution": {
     "iopub.execute_input": "2025-03-07T09:04:10.472516Z",
     "iopub.status.busy": "2025-03-07T09:04:10.472047Z",
     "iopub.status.idle": "2025-03-07T09:04:10.611847Z",
     "shell.execute_reply": "2025-03-07T09:04:10.610692Z"
    },
    "papermill": {
     "duration": 0.167202,
     "end_time": "2025-03-07T09:04:10.613859",
     "exception": false,
     "start_time": "2025-03-07T09:04:10.446657",
     "status": "completed"
    },
    "tags": []
   },
   "outputs": [
    {
     "data": {
      "text/html": [
       "<div>\n",
       "<style scoped>\n",
       "    .dataframe tbody tr th:only-of-type {\n",
       "        vertical-align: middle;\n",
       "    }\n",
       "\n",
       "    .dataframe tbody tr th {\n",
       "        vertical-align: top;\n",
       "    }\n",
       "\n",
       "    .dataframe thead th {\n",
       "        text-align: right;\n",
       "    }\n",
       "</style>\n",
       "<table border=\"1\" class=\"dataframe\">\n",
       "  <thead>\n",
       "    <tr style=\"text-align: right;\">\n",
       "      <th></th>\n",
       "      <th>Id</th>\n",
       "      <th>ProductId</th>\n",
       "      <th>UserId</th>\n",
       "      <th>ProfileName</th>\n",
       "      <th>HelpfulnessNumerator</th>\n",
       "      <th>HelpfulnessDenominator</th>\n",
       "      <th>Score</th>\n",
       "      <th>Time</th>\n",
       "      <th>Summary</th>\n",
       "      <th>Text</th>\n",
       "    </tr>\n",
       "  </thead>\n",
       "  <tbody>\n",
       "    <tr>\n",
       "      <th>150187</th>\n",
       "      <td>150188</td>\n",
       "      <td>B001AJDO3U</td>\n",
       "      <td>A3QWT88NZ24J6B</td>\n",
       "      <td>Gil Good</td>\n",
       "      <td>1</td>\n",
       "      <td>1</td>\n",
       "      <td>5</td>\n",
       "      <td>1299628800</td>\n",
       "      <td>Tomato powder</td>\n",
       "      <td>Excellent value.  This product is not availabl...</td>\n",
       "    </tr>\n",
       "    <tr>\n",
       "      <th>541138</th>\n",
       "      <td>541139</td>\n",
       "      <td>B000FMTJJQ</td>\n",
       "      <td>A3EXVBHZKKCER</td>\n",
       "      <td>M. T. White</td>\n",
       "      <td>0</td>\n",
       "      <td>0</td>\n",
       "      <td>5</td>\n",
       "      <td>1193788800</td>\n",
       "      <td>Good stuff</td>\n",
       "      <td>Great stuff to replace sugar.  Just a light, s...</td>\n",
       "    </tr>\n",
       "    <tr>\n",
       "      <th>480355</th>\n",
       "      <td>480356</td>\n",
       "      <td>B000DZDJ0K</td>\n",
       "      <td>AU4SGJS71ZV55</td>\n",
       "      <td>Charlotta HIbbs</td>\n",
       "      <td>0</td>\n",
       "      <td>0</td>\n",
       "      <td>5</td>\n",
       "      <td>1304380800</td>\n",
       "      <td>Great waffles...</td>\n",
       "      <td>This gluten-free flour mix is great for waffle...</td>\n",
       "    </tr>\n",
       "    <tr>\n",
       "      <th>363028</th>\n",
       "      <td>363029</td>\n",
       "      <td>B0049WV8S8</td>\n",
       "      <td>A1ICSLT0QFFC1D</td>\n",
       "      <td>Ralph E. Bixler \"Ralph B\"</td>\n",
       "      <td>1</td>\n",
       "      <td>1</td>\n",
       "      <td>2</td>\n",
       "      <td>1347494400</td>\n",
       "      <td>warning</td>\n",
       "      <td>This item will cook your bacon, but it is not ...</td>\n",
       "    </tr>\n",
       "    <tr>\n",
       "      <th>555890</th>\n",
       "      <td>555891</td>\n",
       "      <td>B001TLY7BM</td>\n",
       "      <td>A13Q9TG853K1J6</td>\n",
       "      <td>P. ONeill \"RighteousDude\"</td>\n",
       "      <td>0</td>\n",
       "      <td>0</td>\n",
       "      <td>5</td>\n",
       "      <td>1349654400</td>\n",
       "      <td>Very Satisfied</td>\n",
       "      <td>Very satisfied. Case arrived in 3 days and it ...</td>\n",
       "    </tr>\n",
       "  </tbody>\n",
       "</table>\n",
       "</div>"
      ],
      "text/plain": [
       "            Id   ProductId          UserId                ProfileName  \\\n",
       "150187  150188  B001AJDO3U  A3QWT88NZ24J6B                   Gil Good   \n",
       "541138  541139  B000FMTJJQ   A3EXVBHZKKCER                M. T. White   \n",
       "480355  480356  B000DZDJ0K   AU4SGJS71ZV55            Charlotta HIbbs   \n",
       "363028  363029  B0049WV8S8  A1ICSLT0QFFC1D  Ralph E. Bixler \"Ralph B\"   \n",
       "555890  555891  B001TLY7BM  A13Q9TG853K1J6  P. ONeill \"RighteousDude\"   \n",
       "\n",
       "        HelpfulnessNumerator  HelpfulnessDenominator  Score        Time  \\\n",
       "150187                     1                       1      5  1299628800   \n",
       "541138                     0                       0      5  1193788800   \n",
       "480355                     0                       0      5  1304380800   \n",
       "363028                     1                       1      2  1347494400   \n",
       "555890                     0                       0      5  1349654400   \n",
       "\n",
       "                 Summary                                               Text  \n",
       "150187     Tomato powder  Excellent value.  This product is not availabl...  \n",
       "541138        Good stuff  Great stuff to replace sugar.  Just a light, s...  \n",
       "480355  Great waffles...  This gluten-free flour mix is great for waffle...  \n",
       "363028           warning  This item will cook your bacon, but it is not ...  \n",
       "555890    Very Satisfied  Very satisfied. Case arrived in 3 days and it ...  "
      ]
     },
     "execution_count": 21,
     "metadata": {},
     "output_type": "execute_result"
    }
   ],
   "source": [
    "droppedData=dataset.drop(lmtpData.index)\n",
    "dataset2=droppedData.sample(1000,random_state=43)\n",
    "dataset2.head()"
   ]
  },
  {
   "cell_type": "code",
   "execution_count": 22,
   "id": "f976b4cb",
   "metadata": {
    "execution": {
     "iopub.execute_input": "2025-03-07T09:04:10.666235Z",
     "iopub.status.busy": "2025-03-07T09:04:10.665804Z",
     "iopub.status.idle": "2025-03-07T09:04:10.677150Z",
     "shell.execute_reply": "2025-03-07T09:04:10.676052Z"
    },
    "papermill": {
     "duration": 0.039594,
     "end_time": "2025-03-07T09:04:10.678932",
     "exception": false,
     "start_time": "2025-03-07T09:04:10.639338",
     "status": "completed"
    },
    "tags": []
   },
   "outputs": [
    {
     "data": {
      "text/html": [
       "<div>\n",
       "<style scoped>\n",
       "    .dataframe tbody tr th:only-of-type {\n",
       "        vertical-align: middle;\n",
       "    }\n",
       "\n",
       "    .dataframe tbody tr th {\n",
       "        vertical-align: top;\n",
       "    }\n",
       "\n",
       "    .dataframe thead th {\n",
       "        text-align: right;\n",
       "    }\n",
       "</style>\n",
       "<table border=\"1\" class=\"dataframe\">\n",
       "  <thead>\n",
       "    <tr style=\"text-align: right;\">\n",
       "      <th></th>\n",
       "      <th>Score</th>\n",
       "      <th>Summary</th>\n",
       "      <th>Text</th>\n",
       "    </tr>\n",
       "  </thead>\n",
       "  <tbody>\n",
       "    <tr>\n",
       "      <th>150187</th>\n",
       "      <td>5</td>\n",
       "      <td>Tomato powder</td>\n",
       "      <td>Excellent value.  This product is not availabl...</td>\n",
       "    </tr>\n",
       "    <tr>\n",
       "      <th>541138</th>\n",
       "      <td>5</td>\n",
       "      <td>Good stuff</td>\n",
       "      <td>Great stuff to replace sugar.  Just a light, s...</td>\n",
       "    </tr>\n",
       "    <tr>\n",
       "      <th>480355</th>\n",
       "      <td>5</td>\n",
       "      <td>Great waffles...</td>\n",
       "      <td>This gluten-free flour mix is great for waffle...</td>\n",
       "    </tr>\n",
       "    <tr>\n",
       "      <th>363028</th>\n",
       "      <td>2</td>\n",
       "      <td>warning</td>\n",
       "      <td>This item will cook your bacon, but it is not ...</td>\n",
       "    </tr>\n",
       "    <tr>\n",
       "      <th>555890</th>\n",
       "      <td>5</td>\n",
       "      <td>Very Satisfied</td>\n",
       "      <td>Very satisfied. Case arrived in 3 days and it ...</td>\n",
       "    </tr>\n",
       "  </tbody>\n",
       "</table>\n",
       "</div>"
      ],
      "text/plain": [
       "        Score           Summary  \\\n",
       "150187      5     Tomato powder   \n",
       "541138      5        Good stuff   \n",
       "480355      5  Great waffles...   \n",
       "363028      2           warning   \n",
       "555890      5    Very Satisfied   \n",
       "\n",
       "                                                     Text  \n",
       "150187  Excellent value.  This product is not availabl...  \n",
       "541138  Great stuff to replace sugar.  Just a light, s...  \n",
       "480355  This gluten-free flour mix is great for waffle...  \n",
       "363028  This item will cook your bacon, but it is not ...  \n",
       "555890  Very satisfied. Case arrived in 3 days and it ...  "
      ]
     },
     "execution_count": 22,
     "metadata": {},
     "output_type": "execute_result"
    }
   ],
   "source": [
    "lmtpData2=dataset2[['Score','Summary','Text']]\n",
    "lmtpData2.head()"
   ]
  }
 ],
 "metadata": {
  "kaggle": {
   "accelerator": "none",
   "dataSources": [
    {
     "datasetId": 18,
     "sourceId": 2157,
     "sourceType": "datasetVersion"
    },
    {
     "datasetId": 4167194,
     "sourceId": 7203508,
     "sourceType": "datasetVersion"
    }
   ],
   "dockerImageVersionId": 30918,
   "isGpuEnabled": false,
   "isInternetEnabled": true,
   "language": "python",
   "sourceType": "notebook"
  },
  "kernelspec": {
   "display_name": "Python 3",
   "language": "python",
   "name": "python3"
  },
  "language_info": {
   "codemirror_mode": {
    "name": "ipython",
    "version": 3
   },
   "file_extension": ".py",
   "mimetype": "text/x-python",
   "name": "python",
   "nbconvert_exporter": "python",
   "pygments_lexer": "ipython3",
   "version": "3.10.12"
  },
  "papermill": {
   "default_parameters": {},
   "duration": 93.666054,
   "end_time": "2025-03-07T09:04:14.126797",
   "environment_variables": {},
   "exception": null,
   "input_path": "__notebook__.ipynb",
   "output_path": "__notebook__.ipynb",
   "parameters": {},
   "start_time": "2025-03-07T09:02:40.460743",
   "version": "2.6.0"
  }
 },
 "nbformat": 4,
 "nbformat_minor": 5
}
