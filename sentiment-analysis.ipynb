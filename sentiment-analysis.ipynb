{
 "cells": [
  {
   "cell_type": "code",
   "execution_count": 1,
   "id": "85cbc3d2",
   "metadata": {
    "_cell_guid": "b1076dfc-b9ad-4769-8c92-a6c4dae69d19",
    "_uuid": "8f2839f25d086af736a60e9eeb907d3b93b6e0e5",
    "execution": {
     "iopub.execute_input": "2025-03-06T15:42:50.362660Z",
     "iopub.status.busy": "2025-03-06T15:42:50.362197Z",
     "iopub.status.idle": "2025-03-06T15:42:51.471266Z",
     "shell.execute_reply": "2025-03-06T15:42:51.469837Z"
    },
    "papermill": {
     "duration": 1.117582,
     "end_time": "2025-03-06T15:42:51.473310",
     "exception": false,
     "start_time": "2025-03-06T15:42:50.355728",
     "status": "completed"
    },
    "tags": []
   },
   "outputs": [
    {
     "name": "stdout",
     "output_type": "stream",
     "text": [
      "/kaggle/input/glove-6b-100-d/glove.6B.100d.txt\n",
      "/kaggle/input/amazon-fine-food-reviews/hashes.txt\n",
      "/kaggle/input/amazon-fine-food-reviews/Reviews.csv\n",
      "/kaggle/input/amazon-fine-food-reviews/database.sqlite\n"
     ]
    }
   ],
   "source": [
    "# This Python 3 environment comes with many helpful analytics libraries installed\n",
    "# It is defined by the kaggle/python Docker image: https://github.com/kaggle/docker-python\n",
    "# For example, here's several helpful packages to load\n",
    "\n",
    "import numpy as np # linear algebra\n",
    "import pandas as pd # data processing, CSV file I/O (e.g. pd.read_csv)\n",
    "\n",
    "# Input data files are available in the read-only \"../input/\" directory\n",
    "# For example, running this (by clicking run or pressing Shift+Enter) will list all files under the input directory\n",
    "\n",
    "import os\n",
    "for dirname, _, filenames in os.walk('/kaggle/input'):\n",
    "    for filename in filenames:\n",
    "        print(os.path.join(dirname, filename))\n",
    "\n",
    "# You can write up to 20GB to the current directory (/kaggle/working/) that gets preserved as output when you create a version using \"Save & Run All\" \n",
    "# You can also write temporary files to /kaggle/temp/, but they won't be saved outside of the current session"
   ]
  },
  {
   "cell_type": "code",
   "execution_count": 2,
   "id": "9fb843e2",
   "metadata": {
    "execution": {
     "iopub.execute_input": "2025-03-06T15:42:51.485096Z",
     "iopub.status.busy": "2025-03-06T15:42:51.484404Z",
     "iopub.status.idle": "2025-03-06T15:42:51.489619Z",
     "shell.execute_reply": "2025-03-06T15:42:51.488493Z"
    },
    "papermill": {
     "duration": 0.013172,
     "end_time": "2025-03-06T15:42:51.491709",
     "exception": false,
     "start_time": "2025-03-06T15:42:51.478537",
     "status": "completed"
    },
    "tags": []
   },
   "outputs": [],
   "source": [
    "import pandas as pd"
   ]
  },
  {
   "cell_type": "code",
   "execution_count": 3,
   "id": "5677704b",
   "metadata": {
    "execution": {
     "iopub.execute_input": "2025-03-06T15:42:51.507804Z",
     "iopub.status.busy": "2025-03-06T15:42:51.507192Z",
     "iopub.status.idle": "2025-03-06T15:43:01.132182Z",
     "shell.execute_reply": "2025-03-06T15:43:01.131002Z"
    },
    "papermill": {
     "duration": 9.633816,
     "end_time": "2025-03-06T15:43:01.134088",
     "exception": false,
     "start_time": "2025-03-06T15:42:51.500272",
     "status": "completed"
    },
    "tags": []
   },
   "outputs": [],
   "source": [
    "dataset=pd.read_csv(r\"/kaggle/input/amazon-fine-food-reviews/Reviews.csv\")"
   ]
  },
  {
   "cell_type": "code",
   "execution_count": 4,
   "id": "9b9657f9",
   "metadata": {
    "execution": {
     "iopub.execute_input": "2025-03-06T15:43:01.144770Z",
     "iopub.status.busy": "2025-03-06T15:43:01.144386Z",
     "iopub.status.idle": "2025-03-06T15:43:01.367497Z",
     "shell.execute_reply": "2025-03-06T15:43:01.366044Z"
    },
    "papermill": {
     "duration": 0.230584,
     "end_time": "2025-03-06T15:43:01.369393",
     "exception": false,
     "start_time": "2025-03-06T15:43:01.138809",
     "status": "completed"
    },
    "tags": []
   },
   "outputs": [
    {
     "name": "stdout",
     "output_type": "stream",
     "text": [
      "<class 'pandas.core.frame.DataFrame'>\n",
      "RangeIndex: 568454 entries, 0 to 568453\n",
      "Data columns (total 10 columns):\n",
      " #   Column                  Non-Null Count   Dtype \n",
      "---  ------                  --------------   ----- \n",
      " 0   Id                      568454 non-null  int64 \n",
      " 1   ProductId               568454 non-null  object\n",
      " 2   UserId                  568454 non-null  object\n",
      " 3   ProfileName             568428 non-null  object\n",
      " 4   HelpfulnessNumerator    568454 non-null  int64 \n",
      " 5   HelpfulnessDenominator  568454 non-null  int64 \n",
      " 6   Score                   568454 non-null  int64 \n",
      " 7   Time                    568454 non-null  int64 \n",
      " 8   Summary                 568427 non-null  object\n",
      " 9   Text                    568454 non-null  object\n",
      "dtypes: int64(5), object(5)\n",
      "memory usage: 43.4+ MB\n"
     ]
    }
   ],
   "source": [
    "dataset.info()"
   ]
  },
  {
   "cell_type": "code",
   "execution_count": 5,
   "id": "de032012",
   "metadata": {
    "execution": {
     "iopub.execute_input": "2025-03-06T15:43:01.379852Z",
     "iopub.status.busy": "2025-03-06T15:43:01.379425Z",
     "iopub.status.idle": "2025-03-06T15:43:01.404202Z",
     "shell.execute_reply": "2025-03-06T15:43:01.403042Z"
    },
    "papermill": {
     "duration": 0.031932,
     "end_time": "2025-03-06T15:43:01.405911",
     "exception": false,
     "start_time": "2025-03-06T15:43:01.373979",
     "status": "completed"
    },
    "tags": []
   },
   "outputs": [
    {
     "data": {
      "text/html": [
       "<div>\n",
       "<style scoped>\n",
       "    .dataframe tbody tr th:only-of-type {\n",
       "        vertical-align: middle;\n",
       "    }\n",
       "\n",
       "    .dataframe tbody tr th {\n",
       "        vertical-align: top;\n",
       "    }\n",
       "\n",
       "    .dataframe thead th {\n",
       "        text-align: right;\n",
       "    }\n",
       "</style>\n",
       "<table border=\"1\" class=\"dataframe\">\n",
       "  <thead>\n",
       "    <tr style=\"text-align: right;\">\n",
       "      <th></th>\n",
       "      <th>Id</th>\n",
       "      <th>ProductId</th>\n",
       "      <th>UserId</th>\n",
       "      <th>ProfileName</th>\n",
       "      <th>HelpfulnessNumerator</th>\n",
       "      <th>HelpfulnessDenominator</th>\n",
       "      <th>Score</th>\n",
       "      <th>Time</th>\n",
       "      <th>Summary</th>\n",
       "      <th>Text</th>\n",
       "    </tr>\n",
       "  </thead>\n",
       "  <tbody>\n",
       "    <tr>\n",
       "      <th>0</th>\n",
       "      <td>1</td>\n",
       "      <td>B001E4KFG0</td>\n",
       "      <td>A3SGXH7AUHU8GW</td>\n",
       "      <td>delmartian</td>\n",
       "      <td>1</td>\n",
       "      <td>1</td>\n",
       "      <td>5</td>\n",
       "      <td>1303862400</td>\n",
       "      <td>Good Quality Dog Food</td>\n",
       "      <td>I have bought several of the Vitality canned d...</td>\n",
       "    </tr>\n",
       "    <tr>\n",
       "      <th>1</th>\n",
       "      <td>2</td>\n",
       "      <td>B00813GRG4</td>\n",
       "      <td>A1D87F6ZCVE5NK</td>\n",
       "      <td>dll pa</td>\n",
       "      <td>0</td>\n",
       "      <td>0</td>\n",
       "      <td>1</td>\n",
       "      <td>1346976000</td>\n",
       "      <td>Not as Advertised</td>\n",
       "      <td>Product arrived labeled as Jumbo Salted Peanut...</td>\n",
       "    </tr>\n",
       "    <tr>\n",
       "      <th>2</th>\n",
       "      <td>3</td>\n",
       "      <td>B000LQOCH0</td>\n",
       "      <td>ABXLMWJIXXAIN</td>\n",
       "      <td>Natalia Corres \"Natalia Corres\"</td>\n",
       "      <td>1</td>\n",
       "      <td>1</td>\n",
       "      <td>4</td>\n",
       "      <td>1219017600</td>\n",
       "      <td>\"Delight\" says it all</td>\n",
       "      <td>This is a confection that has been around a fe...</td>\n",
       "    </tr>\n",
       "    <tr>\n",
       "      <th>3</th>\n",
       "      <td>4</td>\n",
       "      <td>B000UA0QIQ</td>\n",
       "      <td>A395BORC6FGVXV</td>\n",
       "      <td>Karl</td>\n",
       "      <td>3</td>\n",
       "      <td>3</td>\n",
       "      <td>2</td>\n",
       "      <td>1307923200</td>\n",
       "      <td>Cough Medicine</td>\n",
       "      <td>If you are looking for the secret ingredient i...</td>\n",
       "    </tr>\n",
       "    <tr>\n",
       "      <th>4</th>\n",
       "      <td>5</td>\n",
       "      <td>B006K2ZZ7K</td>\n",
       "      <td>A1UQRSCLF8GW1T</td>\n",
       "      <td>Michael D. Bigham \"M. Wassir\"</td>\n",
       "      <td>0</td>\n",
       "      <td>0</td>\n",
       "      <td>5</td>\n",
       "      <td>1350777600</td>\n",
       "      <td>Great taffy</td>\n",
       "      <td>Great taffy at a great price.  There was a wid...</td>\n",
       "    </tr>\n",
       "  </tbody>\n",
       "</table>\n",
       "</div>"
      ],
      "text/plain": [
       "   Id   ProductId          UserId                      ProfileName  \\\n",
       "0   1  B001E4KFG0  A3SGXH7AUHU8GW                       delmartian   \n",
       "1   2  B00813GRG4  A1D87F6ZCVE5NK                           dll pa   \n",
       "2   3  B000LQOCH0   ABXLMWJIXXAIN  Natalia Corres \"Natalia Corres\"   \n",
       "3   4  B000UA0QIQ  A395BORC6FGVXV                             Karl   \n",
       "4   5  B006K2ZZ7K  A1UQRSCLF8GW1T    Michael D. Bigham \"M. Wassir\"   \n",
       "\n",
       "   HelpfulnessNumerator  HelpfulnessDenominator  Score        Time  \\\n",
       "0                     1                       1      5  1303862400   \n",
       "1                     0                       0      1  1346976000   \n",
       "2                     1                       1      4  1219017600   \n",
       "3                     3                       3      2  1307923200   \n",
       "4                     0                       0      5  1350777600   \n",
       "\n",
       "                 Summary                                               Text  \n",
       "0  Good Quality Dog Food  I have bought several of the Vitality canned d...  \n",
       "1      Not as Advertised  Product arrived labeled as Jumbo Salted Peanut...  \n",
       "2  \"Delight\" says it all  This is a confection that has been around a fe...  \n",
       "3         Cough Medicine  If you are looking for the secret ingredient i...  \n",
       "4            Great taffy  Great taffy at a great price.  There was a wid...  "
      ]
     },
     "execution_count": 5,
     "metadata": {},
     "output_type": "execute_result"
    }
   ],
   "source": [
    "dataset.head(5)"
   ]
  },
  {
   "cell_type": "code",
   "execution_count": 6,
   "id": "63b862e0",
   "metadata": {
    "execution": {
     "iopub.execute_input": "2025-03-06T15:43:01.416765Z",
     "iopub.status.busy": "2025-03-06T15:43:01.416401Z",
     "iopub.status.idle": "2025-03-06T15:43:01.447251Z",
     "shell.execute_reply": "2025-03-06T15:43:01.445959Z"
    },
    "papermill": {
     "duration": 0.038405,
     "end_time": "2025-03-06T15:43:01.449300",
     "exception": false,
     "start_time": "2025-03-06T15:43:01.410895",
     "status": "completed"
    },
    "tags": []
   },
   "outputs": [
    {
     "name": "stdout",
     "output_type": "stream",
     "text": [
      "   Score                                               Text\n",
      "0      5  I have bought several of the Vitality canned d...\n",
      "1      1  Product arrived labeled as Jumbo Salted Peanut...\n",
      "2      4  This is a confection that has been around a fe...\n",
      "3      2  If you are looking for the secret ingredient i...\n",
      "4      5  Great taffy at a great price.  There was a wid...\n"
     ]
    }
   ],
   "source": [
    "print(dataset[['Score','Text']].head(5))"
   ]
  },
  {
   "cell_type": "code",
   "execution_count": 7,
   "id": "9f28b053",
   "metadata": {
    "execution": {
     "iopub.execute_input": "2025-03-06T15:43:01.460291Z",
     "iopub.status.busy": "2025-03-06T15:43:01.459936Z",
     "iopub.status.idle": "2025-03-06T15:43:01.654922Z",
     "shell.execute_reply": "2025-03-06T15:43:01.653496Z"
    },
    "papermill": {
     "duration": 0.202494,
     "end_time": "2025-03-06T15:43:01.656779",
     "exception": false,
     "start_time": "2025-03-06T15:43:01.454285",
     "status": "completed"
    },
    "tags": []
   },
   "outputs": [
    {
     "name": "stdout",
     "output_type": "stream",
     "text": [
      "Id                         0\n",
      "ProductId                  0\n",
      "UserId                     0\n",
      "ProfileName               26\n",
      "HelpfulnessNumerator       0\n",
      "HelpfulnessDenominator     0\n",
      "Score                      0\n",
      "Time                       0\n",
      "Summary                   27\n",
      "Text                       0\n",
      "dtype: int64\n"
     ]
    }
   ],
   "source": [
    "print(dataset.isna().sum())"
   ]
  },
  {
   "cell_type": "code",
   "execution_count": 8,
   "id": "59a4847b",
   "metadata": {
    "execution": {
     "iopub.execute_input": "2025-03-06T15:43:01.668029Z",
     "iopub.status.busy": "2025-03-06T15:43:01.667626Z",
     "iopub.status.idle": "2025-03-06T15:43:01.729599Z",
     "shell.execute_reply": "2025-03-06T15:43:01.728205Z"
    },
    "papermill": {
     "duration": 0.069643,
     "end_time": "2025-03-06T15:43:01.731609",
     "exception": false,
     "start_time": "2025-03-06T15:43:01.661966",
     "status": "completed"
    },
    "tags": []
   },
   "outputs": [
    {
     "name": "stdout",
     "output_type": "stream",
     "text": [
      "                                                     Text  \\\n",
      "565984  This dog food is great for Yorkies that are pi...   \n",
      "326699  I have tried many of the caffenated and decaf ...   \n",
      "285102  I prefer the taste of Splenda, but perfer that...   \n",
      "346001  These just didn't taste like apple cider, ther...   \n",
      "247358  Great tasting honey.. only wish it was in glas...   \n",
      "...                                                   ...   \n",
      "178461  The product is wonderful!  The description of ...   \n",
      "390713  I don't know why this got such good reviews bu...   \n",
      "348509  This product when received became an instant h...   \n",
      "57871   Being a person that can tell the differance be...   \n",
      "368478  I was a bit scared to order these, because of ...   \n",
      "\n",
      "                                             Summary  Score  \n",
      "565984                               Great Dog Food.      5  \n",
      "326699       The only K-cup coffee I really dislike!      1  \n",
      "285102  Not as sweet as Splenda, but better for you!      3  \n",
      "346001                                     Too spicy      1  \n",
      "247358                                  Delish Honey      4  \n",
      "...                                              ...    ...  \n",
      "178461                      Celtic Sea Salt (coarse)      5  \n",
      "390713                                Don't know why      3  \n",
      "348509                               Highest Rating.      5  \n",
      "57871                                The real stuff.      5  \n",
      "368478       My favorite K Cups!!  Only 10 calories!      5  \n",
      "\n",
      "[1000 rows x 3 columns]\n"
     ]
    }
   ],
   "source": [
    "lmtpData=dataset[['Text','Summary','Score']].sample(n=1000)\n",
    "print(lmtpData)"
   ]
  },
  {
   "cell_type": "markdown",
   "id": "9a312d32",
   "metadata": {
    "papermill": {
     "duration": 0.004647,
     "end_time": "2025-03-06T15:43:01.741324",
     "exception": false,
     "start_time": "2025-03-06T15:43:01.736677",
     "status": "completed"
    },
    "tags": []
   },
   "source": [
    "### ADDING SENTIMENT COLUMN"
   ]
  },
  {
   "cell_type": "code",
   "execution_count": 9,
   "id": "dde51c0c",
   "metadata": {
    "execution": {
     "iopub.execute_input": "2025-03-06T15:43:01.752261Z",
     "iopub.status.busy": "2025-03-06T15:43:01.751899Z",
     "iopub.status.idle": "2025-03-06T15:43:01.763529Z",
     "shell.execute_reply": "2025-03-06T15:43:01.762628Z"
    },
    "papermill": {
     "duration": 0.01887,
     "end_time": "2025-03-06T15:43:01.765050",
     "exception": false,
     "start_time": "2025-03-06T15:43:01.746180",
     "status": "completed"
    },
    "tags": []
   },
   "outputs": [
    {
     "data": {
      "text/html": [
       "<div>\n",
       "<style scoped>\n",
       "    .dataframe tbody tr th:only-of-type {\n",
       "        vertical-align: middle;\n",
       "    }\n",
       "\n",
       "    .dataframe tbody tr th {\n",
       "        vertical-align: top;\n",
       "    }\n",
       "\n",
       "    .dataframe thead th {\n",
       "        text-align: right;\n",
       "    }\n",
       "</style>\n",
       "<table border=\"1\" class=\"dataframe\">\n",
       "  <thead>\n",
       "    <tr style=\"text-align: right;\">\n",
       "      <th></th>\n",
       "      <th>Text</th>\n",
       "      <th>Summary</th>\n",
       "      <th>Score</th>\n",
       "      <th>Sentiment</th>\n",
       "    </tr>\n",
       "  </thead>\n",
       "  <tbody>\n",
       "    <tr>\n",
       "      <th>565984</th>\n",
       "      <td>This dog food is great for Yorkies that are pi...</td>\n",
       "      <td>Great Dog Food.</td>\n",
       "      <td>5</td>\n",
       "      <td>1</td>\n",
       "    </tr>\n",
       "    <tr>\n",
       "      <th>326699</th>\n",
       "      <td>I have tried many of the caffenated and decaf ...</td>\n",
       "      <td>The only K-cup coffee I really dislike!</td>\n",
       "      <td>1</td>\n",
       "      <td>0</td>\n",
       "    </tr>\n",
       "    <tr>\n",
       "      <th>285102</th>\n",
       "      <td>I prefer the taste of Splenda, but perfer that...</td>\n",
       "      <td>Not as sweet as Splenda, but better for you!</td>\n",
       "      <td>3</td>\n",
       "      <td>2</td>\n",
       "    </tr>\n",
       "    <tr>\n",
       "      <th>346001</th>\n",
       "      <td>These just didn't taste like apple cider, ther...</td>\n",
       "      <td>Too spicy</td>\n",
       "      <td>1</td>\n",
       "      <td>0</td>\n",
       "    </tr>\n",
       "    <tr>\n",
       "      <th>247358</th>\n",
       "      <td>Great tasting honey.. only wish it was in glas...</td>\n",
       "      <td>Delish Honey</td>\n",
       "      <td>4</td>\n",
       "      <td>1</td>\n",
       "    </tr>\n",
       "  </tbody>\n",
       "</table>\n",
       "</div>"
      ],
      "text/plain": [
       "                                                     Text  \\\n",
       "565984  This dog food is great for Yorkies that are pi...   \n",
       "326699  I have tried many of the caffenated and decaf ...   \n",
       "285102  I prefer the taste of Splenda, but perfer that...   \n",
       "346001  These just didn't taste like apple cider, ther...   \n",
       "247358  Great tasting honey.. only wish it was in glas...   \n",
       "\n",
       "                                             Summary  Score  Sentiment  \n",
       "565984                               Great Dog Food.      5          1  \n",
       "326699       The only K-cup coffee I really dislike!      1          0  \n",
       "285102  Not as sweet as Splenda, but better for you!      3          2  \n",
       "346001                                     Too spicy      1          0  \n",
       "247358                                  Delish Honey      4          1  "
      ]
     },
     "execution_count": 9,
     "metadata": {},
     "output_type": "execute_result"
    }
   ],
   "source": [
    "#0-negative, 1-positive\n",
    "def lblScore(score):\n",
    "    if score<=2:\n",
    "        return 0\n",
    "    elif score>=4:\n",
    "        return 1\n",
    "    else:\n",
    "        return 2\n",
    "lmtpData['Sentiment']=lmtpData['Score'].apply(lblScore)\n",
    "lmtpData.head(5)"
   ]
  },
  {
   "cell_type": "code",
   "execution_count": 10,
   "id": "54ade61c",
   "metadata": {
    "execution": {
     "iopub.execute_input": "2025-03-06T15:43:01.776652Z",
     "iopub.status.busy": "2025-03-06T15:43:01.776275Z",
     "iopub.status.idle": "2025-03-06T15:43:01.786056Z",
     "shell.execute_reply": "2025-03-06T15:43:01.784835Z"
    },
    "papermill": {
     "duration": 0.017586,
     "end_time": "2025-03-06T15:43:01.787768",
     "exception": false,
     "start_time": "2025-03-06T15:43:01.770182",
     "status": "completed"
    },
    "tags": []
   },
   "outputs": [
    {
     "data": {
      "text/plain": [
       "Sentiment\n",
       "1    785\n",
       "0    146\n",
       "2     69\n",
       "Name: count, dtype: int64"
      ]
     },
     "execution_count": 10,
     "metadata": {},
     "output_type": "execute_result"
    }
   ],
   "source": [
    "lmtpData['Sentiment'].value_counts()"
   ]
  },
  {
   "cell_type": "markdown",
   "id": "06f0f88d",
   "metadata": {
    "execution": {
     "iopub.execute_input": "2025-03-06T12:31:15.045476Z",
     "iopub.status.busy": "2025-03-06T12:31:15.045080Z",
     "iopub.status.idle": "2025-03-06T12:31:15.049290Z",
     "shell.execute_reply": "2025-03-06T12:31:15.048323Z",
     "shell.execute_reply.started": "2025-03-06T12:31:15.045438Z"
    },
    "papermill": {
     "duration": 0.004783,
     "end_time": "2025-03-06T15:43:01.797982",
     "exception": false,
     "start_time": "2025-03-06T15:43:01.793199",
     "status": "completed"
    },
    "tags": []
   },
   "source": [
    "#### VECTORS"
   ]
  },
  {
   "cell_type": "code",
   "execution_count": 11,
   "id": "d1632b57",
   "metadata": {
    "execution": {
     "iopub.execute_input": "2025-03-06T15:43:01.809542Z",
     "iopub.status.busy": "2025-03-06T15:43:01.809221Z",
     "iopub.status.idle": "2025-03-06T15:43:01.814664Z",
     "shell.execute_reply": "2025-03-06T15:43:01.813790Z"
    },
    "papermill": {
     "duration": 0.013036,
     "end_time": "2025-03-06T15:43:01.816244",
     "exception": false,
     "start_time": "2025-03-06T15:43:01.803208",
     "status": "completed"
    },
    "tags": []
   },
   "outputs": [],
   "source": [
    "import numpy as np\n",
    "glove_path=\"/kaggle/input/glove-6b-100-d/glove.6B.100d.txt\"\n",
    "def loadGloveEmbeddings(filePath,embedding_dim=100):\n",
    "    embeddingsIndex={}\n",
    "    with open(filePath,encoding=\"utf8\") as f:\n",
    "        for line in f:\n",
    "            values=line.split()\n",
    "            word=values[0]\n",
    "            coefs=np.asarray(values[1:],dtype='float32')\n",
    "            embeddingsIndex[word]=coefs\n",
    "        return embeddingsIndex\n",
    "\n",
    "        "
   ]
  },
  {
   "cell_type": "code",
   "execution_count": 12,
   "id": "ef10dcaf",
   "metadata": {
    "execution": {
     "iopub.execute_input": "2025-03-06T15:43:01.828117Z",
     "iopub.status.busy": "2025-03-06T15:43:01.827767Z",
     "iopub.status.idle": "2025-03-06T15:43:13.766428Z",
     "shell.execute_reply": "2025-03-06T15:43:13.765050Z"
    },
    "papermill": {
     "duration": 11.946658,
     "end_time": "2025-03-06T15:43:13.768229",
     "exception": false,
     "start_time": "2025-03-06T15:43:01.821571",
     "status": "completed"
    },
    "tags": []
   },
   "outputs": [
    {
     "name": "stdout",
     "output_type": "stream",
     "text": [
      "Loaded 400000 word vectors.\n"
     ]
    }
   ],
   "source": [
    "gloveEmbeddings=loadGloveEmbeddings(glove_path)\n",
    "print(\"Loaded {} word vectors.\".format(len(gloveEmbeddings)))"
   ]
  },
  {
   "cell_type": "markdown",
   "id": "f44114ce",
   "metadata": {
    "papermill": {
     "duration": 0.005039,
     "end_time": "2025-03-06T15:43:13.778760",
     "exception": false,
     "start_time": "2025-03-06T15:43:13.773721",
     "status": "completed"
    },
    "tags": []
   },
   "source": [
    "#### CREATING EMBEDDING MATRIX"
   ]
  },
  {
   "cell_type": "code",
   "execution_count": 13,
   "id": "90cc0a00",
   "metadata": {
    "execution": {
     "iopub.execute_input": "2025-03-06T15:43:13.790464Z",
     "iopub.status.busy": "2025-03-06T15:43:13.790141Z",
     "iopub.status.idle": "2025-03-06T15:43:13.797723Z",
     "shell.execute_reply": "2025-03-06T15:43:13.796808Z"
    },
    "papermill": {
     "duration": 0.015204,
     "end_time": "2025-03-06T15:43:13.799309",
     "exception": false,
     "start_time": "2025-03-06T15:43:13.784105",
     "status": "completed"
    },
    "tags": []
   },
   "outputs": [],
   "source": [
    "lmtpData['Summary']=lmtpData['Summary'].fillna(\"\")\n",
    "lmtpData['CombinedText']=lmtpData['Summary'] + \" \" + lmtpData['Text']\n"
   ]
  },
  {
   "cell_type": "code",
   "execution_count": 14,
   "id": "fc37c36d",
   "metadata": {
    "execution": {
     "iopub.execute_input": "2025-03-06T15:43:13.811308Z",
     "iopub.status.busy": "2025-03-06T15:43:13.810936Z",
     "iopub.status.idle": "2025-03-06T15:43:31.077339Z",
     "shell.execute_reply": "2025-03-06T15:43:31.076190Z"
    },
    "papermill": {
     "duration": 17.274697,
     "end_time": "2025-03-06T15:43:31.079456",
     "exception": false,
     "start_time": "2025-03-06T15:43:13.804759",
     "status": "completed"
    },
    "tags": []
   },
   "outputs": [],
   "source": [
    "#tokenizing\n",
    "from tensorflow.keras.preprocessing.text import Tokenizer\n",
    "from tensorflow.keras.preprocessing.sequence import pad_sequences\n",
    "\n",
    "tokenizer=Tokenizer()\n",
    "tokenizer.fit_on_texts(lmtpData['CombinedText'])\n",
    "sequences=tokenizer.texts_to_sequences(lmtpData['CombinedText'])\n",
    "\n",
    "maxLen=100\n",
    "padded_sequences=pad_sequences(sequences,maxlen=maxLen,padding='post')"
   ]
  },
  {
   "cell_type": "code",
   "execution_count": 15,
   "id": "704322a8",
   "metadata": {
    "execution": {
     "iopub.execute_input": "2025-03-06T15:43:31.091994Z",
     "iopub.status.busy": "2025-03-06T15:43:31.091331Z",
     "iopub.status.idle": "2025-03-06T15:43:31.110195Z",
     "shell.execute_reply": "2025-03-06T15:43:31.108779Z"
    },
    "papermill": {
     "duration": 0.027189,
     "end_time": "2025-03-06T15:43:31.112273",
     "exception": false,
     "start_time": "2025-03-06T15:43:31.085084",
     "status": "completed"
    },
    "tags": []
   },
   "outputs": [],
   "source": [
    "embedding_dim=100\n",
    "vocabSize=len(tokenizer.word_index) + 1\n",
    "\n",
    "embeddingMatrix=np.zeros((vocabSize,embedding_dim))\n",
    "\n",
    "for word,i in tokenizer.word_index.items():\n",
    "    embeddingVector=gloveEmbeddings.get(word)\n",
    "    if embeddingVector is not None:\n",
    "        embeddingMatrix[i]=embeddingVector"
   ]
  },
  {
   "cell_type": "code",
   "execution_count": 16,
   "id": "0f9ed766",
   "metadata": {
    "execution": {
     "iopub.execute_input": "2025-03-06T15:43:31.124290Z",
     "iopub.status.busy": "2025-03-06T15:43:31.123919Z",
     "iopub.status.idle": "2025-03-06T15:43:31.253928Z",
     "shell.execute_reply": "2025-03-06T15:43:31.252858Z"
    },
    "papermill": {
     "duration": 0.138009,
     "end_time": "2025-03-06T15:43:31.255638",
     "exception": false,
     "start_time": "2025-03-06T15:43:31.117629",
     "status": "completed"
    },
    "tags": []
   },
   "outputs": [
    {
     "name": "stderr",
     "output_type": "stream",
     "text": [
      "/usr/local/lib/python3.10/dist-packages/keras/src/layers/core/embedding.py:90: UserWarning: Argument `input_length` is deprecated. Just remove it.\n",
      "  warnings.warn(\n"
     ]
    },
    {
     "data": {
      "text/html": [
       "<pre style=\"white-space:pre;overflow-x:auto;line-height:normal;font-family:Menlo,'DejaVu Sans Mono',consolas,'Courier New',monospace\"><span style=\"font-weight: bold\">Model: \"sequential\"</span>\n",
       "</pre>\n"
      ],
      "text/plain": [
       "\u001b[1mModel: \"sequential\"\u001b[0m\n"
      ]
     },
     "metadata": {},
     "output_type": "display_data"
    },
    {
     "data": {
      "text/html": [
       "<pre style=\"white-space:pre;overflow-x:auto;line-height:normal;font-family:Menlo,'DejaVu Sans Mono',consolas,'Courier New',monospace\">┏━━━━━━━━━━━━━━━━━━━━━━━━━━━━━━━━━━━━━━┳━━━━━━━━━━━━━━━━━━━━━━━━━━━━━┳━━━━━━━━━━━━━━━━━┓\n",
       "┃<span style=\"font-weight: bold\"> Layer (type)                         </span>┃<span style=\"font-weight: bold\"> Output Shape                </span>┃<span style=\"font-weight: bold\">         Param # </span>┃\n",
       "┡━━━━━━━━━━━━━━━━━━━━━━━━━━━━━━━━━━━━━━╇━━━━━━━━━━━━━━━━━━━━━━━━━━━━━╇━━━━━━━━━━━━━━━━━┩\n",
       "│ embedding (<span style=\"color: #0087ff; text-decoration-color: #0087ff\">Embedding</span>)                │ ?                           │         <span style=\"color: #00af00; text-decoration-color: #00af00\">727,900</span> │\n",
       "├──────────────────────────────────────┼─────────────────────────────┼─────────────────┤\n",
       "│ lstm (<span style=\"color: #0087ff; text-decoration-color: #0087ff\">LSTM</span>)                          │ ?                           │     <span style=\"color: #00af00; text-decoration-color: #00af00\">0</span> (unbuilt) │\n",
       "├──────────────────────────────────────┼─────────────────────────────┼─────────────────┤\n",
       "│ lstm_1 (<span style=\"color: #0087ff; text-decoration-color: #0087ff\">LSTM</span>)                        │ ?                           │     <span style=\"color: #00af00; text-decoration-color: #00af00\">0</span> (unbuilt) │\n",
       "├──────────────────────────────────────┼─────────────────────────────┼─────────────────┤\n",
       "│ dropout (<span style=\"color: #0087ff; text-decoration-color: #0087ff\">Dropout</span>)                    │ ?                           │     <span style=\"color: #00af00; text-decoration-color: #00af00\">0</span> (unbuilt) │\n",
       "├──────────────────────────────────────┼─────────────────────────────┼─────────────────┤\n",
       "│ dense (<span style=\"color: #0087ff; text-decoration-color: #0087ff\">Dense</span>)                        │ ?                           │     <span style=\"color: #00af00; text-decoration-color: #00af00\">0</span> (unbuilt) │\n",
       "└──────────────────────────────────────┴─────────────────────────────┴─────────────────┘\n",
       "</pre>\n"
      ],
      "text/plain": [
       "┏━━━━━━━━━━━━━━━━━━━━━━━━━━━━━━━━━━━━━━┳━━━━━━━━━━━━━━━━━━━━━━━━━━━━━┳━━━━━━━━━━━━━━━━━┓\n",
       "┃\u001b[1m \u001b[0m\u001b[1mLayer (type)                        \u001b[0m\u001b[1m \u001b[0m┃\u001b[1m \u001b[0m\u001b[1mOutput Shape               \u001b[0m\u001b[1m \u001b[0m┃\u001b[1m \u001b[0m\u001b[1m        Param #\u001b[0m\u001b[1m \u001b[0m┃\n",
       "┡━━━━━━━━━━━━━━━━━━━━━━━━━━━━━━━━━━━━━━╇━━━━━━━━━━━━━━━━━━━━━━━━━━━━━╇━━━━━━━━━━━━━━━━━┩\n",
       "│ embedding (\u001b[38;5;33mEmbedding\u001b[0m)                │ ?                           │         \u001b[38;5;34m727,900\u001b[0m │\n",
       "├──────────────────────────────────────┼─────────────────────────────┼─────────────────┤\n",
       "│ lstm (\u001b[38;5;33mLSTM\u001b[0m)                          │ ?                           │     \u001b[38;5;34m0\u001b[0m (unbuilt) │\n",
       "├──────────────────────────────────────┼─────────────────────────────┼─────────────────┤\n",
       "│ lstm_1 (\u001b[38;5;33mLSTM\u001b[0m)                        │ ?                           │     \u001b[38;5;34m0\u001b[0m (unbuilt) │\n",
       "├──────────────────────────────────────┼─────────────────────────────┼─────────────────┤\n",
       "│ dropout (\u001b[38;5;33mDropout\u001b[0m)                    │ ?                           │     \u001b[38;5;34m0\u001b[0m (unbuilt) │\n",
       "├──────────────────────────────────────┼─────────────────────────────┼─────────────────┤\n",
       "│ dense (\u001b[38;5;33mDense\u001b[0m)                        │ ?                           │     \u001b[38;5;34m0\u001b[0m (unbuilt) │\n",
       "└──────────────────────────────────────┴─────────────────────────────┴─────────────────┘\n"
      ]
     },
     "metadata": {},
     "output_type": "display_data"
    },
    {
     "data": {
      "text/html": [
       "<pre style=\"white-space:pre;overflow-x:auto;line-height:normal;font-family:Menlo,'DejaVu Sans Mono',consolas,'Courier New',monospace\"><span style=\"font-weight: bold\"> Total params: </span><span style=\"color: #00af00; text-decoration-color: #00af00\">727,900</span> (2.78 MB)\n",
       "</pre>\n"
      ],
      "text/plain": [
       "\u001b[1m Total params: \u001b[0m\u001b[38;5;34m727,900\u001b[0m (2.78 MB)\n"
      ]
     },
     "metadata": {},
     "output_type": "display_data"
    },
    {
     "data": {
      "text/html": [
       "<pre style=\"white-space:pre;overflow-x:auto;line-height:normal;font-family:Menlo,'DejaVu Sans Mono',consolas,'Courier New',monospace\"><span style=\"font-weight: bold\"> Trainable params: </span><span style=\"color: #00af00; text-decoration-color: #00af00\">0</span> (0.00 B)\n",
       "</pre>\n"
      ],
      "text/plain": [
       "\u001b[1m Trainable params: \u001b[0m\u001b[38;5;34m0\u001b[0m (0.00 B)\n"
      ]
     },
     "metadata": {},
     "output_type": "display_data"
    },
    {
     "data": {
      "text/html": [
       "<pre style=\"white-space:pre;overflow-x:auto;line-height:normal;font-family:Menlo,'DejaVu Sans Mono',consolas,'Courier New',monospace\"><span style=\"font-weight: bold\"> Non-trainable params: </span><span style=\"color: #00af00; text-decoration-color: #00af00\">727,900</span> (2.78 MB)\n",
       "</pre>\n"
      ],
      "text/plain": [
       "\u001b[1m Non-trainable params: \u001b[0m\u001b[38;5;34m727,900\u001b[0m (2.78 MB)\n"
      ]
     },
     "metadata": {},
     "output_type": "display_data"
    }
   ],
   "source": [
    "from tensorflow.keras.models import Sequential\n",
    "from tensorflow.keras.layers import Embedding,LSTM,Dense,Dropout\n",
    "\n",
    "maxLen=100\n",
    "\n",
    "model=Sequential([\n",
    "    Embedding(input_dim=vocabSize,\n",
    "    output_dim=embedding_dim,weights=[embeddingMatrix],\n",
    "    input_length=maxLen, trainable=False),\n",
    "    LSTM(128,return_sequences=True,trainable=True),\n",
    "    LSTM(64,trainable=True),\n",
    "    Dropout(0.5),\n",
    "    Dense(3,activation='softmax')\n",
    "])\n",
    "model.compile(loss='sparse_categorical_crossentropy', optimizer='adam', metrics=['accuracy'])\n",
    "model.summary()"
   ]
  }
 ],
 "metadata": {
  "kaggle": {
   "accelerator": "none",
   "dataSources": [
    {
     "datasetId": 18,
     "sourceId": 2157,
     "sourceType": "datasetVersion"
    },
    {
     "datasetId": 4167194,
     "sourceId": 7203508,
     "sourceType": "datasetVersion"
    }
   ],
   "dockerImageVersionId": 30918,
   "isGpuEnabled": false,
   "isInternetEnabled": true,
   "language": "python",
   "sourceType": "notebook"
  },
  "kernelspec": {
   "display_name": "Python 3",
   "language": "python",
   "name": "python3"
  },
  "language_info": {
   "codemirror_mode": {
    "name": "ipython",
    "version": 3
   },
   "file_extension": ".py",
   "mimetype": "text/x-python",
   "name": "python",
   "nbconvert_exporter": "python",
   "pygments_lexer": "ipython3",
   "version": "3.10.12"
  },
  "papermill": {
   "default_parameters": {},
   "duration": 46.649266,
   "end_time": "2025-03-06T15:43:34.011351",
   "environment_variables": {},
   "exception": null,
   "input_path": "__notebook__.ipynb",
   "output_path": "__notebook__.ipynb",
   "parameters": {},
   "start_time": "2025-03-06T15:42:47.362085",
   "version": "2.6.0"
  }
 },
 "nbformat": 4,
 "nbformat_minor": 5
}
