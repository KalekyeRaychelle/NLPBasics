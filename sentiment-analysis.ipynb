{
 "cells": [
  {
   "cell_type": "code",
   "execution_count": 1,
   "id": "dfe2d9ae",
   "metadata": {
    "_cell_guid": "b1076dfc-b9ad-4769-8c92-a6c4dae69d19",
    "_uuid": "8f2839f25d086af736a60e9eeb907d3b93b6e0e5",
    "execution": {
     "iopub.execute_input": "2025-03-12T12:58:47.955256Z",
     "iopub.status.busy": "2025-03-12T12:58:47.954927Z",
     "iopub.status.idle": "2025-03-12T12:58:48.915994Z",
     "shell.execute_reply": "2025-03-12T12:58:48.914686Z"
    },
    "papermill": {
     "duration": 0.977782,
     "end_time": "2025-03-12T12:58:48.917713",
     "exception": false,
     "start_time": "2025-03-12T12:58:47.939931",
     "status": "completed"
    },
    "tags": []
   },
   "outputs": [
    {
     "name": "stdout",
     "output_type": "stream",
     "text": [
      "/kaggle/input/glove-6b-100-d/glove.6B.100d.txt\n",
      "/kaggle/input/amazon-fine-food-reviews/hashes.txt\n",
      "/kaggle/input/amazon-fine-food-reviews/Reviews.csv\n",
      "/kaggle/input/amazon-fine-food-reviews/database.sqlite\n"
     ]
    }
   ],
   "source": [
    "# This Python 3 environment comes with many helpful analytics libraries installed\n",
    "# It is defined by the kaggle/python Docker image: https://github.com/kaggle/docker-python\n",
    "# For example, here's several helpful packages to load\n",
    "\n",
    "import numpy as np # linear algebra\n",
    "import pandas as pd # data processing, CSV file I/O (e.g. pd.read_csv)\n",
    "\n",
    "# Input data files are available in the read-only \"../input/\" directory\n",
    "# For example, running this (by clicking run or pressing Shift+Enter) will list all files under the input directory\n",
    "\n",
    "import os\n",
    "for dirname, _, filenames in os.walk('/kaggle/input'):\n",
    "    for filename in filenames:\n",
    "        print(os.path.join(dirname, filename))\n",
    "\n",
    "# You can write up to 20GB to the current directory (/kaggle/working/) that gets preserved as output when you create a version using \"Save & Run All\" \n",
    "# You can also write temporary files to /kaggle/temp/, but they won't be saved outside of the current session"
   ]
  },
  {
   "cell_type": "code",
   "execution_count": 2,
   "id": "e43d0dea",
   "metadata": {
    "execution": {
     "iopub.execute_input": "2025-03-12T12:58:48.945285Z",
     "iopub.status.busy": "2025-03-12T12:58:48.944850Z",
     "iopub.status.idle": "2025-03-12T12:58:48.948657Z",
     "shell.execute_reply": "2025-03-12T12:58:48.947804Z"
    },
    "papermill": {
     "duration": 0.018926,
     "end_time": "2025-03-12T12:58:48.950157",
     "exception": false,
     "start_time": "2025-03-12T12:58:48.931231",
     "status": "completed"
    },
    "tags": []
   },
   "outputs": [],
   "source": [
    "import pandas as pd"
   ]
  },
  {
   "cell_type": "code",
   "execution_count": 3,
   "id": "6c26c630",
   "metadata": {
    "execution": {
     "iopub.execute_input": "2025-03-12T12:58:48.976550Z",
     "iopub.status.busy": "2025-03-12T12:58:48.976164Z",
     "iopub.status.idle": "2025-03-12T12:58:57.381155Z",
     "shell.execute_reply": "2025-03-12T12:58:57.380246Z"
    },
    "papermill": {
     "duration": 8.420257,
     "end_time": "2025-03-12T12:58:57.382999",
     "exception": false,
     "start_time": "2025-03-12T12:58:48.962742",
     "status": "completed"
    },
    "tags": []
   },
   "outputs": [],
   "source": [
    "dataset=pd.read_csv(r\"/kaggle/input/amazon-fine-food-reviews/Reviews.csv\")"
   ]
  },
  {
   "cell_type": "code",
   "execution_count": 4,
   "id": "d61e6dea",
   "metadata": {
    "execution": {
     "iopub.execute_input": "2025-03-12T12:58:57.410342Z",
     "iopub.status.busy": "2025-03-12T12:58:57.409988Z",
     "iopub.status.idle": "2025-03-12T12:58:57.414509Z",
     "shell.execute_reply": "2025-03-12T12:58:57.413177Z"
    },
    "papermill": {
     "duration": 0.019553,
     "end_time": "2025-03-12T12:58:57.416215",
     "exception": false,
     "start_time": "2025-03-12T12:58:57.396662",
     "status": "completed"
    },
    "tags": []
   },
   "outputs": [],
   "source": [
    "pd.set_option('display.max_colwidth', None)\n"
   ]
  },
  {
   "cell_type": "code",
   "execution_count": 5,
   "id": "9a3e5eba",
   "metadata": {
    "execution": {
     "iopub.execute_input": "2025-03-12T12:58:57.442753Z",
     "iopub.status.busy": "2025-03-12T12:58:57.442324Z",
     "iopub.status.idle": "2025-03-12T12:58:57.662099Z",
     "shell.execute_reply": "2025-03-12T12:58:57.660868Z"
    },
    "papermill": {
     "duration": 0.234797,
     "end_time": "2025-03-12T12:58:57.663686",
     "exception": false,
     "start_time": "2025-03-12T12:58:57.428889",
     "status": "completed"
    },
    "tags": []
   },
   "outputs": [
    {
     "name": "stdout",
     "output_type": "stream",
     "text": [
      "<class 'pandas.core.frame.DataFrame'>\n",
      "RangeIndex: 568454 entries, 0 to 568453\n",
      "Data columns (total 10 columns):\n",
      " #   Column                  Non-Null Count   Dtype \n",
      "---  ------                  --------------   ----- \n",
      " 0   Id                      568454 non-null  int64 \n",
      " 1   ProductId               568454 non-null  object\n",
      " 2   UserId                  568454 non-null  object\n",
      " 3   ProfileName             568428 non-null  object\n",
      " 4   HelpfulnessNumerator    568454 non-null  int64 \n",
      " 5   HelpfulnessDenominator  568454 non-null  int64 \n",
      " 6   Score                   568454 non-null  int64 \n",
      " 7   Time                    568454 non-null  int64 \n",
      " 8   Summary                 568427 non-null  object\n",
      " 9   Text                    568454 non-null  object\n",
      "dtypes: int64(5), object(5)\n",
      "memory usage: 43.4+ MB\n"
     ]
    }
   ],
   "source": [
    "dataset.info()"
   ]
  },
  {
   "cell_type": "code",
   "execution_count": 6,
   "id": "1db902d1",
   "metadata": {
    "execution": {
     "iopub.execute_input": "2025-03-12T12:58:57.690144Z",
     "iopub.status.busy": "2025-03-12T12:58:57.689806Z",
     "iopub.status.idle": "2025-03-12T12:58:57.713208Z",
     "shell.execute_reply": "2025-03-12T12:58:57.712154Z"
    },
    "papermill": {
     "duration": 0.038537,
     "end_time": "2025-03-12T12:58:57.714836",
     "exception": false,
     "start_time": "2025-03-12T12:58:57.676299",
     "status": "completed"
    },
    "tags": []
   },
   "outputs": [
    {
     "data": {
      "text/html": [
       "<div>\n",
       "<style scoped>\n",
       "    .dataframe tbody tr th:only-of-type {\n",
       "        vertical-align: middle;\n",
       "    }\n",
       "\n",
       "    .dataframe tbody tr th {\n",
       "        vertical-align: top;\n",
       "    }\n",
       "\n",
       "    .dataframe thead th {\n",
       "        text-align: right;\n",
       "    }\n",
       "</style>\n",
       "<table border=\"1\" class=\"dataframe\">\n",
       "  <thead>\n",
       "    <tr style=\"text-align: right;\">\n",
       "      <th></th>\n",
       "      <th>Id</th>\n",
       "      <th>ProductId</th>\n",
       "      <th>UserId</th>\n",
       "      <th>ProfileName</th>\n",
       "      <th>HelpfulnessNumerator</th>\n",
       "      <th>HelpfulnessDenominator</th>\n",
       "      <th>Score</th>\n",
       "      <th>Time</th>\n",
       "      <th>Summary</th>\n",
       "      <th>Text</th>\n",
       "    </tr>\n",
       "  </thead>\n",
       "  <tbody>\n",
       "    <tr>\n",
       "      <th>0</th>\n",
       "      <td>1</td>\n",
       "      <td>B001E4KFG0</td>\n",
       "      <td>A3SGXH7AUHU8GW</td>\n",
       "      <td>delmartian</td>\n",
       "      <td>1</td>\n",
       "      <td>1</td>\n",
       "      <td>5</td>\n",
       "      <td>1303862400</td>\n",
       "      <td>Good Quality Dog Food</td>\n",
       "      <td>I have bought several of the Vitality canned dog food products and have found them all to be of good quality. The product looks more like a stew than a processed meat and it smells better. My Labrador is finicky and she appreciates this product better than  most.</td>\n",
       "    </tr>\n",
       "    <tr>\n",
       "      <th>1</th>\n",
       "      <td>2</td>\n",
       "      <td>B00813GRG4</td>\n",
       "      <td>A1D87F6ZCVE5NK</td>\n",
       "      <td>dll pa</td>\n",
       "      <td>0</td>\n",
       "      <td>0</td>\n",
       "      <td>1</td>\n",
       "      <td>1346976000</td>\n",
       "      <td>Not as Advertised</td>\n",
       "      <td>Product arrived labeled as Jumbo Salted Peanuts...the peanuts were actually small sized unsalted. Not sure if this was an error or if the vendor intended to represent the product as \"Jumbo\".</td>\n",
       "    </tr>\n",
       "    <tr>\n",
       "      <th>2</th>\n",
       "      <td>3</td>\n",
       "      <td>B000LQOCH0</td>\n",
       "      <td>ABXLMWJIXXAIN</td>\n",
       "      <td>Natalia Corres \"Natalia Corres\"</td>\n",
       "      <td>1</td>\n",
       "      <td>1</td>\n",
       "      <td>4</td>\n",
       "      <td>1219017600</td>\n",
       "      <td>\"Delight\" says it all</td>\n",
       "      <td>This is a confection that has been around a few centuries.  It is a light, pillowy citrus gelatin with nuts - in this case Filberts. And it is cut into tiny squares and then liberally coated with powdered sugar.  And it is a tiny mouthful of heaven.  Not too chewy, and very flavorful.  I highly recommend this yummy treat.  If you are familiar with the story of C.S. Lewis' \"The Lion, The Witch, and The Wardrobe\" - this is the treat that seduces Edmund into selling out his Brother and Sisters to the Witch.</td>\n",
       "    </tr>\n",
       "    <tr>\n",
       "      <th>3</th>\n",
       "      <td>4</td>\n",
       "      <td>B000UA0QIQ</td>\n",
       "      <td>A395BORC6FGVXV</td>\n",
       "      <td>Karl</td>\n",
       "      <td>3</td>\n",
       "      <td>3</td>\n",
       "      <td>2</td>\n",
       "      <td>1307923200</td>\n",
       "      <td>Cough Medicine</td>\n",
       "      <td>If you are looking for the secret ingredient in Robitussin I believe I have found it.  I got this in addition to the Root Beer Extract I ordered (which was good) and made some cherry soda.  The flavor is very medicinal.</td>\n",
       "    </tr>\n",
       "    <tr>\n",
       "      <th>4</th>\n",
       "      <td>5</td>\n",
       "      <td>B006K2ZZ7K</td>\n",
       "      <td>A1UQRSCLF8GW1T</td>\n",
       "      <td>Michael D. Bigham \"M. Wassir\"</td>\n",
       "      <td>0</td>\n",
       "      <td>0</td>\n",
       "      <td>5</td>\n",
       "      <td>1350777600</td>\n",
       "      <td>Great taffy</td>\n",
       "      <td>Great taffy at a great price.  There was a wide assortment of yummy taffy.  Delivery was very quick.  If your a taffy lover, this is a deal.</td>\n",
       "    </tr>\n",
       "  </tbody>\n",
       "</table>\n",
       "</div>"
      ],
      "text/plain": [
       "   Id   ProductId          UserId                      ProfileName  \\\n",
       "0   1  B001E4KFG0  A3SGXH7AUHU8GW                       delmartian   \n",
       "1   2  B00813GRG4  A1D87F6ZCVE5NK                           dll pa   \n",
       "2   3  B000LQOCH0   ABXLMWJIXXAIN  Natalia Corres \"Natalia Corres\"   \n",
       "3   4  B000UA0QIQ  A395BORC6FGVXV                             Karl   \n",
       "4   5  B006K2ZZ7K  A1UQRSCLF8GW1T    Michael D. Bigham \"M. Wassir\"   \n",
       "\n",
       "   HelpfulnessNumerator  HelpfulnessDenominator  Score        Time  \\\n",
       "0                     1                       1      5  1303862400   \n",
       "1                     0                       0      1  1346976000   \n",
       "2                     1                       1      4  1219017600   \n",
       "3                     3                       3      2  1307923200   \n",
       "4                     0                       0      5  1350777600   \n",
       "\n",
       "                 Summary  \\\n",
       "0  Good Quality Dog Food   \n",
       "1      Not as Advertised   \n",
       "2  \"Delight\" says it all   \n",
       "3         Cough Medicine   \n",
       "4            Great taffy   \n",
       "\n",
       "                                                                                                                                                                                                                                                                                                                                                                                                                                                                                                                            Text  \n",
       "0                                                                                                                                                                                                                                                        I have bought several of the Vitality canned dog food products and have found them all to be of good quality. The product looks more like a stew than a processed meat and it smells better. My Labrador is finicky and she appreciates this product better than  most.  \n",
       "1                                                                                                                                                                                                                                                                                                                                 Product arrived labeled as Jumbo Salted Peanuts...the peanuts were actually small sized unsalted. Not sure if this was an error or if the vendor intended to represent the product as \"Jumbo\".  \n",
       "2  This is a confection that has been around a few centuries.  It is a light, pillowy citrus gelatin with nuts - in this case Filberts. And it is cut into tiny squares and then liberally coated with powdered sugar.  And it is a tiny mouthful of heaven.  Not too chewy, and very flavorful.  I highly recommend this yummy treat.  If you are familiar with the story of C.S. Lewis' \"The Lion, The Witch, and The Wardrobe\" - this is the treat that seduces Edmund into selling out his Brother and Sisters to the Witch.  \n",
       "3                                                                                                                                                                                                                                                                                                    If you are looking for the secret ingredient in Robitussin I believe I have found it.  I got this in addition to the Root Beer Extract I ordered (which was good) and made some cherry soda.  The flavor is very medicinal.  \n",
       "4                                                                                                                                                                                                                                                                                                                                                                                   Great taffy at a great price.  There was a wide assortment of yummy taffy.  Delivery was very quick.  If your a taffy lover, this is a deal.  "
      ]
     },
     "execution_count": 6,
     "metadata": {},
     "output_type": "execute_result"
    }
   ],
   "source": [
    "dataset.head(5)"
   ]
  },
  {
   "cell_type": "code",
   "execution_count": 7,
   "id": "61bbb5c2",
   "metadata": {
    "execution": {
     "iopub.execute_input": "2025-03-12T12:58:57.741551Z",
     "iopub.status.busy": "2025-03-12T12:58:57.741166Z",
     "iopub.status.idle": "2025-03-12T12:58:57.771336Z",
     "shell.execute_reply": "2025-03-12T12:58:57.770160Z"
    },
    "papermill": {
     "duration": 0.045421,
     "end_time": "2025-03-12T12:58:57.773090",
     "exception": false,
     "start_time": "2025-03-12T12:58:57.727669",
     "status": "completed"
    },
    "tags": []
   },
   "outputs": [
    {
     "name": "stdout",
     "output_type": "stream",
     "text": [
      "   Score  \\\n",
      "0      5   \n",
      "1      1   \n",
      "2      4   \n",
      "3      2   \n",
      "4      5   \n",
      "\n",
      "                                                                                                                                                                                                                                                                                                                                                                                                                                                                                                                            Text  \n",
      "0                                                                                                                                                                                                                                                        I have bought several of the Vitality canned dog food products and have found them all to be of good quality. The product looks more like a stew than a processed meat and it smells better. My Labrador is finicky and she appreciates this product better than  most.  \n",
      "1                                                                                                                                                                                                                                                                                                                                 Product arrived labeled as Jumbo Salted Peanuts...the peanuts were actually small sized unsalted. Not sure if this was an error or if the vendor intended to represent the product as \"Jumbo\".  \n",
      "2  This is a confection that has been around a few centuries.  It is a light, pillowy citrus gelatin with nuts - in this case Filberts. And it is cut into tiny squares and then liberally coated with powdered sugar.  And it is a tiny mouthful of heaven.  Not too chewy, and very flavorful.  I highly recommend this yummy treat.  If you are familiar with the story of C.S. Lewis' \"The Lion, The Witch, and The Wardrobe\" - this is the treat that seduces Edmund into selling out his Brother and Sisters to the Witch.  \n",
      "3                                                                                                                                                                                                                                                                                                    If you are looking for the secret ingredient in Robitussin I believe I have found it.  I got this in addition to the Root Beer Extract I ordered (which was good) and made some cherry soda.  The flavor is very medicinal.  \n",
      "4                                                                                                                                                                                                                                                                                                                                                                                   Great taffy at a great price.  There was a wide assortment of yummy taffy.  Delivery was very quick.  If your a taffy lover, this is a deal.  \n"
     ]
    }
   ],
   "source": [
    "print(dataset[['Score','Text']].head(5))"
   ]
  },
  {
   "cell_type": "code",
   "execution_count": 8,
   "id": "708e47c8",
   "metadata": {
    "execution": {
     "iopub.execute_input": "2025-03-12T12:58:57.800564Z",
     "iopub.status.busy": "2025-03-12T12:58:57.800191Z",
     "iopub.status.idle": "2025-03-12T12:58:57.991848Z",
     "shell.execute_reply": "2025-03-12T12:58:57.990604Z"
    },
    "papermill": {
     "duration": 0.206877,
     "end_time": "2025-03-12T12:58:57.993518",
     "exception": false,
     "start_time": "2025-03-12T12:58:57.786641",
     "status": "completed"
    },
    "tags": []
   },
   "outputs": [
    {
     "name": "stdout",
     "output_type": "stream",
     "text": [
      "Id                         0\n",
      "ProductId                  0\n",
      "UserId                     0\n",
      "ProfileName               26\n",
      "HelpfulnessNumerator       0\n",
      "HelpfulnessDenominator     0\n",
      "Score                      0\n",
      "Time                       0\n",
      "Summary                   27\n",
      "Text                       0\n",
      "dtype: int64\n"
     ]
    }
   ],
   "source": [
    "print(dataset.isna().sum())"
   ]
  },
  {
   "cell_type": "code",
   "execution_count": 9,
   "id": "dae715b4",
   "metadata": {
    "execution": {
     "iopub.execute_input": "2025-03-12T12:58:58.021284Z",
     "iopub.status.busy": "2025-03-12T12:58:58.020922Z",
     "iopub.status.idle": "2025-03-12T12:58:58.077755Z",
     "shell.execute_reply": "2025-03-12T12:58:58.076828Z"
    },
    "papermill": {
     "duration": 0.072896,
     "end_time": "2025-03-12T12:58:58.079883",
     "exception": false,
     "start_time": "2025-03-12T12:58:58.006987",
     "status": "completed"
    },
    "tags": []
   },
   "outputs": [
    {
     "name": "stdout",
     "output_type": "stream",
     "text": [
      "                                                                                                                                                                                                                                                                                                                                                                                                                                                                                                                                                                                                                                                                                                                                                                                                                                                                                                                Text  \\\n",
      "413370                                                                                                                                                                            We've grown to absolutely love La Preferida Mexican Homestyle Beans.  We have them every time we make fajitas at home.  I've even added them to chili.  There's just something about the combination of ingredients that creates a very flavorful dish.  And these are whole beans in a tasty sauce, not the smashed paste that all other brands seem to offer.  Alas, these La Preferida beans are no longer available in my neighborhood - and I'm not gonna eat that bean paste everyone else sells.  I was very pleased to find these available on Amazon.  Bought two cases, received in two different shipments.  First shipment was fine.  The second shipment not so fine - every can was dented.  So far so good, though.   \n",
      "82751   \"Organic\" means that something in there was/might be organic.  This claims to be 100% organic.  USDA organic does not mean much any more.  I'm not sure what NDA is.<br /><br />Mine has an expiration date of 11/22/13.  It does not have a picked date. I wish it did.  Normal teas are best no more than a year from the picking date.  I have no idea how long it has been sitting around.<br /><br />It says it is pure leaves but there seems to be some white sticks in the mix.  And it is a mix.  Not many leaves - unlike the picture- more of a crunch.  I have to use my finest filter and some still goes through.  I don't use paper.<br /><br />A pound is a lot of tea.<br /><br />I mix it with my green tea in the am and it keeps me from getting jittery.  Tastes like Tulsi to me but... the real, fresh leaf is very fine indeed.<br /><br />And where is it from?  US, India? Belize?   \n",
      "23588                                                                                                                                                                                                                                                                                                                                                                                                                                                                                                                                                                                                       I really enjoy this coffee because it's strong but not too strong.  It tastes just right and knowing that it's organic makes it all the better.  I purchase it whenever I am on my last box and I find that it's available on Amazon because they run out of it quite frequently.  Grab it when you can!   \n",
      "135163                                                                                                                                                                                                                                                                                                                                                                                                                                                                                                                                                                                               Nice light pure peach flavor.<br /><br />Does not 'feel' caffeinated, even tho it does have caffeine...light in all regards.<br /><br />Enjoy it very much, great value and a plus for me...none of those strange herbs that are often in flavored teas that make them all taste the same.<br /><br />A winner!   \n",
      "120708                                                                                                                                                                                                                                                                                                                                                                                                                                                                                                                                                                                                                                                                                     I quickly became a fan of this product after trying lots of K-cups.  I signed up to get a shipment each month from<br />Amazon  and have now increased my order as I am drinking it more than once a day.  Great product!   \n",
      "...                                                                                                                                                                                                                                                                                                                                                                                                                                                                                                                                                                                                                                                                                                                                                                                                                                                                                                              ...   \n",
      "197078                                                                                                                                                                                                                                                                                                                                                                                                                                                                                                                                                                                                                                                                                                                                                                                 Great snack for those trying to avoid (or can't have) dairy or sugar. The mild ginger taste makes it a great snack or desert.   \n",
      "144508                                                                                                                                                                                                                                                                                                                                                                                                                                                                                                                               I am a huge fan of The Silk Road restaurant in Missoula, MT.  However, I am currently living far, far, away and miss the food and atmosphere at The Silk Road.  This spice allows me to bring a little bit of that to my own home.  I ordered the spice and received it in a timely manner.  Can't wait to try it out!  Thank you for making this spice blend available! - Aana   \n",
      "491594                                                                                                                                                                                                                While traveling to the Texas coast last winter we spent a few days in Fredricksburg where my wife fell in love with prickly pear margaritas at our favorite restaurant.  We spent the rest of our trip searching for prickly pear syrup with no sucess.  Once we got to our winter destination I took what is usually my first option when looking for something: check on Amazon.  I ordered one bottle of Cahill to see if it was worth the price and, upon receipt and a homemade prickly pear margarita, I attempted to purchase several more bottles.  Unfortunately no further were available from Amazon, so I had to search the net for another source which we located and purchased.   \n",
      "72721                                                                                                                                                                                                                                                                                                                                                                                                                                                                                                                                                                                                                                                                                                                                                                                                  Everything i expected from Amamzon.com,  - very good tea for tea lovers, be careful not to make it too strong   \n",
      "398329                                                                                                                                                                                                                                                                                                                                                                                                                                                                                                                                                                                                                                                                                                                                                                                                     This product tastes good and this brand is one that mixes up better easier if you are shaking up a shake.   \n",
      "\n",
      "                                                   Summary  Score  \n",
      "413370                                Love these Frijoles!      5  \n",
      "82751     Price was good, needs a date and where it's from      3  \n",
      "23588                                         Great Coffee      5  \n",
      "135163  Light peach flavor with no added strange herbs....      5  \n",
      "120708                             Grove Square Cappuccino      5  \n",
      "...                                                    ...    ...  \n",
      "197078                                    Non gluten snack      5  \n",
      "144508                                  Can't wait to try!      5  \n",
      "491594                               The perfect margarita      4  \n",
      "72721                                     Lapsang Souchong      5  \n",
      "398329                                This is good product      5  \n",
      "\n",
      "[1000 rows x 3 columns]\n"
     ]
    }
   ],
   "source": [
    "lmtpData=dataset[['Text','Summary','Score']].sample(n=1000)\n",
    "print(lmtpData)"
   ]
  },
  {
   "cell_type": "markdown",
   "id": "03f898bc",
   "metadata": {
    "papermill": {
     "duration": 0.012836,
     "end_time": "2025-03-12T12:58:58.105970",
     "exception": false,
     "start_time": "2025-03-12T12:58:58.093134",
     "status": "completed"
    },
    "tags": []
   },
   "source": [
    "### ADDING SENTIMENT COLUMN"
   ]
  },
  {
   "cell_type": "code",
   "execution_count": 10,
   "id": "f024f43d",
   "metadata": {
    "execution": {
     "iopub.execute_input": "2025-03-12T12:58:58.133291Z",
     "iopub.status.busy": "2025-03-12T12:58:58.132978Z",
     "iopub.status.idle": "2025-03-12T12:58:58.144033Z",
     "shell.execute_reply": "2025-03-12T12:58:58.143155Z"
    },
    "papermill": {
     "duration": 0.026661,
     "end_time": "2025-03-12T12:58:58.145661",
     "exception": false,
     "start_time": "2025-03-12T12:58:58.119000",
     "status": "completed"
    },
    "tags": []
   },
   "outputs": [
    {
     "data": {
      "text/html": [
       "<div>\n",
       "<style scoped>\n",
       "    .dataframe tbody tr th:only-of-type {\n",
       "        vertical-align: middle;\n",
       "    }\n",
       "\n",
       "    .dataframe tbody tr th {\n",
       "        vertical-align: top;\n",
       "    }\n",
       "\n",
       "    .dataframe thead th {\n",
       "        text-align: right;\n",
       "    }\n",
       "</style>\n",
       "<table border=\"1\" class=\"dataframe\">\n",
       "  <thead>\n",
       "    <tr style=\"text-align: right;\">\n",
       "      <th></th>\n",
       "      <th>Text</th>\n",
       "      <th>Summary</th>\n",
       "      <th>Score</th>\n",
       "      <th>Sentiment</th>\n",
       "    </tr>\n",
       "  </thead>\n",
       "  <tbody>\n",
       "    <tr>\n",
       "      <th>413370</th>\n",
       "      <td>We've grown to absolutely love La Preferida Mexican Homestyle Beans.  We have them every time we make fajitas at home.  I've even added them to chili.  There's just something about the combination of ingredients that creates a very flavorful dish.  And these are whole beans in a tasty sauce, not the smashed paste that all other brands seem to offer.  Alas, these La Preferida beans are no longer available in my neighborhood - and I'm not gonna eat that bean paste everyone else sells.  I was very pleased to find these available on Amazon.  Bought two cases, received in two different shipments.  First shipment was fine.  The second shipment not so fine - every can was dented.  So far so good, though.</td>\n",
       "      <td>Love these Frijoles!</td>\n",
       "      <td>5</td>\n",
       "      <td>1</td>\n",
       "    </tr>\n",
       "    <tr>\n",
       "      <th>82751</th>\n",
       "      <td>\"Organic\" means that something in there was/might be organic.  This claims to be 100% organic.  USDA organic does not mean much any more.  I'm not sure what NDA is.&lt;br /&gt;&lt;br /&gt;Mine has an expiration date of 11/22/13.  It does not have a picked date. I wish it did.  Normal teas are best no more than a year from the picking date.  I have no idea how long it has been sitting around.&lt;br /&gt;&lt;br /&gt;It says it is pure leaves but there seems to be some white sticks in the mix.  And it is a mix.  Not many leaves - unlike the picture- more of a crunch.  I have to use my finest filter and some still goes through.  I don't use paper.&lt;br /&gt;&lt;br /&gt;A pound is a lot of tea.&lt;br /&gt;&lt;br /&gt;I mix it with my green tea in the am and it keeps me from getting jittery.  Tastes like Tulsi to me but... the real, fresh leaf is very fine indeed.&lt;br /&gt;&lt;br /&gt;And where is it from?  US, India? Belize?</td>\n",
       "      <td>Price was good, needs a date and where it's from</td>\n",
       "      <td>3</td>\n",
       "      <td>2</td>\n",
       "    </tr>\n",
       "    <tr>\n",
       "      <th>23588</th>\n",
       "      <td>I really enjoy this coffee because it's strong but not too strong.  It tastes just right and knowing that it's organic makes it all the better.  I purchase it whenever I am on my last box and I find that it's available on Amazon because they run out of it quite frequently.  Grab it when you can!</td>\n",
       "      <td>Great Coffee</td>\n",
       "      <td>5</td>\n",
       "      <td>1</td>\n",
       "    </tr>\n",
       "    <tr>\n",
       "      <th>135163</th>\n",
       "      <td>Nice light pure peach flavor.&lt;br /&gt;&lt;br /&gt;Does not 'feel' caffeinated, even tho it does have caffeine...light in all regards.&lt;br /&gt;&lt;br /&gt;Enjoy it very much, great value and a plus for me...none of those strange herbs that are often in flavored teas that make them all taste the same.&lt;br /&gt;&lt;br /&gt;A winner!</td>\n",
       "      <td>Light peach flavor with no added strange herbs....</td>\n",
       "      <td>5</td>\n",
       "      <td>1</td>\n",
       "    </tr>\n",
       "    <tr>\n",
       "      <th>120708</th>\n",
       "      <td>I quickly became a fan of this product after trying lots of K-cups.  I signed up to get a shipment each month from&lt;br /&gt;Amazon  and have now increased my order as I am drinking it more than once a day.  Great product!</td>\n",
       "      <td>Grove Square Cappuccino</td>\n",
       "      <td>5</td>\n",
       "      <td>1</td>\n",
       "    </tr>\n",
       "  </tbody>\n",
       "</table>\n",
       "</div>"
      ],
      "text/plain": [
       "                                                                                                                                                                                                                                                                                                                                                                                                                                                                                                                                                                                                                                                                                                                                                                                                                                                                                                                Text  \\\n",
       "413370                                                                                                                                                                            We've grown to absolutely love La Preferida Mexican Homestyle Beans.  We have them every time we make fajitas at home.  I've even added them to chili.  There's just something about the combination of ingredients that creates a very flavorful dish.  And these are whole beans in a tasty sauce, not the smashed paste that all other brands seem to offer.  Alas, these La Preferida beans are no longer available in my neighborhood - and I'm not gonna eat that bean paste everyone else sells.  I was very pleased to find these available on Amazon.  Bought two cases, received in two different shipments.  First shipment was fine.  The second shipment not so fine - every can was dented.  So far so good, though.   \n",
       "82751   \"Organic\" means that something in there was/might be organic.  This claims to be 100% organic.  USDA organic does not mean much any more.  I'm not sure what NDA is.<br /><br />Mine has an expiration date of 11/22/13.  It does not have a picked date. I wish it did.  Normal teas are best no more than a year from the picking date.  I have no idea how long it has been sitting around.<br /><br />It says it is pure leaves but there seems to be some white sticks in the mix.  And it is a mix.  Not many leaves - unlike the picture- more of a crunch.  I have to use my finest filter and some still goes through.  I don't use paper.<br /><br />A pound is a lot of tea.<br /><br />I mix it with my green tea in the am and it keeps me from getting jittery.  Tastes like Tulsi to me but... the real, fresh leaf is very fine indeed.<br /><br />And where is it from?  US, India? Belize?   \n",
       "23588                                                                                                                                                                                                                                                                                                                                                                                                                                                                                                                                                                                                       I really enjoy this coffee because it's strong but not too strong.  It tastes just right and knowing that it's organic makes it all the better.  I purchase it whenever I am on my last box and I find that it's available on Amazon because they run out of it quite frequently.  Grab it when you can!   \n",
       "135163                                                                                                                                                                                                                                                                                                                                                                                                                                                                                                                                                                                               Nice light pure peach flavor.<br /><br />Does not 'feel' caffeinated, even tho it does have caffeine...light in all regards.<br /><br />Enjoy it very much, great value and a plus for me...none of those strange herbs that are often in flavored teas that make them all taste the same.<br /><br />A winner!   \n",
       "120708                                                                                                                                                                                                                                                                                                                                                                                                                                                                                                                                                                                                                                                                                     I quickly became a fan of this product after trying lots of K-cups.  I signed up to get a shipment each month from<br />Amazon  and have now increased my order as I am drinking it more than once a day.  Great product!   \n",
       "\n",
       "                                                   Summary  Score  Sentiment  \n",
       "413370                                Love these Frijoles!      5          1  \n",
       "82751     Price was good, needs a date and where it's from      3          2  \n",
       "23588                                         Great Coffee      5          1  \n",
       "135163  Light peach flavor with no added strange herbs....      5          1  \n",
       "120708                             Grove Square Cappuccino      5          1  "
      ]
     },
     "execution_count": 10,
     "metadata": {},
     "output_type": "execute_result"
    }
   ],
   "source": [
    "#0-negative, 1-positive\n",
    "def lblScore(score):\n",
    "    if score<=2:\n",
    "        return 0\n",
    "    elif score>=4:\n",
    "        return 1\n",
    "    else:\n",
    "        return 2\n",
    "lmtpData['Sentiment']=lmtpData['Score'].apply(lblScore)\n",
    "lmtpData.head(5)"
   ]
  },
  {
   "cell_type": "code",
   "execution_count": 11,
   "id": "06a919e6",
   "metadata": {
    "execution": {
     "iopub.execute_input": "2025-03-12T12:58:58.174007Z",
     "iopub.status.busy": "2025-03-12T12:58:58.173686Z",
     "iopub.status.idle": "2025-03-12T12:58:58.181815Z",
     "shell.execute_reply": "2025-03-12T12:58:58.180840Z"
    },
    "papermill": {
     "duration": 0.024258,
     "end_time": "2025-03-12T12:58:58.183453",
     "exception": false,
     "start_time": "2025-03-12T12:58:58.159195",
     "status": "completed"
    },
    "tags": []
   },
   "outputs": [
    {
     "data": {
      "text/plain": [
       "Sentiment\n",
       "1    779\n",
       "0    143\n",
       "2     78\n",
       "Name: count, dtype: int64"
      ]
     },
     "execution_count": 11,
     "metadata": {},
     "output_type": "execute_result"
    }
   ],
   "source": [
    "lmtpData['Sentiment'].value_counts()"
   ]
  },
  {
   "cell_type": "markdown",
   "id": "1ec039e6",
   "metadata": {
    "execution": {
     "iopub.execute_input": "2025-03-06T12:31:15.045476Z",
     "iopub.status.busy": "2025-03-06T12:31:15.045080Z",
     "iopub.status.idle": "2025-03-06T12:31:15.049290Z",
     "shell.execute_reply": "2025-03-06T12:31:15.048323Z",
     "shell.execute_reply.started": "2025-03-06T12:31:15.045438Z"
    },
    "papermill": {
     "duration": 0.013098,
     "end_time": "2025-03-12T12:58:58.210341",
     "exception": false,
     "start_time": "2025-03-12T12:58:58.197243",
     "status": "completed"
    },
    "tags": []
   },
   "source": [
    "#### VECTORS"
   ]
  },
  {
   "cell_type": "code",
   "execution_count": 12,
   "id": "1a52867c",
   "metadata": {
    "execution": {
     "iopub.execute_input": "2025-03-12T12:58:58.238720Z",
     "iopub.status.busy": "2025-03-12T12:58:58.238327Z",
     "iopub.status.idle": "2025-03-12T12:59:09.210473Z",
     "shell.execute_reply": "2025-03-12T12:59:09.209230Z"
    },
    "papermill": {
     "duration": 10.988375,
     "end_time": "2025-03-12T12:59:09.212265",
     "exception": false,
     "start_time": "2025-03-12T12:58:58.223890",
     "status": "completed"
    },
    "tags": []
   },
   "outputs": [
    {
     "name": "stdout",
     "output_type": "stream",
     "text": [
      "Loaded 400000 word vectors.\n"
     ]
    }
   ],
   "source": [
    "import numpy as np\n",
    "\n",
    "glove_path = \"/kaggle/input/glove-6b-100-d/glove.6B.100d.txt\"\n",
    "\n",
    "def loadGloveEmbeddings(filePath, embedding_dim=100):\n",
    "    embeddingsIndex = {}\n",
    "    with open(filePath, encoding=\"utf8\") as f:\n",
    "        for line in f:\n",
    "            values = line.split()\n",
    "            word = values[0]\n",
    "            coefs = np.asarray(values[1:], dtype='float32')\n",
    "            embeddingsIndex[word] = coefs\n",
    "    return embeddingsIndex\n",
    "\n",
    "gloveEmbeddings = loadGloveEmbeddings(glove_path)\n",
    "print(\"Loaded {} word vectors.\".format(len(gloveEmbeddings)))\n",
    "\n",
    "\n",
    "        "
   ]
  },
  {
   "cell_type": "markdown",
   "id": "219028d4",
   "metadata": {
    "papermill": {
     "duration": 0.013395,
     "end_time": "2025-03-12T12:59:09.239485",
     "exception": false,
     "start_time": "2025-03-12T12:59:09.226090",
     "status": "completed"
    },
    "tags": []
   },
   "source": [
    "#### CREATING EMBEDDING MATRIX"
   ]
  },
  {
   "cell_type": "code",
   "execution_count": 13,
   "id": "207c7e3e",
   "metadata": {
    "execution": {
     "iopub.execute_input": "2025-03-12T12:59:09.268210Z",
     "iopub.status.busy": "2025-03-12T12:59:09.267898Z",
     "iopub.status.idle": "2025-03-12T12:59:09.275455Z",
     "shell.execute_reply": "2025-03-12T12:59:09.274283Z"
    },
    "papermill": {
     "duration": 0.023915,
     "end_time": "2025-03-12T12:59:09.277139",
     "exception": false,
     "start_time": "2025-03-12T12:59:09.253224",
     "status": "completed"
    },
    "tags": []
   },
   "outputs": [],
   "source": [
    "lmtpData['Summary']=lmtpData['Summary'].fillna(\"\")\n",
    "lmtpData['CombinedText']=lmtpData['Summary'] + \" \" + lmtpData['Text']\n"
   ]
  },
  {
   "cell_type": "code",
   "execution_count": 14,
   "id": "ded9fa48",
   "metadata": {
    "execution": {
     "iopub.execute_input": "2025-03-12T12:59:09.306328Z",
     "iopub.status.busy": "2025-03-12T12:59:09.306006Z",
     "iopub.status.idle": "2025-03-12T12:59:24.098627Z",
     "shell.execute_reply": "2025-03-12T12:59:24.097519Z"
    },
    "papermill": {
     "duration": 14.809484,
     "end_time": "2025-03-12T12:59:24.100956",
     "exception": false,
     "start_time": "2025-03-12T12:59:09.291472",
     "status": "completed"
    },
    "tags": []
   },
   "outputs": [],
   "source": [
    "#tokenizing\n",
    "from tensorflow.keras.preprocessing.text import Tokenizer\n",
    "from tensorflow.keras.preprocessing.sequence import pad_sequences\n",
    "\n",
    "tokenizer=Tokenizer()\n",
    "tokenizer.fit_on_texts(lmtpData['CombinedText'])\n",
    "sequences=tokenizer.texts_to_sequences(lmtpData['CombinedText'])\n",
    "\n",
    "maxLen=100\n",
    "padded_sequences=pad_sequences(sequences,maxlen=maxLen,padding='post')"
   ]
  },
  {
   "cell_type": "code",
   "execution_count": 15,
   "id": "b0146d63",
   "metadata": {
    "execution": {
     "iopub.execute_input": "2025-03-12T12:59:24.144353Z",
     "iopub.status.busy": "2025-03-12T12:59:24.143567Z",
     "iopub.status.idle": "2025-03-12T12:59:24.167180Z",
     "shell.execute_reply": "2025-03-12T12:59:24.166074Z"
    },
    "papermill": {
     "duration": 0.041286,
     "end_time": "2025-03-12T12:59:24.169142",
     "exception": false,
     "start_time": "2025-03-12T12:59:24.127856",
     "status": "completed"
    },
    "tags": []
   },
   "outputs": [],
   "source": [
    "embedding_dim=100\n",
    "vocabSize=len(tokenizer.word_index) + 1\n",
    "\n",
    "embeddingMatrix=np.zeros((vocabSize,embedding_dim))\n",
    "\n",
    "for word,i in tokenizer.word_index.items():\n",
    "    embeddingVector=gloveEmbeddings.get(word)\n",
    "    if embeddingVector is not None:\n",
    "        embeddingMatrix[i]=embeddingVector"
   ]
  },
  {
   "cell_type": "code",
   "execution_count": 16,
   "id": "f3de68a0",
   "metadata": {
    "execution": {
     "iopub.execute_input": "2025-03-12T12:59:24.199032Z",
     "iopub.status.busy": "2025-03-12T12:59:24.198585Z",
     "iopub.status.idle": "2025-03-12T12:59:24.204565Z",
     "shell.execute_reply": "2025-03-12T12:59:24.203362Z"
    },
    "papermill": {
     "duration": 0.023325,
     "end_time": "2025-03-12T12:59:24.206510",
     "exception": false,
     "start_time": "2025-03-12T12:59:24.183185",
     "status": "completed"
    },
    "tags": []
   },
   "outputs": [
    {
     "name": "stdout",
     "output_type": "stream",
     "text": [
      "Embedding matrix shape: (7034, 100)\n"
     ]
    }
   ],
   "source": [
    "print(\"Embedding matrix shape:\", embeddingMatrix.shape)\n"
   ]
  },
  {
   "cell_type": "markdown",
   "id": "cf6ced0f",
   "metadata": {
    "papermill": {
     "duration": 0.013798,
     "end_time": "2025-03-12T12:59:24.243834",
     "exception": false,
     "start_time": "2025-03-12T12:59:24.230036",
     "status": "completed"
    },
    "tags": []
   },
   "source": [
    "### MAKING THE MODEL"
   ]
  },
  {
   "cell_type": "code",
   "execution_count": 17,
   "id": "3b43ace8",
   "metadata": {
    "execution": {
     "iopub.execute_input": "2025-03-12T12:59:24.273558Z",
     "iopub.status.busy": "2025-03-12T12:59:24.273081Z",
     "iopub.status.idle": "2025-03-12T12:59:24.455441Z",
     "shell.execute_reply": "2025-03-12T12:59:24.454441Z"
    },
    "papermill": {
     "duration": 0.199366,
     "end_time": "2025-03-12T12:59:24.457084",
     "exception": false,
     "start_time": "2025-03-12T12:59:24.257718",
     "status": "completed"
    },
    "tags": []
   },
   "outputs": [
    {
     "name": "stdout",
     "output_type": "stream",
     "text": [
      "Padded shape: (1000, 100)\n",
      "Labels shape: (1000,)\n"
     ]
    },
    {
     "data": {
      "text/html": [
       "<pre style=\"white-space:pre;overflow-x:auto;line-height:normal;font-family:Menlo,'DejaVu Sans Mono',consolas,'Courier New',monospace\"><span style=\"font-weight: bold\">Model: \"sequential\"</span>\n",
       "</pre>\n"
      ],
      "text/plain": [
       "\u001b[1mModel: \"sequential\"\u001b[0m\n"
      ]
     },
     "metadata": {},
     "output_type": "display_data"
    },
    {
     "data": {
      "text/html": [
       "<pre style=\"white-space:pre;overflow-x:auto;line-height:normal;font-family:Menlo,'DejaVu Sans Mono',consolas,'Courier New',monospace\">┏━━━━━━━━━━━━━━━━━━━━━━━━━━━━━━━━━━━━━━┳━━━━━━━━━━━━━━━━━━━━━━━━━━━━━┳━━━━━━━━━━━━━━━━━┓\n",
       "┃<span style=\"font-weight: bold\"> Layer (type)                         </span>┃<span style=\"font-weight: bold\"> Output Shape                </span>┃<span style=\"font-weight: bold\">         Param # </span>┃\n",
       "┡━━━━━━━━━━━━━━━━━━━━━━━━━━━━━━━━━━━━━━╇━━━━━━━━━━━━━━━━━━━━━━━━━━━━━╇━━━━━━━━━━━━━━━━━┩\n",
       "│ embedding (<span style=\"color: #0087ff; text-decoration-color: #0087ff\">Embedding</span>)                │ (<span style=\"color: #00d7ff; text-decoration-color: #00d7ff\">None</span>, <span style=\"color: #00af00; text-decoration-color: #00af00\">100</span>, <span style=\"color: #00af00; text-decoration-color: #00af00\">100</span>)            │         <span style=\"color: #00af00; text-decoration-color: #00af00\">703,400</span> │\n",
       "├──────────────────────────────────────┼─────────────────────────────┼─────────────────┤\n",
       "│ lstm (<span style=\"color: #0087ff; text-decoration-color: #0087ff\">LSTM</span>)                          │ (<span style=\"color: #00d7ff; text-decoration-color: #00d7ff\">None</span>, <span style=\"color: #00af00; text-decoration-color: #00af00\">100</span>, <span style=\"color: #00af00; text-decoration-color: #00af00\">128</span>)            │         <span style=\"color: #00af00; text-decoration-color: #00af00\">117,248</span> │\n",
       "├──────────────────────────────────────┼─────────────────────────────┼─────────────────┤\n",
       "│ lstm_1 (<span style=\"color: #0087ff; text-decoration-color: #0087ff\">LSTM</span>)                        │ (<span style=\"color: #00d7ff; text-decoration-color: #00d7ff\">None</span>, <span style=\"color: #00af00; text-decoration-color: #00af00\">64</span>)                  │          <span style=\"color: #00af00; text-decoration-color: #00af00\">49,408</span> │\n",
       "├──────────────────────────────────────┼─────────────────────────────┼─────────────────┤\n",
       "│ dropout (<span style=\"color: #0087ff; text-decoration-color: #0087ff\">Dropout</span>)                    │ (<span style=\"color: #00d7ff; text-decoration-color: #00d7ff\">None</span>, <span style=\"color: #00af00; text-decoration-color: #00af00\">64</span>)                  │               <span style=\"color: #00af00; text-decoration-color: #00af00\">0</span> │\n",
       "├──────────────────────────────────────┼─────────────────────────────┼─────────────────┤\n",
       "│ dense (<span style=\"color: #0087ff; text-decoration-color: #0087ff\">Dense</span>)                        │ (<span style=\"color: #00d7ff; text-decoration-color: #00d7ff\">None</span>, <span style=\"color: #00af00; text-decoration-color: #00af00\">3</span>)                   │             <span style=\"color: #00af00; text-decoration-color: #00af00\">195</span> │\n",
       "└──────────────────────────────────────┴─────────────────────────────┴─────────────────┘\n",
       "</pre>\n"
      ],
      "text/plain": [
       "┏━━━━━━━━━━━━━━━━━━━━━━━━━━━━━━━━━━━━━━┳━━━━━━━━━━━━━━━━━━━━━━━━━━━━━┳━━━━━━━━━━━━━━━━━┓\n",
       "┃\u001b[1m \u001b[0m\u001b[1mLayer (type)                        \u001b[0m\u001b[1m \u001b[0m┃\u001b[1m \u001b[0m\u001b[1mOutput Shape               \u001b[0m\u001b[1m \u001b[0m┃\u001b[1m \u001b[0m\u001b[1m        Param #\u001b[0m\u001b[1m \u001b[0m┃\n",
       "┡━━━━━━━━━━━━━━━━━━━━━━━━━━━━━━━━━━━━━━╇━━━━━━━━━━━━━━━━━━━━━━━━━━━━━╇━━━━━━━━━━━━━━━━━┩\n",
       "│ embedding (\u001b[38;5;33mEmbedding\u001b[0m)                │ (\u001b[38;5;45mNone\u001b[0m, \u001b[38;5;34m100\u001b[0m, \u001b[38;5;34m100\u001b[0m)            │         \u001b[38;5;34m703,400\u001b[0m │\n",
       "├──────────────────────────────────────┼─────────────────────────────┼─────────────────┤\n",
       "│ lstm (\u001b[38;5;33mLSTM\u001b[0m)                          │ (\u001b[38;5;45mNone\u001b[0m, \u001b[38;5;34m100\u001b[0m, \u001b[38;5;34m128\u001b[0m)            │         \u001b[38;5;34m117,248\u001b[0m │\n",
       "├──────────────────────────────────────┼─────────────────────────────┼─────────────────┤\n",
       "│ lstm_1 (\u001b[38;5;33mLSTM\u001b[0m)                        │ (\u001b[38;5;45mNone\u001b[0m, \u001b[38;5;34m64\u001b[0m)                  │          \u001b[38;5;34m49,408\u001b[0m │\n",
       "├──────────────────────────────────────┼─────────────────────────────┼─────────────────┤\n",
       "│ dropout (\u001b[38;5;33mDropout\u001b[0m)                    │ (\u001b[38;5;45mNone\u001b[0m, \u001b[38;5;34m64\u001b[0m)                  │               \u001b[38;5;34m0\u001b[0m │\n",
       "├──────────────────────────────────────┼─────────────────────────────┼─────────────────┤\n",
       "│ dense (\u001b[38;5;33mDense\u001b[0m)                        │ (\u001b[38;5;45mNone\u001b[0m, \u001b[38;5;34m3\u001b[0m)                   │             \u001b[38;5;34m195\u001b[0m │\n",
       "└──────────────────────────────────────┴─────────────────────────────┴─────────────────┘\n"
      ]
     },
     "metadata": {},
     "output_type": "display_data"
    },
    {
     "data": {
      "text/html": [
       "<pre style=\"white-space:pre;overflow-x:auto;line-height:normal;font-family:Menlo,'DejaVu Sans Mono',consolas,'Courier New',monospace\"><span style=\"font-weight: bold\"> Total params: </span><span style=\"color: #00af00; text-decoration-color: #00af00\">870,251</span> (3.32 MB)\n",
       "</pre>\n"
      ],
      "text/plain": [
       "\u001b[1m Total params: \u001b[0m\u001b[38;5;34m870,251\u001b[0m (3.32 MB)\n"
      ]
     },
     "metadata": {},
     "output_type": "display_data"
    },
    {
     "data": {
      "text/html": [
       "<pre style=\"white-space:pre;overflow-x:auto;line-height:normal;font-family:Menlo,'DejaVu Sans Mono',consolas,'Courier New',monospace\"><span style=\"font-weight: bold\"> Trainable params: </span><span style=\"color: #00af00; text-decoration-color: #00af00\">166,851</span> (651.76 KB)\n",
       "</pre>\n"
      ],
      "text/plain": [
       "\u001b[1m Trainable params: \u001b[0m\u001b[38;5;34m166,851\u001b[0m (651.76 KB)\n"
      ]
     },
     "metadata": {},
     "output_type": "display_data"
    },
    {
     "data": {
      "text/html": [
       "<pre style=\"white-space:pre;overflow-x:auto;line-height:normal;font-family:Menlo,'DejaVu Sans Mono',consolas,'Courier New',monospace\"><span style=\"font-weight: bold\"> Non-trainable params: </span><span style=\"color: #00af00; text-decoration-color: #00af00\">703,400</span> (2.68 MB)\n",
       "</pre>\n"
      ],
      "text/plain": [
       "\u001b[1m Non-trainable params: \u001b[0m\u001b[38;5;34m703,400\u001b[0m (2.68 MB)\n"
      ]
     },
     "metadata": {},
     "output_type": "display_data"
    }
   ],
   "source": [
    "from tensorflow.keras.models import Sequential\n",
    "from tensorflow.keras.layers import Embedding, LSTM, Dense, Dropout,Input\n",
    "maxLen=100\n",
    "X_train = padded_sequences \n",
    "y_train = lmtpData[\"Sentiment\"].values  \n",
    "\n",
    "print(\"Padded shape:\", X_train.shape)  \n",
    "print(\"Labels shape:\", y_train.shape) \n",
    "\n",
    "model = Sequential([\n",
    "    Input(shape=(maxLen,)),\n",
    "    Embedding(input_dim=vocabSize,  \n",
    "              output_dim=embedding_dim, \n",
    "              weights=embeddingMatrix, \n",
    "             \n",
    "              trainable=False), \n",
    "    LSTM(128, return_sequences=True),\n",
    "    LSTM(64),\n",
    "    Dropout(0.3),\n",
    "    Dense(3, activation='softmax') \n",
    "])\n",
    "\n",
    "\n",
    "model.compile(loss='sparse_categorical_crossentropy', optimizer='adam', metrics=['accuracy'])\n",
    "\n",
    "model.summary()\n"
   ]
  },
  {
   "cell_type": "code",
   "execution_count": 18,
   "id": "2f1aabbc",
   "metadata": {
    "execution": {
     "iopub.execute_input": "2025-03-12T12:59:24.494096Z",
     "iopub.status.busy": "2025-03-12T12:59:24.493735Z",
     "iopub.status.idle": "2025-03-12T13:00:05.595798Z",
     "shell.execute_reply": "2025-03-12T13:00:05.594769Z"
    },
    "papermill": {
     "duration": 41.12587,
     "end_time": "2025-03-12T13:00:05.597663",
     "exception": false,
     "start_time": "2025-03-12T12:59:24.471793",
     "status": "completed"
    },
    "tags": []
   },
   "outputs": [
    {
     "name": "stdout",
     "output_type": "stream",
     "text": [
      "Epoch 1/10\n",
      "\u001b[1m22/22\u001b[0m \u001b[32m━━━━━━━━━━━━━━━━━━━━\u001b[0m\u001b[37m\u001b[0m \u001b[1m7s\u001b[0m 171ms/step - accuracy: 0.7241 - loss: 0.9168 - val_accuracy: 0.7600 - val_loss: 0.7029\n",
      "Epoch 2/10\n",
      "\u001b[1m22/22\u001b[0m \u001b[32m━━━━━━━━━━━━━━━━━━━━\u001b[0m\u001b[37m\u001b[0m \u001b[1m3s\u001b[0m 157ms/step - accuracy: 0.7915 - loss: 0.6768 - val_accuracy: 0.7600 - val_loss: 0.6977\n",
      "Epoch 3/10\n",
      "\u001b[1m22/22\u001b[0m \u001b[32m━━━━━━━━━━━━━━━━━━━━\u001b[0m\u001b[37m\u001b[0m \u001b[1m3s\u001b[0m 154ms/step - accuracy: 0.7875 - loss: 0.6703 - val_accuracy: 0.7600 - val_loss: 0.7062\n",
      "Epoch 4/10\n",
      "\u001b[1m22/22\u001b[0m \u001b[32m━━━━━━━━━━━━━━━━━━━━\u001b[0m\u001b[37m\u001b[0m \u001b[1m3s\u001b[0m 154ms/step - accuracy: 0.7744 - loss: 0.6910 - val_accuracy: 0.7600 - val_loss: 0.7103\n",
      "Epoch 5/10\n",
      "\u001b[1m22/22\u001b[0m \u001b[32m━━━━━━━━━━━━━━━━━━━━\u001b[0m\u001b[37m\u001b[0m \u001b[1m3s\u001b[0m 157ms/step - accuracy: 0.8058 - loss: 0.6453 - val_accuracy: 0.7600 - val_loss: 0.6986\n",
      "Epoch 6/10\n",
      "\u001b[1m22/22\u001b[0m \u001b[32m━━━━━━━━━━━━━━━━━━━━\u001b[0m\u001b[37m\u001b[0m \u001b[1m3s\u001b[0m 156ms/step - accuracy: 0.7688 - loss: 0.7040 - val_accuracy: 0.7600 - val_loss: 0.7129\n",
      "Epoch 7/10\n",
      "\u001b[1m22/22\u001b[0m \u001b[32m━━━━━━━━━━━━━━━━━━━━\u001b[0m\u001b[37m\u001b[0m \u001b[1m3s\u001b[0m 156ms/step - accuracy: 0.7694 - loss: 0.6902 - val_accuracy: 0.7600 - val_loss: 0.7221\n",
      "Epoch 8/10\n",
      "\u001b[1m22/22\u001b[0m \u001b[32m━━━━━━━━━━━━━━━━━━━━\u001b[0m\u001b[37m\u001b[0m \u001b[1m4s\u001b[0m 162ms/step - accuracy: 0.7965 - loss: 0.6345 - val_accuracy: 0.7600 - val_loss: 0.6960\n",
      "Epoch 9/10\n",
      "\u001b[1m22/22\u001b[0m \u001b[32m━━━━━━━━━━━━━━━━━━━━\u001b[0m\u001b[37m\u001b[0m \u001b[1m5s\u001b[0m 156ms/step - accuracy: 0.7755 - loss: 0.6651 - val_accuracy: 0.7600 - val_loss: 0.7212\n",
      "Epoch 10/10\n",
      "\u001b[1m22/22\u001b[0m \u001b[32m━━━━━━━━━━━━━━━━━━━━\u001b[0m\u001b[37m\u001b[0m \u001b[1m5s\u001b[0m 161ms/step - accuracy: 0.7977 - loss: 0.6213 - val_accuracy: 0.7600 - val_loss: 0.7019\n"
     ]
    }
   ],
   "source": [
    "\n",
    "history=model.fit(X_train, y_train, epochs=10, batch_size=32, validation_split=0.3)\n",
    "\n"
   ]
  },
  {
   "cell_type": "markdown",
   "id": "f92fc3c1",
   "metadata": {
    "papermill": {
     "duration": 0.027336,
     "end_time": "2025-03-12T13:00:05.653929",
     "exception": false,
     "start_time": "2025-03-12T13:00:05.626593",
     "status": "completed"
    },
    "tags": []
   },
   "source": [
    "#### PLOTTING AND ACCURACY AND LOSS CURVES"
   ]
  },
  {
   "cell_type": "code",
   "execution_count": 19,
   "id": "a4616b7c",
   "metadata": {
    "execution": {
     "iopub.execute_input": "2025-03-12T13:00:05.709829Z",
     "iopub.status.busy": "2025-03-12T13:00:05.709438Z",
     "iopub.status.idle": "2025-03-12T13:00:05.714325Z",
     "shell.execute_reply": "2025-03-12T13:00:05.713485Z"
    },
    "papermill": {
     "duration": 0.034718,
     "end_time": "2025-03-12T13:00:05.715975",
     "exception": false,
     "start_time": "2025-03-12T13:00:05.681257",
     "status": "completed"
    },
    "tags": []
   },
   "outputs": [],
   "source": [
    "import matplotlib.pyplot as plt\n",
    "accuracy=history.history['accuracy']\n",
    "valAccuracy=history.history['val_accuracy']\n",
    "loss = history.history['loss']\n",
    "valLoss = history.history['val_loss']\n",
    "epochs_range = range(1, len(accuracy) + 1)"
   ]
  },
  {
   "cell_type": "code",
   "execution_count": 20,
   "id": "c5c7256b",
   "metadata": {
    "execution": {
     "iopub.execute_input": "2025-03-12T13:00:05.772092Z",
     "iopub.status.busy": "2025-03-12T13:00:05.771761Z",
     "iopub.status.idle": "2025-03-12T13:00:06.130729Z",
     "shell.execute_reply": "2025-03-12T13:00:06.129542Z"
    },
    "papermill": {
     "duration": 0.388893,
     "end_time": "2025-03-12T13:00:06.132355",
     "exception": false,
     "start_time": "2025-03-12T13:00:05.743462",
     "status": "completed"
    },
    "tags": []
   },
   "outputs": [
    {
     "data": {
      "text/plain": [
       "Text(0.5, 1.0, 'Training & Validation Accuracy')"
      ]
     },
     "execution_count": 20,
     "metadata": {},
     "output_type": "execute_result"
    },
    {
     "data": {
      "image/png": "[encoded data removed]",
      "text/plain": [
       "<Figure size 1200x500 with 1 Axes>"
      ]
     },
     "metadata": {},
     "output_type": "display_data"
    }
   ],
   "source": [
    "plt.figure(figsize=(12, 5))\n",
    "plt.subplot(1, 2, 1)\n",
    "plt.plot(epochs_range, accuracy, label='Training Accuracy', marker='o')\n",
    "plt.plot(epochs_range, valAccuracy, label='Validation Accuracy', marker='o')\n",
    "plt.legend(loc='lower right')\n",
    "plt.xlabel('Epochs')\n",
    "plt.ylabel('Accuracy')\n",
    "plt.title('Training & Validation Accuracy')"
   ]
  },
  {
   "cell_type": "code",
   "execution_count": 21,
   "id": "0b89e0f0",
   "metadata": {
    "execution": {
     "iopub.execute_input": "2025-03-12T13:00:06.190877Z",
     "iopub.status.busy": "2025-03-12T13:00:06.190511Z",
     "iopub.status.idle": "2025-03-12T13:00:06.453147Z",
     "shell.execute_reply": "2025-03-12T13:00:06.452139Z"
    },
    "papermill": {
     "duration": 0.293783,
     "end_time": "2025-03-12T13:00:06.455136",
     "exception": false,
     "start_time": "2025-03-12T13:00:06.161353",
     "status": "completed"
    },
    "tags": []
   },
   "outputs": [
    {
     "data": {
      "text/plain": [
       "Text(0.5, 1.0, 'Training & Validation Loss')"
      ]
     },
     "execution_count": 21,
     "metadata": {},
     "output_type": "execute_result"
    },
    {
     "data": {
      "image/png": "[encoded data removed]",
      "text/plain": [
       "<Figure size 1200x500 with 1 Axes>"
      ]
     },
     "metadata": {},
     "output_type": "display_data"
    }
   ],
   "source": [
    "plt.figure(figsize=(12, 5))\n",
    "plt.subplot(1, 2, 2)\n",
    "plt.plot(epochs_range, loss, label='Training Loss', marker='o')\n",
    "plt.plot(epochs_range, valLoss, label='Validation Loss', marker='o')\n",
    "plt.legend(loc='upper right')\n",
    "plt.xlabel('Epochs')\n",
    "plt.ylabel('Loss')\n",
    "plt.title('Training & Validation Loss')"
   ]
  },
  {
   "cell_type": "markdown",
   "id": "448b41ed",
   "metadata": {
    "papermill": {
     "duration": 0.089221,
     "end_time": "2025-03-12T13:00:06.573844",
     "exception": false,
     "start_time": "2025-03-12T13:00:06.484623",
     "status": "completed"
    },
    "tags": []
   },
   "source": [
    "##### overfitting"
   ]
  },
  {
   "cell_type": "markdown",
   "id": "5e49845d",
   "metadata": {
    "papermill": {
     "duration": 0.029089,
     "end_time": "2025-03-12T13:00:06.632884",
     "exception": false,
     "start_time": "2025-03-12T13:00:06.603795",
     "status": "completed"
    },
    "tags": []
   },
   "source": [
    "### OUTPUT VS PREDICTED OUTPUT\n"
   ]
  },
  {
   "cell_type": "code",
   "execution_count": 22,
   "id": "ad6725c0",
   "metadata": {
    "execution": {
     "iopub.execute_input": "2025-03-12T13:00:06.692009Z",
     "iopub.status.busy": "2025-03-12T13:00:06.691679Z",
     "iopub.status.idle": "2025-03-12T13:00:09.001240Z",
     "shell.execute_reply": "2025-03-12T13:00:09.000196Z"
    },
    "papermill": {
     "duration": 2.341398,
     "end_time": "2025-03-12T13:00:09.003207",
     "exception": false,
     "start_time": "2025-03-12T13:00:06.661809",
     "status": "completed"
    },
    "tags": []
   },
   "outputs": [
    {
     "name": "stdout",
     "output_type": "stream",
     "text": [
      "\u001b[1m32/32\u001b[0m \u001b[32m━━━━━━━━━━━━━━━━━━━━\u001b[0m\u001b[37m\u001b[0m \u001b[1m2s\u001b[0m 62ms/step\n"
     ]
    }
   ],
   "source": [
    "predictions = model.predict(padded_sequences)\n",
    "corrected_classes = np.argmax(predictions, axis=1)\n",
    "mapping = {0: 1, 1: 2, 2: 0}\n",
    "predictedClasses = np.array([mapping[i] for i in corrected_classes])\n"
   ]
  },
  {
   "cell_type": "code",
   "execution_count": 23,
   "id": "3854f356",
   "metadata": {
    "execution": {
     "iopub.execute_input": "2025-03-12T13:00:09.066931Z",
     "iopub.status.busy": "2025-03-12T13:00:09.066548Z",
     "iopub.status.idle": "2025-03-12T13:00:09.072102Z",
     "shell.execute_reply": "2025-03-12T13:00:09.071178Z"
    },
    "papermill": {
     "duration": 0.038875,
     "end_time": "2025-03-12T13:00:09.073671",
     "exception": false,
     "start_time": "2025-03-12T13:00:09.034796",
     "status": "completed"
    },
    "tags": []
   },
   "outputs": [
    {
     "name": "stdout",
     "output_type": "stream",
     "text": [
      "[[0.08618855 0.80169415 0.11211721]\n",
      " [0.13149479 0.71711296 0.15139222]\n",
      " [0.1555377  0.75785565 0.08660667]\n",
      " [0.15570432 0.7575086  0.0867871 ]\n",
      " [0.15565723 0.75757784 0.08676492]]\n"
     ]
    }
   ],
   "source": [
    "\n",
    "print(predictions[:5])\n"
   ]
  },
  {
   "cell_type": "code",
   "execution_count": 24,
   "id": "660720b9",
   "metadata": {
    "execution": {
     "iopub.execute_input": "2025-03-12T13:00:09.137112Z",
     "iopub.status.busy": "2025-03-12T13:00:09.136792Z",
     "iopub.status.idle": "2025-03-12T13:00:09.142799Z",
     "shell.execute_reply": "2025-03-12T13:00:09.141745Z"
    },
    "papermill": {
     "duration": 0.039661,
     "end_time": "2025-03-12T13:00:09.144469",
     "exception": false,
     "start_time": "2025-03-12T13:00:09.104808",
     "status": "completed"
    },
    "tags": []
   },
   "outputs": [
    {
     "name": "stdout",
     "output_type": "stream",
     "text": [
      "Any NaNs in predictions? False\n",
      "Any infinities in predictions? False\n"
     ]
    }
   ],
   "source": [
    "\n",
    "print(\"Any NaNs in predictions?\", np.isnan(predictions).any())\n",
    "print(\"Any infinities in predictions?\", np.isinf(predictions).any())\n"
   ]
  },
  {
   "cell_type": "code",
   "execution_count": 25,
   "id": "691210ea",
   "metadata": {
    "execution": {
     "iopub.execute_input": "2025-03-12T13:00:09.208035Z",
     "iopub.status.busy": "2025-03-12T13:00:09.207701Z",
     "iopub.status.idle": "2025-03-12T13:00:09.212790Z",
     "shell.execute_reply": "2025-03-12T13:00:09.211680Z"
    },
    "papermill": {
     "duration": 0.038457,
     "end_time": "2025-03-12T13:00:09.214455",
     "exception": false,
     "start_time": "2025-03-12T13:00:09.175998",
     "status": "completed"
    },
    "tags": []
   },
   "outputs": [],
   "source": [
    "comparisonData=pd.DataFrame({\n",
    "    \"Text\":lmtpData[\"CombinedText\"],\n",
    "    \"Actual Sentiment\":lmtpData[\"Sentiment\"].values,\n",
    "    \"Predicted Sentiment\":predictedClasses\n",
    "})\n"
   ]
  },
  {
   "cell_type": "code",
   "execution_count": 26,
   "id": "fd1f3acc",
   "metadata": {
    "execution": {
     "iopub.execute_input": "2025-03-12T13:00:09.280179Z",
     "iopub.status.busy": "2025-03-12T13:00:09.279836Z",
     "iopub.status.idle": "2025-03-12T13:00:09.284213Z",
     "shell.execute_reply": "2025-03-12T13:00:09.283272Z"
    },
    "papermill": {
     "duration": 0.039049,
     "end_time": "2025-03-12T13:00:09.286070",
     "exception": false,
     "start_time": "2025-03-12T13:00:09.247021",
     "status": "completed"
    },
    "tags": []
   },
   "outputs": [],
   "source": [
    "comparisonData = comparisonData.iloc[:1000]\n"
   ]
  },
  {
   "cell_type": "code",
   "execution_count": 27,
   "id": "b69f9759",
   "metadata": {
    "execution": {
     "iopub.execute_input": "2025-03-12T13:00:09.350293Z",
     "iopub.status.busy": "2025-03-12T13:00:09.349961Z",
     "iopub.status.idle": "2025-03-12T13:00:09.356008Z",
     "shell.execute_reply": "2025-03-12T13:00:09.355137Z"
    },
    "papermill": {
     "duration": 0.039907,
     "end_time": "2025-03-12T13:00:09.357618",
     "exception": false,
     "start_time": "2025-03-12T13:00:09.317711",
     "status": "completed"
    },
    "tags": []
   },
   "outputs": [],
   "source": [
    "comparisonData = comparisonData.copy()\n",
    "\n",
    "comparisonData[\"Positive\"] = predictions[:, 0] \n",
    "comparisonData[\"Neutral\"] = predictions[:, 1]  \n",
    "comparisonData[\"Negative\"] = predictions[:, 2]\n",
    "\n"
   ]
  },
  {
   "cell_type": "code",
   "execution_count": 28,
   "id": "7251df4c",
   "metadata": {
    "execution": {
     "iopub.execute_input": "2025-03-12T13:00:09.420891Z",
     "iopub.status.busy": "2025-03-12T13:00:09.420555Z",
     "iopub.status.idle": "2025-03-12T13:00:09.441891Z",
     "shell.execute_reply": "2025-03-12T13:00:09.440624Z"
    },
    "papermill": {
     "duration": 0.054861,
     "end_time": "2025-03-12T13:00:09.443587",
     "exception": false,
     "start_time": "2025-03-12T13:00:09.388726",
     "status": "completed"
    },
    "tags": []
   },
   "outputs": [
    {
     "name": "stdout",
     "output_type": "stream",
     "text": [
      "       Actual Sentiment  Predicted Sentiment     Positive      Neutral  \\\n",
      "count       1000.000000               1000.0  1000.000000  1000.000000   \n",
      "mean           0.935000                  2.0     0.143775     0.761711   \n",
      "std            0.465824                  0.0     0.034897     0.038073   \n",
      "min            0.000000                  2.0     0.038965     0.508329   \n",
      "25%            1.000000                  2.0     0.155404     0.757454   \n",
      "50%            1.000000                  2.0     0.155682     0.757516   \n",
      "75%            1.000000                  2.0     0.155712     0.757979   \n",
      "max            2.000000                  2.0     0.328837     0.883418   \n",
      "\n",
      "          Negative  \n",
      "count  1000.000000  \n",
      "mean      0.094514  \n",
      "std       0.017143  \n",
      "min       0.074914  \n",
      "25%       0.086731  \n",
      "50%       0.086821  \n",
      "75%       0.092785  \n",
      "max       0.193348  \n",
      "Text                    object\n",
      "Actual Sentiment         int64\n",
      "Predicted Sentiment      int64\n",
      "Positive               float32\n",
      "Neutral                float32\n",
      "Negative               float32\n",
      "dtype: object\n"
     ]
    }
   ],
   "source": [
    "print(comparisonData.describe())\n",
    "print(comparisonData.dtypes)\n"
   ]
  },
  {
   "cell_type": "code",
   "execution_count": 29,
   "id": "3bbfc7dd",
   "metadata": {
    "execution": {
     "iopub.execute_input": "2025-03-12T13:00:09.507523Z",
     "iopub.status.busy": "2025-03-12T13:00:09.507102Z",
     "iopub.status.idle": "2025-03-12T13:00:09.519523Z",
     "shell.execute_reply": "2025-03-12T13:00:09.518462Z"
    },
    "papermill": {
     "duration": 0.046093,
     "end_time": "2025-03-12T13:00:09.521029",
     "exception": false,
     "start_time": "2025-03-12T13:00:09.474936",
     "status": "completed"
    },
    "tags": []
   },
   "outputs": [
    {
     "data": {
      "text/html": [
       "<div>\n",
       "<style scoped>\n",
       "    .dataframe tbody tr th:only-of-type {\n",
       "        vertical-align: middle;\n",
       "    }\n",
       "\n",
       "    .dataframe tbody tr th {\n",
       "        vertical-align: top;\n",
       "    }\n",
       "\n",
       "    .dataframe thead th {\n",
       "        text-align: right;\n",
       "    }\n",
       "</style>\n",
       "<table border=\"1\" class=\"dataframe\">\n",
       "  <thead>\n",
       "    <tr style=\"text-align: right;\">\n",
       "      <th></th>\n",
       "      <th>Text</th>\n",
       "      <th>Actual Sentiment</th>\n",
       "      <th>Predicted Sentiment</th>\n",
       "      <th>Positive</th>\n",
       "      <th>Neutral</th>\n",
       "      <th>Negative</th>\n",
       "    </tr>\n",
       "  </thead>\n",
       "  <tbody>\n",
       "    <tr>\n",
       "      <th>413370</th>\n",
       "      <td>Love these Frijoles! We've grown to absolutely love La Preferida Mexican Homestyle Beans.  We have them every time we make fajitas at home.  I've even added them to chili.  There's just something about the combination of ingredients that creates a very flavorful dish.  And these are whole beans in a tasty sauce, not the smashed paste that all other brands seem to offer.  Alas, these La Preferida beans are no longer available in my neighborhood - and I'm not gonna eat that bean paste everyone else sells.  I was very pleased to find these available on Amazon.  Bought two cases, received in two different shipments.  First shipment was fine.  The second shipment not so fine - every can was dented.  So far so good, though.</td>\n",
       "      <td>1</td>\n",
       "      <td>2</td>\n",
       "      <td>0.086189</td>\n",
       "      <td>0.801694</td>\n",
       "      <td>0.112117</td>\n",
       "    </tr>\n",
       "    <tr>\n",
       "      <th>82751</th>\n",
       "      <td>Price was good, needs a date and where it's from \"Organic\" means that something in there was/might be organic.  This claims to be 100% organic.  USDA organic does not mean much any more.  I'm not sure what NDA is.&lt;br /&gt;&lt;br /&gt;Mine has an expiration date of 11/22/13.  It does not have a picked date. I wish it did.  Normal teas are best no more than a year from the picking date.  I have no idea how long it has been sitting around.&lt;br /&gt;&lt;br /&gt;It says it is pure leaves but there seems to be some white sticks in the mix.  And it is a mix.  Not many leaves - unlike the picture- more of a crunch.  I have to use my finest filter and some still goes through.  I don't use paper.&lt;br /&gt;&lt;br /&gt;A pound is a lot of tea.&lt;br /&gt;&lt;br /&gt;I mix it with my green tea in the am and it keeps me from getting jittery.  Tastes like Tulsi to me but... the real, fresh leaf is very fine indeed.&lt;br /&gt;&lt;br /&gt;And where is it from?  US, India? Belize?</td>\n",
       "      <td>2</td>\n",
       "      <td>2</td>\n",
       "      <td>0.131495</td>\n",
       "      <td>0.717113</td>\n",
       "      <td>0.151392</td>\n",
       "    </tr>\n",
       "    <tr>\n",
       "      <th>23588</th>\n",
       "      <td>Great Coffee I really enjoy this coffee because it's strong but not too strong.  It tastes just right and knowing that it's organic makes it all the better.  I purchase it whenever I am on my last box and I find that it's available on Amazon because they run out of it quite frequently.  Grab it when you can!</td>\n",
       "      <td>1</td>\n",
       "      <td>2</td>\n",
       "      <td>0.155538</td>\n",
       "      <td>0.757856</td>\n",
       "      <td>0.086607</td>\n",
       "    </tr>\n",
       "    <tr>\n",
       "      <th>135163</th>\n",
       "      <td>Light peach flavor with no added strange herbs.... Nice light pure peach flavor.&lt;br /&gt;&lt;br /&gt;Does not 'feel' caffeinated, even tho it does have caffeine...light in all regards.&lt;br /&gt;&lt;br /&gt;Enjoy it very much, great value and a plus for me...none of those strange herbs that are often in flavored teas that make them all taste the same.&lt;br /&gt;&lt;br /&gt;A winner!</td>\n",
       "      <td>1</td>\n",
       "      <td>2</td>\n",
       "      <td>0.155704</td>\n",
       "      <td>0.757509</td>\n",
       "      <td>0.086787</td>\n",
       "    </tr>\n",
       "    <tr>\n",
       "      <th>120708</th>\n",
       "      <td>Grove Square Cappuccino I quickly became a fan of this product after trying lots of K-cups.  I signed up to get a shipment each month from&lt;br /&gt;Amazon  and have now increased my order as I am drinking it more than once a day.  Great product!</td>\n",
       "      <td>1</td>\n",
       "      <td>2</td>\n",
       "      <td>0.155657</td>\n",
       "      <td>0.757578</td>\n",
       "      <td>0.086765</td>\n",
       "    </tr>\n",
       "    <tr>\n",
       "      <th>245046</th>\n",
       "      <td>turkish Delight Well I can say that you definitley get your moneys worth. I recieved 4 nice size boxes of candy more than I was expecting. I will be ordering more products in the future. The pastachio turkish delight was very good however the rose and lemon flavors were just a little to sweet for my taste. But over all I was satified with this product.</td>\n",
       "      <td>1</td>\n",
       "      <td>2</td>\n",
       "      <td>0.155535</td>\n",
       "      <td>0.757948</td>\n",
       "      <td>0.086518</td>\n",
       "    </tr>\n",
       "    <tr>\n",
       "      <th>145311</th>\n",
       "      <td>Really good I really love this tea.  I crave this tea.  All of the tea's that I have tried now from ESP have been really great.  I used to shop and only get my tea from Republic of teas, but their tea is really un-flavorful after getting ESP's tea.</td>\n",
       "      <td>1</td>\n",
       "      <td>2</td>\n",
       "      <td>0.155649</td>\n",
       "      <td>0.757598</td>\n",
       "      <td>0.086754</td>\n",
       "    </tr>\n",
       "    <tr>\n",
       "      <th>104718</th>\n",
       "      <td>it's peanut butter all right i would think one of the larger companies that specializes in a variety of nuts would have exceptionally good peanut butter.  the problem i have is one that other reviewers address and that is added sugar, oil and salt.  personally i don't believe peanut butter should have sugar and/or salt in it at all.  with all the variety of peanut butters out there, certainly some taste better than others, but basically peanut butter is peanut butter.  i'll stick to the brands that just have peanuts for ingredients.  but everyone's taste is different and by these reviews, many like this brand.</td>\n",
       "      <td>2</td>\n",
       "      <td>2</td>\n",
       "      <td>0.124019</td>\n",
       "      <td>0.722662</td>\n",
       "      <td>0.153318</td>\n",
       "    </tr>\n",
       "    <tr>\n",
       "      <th>378219</th>\n",
       "      <td>weak to my taste The good news is this coffee doesn't have the taste I think of as \"conference coffee\".  The bad news to my taste is it doesn't have flavor at all.  To me it was bland and weak.&lt;br /&gt;&lt;br /&gt;For reference purposes my in store drink is a Starbucks Americano.&lt;br /&gt;&lt;br /&gt;My favorite k-cups are:&lt;br /&gt;Starbucks French Roast&lt;br /&gt;Starbucks Caffe Verona&lt;br /&gt;Starbucks Pike Place Roast&lt;br /&gt;Green Mountain Xtra Bold Sumatran Reserve&lt;br /&gt;Green Mountain Double Black Diamond&lt;br /&gt;Green Mountain Revv&lt;br /&gt;Green Mountain Dark Magic&lt;br /&gt;&lt;br /&gt;Other k-cups I've tried:  Green Mountain Dark Magic Decaf, Emeril Jazzed up Decaf, Starbucks Caffe Verona, Coffee People Black Tiger,  Starbucks House Blend, Starbucks Breakfast Blend, Starbucks Sumatra, Wolfgang Puck French Roast, Green Mountain Lake and Lodge, Green Mountain French Roast, Caribou Mahogony, Wolfgang Puck Sumatra Kopi Raya, Emeril Big Easy Bold</td>\n",
       "      <td>2</td>\n",
       "      <td>2</td>\n",
       "      <td>0.133120</td>\n",
       "      <td>0.737859</td>\n",
       "      <td>0.129021</td>\n",
       "    </tr>\n",
       "    <tr>\n",
       "      <th>150058</th>\n",
       "      <td>Not the best... This does not live up to the quality of Planters products. I thought this bar would be nutty and fruity like the Nut-rition mixes. However, I was disappointed... very few almonds, peanuts, and cranberries per bar. Texture is like sawdust. Not much flavor... I think I will be sticking with Nature's Valley Chewy Trail Mix bars. Saving grace... may be good for someone who likes chewy bars that taste like they have very little sugar, but actually has 9g of sugar which is a lot since one bar is 35g. Each bar is 160 calories compared to same size Nature's Valley Chewy Trail Mix bar that's 140 calories (but has 13g of sugar).</td>\n",
       "      <td>0</td>\n",
       "      <td>2</td>\n",
       "      <td>0.204320</td>\n",
       "      <td>0.618410</td>\n",
       "      <td>0.177270</td>\n",
       "    </tr>\n",
       "  </tbody>\n",
       "</table>\n",
       "</div>"
      ],
      "text/plain": [
       "                                                                                                                                                                                                                                                                                                                                                                                                                                                                                                                                                                                                                                                                                                                                                                                                                                                                                                                                                                 Text  \\\n",
       "413370                                                                                                                                                                                                        Love these Frijoles! We've grown to absolutely love La Preferida Mexican Homestyle Beans.  We have them every time we make fajitas at home.  I've even added them to chili.  There's just something about the combination of ingredients that creates a very flavorful dish.  And these are whole beans in a tasty sauce, not the smashed paste that all other brands seem to offer.  Alas, these La Preferida beans are no longer available in my neighborhood - and I'm not gonna eat that bean paste everyone else sells.  I was very pleased to find these available on Amazon.  Bought two cases, received in two different shipments.  First shipment was fine.  The second shipment not so fine - every can was dented.  So far so good, though.   \n",
       "82751   Price was good, needs a date and where it's from \"Organic\" means that something in there was/might be organic.  This claims to be 100% organic.  USDA organic does not mean much any more.  I'm not sure what NDA is.<br /><br />Mine has an expiration date of 11/22/13.  It does not have a picked date. I wish it did.  Normal teas are best no more than a year from the picking date.  I have no idea how long it has been sitting around.<br /><br />It says it is pure leaves but there seems to be some white sticks in the mix.  And it is a mix.  Not many leaves - unlike the picture- more of a crunch.  I have to use my finest filter and some still goes through.  I don't use paper.<br /><br />A pound is a lot of tea.<br /><br />I mix it with my green tea in the am and it keeps me from getting jittery.  Tastes like Tulsi to me but... the real, fresh leaf is very fine indeed.<br /><br />And where is it from?  US, India? Belize?   \n",
       "23588                                                                                                                                                                                                                                                                                                                                                                                                                                                                                                                                                                                                                                           Great Coffee I really enjoy this coffee because it's strong but not too strong.  It tastes just right and knowing that it's organic makes it all the better.  I purchase it whenever I am on my last box and I find that it's available on Amazon because they run out of it quite frequently.  Grab it when you can!   \n",
       "135163                                                                                                                                                                                                                                                                                                                                                                                                                                                                                                                                                                                             Light peach flavor with no added strange herbs.... Nice light pure peach flavor.<br /><br />Does not 'feel' caffeinated, even tho it does have caffeine...light in all regards.<br /><br />Enjoy it very much, great value and a plus for me...none of those strange herbs that are often in flavored teas that make them all taste the same.<br /><br />A winner!   \n",
       "120708                                                                                                                                                                                                                                                                                                                                                                                                                                                                                                                                                                                                                                                                                                              Grove Square Cappuccino I quickly became a fan of this product after trying lots of K-cups.  I signed up to get a shipment each month from<br />Amazon  and have now increased my order as I am drinking it more than once a day.  Great product!   \n",
       "245046                                                                                                                                                                                                                                                                                                                                                                                                                                                                                                                                                                                             turkish Delight Well I can say that you definitley get your moneys worth. I recieved 4 nice size boxes of candy more than I was expecting. I will be ordering more products in the future. The pastachio turkish delight was very good however the rose and lemon flavors were just a little to sweet for my taste. But over all I was satified with this product.   \n",
       "145311                                                                                                                                                                                                                                                                                                                                                                                                                                                                                                                                                                                                                                                                                                       Really good I really love this tea.  I crave this tea.  All of the tea's that I have tried now from ESP have been really great.  I used to shop and only get my tea from Republic of teas, but their tea is really un-flavorful after getting ESP's tea.   \n",
       "104718                                                                                                                                                                                                                                                                                                                      it's peanut butter all right i would think one of the larger companies that specializes in a variety of nuts would have exceptionally good peanut butter.  the problem i have is one that other reviewers address and that is added sugar, oil and salt.  personally i don't believe peanut butter should have sugar and/or salt in it at all.  with all the variety of peanut butters out there, certainly some taste better than others, but basically peanut butter is peanut butter.  i'll stick to the brands that just have peanuts for ingredients.  but everyone's taste is different and by these reviews, many like this brand.   \n",
       "378219              weak to my taste The good news is this coffee doesn't have the taste I think of as \"conference coffee\".  The bad news to my taste is it doesn't have flavor at all.  To me it was bland and weak.<br /><br />For reference purposes my in store drink is a Starbucks Americano.<br /><br />My favorite k-cups are:<br />Starbucks French Roast<br />Starbucks Caffe Verona<br />Starbucks Pike Place Roast<br />Green Mountain Xtra Bold Sumatran Reserve<br />Green Mountain Double Black Diamond<br />Green Mountain Revv<br />Green Mountain Dark Magic<br /><br />Other k-cups I've tried:  Green Mountain Dark Magic Decaf, Emeril Jazzed up Decaf, Starbucks Caffe Verona, Coffee People Black Tiger,  Starbucks House Blend, Starbucks Breakfast Blend, Starbucks Sumatra, Wolfgang Puck French Roast, Green Mountain Lake and Lodge, Green Mountain French Roast, Caribou Mahogony, Wolfgang Puck Sumatra Kopi Raya, Emeril Big Easy Bold   \n",
       "150058                                                                                                                                                                                                                                                                                             Not the best... This does not live up to the quality of Planters products. I thought this bar would be nutty and fruity like the Nut-rition mixes. However, I was disappointed... very few almonds, peanuts, and cranberries per bar. Texture is like sawdust. Not much flavor... I think I will be sticking with Nature's Valley Chewy Trail Mix bars. Saving grace... may be good for someone who likes chewy bars that taste like they have very little sugar, but actually has 9g of sugar which is a lot since one bar is 35g. Each bar is 160 calories compared to same size Nature's Valley Chewy Trail Mix bar that's 140 calories (but has 13g of sugar).   \n",
       "\n",
       "        Actual Sentiment  Predicted Sentiment  Positive   Neutral  Negative  \n",
       "413370                 1                    2  0.086189  0.801694  0.112117  \n",
       "82751                  2                    2  0.131495  0.717113  0.151392  \n",
       "23588                  1                    2  0.155538  0.757856  0.086607  \n",
       "135163                 1                    2  0.155704  0.757509  0.086787  \n",
       "120708                 1                    2  0.155657  0.757578  0.086765  \n",
       "245046                 1                    2  0.155535  0.757948  0.086518  \n",
       "145311                 1                    2  0.155649  0.757598  0.086754  \n",
       "104718                 2                    2  0.124019  0.722662  0.153318  \n",
       "378219                 2                    2  0.133120  0.737859  0.129021  \n",
       "150058                 0                    2  0.204320  0.618410  0.177270  "
      ]
     },
     "execution_count": 29,
     "metadata": {},
     "output_type": "execute_result"
    }
   ],
   "source": [
    "comparisonData.head(10)"
   ]
  },
  {
   "cell_type": "code",
   "execution_count": 30,
   "id": "04f60f3a",
   "metadata": {
    "execution": {
     "iopub.execute_input": "2025-03-12T13:00:09.586144Z",
     "iopub.status.busy": "2025-03-12T13:00:09.585818Z",
     "iopub.status.idle": "2025-03-12T13:00:10.243429Z",
     "shell.execute_reply": "2025-03-12T13:00:10.242235Z"
    },
    "papermill": {
     "duration": 0.69241,
     "end_time": "2025-03-12T13:00:10.245343",
     "exception": false,
     "start_time": "2025-03-12T13:00:09.552933",
     "status": "completed"
    },
    "tags": []
   },
   "outputs": [],
   "source": [
    "comparisonData.to_excel(\"PredictedSample1.xlsx\", index=False)\n"
   ]
  },
  {
   "cell_type": "markdown",
   "id": "cf1c89f6",
   "metadata": {
    "papermill": {
     "duration": 0.032353,
     "end_time": "2025-03-12T13:00:10.310601",
     "exception": false,
     "start_time": "2025-03-12T13:00:10.278248",
     "status": "completed"
    },
    "tags": []
   },
   "source": [
    "## TRAINING USING NEW SAMPLE DATASET"
   ]
  },
  {
   "cell_type": "code",
   "execution_count": 31,
   "id": "37350e4e",
   "metadata": {
    "execution": {
     "iopub.execute_input": "2025-03-12T13:00:10.377687Z",
     "iopub.status.busy": "2025-03-12T13:00:10.377032Z",
     "iopub.status.idle": "2025-03-12T13:00:10.508153Z",
     "shell.execute_reply": "2025-03-12T13:00:10.507069Z"
    },
    "papermill": {
     "duration": 0.166699,
     "end_time": "2025-03-12T13:00:10.509901",
     "exception": false,
     "start_time": "2025-03-12T13:00:10.343202",
     "status": "completed"
    },
    "tags": []
   },
   "outputs": [
    {
     "data": {
      "text/html": [
       "<div>\n",
       "<style scoped>\n",
       "    .dataframe tbody tr th:only-of-type {\n",
       "        vertical-align: middle;\n",
       "    }\n",
       "\n",
       "    .dataframe tbody tr th {\n",
       "        vertical-align: top;\n",
       "    }\n",
       "\n",
       "    .dataframe thead th {\n",
       "        text-align: right;\n",
       "    }\n",
       "</style>\n",
       "<table border=\"1\" class=\"dataframe\">\n",
       "  <thead>\n",
       "    <tr style=\"text-align: right;\">\n",
       "      <th></th>\n",
       "      <th>Id</th>\n",
       "      <th>ProductId</th>\n",
       "      <th>UserId</th>\n",
       "      <th>ProfileName</th>\n",
       "      <th>HelpfulnessNumerator</th>\n",
       "      <th>HelpfulnessDenominator</th>\n",
       "      <th>Score</th>\n",
       "      <th>Time</th>\n",
       "      <th>Summary</th>\n",
       "      <th>Text</th>\n",
       "    </tr>\n",
       "  </thead>\n",
       "  <tbody>\n",
       "    <tr>\n",
       "      <th>150214</th>\n",
       "      <td>150215</td>\n",
       "      <td>B001M0A6GK</td>\n",
       "      <td>A179QSGODNN1LF</td>\n",
       "      <td>Katharina</td>\n",
       "      <td>2</td>\n",
       "      <td>2</td>\n",
       "      <td>5</td>\n",
       "      <td>1252540800</td>\n",
       "      <td>Best - very best taste of REAL Italian pasta</td>\n",
       "      <td>Never ever again I will purchase any other pasta. I did not imagine that there can be so much different in taste, but it is. De cecco pasta, especially the Farfalle are the BEST. Try them and love them for the rest of your life.</td>\n",
       "    </tr>\n",
       "    <tr>\n",
       "      <th>541148</th>\n",
       "      <td>541149</td>\n",
       "      <td>B000FMTJJQ</td>\n",
       "      <td>A13CG700UCUZPN</td>\n",
       "      <td>M. C. Thayer \"happy mom\"</td>\n",
       "      <td>1</td>\n",
       "      <td>4</td>\n",
       "      <td>3</td>\n",
       "      <td>1168387200</td>\n",
       "      <td>Agave, natural sweetner is just okay</td>\n",
       "      <td>I can attest that the product gives an initial taste of being really sweet, but it seems to have a lingering aftertaste to it. It looks like regular honey but is not as dense. If I had nothing else to use, I would be okay with it, but since I have a choice I tend to still use regular sugar sometimes. I have never enjoyed using sugar substitutes.</td>\n",
       "    </tr>\n",
       "    <tr>\n",
       "      <th>480369</th>\n",
       "      <td>480370</td>\n",
       "      <td>B000DZDJ0K</td>\n",
       "      <td>A1N5I4EWSVH0JT</td>\n",
       "      <td>Tracy</td>\n",
       "      <td>0</td>\n",
       "      <td>0</td>\n",
       "      <td>3</td>\n",
       "      <td>1287532800</td>\n",
       "      <td>It's nice when you in a pinch, but nothing amazing about it</td>\n",
       "      <td>I purchased this for times when I don't have my mixes on hand (I buy flours from asian mkt) and was very dissapointed in the bread that it made.  Tasted horrible, fell apart.  The pancakes and waffles have been a hit.  Cookie recipie was not all that wonderful either.  I like it for when I am in a pinch or if hubby has to cook but otherwise sticking to my own mixes.</td>\n",
       "    </tr>\n",
       "    <tr>\n",
       "      <th>363031</th>\n",
       "      <td>363032</td>\n",
       "      <td>B0049WV8S8</td>\n",
       "      <td>AH65ZKJG9RHP6</td>\n",
       "      <td>P. J. Brown \"pb\"</td>\n",
       "      <td>2</td>\n",
       "      <td>3</td>\n",
       "      <td>3</td>\n",
       "      <td>1316044800</td>\n",
       "      <td>this little piggy was too small...</td>\n",
       "      <td>...for at least the type of bacon i get. the tray does not fit the bacon strips flat. they have to bunch up in order to fit.</td>\n",
       "    </tr>\n",
       "    <tr>\n",
       "      <th>555897</th>\n",
       "      <td>555898</td>\n",
       "      <td>B002SF035W</td>\n",
       "      <td>A1W31DCPASN65V</td>\n",
       "      <td>CB \"CB\"</td>\n",
       "      <td>2</td>\n",
       "      <td>2</td>\n",
       "      <td>5</td>\n",
       "      <td>1258934400</td>\n",
       "      <td>Excellent Tea</td>\n",
       "      <td>I really enjoyed this rich and flavorful tea.  It's so hard to get a tea with this kind of blend in the United States. Lipton and Tetly seem so bland in comparison. Highly recommended.</td>\n",
       "    </tr>\n",
       "  </tbody>\n",
       "</table>\n",
       "</div>"
      ],
      "text/plain": [
       "            Id   ProductId          UserId               ProfileName  \\\n",
       "150214  150215  B001M0A6GK  A179QSGODNN1LF                 Katharina   \n",
       "541148  541149  B000FMTJJQ  A13CG700UCUZPN  M. C. Thayer \"happy mom\"   \n",
       "480369  480370  B000DZDJ0K  A1N5I4EWSVH0JT                     Tracy   \n",
       "363031  363032  B0049WV8S8   AH65ZKJG9RHP6          P. J. Brown \"pb\"   \n",
       "555897  555898  B002SF035W  A1W31DCPASN65V                   CB \"CB\"   \n",
       "\n",
       "        HelpfulnessNumerator  HelpfulnessDenominator  Score        Time  \\\n",
       "150214                     2                       2      5  1252540800   \n",
       "541148                     1                       4      3  1168387200   \n",
       "480369                     0                       0      3  1287532800   \n",
       "363031                     2                       3      3  1316044800   \n",
       "555897                     2                       2      5  1258934400   \n",
       "\n",
       "                                                            Summary  \\\n",
       "150214                 Best - very best taste of REAL Italian pasta   \n",
       "541148                         Agave, natural sweetner is just okay   \n",
       "480369  It's nice when you in a pinch, but nothing amazing about it   \n",
       "363031                           this little piggy was too small...   \n",
       "555897                                                Excellent Tea   \n",
       "\n",
       "                                                                                                                                                                                                                                                                                                                                                                                    Text  \n",
       "150214                                                                                                                                              Never ever again I will purchase any other pasta. I did not imagine that there can be so much different in taste, but it is. De cecco pasta, especially the Farfalle are the BEST. Try them and love them for the rest of your life.  \n",
       "541148                       I can attest that the product gives an initial taste of being really sweet, but it seems to have a lingering aftertaste to it. It looks like regular honey but is not as dense. If I had nothing else to use, I would be okay with it, but since I have a choice I tend to still use regular sugar sometimes. I have never enjoyed using sugar substitutes.  \n",
       "480369  I purchased this for times when I don't have my mixes on hand (I buy flours from asian mkt) and was very dissapointed in the bread that it made.  Tasted horrible, fell apart.  The pancakes and waffles have been a hit.  Cookie recipie was not all that wonderful either.  I like it for when I am in a pinch or if hubby has to cook but otherwise sticking to my own mixes.  \n",
       "363031                                                                                                                                                                                                                                                      ...for at least the type of bacon i get. the tray does not fit the bacon strips flat. they have to bunch up in order to fit.  \n",
       "555897                                                                                                                                                                                          I really enjoyed this rich and flavorful tea.  It's so hard to get a tea with this kind of blend in the United States. Lipton and Tetly seem so bland in comparison. Highly recommended.  "
      ]
     },
     "execution_count": 31,
     "metadata": {},
     "output_type": "execute_result"
    }
   ],
   "source": [
    "droppedData=dataset.drop(lmtpData.index)\n",
    "dataset2=droppedData.sample(1000,random_state=43)\n",
    "dataset2.head()"
   ]
  },
  {
   "cell_type": "code",
   "execution_count": 32,
   "id": "6bbc33b7",
   "metadata": {
    "execution": {
     "iopub.execute_input": "2025-03-12T13:00:10.577250Z",
     "iopub.status.busy": "2025-03-12T13:00:10.576876Z",
     "iopub.status.idle": "2025-03-12T13:00:10.587119Z",
     "shell.execute_reply": "2025-03-12T13:00:10.586143Z"
    },
    "papermill": {
     "duration": 0.045812,
     "end_time": "2025-03-12T13:00:10.588753",
     "exception": false,
     "start_time": "2025-03-12T13:00:10.542941",
     "status": "completed"
    },
    "tags": []
   },
   "outputs": [
    {
     "data": {
      "text/html": [
       "<div>\n",
       "<style scoped>\n",
       "    .dataframe tbody tr th:only-of-type {\n",
       "        vertical-align: middle;\n",
       "    }\n",
       "\n",
       "    .dataframe tbody tr th {\n",
       "        vertical-align: top;\n",
       "    }\n",
       "\n",
       "    .dataframe thead th {\n",
       "        text-align: right;\n",
       "    }\n",
       "</style>\n",
       "<table border=\"1\" class=\"dataframe\">\n",
       "  <thead>\n",
       "    <tr style=\"text-align: right;\">\n",
       "      <th></th>\n",
       "      <th>Score</th>\n",
       "      <th>Summary</th>\n",
       "      <th>Text</th>\n",
       "    </tr>\n",
       "  </thead>\n",
       "  <tbody>\n",
       "    <tr>\n",
       "      <th>150214</th>\n",
       "      <td>5</td>\n",
       "      <td>Best - very best taste of REAL Italian pasta</td>\n",
       "      <td>Never ever again I will purchase any other pasta. I did not imagine that there can be so much different in taste, but it is. De cecco pasta, especially the Farfalle are the BEST. Try them and love them for the rest of your life.</td>\n",
       "    </tr>\n",
       "    <tr>\n",
       "      <th>541148</th>\n",
       "      <td>3</td>\n",
       "      <td>Agave, natural sweetner is just okay</td>\n",
       "      <td>I can attest that the product gives an initial taste of being really sweet, but it seems to have a lingering aftertaste to it. It looks like regular honey but is not as dense. If I had nothing else to use, I would be okay with it, but since I have a choice I tend to still use regular sugar sometimes. I have never enjoyed using sugar substitutes.</td>\n",
       "    </tr>\n",
       "    <tr>\n",
       "      <th>480369</th>\n",
       "      <td>3</td>\n",
       "      <td>It's nice when you in a pinch, but nothing amazing about it</td>\n",
       "      <td>I purchased this for times when I don't have my mixes on hand (I buy flours from asian mkt) and was very dissapointed in the bread that it made.  Tasted horrible, fell apart.  The pancakes and waffles have been a hit.  Cookie recipie was not all that wonderful either.  I like it for when I am in a pinch or if hubby has to cook but otherwise sticking to my own mixes.</td>\n",
       "    </tr>\n",
       "    <tr>\n",
       "      <th>363031</th>\n",
       "      <td>3</td>\n",
       "      <td>this little piggy was too small...</td>\n",
       "      <td>...for at least the type of bacon i get. the tray does not fit the bacon strips flat. they have to bunch up in order to fit.</td>\n",
       "    </tr>\n",
       "    <tr>\n",
       "      <th>555897</th>\n",
       "      <td>5</td>\n",
       "      <td>Excellent Tea</td>\n",
       "      <td>I really enjoyed this rich and flavorful tea.  It's so hard to get a tea with this kind of blend in the United States. Lipton and Tetly seem so bland in comparison. Highly recommended.</td>\n",
       "    </tr>\n",
       "  </tbody>\n",
       "</table>\n",
       "</div>"
      ],
      "text/plain": [
       "        Score                                                      Summary  \\\n",
       "150214      5                 Best - very best taste of REAL Italian pasta   \n",
       "541148      3                         Agave, natural sweetner is just okay   \n",
       "480369      3  It's nice when you in a pinch, but nothing amazing about it   \n",
       "363031      3                           this little piggy was too small...   \n",
       "555897      5                                                Excellent Tea   \n",
       "\n",
       "                                                                                                                                                                                                                                                                                                                                                                                    Text  \n",
       "150214                                                                                                                                              Never ever again I will purchase any other pasta. I did not imagine that there can be so much different in taste, but it is. De cecco pasta, especially the Farfalle are the BEST. Try them and love them for the rest of your life.  \n",
       "541148                       I can attest that the product gives an initial taste of being really sweet, but it seems to have a lingering aftertaste to it. It looks like regular honey but is not as dense. If I had nothing else to use, I would be okay with it, but since I have a choice I tend to still use regular sugar sometimes. I have never enjoyed using sugar substitutes.  \n",
       "480369  I purchased this for times when I don't have my mixes on hand (I buy flours from asian mkt) and was very dissapointed in the bread that it made.  Tasted horrible, fell apart.  The pancakes and waffles have been a hit.  Cookie recipie was not all that wonderful either.  I like it for when I am in a pinch or if hubby has to cook but otherwise sticking to my own mixes.  \n",
       "363031                                                                                                                                                                                                                                                      ...for at least the type of bacon i get. the tray does not fit the bacon strips flat. they have to bunch up in order to fit.  \n",
       "555897                                                                                                                                                                                          I really enjoyed this rich and flavorful tea.  It's so hard to get a tea with this kind of blend in the United States. Lipton and Tetly seem so bland in comparison. Highly recommended.  "
      ]
     },
     "execution_count": 32,
     "metadata": {},
     "output_type": "execute_result"
    }
   ],
   "source": [
    "lmtpData2=dataset2[['Score','Summary','Text']]\n",
    "lmtpData2.head()"
   ]
  },
  {
   "cell_type": "code",
   "execution_count": 33,
   "id": "34709ac1",
   "metadata": {
    "execution": {
     "iopub.execute_input": "2025-03-12T13:00:10.657196Z",
     "iopub.status.busy": "2025-03-12T13:00:10.656807Z",
     "iopub.status.idle": "2025-03-12T13:00:10.667034Z",
     "shell.execute_reply": "2025-03-12T13:00:10.665799Z"
    },
    "papermill": {
     "duration": 0.046825,
     "end_time": "2025-03-12T13:00:10.669115",
     "exception": false,
     "start_time": "2025-03-12T13:00:10.622290",
     "status": "completed"
    },
    "tags": []
   },
   "outputs": [],
   "source": [
    "lmtpData2 = lmtpData2.copy()\n",
    "lmtpData2['Summary'] = lmtpData2['Summary'].fillna(\"\")\n",
    "lmtpData2['CombinedText'] = lmtpData2['Summary'] + \" \" + lmtpData2['Text']\n"
   ]
  },
  {
   "cell_type": "code",
   "execution_count": 34,
   "id": "66793585",
   "metadata": {
    "execution": {
     "iopub.execute_input": "2025-03-12T13:00:10.735115Z",
     "iopub.status.busy": "2025-03-12T13:00:10.734748Z",
     "iopub.status.idle": "2025-03-12T13:00:10.746791Z",
     "shell.execute_reply": "2025-03-12T13:00:10.745623Z"
    },
    "papermill": {
     "duration": 0.046625,
     "end_time": "2025-03-12T13:00:10.748243",
     "exception": false,
     "start_time": "2025-03-12T13:00:10.701618",
     "status": "completed"
    },
    "tags": []
   },
   "outputs": [
    {
     "name": "stdout",
     "output_type": "stream",
     "text": [
      "<class 'pandas.core.frame.DataFrame'>\n",
      "Index: 1000 entries, 150214 to 29002\n",
      "Data columns (total 4 columns):\n",
      " #   Column        Non-Null Count  Dtype \n",
      "---  ------        --------------  ----- \n",
      " 0   Score         1000 non-null   int64 \n",
      " 1   Summary       1000 non-null   object\n",
      " 2   Text          1000 non-null   object\n",
      " 3   CombinedText  1000 non-null   object\n",
      "dtypes: int64(1), object(3)\n",
      "memory usage: 39.1+ KB\n"
     ]
    }
   ],
   "source": [
    "lmtpData2.info()"
   ]
  },
  {
   "cell_type": "code",
   "execution_count": 35,
   "id": "95b4b2e9",
   "metadata": {
    "execution": {
     "iopub.execute_input": "2025-03-12T13:00:10.814938Z",
     "iopub.status.busy": "2025-03-12T13:00:10.814585Z",
     "iopub.status.idle": "2025-03-12T13:00:10.826354Z",
     "shell.execute_reply": "2025-03-12T13:00:10.825212Z"
    },
    "papermill": {
     "duration": 0.046867,
     "end_time": "2025-03-12T13:00:10.828050",
     "exception": false,
     "start_time": "2025-03-12T13:00:10.781183",
     "status": "completed"
    },
    "tags": []
   },
   "outputs": [
    {
     "data": {
      "text/html": [
       "<div>\n",
       "<style scoped>\n",
       "    .dataframe tbody tr th:only-of-type {\n",
       "        vertical-align: middle;\n",
       "    }\n",
       "\n",
       "    .dataframe tbody tr th {\n",
       "        vertical-align: top;\n",
       "    }\n",
       "\n",
       "    .dataframe thead th {\n",
       "        text-align: right;\n",
       "    }\n",
       "</style>\n",
       "<table border=\"1\" class=\"dataframe\">\n",
       "  <thead>\n",
       "    <tr style=\"text-align: right;\">\n",
       "      <th></th>\n",
       "      <th>Score</th>\n",
       "      <th>Summary</th>\n",
       "      <th>Text</th>\n",
       "      <th>CombinedText</th>\n",
       "      <th>Sentiment</th>\n",
       "    </tr>\n",
       "  </thead>\n",
       "  <tbody>\n",
       "    <tr>\n",
       "      <th>150214</th>\n",
       "      <td>5</td>\n",
       "      <td>Best - very best taste of REAL Italian pasta</td>\n",
       "      <td>Never ever again I will purchase any other pasta. I did not imagine that there can be so much different in taste, but it is. De cecco pasta, especially the Farfalle are the BEST. Try them and love them for the rest of your life.</td>\n",
       "      <td>Best - very best taste of REAL Italian pasta Never ever again I will purchase any other pasta. I did not imagine that there can be so much different in taste, but it is. De cecco pasta, especially the Farfalle are the BEST. Try them and love them for the rest of your life.</td>\n",
       "      <td>1</td>\n",
       "    </tr>\n",
       "    <tr>\n",
       "      <th>541148</th>\n",
       "      <td>3</td>\n",
       "      <td>Agave, natural sweetner is just okay</td>\n",
       "      <td>I can attest that the product gives an initial taste of being really sweet, but it seems to have a lingering aftertaste to it. It looks like regular honey but is not as dense. If I had nothing else to use, I would be okay with it, but since I have a choice I tend to still use regular sugar sometimes. I have never enjoyed using sugar substitutes.</td>\n",
       "      <td>Agave, natural sweetner is just okay I can attest that the product gives an initial taste of being really sweet, but it seems to have a lingering aftertaste to it. It looks like regular honey but is not as dense. If I had nothing else to use, I would be okay with it, but since I have a choice I tend to still use regular sugar sometimes. I have never enjoyed using sugar substitutes.</td>\n",
       "      <td>2</td>\n",
       "    </tr>\n",
       "    <tr>\n",
       "      <th>480369</th>\n",
       "      <td>3</td>\n",
       "      <td>It's nice when you in a pinch, but nothing amazing about it</td>\n",
       "      <td>I purchased this for times when I don't have my mixes on hand (I buy flours from asian mkt) and was very dissapointed in the bread that it made.  Tasted horrible, fell apart.  The pancakes and waffles have been a hit.  Cookie recipie was not all that wonderful either.  I like it for when I am in a pinch or if hubby has to cook but otherwise sticking to my own mixes.</td>\n",
       "      <td>It's nice when you in a pinch, but nothing amazing about it I purchased this for times when I don't have my mixes on hand (I buy flours from asian mkt) and was very dissapointed in the bread that it made.  Tasted horrible, fell apart.  The pancakes and waffles have been a hit.  Cookie recipie was not all that wonderful either.  I like it for when I am in a pinch or if hubby has to cook but otherwise sticking to my own mixes.</td>\n",
       "      <td>2</td>\n",
       "    </tr>\n",
       "    <tr>\n",
       "      <th>363031</th>\n",
       "      <td>3</td>\n",
       "      <td>this little piggy was too small...</td>\n",
       "      <td>...for at least the type of bacon i get. the tray does not fit the bacon strips flat. they have to bunch up in order to fit.</td>\n",
       "      <td>this little piggy was too small... ...for at least the type of bacon i get. the tray does not fit the bacon strips flat. they have to bunch up in order to fit.</td>\n",
       "      <td>2</td>\n",
       "    </tr>\n",
       "    <tr>\n",
       "      <th>555897</th>\n",
       "      <td>5</td>\n",
       "      <td>Excellent Tea</td>\n",
       "      <td>I really enjoyed this rich and flavorful tea.  It's so hard to get a tea with this kind of blend in the United States. Lipton and Tetly seem so bland in comparison. Highly recommended.</td>\n",
       "      <td>Excellent Tea I really enjoyed this rich and flavorful tea.  It's so hard to get a tea with this kind of blend in the United States. Lipton and Tetly seem so bland in comparison. Highly recommended.</td>\n",
       "      <td>1</td>\n",
       "    </tr>\n",
       "  </tbody>\n",
       "</table>\n",
       "</div>"
      ],
      "text/plain": [
       "        Score                                                      Summary  \\\n",
       "150214      5                 Best - very best taste of REAL Italian pasta   \n",
       "541148      3                         Agave, natural sweetner is just okay   \n",
       "480369      3  It's nice when you in a pinch, but nothing amazing about it   \n",
       "363031      3                           this little piggy was too small...   \n",
       "555897      5                                                Excellent Tea   \n",
       "\n",
       "                                                                                                                                                                                                                                                                                                                                                                                    Text  \\\n",
       "150214                                                                                                                                              Never ever again I will purchase any other pasta. I did not imagine that there can be so much different in taste, but it is. De cecco pasta, especially the Farfalle are the BEST. Try them and love them for the rest of your life.   \n",
       "541148                       I can attest that the product gives an initial taste of being really sweet, but it seems to have a lingering aftertaste to it. It looks like regular honey but is not as dense. If I had nothing else to use, I would be okay with it, but since I have a choice I tend to still use regular sugar sometimes. I have never enjoyed using sugar substitutes.   \n",
       "480369  I purchased this for times when I don't have my mixes on hand (I buy flours from asian mkt) and was very dissapointed in the bread that it made.  Tasted horrible, fell apart.  The pancakes and waffles have been a hit.  Cookie recipie was not all that wonderful either.  I like it for when I am in a pinch or if hubby has to cook but otherwise sticking to my own mixes.   \n",
       "363031                                                                                                                                                                                                                                                      ...for at least the type of bacon i get. the tray does not fit the bacon strips flat. they have to bunch up in order to fit.   \n",
       "555897                                                                                                                                                                                          I really enjoyed this rich and flavorful tea.  It's so hard to get a tea with this kind of blend in the United States. Lipton and Tetly seem so bland in comparison. Highly recommended.   \n",
       "\n",
       "                                                                                                                                                                                                                                                                                                                                                                                                                                        CombinedText  \\\n",
       "150214                                                                                                                                                             Best - very best taste of REAL Italian pasta Never ever again I will purchase any other pasta. I did not imagine that there can be so much different in taste, but it is. De cecco pasta, especially the Farfalle are the BEST. Try them and love them for the rest of your life.   \n",
       "541148                                              Agave, natural sweetner is just okay I can attest that the product gives an initial taste of being really sweet, but it seems to have a lingering aftertaste to it. It looks like regular honey but is not as dense. If I had nothing else to use, I would be okay with it, but since I have a choice I tend to still use regular sugar sometimes. I have never enjoyed using sugar substitutes.   \n",
       "480369  It's nice when you in a pinch, but nothing amazing about it I purchased this for times when I don't have my mixes on hand (I buy flours from asian mkt) and was very dissapointed in the bread that it made.  Tasted horrible, fell apart.  The pancakes and waffles have been a hit.  Cookie recipie was not all that wonderful either.  I like it for when I am in a pinch or if hubby has to cook but otherwise sticking to my own mixes.   \n",
       "363031                                                                                                                                                                                                                                                                               this little piggy was too small... ...for at least the type of bacon i get. the tray does not fit the bacon strips flat. they have to bunch up in order to fit.   \n",
       "555897                                                                                                                                                                                                                                        Excellent Tea I really enjoyed this rich and flavorful tea.  It's so hard to get a tea with this kind of blend in the United States. Lipton and Tetly seem so bland in comparison. Highly recommended.   \n",
       "\n",
       "        Sentiment  \n",
       "150214          1  \n",
       "541148          2  \n",
       "480369          2  \n",
       "363031          2  \n",
       "555897          1  "
      ]
     },
     "execution_count": 35,
     "metadata": {},
     "output_type": "execute_result"
    }
   ],
   "source": [
    "\n",
    "lmtpData2['Sentiment']=lmtpData2['Score'].apply(lblScore)\n",
    "lmtpData2.head(5)"
   ]
  },
  {
   "cell_type": "code",
   "execution_count": 36,
   "id": "370e4e40",
   "metadata": {
    "execution": {
     "iopub.execute_input": "2025-03-12T13:00:10.897462Z",
     "iopub.status.busy": "2025-03-12T13:00:10.897029Z",
     "iopub.status.idle": "2025-03-12T13:00:11.059624Z",
     "shell.execute_reply": "2025-03-12T13:00:11.058669Z"
    },
    "papermill": {
     "duration": 0.19799,
     "end_time": "2025-03-12T13:00:11.061595",
     "exception": false,
     "start_time": "2025-03-12T13:00:10.863605",
     "status": "completed"
    },
    "tags": []
   },
   "outputs": [],
   "source": [
    "tokenizer.fit_on_texts(lmtpData2['CombinedText'])\n",
    "sequences=tokenizer.texts_to_sequences(lmtpData2['CombinedText'])\n",
    "\n",
    "maxLen=100\n",
    "paddedData=pad_sequences(sequences,maxlen=maxLen,padding='post')\n",
    "embedding_dim=100\n",
    "vocabSize=len(tokenizer.word_index) + 1\n",
    "\n",
    "embeddingMatrix2=np.zeros((vocabSize,embedding_dim))\n",
    "\n",
    "for word,i in tokenizer.word_index.items():\n",
    "    embeddingVector2=gloveEmbeddings.get(word)\n",
    "    if embeddingVector2 is not None:\n",
    "        embeddingMatrix2[i]=embeddingVector2"
   ]
  },
  {
   "cell_type": "markdown",
   "id": "acb1500f",
   "metadata": {
    "papermill": {
     "duration": 0.032541,
     "end_time": "2025-03-12T13:00:11.127138",
     "exception": false,
     "start_time": "2025-03-12T13:00:11.094597",
     "status": "completed"
    },
    "tags": []
   },
   "source": [
    "### BALANCING THE CLASSES"
   ]
  },
  {
   "cell_type": "code",
   "execution_count": 37,
   "id": "0a2a7989",
   "metadata": {
    "execution": {
     "iopub.execute_input": "2025-03-12T13:00:11.194015Z",
     "iopub.status.busy": "2025-03-12T13:00:11.193683Z",
     "iopub.status.idle": "2025-03-12T13:00:13.187023Z",
     "shell.execute_reply": "2025-03-12T13:00:13.185882Z"
    },
    "papermill": {
     "duration": 2.029306,
     "end_time": "2025-03-12T13:00:13.189256",
     "exception": false,
     "start_time": "2025-03-12T13:00:11.159950",
     "status": "completed"
    },
    "tags": []
   },
   "outputs": [],
   "source": [
    "from imblearn.over_sampling import SMOTE\n",
    "\n",
    "\n",
    "y2 = lmtpData2['Sentiment'].values\n",
    "\n",
    "\n",
    "smote = SMOTE(random_state=42)\n",
    "X_resampled, Y_resampled = smote.fit_resample(paddedData, y2)\n"
   ]
  },
  {
   "cell_type": "code",
   "execution_count": 38,
   "id": "926e25f0",
   "metadata": {
    "execution": {
     "iopub.execute_input": "2025-03-12T13:00:13.259558Z",
     "iopub.status.busy": "2025-03-12T13:00:13.258800Z",
     "iopub.status.idle": "2025-03-12T13:00:13.364527Z",
     "shell.execute_reply": "2025-03-12T13:00:13.363475Z"
    },
    "papermill": {
     "duration": 0.141678,
     "end_time": "2025-03-12T13:00:13.366192",
     "exception": false,
     "start_time": "2025-03-12T13:00:13.224514",
     "status": "completed"
    },
    "tags": []
   },
   "outputs": [
    {
     "data": {
      "text/html": [
       "<pre style=\"white-space:pre;overflow-x:auto;line-height:normal;font-family:Menlo,'DejaVu Sans Mono',consolas,'Courier New',monospace\"><span style=\"font-weight: bold\">Model: \"sequential_1\"</span>\n",
       "</pre>\n"
      ],
      "text/plain": [
       "\u001b[1mModel: \"sequential_1\"\u001b[0m\n"
      ]
     },
     "metadata": {},
     "output_type": "display_data"
    },
    {
     "data": {
      "text/html": [
       "<pre style=\"white-space:pre;overflow-x:auto;line-height:normal;font-family:Menlo,'DejaVu Sans Mono',consolas,'Courier New',monospace\">┏━━━━━━━━━━━━━━━━━━━━━━━━━━━━━━━━━━━━━━┳━━━━━━━━━━━━━━━━━━━━━━━━━━━━━┳━━━━━━━━━━━━━━━━━┓\n",
       "┃<span style=\"font-weight: bold\"> Layer (type)                         </span>┃<span style=\"font-weight: bold\"> Output Shape                </span>┃<span style=\"font-weight: bold\">         Param # </span>┃\n",
       "┡━━━━━━━━━━━━━━━━━━━━━━━━━━━━━━━━━━━━━━╇━━━━━━━━━━━━━━━━━━━━━━━━━━━━━╇━━━━━━━━━━━━━━━━━┩\n",
       "│ embedding_1 (<span style=\"color: #0087ff; text-decoration-color: #0087ff\">Embedding</span>)              │ (<span style=\"color: #00d7ff; text-decoration-color: #00d7ff\">None</span>, <span style=\"color: #00af00; text-decoration-color: #00af00\">100</span>, <span style=\"color: #00af00; text-decoration-color: #00af00\">100</span>)            │       <span style=\"color: #00af00; text-decoration-color: #00af00\">1,047,000</span> │\n",
       "├──────────────────────────────────────┼─────────────────────────────┼─────────────────┤\n",
       "│ lstm_2 (<span style=\"color: #0087ff; text-decoration-color: #0087ff\">LSTM</span>)                        │ (<span style=\"color: #00d7ff; text-decoration-color: #00d7ff\">None</span>, <span style=\"color: #00af00; text-decoration-color: #00af00\">100</span>, <span style=\"color: #00af00; text-decoration-color: #00af00\">128</span>)            │         <span style=\"color: #00af00; text-decoration-color: #00af00\">117,248</span> │\n",
       "├──────────────────────────────────────┼─────────────────────────────┼─────────────────┤\n",
       "│ lstm_3 (<span style=\"color: #0087ff; text-decoration-color: #0087ff\">LSTM</span>)                        │ (<span style=\"color: #00d7ff; text-decoration-color: #00d7ff\">None</span>, <span style=\"color: #00af00; text-decoration-color: #00af00\">64</span>)                  │          <span style=\"color: #00af00; text-decoration-color: #00af00\">49,408</span> │\n",
       "├──────────────────────────────────────┼─────────────────────────────┼─────────────────┤\n",
       "│ dropout_1 (<span style=\"color: #0087ff; text-decoration-color: #0087ff\">Dropout</span>)                  │ (<span style=\"color: #00d7ff; text-decoration-color: #00d7ff\">None</span>, <span style=\"color: #00af00; text-decoration-color: #00af00\">64</span>)                  │               <span style=\"color: #00af00; text-decoration-color: #00af00\">0</span> │\n",
       "├──────────────────────────────────────┼─────────────────────────────┼─────────────────┤\n",
       "│ dense_1 (<span style=\"color: #0087ff; text-decoration-color: #0087ff\">Dense</span>)                      │ (<span style=\"color: #00d7ff; text-decoration-color: #00d7ff\">None</span>, <span style=\"color: #00af00; text-decoration-color: #00af00\">3</span>)                   │             <span style=\"color: #00af00; text-decoration-color: #00af00\">195</span> │\n",
       "└──────────────────────────────────────┴─────────────────────────────┴─────────────────┘\n",
       "</pre>\n"
      ],
      "text/plain": [
       "┏━━━━━━━━━━━━━━━━━━━━━━━━━━━━━━━━━━━━━━┳━━━━━━━━━━━━━━━━━━━━━━━━━━━━━┳━━━━━━━━━━━━━━━━━┓\n",
       "┃\u001b[1m \u001b[0m\u001b[1mLayer (type)                        \u001b[0m\u001b[1m \u001b[0m┃\u001b[1m \u001b[0m\u001b[1mOutput Shape               \u001b[0m\u001b[1m \u001b[0m┃\u001b[1m \u001b[0m\u001b[1m        Param #\u001b[0m\u001b[1m \u001b[0m┃\n",
       "┡━━━━━━━━━━━━━━━━━━━━━━━━━━━━━━━━━━━━━━╇━━━━━━━━━━━━━━━━━━━━━━━━━━━━━╇━━━━━━━━━━━━━━━━━┩\n",
       "│ embedding_1 (\u001b[38;5;33mEmbedding\u001b[0m)              │ (\u001b[38;5;45mNone\u001b[0m, \u001b[38;5;34m100\u001b[0m, \u001b[38;5;34m100\u001b[0m)            │       \u001b[38;5;34m1,047,000\u001b[0m │\n",
       "├──────────────────────────────────────┼─────────────────────────────┼─────────────────┤\n",
       "│ lstm_2 (\u001b[38;5;33mLSTM\u001b[0m)                        │ (\u001b[38;5;45mNone\u001b[0m, \u001b[38;5;34m100\u001b[0m, \u001b[38;5;34m128\u001b[0m)            │         \u001b[38;5;34m117,248\u001b[0m │\n",
       "├──────────────────────────────────────┼─────────────────────────────┼─────────────────┤\n",
       "│ lstm_3 (\u001b[38;5;33mLSTM\u001b[0m)                        │ (\u001b[38;5;45mNone\u001b[0m, \u001b[38;5;34m64\u001b[0m)                  │          \u001b[38;5;34m49,408\u001b[0m │\n",
       "├──────────────────────────────────────┼─────────────────────────────┼─────────────────┤\n",
       "│ dropout_1 (\u001b[38;5;33mDropout\u001b[0m)                  │ (\u001b[38;5;45mNone\u001b[0m, \u001b[38;5;34m64\u001b[0m)                  │               \u001b[38;5;34m0\u001b[0m │\n",
       "├──────────────────────────────────────┼─────────────────────────────┼─────────────────┤\n",
       "│ dense_1 (\u001b[38;5;33mDense\u001b[0m)                      │ (\u001b[38;5;45mNone\u001b[0m, \u001b[38;5;34m3\u001b[0m)                   │             \u001b[38;5;34m195\u001b[0m │\n",
       "└──────────────────────────────────────┴─────────────────────────────┴─────────────────┘\n"
      ]
     },
     "metadata": {},
     "output_type": "display_data"
    },
    {
     "data": {
      "text/html": [
       "<pre style=\"white-space:pre;overflow-x:auto;line-height:normal;font-family:Menlo,'DejaVu Sans Mono',consolas,'Courier New',monospace\"><span style=\"font-weight: bold\"> Total params: </span><span style=\"color: #00af00; text-decoration-color: #00af00\">1,213,851</span> (4.63 MB)\n",
       "</pre>\n"
      ],
      "text/plain": [
       "\u001b[1m Total params: \u001b[0m\u001b[38;5;34m1,213,851\u001b[0m (4.63 MB)\n"
      ]
     },
     "metadata": {},
     "output_type": "display_data"
    },
    {
     "data": {
      "text/html": [
       "<pre style=\"white-space:pre;overflow-x:auto;line-height:normal;font-family:Menlo,'DejaVu Sans Mono',consolas,'Courier New',monospace\"><span style=\"font-weight: bold\"> Trainable params: </span><span style=\"color: #00af00; text-decoration-color: #00af00\">166,851</span> (651.76 KB)\n",
       "</pre>\n"
      ],
      "text/plain": [
       "\u001b[1m Trainable params: \u001b[0m\u001b[38;5;34m166,851\u001b[0m (651.76 KB)\n"
      ]
     },
     "metadata": {},
     "output_type": "display_data"
    },
    {
     "data": {
      "text/html": [
       "<pre style=\"white-space:pre;overflow-x:auto;line-height:normal;font-family:Menlo,'DejaVu Sans Mono',consolas,'Courier New',monospace\"><span style=\"font-weight: bold\"> Non-trainable params: </span><span style=\"color: #00af00; text-decoration-color: #00af00\">1,047,000</span> (3.99 MB)\n",
       "</pre>\n"
      ],
      "text/plain": [
       "\u001b[1m Non-trainable params: \u001b[0m\u001b[38;5;34m1,047,000\u001b[0m (3.99 MB)\n"
      ]
     },
     "metadata": {},
     "output_type": "display_data"
    }
   ],
   "source": [
    "maxLen=100\n",
    "model = Sequential([\n",
    "    Input(shape=(maxLen,)),\n",
    "    Embedding(input_dim=vocabSize,  \n",
    "              output_dim=embedding_dim, \n",
    "              weights=embeddingMatrix2, \n",
    "             \n",
    "              trainable=False), \n",
    "    LSTM(128, return_sequences=True),\n",
    "    LSTM(64),\n",
    "    Dropout(0.6),\n",
    "    Dense(3, activation='softmax') \n",
    "])\n",
    "\n",
    "\n",
    "model.compile(loss='sparse_categorical_crossentropy', optimizer='adam', metrics=['accuracy'])\n",
    "\n",
    "model.summary()\n"
   ]
  },
  {
   "cell_type": "code",
   "execution_count": 39,
   "id": "e20fcfe7",
   "metadata": {
    "execution": {
     "iopub.execute_input": "2025-03-12T13:00:13.435826Z",
     "iopub.status.busy": "2025-03-12T13:00:13.435464Z",
     "iopub.status.idle": "2025-03-12T13:01:05.449944Z",
     "shell.execute_reply": "2025-03-12T13:01:05.448775Z"
    },
    "papermill": {
     "duration": 52.052105,
     "end_time": "2025-03-12T13:01:05.451852",
     "exception": false,
     "start_time": "2025-03-12T13:00:13.399747",
     "status": "completed"
    },
    "tags": []
   },
   "outputs": [
    {
     "name": "stdout",
     "output_type": "stream",
     "text": [
      "Epoch 1/6\n",
      "\u001b[1m50/50\u001b[0m \u001b[32m━━━━━━━━━━━━━━━━━━━━\u001b[0m\u001b[37m\u001b[0m \u001b[1m11s\u001b[0m 165ms/step - accuracy: 0.5033 - loss: 0.9855 - val_accuracy: 0.0088 - val_loss: 2.8509\n",
      "Epoch 2/6\n",
      "\u001b[1m50/50\u001b[0m \u001b[32m━━━━━━━━━━━━━━━━━━━━\u001b[0m\u001b[37m\u001b[0m \u001b[1m8s\u001b[0m 163ms/step - accuracy: 0.5291 - loss: 0.8944 - val_accuracy: 0.0117 - val_loss: 2.7955\n",
      "Epoch 3/6\n",
      "\u001b[1m50/50\u001b[0m \u001b[32m━━━━━━━━━━━━━━━━━━━━\u001b[0m\u001b[37m\u001b[0m \u001b[1m8s\u001b[0m 160ms/step - accuracy: 0.5402 - loss: 0.8570 - val_accuracy: 0.0088 - val_loss: 2.5175\n",
      "Epoch 4/6\n",
      "\u001b[1m50/50\u001b[0m \u001b[32m━━━━━━━━━━━━━━━━━━━━\u001b[0m\u001b[37m\u001b[0m \u001b[1m8s\u001b[0m 158ms/step - accuracy: 0.5793 - loss: 0.8592 - val_accuracy: 0.0117 - val_loss: 2.6011\n",
      "Epoch 5/6\n",
      "\u001b[1m50/50\u001b[0m \u001b[32m━━━━━━━━━━━━━━━━━━━━\u001b[0m\u001b[37m\u001b[0m \u001b[1m8s\u001b[0m 164ms/step - accuracy: 0.5882 - loss: 0.8260 - val_accuracy: 0.0044 - val_loss: 2.5452\n",
      "Epoch 6/6\n",
      "\u001b[1m50/50\u001b[0m \u001b[32m━━━━━━━━━━━━━━━━━━━━\u001b[0m\u001b[37m\u001b[0m \u001b[1m9s\u001b[0m 173ms/step - accuracy: 0.6154 - loss: 0.8206 - val_accuracy: 0.0103 - val_loss: 2.8341\n"
     ]
    },
    {
     "data": {
      "text/plain": [
       "<keras.src.callbacks.history.History at 0x7e329b909ba0>"
      ]
     },
     "execution_count": 39,
     "metadata": {},
     "output_type": "execute_result"
    }
   ],
   "source": [
    "model.fit(X_resampled, Y_resampled, epochs=6, batch_size=32, validation_split=0.3)"
   ]
  },
  {
   "cell_type": "code",
   "execution_count": 40,
   "id": "40a3e5d0",
   "metadata": {
    "execution": {
     "iopub.execute_input": "2025-03-12T13:01:05.561626Z",
     "iopub.status.busy": "2025-03-12T13:01:05.561208Z",
     "iopub.status.idle": "2025-03-12T13:02:58.980359Z",
     "shell.execute_reply": "2025-03-12T13:02:58.979453Z"
    },
    "papermill": {
     "duration": 113.474054,
     "end_time": "2025-03-12T13:02:58.982015",
     "exception": false,
     "start_time": "2025-03-12T13:01:05.507961",
     "status": "completed"
    },
    "tags": []
   },
   "outputs": [
    {
     "name": "stdout",
     "output_type": "stream",
     "text": [
      "Epoch 1/15\n",
      "\u001b[1m43/43\u001b[0m \u001b[32m━━━━━━━━━━━━━━━━━━━━\u001b[0m\u001b[37m\u001b[0m \u001b[1m7s\u001b[0m 171ms/step - accuracy: 0.6099 - loss: 0.8269 - val_accuracy: 0.1222 - val_loss: 1.9345\n",
      "Epoch 2/15\n",
      "\u001b[1m43/43\u001b[0m \u001b[32m━━━━━━━━━━━━━━━━━━━━\u001b[0m\u001b[37m\u001b[0m \u001b[1m10s\u001b[0m 169ms/step - accuracy: 0.6737 - loss: 0.7805 - val_accuracy: 0.1267 - val_loss: 2.1690\n",
      "Epoch 3/15\n",
      "\u001b[1m43/43\u001b[0m \u001b[32m━━━━━━━━━━━━━━━━━━━━\u001b[0m\u001b[37m\u001b[0m \u001b[1m7s\u001b[0m 170ms/step - accuracy: 0.6696 - loss: 0.8045 - val_accuracy: 0.1156 - val_loss: 2.2386\n",
      "Epoch 4/15\n",
      "\u001b[1m43/43\u001b[0m \u001b[32m━━━━━━━━━━━━━━━━━━━━\u001b[0m\u001b[37m\u001b[0m \u001b[1m8s\u001b[0m 180ms/step - accuracy: 0.6758 - loss: 0.7855 - val_accuracy: 0.1949 - val_loss: 2.1832\n",
      "Epoch 5/15\n",
      "\u001b[1m43/43\u001b[0m \u001b[32m━━━━━━━━━━━━━━━━━━━━\u001b[0m\u001b[37m\u001b[0m \u001b[1m7s\u001b[0m 170ms/step - accuracy: 0.7090 - loss: 0.7085 - val_accuracy: 0.1145 - val_loss: 2.2715\n",
      "Epoch 6/15\n",
      "\u001b[1m43/43\u001b[0m \u001b[32m━━━━━━━━━━━━━━━━━━━━\u001b[0m\u001b[37m\u001b[0m \u001b[1m7s\u001b[0m 167ms/step - accuracy: 0.7097 - loss: 0.7313 - val_accuracy: 0.1421 - val_loss: 2.3316\n",
      "Epoch 7/15\n",
      "\u001b[1m43/43\u001b[0m \u001b[32m━━━━━━━━━━━━━━━━━━━━\u001b[0m\u001b[37m\u001b[0m \u001b[1m7s\u001b[0m 169ms/step - accuracy: 0.7601 - loss: 0.6397 - val_accuracy: 0.2159 - val_loss: 2.3384\n",
      "Epoch 8/15\n",
      "\u001b[1m43/43\u001b[0m \u001b[32m━━━━━━━━━━━━━━━━━━━━\u001b[0m\u001b[37m\u001b[0m \u001b[1m8s\u001b[0m 177ms/step - accuracy: 0.7878 - loss: 0.5895 - val_accuracy: 0.1674 - val_loss: 2.0878\n",
      "Epoch 9/15\n",
      "\u001b[1m43/43\u001b[0m \u001b[32m━━━━━━━━━━━━━━━━━━━━\u001b[0m\u001b[37m\u001b[0m \u001b[1m7s\u001b[0m 171ms/step - accuracy: 0.7983 - loss: 0.5758 - val_accuracy: 0.2500 - val_loss: 2.3793\n",
      "Epoch 10/15\n",
      "\u001b[1m43/43\u001b[0m \u001b[32m━━━━━━━━━━━━━━━━━━━━\u001b[0m\u001b[37m\u001b[0m \u001b[1m7s\u001b[0m 170ms/step - accuracy: 0.8070 - loss: 0.5573 - val_accuracy: 0.2357 - val_loss: 2.6202\n",
      "Epoch 11/15\n",
      "\u001b[1m43/43\u001b[0m \u001b[32m━━━━━━━━━━━━━━━━━━━━\u001b[0m\u001b[37m\u001b[0m \u001b[1m7s\u001b[0m 168ms/step - accuracy: 0.8328 - loss: 0.4997 - val_accuracy: 0.2456 - val_loss: 2.1725\n",
      "Epoch 12/15\n",
      "\u001b[1m43/43\u001b[0m \u001b[32m━━━━━━━━━━━━━━━━━━━━\u001b[0m\u001b[37m\u001b[0m \u001b[1m7s\u001b[0m 170ms/step - accuracy: 0.8486 - loss: 0.4450 - val_accuracy: 0.2478 - val_loss: 2.6277\n",
      "Epoch 13/15\n",
      "\u001b[1m43/43\u001b[0m \u001b[32m━━━━━━━━━━━━━━━━━━━━\u001b[0m\u001b[37m\u001b[0m \u001b[1m8s\u001b[0m 180ms/step - accuracy: 0.8444 - loss: 0.4649 - val_accuracy: 0.2203 - val_loss: 2.2416\n",
      "Epoch 14/15\n",
      "\u001b[1m43/43\u001b[0m \u001b[32m━━━━━━━━━━━━━━━━━━━━\u001b[0m\u001b[37m\u001b[0m \u001b[1m7s\u001b[0m 168ms/step - accuracy: 0.8702 - loss: 0.4121 - val_accuracy: 0.2104 - val_loss: 2.5641\n",
      "Epoch 15/15\n",
      "\u001b[1m43/43\u001b[0m \u001b[32m━━━━━━━━━━━━━━━━━━━━\u001b[0m\u001b[37m\u001b[0m \u001b[1m7s\u001b[0m 169ms/step - accuracy: 0.8861 - loss: 0.3600 - val_accuracy: 0.1663 - val_loss: 2.9809\n"
     ]
    },
    {
     "data": {
      "text/plain": [
       "<keras.src.callbacks.history.History at 0x7e3299a931f0>"
      ]
     },
     "execution_count": 40,
     "metadata": {},
     "output_type": "execute_result"
    }
   ],
   "source": [
    "model.fit(X_resampled, Y_resampled, epochs=15, batch_size=32, validation_split=0.4)"
   ]
  },
  {
   "cell_type": "code",
   "execution_count": 41,
   "id": "9fdb5282",
   "metadata": {
    "execution": {
     "iopub.execute_input": "2025-03-12T13:02:59.162368Z",
     "iopub.status.busy": "2025-03-12T13:02:59.162020Z",
     "iopub.status.idle": "2025-03-12T13:05:49.614484Z",
     "shell.execute_reply": "2025-03-12T13:05:49.613477Z"
    },
    "papermill": {
     "duration": 170.543436,
     "end_time": "2025-03-12T13:05:49.616197",
     "exception": false,
     "start_time": "2025-03-12T13:02:59.072761",
     "status": "completed"
    },
    "tags": []
   },
   "outputs": [
    {
     "name": "stdout",
     "output_type": "stream",
     "text": [
      "Epoch 1/20\n",
      "\u001b[1m57/57\u001b[0m \u001b[32m━━━━━━━━━━━━━━━━━━━━\u001b[0m\u001b[37m\u001b[0m \u001b[1m9s\u001b[0m 150ms/step - accuracy: 0.7800 - loss: 0.6472 - val_accuracy: 0.0374 - val_loss: 1.6836\n",
      "Epoch 2/20\n",
      "\u001b[1m57/57\u001b[0m \u001b[32m━━━━━━━━━━━━━━━━━━━━\u001b[0m\u001b[37m\u001b[0m \u001b[1m9s\u001b[0m 156ms/step - accuracy: 0.7610 - loss: 0.6199 - val_accuracy: 0.0441 - val_loss: 1.6452\n",
      "Epoch 3/20\n",
      "\u001b[1m57/57\u001b[0m \u001b[32m━━━━━━━━━━━━━━━━━━━━\u001b[0m\u001b[37m\u001b[0m \u001b[1m8s\u001b[0m 148ms/step - accuracy: 0.8022 - loss: 0.5073 - val_accuracy: 0.0088 - val_loss: 1.6973\n",
      "Epoch 4/20\n",
      "\u001b[1m57/57\u001b[0m \u001b[32m━━━━━━━━━━━━━━━━━━━━\u001b[0m\u001b[37m\u001b[0m \u001b[1m8s\u001b[0m 146ms/step - accuracy: 0.8185 - loss: 0.4891 - val_accuracy: 0.0242 - val_loss: 1.5730\n",
      "Epoch 5/20\n",
      "\u001b[1m57/57\u001b[0m \u001b[32m━━━━━━━━━━━━━━━━━━━━\u001b[0m\u001b[37m\u001b[0m \u001b[1m8s\u001b[0m 148ms/step - accuracy: 0.8420 - loss: 0.4449 - val_accuracy: 0.0727 - val_loss: 1.4916\n",
      "Epoch 6/20\n",
      "\u001b[1m57/57\u001b[0m \u001b[32m━━━━━━━━━━━━━━━━━━━━\u001b[0m\u001b[37m\u001b[0m \u001b[1m9s\u001b[0m 154ms/step - accuracy: 0.8171 - loss: 0.4661 - val_accuracy: 0.0374 - val_loss: 1.8359\n",
      "Epoch 7/20\n",
      "\u001b[1m57/57\u001b[0m \u001b[32m━━━━━━━━━━━━━━━━━━━━\u001b[0m\u001b[37m\u001b[0m \u001b[1m8s\u001b[0m 148ms/step - accuracy: 0.8362 - loss: 0.4059 - val_accuracy: 0.0683 - val_loss: 1.6368\n",
      "Epoch 8/20\n",
      "\u001b[1m57/57\u001b[0m \u001b[32m━━━━━━━━━━━━━━━━━━━━\u001b[0m\u001b[37m\u001b[0m \u001b[1m8s\u001b[0m 149ms/step - accuracy: 0.8401 - loss: 0.4026 - val_accuracy: 0.0837 - val_loss: 1.4746\n",
      "Epoch 9/20\n",
      "\u001b[1m57/57\u001b[0m \u001b[32m━━━━━━━━━━━━━━━━━━━━\u001b[0m\u001b[37m\u001b[0m \u001b[1m8s\u001b[0m 148ms/step - accuracy: 0.8620 - loss: 0.3549 - val_accuracy: 0.1101 - val_loss: 1.4549\n",
      "Epoch 10/20\n",
      "\u001b[1m57/57\u001b[0m \u001b[32m━━━━━━━━━━━━━━━━━━━━\u001b[0m\u001b[37m\u001b[0m \u001b[1m9s\u001b[0m 153ms/step - accuracy: 0.8767 - loss: 0.3125 - val_accuracy: 0.0617 - val_loss: 2.0157\n",
      "Epoch 11/20\n",
      "\u001b[1m57/57\u001b[0m \u001b[32m━━━━━━━━━━━━━━━━━━━━\u001b[0m\u001b[37m\u001b[0m \u001b[1m8s\u001b[0m 147ms/step - accuracy: 0.8742 - loss: 0.3099 - val_accuracy: 0.0991 - val_loss: 1.7147\n",
      "Epoch 12/20\n",
      "\u001b[1m57/57\u001b[0m \u001b[32m━━━━━━━━━━━━━━━━━━━━\u001b[0m\u001b[37m\u001b[0m \u001b[1m8s\u001b[0m 148ms/step - accuracy: 0.8943 - loss: 0.3175 - val_accuracy: 0.1674 - val_loss: 1.4148\n",
      "Epoch 13/20\n",
      "\u001b[1m57/57\u001b[0m \u001b[32m━━━━━━━━━━━━━━━━━━━━\u001b[0m\u001b[37m\u001b[0m \u001b[1m8s\u001b[0m 148ms/step - accuracy: 0.8574 - loss: 0.3752 - val_accuracy: 0.0881 - val_loss: 1.9574\n",
      "Epoch 14/20\n",
      "\u001b[1m57/57\u001b[0m \u001b[32m━━━━━━━━━━━━━━━━━━━━\u001b[0m\u001b[37m\u001b[0m \u001b[1m9s\u001b[0m 152ms/step - accuracy: 0.8909 - loss: 0.2899 - val_accuracy: 0.1828 - val_loss: 1.6177\n",
      "Epoch 15/20\n",
      "\u001b[1m57/57\u001b[0m \u001b[32m━━━━━━━━━━━━━━━━━━━━\u001b[0m\u001b[37m\u001b[0m \u001b[1m9s\u001b[0m 151ms/step - accuracy: 0.8986 - loss: 0.2545 - val_accuracy: 0.1454 - val_loss: 2.1690\n",
      "Epoch 16/20\n",
      "\u001b[1m57/57\u001b[0m \u001b[32m━━━━━━━━━━━━━━━━━━━━\u001b[0m\u001b[37m\u001b[0m \u001b[1m8s\u001b[0m 146ms/step - accuracy: 0.9069 - loss: 0.2334 - val_accuracy: 0.1520 - val_loss: 2.3942\n",
      "Epoch 17/20\n",
      "\u001b[1m57/57\u001b[0m \u001b[32m━━━━━━━━━━━━━━━━━━━━\u001b[0m\u001b[37m\u001b[0m \u001b[1m9s\u001b[0m 152ms/step - accuracy: 0.8997 - loss: 0.2431 - val_accuracy: 0.0969 - val_loss: 2.6361\n",
      "Epoch 18/20\n",
      "\u001b[1m57/57\u001b[0m \u001b[32m━━━━━━━━━━━━━━━━━━━━\u001b[0m\u001b[37m\u001b[0m \u001b[1m9s\u001b[0m 149ms/step - accuracy: 0.9017 - loss: 0.2793 - val_accuracy: 0.1211 - val_loss: 2.6012\n",
      "Epoch 19/20\n",
      "\u001b[1m57/57\u001b[0m \u001b[32m━━━━━━━━━━━━━━━━━━━━\u001b[0m\u001b[37m\u001b[0m \u001b[1m8s\u001b[0m 146ms/step - accuracy: 0.9231 - loss: 0.2025 - val_accuracy: 0.1564 - val_loss: 2.6059\n",
      "Epoch 20/20\n",
      "\u001b[1m57/57\u001b[0m \u001b[32m━━━━━━━━━━━━━━━━━━━━\u001b[0m\u001b[37m\u001b[0m \u001b[1m8s\u001b[0m 147ms/step - accuracy: 0.9201 - loss: 0.2003 - val_accuracy: 0.1013 - val_loss: 2.4424\n"
     ]
    },
    {
     "data": {
      "text/plain": [
       "<keras.src.callbacks.history.History at 0x7e3299a93f10>"
      ]
     },
     "execution_count": 41,
     "metadata": {},
     "output_type": "execute_result"
    }
   ],
   "source": [
    "model.fit(X_resampled, Y_resampled, epochs=20, batch_size=32, validation_split=0.2)"
   ]
  },
  {
   "cell_type": "markdown",
   "id": "01c53911",
   "metadata": {
    "papermill": {
     "duration": 0.214862,
     "end_time": "2025-03-12T13:05:49.986330",
     "exception": false,
     "start_time": "2025-03-12T13:05:49.771468",
     "status": "completed"
    },
    "tags": []
   },
   "source": [
    "### WITHOUT SMOTE"
   ]
  },
  {
   "cell_type": "code",
   "execution_count": 42,
   "id": "86e13c5a",
   "metadata": {
    "execution": {
     "iopub.execute_input": "2025-03-12T13:05:50.300582Z",
     "iopub.status.busy": "2025-03-12T13:05:50.300149Z",
     "iopub.status.idle": "2025-03-12T13:06:43.836142Z",
     "shell.execute_reply": "2025-03-12T13:06:43.835249Z"
    },
    "papermill": {
     "duration": 53.696339,
     "end_time": "2025-03-12T13:06:43.837807",
     "exception": false,
     "start_time": "2025-03-12T13:05:50.141468",
     "status": "completed"
    },
    "tags": []
   },
   "outputs": [
    {
     "name": "stdout",
     "output_type": "stream",
     "text": [
      "Epoch 1/15\n",
      "\u001b[1m22/22\u001b[0m \u001b[32m━━━━━━━━━━━━━━━━━━━━\u001b[0m\u001b[37m\u001b[0m \u001b[1m4s\u001b[0m 160ms/step - accuracy: 0.9167 - loss: 0.2728 - val_accuracy: 0.9200 - val_loss: 0.1982\n",
      "Epoch 2/15\n",
      "\u001b[1m22/22\u001b[0m \u001b[32m━━━━━━━━━━━━━━━━━━━━\u001b[0m\u001b[37m\u001b[0m \u001b[1m4s\u001b[0m 177ms/step - accuracy: 0.9485 - loss: 0.1808 - val_accuracy: 0.9400 - val_loss: 0.1504\n",
      "Epoch 3/15\n",
      "\u001b[1m22/22\u001b[0m \u001b[32m━━━━━━━━━━━━━━━━━━━━\u001b[0m\u001b[37m\u001b[0m \u001b[1m3s\u001b[0m 158ms/step - accuracy: 0.9495 - loss: 0.1514 - val_accuracy: 0.9700 - val_loss: 0.1069\n",
      "Epoch 4/15\n",
      "\u001b[1m22/22\u001b[0m \u001b[32m━━━━━━━━━━━━━━━━━━━━\u001b[0m\u001b[37m\u001b[0m \u001b[1m4s\u001b[0m 165ms/step - accuracy: 0.9583 - loss: 0.1380 - val_accuracy: 0.9333 - val_loss: 0.2388\n",
      "Epoch 5/15\n",
      "\u001b[1m22/22\u001b[0m \u001b[32m━━━━━━━━━━━━━━━━━━━━\u001b[0m\u001b[37m\u001b[0m \u001b[1m4s\u001b[0m 164ms/step - accuracy: 0.9235 - loss: 0.2536 - val_accuracy: 0.9100 - val_loss: 0.3352\n",
      "Epoch 6/15\n",
      "\u001b[1m22/22\u001b[0m \u001b[32m━━━━━━━━━━━━━━━━━━━━\u001b[0m\u001b[37m\u001b[0m \u001b[1m4s\u001b[0m 163ms/step - accuracy: 0.9509 - loss: 0.2340 - val_accuracy: 0.9300 - val_loss: 0.1848\n",
      "Epoch 7/15\n",
      "\u001b[1m22/22\u001b[0m \u001b[32m━━━━━━━━━━━━━━━━━━━━\u001b[0m\u001b[37m\u001b[0m \u001b[1m4s\u001b[0m 164ms/step - accuracy: 0.9369 - loss: 0.1706 - val_accuracy: 0.9467 - val_loss: 0.1207\n",
      "Epoch 8/15\n",
      "\u001b[1m22/22\u001b[0m \u001b[32m━━━━━━━━━━━━━━━━━━━━\u001b[0m\u001b[37m\u001b[0m \u001b[1m4s\u001b[0m 160ms/step - accuracy: 0.9532 - loss: 0.1490 - val_accuracy: 0.9733 - val_loss: 0.0945\n",
      "Epoch 9/15\n",
      "\u001b[1m22/22\u001b[0m \u001b[32m━━━━━━━━━━━━━━━━━━━━\u001b[0m\u001b[37m\u001b[0m \u001b[1m3s\u001b[0m 159ms/step - accuracy: 0.9622 - loss: 0.1173 - val_accuracy: 0.9700 - val_loss: 0.0867\n",
      "Epoch 10/15\n",
      "\u001b[1m22/22\u001b[0m \u001b[32m━━━━━━━━━━━━━━━━━━━━\u001b[0m\u001b[37m\u001b[0m \u001b[1m3s\u001b[0m 159ms/step - accuracy: 0.9677 - loss: 0.0885 - val_accuracy: 0.9567 - val_loss: 0.1097\n",
      "Epoch 11/15\n",
      "\u001b[1m22/22\u001b[0m \u001b[32m━━━━━━━━━━━━━━━━━━━━\u001b[0m\u001b[37m\u001b[0m \u001b[1m4s\u001b[0m 164ms/step - accuracy: 0.9429 - loss: 0.1755 - val_accuracy: 0.9400 - val_loss: 0.1440\n",
      "Epoch 12/15\n",
      "\u001b[1m22/22\u001b[0m \u001b[32m━━━━━━━━━━━━━━━━━━━━\u001b[0m\u001b[37m\u001b[0m \u001b[1m4s\u001b[0m 162ms/step - accuracy: 0.9494 - loss: 0.1443 - val_accuracy: 0.9533 - val_loss: 0.1199\n",
      "Epoch 13/15\n",
      "\u001b[1m22/22\u001b[0m \u001b[32m━━━━━━━━━━━━━━━━━━━━\u001b[0m\u001b[37m\u001b[0m \u001b[1m4s\u001b[0m 160ms/step - accuracy: 0.9566 - loss: 0.1211 - val_accuracy: 0.9633 - val_loss: 0.1007\n",
      "Epoch 14/15\n",
      "\u001b[1m22/22\u001b[0m \u001b[32m━━━━━━━━━━━━━━━━━━━━\u001b[0m\u001b[37m\u001b[0m \u001b[1m3s\u001b[0m 159ms/step - accuracy: 0.9622 - loss: 0.1168 - val_accuracy: 0.9600 - val_loss: 0.1010\n",
      "Epoch 15/15\n",
      "\u001b[1m22/22\u001b[0m \u001b[32m━━━━━━━━━━━━━━━━━━━━\u001b[0m\u001b[37m\u001b[0m \u001b[1m3s\u001b[0m 159ms/step - accuracy: 0.9551 - loss: 0.1577 - val_accuracy: 0.9600 - val_loss: 0.0853\n"
     ]
    },
    {
     "data": {
      "text/plain": [
       "<keras.src.callbacks.history.History at 0x7e329b5fbc40>"
      ]
     },
     "execution_count": 42,
     "metadata": {},
     "output_type": "execute_result"
    }
   ],
   "source": [
    "model.fit(paddedData,y2, epochs=15, batch_size=32, validation_split=0.3)"
   ]
  },
  {
   "cell_type": "markdown",
   "id": "114bf29e",
   "metadata": {
    "papermill": {
     "duration": 0.173958,
     "end_time": "2025-03-12T13:06:44.188147",
     "exception": false,
     "start_time": "2025-03-12T13:06:44.014189",
     "status": "completed"
    },
    "tags": []
   },
   "source": [
    "#### PREDICTING DATA\n"
   ]
  },
  {
   "cell_type": "code",
   "execution_count": 43,
   "id": "653babd8",
   "metadata": {
    "execution": {
     "iopub.execute_input": "2025-03-12T13:06:44.545802Z",
     "iopub.status.busy": "2025-03-12T13:06:44.545448Z",
     "iopub.status.idle": "2025-03-12T13:06:46.832465Z",
     "shell.execute_reply": "2025-03-12T13:06:46.831500Z"
    },
    "papermill": {
     "duration": 2.465999,
     "end_time": "2025-03-12T13:06:46.834298",
     "exception": false,
     "start_time": "2025-03-12T13:06:44.368299",
     "status": "completed"
    },
    "tags": []
   },
   "outputs": [
    {
     "name": "stdout",
     "output_type": "stream",
     "text": [
      "\u001b[1m32/32\u001b[0m \u001b[32m━━━━━━━━━━━━━━━━━━━━\u001b[0m\u001b[37m\u001b[0m \u001b[1m2s\u001b[0m 61ms/step\n"
     ]
    }
   ],
   "source": [
    "predictedData=model.predict(paddedData)\n",
    "\n",
    "corrected_classes2 = np.argmax(predictedData, axis=1)\n",
    "mapping = {0: 1, 1: 2, 2: 0}\n",
    "predClasses= np.array([mapping[i] for i in corrected_classes2])"
   ]
  },
  {
   "cell_type": "code",
   "execution_count": 44,
   "id": "dcb86c3f",
   "metadata": {
    "execution": {
     "iopub.execute_input": "2025-03-12T13:06:47.189251Z",
     "iopub.status.busy": "2025-03-12T13:06:47.188887Z",
     "iopub.status.idle": "2025-03-12T13:06:47.196723Z",
     "shell.execute_reply": "2025-03-12T13:06:47.195444Z"
    },
    "papermill": {
     "duration": 0.186539,
     "end_time": "2025-03-12T13:06:47.198360",
     "exception": false,
     "start_time": "2025-03-12T13:06:47.011821",
     "status": "completed"
    },
    "tags": []
   },
   "outputs": [],
   "source": [
    "comparisonData2=pd.DataFrame({\n",
    "    \"Text\":lmtpData[\"CombinedText\"],\n",
    "    \"Actual Sentiment\":lmtpData[\"Sentiment\"].values,\n",
    "    \"Predicted Sentiment\":predClasses\n",
    "})\n",
    "\n",
    "\n",
    "comparisonData2[\"Positive\"] = predictedData[:, 0] \n",
    "comparisonData2[\"Neutral\"] = predictedData[:, 1]  \n",
    "comparisonData2[\"Negative\"] = predictedData[:, 2]"
   ]
  },
  {
   "cell_type": "code",
   "execution_count": 45,
   "id": "5b604045",
   "metadata": {
    "execution": {
     "iopub.execute_input": "2025-03-12T13:06:47.564328Z",
     "iopub.status.busy": "2025-03-12T13:06:47.563979Z",
     "iopub.status.idle": "2025-03-12T13:06:47.576418Z",
     "shell.execute_reply": "2025-03-12T13:06:47.575341Z"
    },
    "papermill": {
     "duration": 0.196969,
     "end_time": "2025-03-12T13:06:47.578057",
     "exception": false,
     "start_time": "2025-03-12T13:06:47.381088",
     "status": "completed"
    },
    "tags": []
   },
   "outputs": [
    {
     "data": {
      "text/html": [
       "<div>\n",
       "<style scoped>\n",
       "    .dataframe tbody tr th:only-of-type {\n",
       "        vertical-align: middle;\n",
       "    }\n",
       "\n",
       "    .dataframe tbody tr th {\n",
       "        vertical-align: top;\n",
       "    }\n",
       "\n",
       "    .dataframe thead th {\n",
       "        text-align: right;\n",
       "    }\n",
       "</style>\n",
       "<table border=\"1\" class=\"dataframe\">\n",
       "  <thead>\n",
       "    <tr style=\"text-align: right;\">\n",
       "      <th></th>\n",
       "      <th>Text</th>\n",
       "      <th>Actual Sentiment</th>\n",
       "      <th>Predicted Sentiment</th>\n",
       "      <th>Positive</th>\n",
       "      <th>Neutral</th>\n",
       "      <th>Negative</th>\n",
       "    </tr>\n",
       "  </thead>\n",
       "  <tbody>\n",
       "    <tr>\n",
       "      <th>165276</th>\n",
       "      <td>Really nice Chipotle flavor! This a fabulous deal for the money.  A little goes a VERY long way, I think this will last us a long time.  For a large casserole or soup I use about 1 Tablespoon (we have 2 young kids).  It permeates the dish with that wonderful smokiness and a nice dash of heat.  Yummy!</td>\n",
       "      <td>1</td>\n",
       "      <td>2</td>\n",
       "      <td>0.001330</td>\n",
       "      <td>0.994396</td>\n",
       "      <td>0.004274</td>\n",
       "    </tr>\n",
       "    <tr>\n",
       "      <th>277163</th>\n",
       "      <td>PopChips have ruined other chips for me! I &amp;lt;3 Popchips...maybe a little TOO much!  I was devastated when COSTCO stopped selling them, but that subsided once I found them by the case on Amazon.com.  I have subscription of 1 box per month and often contemplate increasing that order.&lt;br /&gt;&lt;br /&gt;BBQ is the BEST!</td>\n",
       "      <td>1</td>\n",
       "      <td>2</td>\n",
       "      <td>0.000130</td>\n",
       "      <td>0.999464</td>\n",
       "      <td>0.000406</td>\n",
       "    </tr>\n",
       "    <tr>\n",
       "      <th>416814</th>\n",
       "      <td>Twinings Peach Black Tea, Tea Bags, 20-Count Boxes (Pack of 6 Twinings Peach Black Tea, Tea Bags, 20-Count Boxes (Pack of 6)&lt;br /&gt;&lt;br /&gt;Great service quick delivery</td>\n",
       "      <td>1</td>\n",
       "      <td>2</td>\n",
       "      <td>0.001323</td>\n",
       "      <td>0.994403</td>\n",
       "      <td>0.004274</td>\n",
       "    </tr>\n",
       "    <tr>\n",
       "      <th>220586</th>\n",
       "      <td>Great snack for the pups I really like these treats for my 3 dogs.. they are cut up nice and small so its a perfect treat. The larger ones are just too big to give my small dogs at one time, and the larger ones are impossible to cut.</td>\n",
       "      <td>1</td>\n",
       "      <td>2</td>\n",
       "      <td>0.001332</td>\n",
       "      <td>0.994394</td>\n",
       "      <td>0.004274</td>\n",
       "    </tr>\n",
       "    <tr>\n",
       "      <th>418274</th>\n",
       "      <td>CRUNCHY BUTTERY GOODNESS Chick o Sticks remind me a little of the inside of a butterfinger. CRUNCHY, BUTTERY GOODNESS! The thing I really like most about them though is that they're not nearly as sickening-sweet.  You can munch on them pretty much all day and not get sick of that over bearing sweetness that makes your mouth feel chalky and dry.  They've almost got a nutty flavor to them. I can't really describe it.  If you like Butterfinger, minus the chocolate, try a Chick o Stick.  I think you'll like them.</td>\n",
       "      <td>1</td>\n",
       "      <td>2</td>\n",
       "      <td>0.001327</td>\n",
       "      <td>0.994384</td>\n",
       "      <td>0.004289</td>\n",
       "    </tr>\n",
       "    <tr>\n",
       "      <th>197078</th>\n",
       "      <td>Non gluten snack Great snack for those trying to avoid (or can't have) dairy or sugar. The mild ginger taste makes it a great snack or desert.</td>\n",
       "      <td>1</td>\n",
       "      <td>1</td>\n",
       "      <td>0.998480</td>\n",
       "      <td>0.000030</td>\n",
       "      <td>0.001490</td>\n",
       "    </tr>\n",
       "    <tr>\n",
       "      <th>144508</th>\n",
       "      <td>Can't wait to try! I am a huge fan of The Silk Road restaurant in Missoula, MT.  However, I am currently living far, far, away and miss the food and atmosphere at The Silk Road.  This spice allows me to bring a little bit of that to my own home.  I ordered the spice and received it in a timely manner.  Can't wait to try it out!  Thank you for making this spice blend available! - Aana</td>\n",
       "      <td>1</td>\n",
       "      <td>2</td>\n",
       "      <td>0.001337</td>\n",
       "      <td>0.994367</td>\n",
       "      <td>0.004296</td>\n",
       "    </tr>\n",
       "    <tr>\n",
       "      <th>491594</th>\n",
       "      <td>The perfect margarita While traveling to the Texas coast last winter we spent a few days in Fredricksburg where my wife fell in love with prickly pear margaritas at our favorite restaurant.  We spent the rest of our trip searching for prickly pear syrup with no sucess.  Once we got to our winter destination I took what is usually my first option when looking for something: check on Amazon.  I ordered one bottle of Cahill to see if it was worth the price and, upon receipt and a homemade prickly pear margarita, I attempted to purchase several more bottles.  Unfortunately no further were available from Amazon, so I had to search the net for another source which we located and purchased.</td>\n",
       "      <td>1</td>\n",
       "      <td>2</td>\n",
       "      <td>0.001342</td>\n",
       "      <td>0.994372</td>\n",
       "      <td>0.004286</td>\n",
       "    </tr>\n",
       "    <tr>\n",
       "      <th>72721</th>\n",
       "      <td>Lapsang Souchong Everything i expected from Amamzon.com,  - very good tea for tea lovers, be careful not to make it too strong</td>\n",
       "      <td>1</td>\n",
       "      <td>2</td>\n",
       "      <td>0.001335</td>\n",
       "      <td>0.994364</td>\n",
       "      <td>0.004301</td>\n",
       "    </tr>\n",
       "    <tr>\n",
       "      <th>398329</th>\n",
       "      <td>This is good product This product tastes good and this brand is one that mixes up better easier if you are shaking up a shake.</td>\n",
       "      <td>1</td>\n",
       "      <td>2</td>\n",
       "      <td>0.000978</td>\n",
       "      <td>0.996055</td>\n",
       "      <td>0.002967</td>\n",
       "    </tr>\n",
       "  </tbody>\n",
       "</table>\n",
       "</div>"
      ],
      "text/plain": [
       "                                                                                                                                                                                                                                                                                                                                                                                                                                                                                                                                                                                                                                                                                                                        Text  \\\n",
       "165276                                                                                                                                                                                                                                                                                                                                                                                                         Really nice Chipotle flavor! This a fabulous deal for the money.  A little goes a VERY long way, I think this will last us a long time.  For a large casserole or soup I use about 1 Tablespoon (we have 2 young kids).  It permeates the dish with that wonderful smokiness and a nice dash of heat.  Yummy!   \n",
       "277163                                                                                                                                                                                                                                                                                                                                                                                              PopChips have ruined other chips for me! I &lt;3 Popchips...maybe a little TOO much!  I was devastated when COSTCO stopped selling them, but that subsided once I found them by the case on Amazon.com.  I have subscription of 1 box per month and often contemplate increasing that order.<br /><br />BBQ is the BEST!   \n",
       "416814                                                                                                                                                                                                                                                                                                                                                                                                                                                                                                                                                  Twinings Peach Black Tea, Tea Bags, 20-Count Boxes (Pack of 6 Twinings Peach Black Tea, Tea Bags, 20-Count Boxes (Pack of 6)<br /><br />Great service quick delivery   \n",
       "220586                                                                                                                                                                                                                                                                                                                                                                                                                                                                             Great snack for the pups I really like these treats for my 3 dogs.. they are cut up nice and small so its a perfect treat. The larger ones are just too big to give my small dogs at one time, and the larger ones are impossible to cut.   \n",
       "418274                                                                                                                                                                                    CRUNCHY BUTTERY GOODNESS Chick o Sticks remind me a little of the inside of a butterfinger. CRUNCHY, BUTTERY GOODNESS! The thing I really like most about them though is that they're not nearly as sickening-sweet.  You can munch on them pretty much all day and not get sick of that over bearing sweetness that makes your mouth feel chalky and dry.  They've almost got a nutty flavor to them. I can't really describe it.  If you like Butterfinger, minus the chocolate, try a Chick o Stick.  I think you'll like them.   \n",
       "197078                                                                                                                                                                                                                                                                                                                                                                                                                                                                                                                                                                        Non gluten snack Great snack for those trying to avoid (or can't have) dairy or sugar. The mild ginger taste makes it a great snack or desert.   \n",
       "144508                                                                                                                                                                                                                                                                                                                    Can't wait to try! I am a huge fan of The Silk Road restaurant in Missoula, MT.  However, I am currently living far, far, away and miss the food and atmosphere at The Silk Road.  This spice allows me to bring a little bit of that to my own home.  I ordered the spice and received it in a timely manner.  Can't wait to try it out!  Thank you for making this spice blend available! - Aana   \n",
       "491594  The perfect margarita While traveling to the Texas coast last winter we spent a few days in Fredricksburg where my wife fell in love with prickly pear margaritas at our favorite restaurant.  We spent the rest of our trip searching for prickly pear syrup with no sucess.  Once we got to our winter destination I took what is usually my first option when looking for something: check on Amazon.  I ordered one bottle of Cahill to see if it was worth the price and, upon receipt and a homemade prickly pear margarita, I attempted to purchase several more bottles.  Unfortunately no further were available from Amazon, so I had to search the net for another source which we located and purchased.   \n",
       "72721                                                                                                                                                                                                                                                                                                                                                                                                                                                                                                                                                                                         Lapsang Souchong Everything i expected from Amamzon.com,  - very good tea for tea lovers, be careful not to make it too strong   \n",
       "398329                                                                                                                                                                                                                                                                                                                                                                                                                                                                                                                                                                                        This is good product This product tastes good and this brand is one that mixes up better easier if you are shaking up a shake.   \n",
       "\n",
       "        Actual Sentiment  Predicted Sentiment  Positive   Neutral  Negative  \n",
       "165276                 1                    2  0.001330  0.994396  0.004274  \n",
       "277163                 1                    2  0.000130  0.999464  0.000406  \n",
       "416814                 1                    2  0.001323  0.994403  0.004274  \n",
       "220586                 1                    2  0.001332  0.994394  0.004274  \n",
       "418274                 1                    2  0.001327  0.994384  0.004289  \n",
       "197078                 1                    1  0.998480  0.000030  0.001490  \n",
       "144508                 1                    2  0.001337  0.994367  0.004296  \n",
       "491594                 1                    2  0.001342  0.994372  0.004286  \n",
       "72721                  1                    2  0.001335  0.994364  0.004301  \n",
       "398329                 1                    2  0.000978  0.996055  0.002967  "
      ]
     },
     "execution_count": 45,
     "metadata": {},
     "output_type": "execute_result"
    }
   ],
   "source": [
    "comparisonData2.tail(10)"
   ]
  },
  {
   "cell_type": "code",
   "execution_count": 46,
   "id": "4d4a3ec5",
   "metadata": {
    "execution": {
     "iopub.execute_input": "2025-03-12T13:06:48.006427Z",
     "iopub.status.busy": "2025-03-12T13:06:48.006068Z",
     "iopub.status.idle": "2025-03-12T13:06:48.211444Z",
     "shell.execute_reply": "2025-03-12T13:06:48.210213Z"
    },
    "papermill": {
     "duration": 0.455375,
     "end_time": "2025-03-12T13:06:48.213504",
     "exception": false,
     "start_time": "2025-03-12T13:06:47.758129",
     "status": "completed"
    },
    "tags": []
   },
   "outputs": [],
   "source": [
    "comparisonData2.to_excel('PredictedSample2.xlsx')"
   ]
  },
  {
   "cell_type": "markdown",
   "id": "b0786fb3",
   "metadata": {
    "papermill": {
     "duration": 0.178844,
     "end_time": "2025-03-12T13:06:48.573482",
     "exception": false,
     "start_time": "2025-03-12T13:06:48.394638",
     "status": "completed"
    },
    "tags": []
   },
   "source": [
    "#### USING A SPECIFIC REVIEW"
   ]
  },
  {
   "cell_type": "code",
   "execution_count": 47,
   "id": "4f588161",
   "metadata": {
    "execution": {
     "iopub.execute_input": "2025-03-12T13:06:48.929782Z",
     "iopub.status.busy": "2025-03-12T13:06:48.929421Z",
     "iopub.status.idle": "2025-03-12T13:06:49.023179Z",
     "shell.execute_reply": "2025-03-12T13:06:49.022128Z"
    },
    "papermill": {
     "duration": 0.272184,
     "end_time": "2025-03-12T13:06:49.024673",
     "exception": false,
     "start_time": "2025-03-12T13:06:48.752489",
     "status": "completed"
    },
    "tags": []
   },
   "outputs": [
    {
     "name": "stdout",
     "output_type": "stream",
     "text": [
      "\u001b[1m1/1\u001b[0m \u001b[32m━━━━━━━━━━━━━━━━━━━━\u001b[0m\u001b[37m\u001b[0m \u001b[1m0s\u001b[0m 41ms/step\n",
      "Predicted Class:  [2]\n"
     ]
    }
   ],
   "source": [
    "\n",
    "new_review = \"I love this product, it's amazing!\"\n",
    "\n",
    "\n",
    "new_review_tokens = tokenizer.texts_to_sequences([new_review])\n",
    "new_review_padded = pad_sequences(new_review_tokens, maxlen=maxLen)\n",
    "\n",
    "predictions = model.predict(new_review_padded)\n",
    "\n",
    "\n",
    "predicted_class = np.argmax(predictions, axis=1)\n",
    "\n",
    "print(\"Predicted Class: \", predicted_class)\n"
   ]
  },
  {
   "cell_type": "markdown",
   "id": "a4c4f1b8",
   "metadata": {
    "papermill": {
     "duration": 0.181242,
     "end_time": "2025-03-12T13:06:49.383031",
     "exception": false,
     "start_time": "2025-03-12T13:06:49.201789",
     "status": "completed"
    },
    "tags": []
   },
   "source": [
    "## PREDICTING SPECIFIC REVIEWS"
   ]
  },
  {
   "cell_type": "code",
   "execution_count": 48,
   "id": "e5691065",
   "metadata": {
    "execution": {
     "iopub.execute_input": "2025-03-12T13:06:49.798116Z",
     "iopub.status.busy": "2025-03-12T13:06:49.797760Z",
     "iopub.status.idle": "2025-03-12T13:06:49.890169Z",
     "shell.execute_reply": "2025-03-12T13:06:49.888998Z"
    },
    "papermill": {
     "duration": 0.33124,
     "end_time": "2025-03-12T13:06:49.892057",
     "exception": false,
     "start_time": "2025-03-12T13:06:49.560817",
     "status": "completed"
    },
    "tags": []
   },
   "outputs": [
    {
     "name": "stdout",
     "output_type": "stream",
     "text": [
      "\u001b[1m1/1\u001b[0m \u001b[32m━━━━━━━━━━━━━━━━━━━━\u001b[0m\u001b[37m\u001b[0m \u001b[1m0s\u001b[0m 37ms/step\n",
      "{'Review': \"I had high hopes for this product after reading multiple positive reviews, but unfortunately, my experience was quite mixed. The packaging was impressive, giving it a premium feel, but upon opening, I noticed an overpowering artificial scent that was quite off-putting. I decided to give it a fair chance, so I followed the instructions to the letter, hoping the actual performance would overshadow my initial doubts. The first few uses were promising—it seemed to deliver on its claims, and I started thinking I had found my new go-to. However, after consistent use over a couple of weeks, the drawbacks became painfully apparent. The quality didn’t hold up, and instead of improving my experience, I felt it became more of a hassle. The texture was inconsistent, and I found myself frustrated more often than satisfied. Another issue I encountered was the durability—what was advertised as long-lasting started showing signs of wear way too soon. While I can appreciate the effort put into making this product appealing, the reality just didn’t match the hype. I wouldn't go as far as to say it's completely useless—it has its moments—but I certainly wouldn’t repurchase at this price point. If you're someone who values longevity and consistent performance, you might want to look elsewhere. For me, it's a disappointing experience that didn’t live up to the expectations.\", 'Probabilities': {'Negative': 0.45535445, 'Neutral': 0.06425739, 'Positive': 0.4803882}, 'Predicted Sentiment': 'Positive'}\n"
     ]
    }
   ],
   "source": [
    "def predictReviewSentiment(review,tokenizer,model,mapping,maxLength=100):\n",
    "    revSequence=tokenizer.texts_to_sequences([review])\n",
    "    paddedReviews=pad_sequences(revSequence,maxlen=maxLength,padding='post')\n",
    "    revPredictions=model.predict(paddedReviews)\n",
    "    negative_prob, neutral_prob, positive_prob = revPredictions[0]\n",
    "    predicted_class = np.argmax(revPredictions, axis=1)[0]  \n",
    "    sentiment = mapping[predicted_class]\n",
    "    return {\n",
    "        \"Review\": review,\n",
    "        \"Probabilities\": {\n",
    "            \"Negative\": negative_prob,\n",
    "            \"Neutral\": neutral_prob,\n",
    "            \"Positive\": positive_prob\n",
    "        },\n",
    "        \"Predicted Sentiment\": sentiment\n",
    "    }\n",
    "mapping = {0: \"Negative\", 1: \"Neutral\", 2: \"Positive\"} \n",
    "text=\"I had high hopes for this product after reading multiple positive reviews, but unfortunately, my experience was quite mixed. The packaging was impressive, giving it a premium feel, but upon opening, I noticed an overpowering artificial scent that was quite off-putting. I decided to give it a fair chance, so I followed the instructions to the letter, hoping the actual performance would overshadow my initial doubts. The first few uses were promising—it seemed to deliver on its claims, and I started thinking I had found my new go-to. However, after consistent use over a couple of weeks, the drawbacks became painfully apparent. The quality didn’t hold up, and instead of improving my experience, I felt it became more of a hassle. The texture was inconsistent, and I found myself frustrated more often than satisfied. Another issue I encountered was the durability—what was advertised as long-lasting started showing signs of wear way too soon. While I can appreciate the effort put into making this product appealing, the reality just didn’t match the hype. I wouldn't go as far as to say it's completely useless—it has its moments—but I certainly wouldn’t repurchase at this price point. If you're someone who values longevity and consistent performance, you might want to look elsewhere. For me, it's a disappointing experience that didn’t live up to the expectations.\"\n",
    "result = predictReviewSentiment(text, tokenizer, model, mapping)\n",
    "print (result)"
   ]
  },
  {
   "cell_type": "code",
   "execution_count": 49,
   "id": "6d53c23c",
   "metadata": {
    "execution": {
     "iopub.execute_input": "2025-03-12T13:06:50.252160Z",
     "iopub.status.busy": "2025-03-12T13:06:50.251758Z",
     "iopub.status.idle": "2025-03-12T13:06:50.346576Z",
     "shell.execute_reply": "2025-03-12T13:06:50.345224Z"
    },
    "papermill": {
     "duration": 0.27767,
     "end_time": "2025-03-12T13:06:50.348279",
     "exception": false,
     "start_time": "2025-03-12T13:06:50.070609",
     "status": "completed"
    },
    "tags": []
   },
   "outputs": [
    {
     "name": "stdout",
     "output_type": "stream",
     "text": [
      "\u001b[1m1/1\u001b[0m \u001b[32m━━━━━━━━━━━━━━━━━━━━\u001b[0m\u001b[37m\u001b[0m \u001b[1m0s\u001b[0m 38ms/step\n",
      "{'Review': 'I purchased this product a few weeks ago, and honestly, I have mixed feelings about it. \\nIt does what it’s supposed to do, but there’s nothing particularly special about it. \\nThe design is pretty standard, and while it functions well most of the time, \\nI wouldn’t say it exceeds expectations. It’s neither the best nor the worst I’ve used—it just gets the job done. \\n\\nThe build quality seems decent, though I do wonder about its long-term durability. \\nIt’s not flimsy, but it doesn’t feel premium either. The setup process was straightforward, \\nthough I did have to check the instructions a couple of times to clarify a few things. \\n\\nPerformance-wise, I’d say it’s reliable, but there are occasional inconsistencies. \\nSometimes it works perfectly, other times it takes a bit of effort to get it going. \\nNothing major, but enough to notice. \\n\\nWould I buy it again? Maybe, if I didn’t find a better alternative. \\nIt’s not a bad purchase, but it’s also not something I would enthusiastically recommend. \\nIf you need something that works and aren’t too picky about minor inconveniences, this should be fine.', 'Probabilities': {'Negative': 0.24680878, 'Neutral': 0.7167312, 'Positive': 0.036460113}, 'Predicted Sentiment': 'Neutral'}\n"
     ]
    }
   ],
   "source": [
    "review3 = \"\"\"I purchased this product a few weeks ago, and honestly, I have mixed feelings about it. \n",
    "It does what it’s supposed to do, but there’s nothing particularly special about it. \n",
    "The design is pretty standard, and while it functions well most of the time, \n",
    "I wouldn’t say it exceeds expectations. It’s neither the best nor the worst I’ve used—it just gets the job done. \n",
    "\n",
    "The build quality seems decent, though I do wonder about its long-term durability. \n",
    "It’s not flimsy, but it doesn’t feel premium either. The setup process was straightforward, \n",
    "though I did have to check the instructions a couple of times to clarify a few things. \n",
    "\n",
    "Performance-wise, I’d say it’s reliable, but there are occasional inconsistencies. \n",
    "Sometimes it works perfectly, other times it takes a bit of effort to get it going. \n",
    "Nothing major, but enough to notice. \n",
    "\n",
    "Would I buy it again? Maybe, if I didn’t find a better alternative. \n",
    "It’s not a bad purchase, but it’s also not something I would enthusiastically recommend. \n",
    "If you need something that works and aren’t too picky about minor inconveniences, this should be fine.\"\"\"\n",
    "\n",
    "result3 = predictReviewSentiment(review3, tokenizer, model, mapping)\n",
    "print(result3)\n"
   ]
  },
  {
   "cell_type": "code",
   "execution_count": 50,
   "id": "7ede49c0",
   "metadata": {
    "execution": {
     "iopub.execute_input": "2025-03-12T13:06:50.709405Z",
     "iopub.status.busy": "2025-03-12T13:06:50.709052Z",
     "iopub.status.idle": "2025-03-12T13:06:50.796582Z",
     "shell.execute_reply": "2025-03-12T13:06:50.795483Z"
    },
    "papermill": {
     "duration": 0.268797,
     "end_time": "2025-03-12T13:06:50.798313",
     "exception": false,
     "start_time": "2025-03-12T13:06:50.529516",
     "status": "completed"
    },
    "tags": []
   },
   "outputs": [
    {
     "name": "stdout",
     "output_type": "stream",
     "text": [
      "\u001b[1m1/1\u001b[0m \u001b[32m━━━━━━━━━━━━━━━━━━━━\u001b[0m\u001b[37m\u001b[0m \u001b[1m0s\u001b[0m 37ms/step\n",
      "{'Review': \"This is by far one of the worst purchases I have ever made. From the moment I opened the box, I knew I had made a mistake. The product feels cheap, poorly made, and looks nothing like what was advertised.\\n\\nIt barely functions as intended—half the time, it doesn't even turn on, and when it does, it either malfunctions or stops working within minutes. The materials used are flimsy, and I honestly wouldn’t be surprised if it breaks completely within a few weeks.\\n\\nThe worst part is the customer service. I tried to reach out for support, but all I got were generic, unhelpful responses that didn’t even address my issue. They refused to offer a refund, and after several emails, they just stopped responding altogether.\\n\\nI wouldn’t recommend this to anyone. Save your money and buy something from a reputable brand instead. If I could rate this zero stars, I would.\", 'Probabilities': {'Negative': 0.031263854, 'Neutral': 0.15329587, 'Positive': 0.81544024}, 'Predicted Sentiment': 'Positive'}\n"
     ]
    }
   ],
   "source": [
    "review4 = \"\"\"This is by far one of the worst purchases I have ever made. From the moment I opened the box, I knew I had made a mistake. The product feels cheap, poorly made, and looks nothing like what was advertised.\n",
    "\n",
    "It barely functions as intended—half the time, it doesn't even turn on, and when it does, it either malfunctions or stops working within minutes. The materials used are flimsy, and I honestly wouldn’t be surprised if it breaks completely within a few weeks.\n",
    "\n",
    "The worst part is the customer service. I tried to reach out for support, but all I got were generic, unhelpful responses that didn’t even address my issue. They refused to offer a refund, and after several emails, they just stopped responding altogether.\n",
    "\n",
    "I wouldn’t recommend this to anyone. Save your money and buy something from a reputable brand instead. If I could rate this zero stars, I would.\"\"\"\n",
    "\n",
    "result4 = predictReviewSentiment(review4, tokenizer, model, mapping)\n",
    "print(result4)"
   ]
  },
  {
   "cell_type": "code",
   "execution_count": 51,
   "id": "0d62a529",
   "metadata": {
    "execution": {
     "iopub.execute_input": "2025-03-12T13:06:51.155575Z",
     "iopub.status.busy": "2025-03-12T13:06:51.155169Z",
     "iopub.status.idle": "2025-03-12T13:06:51.281655Z",
     "shell.execute_reply": "2025-03-12T13:06:51.280252Z"
    },
    "papermill": {
     "duration": 0.30772,
     "end_time": "2025-03-12T13:06:51.283496",
     "exception": false,
     "start_time": "2025-03-12T13:06:50.975776",
     "status": "completed"
    },
    "tags": []
   },
   "outputs": [
    {
     "name": "stdout",
     "output_type": "stream",
     "text": [
      "\u001b[1m1/1\u001b[0m \u001b[32m━━━━━━━━━━━━━━━━━━━━\u001b[0m\u001b[37m\u001b[0m \u001b[1m0s\u001b[0m 39ms/step\n",
      "{'Review': 'sugar was too much', 'Probabilities': {'Negative': 0.4818017, 'Neutral': 0.022342654, 'Positive': 0.49585563}, 'Predicted Sentiment': 'Positive'}\n"
     ]
    }
   ],
   "source": [
    "review5 =\"sugar was too much\"\n",
    "result5 = predictReviewSentiment(review5, tokenizer, model, mapping)\n",
    "print(result5)"
   ]
  },
  {
   "cell_type": "markdown",
   "id": "e6cfacf4",
   "metadata": {
    "papermill": {
     "duration": 0.239286,
     "end_time": "2025-03-12T13:06:51.709303",
     "exception": false,
     "start_time": "2025-03-12T13:06:51.470017",
     "status": "completed"
    },
    "tags": []
   },
   "source": [
    "#### TOKENIZER"
   ]
  },
  {
   "cell_type": "code",
   "execution_count": 52,
   "id": "6cb307f5",
   "metadata": {
    "execution": {
     "iopub.execute_input": "2025-03-12T13:06:52.068056Z",
     "iopub.status.busy": "2025-03-12T13:06:52.067731Z",
     "iopub.status.idle": "2025-03-12T13:06:52.082147Z",
     "shell.execute_reply": "2025-03-12T13:06:52.081046Z"
    },
    "papermill": {
     "duration": 0.201037,
     "end_time": "2025-03-12T13:06:52.089071",
     "exception": false,
     "start_time": "2025-03-12T13:06:51.888034",
     "status": "completed"
    },
    "tags": []
   },
   "outputs": [
    {
     "name": "stdout",
     "output_type": "stream",
     "text": [
      "{'the': 1, 'i': 2, 'and': 3, 'a': 4, 'to': 5, 'it': 6, 'of': 7, 'is': 8, 'br': 9, 'this': 10, 'in': 11, 'for': 12, 'my': 13, 'that': 14, 'but': 15, 'not': 16, 'with': 17, 'have': 18, 'you': 19, 'are': 20, 'was': 21, 'on': 22, 'as': 23, 'like': 24, 'they': 25, 'so': 26, 'these': 27, 'good': 28, 'great': 29, 'them': 30, 'be': 31, 'or': 32, 'at': 33, 'taste': 34, 'coffee': 35, 'product': 36, 'one': 37, 'if': 38, 'just': 39, 'all': 40, 'very': 41, 'love': 42, 'tea': 43, \"it's\": 44, 'flavor': 45, 'when': 46, 'me': 47, 'will': 48, 'from': 49, 'had': 50, 'more': 51, 'has': 52, 'can': 53, 'food': 54, 'would': 55, 'we': 56, 'than': 57, 'out': 58, 'no': 59, \"don't\": 60, 'about': 61, 'get': 62, 'other': 63, 'too': 64, 'best': 65, 'up': 66, 'really': 67, 'only': 68, 'amazon': 69, 'some': 70, 'an': 71, 'time': 72, 'what': 73, 'use': 74, 'little': 75, 'your': 76, 'buy': 77, 'much': 78, 'price': 79, 'because': 80, 'do': 81, 'find': 82, \"i've\": 83, 'also': 84, 'been': 85, 'am': 86, 'dog': 87, 'make': 88, 'were': 89, \"i'm\": 90, 'even': 91, 'which': 92, 'after': 93, 'by': 94, 'he': 95, 'try': 96, 'there': 97, 'well': 98, 'tried': 99, 'now': 100, 'better': 101, 'water': 102, 'chocolate': 103, 'any': 104, 'eat': 105, 'she': 106, 'delicious': 107, 'bag': 108, 'cup': 109, '2': 110, 'first': 111, 'her': 112, 'their': 113, 'free': 114, 'found': 115, 'then': 116, 'our': 117, 'sugar': 118, 'sweet': 119, 'think': 120, 'made': 121, 'again': 122, 'drink': 123, 'day': 124, 'box': 125, 'go': 126, 'way': 127, 'two': 128, 'chips': 129, 'favorite': 130, 'know': 131, 'most': 132, 'bit': 133, '1': 134, 'bought': 135, 'over': 136, 'since': 137, 'before': 138, 'organic': 139, '3': 140, 'strong': 141, 'does': 142, 'nice': 143, 'who': 144, 'dogs': 145, 'stuff': 146, 'recommend': 147, 'quality': 148, 'did': 149, 'how': 150, 'tastes': 151, 'mix': 152, 'got': 153, 'want': 154, 'store': 155, 'loves': 156, 'used': 157, 'say': 158, 'could': 159, 'many': 160, 'give': 161, 'always': 162, 'something': 163, 'into': 164, 'enough': 165, 'right': 166, 'snack': 167, 'treats': 168, 'never': 169, 'still': 170, 'ever': 171, 'order': 172, 'few': 173, 'size': 174, 'chicken': 175, 'back': 176, 'perfect': 177, 'every': 178, 'its': 179, 'makes': 180, 'milk': 181, \"can't\": 182, 'hard': 183, 'tasty': 184, 'small': 185, 'without': 186, 'treat': 187, '5': 188, 'whole': 189, 'years': 190, \"doesn't\": 191, 'hot': 192, 'cookies': 193, 'while': 194, 'same': 195, 'healthy': 196, 'old': 197, 'long': 198, 'products': 199, 'excellent': 200, \"didn't\": 201, 'easy': 202, 'brand': 203, 'pretty': 204, 'add': 205, 'salt': 206, 'put': 207, '4': 208, 'bad': 209, 'here': 210, 'keep': 211, 'high': 212, 'different': 213, 'sauce': 214, 'those': 215, 'pack': 216, 'lot': 217, 'us': 218, 'enjoy': 219, 'going': 220, 'his': 221, 'bags': 222, 'k': 223, 'cat': 224, 'happy': 225, 'however': 226, 'eating': 227, 'flavors': 228, 'actually': 229, 'natural': 230, 'far': 231, 'wonderful': 232, 'through': 233, 'him': 234, 'take': 235, 'new': 236, 'ingredients': 237, 'though': 238, 'fresh': 239, 'package': 240, 'work': 241, 'last': 242, 'both': 243, 'green': 244, 'real': 245, 'off': 246, 'another': 247, 'sure': 248, 'regular': 249, 'definitely': 250, 'ordered': 251, 'see': 252, 'need': 253, 'less': 254, 'anything': 255, 'using': 256, 'cats': 257, 'each': 258, 'butter': 259, 'thought': 260, 'down': 261, 'thing': 262, 'may': 263, 'low': 264, 'tasted': 265, 'around': 266, 'cups': 267, 'buying': 268, 'big': 269, 'gluten': 270, 'local': 271, 'feel': 272, 'dark': 273, 'tasting': 274, 'full': 275, 'looking': 276, 'oil': 277, 'own': 278, 'highly': 279, 'purchased': 280, 'rice': 281, 'quite': 282, 'people': 283, \"they're\": 284, 'stores': 285, 'being': 286, 'blend': 287, 'almost': 288, 'dry': 289, 'purchase': 290, 'per': 291, 'bread': 292, 'worth': 293, 'probably': 294, \"i'd\": 295, 'case': 296, 'half': 297, 'added': 298, 'should': 299, 'coconut': 300, 'brands': 301, 'flavored': 302, 'smell': 303, 'home': 304, 'year': 305, 'expensive': 306, 'top': 307, 'received': 308, 'trying': 309, 'candy': 310, 'black': 311, 'com': 312, 'protein': 313, '10': 314, 'cereal': 315, 'problem': 316, 'amount': 317, 'shipping': 318, 'months': 319, 'packaging': 320, 'might': 321, 'fruit': 322, 'having': 323, 'vanilla': 324, 'once': 325, \"i'll\": 326, 'smooth': 327, 'baby': 328, 'said': 329, 'able': 330, 'fine': 331, 'bar': 332, \"won't\": 333, 'grocery': 334, 'kind': 335, 'fat': 336, 'light': 337, 'until': 338, 'foods': 339, 'ginger': 340, 'come': 341, 'calories': 342, '6': 343, 'getting': 344, 'drinking': 345, 'health': 346, 'why': 347, 'cookie': 348, 'usually': 349, 'came': 350, '12': 351, 'morning': 352, 'large': 353, 'teas': 354, 'boxes': 355, \"isn't\": 356, 'review': 357, 'loved': 358, 'else': 359, 'least': 360, 'several': 361, 'kids': 362, 'works': 363, 'three': 364, 'reviews': 365, 'diet': 366, 'away': 367, 'especially': 368, 'maybe': 369, 'peanut': 370, 'disappointed': 371, 'things': 372, 'days': 373, 'went': 374, 'item': 375, 'open': 376, 'bottle': 377, 'nothing': 378, 'corn': 379, 'fast': 380, 'gave': 381, 'extra': 382, 'took': 383, 'family': 384, 'cheese': 385, 'popcorn': 386, 'honey': 387, 'times': 388, 'absolutely': 389, 'available': 390, 'seems': 391, 'texture': 392, '8': 393, 'company': 394, 'although': 395, 'money': 396, 'couple': 397, 'son': 398, 'wish': 399, 'roast': 400, \"that's\": 401, 'yummy': 402, 'amazing': 403, 'bitter': 404, 'must': 405, 'variety': 406, 'bars': 407, 'rather': 408, 'syrup': 409, 'minutes': 410, 'ones': 411, 'red': 412, 'instead': 413, 'look': 414, 'where': 415, 'fan': 416, 'liked': 417, 'wanted': 418, 'month': 419, 'starbucks': 420, 'rich': 421, \"you're\": 422, 'deal': 423, 'powder': 424, 'recommended': 425, 'pieces': 426, 'comes': 427, 'seem': 428, 'believe': 429, 'cans': 430, 'save': 431, 'awesome': 432, 'decided': 433, 'soup': 434, 'making': 435, 'bold': 436, 'either': 437, 'plastic': 438, 'anyone': 439, 'plus': 440, 'others': 441, 'likes': 442, 'such': 443, 'meat': 444, 'husband': 445, 'juice': 446, 'serving': 447, 'energy': 448, 'bowl': 449, 'beans': 450, 'let': 451, 'fact': 452, 'gift': 453, 'pasta': 454, 'everything': 455, 'ordering': 456, 'breakfast': 457, 'soy': 458, 'oz': 459, 'yet': 460, 'nuts': 461, 'spicy': 462, 'feed': 463, 'salty': 464, 'ago': 465, 'cream': 466, 'sodium': 467, 'life': 468, 'house': 469, 'soft': 470, 'mixed': 471, \"wasn't\": 472, 'keurig': 473, 'stars': 474, 'longer': 475, 'says': 476, 'value': 477, 'giving': 478, 'plain': 479, 'huge': 480, 'cheaper': 481, 'simply': 482, 'read': 483, 'weak': 484, 'ounce': 485, 'crunchy': 486, 'cost': 487, 'snacks': 488, 'looks': 489, 'pet': 490, '100': 491, 'live': 492, 'href': 493, 'http': 494, 'www': 495, 'gp': 496, \"couldn't\": 497, 'stomach': 498, 'container': 499, 'fantastic': 500, 'white': 501, 'next': 502, 'help': 503, 'quick': 504, 'type': 505, 'version': 506, 'aroma': 507, 'thank': 508, 'super': 509, 'meal': 510, 'please': 511, \"you'll\": 512, 'arrived': 513, 'part': 514, 'glad': 515, 'second': 516, 'easily': 517, 'online': 518, 'ok': 519, 'looked': 520, 'daughter': 521, 'picky': 522, 'idea': 523, 'quickly': 524, 'ice': 525, 'prefer': 526, 'baking': 527, 'friends': 528, 'single': 529, 'flour': 530, 'china': 531, 'alternative': 532, 'fiber': 533, 'etc': 534, 'difference': 535, 'service': 536, 'cake': 537, 'market': 538, 'everyone': 539, 'pleased': 540, 'crunch': 541, 'guess': 542, 'call': 543, 'wheat': 544, 'seeds': 545, 'started': 546, 'opened': 547, 'sometimes': 548, 'star': 549, 'myself': 550, 'cut': 551, 'date': 552, 'color': 553, 'tell': 554, 'continue': 555, 'machine': 556, 'cinnamon': 557, 'slightly': 558, 'brew': 559, 'stick': 560, 'place': 561, 'mouth': 562, 'yes': 563, 'reason': 564, 'convenient': 565, 'saw': 566, 'expected': 567, 'artificial': 568, 'course': 569, 'problems': 570, 'left': 571, 'caffeine': 572, 'compared': 573, 'mind': 574, 'pop': 575, 'takes': 576, 'chew': 577, 'care': 578, 'brown': 579, 'potato': 580, 'end': 581, 'change': 582, 'wrong': 583, 'original': 584, 'list': 585, 'rest': 586, 'goes': 587, 'lemon': 588, 'larger': 589, 'hand': 590, 'between': 591, 'week': 592, '50': 593, 'okay': 594, 'healthier': 595, 'dried': 596, 'smells': 597, 'gets': 598, 'itself': 599, 'apple': 600, 'certainly': 601, 'someone': 602, 'inside': 603, 'glass': 604, 'enjoyed': 605, 'teeth': 606, 'crackers': 607, 'later': 608, 'recipe': 609, 'coffees': 610, 'side': 611, 'special': 612, 'fish': 613, 'overall': 614, 'pod': 615, 'normal': 616, 'french': 617, 'hazelnut': 618, 'done': 619, 'similar': 620, 'choice': 621, 'night': 622, 'gone': 623, \"haven't\": 624, 'pods': 625, 'weight': 626, 'line': 627, 'vet': 628, 'recently': 629, 'run': 630, 'instant': 631, 'close': 632, 'due': 633, 'canned': 634, 'extremely': 635, 'bottom': 636, 'shipped': 637, 'ingredient': 638, 'hair': 639, 'beef': 640, 'chip': 641, 'true': 642, 'lots': 643, 'subscribe': 644, 'called': 645, 'bite': 646, 'grain': 647, 'cook': 648, 'almond': 649, 'piece': 650, 'wife': 651, 'cannot': 652, 'liquid': 653, 'worked': 654, 'thanks': 655, 'surprised': 656, 'blue': 657, 'smaller': 658, 'delivery': 659, 'sale': 660, 'spice': 661, 'formula': 662, 'seemed': 663, 'hope': 664, 'exactly': 665, 'become': 666, 'leave': 667, 'garlic': 668, \"wouldn't\": 669, \"there's\": 670, 'mine': 671, 'pound': 672, 'unfortunately': 673, \"newman's\": 674, 'recipes': 675, '20': 676, 'raw': 677, 'already': 678, 'remember': 679, 'along': 680, '30': 681, 'pepper': 682, 'start': 683, 'lunch': 684, 'drinks': 685, 'hint': 686, 'pot': 687, 'gives': 688, 'experience': 689, 'set': 690, 'cocoa': 691, 'contains': 692, \"we've\": 693, '11': 694, 'often': 695, 'espresso': 696, 'carry': 697, 'clean': 698, 'name': 699, 'splenda': 700, 's': 701, '7': 702, 'calorie': 703, 'ground': 704, 'serve': 705, 'customer': 706, 'finally': 707, 'dinner': 708, 'packets': 709, 'jar': 710, 'gum': 711, 'clear': 712, '9': 713, 'medium': 714, 'microwave': 715, 'world': 716, 'heat': 717, 'god': 718, 'dough': 719, 'decaf': 720, 'almonds': 721, 'nutrition': 722, 'particular': 723, 'soda': 724, 'four': 725, 'packages': 726, 'reading': 727, 'broken': 728, 'body': 729, 'packaged': 730, 'matter': 731, 'tuna': 732, 'feeding': 733, 'vinegar': 734, 'short': 735, 'needs': 736, 'shop': 737, 'note': 738, 'needed': 739, 'otherwise': 740, '15': 741, 'vegetable': 742, 'normally': 743, 'expect': 744, 'c': 745, 'non': 746, 'consistency': 747, 'crazy': 748, 'anywhere': 749, 'noticed': 750, 'given': 751, 'stale': 752, 'paper': 753, 'nut': 754, 'chewy': 755, 'easier': 756, 'hands': 757, 'satisfying': 758, 'meals': 759, 'salad': 760, 'strawberry': 761, 'jerky': 762, 'yum': 763, 'within': 764, 'during': 765, 'baked': 766, 'oh': 767, 'bottles': 768, 'packet': 769, 'stock': 770, 'point': 771, 'favorites': 772, 'thick': 773, 'cheap': 774, 'vitamin': 775, 'terrible': 776, 'cooking': 777, 'iced': 778, 'granola': 779, 'broth': 780, 'substitute': 781, 'kitchen': 782, '24': 783, 'stay': 784, 'toy': 785, 'door': 786, 'past': 787, 'mild': 788, 'mom': 789, 'packs': 790, 'roasted': 791, 'aftertaste': 792, 'break': 793, 'hit': 794, 'stop': 795, 'mango': 796, 'squeeze': 797, 'benefits': 798, 'waste': 799, 'mean': 800, 'none': 801, 'eats': 802, 'sea': 803, 'contain': 804, 'wet': 805, 'together': 806, 'sent': 807, 'wow': 808, 'hate': 809, 'refreshing': 810, 'count': 811, 'eaten': 812, 'stash': 813, 'source': 814, 'pill': 815, 'pick': 816, 'perfectly': 817, 'pay': 818, 'goodness': 819, \"he's\": 820, 'excited': 821, 'ate': 822, 'bean': 823, 'shipment': 824, 'leaves': 825, 'unlike': 826, 'room': 827, 'bring': 828, 'hours': 829, 'simple': 830, 'weird': 831, 'decent': 832, '25': 833, 'notice': 834, 'b': 835, 'twice': 836, 'supermarket': 837, 'touch': 838, 'changed': 839, 'stronger': 840, 'sold': 841, 'taking': 842, 'anymore': 843, 'beat': 844, 'entire': 845, 'based': 846, 'soon': 847, 'saying': 848, 'orange': 849, 'blood': 850, 'oven': 851, 'dish': 852, 'means': 853, 'reviewers': 854, 'mixes': 855, 'individual': 856, 'cold': 857, 'opinion': 858, 'usa': 859, 'finding': 860, 'purchasing': 861, 'flavoring': 862, 'kid': 863, 'seen': 864, 'area': 865, 'seasoning': 866, 'salmon': 867, 'wellness': 868, 'daily': 869, 'six': 870, 'unless': 871, 'air': 872, 'pouches': 873, 'gas': 874, 'o': 875, 'lime': 876, 'bulk': 877, 'items': 878, 'yellow': 879, 'content': 880, 'label': 881, 'sweetness': 882, 'flavorful': 883, 'pure': 884, 'keeps': 885, 'delight': 886, 'double': 887, 'overpowering': 888, 'immediately': 889, 'advertised': 890, 'loose': 891, 'throw': 892, 'chewing': 893, 'wait': 894, 'spoon': 895, 'completely': 896, 'description': 897, 'somewhat': 898, 'five': 899, 'hour': 900, 'condition': 901, 'imagine': 902, 'vitamins': 903, 'christmas': 904, 'yourself': 905, 'pizza': 906, 'finish': 907, 'doing': 908, 'varieties': 909, 'results': 910, 'restaurant': 911, 'chai': 912, 'thin': 913, 'spread': 914, 'helps': 915, 'heard': 916, 'everyday': 917, 'oats': 918, 'royal': 919, 'yeast': 920, 'chili': 921, 'herbs': 922, 'mountain': 923, 'caramel': 924, 'bites': 925, 'whatever': 926, 'option': 927, 'avoid': 928, 'filling': 929, 'pre': 930, 'weeks': 931, 'pumpkin': 932, 'reasonable': 933, 'training': 934, 'hold': 935, 'extract': 936, 'share': 937, 'overly': 938, 'truly': 939, 'friend': 940, 'lost': 941, 'ready': 942, 'pie': 943, 'told': 944, 'vegan': 945, 'worst': 946, 'puppy': 947, 'issues': 948, 'batch': 949, 'herbal': 950, 'grains': 951, 'subscription': 952, 'ounces': 953, 'higher': 954, 'fructose': 955, 'peppermint': 956, 'word': 957, 'cases': 958, 'peach': 959, 'expecting': 960, 'center': 961, 'packed': 962, 'pour': 963, 'shelf': 964, 'processed': 965, 'child': 966, 'turned': 967, 'wild': 968, 'across': 969, 'turkey': 970, 'awful': 971, 'smelled': 972, 'moist': 973, '00': 974, 'update': 975, 'sweetener': 976, 'impressed': 977, 'warm': 978, 'including': 979, 'sour': 980, 'today': 981, 'pricey': 982, 'savory': 983, 'thinking': 984, 'agree': 985, 'fed': 986, 'main': 987, 'mess': 988, 'coming': 989, 'bbq': 990, 'style': 991, 'premium': 992, 'suggest': 993, 'mint': 994, 'olive': 995, 'carbs': 996, 'eggs': 997, 'shot': 998, 'lover': 999, 'wrapped': 1000, 'cherry': 1001, 'turns': 1002, 'sauces': 1003, 'homemade': 1004, 'opening': 1005, 'adding': 1006, 'seller': 1007, 'prices': 1008, 'flat': 1009, 'feeling': 1010, 'number': 1011, 'realize': 1012, 'rolls': 1013, 'portion': 1014, 'banana': 1015, 'addition': 1016, 'wonder': 1017, 'summer': 1018, 'fair': 1019, 'rate': 1020, 'gourmet': 1021, 'straight': 1022, 'licorice': 1023, 'pounds': 1024, 'dairy': 1025, 'process': 1026, 'send': 1027, 'horrible': 1028, 'sample': 1029, 'check': 1030, 'poor': 1031, 'pancakes': 1032, 'website': 1033, 'olives': 1034, 'combination': 1035, 'paste': 1036, 'offer': 1037, 'whenever': 1038, 'supposed': 1039, 'prime': 1040, '40': 1041, 'subtle': 1042, 'sticky': 1043, 'stuck': 1044, 'placed': 1045, '2011': 1046, 'finished': 1047, 'wants': 1048, 'bake': 1049, 'locally': 1050, 'pleasant': 1051, 'oatmeal': 1052, 'forward': 1053, 'skin': 1054, 'turn': 1055, 'acid': 1056, 'egg': 1057, 'return': 1058, 'raspberry': 1059, 'mostly': 1060, 'lb': 1061, 'brought': 1062, 'putting': 1063, 'switch': 1064, 'afternoon': 1065, 'cause': 1066, 'craving': 1067, 'older': 1068, 'dishes': 1069, 'reviewer': 1070, 'sick': 1071, 'indian': 1072, 'grams': 1073, 'figure': 1074, 'asked': 1075, 'zico': 1076, 'heart': 1077, 'cappuccino': 1078, 'personally': 1079, 'bland': 1080, 'nutty': 1081, 'trouble': 1082, 'understand': 1083, 'choose': 1084, 'fill': 1085, 'stir': 1086, 'noodles': 1087, '18': 1088, 'sesame': 1089, 'individually': 1090, 'wine': 1091, 'job': 1092, 'grind': 1093, '99': 1094, 'fabulous': 1095, \"aren't\": 1096, 'literally': 1097, 'lasts': 1098, 'cooked': 1099, 'movie': 1100, 'heavy': 1101, 'creamy': 1102, 'maker': 1103, 'brewer': 1104, 'brewing': 1105, 'via': 1106, 'convenience': 1107, 'fairly': 1108, 'allergies': 1109, 'discovered': 1110, 'sell': 1111, 'keeping': 1112, 'servings': 1113, 'enjoying': 1114, 'person': 1115, 'stopped': 1116, 'switched': 1117, 'sleep': 1118, 'sealed': 1119, 'seal': 1120, 'nutritional': 1121, 'pouch': 1122, 'upset': 1123, 'digestive': 1124, 'gotten': 1125, 'except': 1126, 'jars': 1127, 'litter': 1128, 'watch': 1129, 'fake': 1130, 'addicted': 1131, 'satisfied': 1132, 'chance': 1133, 'puffs': 1134, 'cool': 1135, 'soups': 1136, 'm': 1137, 'sticks': 1138, 'impossible': 1139, 'remove': 1140, 'biscuits': 1141, 'outside': 1142, \"amazon's\": 1143, 'grape': 1144, 'third': 1145, 'solid': 1146, 'anyway': 1147, 'sorry': 1148, 'cakes': 1149, 'plenty': 1150, 'sip': 1151, 'country': 1152, 'yogurt': 1153, 'bottled': 1154, 'mug': 1155, 'sweetened': 1156, 'form': 1157, 'travel': 1158, \"what's\": 1159, 'english': 1160, 'test': 1161, 'above': 1162, 'level': 1163, 'tiny': 1164, 'listed': 1165, 'animal': 1166, 'office': 1167, 'crisp': 1168, 'balance': 1169, 'lbs': 1170, 'near': 1171, 'plant': 1172, 'essentia': 1173, 'kitty': 1174, 'control': 1175, 'lovers': 1176, 'concerned': 1177, 'manufacturer': 1178, \"you've\": 1179, 'regularly': 1180, 'system': 1181, 'included': 1182, 'surprise': 1183, 'popped': 1184, 'miso': 1185, 'difficult': 1186, 'provide': 1187, 'cents': 1188, 'berry': 1189, 'fried': 1190, 'seed': 1191, 'tazo': 1192, 'saffron': 1193, 'expiration': 1194, 'picked': 1195, 'picture': 1196, 'filter': 1197, 'future': 1198, 'unique': 1199, 'sort': 1200, 'latte': 1201, 'ball': 1202, 'hoping': 1203, 'apart': 1204, 'minute': 1205, 'mother': 1206, 'seeing': 1207, 'seconds': 1208, 'knew': 1209, 'watching': 1210, 'pull': 1211, 'miss': 1212, 'search': 1213, 'acidic': 1214, 'dollars': 1215, 'upon': 1216, 'punch': 1217, 'worried': 1218, 'poured': 1219, 'mixing': 1220, 'beverage': 1221, 'onion': 1222, 'average': 1223, 'total': 1224, 'sized': 1225, 'creamer': 1226, 'kept': 1227, 'ended': 1228, 'supply': 1229, 'inexpensive': 1230, 'handy': 1231, 'e': 1232, 'shape': 1233, 'sensitive': 1234, 'complete': 1235, 'describe': 1236, 'hooked': 1237, 'priced': 1238, 'pb2': 1239, 'ways': 1240, 'felt': 1241, 'heaven': 1242, 'happened': 1243, 'dont': 1244, 'veggies': 1245, 'totally': 1246, 'chews': 1247, 'freeze': 1248, 'gross': 1249, 'consider': 1250, 'boost': 1251, 'watery': 1252, 'incredibly': 1253, 'fit': 1254, 'maple': 1255, 'zero': 1256, 'beware': 1257, 'alone': 1258, 'lol': 1259, 'sitting': 1260, 'grab': 1261, 'saving': 1262, 'internet': 1263, 'considering': 1264, 'honestly': 1265, 'cover': 1266, 'dip': 1267, 'comfort': 1268, 'filled': 1269, 'enjoyable': 1270, 'mention': 1271, 'freshness': 1272, 'bacon': 1273, 'traditional': 1274, 'school': 1275, 'fridge': 1276, 'figured': 1277, 'delivered': 1278, 'produced': 1279, 'kettle': 1280, 'flakes': 1281, 'cereals': 1282, 'generally': 1283, 'mentioned': 1284, 'lovely': 1285, 'damage': 1286, 'chemical': 1287, 'pan': 1288, 'rating': 1289, 'running': 1290, 'elsewhere': 1291, 'complaint': 1292, 'starting': 1293, 'robust': 1294, 'lightly': 1295, 'served': 1296, 'trick': 1297, 'crispy': 1298, '16': 1299, 'complaints': 1300, \"we're\": 1301, 'drinker': 1302, 'nasty': 1303, 'mini': 1304, 'trade': 1305, 'effect': 1306, 'front': 1307, 'bodied': 1308, \"she's\": 1309, 'senseo': 1310, 'types': 1311, 'empty': 1312, 'possible': 1313, 'information': 1314, 'therefore': 1315, 'multiple': 1316, 'household': 1317, 'nicely': 1318, 'bigger': 1319, 'shopping': 1320, '14': 1321, 'paid': 1322, 'throwing': 1323, 'preservatives': 1324, 'beats': 1325, 'likely': 1326, 'spices': 1327, 'happen': 1328, 'wrap': 1329, 'earl': 1330, 'grey': 1331, 'kinds': 1332, 'directions': 1333, '75': 1334, 'slight': 1335, 'dense': 1336, 'doubt': 1337, 'overwhelming': 1338, 'mixture': 1339, 'words': 1340, 'fall': 1341, 'grow': 1342, 'middle': 1343, 'tired': 1344, 'target': 1345, 'spirit': 1346, 'grown': 1347, 'claims': 1348, '13': 1349, 'leaf': 1350, 'sumatra': 1351, 'fruity': 1352, 'junk': 1353, 'fix': 1354, 'according': 1355, 'reaction': 1356, 'allergic': 1357, 'carb': 1358, 'base': 1359, 'sister': 1360, 'children': 1361, 'sandwiches': 1362, 'lighter': 1363, 'produce': 1364, 'interesting': 1365, 'paying': 1366, 'funny': 1367, 'sit': 1368, 'melted': 1369, 'taken': 1370, 'actual': 1371, 'eater': 1372, 'state': 1373, 'toast': 1374, 'under': 1375, 'gums': 1376, 'roll': 1377, 'delighted': 1378, 'issue': 1379, 'tend': 1380, 'personal': 1381, 'lower': 1382, 'separate': 1383, 'discontinued': 1384, 'odd': 1385, \"they've\": 1386, 'prepared': 1387, 'range': 1388, 'face': 1389, 'wood': 1390, 'conditioner': 1391, 'medicine': 1392, 'chunks': 1393, 'introduced': 1394, 'electrolytes': 1395, 'pops': 1396, 'certified': 1397, 'snap': 1398, 'refund': 1399, 'negative': 1400, 'pills': 1401, 'fry': 1402, 'ask': 1403, 'economical': 1404, 'hungry': 1405, 'scoop': 1406, 'usual': 1407, 'known': 1408, 'powdered': 1409, 'beautiful': 1410, 'coat': 1411, 'greenies': 1412, 'die': 1413, 'numi': 1414, 'grew': 1415, 'cancer': 1416, 'root': 1417, 'waters': 1418, 'magic': 1419, 'vs': 1420, 'business': 1421, \"pamela's\": 1422, 'disappointing': 1423, 'nutritious': 1424, 'design': 1425, 'spend': 1426, 'follow': 1427, 'burn': 1428, 'late': 1429, 'compare': 1430, 'typical': 1431, 'remind': 1432, 'shake': 1433, 'bitterness': 1434, 'classic': 1435, 're': 1436, 'delightful': 1437, 'strength': 1438, 'cane': 1439, 'greens': 1440, 'bits': 1441, 'guilt': 1442, 'whether': 1443, 'trip': 1444, 'kibble': 1445, 'sounds': 1446, 'offered': 1447, 'town': 1448, 'tree': 1449, 'floor': 1450, 'greatest': 1451, 'delicate': 1452, 'nearly': 1453, 'buffalo': 1454, 'working': 1455, 'suggested': 1456, 'tender': 1457, 'forever': 1458, 'diarrhea': 1459, 'careful': 1460, 'saved': 1461, 'becoming': 1462, 'cider': 1463, 'research': 1464, 'adds': 1465, 'gloria': 1466, 'blends': 1467, 'worry': 1468, 'labels': 1469, 'onto': 1470, 'knows': 1471, 'saves': 1472, 'sweeteners': 1473, 'notes': 1474, 'stand': 1475, 'listing': 1476, 'grass': 1477, 'birthday': 1478, 'thru': 1479, 'germany': 1480, 'oolong': 1481, 't': 1482, 'common': 1483, 'irish': 1484, 'mass': 1485, 'returned': 1486, 'aid': 1487, 'scent': 1488, 'breast': 1489, 'babies': 1490, 'breath': 1491, 'hell': 1492, 'plan': 1493, 'pets': 1494, 'spinach': 1495, 'cant': 1496, '0': 1497, 'chef': 1498, \"tully's\": 1499, 'tomato': 1500, 'nose': 1501, 'g': 1502, 'jack': 1503, 'van': 1504, 'superior': 1505, 'affordable': 1506, 'concentrate': 1507, 'gmo': 1508, 'dented': 1509, 'became': 1510, 'basically': 1511, 'valley': 1512, 'counter': 1513, 'temperature': 1514, 'consistent': 1515, 'mark': 1516, 'haribo': 1517, 'dressing': 1518, 'fell': 1519, 'searched': 1520, 'show': 1521, 'staple': 1522, 'steep': 1523, 'shelves': 1524, 'standards': 1525, 'instructions': 1526, \"you'd\": 1527, 'response': 1528, 'law': 1529, 'celiac': 1530, 'spent': 1531, 'winter': 1532, 'stevia': 1533, 'living': 1534, 'growing': 1535, 'basis': 1536, 'ran': 1537, 'chewed': 1538, 'evening': 1539, 'obviously': 1540, 'increase': 1541, 'ridiculous': 1542, 'kick': 1543, 'man': 1544, 'spoiled': 1545, 'among': 1546, 'themselves': 1547, 'early': 1548, 'burnt': 1549, 'program': 1550, 'present': 1551, 'workout': 1552, 'positive': 1553, 'legs': 1554, 'german': 1555, 'foil': 1556, 'lab': 1557, 'gold': 1558, 'replace': 1559, 'bunch': 1560, 'example': 1561, 'overnight': 1562, 'car': 1563, 'tongue': 1564, 'against': 1565, 'toffee': 1566, 'floral': 1567, 'thrilled': 1568, 'offering': 1569, 'standard': 1570, 'bubble': 1571, 'eight': 1572, 'europe': 1573, 'runs': 1574, 'definately': 1575, 'addictive': 1576, 'rolled': 1577, 'msg': 1578, 'beyond': 1579, 'pockets': 1580, 'everywhere': 1581, 'drank': 1582, 'seriously': 1583, 'spray': 1584, 'tbsp': 1585, 'fun': 1586, 'suppose': 1587, 'sweeter': 1588, 'barely': 1589, 'icing': 1590, 'crap': 1591, 'fingers': 1592, 'degrees': 1593, 'u': 1594, 'searching': 1595, 'specifically': 1596, 'aware': 1597, 'messy': 1598, 'mid': 1599, 'pleasantly': 1600, 'major': 1601, 'muffins': 1602, 'gatorade': 1603, 'warmed': 1604, 'chinese': 1605, 'greasy': 1606, 'receive': 1607, 'pear': 1608, 'site': 1609, 'walmart': 1610, 'lavender': 1611, 'deep': 1612, 'swallow': 1613, 'satin': 1614, 'maltodextrin': 1615, 'yahushua': 1616, 'whisper': 1617, 'la': 1618, 'sells': 1619, 'knowing': 1620, 'strange': 1621, 'rose': 1622, 'peanuts': 1623, 'news': 1624, 'caribou': 1625, 'trail': 1626, 'checked': 1627, 'customers': 1628, 'absolute': 1629, 'salsa': 1630, 'sad': 1631, 'gummy': 1632, 'pb': 1633, 'interested': 1634, 'tear': 1635, 'tough': 1636, 'equal': 1637, 'correct': 1638, 'yesterday': 1639, 'outstanding': 1640, 'kit': 1641, 'whites': 1642, 'pinch': 1643, \"they'd\": 1644, 'anytime': 1645, 'fruits': 1646, 'tart': 1647, 'iron': 1648, 'mill': 1649, 'despite': 1650, 'sun': 1651, 'effort': 1652, 'began': 1653, 'helped': 1654, 'dessert': 1655, 'mac': 1656, 'press': 1657, 'costco': 1658, 'pickle': 1659, 'holiday': 1660, 'trust': 1661, 'truffle': 1662, \"dog's\": 1663, 'refused': 1664, 'buds': 1665, 'farms': 1666, 'italian': 1667, 'monthly': 1668, 'admit': 1669, 'zip': 1670, 'apparently': 1671, 'various': 1672, 'death': 1673, 'shakes': 1674, 'donut': 1675, 'syrups': 1676, 'damaged': 1677, 'basket': 1678, 'childhood': 1679, 'cholesterol': 1680, 'complex': 1681, 'lid': 1682, 'effects': 1683, 'animals': 1684, 'awhile': 1685, 'followed': 1686, \"weren't\": 1687, 'duck': 1688, 'edible': 1689, 'delish': 1690, 'asian': 1691, 'omega': 1692, 'hardly': 1693, 'veggie': 1694, 'forget': 1695, 'question': 1696, 'marley': 1697, 'stools': 1698, 'science': 1699, 'hey': 1700, 'puree': 1701, 'appetite': 1702, \"jean's\": 1703, 'american': 1704, 'active': 1705, 'salads': 1706, 'depending': 1707, 'improved': 1708, 'nor': 1709, 'exceptional': 1710, 'nutella': 1711, 'digestion': 1712, 'resealable': 1713, 'bed': 1714, 'mail': 1715, 'described': 1716, 'uses': 1717, 'quantity': 1718, 'refrigerator': 1719, 'knife': 1720, 'sooner': 1721, 'crumbs': 1722, 'amazingly': 1723, 'onions': 1724, 'attention': 1725, 'waiting': 1726, 'slowly': 1727, 'perhaps': 1728, 'fuel': 1729, 'boy': 1730, 'alot': 1731, 'neither': 1732, 'parmesan': 1733, 'loss': 1734, 'selection': 1735, 'cheddar': 1736, 'watchers': 1737, 'pain': 1738, 'vegetables': 1739, 'unit': 1740, 'splash': 1741, 'bill': 1742, 'nursing': 1743, 'buttery': 1744, 'charge': 1745, 'sprayed': 1746, 'human': 1747, 'applesauce': 1748, 'containers': 1749, 'mainly': 1750, 'slices': 1751, 'pretzels': 1752, 'click': 1753, 'tomatoes': 1754, 'earth': 1755, 'combo': 1756, 'unsweetened': 1757, 'sadly': 1758, 'core': 1759, 'modified': 1760, 'lipton': 1761, 'oily': 1762, 'annie': 1763, 'houtte': 1764, 'improve': 1765, 'jalapeno': 1766, 'lamb': 1767, 'liver': 1768, 'pomegranate': 1769, 'de': 1770, 'mio': 1771, 'tips': 1772, 'neighborhood': 1773, 'cranberries': 1774, 'coated': 1775, 'offers': 1776, 'misleading': 1777, 'toys': 1778, 'gummi': 1779, 'grill': 1780, 'particularly': 1781, 'curry': 1782, 'cacao': 1783, 'brownies': 1784, 'rarely': 1785, 'dad': 1786, 'p': 1787, 'stated': 1788, 'tin': 1789, 'satisfy': 1790, 'purpose': 1791, 'raisins': 1792, 'seafood': 1793, 'farm': 1794, 'arrive': 1795, 'grounds': 1796, 'pineapple': 1797, 'packing': 1798, 'lived': 1799, 'occasional': 1800, 'comparison': 1801, 'covered': 1802, 'general': 1803, 'cleaning': 1804, 'enjoys': 1805, 'terrier': 1806, 'bull': 1807, 'beer': 1808, 'tested': 1809, 'drops': 1810, 'threw': 1811, 'sound': 1812, 'mocha': 1813, 'lick': 1814, 'cardboard': 1815, 'levels': 1816, 'dill': 1817, 'adult': 1818, 'garden': 1819, 'allows': 1820, 'toddler': 1821, 'moving': 1822, 'shell': 1823, 'torani': 1824, 'carries': 1825, 'guilty': 1826, 'assumed': 1827, 'cracker': 1828, 'method': 1829, 'important': 1830, 'dr': 1831, 'supermarkets': 1832, 'noted': 1833, 'properly': 1834, 'fault': 1835, 'becomes': 1836, 'traveling': 1837, 'palate': 1838, 'wal': 1839, 'mart': 1840, 'harder': 1841, 'result': 1842, 'equally': 1843, 'w': 1844, 'frosting': 1845, 'shampoo': 1846, 'batches': 1847, 'sandwich': 1848, 'earlier': 1849, 'worse': 1850, 'losing': 1851, 'throat': 1852, 'coating': 1853, 'lucky': 1854, 'goods': 1855, 'soothing': 1856, 'carrots': 1857, 'harsh': 1858, 'factory': 1859, 'ends': 1860, 'sugary': 1861, 'darker': 1862, 'golden': 1863, 'teaspoon': 1864, 'unusual': 1865, 'potatoes': 1866, 'kitties': 1867, 'factor': 1868, 'disgusting': 1869, 'da': 1870, 'vinci': 1871, 'odor': 1872, 'occasionally': 1873, 'carefully': 1874, 'breaking': 1875, 'nestle': 1876, 'minerals': 1877, 'ramen': 1878, 'book': 1879, 'terrific': 1880, 'hassle': 1881, 'realized': 1882, 'tooth': 1883, 'alcohol': 1884, 'watered': 1885, 'mood': 1886, 'young': 1887, 'spring': 1888, 'lacking': 1889, 'mr': 1890, 'timely': 1891, 'plants': 1892, 'sturdy': 1893, 'candies': 1894, 'hoped': 1895, 'party': 1896, 'playing': 1897, 'safe': 1898, 'thinks': 1899, 'automatic': 1900, 'gf': 1901, 'rub': 1902, 'wondering': 1903, 'flax': 1904, 'studies': 1905, 'xylitol': 1906, 'rise': 1907, 'northern': 1908, 'blow': 1909, 'memories': 1910, 'biscotti': 1911, 'jet': 1912, 'lavazza': 1913, 'kona': 1914, 'slow': 1915, \"chun's\": 1916, 'selling': 1917, 'bones': 1918, 'surprisingly': 1919, 'oils': 1920, 'postum': 1921, 'pork': 1922, 'previously': 1923, 'mate': 1924, 'virgin': 1925, 'bran': 1926, 'crock': 1927, 'essiac': 1928, 'jittery': 1929, 'increased': 1930, 'companies': 1931, 'diamond': 1932, 'wolfgang': 1933, 'puck': 1934, \"nature's\": 1935, 'melt': 1936, '48': 1937, 'dips': 1938, 'crushed': 1939, 'rubber': 1940, 'talking': 1941, 'cashews': 1942, 'web': 1943, 'strongly': 1944, 'texas': 1945, 'balanced': 1946, 'opposed': 1947, 'crust': 1948, 'calcium': 1949, 'freshly': 1950, 'visit': 1951, 'brewed': 1952, 'certain': 1953, 'serious': 1954, 'dates': 1955, 'email': 1956, 'manner': 1957, 'sheet': 1958, 'cherries': 1959, 'disappointment': 1960, 'finicky': 1961, 'faster': 1962, 'heating': 1963, 'purse': 1964, 'digest': 1965, 'peppers': 1966, 'scalp': 1967, 'heavenly': 1968, 'gifts': 1969, 'aside': 1970, 'missing': 1971, 'earthy': 1972, 'carbonated': 1973, 'somehow': 1974, 'sprinkle': 1975, 'relatively': 1976, 'select': 1977, 'holding': 1978, 'downside': 1979, 'prepare': 1980, 'metal': 1981, 'filtered': 1982, 'smoothies': 1983, 'omg': 1984, 'setting': 1985, 'incredible': 1986, 'pump': 1987, 'saturated': 1988, 'fats': 1989, 'risk': 1990, 'wrapper': 1991, 'fishy': 1992, 'originally': 1993, 'gobble': 1994, 'essential': 1995, 'benefit': 1996, 'pantry': 1997, 'gravy': 1998, 'didnt': 1999, 'proven': 2000, 'success': 2001, 'vary': 2002, 'n': 2003, 'potassium': 2004, 'chose': 2005, 'promptly': 2006, 'hopefully': 2007, 'replacement': 2008, 'lose': 2009, 'refined': 2010, 'considered': 2011, 'superb': 2012, '60': 2013, 'handle': 2014, 'changes': 2015, 'expectations': 2016, 'ovaltine': 2017, 'cheerios': 2018, 'assume': 2019, 'giant': 2020, 'wont': 2021, 'ton': 2022, 'hearty': 2023, 'produces': 2024, 'toasted': 2025, 'carrying': 2026, 'paws': 2027, 'holy': 2028, 'significant': 2029, 'vendor': 2030, 'pearls': 2031, 'marinade': 2032, 'kinda': 2033, 'citrus': 2034, 'unable': 2035, 'thus': 2036, 'ten': 2037, 'toaster': 2038, 'loaf': 2039, 'freezer': 2040, 'im': 2041, 'consumed': 2042, 'created': 2043, 'lo': 2044, 'casserole': 2045, 'fudge': 2046, 'lack': 2047, 'replaced': 2048, 'tolerate': 2049, 'luck': 2050, 'previous': 2051, 'clearly': 2052, '2nd': 2053, 'post': 2054, 'eaters': 2055, 'kosher': 2056, 'write': 2057, 'y': 2058, 'blender': 2059, 'chunky': 2060, 'hemp': 2061, 'additional': 2062, 'step': 2063, 'dropped': 2064, 'beverages': 2065, 'delivers': 2066, 'drop': 2067, 'ph': 2068, 'key': 2069, 'somewhere': 2070, 'bother': 2071, 'eventually': 2072, 'material': 2073, 'protien': 2074, 'thai': 2075, 'acai': 2076, 'besides': 2077, 'writing': 2078, 'lock': 2079, 'happens': 2080, 'tablespoon': 2081, 'space': 2082, 'broke': 2083, 'starch': 2084, 'fennel': 2085, 'tabasco': 2086, 'buyer': 2087, 'miracle': 2088, 'calm': 2089, 'meats': 2090, 'chemicals': 2091, 'crumbled': 2092, 'eye': 2093, 'grapefruit': 2094, 'connoisseur': 2095, 'claimed': 2096, 'provided': 2097, 'story': 2098, 'mistake': 2099, 'powering': 2100, 'sampler': 2101, 'recall': 2102, 'jam': 2103, 'liking': 2104, 'loving': 2105, 'cal': 2106, 'parents': 2107, 'caused': 2108, 'discount': 2109, 'grainy': 2110, 'addicting': 2111, 'towards': 2112, 'tasteless': 2113, 'lasted': 2114, 'meh': 2115, 'dissolve': 2116, 'include': 2117, 'constantly': 2118, 'carried': 2119, 'colored': 2120, 'matcha': 2121, 'limited': 2122, 'directly': 2123, 'ship': 2124, 'threads': 2125, 'clover': 2126, 'grade': 2127, 'helping': 2128, 'symptoms': 2129, 'biscuit': 2130, 'waffles': 2131, 'cure': 2132, 'vomit': 2133, 'cranberry': 2134, 'mg': 2135, 'inch': 2136, 'kool': 2137, 'monsanto': 2138, 'blueberries': 2139, 'brine': 2140, 'yerba': 2141, 'shipments': 2142, 'usda': 2143, '22': 2144, 'indeed': 2145, 'caffeinated': 2146, 'winner': 2147, '140': 2148, 'sushi': 2149, 'covering': 2150, 'term': 2151, 'cheapest': 2152, 'shots': 2153, 'consuming': 2154, 'missed': 2155, '200': 2156, 'marketing': 2157, 'vine': 2158, 'pass': 2159, 'beagle': 2160, \"hasn't\": 2161, 'noodle': 2162, 'savings': 2163, 'grinding': 2164, 'rip': 2165, 'munching': 2166, 'starts': 2167, 'measure': 2168, 'thinner': 2169, 'raisin': 2170, 'weaker': 2171, 'flavour': 2172, \"bob's\": 2173, 'exception': 2174, 'fully': 2175, 'smoothness': 2176, 'chihuahua': 2177, 'guests': 2178, 'batter': 2179, 'hamburger': 2180, 'steaming': 2181, 'peaches': 2182, 'round': 2183, 'age': 2184, 'challenge': 2185, 'intense': 2186, 'promised': 2187, 'beginning': 2188, 'spending': 2189, '90': 2190, 'gym': 2191, 'ours': 2192, 'afford': 2193, 'board': 2194, 'formulas': 2195, 'recent': 2196, 'international': 2197, 'helpful': 2198, 'intake': 2199, 'sprinkled': 2200, 'includes': 2201, 'sausage': 2202, 'costs': 2203, 'agave': 2204, 'paleo': 2205, 'damn': 2206, 'adore': 2207, 'storing': 2208, 'drinkable': 2209, 'kiwi': 2210, 'options': 2211, 'friendly': 2212, 'begin': 2213, 'reasons': 2214, 'supplement': 2215, 'contacted': 2216, 'removed': 2217, 'supplements': 2218, 'topping': 2219, 'yuck': 2220, 'wrote': 2221, 'pepperoni': 2222, 'workers': 2223, 'computer': 2224, 'licking': 2225, 'appear': 2226, 'infused': 2227, 'pup': 2228, 'wasted': 2229, 'runny': 2230, 'greenie': 2231, 'effective': 2232, 'sunflower': 2233, 'poorly': 2234, 'anyhow': 2235, 'switching': 2236, 'tummy': 2237, 'blueberry': 2238, 'tang': 2239, 'thicker': 2240, 'create': 2241, 'diabetic': 2242, 'diabetes': 2243, 'devours': 2244, 'yogi': 2245, 'feels': 2246, 'strawberries': 2247, 'birds': 2248, 'sending': 2249, 'proof': 2250, 'gelatin': 2251, 'bowls': 2252, 'fits': 2253, 'authentic': 2254, 'quinoa': 2255, 'orders': 2256, 'dollar': 2257, 'european': 2258, 'familiar': 2259, 'smart': 2260, 'dream': 2261, 'dig': 2262, 'petco': 2263, 'claim': 2264, 'facts': 2265, 'june': 2266, 'bait': 2267, 'ages': 2268, 'sliced': 2269, 'sharp': 2270, 'conscious': 2271, 'entertaining': 2272, '220': 2273, 'screen': 2274, 'contents': 2275, 'acceptable': 2276, 'crack': 2277, 'naturally': 2278, 'needing': 2279, 'aromatic': 2280, 'expired': 2281, 'chopped': 2282, 'brother': 2283, 'california': 2284, 'funky': 2285, 'macadamia': 2286, 'mega': 2287, 'bank': 2288, 'forgot': 2289, 'co': 2290, \"earth's\": 2291, 'scale': 2292, 'joy': 2293, 'retail': 2294, 'play': 2295, 'crystal': 2296, 'penny': 2297, 'tv': 2298, 'shame': 2299, 'pressed': 2300, 'drive': 2301, 'stocked': 2302, 'explain': 2303, 'loaded': 2304, 'unhealthy': 2305, 'juices': 2306, 'further': 2307, 'arm': 2308, 'heck': 2309, 'reminds': 2310, 'gooey': 2311, 'closer': 2312, 'sense': 2313, 'electrolyte': 2314, 'bright': 2315, 'consumer': 2316, '17': 2317, 'jello': 2318, 'tight': 2319, 'beautifully': 2320, 'volume': 2321, 'steal': 2322, 'bone': 2323, 'truvia': 2324, 'production': 2325, \"emeril's\": 2326, 'smoothie': 2327, 'boiled': 2328, 'theater': 2329, '350': 2330, \"stash's\": 2331, 'canisters': 2332, 'chow': 2333, 'ordinary': 2334, 'vomiting': 2335, 'steak': 2336, 'plum': 2337, 'road': 2338, 'warned': 2339, 'popular': 2340, 'length': 2341, 'spot': 2342, 'sweetner': 2343, 'tad': 2344, 'balls': 2345, 'appreciate': 2346, 'jackets': 2347, 'disease': 2348, 'tablespoons': 2349, 'rooibos': 2350, 'south': 2351, 'pancake': 2352, 'herb': 2353, 'thumbs': 2354, 'severe': 2355, 'british': 2356, 'jelly': 2357, 'support': 2358, 'borsari': 2359, 'mmmm': 2360, 'trial': 2361, 'advertising': 2362, '2010': 2363, 'hfcs': 2364, 'sodastream': 2365, 'preference': 2366, 'sat': 2367, 'comparable': 2368, 'wash': 2369, 'peas': 2370, 'reseal': 2371, 'jolly': 2372, 'grinder': 2373, 'allow': 2374, 'cute': 2375, 'sizes': 2376, 'acquired': 2377, 'eyes': 2378, 'ya': 2379, '70': 2380, '000': 2381, 'ahead': 2382, 'barbecue': 2383, 'genetically': 2384, 'peppercorns': 2385, 'berries': 2386, 'mushy': 2387, 'closest': 2388, 'apples': 2389, 'settle': 2390, 'garbage': 2391, 'creme': 2392, 'rush': 2393, 'celery': 2394, 'boiling': 2395, 'muffin': 2396, 'mccormick': 2397, 'newman': 2398, 'nell': 2399, 'jesus': 2400, 'christ': 2401, 'messiah': 2402, 'eternal': 2403, 'tells': 2404, 'move': 2405, 'checking': 2406, 'roundup': 2407, 'decafe': 2408, 'walnuts': 2409, 'congee': 2410, 'bosco': 2411, 'provence': 2412, 'creates': 2413, 'alas': 2414, 'gonna': 2415, 'signed': 2416, 'turkish': 2417, \"tea's\": 2418, 'purposes': 2419, 'americano': 2420, 'pike': 2421, 'sticking': 2422, 'layer': 2423, 'numbers': 2424, 'sriracha': 2425, 'bear': 2426, 'stands': 2427, 'afterwards': 2428, 'occupied': 2429, 'rock': 2430, 'island': 2431, 'necessarily': 2432, 'allergy': 2433, 'aspect': 2434, 'currently': 2435, 'bonus': 2436, 'tub': 2437, 'intended': 2438, 'bears': 2439, 'tradition': 2440, 'zing': 2441, 'zevia': 2442, 'supplier': 2443, 'reduced': 2444, 'expense': 2445, 'hopes': 2446, 'purees': 2447, 'cravings': 2448, 'favor': 2449, 'relative': 2450, 'unbelievably': 2451, 'folks': 2452, 'soap': 2453, 'milder': 2454, 'versatile': 2455, 'inferior': 2456, 'burst': 2457, 'thats': 2458, 'appealing': 2459, 'honest': 2460, 'stew': 2461, 'stocks': 2462, 'san': 2463, 'decide': 2464, 'silky': 2465, 'lining': 2466, 'pace': 2467, 'members': 2468, 'gallon': 2469, 'rushed': 2470, 'oat': 2471, 'dozen': 2472, 'pocket': 2473, 'kibbles': 2474, 'split': 2475, 'licked': 2476, 'cupboard': 2477, 'consume': 2478, 'appearance': 2479, 'describes': 2480, 'brewers': 2481, 'bay': 2482, '2012': 2483, \"she'll\": 2484, 'cracked': 2485, 'stored': 2486, 'assortment': 2487, 'chocolaty': 2488, 'pleasure': 2489, 'silver': 2490, 'comparing': 2491, 'bet': 2492, 'hike': 2493, \"hadn't\": 2494, 'feet': 2495, 'advice': 2496, 'min': 2497, 'class': 2498, 'luckily': 2499, 'pate': 2500, 'reached': 2501, 'fragrance': 2502, 'pressure': 2503, 'lactose': 2504, 'table': 2505, 'restaurants': 2506, 'gerber': 2507, 'calls': 2508, 'wholesome': 2509, 'portable': 2510, 'gotta': 2511, 'shepherd': 2512, 'needless': 2513, 'tartar': 2514, 'machines': 2515, 'illy': 2516, 'chocolates': 2517, 'dislike': 2518, 'self': 2519, 'treatment': 2520, 'hormones': 2521, 'antibiotics': 2522, 'qualities': 2523, 'purina': 2524, 'hear': 2525, 'enzymes': 2526, 'devoured': 2527, 'emergency': 2528, 'pleasing': 2529, 'preparation': 2530, 'diagnosed': 2531, 'insulin': 2532, 'amounts': 2533, 'prefers': 2534, 'smile': 2535, 'train': 2536, 'stirred': 2537, 'typically': 2538, 'yeah': 2539, 'wanting': 2540, 'lately': 2541, \"here's\": 2542, 'combined': 2543, 'stress': 2544, 'useless': 2545, 'wasting': 2546, 'lift': 2547, 'printed': 2548, 'disclaimer': 2549, 'section': 2550, 'scratch': 2551, 'period': 2552, 'danish': 2553, 'tray': 2554, 'breads': 2555, 'buyers': 2556, 'stinky': 2557, 'roasts': 2558, 'catch': 2559, \"one's\": 2560, 'conditions': 2561, 'foul': 2562, 'club': 2563, 'advantage': 2564, 'dissolves': 2565, 'hesitate': 2566, 'camper': 2567, 'kashi': 2568, 'throughout': 2569, 'feast': 2570, '180': 2571, 'skeptical': 2572, 'practically': 2573, 'wide': 2574, 'budget': 2575, 'ups': 2576, 'spaghetti': 2577, 'lady': 2578, 'insert': 2579, 'message': 2580, 'receipt': 2581, 'planet': 2582, 'hated': 2583, 'sugars': 2584, 'generous': 2585, 'versions': 2586, 'distinctive': 2587, 'reminded': 2588, 'palatable': 2589, 'heated': 2590, 'carton': 2591, 'dipping': 2592, 'stable': 2593, 'brezza': 2594, 'game': 2595, 'finely': 2596, 'smoke': 2597, 'president': 2598, 'additives': 2599, 'nature': 2600, 'starter': 2601, 'fluffy': 2602, 'consumption': 2603, 'tangy': 2604, 'markets': 2605, 'listen': 2606, 'rapidly': 2607, 'fills': 2608, 'direct': 2609, 'depth': 2610, 'limit': 2611, 'gritty': 2612, 'built': 2613, 'tab': 2614, 'states': 2615, 'vegetarian': 2616, 'popchips': 2617, 'answer': 2618, 'anniversary': 2619, 'pups': 2620, 'title': 2621, 'beast': 2622, 'snacking': 2623, 'shiny': 2624, 'meaning': 2625, 'storage': 2626, 'minimum': 2627, '35': 2628, 'squeezing': 2629, 'feature': 2630, 'manufactured': 2631, 'handful': 2632, 'breed': 2633, 'duty': 2634, 'remains': 2635, 'buzz': 2636, 'proper': 2637, 'pregnancy': 2638, 'dental': 2639, 'dirty': 2640, 'king': 2641, 'knead': 2642, 'speed': 2643, 'pricing': 2644, 'definite': 2645, 'ultra': 2646, 'hospital': 2647, 'gobbled': 2648, 'fashion': 2649, 'queen': 2650, 'replacing': 2651, 'whey': 2652, 'crepes': 2653, 'severely': 2654, 'distributed': 2655, 'flours': 2656, 'nutmeg': 2657, 'commercial': 2658, 'goat': 2659, 'immune': 2660, 'cola': 2661, 'interest': 2662, 'reaching': 2663, 'holistic': 2664, 'points': 2665, 'nutiva': 2666, 'dietary': 2667, 'dehydrated': 2668, 'guy': 2669, 'distinct': 2670, 'doggie': 2671, 'girls': 2672, 'shrimp': 2673, 'contained': 2674, 'required': 2675, 'lemony': 2676, 'gentle': 2677, 'sodas': 2678, 'kirkland': 2679, 'r': 2680, '21': 2681, 'fizzy': 2682, 'sports': 2683, '80': 2684, 'shaking': 2685, 'crema': 2686, 'paul': 2687, 'camping': 2688, 'popper': 2689, 'plate': 2690, 'quarter': 2691, 'kernels': 2692, 'kill': 2693, 'jug': 2694, 'frozen': 2695, 'oak': 2696, 'reduce': 2697, 'learn': 2698, 'allowing': 2699, 'biggest': 2700, 'tins': 2701, 'salted': 2702, 'satisfies': 2703, 'bananas': 2704, 'zealand': 2705, 'quaker': 2706, 'quisp': 2707, 'pile': 2708, 'rancid': 2709, 'hydrated': 2710, 'thoroughly': 2711, 'false': 2712, 'convinced': 2713, 'turning': 2714, 'rounded': 2715, 'force': 2716, 'window': 2717, 'rach': 2718, 'ketchup': 2719, 'obvious': 2720, 'accidentally': 2721, 'passed': 2722, 'links': 2723, 'trips': 2724, 'september': 2725, 'shocked': 2726, 'wise': 2727, 'twinings': 2728, 'hubby': 2729, '95': 2730, 'soil': 2731, 'shows': 2732, 'designed': 2733, 'processing': 2734, 'learned': 2735, 'sichuan': 2736, 'questionable': 2737, 'richer': 2738, 'cornbread': 2739, 'nutrients': 2740, 'remaining': 2741, 'yorkie': 2742, 'citric': 2743, 'gingerbread': 2744, 'warning': 2745, \"confectioners'\": 2746, 'organics': 2747, 'measurements': 2748, 'bible': 2749, 'sin': 2750, 'sins': 2751, \"god's\": 2752, 'continues': 2753, 'hexane': 2754, 'ferals': 2755, 'collars': 2756, 'alfalfa': 2757, 'thankful': 2758, 'wraps': 2759, 'canidae': 2760, \"wilton's\": 2761, \"whisper's\": 2762, 'feta': 2763, 'kale': 2764, 'mexican': 2765, 'picking': 2766, 'finest': 2767, 'frequently': 2768, 'grove': 2769, 'square': 2770, 'recieved': 2771, 'republic': 2772, 'reserve': 2773, 'sawdust': 2774, 'darn': 2775, 'sink': 2776, 'marketed': 2777, 'protect': 2778, 'mmm': 2779, 'cheat': 2780, 'rabbit': 2781, 'easiest': 2782, 'fight': 2783, 'xmas': 2784, 'maca': 2785, 'shortbread': 2786, 'series': 2787, 'books': 2788, 'student': 2789, 'cd': 2790, 'lives': 2791, \"peet's\": 2792, 'approximately': 2793, 'kits': 2794, 'laugh': 2795, 'reach': 2796, 'handfuls': 2797, 'till': 2798, 'suits': 2799, 'nutrient': 2800, 'england': 2801, 'scone': 2802, 'drip': 2803, 'cast': 2804, 'barry': 2805, 'page': 2806, 'charged': 2807, 'failed': 2808, 'frame': 2809, 'goo': 2810, 'mailbox': 2811, 'adjust': 2812, 'sounded': 2813, 'cap': 2814, 'kraft': 2815, 'yours': 2816, 'wary': 2817, 'forgotten': 2818, 'city': 2819, 'rawhide': 2820, 'planting': 2821, 'sucks': 2822, 'joke': 2823, 'medication': 2824, 'accident': 2825, 'medications': 2826, 'hurt': 2827, 'possibly': 2828, 'recommendation': 2829, 'cheesecake': 2830, 'pistachios': 2831, 'rescue': 2832, \"they'll\": 2833, 'purple': 2834, 'costa': 2835, 'situation': 2836, 'toss': 2837, 'rosemary': 2838, 'initially': 2839, 'coupon': 2840, 'tastebuds': 2841, 'dirt': 2842, 'team': 2843, 'regardless': 2844, 'lentil': 2845, 'seasonings': 2846, 'airtight': 2847, 'repeat': 2848, 'curious': 2849, 'adults': 2850, 'extended': 2851, 'joe': 2852, 'head': 2853, 'jacket': 2854, 'wired': 2855, 'hydration': 2856, 'blame': 2857, 'coupons': 2858, 'soggy': 2859, 'soooo': 2860, 'grandson': 2861, 'purchases': 2862, 'watched': 2863, 'workouts': 2864, 'provides': 2865, 'concern': 2866, 'improvement': 2867, 'slice': 2868, '5oz': 2869, 'specialty': 2870, 'badly': 2871, 'ill': 2872, 'stain': 2873, 'pictured': 2874, 'failure': 2875, 'rough': 2876, 'frequent': 2877, 'trader': 2878, 'fragrant': 2879, 'bigelow': 2880, 'beach': 2881, 'tubs': 2882, 'bolder': 2883, 'solved': 2884, 'clue': 2885, 'brush': 2886, 'acidity': 2887, 'wonderfully': 2888, 'desert': 2889, 'warts': 2890, 'doctor': 2891, 'rid': 2892, 'adopted': 2893, 'written': 2894, 'raised': 2895, 'acids': 2896, 'muscles': 2897, 'tarts': 2898, 'preferred': 2899, 'crumble': 2900, 'sweets': 2901, 'girl': 2902, 'sake': 2903, 'fewer': 2904, 'betty': 2905, 'vets': 2906, 'transition': 2907, 'ps': 2908, 'clusters': 2909, 'ear': 2910, 'north': 2911, 'hawaii': 2912, 'held': 2913, 'discover': 2914, 'scented': 2915, 'stirring': 2916, 'merrick': 2917, 'holds': 2918, 'areas': 2919, 'colors': 2920, 'homecooked': 2921, 'strips': 2922, 'throws': 2923, 'sides': 2924, 'york': 2925, 'dents': 2926, 'expert': 2927, 'baker': 2928, 'caught': 2929, 'yard': 2930, 'flatbread': 2931, 'charges': 2932, 'tainted': 2933, 'dated': 2934, 'returning': 2935, 'ignored': 2936, 'stems': 2937, 'noticeable': 2938, 'refill': 2939, 'kittens': 2940, 'beneficial': 2941, 'researched': 2942, 'smelling': 2943, 'neighbors': 2944, 'building': 2945, 'allowed': 2946, 'fancy': 2947, 'drain': 2948, 'ive': 2949, 'stupid': 2950, 'dropping': 2951, 'loaves': 2952, 'hi': 2953, 'lead': 2954, \"baby's\": 2955, 'synthetic': 2956, 'tempted': 2957, 'herbox': 2958, 'bouillon': 2959, 'men': 2960, 'receiving': 2961, 'mauna': 2962, 'loa': 2963, 'lowest': 2964, 'hawaiian': 2965, 'counting': 2966, 'statement': 2967, 'clippings': 2968, 'deciding': 2969, 'ears': 2970, 'ring': 2971, 'ancestors': 2972, 'richness': 2973, 'pungent': 2974, 'notch': 2975, 'surgery': 2976, 'rye': 2977, 'located': 2978, 'merely': 2979, 'extracts': 2980, 'lips': 2981, 'shells': 2982, 'mellow': 2983, 'comments': 2984, 'willing': 2985, 'pushed': 2986, 'closed': 2987, 'tortilla': 2988, 'visiting': 2989, 'falling': 2990, 'moderation': 2991, 'pricy': 2992, 'ghost': 2993, 'lingers': 2994, 'worthy': 2995, 'locate': 2996, 'grabbed': 2997, 'sparkling': 2998, 'hammer': 2999, \"dave's\": 3000, 'smoky': 3001, 'tap': 3002, 'bringing': 3003, 'photos': 3004, 'busy': 3005, 'florida': 3006, 'pregnant': 3007, 'boys': 3008, 'tricky': 3009, 'strainer': 3010, 'transfer': 3011, 'male': 3012, 'mornings': 3013, '4th': 3014, 'compares': 3015, 'twist': 3016, 'shrink': 3017, 'fold': 3018, 'mexico': 3019, 'manage': 3020, 'doesnt': 3021, 'addict': 3022, 'brews': 3023, 'caution': 3024, 'teabags': 3025, 'jazz': 3026, 'labs': 3027, 'glycemic': 3028, 'macaroni': 3029, 'absorbs': 3030, 'scissors': 3031, 'converted': 3032, 'vending': 3033, 'dealing': 3034, 'coin': 3035, 'flaw': 3036, 'sunlight': 3037, 'attached': 3038, 'novelty': 3039, 'choke': 3040, 'character': 3041, 'yummmmm': 3042, 'dangerous': 3043, 'vita': 3044, 'coco': 3045, 'exact': 3046, 'hits': 3047, 'addiction': 3048, 'cooks': 3049, 'serves': 3050, 'fermented': 3051, 'labrador': 3052, 'burger': 3053, 'buns': 3054, 'ruby': 3055, 'anti': 3056, 'luv': 3057, 'whim': 3058, 'pine': 3059, 'precious': 3060, 'fav': 3061, 'syrupy': 3062, 'ny': 3063, 'cousin': 3064, 'automatically': 3065, 'stains': 3066, 'd': 3067, 'carbonation': 3068, 'named': 3069, 'yrs': 3070, 'shed': 3071, '28': 3072, 'minced': 3073, 'brownie': 3074, 'seasoned': 3075, 'allergen': 3076, 'behavior': 3077, 'strict': 3078, 'jumped': 3079, 'tast': 3080, 'shared': 3081, 'saver': 3082, 'suffering': 3083, 'pesticides': 3084, 'consistently': 3085, 'pecans': 3086, 'feline': 3087, 'containing': 3088, 'guacamole': 3089, 'endless': 3090, 'speak': 3091, 'liter': 3092, 'function': 3093, 'fluid': 3094, 'arrives': 3095, 'extend': 3096, 'spike': 3097, \"daughter's\": 3098, 'himself': 3099, 'fizz': 3100, 'constant': 3101, 'chocolatey': 3102, 'swanson': 3103, 'attractive': 3104, 'weather': 3105, 'regret': 3106, 'roughly': 3107, 'performance': 3108, 'dispenser': 3109, 'nozzle': 3110, 'occasion': 3111, 'standing': 3112, 'tons': 3113, 'miniature': 3114, '23': 3115, 'unpleasant': 3116, 'krave': 3117, 'instructed': 3118, 'tofu': 3119, 'exotic': 3120, 'munch': 3121, 'professional': 3122, \"'in\": 3123, \"blu'\": 3124, 'shops': 3125, 'spoonful': 3126, 'policy': 3127, 'college': 3128, 'appears': 3129, 'additive': 3130, 'fear': 3131, 'lemongrass': 3132, 'card': 3133, 'naked': 3134, '26': 3135, 'meant': 3136, 'net': 3137, 'excess': 3138, 'hydrogenated': 3139, 'ranch': 3140, 'cabinet': 3141, 'barley': 3142, 'cutting': 3143, 'swallowing': 3144, 'significantly': 3145, 'drawback': 3146, 'def': 3147, 'firm': 3148, 'ward': 3149, 'pizzas': 3150, 'bacteria': 3151, 'tip': 3152, 'mold': 3153, 'cramps': 3154, 'load': 3155, 'consumers': 3156, 'ruined': 3157, 'july': 3158, 'harvested': 3159, 'strain': 3160, 'chick': 3161, 'quicker': 3162, \"coffee's\": 3163, 'potential': 3164, '28oz': 3165, 'fence': 3166, 'impressive': 3167, 'track': 3168, 'ralston': 3169, 'playful': 3170, 'suggestions': 3171, 'unsatisfying': 3172, 'dunkin': 3173, 'assuming': 3174, 'f': 3175, 'quot': 3176, 'leaving': 3177, 'numerous': 3178, 'tries': 3179, 'solution': 3180, 'silk': 3181, 'portions': 3182, 'experiment': 3183, 'profile': 3184, 'coloring': 3185, 'trans': 3186, 'healthful': 3187, 'spectacular': 3188, 'moka': 3189, '8oz': 3190, 'perspective': 3191, 'learning': 3192, 'somebody': 3193, 'crab': 3194, 'thyroid': 3195, 'shaped': 3196, 'tops': 3197, 'bark': 3198, 'pond': 3199, 'overpriced': 3200, 'cross': 3201, 'oddly': 3202, 'hmmm': 3203, 'sucralose': 3204, 'laden': 3205, 'manna': 3206, 'waxed': 3207, 'mildly': 3208, 'complaining': 3209, '0g': 3210, 'maxwell': 3211, 'kcups': 3212, 'pastas': 3213, 'bakery': 3214, 'wing': 3215, 'tartness': 3216, 'hydrolyzed': 3217, 'clumps': 3218, 'kentucky': 3219, 'power': 3220, 'tropical': 3221, 'reordering': 3222, 'pictures': 3223, 'prior': 3224, 'walk': 3225, 'pepsi': 3226, 'heavily': 3227, 'crystals': 3228, 'honesty': 3229, 'sweeten': 3230, 'carbohydrates': 3231, 'farmers': 3232, 'crop': 3233, \"tazo's\": 3234, 'chewer': 3235, 'whip': 3236, 'mudslide': 3237, 'mxl': 3238, 'bleu': 3239, 'brookstone': 3240, 'herbes': 3241, 'fig': 3242, 'creatures': 3243, 'trance': 3244, 'manuka': 3245, \"dad's\": 3246, 'saucisson': 3247, 'smashed': 3248, 'india': 3249, 'tho': 3250, 'crave': 3251, 'exceptionally': 3252, 'caffe': 3253, 'verona': 3254, 'sumatran': 3255, 'jazzed': 3256, 'tiger': 3257, 'lake': 3258, 'bounty': 3259, 'australia': 3260, 'mayonaise': 3261, 'refrigerating': 3262, 'member': 3263, 'tall': 3264, 'copy': 3265, 'destroys': 3266, 'durable': 3267, 'happily': 3268, 'everlasting': 3269, 'stride': 3270, 'glaze': 3271, 'apt': 3272, 'nibs': 3273, 'season': 3274, 'navitas': 3275, 'guarantee': 3276, 'jams': 3277, 'amp': 3278, 'behind': 3279, 'grapes': 3280, 'slimy': 3281, 'catfood': 3282, 'overpower': 3283, 'pulled': 3284, '1st': 3285, \"father's\": 3286, 'graham': 3287, 'unfortunate': 3288, 'toppings': 3289, 'pastry': 3290, 'currants': 3291, 'desserts': 3292, 'guys': 3293, 'opportunity': 3294, 'degree': 3295, 'fans': 3296, 'smoother': 3297, 'unsatisfactory': 3298, 'ships': 3299, 'stating': 3300, 'emailed': 3301, 'prevent': 3302, 'useful': 3303, 'upside': 3304, 'mile': 3305, 'button': 3306, 'fussy': 3307, 'sniffed': 3308, 'basic': 3309, 'solids': 3310, 'traverse': 3311, \"we'd\": 3312, 'steam': 3313, 'dutch': 3314, 'absorb': 3315, 'grease': 3316, 'hesitant': 3317, 'melts': 3318, 'challenging': 3319, 'halfway': 3320, 'reflux': 3321, 'puts': 3322, 'sunbutter': 3323, 'cashew': 3324, 'justify': 3325, 'crisps': 3326, 'strangely': 3327, 'frustrated': 3328, 'involved': 3329, 'poultry': 3330, 'italy': 3331, 'rica': 3332, 'darned': 3333, 'cultured': 3334, 'lecithin': 3335, 'harmful': 3336, \"dogs'\": 3337, 'eagerly': 3338, 'towel': 3339, 'boxed': 3340, 'of12': 3341, 'slip': 3342, 'credit': 3343, 'fooled': 3344, 'nachos': 3345, 'francisco': 3346, 'rainforest': 3347, 'fascinating': 3348, 'filters': 3349, 'boxer': 3350, 'wakes': 3351, 'clock': 3352, 'brita': 3353, 'dab': 3354, 'moms': 3355, 'deals': 3356, 'straw': 3357, 'caloric': 3358, 'infant': 3359, 'shower': 3360, 'harvest': 3361, 'relatives': 3362, 'commented': 3363, 'minimize': 3364, 'muscle': 3365, 'distributor': 3366, 'expand': 3367, 'assam': 3368, 'whipped': 3369, 'moment': 3370, 'gain': 3371, 'causes': 3372, 'joes': 3373, 'sheep': 3374, 'rinsed': 3375, 'discomfort': 3376, 'wings': 3377, 'decision': 3378, 'finger': 3379, 'stage': 3380, 'intolerant': 3381, 'versus': 3382, 'dachshund': 3383, 'park': 3384, 'happytot': 3385, 'diaper': 3386, 'dose': 3387, 'happybaby': 3388, 'confusing': 3389, 'mistaken': 3390, 'tassimo': 3391, 'chronic': 3392, 'habit': 3393, 'chosen': 3394, 'croutons': 3395, 'sacrifice': 3396, 'gram': 3397, 'lay': 3398, 'relax': 3399, 'enjoyment': 3400, 'alike': 3401, 'sufficient': 3402, 'wart': 3403, 'placebo': 3404, 'cotton': 3405, 'soaked': 3406, 'remedies': 3407, 'constipated': 3408, 'gradually': 3409, 'constipation': 3410, 'amino': 3411, 'weigh': 3412, 'wondered': 3413, 'hidden': 3414, 'reviewed': 3415, '2008': 3416, 'overweight': 3417, 'intensive': 3418, 'shorter': 3419, 'fiend': 3420, 'auto': 3421, 'quote': 3422, 'moisture': 3423, 'steeping': 3424, 'gi': 3425, 'lollipop': 3426, 'watermelon': 3427, 'sets': 3428, 'sources': 3429, 'additionally': 3430, 'latest': 3431, 'labor': 3432, 'masala': 3433, 'boil': 3434, 'soaking': 3435, 'blending': 3436, 'coats': 3437, 'respect': 3438, 'immediate': 3439, 'poop': 3440, 'biobag': 3441, \"we'll\": 3442, '800': 3443, 'yuk': 3444, 'risks': 3445, 'stood': 3446, 'hence': 3447, 'doubled': 3448, 'lays': 3449, 'explains': 3450, 'names': 3451, 'father': 3452, 'trash': 3453, 'lazy': 3454, 'basil': 3455, 'rare': 3456, 'reasonably': 3457, 'mugi': 3458, 'broccoli': 3459, 'sprouts': 3460, 'dash': 3461, 'shown': 3462, 'image': 3463, \"company's\": 3464, 'profits': 3465, 'donated': 3466, 'mole': 3467, 'trap': 3468, 'lawn': 3469, 'dug': 3470, 'exclusively': 3471, \"sam's\": 3472, 'convert': 3473, 'fortunately': 3474, 'expires': 3475, 'sept': 3476, 'jasmine': 3477, 'blossoms': 3478, 'lt': 3479, 'bowels': 3480, 'kahlua': 3481, 'orville': 3482, 'poppycock': 3483, 'rated': 3484, 'cilantro': 3485, 'messing': 3486, 'retailers': 3487, 'overpowers': 3488, 'vacuum': 3489, 'avoiding': 3490, 'fork': 3491, 'shaker': 3492, 'enter': 3493, 'explode': 3494, 'rises': 3495, 'unknown': 3496, 'fuller': 3497, '02': 3498, 'pair': 3499, 'mein': 3500, 'raved': 3501, 'tolerable': 3502, 'grateful': 3503, 'brazil': 3504, 'properties': 3505, 'twin': 3506, 'warn': 3507, 'resist': 3508, '49': 3509, 'buck': 3510, 'remembered': 3511, 'companion': 3512, 'hulls': 3513, 'corrected': 3514, 'labeled': 3515, 'feedback': 3516, 'recalled': 3517, 'pronounced': 3518, 'babyfood': 3519, 'inedible': 3520, 'unbelievable': 3521, 'steps': 3522, 'stroopwafels': 3523, 'coworker': 3524, 'applications': 3525, 'margarita': 3526, 'scary': 3527, 'tastier': 3528, 'yep': 3529, 'reconstituted': 3530, 'dme': 3531, 'blades': 3532, 'noise': 3533, 'scrape': 3534, 'grated': 3535, 'derived': 3536, 'wu': 3537, 'airline': 3538, 'milka': 3539, 'comfortable': 3540, 'partial': 3541, 'mad': 3542, 'necessary': 3543, 'convincing': 3544, 'stuffer': 3545, 'mesh': 3546, 'user': 3547, 'sub': 3548, 'insanity': 3549, 'hotter': 3550, 'mints': 3551, 'creamers': 3552, 'juicy': 3553, 'eh': 3554, 'bpa': 3555, 'carbon': 3556, 'pellets': 3557, 'hide': 3558, '45': 3559, 'kidding': 3560, 'blech': 3561, 'shirt': 3562, 'glow': 3563, 'units': 3564, 'weekly': 3565, 'goya': 3566, 'harm': 3567, '19': 3568, 'aint': 3569, 'nobody': 3570, 'bella': 3571, 'hearts': 3572, 'minimal': 3573, 'draining': 3574, 'group': 3575, 'stumbled': 3576, 'cvs': 3577, 'hairball': 3578, 'flip': 3579, 'wedding': 3580, 'settings': 3581, 'bath': 3582, 'bare': 3583, 'recycling': 3584, 'tissue': 3585, \"timothy's\": 3586, 'reuse': 3587, 'conventional': 3588, 'cabinets': 3589, 'desired': 3590, 'overcooked': 3591, 'margarine': 3592, 'index': 3593, 'creation': 3594, 'neck': 3595, 'driving': 3596, 'sachet': 3597, 'tag': 3598, 'celestial': 3599, 'quarters': 3600, 'chex': 3601, 'tapatio': 3602, 'cottage': 3603, 'dare': 3604, 'yummmm': 3605, 'peri': 3606, 'noses': 3607, 'soak': 3608, 'clumping': 3609, \"people's\": 3610, 'bargain': 3611, 'video': 3612, 'span': 3613, '05': 3614, 'unsafe': 3615, 'reports': 3616, 'trident': 3617, 'increases': 3618, 'sencha': 3619, 'truth': 3620, 'hype': 3621, 'steeped': 3622, 'tim': 3623, 'woman': 3624, 'samples': 3625, 'proved': 3626, 'prompt': 3627, 'noticeably': 3628, 'fresher': 3629, 'oiled': 3630, \"davidson's\": 3631, 'replenish': 3632, 'ireland': 3633, 'bam': 3634, 'everytime': 3635, 'crumbly': 3636, 'praise': 3637, 'widely': 3638, 'shih': 3639, 'correctly': 3640, 'species': 3641, 'attracted': 3642, 'screw': 3643, 'push': 3644, 'eligible': 3645, 'choices': 3646, 'cloves': 3647, 'writes': 3648, \"numi's\": 3649, 'sourced': 3650, 'varied': 3651, 'anyways': 3652, 'kidney': 3653, 'following': 3654, 'multi': 3655, 'ripe': 3656, 'j': 3657, 'skip': 3658, 'clif': 3659, 'gagged': 3660, 'jarred': 3661, 'arrival': 3662, 'goldfish': 3663, 'match': 3664, 'inner': 3665, 'resulting': 3666, 'hundred': 3667, 'primal': 3668, 'developed': 3669, 'roulette': 3670, 'edge': 3671, 'minis': 3672, 'seven': 3673, 'pears': 3674, 'asking': 3675, 'countries': 3676, 'antioxidants': 3677, 'import': 3678, 'canada': 3679, 'safety': 3680, 'intriguing': 3681, 'sight': 3682, 'roof': 3683, \"world's\": 3684, 'breasts': 3685, 'contact': 3686, 'facility': 3687, 'snaps': 3688, 'wedges': 3689, 'mature': 3690, 'secure': 3691, 'quantities': 3692, 'wake': 3693, 'pepperidge': 3694, 'marvelous': 3695, 'milano': 3696, 'goodies': 3697, 'greek': 3698, 'extensive': 3699, 'disappeared': 3700, 'joints': 3701, 'poptarts': 3702, 'transaction': 3703, 'daughters': 3704, 'wins': 3705, 'reverse': 3706, 'conclusion': 3707, 'access': 3708, 'holder': 3709, 'yorkshire': 3710, \"annie's\": 3711, 'walking': 3712, 'wind': 3713, 'arrowhead': 3714, 'softer': 3715, '4oz': 3716, 'bedtime': 3717, 'headaches': 3718, 'foamy': 3719, 'glutten': 3720, 'heb': 3721, 'quit': 3722, 'azul': 3723, 'edit': 3724, '3rd': 3725, 'wasabi': 3726, \"son's\": 3727, 'upper': 3728, 'proves': 3729, 'healing': 3730, 'begins': 3731, 'minty': 3732, 'ratio': 3733, 'beauty': 3734, 'bathroom': 3735, 'gary': 3736, 'peterson': 3737, 'owned': 3738, 'stove': 3739, 'suggestion': 3740, 'awake': 3741, 'weruva': 3742, 'younger': 3743, 'hooray': 3744, 'experienced': 3745, 'anchovies': 3746, 'closely': 3747, \"kids'\": 3748, 'gamer': 3749, 'nearby': 3750, 'avail': 3751, 'cracks': 3752, 'metallic': 3753, 'initial': 3754, 'dance': 3755, 'memory': 3756, 'redskins': 3757, 'russel': 3758, 'werthers': 3759, 'deodorant': 3760, 'pale': 3761, 'frog': 3762, 'heads': 3763, 'wafer': 3764, 'mustard': 3765, 'benzoate': 3766, 'reactions': 3767, 'kitten': 3768, 'chilled': 3769, 'decadent': 3770, 'danger': 3771, 'flavorings': 3772, 'appreciated': 3773, 'parties': 3774, 'rolling': 3775, 'lean': 3776, 'zest': 3777, 'lifestyle': 3778, 'coffeemaker': 3779, \"let's\": 3780, 'partially': 3781, 'bahlsen': 3782, 'confused': 3783, 'percent': 3784, 'nuggets': 3785, 'vague': 3786, 'avocado': 3787, '37': 3788, 'wagon': 3789, 'japanese': 3790, 'dust': 3791, 'mediocre': 3792, 'peel': 3793, 'finds': 3794, 'shapes': 3795, 'suppliers': 3796, 'er': 3797, 'swollen': 3798, 'tendency': 3799, 'casein': 3800, 'pros': 3801, 'cons': 3802, 'magical': 3803, 'ocean': 3804, 'decreased': 3805, 'poodle': 3806, 'tobacco': 3807, 'oral': 3808, 'antler': 3809, 'ribs': 3810, 'sucking': 3811, 'wanna': 3812, 'spanish': 3813, 'flowers': 3814, 'canola': 3815, 'tsp': 3816, 'rebecca': 3817, \"'em\": 3818, 'belgian': 3819, 'kroger': 3820, 'frise': 3821, 'fur': 3822, 'sharing': 3823, \"nonni's\": 3824, 'parts': 3825, 'forgive': 3826, 'gawd': 3827, 'huy': 3828, 'fong': 3829, 'snake': 3830, 'prey': 3831, 'act': 3832, 'surface': 3833, 'par': 3834, 'tests': 3835, 'lunches': 3836, 'urge': 3837, 'baskets': 3838, 'costly': 3839, 'milos': 3840, 'pays': 3841, 'brings': 3842, 'cod': 3843, 'maintain': 3844, 'boquete': 3845, \"man's\": 3846, '27': 3847, 'butt': 3848, 'link': 3849, '36': 3850, 'aging': 3851, 'telling': 3852, 'teaspoons': 3853, 'ham': 3854, 'yay': 3855, 'stranger': 3856, 'code': 3857, 'increasing': 3858, 'prickly': 3859, 'opposite': 3860, 'gaba': 3861, 'cooker': 3862, 'reported': 3863, 'impulse': 3864, 'formulation': 3865, 'planted': 3866, 'mtr': 3867, 'combine': 3868, 'pulp': 3869, 'seals': 3870, 'planter': 3871, 'native': 3872, 'receives': 3873, 'suck': 3874, 'reduces': 3875, 'float': 3876, 'presentation': 3877, 'reliable': 3878, 'orijen': 3879, 'rewards': 3880, 'command': 3881, 'postage': 3882, 'view': 3883, \"'beany'\": 3884, 'gray': 3885, 'nowhere': 3886, 'linked': 3887, 'moderately': 3888, 'ceylon': 3889, 'goji': 3890, 'ha': 3891, 'exciting': 3892, 'dubble': 3893, 'humans': 3894, \"ol'\": 3895, 'mere': 3896, 'smallest': 3897, 'intact': 3898, 'cloying': 3899, 'pasty': 3900, 'fl': 3901, 'perfection': 3902, \"michael's\": 3903, 'soybean': 3904, 'unavailable': 3905, 'pig': 3906, 'ascorbic': 3907, 'bittersweet': 3908, 'invention': 3909, \"'too\": 3910, 'gevalia': 3911, 'primary': 3912, 'impact': 3913, 'chain': 3914, 'wafers': 3915, 'sales': 3916, '250': 3917, 'habits': 3918, 'hela': 3919, 'yolks': 3920, 'meringue': 3921, 'continued': 3922, 'quart': 3923, 'pg': 3924, 'lesser': 3925, 'medicinal': 3926, 'btw': 3927, 'bugs': 3928, 'frying': 3929, 'ideal': 3930, 'justice': 3931, 'weighs': 3932, 'apricot': 3933, 'blues': 3934, 'cayenne': 3935, 'fortunate': 3936, 'bourbon': 3937, '101': 3938, 'join': 3939, 'woody': 3940, 'info': 3941, 'horrified': 3942, 'rinds': 3943, 'savers': 3944, 'bergamot': 3945, 'canine': 3946, 'successful': 3947, 'win': 3948, 'brain': 3949, 'hamashiach': 3950, 'emails': 3951, 'believed': 3952, 'eternally': 3953, 'temporary': 3954, 'peace': 3955, 'mercy': 3956, 'january': 3957, 'stays': 3958, 'exercise': 3959, 'neighbor': 3960, 'honeyville': 3961, 'fillers': 3962, 'donuts': 3963, 'settled': 3964, 'producing': 3965, 'primarily': 3966, 'appetizing': 3967, \"cats'\": 3968, 'valdosta': 3969, 'fifteen': 3970, 'believing': 3971, 'planning': 3972, 'veg': 3973, 'spoil': 3974, 'physicians': 3975, 'tug': 3976, 'pediatrician': 3977, 'doorstep': 3978, 'toxic': 3979, 'expresso': 3980, 'herbicides': 3981, 'herbicide': 3982, 'tolerant': 3983, 'crops': 3984, 'livestock': 3985, 'contaminated': 3986, 'blocked': 3987, 'sans': 3988, 'motto': 3989, 'safer': 3990, 'caviar': 3991, 'drawer': 3992, 'biscoff': 3993, 'alternatives': 3994, 'chemo': 3995, 'pink': 3996, 'equivalent': 3997, 'michigan': 3998, 'micmate': 3999, 'instinct': 4000, 'bff': 4001, 'breastfeeding': 4002, 'qualifies': 4003, 'worrying': 4004, 'fondants': 4005, 'fondant': 4006, 'elite': 4007, 'hullless': 4008, 'hopper': 4009, 'slippery': 4010, 'doses': 4011, 'rimadyl': 4012, 'prescription': 4013, 'infection': 4014, 'salting': 4015, 'bee': 4016, 'balm': 4017, 'nom': 4018, 'kite': 4019, 'jimmies': 4020, 'forewarned': 4021, 'signature': 4022, 'souxsie': 4023, 'preferida': 4024, 'fajitas': 4025, 'un': 4026, 'butters': 4027, 'emeril': 4028, 'lodge': 4029, 'kopi': 4030, 'raya': 4031, 'grace': 4032, 'outer': 4033, 'varying': 4034, 'entirely': 4035, 'theo': 4036, 'changing': 4037, 'weightwatchers': 4038, 'compliment': 4039, 'medaglia': 4040, \"d'oro\": 4041, 'furry': 4042, 'managed': 4043, 'dent': 4044, 'ugly': 4045, 'mins': 4046, 'iams': 4047, 'distinguishes': 4048, 'ration': 4049, '5lb': 4050, 'ziploc': 4051, 'basamic': 4052, 'sooooo': 4053, 'kabobs': 4054, 'jalepeno': 4055, 'rabbits': 4056, 'proteins': 4057, 'potent': 4058, 'figuring': 4059, 'approaching': 4060, 'jellies': 4061, 'television': 4062, 'songs': 4063, 'intensity': 4064, 'whine': 4065, 'max': 4066, 'ct': 4067, 'blackcurrant': 4068, 'meet': 4069, 'riesling': 4070, 'vino': 4071, 'italiano': 4072, 'gals': 4073, 'chomp': 4074, 'sweat': 4075, 'painfully': 4076, 'spicier': 4077, 'hottest': 4078, 'supplies': 4079, 'fondly': 4080, 'keebler': 4081, 'listening': 4082, '120': 4083, 'breastmilk': 4084, 'cakesters': 4085, 'substitutes': 4086, 'hormel': 4087, 'elderly': 4088, 'genuine': 4089, 'bunn': 4090, 'thrill': 4091, 'film': 4092, 'blu': 4093, 'ray': 4094, 'music': 4095, 'evident': 4096, 'hardened': 4097, 'fullness': 4098, 'tied': 4099, 'directed': 4100, 'ws': 4101, 'recomment': 4102, 'helper': 4103, 'snob': 4104, 'walked': 4105, 'fortified': 4106, 'anticipated': 4107, 'offerings': 4108, 'aisle': 4109, 'accordingly': 4110, 'lemonade': 4111, 'aerogardens': 4112, 'northwest': 4113, 'seasons': 4114, 'maintenance': 4115, 'whiff': 4116, 'december': 4117, '26th': 4118, 'instantly': 4119, 'cooler': 4120, 'oldest': 4121, 'fly': 4122, 'miles': 4123, 'novel': 4124, 'jacked': 4125, '34': 4126, 'reorder': 4127, 'sudden': 4128, 'competitor': 4129, 'chx': 4130, 'intending': 4131, 'meantime': 4132, 'brittle': 4133, 'fail': 4134, 'allotment': 4135, 'lickety': 4136, 'stik': 4137, 'opinions': 4138, 'pulls': 4139, 'mineral': 4140, 'toward': 4141, 'kombucha': 4142, 'dang': 4143, \"where's\": 4144, 'caveman': 4145, '31': 4146, 'suffers': 4147, 'bruschetta': 4148, 'suit': 4149, 'cafe': 4150, 'burr': 4151, 'independent': 4152, 'eatin': 4153, 'bearing': 4154, 'colombian': 4155, 'compatible': 4156, 'alternate': 4157, 'suspect': 4158, 'environmentally': 4159, 'advertise': 4160, 'systems': 4161, 'vibe': 4162, 'photo': 4163, 'gently': 4164, 'foamed': 4165, 'mugs': 4166, 'singing': 4167, 'concoctions': 4168, 'warrior': 4169, '2006': 4170, '2007': 4171, 'peppered': 4172, 'beg': 4173, 'faucet': 4174, 'pitcher': 4175, 'defective': 4176, 'fiancee': 4177, 'grossed': 4178, 'avid': 4179, 'reacts': 4180, 'cubes': 4181, 'faves': 4182, 'tax': 4183, 'minor': 4184, 'spongy': 4185, 'clueless': 4186, 'niece': 4187, 'rely': 4188, 'midnight': 4189, 'indescribable': 4190, 'crows': 4191, 'fenugreek': 4192, 'l': 4193, 'arginine': 4194, 'deliciousness': 4195, 'marzipan': 4196, 'tannic': 4197, 'contribute': 4198, 'compromise': 4199, 'suffered': 4200, 'thoughts': 4201, 'conveyor': 4202, 'handling': 4203, 'casings': 4204, 'ruptured': 4205, 'unusable': 4206, 'whirl': 4207, 'mission': 4208, 'immensely': 4209, 'desk': 4210, 'preferably': 4211, 'nope': 4212, 'moreover': 4213, 'teething': 4214, 'dull': 4215, 'twins': 4216, 'squeezies': 4217, 'revolution': 4218, 'awsum': 4219, 'itching': 4220, 'scratching': 4221, 'caff': 4222, 'eacute': 4223, \"shouldn't\": 4224, 'backwards': 4225, 'crouton': 4226, 'dump': 4227, 'grate': 4228, 'fulfilling': 4229, 'loooove': 4230, 'reward': 4231, 'hounds': 4232, 'nights': 4233, 'falls': 4234, \"bragg's\": 4235, 'sediment': 4236, 'optimal': 4237, \"newmans'\": 4238, 'protective': 4239, 'tissues': 4240, 'charity': 4241, 'jackson': 4242, 'grandmother': 4243, 'washes': 4244, 'randomly': 4245, 'appropriate': 4246, 'sneak': 4247, 'cliff': 4248, 'hiking': 4249, 'puckering': 4250, \"joe's\": 4251, 'delightfully': 4252, 'peeled': 4253, 'approve': 4254, 'renal': 4255, 'prescribed': 4256, 'stabilized': 4257, 'beloved': 4258, 'comforting': 4259, 'biggie': 4260, 'magically': 4261, 'path': 4262, 'weekends': 4263, 'nonetheless': 4264, 'staleness': 4265, 'complained': 4266, 'recover': 4267, 'ingest': 4268, 'dumped': 4269, 'clump': 4270, 'readily': 4271, 'upsets': 4272, 'occasions': 4273, 'charms': 4274, 'dyes': 4275, 'puddings': 4276, 'kurig': 4277, 'coffe': 4278, 'clients': 4279, 'sustainable': 4280, 'expectation': 4281, 'below': 4282, 'official': 4283, 'beets': 4284, '110': 4285, 'advance': 4286, 'alright': 4287, '442': 4288, '0099': 4289, 'request': 4290, 'combining': 4291, 'chilling': 4292, 'associated': 4293, 'pouring': 4294, 'slid': 4295, 'frosted': 4296, 'wheats': 4297, 'pairing': 4298, 'swear': 4299, 'vodka': 4300, 'capers': 4301, 'rubschlager': 4302, 'stationed': 4303, 'aluminum': 4304, 'tour': 4305, 'trend': 4306, 'forced': 4307, 'bully': 4308, 'retrievers': 4309, 'authority': 4310, 'jolt': 4311, 'percentage': 4312, \"children's\": 4313, 'moles': 4314, 'mounds': 4315, 'patience': 4316, 'claritin': 4317, 'ziwi': 4318, 'peak': 4319, 'youngest': 4320, 'female': 4321, 'ricecake': 4322, 'unbearable': 4323, 'showed': 4324, 'involve': 4325, 'unroll': 4326, 'saltiness': 4327, 'rat': 4328, 'rats': 4329, 'nutri': 4330, 'bowel': 4331, 'relation': 4332, 'pecan': 4333, 'shippment': 4334, 'frother': 4335, 'leaked': 4336, 'teach': 4337, 'crowds': 4338, 'monday': 4339, 'walkers': 4340, 'pit': 4341, 'clever': 4342, 'cry': 4343, 'rural': 4344, 'washed': 4345, 'rubbery': 4346, 'random': 4347, 'cubbard': 4348, 'acts': 4349, 'temptation': 4350, 'drugs': 4351, 'hole': 4352, 'hunting': 4353, 'vanila': 4354, 'slept': 4355, 'experimenting': 4356, 'premade': 4357, 'aesthetic': 4358, 'pamela': 4359, 'gunpowder': 4360, 'catechins': 4361, 'restocked': 4362, 'testing': 4363, 'defeats': 4364, '06': 4365, 'resolved': 4366, 'hots': 4367, 'maruchan': 4368, 'twenty': 4369, 'cheesy': 4370, 'poofs': 4371, 'mozzarella': 4372, \"mother's\": 4373, 'periods': 4374, 'straining': 4375, 'achieve': 4376, 'reseals': 4377, 'dramatically': 4378, 'manufacturers': 4379, 'shocking': 4380, 'hyper': 4381, 'popping': 4382, '190': 4383, 'halves': 4384, 'uploaded': 4385, 'maui': 4386, 'promotion': 4387, 'principle': 4388, 'connoisseurs': 4389, 'cow': 4390, 'george': 4391, 'shut': 4392, \"o's\": 4393, 'shy': 4394, 'courage': 4395, '5g': 4396, \"she'd\": 4397, 'lima': 4398, 'citron': 4399, 'bc': 4400, 'sickeningly': 4401, 'disliked': 4402, 'inventory': 4403, 'molina': 4404, 'kicks': 4405, '65': 4406, 'mixer': 4407, 'voila': 4408, 'fire': 4409, 'apply': 4410, 'holland': 4411, 'outright': 4412, 'tonight': 4413, 'application': 4414, 'mocktails': 4415, 'doubling': 4416, 'alcoholic': 4417, 'mojito': 4418, 'fantastically': 4419, 'cuppa': 4420, 'requires': 4421, 'marked': 4422, 'ale': 4423, 'compliments': 4424, 'moroccan': 4425, \"'blend'\": 4426, 'action': 4427, 'belt': 4428, 'gear': 4429, 'positioned': 4430, 'dime': 4431, 'escape': 4432, 'cuisinart': 4433, 'smash': 4434, 'hempseed': 4435, 'ghee': 4436, 'consideration': 4437, 'larabar': 4438, 'national': 4439, 'suitcase': 4440, 'austria': 4441, 'kudos': 4442, 'satisfaction': 4443, 'choking': 4444, 'pringles': 4445, 'starters': 4446, 'korean': 4447, 'enhancers': 4448, 'sh': 4449, 'tobasco': 4450, 'fades': 4451, 'background': 4452, 'commonly': 4453, 'stocking': 4454, 'hero': 4455, 'preventing': 4456, 'vacation': 4457, 'rood': 4458, 'stages': 4459, 'louisiana': 4460, 'russian': 4461, 'sacrificing': 4462, 'seattle': 4463, 'rinse': 4464, 'boss': 4465, 'blank': 4466, 'colorful': 4467, 'smartwater': 4468, 'lined': 4469, 'poo': 4470, 'mashed': 4471, 'unrecognizable': 4472, 'finishing': 4473, 'marinate': 4474, 'concentration': 4475, 'ride': 4476, 'fiji': 4477, 'crumbles': 4478, 'refunded': 4479, 'fuss': 4480, 'related': 4481, 'partake': 4482, 'enthusiasm': 4483, 'phone': 4484, 'advertises': 4485, 'emits': 4486, 'lighting': 4487, 'soften': 4488, 'giveaway': 4489, 'bugging': 4490, 'gorditas': 4491, 'unacceptable': 4492, 'ethiopian': 4493, 'craved': 4494, 'mercury': 4495, 'valentines': 4496, 'comb': 4497, 'theme': 4498, 'delectable': 4499, 'pudding': 4500, 'reformulated': 4501, 'difficulty': 4502, 'tamper': 4503, 'microwaving': 4504, 'bin': 4505, 'holes': 4506, 'splatter': 4507, 'controlled': 4508, 'basmati': 4509, 'accomplished': 4510, 'remainder': 4511, \"he'd\": 4512, 'sunfood': 4513, 'latter': 4514, 'diets': 4515, 'clutter': 4516, 'malted': 4517, 'terms': 4518, 'frustration': 4519, 'wasteful': 4520, 'supporting': 4521, 'boosting': 4522, 'mamas': 4523, 'wouldnt': 4524, 'passionfruit': 4525, 'busted': 4526, 'breeder': 4527, 'buddies': 4528, 'judgement': 4529, 'refills': 4530, 'downfall': 4531, 'claiming': 4532, 'bialetti': 4533, 'b0034edls2': 4534, 'google': 4535, 'curbs': 4536, 'temp': 4537, 'kernel': 4538, 'flavacol': 4539, \"n'\": 4540, 'penne': 4541, 'lowfat': 4542, 'soymilk': 4543, 'paprika': 4544, 'placing': 4545, 'stamped': 4546, 'chamomile': 4547, 'rot': 4548, '6oz': 4549, 'marks': 4550, 'rips': 4551, 'bureau': 4552, 'clip': 4553, 'chute': 4554, 'doors': 4555, 'yellowish': 4556, 'exposed': 4557, 'fallen': 4558, 'manufactures': 4559, 'beaver': 4560, '300': 4561, 'talk': 4562, 'mode': 4563, 'boutique': 4564, '32': 4565, 'promise': 4566, 'creamier': 4567, 'biz': 4568, 'blackberry': 4569, 'sucess': 4570, 'vomited': 4571, 'mahogany': 4572, 'east': 4573, 'washington': 4574, 'gadget': 4575, 'petsmart': 4576, 'bil': 4577, 'jac': 4578, 'study': 4579, 'believer': 4580, 'recommending': 4581, 'heavier': 4582, 'enhance': 4583, 'potentially': 4584, 'melamine': 4585, 'showing': 4586, 'glucosamine': 4587, 'origin': 4588, 'reoccuring': 4589, 'report': 4590, 'spry': 4591, 'defect': 4592, 'putrid': 4593, 'birthing': 4594, 'rasberry': 4595, 'ease': 4596, 'marketplace': 4597, 'guava': 4598, 'brazilian': 4599, 'jims': 4600, 'arthur': 4601, 'hiatus': 4602, 'hook': 4603, 'develops': 4604, 'bubbles': 4605, 'wetter': 4606, 'stretches': 4607, 'drizzle': 4608, 'smarties': 4609, 'favors': 4610, 'determine': 4611, 'pyramid': 4612, 'labradoodle': 4613, 'sees': 4614, 'pedigree': 4615, 'preferable': 4616, 'frogs': 4617, 'pea': 4618, 'patiently': 4619, 'waits': 4620, 'nest': 4621, 'baits': 4622, 'queens': 4623, 'march': 4624, 'powders': 4625, 'steer': 4626, 'spiced': 4627, 'teasan': 4628, 'allspice': 4629, 'cardamom': 4630, 'african': 4631, 'highest': 4632, 'warmth': 4633, 'accustomed': 4634, 'indulgence': 4635, '8mos': 4636, 'immunity': 4637, 'poison': 4638, 'wiping': 4639, 'bundled': 4640, 'izze': 4641, 'sprite': 4642, 'causing': 4643, 'bypass': 4644, '2014': 4645, 'marionberry': 4646, 'warrant': 4647, 'glossy': 4648, 'raise': 4649, 'desperate': 4650, 'cornstarch': 4651, 'measured': 4652, 'receipes': 4653, 'jovial': 4654, 'spagetti': 4655, 'yummm': 4656, 'calming': 4657, 'nirvana': 4658, 'nectar': 4659, 'gods': 4660, 'vegas': 4661, 'appeal': 4662, 'anise': 4663, 'calling': 4664, 'caffine': 4665, 'occur': 4666, 'healthly': 4667, 'ropes': 4668, 'ought': 4669, 'manufacture': 4670, 'em': 4671, 'chicory': 4672, 'ca': 4673, 'hight': 4674, 'goodbye': 4675, 'passes': 4676, 'tract': 4677, 'wisdom': 4678, 'unsalted': 4679, 'yr': 4680, 'shedding': 4681, 'lowered': 4682, 'largest': 4683, 'gogo': 4684, 'squeez': 4685, 'massive': 4686, 'cadbury': 4687, 'fatty': 4688, 'digestible': 4689, 'fasting': 4690, 'whos': 4691, 'fixing': 4692, 'features': 4693, 'wandered': 4694, 'rack': 4695, 'restrictions': 4696, 'securely': 4697, 'freebirds': 4698, 'tomorrow': 4699, 'heeler': 4700, 'hip': 4701, 'hips': 4702, 'canines': 4703, 'glove': 4704, 'overflows': 4705, 'spreads': 4706, 'isle': 4707, 'elvis': 4708, 'retriever': 4709, 'coincidence': 4710, 'pad': 4711, 'asleep': 4712, 'bursting': 4713, 'occurring': 4714, 'concept': 4715, 'distilled': 4716, 'osmosis': 4717, 'chop': 4718, 'plums': 4719, 'bonkers': 4720, 'dinners': 4721, 'risotto': 4722, 'compelled': 4723, 'complexity': 4724, 'molded': 4725, 'overdone': 4726, 'gatoraid': 4727, 'headache': 4728, 'comfortably': 4729, 'geyser': 4730, 'southern': 4731, 'boring': 4732, 'stream': 4733, 'magnesium': 4734, 'zesty': 4735, 'unflavored': 4736, 'adorable': 4737, 'bouncing': 4738, 'rootbeer': 4739, 'mainstream': 4740, 'crappy': 4741, 'disclose': 4742, 'pastries': 4743, 'cares': 4744, 'ish': 4745, 'burned': 4746, 'edited': 4747, 'vegetal': 4748, 'contrary': 4749, 'midday': 4750, 'pity': 4751, 'charging': 4752, 'lame': 4753, 'domestic': 4754, 'unbeatable': 4755, 'spotted': 4756, 'relaxing': 4757, 'dept': 4758, 'carolina': 4759, \"libby's\": 4760, 'sirena': 4761, 'permit': 4762, 'ese': 4763, 'burgers': 4764, 'refreshingly': 4765, 'patients': 4766, 'patch': 4767, 'therapy': 4768, 'nourishing': 4769, 'moisturizing': 4770, 'princeton': 4771, 'vapor': 4772, 'sign': 4773, 'op': 4774, \"'tea'\": 4775, 'consists': 4776, 'grinds': 4777, 'bug': 4778, 'fishers': 4779, 'oyster': 4780, 'extractives': 4781, 'enhancer': 4782, 'overindulge': 4783, 'candied': 4784, 'divine': 4785, 'drawing': 4786, 'molto': 4787, 'bene': 4788, 'panzanella': 4789, 'midwife': 4790, 'stuffed': 4791, 'caper': 4792, 'complement': 4793, 'minus': 4794, 'breeze': 4795, 'west': 4796, 'coast': 4797, 'steaks': 4798, 'grandparents': 4799, 'ranchers': 4800, 'nerd': 4801, 'approach': 4802, 'munchy': 4803, 'nibble': 4804, 'crunchiness': 4805, 'insides': 4806, 'dude': 4807, 'hippie': 4808, 'hopeful': 4809, 'ruins': 4810, 'vendors': 4811, 'differently': 4812, 'crotch': 4813, 'attempted': 4814, 'oriental': 4815, 'med': 4816, 'rocky': 4817, 'unimpressed': 4818, 'chase': 4819, 'krups': 4820, 'bucks': 4821, 'macchiato': 4822, 'dollop': 4823, 'frothed': 4824, 'edta': 4825, 'metabisulphite': 4826, 'attacks': 4827, 'proceeds': 4828, 'roller': 4829, 'licks': 4830, 'finals': 4831, 'rescued': 4832, 'vital': 4833, 'huh': 4834, 'collection': 4835, 'schedule': 4836, 'pm': 4837, 'formal': 4838, 'tbs': 4839, 'viscous': 4840, 'yearning': 4841, 'makers': 4842, 'impression': 4843, 'examples': 4844, 'ahoy': 4845, 'sounding': 4846, 'fudgy': 4847, 'rick': 4848, 'mainland': 4849, 'specially': 4850, '750ml': 4851, 'unfrosted': 4852, 'botulism': 4853, 'compost': 4854, 'nylon': 4855, 'profit': 4856, 'loyal': 4857, 'hummus': 4858, 'cleaned': 4859, 'settling': 4860, 'stomachs': 4861, 'detailed': 4862, 'mat': 4863, 'preserve': 4864, 'desparate': 4865, 'terriers': 4866, 'folgers': 4867, 'nantucket': 4868, 'recyclable': 4869, 'fertilizers': 4870, 'relying': 4871, 'dingo': 4872, 'lunchboxes': 4873, 'equipment': 4874, 'stiff': 4875, 'hostess': 4876, 'laundry': 4877, 'enriched': 4878, 'shortening': 4879, 'titanium': 4880, 'dioxide': 4881, 'enfamil': 4882, 'pau': 4883, \"d'arco\": 4884, 'salts': 4885, 'illusion': 4886, 'x': 4887, 'inches': 4888, 'pero': 4889, 'verdict': 4890, 'desiring': 4891, 'oreo': 4892, 'oreos': 4893, 'codfish': 4894, 'diced': 4895, 'piping': 4896, 'foam': 4897, 'forgiving': 4898, '6x': 4899, 'blind': 4900, 'statins': 4901, 'ferrets': 4902, 'byzantine': 4903, 'cleanliness': 4904, 'deliver': 4905, 'pitted': 4906, 'ads': 4907, 'kefir': 4908, 'reply': 4909, 'discarded': 4910, 'malt': 4911, 'delicous': 4912, 'hummos': 4913, 'instance': 4914, 'limoncello': 4915, \"year's\": 4916, 'saltier': 4917, \"see's\": 4918, 'boneless': 4919, 'baste': 4920, \"adolph's\": 4921, 'cultivation': 4922, 'moldy': 4923, 'dilute': 4924, 'wholesale': 4925, 'decrease': 4926, 'leg': 4927, 'women': 4928, 'substance': 4929, 'washy': 4930, 'velvet': 4931, 'dissapointed': 4932, 'recourse': 4933, 'enthused': 4934, 'schnauzer': 4935, 'build': 4936, 'suspicious': 4937, 'explanation': 4938, 'doc': 4939, 'eleven': 4940, 'cigarettes': 4941, 'announce': 4942, 'nicotine': 4943, 'fixation': 4944, 'jaw': 4945, 'accidently': 4946, 'rib': 4947, 'truck': 4948, 'flower': 4949, 'strip': 4950, 'thousands': 4951, 'pkg': 4952, 'rapid': 4953, 'cycle': 4954, 'tastless': 4955, 'ether': 4956, 'worms': 4957, 'molding': 4958, 'debris': 4959, 'pallet': 4960, 'oct': 4961, '09': 4962, 'stacked': 4963, 'pointed': 4964, 'hairballs': 4965, 'pigs': 4966, 'bischon': 4967, 'kili': 4968, 'welcome': 4969, 'isnt': 4970, 'swedish': 4971, 'filler': 4972, 'died': 4973, 'meatballs': 4974, 'distance': 4975, 'fries': 4976, 'slick': 4977, 'approval': 4978, 'progress': 4979, \"who's\": 4980, 'wily': 4981, 'mayo': 4982, 'seat': 4983, 'patty': 4984, 'lightning': 4985, 'soul': 4986, 'psychedelic': 4987, 'tm': 4988, 'spectrum': 4989, 'flavorless': 4990, 'hates': 4991, 'friskies': 4992, \"cat's\": 4993, 'lu': 4994, 'scheduled': 4995, 'curiosity': 4996, 'teenager': 4997, 'thermos': 4998, 'ensure': 4999, 'vinny': 5000, 'grits': 5001, 'bored': 5002, 'olds': 5003, 'leftovers': 5004, 'energetic': 5005, 'bravo': 5006, 'plaque': 5007, 'final': 5008, 'compete': 5009, 'pacifica': 5010, 'trademark': 5011, 'informed': 5012, 'repeatedly': 5013, 'united': 5014, 'seas': 5015, 'taxes': 5016, \"milo's\": 5017, \"o'l\": 5018, \"'s\": 5019, 'java': 5020, 'musky': 5021, 'slim': 5022, 'cuts': 5023, 'builds': 5024, 'hesitated': 5025, 'decently': 5026, 'focused': 5027, 'relieve': 5028, 'mystery': 5029, 'panama': 5030, 'moon': 5031, 'gouging': 5032, 'availability': 5033, 'loses': 5034, 'blah': 5035, 'promotes': 5036, 'nerves': 5037, 'mound': 5038, 'tortillas': 5039, 'goal': 5040, 'million': 5041, 'cornflakes': 5042, 'cough': 5043, 'junkie': 5044, 'chaser': 5045, 'rounds': 5046, 'dipped': 5047, 'miracles': 5048, 'asks': 5049, 'occassion': 5050, 'bagels': 5051, 'croft': 5052, 'dinnah': 5053, 'canadian': 5054, 'straws': 5055, 'vitamix': 5056, 'caveat': 5057, 'reddish': 5058, 'assured': 5059, 'achieved': 5060, 'owners': 5061, 'devastated': 5062, 'butterfinger': 5063, 'chalky': 5064, 'atmosphere': 5065, 'wear': 5066, 'sonoma': 5067, 'relaxation': 5068, 'kansas': 5069, 'avocados': 5070, 'squares': 5071, 'rehydrate': 5072, 'clouds': 5073, 'particles': 5074, 'floating': 5075, 'visually': 5076, 'tears': 5077, 'excessive': 5078, 'elaborate': 5079, 'ethical': 5080, 'spiritually': 5081, 'obligated': 5082, 'pains': 5083, 'wilton': 5084, 'supercenter': 5085, '98': 5086, 'begging': 5087, 'wallet': 5088, 'pulao': 5089, 'authenticity': 5090, 'mousse': 5091, 'peppery': 5092, 'hardy': 5093, 'seasonal': 5094, 'licorette': 5095, \"lou's\": 5096, 'generic': 5097, 'camp': 5098, 'carpet': 5099, 'comforter': 5100, 'steamed': 5101, 'autumn': 5102, 'exaggerating': 5103, 'deserved': 5104, \"its'\": 5105, 'fog': 5106, 'buttermilk': 5107, 'illnesses': 5108, 'teapot': 5109, '16oz': 5110, 'blossom': 5111, 'pekoe': 5112, 'gorgeous': 5113, 'zotz': 5114, 'fizzies': 5115, 'someday': 5116, 'canin': 5117, 'zukes': 5118, 'taught': 5119, 'economy': 5120, 'questions': 5121, 'trained': 5122, 'senior': 5123, 'recommendations': 5124, 'minestrone': 5125, 'semi': 5126, 'unnerving': 5127, 'lessen': 5128, 'eggplant': 5129, 'montana': 5130, 'require': 5131, 'epic': 5132, 'misses': 5133, 'saltine': 5134, 'leksands': 5135, 'deceiving': 5136, 'crispbreads': 5137, 'lends': 5138, 'tarrazu': 5139, \"'organic'\": 5140, 'lists': 5141, 'tapioca': 5142, 'glycerin': 5143, 'purest': 5144, 'lollipops': 5145, 'tatste': 5146, 'squirted': 5147, 'critters': 5148, 'manager': 5149, 'reporting': 5150, 'experiences': 5151, 'moderate': 5152, 'energized': 5153, 'monster': 5154, 'cocaine': 5155, 'proprietary': 5156, 'drug': 5157, 'desire': 5158, 'decaff': 5159, 'tampanade': 5160, 'labeling': 5161, 'migraines': 5162, 'fragile': 5163, 'belts': 5164, 'spilling': 5165, 'ml': 5166, 'harden': 5167, 'darling': 5168, 'booda': 5169, 'deli': 5170, 'amazed': 5171, 'subscribed': 5172, 'spearmint': 5173, 'cutter': 5174, 'tremendously': 5175, 'kalua': 5176, 'crockpot': 5177, 'simplest': 5178, 'account': 5179, 'cultures': 5180, 'skim': 5181, 'traces': 5182, 'sardines': 5183, '72': 5184, 'beet': 5185, 'overs': 5186, 'pooch': 5187, 'flowery': 5188, 'chests': 5189, 'history': 5190, 'coke': 5191, 'rolos': 5192, \"rolo's\": 5193, 'v': 5194, 'gland': 5195, 'taurine': 5196, 'ibs': 5197, 'effectiveness': 5198, 'ripped': 5199, 'underneath': 5200, 'smoked': 5201, 'bellies': 5202, 'pretzel': 5203, 'medley': 5204, 'tricks': 5205, \"mccann's\": 5206, 'swiss': 5207, 'barilla': 5208, 'blk': 5209, 'wellington': 5210, 'filet': 5211, 'bees': 5212, 'knees': 5213, 'patties': 5214, 'tortes': 5215, 'hazelnuts': 5216, 'zimtsterne': 5217, 'preheat': 5218, 'parchment': 5219, 'peaks': 5220, 'undecided': 5221, 'chore': 5222, 'measuring': 5223, 'drizzled': 5224, 'underwhelmed': 5225, 'ravenous': 5226, 'pharmacy': 5227, 'chutney': 5228, 'circle': 5229, 'secret': 5230, 'chilies': 5231, 'whom': 5232, 'habanero': 5233, 'tide': 5234, 'researching': 5235, 'treatments': 5236, 'transitioning': 5237, '3oz': 5238, 'expenses': 5239, 'retain': 5240, 'fattening': 5241, 'steel': 5242, 'stuffing': 5243, 'france': 5244, 'holidays': 5245, 'kevin': 5246, 'mediterranean': 5247, 'girlfriend': 5248, 'newsletter': 5249, 'spam': 5250, 'concerns': 5251, 'formular': 5252, \"m's\": 5253, 'inconvenience': 5254, 'hundreds': 5255, 'advise': 5256, 'shredded': 5257, 'cabbage': 5258, 'crew': 5259, 'faith': 5260, 'cleaners': 5261, 'seek': 5262, 'bloody': 5263, 'marys': 5264, 'laid': 5265, 'partner': 5266, 'posting': 5267, 'watcher': 5268, 'vision': 5269, 'whose': 5270, 'handsome': 5271, 'affect': 5272, 'perilous': 5273, 'imported': 5274, 'continuing': 5275, 'whiskey': 5276, 'jimmy': 5277, 'barrel': 5278, 'opens': 5279, 'sherry': 5280, 'staying': 5281, 'cognac': 5282, 'masters': 5283, 'sheer': 5284, 'yumminess': 5285, 'hat': 5286, 'alittle': 5287, 'quirky': 5288, 'interestingly': 5289, 'decaffeinated': 5290, \"it'll\": 5291, 'peter': 5292, 'industry': 5293, 'hollandaise': 5294, 'mayacamas': 5295, 'disaster': 5296, 'separates': 5297, 'compensate': 5298, 'pgtips': 5299, 'preserved': 5300, 'homeade': 5301, 'network': 5302, 'auntie': 5303, 'swallowed': 5304, 'theirs': 5305, 'cupcakes': 5306, 'rave': 5307, 'lotsa': 5308, 'imitation': 5309, 'rum': 5310, \"well's\": 5311, 'engineered': 5312, 'unfermented': 5313, 'cuz': 5314, 'separation': 5315, 'accept': 5316, 'utter': 5317, 'jump': 5318, 'war': 5319, 'leading': 5320, 'satan': 5321, 'blessings': 5322, 'ultimate': 5323, 'infections': 5324, 'remained': 5325, 'tends': 5326, 'wherever': 5327, 'bird': 5328, 'coconutty': 5329, 'industrial': 5330, 'teabag': 5331, 'foot': 5332, 'yoga': 5333, 'feral': 5334, \"night's\": 5335, 'sticker': 5336, 'nightly': 5337, 'accuracy': 5338, 'truely': 5339, 'antioxidents': 5340, 'hull': 5341, \"dunkin'\": 5342, \"marley's\": 5343, 'impacts': 5344, 'spoke': 5345, 'chipsters': 5346, 'physical': 5347, 'stayed': 5348, 'adapt': 5349, 'thrive': 5350, 'creepy': 5351, 'gg': 5352, 'toxins': 5353, 'express': 5354, 'sensitivities': 5355, 'invisible': 5356, 'flap': 5357, 'reccomend': 5358, 'pepperment': 5359, 'hamilton': 5360, 'equals': 5361, 'fellow': 5362, 'ummm': 5363, 'liquor': 5364, 'mills': 5365, 'popularity': 5366, 'angry': 5367, 'groceries': 5368, 'croccantini': 5369, 'hills': 5370, 'oxidized': 5371, '41': 5372, '1888': 5373, 'cheeks': 5374, 'strictly': 5375, 'colds': 5376, \"lipton's\": 5377, 'dissolved': 5378, 'vigorous': 5379, 'sublime': 5380, 'matzo': 5381, '47': 5382, 'cozy': 5383, 'bills': 5384, 'kelp': 5385, 'seniors': 5386, 'feathers': 5387, 'utah': 5388, 'bounce': 5389, 'lap': 5390, 'punctured': 5391, 'develop': 5392, 'beau': 5393, 'squirt': 5394, 'guessing': 5395, 'prove': 5396, 'opt': 5397, 'volvic': 5398, '33': 5399, 'accessible': 5400, 'pms': 5401, 'nursery': 5402, 'bamboo': 5403, 'nonfat': 5404, 'weed': 5405, 'cows': 5406, 'potable': 5407, 'agriculture': 5408, 'ingesting': 5409, 'gastrointestinal': 5410, 'affected': 5411, 'michael': 5412, 'fda': 5413, 'employees': 5414, 'tube': 5415, 'pantene': 5416, 'itchy': 5417, 'suffer': 5418, 'stink': 5419, 'zen': 5420, 'socially': 5421, 'responsible': 5422, 'focus': 5423, 'vegetative': 5424, 'polenta': 5425, 'heal': 5426, '44': 5427, 'echo': 5428, 'grapefruity': 5429, 'granules': 5430, '78': 5431, 'reservation': 5432, 'optional': 5433, 'relieved': 5434, 'hortons': 5435, 'pickles': 5436, 'fails': 5437, 'kong': 5438, 'voice': 5439, 'alive': 5440, 'flight': 5441, 'airlines': 5442, 'accurate': 5443, 'grit': 5444, \"starbucks'\": 5445, 'laxative': 5446, 'indulge': 5447, 'wagging': 5448, 'potty': 5449, 'apartment': 5450, 'cooled': 5451, 'sniffy': 5452, 'evie': 5453, 'piper': 5454, 'guarding': 5455, 'tummies': 5456, 'gummies': 5457, 'duplicate': 5458, 'sheets': 5459, 'centers': 5460, 'breadmaker': 5461, 'baggie': 5462, 'rides': 5463, \"jack's\": 5464, 'practice': 5465, 'krispies': 5466, 'cheaply': 5467, 'spicey': 5468, \"pets'\": 5469, 'connective': 5470, 'stella': 5471, 'resemblance': 5472, 'amara': 5473, 'border': 5474, 'shelter': 5475, 'project': 5476, 'toothpicks': 5477, 'ib': 5478, 'sausages': 5479, 'puzzle': 5480, 'interactive': 5481, 'feeder': 5482, 'imply': 5483, 'fruitables': 5484, 'stimulate': 5485, 'superfood': 5486, 'oj': 5487, 'parsley': 5488, 'mothers': 5489, 'gumbo': 5490, 'sahale': 5491, 'matters': 5492, 'pita': 5493, 'delights': 5494, 'surely': 5495, 'keemun': 5496, 'darjeeling': 5497, 'extraordinary': 5498, 'taco': 5499, 'boot': 5500, 'adventures': 5501, 'fondx': 5502, 'marshmallow': 5503, 'pricier': 5504, 'puppies': 5505, 'lasting': 5506, 'admittedly': 5507, 'seltzer': 5508, 'szeged': 5509, 'oregon': 5510, 'pennsylvania': 5511, 'numbing': 5512, 'newtons': 5513, 'anxious': 5514, 'quarts': 5515, 'latch': 5516, 'bins': 5517, 'frankly': 5518, 'anybody': 5519, 'refuse': 5520, 'remedy': 5521, 'attack': 5522, 'celebrate': 5523, 'burdock': 5524, 'elm': 5525, 'rhubarb': 5526, 'flora': 5527, 'cancers': 5528, 'illness': 5529, 'horror': 5530, 'lymphoma': 5531, 'shadow': 5532, 'apartments': 5533, \"valentina's\": 5534, 'ashtray': 5535, 'ziwipeak': 5536, 'nightmare': 5537, 'greyish': 5538, 'skillet': 5539, 'battling': 5540, 'outrageous': 5541, 'collie': 5542, 'outs': 5543, 'tweaks': 5544, 'tchibo': 5545, 'woods': 5546, 'sock': 5547, 'processes': 5548, 'falafel': 5549, 'alpine': 5550, 'minologue': 5551, 'colours': 5552, 'al': 5553, 'pastes': 5554, 'kongs': 5555, 'fond': 5556, 'paramount': 5557, 'rustled': 5558, 'fresca': 5559, 'knee': 5560, 'walden': 5561, 'skinny': 5562, 'oster': 5563, '3883': 5564, '3874': 5565, 'increasingly': 5566, 'remembers': 5567, 'spit': 5568, \"o'\": 5569, 'art': 5570, 'breadshop': 5571, 'frijoles': 5572, 'homestyle': 5573, 'nda': 5574, 'tulsi': 5575, 'belize': 5576, \"'feel'\": 5577, 'regards': 5578, 'definitley': 5579, 'moneys': 5580, 'pastachio': 5581, 'satified': 5582, 'esp': 5583, \"esp's\": 5584, 'specializes': 5585, 'address': 5586, \"everyone's\": 5587, 'conference': 5588, 'reference': 5589, 'xtra': 5590, 'revv': 5591, 'mahogony': 5592, 'planters': 5593, 'rition': 5594, '9g': 5595, '35g': 5596, '160': 5597, '13g': 5598, 'consist': 5599, 'molten': 5600, 'interests': 5601, 'lying': 5602, 'mayonnaise': 5603, 'kewpie': 5604, 'remedied': 5605, 'honor': 5606, 'membership': 5607, 'drowning': 5608, 'spoonfuls': 5609, 'cubed': 5610, '3rds': 5611, 'pout': 5612, 'vigorously': 5613, 'medaglio': 5614, 'gristedes': 5615, 'histamine': 5616, 'counterparts': 5617, 'nap': 5618, 'wave': 5619, 'scrutiny': 5620, 'stats': 5621, 'flawed': 5622, 'tires': 5623, 'motivation': 5624, 'yaaay': 5625, \"tai's\": 5626, 'peanutty': 5627, 'um': 5628, \"gilligan's\": 5629, 'alley': 5630, 'metaphors': 5631, 'gummis': 5632, 'tupperware': 5633, 'albertsons': 5634, 'dieting': 5635, 'basmic': 5636, 'nibbling': 5637, 'binding': 5638, 'weekday': 5639, 'embellish': 5640, 'imagination': 5641, \"oberto's\": 5642, 'exchange': 5643, 'allegen': 5644, 'thumps': 5645, 'murray': 5646, 'aired': 5647, 'lp': 5648, 'thirty': 5649, 'teaching': 5650, 'preschoolers': 5651, '12oz': 5652, 'uppage': 5653, '01': 5654, 'lopped': 5655, 'thanksgiving': 5656, 'anyother': 5657, 'steeps': 5658, 'allso': 5659, 'b006k3t23c': 5660, 'partly': 5661, 'austin': 5662, 'turnaround': 5663, 'pinot': 5664, 'biano': 5665, 'rosso': 5666, 'magnifico': 5667, 'racked': 5668, 'gal': 5669, 'carboy': 5670, 'degas': 5671, 'faint': 5672, \"else's\": 5673, \"blair's\": 5674, 'brag': 5675, 'hotest': 5676, 'dd': 5677, \"there'd\": 5678, 'mocktail': 5679, 'bartending': 5680, 'shouldnt': 5681, 'crackery': 5682, 'twini': 5683, 'sta': 5684, 'laminate': 5685, 'carved': 5686, 'erewhon': 5687, 'teff': 5688, 'millet': 5689, 'hazlenuts': 5690, 'acted': 5691, 'powerhouse': 5692, 'micro': 5693, 'clam': 5694, 'chowder': 5695, 'ribes': 5696, 'rubrum': 5697, 'seedless': 5698, 'corinth': 5699, 'retired': 5700, 'dizzied': 5701, \"lot's\": 5702, 'tact': 5703, 'saltines': 5704, 'masks': 5705, 'beneath': 5706, 'theatre': 5707, 'dissatisfied': 5708, 'precautions': 5709, 'notification': 5710, 'enforcement': 5711, 'frills': 5712, 'sortof': 5713, 'artificially': 5714, 'sassparillo': 5715, 'freezes': 5716, 'offsets': 5717, 'rings': 5718, 'bundt': 5719, 'radius': 5720, 'safty': 5721, 'coloumbia': 5722, 'disapointed': 5723, 'columbia': 5724, 'velveeta': 5725, 'chemically': 5726, \"n'cheese\": 5727, 'catfoods': 5728, \"neighbor's\": 5729, \"friend's\": 5730, 'passionate': 5731, 'thicken': 5732, 'frivolous': 5733, 'expediting': 5734, 'usps': 5735, 'travels': 5736, 'sb': 5737, 'cuppajoe': 5738, 'nuker': 5739, 'narrow': 5740, 'clogs': 5741, 'enhanced': 5742, 'lump': 5743, 'meaty': 5744, 'lemons': 5745, 'crystalized': 5746, 'sweetned': 5747, 'lemonaide': 5748, 'inland': 5749, 'aerogarden': 5750, 'rubbed': 5751, 'apllied': 5752, 'dandruff': 5753, 'supple': 5754, 'marmalade': 5755, 'diego': 5756, 'boxing': 5757, 'norfolk': 5758, 'finishes': 5759, 'compartment': 5760, 'covers': 5761, 'declawed': 5762, 'missouri': 5763, 'lite': 5764, 'automobile': 5765, 'alkaline': 5766, 'meds': 5767, 'jugs': 5768, 'jamaca': 5769, 'islands': 5770, 'branston': 5771, 'pubs': 5772, 'accompanied': 5773, 'ed': 5774, 'giovanni': 5775, 'antihistimine': 5776, 'treenut': 5777, 'carrot': 5778, 'parades': 5779, 'treating': 5780, 'lables': 5781, 'peanutbutter': 5782, 'subutter': 5783, 'uk': 5784, 'rowntrees': 5785, 'occured': 5786, 'opportunities': 5787, '1200': 5788, 'airfare': 5789, 'substandard': 5790, 'export': 5791, '8000': 5792, 'frowned': 5793, 'exorbitant': 5794, 'trustworthy': 5795, 'aseptic': 5796, 'fostering': 5797, 'homes': 5798, '43': 5799, 'refusing': 5800, 'disposal': 5801, 'pretentious': 5802, 'mochas': 5803, 'skewed': 5804, 'bomb': 5805, 'excelete': 5806, 'subtracting': 5807, 'modifier': 5808, 'context': 5809, 'nutritionally': 5810, 'intent': 5811, 'hickory': 5812, 'carefull': 5813, 'dippable': 5814, 'scoopable': 5815, 'stuffable': 5816, 'discoveries': 5817, 'b004d693cs': 5818, 'seconded': 5819, 'b004d6044o': 5820, 'b004d67k78': 5821, 'pappadams': 5822, 'lentils': 5823, 'standout': 5824, 'altura': 5825, 'biodynamic': 5826, 'insecticide': 5827, 'sprays': 5828, \"pear's\": 5829, 'roped': 5830, 'floavord': 5831, 'standby': 5832, 'sibu': 5833, 'b004m5xugk': 5834, 'hugger': 5835, 'b007pa30xc': 5836, 'b005ro5m1q': 5837, 'mycup': 5838, 'ekobrew': 5839, 'forbidden': 5840, 'mycups': 5841, 'considers': 5842, 'divorce': 5843, 'licensing': 5844, 'fee': 5845, 'patent': 5846, 'expiring': 5847, 'suing': 5848, 'infringement': 5849, 'ocassionally': 5850, 'adopter': 5851, 'eco': 5852, 'hippiesh': 5853, 'smiling': 5854, 'rustic': 5855, 'commune': 5856, 'backdrop': 5857, 'heavyweight': 5858, 'frazier': 5859, 'spaceship': 5860, 'beating': 5861, 'shouting': 5862, 'drill': 5863, 'instructor': 5864, 'newborn': 5865, 'praises': 5866, 'precisely': 5867, 'ymmv': 5868, 'b005wly4l8': 5869, 'reeses': 5870, 'differ': 5871, 'falavoring': 5872, 'afordable': 5873, 'improperly': 5874, '175': 5875, \"diabetic's\": 5876, 'inhaled': 5877, 'begged': 5878, 'portfolio': 5879, 'additions': 5880, 'sinful': 5881, 'spins': 5882, 'flings': 5883, 'palette': 5884, 'oatmleal': 5885, 'occassionally': 5886, 'melba': 5887, 'london': 5888, 'regretfully': 5889, 'heyyyy': 5890, 'tastey': 5891, 'recurring': 5892, 'correction': 5893, '76': 5894, '03': 5895, 'notified': 5896, 'decisions': 5897, 'capitalize': 5898, 'slivers': 5899, 'pickiness': 5900, 'renewed': 5901, 'vigor': 5902, 'eliminating': 5903, 'explaining': 5904, \"nights'\": 5905, 'steady': 5906, 'rage': 5907, 'noxipro': 5908, '1mr': 5909, \"pharm's\": 5910, 'assault': 5911, 'niederegger': 5912, 'pezza': 5913, 'alexian': 5914, 'pkgs': 5915, '7oz': 5916, 'departments': 5917, '3x': 5918, 'overbrew': 5919, 'flare': 5920, 'adda': 5921, 'score': 5922, 'bulbs': 5923, 'transitions': 5924, 'palletizer': 5925, 'forklift': 5926, 'intermittent': 5927, 'horrendous': 5928, 'continuously': 5929, 'satisied': 5930, 'hearing': 5931, 'saucy': 5932, 'replicate': 5933, 'centinela': 5934, 'intoxicate': 5935, 'intrigue': 5936, 'quest': 5937, \"fromm's\": 5938, 'beefy': 5939, 'glance': 5940, 'nutter': 5941, 'folds': 5942, 'nuff': 5943, 'calaries': 5944, 'chorizo': 5945, 'shoes': 5946, 'cords': 5947, 'hasnt': 5948, \"stuff's\": 5949, 'confidence': 5950, 'surprising': 5951, 'juggle': 5952, \"3's\": 5953, 'graduate': 5954, 'graduates': 5955, 'superfoods': 5956, 'tots': 5957, 'supergrain': 5958, 'kiddo': 5959, '3s': 5960, 'mashups': 5961, 'combos': 5962, 'plethora': 5963, 'happymom': 5964, 'intolerance': 5965, 'wegmans': 5966, 'aldente': 5967, 'chopmeat': 5968, 'belching': 5969, 'booster': 5970, 'cbtl': 5971, 'incorrectly': 5972, 'wd': 5973, 'chihuahhua': 5974, 'buildup': 5975, 'molars': 5976, 'pp': 5977, 'cheetos': 5978, 'forkful': 5979, 'sprouted': 5980, 'quiet': 5981, 'terribly': 5982, 'transforms': 5983, 'hugely': 5984, 'starchy': 5985, \"'gel'\": 5986, 'pomeranians': 5987, 'dominant': 5988, 'shitaki': 5989, 'bragg': 5990, 'bandaid': 5991, 'freezing': 5992, 'astringent': 5993, 'breakouts': 5994, 'vinegars': 5995, 'floors': 5996, 'mucous': 5997, 'unformed': 5998, 'stool': 5999, 'roiling': 6000, 'growth': 6001, 'antibodies': 6002, 'structural': 6003, 'anad': 6004, 'evidence': 6005, 'royalties': 6006, 'pomengrante': 6007, 'steve': 6008, 'boon': 6009, 'applesuace': 6010, 'champion': 6011, 'regulate': 6012, 'wipes': 6013, 'mindy': 6014, 'devouring': 6015, 'poetic': 6016, 'values': 6017, 'hid': 6018, 'succeeded': 6019, 'dravis': 6020, 'millennium': 6021, 'babe': 6022, 'prophecy': 6023, 'devastating': 6024, 'administer': 6025, 'hypo': 6026, 'glycemia': 6027, 'enormous': 6028, 'balancing': 6029, 'miserable': 6030, 'poster': 6031, 'cautions': 6032, 'narrowing': 6033, 'field': 6034, 'nervous': 6035, 'painless': 6036, 'permanently': 6037, 'justified': 6038, \"maximillian's\": 6039, 'sewer': 6040, 'theyre': 6041, '150lb': 6042, 'dane': 6043, 'rules': 6044, 'sinus': 6045, 'sore': 6046, 'throats': 6047, 'sane': 6048, \"throat's\": 6049, 'leprechaun': 6050, \"granola's\": 6051, \"'red\": 6052, \"berries'\": 6053, 'won': 6054, 'detonated': 6055, 'grossness': 6056, \"eatin'\": 6057, \"waggin'\": 6058, 'subtly': 6059, 'explored': 6060, 'shore': 6061, 'oahu': 6062, 'bizarre': 6063, 'rosehip': 6064, 'oversized': 6065, '3mins': 6066, 'tones': 6067, 'luggage': 6068, 'dye': 6069, 'recreate': 6070, \"grandmother's\": 6071, 'hubbys': 6072, 'recomend': 6073, 'neat': 6074, 'permanent': 6075, 'handbag': 6076, 'accessory': 6077, 'blessing': 6078, 'loathe': 6079, 'conscience': 6080, 'foodie': 6081, 'orleans': 6082, 'cuisines': 6083, 'cookbook': 6084, 'tikka': 6085, 'fab': 6086, 'simmer': 6087, 'swirl': 6088, 'naan': 6089, 'mushrooms': 6090, 'chutneys': 6091, 'olewo': 6092, 'foster': 6093, 'pigment': 6094, 'perm': 6095, \"foster's\": 6096, 'shabby': 6097, 'unreasonable': 6098, \"'stale\": 6099, \"taste'\": 6100, 'hardness': 6101, 'stroke': 6102, 'genius': 6103, 'choppers': 6104, 'upstate': 6105, 'gifted': 6106, 'wiped': 6107, 'lace': 6108, 'amiss': 6109, \"poppie's\": 6110, 'absotively': 6111, 'posilutely': 6112, 'janet': 6113, 'wardrobe': 6114, 'cheep': 6115, 'rejects': 6116, 'interior': 6117, 'exterior': 6118, 'signing': 6119, 'severing': 6120, 'juts': 6121, 'hankering': 6122, \"herr's\": 6123, \"trader's\": 6124, 'descibed': 6125, \"'large'\": 6126, 'crammed': 6127, 'wonderfull': 6128, 'tuscan': 6129, 'thule': 6130, 'territorial': 6131, 'greenland': 6132, 'americans': 6133, 'danes': 6134, 'hall': 6135, 'infrastructure': 6136, 'intervening': 6137, 'papillon': 6138, 'heartiest': 6139, 'sorts': 6140, 'edensoy': 6141, 'shiro': 6142, 'hacho': 6143, 'odense': 6144, 'soccer': 6145, 'programs': 6146, 'embed': 6147, 'device': 6148, '85': 6149, 'shattered': 6150, 'unstable': 6151, 'edith': 6152, 'streubert': 6153, 'steroid': 6154, 'specialist': 6155, 'skipped': 6156, 'destroy': 6157, 'batman': 6158, 'fanatics': 6159, 'anomaly': 6160, '12th': 6161, 'inappropriate': 6162, 'overseas': 6163, 'truism': 6164, 'jeans': 6165, '10c': 6166, 'safeway': 6167, 'traps': 6168, 'groomer': 6169, 'enzyme': 6170, 'movements': 6171, 'sue': 6172, \"redenbacher's\": 6173, 'origional': 6174, 'respected': 6175, \"person's\": 6176, 'components': 6177, 'enhancements': 6178, 'scallion': 6179, 'shavings': 6180, 'battery': 6181, 'operated': 6182, 'pepperminty': 6183, 'aminos': 6184, 'blocks': 6185, 'dieters': 6186, 'resale': 6187, 'credited': 6188, 'cascadian': 6189, 'friday': 6190, 'nonsuch': 6191, 'ona': 6192, 'toffees': 6193, 'granddogs': 6194, 'ahi': 6195, 'moreish': 6196, 'overspiced': 6197, 'accompaniment': 6198, 'aeropress': 6199, 'recognize': 6200, 'loafs': 6201, 'jfc': 6202, 'skirataki': 6203, 'shiratake': 6204, 'collandar': 6205, 'noddles': 6206, 'marinara': 6207, 'vons': 6208, 'parmesian': 6209, 'romano': 6210, 'hisses': 6211, 'jumps': 6212, 'swatting': 6213, 'crying': 6214, 'insane': 6215, 'regulation': 6216, 'regarding': 6217, 'pouts': 6218, 'narrowed': 6219, 'peggy': 6220, 'crean': 6221, 'nestum': 6222, 'constituency': 6223, 'diagnosis': 6224, 'diseas': 6225, 'storebought': 6226, 'legumes': 6227, 'primited': 6228, 'breadman': 6229, 'springy': 6230, 'sorghum': 6231, 'successes': 6232, 'appearing': 6233, 'bow': 6234, 'japser': 6235, 'uncle': 6236, \"lee's\": 6237, 'richest': 6238, 'vit': 6239, 'healthiest': 6240, 'preferring': 6241, 'truer': 6242, 'minimally': 6243, 'satisfactory': 6244, 'gooing': 6245, 'abomination': 6246, 'underwhelming': 6247, 'preflavored': 6248, 'potpourri': 6249, 'families': 6250, '1883385148': 6251, 'lowcost': 6252, 'mock': 6253, 'stroganoff': 6254, 'offset': 6255, 'usable': 6256, 'squash': 6257, \"would've\": 6258, 'faults': 6259, 'akin': 6260, 'lysol': 6261, 'disinfectant': 6262, 'obtain': 6263, 'pesticide': 6264, 'occuring': 6265, 'goldenflax': 6266, 'woodlike': 6267, 'packagaing': 6268, 'anyday': 6269, 'shock': 6270, 'sleepless': 6271, 'alert': 6272, 'dusting': 6273, 'realizing': 6274, 'gallery': 6275, 'vertically': 6276, \"whaler's\": 6277, 'b005rsyxx0': 6278, \"mimo's\": 6279, 'treasures': 6280, 'capsules': 6281, 'capsule': 6282, 'jean': 6283, 'diedrich': 6284, 'shorted': 6285, 'bang': 6286, 'advent': 6287, 'agrave': 6288, 'expenditure': 6289, 'awfully': 6290, 'bustelo': 6291, 'juan': 6292, 'valdez': 6293, 'onslow': 6294, 'wound': 6295, 'aspca': 6296, 'flavourful': 6297, 'trimmings': 6298, 'kuerig': 6299, 'sponsor': 6300, 'prairie': 6301, 'shafts': 6302, 'commitment': 6303, 'norwegian': 6304, 'bachelor': 6305, 'farmer': 6306, 'gosh': 6307, 'sakes': 6308, 'whined': 6309, 'heritage': 6310, 'expeditious': 6311, 'sinfully': 6312, 'disappoint': 6313, 'seizures': 6314, 'describing': 6315, 'reeeally': 6316, 'unpalatable': 6317, \"who've\": 6318, 'grocer': 6319, 'pina': 6320, 'tropicale': 6321, 'pomberry': 6322, 'quercetin': 6323, 'ginseng': 6324, 'gingko': 6325, 'biloba': 6326, 'indicated': 6327, 'vanillin': 6328, 'recovering': 6329, 'reminiscent': 6330, 'fabulously': 6331, 'b000wq714u': 6332, 'minimalists': 6333, 'kitchenaid': 6334, 'weekend': 6335, 'tamales': 6336, 'gladly': 6337, 'ti': 6338, 'ache': 6339, 'suited': 6340, 'soapy': 6341, 'purchasers': 6342, 'appletini': 6343, 'buzzing': 6344, 'microwaved': 6345, 'beefaroni': 6346, 'backpacking': 6347, \"smooth'ness\": 6348, 'resturant': 6349, 'kinnikinnick': 6350, 'angel': 6351, 'gasp': 6352, \"crackin'\": 6353, 'revolting': 6354, 'signals': 6355, 'hme': 6356, 'flameout': 6357, 'fermenter': 6358, 'hopped': 6359, 'centennial': 6360, 'willamette': 6361, 'pleasently': 6362, 'maine': 6363, 'coon': 6364, 'stepping': 6365, 'dressings': 6366, 'position': 6367, 'whining': 6368, 'motor': 6369, 'returns': 6370, 'screws': 6371, 'slipped': 6372, 'transit': 6373, 'processors': 6374, \"'open\": 6375, \"again'\": 6376, 'cycles': 6377, \"'grind'\": 6378, 'alll': 6379, 'caesar': 6380, 'ooo': 6381, 'credibility': 6382, 'booklet': 6383, 'assures': 6384, 'temperatures': 6385, 'petrol': 6386, 'snickers': 6387, 'pants': 6388, 'candybars': 6389, 'humble': 6390, 'yi': 6391, 'strings': 6392, 'leak': 6393, 'fragments': 6394, 'weakest': 6395, \"airlines'\": 6396, 'subsequently': 6397, 'favoret': 6398, 'nussini': 6399, 'nussinis': 6400, 'pischinger': 6401, 'mandeltorte': 6402, 'kamut': 6403, 'shouldimprove': 6404, 'liquids': 6405, 'pefect': 6406, 'worries': 6407, 'subscibe': 6408, 'gerbr434': 6409, 'exp': 6410, '84': 6411, 'tsating': 6412, 'descent': 6413, '357': 6414, 'overbearing': 6415, 'bhut': 6416, 'jolokia': 6417, 'franks': 6418, 'devil': 6419, 'diabetics': 6420, 'walgreens': 6421, 'suspects': 6422, 'frost': 6423, 'apfelschorle': 6424, 'sodes': 6425, 'lukewarm': 6426, 'promises': 6427, 'modest': 6428, 'konriko': 6429, 'iberia': 6430, 'carafe': 6431, 'douwe': 6432, 'egberts': 6433, 'solves': 6434, 'input': 6435, 'undamaged': 6436, 'leaks': 6437, '192': 6438, 'ionized': 6439, 'essentials': 6440, 'stressful': 6441, 'deprived': 6442, 'sifted': 6443, 'splendas': 6444, 'cancelling': 6445, 'marination': 6446, 'amd': 6447, 'amish': 6448, 'mennonite': 6449, 'sulfur': 6450, 'arsenic': 6451, 'pur': 6452, 'pricer': 6453, 'phthalate': 6454, 'aquavita': 6455, 'massively': 6456, 'footprint': 6457, 'enchanced': 6458, 'h20': 6459, 'secretly': 6460, 'feldkamp': 6461, 'ceramic': 6462, \"feldkamp's\": 6463, 'plates': 6464, 'dispensed': 6465, 'rope': 6466, 'snacked': 6467, 'mailman': 6468, 'cramming': 6469, 'protection': 6470, 'charm': 6471, 'heathrow': 6472, 'gloves': 6473, 'scarves': 6474, 'filed': 6475, 'prompted': 6476, 'recipient': 6477, 'trivial': 6478, 'grows': 6479, 'hardware': 6480, 'cheery': 6481, 'daylight': 6482, 'startling': 6483, 'wall': 6484, 'installing': 6485, 'festival': 6486, 'booth': 6487, 'maria': 6488, 'seldom': 6489, 'hometown': 6490, 'overbaked': 6491, 'unload': 6492, 'unwary': 6493, 'disillusioned': 6494, \"shop's\": 6495, 'ethically': 6496, 'heather': 6497, 'shol': 6498, 'woodsy': 6499, 'block': 6500, 'pregnancies': 6501, 'voraciously': 6502, 'craves': 6503, 'worrisome': 6504, 'upped': 6505, 'barrage': 6506, 'bakers': 6507, 'arrow': 6508, 'removing': 6509, 'lip': 6510, 'collect': 6511, '340': 6512, 'rainbow': 6513, 'socks': 6514, '86': 6515, 'portioned': 6516, 'bulls': 6517, 'spill': 6518, 'poored': 6519, 'sack': 6520, 'transferring': 6521, 'curriies': 6522, 'meow': 6523, 'oloves': 6524, 'lunchbox': 6525, 'gojis': 6526, \"hersheys'\": 6527, 'althogh': 6528, 'confirms': 6529, 'crunchaholic': 6530, 'wrapping': 6531, 'cheapened': 6532, 'horlicks': 6533, 'viola': 6534, 'frappa': 6535, 'cina': 6536, 'handily': 6537, 'fitness': 6538, 'guru': 6539, 'safest': 6540, 'purvia': 6541, 'totonac': 6542, 'mama': 6543, 'struggling': 6544, 'insufficient': 6545, 'glandular': 6546, 'igt': 6547, 'demand': 6548, \"mama's\": 6549, 'formerly': 6550, 'mouthy': 6551, 'bolds': 6552, 'madness': 6553, 'b30': 6554, 'decieves': 6555, 'smoothe': 6556, 'vey': 6557, 'exploded': 6558, 'pearlie': 6559, 'removable': 6560, 'resevoir': 6561, 'decor': 6562, 'louder': 6563, 'brikka': 6564, 'pillows': 6565, 'forsakes': 6566, 'possibility': 6567, 'cave': 6568, 'cutest': 6569, 'meatball': 6570, 'snooty': 6571, \"meatball's\": 6572, 'swat': 6573, 'flakiness': 6574, 'alleviated': 6575, 'sparingly': 6576, 'doubles': 6577, 'arizona': 6578, 'humidity': 6579, 'indoors': 6580, 'acv': 6581, 'majorly': 6582, 'cancel': 6583, 'forms': 6584, 'qvc': 6585, 'goldens': 6586, 'carting': 6587, 'discounted': 6588, 'rectangular': 6589, 'corningware': 6590, 'drained': 6591, \"swanson's\": 6592, 'topped': 6593, 'panko': 6594, 'pats': 6595, 'concocting': 6596, 'struggle': 6597, 'flavorfull': 6598, 'invented': 6599, 'capuccino': 6600, 'ft': 6601, 'hood': 6602, 'columbus': 6603, 'salsas': 6604, 'scrambled': 6605, 'lesson': 6606, 'fishing': 6607, 'glued': 6608, 'tme': 6609, 'breakdown': 6610, 'mechanism': 6611, 'mech': 6612, 'keys': 6613, 'jamming': 6614, 'mechanisms': 6615, 'unattractive': 6616, 'toothless': 6617, 'hockey': 6618, 'player': 6619, 'unsanitary': 6620, 'indirect': 6621, 'fluorescent': 6622, 'insects': 6623, 'housing': 6624, 'pole': 6625, 'mechs': 6626, 'security': 6627, 'screwdriver': 6628, 'multivend': 6629, '400': 6630, 'investment': 6631, 'vendstar': 6632, '3000': 6633, 'flavered': 6634, 'triangle': 6635, 'chock': 6636, 'predominately': 6637, 'define': 6638, \"h'orderve\": 6639, 'crush': 6640, 'realistic': 6641, 'nutcracker': 6642, 'hipp': 6643, 'gassy': 6644, 'eliminated': 6645, 'nowadays': 6646, 'colics': 6647, 'consequently': 6648, 'versatility': 6649, 'smother': 6650, 'patina': 6651, 'creole': 6652, 'mex': 6653, 'arlington': 6654, 'tx': 6655, 'tishomingo': 6656, 'ewwww': 6657, 'importantly': 6658, 'tom': 6659, \"douglas'\": 6660, 'rubs': 6661, 'winery': 6662, '2n1': 6663, 'sauted': 6664, 'tokoyo': 6665, 'stunning': 6666, 'dries': 6667, 'remoisten': 6668, \"mary's\": 6669, 'caraway': 6670, 'backseat': 6671, 'scientist': 6672, 'poodles': 6673, 'reluctantly': 6674, 'graze': 6675, \"bm's\": 6676, 'efficiency': 6677, 'pun': 6678, 'b004u8z436': 6679, 'lugging': 6680, 'reticence': 6681, 'froth': 6682, 'nutritionist': 6683, 'emulsifier': 6684, 'grainier': 6685, 'veterinary': 6686, 'salmonella': 6687, 'efficacy': 6688, 'arthritis': 6689, 'fanatical': 6690, 'stretching': 6691, 'mowed': 6692, 'attempts': 6693, 'rishi': 6694, 'wholesaler': 6695, 'tams': 6696, 'lamaze': 6697, 'assist': 6698, 'uterine': 6699, 'toner': 6700, 'hunger': 6701, \"watcher's\": 6702, 'jogs': 6703, 'granted': 6704, '40ish': 6705, 'juiced': 6706, 'perks': 6707, 'sniff': 6708, 'extreme': 6709, 'rarity': 6710, 'shiney': 6711, 'glowing': 6712, 'drove': 6713, 'santos': 6714, 'videos': 6715, 'route': 6716, 'unnecessarily': 6717, '600': 6718, 'divide': 6719, 'forming': 6720, 'rising': 6721, 'critical': 6722, 'kneading': 6723, '550': 6724, 'stretchy': 6725, 'nyc': 6726, 'theses': 6727, 'sketchy': 6728, 'g2': 6729, 'replenishes': 6730, 'rehydrated': 6731, 'recharges': 6732, 'overboard': 6733, 'lyons': 6734, \"ireland's\": 6735, 'influenster': 6736, 'stealing': 6737, 'reteriever': 6738, \"poodle's\": 6739, 'cage': 6740, 'recoil': 6741, 'vastly': 6742, 'tryed': 6743, 'saint': 6744, 'hildegard': 6745, 'germans': 6746, 'greeenies': 6747, 'tzu': 6748, 'taker': 6749, 'trots': 6750, 'sits': 6751, 'wolfs': 6752, 'hamburgers': 6753, 'backyard': 6754, 'attract': 6755, 'hibernation': 6756, 'nests': 6757, 'rotting': 6758, 'clicks': 6759, 'swarming': 6760, 'flies': 6761, \"jarrow's\": 6762, 'puff': 6763, 'indoor': 6764, \"coulnd't\": 6765, 'penalized': 6766, 'proscratinate': 6767, 'conjuction': 6768, 'macronutrients': 6769, 'screamed': 6770, 'flows': 6771, 'bundle': 6772, 'sultry': 6773, 'lauded': 6774, 'oxidant': 6775, 'mingling': 6776, 'vivacious': 6777, 'kiss': 6778, 'unites': 6779, 'chais': 6780, 'hrs': 6781, 'yummmy': 6782, 'perfume': 6783, \"bella's\": 6784, 'accountable': 6785, 'procedure': 6786, 'represented': 6787, 'napkin': 6788, 'korea': 6789, 'arsenal': 6790, 'warnings': 6791, 'toning': 6792, 'uterus': 6793, 'coronary': 6794, 'gems': 6795, 'lightest': 6796, 'disapear': 6797, 'whammy': 6798, 'confess': 6799, 'accompanies': 6800, 'widen': 6801, 'superbly': 6802, 'forwarned': 6803, 'thickening': 6804, 'gravies': 6805, 'substituted': 6806, 'bonsai': 6807, 'gardenia': 6808, 'nabisco': 6809, 'capellini': 6810, 'fusille': 6811, 'aids': 6812, 'sarah': 6813, 'marlene': 6814, 'joined': 6815, 'amy': 6816, 'brian': 6817, 'cococnut': 6818, 'remover': 6819, 'eliminates': 6820, 'pee': 6821, 'coffeeholic': 6822, 'las': 6823, 'b003yf4ck2': 6824, 'bangers': 6825, 'ulster': 6826, 'ingrediants': 6827, 'wean': 6828, 'twisted': 6829, 'reids': 6830, 'spiciest': 6831, 'deducted': 6832, 'crowded': 6833, 'spain': 6834, 'prevention': 6835, 'ma': 6836, 'ehhh': 6837, \"sugar's\": 6838, 'understanding': 6839, 'technology': 6840, \"'sugar'\": 6841, 'molecule': 6842, 'atom': 6843, 'inconsistant': 6844, 'bagging': 6845, 'discernible': 6846, \"daughters'\": 6847, \"snyder's\": 6848, 'hanover': 6849, 'substantial': 6850, 'dermatitis': 6851, 'gained': 6852, 'itch': 6853, 'technically': 6854, 'pertains': 6855, 'minnesota': 6856, 'unhappy': 6857, 'imitate': 6858, 'scores': 6859, 'antioxidats': 6860, 'omegas': 6861, 'spoonfull': 6862, 'equate': 6863, 'buddah': 6864, 'survived': 6865, 'thc': 6866, 'viriety': 6867, 'cannabis': 6868, 'sterilized': 6869, 'geat': 6870, 'trappist': 6871, 'enviro': 6872, 'monastery': 6873, 'replica': 6874, 'picturesque': 6875, 'hilltop': 6876, 'massachusetts': 6877, 'swept': 6878, 'historical': 6879, 'reverie': 6880, 'interrupted': 6881, 'habited': 6882, 'monk': 6883, 'tile': 6884, 'solar': 6885, 'panels': 6886, 'monks': 6887, 'tastiest': 6888, 'induced': 6889, \"1960's\": 6890, 'invited': 6891, 'explicit': 6892, 'betsy': 6893, 'sf': 6894, 'lewis': 6895, 'giants': 6896, 'llc': 6897, 'investigating': 6898, \"newmann's\": 6899, 'resolve': 6900, 'crumb': 6901, 'merengue': 6902, 'smack': 6903, 'uneven': 6904, 'ruin': 6905, \"wont'\": 6906, 'freebird': 6907, 'economic': 6908, 'insisted': 6909, 'condroitin': 6910, \"sydney's\": 6911, 'detrimental': 6912, 'uneasy': 6913, 'laws': 6914, 'scoured': 6915, 'picnic': 6916, 'b0025ubvxi': 6917, 'hallmarks': 6918, '1930s': 6919, \"farm's\": 6920, 'superlative': 6921, 'eagle': 6922, '69': 6923, 'hound': 6924, 'approves': 6925, 'tech': 6926, 'yo': 6927, 'makeup': 6928, 'brief': 6929, 'pause': 6930, 'chowing': 6931, 'heartily': 6932, 'affirmatively': 6933, 'zoe': 6934, 'arrhythmia': 6935, 'irregular': 6936, 'refusal': 6937, 'greyhound': 6938, 'ally': 6939, 'polyphenols': 6940, 'metabolism': 6941, 'simmering': 6942, 'appliance': 6943, 'fruitabu': 6944, 'twisty': 6945, 'equalized': 6946, 'environment': 6947, 'interfere': 6948, 'formation': 6949, 'negatively': 6950, 'impacted': 6951, 'appreciable': 6952, 'maid': 6953, 'metabolic': 6954, 'variations': 6955, 'rite': 6956, 'flaxseed': 6957, 'fulfilled': 6958, 'nutritiion': 6959, 'liken': 6960, 'snippets': 6961, 'visible': 6962, 'containe': 6963, 'wikipedia': 6964, 'referred': 6965, 'possession': 6966, 'inventive': 6967, '11m': 6968, 'probable': 6969, '1971': 6970, 'writer': 6971, 'distributors': 6972, 'savor': 6973, 'tingling': 6974, 'pu': 6975, 'erh': 6976, 'excellence': 6977, 'paces': 6978, 'muggy': 6979, 'sunglare': 6980, 'inadequate': 6981, 'gather': 6982, 'sierras': 6983, \"parent's\": 6984, 'filtration': 6985, \"kirkland's\": 6986, 'staid': 6987, 'unexciting': 6988, 'forementioned': 6989, 'rounder': 6990, 'phosphate': 6991, 'bicarbonates': 6992, 'kirland': 6993, 'particulates': 6994, 'compankes': 6995, 'stations': 6996, 'wabash': 6997, 'generously': 6998, 'stabilizes': 6999, 'educator': 7000, 'stops': 7001, 'glucose': 7002, 'tablet': 7003, 'shakiness': 7004, 'advertized': 7005, 'stabilizing': 7006, 'ii': 7007, '4years': 7008, 'stratching': 7009, 'rescuing': 7010, 'laughing': 7011, \"'heartier'\": 7012, 'oriented': 7013, 'b002e0s4uw': 7014, 'appleapple': 7015, 'craft': 7016, 'chesse': 7017, 'curls': 7018, 'themto': 7019, 'espcially': 7020, 'fre': 7021, 'excellentprice': 7022, 'repeating': 7023, 'cramping': 7024, 'dehydration': 7025, 'extent': 7026, 'dressers': 7027, \"'i'm\": 7028, \"fan'\": 7029, 'northeast': 7030, 'slimmer': 7031, \"their's\": 7032, 'cascade': 7033, 'pinhead': 7034, 'boyfriend': 7035, 'tortellini': 7036, 'gauging': 7037, 'approved': 7038, 'delicions': 7039, 'roommate': 7040, 'overtones': 7041, 'sicky': 7042, 'cortas': 7043, 'evey': 7044, 'peaqnut': 7045, \"ross'\": 7046, 'looove': 7047, 'slump': 7048, '3pm': 7049, '9pm': 7050, 'recieving': 7051, 'concerend': 7052, 'walls': 7053, 'energy®': 7054, 'smiley360': 7055, 'mealy': 7056, 'noone': 7057, 'b002nly0qe': 7058, 'moister': 7059, 'tension': 7060, 'b0010z9li6': 7061, 'stainless': 7062, 'forty': 7063, \"filter's\": 7064, 'overlapping': 7065, 'portafilter': 7066, 'columbian': 7067, \"other's\": 7068, 'accomplish': 7069, 'leisurely': 7070, 'weekdays': 7071, 'ener': 7072, 'begone': 7073, 'welcoming': 7074, 'gravitate': 7075, 'sponge': 7076, 'honeycomb': 7077, 'crunchie': 7078, 'b001picx42': 7079, 'homegrown': 7080, 'bunny': 7081, 'cancelled': 7082, \"woman's\": 7083, 'missus': 7084, 'frederic': 7085, 'fekkai': 7086, 'mitchell': 7087, 'redken': 7088, 'pureology': 7089, 'volumizing': 7090, 'conditioners': 7091, 'manageable': 7092, 'b007rtr8a2': 7093, 'curved': 7094, 'shampoos': 7095, 'convieniant': 7096, 'deserts': 7097, 'treetop': 7098, 'motts': 7099, 'markedly': 7100, 'suite': 7101, 'hundered': 7102, 'speedy': 7103, 'plagued': 7104, 'hibicus': 7105, 'hibiscus': 7106, 'flaked': 7107, 'buys': 7108, 'resells': 7109, 'duh': 7110, 'drowsy': 7111, 'broadway': 7112, 'delfa': 7113, 'patooey': 7114, 'embarrased': 7115, 'reformulating': 7116, 'origins': 7117, 'disassociate': 7118, \"manufacturer's\": 7119, 'monosodium': 7120, 'glutamate': 7121, 'adored': 7122, 'mesquite': 7123, 'basamati': 7124, 'gingery': 7125, 'molasses': 7126, 'jersey': 7127, 'veri': 7128, 'crusty': 7129, \"orville's\": 7130, 'cheeses': 7131, 'salami': 7132, 'trimesters': 7133, 'centimeters': 7134, 'born': 7135, 'labors': 7136, 'unrolled': 7137, 'anchovie': 7138, 'schnauzers': 7139, 'doggies': 7140, 'beauties': 7141, 'scarce': 7142, 'ecstatic': 7143, 'grilled': 7144, 'arises': 7145, 'gamers': 7146, 'battled': 7147, 'munchies': 7148, 'slipping': 7149, 'necessitating': 7150, 'unthinkable': 7151, 'residue': 7152, 'captain': 7153, 'criteria': 7154, 'trilogy': 7155, 'monotony': 7156, 'kellogg': 7157, 'warcraft': 7158, 'verbatim': 7159, 'cer': 7160, 'tastefully': 7161, 'awesomeness': 7162, 'undisputed': 7163, 'skyrim': 7164, 'central': 7165, 'fade': 7166, 'contender': 7167, '6minutes': 7168, 'asia': 7169, 'novato': 7170, 'rafael': 7171, 'suey': 7172, '2x40': 7173, 'efforts': 7174, 'mails': 7175, '16lb': 7176, '6lbs': 7177, 'lightweight': 7178, 'macaroon': 7179, 'arms': 7180, 'redundancy': 7181, 'fateful': 7182, 'placard': 7183, \"frogs'\": 7184, 'buffet': 7185, 'sneeze': 7186, 'shield': 7187, 'entree': 7188, 'exquisitely': 7189, 'imagining': 7190, 'amphibian': 7191, '1999': 7192, 'forsaken': 7193, 'eyeballs': 7194, 'displayed': 7195, 'octopi': 7196, 'tentacles': 7197, 'deviled': 7198, 'distribution': 7199, 'spotty': 7200, '9mos': 7201, 'rancilio': 7202, 'rival': 7203, 'nicest': 7204, 'subpar': 7205, 'solo': 7206, 'inclination': 7207, 'inglehoffer': 7208, 'asthma': 7209, 'wheezing': 7210, 'reproductive': 7211, 'apprehensive': 7212, 'interaction': 7213, 'innovative': 7214, 'sleek': 7215, 'beastie': 7216, 'cottoned': 7217, 'dick': 7218, \"patten's\": 7219, 'nuh': 7220, 'chausie': 7221, 'someplace': 7222, 'thieves': 7223, 'ripoff': 7224, 'river': 7225, 'breadcrumbs': 7226, 'pollo': 7227, 'con': 7228, 'arroz': 7229, '0307347346': 7230, 'delicioso': 7231, 'latin': 7232, 'continuous': 7233, '9am': 7234, 'evaluated': 7235, 'travelling': 7236, 'hotel': 7237, 'rooms': 7238, 'equipped': 7239, 'thorough': 7240, 'obtained': 7241, 'reuction': 7242, 'belong': 7243, 'chunkier': 7244, 'choco': 7245, 'holic': 7246, 'brutal': 7247, 'stashed': 7248, 'incarnate': 7249, 'smeared': 7250, 'letdown': 7251, '150': 7252, 'clips': 7253, 'houtten': 7254, 'eclipse': 7255, 'steals': 7256, 'complicated': 7257, 'addresses': 7258, 'complications': 7259, \"connoisseur's\": 7260, 'handier': 7261, 'hurry': 7262, 'celebrity': 7263, 'monin': 7264, 'guave': 7265, 'identify': 7266, 'inspect': 7267, 'inspecting': 7268, 'glue': 7269, 'bands': 7270, 'margin': 7271, 'fabric': 7272, 'albeit': 7273, '35th': 7274, 'direction': 7275, 'virtually': 7276, 'acing': 7277, \"stacy's\": 7278, 'tarter': 7279, 'hobby': 7280, \"nestle's\": 7281, 'russell': 7282, 'challenges': 7283, 'bloat': 7284, 'alertness': 7285, 'mealtime': 7286, 'dunked': 7287, 'underpowered': 7288, 'measurably': 7289, 'tot': 7290, 'cleanest': 7291, 'genetic': 7292, 'modifications': 7293, 'climbing': 7294, 'excellently': 7295, 'crunchers': 7296, 'westie': 7297, 'quanitities': 7298, \"mcdougall's\": 7299, 'encased': 7300, 'cound': 7301, 'spare': 7302, 'swing': 7303, 'reads': 7304, 'chemistry': 7305, 'isolate': 7306, 'delobas': 7307, 'current': 7308, 'follows': 7309, 'breastfed': 7310, \"member's\": 7311, 'rigorous': 7312, 'sing': 7313, 'song': 7314, 'beatles': 7315, 'shout': 7316, 'translucent': 7317, 'opaque': 7318, 'fees': 7319, 'maplecream': 7320, 'pristine': 7321, 'systemic': 7322, 'candida': 7323, 'sorta': 7324, 'waistline': 7325, 'trimmer': 7326, 'aug': 7327, 'ziplock': 7328, 'aromic': 7329, 'purity': 7330, 'identified': 7331, 'beal': 7332, 'detect': 7333, 'antarctic': 7334, 'innocuous': 7335, 'lettuce': 7336, 'western': 7337, 'honeys': 7338, 'cleanly': 7339, 'clamp': 7340, 'wipe': 7341, 'rectangles': 7342, 'approx': 7343, 'tearing': 7344, 'princess': 7345, 'timed': 7346, 'shorthaired': 7347, 'pointer': 7348, 'slide': 7349, 'sot': 7350, 'wack': 7351, 'paw': 7352, 'treated': 7353, 'meager': 7354, 'rampage': 7355, 'whittle': 7356, 'mormon': 7357, 'lil': 7358, 'crunchies': 7359, 'wheel': 7360, 'dissolving': 7361, 'mash': 7362, 'cheerio': 7363, 'wheels': 7364, 'unfilling': 7365, 'unflavorful': 7366, 'brussels': 7367, 'replicated': 7368, 'debbie': 7369, 'revise': 7370, 'timeless': 7371, 'ackees': 7372, 'thn': 7373, 'nostalgia': 7374, 'lane': 7375, 'bammee': 7376, 'ackee': 7377, 'japan': 7378, 'sandy': 7379, 'beaches': 7380, 'dominican': 7381, 'nescafe': 7382, 'resemble': 7383, 'coffeehouse': 7384, 'autistic': 7385, 'cf': 7386, 'rind': 7387, 'tolerance': 7388, 'attribute': 7389, 'officially': 7390, 'ounches': 7391, 'stors': 7392, 'wallmart': 7393, 'aerated': 7394, 'vinturi': 7395, 'operation': 7396, 'overlook': 7397, 'weirds': 7398, 'vault': 7399, 'dismayed': 7400, 'pursue': 7401, 'beasties': 7402, 'herd': 7403, 'shaved': 7404, 'teai': 7405, 'speechless': 7406, 'airpacked': 7407, 'ins': 7408, \"cap'n\": 7409, 'saucer': 7410, 'traveled': 7411, 'earthlings': 7412, 'employed': 7413, 'campaign': 7414, 'quake': 7415, 'jaunty': 7416, 'cartoon': 7417, 'jay': 7418, 'bullwinkle': 7419, 'onsite': 7420, 'cities': 7421, 'ceral': 7422, 'cloyingly': 7423, 'fourths': 7424, 'fourth': 7425, 'protected': 7426, 'coopers': 7427, 'lme': 7428, 'newer': 7429, 'zevias': 7430, 'indivalially': 7431, 'tahini': 7432, 'eastern': 7433, 'yields': 7434, 'populate': 7435, 'deliscious': 7436, 'kuchen': 7437, 'meister': 7438, 'liqueur': 7439, 'kuchenmeister': 7440, 'christstollen': 7441, '160mg': 7442, '1oz': 7443, 'whiteish': 7444, 'linda': 7445, 'tandoori': 7446, 'tandoor': 7447, 'skewers': 7448, 'skinless': 7449, 'killed': 7450, 'adolph': 7451, 'containter': 7452, 'tenderizer': 7453, 'sealable': 7454, 'silly': 7455, 'publix': 7456, 'disadvantage': 7457, 'sweep': 7458, 'swelling': 7459, 'gestational': 7460, 'slathering': 7461, 'wisconsin': 7462, 'dells': 7463, 'waterparks': 7464, 'composite': 7465, 'jerker': 7466, 'reccommend': 7467, 'wishy': 7468, 'tapping': 7469, 'harshness': 7470, 'bonnie': 7471, 'classics': 7472, '1980': 7473, 'grom': 7474, 'beijing': 7475, 'fillings': 7476, 'clumpy': 7477, 'tourangelle': 7478, 'expeller': 7479, 'grapeseed': 7480, 'stared': 7481, 'cerial': 7482, 'veges': 7483, 'overwhelm': 7484, 'b00473xris': 7485, 'weber': 7486, 'flavours': 7487, 'lousy': 7488, 'braided': 7489, 'teamed': 7490, 'tackle': 7491, 'hypnosis': 7492, 'smoker': 7493, 'bus': 7494, 'joshing': 7495, 'thirteen': 7496, 'rebirthing': 7497, 'joggin': 7498, 'tucks': 7499, 'kisser': 7500, 'swiderski': 7501, 'braves': 7502, \"swiderski's\": 7503, 'lawdy': 7504, 'lawd': 7505, 'taaaasssssty': 7506, 'eighty': 7507, 'cliche': 7508, 'smokes': 7509, 'whew': 7510, 'deer': 7511, \"antlers'll\": 7512, 'mysterious': 7513, 'soooooo': 7514, 'brookshires': 7515, 'kashmir': 7516, 'seeps': 7517, 'crocuses': 7518, 'dawn': 7519, 'stripped': 7520, 'crocus': 7521, 'intoxicating': 7522, 'lg': 7523, 'floured': 7524, 'elastic': 7525, 'preheated': 7526, 'didn': 7527, 'worm': 7528, 'borderline': 7529, 'leathery': 7530, 'bunches': 7531, 'rejected': 7532, 'truffles': 7533, 'godiva': 7534, \"lo's\": 7535, 'decides': 7536, 'buttah': 7537, 'apparent': 7538, 'jin': 7539, 'xuan': 7540, 'lily': 7541, 'summit': 7542, 'infusions': 7543, 'wanes': 7544, 'oolongs': 7545, 'vetically': 7546, 'stucture': 7547, 'layed': 7548, 'stacking': 7549, 'crushes': 7550, 'blamed': 7551, 'mishandling': 7552, 'reimburse': 7553, 'eatting': 7554, 'eager': 7555, 'discard': 7556, 'tracking': 7557, 'compostable': 7558, 'decorative': 7559, 'clay': 7560, 'sooo': 7561, 'intend': 7562, 'adores': 7563, 'relationships': 7564, 'sudo': 7565, 'width': 7566, 'complain': 7567, 'designing': 7568, 'fraction': 7569, 'print': 7570, 'thins': 7571, 'mucus': 7572, 'antiocidants': 7573, 'kim': 7574, 'stuttering': 7575, 'fever': 7576, 'baying': 7577, 'irrelevant': 7578, 'visitor': 7579, 'rf': 7580, 'sanitized': 7581, 'medicated': 7582, 'zombies': 7583, 'stupified': 7584, 'insipid': 7585, 'drones': 7586, 'robotic': 7587, 'sugared': 7588, 'nurses': 7589, 'nod': 7590, 'tastelessness': 7591, 'pathetic': 7592, 'wreck': 7593, 'rooster': 7594, 'lucille': 7595, 'hellooo': 7596, 'sauntered': 7597, 'dismissing': 7598, 'porters': 7599, 'smirk': 7600, 'unconcious': 7601, 'flinch': 7602, 'snatched': 7603, 'squishing': 7604, 'nervously': 7605, 'sneering': 7606, 'contempt': 7607, 'lifted': 7608, 'bun': 7609, 'slab': 7610, 'atop': 7611, 'cooling': 7612, 'foodservice': 7613, 'flicked': 7614, 'condiment': 7615, 'shamelessness': 7616, 'peeked': 7617, 'bosom': 7618, 'howl': 7619, 'flash': 7620, 'thunder': 7621, 'roaring': 7622, 'rain': 7623, 'gutteral': 7624, 'humphs': 7625, 'bloodhounds': 7626, 'stretched': 7627, 'distorted': 7628, 'reflexive': 7629, 'snatch': 7630, 'chameleon': 7631, 'temptress': 7632, 'deed': 7633, 'betrayal': 7634, 'sobriety': 7635, 'glorious': 7636, 'courtesy': 7637, 'milisecond': 7638, 'twisting': 7639, 'dispensing': 7640, 'splurrrrrrrtppplp': 7641, 'mwwwahhhhaaaaa': 7642, 'shuddered': 7643, 'ecstasy': 7644, 'sensuous': 7645, 'nostrils': 7646, 'lungs': 7647, 'submerged': 7648, 'cheeseburger': 7649, 'joker': 7650, 'grin': 7651, 'gruesome': 7652, 'orgy': 7653, 'alarm': 7654, 'ww2': 7655, 'raid': 7656, 'klaxon': 7657, 'windows': 7658, 'landing': 7659, 'haste': 7660, 'ripping': 7661, 'concertina': 7662, 'confines': 7663, 'blur': 7664, '3gallon': 7665, 'camelback': 7666, 'worlds': 7667, 'condiments': 7668, 'cheesey': 7669, 'southeast': 7670, 'shoppers': 7671, 'rx': 7672, 'favs': 7673, 'cartons': 7674, 'rotten': 7675, 'husk': 7676, 'b003v8so10': 7677, \"'umph'\": 7678, \"'burnt'\": 7679, 'begs': 7680, \"'weaker'\": 7681, 'former': 7682, 'seapoint': 7683, 'edamame': 7684, 'hannaford': 7685, \"kellogg's\": 7686, 'farina': 7687, 'mhk': 7688, 'witness': 7689, 'respecting': 7690, 'southerner': 7691, 'fashioned': 7692, 'textures': 7693, 'gibe': 7694, 'bellisimo': 7695, 'gourment': 7696, 'prizes': 7697, 'continual': 7698, 'lattes': 7699, 'placibo': 7700, 'spirulina': 7701, 'deceptively': 7702, 'labled': 7703, 'algae': 7704, 'placentisis': 7705, 'ciao': 7706, 'warren': 7707, 'throughing': 7708, 'failier': 7709, 'paint': 7710, 'childrens': 7711, 'missled': 7712, 'cloths': 7713, 'mitt': 7714, 'rodney': 7715, 'companys': 7716, 'wages': 7717, 'insurance': 7718, 'accounts': 7719, 'countrys': 7720, '188': 7721, 'payers': 7722, 'uas': 7723, 'b005dr5q2m': 7724, 'newest': 7725, 'pots': 7726, 'erratic': 7727, 'studying': 7728, 'completing': 7729, 'assignments': 7730, 'pattern': 7731, 'disrupted': 7732, 'affecting': 7733, 'bullet': 7734, 'wonky': 7735, 'hyde': 7736, 'weirdly': 7737, 'turmeric': 7738, 'affliction': 7739, 'sleeping': 7740, 'amply': 7741, 'ilk': 7742, 'defines': 7743, 'recognizable': 7744, 'downing': 7745, 'frappe': 7746, 'cape': 7747, 'rhode': 7748, 'routinely': 7749, 'cumberland': 7750, 'disappearing': 7751, 'predictable': 7752, 'fodder': 7753, 'doniuts': 7754, 'stockpile': 7755, 'hr': 7756, 'messes': 7757, 'varietal': 7758, 'copper': 7759, 'specifics': 7760, 'varietals': 7761, 'disclosed': 7762, 'misshapen': 7763, 'dusty': 7764, 'b002gwfasc': 7765, 'sorted': 7766, 'uniformity': 7767, '68': 7768, 'expire': 7769, 'worht': 7770, 'rosie': 7771, 'boyardee': 7772, 'conagra': 7773, 'microwavable': 7774, 'civilian': 7775, \"military's\": 7776, \"mre's\": 7777, 'departure': 7778, 'menu': 7779, 'emergencies': 7780, 'for1': 7781, 'distribute': 7782, 'visibility': 7783, 'golean': 7784, 'yup': 7785, '04': 7786, 'altoid': 7787, 'motion': 7788, 'sickness': 7789, 'altoids': 7790, 'preperation': 7791, 'stanley': 7792, 'negate': 7793, 'pitching': 7794, 'calms': 7795, '00pm': 7796, 'camomile': 7797, 'boomer': 7798, 'lambert': 7799, 'klein': 7800, 'author': 7801, 'b004bsgy8y': 7802, 'boomers': 7803, 'jiff': 7804, 'lowering': 7805, 'kelloggs': 7806, 'overwhemled': 7807, 'soluble': 7808, 'concentrated': 7809, 'gaggingly': 7810, \"cow's\": 7811, 'sulfites': 7812, 'pycnoginol': 7813, 'salsitas': 7814, 'richly': 7815, 'drooling': 7816, 'chedder': 7817, 'bunnies': 7818, 'grandpa': 7819, 'soothe': 7820, 'jagged': 7821, 'soyabella': 7822, 'juicer': 7823, 'cloth': 7824, 'baconnaise': 7825, 'treasure': 7826, 'baconaise': 7827, 'host': 7828, 'chocofudge': 7829, 'strangers': 7830, 'pickyk': 7831, 'vegies': 7832, 'anyhoo': 7833, 'watkins': 7834, 'similiar': 7835, 'sprout': 7836, 'similac': 7837, 'bulldog': 7838, 'inspected': 7839, 'harmed': 7840, 'succesfully': 7841, 'breeds': 7842, 'whipping': 7843, 'chipotle': 7844, 'permeates': 7845, 'smokiness': 7846, 'subsided': 7847, 'contemplate': 7848, 'sickening': 7849, 'missoula': 7850, 'mt': 7851, 'aana': 7852, 'fredricksburg': 7853, 'margaritas': 7854, 'destination': 7855, 'cahill': 7856, 'lapsang': 7857, 'souchong': 7858, 'amamzon': 7859, 'cecco': 7860, 'farfalle': 7861, 'attest': 7862, 'lingering': 7863, 'mkt': 7864, 'recipie': 7865, 'piggy': 7866, 'tetly': 7867, 'beagles': 7868, 'beneful': 7869, 'mask': 7870, 'intrigued': 7871, 'equation': 7872, 'overpowered': 7873, 'williams': 7874, 'inserts': 7875, 'multicolored': 7876, 'zojirushi': 7877, 'tranquilizers': 7878, 'stimulating': 7879, 'reception': 7880, 'chunk': 7881, 'military': 7882, 'commissary': 7883, 'haha': 7884, 'envelope': 7885, \"heart's\": 7886, 'entertainment': 7887, 'amused': 7888, 'strapped': 7889, 'scooped': 7890, 'trunk': 7891, \"office's\": 7892, 'scheme': 7893, 'trees': 7894, 'escessive': 7895, 'embossed': 7896, 'bob': 7897, 'declarations': 7898, 'biodiversity': 7899, 'catchphrases': 7900, 'hollow': 7901, 'cynical': 7902, 'motivations': 7903, 'lofty': 7904, 'rhetoric': 7905, 'declaration': 7906, 'physically': 7907, 'absurd': 7908, 'smothering': 7909, 'carnivore': 7910, 'justines': 7911, 'justine': 7912, 'cent': 7913, 'noble': 7914, 'splurges': 7915, 'gumpaste': 7916, 'germination': 7917, 'germinate': 7918, 'pillow': 7919, 'complainingsince': 7920, 'gleefully': 7921, 'pins': 7922, 'hysterical': 7923, 'hamsters': 7924, 'bisibelebath': 7925, 'hott': 7926, 'accompanying': 7927, 'tempe': 7928, 'shahi': 7929, 'paneer': 7930, 'pav': 7931, 'bhaji': 7932, 'sincerely': 7933, 'surpasses': 7934, 'rosy': 7935, 'clues': 7936, 'inhale': 7937, 'overtone': 7938, 'diminish': 7939, 'vibrant': 7940, 'memorably': 7941, 'nuances': 7942, 'impart': 7943, 'bisquick': 7944, 'shaky': 7945, 'pep': 7946, 'crash': 7947, 'couscous': 7948, 'caliber': 7949, 'milkshake': 7950, 'superstore': 7951, '96': 7952, 'teen': 7953, 'nips': 7954, \"'healthy'\": 7955, 'jols': 7956, 'forest': 7957, 'b001bookw8': 7958, 'daprano': 7959, '88': 7960, 'soucre': 7961, 'friendlier': 7962, 'tetra': 7963, 'pak': 7964, 'kindest': 7965, 'characterization': 7966, 'analyzed': 7967, 'bore': 7968, 'mellower': 7969, 'shrill': 7970, 'indonesian': 7971, 'harar': 7972, '5th': 7973, 'horde': 7974, 'settles': 7975, 'purging': 7976, 'robusta': 7977, 'bricks': 7978, 'summertime': 7979, '6c': 7980, 'apocalypse': 7981, 'dire': 7982, 'handeling': 7983, 'streaming': 7984, 'crackly': 7985, 'poppin': 7986, 'himalyan': 7987, 'himalayan': 7988, 'canister': 7989, 'alimentum': 7990, 'tolerates': 7991, 'crusts': 7992, 'projected': 7993, 'setup': 7994, \"'magic'\": 7995, \"plant's\": 7996, \"america's\": 7997, 'windowsill': 7998, 'bedroom': 7999, '00a': 8000, 'transplanted': 8001, 'await': 8002, \"chili's\": 8003, 'gardening': 8004, 'stone': 8005, 'waking': 8006, 'diner': 8007, 'lids': 8008, 'tote': 8009, 'gooky': 8010, 'snuck': 8011, 'averaging': 8012, 'crispibread': 8013, 'xantham': 8014, 'regulates': 8015, 'convalescing': 8016, 'privelege': 8017, 'spout': 8018, 'matching': 8019, 'drying': 8020, 'poke': 8021, 'blip': 8022, 'herbally': 8023, 'brighten': 8024, 'heartbroken': 8025, 'bryant': 8026, 'blown': 8027, 'retasting': 8028, 'hungrygirl': 8029, 'starve': 8030, 'trailblazers': 8031, 'dumplings': 8032, 'cobbler': 8033, 'wishing': 8034, 'nibbles': 8035, 'reek': 8036, 'sites': 8037, 'bell': 8038, 'ringing': 8039, 'stern': 8040, 'clicker': 8041, 'clicking': 8042, 'hurting': 8043, 'plead': 8044, 'yell': 8045, 'smarter': 8046, '1967': 8047, 'til': 8048, 'adopt': 8049, 'citizens': 8050, 'reminding': 8051, 'freshest': 8052, 'heartier': 8053, 'minestrones': 8054, 'brinjal': 8055, 'relish': 8056, 'wiki': 8057, 'dealers': 8058, 'leafs': 8059, 'stomachaches': 8060, 'yea': 8061, 'handout': 8062, 'limits': 8063, 'bolt': 8064, 'rangoon': 8065, 'howsomever': 8066, 'offputting': 8067, 'release': 8068, 'outcome': 8069, 'gastric': 8070, 'freak': 8071, 'staples': 8072, 'suprisingly': 8073, 'rougher': 8074, 'crunchier': 8075, 'masago': 8076, 'roe': 8077, 'capelin': 8078, 'refried': 8079, 'exited': 8080, 'ignores': 8081, 'picks': 8082, 'exquisite': 8083, 'cr': 8084, 'egrave': 8085, 'brul': 8086, 'cinnimons': 8087, 'toby': 8088, 'refuses': 8089, 'mighty': 8090, 'newmans': 8091, 'twists': 8092, \"'made\": 8093, \"sugar'\": 8094, 'elderberry': 8095, 'behold': 8096, 'cffee': 8097, 'americanb': 8098, 'differernce': 8099, 'formed': 8100, 'fermenting': 8101, 'bottling': 8102, 'sanitation': 8103, 'fermentation': 8104, 'wrappers': 8105, 'tobi': 8106, 'assorted': 8107, 'tahn': 8108, 'tatstes': 8109, 'litlle': 8110, 'melon': 8111, 'favored': 8112, 'zinc': 8113, 'rocks': 8114, 'eo': 8115, 'joking': 8116, 'pint': 8117, 'africa': 8118, 'stained': 8119, 'supplimental': 8120, 'ponds': 8121, 'feeders': 8122, 'chilly': 8123, 'hanging': 8124, 'sunning': 8125, 'sinks': 8126, 'muddy': 8127, '24pc': 8128, 'threatened': 8129, 'file': 8130, 'falsely': 8131, 'excuses': 8132, 'appease': 8133, 'bbb': 8134, 'calzones': 8135, 'street': 8136, 'wherehouse': 8137, 'breakage': 8138, 'excitd': 8139, 'investigation': 8140, 'chile': 8141, 'rockstar': 8142, 'redbull': 8143, 'obscenely': 8144, 'clinical': 8145, 'trials': 8146, 'data': 8147, '200mg': 8148, 'nodoz': 8149, 'vivarin': 8150, 'cheers': 8151, 'artisan': 8152, 'munched': 8153, 'reflect': 8154, 'bulb': 8155, 'pesto': 8156, 'baguette': 8157, 'drastically': 8158, 'rodeo': 8159, 'sorrento': 8160, 'gack': 8161, 'washing': 8162, 'putridly': 8163, 'letters': 8164, 'nutrasweet': 8165, 'knowingly': 8166, 'bodies': 8167, 'galaxy': 8168, 'ornish': 8169, 'smashing': 8170, 'shipper': 8171, 'bolts': 8172, 'noggin': 8173, 'convienant': 8174, 'shoved': 8175, 'shoveling': 8176, 'hilarious': 8177, 'docked': 8178, 'affordability': 8179, 'carbers': 8180, 'carbing': 8181, \"'candy'\": 8182, 'b00142fp5i': 8183, 'sweetleaf': 8184, 'woof': 8185, 'shitzus': 8186, 'puking': 8187, 'isomalt': 8188, 'grudgingly': 8189, 'wilderness': 8190, 'likeability': 8191, \"michaels'\": 8192, 'michaels': 8193, 'fibers': 8194, 'adjusting': 8195, 'adjusts': 8196, 'fred': 8197, 'meyer': 8198, 'piling': 8199, 'ideas': 8200, 'morocan': 8201, 'nitrogen': 8202, 'escaped': 8203, 'closing': 8204, \"'seep'\": 8205, 'overpoweringly': 8206, 'similarly': 8207, 'spikes': 8208, 'drag': 8209, 'bulky': 8210, 'gotcha': 8211, 'legally': 8212, 'fund': 8213, 'pasted': 8214, 'identifiable': 8215, 'totals': 8216, '280': 8217, '34g': 8218, '8g': 8219, '24g': 8220, 'texted': 8221, 'dramatic': 8222, 'asiago': 8223, \"celiac's\": 8224, 'mouthfull': 8225, '12g': 8226, '3g': 8227, 'habitat': 8228, 'humanity': 8229, '85g': 8230, 'wits': 8231, 'thawed': 8232, 'crowd': 8233, 'pleaser': 8234, 'pin': 8235, 'pounder': 8236, \"puck's\": 8237, 'crafted': 8238, 'coordinate': 8239, 'decors': 8240, 'recipients': 8241, 'sitcom': 8242, 'laughs': 8243, 'teacher': 8244, 'democratic': 8245, 'clinton': 8246, 'lacks': 8247, 'doctoring': 8248, 'discs': 8249, \"mild'\": 8250, \"rich'\": 8251, \"bitter'\": 8252, 'mochachino': 8253, 'rolo': 8254, '56': 8255, 'firmer': 8256, \"it'd\": 8257, 'unopened': 8258, 'blindness': 8259, 'sonce': 8260, '8lb': 8261, 'managing': 8262, 'quanty': 8263, 'inconsistent': 8264, 'scratched': 8265, 'scratches': 8266, 'jellie': 8267, 'spreader': 8268, \"angelina's\": 8269, 'sourdough': 8270, 'flecks': 8271, 'fleur': 8272, 'del': 8273, 'sel': 8274, 'petites': 8275, 'proably': 8276, 'tower': 8277, 'sqeeze': 8278, 'rewarding': 8279, \"farmer's\": 8280, 'detroit': 8281, 'blan': 8282, '2lbs': 8283, 'awsome': 8284, 'theaters': 8285, 'woofs': 8286, 'niacin': 8287, 'b0066qzcmi': 8288, '20oz': 8289, 'customize': 8290, 'probiotics': 8291, 'coombs': 8292, 'lug': 8293, 'chocoholic': 8294, 'multigrain': 8295, 'counts': 8296, \"rona's\": 8297, 'gret': 8298, 'fixed': 8299, 'bt': 8300, 'boulder': 8301, 'delute': 8302, 'specific': 8303, 'aim': 8304, 'waaaaaay': 8305, 'tooooo': 8306, \"'sour\": 8307, \"onion'\": 8308, \"'regular'\": 8309, 'nuclear': 8310, 'agency': 8311, 'brilliantly': 8312, 'mignon': 8313, 'flaky': 8314, 'gel': 8315, 'insanely': 8316, 'dreams': 8317, 'rabid': 8318, 'financially': 8319, 'characteristics': 8320, 'individuals': 8321, 'paring': 8322, \"'filled\": 8323, \"eggs'\": 8324, 'yolk': 8325, 'halfs': 8326, 'untill': 8327, 'torte': 8328, 'skins': 8329, 'blanched': 8330, 'diamonds': 8331, 'reroll': 8332, 'scraps': 8333, 'reserved': 8334, 'horribly': 8335, 'swipe': 8336, 'encouragement': 8337, 'clearish': 8338, 'tacky': 8339, 'hmmmm': 8340, 'hcg': 8341, 'pasteurization': 8342, 'scald': 8343, 'yogourmet': 8344, 'electric': 8345, 'glasses': 8346, 'pairs': 8347, 'assort': 8348, 'mutt': 8349, 'gathered': 8350, 'stampede': 8351, 'outrages': 8352, 'suckers': 8353, 'coffes': 8354, 'goof': 8355, 'fluffier': 8356, 'smoething': 8357, 'gfy': 8358, 'noon': 8359, 'ongoing': 8360, 'testy': 8361, 'essentially': 8362, 'voluntary': 8363, 'bulimic': 8364, 'astounded': 8365, 'attributed': 8366, 'sensitivity': 8367, 'pinpointed': 8368, 'noxious': 8369, 'fumes': 8370, 'bound': 8371, 'epitome': 8372, 'notably': 8373, 'claw': 8374, 'mauling': 8375, 'delicacy': 8376, 'surrounded': 8377, 'grained': 8378, 'whoopie': 8379, 'sc': 8380, 'henry': 8381, 'abundance': 8382, 'bahamas': 8383, 'christmastime': 8384, 'softness': 8385, 'gingerbreads': 8386, 'gingersnaps': 8387, 'february': 8388, 'glutens': 8389, 'websites': 8390, 'larabars': 8391, 'boosts': 8392, '185': 8393, 'earned': 8394, 'brownish': 8395, 'glycerine': 8396, 'ciroc': 8397, 'lighten': 8398, 'bagel': 8399, 'pureeing': 8400, 'crumbling': 8401, 'chestnut': 8402, 'chestnuts': 8403, 'wifre': 8404, 'bro': 8405, 'apricots': 8406, 'dividing': 8407, 'microwaveable': 8408, '2013': 8409, 'enclosed': 8410, 'punicalagin': 8411, 'ellagic': 8412, 'polyphenol': 8413, 'resveratrol': 8414, 'brownwood': 8415, 'acres': 8416, 'kicker': 8417, 'qued': 8418, \"corky's\": 8419, 'enthusiastically': 8420, 'tufts': 8421, 'traditionally': 8422, 'excellant': 8423, 'absorbed': 8424, '100g': 8425, 'hydrolyzation': 8426, 'digests': 8427, 'ez': 8428, 'sweetz': 8429, 'dropper': 8430, '3mm': 8431, 'tablets': 8432, 'overlooked': 8433, 'ardee': 8434, 'theoretically': 8435, 'stretch': 8436, '10x': 8437, 'competition': 8438, 'thatr': 8439, 'sunday': 8440, 'bulletin': 8441, 'travesty': 8442, 'apologize': 8443, 'poses': 8444, 'nacho': 8445, 'grandkids': 8446, 'musty': 8447, 'violet': 8448, 'featured': 8449, 'chocolat': 8450, 'bordering': 8451, 'thinly': 8452, 'chilis': 8453, 'hartz': 8454, \"'quality'\": 8455, \"boss's\": 8456, 'miscellaneous': 8457, 'encouraging': 8458, 'inspire': 8459, 'ho': 8460, 'hum': 8461, 'attaching': 8462, 'ali': 8463, 'julia': 8464, 'airport': 8465, 'hung': 8466, 'partying': 8467, 'rude': 8468, 'mutha': 8469, 'listings': 8470, 'periferal': 8471, 'crown': 8472, 'robe': 8473, 'wearing': 8474, 'enterprises': 8475, 'superstar': 8476, 'charitable': 8477, 'acting': 8478, 'skills': 8479, 'maverick': 8480, 'cocky': 8481, 'anger': 8482, 'esteemed': 8483, 'leadership': 8484, 'thy': 8485, 'favourite': 8486, 'roobes': 8487, 'priceless': 8488, 'thoough': 8489, 'villain': 8490, 'ess': 8491, 'imperilled': 8492, 'dictionary': 8493, 'fortum': 8494, \"mason's\": 8495, 'traditions': 8496, 'admire': 8497, 'ancestry': 8498, 'backing': 8499, 'expertise': 8500, 'happiest': 8501, 'admiration': 8502, 'upgraded': 8503, 'traditionalists': 8504, \"turkey's\": 8505, 'expression': 8506, 'master': 8507, 'distiller': 8508, \"russel's\": 8509, 'cask': 8510, 'exceeded': 8511, 'coppery': 8512, 'bronze': 8513, 'evolves': 8514, 'strikingly': 8515, 'disperse': 8516, 'buttered': 8517, 'striking': 8518, 'treacle': 8519, 'positively': 8520, 'explodes': 8521, 'spritz': 8522, 'paradise': 8523, 'esters': 8524, 'unfolding': 8525, 'layers': 8526, 'aged': 8527, 'sawn': 8528, 'perfumed': 8529, 'decaying': 8530, 'bourbons': 8531, 'editions': 8532, 'sophistication': 8533, 'distinction': 8534, 'treads': 8535, 'disparate': 8536, 'elements': 8537, 'masterful': 8538, 'scotch': 8539, 'multiples': 8540, 'grant': 8541, 'distillery': 8542, 'distillate': 8543, 'refinement': 8544, 'saturday': 8545, 'cioffee': 8546, 'maintaining': 8547, 'bichons': 8548, 'hygiene': 8549, 'addative': 8550, \"guy's\": 8551, 'tj': 8552, 'awaiting': 8553, 'classroom': 8554, 'gnaw': 8555, 'gimmick': 8556, 'listlessly': 8557, 'nevertheless': 8558, 'fudgey': 8559, 'prevalent': 8560, 'twang': 8561, 'intial': 8562, 'stack': 8563, 'macha': 8564, 'slumps': 8565, 'naps': 8566, 'tremendous': 8567, 'stamina': 8568, 'interval': 8569, 'treadmill': 8570, 'routines': 8571, 'carnation': 8572, 'publishes': 8573, 'pls': 8574, 'waggin': 8575, 'shiba': 8576, 'inu': 8577, 'rex': 8578, 'coughing': 8579, 'hacking': 8580, 'googled': 8581, 'espressos': 8582, 'crackling': 8583, 'inn': 8584, '450mg': 8585, 'motivated': 8586, \"wyler's\": 8587, 'knorr': 8588, 'committing': 8589, 'cupcake': 8590, 'cycling': 8591, 'owe': 8592, 'autism': 8593, 'promote': 8594, 'affects': 8595, 'details': 8596, 'erin': 8597, 'cranky': 8598, 'updated': 8599, \"'bad\": 8600, \"batch'\": 8601, 'masterpiece': 8602, 'chopping': 8603, 'melting': 8604, 'colby': 8605, 'chewers': 8606, 'dissipates': 8607, \"peete's\": 8608, 'roasting': 8609, 'fyi': 8610, 'comment': 8611, 'brits': 8612, 'implies': 8613, 'scream': 8614, 'scam': 8615, 'distracting': 8616, 'contradicts': 8617, \"gerber's\": 8618, 'inaccessibility': 8619, 'solving': 8620, 'warming': 8621, 'spite': 8622, 'unpleasantly': 8623, 'perfumey': 8624, 'comprised': 8625, 'greyhounds': 8626, 'easter': 8627, 'teeniest': 8628, 'tiniest': 8629, 'gulping': 8630, 'moosh': 8631, 'hatch': 8632, 'swap': 8633, 'meatloaf': 8634, 'appropriately': 8635, 'frig': 8636, 'cruches': 8637, 'requested': 8638, 'gumballs': 8639, 'gobbles': 8640, 'phoenix': 8641, 'executed': 8642, 'saccharine': 8643, 'instrument': 8644, 'torture': 8645, 'deposition': 8646, 'excrement': 8647, 'christianity': 8648, 'sentiment': 8649, 'tinkyada': 8650, 'veranda': 8651, 'cinnemon': 8652, 'susally': 8653, 'lines': 8654, 'apostrophe': 8655, 'dextrose': 8656, 'developing': 8657, 'natto': 8658, 'tempeh': 8659, 'wreak': 8660, 'havoc': 8661, 'sampling': 8662, 'abnormalities': 8663, 'disorders': 8664, 'stones': 8665, 'impairment': 8666, 'fatal': 8667, 'impaired': 8668, 'fertility': 8669, 'unfold': 8670, 'predicts': 8671, 'ashamed': 8672, 'yahweh': 8673, 'literate': 8674, 'consequence': 8675, 'providing': 8676, 'tragically': 8677, 'happening': 8678, \"ain't\": 8679, 'nothin': 8680, 'unleashes': 8681, 'plagues': 8682, 'sodom': 8683, 'gomorrah': 8684, \"noah's\": 8685, 'ark': 8686, 'flood': 8687, 'abhors': 8688, 'lie': 8689, 'penalty': 8690, 'leader': 8691, 'forehead': 8692, 'damned': 8693, 'dead': 8694, 'repent': 8695, 'mashiach': 8696, 'destroyed': 8697, 'tribulation': 8698, 'destruction': 8699, 'gravity': 8700, 'repented': 8701, 'reject': 8702, 'accepting': 8703, 'antichrist': 8704, 'israel': 8705, 'torment': 8706, 'freedom': 8707, 'swift': 8708, 'immeasurable': 8709, 'eticket': 8710, 'sacrificed': 8711, 'risen': 8712, 'bail': 8713, 'behalf': 8714, \"satan's\": 8715, 'prayer': 8716, 'yeshua': 8717, 'salvation': 8718, 'sinless': 8719, 'sacrificial': 8720, 'boundless': 8721, 'unconditional': 8722, 'highway': 8723, 'rejecting': 8724, 'shalom': 8725, 'venison': 8726, 'bison': 8727, 'stalking': 8728, 'fluctuations': 8729, 'anywhoo': 8730, 'unjustified': 8731, 'lovbe': 8732, 'silki': 8733, 'tuffy': 8734, 'thier': 8735, 'terrorizing': 8736, 'fatherbut': 8737, 'category': 8738, 'specify': 8739, 'maximum': 8740, 'location': 8741, 'refrigeration': 8742, 'petroleum': 8743, 'solvent': 8744, 'shoe': 8745, 'manufacturing': 8746, 'roofing': 8747, \"hexane's\": 8748, 'molecular': 8749, 'structure': 8750, 'considerations': 8751, 'selecting': 8752, 'ideally': 8753, 'oxidation': 8754, 'selected': 8755, 'bypassed': 8756, 'closley': 8757, \"don'tlike\": 8758, 'jumping': 8759, 'deign': 8760, \"'black\": 8761, \"kitty'\": 8762, 'tabs': 8763, 'speciality': 8764, 'alookin': 8765, 'row': 8766, 'uppers': 8767, 'alongside': 8768, 'coyote': 8769, 'coyotes': 8770, 'vittles': 8771, 'b000bxt278': 8772, 'nother': 8773, 'gabby': 8774, 'trinity': 8775, 'documented': 8776, 'cindy': 8777, 'bye': 8778, 'tale': 8779, 'ole': 8780, 'chilli': 8781, 'redone': 8782, 'gathering': 8783, 'donating': 8784, 'effectively': 8785, 'plans': 8786, 'toothpaste': 8787, 'whopper': 8788, 'dec': 8789, 'embarrassing': 8790, 'rotating': 8791, 'whoppers': 8792, 'toddlers': 8793, 'packagings': 8794, 'lundberg': 8795, 'wahini': 8796, 'investigated': 8797, 'survive': 8798, 'investigate': 8799, 'husks': 8800, 'incredients': 8801, 'incredient': 8802, 'joint': 8803, 'compounds': 8804, \"mcdolnald's\": 8805, 'bugers': 8806, 'killing': 8807, 'deserve': 8808, 'leftover': 8809, 'whirley': 8810, 'scorched': 8811, 'donate': 8812, 'accepted': 8813, 'oops': 8814, 'senseos': 8815, 'improvise': 8816, \"donuts'\": 8817, 'promising': 8818, 'goblet': 8819, 'foom': 8820, 'overflowing': 8821, 'gorgeously': 8822, 'fuchsia': 8823, 'progressed': 8824, 'grabby': 8825, 'tone': 8826, 'nostalgic': 8827, 'plato': 8828, 'thinker': 8829, \"barnum's\": 8830, 'crackedness': 8831, 'jerked': 8832, 'joining': 8833, '87': 8834, 'contamination': 8835, 'curtly': 8836, 'mania': 8837, 'gamble': 8838, \"family's\": 8839, 'heebie': 8840, 'jeebies': 8841, 'dv': 8842, 'gulp': 8843, '33g': 8844, 'ww': 8845, 'choc': 8846, 'legged': 8847, 'googles': 8848, 'disagree': 8849, 'munchos': 8850, 'metrx': 8851, 'substitution': 8852, 'division': 8853, 'nfl': 8854, 'nba': 8855, 'mlb': 8856, 'organization': 8857, 'activities': 8858, 'played': 8859, 'tennis': 8860, 'dentist': 8861, 'warns': 8862, 'casual': 8863, 'passable': 8864, 'nutmegs': 8865, \"'coffee\": 8866, \"cake'\": 8867, 'streusel': 8868, 'caved': 8869, '5c': 8870, 'mouthful': 8871, 'gluteny': 8872, 'airy': 8873, 'starches': 8874, 'tinned': 8875, 'predicament': 8876, 'trauma': 8877, 'reality': 8878, 'maniac': 8879, 'crazie': 8880, '63': 8881, 'political': 8882, 'aspersions': 8883, 'scandinavian': 8884, 'crispbread': 8885, 'flushing': 8886, 'psyllium': 8887, 'imaginging': 8888, 'vehicle': 8889, 'withotu': 8890, 'townhouse': 8891, 'crunchmaster': 8892, 'seedy': 8893, 'ar': 8894, 'celcius': 8895, 'trainer': 8896, 'outdoors': 8897, \"kickin'\": 8898, 'goodlife': 8899, 'plump': 8900, 'waterproof': 8901, 'containment': 8902, 'colar': 8903, 'siberian': 8904, 'husky': 8905, 'collar': 8906, 'manual': 8907, 'powered': 8908, 'efficient': 8909, 'unwanted': 8910, 'pests': 8911, 'draft': 8912, 'rodent': 8913, 'examine': 8914, 'opener': 8915, 'inconvenient': 8916, 'basement': 8917, 'shippers': 8918, 'padding': 8919, 'wandering': 8920, 'nylabone': 8921, 'pegetables': 8922, 'economically': 8923, 'recalls': 8924, 'loooveed': 8925, 'gag': 8926, 'untouched': 8927, 'staff': 8928, 'dimensions': 8929, 'nail': 8930, 'error': 8931, 'socorro': 8932, 'soledad': 8933, 'orgasmic': 8934, '73': 8935, 'stole': 8936, 'curve': 8937, 'frustrations': 8938, 'undeniably': 8939, 'oversize': 8940, 'emphasize': 8941, 'puffed': 8942, 'wider': 8943, 'umm': 8944, 'gooooood': 8945, 'taters': 8946, 'ts': 8947, \"water's\": 8948, 'subject': 8949, 'runner': 8950, 'wines': 8951, 'champagne': 8952, 'heartburn': 8953, 'montebello': 8954, 'libation': 8955, 'vicinity': 8956, 'namaste': 8957, 'gluton': 8958, 'april': 8959, 'franchise': 8960, 'undertones': 8961, 'tukwila': 8962, 'wa': 8963, 'approximatly': 8964, 'grandchildren': 8965, 'unpronounceable': 8966, 'delicacies': 8967, 'basenji': 8968, 'super5': 8969, 'artichoke': 8970, 'encountered': 8971, 'resealed': 8972, 'gaps': 8973, 'oxidize': 8974, 'misfortune': 8975, 'encounter': 8976, 'kup': 8977, 'fixes': 8978, 'dilemma': 8979, 'absorbing': 8980, 'bmy': 8981, 'unfortunatly': 8982, 'martini': 8983, 'feb': 8984, 'hurricane': 8985, 'attraction': 8986, 'twinkies': 8987, 'pucker': 8988, 'microwavability': 8989, 'facial': 8990, 'acne': 8991, 'cysts': 8992, 'temples': 8993, 'lotion': 8994, 'famine': 8995, 'rubbing': 8996, 'clearing': 8997, 'retaining': 8998, 'nonsense': 8999, 'routine': 9000, 'preach': 9001, 'judge': 9002, 'sinuses': 9003, \"dandy's\": 9004, 'coton': 9005, 'tulear': 9006, 'vitaman': 9007, '2g': 9008, 'blew': 9009, 'cafeteria': 9010, 'afghanistan': 9011, 'bomrad': 9012, 'torino': 9013, 'dripping': 9014, 'waterdrops': 9015, 'drips': 9016, 'untightened': 9017, 'brainer': 9018, 'demigods': 9019, 'lovlngly': 9020, 'rigid': 9021, 'treasured': 9022, 'alaska': 9023, 'gones': 9024, 'usage': 9025, 'knocking': 9026, 'faucility': 9027, 'purebites': 9028, 'hears': 9029, 'crinkling': 9030, 'commands': 9031, 'disolve': 9032, 'choked': 9033, 'catey': 9034, 'theatres': 9035, 'microwable': 9036, 'endangered': 9037, 'chimp': 9038, 'tactic': 9039, 'provider': 9040, \"welch's\": 9041, 'cures': 9042, 'matzos': 9043, 'mutts': 9044, \"melissa's\": 9045, '22g': 9046, 'waite': 9047, 'exsperience': 9048, 'freinds': 9049, 'kitchens': 9050, 'transactions': 9051, 'wheaten': 9052, \"aunt's\": 9053, 'optimistic': 9054, 'frito': 9055, 'yummily': 9056, 'definitly': 9057, 'guardians': 9058, 'educate': 9059, 'yourselves': 9060, \"pet's\": 9061, 'initiative': 9062, 'eliminate': 9063, 'welless': 9064, 'naturals': 9065, 'innova': 9066, 'prozyme': 9067, 'unlock': 9068, 'assemble': 9069, 'ridiculously': 9070, 'murmurs': 9071, 'murmur': 9072, 'desperately': 9073, 'severity': 9074, 'eiffel': 9075, 'towers': 9076, 'museum': 9077, 'dc': 9078, 'occident': 9079, 'hinterland': 9080, 'shepard': 9081, 'public': 9082, 'stimulation': 9083, 'fetch': 9084, 'napping': 9085, 'dearly': 9086, 'buddy': 9087, 'squirrels': 9088, 'lengths': 9089, 'leads': 9090, 'beniful': 9091, 'sends': 9092, 'bumpers': 9093, 'noisy': 9094, 'carpeted': 9095, 'flooring': 9096, 'tomatoe': 9097, 'airplanes': 9098, \"gourmet's\": 9099, 'amongst': 9100, 'collector': 9101, \"'cod'\": 9102, 'appreciation': 9103, 'periodically': 9104, 'explore': 9105, 'variation': 9106, 'basque': 9107, \"'bacalao\": 9108, 'ala': 9109, \"vizcaina'\": 9110, \"mom's\": 9111, 'straightaway': 9112, 'pa': 9113, 'confirmed': 9114, 'clove': 9115, 'childlike': 9116, 'hic': 9117, \"vitamin's\": 9118, 'adder': 9119, 'replenishing': 9120, 'intravenous': 9121, 'fluids': 9122, 'medical': 9123, 'literature': 9124, 'textured': 9125, 'granddaughter': 9126, 'dear': 9127, 'deduction': 9128, 'broader': 9129, 'concoct': 9130, 'parrot': 9131, 'repeats': 9132, \"'goooood'\": 9133, 'pigging': 9134, 'bertolli': 9135, 'reheats': 9136, 'chopstick': 9137, 'strand': 9138, 'separated': 9139, 'moisten': 9140, 'plainly': 9141, 'bannered': 9142, \"udi's\": 9143, 'toasts': 9144, 'footsteps': 9145, 'practical': 9146, 'standpoint': 9147, 'bada': 9148, 'bing': 9149, 'boasts': 9150, 'mobile': 9151, '3yr': 9152, 'yummyearth': 9153, 'potluck': 9154, 'shortbreads': 9155, 'pics': 9156, 'letter': 9157, 'maryland': 9158, 'checkd': 9159, 'transportation': 9160, 'hitted': 9161, 'nocciola': 9162, 'palm': 9163, 'repurchase': 9164, '92': 9165, 'selections': 9166, 'reasoning': 9167, 'excuse': 9168, \"women's\": 9169, 'menopause': 9170, 'bearable': 9171, 'vanille': 9172, 'cappucino': 9173, 'shine': 9174, 'rican': 9175, 'fullfill': 9176, 'reducing': 9177, 'microwaves': 9178, 'mcdougall': 9179, 'naughty': 9180, 'whats': 9181, 'detalied': 9182, 'sed': 9183, 'any1': 9184, 'insight': 9185, 'stickered': 9186, 'peeling': 9187, 'reconstitutes': 9188, 'purified': 9189, 'pest': 9190, 'controls': 9191, \"valley's\": 9192, 'reconstitution': 9193, 'obama': 9194, 'administration': 9195, 'deregulated': 9196, 'incessantly': 9197, 'killers': 9198, 'horses': 9199, 'foreign': 9200, 'organisms': 9201, 'hybrids': 9202, 'patentable': 9203, 'owns': 9204, 'forcing': 9205, 'denmark': 9206, 'glyphosate': 9207, 'groundwater': 9208, 'published': 9209, 'taiwan': 9210, '93': 9211, 'persons': 9212, 'commit': 9213, 'suicide': 9214, 'gerd': 9215, \"monsanto's\": 9216, 'presence': 9217, 'taylor': 9218, 'lobbyist': 9219, 'vice': 9220, 'appointed': 9221, 'bush': 9222, 'myriad': 9223, 'epa': 9224, 'researchers': 9225, 'allergens': 9226, 'diseases': 9227, 'committed': 9228, 'prohibits': 9229, \"gmo's\": 9230, 'pollinators': 9231, 'blows': 9232, 'pollen': 9233, 'alfafa': 9234, 'tht': 9235, 'drinkers': 9236, 'overhyped': 9237, 'taints': 9238, 'tangled': 9239, 'effortlessly': 9240, 'shampooing': 9241, 'conditioning': 9242, 'frizz': 9243, 'scalps': 9244, 'dysplasia': 9245, 'glucoseamine': 9246, 'catnip': 9247, 'interact': 9248, 'omnipresent': 9249, 'essences': 9250, 'cleaner': 9251, 'purer': 9252, 'portland': 9253, 'reincarnation': 9254, 'unclear': 9255, 'wording': 9256, 'unnecessary': 9257, 'grassy': 9258, 'ricey': 9259, 'aspen': 9260, 'poach': 9261, 'seared': 9262, 'scallops': 9263, 'foodies': 9264, 'patient': 9265, 'thyself': 9266, 'publication': 9267, 'chops': 9268, 'agressive': 9269, 'posses': 9270, 'nylabones': 9271, 'sunk': 9272, 'possessions': 9273, 'brooks': 9274, '7up': 9275, 'backpack': 9276, 'rotate': 9277, 'gin': 9278, 'gins': 9279, 'envisioned': 9280, 'tastiness': 9281, 'vaguely': 9282, 'shaken': 9283, 'reattach': 9284, 'schoko': 9285, 'bons': 9286, 'duped': 9287, 'drift': 9288, 'cheeto': 9289, 'bodum': 9290, 'fare': 9291, 'sky': 9292, 'diapers': 9293, 'overpaying': 9294, 'fairness': 9295, 'engaging': 9296, 'exertion': 9297, 'century': 9298, 'xanthan': 9299, 'encountering': 9300, 'sustained': 9301, 'repetition': 9302, 'eggnog': 9303, 'dial': 9304, 'creaminess': 9305, 'orignial': 9306, 'anemic': 9307, 'sceptical': 9308, 'lathered': 9309, 'sulfates': 9310, 'bathing': 9311, 'sqwincher': 9312, 'landscape': 9313, 'wonders': 9314, \"wife's\": 9315, 'harsher': 9316, 'brighter': 9317, 'ample': 9318, 'impress': 9319, 'reccomended': 9320, 'stong': 9321, 'nondairy': 9322, 'citrate': 9323, 'silicon': 9324, 'uh': 9325, 'alleged': 9326, 'moderates': 9327, 'wateringly': 9328, 'throad': 9329, 'taster': 9330, 'moo': 9331, 'bend': 9332, 'cleans': 9333, 'fo': 9334, 'dende': 9335, 'braziliam': 9336, 'thenutfactory': 9337, 'flights': 9338, 'apron': 9339, 'attendant': 9340, 'jokes': 9341, 'masses': 9342, 'amusing': 9343, 'depite': 9344, 'acquire': 9345, 'calibrated': 9346, 'counters': 9347, \"butter's\": 9348, 'temps': 9349, 'scraped': 9350, 'floats': 9351, 'coconuts': 9352, 'captivates': 9353, 'grogginess': 9354, 'improves': 9355, 'faintly': 9356, 'ness': 9357, 'saliva': 9358, 'forums': 9359, 'allegedly': 9360, 'lauric': 9361, 'mongering': 9362, 'grandpuppies': 9363, 'anus': 9364, 'acustom': 9365, 'devoted': 9366, 'chalk': 9367, 'italians': 9368, 'triangular': 9369, 'tails': 9370, 'owner': 9371, 'poper': 9372, 'cavaliers': 9373, 'flor': 9374, 'essence': 9375, 'strengthened': 9376, 'flu': 9377, 'misrepresentation': 9378, 'awwesome': 9379, 'compact': 9380, 'appeals': 9381, 'crossed': 9382, 'voicing': 9383, 'snobs': 9384, 'detest': 9385, 'tasteful': 9386, \"old's\": 9387, 'upping': 9388, 'plumb': 9389, 'corner': 9390, 'band': 9391, 'immensly': 9392, 'customise': 9393, 'ahold': 9394, 'wroth': 9395, 'aching': 9396, 'nustevia': 9397, 'flashback': 9398, '9yrs': 9399, 'flashbacks': 9400, 'fourteen': 9401, 'absorber': 9402, 'desiccant': 9403, 'zipper': 9404, 'tightly': 9405, 'emotions': 9406, 'faces': 9407, 'presented': 9408, 'excitement': 9409, 'unmistakable': 9410, 'hesitations': 9411, 'walkings': 9412, 'signs': 9413, 'disinterest': 9414, 'youdobetterthan': 9415, 'jaws': 9416, 'oblivious': 9417, 'tzus': 9418, 'slunk': 9419, 'respective': 9420, 'corners': 9421, 'private': 9422, 'feasting': 9423, 'transformation': 9424, 'prize': 9425, 'growl': 9426, 'hovering': 9427, 'wolf': 9428, 'wrapture': 9429, 'vac': 9430, 'nonterrier': 9431, 'hers': 9432, 'sisters': 9433, 'lessening': 9434, 'triumvirate': 9435, 'elicited': 9436, 'prehistoric': 9437, 'passion': 9438, 'pooches': 9439, 'bouts': 9440, 'jury': 9441, 'unanimous': 9442, 'definitively': 9443, 'pawsitive': 9444, \"'proof\": 9445, \"'\": 9446, 'guard': 9447, 'droste': 9448, 'nails': 9449, \"kudo's\": 9450, 'crocker': 9451, 'spatula': 9452, 'edges': 9453, 'flatten': 9454, 'assembled': 9455, 'unfrozen': 9456, 'dragon': 9457, 'belive': 9458, 'saco': 9459, 'ralphs': 9460, 'spilled': 9461, 'jbertsiesfavs': 9462, 'crud': 9463, 'organically': 9464, 'hail': 9465, 'uniformly': 9466, 'bi': 9467, 'oikos': 9468, 'mmmmm': 9469, 'mmmmmm': 9470, 'zipfizz': 9471, 'saccharin': 9472, 'hypersweet': 9473, 'adios': 9474, 'abused': 9475, 'chickens': 9476, 'reluctant': 9477, \"intelligentsia's\": 9478, '97': 9479, 'hurried': 9480, 'deceived': 9481, 'nuggetts': 9482, 'apology': 9483, 'smelly': 9484, 'vines': 9485, 'twizzlers': 9486, 'spirals': 9487, 'weaken': 9488, 'mightiest': 9489, 'willpower': 9490, 'thge': 9491, 'bummer': 9492, 'succulent': 9493, 'peruvian': 9494, 'sotre': 9495, 'caption': 9496, 'orzo': 9497, 'grocerey': 9498, 'consistancy': 9499, 'delcious': 9500, 'doubts': 9501, 'cared': 9502, 'craze': 9503, 'youth': 9504, \"flakes'\": 9505, 'rda': 9506, 'whopping': 9507, 'debatable': 9508, 'maintains': 9509, 'dawdle': 9510, 'favoraite': 9511, 'hudsband': 9512, 'vaccum': 9513, 'onine': 9514, 'tase': 9515, 'dit': 9516, \"blender's\": 9517, 'icicle': 9518, 'themintmovieman': 9519, 'b000vz8wc2': 9520, 'micmatec': 9521, 'xlr': 9522, 'usb': 9523, 'preamp': 9524, 'condenser': 9525, 'microphones': 9526, 'vowed': 9527, 'burning': 9528, 'decade': 9529, 'suggests': 9530, \"li'l\": 9531, 'stupendously': 9532, 'lone': 9533, \"fanatic's\": 9534, 'perception': 9535, 'emulates': 9536, 'trumps': 9537, 'tickly': 9538, 'senstation': 9539, 'dangerously': 9540, 'shall': 9541, 'purrfect': 9542, 'enhances': 9543, 'nutrtional': 9544, 'considerably': 9545, 'stellar': 9546, 'beter': 9547, 'organs': 9548, 'everthing': 9549, 'uncomplicated': 9550, \"chewey's\": 9551, 'nutriton': 9552, 'spoons': 9553, \"chewy's\": 9554, 'extraordinarily': 9555, 'mush': 9556, 'recovery': 9557, 'downs': 9558, 'grahm': 9559, 'crakers': 9560, 'comical': 9561, 'removes': 9562, 'madame': 9563, 'wong': 9564, 'dogfood': 9565, 'hooves': 9566, 'puffy': 9567, 'sunkist': 9568, \"kern's\": 9569, 'philippines': 9570, 'tan': 9571, 'concentrates': 9572, 'trigger': 9573, 'v8': 9574, 'fusion': 9575, 'mcness': 9576, 'propylene': 9577, 'glycol': 9578, 'fizzing': 9579, 'cartridge': 9580, 'casing': 9581, '10ib': 9582, 'mortar': 9583, 'pestle': 9584, 'accumulate': 9585, 'amazingg': 9586, 'engaged': 9587, 'acclimated': 9588, 'surroundings': 9589, 'dachshunds': 9590, 'hunt': 9591, 'relief': 9592, 'unmistakably': 9593, \"'yum'\": 9594, 'lets': 9595, 'replicates': 9596, 'steamer': 9597, 'fortune': 9598, 'led': 9599, 'cytomax': 9600, 'endurance': 9601, 'bike': 9602, 'soupy': 9603, 'taiwanese': 9604, 'breakfasts': 9605, 'doubted': 9606, 'exhorbitant': 9607, \"'investigating'\": 9608, \"'currently\": 9609, \"selling'\": 9610, 'competing': 9611, 'ahem': 9612, 'visting': 9613, 'illinois': 9614, 'te': 9615, 'saddened': 9616, 'begun': 9617, 'record': 9618, 'crimes': 9619, 'pancreas': 9620, 'gee': 9621, 'clinically': 9622, 'obesity': 9623, \"fox's\": 9624, 'negates': 9625, \"daddy's\": 9626, 'foufou': 9627, 'tweaking': 9628, 'absolutlely': 9629, 'afraid': 9630, 'reusing': 9631, 'wholeheartedly': 9632, 'masked': 9633, 'glazed': 9634, 'ewok': 9635, 'dingos': 9636, 'rug': 9637, 'preground': 9638, \"dunkin's\": 9639, 'ballpark': 9640, 'anfair': 9641, 'powerful': 9642, 'perfects': 9643, 'compose': 9644, 'gardened': 9645, 'sri': 9646, 'lanka': 9647, 'bestows': 9648, 'imparts': 9649, 'malty': 9650, 'burgundy': 9651, 'muscatel': 9652, 'cultivated': 9653, 'unrivaled': 9654, 'magnificent': 9655, 'resembling': 9656, \"dawn's\": 9657, 'greet': 9658, 'radiant': 9659, 'daybreak': 9660, 'rinsing': 9661, 'earthly': 9662, \"rec'd\": 9663, 'shia': 9664, '5yr': 9665, 'growning': 9666, 'pom': 9667, 'reluctance': 9668, 'sauteing': 9669, 'nicole': 9670, 'numorous': 9671, 'deaths': 9672, 'granulated': 9673, 'silicate': 9674, '62oz': 9675, 'b007e2jvkc': 9676, '62': 9677, 'cakey': 9678, 'hotline': 9679, 'upc': 9680, '22oz': 9681, 'grandma': 9682, 'yummier': 9683, 'fondanting': 9684, 'decorators': 9685, 'cringe': 9686, 'ing': 9687, 'hang': 9688, 'freudianly': 9689, 'misspronouncing': 9690, 'loud': 9691, \"fondant's\": 9692, 'yummieness': 9693, 'distantly': 9694, 'tutorial': 9695, 'sculpt': 9696, 'coverings': 9697, 'jackie': 9698, 'domesticfits': 9699, 'dot': 9700, 'culinary': 9701, 'organized': 9702, 'junky': 9703, 'soonder': 9704, 'transport': 9705, 'handbags': 9706, 'powdery': 9707, 'horrid': 9708, 'sailing': 9709, 'pleasent': 9710, 'serendipitously': 9711, 'tinnie': 9712, 'bribe': 9713, 'cavlier': 9714, 'charles': 9715, 'barkley': 9716, 'gypsy': 9717, 'shopped': 9718, 'cattlemens': 9719, 'phenomenial': 9720, 'salivating': 9721, 'quaified': 9722, 'dissappointed': 9723, 'tense': 9724, 'enlighten': 9725, \"'sorry\": 9726, \"receipt'\": 9727, 'thermometer': 9728, 'crapped': 9729, 'gentleman': 9730, 'warranty': 9731, 'loosing': 9732, 'november': 9733, \"pantry's\": 9734, 'bom': 9735, 'dice': 9736, 'cautious': 9737, 'biting': 9738, 'meeting': 9739, \"taylor's\": 9740, 'measurement': 9741, 'cucumber': 9742, 'hardcore': 9743, 'misconception': 9744, 'grounded': 9745, 'elixir': 9746, 'tarahumara': 9747, 'indians': 9748, 'gels': 9749, \"phelps's\": 9750, 'gu': 9751, 'puzzled': 9752, 'phenomenal': 9753, 'asap': 9754, 'fabalous': 9755, 'argentina': 9756, 'adhered': 9757, 'hefty': 9758, 'squeezed': 9759, 'unseal': 9760, 'resealing': 9761, 'b003xy22e2': 9762, 'anysetiers': 9763, 'roy': 9764, 'shoulders': 9765, 'thyme': 9766, 'crocks': 9767, 'sealing': 9768, 'spelled': 9769, 'spelling': 9770, \"pirate's\": 9771, 'booty': 9772, 'sellers': 9773, 'irritate': 9774, 'dole': 9775, 'trendy': 9776, 'tragic': 9777, 'compel': 9778, 'oranges': 9779, 'indulgent': 9780, 'necessity': 9781, 'pellegrino': 9782, 'aranciata': 9783, 'orangina': 9784, 'luxury': 9785, 'hateful': 9786, 'alka': 9787, 'nighttime': 9788, 'sneezing': 9789, 'sniffling': 9790, 'piquant': 9791, 'fool': 9792, 'seduction': 9793, 'transmitted': 9794, 'lable': 9795, 'muss': 9796, 'robot': 9797, 'phones': 9798, 'congrats': 9799, 'moved': 9800, 'sensation': 9801, 'lhasa': 9802, 'risking': 9803, 'requests': 9804, 'shirley': 9805, 'bray': 9806, '13oz': 9807, 'presweetened': 9808, 'tabulous': 9809, 'grand': 9810, 'tangerine': 9811, 'popcorns': 9812, 'shatter': 9813, 'painful': 9814, 'chest': 9815, 'choosing': 9816, 'torn': 9817, 'heaviest': 9818, 'bentley': 9819, 'mushier': 9820, 'indefinately': 9821, 'conversation': 9822, \"reese's\": 9823, 'dived': 9824, 'beckoning': 9825, 'obligate': 9826, 'carnivores': 9827, 'digesting': 9828, 'physiology': 9829, 'itms': 9830, '1x': 9831, '2x': 9832, 'homework': 9833, 'schedules': 9834, 'b002duccem': 9835, 'maxi': 9836, 'matic': 9837, 'epm': 9838, 'tabletop': 9839, 'retro': 9840, 'ding': 9841, 'ejected': 9842, 'indicating': 9843, 'diversified': 9844, 'climb': 9845, 'decreases': 9846, 'pretended': 9847, 'powerbar': 9848, \"snackwell's\": 9849, 'snackwells': 9850, 'utterly': 9851, 'sugarless': 9852, \"wonka's\": 9853, 'indistinguishable': 9854, 'mimicked': 9855, 'boggles': 9856, 'shortcake': 9857, \"chai's\": 9858, 'grcoery': 9859, 'warehouse': 9860, 'professionally': 9861, 'requirement': 9862, 'conveniently': 9863, 'envelopes': 9864, 'evil': 9865, 'krinkles': 9866, 'prebiotic': 9867, 'selectively': 9868, 'nurtures': 9869, 'gut': 9870, 'downsides': 9871, 'crunches': 9872, 'measures': 9873, 'bakes': 9874, 'objective': 9875, 'gallons': 9876, '2lb': 9877, '1lb': 9878, 'sorrel': 9879, 'blessed': 9880, 'thistle': 9881, 'bloodroot': 9882, 'accurately': 9883, 'remain': 9884, 'scientific': 9885, 'ojibwah': 9886, 'cynthia': 9887, 'olson': 9888, 'sorel': 9889, 'amounting': 9890, 'bige': 9891, 'wad': 9892, 'golf': 9893, 'scales': 9894, \"week's\": 9895, 'dillute': 9896, 'whimpy': 9897, 'saucepan': 9898, 'burner': 9899, 'pray': 9900, 'harmony': 9901, 'philosophy': 9902, 'purification': 9903, 'knock': 9904, 'adust': 9905, 'posted': 9906, 'portraits': 9907, 'playfully': 9908, 'afterward': 9909, 'incident': 9910, 'purifying': 9911, 'drs': 9912, 'nuking': 9913, 'procedures': 9914, 'viable': 9915, 'colloidal': 9916, 'antibiotic': 9917, 'fights': 9918, 'safely': 9919, 'utis': 9920, 'usnea': 9921, 'uva': 9922, 'ursi': 9923, 'tincture': 9924, 'tools': 9925, 'progresses': 9926, '10th': 9927, 'suddenly': 9928, 'supper': 9929, 'belly': 9930, 'inflated': 9931, 'volleyball': 9932, 'screeming': 9933, 'weakly': 9934, 'ivs': 9935, 'determined': 9936, 'aggressive': 9937, 'euthanize': 9938, 'lymph': 9939, 'abdomen': 9940, 'untreatable': 9941, 'steroids': 9942, 'compounded': 9943, 'restore': 9944, 'prognosis': 9945, 'grim': 9946, 'tumor': 9947, 'peacefully': 9948, 'anorexic': 9949, 'lethargic': 9950, 'respiratory': 9951, 'irrigating': 9952, 'syringe': 9953, 'released': 9954, 'protocol': 9955, 'rectum': 9956, 'personality': 9957, 'plays': 9958, 'responded': 9959, 'soreness': 9960, 'hikes': 9961, 'stairs': 9962, 'suv': 9963, 'ignore': 9964, 'radiation': 9965, 'therapies': 9966, 'weapon': 9967, 'advanced': 9968, 'miraculous': 9969, 'shortest': 9970, 'despair': 9971, 'grief': 9972, 'bond': 9973, \"shadow's\": 9974, 'passing': 9975, 'emotionally': 9976, 'importance': 9977, 'stabilize': 9978, 'prophylactically': 9979, 'penney': 9980, 'haard': 9981, 'whe': 9982, 'duper': 9983, 'aficionado': 9984, \"'til\": 9985, 'prisrob': 9986, '1605292885': 9987, 'onward': 9988, 'fought': 9989, '0071477845': 9990, 'principles': 9991, 'twinnings': 9992, 'tagless': 9993, 'sinking': 9994, 'elemenats': 9995, 'pamelas': 9996, 'region': 9997, \"taste's\": 9998, \"ralph's\": 9999, \"formula's\": 10000, 'soo': 10001, 'crystallized': 10002, 'limb': 10003, 'quadruple': 10004, 'pleasurable': 10005, 'nailed': 10006, 'clicked': 10007, 'sucker': 10008, 'nicer': 10009, 'imho': 10010, 'fitting': 10011, 'compromising': 10012, 'compensated': 10013, '93709': 10014, '30060': 10015, 'letting': 10016, 'vent': 10017, 'canning': 10018, 'colour': 10019, 'replied': 10020, 'expiry': 10021, 'caffenated': 10022, '3tsp': 10023, '2tsp': 10024, 'pans': 10025, 'wadded': 10026, 'ridged': 10027, 'sojos': 10028, 'caring': 10029, 'satisflying': 10030, 'places': 10031, 'tenessee': 10032, 'marble': 10033, 'pro': 10034, 'suitable': 10035, \"puppy's\": 10036, 'feces': 10037, 'objectively': 10038, 'forbid': 10039, 'cutesy': 10040, 'cliches': 10041, 'discriminating': 10042, 'dimension': 10043, 'educated': 10044, 'baffled': 10045, 'misunderstanding': 10046, 'kups': 10047, '500': 10048, 'inserting': 10049, 'verify': 10050, 'walmarts': 10051, 'distress': 10052, 'swig': 10053, 'barks': 10054, 'evokes': 10055, 'confectionery': 10056, 'visitors': 10057, 'imbues': 10058, 'cubicle': 10059, 'vents': 10060, 'attracting': 10061, 'droopy': 10062, 'eyed': 10063, 'raspberries': 10064, 'chocolatiers': 10065, 'departed': 10066, 'b0039556k2': 10067, 'heady': 10068, \"keurig's\": 10069, '24k': 10070, 'muir': 10071, 'glen': 10072, 'amateur': 10073, 'shortage': 10074, 'dunk': 10075, 'borrow': 10076, 'phrase': 10077, \"tast'n\": 10078, 'litte': 10079, 'happier': 10080, '468': 10081, 'exclusive': 10082, 'surly': 10083, 'suburban': 10084, 'ammonia': 10085, 'urine': 10086, 'repellants': 10087, 'havahart': 10088, 'connecticut': 10089, 'suburbs': 10090, 'scanning': 10091, 'repellant': 10092, 'resembles': 10093, 'population': 10094, 'indifferent': 10095, '55pound': 10096, 'pitt': 10097, 'shortly': 10098, 'wavy': 10099, 'waves': 10100, 'brushed': 10101, 'resistant': 10102, 'clearance': 10103, 'poping': 10104, '12ozbottle': 10105, 'swings': 10106, 'proving': 10107, 'invaluable': 10108, 'counteract': 10109, 'rebound': 10110, 'insomnia': 10111, 'moodiness': 10112, 'withdrawal': 10113, 'blended': 10114, \"roarin'\": 10115, 'suger': 10116, 'encouraged': 10117, 'texmati': 10118, 'coarse': 10119, 'hazard': 10120, 'zwieback': 10121, 'hawk': 10122, 'saltiest': 10123, 'trek': 10124, 'inflate': 10125, 'lator': 10126, '4000': 10127, 'vile': 10128, 'sweaty': 10129, 'offensive': 10130, '770mg': 10131, 'ouch': 10132, 'bullion': 10133, 'cube': 10134, 'processor': 10135, 'pits': 10136, 'rochester': 10137, 'fondest': 10138, 'offend': 10139, '3am': 10140, 'grinning': 10141, 'infact': 10142, 'balances': 10143, 'cafenated': 10144, 'separately': 10145, 'cockers': 10146, 'houses': 10147, 'possessive': 10148, 'unattended': 10149, 'rifling': 10150, 'weeds': 10151, 'tougher': 10152, 'tail': 10153, 'chewiness': 10154, \"today's\": 10155, 'society': 10156, 'perennial': 10157, 'eu': 10158, \"'homemade'\": 10159, 'tracked': 10160, 'weiner': 10161, 'schools': 10162, '2000': 10163, 'psycho': 10164, 'phase': 10165, 'sweden': 10166, 'duo': 10167, 'migraine': 10168, 'union': 10169, 'collective': 10170, 'shoot': 10171, 'pimp': 10172, 'ventures': 10173, 'genres': 10174, 'tidbits': 10175, 'progressive': 10176, 'jazzy': 10177, 'nine': 10178, 'jukebox': 10179, 'games': 10180, 'underground': 10181, 'introduce': 10182, 'gia': 10183, 'russa': 10184, 'adjustment': 10185, 'dente': 10186, 'starchier': 10187, 'greatly': 10188, 'sauced': 10189, 'tish': 10190, 'husbands': 10191, 'declan': 10192, 'inserted': 10193, 'cavity': 10194, \"kong's\": 10195, 'sweating': 10196, 'chains': 10197, 'cassorole': 10198, 'oversteeped': 10199, 'ahmad': 10200, 'extras': 10201, 'frothy': 10202, 'katharena': 10203, 'eiermann': 10204, 'promply': 10205, 'presents': 10206, 'diameter': 10207, 'manitoba': 10208, 'fluke': 10209, 'profusely': 10210, 'ecoli': 10211, 'tossed': 10212, 'injury': 10213, 'biotic': 10214, 'sinusitis': 10215, 'monocytes': 10216, 'cells': 10217, 'inflammatory': 10218, 'cytokines': 10219, 'tlr': 10220, 'toll': 10221, 'receptor': 10222, 'tlrs': 10223, 'innate': 10224, 'mu': 10225, 'presentaion': 10226, 'darlings': 10227, 'vegetarians': 10228, 'methods': 10229, 'undergoing': 10230, 'felines': 10231, 'differing': 10232, 'proportions': 10233, 'undergo': 10234, 'indigestion': 10235, 'surest': 10236, 'detritus': 10237, 'staring': 10238, 'impatiently': 10239, 'chaotic': 10240, 'pouncy': 10241, 'certainty': 10242, 'scared': 10243, 'seemingly': 10244, 'daring': 10245, 'participate': 10246, 'inhumane': 10247, 'resources': 10248, 'attempt': 10249, 'b00028qdmy': 10250, 'matte': 10251, 'cart': 10252, 'supersaver': 10253, 'bluffalo': 10254, '25lbs': 10255, 'b000xzbxp8': 10256, 'regional': 10257, 'maypo': 10258, 'eta': 10259, 'plural': 10260, 'rustling': 10261, 'gorilla': 10262, 'unrustles': 10263, 'caories': 10264, 'definatley': 10265, 'nettle': 10266, 'cleanse': 10267, 'airedale': 10268, 'poisoning': 10269, 'calvados': 10270, 'brandy': 10271, 'aspartame': 10272, 'overwhelms': 10273, 'cookouts': 10274, 'ace': 10275, 'nitrite': 10276, 'menus': 10277, 'b000emx13c': 10278, '9th': 10279, '11th': 10280, \"'fish'\": 10281, 'bilberry': 10282, 'adapted': 10283, 'tolorate': 10284, \"'fishy'\": 10285, 'hawthorn': 10286, 'worthington': 10287, 'skallops': 10288, 'cash': 10289, '32oz': 10290, 'darkly': 10291, 'downgrade': 10292, 'wheaties': 10293, 'pbjs': 10294, 'et': 10295, 'fueled': 10296, 'sm': 10297, 'agreed': 10298, 'occupying': 10299, 'existent': 10300, 'brushing': 10301, \"justin's\": 10302, 'dissatisfaction': 10303, \"muncho's\": 10304, 'yirgacheffe': 10305, 'positivity': 10306, 'tyke': 10307, 'butternut': 10308, 'church': 10309, 'luxating': 10310, 'patella': 10311, 'rear': 10312, 'limps': 10313, 'excite': 10314, 'hershey': 10315, 'goodsense': 10316, \"'kale\": 10317, \"concentrate'\": 10318, 'sixth': 10319, 'sickened': 10320, 'dogswell': 10321, 'competitive': 10322, 'oblivion': 10323, 'identifiably': 10324, 'flesh': 10325, \"'blah'\": 10326, 'preventative': 10327, 'reconsider': 10328, 'vacationing': 10329, 'tourist': 10330, 'cabins': 10331, 'bichon': 10332, 'longest': 10333, 'stressed': 10334, 'stare': 10335, 'protest': 10336, 'preservative': 10337, 'necks': 10338, 'dads': 10339, 'disability': 10340, 'relationship': 10341, 'bajan': 10342, 'speightstown': 10343, 'tantalizing': 10344, 'unused': 10345, 'faded': 10346, 'carousel': 10347, 'diminished': 10348, 'flossies': 10349, 'snouts': 10350, 'lifesavers': 10351, 'a1': 10352, 'carber': 10353, 'godsend': 10354, 'prednisone': 10355, 'oversight': 10356, 'shelters': 10357, 'spca': 10358, 'welfare': 10359, 'ghirardelli': 10360, 'fulled': 10361, 'chocalate': 10362, 'presentable': 10363, 'nothingheld': 10364, '21st': 10365, '30th': 10366, 'seams': 10367, 'sturdier': 10368, 'sigh': 10369, 'drugstore': 10370, \"target's\": 10371, 'b000nmjwzo': 10372, 'b00006fmt8': 10373, 'wafflemaker': 10374, 'chrome': 10375, 'b0012s8owa': 10376, 'nonstick': 10377, 'waffle': 10378, 'shallow': 10379, 'holed': 10380, 'b00168637y': 10381, 'faulty': 10382, '4lb': 10383, 'impressively': 10384, 'b004m8tka2': 10385, 'restock': 10386, 'gevlia': 10387, 'desirable': 10388, \"'next\": 10389, \"thing'\": 10390, 'meets': 10391, 'guidelines': 10392, \"husband's\": 10393, 'goals': 10394, 'beliefs': 10395, 'crumbiness': 10396, 'crumby': 10397, 'dishwasher': 10398, 'ammount': 10399, 'inducing': 10400, 'puked': 10401, 'met': 10402, 'varities': 10403, 'reasonibly': 10404, 'fod': 10405, 'regurgitates': 10406, 'raving': 10407, 'opted': 10408, 'whisking': 10409, 'blanket': 10410, 'matchas': 10411, 'cheesecakes': 10412, 'velvety': 10413, \"morton's\": 10414, 'flavorable': 10415, 'bothers': 10416, 'induces': 10417, 'marshalls': 10418, 'creek': 10419, 'w00t': 10420, 'comprison': 10421, \"nissin's\": 10422, 'hardely': 10423, 'guiltless': 10424, 'ultimately': 10425, 'crispier': 10426, \"these'll\": 10427, 'pennies': 10428, 'stubborn': 10429, 'refeshing': 10430, 'reviewing': 10431, 'flatulance': 10432, '980mg': 10433, '980': 10434, \"souxsie's\": 10435, 'landed': 10436, 'remarked': 10437, 'perky': 10438, 'beige': 10439, 'circular': 10440, 'pucks': 10441, 'modern': 10442, 'unappetizing': 10443, 'finnickiest': 10444, 'salisbury': 10445, 'pinky': 10446, 'freakish': 10447, \"roomate's\": 10448, 'translated': 10449, 'enticing': 10450, 'yeeeeees': 10451, 'submit': 10452, 'petting': 10453, 'housecats': 10454, 'basics': 10455, 'hiss': 10456, 'overcome': 10457, 'react': 10458, 'spoonable': 10459, 'hints': 10460, 'sum': 10461, 'reveiwer': 10462, 'stingy': 10463, 'electricity': 10464, 'pillsbury': 10465, 'smoothy': 10466, 'rosette': 10467, 'lyon': 10468, 'everybody': 10469}\n"
     ]
    }
   ],
   "source": [
    "word_index = tokenizer.word_index  \n",
    "print(word_index)"
   ]
  },
  {
   "cell_type": "code",
   "execution_count": 53,
   "id": "7f517549",
   "metadata": {
    "execution": {
     "iopub.execute_input": "2025-03-12T13:06:52.459027Z",
     "iopub.status.busy": "2025-03-12T13:06:52.458698Z",
     "iopub.status.idle": "2025-03-12T13:06:52.463985Z",
     "shell.execute_reply": "2025-03-12T13:06:52.462736Z"
    },
    "papermill": {
     "duration": 0.190938,
     "end_time": "2025-03-12T13:06:52.465678",
     "exception": false,
     "start_time": "2025-03-12T13:06:52.274740",
     "status": "completed"
    },
    "tags": []
   },
   "outputs": [
    {
     "name": "stdout",
     "output_type": "stream",
     "text": [
      "[[1, 118, 8, 64, 78, 6, 21, 26, 776]]\n"
     ]
    }
   ],
   "source": [
    "sentence = [\"The sugar is too much.It was so terrible\"]\n",
    "sequence = tokenizer.texts_to_sequences(sentence)\n",
    "print(sequence)  \n",
    "from tensorflow.keras.preprocessing.sequence import pad_sequences\n",
    "\n"
   ]
  },
  {
   "cell_type": "code",
   "execution_count": 54,
   "id": "6f96ed4d",
   "metadata": {
    "execution": {
     "iopub.execute_input": "2025-03-12T13:06:52.829019Z",
     "iopub.status.busy": "2025-03-12T13:06:52.828662Z",
     "iopub.status.idle": "2025-03-12T13:06:52.836523Z",
     "shell.execute_reply": "2025-03-12T13:06:52.835152Z"
    },
    "papermill": {
     "duration": 0.1907,
     "end_time": "2025-03-12T13:06:52.838056",
     "exception": false,
     "start_time": "2025-03-12T13:06:52.647356",
     "status": "completed"
    },
    "tags": []
   },
   "outputs": [
    {
     "name": "stdout",
     "output_type": "stream",
     "text": [
      "[[[  1 118   8  64  78   6  21  26 776]\n",
      "  [  0   0   0   0   0   0   0   0   0]\n",
      "  [  0   0   0   0   0   0   0   0   0]\n",
      "  [  0   0   0   0   0   0   0   0   0]\n",
      "  [  0   0   0   0   0   0   0   0   0]\n",
      "  [  0   0   0   0   0   0   0   0   0]\n",
      "  [  0   0   0   0   0   0   0   0   0]\n",
      "  [  0   0   0   0   0   0   0   0   0]\n",
      "  [  0   0   0   0   0   0   0   0   0]\n",
      "  [  0   0   0   0   0   0   0   0   0]\n",
      "  [  0   0   0   0   0   0   0   0   0]\n",
      "  [  0   0   0   0   0   0   0   0   0]\n",
      "  [  0   0   0   0   0   0   0   0   0]\n",
      "  [  0   0   0   0   0   0   0   0   0]\n",
      "  [  0   0   0   0   0   0   0   0   0]\n",
      "  [  0   0   0   0   0   0   0   0   0]\n",
      "  [  0   0   0   0   0   0   0   0   0]\n",
      "  [  0   0   0   0   0   0   0   0   0]\n",
      "  [  0   0   0   0   0   0   0   0   0]\n",
      "  [  0   0   0   0   0   0   0   0   0]\n",
      "  [  0   0   0   0   0   0   0   0   0]\n",
      "  [  0   0   0   0   0   0   0   0   0]\n",
      "  [  0   0   0   0   0   0   0   0   0]\n",
      "  [  0   0   0   0   0   0   0   0   0]\n",
      "  [  0   0   0   0   0   0   0   0   0]\n",
      "  [  0   0   0   0   0   0   0   0   0]\n",
      "  [  0   0   0   0   0   0   0   0   0]\n",
      "  [  0   0   0   0   0   0   0   0   0]\n",
      "  [  0   0   0   0   0   0   0   0   0]\n",
      "  [  0   0   0   0   0   0   0   0   0]\n",
      "  [  0   0   0   0   0   0   0   0   0]\n",
      "  [  0   0   0   0   0   0   0   0   0]\n",
      "  [  0   0   0   0   0   0   0   0   0]\n",
      "  [  0   0   0   0   0   0   0   0   0]\n",
      "  [  0   0   0   0   0   0   0   0   0]\n",
      "  [  0   0   0   0   0   0   0   0   0]\n",
      "  [  0   0   0   0   0   0   0   0   0]\n",
      "  [  0   0   0   0   0   0   0   0   0]\n",
      "  [  0   0   0   0   0   0   0   0   0]\n",
      "  [  0   0   0   0   0   0   0   0   0]\n",
      "  [  0   0   0   0   0   0   0   0   0]\n",
      "  [  0   0   0   0   0   0   0   0   0]\n",
      "  [  0   0   0   0   0   0   0   0   0]\n",
      "  [  0   0   0   0   0   0   0   0   0]\n",
      "  [  0   0   0   0   0   0   0   0   0]\n",
      "  [  0   0   0   0   0   0   0   0   0]\n",
      "  [  0   0   0   0   0   0   0   0   0]\n",
      "  [  0   0   0   0   0   0   0   0   0]\n",
      "  [  0   0   0   0   0   0   0   0   0]\n",
      "  [  0   0   0   0   0   0   0   0   0]\n",
      "  [  0   0   0   0   0   0   0   0   0]\n",
      "  [  0   0   0   0   0   0   0   0   0]\n",
      "  [  0   0   0   0   0   0   0   0   0]\n",
      "  [  0   0   0   0   0   0   0   0   0]\n",
      "  [  0   0   0   0   0   0   0   0   0]\n",
      "  [  0   0   0   0   0   0   0   0   0]\n",
      "  [  0   0   0   0   0   0   0   0   0]\n",
      "  [  0   0   0   0   0   0   0   0   0]\n",
      "  [  0   0   0   0   0   0   0   0   0]\n",
      "  [  0   0   0   0   0   0   0   0   0]\n",
      "  [  0   0   0   0   0   0   0   0   0]\n",
      "  [  0   0   0   0   0   0   0   0   0]\n",
      "  [  0   0   0   0   0   0   0   0   0]\n",
      "  [  0   0   0   0   0   0   0   0   0]\n",
      "  [  0   0   0   0   0   0   0   0   0]\n",
      "  [  0   0   0   0   0   0   0   0   0]\n",
      "  [  0   0   0   0   0   0   0   0   0]\n",
      "  [  0   0   0   0   0   0   0   0   0]\n",
      "  [  0   0   0   0   0   0   0   0   0]\n",
      "  [  0   0   0   0   0   0   0   0   0]\n",
      "  [  0   0   0   0   0   0   0   0   0]\n",
      "  [  0   0   0   0   0   0   0   0   0]\n",
      "  [  0   0   0   0   0   0   0   0   0]\n",
      "  [  0   0   0   0   0   0   0   0   0]\n",
      "  [  0   0   0   0   0   0   0   0   0]\n",
      "  [  0   0   0   0   0   0   0   0   0]\n",
      "  [  0   0   0   0   0   0   0   0   0]\n",
      "  [  0   0   0   0   0   0   0   0   0]\n",
      "  [  0   0   0   0   0   0   0   0   0]\n",
      "  [  0   0   0   0   0   0   0   0   0]\n",
      "  [  0   0   0   0   0   0   0   0   0]\n",
      "  [  0   0   0   0   0   0   0   0   0]\n",
      "  [  0   0   0   0   0   0   0   0   0]\n",
      "  [  0   0   0   0   0   0   0   0   0]\n",
      "  [  0   0   0   0   0   0   0   0   0]\n",
      "  [  0   0   0   0   0   0   0   0   0]\n",
      "  [  0   0   0   0   0   0   0   0   0]\n",
      "  [  0   0   0   0   0   0   0   0   0]\n",
      "  [  0   0   0   0   0   0   0   0   0]\n",
      "  [  0   0   0   0   0   0   0   0   0]\n",
      "  [  0   0   0   0   0   0   0   0   0]\n",
      "  [  0   0   0   0   0   0   0   0   0]\n",
      "  [  0   0   0   0   0   0   0   0   0]\n",
      "  [  0   0   0   0   0   0   0   0   0]\n",
      "  [  0   0   0   0   0   0   0   0   0]\n",
      "  [  0   0   0   0   0   0   0   0   0]\n",
      "  [  0   0   0   0   0   0   0   0   0]\n",
      "  [  0   0   0   0   0   0   0   0   0]\n",
      "  [  0   0   0   0   0   0   0   0   0]\n",
      "  [  0   0   0   0   0   0   0   0   0]]]\n"
     ]
    }
   ],
   "source": [
    "\n",
    "padSequence = pad_sequences([sequence], maxlen=100, padding='post')\n",
    "print(padSequence)"
   ]
  },
  {
   "cell_type": "code",
   "execution_count": 55,
   "id": "28e2e5c6",
   "metadata": {
    "execution": {
     "iopub.execute_input": "2025-03-12T13:06:53.200277Z",
     "iopub.status.busy": "2025-03-12T13:06:53.199921Z",
     "iopub.status.idle": "2025-03-12T13:06:53.206706Z",
     "shell.execute_reply": "2025-03-12T13:06:53.205196Z"
    },
    "papermill": {
     "duration": 0.189901,
     "end_time": "2025-03-12T13:06:53.208626",
     "exception": false,
     "start_time": "2025-03-12T13:06:53.018725",
     "status": "completed"
    },
    "tags": []
   },
   "outputs": [
    {
     "name": "stdout",
     "output_type": "stream",
     "text": [
      "Embedding for 'sugar':\n",
      "[-0.50102    0.47693   -0.23094    0.09815   -0.47729   -0.54223\n",
      "  0.19187    0.36668   -0.26447   -0.44727   -0.21512   -0.84391\n",
      " -0.45054    0.69984   -0.26606   -0.24881    0.33414   -0.05652\n",
      "  0.40768   -0.11274   -0.099327   0.42851    0.65168    0.0055395\n",
      " -0.52028    1.3586    -0.14236   -1.1546    -0.36393    0.49567\n",
      "  0.25667    0.51449    0.10041   -0.46008   -0.6317     0.23392\n",
      "  0.37104    1.023      0.0097355 -0.59805   -0.24065   -1.6984\n",
      " -0.37061   -1.0264     0.83776   -0.053104  -0.66479    0.10912\n",
      " -0.14153   -0.86754   -0.92637   -0.10687    0.10497    1.0619\n",
      " -0.19815   -0.71592   -1.3721    -0.012372   1.0085    -0.34587\n",
      "  0.16928   -0.18378   -0.26609   -0.72865    0.49342   -0.79251\n",
      "  0.44063   -0.025357   0.60194   -1.0359    -0.14034    0.13473\n",
      "  0.30057    1.1319     0.41484    0.11245   -0.021234  -0.79753\n",
      " -0.21025    1.0682     0.26589   -0.57706   -0.79301    0.91439\n",
      " -0.603     -0.20592    0.2189    -0.25648   -0.013136   0.2554\n",
      " -0.328      0.013645  -1.6106    -0.21453   -1.3448    -1.1468\n",
      "  0.24619   -0.35302    0.62473   -0.31267  ]\n"
     ]
    }
   ],
   "source": [
    "word_to_check = \"sugar\"\n",
    "\n",
    "if word_to_check in gloveEmbeddings:\n",
    "    print(f\"Embedding for '{word_to_check}':\\n{gloveEmbeddings[word_to_check]}\")\n",
    "else:\n",
    "    print(f\"'{word_to_check}' not found in GloVe embeddings.\")\n"
   ]
  },
  {
   "cell_type": "code",
   "execution_count": 56,
   "id": "ee4d2435",
   "metadata": {
    "execution": {
     "iopub.execute_input": "2025-03-12T13:06:53.576074Z",
     "iopub.status.busy": "2025-03-12T13:06:53.575529Z",
     "iopub.status.idle": "2025-03-12T13:06:53.583946Z",
     "shell.execute_reply": "2025-03-12T13:06:53.582435Z"
    },
    "papermill": {
     "duration": 0.193962,
     "end_time": "2025-03-12T13:06:53.585992",
     "exception": false,
     "start_time": "2025-03-12T13:06:53.392030",
     "status": "completed"
    },
    "tags": []
   },
   "outputs": [
    {
     "name": "stdout",
     "output_type": "stream",
     "text": [
      "Embedding for 'is':\n",
      "[-0.54264    0.41476    1.0322    -0.40244    0.46691    0.21816\n",
      " -0.074864   0.47332    0.080996  -0.22079   -0.12808   -0.1144\n",
      "  0.50891    0.11568    0.028211  -0.3628     0.43823    0.047511\n",
      "  0.20282    0.49857   -0.10068    0.13269    0.16972    0.11653\n",
      "  0.31355    0.25713    0.092783  -0.56826   -0.52975   -0.051456\n",
      " -0.67326    0.92533    0.2693     0.22734    0.66365    0.26221\n",
      "  0.19719    0.2609     0.18774   -0.3454    -0.42635    0.13975\n",
      "  0.56338   -0.56907    0.12398   -0.12894    0.72484   -0.26105\n",
      " -0.26314   -0.43605    0.078908  -0.84146    0.51595    1.3997\n",
      " -0.7646    -3.1453    -0.29202   -0.31247    1.5129     0.52435\n",
      "  0.21456    0.42452   -0.088411  -0.17805    1.1876     0.10579\n",
      "  0.76571    0.21914    0.35824   -0.11636    0.093261  -0.62483\n",
      " -0.21898    0.21796    0.74056   -0.43735    0.14343    0.14719\n",
      " -1.1605    -0.050508   0.12677   -0.014395  -0.98676   -0.091297\n",
      " -1.2054    -0.11974    0.047847  -0.54001    0.52457   -0.70963\n",
      " -0.32528   -0.1346    -0.41314    0.33435   -0.0072412  0.32253\n",
      " -0.044219  -1.2969     0.76217    0.46349  ]\n"
     ]
    }
   ],
   "source": [
    "word2 = \"is\"\n",
    "\n",
    "if word2 in gloveEmbeddings:\n",
    "    print(f\"Embedding for '{word2}':\\n{gloveEmbeddings[word2]}\")\n",
    "else:\n",
    "    print(f\"'{word2}' not found in GloVe embeddings.\")"
   ]
  },
  {
   "cell_type": "code",
   "execution_count": 57,
   "id": "48f9496f",
   "metadata": {
    "execution": {
     "iopub.execute_input": "2025-03-12T13:06:54.046800Z",
     "iopub.status.busy": "2025-03-12T13:06:54.046440Z",
     "iopub.status.idle": "2025-03-12T13:06:54.052445Z",
     "shell.execute_reply": "2025-03-12T13:06:54.051339Z"
    },
    "papermill": {
     "duration": 0.24908,
     "end_time": "2025-03-12T13:06:54.054069",
     "exception": false,
     "start_time": "2025-03-12T13:06:53.804989",
     "status": "completed"
    },
    "tags": []
   },
   "outputs": [
    {
     "name": "stdout",
     "output_type": "stream",
     "text": [
      "Embedding for 'the':\n",
      "[-0.038194 -0.24487   0.72812  -0.39961   0.083172  0.043953 -0.39141\n",
      "  0.3344   -0.57545   0.087459  0.28787  -0.06731   0.30906  -0.26384\n",
      " -0.13231  -0.20757   0.33395  -0.33848  -0.31743  -0.48336   0.1464\n",
      " -0.37304   0.34577   0.052041  0.44946  -0.46971   0.02628  -0.54155\n",
      " -0.15518  -0.14107  -0.039722  0.28277   0.14393   0.23464  -0.31021\n",
      "  0.086173  0.20397   0.52624   0.17164  -0.082378 -0.71787  -0.41531\n",
      "  0.20335  -0.12763   0.41367   0.55187   0.57908  -0.33477  -0.36559\n",
      " -0.54857  -0.062892  0.26584   0.30205   0.99775  -0.80481  -3.0243\n",
      "  0.01254  -0.36942   2.2167    0.72201  -0.24978   0.92136   0.034514\n",
      "  0.46745   1.1079   -0.19358  -0.074575  0.23353  -0.052062 -0.22044\n",
      "  0.057162 -0.15806  -0.30798  -0.41625   0.37972   0.15006  -0.53212\n",
      " -0.2055   -1.2526    0.071624  0.70565   0.49744  -0.42063   0.26148\n",
      " -1.538    -0.30223  -0.073438 -0.28312   0.37104  -0.25217   0.016215\n",
      " -0.017099 -0.38984   0.87424  -0.72569  -0.51058  -0.52028  -0.1459\n",
      "  0.8278    0.27062 ]\n"
     ]
    }
   ],
   "source": [
    "word3 = \"the\"\n",
    "\n",
    "if word3 in gloveEmbeddings:\n",
    "    print(f\"Embedding for '{word3}':\\n{gloveEmbeddings[word3]}\")\n",
    "else:\n",
    "    print(f\"'{word3}' not found in GloVe embeddings.\")"
   ]
  },
  {
   "cell_type": "code",
   "execution_count": 58,
   "id": "1b2d8d82",
   "metadata": {
    "execution": {
     "iopub.execute_input": "2025-03-12T13:06:54.432343Z",
     "iopub.status.busy": "2025-03-12T13:06:54.431979Z",
     "iopub.status.idle": "2025-03-12T13:06:54.438177Z",
     "shell.execute_reply": "2025-03-12T13:06:54.437167Z"
    },
    "papermill": {
     "duration": 0.201542,
     "end_time": "2025-03-12T13:06:54.439750",
     "exception": false,
     "start_time": "2025-03-12T13:06:54.238208",
     "status": "completed"
    },
    "tags": []
   },
   "outputs": [
    {
     "name": "stdout",
     "output_type": "stream",
     "text": [
      "Embedding for 'too':\n",
      "[-6.1040e-01  2.8971e-01  6.2573e-01 -6.5753e-01 -5.9586e-01  7.6895e-02\n",
      " -6.0556e-01  1.0634e-02  3.4783e-01 -4.3325e-01  1.3869e-01  2.2622e-01\n",
      " -8.0813e-02 -2.4775e-01 -1.0613e-01 -5.5539e-01 -5.8195e-01  2.1491e-01\n",
      "  2.8707e-02  5.4337e-01  5.3498e-01  8.0320e-01  2.7518e-01 -2.8186e-01\n",
      " -7.0555e-02  3.5080e-01 -1.0586e+00 -1.0073e+00 -1.7399e-02  1.0048e-01\n",
      "  6.8697e-02  4.5259e-01 -2.3724e-01 -3.5439e-01  2.2933e-01  5.2986e-01\n",
      " -8.8526e-02  1.7798e-01 -3.6976e-01 -4.7994e-02 -1.3154e-01 -2.5357e-01\n",
      " -1.7017e-01 -4.8352e-01 -3.6778e-01 -5.5602e-01  5.8723e-01  4.0939e-01\n",
      "  3.4807e-01 -8.4191e-01  2.1293e-01 -4.0240e-01  6.3245e-02  1.2009e+00\n",
      " -3.1677e-01 -2.4433e+00  3.6761e-01  9.1433e-02  1.5495e+00  1.1378e-02\n",
      "  5.8241e-02  1.3236e+00 -4.8752e-01  1.7317e-01  6.7283e-01 -2.3639e-01\n",
      "  8.8461e-01  1.5139e-01 -1.2190e-01 -1.5251e-01 -1.9425e-01 -6.2059e-01\n",
      "  5.4896e-02  1.7419e-03  3.9242e-01 -2.7105e-01 -4.6918e-01 -6.7190e-02\n",
      " -5.2223e-01  2.0321e-02  8.1756e-01 -2.7581e-01 -6.5014e-01 -1.5146e-01\n",
      " -2.0179e+00 -5.1833e-01 -5.5365e-02  1.5961e-01 -9.3043e-01 -4.8969e-01\n",
      " -3.3129e-02 -1.0458e-01 -1.8781e-01 -1.0454e-02 -4.2382e-01 -2.7874e-01\n",
      " -4.5546e-01 -3.5054e-01  5.2370e-02  3.4214e-01]\n"
     ]
    }
   ],
   "source": [
    "word4 = \"too\"\n",
    "\n",
    "if word4 in gloveEmbeddings:\n",
    "    print(f\"Embedding for '{word4}':\\n{gloveEmbeddings[word4]}\")\n",
    "else:\n",
    "    print(f\"'{word4}' not found in GloVe embeddings.\")"
   ]
  },
  {
   "cell_type": "code",
   "execution_count": 59,
   "id": "5d8019c6",
   "metadata": {
    "execution": {
     "iopub.execute_input": "2025-03-12T13:06:54.809794Z",
     "iopub.status.busy": "2025-03-12T13:06:54.809447Z",
     "iopub.status.idle": "2025-03-12T13:06:54.815727Z",
     "shell.execute_reply": "2025-03-12T13:06:54.814623Z"
    },
    "papermill": {
     "duration": 0.193342,
     "end_time": "2025-03-12T13:06:54.817652",
     "exception": false,
     "start_time": "2025-03-12T13:06:54.624310",
     "status": "completed"
    },
    "tags": []
   },
   "outputs": [
    {
     "name": "stdout",
     "output_type": "stream",
     "text": [
      "Embedding for 'much':\n",
      "[-0.3384    0.6032    0.61412  -0.05686  -0.37309  -0.061981 -0.40583\n",
      " -0.11304   0.018956 -0.086392 -0.19767   0.30401  -0.17332  -0.58002\n",
      "  0.25126  -0.83477  -0.34257   0.18994   0.093403  0.68556   0.41599\n",
      "  0.44229  -0.080242 -0.29032   0.026182 -0.066266 -0.29265  -0.61917\n",
      " -0.003058 -0.30887   0.046545  0.29265  -0.11817  -0.099073 -0.12231\n",
      "  0.44359   0.037724  0.34108  -0.31529   0.22834  -0.23893  -0.53311\n",
      "  0.09226  -0.26013  -0.345    -0.079983  0.80432  -0.34395   0.42991\n",
      " -1.2454    0.22909  -0.031585  0.14377   1.1435   -0.29506  -2.7798\n",
      " -0.083334 -0.50714   1.5535    0.25629   0.43922   1.3835   -0.65789\n",
      "  0.23549   0.66741  -0.084843  0.83077   0.18837   0.49648   0.076237\n",
      "  0.082209 -0.38204   0.12748   0.10687   0.19172  -0.092941 -0.31443\n",
      " -0.35409  -1.0228    0.452     0.53832   0.089991 -0.67326   0.18871\n",
      " -1.5292    0.083864  0.016029 -0.11863  -0.40369  -0.49117   0.36135\n",
      " -0.25832  -0.24702  -0.18608  -0.48393  -0.48878  -0.30166  -0.37964\n",
      "  0.59431   0.61286 ]\n"
     ]
    }
   ],
   "source": [
    "word5 = \"much\"\n",
    "\n",
    "if word5 in gloveEmbeddings:\n",
    "    print(f\"Embedding for '{word5}':\\n{gloveEmbeddings[word5]}\")\n",
    "else:\n",
    "    print(f\"'{word5}' not found in GloVe embeddings.\")"
   ]
  },
  {
   "cell_type": "code",
   "execution_count": 60,
   "id": "e4afd4ab",
   "metadata": {
    "execution": {
     "iopub.execute_input": "2025-03-12T13:06:55.188170Z",
     "iopub.status.busy": "2025-03-12T13:06:55.187837Z",
     "iopub.status.idle": "2025-03-12T13:06:55.193528Z",
     "shell.execute_reply": "2025-03-12T13:06:55.192524Z"
    },
    "papermill": {
     "duration": 0.190675,
     "end_time": "2025-03-12T13:06:55.195131",
     "exception": false,
     "start_time": "2025-03-12T13:06:55.004456",
     "status": "completed"
    },
    "tags": []
   },
   "outputs": [
    {
     "name": "stdout",
     "output_type": "stream",
     "text": [
      "Embedding for 'it':\n",
      "[-3.0664e-01  1.6821e-01  9.8511e-01 -3.3606e-01 -2.4160e-01  1.6186e-01\n",
      " -5.3496e-02  4.3010e-01  5.7342e-01 -7.1569e-02  3.6101e-01  2.6729e-01\n",
      "  2.7789e-01 -7.2268e-02  1.3838e-01 -2.6714e-01  1.2999e-01  2.2949e-01\n",
      " -1.8311e-01  5.0163e-01  4.4921e-01 -2.0821e-02  4.2642e-01 -6.8762e-02\n",
      "  4.0337e-01  9.5198e-02 -3.1944e-01 -5.4651e-01 -1.3345e-01 -5.6511e-01\n",
      " -2.0975e-01  1.1592e+00 -1.9400e-01  1.9828e-01 -1.1924e-01  4.1781e-01\n",
      "  6.8383e-03 -2.0537e-01 -5.3375e-01 -5.2225e-01 -3.8227e-01 -6.5833e-03\n",
      "  1.4265e-01 -4.2502e-01 -3.1150e-01  2.7352e-03  7.5093e-01 -4.8218e-01\n",
      " -1.8595e-01 -7.7104e-01 -4.6406e-02 -6.9140e-02  4.1688e-01  1.3235e+00\n",
      " -8.1742e-01 -3.3998e+00 -1.1307e-01 -3.4123e-01  2.0775e+00  6.1369e-01\n",
      "  1.4792e-01  9.3753e-01 -1.0138e-01  2.8426e-01  9.7899e-01 -3.2335e-01\n",
      "  6.3697e-01  5.8308e-01  2.2820e-01 -3.1696e-01  2.1061e-01 -6.5060e-01\n",
      "  2.1653e-01 -2.4347e-01  5.5519e-01 -3.4351e-01 -9.5093e-02 -1.4715e-01\n",
      " -1.2876e+00  3.9310e-01  3.0163e-01 -2.1767e-01 -1.1146e+00  5.1349e-01\n",
      " -1.3410e+00 -3.0381e-01  3.2499e-01 -4.5236e-01 -1.7743e-01 -4.8504e-02\n",
      " -1.2178e-01 -4.2108e-01 -4.0327e-01  3.8452e-02 -3.6084e-01  3.7738e-02\n",
      " -2.1885e-01 -3.8775e-01  3.6916e-01  5.4521e-01]\n"
     ]
    }
   ],
   "source": [
    "word6 = \"it\"\n",
    "\n",
    "if word6 in gloveEmbeddings:\n",
    "    print(f\"Embedding for '{word6}':\\n{gloveEmbeddings[word6]}\")\n",
    "else:\n",
    "    print(f\"'{word6}' not found in GloVe embeddings.\")"
   ]
  },
  {
   "cell_type": "code",
   "execution_count": 61,
   "id": "b4ec1a7b",
   "metadata": {
    "execution": {
     "iopub.execute_input": "2025-03-12T13:06:55.623241Z",
     "iopub.status.busy": "2025-03-12T13:06:55.622904Z",
     "iopub.status.idle": "2025-03-12T13:06:55.629096Z",
     "shell.execute_reply": "2025-03-12T13:06:55.627795Z"
    },
    "papermill": {
     "duration": 0.251218,
     "end_time": "2025-03-12T13:06:55.630841",
     "exception": false,
     "start_time": "2025-03-12T13:06:55.379623",
     "status": "completed"
    },
    "tags": []
   },
   "outputs": [
    {
     "name": "stdout",
     "output_type": "stream",
     "text": [
      "Embedding for 'was':\n",
      "[ 1.3717e-01 -5.4287e-01  1.9419e-01 -2.9953e-01  1.7545e-01  8.4672e-02\n",
      "  6.7752e-01  9.8295e-02 -3.5611e-02  2.1334e-01  5.1663e-01  2.0687e-01\n",
      "  4.4082e-01 -3.3655e-01  5.6025e-01 -6.8790e-01  5.1957e-01 -2.1258e-01\n",
      " -5.2708e-01 -1.2249e-01  3.3099e-01  2.6448e-02  5.9007e-01  6.5469e-03\n",
      "  4.5405e-01 -3.3884e-01 -2.8261e-01 -2.4633e-01  1.0847e-01  3.1640e-01\n",
      " -1.5368e-01  7.3503e-01  1.1858e-01  7.0842e-01  7.5081e-02  2.9738e-01\n",
      " -1.1395e-01  4.0807e-01 -4.2531e-02 -2.1301e-01 -7.9849e-01 -1.2703e-01\n",
      "  7.5200e-01 -4.1746e-01  4.6615e-01 -3.9097e-02  6.5961e-01 -3.2336e-01\n",
      "  4.4200e-01 -9.4137e-01 -2.3125e-01 -3.0604e-01  7.9912e-01  1.4581e+00\n",
      " -8.8199e-01 -3.0041e+00 -7.5243e-01 -2.0503e-01  1.1998e+00  9.4881e-01\n",
      "  3.0649e-01  4.8411e-01 -7.5720e-01  6.5856e-01  7.0107e-01 -9.3141e-01\n",
      "  5.2928e-01  2.3323e-01  1.8857e-01  3.8691e-01  1.1489e-02 -3.1937e-01\n",
      "  1.1858e-02  2.2944e-01  1.7764e-01  1.6868e-01  1.4003e-01  5.8647e-01\n",
      " -1.5447e+00 -6.4425e-02 -6.4711e-04  1.3606e-01 -3.2695e-01  1.0043e-01\n",
      " -1.5460e+00 -5.4760e-01  2.1027e-01 -6.7195e-01 -1.5970e-01 -6.8271e-01\n",
      " -2.2043e-01 -8.7088e-01 -1.6248e-01  8.3086e-01 -2.3045e-01  1.9864e-01\n",
      " -5.1892e-02 -5.2057e-01  2.5434e-01 -2.3759e-01]\n"
     ]
    }
   ],
   "source": [
    "word7 = \"was\"\n",
    "\n",
    "if word7 in gloveEmbeddings:\n",
    "    print(f\"Embedding for '{word7}':\\n{gloveEmbeddings[word7]}\")\n",
    "else:\n",
    "    print(f\"'{word7}' not found in GloVe embeddings.\")"
   ]
  },
  {
   "cell_type": "code",
   "execution_count": 62,
   "id": "99ffa65a",
   "metadata": {
    "execution": {
     "iopub.execute_input": "2025-03-12T13:06:55.996183Z",
     "iopub.status.busy": "2025-03-12T13:06:55.995846Z",
     "iopub.status.idle": "2025-03-12T13:06:56.002045Z",
     "shell.execute_reply": "2025-03-12T13:06:56.000884Z"
    },
    "papermill": {
     "duration": 0.189979,
     "end_time": "2025-03-12T13:06:56.003752",
     "exception": false,
     "start_time": "2025-03-12T13:06:55.813773",
     "status": "completed"
    },
    "tags": []
   },
   "outputs": [
    {
     "name": "stdout",
     "output_type": "stream",
     "text": [
      "Embedding for 'so':\n",
      "[-3.9551e-01  5.4660e-01  5.0315e-01 -6.3682e-01 -4.5470e-01  3.0889e-01\n",
      " -4.9240e-02  2.7191e-01  3.1562e-01 -3.2879e-01  2.5089e-01  1.4508e-01\n",
      "  3.5136e-01 -2.2793e-01 -1.5894e-01 -5.1527e-01 -2.7978e-01  3.6470e-01\n",
      " -3.9425e-01  3.3299e-01  4.3051e-01  1.8300e-01  2.5095e-01 -1.8547e-01\n",
      "  3.4698e-01  5.5137e-02 -4.5979e-01 -8.2963e-01 -1.8523e-02 -3.6772e-01\n",
      "  4.5566e-02  7.1052e-01 -2.2782e-02 -8.0889e-02  2.0685e-01  4.9855e-01\n",
      " -5.9794e-02 -8.0048e-03 -2.3823e-01 -3.3759e-01 -2.4201e-01 -2.3788e-01\n",
      " -1.1362e-03 -4.0395e-01 -4.4859e-01 -3.2189e-01  4.8405e-01 -2.7999e-02\n",
      "  1.0148e-01 -9.3585e-01 -8.7522e-02 -3.9959e-01  3.6545e-01  1.3726e+00\n",
      " -3.0713e-01 -2.5940e+00  2.2431e-01 -4.1168e-02  1.7765e+00  4.0010e-01\n",
      " -1.0996e-01  1.4178e+00 -2.6154e-01  1.8617e-01  7.9328e-01 -1.1709e-01\n",
      "  8.7541e-01  4.3911e-01  3.4711e-01 -2.8515e-01  7.6269e-02 -6.3038e-01\n",
      "  1.6408e-01 -3.7053e-01  5.8485e-01 -1.5472e-01 -2.6382e-01 -1.8590e-01\n",
      " -7.5228e-01 -1.5752e-01  7.8539e-01 -1.8846e-02 -8.0130e-01  1.5561e-01\n",
      " -1.8624e+00 -1.6969e-01  1.9419e-01 -3.0683e-01 -7.8067e-01 -4.9689e-01\n",
      " -1.8256e-01 -4.2016e-02 -2.6290e-01  5.8531e-02 -4.4664e-01 -9.9765e-02\n",
      " -4.3050e-01 -2.3693e-01 -1.4519e-02  3.1981e-01]\n"
     ]
    }
   ],
   "source": [
    "word8 = \"so\"\n",
    "\n",
    "if word8 in gloveEmbeddings:\n",
    "    print(f\"Embedding for '{word8}':\\n{gloveEmbeddings[word8]}\")\n",
    "else:\n",
    "    print(f\"'{word8}' not found in GloVe embeddings.\")"
   ]
  },
  {
   "cell_type": "code",
   "execution_count": 63,
   "id": "64cbc05f",
   "metadata": {
    "execution": {
     "iopub.execute_input": "2025-03-12T13:06:56.368278Z",
     "iopub.status.busy": "2025-03-12T13:06:56.367951Z",
     "iopub.status.idle": "2025-03-12T13:06:56.373952Z",
     "shell.execute_reply": "2025-03-12T13:06:56.372927Z"
    },
    "papermill": {
     "duration": 0.190829,
     "end_time": "2025-03-12T13:06:56.375488",
     "exception": false,
     "start_time": "2025-03-12T13:06:56.184659",
     "status": "completed"
    },
    "tags": []
   },
   "outputs": [
    {
     "name": "stdout",
     "output_type": "stream",
     "text": [
      "Embedding for 'terrible':\n",
      "[ 0.23329   0.010617  0.42689  -0.32641  -1.0809    0.25532  -0.4322\n",
      "  0.15733   0.15852  -0.26616   0.030956  0.21665  -0.21391  -0.061479\n",
      " -0.054855  0.50001  -0.77447   0.089656 -0.73531   0.61803   0.118\n",
      "  0.18501  -0.073202 -0.21066   0.15761   0.22562  -0.3406    0.47012\n",
      "  0.47449  -0.61687   0.25747  -0.24729   0.012812 -0.16493  -0.8882\n",
      " -0.47489  -0.52072  -0.12297   0.77504  -0.089192 -0.18547   0.83209\n",
      "  0.15041  -0.47365   0.1489    0.48985   1.0188    0.20297  -0.56428\n",
      " -0.67022   0.2263   -0.060194  0.20877   0.63827   0.098412 -1.6901\n",
      "  0.70448   0.79248   0.45988   0.085941 -0.11283   0.80774  -1.3575\n",
      " -1.0195    0.49793  -0.24394   0.46319  -0.33754  -0.54731  -0.47561\n",
      " -0.25493  -0.35981   0.19464   0.66821   1.0873    0.55029  -0.14909\n",
      "  0.24495  -0.37286   1.0092    0.74697   0.49547  -0.06678   0.69373\n",
      " -1.3526   -0.22684  -0.56067  -0.70837  -0.87754  -0.77609   0.15096\n",
      " -0.059991  0.18824   0.47238   0.033939 -0.053981  0.028484 -0.32052\n",
      " -0.19139  -0.08567 ]\n"
     ]
    }
   ],
   "source": [
    "word9 = \"terrible\"\n",
    "\n",
    "if word9 in gloveEmbeddings:\n",
    "    print(f\"Embedding for '{word9}':\\n{gloveEmbeddings[word9]}\")\n",
    "else:\n",
    "    print(f\"'{word9}' not found in GloVe embeddings.\")"
   ]
  }
 ],
 "metadata": {
  "kaggle": {
   "accelerator": "none",
   "dataSources": [
    {
     "datasetId": 18,
     "sourceId": 2157,
     "sourceType": "datasetVersion"
    },
    {
     "datasetId": 4167194,
     "sourceId": 7203508,
     "sourceType": "datasetVersion"
    }
   ],
   "dockerImageVersionId": 30918,
   "isGpuEnabled": false,
   "isInternetEnabled": true,
   "language": "python",
   "sourceType": "notebook"
  },
  "kernelspec": {
   "display_name": "Python 3",
   "language": "python",
   "name": "python3"
  },
  "language_info": {
   "codemirror_mode": {
    "name": "ipython",
    "version": 3
   },
   "file_extension": ".py",
   "mimetype": "text/x-python",
   "name": "python",
   "nbconvert_exporter": "python",
   "pygments_lexer": "ipython3",
   "version": "3.10.12"
  },
  "papermill": {
   "default_parameters": {},
   "duration": 494.1238,
   "end_time": "2025-03-12T13:06:59.329098",
   "environment_variables": {},
   "exception": null,
   "input_path": "__notebook__.ipynb",
   "output_path": "__notebook__.ipynb",
   "parameters": {},
   "start_time": "2025-03-12T12:58:45.205298",
   "version": "2.6.0"
  }
 },
 "nbformat": 4,
 "nbformat_minor": 5
}
