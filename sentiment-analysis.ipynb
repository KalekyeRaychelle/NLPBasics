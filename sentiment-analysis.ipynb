{
 "cells": [
  {
   "cell_type": "code",
   "execution_count": 1,
   "id": "9d8803d5",
   "metadata": {
    "_cell_guid": "b1076dfc-b9ad-4769-8c92-a6c4dae69d19",
    "_uuid": "8f2839f25d086af736a60e9eeb907d3b93b6e0e5",
    "execution": {
     "iopub.execute_input": "2025-03-09T13:21:51.276121Z",
     "iopub.status.busy": "2025-03-09T13:21:51.275751Z",
     "iopub.status.idle": "2025-03-09T13:21:52.492429Z",
     "shell.execute_reply": "2025-03-09T13:21:52.490930Z"
    },
    "papermill": {
     "duration": 1.232971,
     "end_time": "2025-03-09T13:21:52.495043",
     "exception": false,
     "start_time": "2025-03-09T13:21:51.262072",
     "status": "completed"
    },
    "tags": []
   },
   "outputs": [
    {
     "name": "stdout",
     "output_type": "stream",
     "text": [
      "/kaggle/input/glove-6b-100-d/glove.6B.100d.txt\n",
      "/kaggle/input/amazon-fine-food-reviews/hashes.txt\n",
      "/kaggle/input/amazon-fine-food-reviews/Reviews.csv\n",
      "/kaggle/input/amazon-fine-food-reviews/database.sqlite\n"
     ]
    }
   ],
   "source": [
    "# This Python 3 environment comes with many helpful analytics libraries installed\n",
    "# It is defined by the kaggle/python Docker image: https://github.com/kaggle/docker-python\n",
    "# For example, here's several helpful packages to load\n",
    "\n",
    "import numpy as np # linear algebra\n",
    "import pandas as pd # data processing, CSV file I/O (e.g. pd.read_csv)\n",
    "\n",
    "# Input data files are available in the read-only \"../input/\" directory\n",
    "# For example, running this (by clicking run or pressing Shift+Enter) will list all files under the input directory\n",
    "\n",
    "import os\n",
    "for dirname, _, filenames in os.walk('/kaggle/input'):\n",
    "    for filename in filenames:\n",
    "        print(os.path.join(dirname, filename))\n",
    "\n",
    "# You can write up to 20GB to the current directory (/kaggle/working/) that gets preserved as output when you create a version using \"Save & Run All\" \n",
    "# You can also write temporary files to /kaggle/temp/, but they won't be saved outside of the current session"
   ]
  },
  {
   "cell_type": "code",
   "execution_count": 2,
   "id": "59aa491e",
   "metadata": {
    "execution": {
     "iopub.execute_input": "2025-03-09T13:21:52.519676Z",
     "iopub.status.busy": "2025-03-09T13:21:52.519128Z",
     "iopub.status.idle": "2025-03-09T13:21:52.523956Z",
     "shell.execute_reply": "2025-03-09T13:21:52.522591Z"
    },
    "papermill": {
     "duration": 0.01893,
     "end_time": "2025-03-09T13:21:52.525915",
     "exception": false,
     "start_time": "2025-03-09T13:21:52.506985",
     "status": "completed"
    },
    "tags": []
   },
   "outputs": [],
   "source": [
    "import pandas as pd"
   ]
  },
  {
   "cell_type": "code",
   "execution_count": 3,
   "id": "ac19361c",
   "metadata": {
    "execution": {
     "iopub.execute_input": "2025-03-09T13:21:52.549526Z",
     "iopub.status.busy": "2025-03-09T13:21:52.549178Z",
     "iopub.status.idle": "2025-03-09T13:22:01.661614Z",
     "shell.execute_reply": "2025-03-09T13:22:01.660379Z"
    },
    "papermill": {
     "duration": 9.126808,
     "end_time": "2025-03-09T13:22:01.664117",
     "exception": false,
     "start_time": "2025-03-09T13:21:52.537309",
     "status": "completed"
    },
    "tags": []
   },
   "outputs": [],
   "source": [
    "dataset=pd.read_csv(r\"/kaggle/input/amazon-fine-food-reviews/Reviews.csv\")"
   ]
  },
  {
   "cell_type": "code",
   "execution_count": 4,
   "id": "ebea2b04",
   "metadata": {
    "execution": {
     "iopub.execute_input": "2025-03-09T13:22:01.688755Z",
     "iopub.status.busy": "2025-03-09T13:22:01.688360Z",
     "iopub.status.idle": "2025-03-09T13:22:01.693046Z",
     "shell.execute_reply": "2025-03-09T13:22:01.691963Z"
    },
    "papermill": {
     "duration": 0.019097,
     "end_time": "2025-03-09T13:22:01.694972",
     "exception": false,
     "start_time": "2025-03-09T13:22:01.675875",
     "status": "completed"
    },
    "tags": []
   },
   "outputs": [],
   "source": [
    "pd.set_option('display.max_colwidth', None)\n"
   ]
  },
  {
   "cell_type": "code",
   "execution_count": 5,
   "id": "36aac1fd",
   "metadata": {
    "execution": {
     "iopub.execute_input": "2025-03-09T13:22:01.719560Z",
     "iopub.status.busy": "2025-03-09T13:22:01.719203Z",
     "iopub.status.idle": "2025-03-09T13:22:01.951510Z",
     "shell.execute_reply": "2025-03-09T13:22:01.950014Z"
    },
    "papermill": {
     "duration": 0.246513,
     "end_time": "2025-03-09T13:22:01.953457",
     "exception": false,
     "start_time": "2025-03-09T13:22:01.706944",
     "status": "completed"
    },
    "tags": []
   },
   "outputs": [
    {
     "name": "stdout",
     "output_type": "stream",
     "text": [
      "<class 'pandas.core.frame.DataFrame'>\n",
      "RangeIndex: 568454 entries, 0 to 568453\n",
      "Data columns (total 10 columns):\n",
      " #   Column                  Non-Null Count   Dtype \n",
      "---  ------                  --------------   ----- \n",
      " 0   Id                      568454 non-null  int64 \n",
      " 1   ProductId               568454 non-null  object\n",
      " 2   UserId                  568454 non-null  object\n",
      " 3   ProfileName             568428 non-null  object\n",
      " 4   HelpfulnessNumerator    568454 non-null  int64 \n",
      " 5   HelpfulnessDenominator  568454 non-null  int64 \n",
      " 6   Score                   568454 non-null  int64 \n",
      " 7   Time                    568454 non-null  int64 \n",
      " 8   Summary                 568427 non-null  object\n",
      " 9   Text                    568454 non-null  object\n",
      "dtypes: int64(5), object(5)\n",
      "memory usage: 43.4+ MB\n"
     ]
    }
   ],
   "source": [
    "dataset.info()"
   ]
  },
  {
   "cell_type": "code",
   "execution_count": 6,
   "id": "418b597e",
   "metadata": {
    "execution": {
     "iopub.execute_input": "2025-03-09T13:22:01.977465Z",
     "iopub.status.busy": "2025-03-09T13:22:01.976916Z",
     "iopub.status.idle": "2025-03-09T13:22:02.007979Z",
     "shell.execute_reply": "2025-03-09T13:22:02.006065Z"
    },
    "papermill": {
     "duration": 0.045896,
     "end_time": "2025-03-09T13:22:02.010722",
     "exception": false,
     "start_time": "2025-03-09T13:22:01.964826",
     "status": "completed"
    },
    "tags": []
   },
   "outputs": [
    {
     "data": {
      "text/html": [
       "<div>\n",
       "<style scoped>\n",
       "    .dataframe tbody tr th:only-of-type {\n",
       "        vertical-align: middle;\n",
       "    }\n",
       "\n",
       "    .dataframe tbody tr th {\n",
       "        vertical-align: top;\n",
       "    }\n",
       "\n",
       "    .dataframe thead th {\n",
       "        text-align: right;\n",
       "    }\n",
       "</style>\n",
       "<table border=\"1\" class=\"dataframe\">\n",
       "  <thead>\n",
       "    <tr style=\"text-align: right;\">\n",
       "      <th></th>\n",
       "      <th>Id</th>\n",
       "      <th>ProductId</th>\n",
       "      <th>UserId</th>\n",
       "      <th>ProfileName</th>\n",
       "      <th>HelpfulnessNumerator</th>\n",
       "      <th>HelpfulnessDenominator</th>\n",
       "      <th>Score</th>\n",
       "      <th>Time</th>\n",
       "      <th>Summary</th>\n",
       "      <th>Text</th>\n",
       "    </tr>\n",
       "  </thead>\n",
       "  <tbody>\n",
       "    <tr>\n",
       "      <th>0</th>\n",
       "      <td>1</td>\n",
       "      <td>B001E4KFG0</td>\n",
       "      <td>A3SGXH7AUHU8GW</td>\n",
       "      <td>delmartian</td>\n",
       "      <td>1</td>\n",
       "      <td>1</td>\n",
       "      <td>5</td>\n",
       "      <td>1303862400</td>\n",
       "      <td>Good Quality Dog Food</td>\n",
       "      <td>I have bought several of the Vitality canned dog food products and have found them all to be of good quality. The product looks more like a stew than a processed meat and it smells better. My Labrador is finicky and she appreciates this product better than  most.</td>\n",
       "    </tr>\n",
       "    <tr>\n",
       "      <th>1</th>\n",
       "      <td>2</td>\n",
       "      <td>B00813GRG4</td>\n",
       "      <td>A1D87F6ZCVE5NK</td>\n",
       "      <td>dll pa</td>\n",
       "      <td>0</td>\n",
       "      <td>0</td>\n",
       "      <td>1</td>\n",
       "      <td>1346976000</td>\n",
       "      <td>Not as Advertised</td>\n",
       "      <td>Product arrived labeled as Jumbo Salted Peanuts...the peanuts were actually small sized unsalted. Not sure if this was an error or if the vendor intended to represent the product as \"Jumbo\".</td>\n",
       "    </tr>\n",
       "    <tr>\n",
       "      <th>2</th>\n",
       "      <td>3</td>\n",
       "      <td>B000LQOCH0</td>\n",
       "      <td>ABXLMWJIXXAIN</td>\n",
       "      <td>Natalia Corres \"Natalia Corres\"</td>\n",
       "      <td>1</td>\n",
       "      <td>1</td>\n",
       "      <td>4</td>\n",
       "      <td>1219017600</td>\n",
       "      <td>\"Delight\" says it all</td>\n",
       "      <td>This is a confection that has been around a few centuries.  It is a light, pillowy citrus gelatin with nuts - in this case Filberts. And it is cut into tiny squares and then liberally coated with powdered sugar.  And it is a tiny mouthful of heaven.  Not too chewy, and very flavorful.  I highly recommend this yummy treat.  If you are familiar with the story of C.S. Lewis' \"The Lion, The Witch, and The Wardrobe\" - this is the treat that seduces Edmund into selling out his Brother and Sisters to the Witch.</td>\n",
       "    </tr>\n",
       "    <tr>\n",
       "      <th>3</th>\n",
       "      <td>4</td>\n",
       "      <td>B000UA0QIQ</td>\n",
       "      <td>A395BORC6FGVXV</td>\n",
       "      <td>Karl</td>\n",
       "      <td>3</td>\n",
       "      <td>3</td>\n",
       "      <td>2</td>\n",
       "      <td>1307923200</td>\n",
       "      <td>Cough Medicine</td>\n",
       "      <td>If you are looking for the secret ingredient in Robitussin I believe I have found it.  I got this in addition to the Root Beer Extract I ordered (which was good) and made some cherry soda.  The flavor is very medicinal.</td>\n",
       "    </tr>\n",
       "    <tr>\n",
       "      <th>4</th>\n",
       "      <td>5</td>\n",
       "      <td>B006K2ZZ7K</td>\n",
       "      <td>A1UQRSCLF8GW1T</td>\n",
       "      <td>Michael D. Bigham \"M. Wassir\"</td>\n",
       "      <td>0</td>\n",
       "      <td>0</td>\n",
       "      <td>5</td>\n",
       "      <td>1350777600</td>\n",
       "      <td>Great taffy</td>\n",
       "      <td>Great taffy at a great price.  There was a wide assortment of yummy taffy.  Delivery was very quick.  If your a taffy lover, this is a deal.</td>\n",
       "    </tr>\n",
       "  </tbody>\n",
       "</table>\n",
       "</div>"
      ],
      "text/plain": [
       "   Id   ProductId          UserId                      ProfileName  \\\n",
       "0   1  B001E4KFG0  A3SGXH7AUHU8GW                       delmartian   \n",
       "1   2  B00813GRG4  A1D87F6ZCVE5NK                           dll pa   \n",
       "2   3  B000LQOCH0   ABXLMWJIXXAIN  Natalia Corres \"Natalia Corres\"   \n",
       "3   4  B000UA0QIQ  A395BORC6FGVXV                             Karl   \n",
       "4   5  B006K2ZZ7K  A1UQRSCLF8GW1T    Michael D. Bigham \"M. Wassir\"   \n",
       "\n",
       "   HelpfulnessNumerator  HelpfulnessDenominator  Score        Time  \\\n",
       "0                     1                       1      5  1303862400   \n",
       "1                     0                       0      1  1346976000   \n",
       "2                     1                       1      4  1219017600   \n",
       "3                     3                       3      2  1307923200   \n",
       "4                     0                       0      5  1350777600   \n",
       "\n",
       "                 Summary  \\\n",
       "0  Good Quality Dog Food   \n",
       "1      Not as Advertised   \n",
       "2  \"Delight\" says it all   \n",
       "3         Cough Medicine   \n",
       "4            Great taffy   \n",
       "\n",
       "                                                                                                                                                                                                                                                                                                                                                                                                                                                                                                                            Text  \n",
       "0                                                                                                                                                                                                                                                        I have bought several of the Vitality canned dog food products and have found them all to be of good quality. The product looks more like a stew than a processed meat and it smells better. My Labrador is finicky and she appreciates this product better than  most.  \n",
       "1                                                                                                                                                                                                                                                                                                                                 Product arrived labeled as Jumbo Salted Peanuts...the peanuts were actually small sized unsalted. Not sure if this was an error or if the vendor intended to represent the product as \"Jumbo\".  \n",
       "2  This is a confection that has been around a few centuries.  It is a light, pillowy citrus gelatin with nuts - in this case Filberts. And it is cut into tiny squares and then liberally coated with powdered sugar.  And it is a tiny mouthful of heaven.  Not too chewy, and very flavorful.  I highly recommend this yummy treat.  If you are familiar with the story of C.S. Lewis' \"The Lion, The Witch, and The Wardrobe\" - this is the treat that seduces Edmund into selling out his Brother and Sisters to the Witch.  \n",
       "3                                                                                                                                                                                                                                                                                                    If you are looking for the secret ingredient in Robitussin I believe I have found it.  I got this in addition to the Root Beer Extract I ordered (which was good) and made some cherry soda.  The flavor is very medicinal.  \n",
       "4                                                                                                                                                                                                                                                                                                                                                                                   Great taffy at a great price.  There was a wide assortment of yummy taffy.  Delivery was very quick.  If your a taffy lover, this is a deal.  "
      ]
     },
     "execution_count": 6,
     "metadata": {},
     "output_type": "execute_result"
    }
   ],
   "source": [
    "dataset.head(5)"
   ]
  },
  {
   "cell_type": "code",
   "execution_count": 7,
   "id": "994f4848",
   "metadata": {
    "execution": {
     "iopub.execute_input": "2025-03-09T13:22:02.036428Z",
     "iopub.status.busy": "2025-03-09T13:22:02.036006Z",
     "iopub.status.idle": "2025-03-09T13:22:02.082348Z",
     "shell.execute_reply": "2025-03-09T13:22:02.080641Z"
    },
    "papermill": {
     "duration": 0.062038,
     "end_time": "2025-03-09T13:22:02.084847",
     "exception": false,
     "start_time": "2025-03-09T13:22:02.022809",
     "status": "completed"
    },
    "tags": []
   },
   "outputs": [
    {
     "name": "stdout",
     "output_type": "stream",
     "text": [
      "   Score  \\\n",
      "0      5   \n",
      "1      1   \n",
      "2      4   \n",
      "3      2   \n",
      "4      5   \n",
      "\n",
      "                                                                                                                                                                                                                                                                                                                                                                                                                                                                                                                            Text  \n",
      "0                                                                                                                                                                                                                                                        I have bought several of the Vitality canned dog food products and have found them all to be of good quality. The product looks more like a stew than a processed meat and it smells better. My Labrador is finicky and she appreciates this product better than  most.  \n",
      "1                                                                                                                                                                                                                                                                                                                                 Product arrived labeled as Jumbo Salted Peanuts...the peanuts were actually small sized unsalted. Not sure if this was an error or if the vendor intended to represent the product as \"Jumbo\".  \n",
      "2  This is a confection that has been around a few centuries.  It is a light, pillowy citrus gelatin with nuts - in this case Filberts. And it is cut into tiny squares and then liberally coated with powdered sugar.  And it is a tiny mouthful of heaven.  Not too chewy, and very flavorful.  I highly recommend this yummy treat.  If you are familiar with the story of C.S. Lewis' \"The Lion, The Witch, and The Wardrobe\" - this is the treat that seduces Edmund into selling out his Brother and Sisters to the Witch.  \n",
      "3                                                                                                                                                                                                                                                                                                    If you are looking for the secret ingredient in Robitussin I believe I have found it.  I got this in addition to the Root Beer Extract I ordered (which was good) and made some cherry soda.  The flavor is very medicinal.  \n",
      "4                                                                                                                                                                                                                                                                                                                                                                                   Great taffy at a great price.  There was a wide assortment of yummy taffy.  Delivery was very quick.  If your a taffy lover, this is a deal.  \n"
     ]
    }
   ],
   "source": [
    "print(dataset[['Score','Text']].head(5))"
   ]
  },
  {
   "cell_type": "code",
   "execution_count": 8,
   "id": "72969a8b",
   "metadata": {
    "execution": {
     "iopub.execute_input": "2025-03-09T13:22:02.111005Z",
     "iopub.status.busy": "2025-03-09T13:22:02.110530Z",
     "iopub.status.idle": "2025-03-09T13:22:02.349290Z",
     "shell.execute_reply": "2025-03-09T13:22:02.347790Z"
    },
    "papermill": {
     "duration": 0.253754,
     "end_time": "2025-03-09T13:22:02.351223",
     "exception": false,
     "start_time": "2025-03-09T13:22:02.097469",
     "status": "completed"
    },
    "tags": []
   },
   "outputs": [
    {
     "name": "stdout",
     "output_type": "stream",
     "text": [
      "Id                         0\n",
      "ProductId                  0\n",
      "UserId                     0\n",
      "ProfileName               26\n",
      "HelpfulnessNumerator       0\n",
      "HelpfulnessDenominator     0\n",
      "Score                      0\n",
      "Time                       0\n",
      "Summary                   27\n",
      "Text                       0\n",
      "dtype: int64\n"
     ]
    }
   ],
   "source": [
    "print(dataset.isna().sum())"
   ]
  },
  {
   "cell_type": "code",
   "execution_count": 9,
   "id": "fa95124a",
   "metadata": {
    "execution": {
     "iopub.execute_input": "2025-03-09T13:22:02.376181Z",
     "iopub.status.busy": "2025-03-09T13:22:02.375778Z",
     "iopub.status.idle": "2025-03-09T13:22:02.445277Z",
     "shell.execute_reply": "2025-03-09T13:22:02.444054Z"
    },
    "papermill": {
     "duration": 0.084304,
     "end_time": "2025-03-09T13:22:02.447340",
     "exception": false,
     "start_time": "2025-03-09T13:22:02.363036",
     "status": "completed"
    },
    "tags": []
   },
   "outputs": [
    {
     "name": "stdout",
     "output_type": "stream",
     "text": [
      "                                                                                                                                                                                                                                                                                                                                                                                                                                                                                                                                                                                                                                                                                                                                                                                                                                                                                                                                                                                                                                                                                                                                                                                                                                                                                                                                                       Text  \\\n",
      "229512                                                                                                                                                                                                                                                                                                                                                                                                                                                                                                                                                                                                                                                                                                                                                                                                                                                                                                                                                                                                                                                                                                                                                                                        With the regular order form option for Bob's through Amazon, I am paying 3 dollars less per bag than I would for the cheapest grocery store price in my area!   \n",
      "255819                                                                                                                                                                                                                                                                                                                                                                                                                                                                                                                                                                                                                                                                                                                                                                                                                                                                                                                                                                                                                                                                                                                                                                                                                My kiddos love these fruit snack pouches and I love that they are mess free, great for a snack in the car because we always on the go   \n",
      "310812  I think the berry flavor is far better than the veggie powder as far as taste goes but I don't mind either one.  I add this to some juice, kefir, some coconut oil whatever, but I always add stevia with it.  I think this is a very cheap insurance to staying or getting healthy.  I battled with my health my whole life.  I try now to stay as natural as I can with my health care now.  It leads me to `well' a lot quicker. I was one of those DES babies you may or may not have heard about.  Our mothers took DES which was a drug to prevent a miscarriage but what happened was it caused problems with the baby and left a compromised immune system.  This is why my whole life it has been one thing after another.  Well, THIS powder is fantastic.  When I take this consistently I have far more energy and I just seem to stay well.  When I get lazy about it and stop taking it I have no energy, I get foggy brained, down in the dumps.  Big difference. I figure if I take this in the morning, the rest of the day is covered as far as my fruits and veggies are concerned.  What I do eat on top of this is a bonus!  If you `really' really can't stand the taste then add the stevia, add fruit, juice whatever, it so worth taking this powder!!  Personally I have no problem with the flavor. Five starts from me!   \n",
      "116514                                                                                                                                                                                                                                                                                                                                                                                                                                                                                                                                                                                                                                                                                                                                                                                                                                                                                                                                                                                                                                                                                                                                                      This product tastes like movie style popcorn that is OVERLY salted, and I understand that popcorn is usually pretty salty but this might be a little too much. I would probably buy this again.   \n",
      "177853                                                                                                                                                                                                                                                                                                                                                                                                                                                                                                                                                                                                                                                                                                                                                                                                                                                                                                                                                                                                                                                                                                                                                                                                                   Strong and flavorful and not bitter.<br />We enoyed the colorful package, even more the coffee inside. We will surely order again.   \n",
      "...                                                                                                                                                                                                                                                                                                                                                                                                                                                                                                                                                                                                                                                                                                                                                                                                                                                                                                                                                                                                                                                                                                                                                                                                                                                                                                                                                     ...   \n",
      "276224                                                                                                                                                                                                                                                                                                                                                                                                                                                                                                                                                                                                                                                                                                                                                                                                                                                                                                                                                  First off, each can only makes two 6oz servings.  So this is a rather expensive cup of hot chocolate.  The flavor, at least to me, is terrible, it is mostly sugar and red dye.  It is a novel idea that might appeal to small kids but adults will find it sickeningly sweet. As mentioned above, it is rather expensive for what it is.  Only thing I like about this are the coffin shaped cans.   \n",
      "521914                                                                                                                                                                                                                                                                                                                                                                                                                                                                                                                                                                                                                                                                                                                                                                                                                                                                                                                                                                                                                                                                                                                                                                                                                                        Fast Delivery. My dogs love this stuff. This is the best deal I found on this item anywhere. I will buy more.   \n",
      "279384                                                                                                                                                                                                                                                                                                                                                                                                                                                                                                                                                                                                                                                                                                                                                                                                                                                                                                                                                                                                                                                                                                                                                                                                 Very sweet for a diabetic. I actually bought it for my mom, but she did not like it very much. The service, however, was excellent--prompt shipping.   \n",
      "414745                                                                                                                                                                                                                                                                                                                                                                                                                                                                                                                                                                                                                                                                                                                                                                                                                                                                                                                                                                                                                                                                  Tried it three different ways: black, just cream and cream & sugar. This was such a smooth flavor that I enjoyed drinking it all three ways, which has never happened before. I also love the pod design; I used my regular coffee machine, so the pods make clean up quick & easy.   \n",
      "188261                                                                                                                                                                                                                                                                                                                                                                                                                                                                                                                                                                                                                                                                                                                                                                                                                                                                                                                                                                                                                                                                               I have had a cup of coffee like this befor and loved it. I have been trying different coffee and makers for years till now. it is just perfect. I will up my subscription to 2 bags a month. Thank you Kicking horse coffee my serch is over. Perfect, just perfect!!!   \n",
      "\n",
      "                                      Summary  Score  \n",
      "229512                            what a deal      5  \n",
      "255819                         kids love them      5  \n",
      "310812             I won't live without this!      5  \n",
      "116514                    Tastes like popcorn      4  \n",
      "177853                FUN PACKAGE _ GOOD BREW      5  \n",
      "...                                       ...    ...  \n",
      "276224  Neat container horrible hot chocolate      1  \n",
      "521914                My dogs love this stuff      5  \n",
      "279384                          Chai low carb      3  \n",
      "414745                         Amazing Taste!      5  \n",
      "188261                                   yumm      5  \n",
      "\n",
      "[1000 rows x 3 columns]\n"
     ]
    }
   ],
   "source": [
    "lmtpData=dataset[['Text','Summary','Score']].sample(n=1000)\n",
    "print(lmtpData)"
   ]
  },
  {
   "cell_type": "markdown",
   "id": "6f1f9b6e",
   "metadata": {
    "papermill": {
     "duration": 0.011684,
     "end_time": "2025-03-09T13:22:02.471164",
     "exception": false,
     "start_time": "2025-03-09T13:22:02.459480",
     "status": "completed"
    },
    "tags": []
   },
   "source": [
    "### ADDING SENTIMENT COLUMN"
   ]
  },
  {
   "cell_type": "code",
   "execution_count": 10,
   "id": "91b5cba8",
   "metadata": {
    "execution": {
     "iopub.execute_input": "2025-03-09T13:22:02.497255Z",
     "iopub.status.busy": "2025-03-09T13:22:02.496843Z",
     "iopub.status.idle": "2025-03-09T13:22:02.511154Z",
     "shell.execute_reply": "2025-03-09T13:22:02.509834Z"
    },
    "papermill": {
     "duration": 0.029819,
     "end_time": "2025-03-09T13:22:02.513369",
     "exception": false,
     "start_time": "2025-03-09T13:22:02.483550",
     "status": "completed"
    },
    "tags": []
   },
   "outputs": [
    {
     "data": {
      "text/html": [
       "<div>\n",
       "<style scoped>\n",
       "    .dataframe tbody tr th:only-of-type {\n",
       "        vertical-align: middle;\n",
       "    }\n",
       "\n",
       "    .dataframe tbody tr th {\n",
       "        vertical-align: top;\n",
       "    }\n",
       "\n",
       "    .dataframe thead th {\n",
       "        text-align: right;\n",
       "    }\n",
       "</style>\n",
       "<table border=\"1\" class=\"dataframe\">\n",
       "  <thead>\n",
       "    <tr style=\"text-align: right;\">\n",
       "      <th></th>\n",
       "      <th>Text</th>\n",
       "      <th>Summary</th>\n",
       "      <th>Score</th>\n",
       "      <th>Sentiment</th>\n",
       "    </tr>\n",
       "  </thead>\n",
       "  <tbody>\n",
       "    <tr>\n",
       "      <th>229512</th>\n",
       "      <td>With the regular order form option for Bob's through Amazon, I am paying 3 dollars less per bag than I would for the cheapest grocery store price in my area!</td>\n",
       "      <td>what a deal</td>\n",
       "      <td>5</td>\n",
       "      <td>1</td>\n",
       "    </tr>\n",
       "    <tr>\n",
       "      <th>255819</th>\n",
       "      <td>My kiddos love these fruit snack pouches and I love that they are mess free, great for a snack in the car because we always on the go</td>\n",
       "      <td>kids love them</td>\n",
       "      <td>5</td>\n",
       "      <td>1</td>\n",
       "    </tr>\n",
       "    <tr>\n",
       "      <th>310812</th>\n",
       "      <td>I think the berry flavor is far better than the veggie powder as far as taste goes but I don't mind either one.  I add this to some juice, kefir, some coconut oil whatever, but I always add stevia with it.  I think this is a very cheap insurance to staying or getting healthy.  I battled with my health my whole life.  I try now to stay as natural as I can with my health care now.  It leads me to `well' a lot quicker. I was one of those DES babies you may or may not have heard about.  Our mothers took DES which was a drug to prevent a miscarriage but what happened was it caused problems with the baby and left a compromised immune system.  This is why my whole life it has been one thing after another.  Well, THIS powder is fantastic.  When I take this consistently I have far more energy and I just seem to stay well.  When I get lazy about it and stop taking it I have no energy, I get foggy brained, down in the dumps.  Big difference. I figure if I take this in the morning, the rest of the day is covered as far as my fruits and veggies are concerned.  What I do eat on top of this is a bonus!  If you `really' really can't stand the taste then add the stevia, add fruit, juice whatever, it so worth taking this powder!!  Personally I have no problem with the flavor. Five starts from me!</td>\n",
       "      <td>I won't live without this!</td>\n",
       "      <td>5</td>\n",
       "      <td>1</td>\n",
       "    </tr>\n",
       "    <tr>\n",
       "      <th>116514</th>\n",
       "      <td>This product tastes like movie style popcorn that is OVERLY salted, and I understand that popcorn is usually pretty salty but this might be a little too much. I would probably buy this again.</td>\n",
       "      <td>Tastes like popcorn</td>\n",
       "      <td>4</td>\n",
       "      <td>1</td>\n",
       "    </tr>\n",
       "    <tr>\n",
       "      <th>177853</th>\n",
       "      <td>Strong and flavorful and not bitter.&lt;br /&gt;We enoyed the colorful package, even more the coffee inside. We will surely order again.</td>\n",
       "      <td>FUN PACKAGE _ GOOD BREW</td>\n",
       "      <td>5</td>\n",
       "      <td>1</td>\n",
       "    </tr>\n",
       "  </tbody>\n",
       "</table>\n",
       "</div>"
      ],
      "text/plain": [
       "                                                                                                                                                                                                                                                                                                                                                                                                                                                                                                                                                                                                                                                                                                                                                                                                                                                                                                                                                                                                                                                                                                                                                                                                                                                                                                                                                       Text  \\\n",
       "229512                                                                                                                                                                                                                                                                                                                                                                                                                                                                                                                                                                                                                                                                                                                                                                                                                                                                                                                                                                                                                                                                                                                                                                                        With the regular order form option for Bob's through Amazon, I am paying 3 dollars less per bag than I would for the cheapest grocery store price in my area!   \n",
       "255819                                                                                                                                                                                                                                                                                                                                                                                                                                                                                                                                                                                                                                                                                                                                                                                                                                                                                                                                                                                                                                                                                                                                                                                                                My kiddos love these fruit snack pouches and I love that they are mess free, great for a snack in the car because we always on the go   \n",
       "310812  I think the berry flavor is far better than the veggie powder as far as taste goes but I don't mind either one.  I add this to some juice, kefir, some coconut oil whatever, but I always add stevia with it.  I think this is a very cheap insurance to staying or getting healthy.  I battled with my health my whole life.  I try now to stay as natural as I can with my health care now.  It leads me to `well' a lot quicker. I was one of those DES babies you may or may not have heard about.  Our mothers took DES which was a drug to prevent a miscarriage but what happened was it caused problems with the baby and left a compromised immune system.  This is why my whole life it has been one thing after another.  Well, THIS powder is fantastic.  When I take this consistently I have far more energy and I just seem to stay well.  When I get lazy about it and stop taking it I have no energy, I get foggy brained, down in the dumps.  Big difference. I figure if I take this in the morning, the rest of the day is covered as far as my fruits and veggies are concerned.  What I do eat on top of this is a bonus!  If you `really' really can't stand the taste then add the stevia, add fruit, juice whatever, it so worth taking this powder!!  Personally I have no problem with the flavor. Five starts from me!   \n",
       "116514                                                                                                                                                                                                                                                                                                                                                                                                                                                                                                                                                                                                                                                                                                                                                                                                                                                                                                                                                                                                                                                                                                                                                      This product tastes like movie style popcorn that is OVERLY salted, and I understand that popcorn is usually pretty salty but this might be a little too much. I would probably buy this again.   \n",
       "177853                                                                                                                                                                                                                                                                                                                                                                                                                                                                                                                                                                                                                                                                                                                                                                                                                                                                                                                                                                                                                                                                                                                                                                                                                   Strong and flavorful and not bitter.<br />We enoyed the colorful package, even more the coffee inside. We will surely order again.   \n",
       "\n",
       "                           Summary  Score  Sentiment  \n",
       "229512                 what a deal      5          1  \n",
       "255819              kids love them      5          1  \n",
       "310812  I won't live without this!      5          1  \n",
       "116514         Tastes like popcorn      4          1  \n",
       "177853     FUN PACKAGE _ GOOD BREW      5          1  "
      ]
     },
     "execution_count": 10,
     "metadata": {},
     "output_type": "execute_result"
    }
   ],
   "source": [
    "#0-negative, 1-positive\n",
    "def lblScore(score):\n",
    "    if score<=2:\n",
    "        return 0\n",
    "    elif score>=4:\n",
    "        return 1\n",
    "    else:\n",
    "        return 2\n",
    "lmtpData['Sentiment']=lmtpData['Score'].apply(lblScore)\n",
    "lmtpData.head(5)"
   ]
  },
  {
   "cell_type": "code",
   "execution_count": 11,
   "id": "86499cd4",
   "metadata": {
    "execution": {
     "iopub.execute_input": "2025-03-09T13:22:02.540391Z",
     "iopub.status.busy": "2025-03-09T13:22:02.539943Z",
     "iopub.status.idle": "2025-03-09T13:22:02.550392Z",
     "shell.execute_reply": "2025-03-09T13:22:02.549071Z"
    },
    "papermill": {
     "duration": 0.026525,
     "end_time": "2025-03-09T13:22:02.552412",
     "exception": false,
     "start_time": "2025-03-09T13:22:02.525887",
     "status": "completed"
    },
    "tags": []
   },
   "outputs": [
    {
     "data": {
      "text/plain": [
       "Sentiment\n",
       "1    790\n",
       "0    154\n",
       "2     56\n",
       "Name: count, dtype: int64"
      ]
     },
     "execution_count": 11,
     "metadata": {},
     "output_type": "execute_result"
    }
   ],
   "source": [
    "lmtpData['Sentiment'].value_counts()"
   ]
  },
  {
   "cell_type": "markdown",
   "id": "cb7a1561",
   "metadata": {
    "execution": {
     "iopub.execute_input": "2025-03-06T12:31:15.045476Z",
     "iopub.status.busy": "2025-03-06T12:31:15.045080Z",
     "iopub.status.idle": "2025-03-06T12:31:15.049290Z",
     "shell.execute_reply": "2025-03-06T12:31:15.048323Z",
     "shell.execute_reply.started": "2025-03-06T12:31:15.045438Z"
    },
    "papermill": {
     "duration": 0.011885,
     "end_time": "2025-03-09T13:22:02.576707",
     "exception": false,
     "start_time": "2025-03-09T13:22:02.564822",
     "status": "completed"
    },
    "tags": []
   },
   "source": [
    "#### VECTORS"
   ]
  },
  {
   "cell_type": "code",
   "execution_count": 12,
   "id": "029791cb",
   "metadata": {
    "execution": {
     "iopub.execute_input": "2025-03-09T13:22:02.601593Z",
     "iopub.status.busy": "2025-03-09T13:22:02.601192Z",
     "iopub.status.idle": "2025-03-09T13:22:13.859716Z",
     "shell.execute_reply": "2025-03-09T13:22:13.858509Z"
    },
    "papermill": {
     "duration": 11.273147,
     "end_time": "2025-03-09T13:22:13.861397",
     "exception": false,
     "start_time": "2025-03-09T13:22:02.588250",
     "status": "completed"
    },
    "tags": []
   },
   "outputs": [
    {
     "name": "stdout",
     "output_type": "stream",
     "text": [
      "Loaded 400000 word vectors.\n"
     ]
    }
   ],
   "source": [
    "import numpy as np\n",
    "\n",
    "glove_path = \"/kaggle/input/glove-6b-100-d/glove.6B.100d.txt\"\n",
    "\n",
    "def loadGloveEmbeddings(filePath, embedding_dim=100):\n",
    "    embeddingsIndex = {}\n",
    "    with open(filePath, encoding=\"utf8\") as f:\n",
    "        for line in f:\n",
    "            values = line.split()\n",
    "            word = values[0]\n",
    "            coefs = np.asarray(values[1:], dtype='float32')\n",
    "            embeddingsIndex[word] = coefs\n",
    "    return embeddingsIndex\n",
    "\n",
    "gloveEmbeddings = loadGloveEmbeddings(glove_path)\n",
    "print(\"Loaded {} word vectors.\".format(len(gloveEmbeddings)))\n",
    "\n",
    "\n",
    "        "
   ]
  },
  {
   "cell_type": "markdown",
   "id": "48ced8fe",
   "metadata": {
    "papermill": {
     "duration": 0.011708,
     "end_time": "2025-03-09T13:22:13.885538",
     "exception": false,
     "start_time": "2025-03-09T13:22:13.873830",
     "status": "completed"
    },
    "tags": []
   },
   "source": [
    "#### CREATING EMBEDDING MATRIX"
   ]
  },
  {
   "cell_type": "code",
   "execution_count": 13,
   "id": "388b9ec2",
   "metadata": {
    "execution": {
     "iopub.execute_input": "2025-03-09T13:22:13.913118Z",
     "iopub.status.busy": "2025-03-09T13:22:13.912613Z",
     "iopub.status.idle": "2025-03-09T13:22:13.923481Z",
     "shell.execute_reply": "2025-03-09T13:22:13.922159Z"
    },
    "papermill": {
     "duration": 0.028342,
     "end_time": "2025-03-09T13:22:13.925849",
     "exception": false,
     "start_time": "2025-03-09T13:22:13.897507",
     "status": "completed"
    },
    "tags": []
   },
   "outputs": [],
   "source": [
    "lmtpData['Summary']=lmtpData['Summary'].fillna(\"\")\n",
    "lmtpData['CombinedText']=lmtpData['Summary'] + \" \" + lmtpData['Text']\n"
   ]
  },
  {
   "cell_type": "code",
   "execution_count": 14,
   "id": "c20d7b47",
   "metadata": {
    "execution": {
     "iopub.execute_input": "2025-03-09T13:22:13.952979Z",
     "iopub.status.busy": "2025-03-09T13:22:13.952364Z",
     "iopub.status.idle": "2025-03-09T13:22:31.660205Z",
     "shell.execute_reply": "2025-03-09T13:22:31.658807Z"
    },
    "papermill": {
     "duration": 17.724029,
     "end_time": "2025-03-09T13:22:31.662619",
     "exception": false,
     "start_time": "2025-03-09T13:22:13.938590",
     "status": "completed"
    },
    "tags": []
   },
   "outputs": [],
   "source": [
    "#tokenizing\n",
    "from tensorflow.keras.preprocessing.text import Tokenizer\n",
    "from tensorflow.keras.preprocessing.sequence import pad_sequences\n",
    "\n",
    "tokenizer=Tokenizer()\n",
    "tokenizer.fit_on_texts(lmtpData['CombinedText'])\n",
    "sequences=tokenizer.texts_to_sequences(lmtpData['CombinedText'])\n",
    "\n",
    "maxLen=100\n",
    "padded_sequences=pad_sequences(sequences,maxlen=maxLen,padding='post')"
   ]
  },
  {
   "cell_type": "code",
   "execution_count": 15,
   "id": "86ccfbb3",
   "metadata": {
    "execution": {
     "iopub.execute_input": "2025-03-09T13:22:31.689944Z",
     "iopub.status.busy": "2025-03-09T13:22:31.689280Z",
     "iopub.status.idle": "2025-03-09T13:22:31.708121Z",
     "shell.execute_reply": "2025-03-09T13:22:31.706881Z"
    },
    "papermill": {
     "duration": 0.034954,
     "end_time": "2025-03-09T13:22:31.710436",
     "exception": false,
     "start_time": "2025-03-09T13:22:31.675482",
     "status": "completed"
    },
    "tags": []
   },
   "outputs": [],
   "source": [
    "embedding_dim=100\n",
    "vocabSize=len(tokenizer.word_index) + 1\n",
    "\n",
    "embeddingMatrix=np.zeros((vocabSize,embedding_dim))\n",
    "\n",
    "for word,i in tokenizer.word_index.items():\n",
    "    embeddingVector=gloveEmbeddings.get(word)\n",
    "    if embeddingVector is not None:\n",
    "        embeddingMatrix[i]=embeddingVector"
   ]
  },
  {
   "cell_type": "code",
   "execution_count": 16,
   "id": "52e30a03",
   "metadata": {
    "execution": {
     "iopub.execute_input": "2025-03-09T13:22:31.736518Z",
     "iopub.status.busy": "2025-03-09T13:22:31.736128Z",
     "iopub.status.idle": "2025-03-09T13:22:31.742386Z",
     "shell.execute_reply": "2025-03-09T13:22:31.741084Z"
    },
    "papermill": {
     "duration": 0.021526,
     "end_time": "2025-03-09T13:22:31.744370",
     "exception": false,
     "start_time": "2025-03-09T13:22:31.722844",
     "status": "completed"
    },
    "tags": []
   },
   "outputs": [
    {
     "name": "stdout",
     "output_type": "stream",
     "text": [
      "Embedding matrix shape: (7137, 100)\n"
     ]
    }
   ],
   "source": [
    "print(\"Embedding matrix shape:\", embeddingMatrix.shape)\n"
   ]
  },
  {
   "cell_type": "markdown",
   "id": "4ec8283e",
   "metadata": {
    "papermill": {
     "duration": 0.012339,
     "end_time": "2025-03-09T13:22:31.769493",
     "exception": false,
     "start_time": "2025-03-09T13:22:31.757154",
     "status": "completed"
    },
    "tags": []
   },
   "source": [
    "### MAKING THE MODEL"
   ]
  },
  {
   "cell_type": "code",
   "execution_count": 17,
   "id": "5efd89be",
   "metadata": {
    "execution": {
     "iopub.execute_input": "2025-03-09T13:22:31.796800Z",
     "iopub.status.busy": "2025-03-09T13:22:31.796404Z",
     "iopub.status.idle": "2025-03-09T13:22:32.007979Z",
     "shell.execute_reply": "2025-03-09T13:22:32.006603Z"
    },
    "papermill": {
     "duration": 0.227257,
     "end_time": "2025-03-09T13:22:32.009974",
     "exception": false,
     "start_time": "2025-03-09T13:22:31.782717",
     "status": "completed"
    },
    "tags": []
   },
   "outputs": [
    {
     "name": "stdout",
     "output_type": "stream",
     "text": [
      "Padded shape: (1000, 100)\n",
      "Labels shape: (1000,)\n"
     ]
    },
    {
     "data": {
      "text/html": [
       "<pre style=\"white-space:pre;overflow-x:auto;line-height:normal;font-family:Menlo,'DejaVu Sans Mono',consolas,'Courier New',monospace\"><span style=\"font-weight: bold\">Model: \"sequential\"</span>\n",
       "</pre>\n"
      ],
      "text/plain": [
       "\u001b[1mModel: \"sequential\"\u001b[0m\n"
      ]
     },
     "metadata": {},
     "output_type": "display_data"
    },
    {
     "data": {
      "text/html": [
       "<pre style=\"white-space:pre;overflow-x:auto;line-height:normal;font-family:Menlo,'DejaVu Sans Mono',consolas,'Courier New',monospace\">┏━━━━━━━━━━━━━━━━━━━━━━━━━━━━━━━━━━━━━━┳━━━━━━━━━━━━━━━━━━━━━━━━━━━━━┳━━━━━━━━━━━━━━━━━┓\n",
       "┃<span style=\"font-weight: bold\"> Layer (type)                         </span>┃<span style=\"font-weight: bold\"> Output Shape                </span>┃<span style=\"font-weight: bold\">         Param # </span>┃\n",
       "┡━━━━━━━━━━━━━━━━━━━━━━━━━━━━━━━━━━━━━━╇━━━━━━━━━━━━━━━━━━━━━━━━━━━━━╇━━━━━━━━━━━━━━━━━┩\n",
       "│ embedding (<span style=\"color: #0087ff; text-decoration-color: #0087ff\">Embedding</span>)                │ (<span style=\"color: #00d7ff; text-decoration-color: #00d7ff\">None</span>, <span style=\"color: #00af00; text-decoration-color: #00af00\">100</span>, <span style=\"color: #00af00; text-decoration-color: #00af00\">100</span>)            │         <span style=\"color: #00af00; text-decoration-color: #00af00\">713,700</span> │\n",
       "├──────────────────────────────────────┼─────────────────────────────┼─────────────────┤\n",
       "│ lstm (<span style=\"color: #0087ff; text-decoration-color: #0087ff\">LSTM</span>)                          │ (<span style=\"color: #00d7ff; text-decoration-color: #00d7ff\">None</span>, <span style=\"color: #00af00; text-decoration-color: #00af00\">100</span>, <span style=\"color: #00af00; text-decoration-color: #00af00\">128</span>)            │         <span style=\"color: #00af00; text-decoration-color: #00af00\">117,248</span> │\n",
       "├──────────────────────────────────────┼─────────────────────────────┼─────────────────┤\n",
       "│ lstm_1 (<span style=\"color: #0087ff; text-decoration-color: #0087ff\">LSTM</span>)                        │ (<span style=\"color: #00d7ff; text-decoration-color: #00d7ff\">None</span>, <span style=\"color: #00af00; text-decoration-color: #00af00\">64</span>)                  │          <span style=\"color: #00af00; text-decoration-color: #00af00\">49,408</span> │\n",
       "├──────────────────────────────────────┼─────────────────────────────┼─────────────────┤\n",
       "│ dropout (<span style=\"color: #0087ff; text-decoration-color: #0087ff\">Dropout</span>)                    │ (<span style=\"color: #00d7ff; text-decoration-color: #00d7ff\">None</span>, <span style=\"color: #00af00; text-decoration-color: #00af00\">64</span>)                  │               <span style=\"color: #00af00; text-decoration-color: #00af00\">0</span> │\n",
       "├──────────────────────────────────────┼─────────────────────────────┼─────────────────┤\n",
       "│ dense (<span style=\"color: #0087ff; text-decoration-color: #0087ff\">Dense</span>)                        │ (<span style=\"color: #00d7ff; text-decoration-color: #00d7ff\">None</span>, <span style=\"color: #00af00; text-decoration-color: #00af00\">3</span>)                   │             <span style=\"color: #00af00; text-decoration-color: #00af00\">195</span> │\n",
       "└──────────────────────────────────────┴─────────────────────────────┴─────────────────┘\n",
       "</pre>\n"
      ],
      "text/plain": [
       "┏━━━━━━━━━━━━━━━━━━━━━━━━━━━━━━━━━━━━━━┳━━━━━━━━━━━━━━━━━━━━━━━━━━━━━┳━━━━━━━━━━━━━━━━━┓\n",
       "┃\u001b[1m \u001b[0m\u001b[1mLayer (type)                        \u001b[0m\u001b[1m \u001b[0m┃\u001b[1m \u001b[0m\u001b[1mOutput Shape               \u001b[0m\u001b[1m \u001b[0m┃\u001b[1m \u001b[0m\u001b[1m        Param #\u001b[0m\u001b[1m \u001b[0m┃\n",
       "┡━━━━━━━━━━━━━━━━━━━━━━━━━━━━━━━━━━━━━━╇━━━━━━━━━━━━━━━━━━━━━━━━━━━━━╇━━━━━━━━━━━━━━━━━┩\n",
       "│ embedding (\u001b[38;5;33mEmbedding\u001b[0m)                │ (\u001b[38;5;45mNone\u001b[0m, \u001b[38;5;34m100\u001b[0m, \u001b[38;5;34m100\u001b[0m)            │         \u001b[38;5;34m713,700\u001b[0m │\n",
       "├──────────────────────────────────────┼─────────────────────────────┼─────────────────┤\n",
       "│ lstm (\u001b[38;5;33mLSTM\u001b[0m)                          │ (\u001b[38;5;45mNone\u001b[0m, \u001b[38;5;34m100\u001b[0m, \u001b[38;5;34m128\u001b[0m)            │         \u001b[38;5;34m117,248\u001b[0m │\n",
       "├──────────────────────────────────────┼─────────────────────────────┼─────────────────┤\n",
       "│ lstm_1 (\u001b[38;5;33mLSTM\u001b[0m)                        │ (\u001b[38;5;45mNone\u001b[0m, \u001b[38;5;34m64\u001b[0m)                  │          \u001b[38;5;34m49,408\u001b[0m │\n",
       "├──────────────────────────────────────┼─────────────────────────────┼─────────────────┤\n",
       "│ dropout (\u001b[38;5;33mDropout\u001b[0m)                    │ (\u001b[38;5;45mNone\u001b[0m, \u001b[38;5;34m64\u001b[0m)                  │               \u001b[38;5;34m0\u001b[0m │\n",
       "├──────────────────────────────────────┼─────────────────────────────┼─────────────────┤\n",
       "│ dense (\u001b[38;5;33mDense\u001b[0m)                        │ (\u001b[38;5;45mNone\u001b[0m, \u001b[38;5;34m3\u001b[0m)                   │             \u001b[38;5;34m195\u001b[0m │\n",
       "└──────────────────────────────────────┴─────────────────────────────┴─────────────────┘\n"
      ]
     },
     "metadata": {},
     "output_type": "display_data"
    },
    {
     "data": {
      "text/html": [
       "<pre style=\"white-space:pre;overflow-x:auto;line-height:normal;font-family:Menlo,'DejaVu Sans Mono',consolas,'Courier New',monospace\"><span style=\"font-weight: bold\"> Total params: </span><span style=\"color: #00af00; text-decoration-color: #00af00\">880,551</span> (3.36 MB)\n",
       "</pre>\n"
      ],
      "text/plain": [
       "\u001b[1m Total params: \u001b[0m\u001b[38;5;34m880,551\u001b[0m (3.36 MB)\n"
      ]
     },
     "metadata": {},
     "output_type": "display_data"
    },
    {
     "data": {
      "text/html": [
       "<pre style=\"white-space:pre;overflow-x:auto;line-height:normal;font-family:Menlo,'DejaVu Sans Mono',consolas,'Courier New',monospace\"><span style=\"font-weight: bold\"> Trainable params: </span><span style=\"color: #00af00; text-decoration-color: #00af00\">166,851</span> (651.76 KB)\n",
       "</pre>\n"
      ],
      "text/plain": [
       "\u001b[1m Trainable params: \u001b[0m\u001b[38;5;34m166,851\u001b[0m (651.76 KB)\n"
      ]
     },
     "metadata": {},
     "output_type": "display_data"
    },
    {
     "data": {
      "text/html": [
       "<pre style=\"white-space:pre;overflow-x:auto;line-height:normal;font-family:Menlo,'DejaVu Sans Mono',consolas,'Courier New',monospace\"><span style=\"font-weight: bold\"> Non-trainable params: </span><span style=\"color: #00af00; text-decoration-color: #00af00\">713,700</span> (2.72 MB)\n",
       "</pre>\n"
      ],
      "text/plain": [
       "\u001b[1m Non-trainable params: \u001b[0m\u001b[38;5;34m713,700\u001b[0m (2.72 MB)\n"
      ]
     },
     "metadata": {},
     "output_type": "display_data"
    }
   ],
   "source": [
    "from tensorflow.keras.models import Sequential\n",
    "from tensorflow.keras.layers import Embedding, LSTM, Dense, Dropout,Input\n",
    "maxLen=100\n",
    "X_train = padded_sequences \n",
    "y_train = lmtpData[\"Sentiment\"].values  \n",
    "\n",
    "print(\"Padded shape:\", X_train.shape)  \n",
    "print(\"Labels shape:\", y_train.shape) \n",
    "\n",
    "model = Sequential([\n",
    "    Input(shape=(maxLen,)),\n",
    "    Embedding(input_dim=vocabSize,  \n",
    "              output_dim=embedding_dim, \n",
    "              weights=embeddingMatrix, \n",
    "             \n",
    "              trainable=False), \n",
    "    LSTM(128, return_sequences=True),\n",
    "    LSTM(64),\n",
    "    Dropout(0.3),\n",
    "    Dense(3, activation='softmax') \n",
    "])\n",
    "\n",
    "\n",
    "model.compile(loss='sparse_categorical_crossentropy', optimizer='adam', metrics=['accuracy'])\n",
    "\n",
    "model.summary()\n"
   ]
  },
  {
   "cell_type": "code",
   "execution_count": 18,
   "id": "9076276f",
   "metadata": {
    "execution": {
     "iopub.execute_input": "2025-03-09T13:22:32.038730Z",
     "iopub.status.busy": "2025-03-09T13:22:32.038287Z",
     "iopub.status.idle": "2025-03-09T13:23:14.186133Z",
     "shell.execute_reply": "2025-03-09T13:23:14.184973Z"
    },
    "papermill": {
     "duration": 42.163734,
     "end_time": "2025-03-09T13:23:14.188168",
     "exception": false,
     "start_time": "2025-03-09T13:22:32.024434",
     "status": "completed"
    },
    "tags": []
   },
   "outputs": [
    {
     "name": "stdout",
     "output_type": "stream",
     "text": [
      "Epoch 1/10\n",
      "\u001b[1m22/22\u001b[0m \u001b[32m━━━━━━━━━━━━━━━━━━━━\u001b[0m\u001b[37m\u001b[0m \u001b[1m8s\u001b[0m 186ms/step - accuracy: 0.7170 - loss: 0.9063 - val_accuracy: 0.8333 - val_loss: 0.5539\n",
      "Epoch 2/10\n",
      "\u001b[1m22/22\u001b[0m \u001b[32m━━━━━━━━━━━━━━━━━━━━\u001b[0m\u001b[37m\u001b[0m \u001b[1m4s\u001b[0m 163ms/step - accuracy: 0.7829 - loss: 0.6778 - val_accuracy: 0.8333 - val_loss: 0.5858\n",
      "Epoch 3/10\n",
      "\u001b[1m22/22\u001b[0m \u001b[32m━━━━━━━━━━━━━━━━━━━━\u001b[0m\u001b[37m\u001b[0m \u001b[1m4s\u001b[0m 166ms/step - accuracy: 0.7783 - loss: 0.6730 - val_accuracy: 0.8333 - val_loss: 0.5576\n",
      "Epoch 4/10\n",
      "\u001b[1m22/22\u001b[0m \u001b[32m━━━━━━━━━━━━━━━━━━━━\u001b[0m\u001b[37m\u001b[0m \u001b[1m4s\u001b[0m 176ms/step - accuracy: 0.7778 - loss: 0.6664 - val_accuracy: 0.8333 - val_loss: 0.5623\n",
      "Epoch 5/10\n",
      "\u001b[1m22/22\u001b[0m \u001b[32m━━━━━━━━━━━━━━━━━━━━\u001b[0m\u001b[37m\u001b[0m \u001b[1m5s\u001b[0m 171ms/step - accuracy: 0.7841 - loss: 0.6527 - val_accuracy: 0.8333 - val_loss: 0.5798\n",
      "Epoch 6/10\n",
      "\u001b[1m22/22\u001b[0m \u001b[32m━━━━━━━━━━━━━━━━━━━━\u001b[0m\u001b[37m\u001b[0m \u001b[1m4s\u001b[0m 165ms/step - accuracy: 0.8005 - loss: 0.6259 - val_accuracy: 0.8333 - val_loss: 0.5990\n",
      "Epoch 7/10\n",
      "\u001b[1m22/22\u001b[0m \u001b[32m━━━━━━━━━━━━━━━━━━━━\u001b[0m\u001b[37m\u001b[0m \u001b[1m4s\u001b[0m 165ms/step - accuracy: 0.7594 - loss: 0.6850 - val_accuracy: 0.8333 - val_loss: 0.5562\n",
      "Epoch 8/10\n",
      "\u001b[1m22/22\u001b[0m \u001b[32m━━━━━━━━━━━━━━━━━━━━\u001b[0m\u001b[37m\u001b[0m \u001b[1m4s\u001b[0m 172ms/step - accuracy: 0.7877 - loss: 0.6478 - val_accuracy: 0.8333 - val_loss: 0.5615\n",
      "Epoch 9/10\n",
      "\u001b[1m22/22\u001b[0m \u001b[32m━━━━━━━━━━━━━━━━━━━━\u001b[0m\u001b[37m\u001b[0m \u001b[1m4s\u001b[0m 166ms/step - accuracy: 0.7817 - loss: 0.6440 - val_accuracy: 0.8333 - val_loss: 0.5557\n",
      "Epoch 10/10\n",
      "\u001b[1m22/22\u001b[0m \u001b[32m━━━━━━━━━━━━━━━━━━━━\u001b[0m\u001b[37m\u001b[0m \u001b[1m4s\u001b[0m 165ms/step - accuracy: 0.7564 - loss: 0.6868 - val_accuracy: 0.8333 - val_loss: 0.5543\n"
     ]
    }
   ],
   "source": [
    "\n",
    "history=model.fit(X_train, y_train, epochs=10, batch_size=32, validation_split=0.3)\n",
    "\n"
   ]
  },
  {
   "cell_type": "markdown",
   "id": "b5c957fd",
   "metadata": {
    "papermill": {
     "duration": 0.02617,
     "end_time": "2025-03-09T13:23:14.241462",
     "exception": false,
     "start_time": "2025-03-09T13:23:14.215292",
     "status": "completed"
    },
    "tags": []
   },
   "source": [
    "#### PLOTTING AND ACCURACY AND LOSS CURVES"
   ]
  },
  {
   "cell_type": "code",
   "execution_count": 19,
   "id": "d613d2c1",
   "metadata": {
    "execution": {
     "iopub.execute_input": "2025-03-09T13:23:14.295546Z",
     "iopub.status.busy": "2025-03-09T13:23:14.295161Z",
     "iopub.status.idle": "2025-03-09T13:23:14.300335Z",
     "shell.execute_reply": "2025-03-09T13:23:14.299047Z"
    },
    "papermill": {
     "duration": 0.035187,
     "end_time": "2025-03-09T13:23:14.302470",
     "exception": false,
     "start_time": "2025-03-09T13:23:14.267283",
     "status": "completed"
    },
    "tags": []
   },
   "outputs": [],
   "source": [
    "import matplotlib.pyplot as plt\n",
    "accuracy=history.history['accuracy']\n",
    "valAccuracy=history.history['val_accuracy']\n",
    "loss = history.history['loss']\n",
    "valLoss = history.history['val_loss']\n",
    "epochs_range = range(1, len(accuracy) + 1)"
   ]
  },
  {
   "cell_type": "code",
   "execution_count": 20,
   "id": "c3c6ef06",
   "metadata": {
    "execution": {
     "iopub.execute_input": "2025-03-09T13:23:14.356988Z",
     "iopub.status.busy": "2025-03-09T13:23:14.356572Z",
     "iopub.status.idle": "2025-03-09T13:23:14.754496Z",
     "shell.execute_reply": "2025-03-09T13:23:14.752830Z"
    },
    "papermill": {
     "duration": 0.427113,
     "end_time": "2025-03-09T13:23:14.756678",
     "exception": false,
     "start_time": "2025-03-09T13:23:14.329565",
     "status": "completed"
    },
    "tags": []
   },
   "outputs": [
    {
     "data": {
      "text/plain": [
       "Text(0.5, 1.0, 'Training & Validation Accuracy')"
      ]
     },
     "execution_count": 20,
     "metadata": {},
     "output_type": "execute_result"
    },
    {
     "data": {
      "image/png": "[encoded data removed]",
      "text/plain": [
       "<Figure size 1200x500 with 1 Axes>"
      ]
     },
     "metadata": {},
     "output_type": "display_data"
    }
   ],
   "source": [
    "plt.figure(figsize=(12, 5))\n",
    "plt.subplot(1, 2, 1)\n",
    "plt.plot(epochs_range, accuracy, label='Training Accuracy', marker='o')\n",
    "plt.plot(epochs_range, valAccuracy, label='Validation Accuracy', marker='o')\n",
    "plt.legend(loc='lower right')\n",
    "plt.xlabel('Epochs')\n",
    "plt.ylabel('Accuracy')\n",
    "plt.title('Training & Validation Accuracy')"
   ]
  },
  {
   "cell_type": "code",
   "execution_count": 21,
   "id": "5e9c7b2c",
   "metadata": {
    "execution": {
     "iopub.execute_input": "2025-03-09T13:23:14.813916Z",
     "iopub.status.busy": "2025-03-09T13:23:14.813475Z",
     "iopub.status.idle": "2025-03-09T13:23:15.076101Z",
     "shell.execute_reply": "2025-03-09T13:23:15.074413Z"
    },
    "papermill": {
     "duration": 0.293139,
     "end_time": "2025-03-09T13:23:15.078439",
     "exception": false,
     "start_time": "2025-03-09T13:23:14.785300",
     "status": "completed"
    },
    "tags": []
   },
   "outputs": [
    {
     "data": {
      "text/plain": [
       "Text(0.5, 1.0, 'Training & Validation Loss')"
      ]
     },
     "execution_count": 21,
     "metadata": {},
     "output_type": "execute_result"
    },
    {
     "data": {
      "image/png": "[encoded data removed]",
      "text/plain": [
       "<Figure size 1200x500 with 1 Axes>"
      ]
     },
     "metadata": {},
     "output_type": "display_data"
    }
   ],
   "source": [
    "plt.figure(figsize=(12, 5))\n",
    "plt.subplot(1, 2, 2)\n",
    "plt.plot(epochs_range, loss, label='Training Loss', marker='o')\n",
    "plt.plot(epochs_range, valLoss, label='Validation Loss', marker='o')\n",
    "plt.legend(loc='upper right')\n",
    "plt.xlabel('Epochs')\n",
    "plt.ylabel('Loss')\n",
    "plt.title('Training & Validation Loss')"
   ]
  },
  {
   "cell_type": "markdown",
   "id": "5a89257d",
   "metadata": {
    "papermill": {
     "duration": 0.02881,
     "end_time": "2025-03-09T13:23:15.136907",
     "exception": false,
     "start_time": "2025-03-09T13:23:15.108097",
     "status": "completed"
    },
    "tags": []
   },
   "source": [
    "##### overfitting"
   ]
  },
  {
   "cell_type": "markdown",
   "id": "83cb5a4c",
   "metadata": {
    "papermill": {
     "duration": 0.029418,
     "end_time": "2025-03-09T13:23:15.195600",
     "exception": false,
     "start_time": "2025-03-09T13:23:15.166182",
     "status": "completed"
    },
    "tags": []
   },
   "source": [
    "### OUTPUT VS PREDICTED OUTPUT\n"
   ]
  },
  {
   "cell_type": "code",
   "execution_count": 22,
   "id": "932e0fcc",
   "metadata": {
    "execution": {
     "iopub.execute_input": "2025-03-09T13:23:15.356755Z",
     "iopub.status.busy": "2025-03-09T13:23:15.356347Z",
     "iopub.status.idle": "2025-03-09T13:23:17.985891Z",
     "shell.execute_reply": "2025-03-09T13:23:17.984597Z"
    },
    "papermill": {
     "duration": 2.661952,
     "end_time": "2025-03-09T13:23:17.987870",
     "exception": false,
     "start_time": "2025-03-09T13:23:15.325918",
     "status": "completed"
    },
    "tags": []
   },
   "outputs": [
    {
     "name": "stdout",
     "output_type": "stream",
     "text": [
      "\u001b[1m32/32\u001b[0m \u001b[32m━━━━━━━━━━━━━━━━━━━━\u001b[0m\u001b[37m\u001b[0m \u001b[1m3s\u001b[0m 69ms/step\n"
     ]
    }
   ],
   "source": [
    "predictions = model.predict(padded_sequences)\n",
    "corrected_classes = np.argmax(predictions, axis=1)\n",
    "mapping = {0: 1, 1: 2, 2: 0}\n",
    "predictedClasses = np.array([mapping[i] for i in corrected_classes])\n"
   ]
  },
  {
   "cell_type": "code",
   "execution_count": 23,
   "id": "8a7343e7",
   "metadata": {
    "execution": {
     "iopub.execute_input": "2025-03-09T13:23:18.050795Z",
     "iopub.status.busy": "2025-03-09T13:23:18.050333Z",
     "iopub.status.idle": "2025-03-09T13:23:18.056700Z",
     "shell.execute_reply": "2025-03-09T13:23:18.055359Z"
    },
    "papermill": {
     "duration": 0.039084,
     "end_time": "2025-03-09T13:23:18.058398",
     "exception": false,
     "start_time": "2025-03-09T13:23:18.019314",
     "status": "completed"
    },
    "tags": []
   },
   "outputs": [
    {
     "name": "stdout",
     "output_type": "stream",
     "text": [
      "[[0.15097238 0.809086   0.03994161]\n",
      " [0.15097234 0.8090861  0.0399415 ]\n",
      " [0.10062347 0.8247269  0.07464966]\n",
      " [0.15097356 0.8090832  0.03994323]\n",
      " [0.15097205 0.80908686 0.03994107]]\n"
     ]
    }
   ],
   "source": [
    "\n",
    "print(predictions[:5])\n"
   ]
  },
  {
   "cell_type": "markdown",
   "id": "204accbc",
   "metadata": {
    "papermill": {
     "duration": 0.029632,
     "end_time": "2025-03-09T13:23:18.117661",
     "exception": false,
     "start_time": "2025-03-09T13:23:18.088029",
     "status": "completed"
    },
    "tags": []
   },
   "source": []
  },
  {
   "cell_type": "code",
   "execution_count": 24,
   "id": "113ab289",
   "metadata": {
    "execution": {
     "iopub.execute_input": "2025-03-09T13:23:18.178458Z",
     "iopub.status.busy": "2025-03-09T13:23:18.178106Z",
     "iopub.status.idle": "2025-03-09T13:23:18.184500Z",
     "shell.execute_reply": "2025-03-09T13:23:18.183433Z"
    },
    "papermill": {
     "duration": 0.039503,
     "end_time": "2025-03-09T13:23:18.186525",
     "exception": false,
     "start_time": "2025-03-09T13:23:18.147022",
     "status": "completed"
    },
    "tags": []
   },
   "outputs": [
    {
     "name": "stdout",
     "output_type": "stream",
     "text": [
      "Any NaNs in predictions? False\n",
      "Any infinities in predictions? False\n"
     ]
    }
   ],
   "source": [
    "\n",
    "print(\"Any NaNs in predictions?\", np.isnan(predictions).any())\n",
    "print(\"Any infinities in predictions?\", np.isinf(predictions).any())\n"
   ]
  },
  {
   "cell_type": "code",
   "execution_count": 25,
   "id": "21706d8a",
   "metadata": {
    "execution": {
     "iopub.execute_input": "2025-03-09T13:23:18.247089Z",
     "iopub.status.busy": "2025-03-09T13:23:18.246737Z",
     "iopub.status.idle": "2025-03-09T13:23:18.252373Z",
     "shell.execute_reply": "2025-03-09T13:23:18.251195Z"
    },
    "papermill": {
     "duration": 0.038283,
     "end_time": "2025-03-09T13:23:18.254264",
     "exception": false,
     "start_time": "2025-03-09T13:23:18.215981",
     "status": "completed"
    },
    "tags": []
   },
   "outputs": [],
   "source": [
    "comparisonData=pd.DataFrame({\n",
    "    \"Text\":lmtpData[\"CombinedText\"],\n",
    "    \"Actual Sentiment\":lmtpData[\"Sentiment\"].values,\n",
    "    \"Predicted Sentiment\":predictedClasses\n",
    "})\n"
   ]
  },
  {
   "cell_type": "code",
   "execution_count": 26,
   "id": "ecc0fbb7",
   "metadata": {
    "execution": {
     "iopub.execute_input": "2025-03-09T13:23:18.316065Z",
     "iopub.status.busy": "2025-03-09T13:23:18.315709Z",
     "iopub.status.idle": "2025-03-09T13:23:18.320669Z",
     "shell.execute_reply": "2025-03-09T13:23:18.319303Z"
    },
    "papermill": {
     "duration": 0.038184,
     "end_time": "2025-03-09T13:23:18.322503",
     "exception": false,
     "start_time": "2025-03-09T13:23:18.284319",
     "status": "completed"
    },
    "tags": []
   },
   "outputs": [],
   "source": [
    "comparisonData = comparisonData.iloc[:1000]\n"
   ]
  },
  {
   "cell_type": "code",
   "execution_count": 27,
   "id": "fc9129fe",
   "metadata": {
    "execution": {
     "iopub.execute_input": "2025-03-09T13:23:18.384083Z",
     "iopub.status.busy": "2025-03-09T13:23:18.383677Z",
     "iopub.status.idle": "2025-03-09T13:23:18.390791Z",
     "shell.execute_reply": "2025-03-09T13:23:18.389575Z"
    },
    "papermill": {
     "duration": 0.039923,
     "end_time": "2025-03-09T13:23:18.392773",
     "exception": false,
     "start_time": "2025-03-09T13:23:18.352850",
     "status": "completed"
    },
    "tags": []
   },
   "outputs": [],
   "source": [
    "comparisonData = comparisonData.copy()\n",
    "\n",
    "comparisonData[\"Positive\"] = predictions[:, 0] \n",
    "comparisonData[\"Neutral\"] = predictions[:, 1]  \n",
    "comparisonData[\"Negative\"] = predictions[:, 2]\n",
    "\n"
   ]
  },
  {
   "cell_type": "code",
   "execution_count": 28,
   "id": "571757c2",
   "metadata": {
    "execution": {
     "iopub.execute_input": "2025-03-09T13:23:18.454930Z",
     "iopub.status.busy": "2025-03-09T13:23:18.454511Z",
     "iopub.status.idle": "2025-03-09T13:23:18.476427Z",
     "shell.execute_reply": "2025-03-09T13:23:18.474991Z"
    },
    "papermill": {
     "duration": 0.055299,
     "end_time": "2025-03-09T13:23:18.478440",
     "exception": false,
     "start_time": "2025-03-09T13:23:18.423141",
     "status": "completed"
    },
    "tags": []
   },
   "outputs": [
    {
     "name": "stdout",
     "output_type": "stream",
     "text": [
      "       Actual Sentiment  Predicted Sentiment     Positive      Neutral  \\\n",
      "count        1000.00000               1000.0  1000.000000  1000.000000   \n",
      "mean            0.90200                  2.0     0.141406     0.811175   \n",
      "std             0.44788                  0.0     0.017712     0.014090   \n",
      "min             0.00000                  2.0     0.084172     0.719020   \n",
      "25%             1.00000                  2.0     0.134591     0.809005   \n",
      "50%             1.00000                  2.0     0.150972     0.809084   \n",
      "75%             1.00000                  2.0     0.150979     0.809087   \n",
      "max             2.00000                  2.0     0.191200     0.866750   \n",
      "\n",
      "          Negative  \n",
      "count  1000.000000  \n",
      "mean      0.047419  \n",
      "std       0.012355  \n",
      "min       0.038881  \n",
      "25%       0.039943  \n",
      "50%       0.039985  \n",
      "75%       0.054601  \n",
      "max       0.117968  \n",
      "Text                    object\n",
      "Actual Sentiment         int64\n",
      "Predicted Sentiment      int64\n",
      "Positive               float32\n",
      "Neutral                float32\n",
      "Negative               float32\n",
      "dtype: object\n"
     ]
    }
   ],
   "source": [
    "print(comparisonData.describe())\n",
    "print(comparisonData.dtypes)\n"
   ]
  },
  {
   "cell_type": "code",
   "execution_count": 29,
   "id": "8f3f1074",
   "metadata": {
    "execution": {
     "iopub.execute_input": "2025-03-09T13:23:18.544007Z",
     "iopub.status.busy": "2025-03-09T13:23:18.543560Z",
     "iopub.status.idle": "2025-03-09T13:23:18.556973Z",
     "shell.execute_reply": "2025-03-09T13:23:18.555823Z"
    },
    "papermill": {
     "duration": 0.04923,
     "end_time": "2025-03-09T13:23:18.558612",
     "exception": false,
     "start_time": "2025-03-09T13:23:18.509382",
     "status": "completed"
    },
    "tags": []
   },
   "outputs": [
    {
     "data": {
      "text/html": [
       "<div>\n",
       "<style scoped>\n",
       "    .dataframe tbody tr th:only-of-type {\n",
       "        vertical-align: middle;\n",
       "    }\n",
       "\n",
       "    .dataframe tbody tr th {\n",
       "        vertical-align: top;\n",
       "    }\n",
       "\n",
       "    .dataframe thead th {\n",
       "        text-align: right;\n",
       "    }\n",
       "</style>\n",
       "<table border=\"1\" class=\"dataframe\">\n",
       "  <thead>\n",
       "    <tr style=\"text-align: right;\">\n",
       "      <th></th>\n",
       "      <th>Text</th>\n",
       "      <th>Actual Sentiment</th>\n",
       "      <th>Predicted Sentiment</th>\n",
       "      <th>Positive</th>\n",
       "      <th>Neutral</th>\n",
       "      <th>Negative</th>\n",
       "    </tr>\n",
       "  </thead>\n",
       "  <tbody>\n",
       "    <tr>\n",
       "      <th>229512</th>\n",
       "      <td>what a deal With the regular order form option for Bob's through Amazon, I am paying 3 dollars less per bag than I would for the cheapest grocery store price in my area!</td>\n",
       "      <td>1</td>\n",
       "      <td>2</td>\n",
       "      <td>0.150972</td>\n",
       "      <td>0.809086</td>\n",
       "      <td>0.039942</td>\n",
       "    </tr>\n",
       "    <tr>\n",
       "      <th>255819</th>\n",
       "      <td>kids love them My kiddos love these fruit snack pouches and I love that they are mess free, great for a snack in the car because we always on the go</td>\n",
       "      <td>1</td>\n",
       "      <td>2</td>\n",
       "      <td>0.150972</td>\n",
       "      <td>0.809086</td>\n",
       "      <td>0.039942</td>\n",
       "    </tr>\n",
       "    <tr>\n",
       "      <th>310812</th>\n",
       "      <td>I won't live without this! I think the berry flavor is far better than the veggie powder as far as taste goes but I don't mind either one.  I add this to some juice, kefir, some coconut oil whatever, but I always add stevia with it.  I think this is a very cheap insurance to staying or getting healthy.  I battled with my health my whole life.  I try now to stay as natural as I can with my health care now.  It leads me to `well' a lot quicker. I was one of those DES babies you may or may not have heard about.  Our mothers took DES which was a drug to prevent a miscarriage but what happened was it caused problems with the baby and left a compromised immune system.  This is why my whole life it has been one thing after another.  Well, THIS powder is fantastic.  When I take this consistently I have far more energy and I just seem to stay well.  When I get lazy about it and stop taking it I have no energy, I get foggy brained, down in the dumps.  Big difference. I figure if I take this in the morning, the rest of the day is covered as far as my fruits and veggies are concerned.  What I do eat on top of this is a bonus!  If you `really' really can't stand the taste then add the stevia, add fruit, juice whatever, it so worth taking this powder!!  Personally I have no problem with the flavor. Five starts from me!</td>\n",
       "      <td>1</td>\n",
       "      <td>2</td>\n",
       "      <td>0.100623</td>\n",
       "      <td>0.824727</td>\n",
       "      <td>0.074650</td>\n",
       "    </tr>\n",
       "    <tr>\n",
       "      <th>116514</th>\n",
       "      <td>Tastes like popcorn This product tastes like movie style popcorn that is OVERLY salted, and I understand that popcorn is usually pretty salty but this might be a little too much. I would probably buy this again.</td>\n",
       "      <td>1</td>\n",
       "      <td>2</td>\n",
       "      <td>0.150974</td>\n",
       "      <td>0.809083</td>\n",
       "      <td>0.039943</td>\n",
       "    </tr>\n",
       "    <tr>\n",
       "      <th>177853</th>\n",
       "      <td>FUN PACKAGE _ GOOD BREW Strong and flavorful and not bitter.&lt;br /&gt;We enoyed the colorful package, even more the coffee inside. We will surely order again.</td>\n",
       "      <td>1</td>\n",
       "      <td>2</td>\n",
       "      <td>0.150972</td>\n",
       "      <td>0.809087</td>\n",
       "      <td>0.039941</td>\n",
       "    </tr>\n",
       "    <tr>\n",
       "      <th>36391</th>\n",
       "      <td>noodles. I was worried at first when I read the other reviews. I followed the directions to the tee amdthe noodles turned out great. Telling all my friends about these.</td>\n",
       "      <td>1</td>\n",
       "      <td>2</td>\n",
       "      <td>0.150972</td>\n",
       "      <td>0.809086</td>\n",
       "      <td>0.039941</td>\n",
       "    </tr>\n",
       "    <tr>\n",
       "      <th>308886</th>\n",
       "      <td>Cats LOVE the food, I hate the mess of packaging...cats win. I've had them try every type of Whiskas. . .this is hands down the best (this, meaning the Purrfectly Chicken, Chicken/Duck, Chicken/Beef). The purple packages don't even resemble meat so even though my cats will eat it, I didn't feel comfortable feeding it to them. The Purrfectly Fish makes a couple of my kitties violently ill (hence the neon pink vomit everywhere) but the Purrfectly chicken varieties seem to agree with all of them. No vomit, they eat a majority of the meat after lapping up all of the juices and grain free. My diabetic cat is no longer diabetic, and the fact that there is now a food in my home that everyone will eat is pretty amazing.&lt;br /&gt;&lt;br /&gt;My complaint - the packaging. I've tried the tip mentioned by others (storing them upside down) but there is just no way to get the pack open without a) having the juice squirt out on to one of the eager diners (though they don't let that slow them down), b) having the juice squirt and ooze all over my hands c) the juice splattering the wall d) me having to squeeze the package for the remaining bits of meat and juice as if I am milking a cow. I HATE feeding them because I always end up covered in chicken juice and bits and I know there is more in the package that I didn't successfully squeeze out. This in turn means that all of the pets will be trying to go through the trash when they are hungry looking for a few half squeezed packs so they can get another fix. There must be another interior material they could use for the packaging that would allow an easier 'release' of the food. . .Whiskas, you listening?</td>\n",
       "      <td>1</td>\n",
       "      <td>2</td>\n",
       "      <td>0.110463</td>\n",
       "      <td>0.835421</td>\n",
       "      <td>0.054116</td>\n",
       "    </tr>\n",
       "    <tr>\n",
       "      <th>523457</th>\n",
       "      <td>Better be double stuffed with gold... at that price.  I'm guessing that you guys are aiming for those of us that can't get down to the store for our double stuffs...</td>\n",
       "      <td>0</td>\n",
       "      <td>2</td>\n",
       "      <td>0.150972</td>\n",
       "      <td>0.809086</td>\n",
       "      <td>0.039941</td>\n",
       "    </tr>\n",
       "    <tr>\n",
       "      <th>429006</th>\n",
       "      <td>\"Chocolate in a Jar! Oh My ~ Heavenly\" My sister-in-law brought me a jar of this smooth, creamy,  delicately sweet chocolate spread on her recent visit from the UK.&lt;br /&gt;&lt;br /&gt;Cadbury's spreads like butter, the other leading chocolate/hazelnut spread  can tend to be a little thick and tear the bread and I am not a fan of the hazelnut; I'd rather have the pure chocolate.&lt;br /&gt;&lt;br /&gt;Chocolate does not get much purer than Cadbury.&lt;br /&gt;&lt;br /&gt;One of my favorites is as a late night snack is made up of a wheat sandwich thin, one side with peanut butter the other side with Cadbury's.  Yum.&lt;br /&gt;&lt;br /&gt;For me it is worth the price; we have a British shop 30 miles in the next town over.  It was $10.70 there and I burned 2 gallons gas in the trip to pick it up.&lt;br /&gt;&lt;br /&gt;It is a luxurious treat.  Hide it from the kids :-)</td>\n",
       "      <td>1</td>\n",
       "      <td>2</td>\n",
       "      <td>0.105266</td>\n",
       "      <td>0.838890</td>\n",
       "      <td>0.055844</td>\n",
       "    </tr>\n",
       "    <tr>\n",
       "      <th>471600</th>\n",
       "      <td>Good Ingredients for the price We have a lot of fosters coming in and out of our home. As much as I would like to feed them what I give my dogs, it's just not in our budget. After much research and going to dogfoodadvisor.com we found this to be a good dog food without all the junk but for far less than other brands of comparable ingredients. We can actually get this 40lbs bag for about 26.00 at a pet food store about 40 minutes away. So, if we're in a pinch, I do order on line. A lot of fosters come in completely neglected and starved, the amount of food we go through can be mind boggling..lol, thanks diamond Naturals, not regular Diamond!</td>\n",
       "      <td>1</td>\n",
       "      <td>2</td>\n",
       "      <td>0.118596</td>\n",
       "      <td>0.827395</td>\n",
       "      <td>0.054008</td>\n",
       "    </tr>\n",
       "  </tbody>\n",
       "</table>\n",
       "</div>"
      ],
      "text/plain": [
       "                                                                                                                                                                                                                                                                                                                                                                                                                                                                                                                                                                                                                                                                                                                                                                                                                                                                                                                                                                                                                                                                                                                                                                                                                                                                                                                                                                                                                                                                                                                                                                                                                                                                                                                          Text  \\\n",
       "229512                                                                                                                                                                                                                                                                                                                                                                                                                                                                                                                                                                                                                                                                                                                                                                                                                                                                                                                                                                                                                                                                                                                                                                                                                                                                                                                                                                                                                                                                                                                                               what a deal With the regular order form option for Bob's through Amazon, I am paying 3 dollars less per bag than I would for the cheapest grocery store price in my area!   \n",
       "255819                                                                                                                                                                                                                                                                                                                                                                                                                                                                                                                                                                                                                                                                                                                                                                                                                                                                                                                                                                                                                                                                                                                                                                                                                                                                                                                                                                                                                                                                                                                                                                    kids love them My kiddos love these fruit snack pouches and I love that they are mess free, great for a snack in the car because we always on the go   \n",
       "310812                                                                                                                                                                                                                                                                                                                                          I won't live without this! I think the berry flavor is far better than the veggie powder as far as taste goes but I don't mind either one.  I add this to some juice, kefir, some coconut oil whatever, but I always add stevia with it.  I think this is a very cheap insurance to staying or getting healthy.  I battled with my health my whole life.  I try now to stay as natural as I can with my health care now.  It leads me to `well' a lot quicker. I was one of those DES babies you may or may not have heard about.  Our mothers took DES which was a drug to prevent a miscarriage but what happened was it caused problems with the baby and left a compromised immune system.  This is why my whole life it has been one thing after another.  Well, THIS powder is fantastic.  When I take this consistently I have far more energy and I just seem to stay well.  When I get lazy about it and stop taking it I have no energy, I get foggy brained, down in the dumps.  Big difference. I figure if I take this in the morning, the rest of the day is covered as far as my fruits and veggies are concerned.  What I do eat on top of this is a bonus!  If you `really' really can't stand the taste then add the stevia, add fruit, juice whatever, it so worth taking this powder!!  Personally I have no problem with the flavor. Five starts from me!   \n",
       "116514                                                                                                                                                                                                                                                                                                                                                                                                                                                                                                                                                                                                                                                                                                                                                                                                                                                                                                                                                                                                                                                                                                                                                                                                                                                                                                                                                                                                                                                                                                     Tastes like popcorn This product tastes like movie style popcorn that is OVERLY salted, and I understand that popcorn is usually pretty salty but this might be a little too much. I would probably buy this again.   \n",
       "177853                                                                                                                                                                                                                                                                                                                                                                                                                                                                                                                                                                                                                                                                                                                                                                                                                                                                                                                                                                                                                                                                                                                                                                                                                                                                                                                                                                                                                                                                                                                                                              FUN PACKAGE _ GOOD BREW Strong and flavorful and not bitter.<br />We enoyed the colorful package, even more the coffee inside. We will surely order again.   \n",
       "36391                                                                                                                                                                                                                                                                                                                                                                                                                                                                                                                                                                                                                                                                                                                                                                                                                                                                                                                                                                                                                                                                                                                                                                                                                                                                                                                                                                                                                                                                                                                                                 noodles. I was worried at first when I read the other reviews. I followed the directions to the tee amdthe noodles turned out great. Telling all my friends about these.   \n",
       "308886  Cats LOVE the food, I hate the mess of packaging...cats win. I've had them try every type of Whiskas. . .this is hands down the best (this, meaning the Purrfectly Chicken, Chicken/Duck, Chicken/Beef). The purple packages don't even resemble meat so even though my cats will eat it, I didn't feel comfortable feeding it to them. The Purrfectly Fish makes a couple of my kitties violently ill (hence the neon pink vomit everywhere) but the Purrfectly chicken varieties seem to agree with all of them. No vomit, they eat a majority of the meat after lapping up all of the juices and grain free. My diabetic cat is no longer diabetic, and the fact that there is now a food in my home that everyone will eat is pretty amazing.<br /><br />My complaint - the packaging. I've tried the tip mentioned by others (storing them upside down) but there is just no way to get the pack open without a) having the juice squirt out on to one of the eager diners (though they don't let that slow them down), b) having the juice squirt and ooze all over my hands c) the juice splattering the wall d) me having to squeeze the package for the remaining bits of meat and juice as if I am milking a cow. I HATE feeding them because I always end up covered in chicken juice and bits and I know there is more in the package that I didn't successfully squeeze out. This in turn means that all of the pets will be trying to go through the trash when they are hungry looking for a few half squeezed packs so they can get another fix. There must be another interior material they could use for the packaging that would allow an easier 'release' of the food. . .Whiskas, you listening?   \n",
       "523457                                                                                                                                                                                                                                                                                                                                                                                                                                                                                                                                                                                                                                                                                                                                                                                                                                                                                                                                                                                                                                                                                                                                                                                                                                                                                                                                                                                                                                                                                                                                                   Better be double stuffed with gold... at that price.  I'm guessing that you guys are aiming for those of us that can't get down to the store for our double stuffs...   \n",
       "429006                                                                                                                                                                                                                                                                                                                                                                                                                                                                                                                                                                                                                                                                                                                                                                                                                                                                 \"Chocolate in a Jar! Oh My ~ Heavenly\" My sister-in-law brought me a jar of this smooth, creamy,  delicately sweet chocolate spread on her recent visit from the UK.<br /><br />Cadbury's spreads like butter, the other leading chocolate/hazelnut spread  can tend to be a little thick and tear the bread and I am not a fan of the hazelnut; I'd rather have the pure chocolate.<br /><br />Chocolate does not get much purer than Cadbury.<br /><br />One of my favorites is as a late night snack is made up of a wheat sandwich thin, one side with peanut butter the other side with Cadbury's.  Yum.<br /><br />For me it is worth the price; we have a British shop 30 miles in the next town over.  It was $10.70 there and I burned 2 gallons gas in the trip to pick it up.<br /><br />It is a luxurious treat.  Hide it from the kids :-)   \n",
       "471600                                                                                                                                                                                                                                                                                                                                                                                                                                                                                                                                                                                                                                                                                                                                                                                                                                                                                                                                                                                                                                                Good Ingredients for the price We have a lot of fosters coming in and out of our home. As much as I would like to feed them what I give my dogs, it's just not in our budget. After much research and going to dogfoodadvisor.com we found this to be a good dog food without all the junk but for far less than other brands of comparable ingredients. We can actually get this 40lbs bag for about 26.00 at a pet food store about 40 minutes away. So, if we're in a pinch, I do order on line. A lot of fosters come in completely neglected and starved, the amount of food we go through can be mind boggling..lol, thanks diamond Naturals, not regular Diamond!   \n",
       "\n",
       "        Actual Sentiment  Predicted Sentiment  Positive   Neutral  Negative  \n",
       "229512                 1                    2  0.150972  0.809086  0.039942  \n",
       "255819                 1                    2  0.150972  0.809086  0.039942  \n",
       "310812                 1                    2  0.100623  0.824727  0.074650  \n",
       "116514                 1                    2  0.150974  0.809083  0.039943  \n",
       "177853                 1                    2  0.150972  0.809087  0.039941  \n",
       "36391                  1                    2  0.150972  0.809086  0.039941  \n",
       "308886                 1                    2  0.110463  0.835421  0.054116  \n",
       "523457                 0                    2  0.150972  0.809086  0.039941  \n",
       "429006                 1                    2  0.105266  0.838890  0.055844  \n",
       "471600                 1                    2  0.118596  0.827395  0.054008  "
      ]
     },
     "execution_count": 29,
     "metadata": {},
     "output_type": "execute_result"
    }
   ],
   "source": [
    "comparisonData.head(10)"
   ]
  },
  {
   "cell_type": "code",
   "execution_count": 30,
   "id": "531f34e3",
   "metadata": {
    "execution": {
     "iopub.execute_input": "2025-03-09T13:23:18.621059Z",
     "iopub.status.busy": "2025-03-09T13:23:18.620708Z",
     "iopub.status.idle": "2025-03-09T13:23:19.383085Z",
     "shell.execute_reply": "2025-03-09T13:23:19.381939Z"
    },
    "papermill": {
     "duration": 0.79612,
     "end_time": "2025-03-09T13:23:19.385224",
     "exception": false,
     "start_time": "2025-03-09T13:23:18.589104",
     "status": "completed"
    },
    "tags": []
   },
   "outputs": [],
   "source": [
    "comparisonData.to_excel(\"PredictedSample1.xlsx\", index=False)\n"
   ]
  },
  {
   "cell_type": "markdown",
   "id": "6dec9778",
   "metadata": {
    "papermill": {
     "duration": 0.029566,
     "end_time": "2025-03-09T13:23:19.445740",
     "exception": false,
     "start_time": "2025-03-09T13:23:19.416174",
     "status": "completed"
    },
    "tags": []
   },
   "source": [
    "## TRAINING USING NEW SAMPLE DATASET"
   ]
  },
  {
   "cell_type": "code",
   "execution_count": 31,
   "id": "b5c3e80e",
   "metadata": {
    "execution": {
     "iopub.execute_input": "2025-03-09T13:23:19.513788Z",
     "iopub.status.busy": "2025-03-09T13:23:19.513060Z",
     "iopub.status.idle": "2025-03-09T13:23:19.661513Z",
     "shell.execute_reply": "2025-03-09T13:23:19.660132Z"
    },
    "papermill": {
     "duration": 0.187659,
     "end_time": "2025-03-09T13:23:19.663514",
     "exception": false,
     "start_time": "2025-03-09T13:23:19.475855",
     "status": "completed"
    },
    "tags": []
   },
   "outputs": [
    {
     "data": {
      "text/html": [
       "<div>\n",
       "<style scoped>\n",
       "    .dataframe tbody tr th:only-of-type {\n",
       "        vertical-align: middle;\n",
       "    }\n",
       "\n",
       "    .dataframe tbody tr th {\n",
       "        vertical-align: top;\n",
       "    }\n",
       "\n",
       "    .dataframe thead th {\n",
       "        text-align: right;\n",
       "    }\n",
       "</style>\n",
       "<table border=\"1\" class=\"dataframe\">\n",
       "  <thead>\n",
       "    <tr style=\"text-align: right;\">\n",
       "      <th></th>\n",
       "      <th>Id</th>\n",
       "      <th>ProductId</th>\n",
       "      <th>UserId</th>\n",
       "      <th>ProfileName</th>\n",
       "      <th>HelpfulnessNumerator</th>\n",
       "      <th>HelpfulnessDenominator</th>\n",
       "      <th>Score</th>\n",
       "      <th>Time</th>\n",
       "      <th>Summary</th>\n",
       "      <th>Text</th>\n",
       "    </tr>\n",
       "  </thead>\n",
       "  <tbody>\n",
       "    <tr>\n",
       "      <th>150179</th>\n",
       "      <td>150180</td>\n",
       "      <td>B004DAQ30O</td>\n",
       "      <td>A1EPP3SUJX24TS</td>\n",
       "      <td>Birdsong</td>\n",
       "      <td>0</td>\n",
       "      <td>0</td>\n",
       "      <td>5</td>\n",
       "      <td>1345766400</td>\n",
       "      <td>DELICIOUS IS RIGHT!!!</td>\n",
       "      <td>This makes a WONDERFUL gift!! (Especially for yourself!) ;) Very yummy and vegan!! Yippeee!! I can't wait to order more.</td>\n",
       "    </tr>\n",
       "    <tr>\n",
       "      <th>541140</th>\n",
       "      <td>541141</td>\n",
       "      <td>B000FMTJJQ</td>\n",
       "      <td>A3KLPMF6GT7UFR</td>\n",
       "      <td>Allison Pugh</td>\n",
       "      <td>0</td>\n",
       "      <td>0</td>\n",
       "      <td>5</td>\n",
       "      <td>1176249600</td>\n",
       "      <td>Madhave Agave Nectar</td>\n",
       "      <td>This is a great product at a great price.  The light, amber colored nectar reminds me of butterscotch and the darker variety is more like maple syrup.  Both blend easily in liquids and taste great on cream of rice cereal.  It's low on the glycemic  index and doesn't require much.</td>\n",
       "    </tr>\n",
       "    <tr>\n",
       "      <th>480335</th>\n",
       "      <td>480336</td>\n",
       "      <td>B000DZDJ0K</td>\n",
       "      <td>AC9M02L4P8PEB</td>\n",
       "      <td>CJR</td>\n",
       "      <td>0</td>\n",
       "      <td>0</td>\n",
       "      <td>5</td>\n",
       "      <td>1336262400</td>\n",
       "      <td>Gluten free and yummy</td>\n",
       "      <td>This is our G-F go-to \"flour\" for baking.  We use it for muffins, for pancakes and waffles, for pie crust, cookies and more.  It makes gluten-free baking easy and delicious and our wheat loving family and friends don't know/care that they're eating G-F.  This works just fine when substituted in our old favorite \"wheat flour\" recipes.  It's a little pricey but has become our favorite brand, worth the cost because it doesn't disappoint.  Buying by Amazon subscription is a bargain.</td>\n",
       "    </tr>\n",
       "    <tr>\n",
       "      <th>363020</th>\n",
       "      <td>363021</td>\n",
       "      <td>B004I4E37U</td>\n",
       "      <td>A3KOFPXR9MDM5A</td>\n",
       "      <td>Crazy Cat Lady \"Ida\"</td>\n",
       "      <td>1</td>\n",
       "      <td>11</td>\n",
       "      <td>2</td>\n",
       "      <td>1301788800</td>\n",
       "      <td>Like chewing on tinfoil.</td>\n",
       "      <td>Tastes like generic spearmint without as much as a hint of white tea, or anything else for that matter.  The first time I had a piece, I clamped down with my molars and thought I had accidentally taken in some of the foil from the blister pack.  Nope.  I've since had six more pieces, pretty much just to freshen my breath and then I throw it out.  The sensation of biting on something metallic has occurred repeatedly with this gum and no other.  Even if it didn't do that, the taste is nothing special and I definitely would not buy this product again.</td>\n",
       "    </tr>\n",
       "    <tr>\n",
       "      <th>555897</th>\n",
       "      <td>555898</td>\n",
       "      <td>B002SF035W</td>\n",
       "      <td>A1W31DCPASN65V</td>\n",
       "      <td>CB \"CB\"</td>\n",
       "      <td>2</td>\n",
       "      <td>2</td>\n",
       "      <td>5</td>\n",
       "      <td>1258934400</td>\n",
       "      <td>Excellent Tea</td>\n",
       "      <td>I really enjoyed this rich and flavorful tea.  It's so hard to get a tea with this kind of blend in the United States. Lipton and Tetly seem so bland in comparison. Highly recommended.</td>\n",
       "    </tr>\n",
       "  </tbody>\n",
       "</table>\n",
       "</div>"
      ],
      "text/plain": [
       "            Id   ProductId          UserId           ProfileName  \\\n",
       "150179  150180  B004DAQ30O  A1EPP3SUJX24TS              Birdsong   \n",
       "541140  541141  B000FMTJJQ  A3KLPMF6GT7UFR          Allison Pugh   \n",
       "480335  480336  B000DZDJ0K   AC9M02L4P8PEB                   CJR   \n",
       "363020  363021  B004I4E37U  A3KOFPXR9MDM5A  Crazy Cat Lady \"Ida\"   \n",
       "555897  555898  B002SF035W  A1W31DCPASN65V               CB \"CB\"   \n",
       "\n",
       "        HelpfulnessNumerator  HelpfulnessDenominator  Score        Time  \\\n",
       "150179                     0                       0      5  1345766400   \n",
       "541140                     0                       0      5  1176249600   \n",
       "480335                     0                       0      5  1336262400   \n",
       "363020                     1                      11      2  1301788800   \n",
       "555897                     2                       2      5  1258934400   \n",
       "\n",
       "                         Summary  \\\n",
       "150179     DELICIOUS IS RIGHT!!!   \n",
       "541140      Madhave Agave Nectar   \n",
       "480335     Gluten free and yummy   \n",
       "363020  Like chewing on tinfoil.   \n",
       "555897             Excellent Tea   \n",
       "\n",
       "                                                                                                                                                                                                                                                                                                                                                                                                                                                                                                                                                                              Text  \n",
       "150179                                                                                                                                                                                                                                                                                                                                                                                                                                                    This makes a WONDERFUL gift!! (Especially for yourself!) ;) Very yummy and vegan!! Yippeee!! I can't wait to order more.  \n",
       "541140                                                                                                                                                                                                                                                                                    This is a great product at a great price.  The light, amber colored nectar reminds me of butterscotch and the darker variety is more like maple syrup.  Both blend easily in liquids and taste great on cream of rice cereal.  It's low on the glycemic  index and doesn't require much.  \n",
       "480335                                                                         This is our G-F go-to \"flour\" for baking.  We use it for muffins, for pancakes and waffles, for pie crust, cookies and more.  It makes gluten-free baking easy and delicious and our wheat loving family and friends don't know/care that they're eating G-F.  This works just fine when substituted in our old favorite \"wheat flour\" recipes.  It's a little pricey but has become our favorite brand, worth the cost because it doesn't disappoint.  Buying by Amazon subscription is a bargain.  \n",
       "363020  Tastes like generic spearmint without as much as a hint of white tea, or anything else for that matter.  The first time I had a piece, I clamped down with my molars and thought I had accidentally taken in some of the foil from the blister pack.  Nope.  I've since had six more pieces, pretty much just to freshen my breath and then I throw it out.  The sensation of biting on something metallic has occurred repeatedly with this gum and no other.  Even if it didn't do that, the taste is nothing special and I definitely would not buy this product again.  \n",
       "555897                                                                                                                                                                                                                                                                                                                                                                                    I really enjoyed this rich and flavorful tea.  It's so hard to get a tea with this kind of blend in the United States. Lipton and Tetly seem so bland in comparison. Highly recommended.  "
      ]
     },
     "execution_count": 31,
     "metadata": {},
     "output_type": "execute_result"
    }
   ],
   "source": [
    "droppedData=dataset.drop(lmtpData.index)\n",
    "dataset2=droppedData.sample(1000,random_state=43)\n",
    "dataset2.head()"
   ]
  },
  {
   "cell_type": "code",
   "execution_count": 32,
   "id": "4c991ec5",
   "metadata": {
    "execution": {
     "iopub.execute_input": "2025-03-09T13:23:19.729689Z",
     "iopub.status.busy": "2025-03-09T13:23:19.729010Z",
     "iopub.status.idle": "2025-03-09T13:23:19.752799Z",
     "shell.execute_reply": "2025-03-09T13:23:19.748794Z"
    },
    "papermill": {
     "duration": 0.062766,
     "end_time": "2025-03-09T13:23:19.757342",
     "exception": false,
     "start_time": "2025-03-09T13:23:19.694576",
     "status": "completed"
    },
    "tags": []
   },
   "outputs": [
    {
     "data": {
      "text/html": [
       "<div>\n",
       "<style scoped>\n",
       "    .dataframe tbody tr th:only-of-type {\n",
       "        vertical-align: middle;\n",
       "    }\n",
       "\n",
       "    .dataframe tbody tr th {\n",
       "        vertical-align: top;\n",
       "    }\n",
       "\n",
       "    .dataframe thead th {\n",
       "        text-align: right;\n",
       "    }\n",
       "</style>\n",
       "<table border=\"1\" class=\"dataframe\">\n",
       "  <thead>\n",
       "    <tr style=\"text-align: right;\">\n",
       "      <th></th>\n",
       "      <th>Score</th>\n",
       "      <th>Summary</th>\n",
       "      <th>Text</th>\n",
       "    </tr>\n",
       "  </thead>\n",
       "  <tbody>\n",
       "    <tr>\n",
       "      <th>150179</th>\n",
       "      <td>5</td>\n",
       "      <td>DELICIOUS IS RIGHT!!!</td>\n",
       "      <td>This makes a WONDERFUL gift!! (Especially for yourself!) ;) Very yummy and vegan!! Yippeee!! I can't wait to order more.</td>\n",
       "    </tr>\n",
       "    <tr>\n",
       "      <th>541140</th>\n",
       "      <td>5</td>\n",
       "      <td>Madhave Agave Nectar</td>\n",
       "      <td>This is a great product at a great price.  The light, amber colored nectar reminds me of butterscotch and the darker variety is more like maple syrup.  Both blend easily in liquids and taste great on cream of rice cereal.  It's low on the glycemic  index and doesn't require much.</td>\n",
       "    </tr>\n",
       "    <tr>\n",
       "      <th>480335</th>\n",
       "      <td>5</td>\n",
       "      <td>Gluten free and yummy</td>\n",
       "      <td>This is our G-F go-to \"flour\" for baking.  We use it for muffins, for pancakes and waffles, for pie crust, cookies and more.  It makes gluten-free baking easy and delicious and our wheat loving family and friends don't know/care that they're eating G-F.  This works just fine when substituted in our old favorite \"wheat flour\" recipes.  It's a little pricey but has become our favorite brand, worth the cost because it doesn't disappoint.  Buying by Amazon subscription is a bargain.</td>\n",
       "    </tr>\n",
       "    <tr>\n",
       "      <th>363020</th>\n",
       "      <td>2</td>\n",
       "      <td>Like chewing on tinfoil.</td>\n",
       "      <td>Tastes like generic spearmint without as much as a hint of white tea, or anything else for that matter.  The first time I had a piece, I clamped down with my molars and thought I had accidentally taken in some of the foil from the blister pack.  Nope.  I've since had six more pieces, pretty much just to freshen my breath and then I throw it out.  The sensation of biting on something metallic has occurred repeatedly with this gum and no other.  Even if it didn't do that, the taste is nothing special and I definitely would not buy this product again.</td>\n",
       "    </tr>\n",
       "    <tr>\n",
       "      <th>555897</th>\n",
       "      <td>5</td>\n",
       "      <td>Excellent Tea</td>\n",
       "      <td>I really enjoyed this rich and flavorful tea.  It's so hard to get a tea with this kind of blend in the United States. Lipton and Tetly seem so bland in comparison. Highly recommended.</td>\n",
       "    </tr>\n",
       "  </tbody>\n",
       "</table>\n",
       "</div>"
      ],
      "text/plain": [
       "        Score                   Summary  \\\n",
       "150179      5     DELICIOUS IS RIGHT!!!   \n",
       "541140      5      Madhave Agave Nectar   \n",
       "480335      5     Gluten free and yummy   \n",
       "363020      2  Like chewing on tinfoil.   \n",
       "555897      5             Excellent Tea   \n",
       "\n",
       "                                                                                                                                                                                                                                                                                                                                                                                                                                                                                                                                                                              Text  \n",
       "150179                                                                                                                                                                                                                                                                                                                                                                                                                                                    This makes a WONDERFUL gift!! (Especially for yourself!) ;) Very yummy and vegan!! Yippeee!! I can't wait to order more.  \n",
       "541140                                                                                                                                                                                                                                                                                    This is a great product at a great price.  The light, amber colored nectar reminds me of butterscotch and the darker variety is more like maple syrup.  Both blend easily in liquids and taste great on cream of rice cereal.  It's low on the glycemic  index and doesn't require much.  \n",
       "480335                                                                         This is our G-F go-to \"flour\" for baking.  We use it for muffins, for pancakes and waffles, for pie crust, cookies and more.  It makes gluten-free baking easy and delicious and our wheat loving family and friends don't know/care that they're eating G-F.  This works just fine when substituted in our old favorite \"wheat flour\" recipes.  It's a little pricey but has become our favorite brand, worth the cost because it doesn't disappoint.  Buying by Amazon subscription is a bargain.  \n",
       "363020  Tastes like generic spearmint without as much as a hint of white tea, or anything else for that matter.  The first time I had a piece, I clamped down with my molars and thought I had accidentally taken in some of the foil from the blister pack.  Nope.  I've since had six more pieces, pretty much just to freshen my breath and then I throw it out.  The sensation of biting on something metallic has occurred repeatedly with this gum and no other.  Even if it didn't do that, the taste is nothing special and I definitely would not buy this product again.  \n",
       "555897                                                                                                                                                                                                                                                                                                                                                                                    I really enjoyed this rich and flavorful tea.  It's so hard to get a tea with this kind of blend in the United States. Lipton and Tetly seem so bland in comparison. Highly recommended.  "
      ]
     },
     "execution_count": 32,
     "metadata": {},
     "output_type": "execute_result"
    }
   ],
   "source": [
    "lmtpData2=dataset2[['Score','Summary','Text']]\n",
    "lmtpData2.head()"
   ]
  },
  {
   "cell_type": "code",
   "execution_count": 33,
   "id": "8aa51352",
   "metadata": {
    "execution": {
     "iopub.execute_input": "2025-03-09T13:23:19.830360Z",
     "iopub.status.busy": "2025-03-09T13:23:19.830015Z",
     "iopub.status.idle": "2025-03-09T13:23:19.839689Z",
     "shell.execute_reply": "2025-03-09T13:23:19.838087Z"
    },
    "papermill": {
     "duration": 0.049328,
     "end_time": "2025-03-09T13:23:19.841780",
     "exception": false,
     "start_time": "2025-03-09T13:23:19.792452",
     "status": "completed"
    },
    "tags": []
   },
   "outputs": [],
   "source": [
    "lmtpData2 = lmtpData2.copy()\n",
    "lmtpData2['Summary'] = lmtpData2['Summary'].fillna(\"\")\n",
    "lmtpData2['CombinedText'] = lmtpData2['Summary'] + \" \" + lmtpData2['Text']\n"
   ]
  },
  {
   "cell_type": "code",
   "execution_count": 34,
   "id": "3c3b7af5",
   "metadata": {
    "execution": {
     "iopub.execute_input": "2025-03-09T13:23:19.907798Z",
     "iopub.status.busy": "2025-03-09T13:23:19.907403Z",
     "iopub.status.idle": "2025-03-09T13:23:19.922377Z",
     "shell.execute_reply": "2025-03-09T13:23:19.920947Z"
    },
    "papermill": {
     "duration": 0.051469,
     "end_time": "2025-03-09T13:23:19.924967",
     "exception": false,
     "start_time": "2025-03-09T13:23:19.873498",
     "status": "completed"
    },
    "tags": []
   },
   "outputs": [
    {
     "name": "stdout",
     "output_type": "stream",
     "text": [
      "<class 'pandas.core.frame.DataFrame'>\n",
      "Index: 1000 entries, 150179 to 28987\n",
      "Data columns (total 4 columns):\n",
      " #   Column        Non-Null Count  Dtype \n",
      "---  ------        --------------  ----- \n",
      " 0   Score         1000 non-null   int64 \n",
      " 1   Summary       1000 non-null   object\n",
      " 2   Text          1000 non-null   object\n",
      " 3   CombinedText  1000 non-null   object\n",
      "dtypes: int64(1), object(3)\n",
      "memory usage: 39.1+ KB\n"
     ]
    }
   ],
   "source": [
    "lmtpData2.info()"
   ]
  },
  {
   "cell_type": "markdown",
   "id": "d9479162",
   "metadata": {
    "papermill": {
     "duration": 0.032962,
     "end_time": "2025-03-09T13:23:20.004544",
     "exception": false,
     "start_time": "2025-03-09T13:23:19.971582",
     "status": "completed"
    },
    "tags": []
   },
   "source": []
  },
  {
   "cell_type": "code",
   "execution_count": 35,
   "id": "85d654b4",
   "metadata": {
    "execution": {
     "iopub.execute_input": "2025-03-09T13:23:20.081753Z",
     "iopub.status.busy": "2025-03-09T13:23:20.081361Z",
     "iopub.status.idle": "2025-03-09T13:23:20.094384Z",
     "shell.execute_reply": "2025-03-09T13:23:20.093106Z"
    },
    "papermill": {
     "duration": 0.052837,
     "end_time": "2025-03-09T13:23:20.097371",
     "exception": false,
     "start_time": "2025-03-09T13:23:20.044534",
     "status": "completed"
    },
    "tags": []
   },
   "outputs": [
    {
     "data": {
      "text/html": [
       "<div>\n",
       "<style scoped>\n",
       "    .dataframe tbody tr th:only-of-type {\n",
       "        vertical-align: middle;\n",
       "    }\n",
       "\n",
       "    .dataframe tbody tr th {\n",
       "        vertical-align: top;\n",
       "    }\n",
       "\n",
       "    .dataframe thead th {\n",
       "        text-align: right;\n",
       "    }\n",
       "</style>\n",
       "<table border=\"1\" class=\"dataframe\">\n",
       "  <thead>\n",
       "    <tr style=\"text-align: right;\">\n",
       "      <th></th>\n",
       "      <th>Score</th>\n",
       "      <th>Summary</th>\n",
       "      <th>Text</th>\n",
       "      <th>CombinedText</th>\n",
       "      <th>Sentiment</th>\n",
       "    </tr>\n",
       "  </thead>\n",
       "  <tbody>\n",
       "    <tr>\n",
       "      <th>150179</th>\n",
       "      <td>5</td>\n",
       "      <td>DELICIOUS IS RIGHT!!!</td>\n",
       "      <td>This makes a WONDERFUL gift!! (Especially for yourself!) ;) Very yummy and vegan!! Yippeee!! I can't wait to order more.</td>\n",
       "      <td>DELICIOUS IS RIGHT!!! This makes a WONDERFUL gift!! (Especially for yourself!) ;) Very yummy and vegan!! Yippeee!! I can't wait to order more.</td>\n",
       "      <td>1</td>\n",
       "    </tr>\n",
       "    <tr>\n",
       "      <th>541140</th>\n",
       "      <td>5</td>\n",
       "      <td>Madhave Agave Nectar</td>\n",
       "      <td>This is a great product at a great price.  The light, amber colored nectar reminds me of butterscotch and the darker variety is more like maple syrup.  Both blend easily in liquids and taste great on cream of rice cereal.  It's low on the glycemic  index and doesn't require much.</td>\n",
       "      <td>Madhave Agave Nectar This is a great product at a great price.  The light, amber colored nectar reminds me of butterscotch and the darker variety is more like maple syrup.  Both blend easily in liquids and taste great on cream of rice cereal.  It's low on the glycemic  index and doesn't require much.</td>\n",
       "      <td>1</td>\n",
       "    </tr>\n",
       "    <tr>\n",
       "      <th>480335</th>\n",
       "      <td>5</td>\n",
       "      <td>Gluten free and yummy</td>\n",
       "      <td>This is our G-F go-to \"flour\" for baking.  We use it for muffins, for pancakes and waffles, for pie crust, cookies and more.  It makes gluten-free baking easy and delicious and our wheat loving family and friends don't know/care that they're eating G-F.  This works just fine when substituted in our old favorite \"wheat flour\" recipes.  It's a little pricey but has become our favorite brand, worth the cost because it doesn't disappoint.  Buying by Amazon subscription is a bargain.</td>\n",
       "      <td>Gluten free and yummy This is our G-F go-to \"flour\" for baking.  We use it for muffins, for pancakes and waffles, for pie crust, cookies and more.  It makes gluten-free baking easy and delicious and our wheat loving family and friends don't know/care that they're eating G-F.  This works just fine when substituted in our old favorite \"wheat flour\" recipes.  It's a little pricey but has become our favorite brand, worth the cost because it doesn't disappoint.  Buying by Amazon subscription is a bargain.</td>\n",
       "      <td>1</td>\n",
       "    </tr>\n",
       "    <tr>\n",
       "      <th>363020</th>\n",
       "      <td>2</td>\n",
       "      <td>Like chewing on tinfoil.</td>\n",
       "      <td>Tastes like generic spearmint without as much as a hint of white tea, or anything else for that matter.  The first time I had a piece, I clamped down with my molars and thought I had accidentally taken in some of the foil from the blister pack.  Nope.  I've since had six more pieces, pretty much just to freshen my breath and then I throw it out.  The sensation of biting on something metallic has occurred repeatedly with this gum and no other.  Even if it didn't do that, the taste is nothing special and I definitely would not buy this product again.</td>\n",
       "      <td>Like chewing on tinfoil. Tastes like generic spearmint without as much as a hint of white tea, or anything else for that matter.  The first time I had a piece, I clamped down with my molars and thought I had accidentally taken in some of the foil from the blister pack.  Nope.  I've since had six more pieces, pretty much just to freshen my breath and then I throw it out.  The sensation of biting on something metallic has occurred repeatedly with this gum and no other.  Even if it didn't do that, the taste is nothing special and I definitely would not buy this product again.</td>\n",
       "      <td>0</td>\n",
       "    </tr>\n",
       "    <tr>\n",
       "      <th>555897</th>\n",
       "      <td>5</td>\n",
       "      <td>Excellent Tea</td>\n",
       "      <td>I really enjoyed this rich and flavorful tea.  It's so hard to get a tea with this kind of blend in the United States. Lipton and Tetly seem so bland in comparison. Highly recommended.</td>\n",
       "      <td>Excellent Tea I really enjoyed this rich and flavorful tea.  It's so hard to get a tea with this kind of blend in the United States. Lipton and Tetly seem so bland in comparison. Highly recommended.</td>\n",
       "      <td>1</td>\n",
       "    </tr>\n",
       "  </tbody>\n",
       "</table>\n",
       "</div>"
      ],
      "text/plain": [
       "        Score                   Summary  \\\n",
       "150179      5     DELICIOUS IS RIGHT!!!   \n",
       "541140      5      Madhave Agave Nectar   \n",
       "480335      5     Gluten free and yummy   \n",
       "363020      2  Like chewing on tinfoil.   \n",
       "555897      5             Excellent Tea   \n",
       "\n",
       "                                                                                                                                                                                                                                                                                                                                                                                                                                                                                                                                                                              Text  \\\n",
       "150179                                                                                                                                                                                                                                                                                                                                                                                                                                                    This makes a WONDERFUL gift!! (Especially for yourself!) ;) Very yummy and vegan!! Yippeee!! I can't wait to order more.   \n",
       "541140                                                                                                                                                                                                                                                                                    This is a great product at a great price.  The light, amber colored nectar reminds me of butterscotch and the darker variety is more like maple syrup.  Both blend easily in liquids and taste great on cream of rice cereal.  It's low on the glycemic  index and doesn't require much.   \n",
       "480335                                                                         This is our G-F go-to \"flour\" for baking.  We use it for muffins, for pancakes and waffles, for pie crust, cookies and more.  It makes gluten-free baking easy and delicious and our wheat loving family and friends don't know/care that they're eating G-F.  This works just fine when substituted in our old favorite \"wheat flour\" recipes.  It's a little pricey but has become our favorite brand, worth the cost because it doesn't disappoint.  Buying by Amazon subscription is a bargain.   \n",
       "363020  Tastes like generic spearmint without as much as a hint of white tea, or anything else for that matter.  The first time I had a piece, I clamped down with my molars and thought I had accidentally taken in some of the foil from the blister pack.  Nope.  I've since had six more pieces, pretty much just to freshen my breath and then I throw it out.  The sensation of biting on something metallic has occurred repeatedly with this gum and no other.  Even if it didn't do that, the taste is nothing special and I definitely would not buy this product again.   \n",
       "555897                                                                                                                                                                                                                                                                                                                                                                                    I really enjoyed this rich and flavorful tea.  It's so hard to get a tea with this kind of blend in the United States. Lipton and Tetly seem so bland in comparison. Highly recommended.   \n",
       "\n",
       "                                                                                                                                                                                                                                                                                                                                                                                                                                                                                                                                                                                               CombinedText  \\\n",
       "150179                                                                                                                                                                                                                                                                                                                                                                                                                                                       DELICIOUS IS RIGHT!!! This makes a WONDERFUL gift!! (Especially for yourself!) ;) Very yummy and vegan!! Yippeee!! I can't wait to order more.   \n",
       "541140                                                                                                                                                                                                                                                                                        Madhave Agave Nectar This is a great product at a great price.  The light, amber colored nectar reminds me of butterscotch and the darker variety is more like maple syrup.  Both blend easily in liquids and taste great on cream of rice cereal.  It's low on the glycemic  index and doesn't require much.   \n",
       "480335                                                                            Gluten free and yummy This is our G-F go-to \"flour\" for baking.  We use it for muffins, for pancakes and waffles, for pie crust, cookies and more.  It makes gluten-free baking easy and delicious and our wheat loving family and friends don't know/care that they're eating G-F.  This works just fine when substituted in our old favorite \"wheat flour\" recipes.  It's a little pricey but has become our favorite brand, worth the cost because it doesn't disappoint.  Buying by Amazon subscription is a bargain.   \n",
       "363020  Like chewing on tinfoil. Tastes like generic spearmint without as much as a hint of white tea, or anything else for that matter.  The first time I had a piece, I clamped down with my molars and thought I had accidentally taken in some of the foil from the blister pack.  Nope.  I've since had six more pieces, pretty much just to freshen my breath and then I throw it out.  The sensation of biting on something metallic has occurred repeatedly with this gum and no other.  Even if it didn't do that, the taste is nothing special and I definitely would not buy this product again.   \n",
       "555897                                                                                                                                                                                                                                                                                                                                                                                               Excellent Tea I really enjoyed this rich and flavorful tea.  It's so hard to get a tea with this kind of blend in the United States. Lipton and Tetly seem so bland in comparison. Highly recommended.   \n",
       "\n",
       "        Sentiment  \n",
       "150179          1  \n",
       "541140          1  \n",
       "480335          1  \n",
       "363020          0  \n",
       "555897          1  "
      ]
     },
     "execution_count": 35,
     "metadata": {},
     "output_type": "execute_result"
    }
   ],
   "source": [
    "\n",
    "lmtpData2['Sentiment']=lmtpData2['Score'].apply(lblScore)\n",
    "lmtpData2.head(5)"
   ]
  },
  {
   "cell_type": "code",
   "execution_count": 36,
   "id": "91e10828",
   "metadata": {
    "execution": {
     "iopub.execute_input": "2025-03-09T13:23:20.169062Z",
     "iopub.status.busy": "2025-03-09T13:23:20.168713Z",
     "iopub.status.idle": "2025-03-09T13:23:20.337402Z",
     "shell.execute_reply": "2025-03-09T13:23:20.335577Z"
    },
    "papermill": {
     "duration": 0.204562,
     "end_time": "2025-03-09T13:23:20.340526",
     "exception": false,
     "start_time": "2025-03-09T13:23:20.135964",
     "status": "completed"
    },
    "tags": []
   },
   "outputs": [],
   "source": [
    "tokenizer.fit_on_texts(lmtpData2['CombinedText'])\n",
    "sequences=tokenizer.texts_to_sequences(lmtpData2['CombinedText'])\n",
    "\n",
    "maxLen=100\n",
    "paddedData=pad_sequences(sequences,maxlen=maxLen,padding='post')\n",
    "embedding_dim=100\n",
    "vocabSize=len(tokenizer.word_index) + 1\n",
    "\n",
    "embeddingMatrix2=np.zeros((vocabSize,embedding_dim))\n",
    "\n",
    "for word,i in tokenizer.word_index.items():\n",
    "    embeddingVector2=gloveEmbeddings.get(word)\n",
    "    if embeddingVector2 is not None:\n",
    "        embeddingMatrix2[i]=embeddingVector2"
   ]
  },
  {
   "cell_type": "markdown",
   "id": "9c169582",
   "metadata": {
    "papermill": {
     "duration": 0.031417,
     "end_time": "2025-03-09T13:23:20.404669",
     "exception": false,
     "start_time": "2025-03-09T13:23:20.373252",
     "status": "completed"
    },
    "tags": []
   },
   "source": [
    "### BALANCING THE CLASSES"
   ]
  },
  {
   "cell_type": "code",
   "execution_count": 37,
   "id": "8ca9d442",
   "metadata": {
    "execution": {
     "iopub.execute_input": "2025-03-09T13:23:20.472172Z",
     "iopub.status.busy": "2025-03-09T13:23:20.471795Z",
     "iopub.status.idle": "2025-03-09T13:23:22.893482Z",
     "shell.execute_reply": "2025-03-09T13:23:22.892306Z"
    },
    "papermill": {
     "duration": 2.457571,
     "end_time": "2025-03-09T13:23:22.895518",
     "exception": false,
     "start_time": "2025-03-09T13:23:20.437947",
     "status": "completed"
    },
    "tags": []
   },
   "outputs": [],
   "source": [
    "from imblearn.over_sampling import SMOTE\n",
    "\n",
    "\n",
    "y2 = lmtpData2['Sentiment'].values\n",
    "\n",
    "\n",
    "smote = SMOTE(random_state=42)\n",
    "X_resampled, Y_resampled = smote.fit_resample(paddedData, y2)\n"
   ]
  },
  {
   "cell_type": "markdown",
   "id": "c10bc723",
   "metadata": {
    "papermill": {
     "duration": 0.034313,
     "end_time": "2025-03-09T13:23:22.964147",
     "exception": false,
     "start_time": "2025-03-09T13:23:22.929834",
     "status": "completed"
    },
    "tags": []
   },
   "source": []
  },
  {
   "cell_type": "code",
   "execution_count": 38,
   "id": "77fc80e4",
   "metadata": {
    "execution": {
     "iopub.execute_input": "2025-03-09T13:23:23.028259Z",
     "iopub.status.busy": "2025-03-09T13:23:23.027522Z",
     "iopub.status.idle": "2025-03-09T13:23:23.144493Z",
     "shell.execute_reply": "2025-03-09T13:23:23.143239Z"
    },
    "papermill": {
     "duration": 0.151233,
     "end_time": "2025-03-09T13:23:23.146655",
     "exception": false,
     "start_time": "2025-03-09T13:23:22.995422",
     "status": "completed"
    },
    "tags": []
   },
   "outputs": [
    {
     "data": {
      "text/html": [
       "<pre style=\"white-space:pre;overflow-x:auto;line-height:normal;font-family:Menlo,'DejaVu Sans Mono',consolas,'Courier New',monospace\"><span style=\"font-weight: bold\">Model: \"sequential_1\"</span>\n",
       "</pre>\n"
      ],
      "text/plain": [
       "\u001b[1mModel: \"sequential_1\"\u001b[0m\n"
      ]
     },
     "metadata": {},
     "output_type": "display_data"
    },
    {
     "data": {
      "text/html": [
       "<pre style=\"white-space:pre;overflow-x:auto;line-height:normal;font-family:Menlo,'DejaVu Sans Mono',consolas,'Courier New',monospace\">┏━━━━━━━━━━━━━━━━━━━━━━━━━━━━━━━━━━━━━━┳━━━━━━━━━━━━━━━━━━━━━━━━━━━━━┳━━━━━━━━━━━━━━━━━┓\n",
       "┃<span style=\"font-weight: bold\"> Layer (type)                         </span>┃<span style=\"font-weight: bold\"> Output Shape                </span>┃<span style=\"font-weight: bold\">         Param # </span>┃\n",
       "┡━━━━━━━━━━━━━━━━━━━━━━━━━━━━━━━━━━━━━━╇━━━━━━━━━━━━━━━━━━━━━━━━━━━━━╇━━━━━━━━━━━━━━━━━┩\n",
       "│ embedding_1 (<span style=\"color: #0087ff; text-decoration-color: #0087ff\">Embedding</span>)              │ (<span style=\"color: #00d7ff; text-decoration-color: #00d7ff\">None</span>, <span style=\"color: #00af00; text-decoration-color: #00af00\">100</span>, <span style=\"color: #00af00; text-decoration-color: #00af00\">100</span>)            │       <span style=\"color: #00af00; text-decoration-color: #00af00\">1,005,600</span> │\n",
       "├──────────────────────────────────────┼─────────────────────────────┼─────────────────┤\n",
       "│ lstm_2 (<span style=\"color: #0087ff; text-decoration-color: #0087ff\">LSTM</span>)                        │ (<span style=\"color: #00d7ff; text-decoration-color: #00d7ff\">None</span>, <span style=\"color: #00af00; text-decoration-color: #00af00\">100</span>, <span style=\"color: #00af00; text-decoration-color: #00af00\">128</span>)            │         <span style=\"color: #00af00; text-decoration-color: #00af00\">117,248</span> │\n",
       "├──────────────────────────────────────┼─────────────────────────────┼─────────────────┤\n",
       "│ lstm_3 (<span style=\"color: #0087ff; text-decoration-color: #0087ff\">LSTM</span>)                        │ (<span style=\"color: #00d7ff; text-decoration-color: #00d7ff\">None</span>, <span style=\"color: #00af00; text-decoration-color: #00af00\">64</span>)                  │          <span style=\"color: #00af00; text-decoration-color: #00af00\">49,408</span> │\n",
       "├──────────────────────────────────────┼─────────────────────────────┼─────────────────┤\n",
       "│ dropout_1 (<span style=\"color: #0087ff; text-decoration-color: #0087ff\">Dropout</span>)                  │ (<span style=\"color: #00d7ff; text-decoration-color: #00d7ff\">None</span>, <span style=\"color: #00af00; text-decoration-color: #00af00\">64</span>)                  │               <span style=\"color: #00af00; text-decoration-color: #00af00\">0</span> │\n",
       "├──────────────────────────────────────┼─────────────────────────────┼─────────────────┤\n",
       "│ dense_1 (<span style=\"color: #0087ff; text-decoration-color: #0087ff\">Dense</span>)                      │ (<span style=\"color: #00d7ff; text-decoration-color: #00d7ff\">None</span>, <span style=\"color: #00af00; text-decoration-color: #00af00\">3</span>)                   │             <span style=\"color: #00af00; text-decoration-color: #00af00\">195</span> │\n",
       "└──────────────────────────────────────┴─────────────────────────────┴─────────────────┘\n",
       "</pre>\n"
      ],
      "text/plain": [
       "┏━━━━━━━━━━━━━━━━━━━━━━━━━━━━━━━━━━━━━━┳━━━━━━━━━━━━━━━━━━━━━━━━━━━━━┳━━━━━━━━━━━━━━━━━┓\n",
       "┃\u001b[1m \u001b[0m\u001b[1mLayer (type)                        \u001b[0m\u001b[1m \u001b[0m┃\u001b[1m \u001b[0m\u001b[1mOutput Shape               \u001b[0m\u001b[1m \u001b[0m┃\u001b[1m \u001b[0m\u001b[1m        Param #\u001b[0m\u001b[1m \u001b[0m┃\n",
       "┡━━━━━━━━━━━━━━━━━━━━━━━━━━━━━━━━━━━━━━╇━━━━━━━━━━━━━━━━━━━━━━━━━━━━━╇━━━━━━━━━━━━━━━━━┩\n",
       "│ embedding_1 (\u001b[38;5;33mEmbedding\u001b[0m)              │ (\u001b[38;5;45mNone\u001b[0m, \u001b[38;5;34m100\u001b[0m, \u001b[38;5;34m100\u001b[0m)            │       \u001b[38;5;34m1,005,600\u001b[0m │\n",
       "├──────────────────────────────────────┼─────────────────────────────┼─────────────────┤\n",
       "│ lstm_2 (\u001b[38;5;33mLSTM\u001b[0m)                        │ (\u001b[38;5;45mNone\u001b[0m, \u001b[38;5;34m100\u001b[0m, \u001b[38;5;34m128\u001b[0m)            │         \u001b[38;5;34m117,248\u001b[0m │\n",
       "├──────────────────────────────────────┼─────────────────────────────┼─────────────────┤\n",
       "│ lstm_3 (\u001b[38;5;33mLSTM\u001b[0m)                        │ (\u001b[38;5;45mNone\u001b[0m, \u001b[38;5;34m64\u001b[0m)                  │          \u001b[38;5;34m49,408\u001b[0m │\n",
       "├──────────────────────────────────────┼─────────────────────────────┼─────────────────┤\n",
       "│ dropout_1 (\u001b[38;5;33mDropout\u001b[0m)                  │ (\u001b[38;5;45mNone\u001b[0m, \u001b[38;5;34m64\u001b[0m)                  │               \u001b[38;5;34m0\u001b[0m │\n",
       "├──────────────────────────────────────┼─────────────────────────────┼─────────────────┤\n",
       "│ dense_1 (\u001b[38;5;33mDense\u001b[0m)                      │ (\u001b[38;5;45mNone\u001b[0m, \u001b[38;5;34m3\u001b[0m)                   │             \u001b[38;5;34m195\u001b[0m │\n",
       "└──────────────────────────────────────┴─────────────────────────────┴─────────────────┘\n"
      ]
     },
     "metadata": {},
     "output_type": "display_data"
    },
    {
     "data": {
      "text/html": [
       "<pre style=\"white-space:pre;overflow-x:auto;line-height:normal;font-family:Menlo,'DejaVu Sans Mono',consolas,'Courier New',monospace\"><span style=\"font-weight: bold\"> Total params: </span><span style=\"color: #00af00; text-decoration-color: #00af00\">1,172,451</span> (4.47 MB)\n",
       "</pre>\n"
      ],
      "text/plain": [
       "\u001b[1m Total params: \u001b[0m\u001b[38;5;34m1,172,451\u001b[0m (4.47 MB)\n"
      ]
     },
     "metadata": {},
     "output_type": "display_data"
    },
    {
     "data": {
      "text/html": [
       "<pre style=\"white-space:pre;overflow-x:auto;line-height:normal;font-family:Menlo,'DejaVu Sans Mono',consolas,'Courier New',monospace\"><span style=\"font-weight: bold\"> Trainable params: </span><span style=\"color: #00af00; text-decoration-color: #00af00\">166,851</span> (651.76 KB)\n",
       "</pre>\n"
      ],
      "text/plain": [
       "\u001b[1m Trainable params: \u001b[0m\u001b[38;5;34m166,851\u001b[0m (651.76 KB)\n"
      ]
     },
     "metadata": {},
     "output_type": "display_data"
    },
    {
     "data": {
      "text/html": [
       "<pre style=\"white-space:pre;overflow-x:auto;line-height:normal;font-family:Menlo,'DejaVu Sans Mono',consolas,'Courier New',monospace\"><span style=\"font-weight: bold\"> Non-trainable params: </span><span style=\"color: #00af00; text-decoration-color: #00af00\">1,005,600</span> (3.84 MB)\n",
       "</pre>\n"
      ],
      "text/plain": [
       "\u001b[1m Non-trainable params: \u001b[0m\u001b[38;5;34m1,005,600\u001b[0m (3.84 MB)\n"
      ]
     },
     "metadata": {},
     "output_type": "display_data"
    }
   ],
   "source": [
    "maxLen=100\n",
    "model = Sequential([\n",
    "    Input(shape=(maxLen,)),\n",
    "    Embedding(input_dim=vocabSize,  \n",
    "              output_dim=embedding_dim, \n",
    "              weights=embeddingMatrix2, \n",
    "             \n",
    "              trainable=False), \n",
    "    LSTM(128, return_sequences=True),\n",
    "    LSTM(64),\n",
    "    Dropout(0.6),\n",
    "    Dense(3, activation='softmax') \n",
    "])\n",
    "\n",
    "\n",
    "model.compile(loss='sparse_categorical_crossentropy', optimizer='adam', metrics=['accuracy'])\n",
    "\n",
    "model.summary()\n"
   ]
  },
  {
   "cell_type": "code",
   "execution_count": 39,
   "id": "a743e6c5",
   "metadata": {
    "execution": {
     "iopub.execute_input": "2025-03-09T13:23:23.212261Z",
     "iopub.status.busy": "2025-03-09T13:23:23.211880Z",
     "iopub.status.idle": "2025-03-09T13:24:18.941574Z",
     "shell.execute_reply": "2025-03-09T13:24:18.940141Z"
    },
    "papermill": {
     "duration": 55.764775,
     "end_time": "2025-03-09T13:24:18.943730",
     "exception": false,
     "start_time": "2025-03-09T13:23:23.178955",
     "status": "completed"
    },
    "tags": []
   },
   "outputs": [
    {
     "name": "stdout",
     "output_type": "stream",
     "text": [
      "Epoch 1/6\n",
      "\u001b[1m52/52\u001b[0m \u001b[32m━━━━━━━━━━━━━━━━━━━━\u001b[0m\u001b[37m\u001b[0m \u001b[1m12s\u001b[0m 171ms/step - accuracy: 0.5290 - loss: 0.9572 - val_accuracy: 0.0000e+00 - val_loss: 2.8275\n",
      "Epoch 2/6\n",
      "\u001b[1m52/52\u001b[0m \u001b[32m━━━━━━━━━━━━━━━━━━━━\u001b[0m\u001b[37m\u001b[0m \u001b[1m9s\u001b[0m 164ms/step - accuracy: 0.5480 - loss: 0.8738 - val_accuracy: 0.0000e+00 - val_loss: 3.1948\n",
      "Epoch 3/6\n",
      "\u001b[1m52/52\u001b[0m \u001b[32m━━━━━━━━━━━━━━━━━━━━\u001b[0m\u001b[37m\u001b[0m \u001b[1m9s\u001b[0m 170ms/step - accuracy: 0.5280 - loss: 0.8536 - val_accuracy: 0.0000e+00 - val_loss: 2.9046\n",
      "Epoch 4/6\n",
      "\u001b[1m52/52\u001b[0m \u001b[32m━━━━━━━━━━━━━━━━━━━━\u001b[0m\u001b[37m\u001b[0m \u001b[1m9s\u001b[0m 166ms/step - accuracy: 0.5443 - loss: 0.8450 - val_accuracy: 0.0000e+00 - val_loss: 2.8248\n",
      "Epoch 5/6\n",
      "\u001b[1m52/52\u001b[0m \u001b[32m━━━━━━━━━━━━━━━━━━━━\u001b[0m\u001b[37m\u001b[0m \u001b[1m9s\u001b[0m 170ms/step - accuracy: 0.5640 - loss: 0.8365 - val_accuracy: 0.0000e+00 - val_loss: 3.1234\n",
      "Epoch 6/6\n",
      "\u001b[1m52/52\u001b[0m \u001b[32m━━━━━━━━━━━━━━━━━━━━\u001b[0m\u001b[37m\u001b[0m \u001b[1m9s\u001b[0m 167ms/step - accuracy: 0.5963 - loss: 0.8205 - val_accuracy: 0.0000e+00 - val_loss: 3.0760\n"
     ]
    },
    {
     "data": {
      "text/plain": [
       "<keras.src.callbacks.history.History at 0x7dc211491210>"
      ]
     },
     "execution_count": 39,
     "metadata": {},
     "output_type": "execute_result"
    }
   ],
   "source": [
    "model.fit(X_resampled, Y_resampled, epochs=6, batch_size=32, validation_split=0.3)"
   ]
  },
  {
   "cell_type": "code",
   "execution_count": 40,
   "id": "87fab92d",
   "metadata": {
    "execution": {
     "iopub.execute_input": "2025-03-09T13:24:19.054670Z",
     "iopub.status.busy": "2025-03-09T13:24:19.054285Z",
     "iopub.status.idle": "2025-03-09T13:26:20.964672Z",
     "shell.execute_reply": "2025-03-09T13:26:20.962969Z"
    },
    "papermill": {
     "duration": 122.059856,
     "end_time": "2025-03-09T13:26:21.056174",
     "exception": false,
     "start_time": "2025-03-09T13:24:18.996318",
     "status": "completed"
    },
    "tags": []
   },
   "outputs": [
    {
     "name": "stdout",
     "output_type": "stream",
     "text": [
      "Epoch 1/15\n",
      "\u001b[1m44/44\u001b[0m \u001b[32m━━━━━━━━━━━━━━━━━━━━\u001b[0m\u001b[37m\u001b[0m \u001b[1m9s\u001b[0m 198ms/step - accuracy: 0.5867 - loss: 0.8405 - val_accuracy: 0.1090 - val_loss: 2.3032\n",
      "Epoch 2/15\n",
      "\u001b[1m44/44\u001b[0m \u001b[32m━━━━━━━━━━━━━━━━━━━━\u001b[0m\u001b[37m\u001b[0m \u001b[1m8s\u001b[0m 178ms/step - accuracy: 0.6219 - loss: 0.8150 - val_accuracy: 0.1132 - val_loss: 2.6924\n",
      "Epoch 3/15\n",
      "\u001b[1m44/44\u001b[0m \u001b[32m━━━━━━━━━━━━━━━━━━━━\u001b[0m\u001b[37m\u001b[0m \u001b[1m8s\u001b[0m 183ms/step - accuracy: 0.6405 - loss: 0.7969 - val_accuracy: 0.1506 - val_loss: 2.6002\n",
      "Epoch 4/15\n",
      "\u001b[1m44/44\u001b[0m \u001b[32m━━━━━━━━━━━━━━━━━━━━\u001b[0m\u001b[37m\u001b[0m \u001b[1m8s\u001b[0m 186ms/step - accuracy: 0.6902 - loss: 0.7381 - val_accuracy: 0.1848 - val_loss: 2.6820\n",
      "Epoch 5/15\n",
      "\u001b[1m44/44\u001b[0m \u001b[32m━━━━━━━━━━━━━━━━━━━━\u001b[0m\u001b[37m\u001b[0m \u001b[1m8s\u001b[0m 192ms/step - accuracy: 0.6794 - loss: 0.7300 - val_accuracy: 0.1795 - val_loss: 2.4873\n",
      "Epoch 6/15\n",
      "\u001b[1m44/44\u001b[0m \u001b[32m━━━━━━━━━━━━━━━━━━━━\u001b[0m\u001b[37m\u001b[0m \u001b[1m8s\u001b[0m 188ms/step - accuracy: 0.7495 - loss: 0.6558 - val_accuracy: 0.1934 - val_loss: 2.8129\n",
      "Epoch 7/15\n",
      "\u001b[1m44/44\u001b[0m \u001b[32m━━━━━━━━━━━━━━━━━━━━\u001b[0m\u001b[37m\u001b[0m \u001b[1m8s\u001b[0m 181ms/step - accuracy: 0.7826 - loss: 0.5927 - val_accuracy: 0.2276 - val_loss: 3.2740\n",
      "Epoch 8/15\n",
      "\u001b[1m44/44\u001b[0m \u001b[32m━━━━━━━━━━━━━━━━━━━━\u001b[0m\u001b[37m\u001b[0m \u001b[1m8s\u001b[0m 183ms/step - accuracy: 0.8161 - loss: 0.5302 - val_accuracy: 0.2254 - val_loss: 3.4763\n",
      "Epoch 9/15\n",
      "\u001b[1m44/44\u001b[0m \u001b[32m━━━━━━━━━━━━━━━━━━━━\u001b[0m\u001b[37m\u001b[0m \u001b[1m8s\u001b[0m 186ms/step - accuracy: 0.8303 - loss: 0.4862 - val_accuracy: 0.2265 - val_loss: 3.6755\n",
      "Epoch 10/15\n",
      "\u001b[1m44/44\u001b[0m \u001b[32m━━━━━━━━━━━━━━━━━━━━\u001b[0m\u001b[37m\u001b[0m \u001b[1m8s\u001b[0m 180ms/step - accuracy: 0.8747 - loss: 0.4140 - val_accuracy: 0.2201 - val_loss: 3.5780\n",
      "Epoch 11/15\n",
      "\u001b[1m44/44\u001b[0m \u001b[32m━━━━━━━━━━━━━━━━━━━━\u001b[0m\u001b[37m\u001b[0m \u001b[1m8s\u001b[0m 180ms/step - accuracy: 0.8802 - loss: 0.3696 - val_accuracy: 0.2190 - val_loss: 3.6485\n",
      "Epoch 12/15\n",
      "\u001b[1m44/44\u001b[0m \u001b[32m━━━━━━━━━━━━━━━━━━━━\u001b[0m\u001b[37m\u001b[0m \u001b[1m8s\u001b[0m 183ms/step - accuracy: 0.8971 - loss: 0.3568 - val_accuracy: 0.2083 - val_loss: 3.8556\n",
      "Epoch 13/15\n",
      "\u001b[1m44/44\u001b[0m \u001b[32m━━━━━━━━━━━━━━━━━━━━\u001b[0m\u001b[37m\u001b[0m \u001b[1m8s\u001b[0m 189ms/step - accuracy: 0.9233 - loss: 0.2761 - val_accuracy: 0.2126 - val_loss: 3.8448\n",
      "Epoch 14/15\n",
      "\u001b[1m44/44\u001b[0m \u001b[32m━━━━━━━━━━━━━━━━━━━━\u001b[0m\u001b[37m\u001b[0m \u001b[1m8s\u001b[0m 184ms/step - accuracy: 0.9271 - loss: 0.2739 - val_accuracy: 0.2190 - val_loss: 3.9424\n",
      "Epoch 15/15\n",
      "\u001b[1m44/44\u001b[0m \u001b[32m━━━━━━━━━━━━━━━━━━━━\u001b[0m\u001b[37m\u001b[0m \u001b[1m8s\u001b[0m 185ms/step - accuracy: 0.9165 - loss: 0.2957 - val_accuracy: 0.2158 - val_loss: 4.1054\n"
     ]
    },
    {
     "data": {
      "text/plain": [
       "<keras.src.callbacks.history.History at 0x7dc1cb349750>"
      ]
     },
     "execution_count": 40,
     "metadata": {},
     "output_type": "execute_result"
    }
   ],
   "source": [
    "model.fit(X_resampled, Y_resampled, epochs=15, batch_size=32, validation_split=0.4)"
   ]
  },
  {
   "cell_type": "code",
   "execution_count": 41,
   "id": "6d5fe6a5",
   "metadata": {
    "execution": {
     "iopub.execute_input": "2025-03-09T13:26:21.245181Z",
     "iopub.status.busy": "2025-03-09T13:26:21.244347Z",
     "iopub.status.idle": "2025-03-09T13:29:32.193828Z",
     "shell.execute_reply": "2025-03-09T13:29:32.192735Z"
    },
    "papermill": {
     "duration": 191.044178,
     "end_time": "2025-03-09T13:29:32.195503",
     "exception": false,
     "start_time": "2025-03-09T13:26:21.151325",
     "status": "completed"
    },
    "tags": []
   },
   "outputs": [
    {
     "name": "stdout",
     "output_type": "stream",
     "text": [
      "Epoch 1/20\n",
      "\u001b[1m59/59\u001b[0m \u001b[32m━━━━━━━━━━━━━━━━━━━━\u001b[0m\u001b[37m\u001b[0m \u001b[1m10s\u001b[0m 163ms/step - accuracy: 0.7745 - loss: 0.6943 - val_accuracy: 0.0043 - val_loss: 1.3440\n",
      "Epoch 2/20\n",
      "\u001b[1m59/59\u001b[0m \u001b[32m━━━━━━━━━━━━━━━━━━━━\u001b[0m\u001b[37m\u001b[0m \u001b[1m10s\u001b[0m 164ms/step - accuracy: 0.7989 - loss: 0.5323 - val_accuracy: 0.0000e+00 - val_loss: 1.5971\n",
      "Epoch 3/20\n",
      "\u001b[1m59/59\u001b[0m \u001b[32m━━━━━━━━━━━━━━━━━━━━\u001b[0m\u001b[37m\u001b[0m \u001b[1m9s\u001b[0m 157ms/step - accuracy: 0.8008 - loss: 0.5193 - val_accuracy: 0.0021 - val_loss: 1.5640\n",
      "Epoch 4/20\n",
      "\u001b[1m59/59\u001b[0m \u001b[32m━━━━━━━━━━━━━━━━━━━━\u001b[0m\u001b[37m\u001b[0m \u001b[1m10s\u001b[0m 164ms/step - accuracy: 0.7914 - loss: 0.5207 - val_accuracy: 0.0000e+00 - val_loss: 1.3656\n",
      "Epoch 5/20\n",
      "\u001b[1m59/59\u001b[0m \u001b[32m━━━━━━━━━━━━━━━━━━━━\u001b[0m\u001b[37m\u001b[0m \u001b[1m10s\u001b[0m 168ms/step - accuracy: 0.7867 - loss: 0.5628 - val_accuracy: 0.0214 - val_loss: 1.2426\n",
      "Epoch 6/20\n",
      "\u001b[1m59/59\u001b[0m \u001b[32m━━━━━━━━━━━━━━━━━━━━\u001b[0m\u001b[37m\u001b[0m \u001b[1m10s\u001b[0m 166ms/step - accuracy: 0.8306 - loss: 0.4509 - val_accuracy: 0.0021 - val_loss: 1.4926\n",
      "Epoch 7/20\n",
      "\u001b[1m59/59\u001b[0m \u001b[32m━━━━━━━━━━━━━━━━━━━━\u001b[0m\u001b[37m\u001b[0m \u001b[1m10s\u001b[0m 166ms/step - accuracy: 0.8466 - loss: 0.3966 - val_accuracy: 0.0021 - val_loss: 1.6647\n",
      "Epoch 8/20\n",
      "\u001b[1m59/59\u001b[0m \u001b[32m━━━━━━━━━━━━━━━━━━━━\u001b[0m\u001b[37m\u001b[0m \u001b[1m9s\u001b[0m 159ms/step - accuracy: 0.8250 - loss: 0.4525 - val_accuracy: 0.0064 - val_loss: 1.4754\n",
      "Epoch 9/20\n",
      "\u001b[1m59/59\u001b[0m \u001b[32m━━━━━━━━━━━━━━━━━━━━\u001b[0m\u001b[37m\u001b[0m \u001b[1m10s\u001b[0m 163ms/step - accuracy: 0.8191 - loss: 0.4379 - val_accuracy: 0.0214 - val_loss: 1.6461\n",
      "Epoch 10/20\n",
      "\u001b[1m59/59\u001b[0m \u001b[32m━━━━━━━━━━━━━━━━━━━━\u001b[0m\u001b[37m\u001b[0m \u001b[1m10s\u001b[0m 164ms/step - accuracy: 0.8552 - loss: 0.3414 - val_accuracy: 0.0406 - val_loss: 1.4523\n",
      "Epoch 11/20\n",
      "\u001b[1m59/59\u001b[0m \u001b[32m━━━━━━━━━━━━━━━━━━━━\u001b[0m\u001b[37m\u001b[0m \u001b[1m10s\u001b[0m 161ms/step - accuracy: 0.8306 - loss: 0.3686 - val_accuracy: 0.0684 - val_loss: 1.5206\n",
      "Epoch 12/20\n",
      "\u001b[1m59/59\u001b[0m \u001b[32m━━━━━━━━━━━━━━━━━━━━\u001b[0m\u001b[37m\u001b[0m \u001b[1m10s\u001b[0m 162ms/step - accuracy: 0.8624 - loss: 0.3350 - val_accuracy: 0.1111 - val_loss: 1.5090\n",
      "Epoch 13/20\n",
      "\u001b[1m59/59\u001b[0m \u001b[32m━━━━━━━━━━━━━━━━━━━━\u001b[0m\u001b[37m\u001b[0m \u001b[1m9s\u001b[0m 159ms/step - accuracy: 0.8774 - loss: 0.2944 - val_accuracy: 0.1004 - val_loss: 1.6012\n",
      "Epoch 14/20\n",
      "\u001b[1m59/59\u001b[0m \u001b[32m━━━━━━━━━━━━━━━━━━━━\u001b[0m\u001b[37m\u001b[0m \u001b[1m9s\u001b[0m 159ms/step - accuracy: 0.8834 - loss: 0.2693 - val_accuracy: 0.0855 - val_loss: 1.7187\n",
      "Epoch 15/20\n",
      "\u001b[1m59/59\u001b[0m \u001b[32m━━━━━━━━━━━━━━━━━━━━\u001b[0m\u001b[37m\u001b[0m \u001b[1m9s\u001b[0m 160ms/step - accuracy: 0.8819 - loss: 0.3009 - val_accuracy: 0.1346 - val_loss: 1.5323\n",
      "Epoch 16/20\n",
      "\u001b[1m59/59\u001b[0m \u001b[32m━━━━━━━━━━━━━━━━━━━━\u001b[0m\u001b[37m\u001b[0m \u001b[1m10s\u001b[0m 161ms/step - accuracy: 0.8582 - loss: 0.3238 - val_accuracy: 0.3269 - val_loss: 1.6181\n",
      "Epoch 17/20\n",
      "\u001b[1m59/59\u001b[0m \u001b[32m━━━━━━━━━━━━━━━━━━━━\u001b[0m\u001b[37m\u001b[0m \u001b[1m9s\u001b[0m 154ms/step - accuracy: 0.8828 - loss: 0.2637 - val_accuracy: 0.0812 - val_loss: 2.1192\n",
      "Epoch 18/20\n",
      "\u001b[1m59/59\u001b[0m \u001b[32m━━━━━━━━━━━━━━━━━━━━\u001b[0m\u001b[37m\u001b[0m \u001b[1m9s\u001b[0m 155ms/step - accuracy: 0.8943 - loss: 0.2445 - val_accuracy: 0.0983 - val_loss: 2.4417\n",
      "Epoch 19/20\n",
      "\u001b[1m59/59\u001b[0m \u001b[32m━━━━━━━━━━━━━━━━━━━━\u001b[0m\u001b[37m\u001b[0m \u001b[1m10s\u001b[0m 164ms/step - accuracy: 0.8852 - loss: 0.2790 - val_accuracy: 0.1795 - val_loss: 1.8625\n",
      "Epoch 20/20\n",
      "\u001b[1m59/59\u001b[0m \u001b[32m━━━━━━━━━━━━━━━━━━━━\u001b[0m\u001b[37m\u001b[0m \u001b[1m9s\u001b[0m 154ms/step - accuracy: 0.9024 - loss: 0.2288 - val_accuracy: 0.1774 - val_loss: 1.8717\n"
     ]
    },
    {
     "data": {
      "text/plain": [
       "<keras.src.callbacks.history.History at 0x7dc2114933a0>"
      ]
     },
     "execution_count": 41,
     "metadata": {},
     "output_type": "execute_result"
    }
   ],
   "source": [
    "model.fit(X_resampled, Y_resampled, epochs=20, batch_size=32, validation_split=0.2)"
   ]
  },
  {
   "cell_type": "markdown",
   "id": "840fcf22",
   "metadata": {
    "papermill": {
     "duration": 0.234102,
     "end_time": "2025-03-09T13:29:32.591479",
     "exception": false,
     "start_time": "2025-03-09T13:29:32.357377",
     "status": "completed"
    },
    "tags": []
   },
   "source": [
    "### WITHOUT SMOTE"
   ]
  },
  {
   "cell_type": "code",
   "execution_count": 42,
   "id": "e7c2011d",
   "metadata": {
    "execution": {
     "iopub.execute_input": "2025-03-09T13:29:32.911162Z",
     "iopub.status.busy": "2025-03-09T13:29:32.910797Z",
     "iopub.status.idle": "2025-03-09T13:30:32.236789Z",
     "shell.execute_reply": "2025-03-09T13:30:32.235762Z"
    },
    "papermill": {
     "duration": 59.490236,
     "end_time": "2025-03-09T13:30:32.238532",
     "exception": false,
     "start_time": "2025-03-09T13:29:32.748296",
     "status": "completed"
    },
    "tags": []
   },
   "outputs": [
    {
     "name": "stdout",
     "output_type": "stream",
     "text": [
      "Epoch 1/15\n",
      "\u001b[1m22/22\u001b[0m \u001b[32m━━━━━━━━━━━━━━━━━━━━\u001b[0m\u001b[37m\u001b[0m \u001b[1m4s\u001b[0m 172ms/step - accuracy: 0.9505 - loss: 0.1138 - val_accuracy: 0.9867 - val_loss: 0.0508\n",
      "Epoch 2/15\n",
      "\u001b[1m22/22\u001b[0m \u001b[32m━━━━━━━━━━━━━━━━━━━━\u001b[0m\u001b[37m\u001b[0m \u001b[1m4s\u001b[0m 171ms/step - accuracy: 0.9616 - loss: 0.0835 - val_accuracy: 0.9700 - val_loss: 0.0676\n",
      "Epoch 3/15\n",
      "\u001b[1m22/22\u001b[0m \u001b[32m━━━━━━━━━━━━━━━━━━━━\u001b[0m\u001b[37m\u001b[0m \u001b[1m4s\u001b[0m 168ms/step - accuracy: 0.9597 - loss: 0.0800 - val_accuracy: 0.9833 - val_loss: 0.0444\n",
      "Epoch 4/15\n",
      "\u001b[1m22/22\u001b[0m \u001b[32m━━━━━━━━━━━━━━━━━━━━\u001b[0m\u001b[37m\u001b[0m \u001b[1m5s\u001b[0m 167ms/step - accuracy: 0.9716 - loss: 0.0790 - val_accuracy: 0.9700 - val_loss: 0.0741\n",
      "Epoch 5/15\n",
      "\u001b[1m22/22\u001b[0m \u001b[32m━━━━━━━━━━━━━━━━━━━━\u001b[0m\u001b[37m\u001b[0m \u001b[1m4s\u001b[0m 183ms/step - accuracy: 0.9752 - loss: 0.0592 - val_accuracy: 0.9667 - val_loss: 0.0583\n",
      "Epoch 6/15\n",
      "\u001b[1m22/22\u001b[0m \u001b[32m━━━━━━━━━━━━━━━━━━━━\u001b[0m\u001b[37m\u001b[0m \u001b[1m4s\u001b[0m 171ms/step - accuracy: 0.9821 - loss: 0.0547 - val_accuracy: 0.9833 - val_loss: 0.0509\n",
      "Epoch 7/15\n",
      "\u001b[1m22/22\u001b[0m \u001b[32m━━━━━━━━━━━━━━━━━━━━\u001b[0m\u001b[37m\u001b[0m \u001b[1m4s\u001b[0m 175ms/step - accuracy: 0.9762 - loss: 0.0523 - val_accuracy: 0.9833 - val_loss: 0.0538\n",
      "Epoch 8/15\n",
      "\u001b[1m22/22\u001b[0m \u001b[32m━━━━━━━━━━━━━━━━━━━━\u001b[0m\u001b[37m\u001b[0m \u001b[1m4s\u001b[0m 185ms/step - accuracy: 0.9840 - loss: 0.0624 - val_accuracy: 0.9667 - val_loss: 0.0921\n",
      "Epoch 9/15\n",
      "\u001b[1m22/22\u001b[0m \u001b[32m━━━━━━━━━━━━━━━━━━━━\u001b[0m\u001b[37m\u001b[0m \u001b[1m4s\u001b[0m 189ms/step - accuracy: 0.9565 - loss: 0.1742 - val_accuracy: 0.8967 - val_loss: 0.3041\n",
      "Epoch 10/15\n",
      "\u001b[1m22/22\u001b[0m \u001b[32m━━━━━━━━━━━━━━━━━━━━\u001b[0m\u001b[37m\u001b[0m \u001b[1m4s\u001b[0m 173ms/step - accuracy: 0.9483 - loss: 0.1609 - val_accuracy: 0.9433 - val_loss: 0.1590\n",
      "Epoch 11/15\n",
      "\u001b[1m22/22\u001b[0m \u001b[32m━━━━━━━━━━━━━━━━━━━━\u001b[0m\u001b[37m\u001b[0m \u001b[1m4s\u001b[0m 171ms/step - accuracy: 0.9562 - loss: 0.1198 - val_accuracy: 0.9600 - val_loss: 0.1470\n",
      "Epoch 12/15\n",
      "\u001b[1m22/22\u001b[0m \u001b[32m━━━━━━━━━━━━━━━━━━━━\u001b[0m\u001b[37m\u001b[0m \u001b[1m4s\u001b[0m 173ms/step - accuracy: 0.9481 - loss: 0.1639 - val_accuracy: 0.8800 - val_loss: 0.5721\n",
      "Epoch 13/15\n",
      "\u001b[1m22/22\u001b[0m \u001b[32m━━━━━━━━━━━━━━━━━━━━\u001b[0m\u001b[37m\u001b[0m \u001b[1m4s\u001b[0m 185ms/step - accuracy: 0.8787 - loss: 0.4143 - val_accuracy: 0.9433 - val_loss: 0.1747\n",
      "Epoch 14/15\n",
      "\u001b[1m22/22\u001b[0m \u001b[32m━━━━━━━━━━━━━━━━━━━━\u001b[0m\u001b[37m\u001b[0m \u001b[1m4s\u001b[0m 181ms/step - accuracy: 0.9456 - loss: 0.1422 - val_accuracy: 0.9600 - val_loss: 0.1537\n",
      "Epoch 15/15\n",
      "\u001b[1m22/22\u001b[0m \u001b[32m━━━━━━━━━━━━━━━━━━━━\u001b[0m\u001b[37m\u001b[0m \u001b[1m4s\u001b[0m 166ms/step - accuracy: 0.9756 - loss: 0.0776 - val_accuracy: 0.9667 - val_loss: 0.1198\n"
     ]
    },
    {
     "data": {
      "text/plain": [
       "<keras.src.callbacks.history.History at 0x7dc211493b80>"
      ]
     },
     "execution_count": 42,
     "metadata": {},
     "output_type": "execute_result"
    }
   ],
   "source": [
    "model.fit(paddedData,y2, epochs=15, batch_size=32, validation_split=0.3)"
   ]
  },
  {
   "cell_type": "markdown",
   "id": "27a8b294",
   "metadata": {
    "papermill": {
     "duration": 0.174993,
     "end_time": "2025-03-09T13:30:32.598913",
     "exception": false,
     "start_time": "2025-03-09T13:30:32.423920",
     "status": "completed"
    },
    "tags": []
   },
   "source": [
    "#### PREDICTING DATA\n"
   ]
  },
  {
   "cell_type": "code",
   "execution_count": 43,
   "id": "4b5855f5",
   "metadata": {
    "execution": {
     "iopub.execute_input": "2025-03-09T13:30:32.962753Z",
     "iopub.status.busy": "2025-03-09T13:30:32.962137Z",
     "iopub.status.idle": "2025-03-09T13:30:35.583617Z",
     "shell.execute_reply": "2025-03-09T13:30:35.582413Z"
    },
    "papermill": {
     "duration": 2.806549,
     "end_time": "2025-03-09T13:30:35.585522",
     "exception": false,
     "start_time": "2025-03-09T13:30:32.778973",
     "status": "completed"
    },
    "tags": []
   },
   "outputs": [
    {
     "name": "stdout",
     "output_type": "stream",
     "text": [
      "\u001b[1m32/32\u001b[0m \u001b[32m━━━━━━━━━━━━━━━━━━━━\u001b[0m\u001b[37m\u001b[0m \u001b[1m3s\u001b[0m 69ms/step\n"
     ]
    }
   ],
   "source": [
    "predictedData=model.predict(paddedData)\n",
    "\n",
    "corrected_classes2 = np.argmax(predictedData, axis=1)\n",
    "mapping = {0: 1, 1: 2, 2: 0}\n",
    "predClasses= np.array([mapping[i] for i in corrected_classes2])"
   ]
  },
  {
   "cell_type": "code",
   "execution_count": 44,
   "id": "2d2ff697",
   "metadata": {
    "execution": {
     "iopub.execute_input": "2025-03-09T13:30:35.957129Z",
     "iopub.status.busy": "2025-03-09T13:30:35.956609Z",
     "iopub.status.idle": "2025-03-09T13:30:35.966043Z",
     "shell.execute_reply": "2025-03-09T13:30:35.964307Z"
    },
    "papermill": {
     "duration": 0.19529,
     "end_time": "2025-03-09T13:30:35.967854",
     "exception": false,
     "start_time": "2025-03-09T13:30:35.772564",
     "status": "completed"
    },
    "tags": []
   },
   "outputs": [],
   "source": [
    "comparisonData2=pd.DataFrame({\n",
    "    \"Text\":lmtpData[\"CombinedText\"],\n",
    "    \"Actual Sentiment\":lmtpData[\"Sentiment\"].values,\n",
    "    \"Predicted Sentiment\":predClasses\n",
    "})\n",
    "\n",
    "\n",
    "comparisonData2[\"Positive\"] = predictedData[:, 0] \n",
    "comparisonData2[\"Neutral\"] = predictedData[:, 1]  \n",
    "comparisonData2[\"Negative\"] = predictedData[:, 2]"
   ]
  },
  {
   "cell_type": "code",
   "execution_count": 45,
   "id": "e04b1d80",
   "metadata": {
    "execution": {
     "iopub.execute_input": "2025-03-09T13:30:36.407042Z",
     "iopub.status.busy": "2025-03-09T13:30:36.406476Z",
     "iopub.status.idle": "2025-03-09T13:30:36.422909Z",
     "shell.execute_reply": "2025-03-09T13:30:36.421407Z"
    },
    "papermill": {
     "duration": 0.273989,
     "end_time": "2025-03-09T13:30:36.425185",
     "exception": false,
     "start_time": "2025-03-09T13:30:36.151196",
     "status": "completed"
    },
    "tags": []
   },
   "outputs": [
    {
     "data": {
      "text/html": [
       "<div>\n",
       "<style scoped>\n",
       "    .dataframe tbody tr th:only-of-type {\n",
       "        vertical-align: middle;\n",
       "    }\n",
       "\n",
       "    .dataframe tbody tr th {\n",
       "        vertical-align: top;\n",
       "    }\n",
       "\n",
       "    .dataframe thead th {\n",
       "        text-align: right;\n",
       "    }\n",
       "</style>\n",
       "<table border=\"1\" class=\"dataframe\">\n",
       "  <thead>\n",
       "    <tr style=\"text-align: right;\">\n",
       "      <th></th>\n",
       "      <th>Text</th>\n",
       "      <th>Actual Sentiment</th>\n",
       "      <th>Predicted Sentiment</th>\n",
       "      <th>Positive</th>\n",
       "      <th>Neutral</th>\n",
       "      <th>Negative</th>\n",
       "    </tr>\n",
       "  </thead>\n",
       "  <tbody>\n",
       "    <tr>\n",
       "      <th>431733</th>\n",
       "      <td>Good Coffee Rich, somewhat strong flavor.  Great aroma.&lt;br /&gt;&lt;br /&gt;I am a coffee drinker and I totally enjoyed it.&lt;br /&gt;&lt;br /&gt;Thank you.&lt;br /&gt;MEF</td>\n",
       "      <td>1</td>\n",
       "      <td>2</td>\n",
       "      <td>0.000362</td>\n",
       "      <td>0.999488</td>\n",
       "      <td>0.000150</td>\n",
       "    </tr>\n",
       "    <tr>\n",
       "      <th>204480</th>\n",
       "      <td>Best Steel Cut Oats out there! First of all, whoever eats regular quaker rolled oats, BELIEVE ME, once you try Steel Cut oats, you can never go back to that mushy gooey bowl of quick cooking oats. Initially when I switched over, I used to buy the McCann's 5 minute Steel Cut Oats which are pretty good, but once I discovered these, there was no going back! The size of each grain is larger in these, and when cooked and plumped up, it has a great texture (the McCann's one in comparison is smaller and tastes slightly gritty when cooked). To speed up the cooking time, I usually do this the night before:&lt;br /&gt;&lt;br /&gt;Pour cold water over oats (+1tsp whole wheat flour/wheat or oat bran) the night before to abt 1\" above the level of oats in ur bowl... then microwave for 1.5 - 2 minutes (check that it doesnt overflow!)... then boil some water in a kettle and pour enough water to fill your bowl 1/2 way or 2/3 of the way to the top... then cover and let soak overnight... the next morning, add a little more water (if necessary) and microwave again for 2-3 minutes (again, check to make sure it doesnt overflow)... then add ur toppings and flavourings and Enjoy!!!! I do this every other morning and eat my oats at work, and it's well worth the little extra prep time the night before - trust me!!!</td>\n",
       "      <td>1</td>\n",
       "      <td>2</td>\n",
       "      <td>0.002698</td>\n",
       "      <td>0.863095</td>\n",
       "      <td>0.134208</td>\n",
       "    </tr>\n",
       "    <tr>\n",
       "      <th>477057</th>\n",
       "      <td>Smokin- from beginning to.... My favorite Salsa if a bit overpriced here. Gives things a kick, but is thick enough to also put on tortilla chips. Mrs Renfro isn't like some of the wussy companies putting out boring, tasteless salsas though its still pretty far from \"gourmet\".&lt;br /&gt;&lt;br /&gt;I recommend their Nacho cheese sauce as well (way better than the canned crap Campbells or anyone else puts out).&lt;br /&gt;&lt;br /&gt; I have some really interesting bathroom stories from this stuff.. hehhehee..</td>\n",
       "      <td>1</td>\n",
       "      <td>2</td>\n",
       "      <td>0.000342</td>\n",
       "      <td>0.999485</td>\n",
       "      <td>0.000173</td>\n",
       "    </tr>\n",
       "    <tr>\n",
       "      <th>277851</th>\n",
       "      <td>Great selection I love the variety of coffee I received in this package. All different brands so I can sample and see what I do and do not like. The only disappointment was the packaging. It arrived loose inside a brown paper bag which was stapled shut. Not impressed by that but overall very pleased with the coffee.</td>\n",
       "      <td>1</td>\n",
       "      <td>2</td>\n",
       "      <td>0.000705</td>\n",
       "      <td>0.999090</td>\n",
       "      <td>0.000205</td>\n",
       "    </tr>\n",
       "    <tr>\n",
       "      <th>461609</th>\n",
       "      <td>Great alternative My son can't have sugar due to an enamel deficiency and this is a treat that is fine for his condition.  He gets left out of so much, and it is nice that he can be allowed to chew gum.</td>\n",
       "      <td>1</td>\n",
       "      <td>2</td>\n",
       "      <td>0.000677</td>\n",
       "      <td>0.999138</td>\n",
       "      <td>0.000185</td>\n",
       "    </tr>\n",
       "    <tr>\n",
       "      <th>276224</th>\n",
       "      <td>Neat container horrible hot chocolate First off, each can only makes two 6oz servings.  So this is a rather expensive cup of hot chocolate.  The flavor, at least to me, is terrible, it is mostly sugar and red dye.  It is a novel idea that might appeal to small kids but adults will find it sickeningly sweet. As mentioned above, it is rather expensive for what it is.  Only thing I like about this are the coffin shaped cans.</td>\n",
       "      <td>0</td>\n",
       "      <td>2</td>\n",
       "      <td>0.000963</td>\n",
       "      <td>0.998763</td>\n",
       "      <td>0.000274</td>\n",
       "    </tr>\n",
       "    <tr>\n",
       "      <th>521914</th>\n",
       "      <td>My dogs love this stuff Fast Delivery. My dogs love this stuff. This is the best deal I found on this item anywhere. I will buy more.</td>\n",
       "      <td>1</td>\n",
       "      <td>2</td>\n",
       "      <td>0.000216</td>\n",
       "      <td>0.999659</td>\n",
       "      <td>0.000125</td>\n",
       "    </tr>\n",
       "    <tr>\n",
       "      <th>279384</th>\n",
       "      <td>Chai low carb Very sweet for a diabetic. I actually bought it for my mom, but she did not like it very much. The service, however, was excellent--prompt shipping.</td>\n",
       "      <td>2</td>\n",
       "      <td>0</td>\n",
       "      <td>0.002806</td>\n",
       "      <td>0.000817</td>\n",
       "      <td>0.996377</td>\n",
       "    </tr>\n",
       "    <tr>\n",
       "      <th>414745</th>\n",
       "      <td>Amazing Taste! Tried it three different ways: black, just cream and cream &amp; sugar. This was such a smooth flavor that I enjoyed drinking it all three ways, which has never happened before. I also love the pod design; I used my regular coffee machine, so the pods make clean up quick &amp; easy.</td>\n",
       "      <td>1</td>\n",
       "      <td>2</td>\n",
       "      <td>0.003378</td>\n",
       "      <td>0.995003</td>\n",
       "      <td>0.001619</td>\n",
       "    </tr>\n",
       "    <tr>\n",
       "      <th>188261</th>\n",
       "      <td>yumm I have had a cup of coffee like this befor and loved it. I have been trying different coffee and makers for years till now. it is just perfect. I will up my subscription to 2 bags a month. Thank you Kicking horse coffee my serch is over. Perfect, just perfect!!!</td>\n",
       "      <td>1</td>\n",
       "      <td>2</td>\n",
       "      <td>0.000954</td>\n",
       "      <td>0.998778</td>\n",
       "      <td>0.000269</td>\n",
       "    </tr>\n",
       "  </tbody>\n",
       "</table>\n",
       "</div>"
      ],
      "text/plain": [
       "                                                                                                                                                                                                                                                                                                                                                                                                                                                                                                                                                                                                                                                                                                                                                                                                                                                                                                                                                                                                                                                                                                                                                                                                                                                                                                                                                      Text  \\\n",
       "431733                                                                                                                                                                                                                                                                                                                                                                                                                                                                                                                                                                                                                                                                                                                                                                                                                                                                                                                                                                                                                                                                                                                                                                                                   Good Coffee Rich, somewhat strong flavor.  Great aroma.<br /><br />I am a coffee drinker and I totally enjoyed it.<br /><br />Thank you.<br />MEF   \n",
       "204480  Best Steel Cut Oats out there! First of all, whoever eats regular quaker rolled oats, BELIEVE ME, once you try Steel Cut oats, you can never go back to that mushy gooey bowl of quick cooking oats. Initially when I switched over, I used to buy the McCann's 5 minute Steel Cut Oats which are pretty good, but once I discovered these, there was no going back! The size of each grain is larger in these, and when cooked and plumped up, it has a great texture (the McCann's one in comparison is smaller and tastes slightly gritty when cooked). To speed up the cooking time, I usually do this the night before:<br /><br />Pour cold water over oats (+1tsp whole wheat flour/wheat or oat bran) the night before to abt 1\" above the level of oats in ur bowl... then microwave for 1.5 - 2 minutes (check that it doesnt overflow!)... then boil some water in a kettle and pour enough water to fill your bowl 1/2 way or 2/3 of the way to the top... then cover and let soak overnight... the next morning, add a little more water (if necessary) and microwave again for 2-3 minutes (again, check to make sure it doesnt overflow)... then add ur toppings and flavourings and Enjoy!!!! I do this every other morning and eat my oats at work, and it's well worth the little extra prep time the night before - trust me!!!   \n",
       "477057                                                                                                                                                                                                                                                                                                                                                                                                                                                                                                                                                                                                                                                                                                                                                                                                                                          Smokin- from beginning to.... My favorite Salsa if a bit overpriced here. Gives things a kick, but is thick enough to also put on tortilla chips. Mrs Renfro isn't like some of the wussy companies putting out boring, tasteless salsas though its still pretty far from \"gourmet\".<br /><br />I recommend their Nacho cheese sauce as well (way better than the canned crap Campbells or anyone else puts out).<br /><br /> I have some really interesting bathroom stories from this stuff.. hehhehee..   \n",
       "277851                                                                                                                                                                                                                                                                                                                                                                                                                                                                                                                                                                                                                                                                                                                                                                                                                                                                                                                                                                                                                       Great selection I love the variety of coffee I received in this package. All different brands so I can sample and see what I do and do not like. The only disappointment was the packaging. It arrived loose inside a brown paper bag which was stapled shut. Not impressed by that but overall very pleased with the coffee.   \n",
       "461609                                                                                                                                                                                                                                                                                                                                                                                                                                                                                                                                                                                                                                                                                                                                                                                                                                                                                                                                                                                                                                                                                                                                          Great alternative My son can't have sugar due to an enamel deficiency and this is a treat that is fine for his condition.  He gets left out of so much, and it is nice that he can be allowed to chew gum.   \n",
       "276224                                                                                                                                                                                                                                                                                                                                                                                                                                                                                                                                                                                                                                                                                                                                                                                                                                                                                                           Neat container horrible hot chocolate First off, each can only makes two 6oz servings.  So this is a rather expensive cup of hot chocolate.  The flavor, at least to me, is terrible, it is mostly sugar and red dye.  It is a novel idea that might appeal to small kids but adults will find it sickeningly sweet. As mentioned above, it is rather expensive for what it is.  Only thing I like about this are the coffin shaped cans.   \n",
       "521914                                                                                                                                                                                                                                                                                                                                                                                                                                                                                                                                                                                                                                                                                                                                                                                                                                                                                                                                                                                                                                                                                                                                                                                                               My dogs love this stuff Fast Delivery. My dogs love this stuff. This is the best deal I found on this item anywhere. I will buy more.   \n",
       "279384                                                                                                                                                                                                                                                                                                                                                                                                                                                                                                                                                                                                                                                                                                                                                                                                                                                                                                                                                                                                                                                                                                                                                                                  Chai low carb Very sweet for a diabetic. I actually bought it for my mom, but she did not like it very much. The service, however, was excellent--prompt shipping.   \n",
       "414745                                                                                                                                                                                                                                                                                                                                                                                                                                                                                                                                                                                                                                                                                                                                                                                                                                                                                                                                                                                                                                                  Amazing Taste! Tried it three different ways: black, just cream and cream & sugar. This was such a smooth flavor that I enjoyed drinking it all three ways, which has never happened before. I also love the pod design; I used my regular coffee machine, so the pods make clean up quick & easy.   \n",
       "188261                                                                                                                                                                                                                                                                                                                                                                                                                                                                                                                                                                                                                                                                                                                                                                                                                                                                                                                                                                                                                                                                         yumm I have had a cup of coffee like this befor and loved it. I have been trying different coffee and makers for years till now. it is just perfect. I will up my subscription to 2 bags a month. Thank you Kicking horse coffee my serch is over. Perfect, just perfect!!!   \n",
       "\n",
       "        Actual Sentiment  Predicted Sentiment  Positive   Neutral  Negative  \n",
       "431733                 1                    2  0.000362  0.999488  0.000150  \n",
       "204480                 1                    2  0.002698  0.863095  0.134208  \n",
       "477057                 1                    2  0.000342  0.999485  0.000173  \n",
       "277851                 1                    2  0.000705  0.999090  0.000205  \n",
       "461609                 1                    2  0.000677  0.999138  0.000185  \n",
       "276224                 0                    2  0.000963  0.998763  0.000274  \n",
       "521914                 1                    2  0.000216  0.999659  0.000125  \n",
       "279384                 2                    0  0.002806  0.000817  0.996377  \n",
       "414745                 1                    2  0.003378  0.995003  0.001619  \n",
       "188261                 1                    2  0.000954  0.998778  0.000269  "
      ]
     },
     "execution_count": 45,
     "metadata": {},
     "output_type": "execute_result"
    }
   ],
   "source": [
    "comparisonData2.tail(10)"
   ]
  },
  {
   "cell_type": "code",
   "execution_count": 46,
   "id": "a3198200",
   "metadata": {
    "execution": {
     "iopub.execute_input": "2025-03-09T13:30:36.808205Z",
     "iopub.status.busy": "2025-03-09T13:30:36.807758Z",
     "iopub.status.idle": "2025-03-09T13:30:37.020808Z",
     "shell.execute_reply": "2025-03-09T13:30:37.019546Z"
    },
    "papermill": {
     "duration": 0.408339,
     "end_time": "2025-03-09T13:30:37.023277",
     "exception": false,
     "start_time": "2025-03-09T13:30:36.614938",
     "status": "completed"
    },
    "tags": []
   },
   "outputs": [],
   "source": [
    "comparisonData2.to_excel('PredictedSample2.xlsx')"
   ]
  },
  {
   "cell_type": "markdown",
   "id": "47985198",
   "metadata": {
    "papermill": {
     "duration": 0.199624,
     "end_time": "2025-03-09T13:30:37.414966",
     "exception": false,
     "start_time": "2025-03-09T13:30:37.215342",
     "status": "completed"
    },
    "tags": []
   },
   "source": [
    "#### USING A SPECIFIC REVIEW"
   ]
  },
  {
   "cell_type": "code",
   "execution_count": 47,
   "id": "c2b257a5",
   "metadata": {
    "execution": {
     "iopub.execute_input": "2025-03-09T13:30:37.811857Z",
     "iopub.status.busy": "2025-03-09T13:30:37.811308Z",
     "iopub.status.idle": "2025-03-09T13:30:37.938223Z",
     "shell.execute_reply": "2025-03-09T13:30:37.936813Z"
    },
    "papermill": {
     "duration": 0.326957,
     "end_time": "2025-03-09T13:30:37.940168",
     "exception": false,
     "start_time": "2025-03-09T13:30:37.613211",
     "status": "completed"
    },
    "tags": []
   },
   "outputs": [
    {
     "name": "stdout",
     "output_type": "stream",
     "text": [
      "\u001b[1m1/1\u001b[0m \u001b[32m━━━━━━━━━━━━━━━━━━━━\u001b[0m\u001b[37m\u001b[0m \u001b[1m0s\u001b[0m 54ms/step\n",
      "Predicted Class:  [0]\n"
     ]
    }
   ],
   "source": [
    "\n",
    "new_review = \"I love this product, it's amazing!\"\n",
    "\n",
    "\n",
    "new_review_tokens = tokenizer.texts_to_sequences([new_review])\n",
    "new_review_padded = pad_sequences(new_review_tokens, maxlen=maxLen)\n",
    "\n",
    "predictions = model.predict(new_review_padded)\n",
    "\n",
    "\n",
    "predicted_class = np.argmax(predictions, axis=1)\n",
    "\n",
    "print(\"Predicted Class: \", predicted_class)\n"
   ]
  },
  {
   "cell_type": "code",
   "execution_count": null,
   "id": "70d5d12b",
   "metadata": {
    "papermill": {
     "duration": 0.188675,
     "end_time": "2025-03-09T13:30:38.314118",
     "exception": false,
     "start_time": "2025-03-09T13:30:38.125443",
     "status": "completed"
    },
    "tags": []
   },
   "outputs": [],
   "source": []
  },
  {
   "cell_type": "markdown",
   "id": "2d984897",
   "metadata": {
    "papermill": {
     "duration": 0.184853,
     "end_time": "2025-03-09T13:30:38.684838",
     "exception": false,
     "start_time": "2025-03-09T13:30:38.499985",
     "status": "completed"
    },
    "tags": []
   },
   "source": []
  }
 ],
 "metadata": {
  "kaggle": {
   "accelerator": "none",
   "dataSources": [
    {
     "datasetId": 18,
     "sourceId": 2157,
     "sourceType": "datasetVersion"
    },
    {
     "datasetId": 4167194,
     "sourceId": 7203508,
     "sourceType": "datasetVersion"
    }
   ],
   "dockerImageVersionId": 30918,
   "isGpuEnabled": false,
   "isInternetEnabled": true,
   "language": "python",
   "sourceType": "notebook"
  },
  "kernelspec": {
   "display_name": "Python 3",
   "language": "python",
   "name": "python3"
  },
  "language_info": {
   "codemirror_mode": {
    "name": "ipython",
    "version": 3
   },
   "file_extension": ".py",
   "mimetype": "text/x-python",
   "name": "python",
   "nbconvert_exporter": "python",
   "pygments_lexer": "ipython3",
   "version": "3.10.12"
  },
  "papermill": {
   "default_parameters": {},
   "duration": 534.246019,
   "end_time": "2025-03-09T13:30:42.422771",
   "environment_variables": {},
   "exception": null,
   "input_path": "__notebook__.ipynb",
   "output_path": "__notebook__.ipynb",
   "parameters": {},
   "start_time": "2025-03-09T13:21:48.176752",
   "version": "2.6.0"
  }
 },
 "nbformat": 4,
 "nbformat_minor": 5
}
