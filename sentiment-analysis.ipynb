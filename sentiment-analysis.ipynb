{
 "cells": [
  {
   "cell_type": "code",
   "execution_count": 1,
   "id": "e64b0f50",
   "metadata": {
    "_cell_guid": "b1076dfc-b9ad-4769-8c92-a6c4dae69d19",
    "_uuid": "8f2839f25d086af736a60e9eeb907d3b93b6e0e5",
    "execution": {
     "iopub.execute_input": "2025-03-06T14:39:07.704523Z",
     "iopub.status.busy": "2025-03-06T14:39:07.703992Z",
     "iopub.status.idle": "2025-03-06T14:39:08.784927Z",
     "shell.execute_reply": "2025-03-06T14:39:08.783685Z"
    },
    "papermill": {
     "duration": 1.08862,
     "end_time": "2025-03-06T14:39:08.786979",
     "exception": false,
     "start_time": "2025-03-06T14:39:07.698359",
     "status": "completed"
    },
    "tags": []
   },
   "outputs": [
    {
     "name": "stdout",
     "output_type": "stream",
     "text": [
      "/kaggle/input/amazon-fine-food-reviews/hashes.txt\n",
      "/kaggle/input/amazon-fine-food-reviews/Reviews.csv\n",
      "/kaggle/input/amazon-fine-food-reviews/database.sqlite\n",
      "/kaggle/input/glove-6b-100-d/glove.6B.100d.txt\n"
     ]
    }
   ],
   "source": [
    "# This Python 3 environment comes with many helpful analytics libraries installed\n",
    "# It is defined by the kaggle/python Docker image: https://github.com/kaggle/docker-python\n",
    "# For example, here's several helpful packages to load\n",
    "\n",
    "import numpy as np # linear algebra\n",
    "import pandas as pd # data processing, CSV file I/O (e.g. pd.read_csv)\n",
    "\n",
    "# Input data files are available in the read-only \"../input/\" directory\n",
    "# For example, running this (by clicking run or pressing Shift+Enter) will list all files under the input directory\n",
    "\n",
    "import os\n",
    "for dirname, _, filenames in os.walk('/kaggle/input'):\n",
    "    for filename in filenames:\n",
    "        print(os.path.join(dirname, filename))\n",
    "\n",
    "# You can write up to 20GB to the current directory (/kaggle/working/) that gets preserved as output when you create a version using \"Save & Run All\" \n",
    "# You can also write temporary files to /kaggle/temp/, but they won't be saved outside of the current session"
   ]
  },
  {
   "cell_type": "code",
   "execution_count": 2,
   "id": "d8dca33a",
   "metadata": {
    "execution": {
     "iopub.execute_input": "2025-03-06T14:39:08.796917Z",
     "iopub.status.busy": "2025-03-06T14:39:08.796389Z",
     "iopub.status.idle": "2025-03-06T14:39:08.800820Z",
     "shell.execute_reply": "2025-03-06T14:39:08.799626Z"
    },
    "papermill": {
     "duration": 0.011297,
     "end_time": "2025-03-06T14:39:08.802716",
     "exception": false,
     "start_time": "2025-03-06T14:39:08.791419",
     "status": "completed"
    },
    "tags": []
   },
   "outputs": [],
   "source": [
    "import pandas as pd"
   ]
  },
  {
   "cell_type": "code",
   "execution_count": 3,
   "id": "67bf54c2",
   "metadata": {
    "execution": {
     "iopub.execute_input": "2025-03-06T14:39:08.811970Z",
     "iopub.status.busy": "2025-03-06T14:39:08.811566Z",
     "iopub.status.idle": "2025-03-06T14:39:18.711500Z",
     "shell.execute_reply": "2025-03-06T14:39:18.710184Z"
    },
    "papermill": {
     "duration": 9.906853,
     "end_time": "2025-03-06T14:39:18.713594",
     "exception": false,
     "start_time": "2025-03-06T14:39:08.806741",
     "status": "completed"
    },
    "tags": []
   },
   "outputs": [],
   "source": [
    "dataset=pd.read_csv(r\"/kaggle/input/amazon-fine-food-reviews/Reviews.csv\")"
   ]
  },
  {
   "cell_type": "code",
   "execution_count": 4,
   "id": "d7918c48",
   "metadata": {
    "execution": {
     "iopub.execute_input": "2025-03-06T14:39:18.722928Z",
     "iopub.status.busy": "2025-03-06T14:39:18.722600Z",
     "iopub.status.idle": "2025-03-06T14:39:18.948685Z",
     "shell.execute_reply": "2025-03-06T14:39:18.947402Z"
    },
    "papermill": {
     "duration": 0.233034,
     "end_time": "2025-03-06T14:39:18.950815",
     "exception": false,
     "start_time": "2025-03-06T14:39:18.717781",
     "status": "completed"
    },
    "tags": []
   },
   "outputs": [
    {
     "name": "stdout",
     "output_type": "stream",
     "text": [
      "<class 'pandas.core.frame.DataFrame'>\n",
      "RangeIndex: 568454 entries, 0 to 568453\n",
      "Data columns (total 10 columns):\n",
      " #   Column                  Non-Null Count   Dtype \n",
      "---  ------                  --------------   ----- \n",
      " 0   Id                      568454 non-null  int64 \n",
      " 1   ProductId               568454 non-null  object\n",
      " 2   UserId                  568454 non-null  object\n",
      " 3   ProfileName             568428 non-null  object\n",
      " 4   HelpfulnessNumerator    568454 non-null  int64 \n",
      " 5   HelpfulnessDenominator  568454 non-null  int64 \n",
      " 6   Score                   568454 non-null  int64 \n",
      " 7   Time                    568454 non-null  int64 \n",
      " 8   Summary                 568427 non-null  object\n",
      " 9   Text                    568454 non-null  object\n",
      "dtypes: int64(5), object(5)\n",
      "memory usage: 43.4+ MB\n"
     ]
    }
   ],
   "source": [
    "dataset.info()"
   ]
  },
  {
   "cell_type": "code",
   "execution_count": 5,
   "id": "72d73933",
   "metadata": {
    "execution": {
     "iopub.execute_input": "2025-03-06T14:39:18.960586Z",
     "iopub.status.busy": "2025-03-06T14:39:18.960228Z",
     "iopub.status.idle": "2025-03-06T14:39:18.985639Z",
     "shell.execute_reply": "2025-03-06T14:39:18.984503Z"
    },
    "papermill": {
     "duration": 0.032311,
     "end_time": "2025-03-06T14:39:18.987628",
     "exception": false,
     "start_time": "2025-03-06T14:39:18.955317",
     "status": "completed"
    },
    "tags": []
   },
   "outputs": [
    {
     "data": {
      "text/html": [
       "<div>\n",
       "<style scoped>\n",
       "    .dataframe tbody tr th:only-of-type {\n",
       "        vertical-align: middle;\n",
       "    }\n",
       "\n",
       "    .dataframe tbody tr th {\n",
       "        vertical-align: top;\n",
       "    }\n",
       "\n",
       "    .dataframe thead th {\n",
       "        text-align: right;\n",
       "    }\n",
       "</style>\n",
       "<table border=\"1\" class=\"dataframe\">\n",
       "  <thead>\n",
       "    <tr style=\"text-align: right;\">\n",
       "      <th></th>\n",
       "      <th>Id</th>\n",
       "      <th>ProductId</th>\n",
       "      <th>UserId</th>\n",
       "      <th>ProfileName</th>\n",
       "      <th>HelpfulnessNumerator</th>\n",
       "      <th>HelpfulnessDenominator</th>\n",
       "      <th>Score</th>\n",
       "      <th>Time</th>\n",
       "      <th>Summary</th>\n",
       "      <th>Text</th>\n",
       "    </tr>\n",
       "  </thead>\n",
       "  <tbody>\n",
       "    <tr>\n",
       "      <th>0</th>\n",
       "      <td>1</td>\n",
       "      <td>B001E4KFG0</td>\n",
       "      <td>A3SGXH7AUHU8GW</td>\n",
       "      <td>delmartian</td>\n",
       "      <td>1</td>\n",
       "      <td>1</td>\n",
       "      <td>5</td>\n",
       "      <td>1303862400</td>\n",
       "      <td>Good Quality Dog Food</td>\n",
       "      <td>I have bought several of the Vitality canned d...</td>\n",
       "    </tr>\n",
       "    <tr>\n",
       "      <th>1</th>\n",
       "      <td>2</td>\n",
       "      <td>B00813GRG4</td>\n",
       "      <td>A1D87F6ZCVE5NK</td>\n",
       "      <td>dll pa</td>\n",
       "      <td>0</td>\n",
       "      <td>0</td>\n",
       "      <td>1</td>\n",
       "      <td>1346976000</td>\n",
       "      <td>Not as Advertised</td>\n",
       "      <td>Product arrived labeled as Jumbo Salted Peanut...</td>\n",
       "    </tr>\n",
       "    <tr>\n",
       "      <th>2</th>\n",
       "      <td>3</td>\n",
       "      <td>B000LQOCH0</td>\n",
       "      <td>ABXLMWJIXXAIN</td>\n",
       "      <td>Natalia Corres \"Natalia Corres\"</td>\n",
       "      <td>1</td>\n",
       "      <td>1</td>\n",
       "      <td>4</td>\n",
       "      <td>1219017600</td>\n",
       "      <td>\"Delight\" says it all</td>\n",
       "      <td>This is a confection that has been around a fe...</td>\n",
       "    </tr>\n",
       "    <tr>\n",
       "      <th>3</th>\n",
       "      <td>4</td>\n",
       "      <td>B000UA0QIQ</td>\n",
       "      <td>A395BORC6FGVXV</td>\n",
       "      <td>Karl</td>\n",
       "      <td>3</td>\n",
       "      <td>3</td>\n",
       "      <td>2</td>\n",
       "      <td>1307923200</td>\n",
       "      <td>Cough Medicine</td>\n",
       "      <td>If you are looking for the secret ingredient i...</td>\n",
       "    </tr>\n",
       "    <tr>\n",
       "      <th>4</th>\n",
       "      <td>5</td>\n",
       "      <td>B006K2ZZ7K</td>\n",
       "      <td>A1UQRSCLF8GW1T</td>\n",
       "      <td>Michael D. Bigham \"M. Wassir\"</td>\n",
       "      <td>0</td>\n",
       "      <td>0</td>\n",
       "      <td>5</td>\n",
       "      <td>1350777600</td>\n",
       "      <td>Great taffy</td>\n",
       "      <td>Great taffy at a great price.  There was a wid...</td>\n",
       "    </tr>\n",
       "  </tbody>\n",
       "</table>\n",
       "</div>"
      ],
      "text/plain": [
       "   Id   ProductId          UserId                      ProfileName  \\\n",
       "0   1  B001E4KFG0  A3SGXH7AUHU8GW                       delmartian   \n",
       "1   2  B00813GRG4  A1D87F6ZCVE5NK                           dll pa   \n",
       "2   3  B000LQOCH0   ABXLMWJIXXAIN  Natalia Corres \"Natalia Corres\"   \n",
       "3   4  B000UA0QIQ  A395BORC6FGVXV                             Karl   \n",
       "4   5  B006K2ZZ7K  A1UQRSCLF8GW1T    Michael D. Bigham \"M. Wassir\"   \n",
       "\n",
       "   HelpfulnessNumerator  HelpfulnessDenominator  Score        Time  \\\n",
       "0                     1                       1      5  1303862400   \n",
       "1                     0                       0      1  1346976000   \n",
       "2                     1                       1      4  1219017600   \n",
       "3                     3                       3      2  1307923200   \n",
       "4                     0                       0      5  1350777600   \n",
       "\n",
       "                 Summary                                               Text  \n",
       "0  Good Quality Dog Food  I have bought several of the Vitality canned d...  \n",
       "1      Not as Advertised  Product arrived labeled as Jumbo Salted Peanut...  \n",
       "2  \"Delight\" says it all  This is a confection that has been around a fe...  \n",
       "3         Cough Medicine  If you are looking for the secret ingredient i...  \n",
       "4            Great taffy  Great taffy at a great price.  There was a wid...  "
      ]
     },
     "execution_count": 5,
     "metadata": {},
     "output_type": "execute_result"
    }
   ],
   "source": [
    "dataset.head(5)"
   ]
  },
  {
   "cell_type": "code",
   "execution_count": 6,
   "id": "bef6fc37",
   "metadata": {
    "execution": {
     "iopub.execute_input": "2025-03-06T14:39:18.997445Z",
     "iopub.status.busy": "2025-03-06T14:39:18.997087Z",
     "iopub.status.idle": "2025-03-06T14:39:19.031054Z",
     "shell.execute_reply": "2025-03-06T14:39:19.029666Z"
    },
    "papermill": {
     "duration": 0.041136,
     "end_time": "2025-03-06T14:39:19.033029",
     "exception": false,
     "start_time": "2025-03-06T14:39:18.991893",
     "status": "completed"
    },
    "tags": []
   },
   "outputs": [
    {
     "name": "stdout",
     "output_type": "stream",
     "text": [
      "   Score                                               Text\n",
      "0      5  I have bought several of the Vitality canned d...\n",
      "1      1  Product arrived labeled as Jumbo Salted Peanut...\n",
      "2      4  This is a confection that has been around a fe...\n",
      "3      2  If you are looking for the secret ingredient i...\n",
      "4      5  Great taffy at a great price.  There was a wid...\n"
     ]
    }
   ],
   "source": [
    "print(dataset[['Score','Text']].head(5))"
   ]
  },
  {
   "cell_type": "code",
   "execution_count": null,
   "id": "e2d9255e",
   "metadata": {
    "papermill": {
     "duration": 0.003812,
     "end_time": "2025-03-06T14:39:19.041402",
     "exception": false,
     "start_time": "2025-03-06T14:39:19.037590",
     "status": "completed"
    },
    "tags": []
   },
   "outputs": [],
   "source": []
  },
  {
   "cell_type": "code",
   "execution_count": 7,
   "id": "81a610bd",
   "metadata": {
    "execution": {
     "iopub.execute_input": "2025-03-06T14:39:19.051211Z",
     "iopub.status.busy": "2025-03-06T14:39:19.050792Z",
     "iopub.status.idle": "2025-03-06T14:39:19.115968Z",
     "shell.execute_reply": "2025-03-06T14:39:19.114739Z"
    },
    "papermill": {
     "duration": 0.072415,
     "end_time": "2025-03-06T14:39:19.117918",
     "exception": false,
     "start_time": "2025-03-06T14:39:19.045503",
     "status": "completed"
    },
    "tags": []
   },
   "outputs": [
    {
     "name": "stdout",
     "output_type": "stream",
     "text": [
      "                                                     Text  \\\n",
      "135674  These are not original cliff bars, but the sma...   \n",
      "16838   I don't often drink soda for a couple reasons....   \n",
      "109996  I love the coffee and I love the transaction. ...   \n",
      "397986  I don't usually have to cook for myself becaus...   \n",
      "87293   This stuff is tasty but caveat emptor: it's gl...   \n",
      "...                                                   ...   \n",
      "306239  I've used this for years and it's the best I'v...   \n",
      "483010  This is heavenly in espresso! One pump of this...   \n",
      "358824  I have tried many flavored coconut waters and ...   \n",
      "65456   I love nuts as a snack. They're good for you, ...   \n",
      "385942  I bought this same brand at a local health foo...   \n",
      "\n",
      "                                 Summary  Score  \n",
      "135674       expensive cliff crunch bars      1  \n",
      "16838                        Very tastey      5  \n",
      "109996  Great transaction! Great Coffee!      5  \n",
      "397986                           not bad      4  \n",
      "87293   4-star taste, 2-star ingredients      2  \n",
      "...                                  ...    ...  \n",
      "306239      I Killed an Air Fern Once...      5  \n",
      "483010                         Heavenly!      5  \n",
      "358824                Best coconut water      5  \n",
      "65456                    A Savory Snack!      5  \n",
      "385942                       Great price      4  \n",
      "\n",
      "[1000 rows x 3 columns]\n"
     ]
    }
   ],
   "source": [
    "lmtpData=dataset[['Text','Summary','Score']].sample(n=1000)\n",
    "print(lmtpData)"
   ]
  },
  {
   "cell_type": "markdown",
   "id": "10014ce6",
   "metadata": {
    "papermill": {
     "duration": 0.004008,
     "end_time": "2025-03-06T14:39:19.126595",
     "exception": false,
     "start_time": "2025-03-06T14:39:19.122587",
     "status": "completed"
    },
    "tags": []
   },
   "source": [
    "### ADDING SENTIMENT COLUMN"
   ]
  },
  {
   "cell_type": "code",
   "execution_count": 8,
   "id": "46d6f2f9",
   "metadata": {
    "execution": {
     "iopub.execute_input": "2025-03-06T14:39:19.136632Z",
     "iopub.status.busy": "2025-03-06T14:39:19.136258Z",
     "iopub.status.idle": "2025-03-06T14:39:19.150118Z",
     "shell.execute_reply": "2025-03-06T14:39:19.148927Z"
    },
    "papermill": {
     "duration": 0.021293,
     "end_time": "2025-03-06T14:39:19.152224",
     "exception": false,
     "start_time": "2025-03-06T14:39:19.130931",
     "status": "completed"
    },
    "tags": []
   },
   "outputs": [
    {
     "data": {
      "text/html": [
       "<div>\n",
       "<style scoped>\n",
       "    .dataframe tbody tr th:only-of-type {\n",
       "        vertical-align: middle;\n",
       "    }\n",
       "\n",
       "    .dataframe tbody tr th {\n",
       "        vertical-align: top;\n",
       "    }\n",
       "\n",
       "    .dataframe thead th {\n",
       "        text-align: right;\n",
       "    }\n",
       "</style>\n",
       "<table border=\"1\" class=\"dataframe\">\n",
       "  <thead>\n",
       "    <tr style=\"text-align: right;\">\n",
       "      <th></th>\n",
       "      <th>Text</th>\n",
       "      <th>Summary</th>\n",
       "      <th>Score</th>\n",
       "      <th>Sentiment</th>\n",
       "    </tr>\n",
       "  </thead>\n",
       "  <tbody>\n",
       "    <tr>\n",
       "      <th>135674</th>\n",
       "      <td>These are not original cliff bars, but the sma...</td>\n",
       "      <td>expensive cliff crunch bars</td>\n",
       "      <td>1</td>\n",
       "      <td>0</td>\n",
       "    </tr>\n",
       "    <tr>\n",
       "      <th>16838</th>\n",
       "      <td>I don't often drink soda for a couple reasons....</td>\n",
       "      <td>Very tastey</td>\n",
       "      <td>5</td>\n",
       "      <td>1</td>\n",
       "    </tr>\n",
       "    <tr>\n",
       "      <th>109996</th>\n",
       "      <td>I love the coffee and I love the transaction. ...</td>\n",
       "      <td>Great transaction! Great Coffee!</td>\n",
       "      <td>5</td>\n",
       "      <td>1</td>\n",
       "    </tr>\n",
       "    <tr>\n",
       "      <th>397986</th>\n",
       "      <td>I don't usually have to cook for myself becaus...</td>\n",
       "      <td>not bad</td>\n",
       "      <td>4</td>\n",
       "      <td>1</td>\n",
       "    </tr>\n",
       "    <tr>\n",
       "      <th>87293</th>\n",
       "      <td>This stuff is tasty but caveat emptor: it's gl...</td>\n",
       "      <td>4-star taste, 2-star ingredients</td>\n",
       "      <td>2</td>\n",
       "      <td>0</td>\n",
       "    </tr>\n",
       "  </tbody>\n",
       "</table>\n",
       "</div>"
      ],
      "text/plain": [
       "                                                     Text  \\\n",
       "135674  These are not original cliff bars, but the sma...   \n",
       "16838   I don't often drink soda for a couple reasons....   \n",
       "109996  I love the coffee and I love the transaction. ...   \n",
       "397986  I don't usually have to cook for myself becaus...   \n",
       "87293   This stuff is tasty but caveat emptor: it's gl...   \n",
       "\n",
       "                                 Summary  Score  Sentiment  \n",
       "135674       expensive cliff crunch bars      1          0  \n",
       "16838                        Very tastey      5          1  \n",
       "109996  Great transaction! Great Coffee!      5          1  \n",
       "397986                           not bad      4          1  \n",
       "87293   4-star taste, 2-star ingredients      2          0  "
      ]
     },
     "execution_count": 8,
     "metadata": {},
     "output_type": "execute_result"
    }
   ],
   "source": [
    "#0-negative, 1-positive\n",
    "def lblScore(score):\n",
    "    if score<=2:\n",
    "        return 0\n",
    "    elif score>=4:\n",
    "        return 1\n",
    "    else:\n",
    "        return 2\n",
    "lmtpData['Sentiment']=lmtpData['Score'].apply(lblScore)\n",
    "lmtpData.head(5)"
   ]
  },
  {
   "cell_type": "code",
   "execution_count": 9,
   "id": "ea4b5ee2",
   "metadata": {
    "execution": {
     "iopub.execute_input": "2025-03-06T14:39:19.163729Z",
     "iopub.status.busy": "2025-03-06T14:39:19.163014Z",
     "iopub.status.idle": "2025-03-06T14:39:19.173200Z",
     "shell.execute_reply": "2025-03-06T14:39:19.171989Z"
    },
    "papermill": {
     "duration": 0.017534,
     "end_time": "2025-03-06T14:39:19.174944",
     "exception": false,
     "start_time": "2025-03-06T14:39:19.157410",
     "status": "completed"
    },
    "tags": []
   },
   "outputs": [
    {
     "data": {
      "text/plain": [
       "Sentiment\n",
       "1    783\n",
       "0    151\n",
       "2     66\n",
       "Name: count, dtype: int64"
      ]
     },
     "execution_count": 9,
     "metadata": {},
     "output_type": "execute_result"
    }
   ],
   "source": [
    "lmtpData['Sentiment'].value_counts()"
   ]
  },
  {
   "cell_type": "markdown",
   "id": "01e59826",
   "metadata": {
    "execution": {
     "iopub.execute_input": "2025-03-06T12:31:15.045476Z",
     "iopub.status.busy": "2025-03-06T12:31:15.045080Z",
     "iopub.status.idle": "2025-03-06T12:31:15.049290Z",
     "shell.execute_reply": "2025-03-06T12:31:15.048323Z",
     "shell.execute_reply.started": "2025-03-06T12:31:15.045438Z"
    },
    "papermill": {
     "duration": 0.004204,
     "end_time": "2025-03-06T14:39:19.183860",
     "exception": false,
     "start_time": "2025-03-06T14:39:19.179656",
     "status": "completed"
    },
    "tags": []
   },
   "source": [
    "#### VECTORS"
   ]
  },
  {
   "cell_type": "code",
   "execution_count": 10,
   "id": "68a91728",
   "metadata": {
    "execution": {
     "iopub.execute_input": "2025-03-06T14:39:19.194517Z",
     "iopub.status.busy": "2025-03-06T14:39:19.194069Z",
     "iopub.status.idle": "2025-03-06T14:39:19.200237Z",
     "shell.execute_reply": "2025-03-06T14:39:19.199066Z"
    },
    "papermill": {
     "duration": 0.013859,
     "end_time": "2025-03-06T14:39:19.202304",
     "exception": false,
     "start_time": "2025-03-06T14:39:19.188445",
     "status": "completed"
    },
    "tags": []
   },
   "outputs": [],
   "source": [
    "import numpy as np\n",
    "glove_path=\"/kaggle/input/glove-6b-100-d/glove.6B.100d.txt\"\n",
    "def loadGloveEmbeddings(filePath,embedding_dim=100):\n",
    "    embeddingsIndex={}\n",
    "    with open(filePath,encoding=\"utf8\") as f:\n",
    "        for line in f:\n",
    "            values=line.split()\n",
    "            word=values[0]\n",
    "            coefs=np.asarray(values[1:],dtype='float32')\n",
    "            embeddingsIndex[word]=coefs\n",
    "        return embeddingsIndex\n",
    "\n",
    "        "
   ]
  },
  {
   "cell_type": "code",
   "execution_count": 11,
   "id": "3a94c809",
   "metadata": {
    "execution": {
     "iopub.execute_input": "2025-03-06T14:39:19.214148Z",
     "iopub.status.busy": "2025-03-06T14:39:19.213583Z",
     "iopub.status.idle": "2025-03-06T14:39:31.611460Z",
     "shell.execute_reply": "2025-03-06T14:39:31.610196Z"
    },
    "papermill": {
     "duration": 12.406222,
     "end_time": "2025-03-06T14:39:31.613459",
     "exception": false,
     "start_time": "2025-03-06T14:39:19.207237",
     "status": "completed"
    },
    "tags": []
   },
   "outputs": [
    {
     "name": "stdout",
     "output_type": "stream",
     "text": [
      "Loaded 400000 word vectors.\n"
     ]
    }
   ],
   "source": [
    "gloveEmbeddings=loadGloveEmbeddings(glove_path)\n",
    "print(\"Loaded {} word vectors.\".format(len(gloveEmbeddings)))"
   ]
  },
  {
   "cell_type": "markdown",
   "id": "214ca2d3",
   "metadata": {
    "papermill": {
     "duration": 0.004389,
     "end_time": "2025-03-06T14:39:31.622779",
     "exception": false,
     "start_time": "2025-03-06T14:39:31.618390",
     "status": "completed"
    },
    "tags": []
   },
   "source": [
    "#### APPLYING SMOTE"
   ]
  },
  {
   "cell_type": "code",
   "execution_count": null,
   "id": "9a38ca86",
   "metadata": {
    "papermill": {
     "duration": 0.004278,
     "end_time": "2025-03-06T14:39:31.631607",
     "exception": false,
     "start_time": "2025-03-06T14:39:31.627329",
     "status": "completed"
    },
    "tags": []
   },
   "outputs": [],
   "source": []
  }
 ],
 "metadata": {
  "kaggle": {
   "accelerator": "none",
   "dataSources": [
    {
     "datasetId": 18,
     "sourceId": 2157,
     "sourceType": "datasetVersion"
    },
    {
     "datasetId": 4167194,
     "sourceId": 7203508,
     "sourceType": "datasetVersion"
    }
   ],
   "dockerImageVersionId": 30918,
   "isGpuEnabled": false,
   "isInternetEnabled": true,
   "language": "python",
   "sourceType": "notebook"
  },
  "kernelspec": {
   "display_name": "Python 3",
   "language": "python",
   "name": "python3"
  },
  "language_info": {
   "codemirror_mode": {
    "name": "ipython",
    "version": 3
   },
   "file_extension": ".py",
   "mimetype": "text/x-python",
   "name": "python",
   "nbconvert_exporter": "python",
   "pygments_lexer": "ipython3",
   "version": "3.10.12"
  },
  "papermill": {
   "default_parameters": {},
   "duration": 27.845034,
   "end_time": "2025-03-06T14:39:32.558422",
   "environment_variables": {},
   "exception": null,
   "input_path": "__notebook__.ipynb",
   "output_path": "__notebook__.ipynb",
   "parameters": {},
   "start_time": "2025-03-06T14:39:04.713388",
   "version": "2.6.0"
  }
 },
 "nbformat": 4,
 "nbformat_minor": 5
}
