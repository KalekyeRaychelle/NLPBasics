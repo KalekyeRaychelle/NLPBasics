{
 "cells": [
  {
   "cell_type": "code",
   "execution_count": 1,
   "id": "88a8b86f",
   "metadata": {
    "_cell_guid": "b1076dfc-b9ad-4769-8c92-a6c4dae69d19",
    "_uuid": "8f2839f25d086af736a60e9eeb907d3b93b6e0e5",
    "execution": {
     "iopub.execute_input": "2025-03-06T12:42:56.117926Z",
     "iopub.status.busy": "2025-03-06T12:42:56.117634Z",
     "iopub.status.idle": "2025-03-06T12:42:56.993875Z",
     "shell.execute_reply": "2025-03-06T12:42:56.992770Z"
    },
    "papermill": {
     "duration": 0.882675,
     "end_time": "2025-03-06T12:42:56.995268",
     "exception": false,
     "start_time": "2025-03-06T12:42:56.112593",
     "status": "completed"
    },
    "tags": []
   },
   "outputs": [
    {
     "name": "stdout",
     "output_type": "stream",
     "text": [
      "/kaggle/input/amazon-fine-food-reviews/hashes.txt\n",
      "/kaggle/input/amazon-fine-food-reviews/Reviews.csv\n",
      "/kaggle/input/amazon-fine-food-reviews/database.sqlite\n"
     ]
    }
   ],
   "source": [
    "# This Python 3 environment comes with many helpful analytics libraries installed\n",
    "# It is defined by the kaggle/python Docker image: https://github.com/kaggle/docker-python\n",
    "# For example, here's several helpful packages to load\n",
    "\n",
    "import numpy as np # linear algebra\n",
    "import pandas as pd # data processing, CSV file I/O (e.g. pd.read_csv)\n",
    "\n",
    "# Input data files are available in the read-only \"../input/\" directory\n",
    "# For example, running this (by clicking run or pressing Shift+Enter) will list all files under the input directory\n",
    "\n",
    "import os\n",
    "for dirname, _, filenames in os.walk('/kaggle/input'):\n",
    "    for filename in filenames:\n",
    "        print(os.path.join(dirname, filename))\n",
    "\n",
    "# You can write up to 20GB to the current directory (/kaggle/working/) that gets preserved as output when you create a version using \"Save & Run All\" \n",
    "# You can also write temporary files to /kaggle/temp/, but they won't be saved outside of the current session"
   ]
  },
  {
   "cell_type": "code",
   "execution_count": 2,
   "id": "eedd0c04",
   "metadata": {
    "execution": {
     "iopub.execute_input": "2025-03-06T12:42:57.001607Z",
     "iopub.status.busy": "2025-03-06T12:42:57.001162Z",
     "iopub.status.idle": "2025-03-06T12:42:57.004851Z",
     "shell.execute_reply": "2025-03-06T12:42:57.003720Z"
    },
    "papermill": {
     "duration": 0.008042,
     "end_time": "2025-03-06T12:42:57.006146",
     "exception": false,
     "start_time": "2025-03-06T12:42:56.998104",
     "status": "completed"
    },
    "tags": []
   },
   "outputs": [],
   "source": [
    "import pandas as pd"
   ]
  },
  {
   "cell_type": "code",
   "execution_count": 3,
   "id": "a1407cea",
   "metadata": {
    "execution": {
     "iopub.execute_input": "2025-03-06T12:42:57.012121Z",
     "iopub.status.busy": "2025-03-06T12:42:57.011821Z",
     "iopub.status.idle": "2025-03-06T12:43:04.151323Z",
     "shell.execute_reply": "2025-03-06T12:43:04.150419Z"
    },
    "papermill": {
     "duration": 7.144583,
     "end_time": "2025-03-06T12:43:04.153218",
     "exception": false,
     "start_time": "2025-03-06T12:42:57.008635",
     "status": "completed"
    },
    "tags": []
   },
   "outputs": [],
   "source": [
    "dataset=pd.read_csv(r\"/kaggle/input/amazon-fine-food-reviews/Reviews.csv\")"
   ]
  },
  {
   "cell_type": "code",
   "execution_count": 4,
   "id": "8d6b16dc",
   "metadata": {
    "execution": {
     "iopub.execute_input": "2025-03-06T12:43:04.159267Z",
     "iopub.status.busy": "2025-03-06T12:43:04.158951Z",
     "iopub.status.idle": "2025-03-06T12:43:04.344933Z",
     "shell.execute_reply": "2025-03-06T12:43:04.343706Z"
    },
    "papermill": {
     "duration": 0.19041,
     "end_time": "2025-03-06T12:43:04.346344",
     "exception": false,
     "start_time": "2025-03-06T12:43:04.155934",
     "status": "completed"
    },
    "tags": []
   },
   "outputs": [
    {
     "name": "stdout",
     "output_type": "stream",
     "text": [
      "<class 'pandas.core.frame.DataFrame'>\n",
      "RangeIndex: 568454 entries, 0 to 568453\n",
      "Data columns (total 10 columns):\n",
      " #   Column                  Non-Null Count   Dtype \n",
      "---  ------                  --------------   ----- \n",
      " 0   Id                      568454 non-null  int64 \n",
      " 1   ProductId               568454 non-null  object\n",
      " 2   UserId                  568454 non-null  object\n",
      " 3   ProfileName             568428 non-null  object\n",
      " 4   HelpfulnessNumerator    568454 non-null  int64 \n",
      " 5   HelpfulnessDenominator  568454 non-null  int64 \n",
      " 6   Score                   568454 non-null  int64 \n",
      " 7   Time                    568454 non-null  int64 \n",
      " 8   Summary                 568427 non-null  object\n",
      " 9   Text                    568454 non-null  object\n",
      "dtypes: int64(5), object(5)\n",
      "memory usage: 43.4+ MB\n"
     ]
    }
   ],
   "source": [
    "dataset.info()"
   ]
  },
  {
   "cell_type": "code",
   "execution_count": 5,
   "id": "28a84986",
   "metadata": {
    "execution": {
     "iopub.execute_input": "2025-03-06T12:43:04.352404Z",
     "iopub.status.busy": "2025-03-06T12:43:04.352081Z",
     "iopub.status.idle": "2025-03-06T12:43:04.371280Z",
     "shell.execute_reply": "2025-03-06T12:43:04.370177Z"
    },
    "papermill": {
     "duration": 0.023753,
     "end_time": "2025-03-06T12:43:04.372724",
     "exception": false,
     "start_time": "2025-03-06T12:43:04.348971",
     "status": "completed"
    },
    "tags": []
   },
   "outputs": [
    {
     "data": {
      "text/html": [
       "<div>\n",
       "<style scoped>\n",
       "    .dataframe tbody tr th:only-of-type {\n",
       "        vertical-align: middle;\n",
       "    }\n",
       "\n",
       "    .dataframe tbody tr th {\n",
       "        vertical-align: top;\n",
       "    }\n",
       "\n",
       "    .dataframe thead th {\n",
       "        text-align: right;\n",
       "    }\n",
       "</style>\n",
       "<table border=\"1\" class=\"dataframe\">\n",
       "  <thead>\n",
       "    <tr style=\"text-align: right;\">\n",
       "      <th></th>\n",
       "      <th>Id</th>\n",
       "      <th>ProductId</th>\n",
       "      <th>UserId</th>\n",
       "      <th>ProfileName</th>\n",
       "      <th>HelpfulnessNumerator</th>\n",
       "      <th>HelpfulnessDenominator</th>\n",
       "      <th>Score</th>\n",
       "      <th>Time</th>\n",
       "      <th>Summary</th>\n",
       "      <th>Text</th>\n",
       "    </tr>\n",
       "  </thead>\n",
       "  <tbody>\n",
       "    <tr>\n",
       "      <th>0</th>\n",
       "      <td>1</td>\n",
       "      <td>B001E4KFG0</td>\n",
       "      <td>A3SGXH7AUHU8GW</td>\n",
       "      <td>delmartian</td>\n",
       "      <td>1</td>\n",
       "      <td>1</td>\n",
       "      <td>5</td>\n",
       "      <td>1303862400</td>\n",
       "      <td>Good Quality Dog Food</td>\n",
       "      <td>I have bought several of the Vitality canned d...</td>\n",
       "    </tr>\n",
       "    <tr>\n",
       "      <th>1</th>\n",
       "      <td>2</td>\n",
       "      <td>B00813GRG4</td>\n",
       "      <td>A1D87F6ZCVE5NK</td>\n",
       "      <td>dll pa</td>\n",
       "      <td>0</td>\n",
       "      <td>0</td>\n",
       "      <td>1</td>\n",
       "      <td>1346976000</td>\n",
       "      <td>Not as Advertised</td>\n",
       "      <td>Product arrived labeled as Jumbo Salted Peanut...</td>\n",
       "    </tr>\n",
       "    <tr>\n",
       "      <th>2</th>\n",
       "      <td>3</td>\n",
       "      <td>B000LQOCH0</td>\n",
       "      <td>ABXLMWJIXXAIN</td>\n",
       "      <td>Natalia Corres \"Natalia Corres\"</td>\n",
       "      <td>1</td>\n",
       "      <td>1</td>\n",
       "      <td>4</td>\n",
       "      <td>1219017600</td>\n",
       "      <td>\"Delight\" says it all</td>\n",
       "      <td>This is a confection that has been around a fe...</td>\n",
       "    </tr>\n",
       "    <tr>\n",
       "      <th>3</th>\n",
       "      <td>4</td>\n",
       "      <td>B000UA0QIQ</td>\n",
       "      <td>A395BORC6FGVXV</td>\n",
       "      <td>Karl</td>\n",
       "      <td>3</td>\n",
       "      <td>3</td>\n",
       "      <td>2</td>\n",
       "      <td>1307923200</td>\n",
       "      <td>Cough Medicine</td>\n",
       "      <td>If you are looking for the secret ingredient i...</td>\n",
       "    </tr>\n",
       "    <tr>\n",
       "      <th>4</th>\n",
       "      <td>5</td>\n",
       "      <td>B006K2ZZ7K</td>\n",
       "      <td>A1UQRSCLF8GW1T</td>\n",
       "      <td>Michael D. Bigham \"M. Wassir\"</td>\n",
       "      <td>0</td>\n",
       "      <td>0</td>\n",
       "      <td>5</td>\n",
       "      <td>1350777600</td>\n",
       "      <td>Great taffy</td>\n",
       "      <td>Great taffy at a great price.  There was a wid...</td>\n",
       "    </tr>\n",
       "  </tbody>\n",
       "</table>\n",
       "</div>"
      ],
      "text/plain": [
       "   Id   ProductId          UserId                      ProfileName  \\\n",
       "0   1  B001E4KFG0  A3SGXH7AUHU8GW                       delmartian   \n",
       "1   2  B00813GRG4  A1D87F6ZCVE5NK                           dll pa   \n",
       "2   3  B000LQOCH0   ABXLMWJIXXAIN  Natalia Corres \"Natalia Corres\"   \n",
       "3   4  B000UA0QIQ  A395BORC6FGVXV                             Karl   \n",
       "4   5  B006K2ZZ7K  A1UQRSCLF8GW1T    Michael D. Bigham \"M. Wassir\"   \n",
       "\n",
       "   HelpfulnessNumerator  HelpfulnessDenominator  Score        Time  \\\n",
       "0                     1                       1      5  1303862400   \n",
       "1                     0                       0      1  1346976000   \n",
       "2                     1                       1      4  1219017600   \n",
       "3                     3                       3      2  1307923200   \n",
       "4                     0                       0      5  1350777600   \n",
       "\n",
       "                 Summary                                               Text  \n",
       "0  Good Quality Dog Food  I have bought several of the Vitality canned d...  \n",
       "1      Not as Advertised  Product arrived labeled as Jumbo Salted Peanut...  \n",
       "2  \"Delight\" says it all  This is a confection that has been around a fe...  \n",
       "3         Cough Medicine  If you are looking for the secret ingredient i...  \n",
       "4            Great taffy  Great taffy at a great price.  There was a wid...  "
      ]
     },
     "execution_count": 5,
     "metadata": {},
     "output_type": "execute_result"
    }
   ],
   "source": [
    "dataset.head(5)"
   ]
  },
  {
   "cell_type": "markdown",
   "id": "c1cc493a",
   "metadata": {
    "papermill": {
     "duration": 0.002351,
     "end_time": "2025-03-06T12:43:04.378116",
     "exception": false,
     "start_time": "2025-03-06T12:43:04.375765",
     "status": "completed"
    },
    "tags": []
   },
   "source": []
  },
  {
   "cell_type": "code",
   "execution_count": 6,
   "id": "32231e67",
   "metadata": {
    "execution": {
     "iopub.execute_input": "2025-03-06T12:43:04.384337Z",
     "iopub.status.busy": "2025-03-06T12:43:04.383988Z",
     "iopub.status.idle": "2025-03-06T12:43:04.406205Z",
     "shell.execute_reply": "2025-03-06T12:43:04.404922Z"
    },
    "papermill": {
     "duration": 0.027223,
     "end_time": "2025-03-06T12:43:04.407847",
     "exception": false,
     "start_time": "2025-03-06T12:43:04.380624",
     "status": "completed"
    },
    "tags": []
   },
   "outputs": [
    {
     "name": "stdout",
     "output_type": "stream",
     "text": [
      "   Score                                               Text\n",
      "0      5  I have bought several of the Vitality canned d...\n",
      "1      1  Product arrived labeled as Jumbo Salted Peanut...\n",
      "2      4  This is a confection that has been around a fe...\n",
      "3      2  If you are looking for the secret ingredient i...\n",
      "4      5  Great taffy at a great price.  There was a wid...\n"
     ]
    }
   ],
   "source": [
    "print(dataset[['Score','Text']].head(5))"
   ]
  },
  {
   "cell_type": "code",
   "execution_count": 7,
   "id": "ad1e9b7d",
   "metadata": {
    "execution": {
     "iopub.execute_input": "2025-03-06T12:43:04.414667Z",
     "iopub.status.busy": "2025-03-06T12:43:04.414356Z",
     "iopub.status.idle": "2025-03-06T12:43:04.462526Z",
     "shell.execute_reply": "2025-03-06T12:43:04.461198Z"
    },
    "papermill": {
     "duration": 0.053016,
     "end_time": "2025-03-06T12:43:04.463891",
     "exception": false,
     "start_time": "2025-03-06T12:43:04.410875",
     "status": "completed"
    },
    "tags": []
   },
   "outputs": [
    {
     "name": "stdout",
     "output_type": "stream",
     "text": [
      "                                                     Text  \\\n",
      "337034  I thought this would be a good but the flavor ...   \n",
      "330873  Adopted a rescue Irish Setter and used this to...   \n",
      "187837  These are not the same as regular rice krispie...   \n",
      "400221  The sweetening in this is very slight, the str...   \n",
      "197473  Dogs love it and even tho I lost the round thi...   \n",
      "...                                                   ...   \n",
      "274540  It worked for me...but I think the taste did a...   \n",
      "190834  This product is not too good! If you are looki...   \n",
      "349740  I'm so glad you emailed.  I have been trying t...   \n",
      "280656  This is a great sauce...it's not the hottest b...   \n",
      "6288    This 2 lb box of chocolates was a wonderful gi...   \n",
      "\n",
      "                                 Summary  Score  \n",
      "337034                       Not so good      2  \n",
      "330873         Goat milk Rescue dog food      5  \n",
      "187837                      Good product      4  \n",
      "400221                         spot on !      5  \n",
      "197473                   Nice little toy      4  \n",
      "...                                  ...    ...  \n",
      "274540                             Yuck!      2  \n",
      "190834    Chef Boyardee Cheese Pizza Mix      2  \n",
      "349740                         Different      1  \n",
      "280656  The Original Buffalo Wing Sauce!      5  \n",
      "6288                  A wonderful gift!!      5  \n",
      "\n",
      "[1000 rows x 3 columns]\n"
     ]
    }
   ],
   "source": [
    "lmtpData=dataset[['Text','Summary','Score']].sample(n=1000)\n",
    "print(lmtpData)"
   ]
  },
  {
   "cell_type": "markdown",
   "id": "ee2482f4",
   "metadata": {
    "papermill": {
     "duration": 0.002532,
     "end_time": "2025-03-06T12:43:04.469494",
     "exception": false,
     "start_time": "2025-03-06T12:43:04.466962",
     "status": "completed"
    },
    "tags": []
   },
   "source": [
    "### ADDING SENTIMENT COLUMN"
   ]
  },
  {
   "cell_type": "code",
   "execution_count": 8,
   "id": "0231beac",
   "metadata": {
    "execution": {
     "iopub.execute_input": "2025-03-06T12:43:04.476092Z",
     "iopub.status.busy": "2025-03-06T12:43:04.475740Z",
     "iopub.status.idle": "2025-03-06T12:43:04.485799Z",
     "shell.execute_reply": "2025-03-06T12:43:04.484648Z"
    },
    "papermill": {
     "duration": 0.015389,
     "end_time": "2025-03-06T12:43:04.487573",
     "exception": false,
     "start_time": "2025-03-06T12:43:04.472184",
     "status": "completed"
    },
    "tags": []
   },
   "outputs": [
    {
     "data": {
      "text/html": [
       "<div>\n",
       "<style scoped>\n",
       "    .dataframe tbody tr th:only-of-type {\n",
       "        vertical-align: middle;\n",
       "    }\n",
       "\n",
       "    .dataframe tbody tr th {\n",
       "        vertical-align: top;\n",
       "    }\n",
       "\n",
       "    .dataframe thead th {\n",
       "        text-align: right;\n",
       "    }\n",
       "</style>\n",
       "<table border=\"1\" class=\"dataframe\">\n",
       "  <thead>\n",
       "    <tr style=\"text-align: right;\">\n",
       "      <th></th>\n",
       "      <th>Text</th>\n",
       "      <th>Summary</th>\n",
       "      <th>Score</th>\n",
       "      <th>Sentiment</th>\n",
       "    </tr>\n",
       "  </thead>\n",
       "  <tbody>\n",
       "    <tr>\n",
       "      <th>337034</th>\n",
       "      <td>I thought this would be a good but the flavor ...</td>\n",
       "      <td>Not so good</td>\n",
       "      <td>2</td>\n",
       "      <td>0</td>\n",
       "    </tr>\n",
       "    <tr>\n",
       "      <th>330873</th>\n",
       "      <td>Adopted a rescue Irish Setter and used this to...</td>\n",
       "      <td>Goat milk Rescue dog food</td>\n",
       "      <td>5</td>\n",
       "      <td>1</td>\n",
       "    </tr>\n",
       "    <tr>\n",
       "      <th>187837</th>\n",
       "      <td>These are not the same as regular rice krispie...</td>\n",
       "      <td>Good product</td>\n",
       "      <td>4</td>\n",
       "      <td>1</td>\n",
       "    </tr>\n",
       "    <tr>\n",
       "      <th>400221</th>\n",
       "      <td>The sweetening in this is very slight, the str...</td>\n",
       "      <td>spot on !</td>\n",
       "      <td>5</td>\n",
       "      <td>1</td>\n",
       "    </tr>\n",
       "    <tr>\n",
       "      <th>197473</th>\n",
       "      <td>Dogs love it and even tho I lost the round thi...</td>\n",
       "      <td>Nice little toy</td>\n",
       "      <td>4</td>\n",
       "      <td>1</td>\n",
       "    </tr>\n",
       "  </tbody>\n",
       "</table>\n",
       "</div>"
      ],
      "text/plain": [
       "                                                     Text  \\\n",
       "337034  I thought this would be a good but the flavor ...   \n",
       "330873  Adopted a rescue Irish Setter and used this to...   \n",
       "187837  These are not the same as regular rice krispie...   \n",
       "400221  The sweetening in this is very slight, the str...   \n",
       "197473  Dogs love it and even tho I lost the round thi...   \n",
       "\n",
       "                          Summary  Score  Sentiment  \n",
       "337034                Not so good      2          0  \n",
       "330873  Goat milk Rescue dog food      5          1  \n",
       "187837               Good product      4          1  \n",
       "400221                  spot on !      5          1  \n",
       "197473            Nice little toy      4          1  "
      ]
     },
     "execution_count": 8,
     "metadata": {},
     "output_type": "execute_result"
    }
   ],
   "source": [
    "#0-negative, 1-positive\n",
    "def lblScore(score):\n",
    "    if score<=2:\n",
    "        return 0\n",
    "    elif score>=4:\n",
    "        return 1\n",
    "    else:\n",
    "        return 2\n",
    "lmtpData['Sentiment']=lmtpData['Score'].apply(lblScore)\n",
    "lmtpData.head(5)"
   ]
  },
  {
   "cell_type": "code",
   "execution_count": 9,
   "id": "1df7c470",
   "metadata": {
    "execution": {
     "iopub.execute_input": "2025-03-06T12:43:04.494760Z",
     "iopub.status.busy": "2025-03-06T12:43:04.494453Z",
     "iopub.status.idle": "2025-03-06T12:43:04.502530Z",
     "shell.execute_reply": "2025-03-06T12:43:04.501675Z"
    },
    "papermill": {
     "duration": 0.012872,
     "end_time": "2025-03-06T12:43:04.503852",
     "exception": false,
     "start_time": "2025-03-06T12:43:04.490980",
     "status": "completed"
    },
    "tags": []
   },
   "outputs": [
    {
     "data": {
      "text/plain": [
       "Sentiment\n",
       "1    788\n",
       "0    139\n",
       "2     73\n",
       "Name: count, dtype: int64"
      ]
     },
     "execution_count": 9,
     "metadata": {},
     "output_type": "execute_result"
    }
   ],
   "source": [
    "lmtpData['Sentiment'].value_counts()"
   ]
  },
  {
   "cell_type": "markdown",
   "id": "c277e7c5",
   "metadata": {
    "papermill": {
     "duration": 0.00282,
     "end_time": "2025-03-06T12:43:04.509926",
     "exception": false,
     "start_time": "2025-03-06T12:43:04.507106",
     "status": "completed"
    },
    "tags": []
   },
   "source": [
    "## BALANCING CLASSES\n"
   ]
  },
  {
   "cell_type": "markdown",
   "id": "95e7c877",
   "metadata": {
    "execution": {
     "iopub.execute_input": "2025-03-06T12:31:15.045476Z",
     "iopub.status.busy": "2025-03-06T12:31:15.045080Z",
     "iopub.status.idle": "2025-03-06T12:31:15.049290Z",
     "shell.execute_reply": "2025-03-06T12:31:15.048323Z",
     "shell.execute_reply.started": "2025-03-06T12:31:15.045438Z"
    },
    "papermill": {
     "duration": 0.002537,
     "end_time": "2025-03-06T12:43:04.515269",
     "exception": false,
     "start_time": "2025-03-06T12:43:04.512732",
     "status": "completed"
    },
    "tags": []
   },
   "source": [
    "#### VECTORS"
   ]
  },
  {
   "cell_type": "code",
   "execution_count": 10,
   "id": "80b0598e",
   "metadata": {
    "execution": {
     "iopub.execute_input": "2025-03-06T12:43:04.522343Z",
     "iopub.status.busy": "2025-03-06T12:43:04.521996Z",
     "iopub.status.idle": "2025-03-06T12:43:04.526062Z",
     "shell.execute_reply": "2025-03-06T12:43:04.525115Z"
    },
    "papermill": {
     "duration": 0.009419,
     "end_time": "2025-03-06T12:43:04.527523",
     "exception": false,
     "start_time": "2025-03-06T12:43:04.518104",
     "status": "completed"
    },
    "tags": []
   },
   "outputs": [],
   "source": [
    "import numpy as np\n",
    "glove_path=\"/kaggle/input/glove6b/glove.6B.100d.txt\""
   ]
  }
 ],
 "metadata": {
  "kaggle": {
   "accelerator": "none",
   "dataSources": [
    {
     "datasetId": 18,
     "sourceId": 2157,
     "sourceType": "datasetVersion"
    }
   ],
   "dockerImageVersionId": 30918,
   "isGpuEnabled": false,
   "isInternetEnabled": true,
   "language": "python",
   "sourceType": "notebook"
  },
  "kernelspec": {
   "display_name": "Python 3",
   "language": "python",
   "name": "python3"
  },
  "language_info": {
   "codemirror_mode": {
    "name": "ipython",
    "version": 3
   },
   "file_extension": ".py",
   "mimetype": "text/x-python",
   "name": "python",
   "nbconvert_exporter": "python",
   "pygments_lexer": "ipython3",
   "version": "3.10.12"
  },
  "papermill": {
   "default_parameters": {},
   "duration": 11.185385,
   "end_time": "2025-03-06T12:43:05.150069",
   "environment_variables": {},
   "exception": null,
   "input_path": "__notebook__.ipynb",
   "output_path": "__notebook__.ipynb",
   "parameters": {},
   "start_time": "2025-03-06T12:42:53.964684",
   "version": "2.6.0"
  }
 },
 "nbformat": 4,
 "nbformat_minor": 5
}
