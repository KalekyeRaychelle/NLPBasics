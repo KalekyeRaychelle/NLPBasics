{
 "cells": [
  {
   "cell_type": "code",
   "execution_count": 1,
   "id": "d581a2a1",
   "metadata": {
    "_cell_guid": "b1076dfc-b9ad-4769-8c92-a6c4dae69d19",
    "_uuid": "8f2839f25d086af736a60e9eeb907d3b93b6e0e5",
    "execution": {
     "iopub.execute_input": "2025-03-10T10:53:03.654637Z",
     "iopub.status.busy": "2025-03-10T10:53:03.654209Z",
     "iopub.status.idle": "2025-03-10T10:53:04.597292Z",
     "shell.execute_reply": "2025-03-10T10:53:04.596010Z"
    },
    "papermill": {
     "duration": 0.957663,
     "end_time": "2025-03-10T10:53:04.599148",
     "exception": false,
     "start_time": "2025-03-10T10:53:03.641485",
     "status": "completed"
    },
    "tags": []
   },
   "outputs": [
    {
     "name": "stdout",
     "output_type": "stream",
     "text": [
      "/kaggle/input/amazon-fine-food-reviews/hashes.txt\n",
      "/kaggle/input/amazon-fine-food-reviews/Reviews.csv\n",
      "/kaggle/input/amazon-fine-food-reviews/database.sqlite\n",
      "/kaggle/input/glove-6b-100-d/glove.6B.100d.txt\n"
     ]
    }
   ],
   "source": [
    "# This Python 3 environment comes with many helpful analytics libraries installed\n",
    "# It is defined by the kaggle/python Docker image: https://github.com/kaggle/docker-python\n",
    "# For example, here's several helpful packages to load\n",
    "\n",
    "import numpy as np # linear algebra\n",
    "import pandas as pd # data processing, CSV file I/O (e.g. pd.read_csv)\n",
    "\n",
    "# Input data files are available in the read-only \"../input/\" directory\n",
    "# For example, running this (by clicking run or pressing Shift+Enter) will list all files under the input directory\n",
    "\n",
    "import os\n",
    "for dirname, _, filenames in os.walk('/kaggle/input'):\n",
    "    for filename in filenames:\n",
    "        print(os.path.join(dirname, filename))\n",
    "\n",
    "# You can write up to 20GB to the current directory (/kaggle/working/) that gets preserved as output when you create a version using \"Save & Run All\" \n",
    "# You can also write temporary files to /kaggle/temp/, but they won't be saved outside of the current session"
   ]
  },
  {
   "cell_type": "code",
   "execution_count": 2,
   "id": "feccc199",
   "metadata": {
    "execution": {
     "iopub.execute_input": "2025-03-10T10:53:04.622611Z",
     "iopub.status.busy": "2025-03-10T10:53:04.622065Z",
     "iopub.status.idle": "2025-03-10T10:53:04.626355Z",
     "shell.execute_reply": "2025-03-10T10:53:04.625453Z"
    },
    "papermill": {
     "duration": 0.017432,
     "end_time": "2025-03-10T10:53:04.627899",
     "exception": false,
     "start_time": "2025-03-10T10:53:04.610467",
     "status": "completed"
    },
    "tags": []
   },
   "outputs": [],
   "source": [
    "import pandas as pd"
   ]
  },
  {
   "cell_type": "code",
   "execution_count": 3,
   "id": "e6159db6",
   "metadata": {
    "execution": {
     "iopub.execute_input": "2025-03-10T10:53:04.650573Z",
     "iopub.status.busy": "2025-03-10T10:53:04.650181Z",
     "iopub.status.idle": "2025-03-10T10:53:12.543016Z",
     "shell.execute_reply": "2025-03-10T10:53:12.541990Z"
    },
    "papermill": {
     "duration": 7.906296,
     "end_time": "2025-03-10T10:53:12.544991",
     "exception": false,
     "start_time": "2025-03-10T10:53:04.638695",
     "status": "completed"
    },
    "tags": []
   },
   "outputs": [],
   "source": [
    "dataset=pd.read_csv(r\"/kaggle/input/amazon-fine-food-reviews/Reviews.csv\")"
   ]
  },
  {
   "cell_type": "code",
   "execution_count": 4,
   "id": "29d1fd5e",
   "metadata": {
    "execution": {
     "iopub.execute_input": "2025-03-10T10:53:12.568774Z",
     "iopub.status.busy": "2025-03-10T10:53:12.568409Z",
     "iopub.status.idle": "2025-03-10T10:53:12.572731Z",
     "shell.execute_reply": "2025-03-10T10:53:12.571814Z"
    },
    "papermill": {
     "duration": 0.017795,
     "end_time": "2025-03-10T10:53:12.574453",
     "exception": false,
     "start_time": "2025-03-10T10:53:12.556658",
     "status": "completed"
    },
    "tags": []
   },
   "outputs": [],
   "source": [
    "pd.set_option('display.max_colwidth', None)\n"
   ]
  },
  {
   "cell_type": "code",
   "execution_count": 5,
   "id": "9391bdd7",
   "metadata": {
    "execution": {
     "iopub.execute_input": "2025-03-10T10:53:12.597815Z",
     "iopub.status.busy": "2025-03-10T10:53:12.597476Z",
     "iopub.status.idle": "2025-03-10T10:53:12.818638Z",
     "shell.execute_reply": "2025-03-10T10:53:12.817428Z"
    },
    "papermill": {
     "duration": 0.234814,
     "end_time": "2025-03-10T10:53:12.820593",
     "exception": false,
     "start_time": "2025-03-10T10:53:12.585779",
     "status": "completed"
    },
    "tags": []
   },
   "outputs": [
    {
     "name": "stdout",
     "output_type": "stream",
     "text": [
      "<class 'pandas.core.frame.DataFrame'>\n",
      "RangeIndex: 568454 entries, 0 to 568453\n",
      "Data columns (total 10 columns):\n",
      " #   Column                  Non-Null Count   Dtype \n",
      "---  ------                  --------------   ----- \n",
      " 0   Id                      568454 non-null  int64 \n",
      " 1   ProductId               568454 non-null  object\n",
      " 2   UserId                  568454 non-null  object\n",
      " 3   ProfileName             568428 non-null  object\n",
      " 4   HelpfulnessNumerator    568454 non-null  int64 \n",
      " 5   HelpfulnessDenominator  568454 non-null  int64 \n",
      " 6   Score                   568454 non-null  int64 \n",
      " 7   Time                    568454 non-null  int64 \n",
      " 8   Summary                 568427 non-null  object\n",
      " 9   Text                    568454 non-null  object\n",
      "dtypes: int64(5), object(5)\n",
      "memory usage: 43.4+ MB\n"
     ]
    }
   ],
   "source": [
    "dataset.info()"
   ]
  },
  {
   "cell_type": "code",
   "execution_count": 6,
   "id": "39916756",
   "metadata": {
    "execution": {
     "iopub.execute_input": "2025-03-10T10:53:12.845149Z",
     "iopub.status.busy": "2025-03-10T10:53:12.844814Z",
     "iopub.status.idle": "2025-03-10T10:53:12.870400Z",
     "shell.execute_reply": "2025-03-10T10:53:12.869066Z"
    },
    "papermill": {
     "duration": 0.03951,
     "end_time": "2025-03-10T10:53:12.872251",
     "exception": false,
     "start_time": "2025-03-10T10:53:12.832741",
     "status": "completed"
    },
    "tags": []
   },
   "outputs": [
    {
     "data": {
      "text/html": [
       "<div>\n",
       "<style scoped>\n",
       "    .dataframe tbody tr th:only-of-type {\n",
       "        vertical-align: middle;\n",
       "    }\n",
       "\n",
       "    .dataframe tbody tr th {\n",
       "        vertical-align: top;\n",
       "    }\n",
       "\n",
       "    .dataframe thead th {\n",
       "        text-align: right;\n",
       "    }\n",
       "</style>\n",
       "<table border=\"1\" class=\"dataframe\">\n",
       "  <thead>\n",
       "    <tr style=\"text-align: right;\">\n",
       "      <th></th>\n",
       "      <th>Id</th>\n",
       "      <th>ProductId</th>\n",
       "      <th>UserId</th>\n",
       "      <th>ProfileName</th>\n",
       "      <th>HelpfulnessNumerator</th>\n",
       "      <th>HelpfulnessDenominator</th>\n",
       "      <th>Score</th>\n",
       "      <th>Time</th>\n",
       "      <th>Summary</th>\n",
       "      <th>Text</th>\n",
       "    </tr>\n",
       "  </thead>\n",
       "  <tbody>\n",
       "    <tr>\n",
       "      <th>0</th>\n",
       "      <td>1</td>\n",
       "      <td>B001E4KFG0</td>\n",
       "      <td>A3SGXH7AUHU8GW</td>\n",
       "      <td>delmartian</td>\n",
       "      <td>1</td>\n",
       "      <td>1</td>\n",
       "      <td>5</td>\n",
       "      <td>1303862400</td>\n",
       "      <td>Good Quality Dog Food</td>\n",
       "      <td>I have bought several of the Vitality canned dog food products and have found them all to be of good quality. The product looks more like a stew than a processed meat and it smells better. My Labrador is finicky and she appreciates this product better than  most.</td>\n",
       "    </tr>\n",
       "    <tr>\n",
       "      <th>1</th>\n",
       "      <td>2</td>\n",
       "      <td>B00813GRG4</td>\n",
       "      <td>A1D87F6ZCVE5NK</td>\n",
       "      <td>dll pa</td>\n",
       "      <td>0</td>\n",
       "      <td>0</td>\n",
       "      <td>1</td>\n",
       "      <td>1346976000</td>\n",
       "      <td>Not as Advertised</td>\n",
       "      <td>Product arrived labeled as Jumbo Salted Peanuts...the peanuts were actually small sized unsalted. Not sure if this was an error or if the vendor intended to represent the product as \"Jumbo\".</td>\n",
       "    </tr>\n",
       "    <tr>\n",
       "      <th>2</th>\n",
       "      <td>3</td>\n",
       "      <td>B000LQOCH0</td>\n",
       "      <td>ABXLMWJIXXAIN</td>\n",
       "      <td>Natalia Corres \"Natalia Corres\"</td>\n",
       "      <td>1</td>\n",
       "      <td>1</td>\n",
       "      <td>4</td>\n",
       "      <td>1219017600</td>\n",
       "      <td>\"Delight\" says it all</td>\n",
       "      <td>This is a confection that has been around a few centuries.  It is a light, pillowy citrus gelatin with nuts - in this case Filberts. And it is cut into tiny squares and then liberally coated with powdered sugar.  And it is a tiny mouthful of heaven.  Not too chewy, and very flavorful.  I highly recommend this yummy treat.  If you are familiar with the story of C.S. Lewis' \"The Lion, The Witch, and The Wardrobe\" - this is the treat that seduces Edmund into selling out his Brother and Sisters to the Witch.</td>\n",
       "    </tr>\n",
       "    <tr>\n",
       "      <th>3</th>\n",
       "      <td>4</td>\n",
       "      <td>B000UA0QIQ</td>\n",
       "      <td>A395BORC6FGVXV</td>\n",
       "      <td>Karl</td>\n",
       "      <td>3</td>\n",
       "      <td>3</td>\n",
       "      <td>2</td>\n",
       "      <td>1307923200</td>\n",
       "      <td>Cough Medicine</td>\n",
       "      <td>If you are looking for the secret ingredient in Robitussin I believe I have found it.  I got this in addition to the Root Beer Extract I ordered (which was good) and made some cherry soda.  The flavor is very medicinal.</td>\n",
       "    </tr>\n",
       "    <tr>\n",
       "      <th>4</th>\n",
       "      <td>5</td>\n",
       "      <td>B006K2ZZ7K</td>\n",
       "      <td>A1UQRSCLF8GW1T</td>\n",
       "      <td>Michael D. Bigham \"M. Wassir\"</td>\n",
       "      <td>0</td>\n",
       "      <td>0</td>\n",
       "      <td>5</td>\n",
       "      <td>1350777600</td>\n",
       "      <td>Great taffy</td>\n",
       "      <td>Great taffy at a great price.  There was a wide assortment of yummy taffy.  Delivery was very quick.  If your a taffy lover, this is a deal.</td>\n",
       "    </tr>\n",
       "  </tbody>\n",
       "</table>\n",
       "</div>"
      ],
      "text/plain": [
       "   Id   ProductId          UserId                      ProfileName  \\\n",
       "0   1  B001E4KFG0  A3SGXH7AUHU8GW                       delmartian   \n",
       "1   2  B00813GRG4  A1D87F6ZCVE5NK                           dll pa   \n",
       "2   3  B000LQOCH0   ABXLMWJIXXAIN  Natalia Corres \"Natalia Corres\"   \n",
       "3   4  B000UA0QIQ  A395BORC6FGVXV                             Karl   \n",
       "4   5  B006K2ZZ7K  A1UQRSCLF8GW1T    Michael D. Bigham \"M. Wassir\"   \n",
       "\n",
       "   HelpfulnessNumerator  HelpfulnessDenominator  Score        Time  \\\n",
       "0                     1                       1      5  1303862400   \n",
       "1                     0                       0      1  1346976000   \n",
       "2                     1                       1      4  1219017600   \n",
       "3                     3                       3      2  1307923200   \n",
       "4                     0                       0      5  1350777600   \n",
       "\n",
       "                 Summary  \\\n",
       "0  Good Quality Dog Food   \n",
       "1      Not as Advertised   \n",
       "2  \"Delight\" says it all   \n",
       "3         Cough Medicine   \n",
       "4            Great taffy   \n",
       "\n",
       "                                                                                                                                                                                                                                                                                                                                                                                                                                                                                                                            Text  \n",
       "0                                                                                                                                                                                                                                                        I have bought several of the Vitality canned dog food products and have found them all to be of good quality. The product looks more like a stew than a processed meat and it smells better. My Labrador is finicky and she appreciates this product better than  most.  \n",
       "1                                                                                                                                                                                                                                                                                                                                 Product arrived labeled as Jumbo Salted Peanuts...the peanuts were actually small sized unsalted. Not sure if this was an error or if the vendor intended to represent the product as \"Jumbo\".  \n",
       "2  This is a confection that has been around a few centuries.  It is a light, pillowy citrus gelatin with nuts - in this case Filberts. And it is cut into tiny squares and then liberally coated with powdered sugar.  And it is a tiny mouthful of heaven.  Not too chewy, and very flavorful.  I highly recommend this yummy treat.  If you are familiar with the story of C.S. Lewis' \"The Lion, The Witch, and The Wardrobe\" - this is the treat that seduces Edmund into selling out his Brother and Sisters to the Witch.  \n",
       "3                                                                                                                                                                                                                                                                                                    If you are looking for the secret ingredient in Robitussin I believe I have found it.  I got this in addition to the Root Beer Extract I ordered (which was good) and made some cherry soda.  The flavor is very medicinal.  \n",
       "4                                                                                                                                                                                                                                                                                                                                                                                   Great taffy at a great price.  There was a wide assortment of yummy taffy.  Delivery was very quick.  If your a taffy lover, this is a deal.  "
      ]
     },
     "execution_count": 6,
     "metadata": {},
     "output_type": "execute_result"
    }
   ],
   "source": [
    "dataset.head(5)"
   ]
  },
  {
   "cell_type": "code",
   "execution_count": 7,
   "id": "68449f62",
   "metadata": {
    "execution": {
     "iopub.execute_input": "2025-03-10T10:53:12.896481Z",
     "iopub.status.busy": "2025-03-10T10:53:12.896070Z",
     "iopub.status.idle": "2025-03-10T10:53:12.926899Z",
     "shell.execute_reply": "2025-03-10T10:53:12.925671Z"
    },
    "papermill": {
     "duration": 0.0451,
     "end_time": "2025-03-10T10:53:12.928907",
     "exception": false,
     "start_time": "2025-03-10T10:53:12.883807",
     "status": "completed"
    },
    "tags": []
   },
   "outputs": [
    {
     "name": "stdout",
     "output_type": "stream",
     "text": [
      "   Score  \\\n",
      "0      5   \n",
      "1      1   \n",
      "2      4   \n",
      "3      2   \n",
      "4      5   \n",
      "\n",
      "                                                                                                                                                                                                                                                                                                                                                                                                                                                                                                                            Text  \n",
      "0                                                                                                                                                                                                                                                        I have bought several of the Vitality canned dog food products and have found them all to be of good quality. The product looks more like a stew than a processed meat and it smells better. My Labrador is finicky and she appreciates this product better than  most.  \n",
      "1                                                                                                                                                                                                                                                                                                                                 Product arrived labeled as Jumbo Salted Peanuts...the peanuts were actually small sized unsalted. Not sure if this was an error or if the vendor intended to represent the product as \"Jumbo\".  \n",
      "2  This is a confection that has been around a few centuries.  It is a light, pillowy citrus gelatin with nuts - in this case Filberts. And it is cut into tiny squares and then liberally coated with powdered sugar.  And it is a tiny mouthful of heaven.  Not too chewy, and very flavorful.  I highly recommend this yummy treat.  If you are familiar with the story of C.S. Lewis' \"The Lion, The Witch, and The Wardrobe\" - this is the treat that seduces Edmund into selling out his Brother and Sisters to the Witch.  \n",
      "3                                                                                                                                                                                                                                                                                                    If you are looking for the secret ingredient in Robitussin I believe I have found it.  I got this in addition to the Root Beer Extract I ordered (which was good) and made some cherry soda.  The flavor is very medicinal.  \n",
      "4                                                                                                                                                                                                                                                                                                                                                                                   Great taffy at a great price.  There was a wide assortment of yummy taffy.  Delivery was very quick.  If your a taffy lover, this is a deal.  \n"
     ]
    }
   ],
   "source": [
    "print(dataset[['Score','Text']].head(5))"
   ]
  },
  {
   "cell_type": "code",
   "execution_count": 8,
   "id": "b6c31f54",
   "metadata": {
    "execution": {
     "iopub.execute_input": "2025-03-10T10:53:12.953009Z",
     "iopub.status.busy": "2025-03-10T10:53:12.952622Z",
     "iopub.status.idle": "2025-03-10T10:53:13.144178Z",
     "shell.execute_reply": "2025-03-10T10:53:13.142997Z"
    },
    "papermill": {
     "duration": 0.205676,
     "end_time": "2025-03-10T10:53:13.146109",
     "exception": false,
     "start_time": "2025-03-10T10:53:12.940433",
     "status": "completed"
    },
    "tags": []
   },
   "outputs": [
    {
     "name": "stdout",
     "output_type": "stream",
     "text": [
      "Id                         0\n",
      "ProductId                  0\n",
      "UserId                     0\n",
      "ProfileName               26\n",
      "HelpfulnessNumerator       0\n",
      "HelpfulnessDenominator     0\n",
      "Score                      0\n",
      "Time                       0\n",
      "Summary                   27\n",
      "Text                       0\n",
      "dtype: int64\n"
     ]
    }
   ],
   "source": [
    "print(dataset.isna().sum())"
   ]
  },
  {
   "cell_type": "code",
   "execution_count": 9,
   "id": "a3ea0f33",
   "metadata": {
    "execution": {
     "iopub.execute_input": "2025-03-10T10:53:13.170507Z",
     "iopub.status.busy": "2025-03-10T10:53:13.170068Z",
     "iopub.status.idle": "2025-03-10T10:53:13.232630Z",
     "shell.execute_reply": "2025-03-10T10:53:13.230935Z"
    },
    "papermill": {
     "duration": 0.076457,
     "end_time": "2025-03-10T10:53:13.234479",
     "exception": false,
     "start_time": "2025-03-10T10:53:13.158022",
     "status": "completed"
    },
    "tags": []
   },
   "outputs": [
    {
     "name": "stdout",
     "output_type": "stream",
     "text": [
      "                                                                                                                                                                                                                                                                                                                                                                                                                                                                                                                                                                                                                                                                                                                                                                                                                                                                                                                                                                       Text  \\\n",
      "441316                                                                                                                                                                                                                                                                                                                                                                                                                                                                                                                                                                                                                                                                                                                   This is definitely a dessert coffee.  It has a very mild blend of beans and the buttercream flavor lends its flavor to a very mellow brew.  Enjoyable and very palatable, but best enjoyed as a follow up to a meal or as a dessert accompaniment.   \n",
      "185215                                                                                                                                                                                                                                                                                                                                                                                                                                                                                                                                                                                                                                                                                                                I have always loved Swiss Colony for all of their Petits Fours and Bonbons.  They are so delicious and mouth watering, you will absolutely love them!  I know they are a little expensive, but well worth it.  I would highly recommend Swiss Colony!   \n",
      "197013                                                                                                                                                                                                                                                                                                                                                                                                                                                                                                                                                                                                                                                                                                                                                                                                                                                                                      These bars are great!  They are wholesome and excellent for an on the go snack!   \n",
      "509580                                                                                                                                                                                                                                                                                                                                                                                                                                                                                                                                                                                                                                                                                                                                                                                                  Amazon offers this tea at an amazing price compared to our local grocery stores...even when our stores have it on sale.  And with Free Shipping, you can't beat it.   \n",
      "402934  I have a nearly 1 year old golden retriever/standard poodle mix, and a 6 year old german shepherd. The doodle gets the chicken and  brown rice (just switched her a few weeks ago from Nutro Max) and the shepherd gets the healthy weight. I have tried several different foods for the doodle, and many of them caused problems like diarrhea and stinky, stinky farts. With this, while switching from the Nutro Max, she had none of those problems. In fact, I only took 5 days to switch her instead of 2 or so weeks, and she didn't have any digestive problems. Both dogs seem to like it and it is definitely cost effective... several dollars cheaper at my local Wegman's and there are always coupons in the paper. This is a very high quality food for the price, and I like that it's available at the grocery store as I live in a small town. I highly recommend this food and hope to feed it exclusively for as long as my doggies shall live!   \n",
      "...                                                                                                                                                                                                                                                                                                                                                                                                                                                                                                                                                                                                                                                                                                                                                                                                                                                                                                                                                                     ...   \n",
      "371200                                                                                                                                                                                                                                                                                                                                                                                                                                                                                                                                                                                                                                                 My Mother called and just recieved this assortment.  She LOVES it. She said it is a large box, filled with full sized candy and she remembered many of them.<br />She was very suprised and said it was the best gift she has recived so far.  The product was true to the description and was well worth the money.   \n",
      "279625                                                                                                                                                                                                                                                                                                                                                                                                                                                                                                                                                                                                                                                                                                                                                                                                                                                                                            Excellent product and great taste.  It even has a nice spiced bite to it!   \n",
      "421670                                                                                                                                                                                                                                                                                                                                                                                                                                                                                                                                                                                                                                                                                                       I purchased this for massage, but out of curiosity I tasted it, I might buy another just for food use! The smell is WONDERFUL not strong or over powering. Sinks in to skin quickly leaves no grease or oil on your skin, just amazing softness.<br />BUY IT!!   \n",
      "534980                                                                                                                                                                                                                                                                                                                                                                                                                                                                                                                                                                                                           nothing bad to say about these bags. great quality and value, no leaks, holds a lot more than what's marked. i stack them flat in a tupperware in the freezer, then transfer to a larger freezer zip-loc bag for maximum use of my freezer space. also, our milk bank doesn't provide bags to bm donors, so i'm using these to store/freeze for donations.   \n",
      "475536                                                                                                                                                                                                                                                                                                                                                                                                                                                                                                                                                                                                                                                                                                                                                                                    This by far the best Crystal Light product on the market I just wish you would keep making it but an e-mail I just received stated they are going to stop making it this a bummer   \n",
      "\n",
      "                                                         Summary  Score  \n",
      "441316                  Good full flavored cup of dessert coffee      4  \n",
      "185215                                 Mouth Watering Delicious!      5  \n",
      "197013           nature valley's Chewy Trail Mix bars are yummy!      5  \n",
      "509580                                           Best Tea Around      5  \n",
      "402934                  Both formulas are excellent for my dogs!      5  \n",
      "...                                                          ...    ...  \n",
      "371200                                       My Mother loved it!      5  \n",
      "279625                                             Tazo Chai Tea      4  \n",
      "421670  LOVE IT!! LOVE IT!!!  L O V E  IT!!!!!!!!!!!!!!!!!!!!!!!      5  \n",
      "534980                               excellent bags for freezing      5  \n",
      "475536                                             Crystal Light      5  \n",
      "\n",
      "[1000 rows x 3 columns]\n"
     ]
    }
   ],
   "source": [
    "lmtpData=dataset[['Text','Summary','Score']].sample(n=1000)\n",
    "print(lmtpData)"
   ]
  },
  {
   "cell_type": "markdown",
   "id": "1da30d74",
   "metadata": {
    "papermill": {
     "duration": 0.011246,
     "end_time": "2025-03-10T10:53:13.257668",
     "exception": false,
     "start_time": "2025-03-10T10:53:13.246422",
     "status": "completed"
    },
    "tags": []
   },
   "source": [
    "### ADDING SENTIMENT COLUMN"
   ]
  },
  {
   "cell_type": "code",
   "execution_count": 10,
   "id": "20a50b9f",
   "metadata": {
    "execution": {
     "iopub.execute_input": "2025-03-10T10:53:13.282377Z",
     "iopub.status.busy": "2025-03-10T10:53:13.281890Z",
     "iopub.status.idle": "2025-03-10T10:53:13.294601Z",
     "shell.execute_reply": "2025-03-10T10:53:13.293458Z"
    },
    "papermill": {
     "duration": 0.027142,
     "end_time": "2025-03-10T10:53:13.296513",
     "exception": false,
     "start_time": "2025-03-10T10:53:13.269371",
     "status": "completed"
    },
    "tags": []
   },
   "outputs": [
    {
     "data": {
      "text/html": [
       "<div>\n",
       "<style scoped>\n",
       "    .dataframe tbody tr th:only-of-type {\n",
       "        vertical-align: middle;\n",
       "    }\n",
       "\n",
       "    .dataframe tbody tr th {\n",
       "        vertical-align: top;\n",
       "    }\n",
       "\n",
       "    .dataframe thead th {\n",
       "        text-align: right;\n",
       "    }\n",
       "</style>\n",
       "<table border=\"1\" class=\"dataframe\">\n",
       "  <thead>\n",
       "    <tr style=\"text-align: right;\">\n",
       "      <th></th>\n",
       "      <th>Text</th>\n",
       "      <th>Summary</th>\n",
       "      <th>Score</th>\n",
       "      <th>Sentiment</th>\n",
       "    </tr>\n",
       "  </thead>\n",
       "  <tbody>\n",
       "    <tr>\n",
       "      <th>441316</th>\n",
       "      <td>This is definitely a dessert coffee.  It has a very mild blend of beans and the buttercream flavor lends its flavor to a very mellow brew.  Enjoyable and very palatable, but best enjoyed as a follow up to a meal or as a dessert accompaniment.</td>\n",
       "      <td>Good full flavored cup of dessert coffee</td>\n",
       "      <td>4</td>\n",
       "      <td>1</td>\n",
       "    </tr>\n",
       "    <tr>\n",
       "      <th>185215</th>\n",
       "      <td>I have always loved Swiss Colony for all of their Petits Fours and Bonbons.  They are so delicious and mouth watering, you will absolutely love them!  I know they are a little expensive, but well worth it.  I would highly recommend Swiss Colony!</td>\n",
       "      <td>Mouth Watering Delicious!</td>\n",
       "      <td>5</td>\n",
       "      <td>1</td>\n",
       "    </tr>\n",
       "    <tr>\n",
       "      <th>197013</th>\n",
       "      <td>These bars are great!  They are wholesome and excellent for an on the go snack!</td>\n",
       "      <td>nature valley's Chewy Trail Mix bars are yummy!</td>\n",
       "      <td>5</td>\n",
       "      <td>1</td>\n",
       "    </tr>\n",
       "    <tr>\n",
       "      <th>509580</th>\n",
       "      <td>Amazon offers this tea at an amazing price compared to our local grocery stores...even when our stores have it on sale.  And with Free Shipping, you can't beat it.</td>\n",
       "      <td>Best Tea Around</td>\n",
       "      <td>5</td>\n",
       "      <td>1</td>\n",
       "    </tr>\n",
       "    <tr>\n",
       "      <th>402934</th>\n",
       "      <td>I have a nearly 1 year old golden retriever/standard poodle mix, and a 6 year old german shepherd. The doodle gets the chicken and  brown rice (just switched her a few weeks ago from Nutro Max) and the shepherd gets the healthy weight. I have tried several different foods for the doodle, and many of them caused problems like diarrhea and stinky, stinky farts. With this, while switching from the Nutro Max, she had none of those problems. In fact, I only took 5 days to switch her instead of 2 or so weeks, and she didn't have any digestive problems. Both dogs seem to like it and it is definitely cost effective... several dollars cheaper at my local Wegman's and there are always coupons in the paper. This is a very high quality food for the price, and I like that it's available at the grocery store as I live in a small town. I highly recommend this food and hope to feed it exclusively for as long as my doggies shall live!</td>\n",
       "      <td>Both formulas are excellent for my dogs!</td>\n",
       "      <td>5</td>\n",
       "      <td>1</td>\n",
       "    </tr>\n",
       "  </tbody>\n",
       "</table>\n",
       "</div>"
      ],
      "text/plain": [
       "                                                                                                                                                                                                                                                                                                                                                                                                                                                                                                                                                                                                                                                                                                                                                                                                                                                                                                                                                                       Text  \\\n",
       "441316                                                                                                                                                                                                                                                                                                                                                                                                                                                                                                                                                                                                                                                                                                                   This is definitely a dessert coffee.  It has a very mild blend of beans and the buttercream flavor lends its flavor to a very mellow brew.  Enjoyable and very palatable, but best enjoyed as a follow up to a meal or as a dessert accompaniment.   \n",
       "185215                                                                                                                                                                                                                                                                                                                                                                                                                                                                                                                                                                                                                                                                                                                I have always loved Swiss Colony for all of their Petits Fours and Bonbons.  They are so delicious and mouth watering, you will absolutely love them!  I know they are a little expensive, but well worth it.  I would highly recommend Swiss Colony!   \n",
       "197013                                                                                                                                                                                                                                                                                                                                                                                                                                                                                                                                                                                                                                                                                                                                                                                                                                                                                      These bars are great!  They are wholesome and excellent for an on the go snack!   \n",
       "509580                                                                                                                                                                                                                                                                                                                                                                                                                                                                                                                                                                                                                                                                                                                                                                                                  Amazon offers this tea at an amazing price compared to our local grocery stores...even when our stores have it on sale.  And with Free Shipping, you can't beat it.   \n",
       "402934  I have a nearly 1 year old golden retriever/standard poodle mix, and a 6 year old german shepherd. The doodle gets the chicken and  brown rice (just switched her a few weeks ago from Nutro Max) and the shepherd gets the healthy weight. I have tried several different foods for the doodle, and many of them caused problems like diarrhea and stinky, stinky farts. With this, while switching from the Nutro Max, she had none of those problems. In fact, I only took 5 days to switch her instead of 2 or so weeks, and she didn't have any digestive problems. Both dogs seem to like it and it is definitely cost effective... several dollars cheaper at my local Wegman's and there are always coupons in the paper. This is a very high quality food for the price, and I like that it's available at the grocery store as I live in a small town. I highly recommend this food and hope to feed it exclusively for as long as my doggies shall live!   \n",
       "\n",
       "                                                Summary  Score  Sentiment  \n",
       "441316         Good full flavored cup of dessert coffee      4          1  \n",
       "185215                        Mouth Watering Delicious!      5          1  \n",
       "197013  nature valley's Chewy Trail Mix bars are yummy!      5          1  \n",
       "509580                                  Best Tea Around      5          1  \n",
       "402934         Both formulas are excellent for my dogs!      5          1  "
      ]
     },
     "execution_count": 10,
     "metadata": {},
     "output_type": "execute_result"
    }
   ],
   "source": [
    "#0-negative, 1-positive\n",
    "def lblScore(score):\n",
    "    if score<=2:\n",
    "        return 0\n",
    "    elif score>=4:\n",
    "        return 1\n",
    "    else:\n",
    "        return 2\n",
    "lmtpData['Sentiment']=lmtpData['Score'].apply(lblScore)\n",
    "lmtpData.head(5)"
   ]
  },
  {
   "cell_type": "code",
   "execution_count": 11,
   "id": "e366e308",
   "metadata": {
    "execution": {
     "iopub.execute_input": "2025-03-10T10:53:13.321977Z",
     "iopub.status.busy": "2025-03-10T10:53:13.321572Z",
     "iopub.status.idle": "2025-03-10T10:53:13.330500Z",
     "shell.execute_reply": "2025-03-10T10:53:13.329393Z"
    },
    "papermill": {
     "duration": 0.023378,
     "end_time": "2025-03-10T10:53:13.332130",
     "exception": false,
     "start_time": "2025-03-10T10:53:13.308752",
     "status": "completed"
    },
    "tags": []
   },
   "outputs": [
    {
     "data": {
      "text/plain": [
       "Sentiment\n",
       "1    790\n",
       "0    141\n",
       "2     69\n",
       "Name: count, dtype: int64"
      ]
     },
     "execution_count": 11,
     "metadata": {},
     "output_type": "execute_result"
    }
   ],
   "source": [
    "lmtpData['Sentiment'].value_counts()"
   ]
  },
  {
   "cell_type": "markdown",
   "id": "c69e313d",
   "metadata": {
    "execution": {
     "iopub.execute_input": "2025-03-06T12:31:15.045476Z",
     "iopub.status.busy": "2025-03-06T12:31:15.045080Z",
     "iopub.status.idle": "2025-03-06T12:31:15.049290Z",
     "shell.execute_reply": "2025-03-06T12:31:15.048323Z",
     "shell.execute_reply.started": "2025-03-06T12:31:15.045438Z"
    },
    "papermill": {
     "duration": 0.011855,
     "end_time": "2025-03-10T10:53:13.357371",
     "exception": false,
     "start_time": "2025-03-10T10:53:13.345516",
     "status": "completed"
    },
    "tags": []
   },
   "source": [
    "#### VECTORS"
   ]
  },
  {
   "cell_type": "code",
   "execution_count": 12,
   "id": "0624f028",
   "metadata": {
    "execution": {
     "iopub.execute_input": "2025-03-10T10:53:13.382514Z",
     "iopub.status.busy": "2025-03-10T10:53:13.382060Z",
     "iopub.status.idle": "2025-03-10T10:53:24.435547Z",
     "shell.execute_reply": "2025-03-10T10:53:24.434455Z"
    },
    "papermill": {
     "duration": 11.067956,
     "end_time": "2025-03-10T10:53:24.437187",
     "exception": false,
     "start_time": "2025-03-10T10:53:13.369231",
     "status": "completed"
    },
    "tags": []
   },
   "outputs": [
    {
     "name": "stdout",
     "output_type": "stream",
     "text": [
      "Loaded 400000 word vectors.\n"
     ]
    }
   ],
   "source": [
    "import numpy as np\n",
    "\n",
    "glove_path = \"/kaggle/input/glove-6b-100-d/glove.6B.100d.txt\"\n",
    "\n",
    "def loadGloveEmbeddings(filePath, embedding_dim=100):\n",
    "    embeddingsIndex = {}\n",
    "    with open(filePath, encoding=\"utf8\") as f:\n",
    "        for line in f:\n",
    "            values = line.split()\n",
    "            word = values[0]\n",
    "            coefs = np.asarray(values[1:], dtype='float32')\n",
    "            embeddingsIndex[word] = coefs\n",
    "    return embeddingsIndex\n",
    "\n",
    "gloveEmbeddings = loadGloveEmbeddings(glove_path)\n",
    "print(\"Loaded {} word vectors.\".format(len(gloveEmbeddings)))\n",
    "\n",
    "\n",
    "        "
   ]
  },
  {
   "cell_type": "markdown",
   "id": "2e72745f",
   "metadata": {
    "papermill": {
     "duration": 0.011532,
     "end_time": "2025-03-10T10:53:24.460921",
     "exception": false,
     "start_time": "2025-03-10T10:53:24.449389",
     "status": "completed"
    },
    "tags": []
   },
   "source": [
    "#### CREATING EMBEDDING MATRIX"
   ]
  },
  {
   "cell_type": "code",
   "execution_count": 13,
   "id": "b8a7fb7a",
   "metadata": {
    "execution": {
     "iopub.execute_input": "2025-03-10T10:53:24.486085Z",
     "iopub.status.busy": "2025-03-10T10:53:24.485733Z",
     "iopub.status.idle": "2025-03-10T10:53:24.494253Z",
     "shell.execute_reply": "2025-03-10T10:53:24.493028Z"
    },
    "papermill": {
     "duration": 0.023164,
     "end_time": "2025-03-10T10:53:24.495977",
     "exception": false,
     "start_time": "2025-03-10T10:53:24.472813",
     "status": "completed"
    },
    "tags": []
   },
   "outputs": [],
   "source": [
    "lmtpData['Summary']=lmtpData['Summary'].fillna(\"\")\n",
    "lmtpData['CombinedText']=lmtpData['Summary'] + \" \" + lmtpData['Text']\n"
   ]
  },
  {
   "cell_type": "code",
   "execution_count": 14,
   "id": "13cd9b19",
   "metadata": {
    "execution": {
     "iopub.execute_input": "2025-03-10T10:53:24.521317Z",
     "iopub.status.busy": "2025-03-10T10:53:24.520900Z",
     "iopub.status.idle": "2025-03-10T10:53:40.063743Z",
     "shell.execute_reply": "2025-03-10T10:53:40.062545Z"
    },
    "papermill": {
     "duration": 15.55764,
     "end_time": "2025-03-10T10:53:40.065741",
     "exception": false,
     "start_time": "2025-03-10T10:53:24.508101",
     "status": "completed"
    },
    "tags": []
   },
   "outputs": [],
   "source": [
    "#tokenizing\n",
    "from tensorflow.keras.preprocessing.text import Tokenizer\n",
    "from tensorflow.keras.preprocessing.sequence import pad_sequences\n",
    "\n",
    "tokenizer=Tokenizer()\n",
    "tokenizer.fit_on_texts(lmtpData['CombinedText'])\n",
    "sequences=tokenizer.texts_to_sequences(lmtpData['CombinedText'])\n",
    "\n",
    "maxLen=100\n",
    "padded_sequences=pad_sequences(sequences,maxlen=maxLen,padding='post')"
   ]
  },
  {
   "cell_type": "code",
   "execution_count": 15,
   "id": "b1feeb37",
   "metadata": {
    "execution": {
     "iopub.execute_input": "2025-03-10T10:53:40.091564Z",
     "iopub.status.busy": "2025-03-10T10:53:40.090901Z",
     "iopub.status.idle": "2025-03-10T10:53:40.108821Z",
     "shell.execute_reply": "2025-03-10T10:53:40.107754Z"
    },
    "papermill": {
     "duration": 0.032866,
     "end_time": "2025-03-10T10:53:40.110911",
     "exception": false,
     "start_time": "2025-03-10T10:53:40.078045",
     "status": "completed"
    },
    "tags": []
   },
   "outputs": [],
   "source": [
    "embedding_dim=100\n",
    "vocabSize=len(tokenizer.word_index) + 1\n",
    "\n",
    "embeddingMatrix=np.zeros((vocabSize,embedding_dim))\n",
    "\n",
    "for word,i in tokenizer.word_index.items():\n",
    "    embeddingVector=gloveEmbeddings.get(word)\n",
    "    if embeddingVector is not None:\n",
    "        embeddingMatrix[i]=embeddingVector"
   ]
  },
  {
   "cell_type": "code",
   "execution_count": 16,
   "id": "f087ecf4",
   "metadata": {
    "execution": {
     "iopub.execute_input": "2025-03-10T10:53:40.137704Z",
     "iopub.status.busy": "2025-03-10T10:53:40.137312Z",
     "iopub.status.idle": "2025-03-10T10:53:40.142566Z",
     "shell.execute_reply": "2025-03-10T10:53:40.141074Z"
    },
    "papermill": {
     "duration": 0.020762,
     "end_time": "2025-03-10T10:53:40.144368",
     "exception": false,
     "start_time": "2025-03-10T10:53:40.123606",
     "status": "completed"
    },
    "tags": []
   },
   "outputs": [
    {
     "name": "stdout",
     "output_type": "stream",
     "text": [
      "Embedding matrix shape: (6912, 100)\n"
     ]
    }
   ],
   "source": [
    "print(\"Embedding matrix shape:\", embeddingMatrix.shape)\n"
   ]
  },
  {
   "cell_type": "markdown",
   "id": "8b861c04",
   "metadata": {
    "papermill": {
     "duration": 0.012315,
     "end_time": "2025-03-10T10:53:40.168875",
     "exception": false,
     "start_time": "2025-03-10T10:53:40.156560",
     "status": "completed"
    },
    "tags": []
   },
   "source": [
    "### MAKING THE MODEL"
   ]
  },
  {
   "cell_type": "code",
   "execution_count": 17,
   "id": "618d6c85",
   "metadata": {
    "execution": {
     "iopub.execute_input": "2025-03-10T10:53:40.194963Z",
     "iopub.status.busy": "2025-03-10T10:53:40.194582Z",
     "iopub.status.idle": "2025-03-10T10:53:40.389753Z",
     "shell.execute_reply": "2025-03-10T10:53:40.388777Z"
    },
    "papermill": {
     "duration": 0.210664,
     "end_time": "2025-03-10T10:53:40.391460",
     "exception": false,
     "start_time": "2025-03-10T10:53:40.180796",
     "status": "completed"
    },
    "tags": []
   },
   "outputs": [
    {
     "name": "stdout",
     "output_type": "stream",
     "text": [
      "Padded shape: (1000, 100)\n",
      "Labels shape: (1000,)\n"
     ]
    },
    {
     "data": {
      "text/html": [
       "<pre style=\"white-space:pre;overflow-x:auto;line-height:normal;font-family:Menlo,'DejaVu Sans Mono',consolas,'Courier New',monospace\"><span style=\"font-weight: bold\">Model: \"sequential\"</span>\n",
       "</pre>\n"
      ],
      "text/plain": [
       "\u001b[1mModel: \"sequential\"\u001b[0m\n"
      ]
     },
     "metadata": {},
     "output_type": "display_data"
    },
    {
     "data": {
      "text/html": [
       "<pre style=\"white-space:pre;overflow-x:auto;line-height:normal;font-family:Menlo,'DejaVu Sans Mono',consolas,'Courier New',monospace\">┏━━━━━━━━━━━━━━━━━━━━━━━━━━━━━━━━━━━━━━┳━━━━━━━━━━━━━━━━━━━━━━━━━━━━━┳━━━━━━━━━━━━━━━━━┓\n",
       "┃<span style=\"font-weight: bold\"> Layer (type)                         </span>┃<span style=\"font-weight: bold\"> Output Shape                </span>┃<span style=\"font-weight: bold\">         Param # </span>┃\n",
       "┡━━━━━━━━━━━━━━━━━━━━━━━━━━━━━━━━━━━━━━╇━━━━━━━━━━━━━━━━━━━━━━━━━━━━━╇━━━━━━━━━━━━━━━━━┩\n",
       "│ embedding (<span style=\"color: #0087ff; text-decoration-color: #0087ff\">Embedding</span>)                │ (<span style=\"color: #00d7ff; text-decoration-color: #00d7ff\">None</span>, <span style=\"color: #00af00; text-decoration-color: #00af00\">100</span>, <span style=\"color: #00af00; text-decoration-color: #00af00\">100</span>)            │         <span style=\"color: #00af00; text-decoration-color: #00af00\">691,200</span> │\n",
       "├──────────────────────────────────────┼─────────────────────────────┼─────────────────┤\n",
       "│ lstm (<span style=\"color: #0087ff; text-decoration-color: #0087ff\">LSTM</span>)                          │ (<span style=\"color: #00d7ff; text-decoration-color: #00d7ff\">None</span>, <span style=\"color: #00af00; text-decoration-color: #00af00\">100</span>, <span style=\"color: #00af00; text-decoration-color: #00af00\">128</span>)            │         <span style=\"color: #00af00; text-decoration-color: #00af00\">117,248</span> │\n",
       "├──────────────────────────────────────┼─────────────────────────────┼─────────────────┤\n",
       "│ lstm_1 (<span style=\"color: #0087ff; text-decoration-color: #0087ff\">LSTM</span>)                        │ (<span style=\"color: #00d7ff; text-decoration-color: #00d7ff\">None</span>, <span style=\"color: #00af00; text-decoration-color: #00af00\">64</span>)                  │          <span style=\"color: #00af00; text-decoration-color: #00af00\">49,408</span> │\n",
       "├──────────────────────────────────────┼─────────────────────────────┼─────────────────┤\n",
       "│ dropout (<span style=\"color: #0087ff; text-decoration-color: #0087ff\">Dropout</span>)                    │ (<span style=\"color: #00d7ff; text-decoration-color: #00d7ff\">None</span>, <span style=\"color: #00af00; text-decoration-color: #00af00\">64</span>)                  │               <span style=\"color: #00af00; text-decoration-color: #00af00\">0</span> │\n",
       "├──────────────────────────────────────┼─────────────────────────────┼─────────────────┤\n",
       "│ dense (<span style=\"color: #0087ff; text-decoration-color: #0087ff\">Dense</span>)                        │ (<span style=\"color: #00d7ff; text-decoration-color: #00d7ff\">None</span>, <span style=\"color: #00af00; text-decoration-color: #00af00\">3</span>)                   │             <span style=\"color: #00af00; text-decoration-color: #00af00\">195</span> │\n",
       "└──────────────────────────────────────┴─────────────────────────────┴─────────────────┘\n",
       "</pre>\n"
      ],
      "text/plain": [
       "┏━━━━━━━━━━━━━━━━━━━━━━━━━━━━━━━━━━━━━━┳━━━━━━━━━━━━━━━━━━━━━━━━━━━━━┳━━━━━━━━━━━━━━━━━┓\n",
       "┃\u001b[1m \u001b[0m\u001b[1mLayer (type)                        \u001b[0m\u001b[1m \u001b[0m┃\u001b[1m \u001b[0m\u001b[1mOutput Shape               \u001b[0m\u001b[1m \u001b[0m┃\u001b[1m \u001b[0m\u001b[1m        Param #\u001b[0m\u001b[1m \u001b[0m┃\n",
       "┡━━━━━━━━━━━━━━━━━━━━━━━━━━━━━━━━━━━━━━╇━━━━━━━━━━━━━━━━━━━━━━━━━━━━━╇━━━━━━━━━━━━━━━━━┩\n",
       "│ embedding (\u001b[38;5;33mEmbedding\u001b[0m)                │ (\u001b[38;5;45mNone\u001b[0m, \u001b[38;5;34m100\u001b[0m, \u001b[38;5;34m100\u001b[0m)            │         \u001b[38;5;34m691,200\u001b[0m │\n",
       "├──────────────────────────────────────┼─────────────────────────────┼─────────────────┤\n",
       "│ lstm (\u001b[38;5;33mLSTM\u001b[0m)                          │ (\u001b[38;5;45mNone\u001b[0m, \u001b[38;5;34m100\u001b[0m, \u001b[38;5;34m128\u001b[0m)            │         \u001b[38;5;34m117,248\u001b[0m │\n",
       "├──────────────────────────────────────┼─────────────────────────────┼─────────────────┤\n",
       "│ lstm_1 (\u001b[38;5;33mLSTM\u001b[0m)                        │ (\u001b[38;5;45mNone\u001b[0m, \u001b[38;5;34m64\u001b[0m)                  │          \u001b[38;5;34m49,408\u001b[0m │\n",
       "├──────────────────────────────────────┼─────────────────────────────┼─────────────────┤\n",
       "│ dropout (\u001b[38;5;33mDropout\u001b[0m)                    │ (\u001b[38;5;45mNone\u001b[0m, \u001b[38;5;34m64\u001b[0m)                  │               \u001b[38;5;34m0\u001b[0m │\n",
       "├──────────────────────────────────────┼─────────────────────────────┼─────────────────┤\n",
       "│ dense (\u001b[38;5;33mDense\u001b[0m)                        │ (\u001b[38;5;45mNone\u001b[0m, \u001b[38;5;34m3\u001b[0m)                   │             \u001b[38;5;34m195\u001b[0m │\n",
       "└──────────────────────────────────────┴─────────────────────────────┴─────────────────┘\n"
      ]
     },
     "metadata": {},
     "output_type": "display_data"
    },
    {
     "data": {
      "text/html": [
       "<pre style=\"white-space:pre;overflow-x:auto;line-height:normal;font-family:Menlo,'DejaVu Sans Mono',consolas,'Courier New',monospace\"><span style=\"font-weight: bold\"> Total params: </span><span style=\"color: #00af00; text-decoration-color: #00af00\">858,051</span> (3.27 MB)\n",
       "</pre>\n"
      ],
      "text/plain": [
       "\u001b[1m Total params: \u001b[0m\u001b[38;5;34m858,051\u001b[0m (3.27 MB)\n"
      ]
     },
     "metadata": {},
     "output_type": "display_data"
    },
    {
     "data": {
      "text/html": [
       "<pre style=\"white-space:pre;overflow-x:auto;line-height:normal;font-family:Menlo,'DejaVu Sans Mono',consolas,'Courier New',monospace\"><span style=\"font-weight: bold\"> Trainable params: </span><span style=\"color: #00af00; text-decoration-color: #00af00\">166,851</span> (651.76 KB)\n",
       "</pre>\n"
      ],
      "text/plain": [
       "\u001b[1m Trainable params: \u001b[0m\u001b[38;5;34m166,851\u001b[0m (651.76 KB)\n"
      ]
     },
     "metadata": {},
     "output_type": "display_data"
    },
    {
     "data": {
      "text/html": [
       "<pre style=\"white-space:pre;overflow-x:auto;line-height:normal;font-family:Menlo,'DejaVu Sans Mono',consolas,'Courier New',monospace\"><span style=\"font-weight: bold\"> Non-trainable params: </span><span style=\"color: #00af00; text-decoration-color: #00af00\">691,200</span> (2.64 MB)\n",
       "</pre>\n"
      ],
      "text/plain": [
       "\u001b[1m Non-trainable params: \u001b[0m\u001b[38;5;34m691,200\u001b[0m (2.64 MB)\n"
      ]
     },
     "metadata": {},
     "output_type": "display_data"
    }
   ],
   "source": [
    "from tensorflow.keras.models import Sequential\n",
    "from tensorflow.keras.layers import Embedding, LSTM, Dense, Dropout,Input\n",
    "maxLen=100\n",
    "X_train = padded_sequences \n",
    "y_train = lmtpData[\"Sentiment\"].values  \n",
    "\n",
    "print(\"Padded shape:\", X_train.shape)  \n",
    "print(\"Labels shape:\", y_train.shape) \n",
    "\n",
    "model = Sequential([\n",
    "    Input(shape=(maxLen,)),\n",
    "    Embedding(input_dim=vocabSize,  \n",
    "              output_dim=embedding_dim, \n",
    "              weights=embeddingMatrix, \n",
    "             \n",
    "              trainable=False), \n",
    "    LSTM(128, return_sequences=True),\n",
    "    LSTM(64),\n",
    "    Dropout(0.3),\n",
    "    Dense(3, activation='softmax') \n",
    "])\n",
    "\n",
    "\n",
    "model.compile(loss='sparse_categorical_crossentropy', optimizer='adam', metrics=['accuracy'])\n",
    "\n",
    "model.summary()\n"
   ]
  },
  {
   "cell_type": "code",
   "execution_count": 18,
   "id": "0eae0b5d",
   "metadata": {
    "execution": {
     "iopub.execute_input": "2025-03-10T10:53:40.420740Z",
     "iopub.status.busy": "2025-03-10T10:53:40.420365Z",
     "iopub.status.idle": "2025-03-10T10:54:15.600080Z",
     "shell.execute_reply": "2025-03-10T10:54:15.599063Z"
    },
    "papermill": {
     "duration": 35.197475,
     "end_time": "2025-03-10T10:54:15.602035",
     "exception": false,
     "start_time": "2025-03-10T10:53:40.404560",
     "status": "completed"
    },
    "tags": []
   },
   "outputs": [
    {
     "name": "stdout",
     "output_type": "stream",
     "text": [
      "Epoch 1/10\n",
      "\u001b[1m22/22\u001b[0m \u001b[32m━━━━━━━━━━━━━━━━━━━━\u001b[0m\u001b[37m\u001b[0m \u001b[1m7s\u001b[0m 158ms/step - accuracy: 0.7708 - loss: 0.8561 - val_accuracy: 0.8133 - val_loss: 0.6072\n",
      "Epoch 2/10\n",
      "\u001b[1m22/22\u001b[0m \u001b[32m━━━━━━━━━━━━━━━━━━━━\u001b[0m\u001b[37m\u001b[0m \u001b[1m3s\u001b[0m 142ms/step - accuracy: 0.7719 - loss: 0.7057 - val_accuracy: 0.8133 - val_loss: 0.6097\n",
      "Epoch 3/10\n",
      "\u001b[1m22/22\u001b[0m \u001b[32m━━━━━━━━━━━━━━━━━━━━\u001b[0m\u001b[37m\u001b[0m \u001b[1m3s\u001b[0m 140ms/step - accuracy: 0.7655 - loss: 0.7010 - val_accuracy: 0.8133 - val_loss: 0.6050\n",
      "Epoch 4/10\n",
      "\u001b[1m22/22\u001b[0m \u001b[32m━━━━━━━━━━━━━━━━━━━━\u001b[0m\u001b[37m\u001b[0m \u001b[1m3s\u001b[0m 154ms/step - accuracy: 0.7708 - loss: 0.6911 - val_accuracy: 0.8133 - val_loss: 0.6057\n",
      "Epoch 5/10\n",
      "\u001b[1m22/22\u001b[0m \u001b[32m━━━━━━━━━━━━━━━━━━━━\u001b[0m\u001b[37m\u001b[0m \u001b[1m3s\u001b[0m 145ms/step - accuracy: 0.7688 - loss: 0.6812 - val_accuracy: 0.8133 - val_loss: 0.6047\n",
      "Epoch 6/10\n",
      "\u001b[1m22/22\u001b[0m \u001b[32m━━━━━━━━━━━━━━━━━━━━\u001b[0m\u001b[37m\u001b[0m \u001b[1m3s\u001b[0m 142ms/step - accuracy: 0.8005 - loss: 0.6375 - val_accuracy: 0.8133 - val_loss: 0.6157\n",
      "Epoch 7/10\n",
      "\u001b[1m22/22\u001b[0m \u001b[32m━━━━━━━━━━━━━━━━━━━━\u001b[0m\u001b[37m\u001b[0m \u001b[1m3s\u001b[0m 141ms/step - accuracy: 0.7856 - loss: 0.6545 - val_accuracy: 0.8133 - val_loss: 0.6120\n",
      "Epoch 8/10\n",
      "\u001b[1m22/22\u001b[0m \u001b[32m━━━━━━━━━━━━━━━━━━━━\u001b[0m\u001b[37m\u001b[0m \u001b[1m3s\u001b[0m 142ms/step - accuracy: 0.7884 - loss: 0.6465 - val_accuracy: 0.8133 - val_loss: 0.6091\n",
      "Epoch 9/10\n",
      "\u001b[1m22/22\u001b[0m \u001b[32m━━━━━━━━━━━━━━━━━━━━\u001b[0m\u001b[37m\u001b[0m \u001b[1m3s\u001b[0m 143ms/step - accuracy: 0.7914 - loss: 0.6366 - val_accuracy: 0.8133 - val_loss: 0.6201\n",
      "Epoch 10/10\n",
      "\u001b[1m22/22\u001b[0m \u001b[32m━━━━━━━━━━━━━━━━━━━━\u001b[0m\u001b[37m\u001b[0m \u001b[1m3s\u001b[0m 140ms/step - accuracy: 0.7638 - loss: 0.6740 - val_accuracy: 0.8133 - val_loss: 0.6092\n"
     ]
    }
   ],
   "source": [
    "\n",
    "history=model.fit(X_train, y_train, epochs=10, batch_size=32, validation_split=0.3)\n",
    "\n"
   ]
  },
  {
   "cell_type": "markdown",
   "id": "848415f7",
   "metadata": {
    "papermill": {
     "duration": 0.028311,
     "end_time": "2025-03-10T10:54:15.658069",
     "exception": false,
     "start_time": "2025-03-10T10:54:15.629758",
     "status": "completed"
    },
    "tags": []
   },
   "source": [
    "#### PLOTTING AND ACCURACY AND LOSS CURVES"
   ]
  },
  {
   "cell_type": "code",
   "execution_count": 19,
   "id": "bbf17ba5",
   "metadata": {
    "execution": {
     "iopub.execute_input": "2025-03-10T10:54:15.711367Z",
     "iopub.status.busy": "2025-03-10T10:54:15.710971Z",
     "iopub.status.idle": "2025-03-10T10:54:15.716595Z",
     "shell.execute_reply": "2025-03-10T10:54:15.715271Z"
    },
    "papermill": {
     "duration": 0.034624,
     "end_time": "2025-03-10T10:54:15.718421",
     "exception": false,
     "start_time": "2025-03-10T10:54:15.683797",
     "status": "completed"
    },
    "tags": []
   },
   "outputs": [],
   "source": [
    "import matplotlib.pyplot as plt\n",
    "accuracy=history.history['accuracy']\n",
    "valAccuracy=history.history['val_accuracy']\n",
    "loss = history.history['loss']\n",
    "valLoss = history.history['val_loss']\n",
    "epochs_range = range(1, len(accuracy) + 1)"
   ]
  },
  {
   "cell_type": "code",
   "execution_count": 20,
   "id": "c0dbf66d",
   "metadata": {
    "execution": {
     "iopub.execute_input": "2025-03-10T10:54:15.773036Z",
     "iopub.status.busy": "2025-03-10T10:54:15.772671Z",
     "iopub.status.idle": "2025-03-10T10:54:16.125916Z",
     "shell.execute_reply": "2025-03-10T10:54:16.124624Z"
    },
    "papermill": {
     "duration": 0.382641,
     "end_time": "2025-03-10T10:54:16.127704",
     "exception": false,
     "start_time": "2025-03-10T10:54:15.745063",
     "status": "completed"
    },
    "tags": []
   },
   "outputs": [
    {
     "data": {
      "text/plain": [
       "Text(0.5, 1.0, 'Training & Validation Accuracy')"
      ]
     },
     "execution_count": 20,
     "metadata": {},
     "output_type": "execute_result"
    },
    {
     "data": {
      "image/png": "[encoded data removed]",
      "text/plain": [
       "<Figure size 1200x500 with 1 Axes>"
      ]
     },
     "metadata": {},
     "output_type": "display_data"
    }
   ],
   "source": [
    "plt.figure(figsize=(12, 5))\n",
    "plt.subplot(1, 2, 1)\n",
    "plt.plot(epochs_range, accuracy, label='Training Accuracy', marker='o')\n",
    "plt.plot(epochs_range, valAccuracy, label='Validation Accuracy', marker='o')\n",
    "plt.legend(loc='lower right')\n",
    "plt.xlabel('Epochs')\n",
    "plt.ylabel('Accuracy')\n",
    "plt.title('Training & Validation Accuracy')"
   ]
  },
  {
   "cell_type": "code",
   "execution_count": 21,
   "id": "bd1b0e19",
   "metadata": {
    "execution": {
     "iopub.execute_input": "2025-03-10T10:54:16.182420Z",
     "iopub.status.busy": "2025-03-10T10:54:16.182029Z",
     "iopub.status.idle": "2025-03-10T10:54:16.444857Z",
     "shell.execute_reply": "2025-03-10T10:54:16.443697Z"
    },
    "papermill": {
     "duration": 0.29192,
     "end_time": "2025-03-10T10:54:16.446660",
     "exception": false,
     "start_time": "2025-03-10T10:54:16.154740",
     "status": "completed"
    },
    "tags": []
   },
   "outputs": [
    {
     "data": {
      "text/plain": [
       "Text(0.5, 1.0, 'Training & Validation Loss')"
      ]
     },
     "execution_count": 21,
     "metadata": {},
     "output_type": "execute_result"
    },
    {
     "data": {
      "image/png": "[encoded data removed]",
      "text/plain": [
       "<Figure size 1200x500 with 1 Axes>"
      ]
     },
     "metadata": {},
     "output_type": "display_data"
    }
   ],
   "source": [
    "plt.figure(figsize=(12, 5))\n",
    "plt.subplot(1, 2, 2)\n",
    "plt.plot(epochs_range, loss, label='Training Loss', marker='o')\n",
    "plt.plot(epochs_range, valLoss, label='Validation Loss', marker='o')\n",
    "plt.legend(loc='upper right')\n",
    "plt.xlabel('Epochs')\n",
    "plt.ylabel('Loss')\n",
    "plt.title('Training & Validation Loss')"
   ]
  },
  {
   "cell_type": "markdown",
   "id": "3c90c0b8",
   "metadata": {
    "papermill": {
     "duration": 0.027078,
     "end_time": "2025-03-10T10:54:16.502421",
     "exception": false,
     "start_time": "2025-03-10T10:54:16.475343",
     "status": "completed"
    },
    "tags": []
   },
   "source": [
    "##### overfitting"
   ]
  },
  {
   "cell_type": "markdown",
   "id": "f4eade6c",
   "metadata": {
    "papermill": {
     "duration": 0.029141,
     "end_time": "2025-03-10T10:54:16.558895",
     "exception": false,
     "start_time": "2025-03-10T10:54:16.529754",
     "status": "completed"
    },
    "tags": []
   },
   "source": [
    "### OUTPUT VS PREDICTED OUTPUT\n"
   ]
  },
  {
   "cell_type": "code",
   "execution_count": 22,
   "id": "a76e3f32",
   "metadata": {
    "execution": {
     "iopub.execute_input": "2025-03-10T10:54:16.669465Z",
     "iopub.status.busy": "2025-03-10T10:54:16.669056Z",
     "iopub.status.idle": "2025-03-10T10:54:18.770522Z",
     "shell.execute_reply": "2025-03-10T10:54:18.769457Z"
    },
    "papermill": {
     "duration": 2.131812,
     "end_time": "2025-03-10T10:54:18.772621",
     "exception": false,
     "start_time": "2025-03-10T10:54:16.640809",
     "status": "completed"
    },
    "tags": []
   },
   "outputs": [
    {
     "name": "stdout",
     "output_type": "stream",
     "text": [
      "\u001b[1m32/32\u001b[0m \u001b[32m━━━━━━━━━━━━━━━━━━━━\u001b[0m\u001b[37m\u001b[0m \u001b[1m2s\u001b[0m 55ms/step\n"
     ]
    }
   ],
   "source": [
    "predictions = model.predict(padded_sequences)\n",
    "corrected_classes = np.argmax(predictions, axis=1)\n",
    "mapping = {0: 1, 1: 2, 2: 0}\n",
    "predictedClasses = np.array([mapping[i] for i in corrected_classes])\n"
   ]
  },
  {
   "cell_type": "code",
   "execution_count": 23,
   "id": "5b05a270",
   "metadata": {
    "execution": {
     "iopub.execute_input": "2025-03-10T10:54:18.832952Z",
     "iopub.status.busy": "2025-03-10T10:54:18.832594Z",
     "iopub.status.idle": "2025-03-10T10:54:18.838039Z",
     "shell.execute_reply": "2025-03-10T10:54:18.836923Z"
    },
    "papermill": {
     "duration": 0.037562,
     "end_time": "2025-03-10T10:54:18.839660",
     "exception": false,
     "start_time": "2025-03-10T10:54:18.802098",
     "status": "completed"
    },
    "tags": []
   },
   "outputs": [
    {
     "name": "stdout",
     "output_type": "stream",
     "text": [
      "[[0.15729956 0.79339945 0.04930101]\n",
      " [0.15729785 0.79340136 0.04930077]\n",
      " [0.1572974  0.79340184 0.04930071]\n",
      " [0.15729745 0.79340184 0.04930073]\n",
      " [0.07856291 0.86421597 0.05722098]]\n"
     ]
    }
   ],
   "source": [
    "\n",
    "print(predictions[:5])\n"
   ]
  },
  {
   "cell_type": "code",
   "execution_count": 24,
   "id": "7d26281f",
   "metadata": {
    "execution": {
     "iopub.execute_input": "2025-03-10T10:54:18.897426Z",
     "iopub.status.busy": "2025-03-10T10:54:18.897021Z",
     "iopub.status.idle": "2025-03-10T10:54:18.903207Z",
     "shell.execute_reply": "2025-03-10T10:54:18.902078Z"
    },
    "papermill": {
     "duration": 0.036638,
     "end_time": "2025-03-10T10:54:18.904816",
     "exception": false,
     "start_time": "2025-03-10T10:54:18.868178",
     "status": "completed"
    },
    "tags": []
   },
   "outputs": [
    {
     "name": "stdout",
     "output_type": "stream",
     "text": [
      "Any NaNs in predictions? False\n",
      "Any infinities in predictions? False\n"
     ]
    }
   ],
   "source": [
    "\n",
    "print(\"Any NaNs in predictions?\", np.isnan(predictions).any())\n",
    "print(\"Any infinities in predictions?\", np.isinf(predictions).any())\n"
   ]
  },
  {
   "cell_type": "code",
   "execution_count": 25,
   "id": "58aa968f",
   "metadata": {
    "execution": {
     "iopub.execute_input": "2025-03-10T10:54:18.962548Z",
     "iopub.status.busy": "2025-03-10T10:54:18.962160Z",
     "iopub.status.idle": "2025-03-10T10:54:18.967026Z",
     "shell.execute_reply": "2025-03-10T10:54:18.966098Z"
    },
    "papermill": {
     "duration": 0.035404,
     "end_time": "2025-03-10T10:54:18.968628",
     "exception": false,
     "start_time": "2025-03-10T10:54:18.933224",
     "status": "completed"
    },
    "tags": []
   },
   "outputs": [],
   "source": [
    "comparisonData=pd.DataFrame({\n",
    "    \"Text\":lmtpData[\"CombinedText\"],\n",
    "    \"Actual Sentiment\":lmtpData[\"Sentiment\"].values,\n",
    "    \"Predicted Sentiment\":predictedClasses\n",
    "})\n"
   ]
  },
  {
   "cell_type": "code",
   "execution_count": 26,
   "id": "59f76b17",
   "metadata": {
    "execution": {
     "iopub.execute_input": "2025-03-10T10:54:19.026668Z",
     "iopub.status.busy": "2025-03-10T10:54:19.026243Z",
     "iopub.status.idle": "2025-03-10T10:54:19.030495Z",
     "shell.execute_reply": "2025-03-10T10:54:19.029549Z"
    },
    "papermill": {
     "duration": 0.03491,
     "end_time": "2025-03-10T10:54:19.031991",
     "exception": false,
     "start_time": "2025-03-10T10:54:18.997081",
     "status": "completed"
    },
    "tags": []
   },
   "outputs": [],
   "source": [
    "comparisonData = comparisonData.iloc[:1000]\n"
   ]
  },
  {
   "cell_type": "code",
   "execution_count": 27,
   "id": "dcef639c",
   "metadata": {
    "execution": {
     "iopub.execute_input": "2025-03-10T10:54:19.091714Z",
     "iopub.status.busy": "2025-03-10T10:54:19.091302Z",
     "iopub.status.idle": "2025-03-10T10:54:19.097686Z",
     "shell.execute_reply": "2025-03-10T10:54:19.096653Z"
    },
    "papermill": {
     "duration": 0.03856,
     "end_time": "2025-03-10T10:54:19.099203",
     "exception": false,
     "start_time": "2025-03-10T10:54:19.060643",
     "status": "completed"
    },
    "tags": []
   },
   "outputs": [],
   "source": [
    "comparisonData = comparisonData.copy()\n",
    "\n",
    "comparisonData[\"Positive\"] = predictions[:, 0] \n",
    "comparisonData[\"Neutral\"] = predictions[:, 1]  \n",
    "comparisonData[\"Negative\"] = predictions[:, 2]\n",
    "\n"
   ]
  },
  {
   "cell_type": "code",
   "execution_count": 28,
   "id": "f1cef40f",
   "metadata": {
    "execution": {
     "iopub.execute_input": "2025-03-10T10:54:19.158137Z",
     "iopub.status.busy": "2025-03-10T10:54:19.157815Z",
     "iopub.status.idle": "2025-03-10T10:54:19.179212Z",
     "shell.execute_reply": "2025-03-10T10:54:19.177925Z"
    },
    "papermill": {
     "duration": 0.053023,
     "end_time": "2025-03-10T10:54:19.181040",
     "exception": false,
     "start_time": "2025-03-10T10:54:19.128017",
     "status": "completed"
    },
    "tags": []
   },
   "outputs": [
    {
     "name": "stdout",
     "output_type": "stream",
     "text": [
      "       Actual Sentiment  Predicted Sentiment     Positive      Neutral  \\\n",
      "count       1000.000000               1000.0  1000.000000  1000.000000   \n",
      "mean           0.928000                  2.0     0.158112     0.784515   \n",
      "std            0.452792                  0.0     0.038004     0.045085   \n",
      "min            0.000000                  2.0     0.061720     0.445906   \n",
      "25%            1.000000                  2.0     0.157297     0.793179   \n",
      "50%            1.000000                  2.0     0.157298     0.793401   \n",
      "75%            1.000000                  2.0     0.157350     0.793402   \n",
      "max            2.000000                  2.0     0.433195     0.883952   \n",
      "\n",
      "          Negative  \n",
      "count  1000.000000  \n",
      "mean      0.057373  \n",
      "std       0.014961  \n",
      "min       0.049301  \n",
      "25%       0.049301  \n",
      "50%       0.049302  \n",
      "75%       0.058724  \n",
      "max       0.158399  \n",
      "Text                    object\n",
      "Actual Sentiment         int64\n",
      "Predicted Sentiment      int64\n",
      "Positive               float32\n",
      "Neutral                float32\n",
      "Negative               float32\n",
      "dtype: object\n"
     ]
    }
   ],
   "source": [
    "print(comparisonData.describe())\n",
    "print(comparisonData.dtypes)\n"
   ]
  },
  {
   "cell_type": "code",
   "execution_count": 29,
   "id": "b9f0b6ee",
   "metadata": {
    "execution": {
     "iopub.execute_input": "2025-03-10T10:54:19.240342Z",
     "iopub.status.busy": "2025-03-10T10:54:19.239992Z",
     "iopub.status.idle": "2025-03-10T10:54:19.252584Z",
     "shell.execute_reply": "2025-03-10T10:54:19.251592Z"
    },
    "papermill": {
     "duration": 0.04379,
     "end_time": "2025-03-10T10:54:19.254246",
     "exception": false,
     "start_time": "2025-03-10T10:54:19.210456",
     "status": "completed"
    },
    "tags": []
   },
   "outputs": [
    {
     "data": {
      "text/html": [
       "<div>\n",
       "<style scoped>\n",
       "    .dataframe tbody tr th:only-of-type {\n",
       "        vertical-align: middle;\n",
       "    }\n",
       "\n",
       "    .dataframe tbody tr th {\n",
       "        vertical-align: top;\n",
       "    }\n",
       "\n",
       "    .dataframe thead th {\n",
       "        text-align: right;\n",
       "    }\n",
       "</style>\n",
       "<table border=\"1\" class=\"dataframe\">\n",
       "  <thead>\n",
       "    <tr style=\"text-align: right;\">\n",
       "      <th></th>\n",
       "      <th>Text</th>\n",
       "      <th>Actual Sentiment</th>\n",
       "      <th>Predicted Sentiment</th>\n",
       "      <th>Positive</th>\n",
       "      <th>Neutral</th>\n",
       "      <th>Negative</th>\n",
       "    </tr>\n",
       "  </thead>\n",
       "  <tbody>\n",
       "    <tr>\n",
       "      <th>441316</th>\n",
       "      <td>Good full flavored cup of dessert coffee This is definitely a dessert coffee.  It has a very mild blend of beans and the buttercream flavor lends its flavor to a very mellow brew.  Enjoyable and very palatable, but best enjoyed as a follow up to a meal or as a dessert accompaniment.</td>\n",
       "      <td>1</td>\n",
       "      <td>2</td>\n",
       "      <td>0.157300</td>\n",
       "      <td>0.793399</td>\n",
       "      <td>0.049301</td>\n",
       "    </tr>\n",
       "    <tr>\n",
       "      <th>185215</th>\n",
       "      <td>Mouth Watering Delicious! I have always loved Swiss Colony for all of their Petits Fours and Bonbons.  They are so delicious and mouth watering, you will absolutely love them!  I know they are a little expensive, but well worth it.  I would highly recommend Swiss Colony!</td>\n",
       "      <td>1</td>\n",
       "      <td>2</td>\n",
       "      <td>0.157298</td>\n",
       "      <td>0.793401</td>\n",
       "      <td>0.049301</td>\n",
       "    </tr>\n",
       "    <tr>\n",
       "      <th>197013</th>\n",
       "      <td>nature valley's Chewy Trail Mix bars are yummy! These bars are great!  They are wholesome and excellent for an on the go snack!</td>\n",
       "      <td>1</td>\n",
       "      <td>2</td>\n",
       "      <td>0.157297</td>\n",
       "      <td>0.793402</td>\n",
       "      <td>0.049301</td>\n",
       "    </tr>\n",
       "    <tr>\n",
       "      <th>509580</th>\n",
       "      <td>Best Tea Around Amazon offers this tea at an amazing price compared to our local grocery stores...even when our stores have it on sale.  And with Free Shipping, you can't beat it.</td>\n",
       "      <td>1</td>\n",
       "      <td>2</td>\n",
       "      <td>0.157297</td>\n",
       "      <td>0.793402</td>\n",
       "      <td>0.049301</td>\n",
       "    </tr>\n",
       "    <tr>\n",
       "      <th>402934</th>\n",
       "      <td>Both formulas are excellent for my dogs! I have a nearly 1 year old golden retriever/standard poodle mix, and a 6 year old german shepherd. The doodle gets the chicken and  brown rice (just switched her a few weeks ago from Nutro Max) and the shepherd gets the healthy weight. I have tried several different foods for the doodle, and many of them caused problems like diarrhea and stinky, stinky farts. With this, while switching from the Nutro Max, she had none of those problems. In fact, I only took 5 days to switch her instead of 2 or so weeks, and she didn't have any digestive problems. Both dogs seem to like it and it is definitely cost effective... several dollars cheaper at my local Wegman's and there are always coupons in the paper. This is a very high quality food for the price, and I like that it's available at the grocery store as I live in a small town. I highly recommend this food and hope to feed it exclusively for as long as my doggies shall live!</td>\n",
       "      <td>1</td>\n",
       "      <td>2</td>\n",
       "      <td>0.078563</td>\n",
       "      <td>0.864216</td>\n",
       "      <td>0.057221</td>\n",
       "    </tr>\n",
       "    <tr>\n",
       "      <th>557089</th>\n",
       "      <td>Finally Found it! I used to be able to purchase this soup in my local supermarket. One day it was gone! I happened to be shopping on Amazon and thought I would see if they had it and they did!!It is the best soup mix at a good price!!</td>\n",
       "      <td>1</td>\n",
       "      <td>2</td>\n",
       "      <td>0.157298</td>\n",
       "      <td>0.793401</td>\n",
       "      <td>0.049301</td>\n",
       "    </tr>\n",
       "    <tr>\n",
       "      <th>470282</th>\n",
       "      <td>Delicious! We won't use any other salt. This stuff is so tasty, healthy AND reasonably priced (esp compared with Pink salt which doesn't have near as many minerals) I can't imagine using anything else... except to melt ice of course ;)</td>\n",
       "      <td>1</td>\n",
       "      <td>2</td>\n",
       "      <td>0.157298</td>\n",
       "      <td>0.793402</td>\n",
       "      <td>0.049301</td>\n",
       "    </tr>\n",
       "    <tr>\n",
       "      <th>239282</th>\n",
       "      <td>Very Good! This is really good! I mixed mine with half regular coffee (I don't want to go into withdrawals)!! I discovered that I can drink this without creamer, which is nice because I am allergic to dairy and powdered creamers are just chemicals. Almond milk wasn't that great either. This is smooth, and the vanilla taste is like a gourmet coffee shop.</td>\n",
       "      <td>1</td>\n",
       "      <td>2</td>\n",
       "      <td>0.157316</td>\n",
       "      <td>0.793381</td>\n",
       "      <td>0.049303</td>\n",
       "    </tr>\n",
       "    <tr>\n",
       "      <th>221903</th>\n",
       "      <td>Delicious I'm a fan of Zhena's teas, and have acquired quite a collection of them. I must say that this is my favorite thus far! Delicious with some milk and honey!</td>\n",
       "      <td>1</td>\n",
       "      <td>2</td>\n",
       "      <td>0.157297</td>\n",
       "      <td>0.793402</td>\n",
       "      <td>0.049301</td>\n",
       "    </tr>\n",
       "    <tr>\n",
       "      <th>436610</th>\n",
       "      <td>Give it a Chance I purchased Walden Farms Calorie Free Ranch Dressing when I decided change the way I eat. At first, I wasn't too sure about the dressing, as it tasted nothing like regular Ranch dressings at all. By the third time I used it though, I decided it was great. Once you give up the real stuff, this does grow on you. I now love this dressing and will eat it for the rest of my life!</td>\n",
       "      <td>1</td>\n",
       "      <td>2</td>\n",
       "      <td>0.157977</td>\n",
       "      <td>0.792604</td>\n",
       "      <td>0.049419</td>\n",
       "    </tr>\n",
       "  </tbody>\n",
       "</table>\n",
       "</div>"
      ],
      "text/plain": [
       "                                                                                                                                                                                                                                                                                                                                                                                                                                                                                                                                                                                                                                                                                                                                                                                                                                                                                                                                                                                                                Text  \\\n",
       "441316                                                                                                                                                                                                                                                                                                                                                                                                                                                                                                                                                                                                                                                                                                                   Good full flavored cup of dessert coffee This is definitely a dessert coffee.  It has a very mild blend of beans and the buttercream flavor lends its flavor to a very mellow brew.  Enjoyable and very palatable, but best enjoyed as a follow up to a meal or as a dessert accompaniment.   \n",
       "185215                                                                                                                                                                                                                                                                                                                                                                                                                                                                                                                                                                                                                                                                                                                               Mouth Watering Delicious! I have always loved Swiss Colony for all of their Petits Fours and Bonbons.  They are so delicious and mouth watering, you will absolutely love them!  I know they are a little expensive, but well worth it.  I would highly recommend Swiss Colony!   \n",
       "197013                                                                                                                                                                                                                                                                                                                                                                                                                                                                                                                                                                                                                                                                                                                                                                                                                                                                               nature valley's Chewy Trail Mix bars are yummy! These bars are great!  They are wholesome and excellent for an on the go snack!   \n",
       "509580                                                                                                                                                                                                                                                                                                                                                                                                                                                                                                                                                                                                                                                                                                                                                                                                                           Best Tea Around Amazon offers this tea at an amazing price compared to our local grocery stores...even when our stores have it on sale.  And with Free Shipping, you can't beat it.   \n",
       "402934  Both formulas are excellent for my dogs! I have a nearly 1 year old golden retriever/standard poodle mix, and a 6 year old german shepherd. The doodle gets the chicken and  brown rice (just switched her a few weeks ago from Nutro Max) and the shepherd gets the healthy weight. I have tried several different foods for the doodle, and many of them caused problems like diarrhea and stinky, stinky farts. With this, while switching from the Nutro Max, she had none of those problems. In fact, I only took 5 days to switch her instead of 2 or so weeks, and she didn't have any digestive problems. Both dogs seem to like it and it is definitely cost effective... several dollars cheaper at my local Wegman's and there are always coupons in the paper. This is a very high quality food for the price, and I like that it's available at the grocery store as I live in a small town. I highly recommend this food and hope to feed it exclusively for as long as my doggies shall live!   \n",
       "557089                                                                                                                                                                                                                                                                                                                                                                                                                                                                                                                                                                                                                                                                                                                                                                    Finally Found it! I used to be able to purchase this soup in my local supermarket. One day it was gone! I happened to be shopping on Amazon and thought I would see if they had it and they did!!It is the best soup mix at a good price!!   \n",
       "470282                                                                                                                                                                                                                                                                                                                                                                                                                                                                                                                                                                                                                                                                                                                                                                   Delicious! We won't use any other salt. This stuff is so tasty, healthy AND reasonably priced (esp compared with Pink salt which doesn't have near as many minerals) I can't imagine using anything else... except to melt ice of course ;)   \n",
       "239282                                                                                                                                                                                                                                                                                                                                                                                                                                                                                                                                                                                                                                           Very Good! This is really good! I mixed mine with half regular coffee (I don't want to go into withdrawals)!! I discovered that I can drink this without creamer, which is nice because I am allergic to dairy and powdered creamers are just chemicals. Almond milk wasn't that great either. This is smooth, and the vanilla taste is like a gourmet coffee shop.   \n",
       "221903                                                                                                                                                                                                                                                                                                                                                                                                                                                                                                                                                                                                                                                                                                                                                                                                                                          Delicious I'm a fan of Zhena's teas, and have acquired quite a collection of them. I must say that this is my favorite thus far! Delicious with some milk and honey!   \n",
       "436610                                                                                                                                                                                                                                                                                                                                                                                                                                                                                                                                                                                                    Give it a Chance I purchased Walden Farms Calorie Free Ranch Dressing when I decided change the way I eat. At first, I wasn't too sure about the dressing, as it tasted nothing like regular Ranch dressings at all. By the third time I used it though, I decided it was great. Once you give up the real stuff, this does grow on you. I now love this dressing and will eat it for the rest of my life!   \n",
       "\n",
       "        Actual Sentiment  Predicted Sentiment  Positive   Neutral  Negative  \n",
       "441316                 1                    2  0.157300  0.793399  0.049301  \n",
       "185215                 1                    2  0.157298  0.793401  0.049301  \n",
       "197013                 1                    2  0.157297  0.793402  0.049301  \n",
       "509580                 1                    2  0.157297  0.793402  0.049301  \n",
       "402934                 1                    2  0.078563  0.864216  0.057221  \n",
       "557089                 1                    2  0.157298  0.793401  0.049301  \n",
       "470282                 1                    2  0.157298  0.793402  0.049301  \n",
       "239282                 1                    2  0.157316  0.793381  0.049303  \n",
       "221903                 1                    2  0.157297  0.793402  0.049301  \n",
       "436610                 1                    2  0.157977  0.792604  0.049419  "
      ]
     },
     "execution_count": 29,
     "metadata": {},
     "output_type": "execute_result"
    }
   ],
   "source": [
    "comparisonData.head(10)"
   ]
  },
  {
   "cell_type": "code",
   "execution_count": 30,
   "id": "8e13cc54",
   "metadata": {
    "execution": {
     "iopub.execute_input": "2025-03-10T10:54:19.319950Z",
     "iopub.status.busy": "2025-03-10T10:54:19.319602Z",
     "iopub.status.idle": "2025-03-10T10:54:19.996375Z",
     "shell.execute_reply": "2025-03-10T10:54:19.995137Z"
    },
    "papermill": {
     "duration": 0.71356,
     "end_time": "2025-03-10T10:54:19.998349",
     "exception": false,
     "start_time": "2025-03-10T10:54:19.284789",
     "status": "completed"
    },
    "tags": []
   },
   "outputs": [],
   "source": [
    "comparisonData.to_excel(\"PredictedSample1.xlsx\", index=False)\n"
   ]
  },
  {
   "cell_type": "markdown",
   "id": "74711f05",
   "metadata": {
    "papermill": {
     "duration": 0.029715,
     "end_time": "2025-03-10T10:54:20.057533",
     "exception": false,
     "start_time": "2025-03-10T10:54:20.027818",
     "status": "completed"
    },
    "tags": []
   },
   "source": [
    "## TRAINING USING NEW SAMPLE DATASET"
   ]
  },
  {
   "cell_type": "code",
   "execution_count": 31,
   "id": "487539ed",
   "metadata": {
    "execution": {
     "iopub.execute_input": "2025-03-10T10:54:20.117942Z",
     "iopub.status.busy": "2025-03-10T10:54:20.117149Z",
     "iopub.status.idle": "2025-03-10T10:54:20.247836Z",
     "shell.execute_reply": "2025-03-10T10:54:20.246562Z"
    },
    "papermill": {
     "duration": 0.163037,
     "end_time": "2025-03-10T10:54:20.249728",
     "exception": false,
     "start_time": "2025-03-10T10:54:20.086691",
     "status": "completed"
    },
    "tags": []
   },
   "outputs": [
    {
     "data": {
      "text/html": [
       "<div>\n",
       "<style scoped>\n",
       "    .dataframe tbody tr th:only-of-type {\n",
       "        vertical-align: middle;\n",
       "    }\n",
       "\n",
       "    .dataframe tbody tr th {\n",
       "        vertical-align: top;\n",
       "    }\n",
       "\n",
       "    .dataframe thead th {\n",
       "        text-align: right;\n",
       "    }\n",
       "</style>\n",
       "<table border=\"1\" class=\"dataframe\">\n",
       "  <thead>\n",
       "    <tr style=\"text-align: right;\">\n",
       "      <th></th>\n",
       "      <th>Id</th>\n",
       "      <th>ProductId</th>\n",
       "      <th>UserId</th>\n",
       "      <th>ProfileName</th>\n",
       "      <th>HelpfulnessNumerator</th>\n",
       "      <th>HelpfulnessDenominator</th>\n",
       "      <th>Score</th>\n",
       "      <th>Time</th>\n",
       "      <th>Summary</th>\n",
       "      <th>Text</th>\n",
       "    </tr>\n",
       "  </thead>\n",
       "  <tbody>\n",
       "    <tr>\n",
       "      <th>150210</th>\n",
       "      <td>150211</td>\n",
       "      <td>B0029JHHO2</td>\n",
       "      <td>A1G77Q620AHNUM</td>\n",
       "      <td>olliesmom \"mimi l\"</td>\n",
       "      <td>0</td>\n",
       "      <td>0</td>\n",
       "      <td>4</td>\n",
       "      <td>1336435200</td>\n",
       "      <td>Good flavor</td>\n",
       "      <td>Very good traditional artificial grape flavor. Kind of like grape bubble gum. They are not as hard as I expected but I think they are worth the money.</td>\n",
       "    </tr>\n",
       "    <tr>\n",
       "      <th>541134</th>\n",
       "      <td>541135</td>\n",
       "      <td>B000FMTJJQ</td>\n",
       "      <td>AYTK4QORQI9JV</td>\n",
       "      <td>Elijah Rich \"Krissy and Elijah Rich\"</td>\n",
       "      <td>0</td>\n",
       "      <td>0</td>\n",
       "      <td>3</td>\n",
       "      <td>1200614400</td>\n",
       "      <td>okay, but not as good as the original</td>\n",
       "      <td>i guess i didn't look carefully enough at the description, but this was the \"light\" version and i had to use much more to equal the regular agave.</td>\n",
       "    </tr>\n",
       "    <tr>\n",
       "      <th>480332</th>\n",
       "      <td>480333</td>\n",
       "      <td>B000DZDJ0K</td>\n",
       "      <td>A3UASVI19W8VSF</td>\n",
       "      <td>M. Cullinan</td>\n",
       "      <td>0</td>\n",
       "      <td>0</td>\n",
       "      <td>5</td>\n",
       "      <td>1344211200</td>\n",
       "      <td>Pamela's pancake mix</td>\n",
       "      <td>The best pancake mix ever made! We've been buying it for years, and don't use any other brands. It is also gluten free.</td>\n",
       "    </tr>\n",
       "    <tr>\n",
       "      <th>363022</th>\n",
       "      <td>363023</td>\n",
       "      <td>B0049WV8S8</td>\n",
       "      <td>A2FQFBYB8BIEDV</td>\n",
       "      <td>Gale DiBeneditto</td>\n",
       "      <td>15</td>\n",
       "      <td>16</td>\n",
       "      <td>5</td>\n",
       "      <td>1302134400</td>\n",
       "      <td>Best for cooking bacon</td>\n",
       "      <td>This bacon cooker is the best I have come across so far.&lt;br /&gt;Even my husband approves and he only would eat bacon cooked on top of&lt;br /&gt;the stove in a fry pan.&lt;br /&gt;I am ordering another one.&lt;br /&gt;It's easy to clean.  I don't think one would be disappointed.</td>\n",
       "    </tr>\n",
       "    <tr>\n",
       "      <th>555887</th>\n",
       "      <td>555888</td>\n",
       "      <td>B001TLY7BM</td>\n",
       "      <td>A2FVN7DQI3D4PB</td>\n",
       "      <td>Sandy M.</td>\n",
       "      <td>0</td>\n",
       "      <td>0</td>\n",
       "      <td>4</td>\n",
       "      <td>1350604800</td>\n",
       "      <td>Weruva Paw Lickin' Chicken wet cat food</td>\n",
       "      <td>I have two diabetic senior cats in my brood and I try to make sure I feel them all the best quality food I can fit into my budget.  The cats do love this food and I feel good feeding it to them because it is high quality.  The ingredients read like human-food, there are virtually no preservatives and it doesn't have that \"cat food\" smell.  The cats always lick off all of the \"broth\" it's packed in before moving on to the shreds of chicken breast itself.&lt;br /&gt;&lt;br /&gt;My only caveat is the cost.  Yes, I know you pay more for good quality cat food but I have read that even a lower quality wet food is better for your cats than a diet consisting of only dry food, even if it's the best dry food.  I feed my cats wet food once daily and they have \"grazing priviledges\" with a bowl of high quality dry food (&lt;a href=\"http://www.amazon.com/gp/product/B002C1WE5O\"&gt;Solid Gold Indigo Moon Holistic Cat Food&lt;/a&gt;) that I typically have to fill once a day.  I may buy this once in a while as a treat but they seem to enjoy the less expensive leading brand just as much.</td>\n",
       "    </tr>\n",
       "  </tbody>\n",
       "</table>\n",
       "</div>"
      ],
      "text/plain": [
       "            Id   ProductId          UserId  \\\n",
       "150210  150211  B0029JHHO2  A1G77Q620AHNUM   \n",
       "541134  541135  B000FMTJJQ   AYTK4QORQI9JV   \n",
       "480332  480333  B000DZDJ0K  A3UASVI19W8VSF   \n",
       "363022  363023  B0049WV8S8  A2FQFBYB8BIEDV   \n",
       "555887  555888  B001TLY7BM  A2FVN7DQI3D4PB   \n",
       "\n",
       "                                 ProfileName  HelpfulnessNumerator  \\\n",
       "150210                    olliesmom \"mimi l\"                     0   \n",
       "541134  Elijah Rich \"Krissy and Elijah Rich\"                     0   \n",
       "480332                           M. Cullinan                     0   \n",
       "363022                      Gale DiBeneditto                    15   \n",
       "555887                              Sandy M.                     0   \n",
       "\n",
       "        HelpfulnessDenominator  Score        Time  \\\n",
       "150210                       0      4  1336435200   \n",
       "541134                       0      3  1200614400   \n",
       "480332                       0      5  1344211200   \n",
       "363022                      16      5  1302134400   \n",
       "555887                       0      4  1350604800   \n",
       "\n",
       "                                        Summary  \\\n",
       "150210                              Good flavor   \n",
       "541134    okay, but not as good as the original   \n",
       "480332                     Pamela's pancake mix   \n",
       "363022                   Best for cooking bacon   \n",
       "555887  Weruva Paw Lickin' Chicken wet cat food   \n",
       "\n",
       "                                                                                                                                                                                                                                                                                                                                                                                                                                                                                                                                                                                                                                                                                                                                                                                                                                                                                                                                                                                                                                                                                                         Text  \n",
       "150210                                                                                                                                                                                                                                                                                                                                                                                                                                                                                                                                                                                                                                                                                                                                                                                                                                                                                                                                                 Very good traditional artificial grape flavor. Kind of like grape bubble gum. They are not as hard as I expected but I think they are worth the money.  \n",
       "541134                                                                                                                                                                                                                                                                                                                                                                                                                                                                                                                                                                                                                                                                                                                                                                                                                                                                                                                                                     i guess i didn't look carefully enough at the description, but this was the \"light\" version and i had to use much more to equal the regular agave.  \n",
       "480332                                                                                                                                                                                                                                                                                                                                                                                                                                                                                                                                                                                                                                                                                                                                                                                                                                                                                                                                                                                The best pancake mix ever made! We've been buying it for years, and don't use any other brands. It is also gluten free.  \n",
       "363022                                                                                                                                                                                                                                                                                                                                                                                                                                                                                                                                                                                                                                                                                                                                                                                                                                    This bacon cooker is the best I have come across so far.<br />Even my husband approves and he only would eat bacon cooked on top of<br />the stove in a fry pan.<br />I am ordering another one.<br />It's easy to clean.  I don't think one would be disappointed.  \n",
       "555887  I have two diabetic senior cats in my brood and I try to make sure I feel them all the best quality food I can fit into my budget.  The cats do love this food and I feel good feeding it to them because it is high quality.  The ingredients read like human-food, there are virtually no preservatives and it doesn't have that \"cat food\" smell.  The cats always lick off all of the \"broth\" it's packed in before moving on to the shreds of chicken breast itself.<br /><br />My only caveat is the cost.  Yes, I know you pay more for good quality cat food but I have read that even a lower quality wet food is better for your cats than a diet consisting of only dry food, even if it's the best dry food.  I feed my cats wet food once daily and they have \"grazing priviledges\" with a bowl of high quality dry food (<a href=\"http://www.amazon.com/gp/product/B002C1WE5O\">Solid Gold Indigo Moon Holistic Cat Food</a>) that I typically have to fill once a day.  I may buy this once in a while as a treat but they seem to enjoy the less expensive leading brand just as much.  "
      ]
     },
     "execution_count": 31,
     "metadata": {},
     "output_type": "execute_result"
    }
   ],
   "source": [
    "droppedData=dataset.drop(lmtpData.index)\n",
    "dataset2=droppedData.sample(1000,random_state=43)\n",
    "dataset2.head()"
   ]
  },
  {
   "cell_type": "code",
   "execution_count": 32,
   "id": "23af602a",
   "metadata": {
    "execution": {
     "iopub.execute_input": "2025-03-10T10:54:20.310586Z",
     "iopub.status.busy": "2025-03-10T10:54:20.310160Z",
     "iopub.status.idle": "2025-03-10T10:54:20.320742Z",
     "shell.execute_reply": "2025-03-10T10:54:20.319562Z"
    },
    "papermill": {
     "duration": 0.042723,
     "end_time": "2025-03-10T10:54:20.322271",
     "exception": false,
     "start_time": "2025-03-10T10:54:20.279548",
     "status": "completed"
    },
    "tags": []
   },
   "outputs": [
    {
     "data": {
      "text/html": [
       "<div>\n",
       "<style scoped>\n",
       "    .dataframe tbody tr th:only-of-type {\n",
       "        vertical-align: middle;\n",
       "    }\n",
       "\n",
       "    .dataframe tbody tr th {\n",
       "        vertical-align: top;\n",
       "    }\n",
       "\n",
       "    .dataframe thead th {\n",
       "        text-align: right;\n",
       "    }\n",
       "</style>\n",
       "<table border=\"1\" class=\"dataframe\">\n",
       "  <thead>\n",
       "    <tr style=\"text-align: right;\">\n",
       "      <th></th>\n",
       "      <th>Score</th>\n",
       "      <th>Summary</th>\n",
       "      <th>Text</th>\n",
       "    </tr>\n",
       "  </thead>\n",
       "  <tbody>\n",
       "    <tr>\n",
       "      <th>150210</th>\n",
       "      <td>4</td>\n",
       "      <td>Good flavor</td>\n",
       "      <td>Very good traditional artificial grape flavor. Kind of like grape bubble gum. They are not as hard as I expected but I think they are worth the money.</td>\n",
       "    </tr>\n",
       "    <tr>\n",
       "      <th>541134</th>\n",
       "      <td>3</td>\n",
       "      <td>okay, but not as good as the original</td>\n",
       "      <td>i guess i didn't look carefully enough at the description, but this was the \"light\" version and i had to use much more to equal the regular agave.</td>\n",
       "    </tr>\n",
       "    <tr>\n",
       "      <th>480332</th>\n",
       "      <td>5</td>\n",
       "      <td>Pamela's pancake mix</td>\n",
       "      <td>The best pancake mix ever made! We've been buying it for years, and don't use any other brands. It is also gluten free.</td>\n",
       "    </tr>\n",
       "    <tr>\n",
       "      <th>363022</th>\n",
       "      <td>5</td>\n",
       "      <td>Best for cooking bacon</td>\n",
       "      <td>This bacon cooker is the best I have come across so far.&lt;br /&gt;Even my husband approves and he only would eat bacon cooked on top of&lt;br /&gt;the stove in a fry pan.&lt;br /&gt;I am ordering another one.&lt;br /&gt;It's easy to clean.  I don't think one would be disappointed.</td>\n",
       "    </tr>\n",
       "    <tr>\n",
       "      <th>555887</th>\n",
       "      <td>4</td>\n",
       "      <td>Weruva Paw Lickin' Chicken wet cat food</td>\n",
       "      <td>I have two diabetic senior cats in my brood and I try to make sure I feel them all the best quality food I can fit into my budget.  The cats do love this food and I feel good feeding it to them because it is high quality.  The ingredients read like human-food, there are virtually no preservatives and it doesn't have that \"cat food\" smell.  The cats always lick off all of the \"broth\" it's packed in before moving on to the shreds of chicken breast itself.&lt;br /&gt;&lt;br /&gt;My only caveat is the cost.  Yes, I know you pay more for good quality cat food but I have read that even a lower quality wet food is better for your cats than a diet consisting of only dry food, even if it's the best dry food.  I feed my cats wet food once daily and they have \"grazing priviledges\" with a bowl of high quality dry food (&lt;a href=\"http://www.amazon.com/gp/product/B002C1WE5O\"&gt;Solid Gold Indigo Moon Holistic Cat Food&lt;/a&gt;) that I typically have to fill once a day.  I may buy this once in a while as a treat but they seem to enjoy the less expensive leading brand just as much.</td>\n",
       "    </tr>\n",
       "  </tbody>\n",
       "</table>\n",
       "</div>"
      ],
      "text/plain": [
       "        Score                                  Summary  \\\n",
       "150210      4                              Good flavor   \n",
       "541134      3    okay, but not as good as the original   \n",
       "480332      5                     Pamela's pancake mix   \n",
       "363022      5                   Best for cooking bacon   \n",
       "555887      4  Weruva Paw Lickin' Chicken wet cat food   \n",
       "\n",
       "                                                                                                                                                                                                                                                                                                                                                                                                                                                                                                                                                                                                                                                                                                                                                                                                                                                                                                                                                                                                                                                                                                         Text  \n",
       "150210                                                                                                                                                                                                                                                                                                                                                                                                                                                                                                                                                                                                                                                                                                                                                                                                                                                                                                                                                 Very good traditional artificial grape flavor. Kind of like grape bubble gum. They are not as hard as I expected but I think they are worth the money.  \n",
       "541134                                                                                                                                                                                                                                                                                                                                                                                                                                                                                                                                                                                                                                                                                                                                                                                                                                                                                                                                                     i guess i didn't look carefully enough at the description, but this was the \"light\" version and i had to use much more to equal the regular agave.  \n",
       "480332                                                                                                                                                                                                                                                                                                                                                                                                                                                                                                                                                                                                                                                                                                                                                                                                                                                                                                                                                                                The best pancake mix ever made! We've been buying it for years, and don't use any other brands. It is also gluten free.  \n",
       "363022                                                                                                                                                                                                                                                                                                                                                                                                                                                                                                                                                                                                                                                                                                                                                                                                                                    This bacon cooker is the best I have come across so far.<br />Even my husband approves and he only would eat bacon cooked on top of<br />the stove in a fry pan.<br />I am ordering another one.<br />It's easy to clean.  I don't think one would be disappointed.  \n",
       "555887  I have two diabetic senior cats in my brood and I try to make sure I feel them all the best quality food I can fit into my budget.  The cats do love this food and I feel good feeding it to them because it is high quality.  The ingredients read like human-food, there are virtually no preservatives and it doesn't have that \"cat food\" smell.  The cats always lick off all of the \"broth\" it's packed in before moving on to the shreds of chicken breast itself.<br /><br />My only caveat is the cost.  Yes, I know you pay more for good quality cat food but I have read that even a lower quality wet food is better for your cats than a diet consisting of only dry food, even if it's the best dry food.  I feed my cats wet food once daily and they have \"grazing priviledges\" with a bowl of high quality dry food (<a href=\"http://www.amazon.com/gp/product/B002C1WE5O\">Solid Gold Indigo Moon Holistic Cat Food</a>) that I typically have to fill once a day.  I may buy this once in a while as a treat but they seem to enjoy the less expensive leading brand just as much.  "
      ]
     },
     "execution_count": 32,
     "metadata": {},
     "output_type": "execute_result"
    }
   ],
   "source": [
    "lmtpData2=dataset2[['Score','Summary','Text']]\n",
    "lmtpData2.head()"
   ]
  },
  {
   "cell_type": "code",
   "execution_count": 33,
   "id": "e5a02689",
   "metadata": {
    "execution": {
     "iopub.execute_input": "2025-03-10T10:54:20.383802Z",
     "iopub.status.busy": "2025-03-10T10:54:20.383459Z",
     "iopub.status.idle": "2025-03-10T10:54:20.390974Z",
     "shell.execute_reply": "2025-03-10T10:54:20.390031Z"
    },
    "papermill": {
     "duration": 0.040549,
     "end_time": "2025-03-10T10:54:20.392700",
     "exception": false,
     "start_time": "2025-03-10T10:54:20.352151",
     "status": "completed"
    },
    "tags": []
   },
   "outputs": [],
   "source": [
    "lmtpData2 = lmtpData2.copy()\n",
    "lmtpData2['Summary'] = lmtpData2['Summary'].fillna(\"\")\n",
    "lmtpData2['CombinedText'] = lmtpData2['Summary'] + \" \" + lmtpData2['Text']\n"
   ]
  },
  {
   "cell_type": "code",
   "execution_count": 34,
   "id": "3772ad5e",
   "metadata": {
    "execution": {
     "iopub.execute_input": "2025-03-10T10:54:20.454288Z",
     "iopub.status.busy": "2025-03-10T10:54:20.453942Z",
     "iopub.status.idle": "2025-03-10T10:54:20.465890Z",
     "shell.execute_reply": "2025-03-10T10:54:20.464615Z"
    },
    "papermill": {
     "duration": 0.045049,
     "end_time": "2025-03-10T10:54:20.467433",
     "exception": false,
     "start_time": "2025-03-10T10:54:20.422384",
     "status": "completed"
    },
    "tags": []
   },
   "outputs": [
    {
     "name": "stdout",
     "output_type": "stream",
     "text": [
      "<class 'pandas.core.frame.DataFrame'>\n",
      "Index: 1000 entries, 150210 to 28988\n",
      "Data columns (total 4 columns):\n",
      " #   Column        Non-Null Count  Dtype \n",
      "---  ------        --------------  ----- \n",
      " 0   Score         1000 non-null   int64 \n",
      " 1   Summary       1000 non-null   object\n",
      " 2   Text          1000 non-null   object\n",
      " 3   CombinedText  1000 non-null   object\n",
      "dtypes: int64(1), object(3)\n",
      "memory usage: 39.1+ KB\n"
     ]
    }
   ],
   "source": [
    "lmtpData2.info()"
   ]
  },
  {
   "cell_type": "code",
   "execution_count": 35,
   "id": "6e468c51",
   "metadata": {
    "execution": {
     "iopub.execute_input": "2025-03-10T10:54:20.528081Z",
     "iopub.status.busy": "2025-03-10T10:54:20.527742Z",
     "iopub.status.idle": "2025-03-10T10:54:20.540342Z",
     "shell.execute_reply": "2025-03-10T10:54:20.539232Z"
    },
    "papermill": {
     "duration": 0.044623,
     "end_time": "2025-03-10T10:54:20.542075",
     "exception": false,
     "start_time": "2025-03-10T10:54:20.497452",
     "status": "completed"
    },
    "tags": []
   },
   "outputs": [
    {
     "data": {
      "text/html": [
       "<div>\n",
       "<style scoped>\n",
       "    .dataframe tbody tr th:only-of-type {\n",
       "        vertical-align: middle;\n",
       "    }\n",
       "\n",
       "    .dataframe tbody tr th {\n",
       "        vertical-align: top;\n",
       "    }\n",
       "\n",
       "    .dataframe thead th {\n",
       "        text-align: right;\n",
       "    }\n",
       "</style>\n",
       "<table border=\"1\" class=\"dataframe\">\n",
       "  <thead>\n",
       "    <tr style=\"text-align: right;\">\n",
       "      <th></th>\n",
       "      <th>Score</th>\n",
       "      <th>Summary</th>\n",
       "      <th>Text</th>\n",
       "      <th>CombinedText</th>\n",
       "      <th>Sentiment</th>\n",
       "    </tr>\n",
       "  </thead>\n",
       "  <tbody>\n",
       "    <tr>\n",
       "      <th>150210</th>\n",
       "      <td>4</td>\n",
       "      <td>Good flavor</td>\n",
       "      <td>Very good traditional artificial grape flavor. Kind of like grape bubble gum. They are not as hard as I expected but I think they are worth the money.</td>\n",
       "      <td>Good flavor Very good traditional artificial grape flavor. Kind of like grape bubble gum. They are not as hard as I expected but I think they are worth the money.</td>\n",
       "      <td>1</td>\n",
       "    </tr>\n",
       "    <tr>\n",
       "      <th>541134</th>\n",
       "      <td>3</td>\n",
       "      <td>okay, but not as good as the original</td>\n",
       "      <td>i guess i didn't look carefully enough at the description, but this was the \"light\" version and i had to use much more to equal the regular agave.</td>\n",
       "      <td>okay, but not as good as the original i guess i didn't look carefully enough at the description, but this was the \"light\" version and i had to use much more to equal the regular agave.</td>\n",
       "      <td>2</td>\n",
       "    </tr>\n",
       "    <tr>\n",
       "      <th>480332</th>\n",
       "      <td>5</td>\n",
       "      <td>Pamela's pancake mix</td>\n",
       "      <td>The best pancake mix ever made! We've been buying it for years, and don't use any other brands. It is also gluten free.</td>\n",
       "      <td>Pamela's pancake mix The best pancake mix ever made! We've been buying it for years, and don't use any other brands. It is also gluten free.</td>\n",
       "      <td>1</td>\n",
       "    </tr>\n",
       "    <tr>\n",
       "      <th>363022</th>\n",
       "      <td>5</td>\n",
       "      <td>Best for cooking bacon</td>\n",
       "      <td>This bacon cooker is the best I have come across so far.&lt;br /&gt;Even my husband approves and he only would eat bacon cooked on top of&lt;br /&gt;the stove in a fry pan.&lt;br /&gt;I am ordering another one.&lt;br /&gt;It's easy to clean.  I don't think one would be disappointed.</td>\n",
       "      <td>Best for cooking bacon This bacon cooker is the best I have come across so far.&lt;br /&gt;Even my husband approves and he only would eat bacon cooked on top of&lt;br /&gt;the stove in a fry pan.&lt;br /&gt;I am ordering another one.&lt;br /&gt;It's easy to clean.  I don't think one would be disappointed.</td>\n",
       "      <td>1</td>\n",
       "    </tr>\n",
       "    <tr>\n",
       "      <th>555887</th>\n",
       "      <td>4</td>\n",
       "      <td>Weruva Paw Lickin' Chicken wet cat food</td>\n",
       "      <td>I have two diabetic senior cats in my brood and I try to make sure I feel them all the best quality food I can fit into my budget.  The cats do love this food and I feel good feeding it to them because it is high quality.  The ingredients read like human-food, there are virtually no preservatives and it doesn't have that \"cat food\" smell.  The cats always lick off all of the \"broth\" it's packed in before moving on to the shreds of chicken breast itself.&lt;br /&gt;&lt;br /&gt;My only caveat is the cost.  Yes, I know you pay more for good quality cat food but I have read that even a lower quality wet food is better for your cats than a diet consisting of only dry food, even if it's the best dry food.  I feed my cats wet food once daily and they have \"grazing priviledges\" with a bowl of high quality dry food (&lt;a href=\"http://www.amazon.com/gp/product/B002C1WE5O\"&gt;Solid Gold Indigo Moon Holistic Cat Food&lt;/a&gt;) that I typically have to fill once a day.  I may buy this once in a while as a treat but they seem to enjoy the less expensive leading brand just as much.</td>\n",
       "      <td>Weruva Paw Lickin' Chicken wet cat food I have two diabetic senior cats in my brood and I try to make sure I feel them all the best quality food I can fit into my budget.  The cats do love this food and I feel good feeding it to them because it is high quality.  The ingredients read like human-food, there are virtually no preservatives and it doesn't have that \"cat food\" smell.  The cats always lick off all of the \"broth\" it's packed in before moving on to the shreds of chicken breast itself.&lt;br /&gt;&lt;br /&gt;My only caveat is the cost.  Yes, I know you pay more for good quality cat food but I have read that even a lower quality wet food is better for your cats than a diet consisting of only dry food, even if it's the best dry food.  I feed my cats wet food once daily and they have \"grazing priviledges\" with a bowl of high quality dry food (&lt;a href=\"http://www.amazon.com/gp/product/B002C1WE5O\"&gt;Solid Gold Indigo Moon Holistic Cat Food&lt;/a&gt;) that I typically have to fill once a day.  I may buy this once in a while as a treat but they seem to enjoy the less expensive leading brand just as much.</td>\n",
       "      <td>1</td>\n",
       "    </tr>\n",
       "  </tbody>\n",
       "</table>\n",
       "</div>"
      ],
      "text/plain": [
       "        Score                                  Summary  \\\n",
       "150210      4                              Good flavor   \n",
       "541134      3    okay, but not as good as the original   \n",
       "480332      5                     Pamela's pancake mix   \n",
       "363022      5                   Best for cooking bacon   \n",
       "555887      4  Weruva Paw Lickin' Chicken wet cat food   \n",
       "\n",
       "                                                                                                                                                                                                                                                                                                                                                                                                                                                                                                                                                                                                                                                                                                                                                                                                                                                                                                                                                                                                                                                                                                         Text  \\\n",
       "150210                                                                                                                                                                                                                                                                                                                                                                                                                                                                                                                                                                                                                                                                                                                                                                                                                                                                                                                                                 Very good traditional artificial grape flavor. Kind of like grape bubble gum. They are not as hard as I expected but I think they are worth the money.   \n",
       "541134                                                                                                                                                                                                                                                                                                                                                                                                                                                                                                                                                                                                                                                                                                                                                                                                                                                                                                                                                     i guess i didn't look carefully enough at the description, but this was the \"light\" version and i had to use much more to equal the regular agave.   \n",
       "480332                                                                                                                                                                                                                                                                                                                                                                                                                                                                                                                                                                                                                                                                                                                                                                                                                                                                                                                                                                                The best pancake mix ever made! We've been buying it for years, and don't use any other brands. It is also gluten free.   \n",
       "363022                                                                                                                                                                                                                                                                                                                                                                                                                                                                                                                                                                                                                                                                                                                                                                                                                                    This bacon cooker is the best I have come across so far.<br />Even my husband approves and he only would eat bacon cooked on top of<br />the stove in a fry pan.<br />I am ordering another one.<br />It's easy to clean.  I don't think one would be disappointed.   \n",
       "555887  I have two diabetic senior cats in my brood and I try to make sure I feel them all the best quality food I can fit into my budget.  The cats do love this food and I feel good feeding it to them because it is high quality.  The ingredients read like human-food, there are virtually no preservatives and it doesn't have that \"cat food\" smell.  The cats always lick off all of the \"broth\" it's packed in before moving on to the shreds of chicken breast itself.<br /><br />My only caveat is the cost.  Yes, I know you pay more for good quality cat food but I have read that even a lower quality wet food is better for your cats than a diet consisting of only dry food, even if it's the best dry food.  I feed my cats wet food once daily and they have \"grazing priviledges\" with a bowl of high quality dry food (<a href=\"http://www.amazon.com/gp/product/B002C1WE5O\">Solid Gold Indigo Moon Holistic Cat Food</a>) that I typically have to fill once a day.  I may buy this once in a while as a treat but they seem to enjoy the less expensive leading brand just as much.   \n",
       "\n",
       "                                                                                                                                                                                                                                                                                                                                                                                                                                                                                                                                                                                                                                                                                                                                                                                                                                                                                                                                                                                                                                                                                                                                         CombinedText  \\\n",
       "150210                                                                                                                                                                                                                                                                                                                                                                                                                                                                                                                                                                                                                                                                                                                                                                                                                                                                                                                                                                             Good flavor Very good traditional artificial grape flavor. Kind of like grape bubble gum. They are not as hard as I expected but I think they are worth the money.   \n",
       "541134                                                                                                                                                                                                                                                                                                                                                                                                                                                                                                                                                                                                                                                                                                                                                                                                                                                                                                                                                       okay, but not as good as the original i guess i didn't look carefully enough at the description, but this was the \"light\" version and i had to use much more to equal the regular agave.   \n",
       "480332                                                                                                                                                                                                                                                                                                                                                                                                                                                                                                                                                                                                                                                                                                                                                                                                                                                                                                                                                                                                   Pamela's pancake mix The best pancake mix ever made! We've been buying it for years, and don't use any other brands. It is also gluten free.   \n",
       "363022                                                                                                                                                                                                                                                                                                                                                                                                                                                                                                                                                                                                                                                                                                                                                                                                                                                     Best for cooking bacon This bacon cooker is the best I have come across so far.<br />Even my husband approves and he only would eat bacon cooked on top of<br />the stove in a fry pan.<br />I am ordering another one.<br />It's easy to clean.  I don't think one would be disappointed.   \n",
       "555887  Weruva Paw Lickin' Chicken wet cat food I have two diabetic senior cats in my brood and I try to make sure I feel them all the best quality food I can fit into my budget.  The cats do love this food and I feel good feeding it to them because it is high quality.  The ingredients read like human-food, there are virtually no preservatives and it doesn't have that \"cat food\" smell.  The cats always lick off all of the \"broth\" it's packed in before moving on to the shreds of chicken breast itself.<br /><br />My only caveat is the cost.  Yes, I know you pay more for good quality cat food but I have read that even a lower quality wet food is better for your cats than a diet consisting of only dry food, even if it's the best dry food.  I feed my cats wet food once daily and they have \"grazing priviledges\" with a bowl of high quality dry food (<a href=\"http://www.amazon.com/gp/product/B002C1WE5O\">Solid Gold Indigo Moon Holistic Cat Food</a>) that I typically have to fill once a day.  I may buy this once in a while as a treat but they seem to enjoy the less expensive leading brand just as much.   \n",
       "\n",
       "        Sentiment  \n",
       "150210          1  \n",
       "541134          2  \n",
       "480332          1  \n",
       "363022          1  \n",
       "555887          1  "
      ]
     },
     "execution_count": 35,
     "metadata": {},
     "output_type": "execute_result"
    }
   ],
   "source": [
    "\n",
    "lmtpData2['Sentiment']=lmtpData2['Score'].apply(lblScore)\n",
    "lmtpData2.head(5)"
   ]
  },
  {
   "cell_type": "code",
   "execution_count": 36,
   "id": "b3f65ed6",
   "metadata": {
    "execution": {
     "iopub.execute_input": "2025-03-10T10:54:20.605832Z",
     "iopub.status.busy": "2025-03-10T10:54:20.605485Z",
     "iopub.status.idle": "2025-03-10T10:54:20.755062Z",
     "shell.execute_reply": "2025-03-10T10:54:20.754080Z"
    },
    "papermill": {
     "duration": 0.182769,
     "end_time": "2025-03-10T10:54:20.756917",
     "exception": false,
     "start_time": "2025-03-10T10:54:20.574148",
     "status": "completed"
    },
    "tags": []
   },
   "outputs": [],
   "source": [
    "tokenizer.fit_on_texts(lmtpData2['CombinedText'])\n",
    "sequences=tokenizer.texts_to_sequences(lmtpData2['CombinedText'])\n",
    "\n",
    "maxLen=100\n",
    "paddedData=pad_sequences(sequences,maxlen=maxLen,padding='post')\n",
    "embedding_dim=100\n",
    "vocabSize=len(tokenizer.word_index) + 1\n",
    "\n",
    "embeddingMatrix2=np.zeros((vocabSize,embedding_dim))\n",
    "\n",
    "for word,i in tokenizer.word_index.items():\n",
    "    embeddingVector2=gloveEmbeddings.get(word)\n",
    "    if embeddingVector2 is not None:\n",
    "        embeddingMatrix2[i]=embeddingVector2"
   ]
  },
  {
   "cell_type": "markdown",
   "id": "3f7c1daf",
   "metadata": {
    "papermill": {
     "duration": 0.03012,
     "end_time": "2025-03-10T10:54:20.818633",
     "exception": false,
     "start_time": "2025-03-10T10:54:20.788513",
     "status": "completed"
    },
    "tags": []
   },
   "source": [
    "### BALANCING THE CLASSES"
   ]
  },
  {
   "cell_type": "code",
   "execution_count": 37,
   "id": "20e8ad9c",
   "metadata": {
    "execution": {
     "iopub.execute_input": "2025-03-10T10:54:20.879981Z",
     "iopub.status.busy": "2025-03-10T10:54:20.879641Z",
     "iopub.status.idle": "2025-03-10T10:54:22.966609Z",
     "shell.execute_reply": "2025-03-10T10:54:22.965630Z"
    },
    "papermill": {
     "duration": 2.119909,
     "end_time": "2025-03-10T10:54:22.968520",
     "exception": false,
     "start_time": "2025-03-10T10:54:20.848611",
     "status": "completed"
    },
    "tags": []
   },
   "outputs": [],
   "source": [
    "from imblearn.over_sampling import SMOTE\n",
    "\n",
    "\n",
    "y2 = lmtpData2['Sentiment'].values\n",
    "\n",
    "\n",
    "smote = SMOTE(random_state=42)\n",
    "X_resampled, Y_resampled = smote.fit_resample(paddedData, y2)\n"
   ]
  },
  {
   "cell_type": "code",
   "execution_count": 38,
   "id": "40f5ad2d",
   "metadata": {
    "execution": {
     "iopub.execute_input": "2025-03-10T10:54:23.030227Z",
     "iopub.status.busy": "2025-03-10T10:54:23.029551Z",
     "iopub.status.idle": "2025-03-10T10:54:23.130509Z",
     "shell.execute_reply": "2025-03-10T10:54:23.129423Z"
    },
    "papermill": {
     "duration": 0.133769,
     "end_time": "2025-03-10T10:54:23.132490",
     "exception": false,
     "start_time": "2025-03-10T10:54:22.998721",
     "status": "completed"
    },
    "tags": []
   },
   "outputs": [
    {
     "data": {
      "text/html": [
       "<pre style=\"white-space:pre;overflow-x:auto;line-height:normal;font-family:Menlo,'DejaVu Sans Mono',consolas,'Courier New',monospace\"><span style=\"font-weight: bold\">Model: \"sequential_1\"</span>\n",
       "</pre>\n"
      ],
      "text/plain": [
       "\u001b[1mModel: \"sequential_1\"\u001b[0m\n"
      ]
     },
     "metadata": {},
     "output_type": "display_data"
    },
    {
     "data": {
      "text/html": [
       "<pre style=\"white-space:pre;overflow-x:auto;line-height:normal;font-family:Menlo,'DejaVu Sans Mono',consolas,'Courier New',monospace\">┏━━━━━━━━━━━━━━━━━━━━━━━━━━━━━━━━━━━━━━┳━━━━━━━━━━━━━━━━━━━━━━━━━━━━━┳━━━━━━━━━━━━━━━━━┓\n",
       "┃<span style=\"font-weight: bold\"> Layer (type)                         </span>┃<span style=\"font-weight: bold\"> Output Shape                </span>┃<span style=\"font-weight: bold\">         Param # </span>┃\n",
       "┡━━━━━━━━━━━━━━━━━━━━━━━━━━━━━━━━━━━━━━╇━━━━━━━━━━━━━━━━━━━━━━━━━━━━━╇━━━━━━━━━━━━━━━━━┩\n",
       "│ embedding_1 (<span style=\"color: #0087ff; text-decoration-color: #0087ff\">Embedding</span>)              │ (<span style=\"color: #00d7ff; text-decoration-color: #00d7ff\">None</span>, <span style=\"color: #00af00; text-decoration-color: #00af00\">100</span>, <span style=\"color: #00af00; text-decoration-color: #00af00\">100</span>)            │       <span style=\"color: #00af00; text-decoration-color: #00af00\">1,002,000</span> │\n",
       "├──────────────────────────────────────┼─────────────────────────────┼─────────────────┤\n",
       "│ lstm_2 (<span style=\"color: #0087ff; text-decoration-color: #0087ff\">LSTM</span>)                        │ (<span style=\"color: #00d7ff; text-decoration-color: #00d7ff\">None</span>, <span style=\"color: #00af00; text-decoration-color: #00af00\">100</span>, <span style=\"color: #00af00; text-decoration-color: #00af00\">128</span>)            │         <span style=\"color: #00af00; text-decoration-color: #00af00\">117,248</span> │\n",
       "├──────────────────────────────────────┼─────────────────────────────┼─────────────────┤\n",
       "│ lstm_3 (<span style=\"color: #0087ff; text-decoration-color: #0087ff\">LSTM</span>)                        │ (<span style=\"color: #00d7ff; text-decoration-color: #00d7ff\">None</span>, <span style=\"color: #00af00; text-decoration-color: #00af00\">64</span>)                  │          <span style=\"color: #00af00; text-decoration-color: #00af00\">49,408</span> │\n",
       "├──────────────────────────────────────┼─────────────────────────────┼─────────────────┤\n",
       "│ dropout_1 (<span style=\"color: #0087ff; text-decoration-color: #0087ff\">Dropout</span>)                  │ (<span style=\"color: #00d7ff; text-decoration-color: #00d7ff\">None</span>, <span style=\"color: #00af00; text-decoration-color: #00af00\">64</span>)                  │               <span style=\"color: #00af00; text-decoration-color: #00af00\">0</span> │\n",
       "├──────────────────────────────────────┼─────────────────────────────┼─────────────────┤\n",
       "│ dense_1 (<span style=\"color: #0087ff; text-decoration-color: #0087ff\">Dense</span>)                      │ (<span style=\"color: #00d7ff; text-decoration-color: #00d7ff\">None</span>, <span style=\"color: #00af00; text-decoration-color: #00af00\">3</span>)                   │             <span style=\"color: #00af00; text-decoration-color: #00af00\">195</span> │\n",
       "└──────────────────────────────────────┴─────────────────────────────┴─────────────────┘\n",
       "</pre>\n"
      ],
      "text/plain": [
       "┏━━━━━━━━━━━━━━━━━━━━━━━━━━━━━━━━━━━━━━┳━━━━━━━━━━━━━━━━━━━━━━━━━━━━━┳━━━━━━━━━━━━━━━━━┓\n",
       "┃\u001b[1m \u001b[0m\u001b[1mLayer (type)                        \u001b[0m\u001b[1m \u001b[0m┃\u001b[1m \u001b[0m\u001b[1mOutput Shape               \u001b[0m\u001b[1m \u001b[0m┃\u001b[1m \u001b[0m\u001b[1m        Param #\u001b[0m\u001b[1m \u001b[0m┃\n",
       "┡━━━━━━━━━━━━━━━━━━━━━━━━━━━━━━━━━━━━━━╇━━━━━━━━━━━━━━━━━━━━━━━━━━━━━╇━━━━━━━━━━━━━━━━━┩\n",
       "│ embedding_1 (\u001b[38;5;33mEmbedding\u001b[0m)              │ (\u001b[38;5;45mNone\u001b[0m, \u001b[38;5;34m100\u001b[0m, \u001b[38;5;34m100\u001b[0m)            │       \u001b[38;5;34m1,002,000\u001b[0m │\n",
       "├──────────────────────────────────────┼─────────────────────────────┼─────────────────┤\n",
       "│ lstm_2 (\u001b[38;5;33mLSTM\u001b[0m)                        │ (\u001b[38;5;45mNone\u001b[0m, \u001b[38;5;34m100\u001b[0m, \u001b[38;5;34m128\u001b[0m)            │         \u001b[38;5;34m117,248\u001b[0m │\n",
       "├──────────────────────────────────────┼─────────────────────────────┼─────────────────┤\n",
       "│ lstm_3 (\u001b[38;5;33mLSTM\u001b[0m)                        │ (\u001b[38;5;45mNone\u001b[0m, \u001b[38;5;34m64\u001b[0m)                  │          \u001b[38;5;34m49,408\u001b[0m │\n",
       "├──────────────────────────────────────┼─────────────────────────────┼─────────────────┤\n",
       "│ dropout_1 (\u001b[38;5;33mDropout\u001b[0m)                  │ (\u001b[38;5;45mNone\u001b[0m, \u001b[38;5;34m64\u001b[0m)                  │               \u001b[38;5;34m0\u001b[0m │\n",
       "├──────────────────────────────────────┼─────────────────────────────┼─────────────────┤\n",
       "│ dense_1 (\u001b[38;5;33mDense\u001b[0m)                      │ (\u001b[38;5;45mNone\u001b[0m, \u001b[38;5;34m3\u001b[0m)                   │             \u001b[38;5;34m195\u001b[0m │\n",
       "└──────────────────────────────────────┴─────────────────────────────┴─────────────────┘\n"
      ]
     },
     "metadata": {},
     "output_type": "display_data"
    },
    {
     "data": {
      "text/html": [
       "<pre style=\"white-space:pre;overflow-x:auto;line-height:normal;font-family:Menlo,'DejaVu Sans Mono',consolas,'Courier New',monospace\"><span style=\"font-weight: bold\"> Total params: </span><span style=\"color: #00af00; text-decoration-color: #00af00\">1,168,851</span> (4.46 MB)\n",
       "</pre>\n"
      ],
      "text/plain": [
       "\u001b[1m Total params: \u001b[0m\u001b[38;5;34m1,168,851\u001b[0m (4.46 MB)\n"
      ]
     },
     "metadata": {},
     "output_type": "display_data"
    },
    {
     "data": {
      "text/html": [
       "<pre style=\"white-space:pre;overflow-x:auto;line-height:normal;font-family:Menlo,'DejaVu Sans Mono',consolas,'Courier New',monospace\"><span style=\"font-weight: bold\"> Trainable params: </span><span style=\"color: #00af00; text-decoration-color: #00af00\">166,851</span> (651.76 KB)\n",
       "</pre>\n"
      ],
      "text/plain": [
       "\u001b[1m Trainable params: \u001b[0m\u001b[38;5;34m166,851\u001b[0m (651.76 KB)\n"
      ]
     },
     "metadata": {},
     "output_type": "display_data"
    },
    {
     "data": {
      "text/html": [
       "<pre style=\"white-space:pre;overflow-x:auto;line-height:normal;font-family:Menlo,'DejaVu Sans Mono',consolas,'Courier New',monospace\"><span style=\"font-weight: bold\"> Non-trainable params: </span><span style=\"color: #00af00; text-decoration-color: #00af00\">1,002,000</span> (3.82 MB)\n",
       "</pre>\n"
      ],
      "text/plain": [
       "\u001b[1m Non-trainable params: \u001b[0m\u001b[38;5;34m1,002,000\u001b[0m (3.82 MB)\n"
      ]
     },
     "metadata": {},
     "output_type": "display_data"
    }
   ],
   "source": [
    "maxLen=100\n",
    "model = Sequential([\n",
    "    Input(shape=(maxLen,)),\n",
    "    Embedding(input_dim=vocabSize,  \n",
    "              output_dim=embedding_dim, \n",
    "              weights=embeddingMatrix2, \n",
    "             \n",
    "              trainable=False), \n",
    "    LSTM(128, return_sequences=True),\n",
    "    LSTM(64),\n",
    "    Dropout(0.6),\n",
    "    Dense(3, activation='softmax') \n",
    "])\n",
    "\n",
    "\n",
    "model.compile(loss='sparse_categorical_crossentropy', optimizer='adam', metrics=['accuracy'])\n",
    "\n",
    "model.summary()\n"
   ]
  },
  {
   "cell_type": "code",
   "execution_count": 39,
   "id": "5a973fbc",
   "metadata": {
    "execution": {
     "iopub.execute_input": "2025-03-10T10:54:23.197154Z",
     "iopub.status.busy": "2025-03-10T10:54:23.196780Z",
     "iopub.status.idle": "2025-03-10T10:55:12.042863Z",
     "shell.execute_reply": "2025-03-10T10:55:12.041467Z"
    },
    "papermill": {
     "duration": 48.880554,
     "end_time": "2025-03-10T10:55:12.044825",
     "exception": false,
     "start_time": "2025-03-10T10:54:23.164271",
     "status": "completed"
    },
    "tags": []
   },
   "outputs": [
    {
     "name": "stdout",
     "output_type": "stream",
     "text": [
      "Epoch 1/6\n",
      "\u001b[1m53/53\u001b[0m \u001b[32m━━━━━━━━━━━━━━━━━━━━\u001b[0m\u001b[37m\u001b[0m \u001b[1m11s\u001b[0m 154ms/step - accuracy: 0.4869 - loss: 0.9433 - val_accuracy: 0.0000e+00 - val_loss: 2.7960\n",
      "Epoch 2/6\n",
      "\u001b[1m53/53\u001b[0m \u001b[32m━━━━━━━━━━━━━━━━━━━━\u001b[0m\u001b[37m\u001b[0m \u001b[1m7s\u001b[0m 141ms/step - accuracy: 0.5202 - loss: 0.8854 - val_accuracy: 0.0000e+00 - val_loss: 2.9947\n",
      "Epoch 3/6\n",
      "\u001b[1m53/53\u001b[0m \u001b[32m━━━━━━━━━━━━━━━━━━━━\u001b[0m\u001b[37m\u001b[0m \u001b[1m7s\u001b[0m 140ms/step - accuracy: 0.5076 - loss: 0.8564 - val_accuracy: 0.0000e+00 - val_loss: 3.4829\n",
      "Epoch 4/6\n",
      "\u001b[1m53/53\u001b[0m \u001b[32m━━━━━━━━━━━━━━━━━━━━\u001b[0m\u001b[37m\u001b[0m \u001b[1m7s\u001b[0m 140ms/step - accuracy: 0.5249 - loss: 0.8695 - val_accuracy: 0.0000e+00 - val_loss: 2.9748\n",
      "Epoch 5/6\n",
      "\u001b[1m53/53\u001b[0m \u001b[32m━━━━━━━━━━━━━━━━━━━━\u001b[0m\u001b[37m\u001b[0m \u001b[1m8s\u001b[0m 147ms/step - accuracy: 0.5460 - loss: 0.8634 - val_accuracy: 0.0000e+00 - val_loss: 3.3342\n",
      "Epoch 6/6\n",
      "\u001b[1m53/53\u001b[0m \u001b[32m━━━━━━━━━━━━━━━━━━━━\u001b[0m\u001b[37m\u001b[0m \u001b[1m8s\u001b[0m 142ms/step - accuracy: 0.5693 - loss: 0.8349 - val_accuracy: 0.0000e+00 - val_loss: 3.1565\n"
     ]
    },
    {
     "data": {
      "text/plain": [
       "<keras.src.callbacks.history.History at 0x7e553c71e9e0>"
      ]
     },
     "execution_count": 39,
     "metadata": {},
     "output_type": "execute_result"
    }
   ],
   "source": [
    "model.fit(X_resampled, Y_resampled, epochs=6, batch_size=32, validation_split=0.3)"
   ]
  },
  {
   "cell_type": "code",
   "execution_count": 40,
   "id": "15a86cc0",
   "metadata": {
    "execution": {
     "iopub.execute_input": "2025-03-10T10:55:12.148601Z",
     "iopub.status.busy": "2025-03-10T10:55:12.148154Z",
     "iopub.status.idle": "2025-03-10T10:56:57.406024Z",
     "shell.execute_reply": "2025-03-10T10:56:57.404933Z"
    },
    "papermill": {
     "duration": 105.311816,
     "end_time": "2025-03-10T10:56:57.407625",
     "exception": false,
     "start_time": "2025-03-10T10:55:12.095809",
     "status": "completed"
    },
    "tags": []
   },
   "outputs": [
    {
     "name": "stdout",
     "output_type": "stream",
     "text": [
      "Epoch 1/15\n",
      "\u001b[1m46/46\u001b[0m \u001b[32m━━━━━━━━━━━━━━━━━━━━\u001b[0m\u001b[37m\u001b[0m \u001b[1m7s\u001b[0m 152ms/step - accuracy: 0.6107 - loss: 0.8258 - val_accuracy: 0.0780 - val_loss: 2.3970\n",
      "Epoch 2/15\n",
      "\u001b[1m46/46\u001b[0m \u001b[32m━━━━━━━━━━━━━━━━━━━━\u001b[0m\u001b[37m\u001b[0m \u001b[1m7s\u001b[0m 152ms/step - accuracy: 0.6373 - loss: 0.7758 - val_accuracy: 0.0936 - val_loss: 2.6163\n",
      "Epoch 3/15\n",
      "\u001b[1m46/46\u001b[0m \u001b[32m━━━━━━━━━━━━━━━━━━━━\u001b[0m\u001b[37m\u001b[0m \u001b[1m7s\u001b[0m 152ms/step - accuracy: 0.6383 - loss: 0.7973 - val_accuracy: 0.2152 - val_loss: 2.8819\n",
      "Epoch 4/15\n",
      "\u001b[1m46/46\u001b[0m \u001b[32m━━━━━━━━━━━━━━━━━━━━\u001b[0m\u001b[37m\u001b[0m \u001b[1m7s\u001b[0m 156ms/step - accuracy: 0.7115 - loss: 0.6917 - val_accuracy: 0.2432 - val_loss: 2.6633\n",
      "Epoch 5/15\n",
      "\u001b[1m46/46\u001b[0m \u001b[32m━━━━━━━━━━━━━━━━━━━━\u001b[0m\u001b[37m\u001b[0m \u001b[1m7s\u001b[0m 151ms/step - accuracy: 0.6574 - loss: 0.7519 - val_accuracy: 0.1830 - val_loss: 2.6694\n",
      "Epoch 6/15\n",
      "\u001b[1m46/46\u001b[0m \u001b[32m━━━━━━━━━━━━━━━━━━━━\u001b[0m\u001b[37m\u001b[0m \u001b[1m7s\u001b[0m 151ms/step - accuracy: 0.6905 - loss: 0.7065 - val_accuracy: 0.1341 - val_loss: 2.5937\n",
      "Epoch 7/15\n",
      "\u001b[1m46/46\u001b[0m \u001b[32m━━━━━━━━━━━━━━━━━━━━\u001b[0m\u001b[37m\u001b[0m \u001b[1m7s\u001b[0m 151ms/step - accuracy: 0.6568 - loss: 0.7072 - val_accuracy: 0.2349 - val_loss: 2.7319\n",
      "Epoch 8/15\n",
      "\u001b[1m46/46\u001b[0m \u001b[32m━━━━━━━━━━━━━━━━━━━━\u001b[0m\u001b[37m\u001b[0m \u001b[1m7s\u001b[0m 158ms/step - accuracy: 0.7245 - loss: 0.6957 - val_accuracy: 0.1840 - val_loss: 2.8430\n",
      "Epoch 9/15\n",
      "\u001b[1m46/46\u001b[0m \u001b[32m━━━━━━━━━━━━━━━━━━━━\u001b[0m\u001b[37m\u001b[0m \u001b[1m7s\u001b[0m 153ms/step - accuracy: 0.7989 - loss: 0.6005 - val_accuracy: 0.2339 - val_loss: 2.8883\n",
      "Epoch 10/15\n",
      "\u001b[1m46/46\u001b[0m \u001b[32m━━━━━━━━━━━━━━━━━━━━\u001b[0m\u001b[37m\u001b[0m \u001b[1m7s\u001b[0m 151ms/step - accuracy: 0.8053 - loss: 0.5820 - val_accuracy: 0.2370 - val_loss: 2.8613\n",
      "Epoch 11/15\n",
      "\u001b[1m46/46\u001b[0m \u001b[32m━━━━━━━━━━━━━━━━━━━━\u001b[0m\u001b[37m\u001b[0m \u001b[1m7s\u001b[0m 150ms/step - accuracy: 0.8366 - loss: 0.5134 - val_accuracy: 0.2121 - val_loss: 2.6187\n",
      "Epoch 12/15\n",
      "\u001b[1m46/46\u001b[0m \u001b[32m━━━━━━━━━━━━━━━━━━━━\u001b[0m\u001b[37m\u001b[0m \u001b[1m7s\u001b[0m 150ms/step - accuracy: 0.8461 - loss: 0.4779 - val_accuracy: 0.1965 - val_loss: 2.6845\n",
      "Epoch 13/15\n",
      "\u001b[1m46/46\u001b[0m \u001b[32m━━━━━━━━━━━━━━━━━━━━\u001b[0m\u001b[37m\u001b[0m \u001b[1m7s\u001b[0m 159ms/step - accuracy: 0.8635 - loss: 0.4422 - val_accuracy: 0.2308 - val_loss: 2.6618\n",
      "Epoch 14/15\n",
      "\u001b[1m46/46\u001b[0m \u001b[32m━━━━━━━━━━━━━━━━━━━━\u001b[0m\u001b[37m\u001b[0m \u001b[1m7s\u001b[0m 151ms/step - accuracy: 0.8744 - loss: 0.4327 - val_accuracy: 0.2349 - val_loss: 3.0735\n",
      "Epoch 15/15\n",
      "\u001b[1m46/46\u001b[0m \u001b[32m━━━━━━━━━━━━━━━━━━━━\u001b[0m\u001b[37m\u001b[0m \u001b[1m7s\u001b[0m 150ms/step - accuracy: 0.8891 - loss: 0.3936 - val_accuracy: 0.2141 - val_loss: 2.8628\n"
     ]
    },
    {
     "data": {
      "text/plain": [
       "<keras.src.callbacks.history.History at 0x7e553c71f7f0>"
      ]
     },
     "execution_count": 40,
     "metadata": {},
     "output_type": "execute_result"
    }
   ],
   "source": [
    "model.fit(X_resampled, Y_resampled, epochs=15, batch_size=32, validation_split=0.4)"
   ]
  },
  {
   "cell_type": "code",
   "execution_count": 41,
   "id": "b13f0118",
   "metadata": {
    "execution": {
     "iopub.execute_input": "2025-03-10T10:56:57.591350Z",
     "iopub.status.busy": "2025-03-10T10:56:57.590991Z",
     "iopub.status.idle": "2025-03-10T10:59:42.593942Z",
     "shell.execute_reply": "2025-03-10T10:59:42.592927Z"
    },
    "papermill": {
     "duration": 165.096714,
     "end_time": "2025-03-10T10:59:42.595717",
     "exception": false,
     "start_time": "2025-03-10T10:56:57.499003",
     "status": "completed"
    },
    "tags": []
   },
   "outputs": [
    {
     "name": "stdout",
     "output_type": "stream",
     "text": [
      "Epoch 1/20\n",
      "\u001b[1m61/61\u001b[0m \u001b[32m━━━━━━━━━━━━━━━━━━━━\u001b[0m\u001b[37m\u001b[0m \u001b[1m8s\u001b[0m 134ms/step - accuracy: 0.7546 - loss: 0.7387 - val_accuracy: 0.0021 - val_loss: 1.5922\n",
      "Epoch 2/20\n",
      "\u001b[1m61/61\u001b[0m \u001b[32m━━━━━━━━━━━━━━━━━━━━\u001b[0m\u001b[37m\u001b[0m \u001b[1m9s\u001b[0m 140ms/step - accuracy: 0.7784 - loss: 0.5815 - val_accuracy: 0.0042 - val_loss: 1.5941\n",
      "Epoch 3/20\n",
      "\u001b[1m61/61\u001b[0m \u001b[32m━━━━━━━━━━━━━━━━━━━━\u001b[0m\u001b[37m\u001b[0m \u001b[1m8s\u001b[0m 133ms/step - accuracy: 0.8114 - loss: 0.5429 - val_accuracy: 0.0166 - val_loss: 1.2370\n",
      "Epoch 4/20\n",
      "\u001b[1m61/61\u001b[0m \u001b[32m━━━━━━━━━━━━━━━━━━━━\u001b[0m\u001b[37m\u001b[0m \u001b[1m8s\u001b[0m 133ms/step - accuracy: 0.8119 - loss: 0.4839 - val_accuracy: 0.0146 - val_loss: 1.3144\n",
      "Epoch 5/20\n",
      "\u001b[1m61/61\u001b[0m \u001b[32m━━━━━━━━━━━━━━━━━━━━\u001b[0m\u001b[37m\u001b[0m \u001b[1m8s\u001b[0m 131ms/step - accuracy: 0.8039 - loss: 0.5427 - val_accuracy: 0.0083 - val_loss: 1.4342\n",
      "Epoch 6/20\n",
      "\u001b[1m61/61\u001b[0m \u001b[32m━━━━━━━━━━━━━━━━━━━━\u001b[0m\u001b[37m\u001b[0m \u001b[1m8s\u001b[0m 138ms/step - accuracy: 0.8257 - loss: 0.4640 - val_accuracy: 0.0146 - val_loss: 1.4264\n",
      "Epoch 7/20\n",
      "\u001b[1m61/61\u001b[0m \u001b[32m━━━━━━━━━━━━━━━━━━━━\u001b[0m\u001b[37m\u001b[0m \u001b[1m8s\u001b[0m 132ms/step - accuracy: 0.8200 - loss: 0.4646 - val_accuracy: 0.0395 - val_loss: 1.2975\n",
      "Epoch 8/20\n",
      "\u001b[1m61/61\u001b[0m \u001b[32m━━━━━━━━━━━━━━━━━━━━\u001b[0m\u001b[37m\u001b[0m \u001b[1m8s\u001b[0m 132ms/step - accuracy: 0.7933 - loss: 0.5367 - val_accuracy: 0.1040 - val_loss: 1.4426\n",
      "Epoch 9/20\n",
      "\u001b[1m61/61\u001b[0m \u001b[32m━━━━━━━━━━━━━━━━━━━━\u001b[0m\u001b[37m\u001b[0m \u001b[1m8s\u001b[0m 132ms/step - accuracy: 0.8192 - loss: 0.4534 - val_accuracy: 0.0478 - val_loss: 1.2951\n",
      "Epoch 10/20\n",
      "\u001b[1m61/61\u001b[0m \u001b[32m━━━━━━━━━━━━━━━━━━━━\u001b[0m\u001b[37m\u001b[0m \u001b[1m8s\u001b[0m 138ms/step - accuracy: 0.8222 - loss: 0.4560 - val_accuracy: 0.0146 - val_loss: 1.4647\n",
      "Epoch 11/20\n",
      "\u001b[1m61/61\u001b[0m \u001b[32m━━━━━━━━━━━━━━━━━━━━\u001b[0m\u001b[37m\u001b[0m \u001b[1m8s\u001b[0m 131ms/step - accuracy: 0.8453 - loss: 0.3775 - val_accuracy: 0.0083 - val_loss: 1.7175\n",
      "Epoch 12/20\n",
      "\u001b[1m61/61\u001b[0m \u001b[32m━━━━━━━━━━━━━━━━━━━━\u001b[0m\u001b[37m\u001b[0m \u001b[1m8s\u001b[0m 132ms/step - accuracy: 0.8526 - loss: 0.3812 - val_accuracy: 0.1538 - val_loss: 1.1633\n",
      "Epoch 13/20\n",
      "\u001b[1m61/61\u001b[0m \u001b[32m━━━━━━━━━━━━━━━━━━━━\u001b[0m\u001b[37m\u001b[0m \u001b[1m8s\u001b[0m 132ms/step - accuracy: 0.8531 - loss: 0.3692 - val_accuracy: 0.0644 - val_loss: 1.4966\n",
      "Epoch 14/20\n",
      "\u001b[1m61/61\u001b[0m \u001b[32m━━━━━━━━━━━━━━━━━━━━\u001b[0m\u001b[37m\u001b[0m \u001b[1m8s\u001b[0m 138ms/step - accuracy: 0.8600 - loss: 0.3653 - val_accuracy: 0.0790 - val_loss: 1.4580\n",
      "Epoch 15/20\n",
      "\u001b[1m61/61\u001b[0m \u001b[32m━━━━━━━━━━━━━━━━━━━━\u001b[0m\u001b[37m\u001b[0m \u001b[1m10s\u001b[0m 133ms/step - accuracy: 0.8693 - loss: 0.3608 - val_accuracy: 0.0541 - val_loss: 1.7131\n",
      "Epoch 16/20\n",
      "\u001b[1m61/61\u001b[0m \u001b[32m━━━━━━━━━━━━━━━━━━━━\u001b[0m\u001b[37m\u001b[0m \u001b[1m8s\u001b[0m 133ms/step - accuracy: 0.8626 - loss: 0.3835 - val_accuracy: 0.0686 - val_loss: 1.5663\n",
      "Epoch 17/20\n",
      "\u001b[1m61/61\u001b[0m \u001b[32m━━━━━━━━━━━━━━━━━━━━\u001b[0m\u001b[37m\u001b[0m \u001b[1m8s\u001b[0m 131ms/step - accuracy: 0.8611 - loss: 0.3883 - val_accuracy: 0.1289 - val_loss: 1.4992\n",
      "Epoch 18/20\n",
      "\u001b[1m61/61\u001b[0m \u001b[32m━━━━━━━━━━━━━━━━━━━━\u001b[0m\u001b[37m\u001b[0m \u001b[1m8s\u001b[0m 137ms/step - accuracy: 0.8792 - loss: 0.3191 - val_accuracy: 0.1538 - val_loss: 1.4102\n",
      "Epoch 19/20\n",
      "\u001b[1m61/61\u001b[0m \u001b[32m━━━━━━━━━━━━━━━━━━━━\u001b[0m\u001b[37m\u001b[0m \u001b[1m8s\u001b[0m 130ms/step - accuracy: 0.8943 - loss: 0.2915 - val_accuracy: 0.1746 - val_loss: 1.3489\n",
      "Epoch 20/20\n",
      "\u001b[1m61/61\u001b[0m \u001b[32m━━━━━━━━━━━━━━━━━━━━\u001b[0m\u001b[37m\u001b[0m \u001b[1m8s\u001b[0m 130ms/step - accuracy: 0.9014 - loss: 0.2738 - val_accuracy: 0.1206 - val_loss: 1.9411\n"
     ]
    },
    {
     "data": {
      "text/plain": [
       "<keras.src.callbacks.history.History at 0x7e54f3902b90>"
      ]
     },
     "execution_count": 41,
     "metadata": {},
     "output_type": "execute_result"
    }
   ],
   "source": [
    "model.fit(X_resampled, Y_resampled, epochs=20, batch_size=32, validation_split=0.2)"
   ]
  },
  {
   "cell_type": "markdown",
   "id": "f537ddad",
   "metadata": {
    "papermill": {
     "duration": 0.160876,
     "end_time": "2025-03-10T10:59:42.921840",
     "exception": false,
     "start_time": "2025-03-10T10:59:42.760964",
     "status": "completed"
    },
    "tags": []
   },
   "source": [
    "### WITHOUT SMOTE"
   ]
  },
  {
   "cell_type": "code",
   "execution_count": 42,
   "id": "0ea1f713",
   "metadata": {
    "execution": {
     "iopub.execute_input": "2025-03-10T10:59:43.249099Z",
     "iopub.status.busy": "2025-03-10T10:59:43.248764Z",
     "iopub.status.idle": "2025-03-10T11:00:33.160926Z",
     "shell.execute_reply": "2025-03-10T11:00:33.159915Z"
    },
    "papermill": {
     "duration": 50.080507,
     "end_time": "2025-03-10T11:00:33.162576",
     "exception": false,
     "start_time": "2025-03-10T10:59:43.082069",
     "status": "completed"
    },
    "tags": []
   },
   "outputs": [
    {
     "name": "stdout",
     "output_type": "stream",
     "text": [
      "Epoch 1/15\n",
      "\u001b[1m22/22\u001b[0m \u001b[32m━━━━━━━━━━━━━━━━━━━━\u001b[0m\u001b[37m\u001b[0m \u001b[1m3s\u001b[0m 144ms/step - accuracy: 0.9547 - loss: 0.1902 - val_accuracy: 0.9367 - val_loss: 0.1813\n",
      "Epoch 2/15\n",
      "\u001b[1m22/22\u001b[0m \u001b[32m━━━━━━━━━━━━━━━━━━━━\u001b[0m\u001b[37m\u001b[0m \u001b[1m3s\u001b[0m 144ms/step - accuracy: 0.9277 - loss: 0.2612 - val_accuracy: 0.9567 - val_loss: 0.1545\n",
      "Epoch 3/15\n",
      "\u001b[1m22/22\u001b[0m \u001b[32m━━━━━━━━━━━━━━━━━━━━\u001b[0m\u001b[37m\u001b[0m \u001b[1m3s\u001b[0m 140ms/step - accuracy: 0.9607 - loss: 0.1531 - val_accuracy: 0.9567 - val_loss: 0.1812\n",
      "Epoch 4/15\n",
      "\u001b[1m22/22\u001b[0m \u001b[32m━━━━━━━━━━━━━━━━━━━━\u001b[0m\u001b[37m\u001b[0m \u001b[1m5s\u001b[0m 146ms/step - accuracy: 0.9541 - loss: 0.1613 - val_accuracy: 0.9633 - val_loss: 0.1475\n",
      "Epoch 5/15\n",
      "\u001b[1m22/22\u001b[0m \u001b[32m━━━━━━━━━━━━━━━━━━━━\u001b[0m\u001b[37m\u001b[0m \u001b[1m3s\u001b[0m 144ms/step - accuracy: 0.9480 - loss: 0.1831 - val_accuracy: 0.9667 - val_loss: 0.1289\n",
      "Epoch 6/15\n",
      "\u001b[1m22/22\u001b[0m \u001b[32m━━━━━━━━━━━━━━━━━━━━\u001b[0m\u001b[37m\u001b[0m \u001b[1m3s\u001b[0m 144ms/step - accuracy: 0.9307 - loss: 0.2122 - val_accuracy: 0.9300 - val_loss: 0.2374\n",
      "Epoch 7/15\n",
      "\u001b[1m22/22\u001b[0m \u001b[32m━━━━━━━━━━━━━━━━━━━━\u001b[0m\u001b[37m\u001b[0m \u001b[1m3s\u001b[0m 145ms/step - accuracy: 0.9545 - loss: 0.1881 - val_accuracy: 0.9500 - val_loss: 0.1688\n",
      "Epoch 8/15\n",
      "\u001b[1m22/22\u001b[0m \u001b[32m━━━━━━━━━━━━━━━━━━━━\u001b[0m\u001b[37m\u001b[0m \u001b[1m3s\u001b[0m 146ms/step - accuracy: 0.9310 - loss: 0.2467 - val_accuracy: 0.4900 - val_loss: 0.9942\n",
      "Epoch 9/15\n",
      "\u001b[1m22/22\u001b[0m \u001b[32m━━━━━━━━━━━━━━━━━━━━\u001b[0m\u001b[37m\u001b[0m \u001b[1m3s\u001b[0m 146ms/step - accuracy: 0.7445 - loss: 0.6994 - val_accuracy: 0.8633 - val_loss: 0.4412\n",
      "Epoch 10/15\n",
      "\u001b[1m22/22\u001b[0m \u001b[32m━━━━━━━━━━━━━━━━━━━━\u001b[0m\u001b[37m\u001b[0m \u001b[1m3s\u001b[0m 144ms/step - accuracy: 0.8445 - loss: 0.4713 - val_accuracy: 0.8567 - val_loss: 0.4200\n",
      "Epoch 11/15\n",
      "\u001b[1m22/22\u001b[0m \u001b[32m━━━━━━━━━━━━━━━━━━━━\u001b[0m\u001b[37m\u001b[0m \u001b[1m3s\u001b[0m 145ms/step - accuracy: 0.8864 - loss: 0.3805 - val_accuracy: 0.8633 - val_loss: 0.4004\n",
      "Epoch 12/15\n",
      "\u001b[1m22/22\u001b[0m \u001b[32m━━━━━━━━━━━━━━━━━━━━\u001b[0m\u001b[37m\u001b[0m \u001b[1m3s\u001b[0m 142ms/step - accuracy: 0.8794 - loss: 0.3319 - val_accuracy: 0.8500 - val_loss: 0.4268\n",
      "Epoch 13/15\n",
      "\u001b[1m22/22\u001b[0m \u001b[32m━━━━━━━━━━━━━━━━━━━━\u001b[0m\u001b[37m\u001b[0m \u001b[1m3s\u001b[0m 148ms/step - accuracy: 0.8632 - loss: 0.3677 - val_accuracy: 0.8667 - val_loss: 0.4425\n",
      "Epoch 14/15\n",
      "\u001b[1m22/22\u001b[0m \u001b[32m━━━━━━━━━━━━━━━━━━━━\u001b[0m\u001b[37m\u001b[0m \u001b[1m3s\u001b[0m 152ms/step - accuracy: 0.8971 - loss: 0.3165 - val_accuracy: 0.8600 - val_loss: 0.3592\n",
      "Epoch 15/15\n",
      "\u001b[1m22/22\u001b[0m \u001b[32m━━━━━━━━━━━━━━━━━━━━\u001b[0m\u001b[37m\u001b[0m \u001b[1m3s\u001b[0m 143ms/step - accuracy: 0.8899 - loss: 0.3095 - val_accuracy: 0.8767 - val_loss: 0.3601\n"
     ]
    },
    {
     "data": {
      "text/plain": [
       "<keras.src.callbacks.history.History at 0x7e54f070a0b0>"
      ]
     },
     "execution_count": 42,
     "metadata": {},
     "output_type": "execute_result"
    }
   ],
   "source": [
    "model.fit(paddedData,y2, epochs=15, batch_size=32, validation_split=0.3)"
   ]
  },
  {
   "cell_type": "markdown",
   "id": "e3a0e108",
   "metadata": {
    "papermill": {
     "duration": 0.18068,
     "end_time": "2025-03-10T11:00:33.530193",
     "exception": false,
     "start_time": "2025-03-10T11:00:33.349513",
     "status": "completed"
    },
    "tags": []
   },
   "source": [
    "#### PREDICTING DATA\n"
   ]
  },
  {
   "cell_type": "code",
   "execution_count": 43,
   "id": "99c73610",
   "metadata": {
    "execution": {
     "iopub.execute_input": "2025-03-10T11:00:33.896007Z",
     "iopub.status.busy": "2025-03-10T11:00:33.895624Z",
     "iopub.status.idle": "2025-03-10T11:00:35.989497Z",
     "shell.execute_reply": "2025-03-10T11:00:35.988566Z"
    },
    "papermill": {
     "duration": 2.280982,
     "end_time": "2025-03-10T11:00:35.991222",
     "exception": false,
     "start_time": "2025-03-10T11:00:33.710240",
     "status": "completed"
    },
    "tags": []
   },
   "outputs": [
    {
     "name": "stdout",
     "output_type": "stream",
     "text": [
      "\u001b[1m32/32\u001b[0m \u001b[32m━━━━━━━━━━━━━━━━━━━━\u001b[0m\u001b[37m\u001b[0m \u001b[1m2s\u001b[0m 55ms/step\n"
     ]
    }
   ],
   "source": [
    "predictedData=model.predict(paddedData)\n",
    "\n",
    "corrected_classes2 = np.argmax(predictedData, axis=1)\n",
    "mapping = {0: 1, 1: 2, 2: 0}\n",
    "predClasses= np.array([mapping[i] for i in corrected_classes2])"
   ]
  },
  {
   "cell_type": "code",
   "execution_count": 44,
   "id": "80f7b74f",
   "metadata": {
    "execution": {
     "iopub.execute_input": "2025-03-10T11:00:36.360782Z",
     "iopub.status.busy": "2025-03-10T11:00:36.360428Z",
     "iopub.status.idle": "2025-03-10T11:00:36.367869Z",
     "shell.execute_reply": "2025-03-10T11:00:36.366749Z"
    },
    "papermill": {
     "duration": 0.195744,
     "end_time": "2025-03-10T11:00:36.369724",
     "exception": false,
     "start_time": "2025-03-10T11:00:36.173980",
     "status": "completed"
    },
    "tags": []
   },
   "outputs": [],
   "source": [
    "comparisonData2=pd.DataFrame({\n",
    "    \"Text\":lmtpData[\"CombinedText\"],\n",
    "    \"Actual Sentiment\":lmtpData[\"Sentiment\"].values,\n",
    "    \"Predicted Sentiment\":predClasses\n",
    "})\n",
    "\n",
    "\n",
    "comparisonData2[\"Positive\"] = predictedData[:, 0] \n",
    "comparisonData2[\"Neutral\"] = predictedData[:, 1]  \n",
    "comparisonData2[\"Negative\"] = predictedData[:, 2]"
   ]
  },
  {
   "cell_type": "code",
   "execution_count": 45,
   "id": "4b254812",
   "metadata": {
    "execution": {
     "iopub.execute_input": "2025-03-10T11:00:36.735938Z",
     "iopub.status.busy": "2025-03-10T11:00:36.735581Z",
     "iopub.status.idle": "2025-03-10T11:00:36.748343Z",
     "shell.execute_reply": "2025-03-10T11:00:36.747202Z"
    },
    "papermill": {
     "duration": 0.199592,
     "end_time": "2025-03-10T11:00:36.749980",
     "exception": false,
     "start_time": "2025-03-10T11:00:36.550388",
     "status": "completed"
    },
    "tags": []
   },
   "outputs": [
    {
     "data": {
      "text/html": [
       "<div>\n",
       "<style scoped>\n",
       "    .dataframe tbody tr th:only-of-type {\n",
       "        vertical-align: middle;\n",
       "    }\n",
       "\n",
       "    .dataframe tbody tr th {\n",
       "        vertical-align: top;\n",
       "    }\n",
       "\n",
       "    .dataframe thead th {\n",
       "        text-align: right;\n",
       "    }\n",
       "</style>\n",
       "<table border=\"1\" class=\"dataframe\">\n",
       "  <thead>\n",
       "    <tr style=\"text-align: right;\">\n",
       "      <th></th>\n",
       "      <th>Text</th>\n",
       "      <th>Actual Sentiment</th>\n",
       "      <th>Predicted Sentiment</th>\n",
       "      <th>Positive</th>\n",
       "      <th>Neutral</th>\n",
       "      <th>Negative</th>\n",
       "    </tr>\n",
       "  </thead>\n",
       "  <tbody>\n",
       "    <tr>\n",
       "      <th>174217</th>\n",
       "      <td>Excellent Quality I regularly order this soy milk product and use it with granola cereal. It is great by itself as well. Be sure to serve chilled. It has a strong vanilla flavor, which I like. I keep thinking that I'm going to get tired of it, but it still tastes great each and every carton.</td>\n",
       "      <td>1</td>\n",
       "      <td>2</td>\n",
       "      <td>0.148347</td>\n",
       "      <td>0.704749</td>\n",
       "      <td>0.146905</td>\n",
       "    </tr>\n",
       "    <tr>\n",
       "      <th>531696</th>\n",
       "      <td>My Favorite :-) Great quality service and product every time !! Everyone should try Grove Square French Vanilla Cappuccino cups.  The option for the 3 pack 18 count best fits my lifestyle.</td>\n",
       "      <td>1</td>\n",
       "      <td>2</td>\n",
       "      <td>0.003725</td>\n",
       "      <td>0.994473</td>\n",
       "      <td>0.001802</td>\n",
       "    </tr>\n",
       "    <tr>\n",
       "      <th>311327</th>\n",
       "      <td>Yum! and a fraction of the price of others on Amaz. This stuff is fresh and smells great!&lt;br /&gt;Ingredients as listed:&lt;br /&gt;\"CUMIN, CLOVES, GINGER, BLK. PEPPER, CORIANDER, CINNAMON, SALT, CARDAMON\"&lt;br /&gt;I just threw it into some curried lentils, with great results.  You get a lot and quality seems to be very good, so great value here.  I'm really looking forward to all the things I'm going to make with this jar of it.</td>\n",
       "      <td>1</td>\n",
       "      <td>2</td>\n",
       "      <td>0.012548</td>\n",
       "      <td>0.962343</td>\n",
       "      <td>0.025109</td>\n",
       "    </tr>\n",
       "    <tr>\n",
       "      <th>274784</th>\n",
       "      <td>SEEMS TO BE A WATERED DOWN PRODUCT Sadaf Vinegar - Red Wine 32-oz seems to be a watered down version of the most common brand I buy from my local grocery store.  Particularly when I use it in making vinagrettes I notice just how weak it is compared to others I have purchased.  I would not recommend this unless you like a watered-down taste.</td>\n",
       "      <td>0</td>\n",
       "      <td>2</td>\n",
       "      <td>0.012503</td>\n",
       "      <td>0.962428</td>\n",
       "      <td>0.025069</td>\n",
       "    </tr>\n",
       "    <tr>\n",
       "      <th>471492</th>\n",
       "      <td>Box now changed and Tea STINKS! I got a case of this and the box now says \"white tea for smooth taste\" and the ingredients are Green Tea, White Tea and Raspberry flavor with other natural flavors.  The tea leaves an almost chalky, blah taste in your mouth.  I very much enjoyed the old formula with the picture of the angel on the package and am sad to see this go and HIGHLY disapointed with Amazon for not warning me I was not getting the same product.  The ingredients list and picture on this webpage are wrong!!! DON'T BUY IT!</td>\n",
       "      <td>0</td>\n",
       "      <td>2</td>\n",
       "      <td>0.000085</td>\n",
       "      <td>0.999377</td>\n",
       "      <td>0.000538</td>\n",
       "    </tr>\n",
       "    <tr>\n",
       "      <th>371200</th>\n",
       "      <td>My Mother loved it! My Mother called and just recieved this assortment.  She LOVES it. She said it is a large box, filled with full sized candy and she remembered many of them.&lt;br /&gt;She was very suprised and said it was the best gift she has recived so far.  The product was true to the description and was well worth the money.</td>\n",
       "      <td>1</td>\n",
       "      <td>2</td>\n",
       "      <td>0.012503</td>\n",
       "      <td>0.962429</td>\n",
       "      <td>0.025068</td>\n",
       "    </tr>\n",
       "    <tr>\n",
       "      <th>279625</th>\n",
       "      <td>Tazo Chai Tea Excellent product and great taste.  It even has a nice spiced bite to it!</td>\n",
       "      <td>1</td>\n",
       "      <td>2</td>\n",
       "      <td>0.012283</td>\n",
       "      <td>0.963178</td>\n",
       "      <td>0.024539</td>\n",
       "    </tr>\n",
       "    <tr>\n",
       "      <th>421670</th>\n",
       "      <td>LOVE IT!! LOVE IT!!!  L O V E  IT!!!!!!!!!!!!!!!!!!!!!!! I purchased this for massage, but out of curiosity I tasted it, I might buy another just for food use! The smell is WONDERFUL not strong or over powering. Sinks in to skin quickly leaves no grease or oil on your skin, just amazing softness.&lt;br /&gt;BUY IT!!</td>\n",
       "      <td>1</td>\n",
       "      <td>2</td>\n",
       "      <td>0.012823</td>\n",
       "      <td>0.962038</td>\n",
       "      <td>0.025140</td>\n",
       "    </tr>\n",
       "    <tr>\n",
       "      <th>534980</th>\n",
       "      <td>excellent bags for freezing nothing bad to say about these bags. great quality and value, no leaks, holds a lot more than what's marked. i stack them flat in a tupperware in the freezer, then transfer to a larger freezer zip-loc bag for maximum use of my freezer space. also, our milk bank doesn't provide bags to bm donors, so i'm using these to store/freeze for donations.</td>\n",
       "      <td>1</td>\n",
       "      <td>2</td>\n",
       "      <td>0.012474</td>\n",
       "      <td>0.962527</td>\n",
       "      <td>0.024999</td>\n",
       "    </tr>\n",
       "    <tr>\n",
       "      <th>475536</th>\n",
       "      <td>Crystal Light This by far the best Crystal Light product on the market I just wish you would keep making it but an e-mail I just received stated they are going to stop making it this a bummer</td>\n",
       "      <td>1</td>\n",
       "      <td>2</td>\n",
       "      <td>0.018120</td>\n",
       "      <td>0.959916</td>\n",
       "      <td>0.021964</td>\n",
       "    </tr>\n",
       "  </tbody>\n",
       "</table>\n",
       "</div>"
      ],
      "text/plain": [
       "                                                                                                                                                                                                                                                                                                                                                                                                                                                                                                                                                       Text  \\\n",
       "174217                                                                                                                                                                                                                                                 Excellent Quality I regularly order this soy milk product and use it with granola cereal. It is great by itself as well. Be sure to serve chilled. It has a strong vanilla flavor, which I like. I keep thinking that I'm going to get tired of it, but it still tastes great each and every carton.   \n",
       "531696                                                                                                                                                                                                                                                                                                                                                         My Favorite :-) Great quality service and product every time !! Everyone should try Grove Square French Vanilla Cappuccino cups.  The option for the 3 pack 18 count best fits my lifestyle.   \n",
       "311327                                                                                                                 Yum! and a fraction of the price of others on Amaz. This stuff is fresh and smells great!<br />Ingredients as listed:<br />\"CUMIN, CLOVES, GINGER, BLK. PEPPER, CORIANDER, CINNAMON, SALT, CARDAMON\"<br />I just threw it into some curried lentils, with great results.  You get a lot and quality seems to be very good, so great value here.  I'm really looking forward to all the things I'm going to make with this jar of it.   \n",
       "274784                                                                                                                                                                                               SEEMS TO BE A WATERED DOWN PRODUCT Sadaf Vinegar - Red Wine 32-oz seems to be a watered down version of the most common brand I buy from my local grocery store.  Particularly when I use it in making vinagrettes I notice just how weak it is compared to others I have purchased.  I would not recommend this unless you like a watered-down taste.   \n",
       "471492  Box now changed and Tea STINKS! I got a case of this and the box now says \"white tea for smooth taste\" and the ingredients are Green Tea, White Tea and Raspberry flavor with other natural flavors.  The tea leaves an almost chalky, blah taste in your mouth.  I very much enjoyed the old formula with the picture of the angel on the package and am sad to see this go and HIGHLY disapointed with Amazon for not warning me I was not getting the same product.  The ingredients list and picture on this webpage are wrong!!! DON'T BUY IT!   \n",
       "371200                                                                                                                                                                                                             My Mother loved it! My Mother called and just recieved this assortment.  She LOVES it. She said it is a large box, filled with full sized candy and she remembered many of them.<br />She was very suprised and said it was the best gift she has recived so far.  The product was true to the description and was well worth the money.   \n",
       "279625                                                                                                                                                                                                                                                                                                                                                                                                                                                              Tazo Chai Tea Excellent product and great taste.  It even has a nice spiced bite to it!   \n",
       "421670                                                                                                                                                                                                                              LOVE IT!! LOVE IT!!!  L O V E  IT!!!!!!!!!!!!!!!!!!!!!!! I purchased this for massage, but out of curiosity I tasted it, I might buy another just for food use! The smell is WONDERFUL not strong or over powering. Sinks in to skin quickly leaves no grease or oil on your skin, just amazing softness.<br />BUY IT!!   \n",
       "534980                                                                                                                                                               excellent bags for freezing nothing bad to say about these bags. great quality and value, no leaks, holds a lot more than what's marked. i stack them flat in a tupperware in the freezer, then transfer to a larger freezer zip-loc bag for maximum use of my freezer space. also, our milk bank doesn't provide bags to bm donors, so i'm using these to store/freeze for donations.   \n",
       "475536                                                                                                                                                                                                                                                                                                                                                      Crystal Light This by far the best Crystal Light product on the market I just wish you would keep making it but an e-mail I just received stated they are going to stop making it this a bummer   \n",
       "\n",
       "        Actual Sentiment  Predicted Sentiment  Positive   Neutral  Negative  \n",
       "174217                 1                    2  0.148347  0.704749  0.146905  \n",
       "531696                 1                    2  0.003725  0.994473  0.001802  \n",
       "311327                 1                    2  0.012548  0.962343  0.025109  \n",
       "274784                 0                    2  0.012503  0.962428  0.025069  \n",
       "471492                 0                    2  0.000085  0.999377  0.000538  \n",
       "371200                 1                    2  0.012503  0.962429  0.025068  \n",
       "279625                 1                    2  0.012283  0.963178  0.024539  \n",
       "421670                 1                    2  0.012823  0.962038  0.025140  \n",
       "534980                 1                    2  0.012474  0.962527  0.024999  \n",
       "475536                 1                    2  0.018120  0.959916  0.021964  "
      ]
     },
     "execution_count": 45,
     "metadata": {},
     "output_type": "execute_result"
    }
   ],
   "source": [
    "comparisonData2.tail(10)"
   ]
  },
  {
   "cell_type": "code",
   "execution_count": 46,
   "id": "ffd62795",
   "metadata": {
    "execution": {
     "iopub.execute_input": "2025-03-10T11:00:37.118797Z",
     "iopub.status.busy": "2025-03-10T11:00:37.118399Z",
     "iopub.status.idle": "2025-03-10T11:00:37.327272Z",
     "shell.execute_reply": "2025-03-10T11:00:37.326100Z"
    },
    "papermill": {
     "duration": 0.395607,
     "end_time": "2025-03-10T11:00:37.329208",
     "exception": false,
     "start_time": "2025-03-10T11:00:36.933601",
     "status": "completed"
    },
    "tags": []
   },
   "outputs": [],
   "source": [
    "comparisonData2.to_excel('PredictedSample2.xlsx')"
   ]
  },
  {
   "cell_type": "markdown",
   "id": "a2eca0ef",
   "metadata": {
    "papermill": {
     "duration": 0.245256,
     "end_time": "2025-03-10T11:00:37.763535",
     "exception": false,
     "start_time": "2025-03-10T11:00:37.518279",
     "status": "completed"
    },
    "tags": []
   },
   "source": [
    "#### USING A SPECIFIC REVIEW"
   ]
  },
  {
   "cell_type": "code",
   "execution_count": 47,
   "id": "3f16a7b3",
   "metadata": {
    "execution": {
     "iopub.execute_input": "2025-03-10T11:00:38.138359Z",
     "iopub.status.busy": "2025-03-10T11:00:38.137968Z",
     "iopub.status.idle": "2025-03-10T11:00:38.231417Z",
     "shell.execute_reply": "2025-03-10T11:00:38.230284Z"
    },
    "papermill": {
     "duration": 0.283383,
     "end_time": "2025-03-10T11:00:38.233166",
     "exception": false,
     "start_time": "2025-03-10T11:00:37.949783",
     "status": "completed"
    },
    "tags": []
   },
   "outputs": [
    {
     "name": "stdout",
     "output_type": "stream",
     "text": [
      "\u001b[1m1/1\u001b[0m \u001b[32m━━━━━━━━━━━━━━━━━━━━\u001b[0m\u001b[37m\u001b[0m \u001b[1m0s\u001b[0m 37ms/step\n",
      "Predicted Class:  [0]\n"
     ]
    }
   ],
   "source": [
    "\n",
    "new_review = \"I love this product, it's amazing!\"\n",
    "\n",
    "\n",
    "new_review_tokens = tokenizer.texts_to_sequences([new_review])\n",
    "new_review_padded = pad_sequences(new_review_tokens, maxlen=maxLen)\n",
    "\n",
    "predictions = model.predict(new_review_padded)\n",
    "\n",
    "\n",
    "predicted_class = np.argmax(predictions, axis=1)\n",
    "\n",
    "print(\"Predicted Class: \", predicted_class)\n"
   ]
  },
  {
   "cell_type": "markdown",
   "id": "012ab07d",
   "metadata": {
    "papermill": {
     "duration": 0.183466,
     "end_time": "2025-03-10T11:00:38.601946",
     "exception": false,
     "start_time": "2025-03-10T11:00:38.418480",
     "status": "completed"
    },
    "tags": []
   },
   "source": [
    "## PREDICTING SPECIFIC REVIEWS"
   ]
  },
  {
   "cell_type": "code",
   "execution_count": 48,
   "id": "9b498845",
   "metadata": {
    "execution": {
     "iopub.execute_input": "2025-03-10T11:00:38.978216Z",
     "iopub.status.busy": "2025-03-10T11:00:38.977831Z",
     "iopub.status.idle": "2025-03-10T11:00:39.070856Z",
     "shell.execute_reply": "2025-03-10T11:00:39.069794Z"
    },
    "papermill": {
     "duration": 0.283935,
     "end_time": "2025-03-10T11:00:39.072632",
     "exception": false,
     "start_time": "2025-03-10T11:00:38.788697",
     "status": "completed"
    },
    "tags": []
   },
   "outputs": [
    {
     "name": "stdout",
     "output_type": "stream",
     "text": [
      "\u001b[1m1/1\u001b[0m \u001b[32m━━━━━━━━━━━━━━━━━━━━\u001b[0m\u001b[37m\u001b[0m \u001b[1m0s\u001b[0m 36ms/step\n",
      "{'Review': \"I had high hopes for this product after reading multiple positive reviews, but unfortunately, my experience was quite mixed. The packaging was impressive, giving it a premium feel, but upon opening, I noticed an overpowering artificial scent that was quite off-putting. I decided to give it a fair chance, so I followed the instructions to the letter, hoping the actual performance would overshadow my initial doubts. The first few uses were promising—it seemed to deliver on its claims, and I started thinking I had found my new go-to. However, after consistent use over a couple of weeks, the drawbacks became painfully apparent. The quality didn’t hold up, and instead of improving my experience, I felt it became more of a hassle. The texture was inconsistent, and I found myself frustrated more often than satisfied. Another issue I encountered was the durability—what was advertised as long-lasting started showing signs of wear way too soon. While I can appreciate the effort put into making this product appealing, the reality just didn’t match the hype. I wouldn't go as far as to say it's completely useless—it has its moments—but I certainly wouldn’t repurchase at this price point. If you're someone who values longevity and consistent performance, you might want to look elsewhere. For me, it's a disappointing experience that didn’t live up to the expectations.\", 'Probabilities': {'Negative': 0.004338756, 'Neutral': 0.98977053, 'Positive': 0.0058907927}, 'Predicted Sentiment': 'Neutral'}\n"
     ]
    }
   ],
   "source": [
    "def predictReviewSentiment(review,tokenizer,model,mapping,maxLength=100):\n",
    "    revSequence=tokenizer.texts_to_sequences([review])\n",
    "    paddedReviews=pad_sequences(revSequence,maxlen=maxLength,padding='post')\n",
    "    revPredictions=model.predict(paddedReviews)\n",
    "    negative_prob, neutral_prob, positive_prob = revPredictions[0]\n",
    "    predicted_class = np.argmax(revPredictions, axis=1)[0]  \n",
    "    sentiment = mapping[predicted_class]\n",
    "    return {\n",
    "        \"Review\": review,\n",
    "        \"Probabilities\": {\n",
    "            \"Negative\": negative_prob,\n",
    "            \"Neutral\": neutral_prob,\n",
    "            \"Positive\": positive_prob\n",
    "        },\n",
    "        \"Predicted Sentiment\": sentiment\n",
    "    }\n",
    "mapping = {0: \"Negative\", 1: \"Neutral\", 2: \"Positive\"} \n",
    "text=\"I had high hopes for this product after reading multiple positive reviews, but unfortunately, my experience was quite mixed. The packaging was impressive, giving it a premium feel, but upon opening, I noticed an overpowering artificial scent that was quite off-putting. I decided to give it a fair chance, so I followed the instructions to the letter, hoping the actual performance would overshadow my initial doubts. The first few uses were promising—it seemed to deliver on its claims, and I started thinking I had found my new go-to. However, after consistent use over a couple of weeks, the drawbacks became painfully apparent. The quality didn’t hold up, and instead of improving my experience, I felt it became more of a hassle. The texture was inconsistent, and I found myself frustrated more often than satisfied. Another issue I encountered was the durability—what was advertised as long-lasting started showing signs of wear way too soon. While I can appreciate the effort put into making this product appealing, the reality just didn’t match the hype. I wouldn't go as far as to say it's completely useless—it has its moments—but I certainly wouldn’t repurchase at this price point. If you're someone who values longevity and consistent performance, you might want to look elsewhere. For me, it's a disappointing experience that didn’t live up to the expectations.\"\n",
    "result = predictReviewSentiment(text, tokenizer, model, mapping)\n",
    "print (result)"
   ]
  },
  {
   "cell_type": "code",
   "execution_count": 49,
   "id": "4bf7f951",
   "metadata": {
    "execution": {
     "iopub.execute_input": "2025-03-10T11:00:39.529930Z",
     "iopub.status.busy": "2025-03-10T11:00:39.529593Z",
     "iopub.status.idle": "2025-03-10T11:00:39.624803Z",
     "shell.execute_reply": "2025-03-10T11:00:39.623752Z"
    },
    "papermill": {
     "duration": 0.367823,
     "end_time": "2025-03-10T11:00:39.626745",
     "exception": false,
     "start_time": "2025-03-10T11:00:39.258922",
     "status": "completed"
    },
    "tags": []
   },
   "outputs": [
    {
     "name": "stdout",
     "output_type": "stream",
     "text": [
      "\u001b[1m1/1\u001b[0m \u001b[32m━━━━━━━━━━━━━━━━━━━━\u001b[0m\u001b[37m\u001b[0m \u001b[1m0s\u001b[0m 37ms/step\n",
      "{'Review': 'I purchased this product a few weeks ago, and honestly, I have mixed feelings about it. \\nIt does what it’s supposed to do, but there’s nothing particularly special about it. \\nThe design is pretty standard, and while it functions well most of the time, \\nI wouldn’t say it exceeds expectations. It’s neither the best nor the worst I’ve used—it just gets the job done. \\n\\nThe build quality seems decent, though I do wonder about its long-term durability. \\nIt’s not flimsy, but it doesn’t feel premium either. The setup process was straightforward, \\nthough I did have to check the instructions a couple of times to clarify a few things. \\n\\nPerformance-wise, I’d say it’s reliable, but there are occasional inconsistencies. \\nSometimes it works perfectly, other times it takes a bit of effort to get it going. \\nNothing major, but enough to notice. \\n\\nWould I buy it again? Maybe, if I didn’t find a better alternative. \\nIt’s not a bad purchase, but it’s also not something I would enthusiastically recommend. \\nIf you need something that works and aren’t too picky about minor inconveniences, this should be fine.', 'Probabilities': {'Negative': 0.0008277908, 'Neutral': 0.9983346, 'Positive': 0.00083754654}, 'Predicted Sentiment': 'Neutral'}\n"
     ]
    }
   ],
   "source": [
    "review3 = \"\"\"I purchased this product a few weeks ago, and honestly, I have mixed feelings about it. \n",
    "It does what it’s supposed to do, but there’s nothing particularly special about it. \n",
    "The design is pretty standard, and while it functions well most of the time, \n",
    "I wouldn’t say it exceeds expectations. It’s neither the best nor the worst I’ve used—it just gets the job done. \n",
    "\n",
    "The build quality seems decent, though I do wonder about its long-term durability. \n",
    "It’s not flimsy, but it doesn’t feel premium either. The setup process was straightforward, \n",
    "though I did have to check the instructions a couple of times to clarify a few things. \n",
    "\n",
    "Performance-wise, I’d say it’s reliable, but there are occasional inconsistencies. \n",
    "Sometimes it works perfectly, other times it takes a bit of effort to get it going. \n",
    "Nothing major, but enough to notice. \n",
    "\n",
    "Would I buy it again? Maybe, if I didn’t find a better alternative. \n",
    "It’s not a bad purchase, but it’s also not something I would enthusiastically recommend. \n",
    "If you need something that works and aren’t too picky about minor inconveniences, this should be fine.\"\"\"\n",
    "\n",
    "result3 = predictReviewSentiment(review3, tokenizer, model, mapping)\n",
    "print(result3)\n"
   ]
  },
  {
   "cell_type": "code",
   "execution_count": 50,
   "id": "1f868990",
   "metadata": {
    "execution": {
     "iopub.execute_input": "2025-03-10T11:00:40.001610Z",
     "iopub.status.busy": "2025-03-10T11:00:40.001206Z",
     "iopub.status.idle": "2025-03-10T11:00:40.095662Z",
     "shell.execute_reply": "2025-03-10T11:00:40.094393Z"
    },
    "papermill": {
     "duration": 0.28485,
     "end_time": "2025-03-10T11:00:40.097283",
     "exception": false,
     "start_time": "2025-03-10T11:00:39.812433",
     "status": "completed"
    },
    "tags": []
   },
   "outputs": [
    {
     "name": "stdout",
     "output_type": "stream",
     "text": [
      "\u001b[1m1/1\u001b[0m \u001b[32m━━━━━━━━━━━━━━━━━━━━\u001b[0m\u001b[37m\u001b[0m \u001b[1m0s\u001b[0m 36ms/step\n",
      "{'Review': \"This is by far one of the worst purchases I have ever made. From the moment I opened the box, I knew I had made a mistake. The product feels cheap, poorly made, and looks nothing like what was advertised.\\n\\nIt barely functions as intended—half the time, it doesn't even turn on, and when it does, it either malfunctions or stops working within minutes. The materials used are flimsy, and I honestly wouldn’t be surprised if it breaks completely within a few weeks.\\n\\nThe worst part is the customer service. I tried to reach out for support, but all I got were generic, unhelpful responses that didn’t even address my issue. They refused to offer a refund, and after several emails, they just stopped responding altogether.\\n\\nI wouldn’t recommend this to anyone. Save your money and buy something from a reputable brand instead. If I could rate this zero stars, I would.\", 'Probabilities': {'Negative': 0.05716219, 'Neutral': 0.88392127, 'Positive': 0.05891655}, 'Predicted Sentiment': 'Neutral'}\n"
     ]
    }
   ],
   "source": [
    "review4 = \"\"\"This is by far one of the worst purchases I have ever made. From the moment I opened the box, I knew I had made a mistake. The product feels cheap, poorly made, and looks nothing like what was advertised.\n",
    "\n",
    "It barely functions as intended—half the time, it doesn't even turn on, and when it does, it either malfunctions or stops working within minutes. The materials used are flimsy, and I honestly wouldn’t be surprised if it breaks completely within a few weeks.\n",
    "\n",
    "The worst part is the customer service. I tried to reach out for support, but all I got were generic, unhelpful responses that didn’t even address my issue. They refused to offer a refund, and after several emails, they just stopped responding altogether.\n",
    "\n",
    "I wouldn’t recommend this to anyone. Save your money and buy something from a reputable brand instead. If I could rate this zero stars, I would.\"\"\"\n",
    "\n",
    "result4 = predictReviewSentiment(review4, tokenizer, model, mapping)\n",
    "print(result4)"
   ]
  }
 ],
 "metadata": {
  "kaggle": {
   "accelerator": "none",
   "dataSources": [
    {
     "datasetId": 18,
     "sourceId": 2157,
     "sourceType": "datasetVersion"
    },
    {
     "datasetId": 4167194,
     "sourceId": 7203508,
     "sourceType": "datasetVersion"
    }
   ],
   "dockerImageVersionId": 30918,
   "isGpuEnabled": false,
   "isInternetEnabled": true,
   "language": "python",
   "sourceType": "notebook"
  },
  "kernelspec": {
   "display_name": "Python 3",
   "language": "python",
   "name": "python3"
  },
  "language_info": {
   "codemirror_mode": {
    "name": "ipython",
    "version": 3
   },
   "file_extension": ".py",
   "mimetype": "text/x-python",
   "name": "python",
   "nbconvert_exporter": "python",
   "pygments_lexer": "ipython3",
   "version": "3.10.12"
  },
  "papermill": {
   "default_parameters": {},
   "duration": 461.841735,
   "end_time": "2025-03-10T11:00:42.610367",
   "environment_variables": {},
   "exception": null,
   "input_path": "__notebook__.ipynb",
   "output_path": "__notebook__.ipynb",
   "parameters": {},
   "start_time": "2025-03-10T10:53:00.768632",
   "version": "2.6.0"
  }
 },
 "nbformat": 4,
 "nbformat_minor": 5
}
